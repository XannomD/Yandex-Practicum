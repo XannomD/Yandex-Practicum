{
 "cells": [
  {
   "cell_type": "markdown",
   "metadata": {},
   "source": [
    "# Исследование и анализ поведения клиентов фитнес-центров «Культурист-датасаентист»"
   ]
  },
  {
   "cell_type": "markdown",
   "metadata": {},
   "source": [
    "Сеть фитнес-центров «Культурист-датасаентист» разрабатывает стратегию взаимодействия с клиентами на основе аналитических данных.\n",
    "Распространённая проблема нашего фитнес-клуба — отток клиентов. \n",
    "\n",
    "**Цель исследования** - провести анализ и подготовить план действий по удержанию клиентов\n",
    "\n",
    "**Для исследования мы**:\n",
    "* научимся прогнозировать вероятность оттока (на уровне следующего месяца) для каждого клиента;\n",
    "* сформируем типичные портреты клиентов: выделим несколько наиболее ярких групп и охарактеризуем их основные свойства;     \n",
    "* проанализируем основные признаки, наиболее сильно влияющие на отток;\n",
    "* сформулируем основные выводы и разработаем рекомендации по повышению качества работы с клиентами:\n",
    "  \n",
    "  1) выделить целевые группы клиентов;\n",
    "  \n",
    "  2) предложить меры по снижению оттока;\n",
    "  \n",
    "  3) определить другие особенности взаимодействия с клиентами."
   ]
  },
  {
   "cell_type": "markdown",
   "metadata": {},
   "source": [
    "<h1>Содержание<span class=\"tocSkip\"></span></h1>\n",
    "<div class=\"toc\">\n",
    "<a href='#1'>1. Загрузка и подготовка данных</a>\n",
    "    \n",
    "<a href='#1.1'>1.1 Загрузка данных</a>\n",
    "    \n",
    "<a href='#1.2'>1.2 Предобработка данных</a>\n",
    "    \n",
    "<a href='#1.3'>1.3 Выводы</a>\n",
    "\n",
    "<a href='#2'>2. Исследовательский анализ данных</a>\n",
    "    \n",
    "<a href='#2.1'>2.1 Изучение и проверка данных</a>   \n",
    "    \n",
    "<a href='#2.2'>2.2 Изучение средних значений признаков в двух группах</a>   \n",
    "    \n",
    "<a href='#2.3'>2.3 Изучение столбчатых гистограмм и распределения признаков</a>   \n",
    " \n",
    "<a href='#2.4'>2.4 Матрица корреляции</a>    \n",
    "     \n",
    "<a href='#2.4'>2.4 Выводы</a>\n",
    "    \n",
    "<a href='#3'>3. Построение модели прогнозирования оттока клиентов</a>\n",
    "         \n",
    "<a href='#3.1'>3.1 Обучение модели методом логистической регрессии</a>\n",
    "             \n",
    "<a href='#3.2'>3.2 Обучение модели методом случайный лес</a>\n",
    "                 \n",
    "<a href='#3.3'>3.3 Вывод</a>\n",
    "     \n",
    "<a href='#4'>4. Кластеризация клиентов</a>\n",
    "                     \n",
    "<a href='#4.1'>4.1 Стандартизируем данные</a>\n",
    "                         \n",
    "<a href='#4.2'>4.2 Построим матрицу расстояний</a>\n",
    "                         \n",
    "<a href='#4.3'>4.3 Обучим модель кластеризации на основании алгоритма K-Means</a>\n",
    "                         \n",
    "<a href='#4.4'>4.4 Построим распределения признаков для кластеров</a>\n",
    "    \n",
    "<a href='#5'>5 Общий вывод</a> "
   ]
  },
  {
   "cell_type": "markdown",
   "metadata": {},
   "source": [
    "<a id='1'></a>\n",
    "## Загрузка и подготовка данных"
   ]
  },
  {
   "cell_type": "code",
   "execution_count": 1,
   "metadata": {},
   "outputs": [],
   "source": [
    "import pandas as pd\n",
    "import warnings \n",
    "warnings.simplefilter('ignore')\n",
    "import seaborn as sns\n",
    "import numpy as np\n",
    "import matplotlib.pyplot as plt\n",
    "pd.set_option('display.float_format', '{:,.2f}'.format)\n",
    "pd.set_option('display.max_colwidth', None)\n",
    "from sklearn.model_selection import train_test_split\n",
    "from sklearn.linear_model import LogisticRegression\n",
    "from sklearn.ensemble import RandomForestClassifier\n",
    "from scipy.cluster.hierarchy import dendrogram, linkage\n",
    "from sklearn.cluster import KMeans\n",
    "import itertools\n",
    "from sklearn.preprocessing import StandardScaler\n",
    "from sklearn.metrics import accuracy_score, precision_score, recall_score, f1_score"
   ]
  },
  {
   "cell_type": "code",
   "execution_count": 2,
   "metadata": {},
   "outputs": [],
   "source": [
    "data=pd.read_csv('gym_churn.csv')"
   ]
  },
  {
   "cell_type": "code",
   "execution_count": 3,
   "metadata": {},
   "outputs": [],
   "source": [
    "def info_data(data):\n",
    "    print('\\033[1m' + 'Информация, включающая записи датасета:' + '\\033[0m')\n",
    "    display (data.sample(10))\n",
    "    print('\\033[1m' + 'Информация о датасете:' + '\\033[0m\\n')\n",
    "    data.info()\n",
    "    print('\\033[1m' + '\\nДубликатов в таблице:' + '\\033[0m', data.duplicated().sum())\n",
    "    print('\\033[1m' + '\\nПодсчет пропусков:' + '\\033[0m\\n', data.isna().sum())"
   ]
  },
  {
   "cell_type": "code",
   "execution_count": 4,
   "metadata": {},
   "outputs": [
    {
     "name": "stdout",
     "output_type": "stream",
     "text": [
      "\u001b[1mИнформация, включающая записи датасета:\u001b[0m\n"
     ]
    },
    {
     "data": {
      "text/html": [
       "<div>\n",
       "<style scoped>\n",
       "    .dataframe tbody tr th:only-of-type {\n",
       "        vertical-align: middle;\n",
       "    }\n",
       "\n",
       "    .dataframe tbody tr th {\n",
       "        vertical-align: top;\n",
       "    }\n",
       "\n",
       "    .dataframe thead th {\n",
       "        text-align: right;\n",
       "    }\n",
       "</style>\n",
       "<table border=\"1\" class=\"dataframe\">\n",
       "  <thead>\n",
       "    <tr style=\"text-align: right;\">\n",
       "      <th></th>\n",
       "      <th>gender</th>\n",
       "      <th>Near_Location</th>\n",
       "      <th>Partner</th>\n",
       "      <th>Promo_friends</th>\n",
       "      <th>Phone</th>\n",
       "      <th>Contract_period</th>\n",
       "      <th>Group_visits</th>\n",
       "      <th>Age</th>\n",
       "      <th>Avg_additional_charges_total</th>\n",
       "      <th>Month_to_end_contract</th>\n",
       "      <th>Lifetime</th>\n",
       "      <th>Avg_class_frequency_total</th>\n",
       "      <th>Avg_class_frequency_current_month</th>\n",
       "      <th>Churn</th>\n",
       "    </tr>\n",
       "  </thead>\n",
       "  <tbody>\n",
       "    <tr>\n",
       "      <th>1261</th>\n",
       "      <td>0</td>\n",
       "      <td>1</td>\n",
       "      <td>1</td>\n",
       "      <td>1</td>\n",
       "      <td>1</td>\n",
       "      <td>1</td>\n",
       "      <td>0</td>\n",
       "      <td>28</td>\n",
       "      <td>143.61</td>\n",
       "      <td>1.00</td>\n",
       "      <td>2</td>\n",
       "      <td>0.59</td>\n",
       "      <td>0.11</td>\n",
       "      <td>1</td>\n",
       "    </tr>\n",
       "    <tr>\n",
       "      <th>2916</th>\n",
       "      <td>1</td>\n",
       "      <td>0</td>\n",
       "      <td>0</td>\n",
       "      <td>0</td>\n",
       "      <td>1</td>\n",
       "      <td>1</td>\n",
       "      <td>0</td>\n",
       "      <td>24</td>\n",
       "      <td>139.23</td>\n",
       "      <td>1.00</td>\n",
       "      <td>1</td>\n",
       "      <td>0.29</td>\n",
       "      <td>0.00</td>\n",
       "      <td>1</td>\n",
       "    </tr>\n",
       "    <tr>\n",
       "      <th>687</th>\n",
       "      <td>1</td>\n",
       "      <td>1</td>\n",
       "      <td>1</td>\n",
       "      <td>1</td>\n",
       "      <td>1</td>\n",
       "      <td>6</td>\n",
       "      <td>1</td>\n",
       "      <td>31</td>\n",
       "      <td>191.52</td>\n",
       "      <td>6.00</td>\n",
       "      <td>0</td>\n",
       "      <td>2.32</td>\n",
       "      <td>1.79</td>\n",
       "      <td>1</td>\n",
       "    </tr>\n",
       "    <tr>\n",
       "      <th>1944</th>\n",
       "      <td>0</td>\n",
       "      <td>1</td>\n",
       "      <td>1</td>\n",
       "      <td>1</td>\n",
       "      <td>1</td>\n",
       "      <td>6</td>\n",
       "      <td>1</td>\n",
       "      <td>33</td>\n",
       "      <td>11.99</td>\n",
       "      <td>6.00</td>\n",
       "      <td>1</td>\n",
       "      <td>4.21</td>\n",
       "      <td>4.29</td>\n",
       "      <td>0</td>\n",
       "    </tr>\n",
       "    <tr>\n",
       "      <th>3712</th>\n",
       "      <td>1</td>\n",
       "      <td>1</td>\n",
       "      <td>0</td>\n",
       "      <td>0</td>\n",
       "      <td>1</td>\n",
       "      <td>1</td>\n",
       "      <td>1</td>\n",
       "      <td>31</td>\n",
       "      <td>60.12</td>\n",
       "      <td>1.00</td>\n",
       "      <td>1</td>\n",
       "      <td>0.61</td>\n",
       "      <td>0.00</td>\n",
       "      <td>1</td>\n",
       "    </tr>\n",
       "    <tr>\n",
       "      <th>1328</th>\n",
       "      <td>0</td>\n",
       "      <td>0</td>\n",
       "      <td>0</td>\n",
       "      <td>0</td>\n",
       "      <td>1</td>\n",
       "      <td>1</td>\n",
       "      <td>0</td>\n",
       "      <td>28</td>\n",
       "      <td>165.02</td>\n",
       "      <td>1.00</td>\n",
       "      <td>1</td>\n",
       "      <td>0.34</td>\n",
       "      <td>0.46</td>\n",
       "      <td>1</td>\n",
       "    </tr>\n",
       "    <tr>\n",
       "      <th>117</th>\n",
       "      <td>0</td>\n",
       "      <td>0</td>\n",
       "      <td>0</td>\n",
       "      <td>0</td>\n",
       "      <td>1</td>\n",
       "      <td>1</td>\n",
       "      <td>0</td>\n",
       "      <td>23</td>\n",
       "      <td>59.16</td>\n",
       "      <td>1.00</td>\n",
       "      <td>0</td>\n",
       "      <td>0.56</td>\n",
       "      <td>0.70</td>\n",
       "      <td>1</td>\n",
       "    </tr>\n",
       "    <tr>\n",
       "      <th>1845</th>\n",
       "      <td>1</td>\n",
       "      <td>1</td>\n",
       "      <td>0</td>\n",
       "      <td>0</td>\n",
       "      <td>1</td>\n",
       "      <td>12</td>\n",
       "      <td>0</td>\n",
       "      <td>27</td>\n",
       "      <td>232.11</td>\n",
       "      <td>12.00</td>\n",
       "      <td>1</td>\n",
       "      <td>0.58</td>\n",
       "      <td>0.29</td>\n",
       "      <td>0</td>\n",
       "    </tr>\n",
       "    <tr>\n",
       "      <th>1354</th>\n",
       "      <td>1</td>\n",
       "      <td>0</td>\n",
       "      <td>0</td>\n",
       "      <td>0</td>\n",
       "      <td>1</td>\n",
       "      <td>1</td>\n",
       "      <td>0</td>\n",
       "      <td>28</td>\n",
       "      <td>3.38</td>\n",
       "      <td>1.00</td>\n",
       "      <td>2</td>\n",
       "      <td>3.01</td>\n",
       "      <td>3.07</td>\n",
       "      <td>0</td>\n",
       "    </tr>\n",
       "    <tr>\n",
       "      <th>2646</th>\n",
       "      <td>0</td>\n",
       "      <td>0</td>\n",
       "      <td>0</td>\n",
       "      <td>0</td>\n",
       "      <td>1</td>\n",
       "      <td>1</td>\n",
       "      <td>1</td>\n",
       "      <td>24</td>\n",
       "      <td>10.84</td>\n",
       "      <td>1.00</td>\n",
       "      <td>3</td>\n",
       "      <td>1.61</td>\n",
       "      <td>0.82</td>\n",
       "      <td>1</td>\n",
       "    </tr>\n",
       "  </tbody>\n",
       "</table>\n",
       "</div>"
      ],
      "text/plain": [
       "      gender  Near_Location  Partner  Promo_friends  Phone  Contract_period  \\\n",
       "1261       0              1        1              1      1                1   \n",
       "2916       1              0        0              0      1                1   \n",
       "687        1              1        1              1      1                6   \n",
       "1944       0              1        1              1      1                6   \n",
       "3712       1              1        0              0      1                1   \n",
       "1328       0              0        0              0      1                1   \n",
       "117        0              0        0              0      1                1   \n",
       "1845       1              1        0              0      1               12   \n",
       "1354       1              0        0              0      1                1   \n",
       "2646       0              0        0              0      1                1   \n",
       "\n",
       "      Group_visits  Age  Avg_additional_charges_total  Month_to_end_contract  \\\n",
       "1261             0   28                        143.61                   1.00   \n",
       "2916             0   24                        139.23                   1.00   \n",
       "687              1   31                        191.52                   6.00   \n",
       "1944             1   33                         11.99                   6.00   \n",
       "3712             1   31                         60.12                   1.00   \n",
       "1328             0   28                        165.02                   1.00   \n",
       "117              0   23                         59.16                   1.00   \n",
       "1845             0   27                        232.11                  12.00   \n",
       "1354             0   28                          3.38                   1.00   \n",
       "2646             1   24                         10.84                   1.00   \n",
       "\n",
       "      Lifetime  Avg_class_frequency_total  Avg_class_frequency_current_month  \\\n",
       "1261         2                       0.59                               0.11   \n",
       "2916         1                       0.29                               0.00   \n",
       "687          0                       2.32                               1.79   \n",
       "1944         1                       4.21                               4.29   \n",
       "3712         1                       0.61                               0.00   \n",
       "1328         1                       0.34                               0.46   \n",
       "117          0                       0.56                               0.70   \n",
       "1845         1                       0.58                               0.29   \n",
       "1354         2                       3.01                               3.07   \n",
       "2646         3                       1.61                               0.82   \n",
       "\n",
       "      Churn  \n",
       "1261      1  \n",
       "2916      1  \n",
       "687       1  \n",
       "1944      0  \n",
       "3712      1  \n",
       "1328      1  \n",
       "117       1  \n",
       "1845      0  \n",
       "1354      0  \n",
       "2646      1  "
      ]
     },
     "metadata": {},
     "output_type": "display_data"
    },
    {
     "name": "stdout",
     "output_type": "stream",
     "text": [
      "\u001b[1mИнформация о датасете:\u001b[0m\n",
      "\n",
      "<class 'pandas.core.frame.DataFrame'>\n",
      "RangeIndex: 4000 entries, 0 to 3999\n",
      "Data columns (total 14 columns):\n",
      " #   Column                             Non-Null Count  Dtype  \n",
      "---  ------                             --------------  -----  \n",
      " 0   gender                             4000 non-null   int64  \n",
      " 1   Near_Location                      4000 non-null   int64  \n",
      " 2   Partner                            4000 non-null   int64  \n",
      " 3   Promo_friends                      4000 non-null   int64  \n",
      " 4   Phone                              4000 non-null   int64  \n",
      " 5   Contract_period                    4000 non-null   int64  \n",
      " 6   Group_visits                       4000 non-null   int64  \n",
      " 7   Age                                4000 non-null   int64  \n",
      " 8   Avg_additional_charges_total       4000 non-null   float64\n",
      " 9   Month_to_end_contract              4000 non-null   float64\n",
      " 10  Lifetime                           4000 non-null   int64  \n",
      " 11  Avg_class_frequency_total          4000 non-null   float64\n",
      " 12  Avg_class_frequency_current_month  4000 non-null   float64\n",
      " 13  Churn                              4000 non-null   int64  \n",
      "dtypes: float64(4), int64(10)\n",
      "memory usage: 437.6 KB\n",
      "\u001b[1m\n",
      "Дубликатов в таблице:\u001b[0m 0\n",
      "\u001b[1m\n",
      "Подсчет пропусков:\u001b[0m\n",
      " gender                               0\n",
      "Near_Location                        0\n",
      "Partner                              0\n",
      "Promo_friends                        0\n",
      "Phone                                0\n",
      "Contract_period                      0\n",
      "Group_visits                         0\n",
      "Age                                  0\n",
      "Avg_additional_charges_total         0\n",
      "Month_to_end_contract                0\n",
      "Lifetime                             0\n",
      "Avg_class_frequency_total            0\n",
      "Avg_class_frequency_current_month    0\n",
      "Churn                                0\n",
      "dtype: int64\n"
     ]
    }
   ],
   "source": [
    "info_data(data)"
   ]
  },
  {
   "cell_type": "markdown",
   "metadata": {},
   "source": [
    "Данные клиента за предыдущий до проверки факта оттока месяц:\n",
    "* 'gender' — пол;\n",
    "* 'Near_Location' — проживание или работа в районе, где находится фитнес-центр;\n",
    "* 'Partner' — сотрудник компании-партнёра клуба (сотрудничество с компаниями, чьи сотрудники могут получать скидки на абонемент — в таком случае фитнес-центр хранит информацию о работодателе клиента);\n",
    "* Promo_friends — факт первоначальной записи в рамках акции «приведи друга» (использовал промо-код от знакомого при оплате первого абонемента);\n",
    "* 'Phone' — наличие контактного телефона;\n",
    "* 'Age' — возраст;\n",
    "* 'Lifetime' — время с момента первого обращения в фитнес-центр (в месяцах).\n",
    "\n",
    "\n",
    "Информация на основе журнала посещений, покупок и информация о текущем статусе абонемента клиента:\n",
    "* 'Contract_period' — длительность текущего действующего абонемента (месяц, 6 месяцев, год);\n",
    "* 'Month_to_end_contract' — срок до окончания текущего действующего абонемента (в месяцах);\n",
    "* 'Group_visits' — факт посещения групповых занятий;\n",
    "* 'Avg_class_frequency_total' — средняя частота посещений в неделю за все время с начала действия абонемента;\n",
    "* 'Avg_class_frequency_current_month' — средняя частота посещений в неделю за предыдущий месяц;\n",
    "* 'Avg_additional_charges_total' — суммарная выручка от других услуг фитнес-центра: кафе, спорттовары, косметический и массажный салон.\n",
    "\n",
    "\n",
    "'Churn' — факт оттока в текущем месяце."
   ]
  },
  {
   "cell_type": "markdown",
   "metadata": {},
   "source": [
    "<a id='1.2'></a>\n",
    "### Предобработка данных"
   ]
  },
  {
   "cell_type": "markdown",
   "metadata": {},
   "source": [
    "Приведем наименование столбцов к корректному виду:"
   ]
  },
  {
   "cell_type": "code",
   "execution_count": 5,
   "metadata": {},
   "outputs": [],
   "source": [
    "data.columns = data.columns.str.lower()"
   ]
  },
  {
   "cell_type": "markdown",
   "metadata": {},
   "source": [
    "<a id='1.3'></a>\n",
    "### Выводы"
   ]
  },
  {
   "cell_type": "markdown",
   "metadata": {},
   "source": [
    "Изучив данные, мы можем сказать, что:\n",
    "1. Данные без пропусков.\n",
    "2. Отсутствуют явные дубликаты\n",
    "3. Корректное наименование столбцов ( привели только к нижнему регистру).\n",
    "\n",
    "В целом все отлично, вот бы всегда были такие \"красивые\" датасеты."
   ]
  },
  {
   "cell_type": "markdown",
   "metadata": {},
   "source": [
    "<a id='2'></a>\n",
    "## Исследовательский анализ данных"
   ]
  },
  {
   "cell_type": "markdown",
   "metadata": {},
   "source": [
    "<a id='2.1'></a>\n",
    "### Изучение и проверка данных"
   ]
  },
  {
   "cell_type": "code",
   "execution_count": 6,
   "metadata": {
    "scrolled": true
   },
   "outputs": [
    {
     "data": {
      "text/html": [
       "<div>\n",
       "<style scoped>\n",
       "    .dataframe tbody tr th:only-of-type {\n",
       "        vertical-align: middle;\n",
       "    }\n",
       "\n",
       "    .dataframe tbody tr th {\n",
       "        vertical-align: top;\n",
       "    }\n",
       "\n",
       "    .dataframe thead th {\n",
       "        text-align: right;\n",
       "    }\n",
       "</style>\n",
       "<table border=\"1\" class=\"dataframe\">\n",
       "  <thead>\n",
       "    <tr style=\"text-align: right;\">\n",
       "      <th></th>\n",
       "      <th>gender</th>\n",
       "      <th>near_location</th>\n",
       "      <th>partner</th>\n",
       "      <th>promo_friends</th>\n",
       "      <th>phone</th>\n",
       "      <th>contract_period</th>\n",
       "      <th>group_visits</th>\n",
       "      <th>age</th>\n",
       "      <th>avg_additional_charges_total</th>\n",
       "      <th>month_to_end_contract</th>\n",
       "      <th>lifetime</th>\n",
       "      <th>avg_class_frequency_total</th>\n",
       "      <th>avg_class_frequency_current_month</th>\n",
       "      <th>churn</th>\n",
       "    </tr>\n",
       "  </thead>\n",
       "  <tbody>\n",
       "    <tr>\n",
       "      <th>count</th>\n",
       "      <td>4,000.00</td>\n",
       "      <td>4,000.00</td>\n",
       "      <td>4,000.00</td>\n",
       "      <td>4,000.00</td>\n",
       "      <td>4,000.00</td>\n",
       "      <td>4,000.00</td>\n",
       "      <td>4,000.00</td>\n",
       "      <td>4,000.00</td>\n",
       "      <td>4,000.00</td>\n",
       "      <td>4,000.00</td>\n",
       "      <td>4,000.00</td>\n",
       "      <td>4,000.00</td>\n",
       "      <td>4,000.00</td>\n",
       "      <td>4,000.00</td>\n",
       "    </tr>\n",
       "    <tr>\n",
       "      <th>mean</th>\n",
       "      <td>0.51</td>\n",
       "      <td>0.85</td>\n",
       "      <td>0.49</td>\n",
       "      <td>0.31</td>\n",
       "      <td>0.90</td>\n",
       "      <td>4.68</td>\n",
       "      <td>0.41</td>\n",
       "      <td>29.18</td>\n",
       "      <td>146.94</td>\n",
       "      <td>4.32</td>\n",
       "      <td>3.72</td>\n",
       "      <td>1.88</td>\n",
       "      <td>1.77</td>\n",
       "      <td>0.27</td>\n",
       "    </tr>\n",
       "    <tr>\n",
       "      <th>std</th>\n",
       "      <td>0.50</td>\n",
       "      <td>0.36</td>\n",
       "      <td>0.50</td>\n",
       "      <td>0.46</td>\n",
       "      <td>0.30</td>\n",
       "      <td>4.55</td>\n",
       "      <td>0.49</td>\n",
       "      <td>3.26</td>\n",
       "      <td>96.36</td>\n",
       "      <td>4.19</td>\n",
       "      <td>3.75</td>\n",
       "      <td>0.97</td>\n",
       "      <td>1.05</td>\n",
       "      <td>0.44</td>\n",
       "    </tr>\n",
       "    <tr>\n",
       "      <th>min</th>\n",
       "      <td>0.00</td>\n",
       "      <td>0.00</td>\n",
       "      <td>0.00</td>\n",
       "      <td>0.00</td>\n",
       "      <td>0.00</td>\n",
       "      <td>1.00</td>\n",
       "      <td>0.00</td>\n",
       "      <td>18.00</td>\n",
       "      <td>0.15</td>\n",
       "      <td>1.00</td>\n",
       "      <td>0.00</td>\n",
       "      <td>0.00</td>\n",
       "      <td>0.00</td>\n",
       "      <td>0.00</td>\n",
       "    </tr>\n",
       "    <tr>\n",
       "      <th>25%</th>\n",
       "      <td>0.00</td>\n",
       "      <td>1.00</td>\n",
       "      <td>0.00</td>\n",
       "      <td>0.00</td>\n",
       "      <td>1.00</td>\n",
       "      <td>1.00</td>\n",
       "      <td>0.00</td>\n",
       "      <td>27.00</td>\n",
       "      <td>68.87</td>\n",
       "      <td>1.00</td>\n",
       "      <td>1.00</td>\n",
       "      <td>1.18</td>\n",
       "      <td>0.96</td>\n",
       "      <td>0.00</td>\n",
       "    </tr>\n",
       "    <tr>\n",
       "      <th>50%</th>\n",
       "      <td>1.00</td>\n",
       "      <td>1.00</td>\n",
       "      <td>0.00</td>\n",
       "      <td>0.00</td>\n",
       "      <td>1.00</td>\n",
       "      <td>1.00</td>\n",
       "      <td>0.00</td>\n",
       "      <td>29.00</td>\n",
       "      <td>136.22</td>\n",
       "      <td>1.00</td>\n",
       "      <td>3.00</td>\n",
       "      <td>1.83</td>\n",
       "      <td>1.72</td>\n",
       "      <td>0.00</td>\n",
       "    </tr>\n",
       "    <tr>\n",
       "      <th>75%</th>\n",
       "      <td>1.00</td>\n",
       "      <td>1.00</td>\n",
       "      <td>1.00</td>\n",
       "      <td>1.00</td>\n",
       "      <td>1.00</td>\n",
       "      <td>6.00</td>\n",
       "      <td>1.00</td>\n",
       "      <td>31.00</td>\n",
       "      <td>210.95</td>\n",
       "      <td>6.00</td>\n",
       "      <td>5.00</td>\n",
       "      <td>2.54</td>\n",
       "      <td>2.51</td>\n",
       "      <td>1.00</td>\n",
       "    </tr>\n",
       "    <tr>\n",
       "      <th>max</th>\n",
       "      <td>1.00</td>\n",
       "      <td>1.00</td>\n",
       "      <td>1.00</td>\n",
       "      <td>1.00</td>\n",
       "      <td>1.00</td>\n",
       "      <td>12.00</td>\n",
       "      <td>1.00</td>\n",
       "      <td>41.00</td>\n",
       "      <td>552.59</td>\n",
       "      <td>12.00</td>\n",
       "      <td>31.00</td>\n",
       "      <td>6.02</td>\n",
       "      <td>6.15</td>\n",
       "      <td>1.00</td>\n",
       "    </tr>\n",
       "  </tbody>\n",
       "</table>\n",
       "</div>"
      ],
      "text/plain": [
       "        gender  near_location  partner  promo_friends    phone  \\\n",
       "count 4,000.00       4,000.00 4,000.00       4,000.00 4,000.00   \n",
       "mean      0.51           0.85     0.49           0.31     0.90   \n",
       "std       0.50           0.36     0.50           0.46     0.30   \n",
       "min       0.00           0.00     0.00           0.00     0.00   \n",
       "25%       0.00           1.00     0.00           0.00     1.00   \n",
       "50%       1.00           1.00     0.00           0.00     1.00   \n",
       "75%       1.00           1.00     1.00           1.00     1.00   \n",
       "max       1.00           1.00     1.00           1.00     1.00   \n",
       "\n",
       "       contract_period  group_visits      age  avg_additional_charges_total  \\\n",
       "count         4,000.00      4,000.00 4,000.00                      4,000.00   \n",
       "mean              4.68          0.41    29.18                        146.94   \n",
       "std               4.55          0.49     3.26                         96.36   \n",
       "min               1.00          0.00    18.00                          0.15   \n",
       "25%               1.00          0.00    27.00                         68.87   \n",
       "50%               1.00          0.00    29.00                        136.22   \n",
       "75%               6.00          1.00    31.00                        210.95   \n",
       "max              12.00          1.00    41.00                        552.59   \n",
       "\n",
       "       month_to_end_contract  lifetime  avg_class_frequency_total  \\\n",
       "count               4,000.00  4,000.00                   4,000.00   \n",
       "mean                    4.32      3.72                       1.88   \n",
       "std                     4.19      3.75                       0.97   \n",
       "min                     1.00      0.00                       0.00   \n",
       "25%                     1.00      1.00                       1.18   \n",
       "50%                     1.00      3.00                       1.83   \n",
       "75%                     6.00      5.00                       2.54   \n",
       "max                    12.00     31.00                       6.02   \n",
       "\n",
       "       avg_class_frequency_current_month    churn  \n",
       "count                           4,000.00 4,000.00  \n",
       "mean                                1.77     0.27  \n",
       "std                                 1.05     0.44  \n",
       "min                                 0.00     0.00  \n",
       "25%                                 0.96     0.00  \n",
       "50%                                 1.72     0.00  \n",
       "75%                                 2.51     1.00  \n",
       "max                                 6.15     1.00  "
      ]
     },
     "execution_count": 6,
     "metadata": {},
     "output_type": "execute_result"
    }
   ],
   "source": [
    "data.describe()"
   ]
  },
  {
   "cell_type": "markdown",
   "metadata": {},
   "source": [
    "Что можно сказать:\n",
    "1. Разделение по полу примерно одинаковое - 50 % мужчин и 50 % женщин.\n",
    "2. Более 80 % людей, занимающиеся в фитнес-клубе - работают или проживают в районе клуба.\n",
    "3. 50 % посетителей фитнес-клуба пришли от компании-партнера.\n",
    "4. Пришли по рекомендации друзей всего лишь 30 % посетителей.\n",
    "5. Телефон оставили 90 % посетителей.\n",
    "6. Большая часть посетителей оформили \"подписку\" на 1 месяц и лишь 25 % пользователей оформили на полгода.\n",
    "7. Групповые занятия в почёте лишь у 40 % посетителей.\n",
    "8. Средний возраст посетителей фитнес-клуба 29 лет.\n",
    "9. В среднем зал люди посещают примерно 1-2 раза в неделю, лишь 25% людей посещают зал более 2х раз в неделю."
   ]
  },
  {
   "cell_type": "markdown",
   "metadata": {},
   "source": [
    "<a id='2.2'></a>\n",
    "### Изучение средних значений признаков в двух группах"
   ]
  },
  {
   "cell_type": "markdown",
   "metadata": {},
   "source": [
    "Посмотрим на средние значения признаков в двух группах — тех, кто ушел в отток и тех, кто остался:"
   ]
  },
  {
   "cell_type": "code",
   "execution_count": 7,
   "metadata": {},
   "outputs": [
    {
     "data": {
      "text/html": [
       "<div>\n",
       "<style scoped>\n",
       "    .dataframe tbody tr th:only-of-type {\n",
       "        vertical-align: middle;\n",
       "    }\n",
       "\n",
       "    .dataframe tbody tr th {\n",
       "        vertical-align: top;\n",
       "    }\n",
       "\n",
       "    .dataframe thead th {\n",
       "        text-align: right;\n",
       "    }\n",
       "</style>\n",
       "<table border=\"1\" class=\"dataframe\">\n",
       "  <thead>\n",
       "    <tr style=\"text-align: right;\">\n",
       "      <th></th>\n",
       "      <th>gender</th>\n",
       "      <th>near_location</th>\n",
       "      <th>partner</th>\n",
       "      <th>promo_friends</th>\n",
       "      <th>phone</th>\n",
       "      <th>contract_period</th>\n",
       "      <th>group_visits</th>\n",
       "      <th>age</th>\n",
       "      <th>avg_additional_charges_total</th>\n",
       "      <th>month_to_end_contract</th>\n",
       "      <th>lifetime</th>\n",
       "      <th>avg_class_frequency_total</th>\n",
       "      <th>avg_class_frequency_current_month</th>\n",
       "    </tr>\n",
       "    <tr>\n",
       "      <th>churn</th>\n",
       "      <th></th>\n",
       "      <th></th>\n",
       "      <th></th>\n",
       "      <th></th>\n",
       "      <th></th>\n",
       "      <th></th>\n",
       "      <th></th>\n",
       "      <th></th>\n",
       "      <th></th>\n",
       "      <th></th>\n",
       "      <th></th>\n",
       "      <th></th>\n",
       "      <th></th>\n",
       "    </tr>\n",
       "  </thead>\n",
       "  <tbody>\n",
       "    <tr>\n",
       "      <th>0</th>\n",
       "      <td>0.51</td>\n",
       "      <td>0.87</td>\n",
       "      <td>0.53</td>\n",
       "      <td>0.35</td>\n",
       "      <td>0.90</td>\n",
       "      <td>5.75</td>\n",
       "      <td>0.46</td>\n",
       "      <td>29.98</td>\n",
       "      <td>158.45</td>\n",
       "      <td>5.28</td>\n",
       "      <td>4.71</td>\n",
       "      <td>2.02</td>\n",
       "      <td>2.03</td>\n",
       "    </tr>\n",
       "    <tr>\n",
       "      <th>1</th>\n",
       "      <td>0.51</td>\n",
       "      <td>0.77</td>\n",
       "      <td>0.36</td>\n",
       "      <td>0.18</td>\n",
       "      <td>0.90</td>\n",
       "      <td>1.73</td>\n",
       "      <td>0.27</td>\n",
       "      <td>26.99</td>\n",
       "      <td>115.08</td>\n",
       "      <td>1.66</td>\n",
       "      <td>0.99</td>\n",
       "      <td>1.47</td>\n",
       "      <td>1.04</td>\n",
       "    </tr>\n",
       "  </tbody>\n",
       "</table>\n",
       "</div>"
      ],
      "text/plain": [
       "       gender  near_location  partner  promo_friends  phone  contract_period  \\\n",
       "churn                                                                          \n",
       "0        0.51           0.87     0.53           0.35   0.90             5.75   \n",
       "1        0.51           0.77     0.36           0.18   0.90             1.73   \n",
       "\n",
       "       group_visits   age  avg_additional_charges_total  \\\n",
       "churn                                                     \n",
       "0              0.46 29.98                        158.45   \n",
       "1              0.27 26.99                        115.08   \n",
       "\n",
       "       month_to_end_contract  lifetime  avg_class_frequency_total  \\\n",
       "churn                                                               \n",
       "0                       5.28      4.71                       2.02   \n",
       "1                       1.66      0.99                       1.47   \n",
       "\n",
       "       avg_class_frequency_current_month  \n",
       "churn                                     \n",
       "0                                   2.03  \n",
       "1                                   1.04  "
      ]
     },
     "execution_count": 7,
     "metadata": {},
     "output_type": "execute_result"
    }
   ],
   "source": [
    "data.groupby('churn').mean()"
   ]
  },
  {
   "cell_type": "markdown",
   "metadata": {},
   "source": [
    "Что мы полчуили:\n",
    "1. Женщины и мужчины одинаково уходят в отток.\n",
    "2. Люди, живущие или работающие рядом с фитнес-клубом, реже перестают заниматься спортом.\n",
    "3. Посетители клуба, которые пришли по акции \"Приведи друга\" чаще остаются \" в строю\".\n",
    "4. Занимающиеся из компаний-партнеров намного чаще продолжают заниматься.\n",
    "5. У посетителей, которые попали в отток период действия абомнемента сотсавляет примерно 1 месяц.\n",
    "6. Ушедшие люди значительно меньше посещали груповые занятия.\n",
    "7. Средний возвраст посетителй, попавших в отток, на пару лет ниже чем у тех, которые остадлись.\n",
    "8. Большинство людей, ушедшие из клуба, прозанимались менее месяца.\n",
    "9. Большинство ушедших людей прозанималось в зале ококло месяца. Оттока среди посетителей, которые прозанимались бодее 5 меясцев практически нет.\n",
    "10. Люди, имеющие абонемент более 1 месяца ( 6 и 12) практически не подвержены оттоку."
   ]
  },
  {
   "cell_type": "markdown",
   "metadata": {},
   "source": [
    "<a id='2.3'></a>\n",
    "### Изучение столбчатых гистограмм и распределения признаков"
   ]
  },
  {
   "cell_type": "code",
   "execution_count": 8,
   "metadata": {
    "scrolled": false
   },
   "outputs": [
    {
     "data": {
      "image/png": "[encoded data removed]",
      "text/plain": [
       "<Figure size 432x288 with 1 Axes>"
      ]
     },
     "metadata": {
      "needs_background": "light"
     },
     "output_type": "display_data"
    },
    {
     "data": {
      "image/png": "[encoded data removed]",
      "text/plain": [
       "<Figure size 432x288 with 1 Axes>"
      ]
     },
     "metadata": {
      "needs_background": "light"
     },
     "output_type": "display_data"
    },
    {
     "data": {
      "image/png": "[encoded data removed]",
      "text/plain": [
       "<Figure size 432x288 with 1 Axes>"
      ]
     },
     "metadata": {
      "needs_background": "light"
     },
     "output_type": "display_data"
    },
    {
     "data": {
      "image/png": "[encoded data removed]",
      "text/plain": [
       "<Figure size 432x288 with 1 Axes>"
      ]
     },
     "metadata": {
      "needs_background": "light"
     },
     "output_type": "display_data"
    },
    {
     "data": {
      "image/png": "[encoded data removed]",
      "text/plain": [
       "<Figure size 432x288 with 1 Axes>"
      ]
     },
     "metadata": {
      "needs_background": "light"
     },
     "output_type": "display_data"
    },
    {
     "data": {
      "image/png": "[encoded data removed]",
      "text/plain": [
       "<Figure size 432x288 with 1 Axes>"
      ]
     },
     "metadata": {
      "needs_background": "light"
     },
     "output_type": "display_data"
    },
    {
     "data": {
      "image/png": "[encoded data removed]",
      "text/plain": [
       "<Figure size 432x288 with 1 Axes>"
      ]
     },
     "metadata": {
      "needs_background": "light"
     },
     "output_type": "display_data"
    },
    {
     "data": {
      "image/png": "[encoded data removed]",
      "text/plain": [
       "<Figure size 432x288 with 1 Axes>"
      ]
     },
     "metadata": {
      "needs_background": "light"
     },
     "output_type": "display_data"
    },
    {
     "data": {
      "image/png": "[encoded data removed]",
      "text/plain": [
       "<Figure size 432x288 with 1 Axes>"
      ]
     },
     "metadata": {
      "needs_background": "light"
     },
     "output_type": "display_data"
    },
    {
     "data": {
      "image/png": "[encoded data removed]",
      "text/plain": [
       "<Figure size 432x288 with 1 Axes>"
      ]
     },
     "metadata": {
      "needs_background": "light"
     },
     "output_type": "display_data"
    }
   ],
   "source": [
    "for column in ['gender', 'near_location', 'partner', 'promo_friends','phone', 'contract_period','group_visits', 'age','lifetime', 'month_to_end_contract']:\n",
    "    sns.countplot(x = data[column], hue='churn', data=data)\n",
    "    plt.xlabel(\"Признак:\" + column)\n",
    "    plt.ylabel(\"Количество\")\n",
    "    plt.title(\"Распределение признака \"+ column)\n",
    "    plt.legend()\n",
    "    plt.show()"
   ]
  },
  {
   "cell_type": "markdown",
   "metadata": {},
   "source": [
    "Построение гистограмм визуально подтвердили выводы из пердыдущего пункта."
   ]
  },
  {
   "cell_type": "markdown",
   "metadata": {},
   "source": [
    "<a id='2.4'></a>\n",
    "### Матрица корреляции"
   ]
  },
  {
   "cell_type": "code",
   "execution_count": 9,
   "metadata": {},
   "outputs": [
    {
     "data": {
      "text/html": [
       "<div>\n",
       "<style scoped>\n",
       "    .dataframe tbody tr th:only-of-type {\n",
       "        vertical-align: middle;\n",
       "    }\n",
       "\n",
       "    .dataframe tbody tr th {\n",
       "        vertical-align: top;\n",
       "    }\n",
       "\n",
       "    .dataframe thead th {\n",
       "        text-align: right;\n",
       "    }\n",
       "</style>\n",
       "<table border=\"1\" class=\"dataframe\">\n",
       "  <thead>\n",
       "    <tr style=\"text-align: right;\">\n",
       "      <th></th>\n",
       "      <th>gender</th>\n",
       "      <th>near_location</th>\n",
       "      <th>partner</th>\n",
       "      <th>promo_friends</th>\n",
       "      <th>phone</th>\n",
       "      <th>contract_period</th>\n",
       "      <th>group_visits</th>\n",
       "      <th>age</th>\n",
       "      <th>avg_additional_charges_total</th>\n",
       "      <th>month_to_end_contract</th>\n",
       "      <th>lifetime</th>\n",
       "      <th>avg_class_frequency_total</th>\n",
       "      <th>avg_class_frequency_current_month</th>\n",
       "      <th>churn</th>\n",
       "    </tr>\n",
       "  </thead>\n",
       "  <tbody>\n",
       "    <tr>\n",
       "      <th>gender</th>\n",
       "      <td>1.00</td>\n",
       "      <td>0.01</td>\n",
       "      <td>-0.01</td>\n",
       "      <td>-0.01</td>\n",
       "      <td>-0.01</td>\n",
       "      <td>0.00</td>\n",
       "      <td>0.02</td>\n",
       "      <td>0.01</td>\n",
       "      <td>-0.01</td>\n",
       "      <td>-0.00</td>\n",
       "      <td>0.01</td>\n",
       "      <td>0.01</td>\n",
       "      <td>0.01</td>\n",
       "      <td>0.00</td>\n",
       "    </tr>\n",
       "    <tr>\n",
       "      <th>near_location</th>\n",
       "      <td>0.01</td>\n",
       "      <td>1.00</td>\n",
       "      <td>-0.01</td>\n",
       "      <td>0.21</td>\n",
       "      <td>-0.02</td>\n",
       "      <td>0.15</td>\n",
       "      <td>0.15</td>\n",
       "      <td>0.06</td>\n",
       "      <td>0.04</td>\n",
       "      <td>0.14</td>\n",
       "      <td>0.07</td>\n",
       "      <td>0.04</td>\n",
       "      <td>0.06</td>\n",
       "      <td>-0.13</td>\n",
       "    </tr>\n",
       "    <tr>\n",
       "      <th>partner</th>\n",
       "      <td>-0.01</td>\n",
       "      <td>-0.01</td>\n",
       "      <td>1.00</td>\n",
       "      <td>0.45</td>\n",
       "      <td>0.01</td>\n",
       "      <td>0.31</td>\n",
       "      <td>0.02</td>\n",
       "      <td>0.05</td>\n",
       "      <td>0.02</td>\n",
       "      <td>0.29</td>\n",
       "      <td>0.06</td>\n",
       "      <td>0.02</td>\n",
       "      <td>0.05</td>\n",
       "      <td>-0.16</td>\n",
       "    </tr>\n",
       "    <tr>\n",
       "      <th>promo_friends</th>\n",
       "      <td>-0.01</td>\n",
       "      <td>0.21</td>\n",
       "      <td>0.45</td>\n",
       "      <td>1.00</td>\n",
       "      <td>0.00</td>\n",
       "      <td>0.24</td>\n",
       "      <td>0.12</td>\n",
       "      <td>0.05</td>\n",
       "      <td>0.04</td>\n",
       "      <td>0.24</td>\n",
       "      <td>0.07</td>\n",
       "      <td>0.03</td>\n",
       "      <td>0.05</td>\n",
       "      <td>-0.16</td>\n",
       "    </tr>\n",
       "    <tr>\n",
       "      <th>phone</th>\n",
       "      <td>-0.01</td>\n",
       "      <td>-0.02</td>\n",
       "      <td>0.01</td>\n",
       "      <td>0.00</td>\n",
       "      <td>1.00</td>\n",
       "      <td>-0.01</td>\n",
       "      <td>-0.01</td>\n",
       "      <td>-0.01</td>\n",
       "      <td>0.01</td>\n",
       "      <td>-0.01</td>\n",
       "      <td>-0.02</td>\n",
       "      <td>0.01</td>\n",
       "      <td>0.01</td>\n",
       "      <td>-0.00</td>\n",
       "    </tr>\n",
       "    <tr>\n",
       "      <th>contract_period</th>\n",
       "      <td>0.00</td>\n",
       "      <td>0.15</td>\n",
       "      <td>0.31</td>\n",
       "      <td>0.24</td>\n",
       "      <td>-0.01</td>\n",
       "      <td>1.00</td>\n",
       "      <td>0.17</td>\n",
       "      <td>0.14</td>\n",
       "      <td>0.11</td>\n",
       "      <td>0.97</td>\n",
       "      <td>0.17</td>\n",
       "      <td>0.10</td>\n",
       "      <td>0.16</td>\n",
       "      <td>-0.39</td>\n",
       "    </tr>\n",
       "    <tr>\n",
       "      <th>group_visits</th>\n",
       "      <td>0.02</td>\n",
       "      <td>0.15</td>\n",
       "      <td>0.02</td>\n",
       "      <td>0.12</td>\n",
       "      <td>-0.01</td>\n",
       "      <td>0.17</td>\n",
       "      <td>1.00</td>\n",
       "      <td>0.08</td>\n",
       "      <td>0.03</td>\n",
       "      <td>0.16</td>\n",
       "      <td>0.08</td>\n",
       "      <td>0.06</td>\n",
       "      <td>0.08</td>\n",
       "      <td>-0.18</td>\n",
       "    </tr>\n",
       "    <tr>\n",
       "      <th>age</th>\n",
       "      <td>0.01</td>\n",
       "      <td>0.06</td>\n",
       "      <td>0.05</td>\n",
       "      <td>0.05</td>\n",
       "      <td>-0.01</td>\n",
       "      <td>0.14</td>\n",
       "      <td>0.08</td>\n",
       "      <td>1.00</td>\n",
       "      <td>0.08</td>\n",
       "      <td>0.13</td>\n",
       "      <td>0.16</td>\n",
       "      <td>0.12</td>\n",
       "      <td>0.18</td>\n",
       "      <td>-0.40</td>\n",
       "    </tr>\n",
       "    <tr>\n",
       "      <th>avg_additional_charges_total</th>\n",
       "      <td>-0.01</td>\n",
       "      <td>0.04</td>\n",
       "      <td>0.02</td>\n",
       "      <td>0.04</td>\n",
       "      <td>0.01</td>\n",
       "      <td>0.11</td>\n",
       "      <td>0.03</td>\n",
       "      <td>0.08</td>\n",
       "      <td>1.00</td>\n",
       "      <td>0.11</td>\n",
       "      <td>0.08</td>\n",
       "      <td>0.04</td>\n",
       "      <td>0.08</td>\n",
       "      <td>-0.20</td>\n",
       "    </tr>\n",
       "    <tr>\n",
       "      <th>month_to_end_contract</th>\n",
       "      <td>-0.00</td>\n",
       "      <td>0.14</td>\n",
       "      <td>0.29</td>\n",
       "      <td>0.24</td>\n",
       "      <td>-0.01</td>\n",
       "      <td>0.97</td>\n",
       "      <td>0.16</td>\n",
       "      <td>0.13</td>\n",
       "      <td>0.11</td>\n",
       "      <td>1.00</td>\n",
       "      <td>0.16</td>\n",
       "      <td>0.09</td>\n",
       "      <td>0.15</td>\n",
       "      <td>-0.38</td>\n",
       "    </tr>\n",
       "    <tr>\n",
       "      <th>lifetime</th>\n",
       "      <td>0.01</td>\n",
       "      <td>0.07</td>\n",
       "      <td>0.06</td>\n",
       "      <td>0.07</td>\n",
       "      <td>-0.02</td>\n",
       "      <td>0.17</td>\n",
       "      <td>0.08</td>\n",
       "      <td>0.16</td>\n",
       "      <td>0.08</td>\n",
       "      <td>0.16</td>\n",
       "      <td>1.00</td>\n",
       "      <td>0.11</td>\n",
       "      <td>0.18</td>\n",
       "      <td>-0.44</td>\n",
       "    </tr>\n",
       "    <tr>\n",
       "      <th>avg_class_frequency_total</th>\n",
       "      <td>0.01</td>\n",
       "      <td>0.04</td>\n",
       "      <td>0.02</td>\n",
       "      <td>0.03</td>\n",
       "      <td>0.01</td>\n",
       "      <td>0.10</td>\n",
       "      <td>0.06</td>\n",
       "      <td>0.12</td>\n",
       "      <td>0.04</td>\n",
       "      <td>0.09</td>\n",
       "      <td>0.11</td>\n",
       "      <td>1.00</td>\n",
       "      <td>0.95</td>\n",
       "      <td>-0.25</td>\n",
       "    </tr>\n",
       "    <tr>\n",
       "      <th>avg_class_frequency_current_month</th>\n",
       "      <td>0.01</td>\n",
       "      <td>0.06</td>\n",
       "      <td>0.05</td>\n",
       "      <td>0.05</td>\n",
       "      <td>0.01</td>\n",
       "      <td>0.16</td>\n",
       "      <td>0.08</td>\n",
       "      <td>0.18</td>\n",
       "      <td>0.08</td>\n",
       "      <td>0.15</td>\n",
       "      <td>0.18</td>\n",
       "      <td>0.95</td>\n",
       "      <td>1.00</td>\n",
       "      <td>-0.41</td>\n",
       "    </tr>\n",
       "    <tr>\n",
       "      <th>churn</th>\n",
       "      <td>0.00</td>\n",
       "      <td>-0.13</td>\n",
       "      <td>-0.16</td>\n",
       "      <td>-0.16</td>\n",
       "      <td>-0.00</td>\n",
       "      <td>-0.39</td>\n",
       "      <td>-0.18</td>\n",
       "      <td>-0.40</td>\n",
       "      <td>-0.20</td>\n",
       "      <td>-0.38</td>\n",
       "      <td>-0.44</td>\n",
       "      <td>-0.25</td>\n",
       "      <td>-0.41</td>\n",
       "      <td>1.00</td>\n",
       "    </tr>\n",
       "  </tbody>\n",
       "</table>\n",
       "</div>"
      ],
      "text/plain": [
       "                                   gender  near_location  partner  \\\n",
       "gender                               1.00           0.01    -0.01   \n",
       "near_location                        0.01           1.00    -0.01   \n",
       "partner                             -0.01          -0.01     1.00   \n",
       "promo_friends                       -0.01           0.21     0.45   \n",
       "phone                               -0.01          -0.02     0.01   \n",
       "contract_period                      0.00           0.15     0.31   \n",
       "group_visits                         0.02           0.15     0.02   \n",
       "age                                  0.01           0.06     0.05   \n",
       "avg_additional_charges_total        -0.01           0.04     0.02   \n",
       "month_to_end_contract               -0.00           0.14     0.29   \n",
       "lifetime                             0.01           0.07     0.06   \n",
       "avg_class_frequency_total            0.01           0.04     0.02   \n",
       "avg_class_frequency_current_month    0.01           0.06     0.05   \n",
       "churn                                0.00          -0.13    -0.16   \n",
       "\n",
       "                                   promo_friends  phone  contract_period  \\\n",
       "gender                                     -0.01  -0.01             0.00   \n",
       "near_location                               0.21  -0.02             0.15   \n",
       "partner                                     0.45   0.01             0.31   \n",
       "promo_friends                               1.00   0.00             0.24   \n",
       "phone                                       0.00   1.00            -0.01   \n",
       "contract_period                             0.24  -0.01             1.00   \n",
       "group_visits                                0.12  -0.01             0.17   \n",
       "age                                         0.05  -0.01             0.14   \n",
       "avg_additional_charges_total                0.04   0.01             0.11   \n",
       "month_to_end_contract                       0.24  -0.01             0.97   \n",
       "lifetime                                    0.07  -0.02             0.17   \n",
       "avg_class_frequency_total                   0.03   0.01             0.10   \n",
       "avg_class_frequency_current_month           0.05   0.01             0.16   \n",
       "churn                                      -0.16  -0.00            -0.39   \n",
       "\n",
       "                                   group_visits   age  \\\n",
       "gender                                     0.02  0.01   \n",
       "near_location                              0.15  0.06   \n",
       "partner                                    0.02  0.05   \n",
       "promo_friends                              0.12  0.05   \n",
       "phone                                     -0.01 -0.01   \n",
       "contract_period                            0.17  0.14   \n",
       "group_visits                               1.00  0.08   \n",
       "age                                        0.08  1.00   \n",
       "avg_additional_charges_total               0.03  0.08   \n",
       "month_to_end_contract                      0.16  0.13   \n",
       "lifetime                                   0.08  0.16   \n",
       "avg_class_frequency_total                  0.06  0.12   \n",
       "avg_class_frequency_current_month          0.08  0.18   \n",
       "churn                                     -0.18 -0.40   \n",
       "\n",
       "                                   avg_additional_charges_total  \\\n",
       "gender                                                    -0.01   \n",
       "near_location                                              0.04   \n",
       "partner                                                    0.02   \n",
       "promo_friends                                              0.04   \n",
       "phone                                                      0.01   \n",
       "contract_period                                            0.11   \n",
       "group_visits                                               0.03   \n",
       "age                                                        0.08   \n",
       "avg_additional_charges_total                               1.00   \n",
       "month_to_end_contract                                      0.11   \n",
       "lifetime                                                   0.08   \n",
       "avg_class_frequency_total                                  0.04   \n",
       "avg_class_frequency_current_month                          0.08   \n",
       "churn                                                     -0.20   \n",
       "\n",
       "                                   month_to_end_contract  lifetime  \\\n",
       "gender                                             -0.00      0.01   \n",
       "near_location                                       0.14      0.07   \n",
       "partner                                             0.29      0.06   \n",
       "promo_friends                                       0.24      0.07   \n",
       "phone                                              -0.01     -0.02   \n",
       "contract_period                                     0.97      0.17   \n",
       "group_visits                                        0.16      0.08   \n",
       "age                                                 0.13      0.16   \n",
       "avg_additional_charges_total                        0.11      0.08   \n",
       "month_to_end_contract                               1.00      0.16   \n",
       "lifetime                                            0.16      1.00   \n",
       "avg_class_frequency_total                           0.09      0.11   \n",
       "avg_class_frequency_current_month                   0.15      0.18   \n",
       "churn                                              -0.38     -0.44   \n",
       "\n",
       "                                   avg_class_frequency_total  \\\n",
       "gender                                                  0.01   \n",
       "near_location                                           0.04   \n",
       "partner                                                 0.02   \n",
       "promo_friends                                           0.03   \n",
       "phone                                                   0.01   \n",
       "contract_period                                         0.10   \n",
       "group_visits                                            0.06   \n",
       "age                                                     0.12   \n",
       "avg_additional_charges_total                            0.04   \n",
       "month_to_end_contract                                   0.09   \n",
       "lifetime                                                0.11   \n",
       "avg_class_frequency_total                               1.00   \n",
       "avg_class_frequency_current_month                       0.95   \n",
       "churn                                                  -0.25   \n",
       "\n",
       "                                   avg_class_frequency_current_month  churn  \n",
       "gender                                                          0.01   0.00  \n",
       "near_location                                                   0.06  -0.13  \n",
       "partner                                                         0.05  -0.16  \n",
       "promo_friends                                                   0.05  -0.16  \n",
       "phone                                                           0.01  -0.00  \n",
       "contract_period                                                 0.16  -0.39  \n",
       "group_visits                                                    0.08  -0.18  \n",
       "age                                                             0.18  -0.40  \n",
       "avg_additional_charges_total                                    0.08  -0.20  \n",
       "month_to_end_contract                                           0.15  -0.38  \n",
       "lifetime                                                        0.18  -0.44  \n",
       "avg_class_frequency_total                                       0.95  -0.25  \n",
       "avg_class_frequency_current_month                               1.00  -0.41  \n",
       "churn                                                          -0.41   1.00  "
      ]
     },
     "execution_count": 9,
     "metadata": {},
     "output_type": "execute_result"
    }
   ],
   "source": [
    "corr_data = data.corr()\n",
    "corr_data"
   ]
  },
  {
   "cell_type": "markdown",
   "metadata": {},
   "source": [
    "Визуализирем нашу матрицу корреляции:"
   ]
  },
  {
   "cell_type": "code",
   "execution_count": 10,
   "metadata": {},
   "outputs": [
    {
     "data": {
      "image/png": "[encoded data removed]",
      "text/plain": [
       "<Figure size 1080x1080 with 2 Axes>"
      ]
     },
     "metadata": {
      "needs_background": "light"
     },
     "output_type": "display_data"
    }
   ],
   "source": [
    "plt.figure(figsize = (15, 15))\n",
    "sns.heatmap(corr_data, square=True, annot = True, cmap=\"Reds\")\n",
    "plt.title('Тепловая карта корреляции')\n",
    "plt.xlabel('Признаки') \n",
    "plt.ylabel('Признаки')\n",
    "plt.show()"
   ]
  },
  {
   "cell_type": "markdown",
   "metadata": {},
   "source": [
    "Явных признаков, которые значительно влияют на отток клиентов выделить нельзя.\n",
    "\n",
    "Однако стоит отметить, что сущетсвуют мультиколлинеарных признаки: contract_period и month_to_end_contract; avg_class_frequency_current_month и avg_class_frequency_total.  "
   ]
  },
  {
   "cell_type": "markdown",
   "metadata": {},
   "source": [
    "<a id='2.4'></a>\n",
    "### Выводы"
   ]
  },
  {
   "cell_type": "markdown",
   "metadata": {},
   "source": [
    "Значения по признакам в датасете:\n",
    "1. Разделение по полу примерно одинаковое - 50 % мужчин и 50 % женщин.\n",
    "2. Более 80 % людей, занимающиеся в фитнес-клубе - работают или проживают в районе клуба.\n",
    "3. 50 % посетителей фитнес-клуба пришли от компании-партнера.\n",
    "4. Пришли по рекомендации друзей всего лишь 30 % посетителей.\n",
    "5. Телефон оставили 90 % посетителей.\n",
    "6. Большая часть посетителей оформили \"подписку\" на 1 месяц и лишь 25 % пользователей оформили на полгода.\n",
    "7. Групповые занятия в почёте лишь у 40 % посетителей.\n",
    "8. Средний возраст посетителей фитнес-клуба 29 лет.\n",
    "9. В среднем зал люди посещают примерно 1-2 раза в неделю, лишь 25% людей посещают зал более 2х раз в неделю.\n",
    "\n",
    "Распределение клиентов по признакам в оттоке:\n",
    "1. Женщины и мужчины одинаково уходят в отток.\n",
    "2. Люди, живущие или работающие рядом с фитнес-клубом, реже перестают заниматься спортом.\n",
    "3. Посетители клуба, которые пришли по акции \"Приведи друга\" чаще остаются \" в строю\".\n",
    "4. Занимающиеся из компаний-партнеров намного чаще продолжают заниматься.\n",
    "5. У посетителей, которые попали в отток период действия абомнемента сотсавляет примерно 1 месяц.\n",
    "6. Ушедшие люди значительно меньше посещали груповые занятия.\n",
    "7. Средний возвраст посетителй, попавших в отток, на пару лет ниже чем у тех, которые остадлись.\n",
    "8. Большинство людей, ушедшие из клуба, прозанимались менее месяца.\n",
    "9. Большинство ушедших людей прозанималось в зале ококло месяца. Оттока среди посетителей, которые прозанимались бодее 5 меясцев практически нет.\n",
    "10. Люди, имеющие абонемент более 1 месяца ( 6 и 12) практически не подвержены оттоку.\n",
    "\n",
    "Сильно корреялции среди признаков обнаружено не было ( между признаками и целевой переменной), но были обнаружены мультиколлинеарных признаки: contract_period и month_to_end_contract; avg_class_frequency_current_month и avg_class_frequency_total."
   ]
  },
  {
   "cell_type": "markdown",
   "metadata": {},
   "source": [
    "<a id='3'></a>\n",
    "## Построение модели прогнозирования оттока клиентов"
   ]
  },
  {
   "cell_type": "markdown",
   "metadata": {},
   "source": [
    "Построим модель бинарной классификации клиентов, где целевой признак — факт оттока клиента в следующем месяце.\n",
    "\n",
    "Обозначим наши признаки и целевую переменную:"
   ]
  },
  {
   "cell_type": "code",
   "execution_count": 11,
   "metadata": {},
   "outputs": [],
   "source": [
    "X = data.drop('churn', axis = 1)\n",
    "y = data['churn']"
   ]
  },
  {
   "cell_type": "markdown",
   "metadata": {},
   "source": [
    "Разобьем наши данные на обучающую и валидационную выборку:"
   ]
  },
  {
   "cell_type": "code",
   "execution_count": 12,
   "metadata": {},
   "outputs": [],
   "source": [
    "X_train, X_test, y_train, y_test = train_test_split(X, y, test_size=0.2, random_state=0)"
   ]
  },
  {
   "cell_type": "markdown",
   "metadata": {},
   "source": [
    "Проведем стандартизацию наших данных:"
   ]
  },
  {
   "cell_type": "code",
   "execution_count": 13,
   "metadata": {},
   "outputs": [],
   "source": [
    "scaler = StandardScaler()\n",
    "scaler.fit(X_train)\n",
    "X_train_st = scaler.transform(X_train)\n",
    "X_test_st = scaler.transform(X_test)"
   ]
  },
  {
   "cell_type": "markdown",
   "metadata": {},
   "source": [
    "<a id='3.1'></a>\n",
    "### Обучение модели методом логистической регрессии"
   ]
  },
  {
   "cell_type": "code",
   "execution_count": 14,
   "metadata": {},
   "outputs": [],
   "source": [
    "model_log_reg = LogisticRegression(random_state=0)\n",
    "\n",
    "model_log_reg.fit(X_train_st, y_train)\n",
    "\n",
    "model_log_reg_predictions = model_log_reg.predict(X_test_st)\n",
    "model_log_reg_probabilities = model_log_reg.predict_proba(X_test_st)[:,1]"
   ]
  },
  {
   "cell_type": "code",
   "execution_count": 15,
   "metadata": {},
   "outputs": [
    {
     "name": "stdout",
     "output_type": "stream",
     "text": [
      "Accuracy  0.9225  - доля правильных ответов\n",
      "Precision: 0.8542  - точность \n",
      "Recall: 0.8283  - полнота\n",
      "F1: 0.8410  - баланс между метриками Precision and Recall\n"
     ]
    }
   ],
   "source": [
    "print('Accuracy  {:.4f}'.format(accuracy_score(y_test, model_log_reg_predictions)), ' - доля правильных ответов')\n",
    "print('Precision: {:.4f}'.format(precision_score(y_test, model_log_reg_predictions)), ' - точность ')\n",
    "print('Recall: {:.4f}'.format(recall_score(y_test, model_log_reg_predictions)), ' - полнота')\n",
    "print('F1: {:.4f}'.format(f1_score(y_test, model_log_reg_predictions)), ' - баланс между метриками Precision and Recall')"
   ]
  },
  {
   "cell_type": "markdown",
   "metadata": {},
   "source": [
    "<a id='3.2'></a>\n",
    "### Обучение модели методом случайный лес"
   ]
  },
  {
   "cell_type": "code",
   "execution_count": 16,
   "metadata": {},
   "outputs": [],
   "source": [
    "model_random_forest = RandomForestClassifier(n_estimators = 100, random_state = 0)\n",
    "\n",
    "model_random_forest.fit(X_train_st, y_train)\n",
    "\n",
    "model_random_forest_predictions = model_random_forest.predict(X_test_st)\n",
    "model_random_forest_probabilities = model_random_forest.predict_proba(X_test_st)[:,1]"
   ]
  },
  {
   "cell_type": "code",
   "execution_count": 17,
   "metadata": {},
   "outputs": [
    {
     "name": "stdout",
     "output_type": "stream",
     "text": [
      "Accuracy  0.9150  - доля правильных ответов\n",
      "Precision: 0.8385  - точность \n",
      "Recall: 0.8131  - полнота\n",
      "F1: 0.8256  - баланс между метриками Precision and Recall\n"
     ]
    }
   ],
   "source": [
    "print('Accuracy  {:.4f}'.format(accuracy_score(y_test, model_random_forest_predictions)), ' - доля правильных ответов')\n",
    "print('Precision: {:.4f}'.format(precision_score(y_test, model_random_forest_predictions)), ' - точность ')\n",
    "print('Recall: {:.4f}'.format(recall_score(y_test, model_random_forest_predictions)), ' - полнота')\n",
    "print('F1: {:.4f}'.format(f1_score(y_test, model_random_forest_predictions)), ' - баланс между метриками Precision and Recall')"
   ]
  },
  {
   "cell_type": "markdown",
   "metadata": {},
   "source": [
    "<a id='3.3'></a>\n",
    "### Вывод"
   ]
  },
  {
   "cell_type": "markdown",
   "metadata": {},
   "source": [
    "В данном разделе мы обучили две наших модели на выборке, которую разделили на обучающую ( 80 %) и валидационную (20 %).\n",
    "Обе модели показали себя хорошо, однако модель, обученная методом логистической регрессии, прогнозирует чуть лучше правильных ответов ( 0.9225 против 0.9150). Точность модели логистической регрессии так же немного выше, чем у модели, обученной алгоритмом случайного леса: 0.8542 против 0.8385. Метрика полнота также лучше у первой модели.\n",
    "\n",
    "Если говорить в целом, то обе модели показали себя хорошо, но модель логистической регрессии сработала лучше. Выбрать стоит именно ее."
   ]
  },
  {
   "cell_type": "markdown",
   "metadata": {},
   "source": [
    "<a id='4'></a>\n",
    "## Кластеризация клиентов"
   ]
  },
  {
   "cell_type": "markdown",
   "metadata": {},
   "source": [
    "<a id='4.1'></a>\n",
    "### Стандартизируем данные"
   ]
  },
  {
   "cell_type": "code",
   "execution_count": 18,
   "metadata": {},
   "outputs": [],
   "source": [
    "scaler = StandardScaler()\n",
    "data_sc = scaler.fit_transform(data.drop(columns = ['churn']))"
   ]
  },
  {
   "cell_type": "markdown",
   "metadata": {},
   "source": [
    "<a id='4.2'></a>\n",
    "### Построим матрицу расстояний"
   ]
  },
  {
   "cell_type": "code",
   "execution_count": 19,
   "metadata": {},
   "outputs": [
    {
     "data": {
      "image/png": "[encoded data removed]",
      "text/plain": [
       "<Figure size 1080x720 with 1 Axes>"
      ]
     },
     "metadata": {
      "needs_background": "light"
     },
     "output_type": "display_data"
    }
   ],
   "source": [
    "linked = linkage(data_sc, method = 'ward') \n",
    "plt.figure(figsize=(15, 10))  \n",
    "dendrogram(linked, orientation='top')\n",
    "plt.title('Дендрограмма кластеризации посетителей фитнес-центра')\n",
    "plt.show() "
   ]
  },
  {
   "cell_type": "markdown",
   "metadata": {},
   "source": [
    "После построения дендрограммы кластеризации можно сказать, что мы можем выделить 4 кластера.\n",
    "\n",
    "Но тут стоит учесть, что далее по заданию нам нужно будет 5 кластеров ( в соответствии с условиями \"технического задания\")"
   ]
  },
  {
   "cell_type": "markdown",
   "metadata": {},
   "source": [
    "<a id='4.3'></a>\n",
    "### Обучим модель кластеризации на основании алгоритма K-Means"
   ]
  },
  {
   "cell_type": "code",
   "execution_count": 20,
   "metadata": {},
   "outputs": [],
   "source": [
    "km = KMeans(n_clusters=5, random_state=0)\n",
    "labels = km.fit_predict(data_sc)\n",
    "data['cluster_km'] = labels"
   ]
  },
  {
   "cell_type": "markdown",
   "metadata": {},
   "source": [
    "Посмотрим что у нас получилось по кластерам:"
   ]
  },
  {
   "cell_type": "code",
   "execution_count": 21,
   "metadata": {},
   "outputs": [
    {
     "data": {
      "text/html": [
       "<div>\n",
       "<style scoped>\n",
       "    .dataframe tbody tr th:only-of-type {\n",
       "        vertical-align: middle;\n",
       "    }\n",
       "\n",
       "    .dataframe tbody tr th {\n",
       "        vertical-align: top;\n",
       "    }\n",
       "\n",
       "    .dataframe thead th {\n",
       "        text-align: right;\n",
       "    }\n",
       "</style>\n",
       "<table border=\"1\" class=\"dataframe\">\n",
       "  <thead>\n",
       "    <tr style=\"text-align: right;\">\n",
       "      <th></th>\n",
       "      <th>gender</th>\n",
       "      <th>near_location</th>\n",
       "      <th>partner</th>\n",
       "      <th>promo_friends</th>\n",
       "      <th>phone</th>\n",
       "      <th>contract_period</th>\n",
       "      <th>group_visits</th>\n",
       "      <th>age</th>\n",
       "      <th>avg_additional_charges_total</th>\n",
       "      <th>month_to_end_contract</th>\n",
       "      <th>lifetime</th>\n",
       "      <th>avg_class_frequency_total</th>\n",
       "      <th>avg_class_frequency_current_month</th>\n",
       "      <th>churn</th>\n",
       "    </tr>\n",
       "    <tr>\n",
       "      <th>cluster_km</th>\n",
       "      <th></th>\n",
       "      <th></th>\n",
       "      <th></th>\n",
       "      <th></th>\n",
       "      <th></th>\n",
       "      <th></th>\n",
       "      <th></th>\n",
       "      <th></th>\n",
       "      <th></th>\n",
       "      <th></th>\n",
       "      <th></th>\n",
       "      <th></th>\n",
       "      <th></th>\n",
       "      <th></th>\n",
       "    </tr>\n",
       "  </thead>\n",
       "  <tbody>\n",
       "    <tr>\n",
       "      <th>0</th>\n",
       "      <td>0.50</td>\n",
       "      <td>0.96</td>\n",
       "      <td>0.78</td>\n",
       "      <td>0.57</td>\n",
       "      <td>1.00</td>\n",
       "      <td>10.89</td>\n",
       "      <td>0.54</td>\n",
       "      <td>29.98</td>\n",
       "      <td>160.76</td>\n",
       "      <td>9.95</td>\n",
       "      <td>4.74</td>\n",
       "      <td>1.98</td>\n",
       "      <td>1.97</td>\n",
       "      <td>0.03</td>\n",
       "    </tr>\n",
       "    <tr>\n",
       "      <th>1</th>\n",
       "      <td>0.52</td>\n",
       "      <td>0.86</td>\n",
       "      <td>0.47</td>\n",
       "      <td>0.31</td>\n",
       "      <td>0.00</td>\n",
       "      <td>4.79</td>\n",
       "      <td>0.43</td>\n",
       "      <td>29.30</td>\n",
       "      <td>143.96</td>\n",
       "      <td>4.48</td>\n",
       "      <td>3.92</td>\n",
       "      <td>1.85</td>\n",
       "      <td>1.72</td>\n",
       "      <td>0.27</td>\n",
       "    </tr>\n",
       "    <tr>\n",
       "      <th>2</th>\n",
       "      <td>0.50</td>\n",
       "      <td>0.00</td>\n",
       "      <td>0.46</td>\n",
       "      <td>0.08</td>\n",
       "      <td>1.00</td>\n",
       "      <td>2.35</td>\n",
       "      <td>0.22</td>\n",
       "      <td>28.48</td>\n",
       "      <td>135.46</td>\n",
       "      <td>2.20</td>\n",
       "      <td>2.81</td>\n",
       "      <td>1.66</td>\n",
       "      <td>1.48</td>\n",
       "      <td>0.44</td>\n",
       "    </tr>\n",
       "    <tr>\n",
       "      <th>3</th>\n",
       "      <td>0.49</td>\n",
       "      <td>1.00</td>\n",
       "      <td>0.35</td>\n",
       "      <td>0.24</td>\n",
       "      <td>1.00</td>\n",
       "      <td>1.95</td>\n",
       "      <td>0.34</td>\n",
       "      <td>28.17</td>\n",
       "      <td>131.62</td>\n",
       "      <td>1.86</td>\n",
       "      <td>2.44</td>\n",
       "      <td>1.25</td>\n",
       "      <td>1.01</td>\n",
       "      <td>0.51</td>\n",
       "    </tr>\n",
       "    <tr>\n",
       "      <th>4</th>\n",
       "      <td>0.56</td>\n",
       "      <td>0.98</td>\n",
       "      <td>0.36</td>\n",
       "      <td>0.23</td>\n",
       "      <td>1.00</td>\n",
       "      <td>2.67</td>\n",
       "      <td>0.47</td>\n",
       "      <td>30.13</td>\n",
       "      <td>161.66</td>\n",
       "      <td>2.46</td>\n",
       "      <td>4.90</td>\n",
       "      <td>2.85</td>\n",
       "      <td>2.85</td>\n",
       "      <td>0.07</td>\n",
       "    </tr>\n",
       "  </tbody>\n",
       "</table>\n",
       "</div>"
      ],
      "text/plain": [
       "            gender  near_location  partner  promo_friends  phone  \\\n",
       "cluster_km                                                         \n",
       "0             0.50           0.96     0.78           0.57   1.00   \n",
       "1             0.52           0.86     0.47           0.31   0.00   \n",
       "2             0.50           0.00     0.46           0.08   1.00   \n",
       "3             0.49           1.00     0.35           0.24   1.00   \n",
       "4             0.56           0.98     0.36           0.23   1.00   \n",
       "\n",
       "            contract_period  group_visits   age  avg_additional_charges_total  \\\n",
       "cluster_km                                                                      \n",
       "0                     10.89          0.54 29.98                        160.76   \n",
       "1                      4.79          0.43 29.30                        143.96   \n",
       "2                      2.35          0.22 28.48                        135.46   \n",
       "3                      1.95          0.34 28.17                        131.62   \n",
       "4                      2.67          0.47 30.13                        161.66   \n",
       "\n",
       "            month_to_end_contract  lifetime  avg_class_frequency_total  \\\n",
       "cluster_km                                                               \n",
       "0                            9.95      4.74                       1.98   \n",
       "1                            4.48      3.92                       1.85   \n",
       "2                            2.20      2.81                       1.66   \n",
       "3                            1.86      2.44                       1.25   \n",
       "4                            2.46      4.90                       2.85   \n",
       "\n",
       "            avg_class_frequency_current_month  churn  \n",
       "cluster_km                                            \n",
       "0                                        1.97   0.03  \n",
       "1                                        1.72   0.27  \n",
       "2                                        1.48   0.44  \n",
       "3                                        1.01   0.51  \n",
       "4                                        2.85   0.07  "
      ]
     },
     "execution_count": 21,
     "metadata": {},
     "output_type": "execute_result"
    }
   ],
   "source": [
    "data.groupby('cluster_km').mean()"
   ]
  },
  {
   "cell_type": "markdown",
   "metadata": {},
   "source": [
    "Итак, мы получилис 5 кластеров со следующими группам по оттоку:\n",
    "\n",
    "0 кластер:\n",
    "* отток 3 % - самый низкий процент оттока\n",
    "* живут или работают недалеко от фитнес-центра\n",
    "* в основном пришли по партнерской программе или по приглашению друга\n",
    "* всегда оставляют телефон\n",
    "* часто посещают групповые ханятия\n",
    "* оформляют абонемент более чем на 6 месяцеы\n",
    "\n",
    "1 кластер:\n",
    "* отток 27 %\n",
    "* живут или работают недалеко от фитнес-центра\n",
    "* практически 50% пришло по партнерской программе\n",
    "* в основном оформляют абонемент более чем на 1 месяц\n",
    "* не оставляют телефоны\n",
    "\n",
    "2 кластер:\n",
    "* отток один из самых больших - 44 %\n",
    "* живут или работают далеко от фитнес центра \n",
    "* почти 50 % пришли по партнерской программе\n",
    "* не любят посещать групповые занятия\n",
    "* в клуье состоят как правило менее 3х меясцев\n",
    "\n",
    "3 кластер:\n",
    "* самый большой отток - 51 %\n",
    "* живут или работают возле фитнес-центра ( скорее всего забегали попробовать пробное занятие и убежали)\n",
    "* частично приходили по партнерской программе или по акции \"приведи друга\"\n",
    "* покупали абонемент на короткий срок\n",
    "\n",
    "4 кластер:\n",
    "* отток один из самых маленьких - 7 %\n",
    "* живут или работают рядом с фитнес-центром.\n",
    "* почти 50% посещают груповые занятия\n",
    "* более 4 меясцев являются посетителями ( самый высокий показатель)\n",
    "* средний срок абонемента от 1-6 месяцев"
   ]
  },
  {
   "cell_type": "markdown",
   "metadata": {},
   "source": [
    "<a id='4.4'></a>\n",
    "### Построим распределения признаков для кластеров"
   ]
  },
  {
   "cell_type": "markdown",
   "metadata": {},
   "source": [
    "Визуализируем распределение признаков для кластеров с помощью гистограмм:"
   ]
  },
  {
   "cell_type": "code",
   "execution_count": 22,
   "metadata": {},
   "outputs": [
    {
     "data": {
      "image/png": "[encoded data removed]",
      "text/plain": [
       "<Figure size 1440x720 with 16 Axes>"
      ]
     },
     "metadata": {
      "needs_background": "light"
     },
     "output_type": "display_data"
    }
   ],
   "source": [
    "data[data['cluster_km']==0].hist(figsize=(20,10))\n",
    "plt.suptitle('Распределение признаков для кластера 0', fontsize = 15)\n",
    "plt.show()"
   ]
  },
  {
   "cell_type": "code",
   "execution_count": 23,
   "metadata": {},
   "outputs": [
    {
     "data": {
      "image/png": "[encoded data removed]",
      "text/plain": [
       "<Figure size 1440x720 with 16 Axes>"
      ]
     },
     "metadata": {
      "needs_background": "light"
     },
     "output_type": "display_data"
    }
   ],
   "source": [
    "data[data['cluster_km']==1].hist(figsize=(20,10))\n",
    "plt.suptitle('Распределение признаков для кластера 1', fontsize = 15)\n",
    "plt.show()"
   ]
  },
  {
   "cell_type": "code",
   "execution_count": 24,
   "metadata": {},
   "outputs": [
    {
     "data": {
      "image/png": "[encoded data removed]",
      "text/plain": [
       "<Figure size 1440x720 with 16 Axes>"
      ]
     },
     "metadata": {
      "needs_background": "light"
     },
     "output_type": "display_data"
    }
   ],
   "source": [
    "data[data['cluster_km']==2].hist(figsize=(20,10))\n",
    "plt.suptitle('Распределение признаков для кластера 2', fontsize = 15)\n",
    "plt.show()"
   ]
  },
  {
   "cell_type": "code",
   "execution_count": 25,
   "metadata": {},
   "outputs": [
    {
     "data": {
      "image/png": "[encoded data removed]",
      "text/plain": [
       "<Figure size 1440x720 with 16 Axes>"
      ]
     },
     "metadata": {
      "needs_background": "light"
     },
     "output_type": "display_data"
    }
   ],
   "source": [
    "data[data['cluster_km']==3].hist(figsize=(20,10))\n",
    "plt.suptitle('Распределение признаков для кластера 3', fontsize = 15)\n",
    "plt.show()"
   ]
  },
  {
   "cell_type": "code",
   "execution_count": 26,
   "metadata": {},
   "outputs": [
    {
     "data": {
      "image/png": "[encoded data removed]",
      "text/plain": [
       "<Figure size 1440x720 with 16 Axes>"
      ]
     },
     "metadata": {
      "needs_background": "light"
     },
     "output_type": "display_data"
    }
   ],
   "source": [
    "data[data['cluster_km']==4].hist(figsize=(20,10))\n",
    "plt.suptitle('Распределение признаков для кластера 4', fontsize = 15)\n",
    "plt.show()"
   ]
  },
  {
   "cell_type": "markdown",
   "metadata": {},
   "source": [
    " Не совсем удобно сравнивать по кластерам в разных гистограммах, построим все кластеры по признакам на одной гистограмме:"
   ]
  },
  {
   "cell_type": "code",
   "execution_count": 27,
   "metadata": {
    "scrolled": false
   },
   "outputs": [
    {
     "data": {
      "image/png": "[encoded data removed]",
      "text/plain": [
       "<Figure size 432x288 with 1 Axes>"
      ]
     },
     "metadata": {
      "needs_background": "light"
     },
     "output_type": "display_data"
    },
    {
     "data": {
      "image/png": "[encoded data removed]",
      "text/plain": [
       "<Figure size 432x288 with 1 Axes>"
      ]
     },
     "metadata": {
      "needs_background": "light"
     },
     "output_type": "display_data"
    },
    {
     "data": {
      "image/png": "[encoded data removed]",
      "text/plain": [
       "<Figure size 432x288 with 1 Axes>"
      ]
     },
     "metadata": {
      "needs_background": "light"
     },
     "output_type": "display_data"
    },
    {
     "data": {
      "image/png": "[encoded data removed]",
      "text/plain": [
       "<Figure size 432x288 with 1 Axes>"
      ]
     },
     "metadata": {
      "needs_background": "light"
     },
     "output_type": "display_data"
    },
    {
     "data": {
      "image/png": "[encoded data removed]",
      "text/plain": [
       "<Figure size 432x288 with 1 Axes>"
      ]
     },
     "metadata": {
      "needs_background": "light"
     },
     "output_type": "display_data"
    },
    {
     "data": {
      "image/png": "[encoded data removed]",
      "text/plain": [
       "<Figure size 432x288 with 1 Axes>"
      ]
     },
     "metadata": {
      "needs_background": "light"
     },
     "output_type": "display_data"
    },
    {
     "data": {
      "image/png": "[encoded data removed]",
      "text/plain": [
       "<Figure size 432x288 with 1 Axes>"
      ]
     },
     "metadata": {
      "needs_background": "light"
     },
     "output_type": "display_data"
    },
    {
     "data": {
      "image/png": "[encoded data removed]",
      "text/plain": [
       "<Figure size 432x288 with 1 Axes>"
      ]
     },
     "metadata": {
      "needs_background": "light"
     },
     "output_type": "display_data"
    },
    {
     "data": {
      "image/png": "[encoded data removed]",
      "text/plain": [
       "<Figure size 432x288 with 1 Axes>"
      ]
     },
     "metadata": {
      "needs_background": "light"
     },
     "output_type": "display_data"
    },
    {
     "data": {
      "image/png": "[encoded data removed]",
      "text/plain": [
       "<Figure size 432x288 with 1 Axes>"
      ]
     },
     "metadata": {
      "needs_background": "light"
     },
     "output_type": "display_data"
    },
    {
     "data": {
      "image/png": "[encoded data removed]",
      "text/plain": [
       "<Figure size 432x288 with 1 Axes>"
      ]
     },
     "metadata": {
      "needs_background": "light"
     },
     "output_type": "display_data"
    },
    {
     "data": {
      "image/png": "[encoded data removed]",
      "text/plain": [
       "<Figure size 432x288 with 1 Axes>"
      ]
     },
     "metadata": {
      "needs_background": "light"
     },
     "output_type": "display_data"
    },
    {
     "data": {
      "image/png": "[encoded data removed]",
      "text/plain": [
       "<Figure size 432x288 with 1 Axes>"
      ]
     },
     "metadata": {
      "needs_background": "light"
     },
     "output_type": "display_data"
    },
    {
     "data": {
      "image/png": "[encoded data removed]",
      "text/plain": [
       "<Figure size 432x288 with 1 Axes>"
      ]
     },
     "metadata": {
      "needs_background": "light"
     },
     "output_type": "display_data"
    },
    {
     "data": {
      "image/png": "[encoded data removed]",
      "text/plain": [
       "<Figure size 432x288 with 1 Axes>"
      ]
     },
     "metadata": {
      "needs_background": "light"
     },
     "output_type": "display_data"
    }
   ],
   "source": [
    "for column in data:\n",
    "    sns.countplot(x = data[column], hue='cluster_km', data=data)\n",
    "    plt.show()"
   ]
  },
  {
   "cell_type": "markdown",
   "metadata": {},
   "source": [
    "Основные моменты по гистаграммам остались такие же как и в прошлом разделе. \n",
    "\n",
    "Мне например легче все-таки смотреть и анализироать цифры, чем графики.напомню основные моменты:\n",
    "\n",
    "0 кластер:\n",
    "* отток 3 % - самый низкий процент оттока\n",
    "* живут или работают недалеко от фитнес-центра\n",
    "* в основном пришли по партнерской программе или по приглашению друга\n",
    "* всегда оставляют телефон\n",
    "* часто посещают групповые ханятия\n",
    "* оформляют абонемент более чем на 6 месяцеы\n",
    "\n",
    "1 кластер:\n",
    "* отток 27 %\n",
    "* живут или работают недалеко от фитнес-центра\n",
    "* практически 50% пришло по партнерской программе\n",
    "* в основном оформляют абонемент более чем на 1 месяц\n",
    "* не оставляют телефоны\n",
    "\n",
    "2 кластер:\n",
    "* отток один из самых больших - 44 %\n",
    "* живут или работают далеко от фитнес центра\n",
    "* почти 50 % пришли по партнерской программе\n",
    "* не любят посещать групповые занятия\n",
    "* в клуье состоят как правило менее 3х меясцев\n",
    "\n",
    "3 кластер:\n",
    "* самый большой отток - 51 %\n",
    "* живут или работают возле фитнес-центра ( скорее всего забегали попробовать пробное занятие и убежали)\n",
    "* частично приходили по партнерской программе или по акции \"приведи друга\"\n",
    "* покупали абонемент на короткий срок\n",
    "\n",
    "4 кластер:\n",
    "* отток один из самых маленьких - 7 %\n",
    "* живут или работают рядом с фитнес-центром.\n",
    "* почти 50% посещают груповые занятия\n",
    "* более 4 меясцев являются посетителями ( самый высокий показатель)\n",
    "* средний срок абонемента от 1-6 месяцев\n",
    "\n",
    "У нас получилось, что кластер 0 и 4 самые \"хорошие\", обладают наименьшим оттоком клиентов. В кластерах 2 и 3 самые уходящие клиенты фитнес-центра."
   ]
  },
  {
   "cell_type": "markdown",
   "metadata": {},
   "source": [
    "<a id='5'></a>\n",
    "## Общий вывод"
   ]
  },
  {
   "cell_type": "markdown",
   "metadata": {},
   "source": [
    "Изучив клиентов финтнес-центра и помсотрев на их кластеризацию с учетом оттока, можно предложить следующее:\n",
    "1. Настроить рекламу ( или продолжить ее поддерживать) в районе нахождения фитнес-центра - клиенты из близлежащих районов остаются значительно лучше в числе посетителей фитнес-цнтра.\n",
    "2. Продолжать развивать партнерскую программу и акции \"Пригласи друга\" - пусть эти моменты влияют хорошо только на 2 кластера наших клиентов, но эффект я думаю от таких кампаний будет отличный.\n",
    "3. Сделать акцент в маркетинговой кампании на людей позраста от 29-30 лет, так как эти клиенты менее подвержены оттоку, чем посетители 26-27 лет.\n",
    "4. Активно предлагать групповые заняти - они нравятся постоянным клиентам и с удовольствием на них ходят.\n",
    "5. Сделать какую-нибудь акцию на абонементы на 6-12 месяцев ( скидка или + 1 меясц в подарок, например). Как показало исследования, люди приобретающие абонементы на 6-12 меясцев меньше подвержены оттоку ( может быть это конечно во всем виновата \"жаба\", но нам же нужно удержать клинта, пусть и таким способом)."
   ]
  }
 ],
 "metadata": {
  "ExecuteTimeLog": [
   {
    "duration": 77,
    "start_time": "2022-05-07T09:25:37.822Z"
   },
   {
    "duration": 1485,
    "start_time": "2022-05-07T09:27:53.797Z"
   },
   {
    "duration": 111,
    "start_time": "2022-05-07T09:28:37.915Z"
   },
   {
    "duration": 4,
    "start_time": "2022-05-07T09:28:43.483Z"
   },
   {
    "duration": 21,
    "start_time": "2022-05-07T09:28:43.489Z"
   },
   {
    "duration": 5,
    "start_time": "2022-05-07T09:28:43.513Z"
   },
   {
    "duration": 32,
    "start_time": "2022-05-07T09:28:43.521Z"
   },
   {
    "duration": 3,
    "start_time": "2022-05-07T09:33:04.816Z"
   },
   {
    "duration": 17,
    "start_time": "2022-05-07T09:33:07.956Z"
   },
   {
    "duration": 3,
    "start_time": "2022-05-07T09:33:14.397Z"
   },
   {
    "duration": 4,
    "start_time": "2022-05-07T09:47:15.932Z"
   },
   {
    "duration": 19,
    "start_time": "2022-05-07T09:47:15.938Z"
   },
   {
    "duration": 4,
    "start_time": "2022-05-07T09:47:15.959Z"
   },
   {
    "duration": 32,
    "start_time": "2022-05-07T09:47:15.964Z"
   },
   {
    "duration": 3,
    "start_time": "2022-05-07T09:47:15.998Z"
   },
   {
    "duration": 9,
    "start_time": "2022-05-07T09:49:38.754Z"
   },
   {
    "duration": 8,
    "start_time": "2022-05-07T09:49:42.641Z"
   },
   {
    "duration": 42,
    "start_time": "2022-05-07T09:49:46.041Z"
   },
   {
    "duration": 14,
    "start_time": "2022-05-07T10:14:13.572Z"
   },
   {
    "duration": 98,
    "start_time": "2022-05-07T10:22:29.548Z"
   },
   {
    "duration": 9,
    "start_time": "2022-05-07T10:22:39.316Z"
   },
   {
    "duration": 13,
    "start_time": "2022-05-07T10:23:11.363Z"
   },
   {
    "duration": 13,
    "start_time": "2022-05-07T10:23:16.811Z"
   },
   {
    "duration": 698,
    "start_time": "2022-05-07T10:23:20.642Z"
   },
   {
    "duration": 857,
    "start_time": "2022-05-07T10:24:29.266Z"
   },
   {
    "duration": 824,
    "start_time": "2022-05-07T10:24:57.881Z"
   },
   {
    "duration": 851,
    "start_time": "2022-05-07T10:25:28.233Z"
   },
   {
    "duration": 786,
    "start_time": "2022-05-07T10:25:56.761Z"
   },
   {
    "duration": 886,
    "start_time": "2022-05-07T10:26:17.656Z"
   },
   {
    "duration": 798,
    "start_time": "2022-05-07T10:26:24.376Z"
   },
   {
    "duration": 86,
    "start_time": "2022-05-07T10:26:53.871Z"
   },
   {
    "duration": 887,
    "start_time": "2022-05-07T10:27:01.512Z"
   },
   {
    "duration": 704,
    "start_time": "2022-05-07T10:27:06.398Z"
   },
   {
    "duration": 882,
    "start_time": "2022-05-07T10:27:44.118Z"
   },
   {
    "duration": 642,
    "start_time": "2022-05-07T10:27:55.253Z"
   },
   {
    "duration": 652,
    "start_time": "2022-05-07T10:28:44.501Z"
   },
   {
    "duration": 762,
    "start_time": "2022-05-07T10:29:11.613Z"
   },
   {
    "duration": 838,
    "start_time": "2022-05-07T10:29:34.900Z"
   },
   {
    "duration": 847,
    "start_time": "2022-05-07T10:30:58.338Z"
   },
   {
    "duration": 21,
    "start_time": "2022-05-07T10:31:13.347Z"
   },
   {
    "duration": 978,
    "start_time": "2022-05-07T10:31:18.851Z"
   },
   {
    "duration": 1358,
    "start_time": "2022-05-07T10:42:24.081Z"
   },
   {
    "duration": 18,
    "start_time": "2022-05-07T10:42:25.441Z"
   },
   {
    "duration": 5,
    "start_time": "2022-05-07T10:42:25.460Z"
   },
   {
    "duration": 51,
    "start_time": "2022-05-07T10:42:25.467Z"
   },
   {
    "duration": 4,
    "start_time": "2022-05-07T10:42:25.521Z"
   },
   {
    "duration": 46,
    "start_time": "2022-05-07T10:42:25.527Z"
   },
   {
    "duration": 37,
    "start_time": "2022-05-07T10:42:25.575Z"
   },
   {
    "duration": 793,
    "start_time": "2022-05-07T10:42:25.615Z"
   },
   {
    "duration": 807,
    "start_time": "2022-05-07T10:42:34.684Z"
   },
   {
    "duration": 884,
    "start_time": "2022-05-07T10:42:46.484Z"
   },
   {
    "duration": 1179,
    "start_time": "2022-05-07T10:44:26.144Z"
   },
   {
    "duration": 17,
    "start_time": "2022-05-07T10:44:27.325Z"
   },
   {
    "duration": 3,
    "start_time": "2022-05-07T10:44:27.344Z"
   },
   {
    "duration": 34,
    "start_time": "2022-05-07T10:44:27.349Z"
   },
   {
    "duration": 4,
    "start_time": "2022-05-07T10:44:27.385Z"
   },
   {
    "duration": 61,
    "start_time": "2022-05-07T10:44:27.390Z"
   },
   {
    "duration": 14,
    "start_time": "2022-05-07T10:44:27.452Z"
   },
   {
    "duration": 1102,
    "start_time": "2022-05-07T10:44:27.467Z"
   },
   {
    "duration": 4,
    "start_time": "2022-05-07T10:44:28.571Z"
   },
   {
    "duration": 5,
    "start_time": "2022-05-07T10:45:12.699Z"
   },
   {
    "duration": 20,
    "start_time": "2022-05-07T10:45:12.706Z"
   },
   {
    "duration": 4,
    "start_time": "2022-05-07T10:45:12.728Z"
   },
   {
    "duration": 31,
    "start_time": "2022-05-07T10:45:12.733Z"
   },
   {
    "duration": 4,
    "start_time": "2022-05-07T10:45:12.766Z"
   },
   {
    "duration": 129,
    "start_time": "2022-05-07T10:45:12.771Z"
   },
   {
    "duration": 18,
    "start_time": "2022-05-07T10:45:12.901Z"
   },
   {
    "duration": 1127,
    "start_time": "2022-05-07T10:45:12.921Z"
   },
   {
    "duration": 4,
    "start_time": "2022-05-07T10:45:14.049Z"
   },
   {
    "duration": 4,
    "start_time": "2022-05-07T10:45:19.569Z"
   },
   {
    "duration": 1162,
    "start_time": "2022-05-07T10:45:39.841Z"
   },
   {
    "duration": 1339,
    "start_time": "2022-05-07T10:46:29.161Z"
   },
   {
    "duration": 253,
    "start_time": "2022-05-07T10:48:07.112Z"
   },
   {
    "duration": 1351,
    "start_time": "2022-05-07T10:48:38.238Z"
   },
   {
    "duration": 88390,
    "start_time": "2022-05-07T10:50:13.956Z"
   },
   {
    "duration": 255076,
    "start_time": "2022-05-07T11:25:32.275Z"
   },
   {
    "duration": 1603,
    "start_time": "2022-05-07T11:30:25.326Z"
   },
   {
    "duration": 2698,
    "start_time": "2022-05-07T11:31:08.404Z"
   },
   {
    "duration": 4,
    "start_time": "2022-05-07T11:31:24.973Z"
   },
   {
    "duration": 22,
    "start_time": "2022-05-07T11:31:24.979Z"
   },
   {
    "duration": 5,
    "start_time": "2022-05-07T11:31:25.003Z"
   },
   {
    "duration": 29,
    "start_time": "2022-05-07T11:31:25.010Z"
   },
   {
    "duration": 3,
    "start_time": "2022-05-07T11:31:25.042Z"
   },
   {
    "duration": 61,
    "start_time": "2022-05-07T11:31:25.047Z"
   },
   {
    "duration": 14,
    "start_time": "2022-05-07T11:31:25.110Z"
   },
   {
    "duration": 2573,
    "start_time": "2022-05-07T11:31:25.126Z"
   },
   {
    "duration": 1773,
    "start_time": "2022-05-07T11:31:41.331Z"
   },
   {
    "duration": 13,
    "start_time": "2022-05-07T11:32:41.108Z"
   },
   {
    "duration": 187,
    "start_time": "2022-05-07T11:33:23.050Z"
   },
   {
    "duration": 3070,
    "start_time": "2022-05-07T11:33:37.434Z"
   },
   {
    "duration": 2043,
    "start_time": "2022-05-07T11:33:51.826Z"
   },
   {
    "duration": 2107,
    "start_time": "2022-05-07T11:33:57.457Z"
   },
   {
    "duration": 2100,
    "start_time": "2022-05-07T11:34:02.090Z"
   },
   {
    "duration": 1628,
    "start_time": "2022-05-07T11:39:15.508Z"
   },
   {
    "duration": 1537,
    "start_time": "2022-05-07T11:39:20.963Z"
   },
   {
    "duration": 1573,
    "start_time": "2022-05-07T11:39:30.387Z"
   },
   {
    "duration": 1553,
    "start_time": "2022-05-07T11:39:37.780Z"
   },
   {
    "duration": 1698,
    "start_time": "2022-05-07T11:39:51.010Z"
   },
   {
    "duration": 1563,
    "start_time": "2022-05-07T11:39:58.786Z"
   },
   {
    "duration": 1579,
    "start_time": "2022-05-07T11:40:13.355Z"
   },
   {
    "duration": 16,
    "start_time": "2022-05-07T11:40:45.202Z"
   },
   {
    "duration": 73,
    "start_time": "2022-05-07T11:41:02.273Z"
   },
   {
    "duration": 13,
    "start_time": "2022-05-07T11:41:24.825Z"
   },
   {
    "duration": 17,
    "start_time": "2022-05-07T11:41:30.210Z"
   },
   {
    "duration": 11,
    "start_time": "2022-05-07T11:41:35.873Z"
   },
   {
    "duration": 17,
    "start_time": "2022-05-07T11:41:40.289Z"
   },
   {
    "duration": 1576,
    "start_time": "2022-05-07T11:42:18.352Z"
   },
   {
    "duration": 22,
    "start_time": "2022-05-07T11:42:27.599Z"
   },
   {
    "duration": 19,
    "start_time": "2022-05-07T11:43:10.264Z"
   },
   {
    "duration": 1682,
    "start_time": "2022-05-07T11:43:42.767Z"
   },
   {
    "duration": 1554,
    "start_time": "2022-05-07T11:44:01.590Z"
   },
   {
    "duration": 1541,
    "start_time": "2022-05-07T11:44:18.341Z"
   },
   {
    "duration": 1621,
    "start_time": "2022-05-07T11:44:50.756Z"
   },
   {
    "duration": 161,
    "start_time": "2022-05-07T11:56:25.148Z"
   },
   {
    "duration": 71,
    "start_time": "2022-05-07T11:57:37.804Z"
   },
   {
    "duration": 50,
    "start_time": "2022-05-08T09:21:45.737Z"
   },
   {
    "duration": 1442,
    "start_time": "2022-05-08T09:21:50.592Z"
   },
   {
    "duration": 17,
    "start_time": "2022-05-08T09:21:52.036Z"
   },
   {
    "duration": 4,
    "start_time": "2022-05-08T09:21:52.054Z"
   },
   {
    "duration": 33,
    "start_time": "2022-05-08T09:21:52.059Z"
   },
   {
    "duration": 9,
    "start_time": "2022-05-08T09:21:52.107Z"
   },
   {
    "duration": 42,
    "start_time": "2022-05-08T09:21:52.118Z"
   },
   {
    "duration": 13,
    "start_time": "2022-05-08T09:21:52.161Z"
   },
   {
    "duration": 1913,
    "start_time": "2022-05-08T09:21:52.175Z"
   },
   {
    "duration": 35,
    "start_time": "2022-05-08T09:21:54.089Z"
   },
   {
    "duration": 1643,
    "start_time": "2022-05-08T09:21:54.125Z"
   },
   {
    "duration": 4,
    "start_time": "2022-05-08T09:21:55.769Z"
   },
   {
    "duration": 55,
    "start_time": "2022-05-08T09:26:39.958Z"
   },
   {
    "duration": 68,
    "start_time": "2022-05-08T09:27:00.974Z"
   },
   {
    "duration": 368,
    "start_time": "2022-05-08T09:27:59.582Z"
   },
   {
    "duration": 15,
    "start_time": "2022-05-08T09:27:59.952Z"
   },
   {
    "duration": 4,
    "start_time": "2022-05-08T09:27:59.969Z"
   },
   {
    "duration": 43,
    "start_time": "2022-05-08T09:27:59.975Z"
   },
   {
    "duration": 3,
    "start_time": "2022-05-08T09:28:00.020Z"
   },
   {
    "duration": 44,
    "start_time": "2022-05-08T09:28:00.025Z"
   },
   {
    "duration": 13,
    "start_time": "2022-05-08T09:28:00.071Z"
   },
   {
    "duration": 2720,
    "start_time": "2022-05-08T09:28:00.107Z"
   },
   {
    "duration": 26,
    "start_time": "2022-05-08T09:28:02.829Z"
   },
   {
    "duration": 1623,
    "start_time": "2022-05-08T09:28:02.858Z"
   },
   {
    "duration": 5,
    "start_time": "2022-05-08T09:28:04.482Z"
   },
   {
    "duration": 15,
    "start_time": "2022-05-08T09:28:04.488Z"
   },
   {
    "duration": 26,
    "start_time": "2022-05-08T09:31:10.138Z"
   },
   {
    "duration": 9,
    "start_time": "2022-05-08T09:31:41.128Z"
   },
   {
    "duration": 11,
    "start_time": "2022-05-08T09:31:47.591Z"
   },
   {
    "duration": 5,
    "start_time": "2022-05-08T09:34:44.577Z"
   },
   {
    "duration": 17,
    "start_time": "2022-05-08T09:34:44.584Z"
   },
   {
    "duration": 4,
    "start_time": "2022-05-08T09:34:44.602Z"
   },
   {
    "duration": 26,
    "start_time": "2022-05-08T09:34:44.608Z"
   },
   {
    "duration": 4,
    "start_time": "2022-05-08T09:34:44.636Z"
   },
   {
    "duration": 41,
    "start_time": "2022-05-08T09:34:44.641Z"
   },
   {
    "duration": 14,
    "start_time": "2022-05-08T09:34:44.706Z"
   },
   {
    "duration": 1877,
    "start_time": "2022-05-08T09:34:44.722Z"
   },
   {
    "duration": 23,
    "start_time": "2022-05-08T09:34:46.601Z"
   },
   {
    "duration": 1500,
    "start_time": "2022-05-08T09:34:46.626Z"
   },
   {
    "duration": 6,
    "start_time": "2022-05-08T09:34:48.128Z"
   },
   {
    "duration": 6,
    "start_time": "2022-05-08T09:34:48.136Z"
   },
   {
    "duration": 10,
    "start_time": "2022-05-08T09:34:48.144Z"
   },
   {
    "duration": 10,
    "start_time": "2022-05-08T09:37:15.456Z"
   },
   {
    "duration": 9,
    "start_time": "2022-05-08T09:37:22.793Z"
   },
   {
    "duration": 176,
    "start_time": "2022-05-08T09:37:36.032Z"
   },
   {
    "duration": 17,
    "start_time": "2022-05-08T09:42:33.289Z"
   },
   {
    "duration": 5,
    "start_time": "2022-05-08T09:43:18.154Z"
   },
   {
    "duration": 18,
    "start_time": "2022-05-08T09:43:18.161Z"
   },
   {
    "duration": 5,
    "start_time": "2022-05-08T09:43:18.181Z"
   },
   {
    "duration": 31,
    "start_time": "2022-05-08T09:43:18.188Z"
   },
   {
    "duration": 3,
    "start_time": "2022-05-08T09:43:18.221Z"
   },
   {
    "duration": 44,
    "start_time": "2022-05-08T09:43:18.226Z"
   },
   {
    "duration": 14,
    "start_time": "2022-05-08T09:43:18.271Z"
   },
   {
    "duration": 2008,
    "start_time": "2022-05-08T09:43:18.287Z"
   },
   {
    "duration": 23,
    "start_time": "2022-05-08T09:43:20.297Z"
   },
   {
    "duration": 1657,
    "start_time": "2022-05-08T09:43:20.322Z"
   },
   {
    "duration": 5,
    "start_time": "2022-05-08T09:43:21.981Z"
   },
   {
    "duration": 19,
    "start_time": "2022-05-08T09:43:21.988Z"
   },
   {
    "duration": 11,
    "start_time": "2022-05-08T09:43:22.009Z"
   },
   {
    "duration": 97,
    "start_time": "2022-05-08T09:43:22.022Z"
   },
   {
    "duration": 193,
    "start_time": "2022-05-08T09:43:22.121Z"
   },
   {
    "duration": 389,
    "start_time": "2022-05-08T09:45:53.116Z"
   },
   {
    "duration": 11,
    "start_time": "2022-05-08T09:46:16.235Z"
   },
   {
    "duration": 6,
    "start_time": "2022-05-08T09:51:11.635Z"
   },
   {
    "duration": 17,
    "start_time": "2022-05-08T09:51:11.643Z"
   },
   {
    "duration": 4,
    "start_time": "2022-05-08T09:51:11.662Z"
   },
   {
    "duration": 34,
    "start_time": "2022-05-08T09:51:11.668Z"
   },
   {
    "duration": 4,
    "start_time": "2022-05-08T09:51:11.708Z"
   },
   {
    "duration": 56,
    "start_time": "2022-05-08T09:51:11.714Z"
   },
   {
    "duration": 16,
    "start_time": "2022-05-08T09:51:11.772Z"
   },
   {
    "duration": 2018,
    "start_time": "2022-05-08T09:51:11.806Z"
   },
   {
    "duration": 18,
    "start_time": "2022-05-08T09:51:13.826Z"
   },
   {
    "duration": 1708,
    "start_time": "2022-05-08T09:51:13.848Z"
   },
   {
    "duration": 4,
    "start_time": "2022-05-08T09:51:15.558Z"
   },
   {
    "duration": 10,
    "start_time": "2022-05-08T09:51:15.564Z"
   },
   {
    "duration": 35,
    "start_time": "2022-05-08T09:51:15.577Z"
   },
   {
    "duration": 601,
    "start_time": "2022-05-08T09:51:15.614Z"
   },
   {
    "duration": 197,
    "start_time": "2022-05-08T09:51:16.219Z"
   },
   {
    "duration": 420,
    "start_time": "2022-05-08T09:51:16.418Z"
   },
   {
    "duration": 12,
    "start_time": "2022-05-08T09:51:16.840Z"
   },
   {
    "duration": 5,
    "start_time": "2022-05-08T09:52:17.854Z"
   },
   {
    "duration": 18,
    "start_time": "2022-05-08T09:52:17.861Z"
   },
   {
    "duration": 4,
    "start_time": "2022-05-08T09:52:17.881Z"
   },
   {
    "duration": 44,
    "start_time": "2022-05-08T09:52:17.887Z"
   },
   {
    "duration": 3,
    "start_time": "2022-05-08T09:52:17.934Z"
   },
   {
    "duration": 50,
    "start_time": "2022-05-08T09:52:17.938Z"
   },
   {
    "duration": 15,
    "start_time": "2022-05-08T09:52:18.007Z"
   },
   {
    "duration": 2048,
    "start_time": "2022-05-08T09:52:18.024Z"
   },
   {
    "duration": 18,
    "start_time": "2022-05-08T09:52:20.073Z"
   },
   {
    "duration": 1596,
    "start_time": "2022-05-08T09:52:20.093Z"
   },
   {
    "duration": 4,
    "start_time": "2022-05-08T09:52:21.691Z"
   },
   {
    "duration": 15,
    "start_time": "2022-05-08T09:52:21.697Z"
   },
   {
    "duration": 15,
    "start_time": "2022-05-08T09:52:21.713Z"
   },
   {
    "duration": 587,
    "start_time": "2022-05-08T09:52:21.731Z"
   },
   {
    "duration": 104,
    "start_time": "2022-05-08T09:52:22.408Z"
   },
   {
    "duration": 434,
    "start_time": "2022-05-08T09:52:22.514Z"
   },
   {
    "duration": 12,
    "start_time": "2022-05-08T09:52:22.950Z"
   },
   {
    "duration": 12,
    "start_time": "2022-05-08T09:55:26.687Z"
   },
   {
    "duration": 10,
    "start_time": "2022-05-08T10:00:57.151Z"
   },
   {
    "duration": 11,
    "start_time": "2022-05-08T10:00:58.807Z"
   },
   {
    "duration": 12,
    "start_time": "2022-05-08T10:03:07.956Z"
   },
   {
    "duration": 412,
    "start_time": "2022-05-08T10:03:09.708Z"
   },
   {
    "duration": 11,
    "start_time": "2022-05-08T10:03:13.356Z"
   },
   {
    "duration": 4,
    "start_time": "2022-05-08T10:06:57.409Z"
   },
   {
    "duration": 18,
    "start_time": "2022-05-08T10:06:57.416Z"
   },
   {
    "duration": 3,
    "start_time": "2022-05-08T10:06:57.436Z"
   },
   {
    "duration": 28,
    "start_time": "2022-05-08T10:06:57.441Z"
   },
   {
    "duration": 36,
    "start_time": "2022-05-08T10:06:57.472Z"
   },
   {
    "duration": 43,
    "start_time": "2022-05-08T10:06:57.510Z"
   },
   {
    "duration": 13,
    "start_time": "2022-05-08T10:06:57.556Z"
   },
   {
    "duration": 1948,
    "start_time": "2022-05-08T10:06:57.570Z"
   },
   {
    "duration": 16,
    "start_time": "2022-05-08T10:06:59.519Z"
   },
   {
    "duration": 1643,
    "start_time": "2022-05-08T10:06:59.537Z"
   },
   {
    "duration": 5,
    "start_time": "2022-05-08T10:07:01.182Z"
   },
   {
    "duration": 21,
    "start_time": "2022-05-08T10:07:01.190Z"
   },
   {
    "duration": 4,
    "start_time": "2022-05-08T10:07:01.213Z"
   },
   {
    "duration": 1087,
    "start_time": "2022-05-08T10:07:01.220Z"
   },
   {
    "duration": 98,
    "start_time": "2022-05-08T10:07:02.310Z"
   },
   {
    "duration": 399,
    "start_time": "2022-05-08T10:07:02.411Z"
   },
   {
    "duration": 12,
    "start_time": "2022-05-08T10:07:02.812Z"
   },
   {
    "duration": 10,
    "start_time": "2022-05-08T10:08:07.198Z"
   },
   {
    "duration": 5,
    "start_time": "2022-05-08T10:08:09.083Z"
   },
   {
    "duration": 22,
    "start_time": "2022-05-08T10:08:09.090Z"
   },
   {
    "duration": 4,
    "start_time": "2022-05-08T10:08:09.113Z"
   },
   {
    "duration": 28,
    "start_time": "2022-05-08T10:08:09.119Z"
   },
   {
    "duration": 3,
    "start_time": "2022-05-08T10:08:09.149Z"
   },
   {
    "duration": 90,
    "start_time": "2022-05-08T10:08:09.155Z"
   },
   {
    "duration": 16,
    "start_time": "2022-05-08T10:08:09.247Z"
   },
   {
    "duration": 2019,
    "start_time": "2022-05-08T10:08:09.264Z"
   },
   {
    "duration": 31,
    "start_time": "2022-05-08T10:08:11.285Z"
   },
   {
    "duration": 1625,
    "start_time": "2022-05-08T10:08:11.318Z"
   },
   {
    "duration": 6,
    "start_time": "2022-05-08T10:08:12.945Z"
   },
   {
    "duration": 10,
    "start_time": "2022-05-08T10:08:12.953Z"
   },
   {
    "duration": 11,
    "start_time": "2022-05-08T10:08:12.965Z"
   },
   {
    "duration": 43,
    "start_time": "2022-05-08T10:08:12.978Z"
   },
   {
    "duration": 93,
    "start_time": "2022-05-08T10:08:13.024Z"
   },
   {
    "duration": 516,
    "start_time": "2022-05-08T10:08:13.119Z"
   },
   {
    "duration": 12,
    "start_time": "2022-05-08T10:08:13.637Z"
   },
   {
    "duration": 6,
    "start_time": "2022-05-08T10:11:32.594Z"
   },
   {
    "duration": 19,
    "start_time": "2022-05-08T10:11:32.603Z"
   },
   {
    "duration": 5,
    "start_time": "2022-05-08T10:11:32.624Z"
   },
   {
    "duration": 37,
    "start_time": "2022-05-08T10:11:32.630Z"
   },
   {
    "duration": 3,
    "start_time": "2022-05-08T10:11:32.670Z"
   },
   {
    "duration": 64,
    "start_time": "2022-05-08T10:11:32.675Z"
   },
   {
    "duration": 14,
    "start_time": "2022-05-08T10:11:32.740Z"
   },
   {
    "duration": 1925,
    "start_time": "2022-05-08T10:11:32.757Z"
   },
   {
    "duration": 30,
    "start_time": "2022-05-08T10:11:34.684Z"
   },
   {
    "duration": 1516,
    "start_time": "2022-05-08T10:11:34.716Z"
   },
   {
    "duration": 6,
    "start_time": "2022-05-08T10:11:36.234Z"
   },
   {
    "duration": 7,
    "start_time": "2022-05-08T10:11:36.241Z"
   },
   {
    "duration": 11,
    "start_time": "2022-05-08T10:11:36.249Z"
   },
   {
    "duration": 154,
    "start_time": "2022-05-08T10:11:36.264Z"
   },
   {
    "duration": 100,
    "start_time": "2022-05-08T10:11:36.508Z"
   },
   {
    "duration": 387,
    "start_time": "2022-05-08T10:11:36.610Z"
   },
   {
    "duration": 15,
    "start_time": "2022-05-08T10:11:36.998Z"
   },
   {
    "duration": 5,
    "start_time": "2022-05-08T10:25:42.031Z"
   },
   {
    "duration": 26,
    "start_time": "2022-05-08T10:25:42.038Z"
   },
   {
    "duration": 4,
    "start_time": "2022-05-08T10:25:42.066Z"
   },
   {
    "duration": 28,
    "start_time": "2022-05-08T10:25:42.072Z"
   },
   {
    "duration": 3,
    "start_time": "2022-05-08T10:25:42.102Z"
   },
   {
    "duration": 46,
    "start_time": "2022-05-08T10:25:42.107Z"
   },
   {
    "duration": 12,
    "start_time": "2022-05-08T10:25:42.155Z"
   },
   {
    "duration": 1925,
    "start_time": "2022-05-08T10:25:42.169Z"
   },
   {
    "duration": 20,
    "start_time": "2022-05-08T10:25:44.096Z"
   },
   {
    "duration": 2421,
    "start_time": "2022-05-08T10:25:44.119Z"
   },
   {
    "duration": 4,
    "start_time": "2022-05-08T10:25:46.541Z"
   },
   {
    "duration": 9,
    "start_time": "2022-05-08T10:25:46.547Z"
   },
   {
    "duration": 11,
    "start_time": "2022-05-08T10:25:46.558Z"
   },
   {
    "duration": 440,
    "start_time": "2022-05-08T10:25:46.571Z"
   },
   {
    "duration": 193,
    "start_time": "2022-05-08T10:25:47.015Z"
   },
   {
    "duration": 405,
    "start_time": "2022-05-08T10:25:47.210Z"
   },
   {
    "duration": 11,
    "start_time": "2022-05-08T10:25:47.616Z"
   },
   {
    "duration": 9,
    "start_time": "2022-05-08T10:29:36.315Z"
   },
   {
    "duration": 10,
    "start_time": "2022-05-08T10:30:05.322Z"
   },
   {
    "duration": 122006,
    "start_time": "2022-05-08T10:37:27.216Z"
   },
   {
    "duration": 1123,
    "start_time": "2022-05-08T10:49:40.912Z"
   },
   {
    "duration": 6,
    "start_time": "2022-05-08T10:52:19.868Z"
   },
   {
    "duration": 22,
    "start_time": "2022-05-08T10:52:19.877Z"
   },
   {
    "duration": 5,
    "start_time": "2022-05-08T10:52:19.900Z"
   },
   {
    "duration": 38,
    "start_time": "2022-05-08T10:52:19.908Z"
   },
   {
    "duration": 3,
    "start_time": "2022-05-08T10:52:19.949Z"
   },
   {
    "duration": 57,
    "start_time": "2022-05-08T10:52:19.954Z"
   },
   {
    "duration": 14,
    "start_time": "2022-05-08T10:52:20.015Z"
   },
   {
    "duration": 2196,
    "start_time": "2022-05-08T10:52:20.031Z"
   },
   {
    "duration": 17,
    "start_time": "2022-05-08T10:52:22.228Z"
   },
   {
    "duration": 1622,
    "start_time": "2022-05-08T10:52:22.247Z"
   },
   {
    "duration": 4,
    "start_time": "2022-05-08T10:52:23.871Z"
   },
   {
    "duration": 8,
    "start_time": "2022-05-08T10:52:23.876Z"
   },
   {
    "duration": 28,
    "start_time": "2022-05-08T10:52:23.885Z"
   },
   {
    "duration": 404,
    "start_time": "2022-05-08T10:52:23.919Z"
   },
   {
    "duration": 92,
    "start_time": "2022-05-08T10:52:24.326Z"
   },
   {
    "duration": 491,
    "start_time": "2022-05-08T10:52:24.423Z"
   },
   {
    "duration": 12,
    "start_time": "2022-05-08T10:52:24.916Z"
   },
   {
    "duration": 9,
    "start_time": "2022-05-08T10:52:24.930Z"
   },
   {
    "duration": 2,
    "start_time": "2022-05-08T10:52:24.941Z"
   },
   {
    "duration": 1472,
    "start_time": "2022-05-08T10:52:24.945Z"
   },
   {
    "duration": 1144,
    "start_time": "2022-05-08T10:52:38.575Z"
   },
   {
    "duration": 1228,
    "start_time": "2022-05-08T10:52:44.085Z"
   },
   {
    "duration": 7,
    "start_time": "2022-05-08T10:54:55.659Z"
   },
   {
    "duration": 1252,
    "start_time": "2022-05-08T10:54:56.778Z"
   },
   {
    "duration": 1284,
    "start_time": "2022-05-08T10:55:53.033Z"
   },
   {
    "duration": 15,
    "start_time": "2022-05-08T10:57:45.296Z"
   },
   {
    "duration": 13,
    "start_time": "2022-05-08T10:58:55.984Z"
   },
   {
    "duration": 16,
    "start_time": "2022-05-08T10:59:25.070Z"
   },
   {
    "duration": 14,
    "start_time": "2022-05-08T10:59:27.646Z"
   },
   {
    "duration": 12,
    "start_time": "2022-05-08T11:04:02.769Z"
   },
   {
    "duration": 1505,
    "start_time": "2022-05-08T11:04:55.703Z"
   },
   {
    "duration": 15,
    "start_time": "2022-05-08T11:04:58.672Z"
   },
   {
    "duration": 1679,
    "start_time": "2022-05-08T11:07:25.636Z"
   },
   {
    "duration": 14,
    "start_time": "2022-05-08T11:07:27.406Z"
   },
   {
    "duration": 13,
    "start_time": "2022-05-08T11:09:12.731Z"
   },
   {
    "duration": 5,
    "start_time": "2022-05-08T11:09:43.070Z"
   },
   {
    "duration": 32,
    "start_time": "2022-05-08T11:09:43.077Z"
   },
   {
    "duration": 4,
    "start_time": "2022-05-08T11:09:43.111Z"
   },
   {
    "duration": 31,
    "start_time": "2022-05-08T11:09:43.117Z"
   },
   {
    "duration": 3,
    "start_time": "2022-05-08T11:09:43.149Z"
   },
   {
    "duration": 65,
    "start_time": "2022-05-08T11:09:43.154Z"
   },
   {
    "duration": 14,
    "start_time": "2022-05-08T11:09:43.221Z"
   },
   {
    "duration": 2001,
    "start_time": "2022-05-08T11:09:43.237Z"
   },
   {
    "duration": 18,
    "start_time": "2022-05-08T11:09:45.240Z"
   },
   {
    "duration": 1845,
    "start_time": "2022-05-08T11:09:45.261Z"
   },
   {
    "duration": 6,
    "start_time": "2022-05-08T11:09:47.108Z"
   },
   {
    "duration": 12,
    "start_time": "2022-05-08T11:09:47.116Z"
   },
   {
    "duration": 21,
    "start_time": "2022-05-08T11:09:47.130Z"
   },
   {
    "duration": 155,
    "start_time": "2022-05-08T11:09:47.156Z"
   },
   {
    "duration": 103,
    "start_time": "2022-05-08T11:09:47.313Z"
   },
   {
    "duration": 536,
    "start_time": "2022-05-08T11:09:47.420Z"
   },
   {
    "duration": 13,
    "start_time": "2022-05-08T11:09:47.958Z"
   },
   {
    "duration": 13,
    "start_time": "2022-05-08T11:09:47.974Z"
   },
   {
    "duration": 19,
    "start_time": "2022-05-08T11:09:47.989Z"
   },
   {
    "duration": 1516,
    "start_time": "2022-05-08T11:09:48.010Z"
   },
   {
    "duration": 15,
    "start_time": "2022-05-08T11:09:49.608Z"
   },
   {
    "duration": 5,
    "start_time": "2022-05-08T11:10:22.016Z"
   },
   {
    "duration": 17,
    "start_time": "2022-05-08T11:10:22.022Z"
   },
   {
    "duration": 4,
    "start_time": "2022-05-08T11:10:22.041Z"
   },
   {
    "duration": 30,
    "start_time": "2022-05-08T11:10:22.046Z"
   },
   {
    "duration": 3,
    "start_time": "2022-05-08T11:10:22.078Z"
   },
   {
    "duration": 65,
    "start_time": "2022-05-08T11:10:22.083Z"
   },
   {
    "duration": 14,
    "start_time": "2022-05-08T11:10:22.149Z"
   },
   {
    "duration": 1921,
    "start_time": "2022-05-08T11:10:22.164Z"
   },
   {
    "duration": 26,
    "start_time": "2022-05-08T11:10:24.087Z"
   },
   {
    "duration": 1642,
    "start_time": "2022-05-08T11:10:24.115Z"
   },
   {
    "duration": 4,
    "start_time": "2022-05-08T11:10:25.759Z"
   },
   {
    "duration": 8,
    "start_time": "2022-05-08T11:10:25.764Z"
   },
   {
    "duration": 9,
    "start_time": "2022-05-08T11:10:25.774Z"
   },
   {
    "duration": 226,
    "start_time": "2022-05-08T11:10:25.785Z"
   },
   {
    "duration": 194,
    "start_time": "2022-05-08T11:10:26.013Z"
   },
   {
    "duration": 381,
    "start_time": "2022-05-08T11:10:26.209Z"
   },
   {
    "duration": 19,
    "start_time": "2022-05-08T11:10:26.592Z"
   },
   {
    "duration": 8,
    "start_time": "2022-05-08T11:10:26.613Z"
   },
   {
    "duration": 2,
    "start_time": "2022-05-08T11:10:26.623Z"
   },
   {
    "duration": 1481,
    "start_time": "2022-05-08T11:10:26.627Z"
   },
   {
    "duration": 100,
    "start_time": "2022-05-08T11:10:28.110Z"
   },
   {
    "duration": 5,
    "start_time": "2022-05-08T11:10:34.298Z"
   },
   {
    "duration": 24,
    "start_time": "2022-05-08T11:10:34.305Z"
   },
   {
    "duration": 6,
    "start_time": "2022-05-08T11:10:34.330Z"
   },
   {
    "duration": 31,
    "start_time": "2022-05-08T11:10:34.337Z"
   },
   {
    "duration": 4,
    "start_time": "2022-05-08T11:10:34.371Z"
   },
   {
    "duration": 58,
    "start_time": "2022-05-08T11:10:34.376Z"
   },
   {
    "duration": 14,
    "start_time": "2022-05-08T11:10:34.436Z"
   },
   {
    "duration": 1894,
    "start_time": "2022-05-08T11:10:34.452Z"
   },
   {
    "duration": 16,
    "start_time": "2022-05-08T11:10:36.348Z"
   },
   {
    "duration": 1561,
    "start_time": "2022-05-08T11:10:36.367Z"
   },
   {
    "duration": 4,
    "start_time": "2022-05-08T11:10:37.930Z"
   },
   {
    "duration": 7,
    "start_time": "2022-05-08T11:10:37.936Z"
   },
   {
    "duration": 11,
    "start_time": "2022-05-08T11:10:37.944Z"
   },
   {
    "duration": 160,
    "start_time": "2022-05-08T11:10:37.957Z"
   },
   {
    "duration": 104,
    "start_time": "2022-05-08T11:10:38.209Z"
   },
   {
    "duration": 389,
    "start_time": "2022-05-08T11:10:38.315Z"
   },
   {
    "duration": 11,
    "start_time": "2022-05-08T11:10:38.706Z"
   },
   {
    "duration": 9,
    "start_time": "2022-05-08T11:10:38.718Z"
   },
   {
    "duration": 3,
    "start_time": "2022-05-08T11:10:38.729Z"
   },
   {
    "duration": 1579,
    "start_time": "2022-05-08T11:10:38.733Z"
   },
   {
    "duration": 101,
    "start_time": "2022-05-08T11:10:40.315Z"
   },
   {
    "duration": 5,
    "start_time": "2022-05-08T11:12:23.589Z"
   },
   {
    "duration": 19,
    "start_time": "2022-05-08T11:12:23.596Z"
   },
   {
    "duration": 4,
    "start_time": "2022-05-08T11:12:23.616Z"
   },
   {
    "duration": 28,
    "start_time": "2022-05-08T11:12:23.622Z"
   },
   {
    "duration": 3,
    "start_time": "2022-05-08T11:12:23.653Z"
   },
   {
    "duration": 67,
    "start_time": "2022-05-08T11:12:23.658Z"
   },
   {
    "duration": 13,
    "start_time": "2022-05-08T11:12:23.726Z"
   },
   {
    "duration": 1946,
    "start_time": "2022-05-08T11:12:23.740Z"
   },
   {
    "duration": 26,
    "start_time": "2022-05-08T11:12:25.688Z"
   },
   {
    "duration": 1528,
    "start_time": "2022-05-08T11:12:25.715Z"
   },
   {
    "duration": 4,
    "start_time": "2022-05-08T11:12:27.245Z"
   },
   {
    "duration": 14,
    "start_time": "2022-05-08T11:12:27.252Z"
   },
   {
    "duration": 9,
    "start_time": "2022-05-08T11:12:27.268Z"
   },
   {
    "duration": 137,
    "start_time": "2022-05-08T11:12:27.280Z"
   },
   {
    "duration": 103,
    "start_time": "2022-05-08T11:12:27.508Z"
   },
   {
    "duration": 389,
    "start_time": "2022-05-08T11:12:27.613Z"
   },
   {
    "duration": 11,
    "start_time": "2022-05-08T11:12:28.003Z"
   },
   {
    "duration": 9,
    "start_time": "2022-05-08T11:12:28.015Z"
   },
   {
    "duration": 2,
    "start_time": "2022-05-08T11:12:28.026Z"
   },
   {
    "duration": 1578,
    "start_time": "2022-05-08T11:12:28.030Z"
   },
   {
    "duration": 13,
    "start_time": "2022-05-08T11:12:29.610Z"
   },
   {
    "duration": 7793,
    "start_time": "2022-05-08T11:33:38.980Z"
   },
   {
    "duration": 1487,
    "start_time": "2022-05-08T11:34:06.565Z"
   },
   {
    "duration": 1662,
    "start_time": "2022-05-08T11:34:27.604Z"
   },
   {
    "duration": 1829,
    "start_time": "2022-05-08T11:36:01.602Z"
   },
   {
    "duration": 1260,
    "start_time": "2022-05-08T11:36:17.697Z"
   },
   {
    "duration": 1699,
    "start_time": "2022-05-08T11:36:22.432Z"
   },
   {
    "duration": 1715,
    "start_time": "2022-05-08T11:36:27.919Z"
   },
   {
    "duration": 1511,
    "start_time": "2022-05-08T11:36:42.928Z"
   },
   {
    "duration": 1686,
    "start_time": "2022-05-08T11:36:50.265Z"
   },
   {
    "duration": 1696,
    "start_time": "2022-05-08T11:37:14.016Z"
   },
   {
    "duration": 1639,
    "start_time": "2022-05-08T11:37:29.032Z"
   },
   {
    "duration": 1466,
    "start_time": "2022-05-08T11:37:40.518Z"
   },
   {
    "duration": 59,
    "start_time": "2022-05-08T11:39:23.821Z"
   },
   {
    "duration": 2391,
    "start_time": "2022-05-08T11:39:42.269Z"
   },
   {
    "duration": 1448,
    "start_time": "2022-05-08T11:39:54.261Z"
   },
   {
    "duration": 1523,
    "start_time": "2022-05-08T11:40:04.893Z"
   },
   {
    "duration": 51,
    "start_time": "2022-05-09T09:31:41.917Z"
   },
   {
    "duration": 1875,
    "start_time": "2022-05-09T09:31:45.034Z"
   },
   {
    "duration": 22,
    "start_time": "2022-05-09T09:31:46.912Z"
   },
   {
    "duration": 4,
    "start_time": "2022-05-09T09:31:46.936Z"
   },
   {
    "duration": 43,
    "start_time": "2022-05-09T09:31:46.941Z"
   },
   {
    "duration": 3,
    "start_time": "2022-05-09T09:31:46.986Z"
   },
   {
    "duration": 73,
    "start_time": "2022-05-09T09:31:46.991Z"
   },
   {
    "duration": 14,
    "start_time": "2022-05-09T09:31:47.066Z"
   },
   {
    "duration": 1968,
    "start_time": "2022-05-09T09:31:47.081Z"
   },
   {
    "duration": 16,
    "start_time": "2022-05-09T09:31:49.051Z"
   },
   {
    "duration": 1736,
    "start_time": "2022-05-09T09:31:49.069Z"
   },
   {
    "duration": 4,
    "start_time": "2022-05-09T09:31:50.807Z"
   },
   {
    "duration": 15,
    "start_time": "2022-05-09T09:31:50.813Z"
   },
   {
    "duration": 14,
    "start_time": "2022-05-09T09:31:50.830Z"
   },
   {
    "duration": 191,
    "start_time": "2022-05-09T09:31:50.847Z"
   },
   {
    "duration": 194,
    "start_time": "2022-05-09T09:31:51.041Z"
   },
   {
    "duration": 395,
    "start_time": "2022-05-09T09:31:51.236Z"
   },
   {
    "duration": 9,
    "start_time": "2022-05-09T09:31:51.633Z"
   },
   {
    "duration": 10,
    "start_time": "2022-05-09T09:31:51.644Z"
   },
   {
    "duration": 2,
    "start_time": "2022-05-09T09:31:51.656Z"
   },
   {
    "duration": 1481,
    "start_time": "2022-05-09T09:31:51.660Z"
   },
   {
    "duration": 100,
    "start_time": "2022-05-09T09:31:53.144Z"
   },
   {
    "duration": 1630,
    "start_time": "2022-05-09T09:31:53.246Z"
   },
   {
    "duration": 1689,
    "start_time": "2022-05-09T09:31:54.878Z"
   },
   {
    "duration": 1734,
    "start_time": "2022-05-09T09:31:56.568Z"
   },
   {
    "duration": 1612,
    "start_time": "2022-05-09T09:31:58.303Z"
   },
   {
    "duration": 1716,
    "start_time": "2022-05-09T09:31:59.917Z"
   },
   {
    "duration": 968,
    "start_time": "2022-05-09T09:32:01.635Z"
   },
   {
    "duration": 166,
    "start_time": "2022-05-09T09:33:19.529Z"
   },
   {
    "duration": 176,
    "start_time": "2022-05-09T09:33:30.984Z"
   },
   {
    "duration": 83,
    "start_time": "2022-05-09T09:34:32.719Z"
   },
   {
    "duration": 10,
    "start_time": "2022-05-09T09:34:43.030Z"
   },
   {
    "duration": 9,
    "start_time": "2022-05-09T09:35:50.238Z"
   },
   {
    "duration": 5782,
    "start_time": "2022-05-09T09:35:58.518Z"
   },
   {
    "duration": 1702,
    "start_time": "2022-05-09T09:40:21.756Z"
   },
   {
    "duration": 22,
    "start_time": "2022-05-09T09:40:23.460Z"
   },
   {
    "duration": 4,
    "start_time": "2022-05-09T09:40:23.484Z"
   },
   {
    "duration": 35,
    "start_time": "2022-05-09T09:40:23.489Z"
   },
   {
    "duration": 14,
    "start_time": "2022-05-09T09:40:23.527Z"
   },
   {
    "duration": 49,
    "start_time": "2022-05-09T09:40:23.543Z"
   },
   {
    "duration": 13,
    "start_time": "2022-05-09T09:40:23.594Z"
   },
   {
    "duration": 2034,
    "start_time": "2022-05-09T09:40:23.609Z"
   },
   {
    "duration": 19,
    "start_time": "2022-05-09T09:40:25.645Z"
   },
   {
    "duration": 1729,
    "start_time": "2022-05-09T09:40:25.666Z"
   },
   {
    "duration": 5,
    "start_time": "2022-05-09T09:40:27.396Z"
   },
   {
    "duration": 7,
    "start_time": "2022-05-09T09:40:27.403Z"
   },
   {
    "duration": 33,
    "start_time": "2022-05-09T09:40:27.412Z"
   },
   {
    "duration": 302,
    "start_time": "2022-05-09T09:40:27.448Z"
   },
   {
    "duration": 100,
    "start_time": "2022-05-09T09:40:27.753Z"
   },
   {
    "duration": 413,
    "start_time": "2022-05-09T09:40:27.945Z"
   },
   {
    "duration": 9,
    "start_time": "2022-05-09T09:40:28.360Z"
   },
   {
    "duration": 9,
    "start_time": "2022-05-09T09:40:28.371Z"
   },
   {
    "duration": 4,
    "start_time": "2022-05-09T09:40:28.382Z"
   },
   {
    "duration": 1345,
    "start_time": "2022-05-09T09:40:28.388Z"
   },
   {
    "duration": 15,
    "start_time": "2022-05-09T09:40:29.735Z"
   },
   {
    "duration": 1746,
    "start_time": "2022-05-09T09:40:29.752Z"
   },
   {
    "duration": 2804,
    "start_time": "2022-05-09T09:40:31.499Z"
   },
   {
    "duration": 1761,
    "start_time": "2022-05-09T09:40:34.305Z"
   },
   {
    "duration": 1713,
    "start_time": "2022-05-09T09:40:36.068Z"
   },
   {
    "duration": 1763,
    "start_time": "2022-05-09T09:40:37.782Z"
   },
   {
    "duration": 1722,
    "start_time": "2022-05-09T09:42:37.326Z"
   },
   {
    "duration": 32,
    "start_time": "2022-05-09T09:42:39.050Z"
   },
   {
    "duration": 4,
    "start_time": "2022-05-09T09:42:39.084Z"
   },
   {
    "duration": 60,
    "start_time": "2022-05-09T09:42:39.090Z"
   },
   {
    "duration": 29,
    "start_time": "2022-05-09T09:42:39.152Z"
   },
   {
    "duration": 73,
    "start_time": "2022-05-09T09:42:39.183Z"
   },
   {
    "duration": 14,
    "start_time": "2022-05-09T09:42:39.257Z"
   },
   {
    "duration": 2015,
    "start_time": "2022-05-09T09:42:39.273Z"
   },
   {
    "duration": 16,
    "start_time": "2022-05-09T09:42:41.290Z"
   },
   {
    "duration": 1739,
    "start_time": "2022-05-09T09:42:41.308Z"
   },
   {
    "duration": 4,
    "start_time": "2022-05-09T09:42:43.049Z"
   },
   {
    "duration": 10,
    "start_time": "2022-05-09T09:42:43.055Z"
   },
   {
    "duration": 16,
    "start_time": "2022-05-09T09:42:43.067Z"
   },
   {
    "duration": 468,
    "start_time": "2022-05-09T09:42:43.087Z"
   },
   {
    "duration": 108,
    "start_time": "2022-05-09T09:42:43.636Z"
   },
   {
    "duration": 396,
    "start_time": "2022-05-09T09:42:43.746Z"
   },
   {
    "duration": 9,
    "start_time": "2022-05-09T09:42:44.150Z"
   },
   {
    "duration": 17,
    "start_time": "2022-05-09T09:42:44.161Z"
   },
   {
    "duration": 9,
    "start_time": "2022-05-09T09:42:44.179Z"
   },
   {
    "duration": 1058,
    "start_time": "2022-05-09T09:42:44.189Z"
   },
   {
    "duration": 95,
    "start_time": "2022-05-09T09:42:45.251Z"
   },
   {
    "duration": 1718,
    "start_time": "2022-05-09T09:42:45.348Z"
   },
   {
    "duration": 1762,
    "start_time": "2022-05-09T09:42:47.067Z"
   },
   {
    "duration": 1784,
    "start_time": "2022-05-09T09:42:48.831Z"
   },
   {
    "duration": 1643,
    "start_time": "2022-05-09T09:42:50.616Z"
   },
   {
    "duration": 1687,
    "start_time": "2022-05-09T09:42:52.261Z"
   },
   {
    "duration": 1738,
    "start_time": "2022-05-09T09:45:34.056Z"
   },
   {
    "duration": 32,
    "start_time": "2022-05-09T09:45:35.796Z"
   },
   {
    "duration": 8,
    "start_time": "2022-05-09T09:45:35.830Z"
   },
   {
    "duration": 35,
    "start_time": "2022-05-09T09:45:35.840Z"
   },
   {
    "duration": 3,
    "start_time": "2022-05-09T09:45:35.878Z"
   },
   {
    "duration": 70,
    "start_time": "2022-05-09T09:45:35.883Z"
   },
   {
    "duration": 14,
    "start_time": "2022-05-09T09:45:35.954Z"
   },
   {
    "duration": 2078,
    "start_time": "2022-05-09T09:45:35.970Z"
   },
   {
    "duration": 18,
    "start_time": "2022-05-09T09:45:38.050Z"
   },
   {
    "duration": 1754,
    "start_time": "2022-05-09T09:45:38.071Z"
   },
   {
    "duration": 5,
    "start_time": "2022-05-09T09:45:39.827Z"
   },
   {
    "duration": 25,
    "start_time": "2022-05-09T09:45:39.836Z"
   },
   {
    "duration": 14,
    "start_time": "2022-05-09T09:45:39.863Z"
   },
   {
    "duration": 365,
    "start_time": "2022-05-09T09:45:39.880Z"
   },
   {
    "duration": 199,
    "start_time": "2022-05-09T09:45:40.248Z"
   },
   {
    "duration": 393,
    "start_time": "2022-05-09T09:45:40.449Z"
   },
   {
    "duration": 10,
    "start_time": "2022-05-09T09:45:40.845Z"
   },
   {
    "duration": 11,
    "start_time": "2022-05-09T09:45:40.857Z"
   },
   {
    "duration": 6,
    "start_time": "2022-05-09T09:45:40.869Z"
   },
   {
    "duration": 1175,
    "start_time": "2022-05-09T09:45:40.877Z"
   },
   {
    "duration": 16,
    "start_time": "2022-05-09T09:45:42.134Z"
   },
   {
    "duration": 1706,
    "start_time": "2022-05-09T09:45:42.152Z"
   },
   {
    "duration": 1769,
    "start_time": "2022-05-09T09:45:43.860Z"
   },
   {
    "duration": 1812,
    "start_time": "2022-05-09T09:45:45.630Z"
   },
   {
    "duration": 1725,
    "start_time": "2022-05-09T09:45:47.444Z"
   },
   {
    "duration": 1718,
    "start_time": "2022-05-09T09:45:49.171Z"
   },
   {
    "duration": 355190,
    "start_time": "2022-05-09T09:45:50.890Z"
   },
   {
    "duration": 5,
    "start_time": "2022-05-09T09:58:50.402Z"
   },
   {
    "duration": 27,
    "start_time": "2022-05-09T09:58:50.409Z"
   },
   {
    "duration": 4,
    "start_time": "2022-05-09T09:58:50.438Z"
   },
   {
    "duration": 35,
    "start_time": "2022-05-09T09:58:50.445Z"
   },
   {
    "duration": 3,
    "start_time": "2022-05-09T09:58:50.482Z"
   },
   {
    "duration": 67,
    "start_time": "2022-05-09T09:58:50.487Z"
   },
   {
    "duration": 14,
    "start_time": "2022-05-09T09:58:50.556Z"
   },
   {
    "duration": 1894,
    "start_time": "2022-05-09T09:58:50.572Z"
   },
   {
    "duration": 17,
    "start_time": "2022-05-09T09:58:52.467Z"
   },
   {
    "duration": 1658,
    "start_time": "2022-05-09T09:58:52.487Z"
   },
   {
    "duration": 4,
    "start_time": "2022-05-09T09:58:54.147Z"
   },
   {
    "duration": 12,
    "start_time": "2022-05-09T09:58:54.153Z"
   },
   {
    "duration": 12,
    "start_time": "2022-05-09T09:58:54.166Z"
   },
   {
    "duration": 163,
    "start_time": "2022-05-09T09:58:54.180Z"
   },
   {
    "duration": 103,
    "start_time": "2022-05-09T09:58:54.435Z"
   },
   {
    "duration": 396,
    "start_time": "2022-05-09T09:58:54.539Z"
   },
   {
    "duration": 9,
    "start_time": "2022-05-09T09:58:54.937Z"
   },
   {
    "duration": 9,
    "start_time": "2022-05-09T09:58:54.947Z"
   },
   {
    "duration": 122919,
    "start_time": "2022-05-09T09:58:54.957Z"
   },
   {
    "duration": 1465,
    "start_time": "2022-05-09T10:00:57.877Z"
   },
   {
    "duration": 17,
    "start_time": "2022-05-09T10:00:59.434Z"
   },
   {
    "duration": 1844,
    "start_time": "2022-05-09T10:00:59.452Z"
   },
   {
    "duration": 1598,
    "start_time": "2022-05-09T10:01:01.298Z"
   },
   {
    "duration": 1735,
    "start_time": "2022-05-09T10:01:02.897Z"
   },
   {
    "duration": 1743,
    "start_time": "2022-05-09T10:01:04.634Z"
   },
   {
    "duration": 1658,
    "start_time": "2022-05-09T10:01:06.379Z"
   },
   {
    "duration": 339380,
    "start_time": "2022-05-09T10:01:08.039Z"
   },
   {
    "duration": 1800,
    "start_time": "2022-05-10T13:20:07.882Z"
   },
   {
    "duration": 17,
    "start_time": "2022-05-10T13:20:09.685Z"
   },
   {
    "duration": 4,
    "start_time": "2022-05-10T13:20:09.703Z"
   },
   {
    "duration": 32,
    "start_time": "2022-05-10T13:20:09.709Z"
   },
   {
    "duration": 3,
    "start_time": "2022-05-10T13:20:09.742Z"
   },
   {
    "duration": 44,
    "start_time": "2022-05-10T13:20:09.754Z"
   },
   {
    "duration": 12,
    "start_time": "2022-05-10T13:20:09.800Z"
   },
   {
    "duration": 1816,
    "start_time": "2022-05-10T13:20:09.814Z"
   },
   {
    "duration": 26,
    "start_time": "2022-05-10T13:20:11.632Z"
   },
   {
    "duration": 1455,
    "start_time": "2022-05-10T13:20:11.661Z"
   },
   {
    "duration": 5,
    "start_time": "2022-05-10T13:20:13.118Z"
   },
   {
    "duration": 7,
    "start_time": "2022-05-10T13:20:13.125Z"
   },
   {
    "duration": 24,
    "start_time": "2022-05-10T13:20:13.133Z"
   },
   {
    "duration": 496,
    "start_time": "2022-05-10T13:20:13.159Z"
   },
   {
    "duration": 99,
    "start_time": "2022-05-10T13:20:13.657Z"
   },
   {
    "duration": 372,
    "start_time": "2022-05-10T13:20:13.757Z"
   },
   {
    "duration": 10,
    "start_time": "2022-05-10T13:20:14.130Z"
   },
   {
    "duration": 20,
    "start_time": "2022-05-10T13:20:14.141Z"
   },
   {
    "duration": 117346,
    "start_time": "2022-05-10T13:20:14.164Z"
   },
   {
    "duration": 1044,
    "start_time": "2022-05-10T13:22:11.512Z"
   },
   {
    "duration": 103,
    "start_time": "2022-05-10T13:22:12.559Z"
   },
   {
    "duration": 1689,
    "start_time": "2022-05-10T13:22:12.665Z"
   },
   {
    "duration": 1442,
    "start_time": "2022-05-10T13:22:14.356Z"
   },
   {
    "duration": 1640,
    "start_time": "2022-05-10T13:22:15.800Z"
   },
   {
    "duration": 1571,
    "start_time": "2022-05-10T13:22:17.441Z"
   },
   {
    "duration": 1456,
    "start_time": "2022-05-10T13:22:19.014Z"
   },
   {
    "duration": 343308,
    "start_time": "2022-05-10T13:22:20.472Z"
   },
   {
    "duration": 163,
    "start_time": "2022-05-10T14:40:09.987Z"
   },
   {
    "duration": 165,
    "start_time": "2022-05-10T14:50:55.977Z"
   },
   {
    "duration": 1428,
    "start_time": "2022-05-20T07:20:26.450Z"
   },
   {
    "duration": 136,
    "start_time": "2022-05-20T07:20:27.880Z"
   },
   {
    "duration": 4,
    "start_time": "2022-05-20T07:20:28.017Z"
   },
   {
    "duration": 37,
    "start_time": "2022-05-20T07:20:28.023Z"
   },
   {
    "duration": 2,
    "start_time": "2022-05-20T07:20:28.062Z"
   },
   {
    "duration": 53,
    "start_time": "2022-05-20T07:20:28.066Z"
   },
   {
    "duration": 11,
    "start_time": "2022-05-20T07:20:28.121Z"
   },
   {
    "duration": 1696,
    "start_time": "2022-05-20T07:20:28.133Z"
   },
   {
    "duration": 14,
    "start_time": "2022-05-20T07:20:29.830Z"
   },
   {
    "duration": 1501,
    "start_time": "2022-05-20T07:20:29.847Z"
   },
   {
    "duration": 4,
    "start_time": "2022-05-20T07:20:31.350Z"
   },
   {
    "duration": 22,
    "start_time": "2022-05-20T07:20:31.356Z"
   },
   {
    "duration": 30,
    "start_time": "2022-05-20T07:20:31.379Z"
   },
   {
    "duration": 150,
    "start_time": "2022-05-20T07:20:31.410Z"
   },
   {
    "duration": 120,
    "start_time": "2022-05-20T07:20:31.562Z"
   },
   {
    "duration": 442,
    "start_time": "2022-05-20T07:20:31.684Z"
   },
   {
    "duration": 10,
    "start_time": "2022-05-20T07:20:32.128Z"
   },
   {
    "duration": 47,
    "start_time": "2022-05-20T07:20:32.139Z"
   },
   {
    "duration": 112685,
    "start_time": "2022-05-20T07:20:32.187Z"
   },
   {
    "duration": 1187,
    "start_time": "2022-05-20T07:22:24.874Z"
   },
   {
    "duration": 105,
    "start_time": "2022-05-20T07:22:26.063Z"
   },
   {
    "duration": 1767,
    "start_time": "2022-05-20T07:22:26.169Z"
   },
   {
    "duration": 1468,
    "start_time": "2022-05-20T07:22:27.938Z"
   },
   {
    "duration": 1364,
    "start_time": "2022-05-20T07:22:29.408Z"
   },
   {
    "duration": 1603,
    "start_time": "2022-05-20T07:22:30.773Z"
   },
   {
    "duration": 1426,
    "start_time": "2022-05-20T07:22:32.377Z"
   },
   {
    "duration": 355257,
    "start_time": "2022-05-20T07:22:33.805Z"
   }
  ],
  "kernelspec": {
   "display_name": "Python 3 (ipykernel)",
   "language": "python",
   "name": "python3"
  },
  "language_info": {
   "codemirror_mode": {
    "name": "ipython",
    "version": 3
   },
   "file_extension": ".py",
   "mimetype": "text/x-python",
   "name": "python",
   "nbconvert_exporter": "python",
   "pygments_lexer": "ipython3",
   "version": "3.9.7"
  },
  "toc": {
   "base_numbering": 1,
   "nav_menu": {},
   "number_sections": true,
   "sideBar": true,
   "skip_h1_title": true,
   "title_cell": "Table of Contents",
   "title_sidebar": "Contents",
   "toc_cell": false,
   "toc_position": {
    "height": "calc(100% - 180px)",
    "left": "10px",
    "top": "150px",
    "width": "447.797px"
   },
   "toc_section_display": true,
   "toc_window_display": true
  }
 },
 "nbformat": 4,
 "nbformat_minor": 2
}
