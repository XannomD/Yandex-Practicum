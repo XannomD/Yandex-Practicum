{
 "cells": [
  {
   "cell_type": "markdown",
   "id": "18634081",
   "metadata": {},
   "source": [
    "# Исследование и анализ поведения пользователей мобильного приложения\n",
    "\n",
    "Мы работаете аналитиком в Яндекс.Дзене.\n",
    "\n",
    "\n",
    "Цель: нам надо автоматизировать анализ пользовательского взаимодействия с карточками статей.\n",
    "Для этого нам надо ответить на вопросы:\n",
    "* Сколько взаимодействий пользователей с карточками происходит в системе с разбивкой по темам карточек?\n",
    "* Как много карточек генерируют источники с разными темами?\n",
    "* Как соотносятся темы карточек и темы источников?"
   ]
  },
  {
   "cell_type": "code",
   "execution_count": 1,
   "id": "5dcd4496",
   "metadata": {},
   "outputs": [
    {
     "name": "stdout",
     "output_type": "stream",
     "text": [
      "Requirement already satisfied: psycopg2 in c:\\users\\denis\\anaconda3\\lib\\site-packages (2.9.3)\n"
     ]
    }
   ],
   "source": [
    "import pandas as pd\n",
    "from sqlalchemy import create_engine\n",
    "!pip install psycopg2\n",
    "import warnings \n",
    "warnings.simplefilter('ignore')\n",
    "db_config = {'user': 'praktikum_student', # имя пользователя\n",
    "            'pwd': 'Sdf4$2;d-d30pp', # пароль\n",
    "            'host': 'rc1b-wcoijxj3yxfsf3fs.mdb.yandexcloud.net',\n",
    "            'port': 6432, # порт подключения\n",
    "            'db': 'data-analyst-zen-project-db'} # название базы данных\n",
    "\n",
    "connection_string = 'postgresql://{}:{}@{}:{}/{}'.format(db_config['user'],\n",
    "                                                db_config['pwd'],\n",
    "                                                db_config['host'],\n",
    "                                                db_config['port'],\n",
    "                                                db_config['db'])\n",
    "\n",
    "engine = create_engine(connection_string)\n",
    "\n",
    "query = ''' SELECT *\n",
    "            FROM dash_visits\n",
    "        ''' \n",
    "dash_visits=pd.io.sql.read_sql(query, con = engine) \n",
    "\n",
    "dash_visits.to_csv('dash_visits.csv', index=False)"
   ]
  },
  {
   "cell_type": "code",
   "execution_count": 2,
   "id": "1ef6573b",
   "metadata": {},
   "outputs": [],
   "source": [
    "def info_data(dash_visits):\n",
    "    print('\\033[1m' + 'Информация, включающая записи датасета:' + '\\033[0m')\n",
    "    display (dash_visits.sample(10))\n",
    "    print('\\033[1m' + 'Информация о датасете:' + '\\033[0m\\n')\n",
    "    dash_visits.info()\n",
    "    print('\\033[1m' + '\\nДубликатов в таблице:' + '\\033[0m', dash_visits.duplicated().sum())\n",
    "    print('\\033[1m' + '\\nПодсчет пропусков:' + '\\033[0m\\n', dash_visits.isna().sum())"
   ]
  },
  {
   "cell_type": "code",
   "execution_count": 3,
   "id": "e5e1341e",
   "metadata": {},
   "outputs": [
    {
     "name": "stdout",
     "output_type": "stream",
     "text": [
      "\u001b[1mИнформация, включающая записи датасета:\u001b[0m\n"
     ]
    },
    {
     "data": {
      "text/html": [
       "<div>\n",
       "<style scoped>\n",
       "    .dataframe tbody tr th:only-of-type {\n",
       "        vertical-align: middle;\n",
       "    }\n",
       "\n",
       "    .dataframe tbody tr th {\n",
       "        vertical-align: top;\n",
       "    }\n",
       "\n",
       "    .dataframe thead th {\n",
       "        text-align: right;\n",
       "    }\n",
       "</style>\n",
       "<table border=\"1\" class=\"dataframe\">\n",
       "  <thead>\n",
       "    <tr style=\"text-align: right;\">\n",
       "      <th></th>\n",
       "      <th>record_id</th>\n",
       "      <th>item_topic</th>\n",
       "      <th>source_topic</th>\n",
       "      <th>age_segment</th>\n",
       "      <th>dt</th>\n",
       "      <th>visits</th>\n",
       "    </tr>\n",
       "  </thead>\n",
       "  <tbody>\n",
       "    <tr>\n",
       "      <th>27970</th>\n",
       "      <td>1068567</td>\n",
       "      <td>Туризм</td>\n",
       "      <td>История</td>\n",
       "      <td>18-25</td>\n",
       "      <td>2019-09-24 18:31:00</td>\n",
       "      <td>5</td>\n",
       "    </tr>\n",
       "    <tr>\n",
       "      <th>22630</th>\n",
       "      <td>1063227</td>\n",
       "      <td>Путешествия</td>\n",
       "      <td>Семейные отношения</td>\n",
       "      <td>45+</td>\n",
       "      <td>2019-09-24 18:58:00</td>\n",
       "      <td>4</td>\n",
       "    </tr>\n",
       "    <tr>\n",
       "      <th>26072</th>\n",
       "      <td>1066669</td>\n",
       "      <td>Семья</td>\n",
       "      <td>Психология</td>\n",
       "      <td>36-40</td>\n",
       "      <td>2019-09-24 18:55:00</td>\n",
       "      <td>3</td>\n",
       "    </tr>\n",
       "    <tr>\n",
       "      <th>26734</th>\n",
       "      <td>1067331</td>\n",
       "      <td>Скандалы</td>\n",
       "      <td>Знаменитости</td>\n",
       "      <td>18-25</td>\n",
       "      <td>2019-09-24 18:52:00</td>\n",
       "      <td>5</td>\n",
       "    </tr>\n",
       "    <tr>\n",
       "      <th>1691</th>\n",
       "      <td>1042288</td>\n",
       "      <td>Дети</td>\n",
       "      <td>История</td>\n",
       "      <td>41-45</td>\n",
       "      <td>2019-09-24 18:54:00</td>\n",
       "      <td>3</td>\n",
       "    </tr>\n",
       "    <tr>\n",
       "      <th>1322</th>\n",
       "      <td>1041919</td>\n",
       "      <td>Дети</td>\n",
       "      <td>Деньги</td>\n",
       "      <td>45+</td>\n",
       "      <td>2019-09-24 18:56:00</td>\n",
       "      <td>1</td>\n",
       "    </tr>\n",
       "    <tr>\n",
       "      <th>21857</th>\n",
       "      <td>1062454</td>\n",
       "      <td>Путешествия</td>\n",
       "      <td>Знаменитости</td>\n",
       "      <td>36-40</td>\n",
       "      <td>2019-09-24 18:31:00</td>\n",
       "      <td>1</td>\n",
       "    </tr>\n",
       "    <tr>\n",
       "      <th>16934</th>\n",
       "      <td>1057531</td>\n",
       "      <td>Отношения</td>\n",
       "      <td>Психология</td>\n",
       "      <td>18-25</td>\n",
       "      <td>2019-09-24 19:00:00</td>\n",
       "      <td>3</td>\n",
       "    </tr>\n",
       "    <tr>\n",
       "      <th>29910</th>\n",
       "      <td>1070507</td>\n",
       "      <td>Юмор</td>\n",
       "      <td>Искусство</td>\n",
       "      <td>41-45</td>\n",
       "      <td>2019-09-24 18:59:00</td>\n",
       "      <td>4</td>\n",
       "    </tr>\n",
       "    <tr>\n",
       "      <th>5022</th>\n",
       "      <td>1045619</td>\n",
       "      <td>Здоровье</td>\n",
       "      <td>Кино</td>\n",
       "      <td>18-25</td>\n",
       "      <td>2019-09-24 18:57:00</td>\n",
       "      <td>9</td>\n",
       "    </tr>\n",
       "  </tbody>\n",
       "</table>\n",
       "</div>"
      ],
      "text/plain": [
       "       record_id   item_topic        source_topic age_segment  \\\n",
       "27970    1068567       Туризм             История       18-25   \n",
       "22630    1063227  Путешествия  Семейные отношения         45+   \n",
       "26072    1066669        Семья          Психология       36-40   \n",
       "26734    1067331     Скандалы        Знаменитости       18-25   \n",
       "1691     1042288         Дети             История       41-45   \n",
       "1322     1041919         Дети              Деньги         45+   \n",
       "21857    1062454  Путешествия        Знаменитости       36-40   \n",
       "16934    1057531    Отношения          Психология       18-25   \n",
       "29910    1070507         Юмор           Искусство       41-45   \n",
       "5022     1045619     Здоровье                Кино       18-25   \n",
       "\n",
       "                       dt  visits  \n",
       "27970 2019-09-24 18:31:00       5  \n",
       "22630 2019-09-24 18:58:00       4  \n",
       "26072 2019-09-24 18:55:00       3  \n",
       "26734 2019-09-24 18:52:00       5  \n",
       "1691  2019-09-24 18:54:00       3  \n",
       "1322  2019-09-24 18:56:00       1  \n",
       "21857 2019-09-24 18:31:00       1  \n",
       "16934 2019-09-24 19:00:00       3  \n",
       "29910 2019-09-24 18:59:00       4  \n",
       "5022  2019-09-24 18:57:00       9  "
      ]
     },
     "metadata": {},
     "output_type": "display_data"
    },
    {
     "name": "stdout",
     "output_type": "stream",
     "text": [
      "\u001b[1mИнформация о датасете:\u001b[0m\n",
      "\n",
      "<class 'pandas.core.frame.DataFrame'>\n",
      "RangeIndex: 30745 entries, 0 to 30744\n",
      "Data columns (total 6 columns):\n",
      " #   Column        Non-Null Count  Dtype         \n",
      "---  ------        --------------  -----         \n",
      " 0   record_id     30745 non-null  int64         \n",
      " 1   item_topic    30745 non-null  object        \n",
      " 2   source_topic  30745 non-null  object        \n",
      " 3   age_segment   30745 non-null  object        \n",
      " 4   dt            30745 non-null  datetime64[ns]\n",
      " 5   visits        30745 non-null  int64         \n",
      "dtypes: datetime64[ns](1), int64(2), object(3)\n",
      "memory usage: 1.4+ MB\n",
      "\u001b[1m\n",
      "Дубликатов в таблице:\u001b[0m 0\n",
      "\u001b[1m\n",
      "Подсчет пропусков:\u001b[0m\n",
      " record_id       0\n",
      "item_topic      0\n",
      "source_topic    0\n",
      "age_segment     0\n",
      "dt              0\n",
      "visits          0\n",
      "dtype: int64\n"
     ]
    }
   ],
   "source": [
    "info_data(dash_visits)"
   ]
  },
  {
   "cell_type": "markdown",
   "id": "1b19968a",
   "metadata": {},
   "source": [
    "1. Мы выгрузили файл, который впоследствии будем использовать для построения дашбордов в Tableau Public.\n",
    "2. Краем глаза посмотрели на данные ( вроде бы все хорошо, пропусков нет, дубликатов нет) - от нас этого не требовалось, но я решил все равно проверить )."
   ]
  }
 ],
 "metadata": {
  "ExecuteTimeLog": [
   {
    "duration": 9737,
    "start_time": "2022-04-27T06:34:25.846Z"
   },
   {
    "duration": 788,
    "start_time": "2022-04-27T06:42:05.738Z"
   },
   {
    "duration": 799,
    "start_time": "2022-04-27T06:42:19.585Z"
   },
   {
    "duration": 861,
    "start_time": "2022-04-27T06:42:26.383Z"
   },
   {
    "duration": 4,
    "start_time": "2022-04-27T06:42:31.946Z"
   },
   {
    "duration": 4,
    "start_time": "2022-04-27T06:42:46.329Z"
   },
   {
    "duration": 50,
    "start_time": "2022-04-27T06:43:07.668Z"
   },
   {
    "duration": 818,
    "start_time": "2022-04-27T06:43:21.567Z"
   }
  ],
  "kernelspec": {
   "display_name": "Python 3 (ipykernel)",
   "language": "python",
   "name": "python3"
  },
  "language_info": {
   "codemirror_mode": {
    "name": "ipython",
    "version": 3
   },
   "file_extension": ".py",
   "mimetype": "text/x-python",
   "name": "python",
   "nbconvert_exporter": "python",
   "pygments_lexer": "ipython3",
   "version": "3.9.7"
  },
  "toc": {
   "base_numbering": 1,
   "nav_menu": {},
   "number_sections": true,
   "sideBar": true,
   "skip_h1_title": true,
   "title_cell": "Table of Contents",
   "title_sidebar": "Contents",
   "toc_cell": false,
   "toc_position": {},
   "toc_section_display": true,
   "toc_window_display": false
  }
 },
 "nbformat": 4,
 "nbformat_minor": 5
}
