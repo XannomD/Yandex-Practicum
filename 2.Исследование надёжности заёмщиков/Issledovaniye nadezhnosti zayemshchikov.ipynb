{
 "cells": [
  {
   "cell_type": "markdown",
   "metadata": {},
   "source": [
    "# Исследование надёжности заёмщиков\n",
    "\n",
    "Заказчик — кредитный отдел банка. Нужно разобраться, влияет ли семейное положение и количество детей клиента на факт погашения кредита в срок. Входные данные от банка — статистика о платёжеспособности клиентов.\n",
    "\n",
    "**Цель исследования** — проверить четыре гипотезы:\n",
    "1. Есть ли зависимость между наличием детей и возвратом кредита в срок?\n",
    "2. Есть ли зависимость между семейным положением и возвратом кредита в срок?\n",
    "3. Есть ли зависимость между уровнем дохода и возвратом кредита в срок?\n",
    "4. Как разные цели кредита влияют на его возврат в срок?\n",
    "\n",
    "Результаты исследования будут учтены при построении модели **кредитного скоринга** — специальной системы, которая оценивает способность потенциального заёмщика вернуть кредит банку.\n",
    "\n",
    "Исследование пройдёт в четыре этапа:\n",
    " 1. [Изучение данных, предоставленных банком](#intro).\n",
    " 2. [Предобработка данных](#obrabotka).\n",
    " 3. [Ответы на поставленные вопросы](#otvety).\n",
    " 4. [Общий вывод](#vyvod).\n"
   ]
  },
  {
   "cell_type": "markdown",
   "metadata": {},
   "source": [
    "## Шаг: Откройте файл с данными и изучите общую информацию <a id='intro'></a>"
   ]
  },
  {
   "cell_type": "code",
   "execution_count": 1,
   "metadata": {},
   "outputs": [
    {
     "data": {
      "text/html": [
       "<div>\n",
       "<style scoped>\n",
       "    .dataframe tbody tr th:only-of-type {\n",
       "        vertical-align: middle;\n",
       "    }\n",
       "\n",
       "    .dataframe tbody tr th {\n",
       "        vertical-align: top;\n",
       "    }\n",
       "\n",
       "    .dataframe thead th {\n",
       "        text-align: right;\n",
       "    }\n",
       "</style>\n",
       "<table border=\"1\" class=\"dataframe\">\n",
       "  <thead>\n",
       "    <tr style=\"text-align: right;\">\n",
       "      <th></th>\n",
       "      <th>children</th>\n",
       "      <th>days_employed</th>\n",
       "      <th>dob_years</th>\n",
       "      <th>education</th>\n",
       "      <th>education_id</th>\n",
       "      <th>family_status</th>\n",
       "      <th>family_status_id</th>\n",
       "      <th>gender</th>\n",
       "      <th>income_type</th>\n",
       "      <th>debt</th>\n",
       "      <th>total_income</th>\n",
       "      <th>purpose</th>\n",
       "    </tr>\n",
       "  </thead>\n",
       "  <tbody>\n",
       "    <tr>\n",
       "      <td>0</td>\n",
       "      <td>1</td>\n",
       "      <td>-8437.673028</td>\n",
       "      <td>42</td>\n",
       "      <td>высшее</td>\n",
       "      <td>0</td>\n",
       "      <td>женат / замужем</td>\n",
       "      <td>0</td>\n",
       "      <td>F</td>\n",
       "      <td>сотрудник</td>\n",
       "      <td>0</td>\n",
       "      <td>253875.639453</td>\n",
       "      <td>покупка жилья</td>\n",
       "    </tr>\n",
       "    <tr>\n",
       "      <td>1</td>\n",
       "      <td>1</td>\n",
       "      <td>-4024.803754</td>\n",
       "      <td>36</td>\n",
       "      <td>среднее</td>\n",
       "      <td>1</td>\n",
       "      <td>женат / замужем</td>\n",
       "      <td>0</td>\n",
       "      <td>F</td>\n",
       "      <td>сотрудник</td>\n",
       "      <td>0</td>\n",
       "      <td>112080.014102</td>\n",
       "      <td>приобретение автомобиля</td>\n",
       "    </tr>\n",
       "    <tr>\n",
       "      <td>2</td>\n",
       "      <td>0</td>\n",
       "      <td>-5623.422610</td>\n",
       "      <td>33</td>\n",
       "      <td>Среднее</td>\n",
       "      <td>1</td>\n",
       "      <td>женат / замужем</td>\n",
       "      <td>0</td>\n",
       "      <td>M</td>\n",
       "      <td>сотрудник</td>\n",
       "      <td>0</td>\n",
       "      <td>145885.952297</td>\n",
       "      <td>покупка жилья</td>\n",
       "    </tr>\n",
       "    <tr>\n",
       "      <td>3</td>\n",
       "      <td>3</td>\n",
       "      <td>-4124.747207</td>\n",
       "      <td>32</td>\n",
       "      <td>среднее</td>\n",
       "      <td>1</td>\n",
       "      <td>женат / замужем</td>\n",
       "      <td>0</td>\n",
       "      <td>M</td>\n",
       "      <td>сотрудник</td>\n",
       "      <td>0</td>\n",
       "      <td>267628.550329</td>\n",
       "      <td>дополнительное образование</td>\n",
       "    </tr>\n",
       "    <tr>\n",
       "      <td>4</td>\n",
       "      <td>0</td>\n",
       "      <td>340266.072047</td>\n",
       "      <td>53</td>\n",
       "      <td>среднее</td>\n",
       "      <td>1</td>\n",
       "      <td>гражданский брак</td>\n",
       "      <td>1</td>\n",
       "      <td>F</td>\n",
       "      <td>пенсионер</td>\n",
       "      <td>0</td>\n",
       "      <td>158616.077870</td>\n",
       "      <td>сыграть свадьбу</td>\n",
       "    </tr>\n",
       "    <tr>\n",
       "      <td>5</td>\n",
       "      <td>0</td>\n",
       "      <td>-926.185831</td>\n",
       "      <td>27</td>\n",
       "      <td>высшее</td>\n",
       "      <td>0</td>\n",
       "      <td>гражданский брак</td>\n",
       "      <td>1</td>\n",
       "      <td>M</td>\n",
       "      <td>компаньон</td>\n",
       "      <td>0</td>\n",
       "      <td>255763.565419</td>\n",
       "      <td>покупка жилья</td>\n",
       "    </tr>\n",
       "    <tr>\n",
       "      <td>6</td>\n",
       "      <td>0</td>\n",
       "      <td>-2879.202052</td>\n",
       "      <td>43</td>\n",
       "      <td>высшее</td>\n",
       "      <td>0</td>\n",
       "      <td>женат / замужем</td>\n",
       "      <td>0</td>\n",
       "      <td>F</td>\n",
       "      <td>компаньон</td>\n",
       "      <td>0</td>\n",
       "      <td>240525.971920</td>\n",
       "      <td>операции с жильем</td>\n",
       "    </tr>\n",
       "    <tr>\n",
       "      <td>7</td>\n",
       "      <td>0</td>\n",
       "      <td>-152.779569</td>\n",
       "      <td>50</td>\n",
       "      <td>СРЕДНЕЕ</td>\n",
       "      <td>1</td>\n",
       "      <td>женат / замужем</td>\n",
       "      <td>0</td>\n",
       "      <td>M</td>\n",
       "      <td>сотрудник</td>\n",
       "      <td>0</td>\n",
       "      <td>135823.934197</td>\n",
       "      <td>образование</td>\n",
       "    </tr>\n",
       "    <tr>\n",
       "      <td>8</td>\n",
       "      <td>2</td>\n",
       "      <td>-6929.865299</td>\n",
       "      <td>35</td>\n",
       "      <td>ВЫСШЕЕ</td>\n",
       "      <td>0</td>\n",
       "      <td>гражданский брак</td>\n",
       "      <td>1</td>\n",
       "      <td>F</td>\n",
       "      <td>сотрудник</td>\n",
       "      <td>0</td>\n",
       "      <td>95856.832424</td>\n",
       "      <td>на проведение свадьбы</td>\n",
       "    </tr>\n",
       "    <tr>\n",
       "      <td>9</td>\n",
       "      <td>0</td>\n",
       "      <td>-2188.756445</td>\n",
       "      <td>41</td>\n",
       "      <td>среднее</td>\n",
       "      <td>1</td>\n",
       "      <td>женат / замужем</td>\n",
       "      <td>0</td>\n",
       "      <td>M</td>\n",
       "      <td>сотрудник</td>\n",
       "      <td>0</td>\n",
       "      <td>144425.938277</td>\n",
       "      <td>покупка жилья для семьи</td>\n",
       "    </tr>\n",
       "  </tbody>\n",
       "</table>\n",
       "</div>"
      ],
      "text/plain": [
       "   children  days_employed  dob_years education  education_id  \\\n",
       "0         1   -8437.673028         42    высшее             0   \n",
       "1         1   -4024.803754         36   среднее             1   \n",
       "2         0   -5623.422610         33   Среднее             1   \n",
       "3         3   -4124.747207         32   среднее             1   \n",
       "4         0  340266.072047         53   среднее             1   \n",
       "5         0    -926.185831         27    высшее             0   \n",
       "6         0   -2879.202052         43    высшее             0   \n",
       "7         0    -152.779569         50   СРЕДНЕЕ             1   \n",
       "8         2   -6929.865299         35    ВЫСШЕЕ             0   \n",
       "9         0   -2188.756445         41   среднее             1   \n",
       "\n",
       "      family_status  family_status_id gender income_type  debt   total_income  \\\n",
       "0   женат / замужем                 0      F   сотрудник     0  253875.639453   \n",
       "1   женат / замужем                 0      F   сотрудник     0  112080.014102   \n",
       "2   женат / замужем                 0      M   сотрудник     0  145885.952297   \n",
       "3   женат / замужем                 0      M   сотрудник     0  267628.550329   \n",
       "4  гражданский брак                 1      F   пенсионер     0  158616.077870   \n",
       "5  гражданский брак                 1      M   компаньон     0  255763.565419   \n",
       "6   женат / замужем                 0      F   компаньон     0  240525.971920   \n",
       "7   женат / замужем                 0      M   сотрудник     0  135823.934197   \n",
       "8  гражданский брак                 1      F   сотрудник     0   95856.832424   \n",
       "9   женат / замужем                 0      M   сотрудник     0  144425.938277   \n",
       "\n",
       "                      purpose  \n",
       "0               покупка жилья  \n",
       "1     приобретение автомобиля  \n",
       "2               покупка жилья  \n",
       "3  дополнительное образование  \n",
       "4             сыграть свадьбу  \n",
       "5               покупка жилья  \n",
       "6           операции с жильем  \n",
       "7                 образование  \n",
       "8       на проведение свадьбы  \n",
       "9     покупка жилья для семьи  "
      ]
     },
     "execution_count": 1,
     "metadata": {},
     "output_type": "execute_result"
    }
   ],
   "source": [
    "import pandas as pd\n",
    "dataset=pd.read_csv('data.csv')\n",
    "dataset.head(10)"
   ]
  },
  {
   "cell_type": "markdown",
   "metadata": {},
   "source": [
    "Просмотрим общую информацию о таблице:"
   ]
  },
  {
   "cell_type": "code",
   "execution_count": 2,
   "metadata": {
    "scrolled": false
   },
   "outputs": [
    {
     "name": "stdout",
     "output_type": "stream",
     "text": [
      "<class 'pandas.core.frame.DataFrame'>\n",
      "RangeIndex: 21525 entries, 0 to 21524\n",
      "Data columns (total 12 columns):\n",
      "children            21525 non-null int64\n",
      "days_employed       19351 non-null float64\n",
      "dob_years           21525 non-null int64\n",
      "education           21525 non-null object\n",
      "education_id        21525 non-null int64\n",
      "family_status       21525 non-null object\n",
      "family_status_id    21525 non-null int64\n",
      "gender              21525 non-null object\n",
      "income_type         21525 non-null object\n",
      "debt                21525 non-null int64\n",
      "total_income        19351 non-null float64\n",
      "purpose             21525 non-null object\n",
      "dtypes: float64(2), int64(5), object(5)\n",
      "memory usage: 2.0+ MB\n"
     ]
    }
   ],
   "source": [
    "dataset.info()"
   ]
  },
  {
   "cell_type": "markdown",
   "metadata": {},
   "source": [
    "Согласно документации к данным:\n",
    "    \n",
    "* children — количество детей в семье;\n",
    "* days_employed — общий трудовой стаж в днях;\n",
    "* dob_years — возраст клиента в годах;\n",
    "* education — уровень образования клиента;\n",
    "* education_id — идентификатор уровня образования;\n",
    "* family_status — семейное положение;\n",
    "* family_status_id — идентификатор семейного положения;\n",
    "* gender — пол клиента;\n",
    "* income_type — тип занятости;\n",
    "* debt — имел ли задолженность по возврату кредитов;\n",
    "* total_income — ежемесячный доход;\n",
    "* purpose — цель получения кредита;\n",
    "\n",
    "Количество значений в столбцах различается. Значит, в данных есть пропущенные значения."
   ]
  },
  {
   "cell_type": "markdown",
   "metadata": {},
   "source": [
    "**Вывод**"
   ]
  },
  {
   "cell_type": "markdown",
   "metadata": {},
   "source": [
    "\n",
    "1. Названия столбцов записаны правильно ( в \"зменином\" регистре, прописными буквами, латиницей, без пробелов).\n",
    "2. Общий трудовой страж (days_employed) местами указан в отрицательном значение, что не может быть. Была бы возможность надо было бы уточнить у разрабочиков - спросил бы у них, почему так происходит. Предполагаю, что данные отрицательные из-за ошибки выгрузки. Так же не совсем уверен, что все данные представлены в днях ( некоторые числа больше похоже на часы, далее уточним этот момент).\n",
    "3. Разные регистры написания данных в Датасете. Приведем все записи в нижний регистр далее.\n",
    "4. Ежемесячный доход (total_income) так же округлю до целых чисел, считаю что на исследование это не повлияет.\n",
    "5. В Датасете имеются пропуски, так как возможности узнать почему это произошло нет, то далее посмотрим что конкретно за пропуски и изучим их влияние на ход исследования ( если влияние не существенное, то удалим их. если влияение существенное, то решим вопрос на какое значение их заменить)\n"
   ]
  },
  {
   "cell_type": "markdown",
   "metadata": {},
   "source": [
    "## Шаг: Предобработка данных <a id='obrabotka'></a>"
   ]
  },
  {
   "cell_type": "markdown",
   "metadata": {},
   "source": [
    "### Обработка пропусков"
   ]
  },
  {
   "cell_type": "markdown",
   "metadata": {},
   "source": [
    "Посчитаем, сколько в таблице пропущенных значений:"
   ]
  },
  {
   "cell_type": "code",
   "execution_count": 3,
   "metadata": {},
   "outputs": [
    {
     "data": {
      "text/plain": [
       "children               0\n",
       "days_employed       2174\n",
       "dob_years              0\n",
       "education              0\n",
       "education_id           0\n",
       "family_status          0\n",
       "family_status_id       0\n",
       "gender                 0\n",
       "income_type            0\n",
       "debt                   0\n",
       "total_income        2174\n",
       "purpose                0\n",
       "dtype: int64"
      ]
     },
     "execution_count": 3,
     "metadata": {},
     "output_type": "execute_result"
    }
   ],
   "source": [
    "dataset.isna().sum()"
   ]
  },
  {
   "cell_type": "markdown",
   "metadata": {},
   "source": [
    "Очень интересно получается, что пропуски в двух столбцах: стаж и ежемесячный доход и их количество равно. Надо будет проверить данные пропуски в одной строке или нет? Если в одной строке - то логично предположить, что данные указаны по потенциальным заемщикам, которые еще не работают и у которых соответственно отсутсвуют доходы ( например, студенты или только закончившие учиться люди). Но возможен и другой вариант: если вдруг была ошибка записи в трудовом стаже, то автоматически появлялся пропуск и в ежемесячном доходе ( опять таки надо уточнить у разработчиков почему так происходит) или наоборот.\n",
    "Пропущенных значений чуть более 10% от всех, это достаточно много, поэтому удалять их не будем."
   ]
  },
  {
   "cell_type": "markdown",
   "metadata": {},
   "source": [
    "Вначале заменим все пропущенные значения в столбцах 'days_employed' и 'total_income' на нулевые значения. И проверим совпадает ли количесво нулевых значений в этих столбцах с первоночальными пропусками. И проверим ушли ли пропуски."
   ]
  },
  {
   "cell_type": "code",
   "execution_count": 4,
   "metadata": {},
   "outputs": [
    {
     "data": {
      "text/plain": [
       "children            0\n",
       "days_employed       0\n",
       "dob_years           0\n",
       "education           0\n",
       "education_id        0\n",
       "family_status       0\n",
       "family_status_id    0\n",
       "gender              0\n",
       "income_type         0\n",
       "debt                0\n",
       "total_income        0\n",
       "purpose             0\n",
       "dtype: int64"
      ]
     },
     "execution_count": 4,
     "metadata": {},
     "output_type": "execute_result"
    }
   ],
   "source": [
    "columns_to_replace =[dataset.columns] \n",
    "for index in columns_to_replace:\n",
    "    dataset[index] = dataset[index].fillna('0')\n",
    "#print(dataset['days_employed'].value_counts())\n",
    "#print(dataset['total_income'].value_counts())\n",
    "dataset.isna().sum() "
   ]
  },
  {
   "cell_type": "markdown",
   "metadata": {},
   "source": [
    "Сравним пропуски в двух столбцах: в одинковых строкак пропуски или нет:"
   ]
  },
  {
   "cell_type": "code",
   "execution_count": 5,
   "metadata": {},
   "outputs": [
    {
     "name": "stdout",
     "output_type": "stream",
     "text": [
      "2174\n"
     ]
    }
   ],
   "source": [
    "days_employed_new=dataset['days_employed']\n",
    "total_income_new=dataset['total_income']\n",
    "proverka=0 # в переменную будем добавлять по единице, если пропуск в столбце 'days_employed' совпадает с пропуском в столбце 'total_income' \n",
    "for index in range(len(days_employed_new)):\n",
    "    if days_employed_new[index] == total_income_new[index]:\n",
    "        proverka+=1\n",
    "print(proverka)        "
   ]
  },
  {
   "cell_type": "markdown",
   "metadata": {},
   "source": [
    "**Вывод**"
   ]
  },
  {
   "cell_type": "markdown",
   "metadata": {},
   "source": [
    "В результате проверки выяснилось, что все пропуски содержащиеся в двух столбцах находятся в одинаковых строках по столбцам.\n",
    "\n",
    "Проверим далее гипотезу о том, что пропуски содеражтся у людей, которые только закончили учиться или еще учатся. ( сделаем это в п. 2.5 Категоризация данных)\n",
    "\n",
    "Пропуски пока оставим в значениях \"0\", далее скорее всего по столбцу 'total_income' будем производить замену этих значение в зависимости от Категориизации данных. ( столбец 'days_employed' скорее всего вообще удалим, пока он не несет в себе никакой ценности)"
   ]
  },
  {
   "cell_type": "markdown",
   "metadata": {},
   "source": [
    "### Замена типа данных"
   ]
  },
  {
   "cell_type": "markdown",
   "metadata": {},
   "source": [
    "Преобразуем данные в Датафрейма  в колонке 'days_employed' в целые числы и сделаем их положительными:"
   ]
  },
  {
   "cell_type": "code",
   "execution_count": 6,
   "metadata": {},
   "outputs": [
    {
     "data": {
      "text/plain": [
       "0         2174\n",
       "133         16\n",
       "327         16\n",
       "438         15\n",
       "223         14\n",
       "          ... \n",
       "350691       1\n",
       "329638       1\n",
       "346609       1\n",
       "360739       1\n",
       "6219         1\n",
       "Name: days_employed, Length: 9087, dtype: int64"
      ]
     },
     "execution_count": 6,
     "metadata": {},
     "output_type": "execute_result"
    }
   ],
   "source": [
    "dataset['days_employed']=abs(dataset['days_employed'].astype('int'))\n",
    "#dataset.info()\n",
    "dataset['days_employed'].value_counts()"
   ]
  },
  {
   "cell_type": "markdown",
   "metadata": {},
   "source": [
    "Так же преобразуем значения в стоблце 'total_income' в целые числа:"
   ]
  },
  {
   "cell_type": "code",
   "execution_count": 7,
   "metadata": {},
   "outputs": [
    {
     "data": {
      "text/plain": [
       "0         2174\n",
       "204827       3\n",
       "163060       3\n",
       "144533       3\n",
       "121931       3\n",
       "          ... \n",
       "109583       1\n",
       "101387       1\n",
       "138249       1\n",
       "280240       1\n",
       "229304       1\n",
       "Name: total_income, Length: 18607, dtype: int64"
      ]
     },
     "execution_count": 7,
     "metadata": {},
     "output_type": "execute_result"
    }
   ],
   "source": [
    "dataset['total_income']=dataset['total_income'].astype('int')\n",
    "#dataset.info()\n",
    "dataset['total_income'].value_counts()"
   ]
  },
  {
   "cell_type": "markdown",
   "metadata": {},
   "source": [
    "Посмотрим столбец 'children' и узнаем какие данные в нем хранятся:"
   ]
  },
  {
   "cell_type": "code",
   "execution_count": 8,
   "metadata": {},
   "outputs": [
    {
     "data": {
      "text/plain": [
       " 0     14149\n",
       " 1      4818\n",
       " 2      2055\n",
       " 3       330\n",
       " 20       76\n",
       "-1        47\n",
       " 4        41\n",
       " 5         9\n",
       "Name: children, dtype: int64"
      ]
     },
     "execution_count": 8,
     "metadata": {},
     "output_type": "execute_result"
    }
   ],
   "source": [
    "dataset['children'].value_counts()"
   ]
  },
  {
   "cell_type": "markdown",
   "metadata": {},
   "source": [
    "Получили информацию о том, что в столбце 'children' присутствуют отрицательные данные ( что не может быть в принципе, скорее всего техническая ошибка) и слишком большие цифры - 20 детей, что скорее всего является ошибкой при записи ( мое предположение: 2 на дополнительной клавиатуре находится над 0, поэтому когда нажимали цифру 2 случайно задели 0 и не обратили на это внимание. Человеческий фактор, увы от него никуда не деться). Если '- 1'  ребенок в семье это явная ошибка, то с 20 не все так олнозначно. Возможно это действительно семьи с количеством детей 20, но так как 20 детей имеют 76 человек, а это менее 1 % исследуемых человек, то мы можем допустить такую погрешность и исправить на 2 детей в семье. \n",
    "\n",
    "Исправим эту ситуацию:"
   ]
  },
  {
   "cell_type": "code",
   "execution_count": 9,
   "metadata": {},
   "outputs": [
    {
     "data": {
      "text/plain": [
       "0    14149\n",
       "1     4865\n",
       "2     2131\n",
       "3      330\n",
       "4       41\n",
       "5        9\n",
       "Name: children, dtype: int64"
      ]
     },
     "execution_count": 9,
     "metadata": {},
     "output_type": "execute_result"
    }
   ],
   "source": [
    "def replace_wrong_children (wrong_children,correct_children): \n",
    "    for wrong_childre in wrong_children: \n",
    "        dataset['children'] = dataset['children'].replace(wrong_children, correct_children)\n",
    "\n",
    "false_children_1 = [-1]\n",
    "true_children_1 = 1\n",
    "replace_wrong_children(false_children_1, true_children_1)\n",
    "false_children_20 = [20] \n",
    "true_children_20 = 2\n",
    "replace_wrong_children(false_children_20, true_children_20)\n",
    "dataset['children'].value_counts()"
   ]
  },
  {
   "cell_type": "markdown",
   "metadata": {},
   "source": [
    "**Вывод**\n"
   ]
  },
  {
   "cell_type": "markdown",
   "metadata": {},
   "source": [
    "Мы заменили дробные числа из столбцов 'total_income' и 'days_employed' на целые числа. Считаю что это никак не повлияет на результаты исследования, так как дробная часть ( которую мы отбросили в результате приведения к целым числам) имела несущественный вес в общем объеме данных.\n",
    "Так же мы взяли по модулю значения из колонки 'days_employed', так как подозреваю, что при переносе данных в Датафрейм произошла ошибка записи и они были записаны как отрицательные ( все бы это хорошо уточнить у разработчиков, но увы такой возможности нет).\n",
    "Остальные данные я считаю представленные в нужных типах, которые менять не требуется (пока не требуется).\n",
    "\n",
    "Так же мы исправили ситуацию с колонкой 'children', в которой хранились отрицательные значения ( что в принципе не может быть) и слишком большие значения ( которых по-моему мнению не должгно быть)."
   ]
  },
  {
   "cell_type": "markdown",
   "metadata": {},
   "source": [
    "### Обработка дубликатов"
   ]
  },
  {
   "cell_type": "markdown",
   "metadata": {},
   "source": [
    "Посчитаем явные дубликаты:"
   ]
  },
  {
   "cell_type": "code",
   "execution_count": 10,
   "metadata": {},
   "outputs": [
    {
     "name": "stdout",
     "output_type": "stream",
     "text": [
      "Дубликатов в таблице: 54\n"
     ]
    }
   ],
   "source": [
    "print ('Дубликатов в таблице:', dataset.duplicated().sum())"
   ]
  },
  {
   "cell_type": "markdown",
   "metadata": {},
   "source": [
    "Удалим явные дубликаты(с удалением старых индексов и формированием новых):"
   ]
  },
  {
   "cell_type": "code",
   "execution_count": 11,
   "metadata": {},
   "outputs": [
    {
     "name": "stdout",
     "output_type": "stream",
     "text": [
      "Дубликатов в таблице: 0\n"
     ]
    }
   ],
   "source": [
    "dataset = dataset.drop_duplicates().reset_index(drop=True)\n",
    "print ('Дубликатов в таблице:', dataset.duplicated().sum())"
   ]
  },
  {
   "cell_type": "markdown",
   "metadata": {},
   "source": [
    "Изначально просматривая таблицу можно было заметить, что некоторые значения были записаны разными регистрами.\n",
    "Приведем все значения к нижнему регистру (в тех столбцах где это необходимо):"
   ]
  },
  {
   "cell_type": "code",
   "execution_count": 12,
   "metadata": {},
   "outputs": [
    {
     "data": {
      "text/plain": [
       "среднее                15188\n",
       "высшее                  5251\n",
       "неоконченное высшее      744\n",
       "начальное                282\n",
       "ученая степень             6\n",
       "Name: education, dtype: int64"
      ]
     },
     "execution_count": 12,
     "metadata": {},
     "output_type": "execute_result"
    }
   ],
   "source": [
    "#print(dataset['education'].value_counts())\n",
    "dataset['education'] =dataset['education'].str.lower()\n",
    "#dataset['family_status'].value_counts()\n",
    "#dataset['income_type'].value_counts()\n",
    "dataset['education'].value_counts()"
   ]
  },
  {
   "cell_type": "markdown",
   "metadata": {},
   "source": [
    "**Тут я погорячился и сделал без лемматизации**\n",
    "\n",
    "Я закоментирую то что сделал и попробую то же самое сделать в п. 2.3\n",
    "\n",
    "Обратим внимание на то, что цель кредита повторяется, просто записана в разных выражениях. Исправим этот момент:"
   ]
  },
  {
   "cell_type": "code",
   "execution_count": 13,
   "metadata": {},
   "outputs": [],
   "source": [
    "#dataset['purpose'].value_counts()\n",
    "#def replace_wrong_purposes (wrong_purposes,correct_purposes): \n",
    "    #for wrong_purpose in wrong_purposes: \n",
    "       # dataset['purpose'] = dataset['purpose'].replace(wrong_purposes, correct_purposes)\n",
    "\n",
    "false_purpose_wedding = ['на проведение свадьбы', 'сыграть свадьбу']\n",
    "true_purpose_wedding = 'свадьба'\n",
    "#replace_wrong_purposes(false_purpose_wedding, true_purpose_wedding)\n",
    "\n",
    "false_purpose_education = ['заняться высшим образованием', 'дополнительное образование', 'высшее образование',\n",
    "                           'получение дополнительного образования', 'получение образования', 'профильное образование', \n",
    "                           'получение высшего образования', 'заняться образованием']\n",
    "true_purpose_education = 'образование'\n",
    "#replace_wrong_purposes(false_purpose_education, true_purpose_education)\n",
    "\n",
    "false_purpose_auto = ['сделка с подержанным автомобилем', 'на покупку подержанного автомобиля', 'свой автомобиль', \n",
    "                      'автомобили', 'приобретение автомобиля', 'сделка с автомобилем', 'на покупку своего автомобиля', \n",
    "                      'на покупку автомобиля']\n",
    "true_purpose_auto = 'автомобиль'\n",
    "#replace_wrong_purposes(false_purpose_auto, true_purpose_auto)\n",
    "\n",
    "false_purpose_lodging = ['операции с жильем', 'покупка жилья для сдачи', 'покупка жилья', 'покупка жилья для семьи', \n",
    "                         'покупка недвижимости', 'покупка своего жилья', 'ремонт жилью', 'покупка жилой недвижимости',\n",
    "                         'строительство собственной недвижимости', 'недвижимость', 'операции со своей недвижимостью', \n",
    "                         'троительство жилой недвижимости', 'строительство недвижимости', 'операции с недвижимостью', \n",
    "                         'жилье', 'строительство жилой недвижимости', 'покупка коммерческой недвижимости', \n",
    "                         'операции с коммерческой недвижимостью']\n",
    "true_purpose_lodging = 'жилье'\n",
    "#replace_wrong_purposes(false_purpose_lodging, true_purpose_lodging)\n",
    "#dataset['purpose'].value_counts()"
   ]
  },
  {
   "cell_type": "markdown",
   "metadata": {},
   "source": [
    "Так как мы поменяли регистры написания одного столбца и привели цели кредита к единому образцу, то следует проверить еще раз на явные дубликаты, так как теперь они могли опять появиться:"
   ]
  },
  {
   "cell_type": "code",
   "execution_count": 14,
   "metadata": {},
   "outputs": [
    {
     "name": "stdout",
     "output_type": "stream",
     "text": [
      "Дубликатов в таблице: 17\n"
     ]
    }
   ],
   "source": [
    "print ('Дубликатов в таблице:', dataset.duplicated().sum())\n",
    "dataset = dataset.drop_duplicates().reset_index(drop=True)"
   ]
  },
  {
   "cell_type": "markdown",
   "metadata": {},
   "source": [
    "После корректировки регистров явные дубликаты появились снова, удаляем их:"
   ]
  },
  {
   "cell_type": "code",
   "execution_count": 15,
   "metadata": {},
   "outputs": [
    {
     "name": "stdout",
     "output_type": "stream",
     "text": [
      "Дубликатов в таблице: 0\n"
     ]
    }
   ],
   "source": [
    "dataset['children'].value_counts()\n",
    "print ('Дубликатов в таблице:', dataset.duplicated().sum())"
   ]
  },
  {
   "cell_type": "markdown",
   "metadata": {},
   "source": [
    "**Вывод**"
   ]
  },
  {
   "cell_type": "markdown",
   "metadata": {},
   "source": [
    "Мы заменили явные дубликаты в Датасете с помощью метода drop_duplicates().reset_index(drop=True), чтобы перезаписать изначальные индексы. Так же мы исправили регистр написания данных в столбцах с помощью  .str.lower(). Неявные дубликаты мы обнаружили в столбце 'purpose', написав функцию replace_wrong_purposes мы избавились от неявных дубликатов. И в конце еще раз проверили на наличие явных дубликатов, которе появились после приведение написаня строк к нижнему регистру и правки целей кредита/"
   ]
  },
  {
   "cell_type": "markdown",
   "metadata": {},
   "source": [
    "### Лемматизация"
   ]
  },
  {
   "cell_type": "markdown",
   "metadata": {},
   "source": [
    "Изучая столбец 'purpose' можно заметить, что цель кредита одна и таже, а записана в разных выражения:"
   ]
  },
  {
   "cell_type": "code",
   "execution_count": 16,
   "metadata": {},
   "outputs": [
    {
     "data": {
      "text/plain": [
       "свадьба                                   791\n",
       "на проведение свадьбы                     768\n",
       "сыграть свадьбу                           765\n",
       "операции с недвижимостью                  675\n",
       "покупка коммерческой недвижимости         661\n",
       "операции с жильем                         652\n",
       "покупка жилья для сдачи                   651\n",
       "операции с коммерческой недвижимостью     650\n",
       "покупка жилья                             646\n",
       "жилье                                     646\n",
       "покупка жилья для семьи                   638\n",
       "строительство собственной недвижимости    635\n",
       "недвижимость                              633\n",
       "операции со своей недвижимостью           627\n",
       "строительство жилой недвижимости          624\n",
       "покупка недвижимости                      621\n",
       "покупка своего жилья                      620\n",
       "строительство недвижимости                619\n",
       "ремонт жилью                              607\n",
       "покупка жилой недвижимости                606\n",
       "на покупку своего автомобиля              505\n",
       "заняться высшим образованием              496\n",
       "автомобиль                                494\n",
       "сделка с подержанным автомобилем          486\n",
       "на покупку подержанного автомобиля        478\n",
       "свой автомобиль                           478\n",
       "автомобили                                478\n",
       "на покупку автомобиля                     471\n",
       "приобретение автомобиля                   461\n",
       "дополнительное образование                460\n",
       "сделка с автомобилем                      455\n",
       "высшее образование                        452\n",
       "образование                               447\n",
       "получение дополнительного образования     446\n",
       "получение образования                     442\n",
       "профильное образование                    436\n",
       "получение высшего образования             426\n",
       "заняться образованием                     408\n",
       "Name: purpose, dtype: int64"
      ]
     },
     "execution_count": 16,
     "metadata": {},
     "output_type": "execute_result"
    }
   ],
   "source": [
    "dataset['purpose'].value_counts()"
   ]
  },
  {
   "cell_type": "markdown",
   "metadata": {},
   "source": [
    "Исправим этот момент с помощью Лемматизации и создании функции:"
   ]
  },
  {
   "cell_type": "code",
   "execution_count": 17,
   "metadata": {},
   "outputs": [
    {
     "data": {
      "text/plain": [
       "недвижимость    10811\n",
       "автомобиль       4306\n",
       "образование      4013\n",
       "свадьба          2324\n",
       "Name: purpose, dtype: int64"
      ]
     },
     "execution_count": 17,
     "metadata": {},
     "output_type": "execute_result"
    }
   ],
   "source": [
    "from pymystem3 import Mystem\n",
    "m = Mystem()\n",
    "def lemmatization(row):\n",
    "    lemmas = m.lemmatize(row['purpose'])\n",
    "    if 'автомобиль' in lemmas:\n",
    "        return 'автомобиль'\n",
    "    if 'образование' in lemmas:\n",
    "        return 'образование'\n",
    "    if 'свадьба' in lemmas:\n",
    "        return 'свадьба'\n",
    "    if ('жилье' in lemmas) or ('недвижимость' in lemmas):\n",
    "        return 'недвижимость'\n",
    "dataset['purpose'] = dataset.apply(lemmatization, axis=1)\n",
    "dataset['purpose'].value_counts()"
   ]
  },
  {
   "cell_type": "markdown",
   "metadata": {},
   "source": [
    "После применения Лемматизации могли появиться явные дубликаты, проверим это и удалим их если они есть:"
   ]
  },
  {
   "cell_type": "code",
   "execution_count": 18,
   "metadata": {},
   "outputs": [
    {
     "name": "stdout",
     "output_type": "stream",
     "text": [
      "Дубликатов в таблице: 334\n"
     ]
    }
   ],
   "source": [
    "print ('Дубликатов в таблице:', dataset.duplicated().sum())\n",
    "dataset = dataset.drop_duplicates().reset_index(drop=True)"
   ]
  },
  {
   "cell_type": "markdown",
   "metadata": {},
   "source": [
    "**Вывод**"
   ]
  },
  {
   "cell_type": "markdown",
   "metadata": {},
   "source": [
    "С помощью Лемматизации мы привели цели кредита к единому образцу и уменьшили их количество, что позволит в дальнейшем более кофортно работать с категоризацией данных.\n",
    "Так же мы проверили Датасет на явные дубликаты, которые появились после Лемматизации, и удалили их."
   ]
  },
  {
   "cell_type": "markdown",
   "metadata": {},
   "source": [
    "### Категоризация данных"
   ]
  },
  {
   "cell_type": "markdown",
   "metadata": {},
   "source": [
    "Изначально мы заметили, что некоторые столбцы содержат одинаковую информацию, но записаны в разных вариантах. Например: 'education'и 'education_id' содержат информацию об уровне образования заемщиков, но в первом случае образование заполнено полностью ( текстовым выражением), во втором случае каждому уровню образования присвоена определенная категория. Посмотрим:"
   ]
  },
  {
   "cell_type": "code",
   "execution_count": 19,
   "metadata": {},
   "outputs": [
    {
     "name": "stdout",
     "output_type": "stream",
     "text": [
      "среднее                14876\n",
      "высшее                  5212\n",
      "неоконченное высшее      744\n",
      "начальное                282\n",
      "ученая степень             6\n",
      "Name: education, dtype: int64\n"
     ]
    },
    {
     "data": {
      "text/plain": [
       "1    14876\n",
       "0     5212\n",
       "2      744\n",
       "3      282\n",
       "4        6\n",
       "Name: education_id, dtype: int64"
      ]
     },
     "execution_count": 19,
     "metadata": {},
     "output_type": "execute_result"
    }
   ],
   "source": [
    "print(dataset['education'].value_counts())\n",
    "dataset['education_id'].value_counts()"
   ]
  },
  {
   "cell_type": "markdown",
   "metadata": {},
   "source": [
    "Аналогочная ситуация со столбцами 'family_status' и 'family_status_id'. То есть по семейному статусу, цели кредита и образованию заемщики уже категоризированы в Датасете.\n",
    "Для решения нашей задачи нам необходимо произвести категоризацию заемщиков по следующим параметрам: по уровню доходов, наличием детей."
   ]
  },
  {
   "cell_type": "markdown",
   "metadata": {},
   "source": [
    "Для начала объеденим заемнщиков в группы по количеству детей в семье. Для этого напишем функцию, которая в зависимости от количества детей, присвоит заемщику определенную группу. Создадим новый столбец: 'children_id'\n",
    "\n",
    "* без детей\n",
    "* 1-2 детей \n",
    "* многодетные"
   ]
  },
  {
   "cell_type": "code",
   "execution_count": 20,
   "metadata": {},
   "outputs": [],
   "source": [
    "def children_id_def(row):\n",
    "    children_group = row['children']\n",
    "    if children_group == 0:\n",
    "            return 'без детей'\n",
    "    if children_group == 1 or children_group == 2:\n",
    "            return '1-2 детей'\n",
    "    if children_group > 2:\n",
    "            return 'многодетные'\n",
    "dataset['children_id']=dataset.apply(children_id_def, axis=1)"
   ]
  },
  {
   "cell_type": "markdown",
   "metadata": {},
   "source": [
    "Вначале нашего анализа мы присвоили пропущенным значениям в колонке 'total_income' мы присвоили значение 0. Сейчас нам необходимо поменять эти значения на зарплатную медиану. Зарплатную медиану найдем в группе идентификатора уровня образования. Почему будем искать именно медиану: так как это количественные переменные, то вних есть слишком высокие и слишком малые значения, которые выбиваются из всех значений, что приведет к искажению средней величины зарплаты.\n",
    "\n",
    "Вначале найдем зарплатную медиану в каждой группе. Необходимо учесть, что из расчета необходимо искулючить те нулевые значения, которые мы присвоили в начале пропущенным значениям."
   ]
  },
  {
   "cell_type": "code",
   "execution_count": 21,
   "metadata": {},
   "outputs": [
    {
     "name": "stdout",
     "output_type": "stream",
     "text": [
      "Зарплатная медиана, высшее образование: 207142\n",
      "Зарплатная медиана, неоконченное высшее: 181533\n",
      "Зарплатная медиана, среднее образование: 153715\n",
      "Зарплатная медиана, начальное образование: 132155\n",
      "Зарплатная медиана, ученая степень: 174749\n"
     ]
    }
   ],
   "source": [
    "higher_income=dataset[dataset['education'] == 'высшее']\n",
    "higher_income=higher_income[higher_income['total_income'] !=0]\n",
    "higher_income_median=higher_income['total_income'].mean().astype('int')\n",
    "no_higher_income=dataset[dataset['education'] == 'неоконченное высшее']\n",
    "no_higher_income=no_higher_income[no_higher_income['total_income'] !=0]\n",
    "no_higher_income_median=no_higher_income['total_income'].mean().astype('int')\n",
    "average_income=dataset[dataset['education'] == 'среднее']\n",
    "average_income=average_income[average_income['total_income'] !=0]\n",
    "average_income_median=average_income['total_income'].mean().astype('int')\n",
    "school_income=dataset[dataset['education'] == 'начальное']\n",
    "school_income=school_income[school_income['total_income'] !=0]\n",
    "schoole_income_median=school_income['total_income'].mean().astype('int')\n",
    "scientist_income=dataset[dataset['education'] == 'ученая степень']\n",
    "scientist_income=scientist_income[scientist_income['total_income'] !=0]\n",
    "scientist_income_median=scientist_income['total_income'].mean().astype('int')\n",
    "\n",
    "\n",
    "print('Зарплатная медиана, высшее образование:', higher_income_median)\n",
    "print('Зарплатная медиана, неоконченное высшее:', no_higher_income_median)\n",
    "print('Зарплатная медиана, среднее образование:', average_income_median)\n",
    "print('Зарплатная медиана, начальное образование:', schoole_income_median)\n",
    "print('Зарплатная медиана, ученая степень:', scientist_income_median)"
   ]
  },
  {
   "cell_type": "markdown",
   "metadata": {},
   "source": [
    "Зная зарплатную медиану по уровню образования, мы можем заполнить нулевые значения в Датасете. Для этого поменяем вне нулевые значения в столбце на зарплатную медиану в соответствии с образованием заемщика:"
   ]
  },
  {
   "cell_type": "code",
   "execution_count": 22,
   "metadata": {},
   "outputs": [
    {
     "name": "stderr",
     "output_type": "stream",
     "text": [
      "/opt/conda/lib/python3.7/site-packages/ipykernel_launcher.py:4: SettingWithCopyWarning: \n",
      "A value is trying to be set on a copy of a slice from a DataFrame\n",
      "\n",
      "See the caveats in the documentation: http://pandas.pydata.org/pandas-docs/stable/user_guide/indexing.html#returning-a-view-versus-a-copy\n",
      "  after removing the cwd from sys.path.\n",
      "/opt/conda/lib/python3.7/site-packages/ipykernel_launcher.py:8: SettingWithCopyWarning: \n",
      "A value is trying to be set on a copy of a slice from a DataFrame\n",
      "\n",
      "See the caveats in the documentation: http://pandas.pydata.org/pandas-docs/stable/user_guide/indexing.html#returning-a-view-versus-a-copy\n",
      "  \n",
      "/opt/conda/lib/python3.7/site-packages/ipykernel_launcher.py:12: SettingWithCopyWarning: \n",
      "A value is trying to be set on a copy of a slice from a DataFrame\n",
      "\n",
      "See the caveats in the documentation: http://pandas.pydata.org/pandas-docs/stable/user_guide/indexing.html#returning-a-view-versus-a-copy\n",
      "  if sys.path[0] == '':\n"
     ]
    }
   ],
   "source": [
    "for index in range(len(dataset)):\n",
    "    if dataset['total_income'][index] == 0:\n",
    "        if dataset['education'][index] == 'высшее':\n",
    "            dataset['total_income'][index]=higher_income_median\n",
    "for index in range(len(dataset)):\n",
    "    if dataset['total_income'][index] == 0:\n",
    "        if dataset['education'][index] == 'среднее':\n",
    "            dataset['total_income'][index]=average_income_median          \n",
    "for index in range(len(dataset)):\n",
    "    if dataset['total_income'][index] == 0:\n",
    "        if dataset['education'][index] == 'начальное':\n",
    "            dataset['total_income'][index]=schoole_income_median            \n",
    "for index in range(len(dataset)):\n",
    "    if dataset['total_income'][index] == 0:\n",
    "        if dataset['education'][index] == 'ученая степень':\n",
    "            dataset['total_income'][index]=scientist_income_median"
   ]
  },
  {
   "cell_type": "markdown",
   "metadata": {},
   "source": [
    "Так же добавим столбец для группировки заемщиков по признаку задолженности - есть или нет:    "
   ]
  },
  {
   "cell_type": "code",
   "execution_count": 23,
   "metadata": {},
   "outputs": [],
   "source": [
    "def debt_id_def(row):\n",
    "    debt_group = row['debt']\n",
    "    if debt_group == 1:\n",
    "            return 'Есть задолженность'\n",
    "    if debt_group == 0:\n",
    "            return 'Нет задолженность'\n",
    "dataset['debt_id']=dataset.apply(debt_id_def, axis=1)"
   ]
  },
  {
   "cell_type": "markdown",
   "metadata": {},
   "source": [
    "Так как мы не знаем по какому региону сделана выгрузка ( Москва, Санкт-Петербург или удаленные регионы России), то четко разделить уровень доходов по сумме не получится. Я взял усредненные значения для города Москвы, будем считать что выборка основана на жителях этого города:"
   ]
  },
  {
   "cell_type": "code",
   "execution_count": 30,
   "metadata": {},
   "outputs": [
    {
     "data": {
      "text/html": [
       "<div>\n",
       "<style scoped>\n",
       "    .dataframe tbody tr th:only-of-type {\n",
       "        vertical-align: middle;\n",
       "    }\n",
       "\n",
       "    .dataframe tbody tr th {\n",
       "        vertical-align: top;\n",
       "    }\n",
       "\n",
       "    .dataframe thead th {\n",
       "        text-align: right;\n",
       "    }\n",
       "</style>\n",
       "<table border=\"1\" class=\"dataframe\">\n",
       "  <thead>\n",
       "    <tr style=\"text-align: right;\">\n",
       "      <th></th>\n",
       "      <th>children</th>\n",
       "      <th>days_employed</th>\n",
       "      <th>dob_years</th>\n",
       "      <th>education</th>\n",
       "      <th>education_id</th>\n",
       "      <th>family_status</th>\n",
       "      <th>family_status_id</th>\n",
       "      <th>gender</th>\n",
       "      <th>income_type</th>\n",
       "      <th>debt</th>\n",
       "      <th>total_income</th>\n",
       "      <th>purpose</th>\n",
       "      <th>children_id</th>\n",
       "      <th>debt_id</th>\n",
       "      <th>income_id</th>\n",
       "    </tr>\n",
       "  </thead>\n",
       "  <tbody>\n",
       "    <tr>\n",
       "      <td>0</td>\n",
       "      <td>1</td>\n",
       "      <td>8437</td>\n",
       "      <td>42</td>\n",
       "      <td>высшее</td>\n",
       "      <td>0</td>\n",
       "      <td>женат / замужем</td>\n",
       "      <td>0</td>\n",
       "      <td>F</td>\n",
       "      <td>сотрудник</td>\n",
       "      <td>0</td>\n",
       "      <td>253875</td>\n",
       "      <td>недвижимость</td>\n",
       "      <td>1-2 детей</td>\n",
       "      <td>Нет задолженность</td>\n",
       "      <td>высокий уровень дохода</td>\n",
       "    </tr>\n",
       "    <tr>\n",
       "      <td>1</td>\n",
       "      <td>1</td>\n",
       "      <td>4024</td>\n",
       "      <td>36</td>\n",
       "      <td>среднее</td>\n",
       "      <td>1</td>\n",
       "      <td>женат / замужем</td>\n",
       "      <td>0</td>\n",
       "      <td>F</td>\n",
       "      <td>сотрудник</td>\n",
       "      <td>0</td>\n",
       "      <td>112080</td>\n",
       "      <td>автомобиль</td>\n",
       "      <td>1-2 детей</td>\n",
       "      <td>Нет задолженность</td>\n",
       "      <td>средний уровень дохода</td>\n",
       "    </tr>\n",
       "    <tr>\n",
       "      <td>2</td>\n",
       "      <td>0</td>\n",
       "      <td>5623</td>\n",
       "      <td>33</td>\n",
       "      <td>среднее</td>\n",
       "      <td>1</td>\n",
       "      <td>женат / замужем</td>\n",
       "      <td>0</td>\n",
       "      <td>M</td>\n",
       "      <td>сотрудник</td>\n",
       "      <td>0</td>\n",
       "      <td>145885</td>\n",
       "      <td>недвижимость</td>\n",
       "      <td>без детей</td>\n",
       "      <td>Нет задолженность</td>\n",
       "      <td>выше среднего уровень дохода</td>\n",
       "    </tr>\n",
       "    <tr>\n",
       "      <td>3</td>\n",
       "      <td>3</td>\n",
       "      <td>4124</td>\n",
       "      <td>32</td>\n",
       "      <td>среднее</td>\n",
       "      <td>1</td>\n",
       "      <td>женат / замужем</td>\n",
       "      <td>0</td>\n",
       "      <td>M</td>\n",
       "      <td>сотрудник</td>\n",
       "      <td>0</td>\n",
       "      <td>267628</td>\n",
       "      <td>образование</td>\n",
       "      <td>многодетные</td>\n",
       "      <td>Нет задолженность</td>\n",
       "      <td>высокий уровень дохода</td>\n",
       "    </tr>\n",
       "    <tr>\n",
       "      <td>4</td>\n",
       "      <td>0</td>\n",
       "      <td>340266</td>\n",
       "      <td>53</td>\n",
       "      <td>среднее</td>\n",
       "      <td>1</td>\n",
       "      <td>гражданский брак</td>\n",
       "      <td>1</td>\n",
       "      <td>F</td>\n",
       "      <td>пенсионер</td>\n",
       "      <td>0</td>\n",
       "      <td>158616</td>\n",
       "      <td>свадьба</td>\n",
       "      <td>без детей</td>\n",
       "      <td>Нет задолженность</td>\n",
       "      <td>выше среднего уровень дохода</td>\n",
       "    </tr>\n",
       "  </tbody>\n",
       "</table>\n",
       "</div>"
      ],
      "text/plain": [
       "   children  days_employed  dob_years education  education_id  \\\n",
       "0         1           8437         42    высшее             0   \n",
       "1         1           4024         36   среднее             1   \n",
       "2         0           5623         33   среднее             1   \n",
       "3         3           4124         32   среднее             1   \n",
       "4         0         340266         53   среднее             1   \n",
       "\n",
       "      family_status  family_status_id gender income_type  debt  total_income  \\\n",
       "0   женат / замужем                 0      F   сотрудник     0        253875   \n",
       "1   женат / замужем                 0      F   сотрудник     0        112080   \n",
       "2   женат / замужем                 0      M   сотрудник     0        145885   \n",
       "3   женат / замужем                 0      M   сотрудник     0        267628   \n",
       "4  гражданский брак                 1      F   пенсионер     0        158616   \n",
       "\n",
       "        purpose  children_id            debt_id                     income_id  \n",
       "0  недвижимость    1-2 детей  Нет задолженность        высокий уровень дохода  \n",
       "1    автомобиль    1-2 детей  Нет задолженность        средний уровень дохода  \n",
       "2  недвижимость    без детей  Нет задолженность  выше среднего уровень дохода  \n",
       "3   образование  многодетные  Нет задолженность        высокий уровень дохода  \n",
       "4       свадьба    без детей  Нет задолженность  выше среднего уровень дохода  "
      ]
     },
     "execution_count": 30,
     "metadata": {},
     "output_type": "execute_result"
    }
   ],
   "source": [
    "def income_id_def(row):\n",
    "    income_group = row['total_income']\n",
    "    if income_group < 60000:\n",
    "            return 'малый уровень дохода'\n",
    "    if income_group > 60000 and income_group < 120000:\n",
    "            return 'средний уровень дохода'\n",
    "    if income_group > 120000 and income_group < 180000:\n",
    "            return 'выше среднего уровень дохода'\n",
    "    if income_group > 180000:\n",
    "            return 'высокий уровень дохода'    \n",
    "dataset['income_id']=dataset.apply(income_id_def, axis=1)\n",
    "dataset.head()"
   ]
  },
  {
   "cell_type": "markdown",
   "metadata": {},
   "source": [
    "**Вывод**"
   ]
  },
  {
   "cell_type": "markdown",
   "metadata": {},
   "source": [
    "В данном разделе мы сгруппировали заемщиков по следующим признакам:\n",
    "* наличие детей\n",
    "* уровень образования\n",
    "* семейное положение\n",
    "* уровень доходов\n",
    "\n",
    "В дальнешем эта группировка поможет нам провести зависимость фактов возврата кредиат ( невозврата) и отнесение заемщика к кокнретному признаку из указанных группировок."
   ]
  },
  {
   "cell_type": "markdown",
   "metadata": {},
   "source": [
    "## Шаг. Ответьте на вопросы  <a id='otvety'></a>"
   ]
  },
  {
   "cell_type": "markdown",
   "metadata": {},
   "source": [
    "- Есть ли зависимость между наличием детей и возвратом кредита в срок?"
   ]
  },
  {
   "cell_type": "code",
   "execution_count": 31,
   "metadata": {},
   "outputs": [
    {
     "data": {
      "text/html": [
       "<div>\n",
       "<style scoped>\n",
       "    .dataframe tbody tr th:only-of-type {\n",
       "        vertical-align: middle;\n",
       "    }\n",
       "\n",
       "    .dataframe tbody tr th {\n",
       "        vertical-align: top;\n",
       "    }\n",
       "\n",
       "    .dataframe thead th {\n",
       "        text-align: right;\n",
       "    }\n",
       "</style>\n",
       "<table border=\"1\" class=\"dataframe\">\n",
       "  <thead>\n",
       "    <tr style=\"text-align: right;\">\n",
       "      <th>debt_id</th>\n",
       "      <th>Есть задолженность</th>\n",
       "      <th>Нет задолженность</th>\n",
       "      <th>percent</th>\n",
       "    </tr>\n",
       "    <tr>\n",
       "      <th>children_id</th>\n",
       "      <th></th>\n",
       "      <th></th>\n",
       "      <th></th>\n",
       "    </tr>\n",
       "  </thead>\n",
       "  <tbody>\n",
       "    <tr>\n",
       "      <td>1-2 детей</td>\n",
       "      <td>647</td>\n",
       "      <td>6266</td>\n",
       "      <td>9.359178</td>\n",
       "    </tr>\n",
       "    <tr>\n",
       "      <td>без детей</td>\n",
       "      <td>1061</td>\n",
       "      <td>12768</td>\n",
       "      <td>7.672283</td>\n",
       "    </tr>\n",
       "    <tr>\n",
       "      <td>многодетные</td>\n",
       "      <td>31</td>\n",
       "      <td>347</td>\n",
       "      <td>8.201058</td>\n",
       "    </tr>\n",
       "  </tbody>\n",
       "</table>\n",
       "</div>"
      ],
      "text/plain": [
       "debt_id      Есть задолженность  Нет задолженность   percent\n",
       "children_id                                                 \n",
       "1-2 детей                   647               6266  9.359178\n",
       "без детей                  1061              12768  7.672283\n",
       "многодетные                  31                347  8.201058"
      ]
     },
     "metadata": {},
     "output_type": "display_data"
    }
   ],
   "source": [
    "pivot_table_children=pd.pivot_table(dataset,index=['children_id'], columns='debt_id', values='debt', aggfunc='count')\n",
    "pivot_table_children['percent'] = pivot_table_children['Есть задолженность'] / (pivot_table_children['Есть задолженность'] \n",
    "                                  + pivot_table_children['Нет задолженность']) * 100\n",
    "display(pivot_table_children)"
   ]
  },
  {
   "cell_type": "markdown",
   "metadata": {},
   "source": [
    "**Вывод**"
   ]
  },
  {
   "cell_type": "markdown",
   "metadata": {},
   "source": [
    "\n",
    "Анализируя полученную сводную таблицу, можно сказать что наибольшая доля заемщиков, которые имеют задолженность по кредиту - эти люди, которые имеют 1-2 детей.\n",
    "Как ни странно люди не имеющие детей - имеют наименьший процент задолженности по кредиту."
   ]
  },
  {
   "cell_type": "markdown",
   "metadata": {},
   "source": [
    "- Есть ли зависимость между семейным положением и возвратом кредита в срок?"
   ]
  },
  {
   "cell_type": "code",
   "execution_count": 26,
   "metadata": {},
   "outputs": [
    {
     "data": {
      "text/html": [
       "<div>\n",
       "<style scoped>\n",
       "    .dataframe tbody tr th:only-of-type {\n",
       "        vertical-align: middle;\n",
       "    }\n",
       "\n",
       "    .dataframe tbody tr th {\n",
       "        vertical-align: top;\n",
       "    }\n",
       "\n",
       "    .dataframe thead th {\n",
       "        text-align: right;\n",
       "    }\n",
       "</style>\n",
       "<table border=\"1\" class=\"dataframe\">\n",
       "  <thead>\n",
       "    <tr style=\"text-align: right;\">\n",
       "      <th>debt_id</th>\n",
       "      <th>Есть задолженность</th>\n",
       "      <th>Нет задолженность</th>\n",
       "      <th>percent</th>\n",
       "    </tr>\n",
       "    <tr>\n",
       "      <th>family_status</th>\n",
       "      <th></th>\n",
       "      <th></th>\n",
       "      <th></th>\n",
       "    </tr>\n",
       "  </thead>\n",
       "  <tbody>\n",
       "    <tr>\n",
       "      <td>Не женат / не замужем</td>\n",
       "      <td>274</td>\n",
       "      <td>2510</td>\n",
       "      <td>9.841954</td>\n",
       "    </tr>\n",
       "    <tr>\n",
       "      <td>в разводе</td>\n",
       "      <td>85</td>\n",
       "      <td>1108</td>\n",
       "      <td>7.124895</td>\n",
       "    </tr>\n",
       "    <tr>\n",
       "      <td>вдовец / вдова</td>\n",
       "      <td>63</td>\n",
       "      <td>880</td>\n",
       "      <td>6.680806</td>\n",
       "    </tr>\n",
       "    <tr>\n",
       "      <td>гражданский брак</td>\n",
       "      <td>388</td>\n",
       "      <td>3736</td>\n",
       "      <td>9.408341</td>\n",
       "    </tr>\n",
       "    <tr>\n",
       "      <td>женат / замужем</td>\n",
       "      <td>929</td>\n",
       "      <td>11147</td>\n",
       "      <td>7.692945</td>\n",
       "    </tr>\n",
       "  </tbody>\n",
       "</table>\n",
       "</div>"
      ],
      "text/plain": [
       "debt_id                Есть задолженность  Нет задолженность   percent\n",
       "family_status                                                         \n",
       "Не женат / не замужем                 274               2510  9.841954\n",
       "в разводе                              85               1108  7.124895\n",
       "вдовец / вдова                         63                880  6.680806\n",
       "гражданский брак                      388               3736  9.408341\n",
       "женат / замужем                       929              11147  7.692945"
      ]
     },
     "metadata": {},
     "output_type": "display_data"
    }
   ],
   "source": [
    "pivot_table_famaly=pd.pivot_table(dataset,index=['family_status'], columns='debt_id', values='debt', aggfunc='count')\n",
    "pivot_table_famaly['percent'] = pivot_table_famaly['Есть задолженность'] / (pivot_table_famaly['Есть задолженность'] \n",
    "                                + pivot_table_famaly['Нет задолженность']) * 100\n",
    "\n",
    "display(pivot_table_famaly)"
   ]
  },
  {
   "cell_type": "markdown",
   "metadata": {},
   "source": [
    "**Вывод**"
   ]
  },
  {
   "cell_type": "markdown",
   "metadata": {},
   "source": [
    "Люди, живущие в гражданском браке и не состоящие в браке, имеют наибольший процент задолженности по отношению к остальным группам людей."
   ]
  },
  {
   "cell_type": "markdown",
   "metadata": {},
   "source": [
    "- Есть ли зависимость между уровнем дохода и возвратом кредита в срок?"
   ]
  },
  {
   "cell_type": "code",
   "execution_count": 27,
   "metadata": {},
   "outputs": [
    {
     "data": {
      "text/html": [
       "<div>\n",
       "<style scoped>\n",
       "    .dataframe tbody tr th:only-of-type {\n",
       "        vertical-align: middle;\n",
       "    }\n",
       "\n",
       "    .dataframe tbody tr th {\n",
       "        vertical-align: top;\n",
       "    }\n",
       "\n",
       "    .dataframe thead th {\n",
       "        text-align: right;\n",
       "    }\n",
       "</style>\n",
       "<table border=\"1\" class=\"dataframe\">\n",
       "  <thead>\n",
       "    <tr style=\"text-align: right;\">\n",
       "      <th>debt_id</th>\n",
       "      <th>Есть задолженность</th>\n",
       "      <th>Нет задолженность</th>\n",
       "      <th>percent</th>\n",
       "    </tr>\n",
       "    <tr>\n",
       "      <th>income_id</th>\n",
       "      <th></th>\n",
       "      <th></th>\n",
       "      <th></th>\n",
       "    </tr>\n",
       "  </thead>\n",
       "  <tbody>\n",
       "    <tr>\n",
       "      <td>высокий уровень дохода</td>\n",
       "      <td>504</td>\n",
       "      <td>6414</td>\n",
       "      <td>7.285343</td>\n",
       "    </tr>\n",
       "    <tr>\n",
       "      <td>выше среднего уровень дохода</td>\n",
       "      <td>681</td>\n",
       "      <td>6607</td>\n",
       "      <td>9.344127</td>\n",
       "    </tr>\n",
       "    <tr>\n",
       "      <td>малый уровень дохода</td>\n",
       "      <td>52</td>\n",
       "      <td>823</td>\n",
       "      <td>5.942857</td>\n",
       "    </tr>\n",
       "    <tr>\n",
       "      <td>средний уровень дохода</td>\n",
       "      <td>502</td>\n",
       "      <td>5537</td>\n",
       "      <td>8.312635</td>\n",
       "    </tr>\n",
       "  </tbody>\n",
       "</table>\n",
       "</div>"
      ],
      "text/plain": [
       "debt_id                       Есть задолженность  Нет задолженность   percent\n",
       "income_id                                                                    \n",
       "высокий уровень дохода                       504               6414  7.285343\n",
       "выше среднего уровень дохода                 681               6607  9.344127\n",
       "малый уровень дохода                          52                823  5.942857\n",
       "средний уровень дохода                       502               5537  8.312635"
      ]
     },
     "metadata": {},
     "output_type": "display_data"
    }
   ],
   "source": [
    "pivot_table_income=pd.pivot_table(dataset,index=['income_id'], columns='debt_id', values='debt', aggfunc='count')\n",
    "pivot_table_income['percent'] = pivot_table_income['Есть задолженность'] / (pivot_table_income['Есть задолженность'] \n",
    "                                + pivot_table_income['Нет задолженность']) * 100\n",
    "\n",
    "display(pivot_table_income)"
   ]
  },
  {
   "cell_type": "markdown",
   "metadata": {},
   "source": [
    "**Вывод**"
   ]
  },
  {
   "cell_type": "markdown",
   "metadata": {},
   "source": [
    "Как странно бы не звучало, люди, имещие уровень дохода выше среднего, имеющие наибольший процент задолженности.\n",
    "Люди с малым уровнем доходом более правильно распоряжаются своими финансами - у них самый маленький процент задолженности по кредитам."
   ]
  },
  {
   "cell_type": "markdown",
   "metadata": {},
   "source": [
    "- Как разные цели кредита влияют на его возврат в срок?"
   ]
  },
  {
   "cell_type": "code",
   "execution_count": 28,
   "metadata": {},
   "outputs": [
    {
     "data": {
      "text/html": [
       "<div>\n",
       "<style scoped>\n",
       "    .dataframe tbody tr th:only-of-type {\n",
       "        vertical-align: middle;\n",
       "    }\n",
       "\n",
       "    .dataframe tbody tr th {\n",
       "        vertical-align: top;\n",
       "    }\n",
       "\n",
       "    .dataframe thead th {\n",
       "        text-align: right;\n",
       "    }\n",
       "</style>\n",
       "<table border=\"1\" class=\"dataframe\">\n",
       "  <thead>\n",
       "    <tr style=\"text-align: right;\">\n",
       "      <th>debt_id</th>\n",
       "      <th>Есть задолженность</th>\n",
       "      <th>Нет задолженность</th>\n",
       "      <th>percent</th>\n",
       "    </tr>\n",
       "    <tr>\n",
       "      <th>purpose</th>\n",
       "      <th></th>\n",
       "      <th></th>\n",
       "      <th></th>\n",
       "    </tr>\n",
       "  </thead>\n",
       "  <tbody>\n",
       "    <tr>\n",
       "      <td>автомобиль</td>\n",
       "      <td>402</td>\n",
       "      <td>3870</td>\n",
       "      <td>9.410112</td>\n",
       "    </tr>\n",
       "    <tr>\n",
       "      <td>недвижимость</td>\n",
       "      <td>781</td>\n",
       "      <td>9797</td>\n",
       "      <td>7.383248</td>\n",
       "    </tr>\n",
       "    <tr>\n",
       "      <td>образование</td>\n",
       "      <td>370</td>\n",
       "      <td>3594</td>\n",
       "      <td>9.334006</td>\n",
       "    </tr>\n",
       "    <tr>\n",
       "      <td>свадьба</td>\n",
       "      <td>186</td>\n",
       "      <td>2120</td>\n",
       "      <td>8.065915</td>\n",
       "    </tr>\n",
       "  </tbody>\n",
       "</table>\n",
       "</div>"
      ],
      "text/plain": [
       "debt_id       Есть задолженность  Нет задолженность   percent\n",
       "purpose                                                      \n",
       "автомобиль                   402               3870  9.410112\n",
       "недвижимость                 781               9797  7.383248\n",
       "образование                  370               3594  9.334006\n",
       "свадьба                      186               2120  8.065915"
      ]
     },
     "metadata": {},
     "output_type": "display_data"
    }
   ],
   "source": [
    "pivot_table_purpose=pd.pivot_table(dataset,index=['purpose'], columns='debt_id', values='debt', aggfunc='count')\n",
    "pivot_table_purpose['percent'] = pivot_table_purpose['Есть задолженность'] / (pivot_table_purpose['Есть задолженность'] \n",
    "                                 + pivot_table_purpose['Нет задолженность']) * 100\n",
    "\n",
    "display(pivot_table_purpose)"
   ]
  },
  {
   "cell_type": "markdown",
   "metadata": {},
   "source": [
    "**Вывод**"
   ]
  },
  {
   "cell_type": "markdown",
   "metadata": {},
   "source": [
    "Люди, берущие кредит на автомобиль и на образование, - самые злостные неплательщики кредита из изученной нами выборки. \n",
    "Люди, люди покупающие недвижимость, - самые ответственные."
   ]
  },
  {
   "cell_type": "markdown",
   "metadata": {},
   "source": [
    "## Шаг. Общий вывод <a id='vyvod'></a>"
   ]
  },
  {
   "cell_type": "markdown",
   "metadata": {},
   "source": [
    "Проведя анализ данных, которы нам предоставил кредитный отдел банка, мы можем выделить следующие ключевые моменты:\n",
    "\n",
    "* Люди, имеющие 1-2 ребенка отдают кредит неохотнее, за ними числется больше всего задолженности, среди других заемщиков\n",
    "* Неженатые и живущие в гражданском браке заемщики - не самые лучшие кандидаты к выдаче кредита. Их процен задолжености самый высокий, в отличие от людей, состоящих в браке или которе в разводе.\n",
    "* Кандидаты на кредит со средним доходом и выше среднего - чаще всего являются должниками по возврату кредита.\n",
    "* Образование и автомобиль - не лучшие цели для кредита, по ним больше всего задолженности."
   ]
  },
  {
   "cell_type": "markdown",
   "metadata": {},
   "source": [
    "## Чек-лист готовности проекта\n",
    "\n",
    "Поставьте 'x' в выполненных пунктах. Далее нажмите Shift+Enter."
   ]
  },
  {
   "cell_type": "markdown",
   "metadata": {},
   "source": [
    "- [x]  открыт файл;\n",
    "- [x]  файл изучен;\n",
    "- [x]  определены пропущенные значения;\n",
    "- [x]  заполнены пропущенные значения;\n",
    "- [x]  есть пояснение, какие пропущенные значения обнаружены;\n",
    "- [x]  описаны возможные причины появления пропусков в данных;\n",
    "- [x]  объяснено, по какому принципу заполнены пропуски;\n",
    "- [x]  заменен вещественный тип данных на целочисленный;\n",
    "- [x]  есть пояснение, какой метод используется для изменения типа данных и почему;\n",
    "- [x]  удалены дубликаты;\n",
    "- [x]  есть пояснение, какой метод используется для поиска и удаления дубликатов;\n",
    "- [x]  описаны возможные причины появления дубликатов в данных;\n",
    "- [x]  выделены леммы в значениях столбца с целями получения кредита;\n",
    "- [x]  описан процесс лемматизации;\n",
    "- [x]  данные категоризированы;\n",
    "- [x]  есть объяснение принципа категоризации данных;\n",
    "- [x]  есть ответ на вопрос: \"Есть ли зависимость между наличием детей и возвратом кредита в срок?\";\n",
    "- [x]  есть ответ на вопрос: \"Есть ли зависимость между семейным положением и возвратом кредита в срок?\";\n",
    "- [x]  есть ответ на вопрос: \"Есть ли зависимость между уровнем дохода и возвратом кредита в срок?\";\n",
    "- [x]  есть ответ на вопрос: \"Как разные цели кредита влияют на его возврат в срок?\";\n",
    "- [x]  в каждом этапе есть выводы;\n",
    "- [x]  есть общий вывод."
   ]
  }
 ],
 "metadata": {
  "ExecuteTimeLog": [
   {
    "duration": 587,
    "start_time": "2021-12-07T05:43:33.121Z"
   },
   {
    "duration": 65,
    "start_time": "2021-12-07T05:43:43.531Z"
   },
   {
    "duration": 57,
    "start_time": "2021-12-07T05:45:16.422Z"
   },
   {
    "duration": 57,
    "start_time": "2021-12-07T06:02:47.615Z"
   },
   {
    "duration": 56,
    "start_time": "2021-12-07T06:04:19.536Z"
   },
   {
    "duration": 56,
    "start_time": "2021-12-07T06:06:49.630Z"
   },
   {
    "duration": 63,
    "start_time": "2021-12-07T06:17:23.876Z"
   },
   {
    "duration": 61,
    "start_time": "2021-12-07T06:17:47.083Z"
   },
   {
    "duration": 62,
    "start_time": "2021-12-07T06:23:54.835Z"
   },
   {
    "duration": 12,
    "start_time": "2021-12-07T06:26:38.861Z"
   },
   {
    "duration": 3,
    "start_time": "2021-12-07T06:27:26.230Z"
   },
   {
    "duration": 62,
    "start_time": "2021-12-07T06:28:22.835Z"
   },
   {
    "duration": 12,
    "start_time": "2021-12-07T06:28:22.899Z"
   },
   {
    "duration": 11,
    "start_time": "2021-12-07T06:28:51.503Z"
   },
   {
    "duration": 10,
    "start_time": "2021-12-07T06:29:14.904Z"
   },
   {
    "duration": 56,
    "start_time": "2021-12-07T06:30:44.763Z"
   },
   {
    "duration": 54,
    "start_time": "2021-12-07T06:30:48.131Z"
   },
   {
    "duration": 9,
    "start_time": "2021-12-07T06:30:48.187Z"
   },
   {
    "duration": 53,
    "start_time": "2021-12-07T06:31:28.814Z"
   },
   {
    "duration": 9,
    "start_time": "2021-12-07T06:31:28.869Z"
   },
   {
    "duration": 129,
    "start_time": "2021-12-07T06:35:31.769Z"
   },
   {
    "duration": 84,
    "start_time": "2021-12-07T06:35:35.041Z"
   },
   {
    "duration": 602,
    "start_time": "2021-12-07T06:36:02.828Z"
   },
   {
    "duration": 77,
    "start_time": "2021-12-07T06:36:24.857Z"
   },
   {
    "duration": 84,
    "start_time": "2021-12-07T06:37:02.506Z"
   },
   {
    "duration": 91,
    "start_time": "2021-12-07T06:37:17.002Z"
   },
   {
    "duration": 80,
    "start_time": "2021-12-07T06:37:22.339Z"
   },
   {
    "duration": 55,
    "start_time": "2021-12-07T06:37:33.160Z"
   },
   {
    "duration": 9,
    "start_time": "2021-12-07T06:37:33.216Z"
   },
   {
    "duration": 133,
    "start_time": "2021-12-07T06:37:33.227Z"
   },
   {
    "duration": 10,
    "start_time": "2021-12-07T06:41:36.281Z"
   },
   {
    "duration": 60,
    "start_time": "2021-12-07T06:55:38.734Z"
   },
   {
    "duration": 9,
    "start_time": "2021-12-07T06:55:38.796Z"
   },
   {
    "duration": 10,
    "start_time": "2021-12-07T06:55:38.806Z"
   },
   {
    "duration": 61,
    "start_time": "2021-12-07T06:56:03.300Z"
   },
   {
    "duration": 62,
    "start_time": "2021-12-07T06:56:13.196Z"
   },
   {
    "duration": 62,
    "start_time": "2021-12-07T06:56:18.267Z"
   },
   {
    "duration": 11,
    "start_time": "2021-12-07T06:56:18.331Z"
   },
   {
    "duration": 8,
    "start_time": "2021-12-07T06:56:18.344Z"
   },
   {
    "duration": 60,
    "start_time": "2021-12-07T06:56:39.917Z"
   },
   {
    "duration": 61,
    "start_time": "2021-12-07T06:56:46.185Z"
   },
   {
    "duration": 9,
    "start_time": "2021-12-07T06:56:46.248Z"
   },
   {
    "duration": 9,
    "start_time": "2021-12-07T06:56:46.259Z"
   },
   {
    "duration": 64,
    "start_time": "2021-12-07T06:57:02.293Z"
   },
   {
    "duration": 2,
    "start_time": "2021-12-07T07:24:38.274Z"
   },
   {
    "duration": 5,
    "start_time": "2021-12-07T07:24:49.074Z"
   },
   {
    "duration": 407,
    "start_time": "2021-12-07T07:26:45.710Z"
   },
   {
    "duration": 247,
    "start_time": "2021-12-07T07:27:09.302Z"
   },
   {
    "duration": 273,
    "start_time": "2021-12-07T07:27:23.774Z"
   },
   {
    "duration": 250,
    "start_time": "2021-12-07T07:27:35.663Z"
   },
   {
    "duration": 480,
    "start_time": "2021-12-07T07:27:42.183Z"
   },
   {
    "duration": 241,
    "start_time": "2021-12-07T07:27:49.031Z"
   },
   {
    "duration": 265,
    "start_time": "2021-12-07T07:27:54.559Z"
   },
   {
    "duration": 600,
    "start_time": "2021-12-07T07:29:31.985Z"
   },
   {
    "duration": 131,
    "start_time": "2021-12-07T07:29:35.816Z"
   },
   {
    "duration": 82,
    "start_time": "2021-12-07T07:29:39.057Z"
   },
   {
    "duration": 235,
    "start_time": "2021-12-07T07:29:43.242Z"
   },
   {
    "duration": 233,
    "start_time": "2021-12-07T07:30:42.339Z"
   },
   {
    "duration": 233,
    "start_time": "2021-12-07T07:31:24.379Z"
   },
   {
    "duration": 81,
    "start_time": "2021-12-07T07:31:32.179Z"
   },
   {
    "duration": 293,
    "start_time": "2021-12-07T07:31:38.355Z"
   },
   {
    "duration": 24,
    "start_time": "2021-12-07T07:35:45.618Z"
   },
   {
    "duration": 27,
    "start_time": "2021-12-07T07:35:51.433Z"
   },
   {
    "duration": 26,
    "start_time": "2021-12-07T07:36:00.426Z"
   },
   {
    "duration": 27,
    "start_time": "2021-12-07T07:36:02.745Z"
   },
   {
    "duration": 285,
    "start_time": "2021-12-07T07:37:17.084Z"
   },
   {
    "duration": 284,
    "start_time": "2021-12-07T07:37:42.132Z"
   },
   {
    "duration": 249,
    "start_time": "2021-12-07T07:37:51.308Z"
   },
   {
    "duration": 247,
    "start_time": "2021-12-07T07:38:39.309Z"
   },
   {
    "duration": 248,
    "start_time": "2021-12-07T07:38:54.661Z"
   },
   {
    "duration": 261,
    "start_time": "2021-12-07T07:38:58.317Z"
   },
   {
    "duration": 78,
    "start_time": "2021-12-07T07:39:07.549Z"
   },
   {
    "duration": 266,
    "start_time": "2021-12-07T07:39:11.398Z"
   },
   {
    "duration": 279,
    "start_time": "2021-12-07T07:39:25.838Z"
   },
   {
    "duration": 272,
    "start_time": "2021-12-07T07:39:34.441Z"
   },
   {
    "duration": 77,
    "start_time": "2021-12-07T07:39:44.903Z"
   },
   {
    "duration": 77,
    "start_time": "2021-12-07T07:39:50.280Z"
   },
   {
    "duration": 247,
    "start_time": "2021-12-07T07:39:53.655Z"
   },
   {
    "duration": 252,
    "start_time": "2021-12-07T07:40:10.783Z"
   },
   {
    "duration": 242,
    "start_time": "2021-12-07T07:40:18.311Z"
   },
   {
    "duration": 22,
    "start_time": "2021-12-07T07:40:31.440Z"
   },
   {
    "duration": 22,
    "start_time": "2021-12-07T07:41:06.753Z"
   },
   {
    "duration": 26,
    "start_time": "2021-12-07T07:41:29.937Z"
   },
   {
    "duration": 26,
    "start_time": "2021-12-07T07:42:20.667Z"
   },
   {
    "duration": 880,
    "start_time": "2021-12-07T07:43:07.500Z"
   },
   {
    "duration": 310,
    "start_time": "2021-12-07T07:43:28.620Z"
   },
   {
    "duration": 245,
    "start_time": "2021-12-07T07:43:33.060Z"
   },
   {
    "duration": 12,
    "start_time": "2021-12-07T07:43:45.292Z"
   },
   {
    "duration": 6165,
    "start_time": "2021-12-07T07:43:52.172Z"
   },
   {
    "duration": 5876,
    "start_time": "2021-12-07T07:44:12.877Z"
   },
   {
    "duration": 268,
    "start_time": "2021-12-07T07:44:31.070Z"
   },
   {
    "duration": 246,
    "start_time": "2021-12-07T07:46:25.599Z"
   },
   {
    "duration": 63,
    "start_time": "2021-12-07T07:46:39.166Z"
   },
   {
    "duration": 9,
    "start_time": "2021-12-07T07:46:39.230Z"
   },
   {
    "duration": 9,
    "start_time": "2021-12-07T07:46:39.241Z"
   },
   {
    "duration": 249,
    "start_time": "2021-12-07T07:46:39.252Z"
   },
   {
    "duration": 3,
    "start_time": "2021-12-07T07:46:50.321Z"
   },
   {
    "duration": 243,
    "start_time": "2021-12-07T07:47:04.649Z"
   },
   {
    "duration": 5,
    "start_time": "2021-12-07T07:47:12.817Z"
   },
   {
    "duration": 8,
    "start_time": "2021-12-07T07:47:39.857Z"
   },
   {
    "duration": 5,
    "start_time": "2021-12-07T07:47:55.074Z"
   },
   {
    "duration": 5,
    "start_time": "2021-12-07T07:47:58.739Z"
   },
   {
    "duration": 2,
    "start_time": "2021-12-07T07:48:01.362Z"
   },
   {
    "duration": 4,
    "start_time": "2021-12-07T07:48:03.666Z"
   },
   {
    "duration": 5,
    "start_time": "2021-12-07T07:48:06.018Z"
   },
   {
    "duration": 6,
    "start_time": "2021-12-07T07:48:27.746Z"
   },
   {
    "duration": 11,
    "start_time": "2021-12-07T07:49:19.115Z"
   },
   {
    "duration": 10,
    "start_time": "2021-12-07T07:49:42.492Z"
   },
   {
    "duration": 8,
    "start_time": "2021-12-07T07:50:12.957Z"
   },
   {
    "duration": 7,
    "start_time": "2021-12-07T07:51:13.110Z"
   },
   {
    "duration": 244,
    "start_time": "2021-12-07T07:53:49.690Z"
   },
   {
    "duration": 240,
    "start_time": "2021-12-07T07:53:54.218Z"
   },
   {
    "duration": 266,
    "start_time": "2021-12-07T07:54:27.308Z"
   },
   {
    "duration": 228,
    "start_time": "2021-12-07T07:54:31.851Z"
   },
   {
    "duration": 484,
    "start_time": "2021-12-07T07:55:00.556Z"
   },
   {
    "duration": 6280,
    "start_time": "2021-12-07T07:58:44.712Z"
   },
   {
    "duration": 6751,
    "start_time": "2021-12-07T07:58:53.697Z"
   },
   {
    "duration": 16,
    "start_time": "2021-12-07T08:01:33.884Z"
   },
   {
    "duration": 60,
    "start_time": "2021-12-07T08:03:40.202Z"
   },
   {
    "duration": 61,
    "start_time": "2021-12-07T08:03:46.464Z"
   },
   {
    "duration": 60,
    "start_time": "2021-12-07T08:04:06.288Z"
   },
   {
    "duration": 7,
    "start_time": "2021-12-07T08:05:04.730Z"
   },
   {
    "duration": 58,
    "start_time": "2021-12-07T08:23:14.741Z"
   },
   {
    "duration": 4,
    "start_time": "2021-12-07T08:28:23.866Z"
   },
   {
    "duration": 232,
    "start_time": "2021-12-07T08:28:31.985Z"
   },
   {
    "duration": 4,
    "start_time": "2021-12-07T08:28:37.538Z"
   },
   {
    "duration": 85,
    "start_time": "2021-12-07T08:31:46.597Z"
   },
   {
    "duration": 267,
    "start_time": "2021-12-07T08:31:52.692Z"
   },
   {
    "duration": 11,
    "start_time": "2021-12-07T08:32:07.484Z"
   },
   {
    "duration": 4,
    "start_time": "2021-12-07T08:32:23.293Z"
   },
   {
    "duration": 4,
    "start_time": "2021-12-07T08:32:26.277Z"
   },
   {
    "duration": 4,
    "start_time": "2021-12-07T08:32:32.542Z"
   },
   {
    "duration": 9,
    "start_time": "2021-12-07T08:32:35.349Z"
   },
   {
    "duration": 236,
    "start_time": "2021-12-07T08:34:30.408Z"
   },
   {
    "duration": 23,
    "start_time": "2021-12-07T08:34:39.096Z"
   },
   {
    "duration": 29,
    "start_time": "2021-12-07T08:34:51.920Z"
   },
   {
    "duration": 30,
    "start_time": "2021-12-07T08:35:57.825Z"
   },
   {
    "duration": 28,
    "start_time": "2021-12-07T08:36:05.433Z"
   },
   {
    "duration": 75,
    "start_time": "2021-12-07T08:37:47.587Z"
   },
   {
    "duration": 256,
    "start_time": "2021-12-07T08:38:44.205Z"
   },
   {
    "duration": 29,
    "start_time": "2021-12-07T08:38:57.725Z"
   },
   {
    "duration": 244,
    "start_time": "2021-12-07T08:39:19.653Z"
   },
   {
    "duration": 28,
    "start_time": "2021-12-07T08:40:14.302Z"
   },
   {
    "duration": 41,
    "start_time": "2021-12-07T08:44:32.772Z"
   },
   {
    "duration": 36,
    "start_time": "2021-12-07T08:44:44.276Z"
   },
   {
    "duration": 27,
    "start_time": "2021-12-07T08:44:50.884Z"
   },
   {
    "duration": 42,
    "start_time": "2021-12-07T08:46:03.870Z"
   },
   {
    "duration": 39,
    "start_time": "2021-12-07T08:46:28.446Z"
   },
   {
    "duration": 40,
    "start_time": "2021-12-07T08:46:31.646Z"
   },
   {
    "duration": 59,
    "start_time": "2021-12-07T08:46:39.491Z"
   },
   {
    "duration": 9,
    "start_time": "2021-12-07T08:46:39.552Z"
   },
   {
    "duration": 9,
    "start_time": "2021-12-07T08:46:39.563Z"
   },
   {
    "duration": 55,
    "start_time": "2021-12-07T08:46:39.573Z"
   },
   {
    "duration": 46,
    "start_time": "2021-12-07T08:46:59.671Z"
   },
   {
    "duration": 26,
    "start_time": "2021-12-07T08:47:24.752Z"
   },
   {
    "duration": 232,
    "start_time": "2021-12-07T08:48:48.761Z"
   },
   {
    "duration": 5,
    "start_time": "2021-12-07T08:49:05.457Z"
   },
   {
    "duration": 4,
    "start_time": "2021-12-07T08:49:12.458Z"
   },
   {
    "duration": 231,
    "start_time": "2021-12-07T08:50:38.707Z"
   },
   {
    "duration": 249,
    "start_time": "2021-12-07T08:53:06.526Z"
   },
   {
    "duration": 255,
    "start_time": "2021-12-07T08:54:51.305Z"
   },
   {
    "duration": 305,
    "start_time": "2021-12-07T08:54:59.977Z"
   },
   {
    "duration": 272,
    "start_time": "2021-12-07T09:49:25.319Z"
   },
   {
    "duration": 9,
    "start_time": "2021-12-07T13:40:08.324Z"
   },
   {
    "duration": 8,
    "start_time": "2021-12-07T13:40:22.539Z"
   },
   {
    "duration": 9,
    "start_time": "2021-12-07T13:44:35.369Z"
   },
   {
    "duration": 7,
    "start_time": "2021-12-07T13:44:49.417Z"
   },
   {
    "duration": 7,
    "start_time": "2021-12-07T13:45:02.690Z"
   },
   {
    "duration": 59,
    "start_time": "2021-12-07T13:45:10.505Z"
   },
   {
    "duration": 9,
    "start_time": "2021-12-07T13:45:10.566Z"
   },
   {
    "duration": 8,
    "start_time": "2021-12-07T13:45:10.577Z"
   },
   {
    "duration": 29,
    "start_time": "2021-12-07T13:45:10.587Z"
   },
   {
    "duration": 261,
    "start_time": "2021-12-07T13:45:10.617Z"
   },
   {
    "duration": 13,
    "start_time": "2021-12-07T13:45:10.880Z"
   },
   {
    "duration": 8,
    "start_time": "2021-12-07T13:45:22.258Z"
   },
   {
    "duration": 5,
    "start_time": "2021-12-07T13:45:31.187Z"
   },
   {
    "duration": 12,
    "start_time": "2021-12-07T13:45:42.930Z"
   },
   {
    "duration": 18,
    "start_time": "2021-12-07T13:46:17.035Z"
   },
   {
    "duration": 22,
    "start_time": "2021-12-07T13:46:48.141Z"
   },
   {
    "duration": 19,
    "start_time": "2021-12-07T13:47:17.326Z"
   },
   {
    "duration": 58,
    "start_time": "2021-12-07T13:47:35.222Z"
   },
   {
    "duration": 10,
    "start_time": "2021-12-07T13:47:35.282Z"
   },
   {
    "duration": 15,
    "start_time": "2021-12-07T13:47:35.294Z"
   },
   {
    "duration": 36,
    "start_time": "2021-12-07T13:47:35.311Z"
   },
   {
    "duration": 268,
    "start_time": "2021-12-07T13:47:35.349Z"
   },
   {
    "duration": 21,
    "start_time": "2021-12-07T13:47:35.618Z"
   },
   {
    "duration": 57,
    "start_time": "2021-12-07T14:04:45.030Z"
   },
   {
    "duration": 236,
    "start_time": "2021-12-07T14:05:04.174Z"
   },
   {
    "duration": 59,
    "start_time": "2021-12-07T14:05:07.516Z"
   },
   {
    "duration": 10,
    "start_time": "2021-12-07T14:05:07.576Z"
   },
   {
    "duration": 12,
    "start_time": "2021-12-07T14:05:07.588Z"
   },
   {
    "duration": 32,
    "start_time": "2021-12-07T14:05:07.602Z"
   },
   {
    "duration": 293,
    "start_time": "2021-12-07T14:05:07.636Z"
   },
   {
    "duration": 21,
    "start_time": "2021-12-07T14:05:07.931Z"
   },
   {
    "duration": 11,
    "start_time": "2021-12-07T14:06:11.991Z"
   },
   {
    "duration": 3,
    "start_time": "2021-12-07T14:06:21.974Z"
   },
   {
    "duration": 5,
    "start_time": "2021-12-07T14:21:47.170Z"
   },
   {
    "duration": 14,
    "start_time": "2021-12-07T14:21:50.075Z"
   },
   {
    "duration": 57,
    "start_time": "2021-12-07T14:21:55.915Z"
   },
   {
    "duration": 13,
    "start_time": "2021-12-07T14:21:55.974Z"
   },
   {
    "duration": 9,
    "start_time": "2021-12-07T14:21:55.989Z"
   },
   {
    "duration": 33,
    "start_time": "2021-12-07T14:21:55.999Z"
   },
   {
    "duration": 279,
    "start_time": "2021-12-07T14:21:56.034Z"
   },
   {
    "duration": 5,
    "start_time": "2021-12-07T14:21:56.315Z"
   },
   {
    "duration": 16,
    "start_time": "2021-12-07T14:21:56.322Z"
   },
   {
    "duration": 13,
    "start_time": "2021-12-07T14:22:06.763Z"
   },
   {
    "duration": 78,
    "start_time": "2021-12-07T14:22:11.891Z"
   },
   {
    "duration": 3,
    "start_time": "2021-12-07T14:22:15.835Z"
   },
   {
    "duration": 15,
    "start_time": "2021-12-07T14:28:42.675Z"
   },
   {
    "duration": 15,
    "start_time": "2021-12-07T14:29:00.172Z"
   },
   {
    "duration": 15,
    "start_time": "2021-12-07T14:29:03.339Z"
   },
   {
    "duration": 250,
    "start_time": "2021-12-07T14:29:22.909Z"
   },
   {
    "duration": 18,
    "start_time": "2021-12-07T14:29:30.661Z"
   },
   {
    "duration": 59,
    "start_time": "2021-12-07T14:29:53.131Z"
   },
   {
    "duration": 9,
    "start_time": "2021-12-07T14:29:53.192Z"
   },
   {
    "duration": 8,
    "start_time": "2021-12-07T14:29:53.202Z"
   },
   {
    "duration": 31,
    "start_time": "2021-12-07T14:29:53.212Z"
   },
   {
    "duration": 284,
    "start_time": "2021-12-07T14:29:53.244Z"
   },
   {
    "duration": 5,
    "start_time": "2021-12-07T14:29:53.529Z"
   },
   {
    "duration": 7,
    "start_time": "2021-12-07T14:29:53.536Z"
   },
   {
    "duration": 14,
    "start_time": "2021-12-07T14:29:53.545Z"
   },
   {
    "duration": 37,
    "start_time": "2021-12-07T14:29:53.561Z"
   },
   {
    "duration": 26,
    "start_time": "2021-12-07T14:30:07.181Z"
   },
   {
    "duration": 21,
    "start_time": "2021-12-07T14:30:10.517Z"
   },
   {
    "duration": 266,
    "start_time": "2021-12-07T14:32:34.000Z"
   },
   {
    "duration": 14,
    "start_time": "2021-12-07T14:32:36.760Z"
   },
   {
    "duration": 57,
    "start_time": "2021-12-07T14:32:41.452Z"
   },
   {
    "duration": 9,
    "start_time": "2021-12-07T14:32:41.511Z"
   },
   {
    "duration": 8,
    "start_time": "2021-12-07T14:32:41.522Z"
   },
   {
    "duration": 38,
    "start_time": "2021-12-07T14:32:41.532Z"
   },
   {
    "duration": 262,
    "start_time": "2021-12-07T14:32:41.589Z"
   },
   {
    "duration": 6,
    "start_time": "2021-12-07T14:32:41.853Z"
   },
   {
    "duration": 9,
    "start_time": "2021-12-07T14:32:41.861Z"
   },
   {
    "duration": 26,
    "start_time": "2021-12-07T14:32:41.872Z"
   },
   {
    "duration": 14,
    "start_time": "2021-12-07T14:32:41.900Z"
   },
   {
    "duration": 6,
    "start_time": "2021-12-07T14:33:01.890Z"
   },
   {
    "duration": 15,
    "start_time": "2021-12-07T14:33:08.425Z"
   },
   {
    "duration": 59,
    "start_time": "2021-12-07T14:33:11.731Z"
   },
   {
    "duration": 10,
    "start_time": "2021-12-07T14:33:11.792Z"
   },
   {
    "duration": 10,
    "start_time": "2021-12-07T14:33:11.804Z"
   },
   {
    "duration": 30,
    "start_time": "2021-12-07T14:33:11.816Z"
   },
   {
    "duration": 312,
    "start_time": "2021-12-07T14:33:11.848Z"
   },
   {
    "duration": 5,
    "start_time": "2021-12-07T14:33:12.162Z"
   },
   {
    "duration": 20,
    "start_time": "2021-12-07T14:33:12.169Z"
   },
   {
    "duration": 13,
    "start_time": "2021-12-07T14:33:12.191Z"
   },
   {
    "duration": 15,
    "start_time": "2021-12-07T14:33:12.206Z"
   },
   {
    "duration": 7,
    "start_time": "2021-12-07T14:35:54.877Z"
   },
   {
    "duration": 252,
    "start_time": "2021-12-07T14:40:05.059Z"
   },
   {
    "duration": 60,
    "start_time": "2021-12-07T14:40:09.376Z"
   },
   {
    "duration": 9,
    "start_time": "2021-12-07T14:40:09.438Z"
   },
   {
    "duration": 10,
    "start_time": "2021-12-07T14:40:09.449Z"
   },
   {
    "duration": 49,
    "start_time": "2021-12-07T14:40:09.461Z"
   },
   {
    "duration": 267,
    "start_time": "2021-12-07T14:40:09.511Z"
   },
   {
    "duration": 10,
    "start_time": "2021-12-07T14:40:09.779Z"
   },
   {
    "duration": 7,
    "start_time": "2021-12-07T14:40:09.791Z"
   },
   {
    "duration": 18,
    "start_time": "2021-12-07T14:40:09.800Z"
   },
   {
    "duration": 16,
    "start_time": "2021-12-07T14:40:09.820Z"
   },
   {
    "duration": 282,
    "start_time": "2021-12-07T14:40:09.837Z"
   },
   {
    "duration": 6,
    "start_time": "2021-12-07T14:40:16.724Z"
   },
   {
    "duration": 6,
    "start_time": "2021-12-07T14:40:22.603Z"
   },
   {
    "duration": 6,
    "start_time": "2021-12-07T14:40:49.428Z"
   },
   {
    "duration": 6,
    "start_time": "2021-12-07T14:41:10.293Z"
   },
   {
    "duration": 72,
    "start_time": "2021-12-07T14:41:58.571Z"
   },
   {
    "duration": 65,
    "start_time": "2021-12-07T14:41:58.579Z"
   },
   {
    "duration": 62,
    "start_time": "2021-12-07T14:41:58.582Z"
   },
   {
    "duration": 60,
    "start_time": "2021-12-07T14:41:58.585Z"
   },
   {
    "duration": 59,
    "start_time": "2021-12-07T14:41:58.587Z"
   },
   {
    "duration": 57,
    "start_time": "2021-12-07T14:41:58.590Z"
   },
   {
    "duration": 55,
    "start_time": "2021-12-07T14:41:58.593Z"
   },
   {
    "duration": 54,
    "start_time": "2021-12-07T14:41:58.595Z"
   },
   {
    "duration": 51,
    "start_time": "2021-12-07T14:41:58.599Z"
   },
   {
    "duration": 50,
    "start_time": "2021-12-07T14:41:58.601Z"
   },
   {
    "duration": 58,
    "start_time": "2021-12-07T14:42:05.179Z"
   },
   {
    "duration": 9,
    "start_time": "2021-12-07T14:42:05.239Z"
   },
   {
    "duration": 8,
    "start_time": "2021-12-07T14:42:05.250Z"
   },
   {
    "duration": 48,
    "start_time": "2021-12-07T14:42:05.260Z"
   },
   {
    "duration": 264,
    "start_time": "2021-12-07T14:42:05.310Z"
   },
   {
    "duration": 13,
    "start_time": "2021-12-07T14:42:05.575Z"
   },
   {
    "duration": 10,
    "start_time": "2021-12-07T14:42:05.589Z"
   },
   {
    "duration": 15,
    "start_time": "2021-12-07T14:42:05.601Z"
   },
   {
    "duration": 15,
    "start_time": "2021-12-07T14:42:05.617Z"
   },
   {
    "duration": 11,
    "start_time": "2021-12-07T14:42:05.633Z"
   },
   {
    "duration": 12,
    "start_time": "2021-12-07T14:42:48.799Z"
   },
   {
    "duration": 15,
    "start_time": "2021-12-07T14:42:57.471Z"
   },
   {
    "duration": 16,
    "start_time": "2021-12-07T14:43:07.142Z"
   },
   {
    "duration": 17,
    "start_time": "2021-12-07T14:43:12.127Z"
   },
   {
    "duration": 47,
    "start_time": "2021-12-07T14:43:17.815Z"
   },
   {
    "duration": 9,
    "start_time": "2021-12-07T14:43:17.864Z"
   },
   {
    "duration": 8,
    "start_time": "2021-12-07T14:43:17.875Z"
   },
   {
    "duration": 33,
    "start_time": "2021-12-07T14:43:17.885Z"
   },
   {
    "duration": 264,
    "start_time": "2021-12-07T14:43:17.920Z"
   },
   {
    "duration": 6,
    "start_time": "2021-12-07T14:43:18.185Z"
   },
   {
    "duration": 8,
    "start_time": "2021-12-07T14:43:18.192Z"
   },
   {
    "duration": 14,
    "start_time": "2021-12-07T14:43:18.202Z"
   },
   {
    "duration": 16,
    "start_time": "2021-12-07T14:43:18.218Z"
   },
   {
    "duration": 13,
    "start_time": "2021-12-07T14:43:18.235Z"
   },
   {
    "duration": 75,
    "start_time": "2021-12-07T14:46:11.666Z"
   },
   {
    "duration": 20,
    "start_time": "2021-12-07T14:46:29.035Z"
   },
   {
    "duration": 20,
    "start_time": "2021-12-07T14:46:35.148Z"
   },
   {
    "duration": 16,
    "start_time": "2021-12-07T14:48:03.861Z"
   },
   {
    "duration": 29,
    "start_time": "2021-12-07T14:50:02.520Z"
   },
   {
    "duration": 14,
    "start_time": "2021-12-07T14:51:09.393Z"
   },
   {
    "duration": 36,
    "start_time": "2021-12-07T14:51:35.064Z"
   },
   {
    "duration": 27,
    "start_time": "2021-12-07T14:51:46.514Z"
   },
   {
    "duration": 14,
    "start_time": "2021-12-07T14:52:43.372Z"
   },
   {
    "duration": 81,
    "start_time": "2021-12-07T14:52:46.523Z"
   },
   {
    "duration": 6,
    "start_time": "2021-12-07T14:52:51.259Z"
   },
   {
    "duration": 5,
    "start_time": "2021-12-07T14:52:59.147Z"
   },
   {
    "duration": 5,
    "start_time": "2021-12-07T14:53:31.333Z"
   },
   {
    "duration": 5,
    "start_time": "2021-12-07T14:53:57.813Z"
   },
   {
    "duration": 60,
    "start_time": "2021-12-07T14:55:27.637Z"
   },
   {
    "duration": 10,
    "start_time": "2021-12-07T14:55:27.698Z"
   },
   {
    "duration": 9,
    "start_time": "2021-12-07T14:55:27.710Z"
   },
   {
    "duration": 34,
    "start_time": "2021-12-07T14:55:27.721Z"
   },
   {
    "duration": 292,
    "start_time": "2021-12-07T14:55:27.756Z"
   },
   {
    "duration": 6,
    "start_time": "2021-12-07T14:55:28.050Z"
   },
   {
    "duration": 9,
    "start_time": "2021-12-07T14:55:28.058Z"
   },
   {
    "duration": 21,
    "start_time": "2021-12-07T14:55:28.070Z"
   },
   {
    "duration": 18,
    "start_time": "2021-12-07T14:55:28.093Z"
   },
   {
    "duration": 15,
    "start_time": "2021-12-07T14:55:28.113Z"
   },
   {
    "duration": 31,
    "start_time": "2021-12-07T14:55:28.130Z"
   },
   {
    "duration": 29,
    "start_time": "2021-12-07T14:56:42.328Z"
   },
   {
    "duration": 629,
    "start_time": "2021-12-07T19:27:27.263Z"
   },
   {
    "duration": 11,
    "start_time": "2021-12-07T19:27:27.894Z"
   },
   {
    "duration": 9,
    "start_time": "2021-12-07T19:27:27.907Z"
   },
   {
    "duration": 32,
    "start_time": "2021-12-07T19:27:27.918Z"
   },
   {
    "duration": 302,
    "start_time": "2021-12-07T19:27:27.951Z"
   },
   {
    "duration": 6,
    "start_time": "2021-12-07T19:27:28.255Z"
   },
   {
    "duration": 10,
    "start_time": "2021-12-07T19:27:28.263Z"
   },
   {
    "duration": 29,
    "start_time": "2021-12-07T19:27:28.274Z"
   },
   {
    "duration": 19,
    "start_time": "2021-12-07T19:27:28.305Z"
   },
   {
    "duration": 16,
    "start_time": "2021-12-07T19:27:28.325Z"
   },
   {
    "duration": 54,
    "start_time": "2021-12-07T19:27:28.343Z"
   },
   {
    "duration": 14,
    "start_time": "2021-12-07T19:36:12.663Z"
   },
   {
    "duration": 14,
    "start_time": "2021-12-07T19:36:49.838Z"
   },
   {
    "duration": 15,
    "start_time": "2021-12-07T19:37:32.901Z"
   },
   {
    "duration": 13,
    "start_time": "2021-12-07T19:37:38.933Z"
   },
   {
    "duration": 65,
    "start_time": "2021-12-07T19:37:44.893Z"
   },
   {
    "duration": 7,
    "start_time": "2021-12-07T19:37:50.476Z"
   },
   {
    "duration": 6,
    "start_time": "2021-12-07T19:38:10.125Z"
   },
   {
    "duration": 6,
    "start_time": "2021-12-07T19:38:19.109Z"
   },
   {
    "duration": 64,
    "start_time": "2021-12-07T19:38:21.901Z"
   },
   {
    "duration": 10,
    "start_time": "2021-12-07T19:38:21.967Z"
   },
   {
    "duration": 13,
    "start_time": "2021-12-07T19:38:21.980Z"
   },
   {
    "duration": 29,
    "start_time": "2021-12-07T19:38:21.994Z"
   },
   {
    "duration": 303,
    "start_time": "2021-12-07T19:38:22.025Z"
   },
   {
    "duration": 9,
    "start_time": "2021-12-07T19:38:22.330Z"
   },
   {
    "duration": 5,
    "start_time": "2021-12-07T19:38:22.341Z"
   },
   {
    "duration": 16,
    "start_time": "2021-12-07T19:38:22.348Z"
   },
   {
    "duration": 40,
    "start_time": "2021-12-07T19:38:22.366Z"
   },
   {
    "duration": 16,
    "start_time": "2021-12-07T19:38:22.408Z"
   },
   {
    "duration": 36,
    "start_time": "2021-12-07T19:38:22.425Z"
   },
   {
    "duration": 63,
    "start_time": "2021-12-07T19:38:36.405Z"
   },
   {
    "duration": 9,
    "start_time": "2021-12-07T19:38:36.470Z"
   },
   {
    "duration": 11,
    "start_time": "2021-12-07T19:38:36.481Z"
   },
   {
    "duration": 33,
    "start_time": "2021-12-07T19:38:36.494Z"
   },
   {
    "duration": 292,
    "start_time": "2021-12-07T19:38:36.528Z"
   },
   {
    "duration": 240,
    "start_time": "2021-12-07T19:38:36.822Z"
   },
   {
    "duration": -265,
    "start_time": "2021-12-07T19:38:37.330Z"
   },
   {
    "duration": -269,
    "start_time": "2021-12-07T19:38:37.335Z"
   },
   {
    "duration": -269,
    "start_time": "2021-12-07T19:38:37.336Z"
   },
   {
    "duration": -269,
    "start_time": "2021-12-07T19:38:37.338Z"
   },
   {
    "duration": -270,
    "start_time": "2021-12-07T19:38:37.340Z"
   },
   {
    "duration": 64,
    "start_time": "2021-12-07T19:39:08.759Z"
   },
   {
    "duration": 10,
    "start_time": "2021-12-07T19:39:08.825Z"
   },
   {
    "duration": 8,
    "start_time": "2021-12-07T19:39:08.838Z"
   },
   {
    "duration": 54,
    "start_time": "2021-12-07T19:39:08.848Z"
   },
   {
    "duration": 282,
    "start_time": "2021-12-07T19:39:08.903Z"
   },
   {
    "duration": 492,
    "start_time": "2021-12-07T19:39:09.190Z"
   },
   {
    "duration": -253,
    "start_time": "2021-12-07T19:39:09.937Z"
   },
   {
    "duration": -253,
    "start_time": "2021-12-07T19:39:09.938Z"
   },
   {
    "duration": -256,
    "start_time": "2021-12-07T19:39:09.942Z"
   },
   {
    "duration": -257,
    "start_time": "2021-12-07T19:39:09.943Z"
   },
   {
    "duration": -257,
    "start_time": "2021-12-07T19:39:09.944Z"
   },
   {
    "duration": 167,
    "start_time": "2021-12-07T19:39:23.044Z"
   },
   {
    "duration": 63,
    "start_time": "2021-12-07T19:39:30.115Z"
   },
   {
    "duration": 63,
    "start_time": "2021-12-07T19:39:37.568Z"
   },
   {
    "duration": 9,
    "start_time": "2021-12-07T19:39:37.633Z"
   },
   {
    "duration": 9,
    "start_time": "2021-12-07T19:39:37.645Z"
   },
   {
    "duration": 56,
    "start_time": "2021-12-07T19:39:37.655Z"
   },
   {
    "duration": 283,
    "start_time": "2021-12-07T19:39:37.713Z"
   },
   {
    "duration": 69,
    "start_time": "2021-12-07T19:39:37.997Z"
   },
   {
    "duration": -208,
    "start_time": "2021-12-07T19:39:38.276Z"
   },
   {
    "duration": -207,
    "start_time": "2021-12-07T19:39:38.277Z"
   },
   {
    "duration": -208,
    "start_time": "2021-12-07T19:39:38.279Z"
   },
   {
    "duration": -223,
    "start_time": "2021-12-07T19:39:38.295Z"
   },
   {
    "duration": -222,
    "start_time": "2021-12-07T19:39:38.296Z"
   },
   {
    "duration": 9,
    "start_time": "2021-12-07T19:40:13.370Z"
   },
   {
    "duration": 62,
    "start_time": "2021-12-07T19:40:48.258Z"
   },
   {
    "duration": 59,
    "start_time": "2021-12-07T19:40:56.842Z"
   },
   {
    "duration": 8,
    "start_time": "2021-12-07T19:41:11.130Z"
   },
   {
    "duration": 8,
    "start_time": "2021-12-07T19:42:19.208Z"
   },
   {
    "duration": 7,
    "start_time": "2021-12-07T19:42:35.570Z"
   },
   {
    "duration": 8,
    "start_time": "2021-12-07T19:42:47.416Z"
   },
   {
    "duration": 6,
    "start_time": "2021-12-07T19:42:57.352Z"
   },
   {
    "duration": 5,
    "start_time": "2021-12-07T19:43:09.704Z"
   },
   {
    "duration": 63,
    "start_time": "2021-12-07T19:43:12.845Z"
   },
   {
    "duration": 10,
    "start_time": "2021-12-07T19:43:12.909Z"
   },
   {
    "duration": 8,
    "start_time": "2021-12-07T19:43:12.921Z"
   },
   {
    "duration": 35,
    "start_time": "2021-12-07T19:43:12.931Z"
   },
   {
    "duration": 303,
    "start_time": "2021-12-07T19:43:12.967Z"
   },
   {
    "duration": 9,
    "start_time": "2021-12-07T19:43:13.272Z"
   },
   {
    "duration": 13,
    "start_time": "2021-12-07T19:43:13.282Z"
   },
   {
    "duration": 16,
    "start_time": "2021-12-07T19:43:13.296Z"
   },
   {
    "duration": 16,
    "start_time": "2021-12-07T19:43:13.314Z"
   },
   {
    "duration": 15,
    "start_time": "2021-12-07T19:43:13.331Z"
   },
   {
    "duration": 52,
    "start_time": "2021-12-07T19:43:13.348Z"
   },
   {
    "duration": 60,
    "start_time": "2021-12-07T19:43:41.492Z"
   },
   {
    "duration": 9,
    "start_time": "2021-12-07T19:43:41.554Z"
   },
   {
    "duration": 11,
    "start_time": "2021-12-07T19:43:41.565Z"
   },
   {
    "duration": 40,
    "start_time": "2021-12-07T19:43:41.578Z"
   },
   {
    "duration": 284,
    "start_time": "2021-12-07T19:43:41.620Z"
   },
   {
    "duration": 178,
    "start_time": "2021-12-07T19:43:41.906Z"
   },
   {
    "duration": -232,
    "start_time": "2021-12-07T19:43:42.318Z"
   },
   {
    "duration": -232,
    "start_time": "2021-12-07T19:43:42.319Z"
   },
   {
    "duration": -233,
    "start_time": "2021-12-07T19:43:42.321Z"
   },
   {
    "duration": -236,
    "start_time": "2021-12-07T19:43:42.325Z"
   },
   {
    "duration": -239,
    "start_time": "2021-12-07T19:43:42.328Z"
   },
   {
    "duration": 61,
    "start_time": "2021-12-07T19:44:49.961Z"
   },
   {
    "duration": 14,
    "start_time": "2021-12-07T19:44:50.025Z"
   },
   {
    "duration": 36,
    "start_time": "2021-12-07T19:44:50.041Z"
   },
   {
    "duration": 34,
    "start_time": "2021-12-07T19:44:50.079Z"
   },
   {
    "duration": 288,
    "start_time": "2021-12-07T19:44:50.115Z"
   },
   {
    "duration": 10,
    "start_time": "2021-12-07T19:44:50.404Z"
   },
   {
    "duration": 5,
    "start_time": "2021-12-07T19:44:50.415Z"
   },
   {
    "duration": 16,
    "start_time": "2021-12-07T19:44:50.422Z"
   },
   {
    "duration": 16,
    "start_time": "2021-12-07T19:44:50.440Z"
   },
   {
    "duration": 41,
    "start_time": "2021-12-07T19:44:50.457Z"
   },
   {
    "duration": 30,
    "start_time": "2021-12-07T19:44:50.500Z"
   },
   {
    "duration": 61,
    "start_time": "2021-12-07T19:48:32.978Z"
   },
   {
    "duration": 10,
    "start_time": "2021-12-07T19:48:33.041Z"
   },
   {
    "duration": 8,
    "start_time": "2021-12-07T19:48:33.053Z"
   },
   {
    "duration": 69,
    "start_time": "2021-12-07T19:48:33.063Z"
   },
   {
    "duration": 287,
    "start_time": "2021-12-07T19:48:33.133Z"
   },
   {
    "duration": 10,
    "start_time": "2021-12-07T19:48:33.422Z"
   },
   {
    "duration": 5,
    "start_time": "2021-12-07T19:48:33.433Z"
   },
   {
    "duration": 16,
    "start_time": "2021-12-07T19:48:33.440Z"
   },
   {
    "duration": 35,
    "start_time": "2021-12-07T19:48:33.458Z"
   },
   {
    "duration": 15,
    "start_time": "2021-12-07T19:48:33.495Z"
   },
   {
    "duration": 40,
    "start_time": "2021-12-07T19:48:33.511Z"
   },
   {
    "duration": 175,
    "start_time": "2021-12-07T19:51:21.895Z"
   },
   {
    "duration": 145,
    "start_time": "2021-12-07T19:53:06.214Z"
   },
   {
    "duration": 8,
    "start_time": "2021-12-07T19:53:09.981Z"
   },
   {
    "duration": 60,
    "start_time": "2021-12-07T19:53:13.763Z"
   },
   {
    "duration": 9,
    "start_time": "2021-12-07T19:53:13.825Z"
   },
   {
    "duration": 8,
    "start_time": "2021-12-07T19:53:13.836Z"
   },
   {
    "duration": 49,
    "start_time": "2021-12-07T19:53:13.846Z"
   },
   {
    "duration": 284,
    "start_time": "2021-12-07T19:53:13.897Z"
   },
   {
    "duration": 13,
    "start_time": "2021-12-07T19:53:14.183Z"
   },
   {
    "duration": 5,
    "start_time": "2021-12-07T19:53:14.198Z"
   },
   {
    "duration": 15,
    "start_time": "2021-12-07T19:53:14.205Z"
   },
   {
    "duration": 15,
    "start_time": "2021-12-07T19:53:14.221Z"
   },
   {
    "duration": 15,
    "start_time": "2021-12-07T19:53:14.237Z"
   },
   {
    "duration": 70,
    "start_time": "2021-12-07T19:53:14.254Z"
   },
   {
    "duration": 8,
    "start_time": "2021-12-07T19:53:34.013Z"
   },
   {
    "duration": 6,
    "start_time": "2021-12-07T19:54:15.709Z"
   },
   {
    "duration": 62,
    "start_time": "2021-12-07T19:54:18.410Z"
   },
   {
    "duration": 10,
    "start_time": "2021-12-07T19:54:18.473Z"
   },
   {
    "duration": 14,
    "start_time": "2021-12-07T19:54:18.485Z"
   },
   {
    "duration": 42,
    "start_time": "2021-12-07T19:54:18.501Z"
   },
   {
    "duration": 278,
    "start_time": "2021-12-07T19:54:18.545Z"
   },
   {
    "duration": 9,
    "start_time": "2021-12-07T19:54:18.825Z"
   },
   {
    "duration": 15,
    "start_time": "2021-12-07T19:54:18.836Z"
   },
   {
    "duration": 34,
    "start_time": "2021-12-07T19:54:18.852Z"
   },
   {
    "duration": 17,
    "start_time": "2021-12-07T19:54:18.889Z"
   },
   {
    "duration": 21,
    "start_time": "2021-12-07T19:54:18.908Z"
   },
   {
    "duration": 39,
    "start_time": "2021-12-07T19:54:18.930Z"
   },
   {
    "duration": 7,
    "start_time": "2021-12-07T19:54:49.013Z"
   },
   {
    "duration": 61,
    "start_time": "2021-12-07T19:54:52.963Z"
   },
   {
    "duration": 10,
    "start_time": "2021-12-07T19:54:53.026Z"
   },
   {
    "duration": 11,
    "start_time": "2021-12-07T19:54:53.038Z"
   },
   {
    "duration": 52,
    "start_time": "2021-12-07T19:54:53.050Z"
   },
   {
    "duration": 281,
    "start_time": "2021-12-07T19:54:53.104Z"
   },
   {
    "duration": 8,
    "start_time": "2021-12-07T19:54:53.391Z"
   },
   {
    "duration": 16,
    "start_time": "2021-12-07T19:54:53.401Z"
   },
   {
    "duration": 31,
    "start_time": "2021-12-07T19:54:53.418Z"
   },
   {
    "duration": 23,
    "start_time": "2021-12-07T19:54:53.451Z"
   },
   {
    "duration": 14,
    "start_time": "2021-12-07T19:54:53.476Z"
   },
   {
    "duration": 40,
    "start_time": "2021-12-07T19:54:53.492Z"
   },
   {
    "duration": 64,
    "start_time": "2021-12-07T19:56:26.595Z"
   },
   {
    "duration": 11,
    "start_time": "2021-12-07T19:56:26.661Z"
   },
   {
    "duration": 8,
    "start_time": "2021-12-07T19:56:26.674Z"
   },
   {
    "duration": 36,
    "start_time": "2021-12-07T19:56:26.691Z"
   },
   {
    "duration": 319,
    "start_time": "2021-12-07T19:56:26.728Z"
   },
   {
    "duration": 11,
    "start_time": "2021-12-07T19:56:27.049Z"
   },
   {
    "duration": 7,
    "start_time": "2021-12-07T19:56:27.062Z"
   },
   {
    "duration": 29,
    "start_time": "2021-12-07T19:56:27.071Z"
   },
   {
    "duration": 17,
    "start_time": "2021-12-07T19:56:27.102Z"
   },
   {
    "duration": 15,
    "start_time": "2021-12-07T19:56:27.121Z"
   },
   {
    "duration": 32,
    "start_time": "2021-12-07T19:56:27.137Z"
   },
   {
    "duration": 62,
    "start_time": "2021-12-07T19:58:10.912Z"
   },
   {
    "duration": 12,
    "start_time": "2021-12-07T19:58:10.976Z"
   },
   {
    "duration": 10,
    "start_time": "2021-12-07T19:58:10.990Z"
   },
   {
    "duration": 37,
    "start_time": "2021-12-07T19:58:11.002Z"
   },
   {
    "duration": 305,
    "start_time": "2021-12-07T19:58:11.040Z"
   },
   {
    "duration": 11,
    "start_time": "2021-12-07T19:58:11.347Z"
   },
   {
    "duration": 6,
    "start_time": "2021-12-07T19:58:11.360Z"
   },
   {
    "duration": 28,
    "start_time": "2021-12-07T19:58:11.368Z"
   },
   {
    "duration": 26,
    "start_time": "2021-12-07T19:58:11.398Z"
   },
   {
    "duration": 15,
    "start_time": "2021-12-07T19:58:11.425Z"
   },
   {
    "duration": 53,
    "start_time": "2021-12-07T19:58:11.442Z"
   },
   {
    "duration": 63,
    "start_time": "2021-12-07T19:58:43.437Z"
   },
   {
    "duration": 10,
    "start_time": "2021-12-07T19:58:43.502Z"
   },
   {
    "duration": 9,
    "start_time": "2021-12-07T19:58:43.514Z"
   },
   {
    "duration": 32,
    "start_time": "2021-12-07T19:58:43.525Z"
   },
   {
    "duration": 292,
    "start_time": "2021-12-07T19:58:43.559Z"
   },
   {
    "duration": 64,
    "start_time": "2021-12-07T19:58:43.853Z"
   },
   {
    "duration": -222,
    "start_time": "2021-12-07T19:58:44.141Z"
   },
   {
    "duration": -223,
    "start_time": "2021-12-07T19:58:44.143Z"
   },
   {
    "duration": -225,
    "start_time": "2021-12-07T19:58:44.146Z"
   },
   {
    "duration": -225,
    "start_time": "2021-12-07T19:58:44.148Z"
   },
   {
    "duration": -225,
    "start_time": "2021-12-07T19:58:44.149Z"
   },
   {
    "duration": 62,
    "start_time": "2021-12-07T19:58:50.423Z"
   },
   {
    "duration": 10,
    "start_time": "2021-12-07T19:58:50.487Z"
   },
   {
    "duration": 8,
    "start_time": "2021-12-07T19:58:50.499Z"
   },
   {
    "duration": 33,
    "start_time": "2021-12-07T19:58:50.509Z"
   },
   {
    "duration": 302,
    "start_time": "2021-12-07T19:58:50.543Z"
   },
   {
    "duration": 10,
    "start_time": "2021-12-07T19:58:50.847Z"
   },
   {
    "duration": 5,
    "start_time": "2021-12-07T19:58:50.858Z"
   },
   {
    "duration": 32,
    "start_time": "2021-12-07T19:58:50.865Z"
   },
   {
    "duration": 17,
    "start_time": "2021-12-07T19:58:50.899Z"
   },
   {
    "duration": 15,
    "start_time": "2021-12-07T19:58:50.917Z"
   },
   {
    "duration": 33,
    "start_time": "2021-12-07T19:58:50.934Z"
   },
   {
    "duration": 63,
    "start_time": "2021-12-07T19:59:18.452Z"
   },
   {
    "duration": 10,
    "start_time": "2021-12-07T19:59:18.516Z"
   },
   {
    "duration": 10,
    "start_time": "2021-12-07T19:59:18.528Z"
   },
   {
    "duration": 59,
    "start_time": "2021-12-07T19:59:18.540Z"
   },
   {
    "duration": 283,
    "start_time": "2021-12-07T19:59:18.601Z"
   },
   {
    "duration": 13,
    "start_time": "2021-12-07T19:59:18.886Z"
   },
   {
    "duration": 13,
    "start_time": "2021-12-07T19:59:18.900Z"
   },
   {
    "duration": 15,
    "start_time": "2021-12-07T19:59:18.915Z"
   },
   {
    "duration": 17,
    "start_time": "2021-12-07T19:59:18.931Z"
   },
   {
    "duration": 14,
    "start_time": "2021-12-07T19:59:18.949Z"
   },
   {
    "duration": 50,
    "start_time": "2021-12-07T19:59:18.964Z"
   },
   {
    "duration": 76,
    "start_time": "2021-12-07T20:01:26.251Z"
   },
   {
    "duration": 10,
    "start_time": "2021-12-07T20:01:26.329Z"
   },
   {
    "duration": 10,
    "start_time": "2021-12-07T20:01:26.342Z"
   },
   {
    "duration": 57,
    "start_time": "2021-12-07T20:01:26.353Z"
   },
   {
    "duration": 296,
    "start_time": "2021-12-07T20:01:26.411Z"
   },
   {
    "duration": 10,
    "start_time": "2021-12-07T20:01:26.709Z"
   },
   {
    "duration": 5,
    "start_time": "2021-12-07T20:01:26.720Z"
   },
   {
    "duration": 17,
    "start_time": "2021-12-07T20:01:26.727Z"
   },
   {
    "duration": 49,
    "start_time": "2021-12-07T20:01:26.746Z"
   },
   {
    "duration": 16,
    "start_time": "2021-12-07T20:01:26.797Z"
   },
   {
    "duration": 33,
    "start_time": "2021-12-07T20:01:26.815Z"
   },
   {
    "duration": 68,
    "start_time": "2021-12-07T20:04:14.636Z"
   },
   {
    "duration": 69,
    "start_time": "2021-12-07T20:04:23.748Z"
   },
   {
    "duration": 10,
    "start_time": "2021-12-07T20:04:23.819Z"
   },
   {
    "duration": 32,
    "start_time": "2021-12-07T20:04:23.832Z"
   },
   {
    "duration": 53,
    "start_time": "2021-12-07T20:04:23.866Z"
   },
   {
    "duration": 298,
    "start_time": "2021-12-07T20:04:23.921Z"
   },
   {
    "duration": 9,
    "start_time": "2021-12-07T20:04:24.221Z"
   },
   {
    "duration": 6,
    "start_time": "2021-12-07T20:04:24.232Z"
   },
   {
    "duration": 16,
    "start_time": "2021-12-07T20:04:24.240Z"
   },
   {
    "duration": 42,
    "start_time": "2021-12-07T20:04:24.259Z"
   },
   {
    "duration": 16,
    "start_time": "2021-12-07T20:04:24.303Z"
   },
   {
    "duration": 34,
    "start_time": "2021-12-07T20:04:24.321Z"
   },
   {
    "duration": 72,
    "start_time": "2021-12-07T20:06:01.772Z"
   },
   {
    "duration": 12,
    "start_time": "2021-12-07T20:06:01.847Z"
   },
   {
    "duration": 45,
    "start_time": "2021-12-07T20:06:01.862Z"
   },
   {
    "duration": 76,
    "start_time": "2021-12-07T20:06:01.909Z"
   },
   {
    "duration": 281,
    "start_time": "2021-12-07T20:06:01.987Z"
   },
   {
    "duration": 9,
    "start_time": "2021-12-07T20:06:02.270Z"
   },
   {
    "duration": 23,
    "start_time": "2021-12-07T20:06:02.291Z"
   },
   {
    "duration": 23,
    "start_time": "2021-12-07T20:06:02.316Z"
   },
   {
    "duration": 33,
    "start_time": "2021-12-07T20:06:02.341Z"
   },
   {
    "duration": 16,
    "start_time": "2021-12-07T20:06:02.376Z"
   },
   {
    "duration": 74,
    "start_time": "2021-12-07T20:06:02.394Z"
   },
   {
    "duration": 69,
    "start_time": "2021-12-07T20:07:31.088Z"
   },
   {
    "duration": 13,
    "start_time": "2021-12-07T20:07:31.158Z"
   },
   {
    "duration": 38,
    "start_time": "2021-12-07T20:07:31.175Z"
   },
   {
    "duration": 51,
    "start_time": "2021-12-07T20:07:31.215Z"
   },
   {
    "duration": 305,
    "start_time": "2021-12-07T20:07:31.268Z"
   },
   {
    "duration": 19,
    "start_time": "2021-12-07T20:07:31.574Z"
   },
   {
    "duration": 6,
    "start_time": "2021-12-07T20:07:31.594Z"
   },
   {
    "duration": 30,
    "start_time": "2021-12-07T20:07:31.602Z"
   },
   {
    "duration": 21,
    "start_time": "2021-12-07T20:07:31.634Z"
   },
   {
    "duration": 14,
    "start_time": "2021-12-07T20:07:31.657Z"
   },
   {
    "duration": 40,
    "start_time": "2021-12-07T20:07:31.673Z"
   },
   {
    "duration": 236,
    "start_time": "2021-12-07T20:08:14.785Z"
   },
   {
    "duration": 6,
    "start_time": "2021-12-07T20:11:03.302Z"
   },
   {
    "duration": 68,
    "start_time": "2021-12-07T20:17:41.878Z"
   },
   {
    "duration": 12,
    "start_time": "2021-12-07T20:17:41.948Z"
   },
   {
    "duration": 42,
    "start_time": "2021-12-07T20:17:41.962Z"
   },
   {
    "duration": 32,
    "start_time": "2021-12-07T20:17:42.006Z"
   },
   {
    "duration": 322,
    "start_time": "2021-12-07T20:17:42.040Z"
   },
   {
    "duration": 8,
    "start_time": "2021-12-07T20:17:42.364Z"
   },
   {
    "duration": 18,
    "start_time": "2021-12-07T20:17:42.374Z"
   },
   {
    "duration": 4,
    "start_time": "2021-12-07T20:17:42.394Z"
   },
   {
    "duration": 376,
    "start_time": "2021-12-07T20:17:42.401Z"
   },
   {
    "duration": -249,
    "start_time": "2021-12-07T20:17:43.028Z"
   },
   {
    "duration": -249,
    "start_time": "2021-12-07T20:17:43.029Z"
   },
   {
    "duration": -250,
    "start_time": "2021-12-07T20:17:43.031Z"
   },
   {
    "duration": -249,
    "start_time": "2021-12-07T20:17:43.032Z"
   },
   {
    "duration": 67,
    "start_time": "2021-12-07T20:18:03.912Z"
   },
   {
    "duration": 9,
    "start_time": "2021-12-07T20:18:03.981Z"
   },
   {
    "duration": 12,
    "start_time": "2021-12-07T20:18:03.992Z"
   },
   {
    "duration": 36,
    "start_time": "2021-12-07T20:18:04.005Z"
   },
   {
    "duration": 286,
    "start_time": "2021-12-07T20:18:04.043Z"
   },
   {
    "duration": 9,
    "start_time": "2021-12-07T20:18:04.330Z"
   },
   {
    "duration": 6,
    "start_time": "2021-12-07T20:18:04.341Z"
   },
   {
    "duration": 6,
    "start_time": "2021-12-07T20:18:04.349Z"
   },
   {
    "duration": 174,
    "start_time": "2021-12-07T20:18:04.357Z"
   },
   {
    "duration": -239,
    "start_time": "2021-12-07T20:18:04.772Z"
   },
   {
    "duration": -240,
    "start_time": "2021-12-07T20:18:04.774Z"
   },
   {
    "duration": -248,
    "start_time": "2021-12-07T20:18:04.782Z"
   },
   {
    "duration": -248,
    "start_time": "2021-12-07T20:18:04.783Z"
   },
   {
    "duration": 68,
    "start_time": "2021-12-07T20:19:19.767Z"
   },
   {
    "duration": 9,
    "start_time": "2021-12-07T20:19:19.837Z"
   },
   {
    "duration": 9,
    "start_time": "2021-12-07T20:19:19.848Z"
   },
   {
    "duration": 56,
    "start_time": "2021-12-07T20:19:19.858Z"
   },
   {
    "duration": 279,
    "start_time": "2021-12-07T20:19:19.916Z"
   },
   {
    "duration": 9,
    "start_time": "2021-12-07T20:19:20.197Z"
   },
   {
    "duration": 6,
    "start_time": "2021-12-07T20:19:20.208Z"
   },
   {
    "duration": 8,
    "start_time": "2021-12-07T20:19:20.216Z"
   },
   {
    "duration": 187,
    "start_time": "2021-12-07T20:19:20.226Z"
   },
   {
    "duration": -242,
    "start_time": "2021-12-07T20:19:20.657Z"
   },
   {
    "duration": -248,
    "start_time": "2021-12-07T20:19:20.664Z"
   },
   {
    "duration": -249,
    "start_time": "2021-12-07T20:19:20.665Z"
   },
   {
    "duration": -249,
    "start_time": "2021-12-07T20:19:20.666Z"
   },
   {
    "duration": 68,
    "start_time": "2021-12-07T20:19:51.904Z"
   },
   {
    "duration": 13,
    "start_time": "2021-12-07T20:19:51.974Z"
   },
   {
    "duration": 10,
    "start_time": "2021-12-07T20:19:51.989Z"
   },
   {
    "duration": 36,
    "start_time": "2021-12-07T20:19:52.001Z"
   },
   {
    "duration": 301,
    "start_time": "2021-12-07T20:19:52.040Z"
   },
   {
    "duration": 11,
    "start_time": "2021-12-07T20:19:52.343Z"
   },
   {
    "duration": 7,
    "start_time": "2021-12-07T20:19:52.355Z"
   },
   {
    "duration": 28,
    "start_time": "2021-12-07T20:19:52.364Z"
   },
   {
    "duration": 273,
    "start_time": "2021-12-07T20:19:52.395Z"
   },
   {
    "duration": -250,
    "start_time": "2021-12-07T20:19:52.920Z"
   },
   {
    "duration": -250,
    "start_time": "2021-12-07T20:19:52.921Z"
   },
   {
    "duration": -251,
    "start_time": "2021-12-07T20:19:52.923Z"
   },
   {
    "duration": -252,
    "start_time": "2021-12-07T20:19:52.925Z"
   },
   {
    "duration": 68,
    "start_time": "2021-12-07T20:21:12.048Z"
   },
   {
    "duration": 10,
    "start_time": "2021-12-07T20:21:12.118Z"
   },
   {
    "duration": 17,
    "start_time": "2021-12-07T20:21:12.130Z"
   },
   {
    "duration": 57,
    "start_time": "2021-12-07T20:21:12.149Z"
   },
   {
    "duration": 283,
    "start_time": "2021-12-07T20:21:12.208Z"
   },
   {
    "duration": 9,
    "start_time": "2021-12-07T20:21:12.493Z"
   },
   {
    "duration": 6,
    "start_time": "2021-12-07T20:21:12.504Z"
   },
   {
    "duration": 25,
    "start_time": "2021-12-07T20:21:12.511Z"
   },
   {
    "duration": 293,
    "start_time": "2021-12-07T20:21:12.538Z"
   },
   {
    "duration": -252,
    "start_time": "2021-12-07T20:21:13.085Z"
   },
   {
    "duration": -252,
    "start_time": "2021-12-07T20:21:13.086Z"
   },
   {
    "duration": -253,
    "start_time": "2021-12-07T20:21:13.088Z"
   },
   {
    "duration": -253,
    "start_time": "2021-12-07T20:21:13.089Z"
   },
   {
    "duration": 68,
    "start_time": "2021-12-07T20:22:08.230Z"
   },
   {
    "duration": 10,
    "start_time": "2021-12-07T20:22:08.299Z"
   },
   {
    "duration": 8,
    "start_time": "2021-12-07T20:22:08.312Z"
   },
   {
    "duration": 35,
    "start_time": "2021-12-07T20:22:08.322Z"
   },
   {
    "duration": 308,
    "start_time": "2021-12-07T20:22:08.358Z"
   },
   {
    "duration": 9,
    "start_time": "2021-12-07T20:22:08.667Z"
   },
   {
    "duration": 13,
    "start_time": "2021-12-07T20:22:08.678Z"
   },
   {
    "duration": 4,
    "start_time": "2021-12-07T20:22:08.693Z"
   },
   {
    "duration": 11,
    "start_time": "2021-12-07T20:22:08.700Z"
   },
   {
    "duration": 14,
    "start_time": "2021-12-07T20:22:08.713Z"
   },
   {
    "duration": 17,
    "start_time": "2021-12-07T20:22:08.728Z"
   },
   {
    "duration": 44,
    "start_time": "2021-12-07T20:22:08.747Z"
   },
   {
    "duration": 31,
    "start_time": "2021-12-07T20:22:08.793Z"
   },
   {
    "duration": 78,
    "start_time": "2021-12-07T20:26:53.498Z"
   },
   {
    "duration": 13,
    "start_time": "2021-12-07T20:26:53.578Z"
   },
   {
    "duration": 8,
    "start_time": "2021-12-07T20:26:53.593Z"
   },
   {
    "duration": 32,
    "start_time": "2021-12-07T20:26:53.603Z"
   },
   {
    "duration": 299,
    "start_time": "2021-12-07T20:26:53.637Z"
   },
   {
    "duration": 9,
    "start_time": "2021-12-07T20:26:53.937Z"
   },
   {
    "duration": 6,
    "start_time": "2021-12-07T20:26:53.947Z"
   },
   {
    "duration": 7,
    "start_time": "2021-12-07T20:26:53.954Z"
   },
   {
    "duration": 284,
    "start_time": "2021-12-07T20:26:53.963Z"
   },
   {
    "duration": -244,
    "start_time": "2021-12-07T20:26:54.493Z"
   },
   {
    "duration": -245,
    "start_time": "2021-12-07T20:26:54.495Z"
   },
   {
    "duration": -252,
    "start_time": "2021-12-07T20:26:54.502Z"
   },
   {
    "duration": -254,
    "start_time": "2021-12-07T20:26:54.506Z"
   },
   {
    "duration": 65,
    "start_time": "2021-12-07T20:27:19.929Z"
   },
   {
    "duration": 10,
    "start_time": "2021-12-07T20:27:19.996Z"
   },
   {
    "duration": 15,
    "start_time": "2021-12-07T20:27:20.008Z"
   },
   {
    "duration": 67,
    "start_time": "2021-12-07T20:27:20.026Z"
   },
   {
    "duration": 288,
    "start_time": "2021-12-07T20:27:20.095Z"
   },
   {
    "duration": 12,
    "start_time": "2021-12-07T20:27:20.385Z"
   },
   {
    "duration": 6,
    "start_time": "2021-12-07T20:27:20.399Z"
   },
   {
    "duration": 9,
    "start_time": "2021-12-07T20:27:20.407Z"
   },
   {
    "duration": 297,
    "start_time": "2021-12-07T20:27:20.418Z"
   },
   {
    "duration": -264,
    "start_time": "2021-12-07T20:27:20.981Z"
   },
   {
    "duration": -264,
    "start_time": "2021-12-07T20:27:20.982Z"
   },
   {
    "duration": -264,
    "start_time": "2021-12-07T20:27:20.984Z"
   },
   {
    "duration": -264,
    "start_time": "2021-12-07T20:27:20.985Z"
   },
   {
    "duration": 67,
    "start_time": "2021-12-07T20:28:26.572Z"
   },
   {
    "duration": 10,
    "start_time": "2021-12-07T20:28:26.641Z"
   },
   {
    "duration": 11,
    "start_time": "2021-12-07T20:28:26.653Z"
   },
   {
    "duration": 55,
    "start_time": "2021-12-07T20:28:26.666Z"
   },
   {
    "duration": 304,
    "start_time": "2021-12-07T20:28:26.722Z"
   },
   {
    "duration": 9,
    "start_time": "2021-12-07T20:28:27.028Z"
   },
   {
    "duration": 8,
    "start_time": "2021-12-07T20:28:27.039Z"
   },
   {
    "duration": 7,
    "start_time": "2021-12-07T20:28:27.049Z"
   },
   {
    "duration": 288,
    "start_time": "2021-12-07T20:28:27.060Z"
   },
   {
    "duration": -252,
    "start_time": "2021-12-07T20:28:27.602Z"
   },
   {
    "duration": -260,
    "start_time": "2021-12-07T20:28:27.611Z"
   },
   {
    "duration": -261,
    "start_time": "2021-12-07T20:28:27.613Z"
   },
   {
    "duration": -261,
    "start_time": "2021-12-07T20:28:27.614Z"
   },
   {
    "duration": 65,
    "start_time": "2021-12-07T20:30:55.859Z"
   },
   {
    "duration": 9,
    "start_time": "2021-12-07T20:30:55.926Z"
   },
   {
    "duration": 13,
    "start_time": "2021-12-07T20:30:55.937Z"
   },
   {
    "duration": 51,
    "start_time": "2021-12-07T20:30:55.952Z"
   },
   {
    "duration": 293,
    "start_time": "2021-12-07T20:30:56.005Z"
   },
   {
    "duration": 9,
    "start_time": "2021-12-07T20:30:56.300Z"
   },
   {
    "duration": 5,
    "start_time": "2021-12-07T20:30:56.310Z"
   },
   {
    "duration": 6,
    "start_time": "2021-12-07T20:30:56.317Z"
   },
   {
    "duration": 304,
    "start_time": "2021-12-07T20:30:56.325Z"
   },
   {
    "duration": -264,
    "start_time": "2021-12-07T20:30:56.895Z"
   },
   {
    "duration": -264,
    "start_time": "2021-12-07T20:30:56.896Z"
   },
   {
    "duration": -265,
    "start_time": "2021-12-07T20:30:56.898Z"
   },
   {
    "duration": -265,
    "start_time": "2021-12-07T20:30:56.899Z"
   },
   {
    "duration": 67,
    "start_time": "2021-12-07T20:31:30.036Z"
   },
   {
    "duration": 10,
    "start_time": "2021-12-07T20:31:30.105Z"
   },
   {
    "duration": 12,
    "start_time": "2021-12-07T20:31:30.118Z"
   },
   {
    "duration": 41,
    "start_time": "2021-12-07T20:31:30.133Z"
   },
   {
    "duration": 310,
    "start_time": "2021-12-07T20:31:30.176Z"
   },
   {
    "duration": 9,
    "start_time": "2021-12-07T20:31:30.491Z"
   },
   {
    "duration": 9,
    "start_time": "2021-12-07T20:31:30.503Z"
   },
   {
    "duration": 24,
    "start_time": "2021-12-07T20:31:30.515Z"
   },
   {
    "duration": 342,
    "start_time": "2021-12-07T20:31:30.541Z"
   },
   {
    "duration": -262,
    "start_time": "2021-12-07T20:31:31.148Z"
   },
   {
    "duration": -263,
    "start_time": "2021-12-07T20:31:31.150Z"
   },
   {
    "duration": -263,
    "start_time": "2021-12-07T20:31:31.152Z"
   },
   {
    "duration": -263,
    "start_time": "2021-12-07T20:31:31.153Z"
   },
   {
    "duration": 64,
    "start_time": "2021-12-07T20:33:11.100Z"
   },
   {
    "duration": 11,
    "start_time": "2021-12-07T20:33:11.166Z"
   },
   {
    "duration": 14,
    "start_time": "2021-12-07T20:33:11.178Z"
   },
   {
    "duration": 34,
    "start_time": "2021-12-07T20:33:11.193Z"
   },
   {
    "duration": 290,
    "start_time": "2021-12-07T20:33:11.228Z"
   },
   {
    "duration": 8,
    "start_time": "2021-12-07T20:33:11.520Z"
   },
   {
    "duration": 5,
    "start_time": "2021-12-07T20:33:11.530Z"
   },
   {
    "duration": 5,
    "start_time": "2021-12-07T20:33:11.537Z"
   },
   {
    "duration": 318,
    "start_time": "2021-12-07T20:33:11.544Z"
   },
   {
    "duration": -264,
    "start_time": "2021-12-07T20:33:12.128Z"
   },
   {
    "duration": -268,
    "start_time": "2021-12-07T20:33:12.133Z"
   },
   {
    "duration": -268,
    "start_time": "2021-12-07T20:33:12.134Z"
   },
   {
    "duration": -269,
    "start_time": "2021-12-07T20:33:12.136Z"
   },
   {
    "duration": 87,
    "start_time": "2021-12-07T20:33:26.921Z"
   },
   {
    "duration": 10,
    "start_time": "2021-12-07T20:33:27.010Z"
   },
   {
    "duration": 22,
    "start_time": "2021-12-07T20:33:27.023Z"
   },
   {
    "duration": 62,
    "start_time": "2021-12-07T20:33:27.047Z"
   },
   {
    "duration": 299,
    "start_time": "2021-12-07T20:33:27.111Z"
   },
   {
    "duration": 12,
    "start_time": "2021-12-07T20:33:27.412Z"
   },
   {
    "duration": 5,
    "start_time": "2021-12-07T20:33:27.425Z"
   },
   {
    "duration": 6,
    "start_time": "2021-12-07T20:33:27.432Z"
   },
   {
    "duration": 6,
    "start_time": "2021-12-07T20:33:27.440Z"
   },
   {
    "duration": 43,
    "start_time": "2021-12-07T20:33:27.448Z"
   },
   {
    "duration": 18,
    "start_time": "2021-12-07T20:33:27.493Z"
   },
   {
    "duration": 14,
    "start_time": "2021-12-07T20:33:27.513Z"
   },
   {
    "duration": 39,
    "start_time": "2021-12-07T20:33:27.529Z"
   },
   {
    "duration": 69,
    "start_time": "2021-12-07T20:34:42.132Z"
   },
   {
    "duration": 10,
    "start_time": "2021-12-07T20:34:42.203Z"
   },
   {
    "duration": 26,
    "start_time": "2021-12-07T20:34:42.215Z"
   },
   {
    "duration": 51,
    "start_time": "2021-12-07T20:34:42.242Z"
   },
   {
    "duration": 293,
    "start_time": "2021-12-07T20:34:42.295Z"
   },
   {
    "duration": 9,
    "start_time": "2021-12-07T20:34:42.590Z"
   },
   {
    "duration": 6,
    "start_time": "2021-12-07T20:34:42.601Z"
   },
   {
    "duration": 8,
    "start_time": "2021-12-07T20:34:42.609Z"
   },
   {
    "duration": 8,
    "start_time": "2021-12-07T20:34:42.619Z"
   },
   {
    "duration": 15,
    "start_time": "2021-12-07T20:34:42.629Z"
   },
   {
    "duration": 50,
    "start_time": "2021-12-07T20:34:42.645Z"
   },
   {
    "duration": 17,
    "start_time": "2021-12-07T20:34:42.697Z"
   },
   {
    "duration": 35,
    "start_time": "2021-12-07T20:34:42.716Z"
   },
   {
    "duration": 84,
    "start_time": "2021-12-07T20:35:40.050Z"
   },
   {
    "duration": 10,
    "start_time": "2021-12-07T20:35:40.136Z"
   },
   {
    "duration": 13,
    "start_time": "2021-12-07T20:35:40.148Z"
   },
   {
    "duration": 51,
    "start_time": "2021-12-07T20:35:40.163Z"
   },
   {
    "duration": 281,
    "start_time": "2021-12-07T20:35:40.216Z"
   },
   {
    "duration": 9,
    "start_time": "2021-12-07T20:35:40.499Z"
   },
   {
    "duration": 5,
    "start_time": "2021-12-07T20:35:40.509Z"
   },
   {
    "duration": 6,
    "start_time": "2021-12-07T20:35:40.516Z"
   },
   {
    "duration": 8,
    "start_time": "2021-12-07T20:35:40.524Z"
   },
   {
    "duration": 14,
    "start_time": "2021-12-07T20:35:40.533Z"
   },
   {
    "duration": 50,
    "start_time": "2021-12-07T20:35:40.549Z"
   },
   {
    "duration": 15,
    "start_time": "2021-12-07T20:35:40.600Z"
   },
   {
    "duration": 35,
    "start_time": "2021-12-07T20:35:40.616Z"
   },
   {
    "duration": 6,
    "start_time": "2021-12-07T20:37:15.761Z"
   },
   {
    "duration": 8,
    "start_time": "2021-12-07T20:37:36.321Z"
   },
   {
    "duration": 6,
    "start_time": "2021-12-07T20:37:40.745Z"
   },
   {
    "duration": 65,
    "start_time": "2021-12-07T20:37:44.734Z"
   },
   {
    "duration": 10,
    "start_time": "2021-12-07T20:37:44.800Z"
   },
   {
    "duration": 9,
    "start_time": "2021-12-07T20:37:44.812Z"
   },
   {
    "duration": 34,
    "start_time": "2021-12-07T20:37:44.822Z"
   },
   {
    "duration": 306,
    "start_time": "2021-12-07T20:37:44.858Z"
   },
   {
    "duration": 11,
    "start_time": "2021-12-07T20:37:45.166Z"
   },
   {
    "duration": 6,
    "start_time": "2021-12-07T20:37:45.191Z"
   },
   {
    "duration": 7,
    "start_time": "2021-12-07T20:37:45.200Z"
   },
   {
    "duration": 9,
    "start_time": "2021-12-07T20:37:45.209Z"
   },
   {
    "duration": 15,
    "start_time": "2021-12-07T20:37:45.220Z"
   },
   {
    "duration": 19,
    "start_time": "2021-12-07T20:37:45.237Z"
   },
   {
    "duration": 47,
    "start_time": "2021-12-07T20:37:45.258Z"
   },
   {
    "duration": 32,
    "start_time": "2021-12-07T20:37:45.307Z"
   },
   {
    "duration": 77,
    "start_time": "2021-12-07T20:37:56.945Z"
   },
   {
    "duration": 16,
    "start_time": "2021-12-07T20:37:57.024Z"
   },
   {
    "duration": 11,
    "start_time": "2021-12-07T20:37:57.043Z"
   },
   {
    "duration": 69,
    "start_time": "2021-12-07T20:37:57.056Z"
   },
   {
    "duration": 296,
    "start_time": "2021-12-07T20:37:57.127Z"
   },
   {
    "duration": 9,
    "start_time": "2021-12-07T20:37:57.425Z"
   },
   {
    "duration": 5,
    "start_time": "2021-12-07T20:37:57.436Z"
   },
   {
    "duration": 6,
    "start_time": "2021-12-07T20:37:57.443Z"
   },
   {
    "duration": 7,
    "start_time": "2021-12-07T20:37:57.451Z"
   },
   {
    "duration": 41,
    "start_time": "2021-12-07T20:37:57.459Z"
   },
   {
    "duration": 15,
    "start_time": "2021-12-07T20:37:57.502Z"
   },
   {
    "duration": 13,
    "start_time": "2021-12-07T20:37:57.519Z"
   },
   {
    "duration": 32,
    "start_time": "2021-12-07T20:37:57.534Z"
   },
   {
    "duration": 71,
    "start_time": "2021-12-07T20:40:37.499Z"
   },
   {
    "duration": 13,
    "start_time": "2021-12-07T20:40:37.572Z"
   },
   {
    "duration": 11,
    "start_time": "2021-12-07T20:40:37.591Z"
   },
   {
    "duration": 39,
    "start_time": "2021-12-07T20:40:37.604Z"
   },
   {
    "duration": 299,
    "start_time": "2021-12-07T20:40:37.645Z"
   },
   {
    "duration": 13,
    "start_time": "2021-12-07T20:40:37.946Z"
   },
   {
    "duration": 5,
    "start_time": "2021-12-07T20:40:37.961Z"
   },
   {
    "duration": 24,
    "start_time": "2021-12-07T20:40:37.968Z"
   },
   {
    "duration": 8,
    "start_time": "2021-12-07T20:40:37.994Z"
   },
   {
    "duration": 14,
    "start_time": "2021-12-07T20:40:38.004Z"
   },
   {
    "duration": 16,
    "start_time": "2021-12-07T20:40:38.020Z"
   },
   {
    "duration": 15,
    "start_time": "2021-12-07T20:40:38.038Z"
   },
   {
    "duration": 66,
    "start_time": "2021-12-07T20:40:38.055Z"
   },
   {
    "duration": 18,
    "start_time": "2021-12-07T20:41:35.797Z"
   },
   {
    "duration": 35,
    "start_time": "2021-12-07T20:41:42.492Z"
   },
   {
    "duration": 64,
    "start_time": "2021-12-07T20:41:45.561Z"
   },
   {
    "duration": 10,
    "start_time": "2021-12-07T20:41:45.627Z"
   },
   {
    "duration": 8,
    "start_time": "2021-12-07T20:41:45.639Z"
   },
   {
    "duration": 47,
    "start_time": "2021-12-07T20:41:45.649Z"
   },
   {
    "duration": 286,
    "start_time": "2021-12-07T20:41:45.697Z"
   },
   {
    "duration": 13,
    "start_time": "2021-12-07T20:41:45.985Z"
   },
   {
    "duration": 5,
    "start_time": "2021-12-07T20:41:46.000Z"
   },
   {
    "duration": 9,
    "start_time": "2021-12-07T20:41:46.006Z"
   },
   {
    "duration": 8,
    "start_time": "2021-12-07T20:41:46.017Z"
   },
   {
    "duration": 16,
    "start_time": "2021-12-07T20:41:46.027Z"
   },
   {
    "duration": 47,
    "start_time": "2021-12-07T20:41:46.044Z"
   },
   {
    "duration": 16,
    "start_time": "2021-12-07T20:41:46.093Z"
   },
   {
    "duration": 35,
    "start_time": "2021-12-07T20:41:46.111Z"
   },
   {
    "duration": 69,
    "start_time": "2021-12-07T20:42:49.697Z"
   },
   {
    "duration": 11,
    "start_time": "2021-12-07T20:42:49.768Z"
   },
   {
    "duration": 12,
    "start_time": "2021-12-07T20:42:49.782Z"
   },
   {
    "duration": 34,
    "start_time": "2021-12-07T20:42:49.796Z"
   },
   {
    "duration": 300,
    "start_time": "2021-12-07T20:42:49.831Z"
   },
   {
    "duration": 10,
    "start_time": "2021-12-07T20:42:50.133Z"
   },
   {
    "duration": 5,
    "start_time": "2021-12-07T20:42:50.145Z"
   },
   {
    "duration": 14,
    "start_time": "2021-12-07T20:42:50.151Z"
   },
   {
    "duration": 8,
    "start_time": "2021-12-07T20:42:50.168Z"
   },
   {
    "duration": 26,
    "start_time": "2021-12-07T20:42:50.178Z"
   },
   {
    "duration": 20,
    "start_time": "2021-12-07T20:42:50.205Z"
   },
   {
    "duration": 16,
    "start_time": "2021-12-07T20:42:50.226Z"
   },
   {
    "duration": 64,
    "start_time": "2021-12-07T20:42:50.243Z"
   },
   {
    "duration": 17,
    "start_time": "2021-12-07T20:45:02.436Z"
   },
   {
    "duration": 69,
    "start_time": "2021-12-07T20:45:14.815Z"
   },
   {
    "duration": 10,
    "start_time": "2021-12-07T20:45:14.885Z"
   },
   {
    "duration": 25,
    "start_time": "2021-12-07T20:45:14.897Z"
   },
   {
    "duration": 49,
    "start_time": "2021-12-07T20:45:14.924Z"
   },
   {
    "duration": 283,
    "start_time": "2021-12-07T20:45:14.974Z"
   },
   {
    "duration": 11,
    "start_time": "2021-12-07T20:45:15.259Z"
   },
   {
    "duration": 16,
    "start_time": "2021-12-07T20:45:15.272Z"
   },
   {
    "duration": 38,
    "start_time": "2021-12-07T20:45:15.290Z"
   },
   {
    "duration": 28,
    "start_time": "2021-12-07T20:45:15.330Z"
   },
   {
    "duration": 40,
    "start_time": "2021-12-07T20:45:15.360Z"
   },
   {
    "duration": 16,
    "start_time": "2021-12-07T20:45:15.402Z"
   },
   {
    "duration": 20,
    "start_time": "2021-12-07T20:45:15.420Z"
   },
   {
    "duration": 37,
    "start_time": "2021-12-07T20:45:15.442Z"
   },
   {
    "duration": 23,
    "start_time": "2021-12-07T20:45:15.481Z"
   },
   {
    "duration": 29,
    "start_time": "2021-12-07T20:46:21.552Z"
   },
   {
    "duration": 230,
    "start_time": "2021-12-08T05:29:32.142Z"
   },
   {
    "duration": 618,
    "start_time": "2021-12-08T05:29:40.096Z"
   },
   {
    "duration": 12,
    "start_time": "2021-12-08T05:29:40.716Z"
   },
   {
    "duration": 10,
    "start_time": "2021-12-08T05:29:40.730Z"
   },
   {
    "duration": 50,
    "start_time": "2021-12-08T05:29:40.742Z"
   },
   {
    "duration": 274,
    "start_time": "2021-12-08T05:29:40.794Z"
   },
   {
    "duration": 11,
    "start_time": "2021-12-08T05:29:41.070Z"
   },
   {
    "duration": 11,
    "start_time": "2021-12-08T05:29:41.092Z"
   },
   {
    "duration": 5,
    "start_time": "2021-12-08T05:29:41.106Z"
   },
   {
    "duration": 9,
    "start_time": "2021-12-08T05:29:41.112Z"
   },
   {
    "duration": 15,
    "start_time": "2021-12-08T05:29:41.122Z"
   },
   {
    "duration": 59,
    "start_time": "2021-12-08T05:29:41.138Z"
   },
   {
    "duration": 14,
    "start_time": "2021-12-08T05:29:41.199Z"
   },
   {
    "duration": 32,
    "start_time": "2021-12-08T05:29:41.215Z"
   },
   {
    "duration": 14,
    "start_time": "2021-12-08T05:29:41.248Z"
   },
   {
    "duration": 22,
    "start_time": "2021-12-08T05:35:31.820Z"
   },
   {
    "duration": 21,
    "start_time": "2021-12-08T05:35:47.973Z"
   },
   {
    "duration": 22,
    "start_time": "2021-12-08T05:36:13.053Z"
   },
   {
    "duration": 7,
    "start_time": "2021-12-08T05:40:06.818Z"
   },
   {
    "duration": 18,
    "start_time": "2021-12-08T05:40:21.778Z"
   },
   {
    "duration": 7,
    "start_time": "2021-12-08T05:40:25.803Z"
   },
   {
    "duration": 8,
    "start_time": "2021-12-08T05:41:20.523Z"
   },
   {
    "duration": 41,
    "start_time": "2021-12-08T06:04:08.897Z"
   },
   {
    "duration": 58,
    "start_time": "2021-12-08T06:06:14.051Z"
   },
   {
    "duration": 60,
    "start_time": "2021-12-08T06:07:05.188Z"
   },
   {
    "duration": 84,
    "start_time": "2021-12-08T06:10:13.817Z"
   },
   {
    "duration": 82,
    "start_time": "2021-12-08T06:11:23.275Z"
   },
   {
    "duration": 73,
    "start_time": "2021-12-08T06:11:27.424Z"
   },
   {
    "duration": 13,
    "start_time": "2021-12-08T06:11:27.499Z"
   },
   {
    "duration": 11,
    "start_time": "2021-12-08T06:11:27.515Z"
   },
   {
    "duration": 63,
    "start_time": "2021-12-08T06:11:27.528Z"
   },
   {
    "duration": 291,
    "start_time": "2021-12-08T06:11:27.593Z"
   },
   {
    "duration": 14,
    "start_time": "2021-12-08T06:11:27.886Z"
   },
   {
    "duration": 10,
    "start_time": "2021-12-08T06:11:27.902Z"
   },
   {
    "duration": 5,
    "start_time": "2021-12-08T06:11:27.914Z"
   },
   {
    "duration": 9,
    "start_time": "2021-12-08T06:11:27.921Z"
   },
   {
    "duration": 16,
    "start_time": "2021-12-08T06:11:27.931Z"
   },
   {
    "duration": 66,
    "start_time": "2021-12-08T06:11:27.948Z"
   },
   {
    "duration": 16,
    "start_time": "2021-12-08T06:11:28.016Z"
   },
   {
    "duration": 72,
    "start_time": "2021-12-08T06:11:28.034Z"
   },
   {
    "duration": -475,
    "start_time": "2021-12-08T06:11:28.584Z"
   },
   {
    "duration": -476,
    "start_time": "2021-12-08T06:11:28.586Z"
   },
   {
    "duration": -485,
    "start_time": "2021-12-08T06:11:28.597Z"
   },
   {
    "duration": 91,
    "start_time": "2021-12-08T06:11:38.442Z"
   },
   {
    "duration": 112,
    "start_time": "2021-12-08T06:15:13.266Z"
   },
   {
    "duration": 65,
    "start_time": "2021-12-08T06:15:34.930Z"
   },
   {
    "duration": 10,
    "start_time": "2021-12-08T06:15:34.997Z"
   },
   {
    "duration": 9,
    "start_time": "2021-12-08T06:15:35.008Z"
   },
   {
    "duration": 31,
    "start_time": "2021-12-08T06:15:35.018Z"
   },
   {
    "duration": 289,
    "start_time": "2021-12-08T06:15:35.051Z"
   },
   {
    "duration": 11,
    "start_time": "2021-12-08T06:15:35.342Z"
   },
   {
    "duration": 9,
    "start_time": "2021-12-08T06:15:35.354Z"
   },
   {
    "duration": 26,
    "start_time": "2021-12-08T06:15:35.365Z"
   },
   {
    "duration": 7,
    "start_time": "2021-12-08T06:15:35.393Z"
   },
   {
    "duration": 13,
    "start_time": "2021-12-08T06:15:35.402Z"
   },
   {
    "duration": 26,
    "start_time": "2021-12-08T06:15:35.416Z"
   },
   {
    "duration": 14,
    "start_time": "2021-12-08T06:15:35.444Z"
   },
   {
    "duration": 66,
    "start_time": "2021-12-08T06:15:35.460Z"
   },
   {
    "duration": 0,
    "start_time": "2021-12-08T06:15:35.528Z"
   },
   {
    "duration": -2,
    "start_time": "2021-12-08T06:15:35.531Z"
   },
   {
    "duration": -5,
    "start_time": "2021-12-08T06:15:35.534Z"
   },
   {
    "duration": 112,
    "start_time": "2021-12-08T06:15:41.551Z"
   },
   {
    "duration": 66,
    "start_time": "2021-12-08T06:16:32.081Z"
   },
   {
    "duration": 11,
    "start_time": "2021-12-08T06:16:32.149Z"
   },
   {
    "duration": 9,
    "start_time": "2021-12-08T06:16:32.162Z"
   },
   {
    "duration": 33,
    "start_time": "2021-12-08T06:16:32.192Z"
   },
   {
    "duration": 289,
    "start_time": "2021-12-08T06:16:32.227Z"
   },
   {
    "duration": 9,
    "start_time": "2021-12-08T06:16:32.518Z"
   },
   {
    "duration": 11,
    "start_time": "2021-12-08T06:16:32.529Z"
   },
   {
    "duration": 5,
    "start_time": "2021-12-08T06:16:32.542Z"
   },
   {
    "duration": 10,
    "start_time": "2021-12-08T06:16:32.548Z"
   },
   {
    "duration": 38,
    "start_time": "2021-12-08T06:16:32.560Z"
   },
   {
    "duration": 29,
    "start_time": "2021-12-08T06:16:32.599Z"
   },
   {
    "duration": 15,
    "start_time": "2021-12-08T06:16:32.629Z"
   },
   {
    "duration": 69,
    "start_time": "2021-12-08T06:16:32.646Z"
   },
   {
    "duration": -19,
    "start_time": "2021-12-08T06:16:32.735Z"
   },
   {
    "duration": -23,
    "start_time": "2021-12-08T06:16:32.740Z"
   },
   {
    "duration": -25,
    "start_time": "2021-12-08T06:16:32.744Z"
   },
   {
    "duration": 140,
    "start_time": "2021-12-08T06:16:40.552Z"
   },
   {
    "duration": 142,
    "start_time": "2021-12-08T06:16:48.521Z"
   },
   {
    "duration": 30,
    "start_time": "2021-12-08T06:16:58.841Z"
   },
   {
    "duration": 17,
    "start_time": "2021-12-08T06:17:19.129Z"
   },
   {
    "duration": 68,
    "start_time": "2021-12-08T06:41:43.338Z"
   },
   {
    "duration": 10,
    "start_time": "2021-12-08T06:41:43.408Z"
   },
   {
    "duration": 9,
    "start_time": "2021-12-08T06:41:43.420Z"
   },
   {
    "duration": 32,
    "start_time": "2021-12-08T06:41:43.431Z"
   },
   {
    "duration": 267,
    "start_time": "2021-12-08T06:41:43.492Z"
   },
   {
    "duration": 9,
    "start_time": "2021-12-08T06:41:43.761Z"
   },
   {
    "duration": 21,
    "start_time": "2021-12-08T06:41:43.772Z"
   },
   {
    "duration": 5,
    "start_time": "2021-12-08T06:41:43.795Z"
   },
   {
    "duration": 8,
    "start_time": "2021-12-08T06:41:43.802Z"
   },
   {
    "duration": 13,
    "start_time": "2021-12-08T06:41:43.811Z"
   },
   {
    "duration": 25,
    "start_time": "2021-12-08T06:41:43.826Z"
   },
   {
    "duration": 42,
    "start_time": "2021-12-08T06:41:43.853Z"
   },
   {
    "duration": 151,
    "start_time": "2021-12-08T06:41:43.897Z"
   },
   {
    "duration": 29,
    "start_time": "2021-12-08T06:41:44.050Z"
   },
   {
    "duration": 24,
    "start_time": "2021-12-08T06:41:44.081Z"
   },
   {
    "duration": 57,
    "start_time": "2021-12-08T07:04:22.985Z"
   },
   {
    "duration": 72,
    "start_time": "2021-12-08T07:04:30.339Z"
   },
   {
    "duration": 9,
    "start_time": "2021-12-08T07:04:33.745Z"
   },
   {
    "duration": 67,
    "start_time": "2021-12-08T07:04:36.868Z"
   },
   {
    "duration": 11,
    "start_time": "2021-12-08T07:04:36.936Z"
   },
   {
    "duration": 8,
    "start_time": "2021-12-08T07:04:36.949Z"
   },
   {
    "duration": 53,
    "start_time": "2021-12-08T07:04:36.959Z"
   },
   {
    "duration": 277,
    "start_time": "2021-12-08T07:04:37.014Z"
   },
   {
    "duration": 12,
    "start_time": "2021-12-08T07:04:37.293Z"
   },
   {
    "duration": 9,
    "start_time": "2021-12-08T07:04:37.307Z"
   },
   {
    "duration": 5,
    "start_time": "2021-12-08T07:04:37.318Z"
   },
   {
    "duration": 8,
    "start_time": "2021-12-08T07:04:37.325Z"
   },
   {
    "duration": 19,
    "start_time": "2021-12-08T07:04:37.335Z"
   },
   {
    "duration": 62,
    "start_time": "2021-12-08T07:04:37.355Z"
   },
   {
    "duration": 16,
    "start_time": "2021-12-08T07:04:37.418Z"
   },
   {
    "duration": 13,
    "start_time": "2021-12-08T07:04:37.435Z"
   },
   {
    "duration": 46,
    "start_time": "2021-12-08T07:04:37.450Z"
   },
   {
    "duration": 15,
    "start_time": "2021-12-08T07:04:37.498Z"
   },
   {
    "duration": 4,
    "start_time": "2021-12-08T07:04:45.649Z"
   },
   {
    "duration": 6,
    "start_time": "2021-12-08T07:07:21.877Z"
   },
   {
    "duration": 4,
    "start_time": "2021-12-08T07:07:37.156Z"
   },
   {
    "duration": 3,
    "start_time": "2021-12-08T07:08:26.630Z"
   },
   {
    "duration": 199,
    "start_time": "2021-12-08T07:08:51.678Z"
   },
   {
    "duration": 4,
    "start_time": "2021-12-08T07:08:59.135Z"
   },
   {
    "duration": 66,
    "start_time": "2021-12-08T07:09:05.289Z"
   },
   {
    "duration": 10,
    "start_time": "2021-12-08T07:09:05.356Z"
   },
   {
    "duration": 9,
    "start_time": "2021-12-08T07:09:05.367Z"
   },
   {
    "duration": 30,
    "start_time": "2021-12-08T07:09:05.392Z"
   },
   {
    "duration": 281,
    "start_time": "2021-12-08T07:09:05.424Z"
   },
   {
    "duration": 10,
    "start_time": "2021-12-08T07:09:05.707Z"
   },
   {
    "duration": 9,
    "start_time": "2021-12-08T07:09:05.718Z"
   },
   {
    "duration": 6,
    "start_time": "2021-12-08T07:09:05.729Z"
   },
   {
    "duration": 10,
    "start_time": "2021-12-08T07:09:05.736Z"
   },
   {
    "duration": 34,
    "start_time": "2021-12-08T07:09:05.747Z"
   },
   {
    "duration": 40,
    "start_time": "2021-12-08T07:09:05.783Z"
   },
   {
    "duration": 15,
    "start_time": "2021-12-08T07:09:05.824Z"
   },
   {
    "duration": 20,
    "start_time": "2021-12-08T07:09:05.841Z"
   },
   {
    "duration": 48,
    "start_time": "2021-12-08T07:09:05.862Z"
   },
   {
    "duration": 14,
    "start_time": "2021-12-08T07:09:05.911Z"
   },
   {
    "duration": 17,
    "start_time": "2021-12-08T07:09:05.927Z"
   },
   {
    "duration": 4,
    "start_time": "2021-12-08T07:10:19.065Z"
   },
   {
    "duration": 187,
    "start_time": "2021-12-08T07:10:33.354Z"
   },
   {
    "duration": 71,
    "start_time": "2021-12-08T07:10:48.730Z"
   },
   {
    "duration": 10,
    "start_time": "2021-12-08T07:10:48.802Z"
   },
   {
    "duration": 18,
    "start_time": "2021-12-08T07:10:48.813Z"
   },
   {
    "duration": 39,
    "start_time": "2021-12-08T07:10:48.833Z"
   },
   {
    "duration": 272,
    "start_time": "2021-12-08T07:10:48.874Z"
   },
   {
    "duration": 10,
    "start_time": "2021-12-08T07:10:49.147Z"
   },
   {
    "duration": 22,
    "start_time": "2021-12-08T07:10:49.160Z"
   },
   {
    "duration": 12,
    "start_time": "2021-12-08T07:10:49.184Z"
   },
   {
    "duration": 12,
    "start_time": "2021-12-08T07:10:49.198Z"
   },
   {
    "duration": 24,
    "start_time": "2021-12-08T07:10:49.212Z"
   },
   {
    "duration": 28,
    "start_time": "2021-12-08T07:10:49.237Z"
   },
   {
    "duration": 25,
    "start_time": "2021-12-08T07:10:49.266Z"
   },
   {
    "duration": 14,
    "start_time": "2021-12-08T07:10:49.293Z"
   },
   {
    "duration": 44,
    "start_time": "2021-12-08T07:10:49.309Z"
   },
   {
    "duration": 15,
    "start_time": "2021-12-08T07:10:49.355Z"
   },
   {
    "duration": 3947,
    "start_time": "2021-12-08T07:10:49.371Z"
   },
   {
    "duration": 70,
    "start_time": "2021-12-08T07:11:07.533Z"
   },
   {
    "duration": 10,
    "start_time": "2021-12-08T07:11:07.605Z"
   },
   {
    "duration": 19,
    "start_time": "2021-12-08T07:11:07.617Z"
   },
   {
    "duration": 36,
    "start_time": "2021-12-08T07:11:07.638Z"
   },
   {
    "duration": 275,
    "start_time": "2021-12-08T07:11:07.676Z"
   },
   {
    "duration": 12,
    "start_time": "2021-12-08T07:11:07.953Z"
   },
   {
    "duration": 29,
    "start_time": "2021-12-08T07:11:07.968Z"
   },
   {
    "duration": 16,
    "start_time": "2021-12-08T07:11:07.999Z"
   },
   {
    "duration": 17,
    "start_time": "2021-12-08T07:11:08.017Z"
   },
   {
    "duration": 17,
    "start_time": "2021-12-08T07:11:08.036Z"
   },
   {
    "duration": 41,
    "start_time": "2021-12-08T07:11:08.055Z"
   },
   {
    "duration": 16,
    "start_time": "2021-12-08T07:11:08.098Z"
   },
   {
    "duration": 14,
    "start_time": "2021-12-08T07:11:08.116Z"
   },
   {
    "duration": 52,
    "start_time": "2021-12-08T07:11:08.132Z"
   },
   {
    "duration": 16,
    "start_time": "2021-12-08T07:11:08.185Z"
   },
   {
    "duration": 3966,
    "start_time": "2021-12-08T07:11:08.202Z"
   },
   {
    "duration": 72,
    "start_time": "2021-12-08T07:13:59.640Z"
   },
   {
    "duration": 11,
    "start_time": "2021-12-08T07:13:59.714Z"
   },
   {
    "duration": 8,
    "start_time": "2021-12-08T07:13:59.727Z"
   },
   {
    "duration": 31,
    "start_time": "2021-12-08T07:13:59.737Z"
   },
   {
    "duration": 298,
    "start_time": "2021-12-08T07:13:59.770Z"
   },
   {
    "duration": 10,
    "start_time": "2021-12-08T07:14:00.070Z"
   },
   {
    "duration": 10,
    "start_time": "2021-12-08T07:14:00.090Z"
   },
   {
    "duration": 10,
    "start_time": "2021-12-08T07:14:00.102Z"
   },
   {
    "duration": 9,
    "start_time": "2021-12-08T07:14:00.113Z"
   },
   {
    "duration": 19,
    "start_time": "2021-12-08T07:14:00.124Z"
   },
   {
    "duration": 60,
    "start_time": "2021-12-08T07:14:00.145Z"
   },
   {
    "duration": 17,
    "start_time": "2021-12-08T07:14:00.207Z"
   },
   {
    "duration": 5,
    "start_time": "2021-12-08T07:14:00.226Z"
   },
   {
    "duration": 37,
    "start_time": "2021-12-08T07:14:00.233Z"
   },
   {
    "duration": 34,
    "start_time": "2021-12-08T07:14:00.272Z"
   },
   {
    "duration": 4059,
    "start_time": "2021-12-08T07:14:00.308Z"
   },
   {
    "duration": 3889,
    "start_time": "2021-12-08T07:17:28.604Z"
   },
   {
    "duration": 4047,
    "start_time": "2021-12-08T07:17:44.154Z"
   },
   {
    "duration": 1006,
    "start_time": "2021-12-08T07:18:41.636Z"
   },
   {
    "duration": 4048,
    "start_time": "2021-12-08T07:18:54.005Z"
   },
   {
    "duration": 59,
    "start_time": "2021-12-08T07:22:00.617Z"
   },
   {
    "duration": 174,
    "start_time": "2021-12-08T07:22:10.873Z"
   },
   {
    "duration": 65,
    "start_time": "2021-12-08T07:22:35.185Z"
   },
   {
    "duration": 5,
    "start_time": "2021-12-08T07:22:41.065Z"
   },
   {
    "duration": 73,
    "start_time": "2021-12-08T07:23:55.851Z"
   },
   {
    "duration": 11,
    "start_time": "2021-12-08T07:23:55.926Z"
   },
   {
    "duration": 9,
    "start_time": "2021-12-08T07:23:55.939Z"
   },
   {
    "duration": 51,
    "start_time": "2021-12-08T07:23:55.950Z"
   },
   {
    "duration": 291,
    "start_time": "2021-12-08T07:23:56.002Z"
   },
   {
    "duration": 10,
    "start_time": "2021-12-08T07:23:56.295Z"
   },
   {
    "duration": 10,
    "start_time": "2021-12-08T07:23:56.306Z"
   },
   {
    "duration": 5,
    "start_time": "2021-12-08T07:23:56.318Z"
   },
   {
    "duration": 8,
    "start_time": "2021-12-08T07:23:56.324Z"
   },
   {
    "duration": 15,
    "start_time": "2021-12-08T07:23:56.334Z"
   },
   {
    "duration": 66,
    "start_time": "2021-12-08T07:23:56.351Z"
   },
   {
    "duration": 17,
    "start_time": "2021-12-08T07:23:56.418Z"
   },
   {
    "duration": 6,
    "start_time": "2021-12-08T07:23:56.437Z"
   },
   {
    "duration": 48,
    "start_time": "2021-12-08T07:23:56.444Z"
   },
   {
    "duration": 17,
    "start_time": "2021-12-08T07:23:56.494Z"
   },
   {
    "duration": 4298,
    "start_time": "2021-12-08T07:23:56.512Z"
   },
   {
    "duration": 4707,
    "start_time": "2021-12-08T07:24:23.686Z"
   },
   {
    "duration": 4093,
    "start_time": "2021-12-08T07:24:47.437Z"
   },
   {
    "duration": 2670,
    "start_time": "2021-12-08T07:25:05.333Z"
   },
   {
    "duration": 71,
    "start_time": "2021-12-08T07:25:13.364Z"
   },
   {
    "duration": 10,
    "start_time": "2021-12-08T07:25:13.437Z"
   },
   {
    "duration": 21,
    "start_time": "2021-12-08T07:25:13.449Z"
   },
   {
    "duration": 63,
    "start_time": "2021-12-08T07:25:13.471Z"
   },
   {
    "duration": 268,
    "start_time": "2021-12-08T07:25:13.535Z"
   },
   {
    "duration": 9,
    "start_time": "2021-12-08T07:25:13.804Z"
   },
   {
    "duration": 24,
    "start_time": "2021-12-08T07:25:13.815Z"
   },
   {
    "duration": 6,
    "start_time": "2021-12-08T07:25:13.842Z"
   },
   {
    "duration": 16,
    "start_time": "2021-12-08T07:25:13.850Z"
   },
   {
    "duration": 14,
    "start_time": "2021-12-08T07:25:13.867Z"
   },
   {
    "duration": 27,
    "start_time": "2021-12-08T07:25:13.892Z"
   },
   {
    "duration": 15,
    "start_time": "2021-12-08T07:25:13.921Z"
   },
   {
    "duration": 4,
    "start_time": "2021-12-08T07:25:13.938Z"
   },
   {
    "duration": 51,
    "start_time": "2021-12-08T07:25:13.944Z"
   },
   {
    "duration": 15,
    "start_time": "2021-12-08T07:25:13.997Z"
   },
   {
    "duration": 4031,
    "start_time": "2021-12-08T07:25:14.014Z"
   },
   {
    "duration": 2469,
    "start_time": "2021-12-08T07:25:37.335Z"
   },
   {
    "duration": 77,
    "start_time": "2021-12-08T07:26:23.388Z"
   },
   {
    "duration": 27,
    "start_time": "2021-12-08T07:26:23.468Z"
   },
   {
    "duration": 9,
    "start_time": "2021-12-08T07:26:23.497Z"
   },
   {
    "duration": 38,
    "start_time": "2021-12-08T07:26:23.508Z"
   },
   {
    "duration": 301,
    "start_time": "2021-12-08T07:26:23.547Z"
   },
   {
    "duration": 10,
    "start_time": "2021-12-08T07:26:23.850Z"
   },
   {
    "duration": 11,
    "start_time": "2021-12-08T07:26:23.862Z"
   },
   {
    "duration": 5,
    "start_time": "2021-12-08T07:26:23.891Z"
   },
   {
    "duration": 8,
    "start_time": "2021-12-08T07:26:23.898Z"
   },
   {
    "duration": 15,
    "start_time": "2021-12-08T07:26:23.908Z"
   },
   {
    "duration": 30,
    "start_time": "2021-12-08T07:26:23.925Z"
   },
   {
    "duration": 45,
    "start_time": "2021-12-08T07:26:23.957Z"
   },
   {
    "duration": 4,
    "start_time": "2021-12-08T07:26:24.004Z"
   },
   {
    "duration": 36,
    "start_time": "2021-12-08T07:26:24.010Z"
   },
   {
    "duration": 16,
    "start_time": "2021-12-08T07:26:24.048Z"
   },
   {
    "duration": 4134,
    "start_time": "2021-12-08T07:26:24.066Z"
   },
   {
    "duration": 2586,
    "start_time": "2021-12-08T07:26:52.712Z"
   },
   {
    "duration": 16,
    "start_time": "2021-12-08T07:27:54.217Z"
   },
   {
    "duration": 40,
    "start_time": "2021-12-08T07:28:45.650Z"
   },
   {
    "duration": 8,
    "start_time": "2021-12-08T07:29:57.435Z"
   },
   {
    "duration": 80,
    "start_time": "2021-12-08T07:30:02.521Z"
   },
   {
    "duration": 14,
    "start_time": "2021-12-08T07:30:02.603Z"
   },
   {
    "duration": 14,
    "start_time": "2021-12-08T07:30:02.619Z"
   },
   {
    "duration": 59,
    "start_time": "2021-12-08T07:30:02.636Z"
   },
   {
    "duration": 307,
    "start_time": "2021-12-08T07:30:02.697Z"
   },
   {
    "duration": 10,
    "start_time": "2021-12-08T07:30:03.006Z"
   },
   {
    "duration": 12,
    "start_time": "2021-12-08T07:30:03.018Z"
   },
   {
    "duration": 5,
    "start_time": "2021-12-08T07:30:03.033Z"
   },
   {
    "duration": 12,
    "start_time": "2021-12-08T07:30:03.040Z"
   },
   {
    "duration": 54,
    "start_time": "2021-12-08T07:30:03.054Z"
   },
   {
    "duration": 45,
    "start_time": "2021-12-08T07:30:03.110Z"
   },
   {
    "duration": 35,
    "start_time": "2021-12-08T07:30:03.158Z"
   },
   {
    "duration": 4,
    "start_time": "2021-12-08T07:30:03.195Z"
   },
   {
    "duration": 40,
    "start_time": "2021-12-08T07:30:03.201Z"
   },
   {
    "duration": 19,
    "start_time": "2021-12-08T07:30:03.243Z"
   },
   {
    "duration": 33,
    "start_time": "2021-12-08T07:30:03.264Z"
   },
   {
    "duration": 4413,
    "start_time": "2021-12-08T07:30:03.299Z"
   },
   {
    "duration": 30,
    "start_time": "2021-12-08T07:30:07.715Z"
   },
   {
    "duration": 9,
    "start_time": "2021-12-08T07:37:53.006Z"
   },
   {
    "duration": 9,
    "start_time": "2021-12-08T07:37:55.693Z"
   },
   {
    "duration": 9,
    "start_time": "2021-12-08T07:38:01.942Z"
   },
   {
    "duration": 11,
    "start_time": "2021-12-08T07:38:08.430Z"
   },
   {
    "duration": 71,
    "start_time": "2021-12-08T07:38:23.122Z"
   },
   {
    "duration": 11,
    "start_time": "2021-12-08T07:38:23.194Z"
   },
   {
    "duration": 9,
    "start_time": "2021-12-08T07:38:23.207Z"
   },
   {
    "duration": 38,
    "start_time": "2021-12-08T07:38:23.218Z"
   },
   {
    "duration": 315,
    "start_time": "2021-12-08T07:38:23.257Z"
   },
   {
    "duration": 18,
    "start_time": "2021-12-08T07:38:23.574Z"
   },
   {
    "duration": 9,
    "start_time": "2021-12-08T07:38:23.594Z"
   },
   {
    "duration": 27,
    "start_time": "2021-12-08T07:38:23.606Z"
   },
   {
    "duration": 21,
    "start_time": "2021-12-08T07:38:23.634Z"
   },
   {
    "duration": 22,
    "start_time": "2021-12-08T07:38:23.656Z"
   },
   {
    "duration": 31,
    "start_time": "2021-12-08T07:38:23.680Z"
   },
   {
    "duration": 16,
    "start_time": "2021-12-08T07:38:23.713Z"
   },
   {
    "duration": 37,
    "start_time": "2021-12-08T07:38:23.731Z"
   },
   {
    "duration": 40,
    "start_time": "2021-12-08T07:38:23.770Z"
   },
   {
    "duration": 16,
    "start_time": "2021-12-08T07:38:23.812Z"
   },
   {
    "duration": 7,
    "start_time": "2021-12-08T07:38:23.830Z"
   },
   {
    "duration": 4021,
    "start_time": "2021-12-08T07:38:23.839Z"
   },
   {
    "duration": 50,
    "start_time": "2021-12-08T07:38:27.862Z"
   },
   {
    "duration": 10,
    "start_time": "2021-12-08T07:38:27.914Z"
   },
   {
    "duration": 10,
    "start_time": "2021-12-08T07:38:37.815Z"
   },
   {
    "duration": 63,
    "start_time": "2021-12-08T08:17:25.603Z"
   },
   {
    "duration": 1208,
    "start_time": "2021-12-08T08:17:39.739Z"
   },
   {
    "duration": 227,
    "start_time": "2021-12-08T08:20:18.119Z"
   },
   {
    "duration": 218,
    "start_time": "2021-12-08T08:20:58.000Z"
   },
   {
    "duration": 240,
    "start_time": "2021-12-08T08:21:44.857Z"
   },
   {
    "duration": 191,
    "start_time": "2021-12-08T08:22:20.441Z"
   },
   {
    "duration": 189,
    "start_time": "2021-12-08T08:23:44.859Z"
   },
   {
    "duration": 868,
    "start_time": "2021-12-08T08:24:05.371Z"
   },
   {
    "duration": 187,
    "start_time": "2021-12-08T08:24:38.637Z"
   },
   {
    "duration": 229,
    "start_time": "2021-12-08T08:25:08.533Z"
   },
   {
    "duration": 236,
    "start_time": "2021-12-08T08:25:31.113Z"
   },
   {
    "duration": 205,
    "start_time": "2021-12-08T08:25:43.813Z"
   },
   {
    "duration": 257,
    "start_time": "2021-12-08T08:27:18.128Z"
   },
   {
    "duration": 232,
    "start_time": "2021-12-08T08:27:22.608Z"
   },
   {
    "duration": 220,
    "start_time": "2021-12-08T08:27:31.393Z"
   },
   {
    "duration": 236,
    "start_time": "2021-12-08T08:40:34.692Z"
   },
   {
    "duration": 242,
    "start_time": "2021-12-08T08:40:49.574Z"
   },
   {
    "duration": 74,
    "start_time": "2021-12-08T08:41:16.028Z"
   },
   {
    "duration": 12,
    "start_time": "2021-12-08T08:41:16.104Z"
   },
   {
    "duration": 10,
    "start_time": "2021-12-08T08:41:16.118Z"
   },
   {
    "duration": 37,
    "start_time": "2021-12-08T08:41:16.130Z"
   },
   {
    "duration": 285,
    "start_time": "2021-12-08T08:41:16.192Z"
   },
   {
    "duration": 15,
    "start_time": "2021-12-08T08:41:16.479Z"
   },
   {
    "duration": 10,
    "start_time": "2021-12-08T08:41:16.496Z"
   },
   {
    "duration": 7,
    "start_time": "2021-12-08T08:41:16.509Z"
   },
   {
    "duration": 9,
    "start_time": "2021-12-08T08:41:16.518Z"
   },
   {
    "duration": 15,
    "start_time": "2021-12-08T08:41:16.529Z"
   },
   {
    "duration": 74,
    "start_time": "2021-12-08T08:41:16.546Z"
   },
   {
    "duration": 18,
    "start_time": "2021-12-08T08:41:16.622Z"
   },
   {
    "duration": 6,
    "start_time": "2021-12-08T08:41:16.642Z"
   },
   {
    "duration": 59,
    "start_time": "2021-12-08T08:41:16.649Z"
   },
   {
    "duration": 15,
    "start_time": "2021-12-08T08:41:16.710Z"
   },
   {
    "duration": 7,
    "start_time": "2021-12-08T08:41:16.727Z"
   },
   {
    "duration": 4087,
    "start_time": "2021-12-08T08:41:16.736Z"
   },
   {
    "duration": 30,
    "start_time": "2021-12-08T08:41:20.825Z"
   },
   {
    "duration": 9,
    "start_time": "2021-12-08T08:41:20.856Z"
   },
   {
    "duration": 235,
    "start_time": "2021-12-08T08:41:20.867Z"
   },
   {
    "duration": 243,
    "start_time": "2021-12-08T08:41:21.104Z"
   },
   {
    "duration": 237,
    "start_time": "2021-12-08T08:42:05.767Z"
   },
   {
    "duration": 225,
    "start_time": "2021-12-08T08:42:45.216Z"
   },
   {
    "duration": 228,
    "start_time": "2021-12-08T08:43:09.871Z"
   },
   {
    "duration": 216,
    "start_time": "2021-12-08T08:43:32.880Z"
   },
   {
    "duration": 220,
    "start_time": "2021-12-08T08:45:36.659Z"
   },
   {
    "duration": 186,
    "start_time": "2021-12-08T09:42:47.811Z"
   },
   {
    "duration": 187,
    "start_time": "2021-12-08T09:42:52.155Z"
   },
   {
    "duration": 12,
    "start_time": "2021-12-08T09:43:03.539Z"
   },
   {
    "duration": 11,
    "start_time": "2021-12-08T09:44:24.196Z"
   },
   {
    "duration": 8,
    "start_time": "2021-12-08T09:44:30.773Z"
   },
   {
    "duration": 8,
    "start_time": "2021-12-08T09:46:26.024Z"
   },
   {
    "duration": 73,
    "start_time": "2021-12-08T09:46:48.424Z"
   },
   {
    "duration": 8,
    "start_time": "2021-12-08T09:46:52.696Z"
   },
   {
    "duration": 12,
    "start_time": "2021-12-08T09:48:50.437Z"
   },
   {
    "duration": 76,
    "start_time": "2021-12-08T09:49:01.221Z"
   },
   {
    "duration": 18,
    "start_time": "2021-12-08T09:49:01.299Z"
   },
   {
    "duration": 13,
    "start_time": "2021-12-08T09:49:01.319Z"
   },
   {
    "duration": 49,
    "start_time": "2021-12-08T09:49:01.334Z"
   },
   {
    "duration": 279,
    "start_time": "2021-12-08T09:49:01.385Z"
   },
   {
    "duration": 10,
    "start_time": "2021-12-08T09:49:01.665Z"
   },
   {
    "duration": 24,
    "start_time": "2021-12-08T09:49:01.677Z"
   },
   {
    "duration": 11,
    "start_time": "2021-12-08T09:49:01.703Z"
   },
   {
    "duration": 20,
    "start_time": "2021-12-08T09:49:01.716Z"
   },
   {
    "duration": 23,
    "start_time": "2021-12-08T09:49:01.738Z"
   },
   {
    "duration": 48,
    "start_time": "2021-12-08T09:49:01.762Z"
   },
   {
    "duration": 16,
    "start_time": "2021-12-08T09:49:01.812Z"
   },
   {
    "duration": 6,
    "start_time": "2021-12-08T09:49:01.829Z"
   },
   {
    "duration": 34,
    "start_time": "2021-12-08T09:49:01.837Z"
   },
   {
    "duration": 27,
    "start_time": "2021-12-08T09:49:01.873Z"
   },
   {
    "duration": 7,
    "start_time": "2021-12-08T09:49:01.902Z"
   },
   {
    "duration": 3989,
    "start_time": "2021-12-08T09:49:01.911Z"
   },
   {
    "duration": 30,
    "start_time": "2021-12-08T09:49:05.902Z"
   },
   {
    "duration": 11,
    "start_time": "2021-12-08T09:49:05.934Z"
   },
   {
    "duration": 240,
    "start_time": "2021-12-08T09:49:05.948Z"
   },
   {
    "duration": 225,
    "start_time": "2021-12-08T09:49:06.189Z"
   },
   {
    "duration": 15,
    "start_time": "2021-12-08T09:49:06.416Z"
   },
   {
    "duration": 15,
    "start_time": "2021-12-08T09:49:18.611Z"
   },
   {
    "duration": 18,
    "start_time": "2021-12-08T09:50:33.966Z"
   },
   {
    "duration": 18,
    "start_time": "2021-12-08T09:51:08.005Z"
   },
   {
    "duration": 16,
    "start_time": "2021-12-08T09:51:30.055Z"
   },
   {
    "duration": 215,
    "start_time": "2021-12-08T09:52:25.121Z"
   },
   {
    "duration": 1326,
    "start_time": "2021-12-08T09:52:42.480Z"
   },
   {
    "duration": 1279,
    "start_time": "2021-12-08T09:52:44.664Z"
   },
   {
    "duration": 1208,
    "start_time": "2021-12-08T09:53:06.984Z"
   },
   {
    "duration": 175,
    "start_time": "2021-12-08T09:53:12.904Z"
   },
   {
    "duration": 181,
    "start_time": "2021-12-08T09:53:33.721Z"
   },
   {
    "duration": 203,
    "start_time": "2021-12-08T09:54:17.018Z"
   },
   {
    "duration": 19,
    "start_time": "2021-12-08T09:54:24.362Z"
   },
   {
    "duration": 66,
    "start_time": "2021-12-08T09:55:07.003Z"
   },
   {
    "duration": 19,
    "start_time": "2021-12-08T09:55:18.131Z"
   },
   {
    "duration": 15,
    "start_time": "2021-12-08T09:55:25.700Z"
   },
   {
    "duration": 18,
    "start_time": "2021-12-08T09:56:18.076Z"
   },
   {
    "duration": 18,
    "start_time": "2021-12-08T09:56:20.293Z"
   },
   {
    "duration": 71,
    "start_time": "2021-12-08T09:56:22.927Z"
   },
   {
    "duration": 11,
    "start_time": "2021-12-08T09:56:23.000Z"
   },
   {
    "duration": 9,
    "start_time": "2021-12-08T09:56:23.013Z"
   },
   {
    "duration": 30,
    "start_time": "2021-12-08T09:56:23.024Z"
   },
   {
    "duration": 306,
    "start_time": "2021-12-08T09:56:23.056Z"
   },
   {
    "duration": 10,
    "start_time": "2021-12-08T09:56:23.364Z"
   },
   {
    "duration": 22,
    "start_time": "2021-12-08T09:56:23.377Z"
   },
   {
    "duration": 8,
    "start_time": "2021-12-08T09:56:23.402Z"
   },
   {
    "duration": 11,
    "start_time": "2021-12-08T09:56:23.412Z"
   },
   {
    "duration": 14,
    "start_time": "2021-12-08T09:56:23.424Z"
   },
   {
    "duration": 54,
    "start_time": "2021-12-08T09:56:23.440Z"
   },
   {
    "duration": 18,
    "start_time": "2021-12-08T09:56:23.496Z"
   },
   {
    "duration": 5,
    "start_time": "2021-12-08T09:56:23.515Z"
   },
   {
    "duration": 35,
    "start_time": "2021-12-08T09:56:23.522Z"
   },
   {
    "duration": 39,
    "start_time": "2021-12-08T09:56:23.559Z"
   },
   {
    "duration": 8,
    "start_time": "2021-12-08T09:56:23.600Z"
   },
   {
    "duration": 4058,
    "start_time": "2021-12-08T09:56:23.610Z"
   },
   {
    "duration": 41,
    "start_time": "2021-12-08T09:56:27.670Z"
   },
   {
    "duration": 9,
    "start_time": "2021-12-08T09:56:27.712Z"
   },
   {
    "duration": 382,
    "start_time": "2021-12-08T09:56:27.722Z"
   },
   {
    "duration": 294,
    "start_time": "2021-12-08T09:56:28.106Z"
   },
   {
    "duration": 20,
    "start_time": "2021-12-08T09:56:28.401Z"
   },
   {
    "duration": 67,
    "start_time": "2021-12-08T09:57:26.215Z"
   },
   {
    "duration": 18,
    "start_time": "2021-12-08T09:57:31.334Z"
   },
   {
    "duration": 21,
    "start_time": "2021-12-08T09:58:06.864Z"
   },
   {
    "duration": 22,
    "start_time": "2021-12-08T09:59:45.058Z"
   },
   {
    "duration": 25,
    "start_time": "2021-12-08T10:00:03.481Z"
   },
   {
    "duration": 73,
    "start_time": "2021-12-08T10:00:10.388Z"
   },
   {
    "duration": 11,
    "start_time": "2021-12-08T10:00:10.462Z"
   },
   {
    "duration": 23,
    "start_time": "2021-12-08T10:00:10.475Z"
   },
   {
    "duration": 38,
    "start_time": "2021-12-08T10:00:10.500Z"
   },
   {
    "duration": 298,
    "start_time": "2021-12-08T10:00:10.540Z"
   },
   {
    "duration": 10,
    "start_time": "2021-12-08T10:00:10.839Z"
   },
   {
    "duration": 9,
    "start_time": "2021-12-08T10:00:10.851Z"
   },
   {
    "duration": 5,
    "start_time": "2021-12-08T10:00:10.862Z"
   },
   {
    "duration": 29,
    "start_time": "2021-12-08T10:00:10.869Z"
   },
   {
    "duration": 15,
    "start_time": "2021-12-08T10:00:10.899Z"
   },
   {
    "duration": 31,
    "start_time": "2021-12-08T10:00:10.916Z"
   },
   {
    "duration": 15,
    "start_time": "2021-12-08T10:00:10.949Z"
   },
   {
    "duration": 4,
    "start_time": "2021-12-08T10:00:10.992Z"
   },
   {
    "duration": 35,
    "start_time": "2021-12-08T10:00:10.997Z"
   },
   {
    "duration": 14,
    "start_time": "2021-12-08T10:00:11.034Z"
   },
   {
    "duration": 7,
    "start_time": "2021-12-08T10:00:11.050Z"
   },
   {
    "duration": 4264,
    "start_time": "2021-12-08T10:00:11.058Z"
   },
   {
    "duration": 30,
    "start_time": "2021-12-08T10:00:15.325Z"
   },
   {
    "duration": 10,
    "start_time": "2021-12-08T10:00:15.357Z"
   },
   {
    "duration": 218,
    "start_time": "2021-12-08T10:00:15.392Z"
   },
   {
    "duration": 219,
    "start_time": "2021-12-08T10:00:15.612Z"
   },
   {
    "duration": 28,
    "start_time": "2021-12-08T10:00:15.832Z"
   },
   {
    "duration": 26,
    "start_time": "2021-12-08T10:00:30.012Z"
   },
   {
    "duration": 27,
    "start_time": "2021-12-08T10:02:04.733Z"
   },
   {
    "duration": 28,
    "start_time": "2021-12-08T10:02:20.813Z"
   },
   {
    "duration": 228,
    "start_time": "2021-12-08T10:04:05.343Z"
   },
   {
    "duration": 73,
    "start_time": "2021-12-08T10:04:08.882Z"
   },
   {
    "duration": 10,
    "start_time": "2021-12-08T10:04:08.957Z"
   },
   {
    "duration": 30,
    "start_time": "2021-12-08T10:04:08.970Z"
   },
   {
    "duration": 55,
    "start_time": "2021-12-08T10:04:09.003Z"
   },
   {
    "duration": 289,
    "start_time": "2021-12-08T10:04:09.060Z"
   },
   {
    "duration": 12,
    "start_time": "2021-12-08T10:04:09.352Z"
   },
   {
    "duration": 26,
    "start_time": "2021-12-08T10:04:09.366Z"
   },
   {
    "duration": 6,
    "start_time": "2021-12-08T10:04:09.396Z"
   },
   {
    "duration": 13,
    "start_time": "2021-12-08T10:04:09.404Z"
   },
   {
    "duration": 26,
    "start_time": "2021-12-08T10:04:09.419Z"
   },
   {
    "duration": 46,
    "start_time": "2021-12-08T10:04:09.447Z"
   },
   {
    "duration": 20,
    "start_time": "2021-12-08T10:04:09.495Z"
   },
   {
    "duration": 6,
    "start_time": "2021-12-08T10:04:09.517Z"
   },
   {
    "duration": 37,
    "start_time": "2021-12-08T10:04:09.525Z"
   },
   {
    "duration": 50,
    "start_time": "2021-12-08T10:04:09.564Z"
   },
   {
    "duration": 9,
    "start_time": "2021-12-08T10:04:09.616Z"
   },
   {
    "duration": 4092,
    "start_time": "2021-12-08T10:04:09.627Z"
   },
   {
    "duration": 31,
    "start_time": "2021-12-08T10:04:13.721Z"
   },
   {
    "duration": 9,
    "start_time": "2021-12-08T10:04:13.754Z"
   },
   {
    "duration": 235,
    "start_time": "2021-12-08T10:04:13.765Z"
   },
   {
    "duration": 230,
    "start_time": "2021-12-08T10:04:14.001Z"
   },
   {
    "duration": 32,
    "start_time": "2021-12-08T10:04:14.232Z"
   },
   {
    "duration": 70,
    "start_time": "2021-12-08T10:09:30.802Z"
   },
   {
    "duration": 10,
    "start_time": "2021-12-08T10:09:30.874Z"
   },
   {
    "duration": 20,
    "start_time": "2021-12-08T10:09:30.891Z"
   },
   {
    "duration": 41,
    "start_time": "2021-12-08T10:09:30.913Z"
   },
   {
    "duration": 291,
    "start_time": "2021-12-08T10:09:30.956Z"
   },
   {
    "duration": 10,
    "start_time": "2021-12-08T10:09:31.249Z"
   },
   {
    "duration": 10,
    "start_time": "2021-12-08T10:09:31.261Z"
   },
   {
    "duration": 23,
    "start_time": "2021-12-08T10:09:31.273Z"
   },
   {
    "duration": 11,
    "start_time": "2021-12-08T10:09:31.298Z"
   },
   {
    "duration": 24,
    "start_time": "2021-12-08T10:09:31.310Z"
   },
   {
    "duration": 28,
    "start_time": "2021-12-08T10:09:31.336Z"
   },
   {
    "duration": 34,
    "start_time": "2021-12-08T10:09:31.366Z"
   },
   {
    "duration": 5,
    "start_time": "2021-12-08T10:09:31.403Z"
   },
   {
    "duration": 41,
    "start_time": "2021-12-08T10:09:31.410Z"
   },
   {
    "duration": 43,
    "start_time": "2021-12-08T10:09:31.453Z"
   },
   {
    "duration": 9,
    "start_time": "2021-12-08T10:09:31.499Z"
   },
   {
    "duration": 4114,
    "start_time": "2021-12-08T10:09:31.510Z"
   },
   {
    "duration": 33,
    "start_time": "2021-12-08T10:09:35.626Z"
   },
   {
    "duration": 9,
    "start_time": "2021-12-08T10:09:35.660Z"
   },
   {
    "duration": 250,
    "start_time": "2021-12-08T10:09:35.671Z"
   },
   {
    "duration": 31,
    "start_time": "2021-12-08T10:09:35.923Z"
   },
   {
    "duration": 64,
    "start_time": "2021-12-08T10:09:35.956Z"
   },
   {
    "duration": -12,
    "start_time": "2021-12-08T10:09:36.034Z"
   },
   {
    "duration": 64,
    "start_time": "2021-12-08T11:35:49.967Z"
   },
   {
    "duration": 192,
    "start_time": "2021-12-08T11:35:55.140Z"
   },
   {
    "duration": 6,
    "start_time": "2021-12-08T11:36:29.156Z"
   },
   {
    "duration": 72,
    "start_time": "2021-12-08T11:37:39.393Z"
   },
   {
    "duration": 29,
    "start_time": "2021-12-08T11:37:39.467Z"
   },
   {
    "duration": 12,
    "start_time": "2021-12-08T11:37:39.499Z"
   },
   {
    "duration": 43,
    "start_time": "2021-12-08T11:37:39.513Z"
   },
   {
    "duration": 297,
    "start_time": "2021-12-08T11:37:39.557Z"
   },
   {
    "duration": 10,
    "start_time": "2021-12-08T11:37:39.856Z"
   },
   {
    "duration": 29,
    "start_time": "2021-12-08T11:37:39.868Z"
   },
   {
    "duration": 8,
    "start_time": "2021-12-08T11:37:39.901Z"
   },
   {
    "duration": 14,
    "start_time": "2021-12-08T11:37:39.911Z"
   },
   {
    "duration": 16,
    "start_time": "2021-12-08T11:37:39.926Z"
   },
   {
    "duration": 28,
    "start_time": "2021-12-08T11:37:39.943Z"
   },
   {
    "duration": 41,
    "start_time": "2021-12-08T11:37:39.973Z"
   },
   {
    "duration": 5,
    "start_time": "2021-12-08T11:37:40.016Z"
   },
   {
    "duration": 49,
    "start_time": "2021-12-08T11:37:40.022Z"
   },
   {
    "duration": 35,
    "start_time": "2021-12-08T11:37:40.073Z"
   },
   {
    "duration": 7,
    "start_time": "2021-12-08T11:37:40.110Z"
   },
   {
    "duration": 4393,
    "start_time": "2021-12-08T11:37:40.119Z"
   },
   {
    "duration": 30,
    "start_time": "2021-12-08T11:37:44.514Z"
   },
   {
    "duration": 10,
    "start_time": "2021-12-08T11:37:44.545Z"
   },
   {
    "duration": 266,
    "start_time": "2021-12-08T11:37:44.556Z"
   },
   {
    "duration": 32,
    "start_time": "2021-12-08T11:37:44.824Z"
   },
   {
    "duration": 44,
    "start_time": "2021-12-08T11:37:44.858Z"
   },
   {
    "duration": 252,
    "start_time": "2021-12-08T11:37:44.906Z"
   },
   {
    "duration": 4974,
    "start_time": "2021-12-08T11:44:54.970Z"
   },
   {
    "duration": 5294,
    "start_time": "2021-12-08T11:51:44.706Z"
   },
   {
    "duration": 92,
    "start_time": "2021-12-08T11:52:01.546Z"
   },
   {
    "duration": 11,
    "start_time": "2021-12-08T11:52:01.639Z"
   },
   {
    "duration": 15,
    "start_time": "2021-12-08T11:52:01.652Z"
   },
   {
    "duration": 59,
    "start_time": "2021-12-08T11:52:01.668Z"
   },
   {
    "duration": 325,
    "start_time": "2021-12-08T11:52:01.729Z"
   },
   {
    "duration": 10,
    "start_time": "2021-12-08T11:52:02.056Z"
   },
   {
    "duration": 28,
    "start_time": "2021-12-08T11:52:02.067Z"
   },
   {
    "duration": 9,
    "start_time": "2021-12-08T11:52:02.099Z"
   },
   {
    "duration": 18,
    "start_time": "2021-12-08T11:52:02.111Z"
   },
   {
    "duration": 28,
    "start_time": "2021-12-08T11:52:02.131Z"
   },
   {
    "duration": 66,
    "start_time": "2021-12-08T11:52:02.162Z"
   },
   {
    "duration": 18,
    "start_time": "2021-12-08T11:52:02.230Z"
   },
   {
    "duration": 12,
    "start_time": "2021-12-08T11:52:02.250Z"
   },
   {
    "duration": 47,
    "start_time": "2021-12-08T11:52:02.264Z"
   },
   {
    "duration": 23,
    "start_time": "2021-12-08T11:52:02.313Z"
   },
   {
    "duration": 8,
    "start_time": "2021-12-08T11:52:02.338Z"
   },
   {
    "duration": 5109,
    "start_time": "2021-12-08T11:52:02.348Z"
   },
   {
    "duration": 41,
    "start_time": "2021-12-08T11:52:07.459Z"
   },
   {
    "duration": 13,
    "start_time": "2021-12-08T11:52:07.502Z"
   },
   {
    "duration": 303,
    "start_time": "2021-12-08T11:52:07.517Z"
   },
   {
    "duration": 35,
    "start_time": "2021-12-08T11:52:07.822Z"
   },
   {
    "duration": 4621,
    "start_time": "2021-12-08T11:52:07.859Z"
   },
   {
    "duration": 43,
    "start_time": "2021-12-08T11:52:12.440Z"
   },
   {
    "duration": 188,
    "start_time": "2021-12-08T12:03:00.930Z"
   },
   {
    "duration": 375,
    "start_time": "2021-12-08T12:03:52.617Z"
   },
   {
    "duration": 210,
    "start_time": "2021-12-08T12:04:06.609Z"
   },
   {
    "duration": 223,
    "start_time": "2021-12-08T12:04:19.370Z"
   },
   {
    "duration": 72,
    "start_time": "2021-12-08T12:05:02.130Z"
   },
   {
    "duration": 12,
    "start_time": "2021-12-08T12:05:02.205Z"
   },
   {
    "duration": 10,
    "start_time": "2021-12-08T12:05:02.219Z"
   },
   {
    "duration": 63,
    "start_time": "2021-12-08T12:05:02.232Z"
   },
   {
    "duration": 301,
    "start_time": "2021-12-08T12:05:02.297Z"
   },
   {
    "duration": 13,
    "start_time": "2021-12-08T12:05:02.600Z"
   },
   {
    "duration": 12,
    "start_time": "2021-12-08T12:05:02.615Z"
   },
   {
    "duration": 6,
    "start_time": "2021-12-08T12:05:02.631Z"
   },
   {
    "duration": 12,
    "start_time": "2021-12-08T12:05:02.639Z"
   },
   {
    "duration": 52,
    "start_time": "2021-12-08T12:05:02.652Z"
   },
   {
    "duration": 33,
    "start_time": "2021-12-08T12:05:02.706Z"
   },
   {
    "duration": 18,
    "start_time": "2021-12-08T12:05:02.740Z"
   },
   {
    "duration": 31,
    "start_time": "2021-12-08T12:05:02.760Z"
   },
   {
    "duration": 52,
    "start_time": "2021-12-08T12:05:02.794Z"
   },
   {
    "duration": 23,
    "start_time": "2021-12-08T12:05:02.848Z"
   },
   {
    "duration": 15,
    "start_time": "2021-12-08T12:05:02.873Z"
   },
   {
    "duration": 4724,
    "start_time": "2021-12-08T12:05:02.892Z"
   },
   {
    "duration": 33,
    "start_time": "2021-12-08T12:05:07.618Z"
   },
   {
    "duration": 13,
    "start_time": "2021-12-08T12:05:07.653Z"
   },
   {
    "duration": 260,
    "start_time": "2021-12-08T12:05:07.668Z"
   },
   {
    "duration": 34,
    "start_time": "2021-12-08T12:05:07.931Z"
   },
   {
    "duration": 214,
    "start_time": "2021-12-08T12:05:07.967Z"
   },
   {
    "duration": 50,
    "start_time": "2021-12-08T12:05:08.134Z"
   },
   {
    "duration": 256,
    "start_time": "2021-12-08T12:05:58.483Z"
   },
   {
    "duration": 344,
    "start_time": "2021-12-08T12:06:35.893Z"
   },
   {
    "duration": 223,
    "start_time": "2021-12-08T12:06:53.895Z"
   },
   {
    "duration": 899,
    "start_time": "2021-12-08T12:08:46.936Z"
   },
   {
    "duration": 850,
    "start_time": "2021-12-08T12:09:58.132Z"
   },
   {
    "duration": 807,
    "start_time": "2021-12-08T12:10:20.580Z"
   },
   {
    "duration": 234,
    "start_time": "2021-12-08T12:11:42.212Z"
   },
   {
    "duration": 68,
    "start_time": "2021-12-08T12:11:56.024Z"
   },
   {
    "duration": 17,
    "start_time": "2021-12-08T12:11:56.094Z"
   },
   {
    "duration": 10,
    "start_time": "2021-12-08T12:11:56.113Z"
   },
   {
    "duration": 37,
    "start_time": "2021-12-08T12:11:56.125Z"
   },
   {
    "duration": 337,
    "start_time": "2021-12-08T12:11:56.164Z"
   },
   {
    "duration": 11,
    "start_time": "2021-12-08T12:11:56.504Z"
   },
   {
    "duration": 11,
    "start_time": "2021-12-08T12:11:56.517Z"
   },
   {
    "duration": 6,
    "start_time": "2021-12-08T12:11:56.530Z"
   },
   {
    "duration": 8,
    "start_time": "2021-12-08T12:11:56.538Z"
   },
   {
    "duration": 54,
    "start_time": "2021-12-08T12:11:56.548Z"
   },
   {
    "duration": 35,
    "start_time": "2021-12-08T12:11:56.605Z"
   },
   {
    "duration": 15,
    "start_time": "2021-12-08T12:11:56.641Z"
   },
   {
    "duration": 5,
    "start_time": "2021-12-08T12:11:56.658Z"
   },
   {
    "duration": 59,
    "start_time": "2021-12-08T12:11:56.665Z"
   },
   {
    "duration": 15,
    "start_time": "2021-12-08T12:11:56.726Z"
   },
   {
    "duration": 7,
    "start_time": "2021-12-08T12:11:56.743Z"
   },
   {
    "duration": 4816,
    "start_time": "2021-12-08T12:11:56.752Z"
   },
   {
    "duration": 48,
    "start_time": "2021-12-08T12:12:01.569Z"
   },
   {
    "duration": 11,
    "start_time": "2021-12-08T12:12:01.619Z"
   },
   {
    "duration": 248,
    "start_time": "2021-12-08T12:12:01.632Z"
   },
   {
    "duration": 34,
    "start_time": "2021-12-08T12:12:01.881Z"
   },
   {
    "duration": 1020,
    "start_time": "2021-12-08T12:12:01.917Z"
   },
   {
    "duration": 236,
    "start_time": "2021-12-08T12:12:02.940Z"
   },
   {
    "duration": 737,
    "start_time": "2021-12-08T12:29:30.236Z"
   },
   {
    "duration": 6,
    "start_time": "2021-12-08T12:36:30.071Z"
   },
   {
    "duration": 7,
    "start_time": "2021-12-08T12:36:40.806Z"
   },
   {
    "duration": 178,
    "start_time": "2021-12-08T13:04:50.119Z"
   },
   {
    "duration": 192,
    "start_time": "2021-12-08T13:05:41.391Z"
   },
   {
    "duration": 186,
    "start_time": "2021-12-08T13:05:45.655Z"
   },
   {
    "duration": 210,
    "start_time": "2021-12-08T13:07:52.658Z"
   },
   {
    "duration": 32,
    "start_time": "2021-12-08T13:11:38.146Z"
   },
   {
    "duration": 69,
    "start_time": "2021-12-08T13:11:41.609Z"
   },
   {
    "duration": 12,
    "start_time": "2021-12-08T13:11:41.680Z"
   },
   {
    "duration": 10,
    "start_time": "2021-12-08T13:11:41.695Z"
   },
   {
    "duration": 38,
    "start_time": "2021-12-08T13:11:41.707Z"
   },
   {
    "duration": 329,
    "start_time": "2021-12-08T13:11:41.747Z"
   },
   {
    "duration": 15,
    "start_time": "2021-12-08T13:11:42.079Z"
   },
   {
    "duration": 25,
    "start_time": "2021-12-08T13:11:42.096Z"
   },
   {
    "duration": 14,
    "start_time": "2021-12-08T13:11:42.125Z"
   },
   {
    "duration": 37,
    "start_time": "2021-12-08T13:11:42.142Z"
   },
   {
    "duration": 38,
    "start_time": "2021-12-08T13:11:42.181Z"
   },
   {
    "duration": 31,
    "start_time": "2021-12-08T13:11:42.221Z"
   },
   {
    "duration": 19,
    "start_time": "2021-12-08T13:11:42.254Z"
   },
   {
    "duration": 24,
    "start_time": "2021-12-08T13:11:42.274Z"
   },
   {
    "duration": 59,
    "start_time": "2021-12-08T13:11:42.300Z"
   },
   {
    "duration": 17,
    "start_time": "2021-12-08T13:11:42.361Z"
   },
   {
    "duration": 8,
    "start_time": "2021-12-08T13:11:42.380Z"
   },
   {
    "duration": 4135,
    "start_time": "2021-12-08T13:11:42.390Z"
   },
   {
    "duration": 32,
    "start_time": "2021-12-08T13:11:46.527Z"
   },
   {
    "duration": 31,
    "start_time": "2021-12-08T13:11:46.561Z"
   },
   {
    "duration": 236,
    "start_time": "2021-12-08T13:11:46.595Z"
   },
   {
    "duration": 34,
    "start_time": "2021-12-08T13:11:46.833Z"
   },
   {
    "duration": 944,
    "start_time": "2021-12-08T13:11:46.869Z"
   },
   {
    "duration": 230,
    "start_time": "2021-12-08T13:11:47.817Z"
   },
   {
    "duration": 5093,
    "start_time": "2021-12-08T13:11:48.049Z"
   },
   {
    "duration": 41,
    "start_time": "2021-12-08T13:12:55.601Z"
   },
   {
    "duration": 178,
    "start_time": "2021-12-08T13:15:23.779Z"
   },
   {
    "duration": 202,
    "start_time": "2021-12-08T13:15:26.548Z"
   },
   {
    "duration": 193,
    "start_time": "2021-12-08T13:16:26.661Z"
   },
   {
    "duration": 219,
    "start_time": "2021-12-08T13:16:39.743Z"
   },
   {
    "duration": 27,
    "start_time": "2021-12-08T13:16:48.152Z"
   },
   {
    "duration": 18,
    "start_time": "2021-12-08T13:17:09.126Z"
   },
   {
    "duration": 188,
    "start_time": "2021-12-08T13:19:16.401Z"
   },
   {
    "duration": 179,
    "start_time": "2021-12-08T13:36:25.041Z"
   },
   {
    "duration": 18,
    "start_time": "2021-12-08T13:36:44.473Z"
   },
   {
    "duration": 15,
    "start_time": "2021-12-08T13:37:04.346Z"
   },
   {
    "duration": 15,
    "start_time": "2021-12-08T13:37:50.490Z"
   },
   {
    "duration": 15,
    "start_time": "2021-12-08T13:39:41.124Z"
   },
   {
    "duration": 220,
    "start_time": "2021-12-08T13:49:20.625Z"
   },
   {
    "duration": 69,
    "start_time": "2021-12-08T13:49:49.642Z"
   },
   {
    "duration": 11,
    "start_time": "2021-12-08T13:49:49.712Z"
   },
   {
    "duration": 8,
    "start_time": "2021-12-08T13:49:49.725Z"
   },
   {
    "duration": 57,
    "start_time": "2021-12-08T13:49:49.735Z"
   },
   {
    "duration": 306,
    "start_time": "2021-12-08T13:49:49.794Z"
   },
   {
    "duration": 11,
    "start_time": "2021-12-08T13:49:50.102Z"
   },
   {
    "duration": 12,
    "start_time": "2021-12-08T13:49:50.114Z"
   },
   {
    "duration": 6,
    "start_time": "2021-12-08T13:49:50.128Z"
   },
   {
    "duration": 8,
    "start_time": "2021-12-08T13:49:50.137Z"
   },
   {
    "duration": 49,
    "start_time": "2021-12-08T13:49:50.147Z"
   },
   {
    "duration": 31,
    "start_time": "2021-12-08T13:49:50.198Z"
   },
   {
    "duration": 18,
    "start_time": "2021-12-08T13:49:50.230Z"
   },
   {
    "duration": 7,
    "start_time": "2021-12-08T13:49:50.250Z"
   },
   {
    "duration": 57,
    "start_time": "2021-12-08T13:49:50.259Z"
   },
   {
    "duration": 17,
    "start_time": "2021-12-08T13:49:50.318Z"
   },
   {
    "duration": 8,
    "start_time": "2021-12-08T13:49:50.337Z"
   },
   {
    "duration": 4308,
    "start_time": "2021-12-08T13:49:50.346Z"
   },
   {
    "duration": 47,
    "start_time": "2021-12-08T13:49:54.656Z"
   },
   {
    "duration": 11,
    "start_time": "2021-12-08T13:49:54.705Z"
   },
   {
    "duration": 236,
    "start_time": "2021-12-08T13:49:54.718Z"
   },
   {
    "duration": 38,
    "start_time": "2021-12-08T13:49:54.956Z"
   },
   {
    "duration": 990,
    "start_time": "2021-12-08T13:49:54.996Z"
   },
   {
    "duration": 252,
    "start_time": "2021-12-08T13:49:55.991Z"
   },
   {
    "duration": 234,
    "start_time": "2021-12-08T13:49:56.245Z"
   },
   {
    "duration": 21,
    "start_time": "2021-12-08T13:49:56.481Z"
   },
   {
    "duration": 21,
    "start_time": "2021-12-08T13:51:49.684Z"
   },
   {
    "duration": 73,
    "start_time": "2021-12-08T13:52:00.844Z"
   },
   {
    "duration": 13,
    "start_time": "2021-12-08T13:52:00.920Z"
   },
   {
    "duration": 29,
    "start_time": "2021-12-08T13:52:00.936Z"
   },
   {
    "duration": 51,
    "start_time": "2021-12-08T13:52:00.967Z"
   },
   {
    "duration": 282,
    "start_time": "2021-12-08T13:52:01.021Z"
   },
   {
    "duration": 11,
    "start_time": "2021-12-08T13:52:01.305Z"
   },
   {
    "duration": 18,
    "start_time": "2021-12-08T13:52:01.318Z"
   },
   {
    "duration": 8,
    "start_time": "2021-12-08T13:52:01.340Z"
   },
   {
    "duration": 19,
    "start_time": "2021-12-08T13:52:01.351Z"
   },
   {
    "duration": 39,
    "start_time": "2021-12-08T13:52:01.372Z"
   },
   {
    "duration": 33,
    "start_time": "2021-12-08T13:52:01.414Z"
   },
   {
    "duration": 18,
    "start_time": "2021-12-08T13:52:01.449Z"
   },
   {
    "duration": 5,
    "start_time": "2021-12-08T13:52:01.491Z"
   },
   {
    "duration": 65,
    "start_time": "2021-12-08T13:52:01.497Z"
   },
   {
    "duration": 16,
    "start_time": "2021-12-08T13:52:01.564Z"
   },
   {
    "duration": 7,
    "start_time": "2021-12-08T13:52:01.581Z"
   },
   {
    "duration": 4329,
    "start_time": "2021-12-08T13:52:01.589Z"
   },
   {
    "duration": 31,
    "start_time": "2021-12-08T13:52:05.919Z"
   },
   {
    "duration": 10,
    "start_time": "2021-12-08T13:52:05.951Z"
   },
   {
    "duration": 240,
    "start_time": "2021-12-08T13:52:05.962Z"
   },
   {
    "duration": 33,
    "start_time": "2021-12-08T13:52:06.204Z"
   },
   {
    "duration": 959,
    "start_time": "2021-12-08T13:52:06.240Z"
   },
   {
    "duration": 231,
    "start_time": "2021-12-08T13:52:07.202Z"
   },
   {
    "duration": 233,
    "start_time": "2021-12-08T13:52:07.435Z"
   },
   {
    "duration": 32,
    "start_time": "2021-12-08T13:52:07.669Z"
   },
   {
    "duration": 19,
    "start_time": "2021-12-08T13:53:21.222Z"
   },
   {
    "duration": 4487,
    "start_time": "2021-12-08T13:56:46.387Z"
   },
   {
    "duration": 17,
    "start_time": "2021-12-08T13:57:04.235Z"
   },
   {
    "duration": 20,
    "start_time": "2021-12-08T13:57:13.499Z"
   },
   {
    "duration": 4339,
    "start_time": "2021-12-08T13:59:08.206Z"
   },
   {
    "duration": 218,
    "start_time": "2021-12-08T13:59:58.095Z"
   },
   {
    "duration": 22,
    "start_time": "2021-12-08T14:00:05.240Z"
   },
   {
    "duration": 21,
    "start_time": "2021-12-08T14:00:41.731Z"
   },
   {
    "duration": 19,
    "start_time": "2021-12-08T14:01:43.506Z"
   },
   {
    "duration": 4917,
    "start_time": "2021-12-08T14:02:03.091Z"
   },
   {
    "duration": 19,
    "start_time": "2021-12-08T14:02:28.483Z"
   },
   {
    "duration": 4493,
    "start_time": "2021-12-08T14:03:08.323Z"
   },
   {
    "duration": 24,
    "start_time": "2021-12-08T14:04:14.046Z"
   },
   {
    "duration": 20,
    "start_time": "2021-12-08T14:04:21.350Z"
   },
   {
    "duration": 21,
    "start_time": "2021-12-08T14:04:59.398Z"
   },
   {
    "duration": 191,
    "start_time": "2021-12-08T14:06:40.977Z"
   },
   {
    "duration": 18,
    "start_time": "2021-12-08T14:06:47.657Z"
   },
   {
    "duration": 21,
    "start_time": "2021-12-08T14:07:09.977Z"
   },
   {
    "duration": 23,
    "start_time": "2021-12-08T14:07:23.457Z"
   },
   {
    "duration": 20,
    "start_time": "2021-12-08T14:07:31.115Z"
   },
   {
    "duration": 20,
    "start_time": "2021-12-08T14:08:19.900Z"
   },
   {
    "duration": 201,
    "start_time": "2021-12-08T14:09:01.867Z"
   },
   {
    "duration": 20,
    "start_time": "2021-12-08T14:09:21.852Z"
   },
   {
    "duration": 23,
    "start_time": "2021-12-08T14:17:24.373Z"
   },
   {
    "duration": 22,
    "start_time": "2021-12-08T14:26:47.089Z"
   },
   {
    "duration": 21,
    "start_time": "2021-12-08T14:27:37.625Z"
   },
   {
    "duration": 21,
    "start_time": "2021-12-08T14:27:44.154Z"
   },
   {
    "duration": 22,
    "start_time": "2021-12-08T14:27:52.059Z"
   },
   {
    "duration": 22,
    "start_time": "2021-12-08T14:27:59.089Z"
   },
   {
    "duration": 21,
    "start_time": "2021-12-08T14:28:05.858Z"
   },
   {
    "duration": 63,
    "start_time": "2021-12-08T14:43:12.489Z"
   },
   {
    "duration": 64,
    "start_time": "2021-12-08T14:43:16.977Z"
   },
   {
    "duration": 10,
    "start_time": "2021-12-08T14:43:17.043Z"
   },
   {
    "duration": 38,
    "start_time": "2021-12-08T14:43:17.054Z"
   },
   {
    "duration": 30,
    "start_time": "2021-12-08T14:43:17.094Z"
   },
   {
    "duration": 290,
    "start_time": "2021-12-08T14:43:17.125Z"
   },
   {
    "duration": 11,
    "start_time": "2021-12-08T14:43:17.417Z"
   },
   {
    "duration": 9,
    "start_time": "2021-12-08T14:43:17.430Z"
   },
   {
    "duration": 6,
    "start_time": "2021-12-08T14:43:17.442Z"
   },
   {
    "duration": 9,
    "start_time": "2021-12-08T14:43:17.449Z"
   },
   {
    "duration": 45,
    "start_time": "2021-12-08T14:43:17.460Z"
   },
   {
    "duration": 28,
    "start_time": "2021-12-08T14:43:17.506Z"
   },
   {
    "duration": 17,
    "start_time": "2021-12-08T14:43:17.536Z"
   },
   {
    "duration": 4,
    "start_time": "2021-12-08T14:43:17.554Z"
   },
   {
    "duration": 58,
    "start_time": "2021-12-08T14:43:17.560Z"
   },
   {
    "duration": 15,
    "start_time": "2021-12-08T14:43:17.619Z"
   },
   {
    "duration": 7,
    "start_time": "2021-12-08T14:43:17.636Z"
   },
   {
    "duration": 3895,
    "start_time": "2021-12-08T14:43:17.644Z"
   },
   {
    "duration": 30,
    "start_time": "2021-12-08T14:43:21.541Z"
   },
   {
    "duration": 25,
    "start_time": "2021-12-08T14:43:21.572Z"
   },
   {
    "duration": 227,
    "start_time": "2021-12-08T14:43:21.598Z"
   },
   {
    "duration": 30,
    "start_time": "2021-12-08T14:43:21.827Z"
   },
   {
    "duration": 998,
    "start_time": "2021-12-08T14:43:21.859Z"
   },
   {
    "duration": 226,
    "start_time": "2021-12-08T14:43:22.860Z"
   },
   {
    "duration": 231,
    "start_time": "2021-12-08T14:43:23.088Z"
   },
   {
    "duration": 24,
    "start_time": "2021-12-08T14:43:23.320Z"
   },
   {
    "duration": 21,
    "start_time": "2021-12-08T14:43:23.347Z"
   },
   {
    "duration": 37,
    "start_time": "2021-12-08T14:43:23.370Z"
   },
   {
    "duration": 20,
    "start_time": "2021-12-08T14:43:23.409Z"
   },
   {
    "duration": 67,
    "start_time": "2021-12-08T14:49:53.645Z"
   },
   {
    "duration": 13,
    "start_time": "2021-12-08T14:49:53.715Z"
   },
   {
    "duration": 10,
    "start_time": "2021-12-08T14:49:53.730Z"
   },
   {
    "duration": 60,
    "start_time": "2021-12-08T14:49:53.742Z"
   },
   {
    "duration": 278,
    "start_time": "2021-12-08T14:49:53.804Z"
   },
   {
    "duration": 14,
    "start_time": "2021-12-08T14:49:54.084Z"
   },
   {
    "duration": 11,
    "start_time": "2021-12-08T14:49:54.100Z"
   },
   {
    "duration": 5,
    "start_time": "2021-12-08T14:49:54.114Z"
   },
   {
    "duration": 8,
    "start_time": "2021-12-08T14:49:54.121Z"
   },
   {
    "duration": 14,
    "start_time": "2021-12-08T14:49:54.131Z"
   },
   {
    "duration": 68,
    "start_time": "2021-12-08T14:49:54.147Z"
   },
   {
    "duration": 18,
    "start_time": "2021-12-08T14:49:54.217Z"
   },
   {
    "duration": 4,
    "start_time": "2021-12-08T14:49:54.237Z"
   },
   {
    "duration": 51,
    "start_time": "2021-12-08T14:49:54.242Z"
   },
   {
    "duration": 18,
    "start_time": "2021-12-08T14:49:54.295Z"
   },
   {
    "duration": 7,
    "start_time": "2021-12-08T14:49:54.315Z"
   },
   {
    "duration": 4468,
    "start_time": "2021-12-08T14:49:54.324Z"
   },
   {
    "duration": 32,
    "start_time": "2021-12-08T14:49:58.794Z"
   },
   {
    "duration": 10,
    "start_time": "2021-12-08T14:49:58.828Z"
   },
   {
    "duration": 243,
    "start_time": "2021-12-08T14:49:58.839Z"
   },
   {
    "duration": 33,
    "start_time": "2021-12-08T14:49:59.083Z"
   },
   {
    "duration": 931,
    "start_time": "2021-12-08T14:49:59.117Z"
   },
   {
    "duration": 229,
    "start_time": "2021-12-08T14:50:00.051Z"
   },
   {
    "duration": 230,
    "start_time": "2021-12-08T14:50:00.282Z"
   },
   {
    "duration": 24,
    "start_time": "2021-12-08T14:50:00.513Z"
   },
   {
    "duration": 31,
    "start_time": "2021-12-08T14:50:00.539Z"
   },
   {
    "duration": 32,
    "start_time": "2021-12-08T14:50:00.572Z"
   },
   {
    "duration": 23,
    "start_time": "2021-12-08T14:50:00.605Z"
   },
   {
    "duration": 239,
    "start_time": "2021-12-08T14:50:40.319Z"
   },
   {
    "duration": 228,
    "start_time": "2021-12-08T14:50:44.999Z"
   },
   {
    "duration": 671,
    "start_time": "2021-12-09T09:10:52.042Z"
   },
   {
    "duration": 12,
    "start_time": "2021-12-09T09:10:52.716Z"
   },
   {
    "duration": 9,
    "start_time": "2021-12-09T09:10:52.730Z"
   },
   {
    "duration": 44,
    "start_time": "2021-12-09T09:10:52.741Z"
   },
   {
    "duration": 288,
    "start_time": "2021-12-09T09:10:52.787Z"
   },
   {
    "duration": 9,
    "start_time": "2021-12-09T09:10:53.077Z"
   },
   {
    "duration": 10,
    "start_time": "2021-12-09T09:10:53.088Z"
   },
   {
    "duration": 5,
    "start_time": "2021-12-09T09:10:53.100Z"
   },
   {
    "duration": 10,
    "start_time": "2021-12-09T09:10:53.109Z"
   },
   {
    "duration": 54,
    "start_time": "2021-12-09T09:10:53.122Z"
   },
   {
    "duration": 32,
    "start_time": "2021-12-09T09:10:53.179Z"
   },
   {
    "duration": 19,
    "start_time": "2021-12-09T09:10:53.213Z"
   },
   {
    "duration": 30,
    "start_time": "2021-12-09T09:10:53.235Z"
   },
   {
    "duration": 37,
    "start_time": "2021-12-09T09:10:53.267Z"
   },
   {
    "duration": 18,
    "start_time": "2021-12-09T09:10:53.306Z"
   },
   {
    "duration": 8,
    "start_time": "2021-12-09T09:10:53.326Z"
   },
   {
    "duration": 4489,
    "start_time": "2021-12-09T09:10:53.364Z"
   },
   {
    "duration": 34,
    "start_time": "2021-12-09T09:10:57.855Z"
   },
   {
    "duration": 9,
    "start_time": "2021-12-09T09:10:57.891Z"
   },
   {
    "duration": 274,
    "start_time": "2021-12-09T09:10:57.901Z"
   },
   {
    "duration": 33,
    "start_time": "2021-12-09T09:10:58.178Z"
   },
   {
    "duration": 950,
    "start_time": "2021-12-09T09:10:58.213Z"
   },
   {
    "duration": 260,
    "start_time": "2021-12-09T09:10:59.165Z"
   },
   {
    "duration": 232,
    "start_time": "2021-12-09T09:10:59.427Z"
   },
   {
    "duration": 28,
    "start_time": "2021-12-09T09:10:59.664Z"
   },
   {
    "duration": 21,
    "start_time": "2021-12-09T09:10:59.694Z"
   },
   {
    "duration": 27,
    "start_time": "2021-12-09T09:10:59.718Z"
   },
   {
    "duration": 36,
    "start_time": "2021-12-09T09:10:59.746Z"
   },
   {
    "duration": 11,
    "start_time": "2021-12-09T09:34:59.958Z"
   },
   {
    "duration": 9,
    "start_time": "2021-12-09T09:35:04.777Z"
   },
   {
    "duration": 10,
    "start_time": "2021-12-09T09:35:12.632Z"
   },
   {
    "duration": 66,
    "start_time": "2021-12-09T09:35:26.694Z"
   },
   {
    "duration": 22,
    "start_time": "2021-12-09T09:35:32.021Z"
   },
   {
    "duration": 91,
    "start_time": "2022-01-09T12:46:16.532Z"
   },
   {
    "duration": 369,
    "start_time": "2022-01-09T12:46:21.737Z"
   },
   {
    "duration": 281,
    "start_time": "2022-01-09T12:46:28.762Z"
   },
   {
    "duration": 662,
    "start_time": "2022-01-12T08:50:50.004Z"
   },
   {
    "duration": 10,
    "start_time": "2022-01-12T08:50:50.668Z"
   },
   {
    "duration": 10,
    "start_time": "2022-01-12T08:50:50.680Z"
   },
   {
    "duration": 35,
    "start_time": "2022-01-12T08:50:50.692Z"
   },
   {
    "duration": 314,
    "start_time": "2022-01-12T08:50:50.729Z"
   },
   {
    "duration": 19,
    "start_time": "2022-01-12T08:50:51.045Z"
   },
   {
    "duration": 10,
    "start_time": "2022-01-12T08:50:51.065Z"
   },
   {
    "duration": 5,
    "start_time": "2022-01-12T08:50:51.078Z"
   },
   {
    "duration": 9,
    "start_time": "2022-01-12T08:50:51.084Z"
   },
   {
    "duration": 18,
    "start_time": "2022-01-12T08:50:51.094Z"
   },
   {
    "duration": 59,
    "start_time": "2022-01-12T08:50:51.114Z"
   },
   {
    "duration": 17,
    "start_time": "2022-01-12T08:50:51.174Z"
   },
   {
    "duration": 7,
    "start_time": "2022-01-12T08:50:51.193Z"
   },
   {
    "duration": 36,
    "start_time": "2022-01-12T08:50:51.202Z"
   },
   {
    "duration": 34,
    "start_time": "2022-01-12T08:50:51.240Z"
   },
   {
    "duration": 7,
    "start_time": "2022-01-12T08:50:51.276Z"
   },
   {
    "duration": 4312,
    "start_time": "2022-01-12T08:50:51.285Z"
   },
   {
    "duration": 36,
    "start_time": "2022-01-12T08:50:55.599Z"
   },
   {
    "duration": 24,
    "start_time": "2022-01-12T08:50:55.637Z"
   },
   {
    "duration": 242,
    "start_time": "2022-01-12T08:50:55.663Z"
   },
   {
    "duration": 27,
    "start_time": "2022-01-12T08:50:55.907Z"
   },
   {
    "duration": 1044,
    "start_time": "2022-01-12T08:50:55.936Z"
   },
   {
    "duration": 239,
    "start_time": "2022-01-12T08:50:56.983Z"
   },
   {
    "duration": 236,
    "start_time": "2022-01-12T08:50:57.224Z"
   },
   {
    "duration": 32,
    "start_time": "2022-01-12T08:50:57.462Z"
   },
   {
    "duration": 21,
    "start_time": "2022-01-12T08:50:57.495Z"
   },
   {
    "duration": 21,
    "start_time": "2022-01-12T08:50:57.518Z"
   },
   {
    "duration": 22,
    "start_time": "2022-01-12T08:50:57.561Z"
   },
   {
    "duration": 535,
    "start_time": "2022-01-12T08:51:19.811Z"
   },
   {
    "duration": 231,
    "start_time": "2022-01-12T08:51:22.779Z"
   },
   {
    "duration": 22,
    "start_time": "2022-01-12T09:52:59.866Z"
   }
  ],
  "kernelspec": {
   "display_name": "Python 3 (ipykernel)",
   "language": "python",
   "name": "python3"
  },
  "language_info": {
   "codemirror_mode": {
    "name": "ipython",
    "version": 3
   },
   "file_extension": ".py",
   "mimetype": "text/x-python",
   "name": "python",
   "nbconvert_exporter": "python",
   "pygments_lexer": "ipython3",
   "version": "3.9.7"
  },
  "toc": {
   "base_numbering": 1,
   "nav_menu": {
    "height": "364px",
    "width": "266px"
   },
   "number_sections": true,
   "sideBar": true,
   "skip_h1_title": true,
   "title_cell": "Table of Contents",
   "title_sidebar": "Contents",
   "toc_cell": false,
   "toc_position": {
    "height": "calc(100% - 180px)",
    "left": "10px",
    "top": "150px",
    "width": "366.391px"
   },
   "toc_section_display": true,
   "toc_window_display": true
  }
 },
 "nbformat": 4,
 "nbformat_minor": 2
}
