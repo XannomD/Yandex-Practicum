{
 "cells": [
  {
   "cell_type": "markdown",
   "metadata": {
    "id": "E0vqbgi9ay0H"
   },
   "source": [
    "# Яндекс.Музыка"
   ]
  },
  {
   "cell_type": "markdown",
   "metadata": {
    "id": "VUC88oWjTJw2"
   },
   "source": [
    "Сравнение Москвы и Петербурга окружено мифами. Например:\n",
    " * Москва — мегаполис, подчинённый жёсткому ритму рабочей недели;\n",
    " * Петербург — культурная столица, со своими вкусами.\n",
    "\n",
    "На данных Яндекс.Музыки вы сравните поведение пользователей двух столиц.\n",
    "\n",
    "**Цель исследования** — проверьте три гипотезы:\n",
    "1. Активность пользователей зависит от дня недели. Причём в Москве и Петербурге это проявляется по-разному.\n",
    "2. В понедельник утром в Москве преобладают одни жанры, а в Петербурге — другие. Так же и вечером пятницы преобладают разные жанры — в зависимости от города. \n",
    "3. Москва и Петербург предпочитают разные жанры музыки. В Москве чаще слушают поп-музыку, в Петербурге — русский рэп.\n",
    "\n",
    "**Ход исследования**\n",
    "\n",
    "Данные о поведении пользователей вы получите из файла `yandex_music_project.csv`. О качестве данных ничего не известно. Поэтому перед проверкой гипотез понадобится обзор данных. \n",
    "\n",
    "Вы проверите данные на ошибки и оцените их влияние на исследование. Затем, на этапе предобработки вы поищете возможность исправить самые критичные ошибки данных.\n",
    " \n",
    "Таким образом, исследование пройдёт в три этапа:\n",
    " 1. Обзор данных.\n",
    " 2. Предобработка данных.\n",
    " 3. Проверка гипотез.\n",
    "\n"
   ]
  },
  {
   "cell_type": "markdown",
   "metadata": {
    "id": "Ml1hmfXC_Zcs"
   },
   "source": [
    "## Обзор данных\n",
    "\n",
    "Составьте первое представление о данных Яндекс.Музыки.\n",
    "\n",
    "\n"
   ]
  },
  {
   "cell_type": "markdown",
   "metadata": {
    "id": "57eAOGIz_Zcs"
   },
   "source": [
    "Основной инструмент аналитика — `pandas`. Импортируйте эту библиотеку."
   ]
  },
  {
   "cell_type": "code",
   "execution_count": 1,
   "metadata": {
    "id": "AXN7PHPN_Zcs"
   },
   "outputs": [],
   "source": [
    "import pandas as pd # импорт библиотеки pandas"
   ]
  },
  {
   "cell_type": "markdown",
   "metadata": {
    "id": "SG23P8tt_Zcs"
   },
   "source": [
    "Прочитайте файл `yandex_music_project.csv` из папки `/datasets` и сохраните его в переменной `df`:"
   ]
  },
  {
   "cell_type": "code",
   "execution_count": 2,
   "metadata": {
    "id": "fFVu7vqh_Zct"
   },
   "outputs": [],
   "source": [
    "df = pd.read_csv('yandex_music_project.csv') # чтение файла с данными и сохранение в df"
   ]
  },
  {
   "cell_type": "markdown",
   "metadata": {
    "id": "rDoOMd3uTqnZ"
   },
   "source": [
    "Выведите на экран первые десять строк таблицы:"
   ]
  },
  {
   "cell_type": "code",
   "execution_count": 3,
   "metadata": {
    "id": "oWTVX3gW_Zct",
    "scrolled": true
   },
   "outputs": [
    {
     "data": {
      "text/html": [
       "<div>\n",
       "<style scoped>\n",
       "    .dataframe tbody tr th:only-of-type {\n",
       "        vertical-align: middle;\n",
       "    }\n",
       "\n",
       "    .dataframe tbody tr th {\n",
       "        vertical-align: top;\n",
       "    }\n",
       "\n",
       "    .dataframe thead th {\n",
       "        text-align: right;\n",
       "    }\n",
       "</style>\n",
       "<table border=\"1\" class=\"dataframe\">\n",
       "  <thead>\n",
       "    <tr style=\"text-align: right;\">\n",
       "      <th></th>\n",
       "      <th>userID</th>\n",
       "      <th>Track</th>\n",
       "      <th>artist</th>\n",
       "      <th>genre</th>\n",
       "      <th>City</th>\n",
       "      <th>time</th>\n",
       "      <th>Day</th>\n",
       "    </tr>\n",
       "  </thead>\n",
       "  <tbody>\n",
       "    <tr>\n",
       "      <th>65069</th>\n",
       "      <td>BE1AAD74</td>\n",
       "      <td>Waterwalk</td>\n",
       "      <td>Eduardo Gonzales</td>\n",
       "      <td>electronic</td>\n",
       "      <td>Moscow</td>\n",
       "      <td>20:38:59</td>\n",
       "      <td>Monday</td>\n",
       "    </tr>\n",
       "    <tr>\n",
       "      <th>65070</th>\n",
       "      <td>49F35D53</td>\n",
       "      <td>Ass Up</td>\n",
       "      <td>Rameez</td>\n",
       "      <td>dance</td>\n",
       "      <td>Moscow</td>\n",
       "      <td>14:08:58</td>\n",
       "      <td>Friday</td>\n",
       "    </tr>\n",
       "    <tr>\n",
       "      <th>65071</th>\n",
       "      <td>92378E24</td>\n",
       "      <td>Swing it Like You Mean it</td>\n",
       "      <td>OJOJOJ</td>\n",
       "      <td>techno</td>\n",
       "      <td>Moscow</td>\n",
       "      <td>21:12:56</td>\n",
       "      <td>Friday</td>\n",
       "    </tr>\n",
       "    <tr>\n",
       "      <th>65072</th>\n",
       "      <td>C532021D</td>\n",
       "      <td>We Can Not Be Silenced</td>\n",
       "      <td>Pänzer</td>\n",
       "      <td>extrememetal</td>\n",
       "      <td>Moscow</td>\n",
       "      <td>08:38:24</td>\n",
       "      <td>Friday</td>\n",
       "    </tr>\n",
       "    <tr>\n",
       "      <th>65073</th>\n",
       "      <td>83A474E7</td>\n",
       "      <td>I Worship Only What You Bleed</td>\n",
       "      <td>The Black Dahlia Murder</td>\n",
       "      <td>extrememetal</td>\n",
       "      <td>Moscow</td>\n",
       "      <td>21:07:12</td>\n",
       "      <td>Monday</td>\n",
       "    </tr>\n",
       "    <tr>\n",
       "      <th>65074</th>\n",
       "      <td>729CBB09</td>\n",
       "      <td>My Name</td>\n",
       "      <td>McLean</td>\n",
       "      <td>rnb</td>\n",
       "      <td>Moscow</td>\n",
       "      <td>13:32:28</td>\n",
       "      <td>Wednesday</td>\n",
       "    </tr>\n",
       "    <tr>\n",
       "      <th>65075</th>\n",
       "      <td>D08D4A55</td>\n",
       "      <td>Maybe One Day (feat. Black Spade)</td>\n",
       "      <td>Blu &amp; Exile</td>\n",
       "      <td>hip</td>\n",
       "      <td>Saint-Petersburg</td>\n",
       "      <td>10:00:00</td>\n",
       "      <td>Monday</td>\n",
       "    </tr>\n",
       "    <tr>\n",
       "      <th>65076</th>\n",
       "      <td>C5E3A0D5</td>\n",
       "      <td>Jalopiina</td>\n",
       "      <td>NaN</td>\n",
       "      <td>industrial</td>\n",
       "      <td>Moscow</td>\n",
       "      <td>20:09:26</td>\n",
       "      <td>Friday</td>\n",
       "    </tr>\n",
       "    <tr>\n",
       "      <th>65077</th>\n",
       "      <td>321D0506</td>\n",
       "      <td>Freight Train</td>\n",
       "      <td>Chas McDevitt</td>\n",
       "      <td>rock</td>\n",
       "      <td>Moscow</td>\n",
       "      <td>21:43:59</td>\n",
       "      <td>Friday</td>\n",
       "    </tr>\n",
       "    <tr>\n",
       "      <th>65078</th>\n",
       "      <td>3A64EF84</td>\n",
       "      <td>Tell Me Sweet Little Lies</td>\n",
       "      <td>Monica Lopez</td>\n",
       "      <td>country</td>\n",
       "      <td>Moscow</td>\n",
       "      <td>21:59:46</td>\n",
       "      <td>Friday</td>\n",
       "    </tr>\n",
       "  </tbody>\n",
       "</table>\n",
       "</div>"
      ],
      "text/plain": [
       "         userID                              Track                   artist  \\\n",
       "65069  BE1AAD74                          Waterwalk         Eduardo Gonzales   \n",
       "65070  49F35D53                             Ass Up                   Rameez   \n",
       "65071  92378E24          Swing it Like You Mean it                   OJOJOJ   \n",
       "65072  C532021D             We Can Not Be Silenced                   Pänzer   \n",
       "65073  83A474E7      I Worship Only What You Bleed  The Black Dahlia Murder   \n",
       "65074  729CBB09                            My Name                   McLean   \n",
       "65075  D08D4A55  Maybe One Day (feat. Black Spade)              Blu & Exile   \n",
       "65076  C5E3A0D5                          Jalopiina                      NaN   \n",
       "65077  321D0506                      Freight Train            Chas McDevitt   \n",
       "65078  3A64EF84          Tell Me Sweet Little Lies             Monica Lopez   \n",
       "\n",
       "              genre            City        time        Day  \n",
       "65069    electronic            Moscow  20:38:59     Monday  \n",
       "65070         dance            Moscow  14:08:58     Friday  \n",
       "65071        techno            Moscow  21:12:56     Friday  \n",
       "65072  extrememetal            Moscow  08:38:24     Friday  \n",
       "65073  extrememetal            Moscow  21:07:12     Monday  \n",
       "65074           rnb            Moscow  13:32:28  Wednesday  \n",
       "65075           hip  Saint-Petersburg  10:00:00     Monday  \n",
       "65076    industrial            Moscow  20:09:26     Friday  \n",
       "65077          rock            Moscow  21:43:59     Friday  \n",
       "65078       country            Moscow  21:59:46     Friday  "
      ]
     },
     "metadata": {},
     "output_type": "display_data"
    }
   ],
   "source": [
    "display(df.tail(10)) # получение первых 10 строк таблицы df"
   ]
  },
  {
   "cell_type": "markdown",
   "metadata": {
    "id": "EO73Kwic_Zct"
   },
   "source": [
    "Одной командой получить общую информацию о таблице:"
   ]
  },
  {
   "cell_type": "code",
   "execution_count": 4,
   "metadata": {
    "id": "DSf2kIb-_Zct"
   },
   "outputs": [
    {
     "name": "stdout",
     "output_type": "stream",
     "text": [
      "<class 'pandas.core.frame.DataFrame'>\n",
      "RangeIndex: 65079 entries, 0 to 65078\n",
      "Data columns (total 7 columns):\n",
      " #   Column    Non-Null Count  Dtype \n",
      "---  ------    --------------  ----- \n",
      " 0     userID  65079 non-null  object\n",
      " 1   Track     63848 non-null  object\n",
      " 2   artist    57876 non-null  object\n",
      " 3   genre     63881 non-null  object\n",
      " 4     City    65079 non-null  object\n",
      " 5   time      65079 non-null  object\n",
      " 6   Day       65079 non-null  object\n",
      "dtypes: object(7)\n",
      "memory usage: 3.5+ MB\n"
     ]
    }
   ],
   "source": [
    "df.info() # получение общей информации о данных в таблице df"
   ]
  },
  {
   "cell_type": "markdown",
   "metadata": {
    "id": "TaQ2Iwbr_Zct"
   },
   "source": [
    "Итак, в таблице семь столбцов. Тип данных во всех столбцах — `object`.\n",
    "\n",
    "Согласно документации к данным:\n",
    "* `userID` — идентификатор пользователя;\n",
    "* `Track` — название трека;  \n",
    "* `artist` — имя исполнителя;\n",
    "* `genre` — название жанра;\n",
    "* `City` — город пользователя;\n",
    "* `time` — время начала прослушивания;\n",
    "* `Day` — день недели.\n",
    "\n",
    "В названиях колонок видны три нарушения стиля:\n",
    "1. Строчные буквы сочетаются с прописными.\n",
    "2. Встречаются пробелы.\n",
    "3. `userID`- лучше написать в \"змеином регистре\" (`user_ID`)  *#Найдите ещё одну проблему в названии колонок и опишите её в этом пункте.*\n",
    "\n",
    "\n",
    "\n",
    "Количество значений в столбцах различается. Значит, в данных есть пропущенные значения.\n"
   ]
  },
  {
   "cell_type": "markdown",
   "metadata": {
    "id": "MCB6-dXG_Zct"
   },
   "source": [
    "**Выводы**\n",
    "\n",
    "В каждой строке таблицы — данные о прослушанном треке. Часть колонок описывает саму композицию: название, исполнителя и жанр. Остальные данные рассказывают о пользователе: из какого он города, когда он слушал музыку. \n",
    "\n",
    "Предварительно можно утверждать, что, данных достаточно для проверки гипотез. Но встречаются пропуски в данных, а в названиях колонок — расхождения с хорошим стилем.\n",
    "\n",
    "Чтобы двигаться дальше, нужно устранить проблемы в данных."
   ]
  },
  {
   "cell_type": "markdown",
   "metadata": {
    "id": "SjYF6Ub9_Zct"
   },
   "source": [
    "## Предобработка данных\n",
    "Исправьте стиль в заголовках столбцов, исключите пропуски. Затем проверьте данные на дубликаты."
   ]
  },
  {
   "cell_type": "markdown",
   "metadata": {
    "id": "dIaKXr29_Zct"
   },
   "source": [
    "### Стиль заголовков\n",
    "Выведите на экран названия столбцов:"
   ]
  },
  {
   "cell_type": "code",
   "execution_count": 5,
   "metadata": {
    "id": "oKOTdF_Q_Zct"
   },
   "outputs": [
    {
     "data": {
      "text/plain": [
       "Index(['  userID', 'Track', 'artist', 'genre', '  City  ', 'time', 'Day'], dtype='object')"
      ]
     },
     "execution_count": 5,
     "metadata": {},
     "output_type": "execute_result"
    }
   ],
   "source": [
    "df.columns # перечень названий столбцов таблицы df"
   ]
  },
  {
   "cell_type": "markdown",
   "metadata": {
    "id": "zj5534cv_Zct"
   },
   "source": [
    "Приведите названия в соответствие с хорошим стилем:\n",
    "* несколько слов в названии запишите в «змеином_регистре»,\n",
    "* все символы сделайте строчными,\n",
    "* устраните пробелы.\n",
    "\n",
    "Для этого переименуйте колонки так:\n",
    "* `'  userID'` → `'user_id'`;\n",
    "* `'Track'` → `'track'`;\n",
    "* `'  City  '` → `'city'`;\n",
    "* `'Day'` → `'day'`."
   ]
  },
  {
   "cell_type": "code",
   "execution_count": 6,
   "metadata": {
    "id": "ISlFqs5y_Zct"
   },
   "outputs": [],
   "source": [
    "df=df.rename(columns={'  userID': 'user_id', 'Track': 'track', '  City  ': 'city', 'Day': 'day'}) # переименование столбцов"
   ]
  },
  {
   "cell_type": "markdown",
   "metadata": {
    "id": "1dqbh00J_Zct"
   },
   "source": [
    "Проверьте результат. Для этого ещё раз выведите на экран названия столбцов:"
   ]
  },
  {
   "cell_type": "code",
   "execution_count": 7,
   "metadata": {
    "id": "d4NOAmTW_Zct"
   },
   "outputs": [
    {
     "data": {
      "text/plain": [
       "Index(['user_id', 'track', 'artist', 'genre', 'city', 'time', 'day'], dtype='object')"
      ]
     },
     "execution_count": 7,
     "metadata": {},
     "output_type": "execute_result"
    }
   ],
   "source": [
    "df.columns # проверка результатов - перечень названий столбцов"
   ]
  },
  {
   "cell_type": "markdown",
   "metadata": {
    "id": "5ISfbcfY_Zct"
   },
   "source": [
    "### Пропуски значений\n",
    "Сначала посчитайте, сколько в таблице пропущенных значений. Для этого достаточно двух методов `pandas`:"
   ]
  },
  {
   "cell_type": "code",
   "execution_count": 8,
   "metadata": {
    "id": "RskX29qr_Zct"
   },
   "outputs": [
    {
     "data": {
      "text/plain": [
       "user_id       0\n",
       "track      1231\n",
       "artist     7203\n",
       "genre      1198\n",
       "city          0\n",
       "time          0\n",
       "day           0\n",
       "dtype: int64"
      ]
     },
     "execution_count": 8,
     "metadata": {},
     "output_type": "execute_result"
    }
   ],
   "source": [
    "df.isna().sum() # подсчёт пропусков"
   ]
  },
  {
   "cell_type": "markdown",
   "metadata": {
    "id": "qubhgnlO_Zct"
   },
   "source": [
    "Не все пропущенные значения влияют на исследование. Так в `track` и `artist` пропуски не важны для вашей работы. Достаточно заменить их явными обозначениями.\n",
    "\n",
    "Но пропуски в `genre` могут помешать сравнению музыкальных вкусов в Москве и Санкт-Петербурге. На практике было бы правильно установить причину пропусков и восстановить данные. Такой возможности нет в учебном проекте. Придётся:\n",
    "* заполнить и эти пропуски явными обозначениями,\n",
    "* оценить, насколько они повредят расчётам. "
   ]
  },
  {
   "cell_type": "markdown",
   "metadata": {
    "id": "fSv2laPA_Zct"
   },
   "source": [
    "Замените пропущенные значения в столбцах `track`, `artist` и `genre` на строку `'unknown'`. Для этого создайте список `columns_to_replace`, переберите его элементы циклом `for` и для каждого столбца выполните замену пропущенных значений:"
   ]
  },
  {
   "cell_type": "code",
   "execution_count": 9,
   "metadata": {
    "id": "KplB5qWs_Zct"
   },
   "outputs": [],
   "source": [
    "columns_to_replace =[df.columns] #создание нового списка, который содержит наименования столбцов исходного датафрейма\n",
    "for i in columns_to_replace:\n",
    "    df[i] = df[i].fillna('unknown')\n"
   ]
  },
  {
   "cell_type": "markdown",
   "metadata": {
    "id": "Ilsm-MZo_Zct"
   },
   "source": [
    "Убедитесь, что в таблице не осталось пропусков. Для этого ещё раз посчитайте пропущенные значения."
   ]
  },
  {
   "cell_type": "code",
   "execution_count": 10,
   "metadata": {
    "id": "Tq4nYRX4_Zct"
   },
   "outputs": [
    {
     "data": {
      "text/plain": [
       "user_id    0\n",
       "track      0\n",
       "artist     0\n",
       "genre      0\n",
       "city       0\n",
       "time       0\n",
       "day        0\n",
       "dtype: int64"
      ]
     },
     "execution_count": 10,
     "metadata": {},
     "output_type": "execute_result"
    }
   ],
   "source": [
    "df.isna().sum() # подсчёт пропусков, вернее проверка их отсутсвия"
   ]
  },
  {
   "cell_type": "markdown",
   "metadata": {
    "id": "BWKRtBJ3_Zct"
   },
   "source": [
    "### Дубликаты\n",
    "Посчитайте явные дубликаты в таблице одной командой:"
   ]
  },
  {
   "cell_type": "code",
   "execution_count": 11,
   "metadata": {
    "id": "36eES_S0_Zct"
   },
   "outputs": [
    {
     "data": {
      "text/plain": [
       "3826"
      ]
     },
     "execution_count": 11,
     "metadata": {},
     "output_type": "execute_result"
    }
   ],
   "source": [
    "df .duplicated().sum()# подсчёт явных дубликатов"
   ]
  },
  {
   "cell_type": "markdown",
   "metadata": {
    "id": "Ot25h6XR_Zct"
   },
   "source": [
    "Вызовите специальный метод `pandas`, чтобы удалить явные дубликаты:"
   ]
  },
  {
   "cell_type": "code",
   "execution_count": 12,
   "metadata": {
    "id": "exFHq6tt_Zct"
   },
   "outputs": [],
   "source": [
    "df = df.drop_duplicates().reset_index(drop=True) # удаление явных дубликатов (с удалением старых индексов и формированием новых)"
   ]
  },
  {
   "cell_type": "markdown",
   "metadata": {
    "id": "Im2YwBEG_Zct"
   },
   "source": [
    "Ещё раз посчитайте явные дубликаты в таблице — убедитесь, что полностью от них избавились:"
   ]
  },
  {
   "cell_type": "code",
   "execution_count": 13,
   "metadata": {
    "id": "-8PuNWQ0_Zct"
   },
   "outputs": [
    {
     "data": {
      "text/plain": [
       "0"
      ]
     },
     "execution_count": 13,
     "metadata": {},
     "output_type": "execute_result"
    }
   ],
   "source": [
    "df.duplicated().sum() # проверка на отсутствие явных дубликатов"
   ]
  },
  {
   "cell_type": "markdown",
   "metadata": {
    "id": "QlFBsxAr_Zct"
   },
   "source": [
    "Теперь избавьтесь от неявных дубликатов в колонке `genre`. Например, название одного и того же жанра может быть записано немного по-разному. Такие ошибки тоже повлияют на результат исследования."
   ]
  },
  {
   "cell_type": "markdown",
   "metadata": {
    "id": "eSjWwsOh_Zct"
   },
   "source": [
    "Выведите на экран список уникальных названий жанров, отсортированный в алфавитном порядке. Для этого:\n",
    "* извлеките нужный столбец датафрейма, \n",
    "* примените к нему метод сортировки,\n",
    "* для отсортированного столбца вызовите метод, который вернёт уникальные значения из столбца."
   ]
  },
  {
   "cell_type": "code",
   "execution_count": 14,
   "metadata": {
    "id": "JIUcqzZN_Zct"
   },
   "outputs": [
    {
     "data": {
      "text/plain": [
       "array(['acid', 'acoustic', 'action', 'adult', 'africa', 'afrikaans',\n",
       "       'alternative', 'alternativepunk', 'ambient', 'americana',\n",
       "       'animated', 'anime', 'arabesk', 'arabic', 'arena',\n",
       "       'argentinetango', 'art', 'audiobook', 'author', 'avantgarde',\n",
       "       'axé', 'baile', 'balkan', 'beats', 'bigroom', 'black', 'bluegrass',\n",
       "       'blues', 'bollywood', 'bossa', 'brazilian', 'breakbeat', 'breaks',\n",
       "       'broadway', 'cantautori', 'cantopop', 'canzone', 'caribbean',\n",
       "       'caucasian', 'celtic', 'chamber', 'chanson', 'children', 'chill',\n",
       "       'chinese', 'choral', 'christian', 'christmas', 'classical',\n",
       "       'classicmetal', 'club', 'colombian', 'comedy', 'conjazz',\n",
       "       'contemporary', 'country', 'cuban', 'dance', 'dancehall',\n",
       "       'dancepop', 'dark', 'death', 'deep', 'deutschrock', 'deutschspr',\n",
       "       'dirty', 'disco', 'dnb', 'documentary', 'downbeat', 'downtempo',\n",
       "       'drum', 'dub', 'dubstep', 'eastern', 'easy', 'electronic',\n",
       "       'electropop', 'emo', 'entehno', 'epicmetal', 'estrada', 'ethnic',\n",
       "       'eurofolk', 'european', 'experimental', 'extrememetal', 'fado',\n",
       "       'fairytail', 'film', 'fitness', 'flamenco', 'folk', 'folklore',\n",
       "       'folkmetal', 'folkrock', 'folktronica', 'forró', 'frankreich',\n",
       "       'französisch', 'french', 'funk', 'future', 'gangsta', 'garage',\n",
       "       'german', 'ghazal', 'gitarre', 'glitch', 'gospel', 'gothic',\n",
       "       'grime', 'grunge', 'gypsy', 'handsup', \"hard'n'heavy\", 'hardcore',\n",
       "       'hardstyle', 'hardtechno', 'hip', 'hip-hop', 'hiphop',\n",
       "       'historisch', 'holiday', 'hop', 'horror', 'house', 'hymn', 'idm',\n",
       "       'independent', 'indian', 'indie', 'indipop', 'industrial',\n",
       "       'inspirational', 'instrumental', 'international', 'irish', 'jam',\n",
       "       'japanese', 'jazz', 'jewish', 'jpop', 'jungle', 'k-pop',\n",
       "       'karadeniz', 'karaoke', 'kayokyoku', 'korean', 'laiko', 'latin',\n",
       "       'latino', 'leftfield', 'local', 'lounge', 'loungeelectronic',\n",
       "       'lovers', 'malaysian', 'mandopop', 'marschmusik', 'meditative',\n",
       "       'mediterranean', 'melodic', 'metal', 'metalcore', 'mexican',\n",
       "       'middle', 'minimal', 'miscellaneous', 'modern', 'mood', 'mpb',\n",
       "       'muslim', 'native', 'neoklassik', 'neue', 'new', 'newage',\n",
       "       'newwave', 'nu', 'nujazz', 'numetal', 'oceania', 'old', 'opera',\n",
       "       'orchestral', 'other', 'piano', 'podcasts', 'pop', 'popdance',\n",
       "       'popelectronic', 'popeurodance', 'poprussian', 'post',\n",
       "       'posthardcore', 'postrock', 'power', 'progmetal', 'progressive',\n",
       "       'psychedelic', 'punjabi', 'punk', 'quebecois', 'ragga', 'ram',\n",
       "       'rancheras', 'rap', 'rave', 'reggae', 'reggaeton', 'regional',\n",
       "       'relax', 'religious', 'retro', 'rhythm', 'rnb', 'rnr', 'rock',\n",
       "       'rockabilly', 'rockalternative', 'rockindie', 'rockother',\n",
       "       'romance', 'roots', 'ruspop', 'rusrap', 'rusrock', 'russian',\n",
       "       'salsa', 'samba', 'scenic', 'schlager', 'self', 'sertanejo',\n",
       "       'shanson', 'shoegazing', 'showtunes', 'singer', 'ska', 'skarock',\n",
       "       'slow', 'smooth', 'soft', 'soul', 'soulful', 'sound', 'soundtrack',\n",
       "       'southern', 'specialty', 'speech', 'spiritual', 'sport',\n",
       "       'stonerrock', 'surf', 'swing', 'synthpop', 'synthrock',\n",
       "       'sängerportrait', 'tango', 'tanzorchester', 'taraftar', 'tatar',\n",
       "       'tech', 'techno', 'teen', 'thrash', 'top', 'traditional',\n",
       "       'tradjazz', 'trance', 'tribal', 'trip', 'triphop', 'tropical',\n",
       "       'türk', 'türkçe', 'ukrrock', 'unknown', 'urban', 'uzbek',\n",
       "       'variété', 'vi', 'videogame', 'vocal', 'western', 'world',\n",
       "       'worldbeat', 'ïîï', 'электроника'], dtype=object)"
      ]
     },
     "execution_count": 14,
     "metadata": {},
     "output_type": "execute_result"
    }
   ],
   "source": [
    "# Просмотр уникальных названий жанров\n",
    "genre=df['genre'].sort_values(ascending=True) # список жанров, отсортированных по возврастанию\n",
    "genre.unique() #список никальных значений из столбца 'genre'"
   ]
  },
  {
   "cell_type": "markdown",
   "metadata": {
    "id": "qej-Qmuo_Zct"
   },
   "source": [
    "Просмотрите список и найдите неявные дубликаты названия `hiphop`. Это могут быть названия с ошибками или альтернативные названия того же жанра.\n",
    "\n",
    "Вы увидите следующие неявные дубликаты:\n",
    "* *hip*,\n",
    "* *hop*,\n",
    "* *hip-hop*.\n",
    "\n",
    "Чтобы очистить от них таблицу, напишите функцию `replace_wrong_genres()` с двумя параметрами: \n",
    "* `wrong_genres` — список дубликатов,\n",
    "* `correct_genre` — строка с правильным значением.\n",
    "\n",
    "Функция должна исправить колонку `genre` в таблице `df`: заменить каждое значение из списка `wrong_genres` на значение из `correct_genre`."
   ]
  },
  {
   "cell_type": "code",
   "execution_count": 15,
   "metadata": {
    "id": "ErNDkmns_Zct"
   },
   "outputs": [],
   "source": [
    "def replace_wrong_genres(wrong_genres,correct_genre): # Функция для замены неявных дубликатов\n",
    "    for wrong_genre in wrong_genres: \n",
    "        df['genre'] = df['genre'].replace(wrong_genres, correct_genre)\n"
   ]
  },
  {
   "cell_type": "markdown",
   "metadata": {
    "id": "aDoBJxbA_Zct"
   },
   "source": [
    "Вызовите `replace_wrong_genres()` и передайте ей такие аргументы, чтобы она устранила неявные дубликаты: вместо `hip`, `hop` и `hip-hop` в таблице должно быть значение `hiphop`:"
   ]
  },
  {
   "cell_type": "code",
   "execution_count": 16,
   "metadata": {
    "id": "YN5i2hpmSo09"
   },
   "outputs": [],
   "source": [
    "duplicates_hiphop = ['hip', 'hop', 'hip-hop'] # Устранение неявных дубликатов\n",
    "correct_hiphop = 'hiphop'\n",
    "replace_wrong_genres(duplicates_hiphop, correct_hiphop)  "
   ]
  },
  {
   "cell_type": "code",
   "execution_count": 17,
   "metadata": {},
   "outputs": [],
   "source": [
    "duplicates_electron = ['электроника'] # Устранение скрытых дубликатов\n",
    "correct_electron = 'electronic'\n",
    "replace_wrong_genres(duplicates_electron, correct_electron)  "
   ]
  },
  {
   "cell_type": "markdown",
   "metadata": {
    "id": "zQKF16_RG15m"
   },
   "source": [
    "Проверьте, что заменили неправильные названия:\n",
    "\n",
    "*   hip\n",
    "*   hop\n",
    "*   hip-hop\n",
    "\n",
    "Выведите отсортированный список уникальных значений столбца `genre`:"
   ]
  },
  {
   "cell_type": "code",
   "execution_count": 18,
   "metadata": {
    "id": "wvixALnFG15m"
   },
   "outputs": [
    {
     "data": {
      "text/plain": [
       "array(['acid', 'acoustic', 'action', 'adult', 'africa', 'afrikaans',\n",
       "       'alternative', 'alternativepunk', 'ambient', 'americana',\n",
       "       'animated', 'anime', 'arabesk', 'arabic', 'arena',\n",
       "       'argentinetango', 'art', 'audiobook', 'author', 'avantgarde',\n",
       "       'axé', 'baile', 'balkan', 'beats', 'bigroom', 'black', 'bluegrass',\n",
       "       'blues', 'bollywood', 'bossa', 'brazilian', 'breakbeat', 'breaks',\n",
       "       'broadway', 'cantautori', 'cantopop', 'canzone', 'caribbean',\n",
       "       'caucasian', 'celtic', 'chamber', 'chanson', 'children', 'chill',\n",
       "       'chinese', 'choral', 'christian', 'christmas', 'classical',\n",
       "       'classicmetal', 'club', 'colombian', 'comedy', 'conjazz',\n",
       "       'contemporary', 'country', 'cuban', 'dance', 'dancehall',\n",
       "       'dancepop', 'dark', 'death', 'deep', 'deutschrock', 'deutschspr',\n",
       "       'dirty', 'disco', 'dnb', 'documentary', 'downbeat', 'downtempo',\n",
       "       'drum', 'dub', 'dubstep', 'eastern', 'easy', 'electronic',\n",
       "       'electropop', 'emo', 'entehno', 'epicmetal', 'estrada', 'ethnic',\n",
       "       'eurofolk', 'european', 'experimental', 'extrememetal', 'fado',\n",
       "       'fairytail', 'film', 'fitness', 'flamenco', 'folk', 'folklore',\n",
       "       'folkmetal', 'folkrock', 'folktronica', 'forró', 'frankreich',\n",
       "       'französisch', 'french', 'funk', 'future', 'gangsta', 'garage',\n",
       "       'german', 'ghazal', 'gitarre', 'glitch', 'gospel', 'gothic',\n",
       "       'grime', 'grunge', 'gypsy', 'handsup', \"hard'n'heavy\", 'hardcore',\n",
       "       'hardstyle', 'hardtechno', 'hiphop', 'historisch', 'holiday',\n",
       "       'horror', 'house', 'hymn', 'idm', 'independent', 'indian', 'indie',\n",
       "       'indipop', 'industrial', 'inspirational', 'instrumental',\n",
       "       'international', 'irish', 'jam', 'japanese', 'jazz', 'jewish',\n",
       "       'jpop', 'jungle', 'k-pop', 'karadeniz', 'karaoke', 'kayokyoku',\n",
       "       'korean', 'laiko', 'latin', 'latino', 'leftfield', 'local',\n",
       "       'lounge', 'loungeelectronic', 'lovers', 'malaysian', 'mandopop',\n",
       "       'marschmusik', 'meditative', 'mediterranean', 'melodic', 'metal',\n",
       "       'metalcore', 'mexican', 'middle', 'minimal', 'miscellaneous',\n",
       "       'modern', 'mood', 'mpb', 'muslim', 'native', 'neoklassik', 'neue',\n",
       "       'new', 'newage', 'newwave', 'nu', 'nujazz', 'numetal', 'oceania',\n",
       "       'old', 'opera', 'orchestral', 'other', 'piano', 'podcasts', 'pop',\n",
       "       'popdance', 'popelectronic', 'popeurodance', 'poprussian', 'post',\n",
       "       'posthardcore', 'postrock', 'power', 'progmetal', 'progressive',\n",
       "       'psychedelic', 'punjabi', 'punk', 'quebecois', 'ragga', 'ram',\n",
       "       'rancheras', 'rap', 'rave', 'reggae', 'reggaeton', 'regional',\n",
       "       'relax', 'religious', 'retro', 'rhythm', 'rnb', 'rnr', 'rock',\n",
       "       'rockabilly', 'rockalternative', 'rockindie', 'rockother',\n",
       "       'romance', 'roots', 'ruspop', 'rusrap', 'rusrock', 'russian',\n",
       "       'salsa', 'samba', 'scenic', 'schlager', 'self', 'sertanejo',\n",
       "       'shanson', 'shoegazing', 'showtunes', 'singer', 'ska', 'skarock',\n",
       "       'slow', 'smooth', 'soft', 'soul', 'soulful', 'sound', 'soundtrack',\n",
       "       'southern', 'specialty', 'speech', 'spiritual', 'sport',\n",
       "       'stonerrock', 'surf', 'swing', 'synthpop', 'synthrock',\n",
       "       'sängerportrait', 'tango', 'tanzorchester', 'taraftar', 'tatar',\n",
       "       'tech', 'techno', 'teen', 'thrash', 'top', 'traditional',\n",
       "       'tradjazz', 'trance', 'tribal', 'trip', 'triphop', 'tropical',\n",
       "       'türk', 'türkçe', 'ukrrock', 'unknown', 'urban', 'uzbek',\n",
       "       'variété', 'vi', 'videogame', 'vocal', 'western', 'world',\n",
       "       'worldbeat', 'ïîï'], dtype=object)"
      ]
     },
     "execution_count": 18,
     "metadata": {},
     "output_type": "execute_result"
    }
   ],
   "source": [
    "# Проверка на неявные дубликаты\n",
    "genre=df['genre'].sort_values(ascending=True) # Проверка на неявные дубликаты после устранения неявных дубликатов\n",
    "genre.unique()"
   ]
  },
  {
   "cell_type": "markdown",
   "metadata": {
    "id": "jz6a9-7HQUDd"
   },
   "source": [
    "**Выводы**\n",
    "\n",
    "Предобработка обнаружила три проблемы в данных:\n",
    "\n",
    "- нарушения в стиле заголовков,\n",
    "- пропущенные значения,\n",
    "- дубликаты — явные и неявные.\n",
    "\n",
    "Вы исправили заголовки, чтобы упростить работу с таблицей. Без дубликатов исследование станет более точным.\n",
    "\n",
    "Пропущенные значения вы заменили на `'unknown'`. Ещё предстоит увидеть, не повредят ли исследованию пропуски в колонке `genre`.\n",
    "\n",
    "Теперь можно перейти к проверке гипотез. "
   ]
  },
  {
   "cell_type": "markdown",
   "metadata": {
    "id": "WttZHXH0SqKk"
   },
   "source": [
    "## Проверка гипотез"
   ]
  },
  {
   "cell_type": "markdown",
   "metadata": {
    "id": "Im936VVi_Zcu"
   },
   "source": [
    "### Сравнение поведения пользователей двух столиц"
   ]
  },
  {
   "cell_type": "markdown",
   "metadata": {
    "id": "nwt_MuaL_Zcu"
   },
   "source": [
    "Первая гипотеза утверждает, что пользователи по-разному слушают музыку в Москве и Санкт-Петербурге. Проверьте это предположение по данным о трёх днях недели — понедельнике, среде и пятнице. Для этого:\n",
    "\n",
    "* Разделите пользователей Москвы и Санкт-Петербурга\n",
    "* Сравните, сколько треков послушала каждая группа пользователей в понедельник, среду и пятницу.\n"
   ]
  },
  {
   "cell_type": "markdown",
   "metadata": {
    "id": "8Dw_YMmT_Zcu"
   },
   "source": [
    "Для тренировки сначала выполните каждый из расчётов по отдельности. \n",
    "\n",
    "Оцените активность пользователей в каждом городе. Сгруппируйте данные по городу и посчитайте прослушивания в каждой группе.\n",
    "\n"
   ]
  },
  {
   "cell_type": "code",
   "execution_count": 19,
   "metadata": {
    "id": "0_Qs96oh_Zcu"
   },
   "outputs": [
    {
     "data": {
      "text/plain": [
       "city\n",
       "Moscow              42741\n",
       "Saint-Petersburg    18512\n",
       "Name: day, dtype: int64"
      ]
     },
     "execution_count": 19,
     "metadata": {},
     "output_type": "execute_result"
    }
   ],
   "source": [
    "(df.groupby('city')['day']).count() # Подсчёт прослушиваний в каждом городе"
   ]
  },
  {
   "cell_type": "markdown",
   "metadata": {
    "id": "dzli3w8o_Zcu"
   },
   "source": [
    "В Москве прослушиваний больше, чем в Петербурге. Из этого не следует, что московские пользователи чаще слушают музыку. Просто самих пользователей в Москве больше.\n",
    "\n",
    "Теперь сгруппируйте данные по дню недели и подсчитайте прослушивания в понедельник, среду и пятницу. Учтите, что в данных есть информация только о прослушиваниях только за эти дни.\n"
   ]
  },
  {
   "cell_type": "code",
   "execution_count": 20,
   "metadata": {
    "id": "uZMKjiJz_Zcu"
   },
   "outputs": [
    {
     "data": {
      "text/plain": [
       "day\n",
       "Friday       21840\n",
       "Monday       21354\n",
       "Wednesday    18059\n",
       "Name: time, dtype: int64"
      ]
     },
     "execution_count": 20,
     "metadata": {},
     "output_type": "execute_result"
    }
   ],
   "source": [
    "(df.groupby('day')['time']).count() # Подсчёт прослушиваний в каждый из трёх дней"
   ]
  },
  {
   "cell_type": "markdown",
   "metadata": {
    "id": "cC2tNrlL_Zcu"
   },
   "source": [
    "В среднем пользователи из двух городов менее активны по средам. Но картина может измениться, если рассмотреть каждый город в отдельности."
   ]
  },
  {
   "cell_type": "markdown",
   "metadata": {
    "id": "POzs8bGa_Zcu"
   },
   "source": [
    "Вы видели, как работает группировка по городу и по дням недели. Теперь напишите функцию, которая объединит два эти расчёта.\n",
    "\n",
    "Создайте функцию `number_tracks()`, которая посчитает прослушивания для заданного дня и города. Ей понадобятся два параметра:\n",
    "* день недели,\n",
    "* название города.\n",
    "\n",
    "В функции сохраните в переменную строки исходной таблицы, у которых значение:\n",
    "  * в колонке `day` равно параметру `day`,\n",
    "  * в колонке `city` равно параметру `city`.\n",
    "\n",
    "Для этого примените последовательную фильтрацию с логической индексацией.\n",
    "\n",
    "Затем посчитайте значения в столбце `user_id` получившейся таблицы. Результат сохраните в новую переменную. Верните эту переменную из функции."
   ]
  },
  {
   "cell_type": "code",
   "execution_count": 21,
   "metadata": {
    "id": "Nz3GdQB1_Zcu"
   },
   "outputs": [],
   "source": [
    "# <создание функции number_tracks()>\n",
    "# Объявляется функция с двумя параметрами: day, city.\n",
    "# В переменной track_list сохраняются те строки таблицы df, для которых \n",
    "# значение в столбце 'day' равно параметру day и одновременно значение\n",
    "# в столбце 'city' равно параметру city (используйте последовательную фильтрацию\n",
    "# с помощью логической индексации).\n",
    "# В переменной track_list_count сохраняется число значений столбца 'user_id',\n",
    "# рассчитанное методом count() для таблицы track_list.\n",
    "# Функция возвращает число - значение track_list_count.\n",
    "\n",
    "# Функция для подсчёта прослушиваний для конкретного города и дня.\n",
    "# С помощью последовательной фильтрации с логической индексацией она \n",
    "# сначала получит из исходной таблицы строки с нужным днём,\n",
    "# затем из результата отфильтрует строки с нужным городом,\n",
    "# методом count() посчитает количество значений в колонке user_id. \n",
    "# Это количество функция вернёт в качестве результата\n",
    "def number_tracks(day,city):\n",
    "    track_list = df[df['day'] == day]\n",
    "    track_list = track_list[track_list['city'] == city]\n",
    "    track_list_count = track_list['user_id'].count()\n",
    "    return track_list_count"
   ]
  },
  {
   "cell_type": "markdown",
   "metadata": {
    "id": "ytf7xFrFJQ2r"
   },
   "source": [
    "Вызовите `number_tracks()` шесть раз, меняя значение параметров — так, чтобы получить данные для каждого города в каждый из трёх дней."
   ]
  },
  {
   "cell_type": "code",
   "execution_count": 22,
   "metadata": {
    "id": "rJcRATNQ_Zcu"
   },
   "outputs": [
    {
     "name": "stdout",
     "output_type": "stream",
     "text": [
      "Количество прослушиваний в Москве по понедельникам: 15740\n"
     ]
    }
   ],
   "source": [
    "track_list_day = number_tracks('Monday','Moscow')\n",
    "print('Количество прослушиваний в Москве по понедельникам:', track_list_day)# количество прослушиваний в Москве по понедельникам"
   ]
  },
  {
   "cell_type": "code",
   "execution_count": 23,
   "metadata": {
    "id": "hq_ncZ5T_Zcu"
   },
   "outputs": [
    {
     "name": "stdout",
     "output_type": "stream",
     "text": [
      "Количество прослушиваний в Москве по понедельникам: 5614\n"
     ]
    }
   ],
   "source": [
    "track_list_day = number_tracks('Monday','Saint-Petersburg')\n",
    "print('Количество прослушиваний в Москве по понедельникам:', track_list_day) # количество прослушиваний в Санкт-Петербурге по понедельникам"
   ]
  },
  {
   "cell_type": "code",
   "execution_count": 24,
   "metadata": {
    "id": "_NTy2VPU_Zcu"
   },
   "outputs": [
    {
     "name": "stdout",
     "output_type": "stream",
     "text": [
      "Количество прослушиваний в Москве по понедельникам: 11056\n"
     ]
    }
   ],
   "source": [
    "track_list_day = number_tracks('Wednesday','Moscow')\n",
    "print('Количество прослушиваний в Москве по понедельникам:', track_list_day) # количество прослушиваний в Москве по средам"
   ]
  },
  {
   "cell_type": "code",
   "execution_count": 25,
   "metadata": {
    "id": "j2y3TAwo_Zcu"
   },
   "outputs": [
    {
     "name": "stdout",
     "output_type": "stream",
     "text": [
      "Количество прослушиваний в Москве по понедельникам: 7003\n"
     ]
    }
   ],
   "source": [
    "track_list_day = number_tracks('Wednesday','Saint-Petersburg')\n",
    "print('Количество прослушиваний в Москве по понедельникам:', track_list_day) # количество прослушиваний в Санкт-Петербурге по средам"
   ]
  },
  {
   "cell_type": "code",
   "execution_count": 26,
   "metadata": {
    "id": "vYDw5u_K_Zcu"
   },
   "outputs": [
    {
     "name": "stdout",
     "output_type": "stream",
     "text": [
      "Количество прослушиваний в Москве по понедельникам: 15945\n"
     ]
    }
   ],
   "source": [
    "track_list_day = number_tracks('Friday','Moscow')\n",
    "print('Количество прослушиваний в Москве по понедельникам:', track_list_day) # количество прослушиваний в Москве по пятницам"
   ]
  },
  {
   "cell_type": "code",
   "execution_count": 27,
   "metadata": {
    "id": "8_yzFtW3_Zcu"
   },
   "outputs": [
    {
     "name": "stdout",
     "output_type": "stream",
     "text": [
      "Количество прослушиваний в Москве по понедельникам: 5895\n"
     ]
    }
   ],
   "source": [
    "track_list_day = number_tracks('Friday','Saint-Petersburg')\n",
    "print('Количество прослушиваний в Москве по понедельникам:', track_list_day) #количество прослушиваний в Санкт-Петербурге по пятницам"
   ]
  },
  {
   "cell_type": "markdown",
   "metadata": {
    "id": "7QXffbO-_Zcu"
   },
   "source": [
    "Создайте c помощью конструктора `pd.DataFrame` таблицу, где\n",
    "* названия колонок — `['city', 'monday', 'wednesday', 'friday']`;\n",
    "* данные — результаты, которые вы получили с помощью `number_tracks`."
   ]
  },
  {
   "cell_type": "code",
   "execution_count": 28,
   "metadata": {
    "id": "APAcLpOr_Zcu"
   },
   "outputs": [
    {
     "data": {
      "text/html": [
       "<div>\n",
       "<style scoped>\n",
       "    .dataframe tbody tr th:only-of-type {\n",
       "        vertical-align: middle;\n",
       "    }\n",
       "\n",
       "    .dataframe tbody tr th {\n",
       "        vertical-align: top;\n",
       "    }\n",
       "\n",
       "    .dataframe thead th {\n",
       "        text-align: right;\n",
       "    }\n",
       "</style>\n",
       "<table border=\"1\" class=\"dataframe\">\n",
       "  <thead>\n",
       "    <tr style=\"text-align: right;\">\n",
       "      <th></th>\n",
       "      <th>city</th>\n",
       "      <th>monday</th>\n",
       "      <th>wednesday</th>\n",
       "      <th>friday</th>\n",
       "    </tr>\n",
       "  </thead>\n",
       "  <tbody>\n",
       "    <tr>\n",
       "      <th>0</th>\n",
       "      <td>Moscow</td>\n",
       "      <td>15740</td>\n",
       "      <td>11056</td>\n",
       "      <td>15945</td>\n",
       "    </tr>\n",
       "    <tr>\n",
       "      <th>1</th>\n",
       "      <td>Saint-Petersburg</td>\n",
       "      <td>5614</td>\n",
       "      <td>7003</td>\n",
       "      <td>5895</td>\n",
       "    </tr>\n",
       "  </tbody>\n",
       "</table>\n",
       "</div>"
      ],
      "text/plain": [
       "               city  monday  wednesday  friday\n",
       "0            Moscow   15740      11056   15945\n",
       "1  Saint-Petersburg    5614       7003    5895"
      ]
     },
     "metadata": {},
     "output_type": "display_data"
    }
   ],
   "source": [
    "data = [\n",
    "    ['Moscow', number_tracks('Monday', 'Moscow'), number_tracks('Wednesday', 'Moscow'),number_tracks('Friday', 'Moscow')],\n",
    "    ['Saint-Petersburg', number_tracks('Monday', 'Saint-Petersburg'), number_tracks('Wednesday', 'Saint-Petersburg'),number_tracks('Friday', 'Saint-Petersburg')]\n",
    "]\n",
    "columns = ['city', 'monday', 'wednesday', 'friday']\n",
    "df_PM =  pd.DataFrame(data = data, columns = columns) # Таблица с результатами\n",
    "display(df_PM)"
   ]
  },
  {
   "cell_type": "markdown",
   "metadata": {
    "id": "-EgPIHYu_Zcu"
   },
   "source": [
    "**Выводы**\n",
    "\n",
    "Данные показывают разницу поведения пользователей:\n",
    "\n",
    "- В Москве пик прослушиваний приходится на понедельник и пятницу, а в среду заметен спад.\n",
    "- В Петербурге, наоборот, больше слушают музыку по средам. Активность в понедельник и пятницу здесь почти в равной мере уступает среде.\n",
    "\n",
    "Значит, данные говорят в пользу первой гипотезы."
   ]
  },
  {
   "cell_type": "markdown",
   "metadata": {
    "id": "atZAxtq4_Zcu"
   },
   "source": [
    "### Музыка в начале и в конце недели"
   ]
  },
  {
   "cell_type": "markdown",
   "metadata": {
    "id": "eXrQqXFH_Zcu"
   },
   "source": [
    "Согласно второй гипотезе, утром в понедельник в Москве преобладают одни жанры, а в Петербурге — другие. Так же и вечером пятницы преобладают разные жанры — в зависимости от города."
   ]
  },
  {
   "cell_type": "markdown",
   "metadata": {
    "id": "S8UcW6Hw_Zcu"
   },
   "source": [
    "Сохраните таблицы с данными в две переменные:\n",
    "* по Москве — в `moscow_general`;\n",
    "* по Санкт-Петербургу — в `spb_general`."
   ]
  },
  {
   "cell_type": "code",
   "execution_count": 29,
   "metadata": {
    "id": "qeaFfM_P_Zcu"
   },
   "outputs": [
    {
     "data": {
      "text/html": [
       "<div>\n",
       "<style scoped>\n",
       "    .dataframe tbody tr th:only-of-type {\n",
       "        vertical-align: middle;\n",
       "    }\n",
       "\n",
       "    .dataframe tbody tr th {\n",
       "        vertical-align: top;\n",
       "    }\n",
       "\n",
       "    .dataframe thead th {\n",
       "        text-align: right;\n",
       "    }\n",
       "</style>\n",
       "<table border=\"1\" class=\"dataframe\">\n",
       "  <thead>\n",
       "    <tr style=\"text-align: right;\">\n",
       "      <th></th>\n",
       "      <th>user_id</th>\n",
       "      <th>track</th>\n",
       "      <th>artist</th>\n",
       "      <th>genre</th>\n",
       "      <th>city</th>\n",
       "      <th>time</th>\n",
       "      <th>day</th>\n",
       "    </tr>\n",
       "  </thead>\n",
       "  <tbody>\n",
       "    <tr>\n",
       "      <th>1</th>\n",
       "      <td>55204538</td>\n",
       "      <td>Delayed Because of Accident</td>\n",
       "      <td>Andreas Rönnberg</td>\n",
       "      <td>rock</td>\n",
       "      <td>Moscow</td>\n",
       "      <td>14:07:09</td>\n",
       "      <td>Friday</td>\n",
       "    </tr>\n",
       "    <tr>\n",
       "      <th>4</th>\n",
       "      <td>E2DC1FAE</td>\n",
       "      <td>Soul People</td>\n",
       "      <td>Space Echo</td>\n",
       "      <td>dance</td>\n",
       "      <td>Moscow</td>\n",
       "      <td>08:34:34</td>\n",
       "      <td>Monday</td>\n",
       "    </tr>\n",
       "    <tr>\n",
       "      <th>6</th>\n",
       "      <td>4CB90AA5</td>\n",
       "      <td>True</td>\n",
       "      <td>Roman Messer</td>\n",
       "      <td>dance</td>\n",
       "      <td>Moscow</td>\n",
       "      <td>13:00:07</td>\n",
       "      <td>Wednesday</td>\n",
       "    </tr>\n",
       "    <tr>\n",
       "      <th>7</th>\n",
       "      <td>F03E1C1F</td>\n",
       "      <td>Feeling This Way</td>\n",
       "      <td>Polina Griffith</td>\n",
       "      <td>dance</td>\n",
       "      <td>Moscow</td>\n",
       "      <td>20:47:49</td>\n",
       "      <td>Wednesday</td>\n",
       "    </tr>\n",
       "    <tr>\n",
       "      <th>8</th>\n",
       "      <td>8FA1D3BE</td>\n",
       "      <td>И вновь продолжается бой</td>\n",
       "      <td>unknown</td>\n",
       "      <td>ruspop</td>\n",
       "      <td>Moscow</td>\n",
       "      <td>09:17:40</td>\n",
       "      <td>Friday</td>\n",
       "    </tr>\n",
       "    <tr>\n",
       "      <th>...</th>\n",
       "      <td>...</td>\n",
       "      <td>...</td>\n",
       "      <td>...</td>\n",
       "      <td>...</td>\n",
       "      <td>...</td>\n",
       "      <td>...</td>\n",
       "      <td>...</td>\n",
       "    </tr>\n",
       "    <tr>\n",
       "      <th>61247</th>\n",
       "      <td>83A474E7</td>\n",
       "      <td>I Worship Only What You Bleed</td>\n",
       "      <td>The Black Dahlia Murder</td>\n",
       "      <td>extrememetal</td>\n",
       "      <td>Moscow</td>\n",
       "      <td>21:07:12</td>\n",
       "      <td>Monday</td>\n",
       "    </tr>\n",
       "    <tr>\n",
       "      <th>61248</th>\n",
       "      <td>729CBB09</td>\n",
       "      <td>My Name</td>\n",
       "      <td>McLean</td>\n",
       "      <td>rnb</td>\n",
       "      <td>Moscow</td>\n",
       "      <td>13:32:28</td>\n",
       "      <td>Wednesday</td>\n",
       "    </tr>\n",
       "    <tr>\n",
       "      <th>61250</th>\n",
       "      <td>C5E3A0D5</td>\n",
       "      <td>Jalopiina</td>\n",
       "      <td>unknown</td>\n",
       "      <td>industrial</td>\n",
       "      <td>Moscow</td>\n",
       "      <td>20:09:26</td>\n",
       "      <td>Friday</td>\n",
       "    </tr>\n",
       "    <tr>\n",
       "      <th>61251</th>\n",
       "      <td>321D0506</td>\n",
       "      <td>Freight Train</td>\n",
       "      <td>Chas McDevitt</td>\n",
       "      <td>rock</td>\n",
       "      <td>Moscow</td>\n",
       "      <td>21:43:59</td>\n",
       "      <td>Friday</td>\n",
       "    </tr>\n",
       "    <tr>\n",
       "      <th>61252</th>\n",
       "      <td>3A64EF84</td>\n",
       "      <td>Tell Me Sweet Little Lies</td>\n",
       "      <td>Monica Lopez</td>\n",
       "      <td>country</td>\n",
       "      <td>Moscow</td>\n",
       "      <td>21:59:46</td>\n",
       "      <td>Friday</td>\n",
       "    </tr>\n",
       "  </tbody>\n",
       "</table>\n",
       "<p>42741 rows × 7 columns</p>\n",
       "</div>"
      ],
      "text/plain": [
       "        user_id                          track                   artist  \\\n",
       "1      55204538    Delayed Because of Accident         Andreas Rönnberg   \n",
       "4      E2DC1FAE                    Soul People               Space Echo   \n",
       "6      4CB90AA5                           True             Roman Messer   \n",
       "7      F03E1C1F               Feeling This Way          Polina Griffith   \n",
       "8      8FA1D3BE       И вновь продолжается бой                  unknown   \n",
       "...         ...                            ...                      ...   \n",
       "61247  83A474E7  I Worship Only What You Bleed  The Black Dahlia Murder   \n",
       "61248  729CBB09                        My Name                   McLean   \n",
       "61250  C5E3A0D5                      Jalopiina                  unknown   \n",
       "61251  321D0506                  Freight Train            Chas McDevitt   \n",
       "61252  3A64EF84      Tell Me Sweet Little Lies             Monica Lopez   \n",
       "\n",
       "              genre    city      time        day  \n",
       "1              rock  Moscow  14:07:09     Friday  \n",
       "4             dance  Moscow  08:34:34     Monday  \n",
       "6             dance  Moscow  13:00:07  Wednesday  \n",
       "7             dance  Moscow  20:47:49  Wednesday  \n",
       "8            ruspop  Moscow  09:17:40     Friday  \n",
       "...             ...     ...       ...        ...  \n",
       "61247  extrememetal  Moscow  21:07:12     Monday  \n",
       "61248           rnb  Moscow  13:32:28  Wednesday  \n",
       "61250    industrial  Moscow  20:09:26     Friday  \n",
       "61251          rock  Moscow  21:43:59     Friday  \n",
       "61252       country  Moscow  21:59:46     Friday  \n",
       "\n",
       "[42741 rows x 7 columns]"
      ]
     },
     "metadata": {},
     "output_type": "display_data"
    }
   ],
   "source": [
    "moscow_general = df[df['city'] == 'Moscow']  # получение таблицы moscow_general из тех строк таблицы df, \n",
    "display(moscow_general)                     # для которых значение в столбце 'city' равно 'Moscow'"
   ]
  },
  {
   "cell_type": "code",
   "execution_count": 30,
   "metadata": {
    "id": "ORaVRKto_Zcu"
   },
   "outputs": [
    {
     "data": {
      "text/html": [
       "<div>\n",
       "<style scoped>\n",
       "    .dataframe tbody tr th:only-of-type {\n",
       "        vertical-align: middle;\n",
       "    }\n",
       "\n",
       "    .dataframe tbody tr th {\n",
       "        vertical-align: top;\n",
       "    }\n",
       "\n",
       "    .dataframe thead th {\n",
       "        text-align: right;\n",
       "    }\n",
       "</style>\n",
       "<table border=\"1\" class=\"dataframe\">\n",
       "  <thead>\n",
       "    <tr style=\"text-align: right;\">\n",
       "      <th></th>\n",
       "      <th>user_id</th>\n",
       "      <th>track</th>\n",
       "      <th>artist</th>\n",
       "      <th>genre</th>\n",
       "      <th>city</th>\n",
       "      <th>time</th>\n",
       "      <th>day</th>\n",
       "    </tr>\n",
       "  </thead>\n",
       "  <tbody>\n",
       "    <tr>\n",
       "      <th>0</th>\n",
       "      <td>FFB692EC</td>\n",
       "      <td>Kamigata To Boots</td>\n",
       "      <td>The Mass Missile</td>\n",
       "      <td>rock</td>\n",
       "      <td>Saint-Petersburg</td>\n",
       "      <td>20:28:33</td>\n",
       "      <td>Wednesday</td>\n",
       "    </tr>\n",
       "    <tr>\n",
       "      <th>2</th>\n",
       "      <td>20EC38</td>\n",
       "      <td>Funiculì funiculà</td>\n",
       "      <td>Mario Lanza</td>\n",
       "      <td>pop</td>\n",
       "      <td>Saint-Petersburg</td>\n",
       "      <td>20:58:07</td>\n",
       "      <td>Wednesday</td>\n",
       "    </tr>\n",
       "    <tr>\n",
       "      <th>3</th>\n",
       "      <td>A3DD03C9</td>\n",
       "      <td>Dragons in the Sunset</td>\n",
       "      <td>Fire + Ice</td>\n",
       "      <td>folk</td>\n",
       "      <td>Saint-Petersburg</td>\n",
       "      <td>08:37:09</td>\n",
       "      <td>Monday</td>\n",
       "    </tr>\n",
       "    <tr>\n",
       "      <th>5</th>\n",
       "      <td>842029A1</td>\n",
       "      <td>Преданная</td>\n",
       "      <td>IMPERVTOR</td>\n",
       "      <td>rusrap</td>\n",
       "      <td>Saint-Petersburg</td>\n",
       "      <td>13:09:41</td>\n",
       "      <td>Friday</td>\n",
       "    </tr>\n",
       "    <tr>\n",
       "      <th>9</th>\n",
       "      <td>E772D5C0</td>\n",
       "      <td>Pessimist</td>\n",
       "      <td>unknown</td>\n",
       "      <td>dance</td>\n",
       "      <td>Saint-Petersburg</td>\n",
       "      <td>21:20:49</td>\n",
       "      <td>Wednesday</td>\n",
       "    </tr>\n",
       "    <tr>\n",
       "      <th>...</th>\n",
       "      <td>...</td>\n",
       "      <td>...</td>\n",
       "      <td>...</td>\n",
       "      <td>...</td>\n",
       "      <td>...</td>\n",
       "      <td>...</td>\n",
       "      <td>...</td>\n",
       "    </tr>\n",
       "    <tr>\n",
       "      <th>61239</th>\n",
       "      <td>D94F810B</td>\n",
       "      <td>Theme from the Walking Dead</td>\n",
       "      <td>Proyecto Halloween</td>\n",
       "      <td>film</td>\n",
       "      <td>Saint-Petersburg</td>\n",
       "      <td>21:14:40</td>\n",
       "      <td>Monday</td>\n",
       "    </tr>\n",
       "    <tr>\n",
       "      <th>61240</th>\n",
       "      <td>BC8EC5CF</td>\n",
       "      <td>Red Lips: Gta (Rover Rework)</td>\n",
       "      <td>Rover</td>\n",
       "      <td>electronic</td>\n",
       "      <td>Saint-Petersburg</td>\n",
       "      <td>21:06:50</td>\n",
       "      <td>Monday</td>\n",
       "    </tr>\n",
       "    <tr>\n",
       "      <th>61241</th>\n",
       "      <td>29E04611</td>\n",
       "      <td>Bre Petrunko</td>\n",
       "      <td>Perunika Trio</td>\n",
       "      <td>world</td>\n",
       "      <td>Saint-Petersburg</td>\n",
       "      <td>13:56:00</td>\n",
       "      <td>Monday</td>\n",
       "    </tr>\n",
       "    <tr>\n",
       "      <th>61242</th>\n",
       "      <td>1B91C621</td>\n",
       "      <td>(Hello) Cloud Mountain</td>\n",
       "      <td>sleepmakeswaves</td>\n",
       "      <td>postrock</td>\n",
       "      <td>Saint-Petersburg</td>\n",
       "      <td>09:22:13</td>\n",
       "      <td>Monday</td>\n",
       "    </tr>\n",
       "    <tr>\n",
       "      <th>61249</th>\n",
       "      <td>D08D4A55</td>\n",
       "      <td>Maybe One Day (feat. Black Spade)</td>\n",
       "      <td>Blu &amp; Exile</td>\n",
       "      <td>hiphop</td>\n",
       "      <td>Saint-Petersburg</td>\n",
       "      <td>10:00:00</td>\n",
       "      <td>Monday</td>\n",
       "    </tr>\n",
       "  </tbody>\n",
       "</table>\n",
       "<p>18512 rows × 7 columns</p>\n",
       "</div>"
      ],
      "text/plain": [
       "        user_id                              track              artist  \\\n",
       "0      FFB692EC                  Kamigata To Boots    The Mass Missile   \n",
       "2        20EC38                  Funiculì funiculà         Mario Lanza   \n",
       "3      A3DD03C9              Dragons in the Sunset          Fire + Ice   \n",
       "5      842029A1                          Преданная           IMPERVTOR   \n",
       "9      E772D5C0                          Pessimist             unknown   \n",
       "...         ...                                ...                 ...   \n",
       "61239  D94F810B        Theme from the Walking Dead  Proyecto Halloween   \n",
       "61240  BC8EC5CF       Red Lips: Gta (Rover Rework)               Rover   \n",
       "61241  29E04611                       Bre Petrunko       Perunika Trio   \n",
       "61242  1B91C621             (Hello) Cloud Mountain     sleepmakeswaves   \n",
       "61249  D08D4A55  Maybe One Day (feat. Black Spade)         Blu & Exile   \n",
       "\n",
       "            genre              city      time        day  \n",
       "0            rock  Saint-Petersburg  20:28:33  Wednesday  \n",
       "2             pop  Saint-Petersburg  20:58:07  Wednesday  \n",
       "3            folk  Saint-Petersburg  08:37:09     Monday  \n",
       "5          rusrap  Saint-Petersburg  13:09:41     Friday  \n",
       "9           dance  Saint-Petersburg  21:20:49  Wednesday  \n",
       "...           ...               ...       ...        ...  \n",
       "61239        film  Saint-Petersburg  21:14:40     Monday  \n",
       "61240  electronic  Saint-Petersburg  21:06:50     Monday  \n",
       "61241       world  Saint-Petersburg  13:56:00     Monday  \n",
       "61242    postrock  Saint-Petersburg  09:22:13     Monday  \n",
       "61249      hiphop  Saint-Petersburg  10:00:00     Monday  \n",
       "\n",
       "[18512 rows x 7 columns]"
      ]
     },
     "metadata": {},
     "output_type": "display_data"
    }
   ],
   "source": [
    "spb_general = df[df['city'] == 'Saint-Petersburg'] # получение таблицы spb_general из тех строк таблицы df,\n",
    "display(spb_general)                               # для которых значение в столбце 'city' равно 'Saint-Petersburg'"
   ]
  },
  {
   "cell_type": "markdown",
   "metadata": {
    "id": "MEJV-CX2_Zcu"
   },
   "source": [
    "Создайте функцию `genre_weekday()` с четырьмя параметрами:\n",
    "* таблица (датафрейм) с данными,\n",
    "* день недели,\n",
    "* начальная временная метка в формате 'hh:mm', \n",
    "* последняя временная метка в формате 'hh:mm'.\n",
    "\n",
    "Функция должна вернуть информацию о топ-10 жанров тех треков, которые прослушивали в указанный день, в промежутке между двумя отметками времени."
   ]
  },
  {
   "cell_type": "code",
   "execution_count": 31,
   "metadata": {
    "id": "laJT9BYl_Zcu"
   },
   "outputs": [],
   "source": [
    "# Объявление функции genre_weekday() с параметрами table, day, time1, time2,\n",
    "# которая возвращает информацию о самых популярных жанрах в указанный день в\n",
    "# заданное время:\n",
    "# 1) в переменную genre_df сохраняются те строки переданного датафрейма table, для\n",
    "#    которых одновременно:\n",
    "#    - значение в столбце day равно значению аргумента day\n",
    "#    - значение в столбце time больше значения аргумента time1\n",
    "#    - значение в столбце time меньше значения аргумента time2\n",
    "#    Используйте последовательную фильтрацию с помощью логической индексации.\n",
    "# 2) сгруппировать датафрейм genre_df по столбцу genre, взять один из его\n",
    "#    столбцов и посчитать методом count() количество записей для каждого из\n",
    "#    присутствующих жанров, получившийся Series записать в переменную\n",
    "#    genre_df_count\n",
    "# 3) отсортировать genre_df_count по убыванию встречаемости и сохранить\n",
    "#    в переменную genre_df_sorted\n",
    "# 4) вернуть Series из 10 первых значений genre_df_sorted, это будут топ-10\n",
    "#    популярных жанров (в указанный день, в заданное время)\n",
    "def genre_weekday(table, day, time1, time2):\n",
    "    genre_df = table[table['day'] == day]\n",
    "    genre_df = genre_df[genre_df['time'] > time1]\n",
    "    genre_df = genre_df[genre_df['time'] < time2]\n",
    "    genre_df_count = genre_df.groupby('genre')['genre'].count()\n",
    "    genre_df_sorted = genre_df_count.sort_values(ascending = False)\n",
    "    return genre_df_sorted.head(10)\n"
   ]
  },
  {
   "cell_type": "markdown",
   "metadata": {
    "id": "la2s2_PF_Zcu"
   },
   "source": [
    "Cравните результаты функции `genre_weekday()` для Москвы и Санкт-Петербурга в понедельник утром (с 7:00 до 11:00) и в пятницу вечером (с 17:00 до 23:00):"
   ]
  },
  {
   "cell_type": "code",
   "execution_count": 32,
   "metadata": {
    "id": "yz7itPUQ_Zcu"
   },
   "outputs": [
    {
     "data": {
      "text/plain": [
       "genre\n",
       "pop            781\n",
       "dance          549\n",
       "electronic     480\n",
       "rock           474\n",
       "hiphop         286\n",
       "ruspop         186\n",
       "world          181\n",
       "rusrap         175\n",
       "alternative    164\n",
       "unknown        161\n",
       "Name: genre, dtype: int64"
      ]
     },
     "execution_count": 32,
     "metadata": {},
     "output_type": "execute_result"
    }
   ],
   "source": [
    "genre_weekday(moscow_general, 'Monday', '07:00', '11:00') # вызов функции для утра понедельника в Москве"
   ]
  },
  {
   "cell_type": "code",
   "execution_count": 33,
   "metadata": {
    "id": "kwUcHPdy_Zcu"
   },
   "outputs": [
    {
     "data": {
      "text/plain": [
       "genre\n",
       "pop            218\n",
       "dance          182\n",
       "rock           162\n",
       "electronic     147\n",
       "hiphop          80\n",
       "ruspop          64\n",
       "alternative     58\n",
       "rusrap          55\n",
       "jazz            44\n",
       "classical       40\n",
       "Name: genre, dtype: int64"
      ]
     },
     "execution_count": 33,
     "metadata": {},
     "output_type": "execute_result"
    }
   ],
   "source": [
    "genre_weekday(spb_general, 'Monday', '07:00', '11:00') # вызов функции для утра понедельника в Петербурге (вместо df — таблица spb_general)"
   ]
  },
  {
   "cell_type": "code",
   "execution_count": 34,
   "metadata": {
    "id": "EzXVRE1o_Zcu"
   },
   "outputs": [
    {
     "data": {
      "text/plain": [
       "genre\n",
       "pop            789\n",
       "dance          585\n",
       "rock           509\n",
       "electronic     506\n",
       "hiphop         277\n",
       "ruspop         207\n",
       "classical      201\n",
       "world          174\n",
       "alternative    172\n",
       "rusrap         148\n",
       "Name: genre, dtype: int64"
      ]
     },
     "execution_count": 34,
     "metadata": {},
     "output_type": "execute_result"
    }
   ],
   "source": [
    "genre_weekday(moscow_general, 'Friday', '07:00', '11:00') # вызов функции для вечера пятницы в Москве"
   ]
  },
  {
   "cell_type": "code",
   "execution_count": 35,
   "metadata": {
    "id": "JZaEKu5v_Zcu"
   },
   "outputs": [
    {
     "data": {
      "text/plain": [
       "genre\n",
       "pop            211\n",
       "dance          192\n",
       "electronic     167\n",
       "rock           156\n",
       "hiphop         109\n",
       "classical       56\n",
       "rusrap          55\n",
       "alternative     55\n",
       "world           46\n",
       "ruspop          45\n",
       "Name: genre, dtype: int64"
      ]
     },
     "execution_count": 35,
     "metadata": {},
     "output_type": "execute_result"
    }
   ],
   "source": [
    "genre_weekday(spb_general, 'Friday', '07:00', '11:00') # вызов функции для вечера пятницы в Петербурге"
   ]
  },
  {
   "cell_type": "markdown",
   "metadata": {
    "id": "wrCe4MNX_Zcu"
   },
   "source": [
    "**Выводы**\n",
    "\n",
    "Если сравнить топ-10 жанров в понедельник утром, можно сделать такие выводы:\n",
    "\n",
    "1. В Москве и Петербурге слушают похожую музыку. Единственное отличие — в московский рейтинг вошёл жанр “world”, а в петербургский — джаз и классика.\n",
    "\n",
    "2. В Москве пропущенных значений оказалось так много, что значение `'unknown'` заняло десятое место среди самых популярных жанров. Значит, пропущенные значения занимают существенную долю в данных и угрожают достоверности исследования.\n",
    "\n",
    "Вечер пятницы не меняет эту картину. Некоторые жанры поднимаются немного выше, другие спускаются, но в целом топ-10 остаётся тем же самым.\n",
    "\n",
    "Таким образом, вторая гипотеза подтвердилась лишь частично:\n",
    "* Пользователи слушают похожую музыку в начале недели и в конце.\n",
    "* Разница между Москвой и Петербургом не слишком выражена. В Москве чаще слушают русскую популярную музыку, в Петербурге — джаз (**Я бы тут не согласился: джаз фигурирует в предпочтениях в Петербурге только в понедельник и то на 9м месте. А учитывая, что у слушателей Москвы есть жанр \"unknown\" в понедельник утром - то вообще не факт, что жанра джаз не было бы и в Москве, если бы исходные данные были бы без пропусков**) .\n",
    "\n",
    "Однако пропуски в данных ставят под сомнение этот результат. В Москве их так много, что рейтинг топ-10 мог бы выглядеть иначе, если бы не утерянные  данные о жанрах."
   ]
  },
  {
   "cell_type": "markdown",
   "metadata": {
    "id": "JolODAqr_Zcu"
   },
   "source": [
    "### Жанровые предпочтения в Москве и Петербурге\n",
    "\n",
    "Гипотеза: Петербург — столица рэпа, музыку этого жанра там слушают чаще, чем в Москве.  А Москва — город контрастов, в котором, тем не менее, преобладает поп-музыка."
   ]
  },
  {
   "cell_type": "markdown",
   "metadata": {
    "id": "DlegSvaT_Zcu"
   },
   "source": [
    "Сгруппируйте таблицу `moscow_general` по жанру и посчитайте прослушивания треков каждого жанра методом `count()`. Затем отсортируйте результат в порядке убывания и сохраните его в таблице `moscow_genres`."
   ]
  },
  {
   "cell_type": "code",
   "execution_count": 36,
   "metadata": {
    "id": "r19lIPke_Zcu"
   },
   "outputs": [],
   "source": [
    "moscow_genres = moscow_general.groupby('genre')['time'].count().sort_values(ascending=False) #подсчет популярных жанров в Москве"
   ]
  },
  {
   "cell_type": "markdown",
   "metadata": {
    "id": "6kMuomxTiIr8"
   },
   "source": [
    "Выведите на экран первые десять строк `moscow_genres`:"
   ]
  },
  {
   "cell_type": "code",
   "execution_count": 37,
   "metadata": {
    "id": "WhCSooF8_Zcv"
   },
   "outputs": [
    {
     "data": {
      "text/plain": [
       "genre\n",
       "pop            5892\n",
       "dance          4435\n",
       "rock           3965\n",
       "electronic     3786\n",
       "hiphop         2096\n",
       "classical      1616\n",
       "world          1432\n",
       "alternative    1379\n",
       "ruspop         1372\n",
       "rusrap         1161\n",
       "Name: time, dtype: int64"
      ]
     },
     "execution_count": 37,
     "metadata": {},
     "output_type": "execute_result"
    }
   ],
   "source": [
    "moscow_genres.head(10) # просмотр первых 10 строк moscow_genres"
   ]
  },
  {
   "cell_type": "markdown",
   "metadata": {
    "id": "cnPG2vnN_Zcv"
   },
   "source": [
    "Теперь повторите то же и для Петербурга.\n",
    "\n",
    "Сгруппируйте таблицу `spb_general` по жанру. Посчитайте прослушивания треков каждого жанра. Результат отсортируйте в порядке убывания и сохраните в таблице `spb_genres`:\n"
   ]
  },
  {
   "cell_type": "code",
   "execution_count": 38,
   "metadata": {
    "id": "gluLIpE7_Zcv"
   },
   "outputs": [],
   "source": [
    "spb_genres = spb_general.groupby('genre')['time'].count().sort_values(ascending=False) #подсчет популярных жанров в Санкт-Петербурге"
   ]
  },
  {
   "cell_type": "markdown",
   "metadata": {
    "id": "5Doha_ODgyQ8"
   },
   "source": [
    "Выведите на экран первые десять строк `spb_genres`:"
   ]
  },
  {
   "cell_type": "code",
   "execution_count": 39,
   "metadata": {
    "id": "uaGJHjVU_Zcv"
   },
   "outputs": [
    {
     "data": {
      "text/plain": [
       "genre\n",
       "pop            2431\n",
       "dance          1932\n",
       "rock           1879\n",
       "electronic     1737\n",
       "hiphop          960\n",
       "alternative     649\n",
       "classical       646\n",
       "rusrap          564\n",
       "ruspop          538\n",
       "world           515\n",
       "Name: time, dtype: int64"
      ]
     },
     "execution_count": 39,
     "metadata": {},
     "output_type": "execute_result"
    }
   ],
   "source": [
    "spb_genres.head(10) # просмотр первых 10 строк spb_genres"
   ]
  },
  {
   "cell_type": "markdown",
   "metadata": {
    "id": "RY51YJYu_Zcv"
   },
   "source": [
    "**Выводы**"
   ]
  },
  {
   "cell_type": "markdown",
   "metadata": {
    "id": "nVhnJEm__Zcv"
   },
   "source": [
    "Гипотеза частично подтвердилась:\n",
    "* Поп-музыка — самый популярный жанр в Москве, как и предполагала гипотеза. Более того, в топ-10 жанров встречается близкий жанр — русская популярная музыка.\n",
    "* Вопреки ожиданиям, рэп одинаково популярен в Москве и Петербурге. \n"
   ]
  },
  {
   "cell_type": "markdown",
   "metadata": {
    "id": "ykKQ0N65_Zcv"
   },
   "source": [
    "## Итоги исследования"
   ]
  },
  {
   "cell_type": "markdown",
   "metadata": {
    "id": "tjUwbHb3_Zcv"
   },
   "source": [
    "Вы проверили три гипотезы и установили:\n",
    "\n",
    "1. День недели по-разному влияет на активность пользователей в Москве и Петербурге. \n",
    "\n",
    "Первая гипотеза полностью подтвердилась.\n",
    "\n",
    "2. Музыкальные предпочтения не сильно меняются в течение недели — будь то Москва или Петербург. Небольшие различия заметны в начале недели, по понедельникам:\n",
    "* в Москве слушают музыку жанра “world”,\n",
    "* в Петербурге — джаз и классику.\n",
    "\n",
    "Таким образом, вторая гипотеза подтвердилась лишь отчасти. Этот результат мог оказаться иным, если бы не пропуски в данных.\n",
    "\n",
    "3. Во вкусах пользователей Москвы и Петербурга больше общего чем различий. Вопреки ожиданиям, предпочтения жанров в Петербурге напоминают московские.\n",
    "\n",
    "Третья гипотеза не подтвердилась. Если различия в предпочтениях и существуют, на основной массе пользователей они незаметны.\n",
    "\n",
    "**На практике исследования содержат проверки статистических гипотез.**\n",
    "Из данных одного сервиса не всегда можно сделать вывод о всех жителях города.\n",
    "Проверки статистических гипотез покажут, насколько они достоверны, исходя из имеющихся данных. \n",
    "С методами проверок гипотез вы ещё познакомитесь в следующих темах."
   ]
  }
 ],
 "metadata": {
  "ExecuteTimeLog": [
   {
    "duration": 353,
    "start_time": "2021-11-23T08:23:32.748Z"
   },
   {
    "duration": 443,
    "start_time": "2021-11-23T08:23:52.394Z"
   },
   {
    "duration": 104,
    "start_time": "2021-11-23T08:24:10.458Z"
   },
   {
    "duration": 297,
    "start_time": "2021-11-23T08:24:15.923Z"
   },
   {
    "duration": 412,
    "start_time": "2021-11-23T08:24:28.291Z"
   },
   {
    "duration": 277,
    "start_time": "2021-11-23T08:24:39.595Z"
   },
   {
    "duration": 827,
    "start_time": "2021-11-23T08:26:34.343Z"
   },
   {
    "duration": -7,
    "start_time": "2021-11-23T08:26:40.735Z"
   },
   {
    "duration": 321,
    "start_time": "2021-11-23T08:27:06.350Z"
   },
   {
    "duration": 2325,
    "start_time": "2021-11-23T08:27:16.494Z"
   },
   {
    "duration": -15,
    "start_time": "2021-11-23T08:27:18.837Z"
   },
   {
    "duration": 298,
    "start_time": "2021-11-23T08:27:26.223Z"
   },
   {
    "duration": 2448,
    "start_time": "2021-11-23T08:27:51.592Z"
   },
   {
    "duration": -16,
    "start_time": "2021-11-23T08:27:54.058Z"
   },
   {
    "duration": 202,
    "start_time": "2021-11-23T08:29:30.218Z"
   },
   {
    "duration": 10,
    "start_time": "2021-11-23T08:29:32.834Z"
   },
   {
    "duration": 27,
    "start_time": "2021-11-23T08:29:49.609Z"
   },
   {
    "duration": 12,
    "start_time": "2021-11-23T08:30:24.082Z"
   },
   {
    "duration": 33,
    "start_time": "2021-11-23T08:30:32.795Z"
   },
   {
    "duration": 5,
    "start_time": "2021-11-23T08:41:07.764Z"
   },
   {
    "duration": 6,
    "start_time": "2021-11-23T08:41:18.659Z"
   },
   {
    "duration": 5,
    "start_time": "2021-11-23T08:41:22.954Z"
   },
   {
    "duration": 26,
    "start_time": "2021-11-23T08:43:18.061Z"
   },
   {
    "duration": 5,
    "start_time": "2021-11-23T08:43:25.444Z"
   },
   {
    "duration": 43,
    "start_time": "2021-11-23T10:09:58.132Z"
   },
   {
    "duration": 146,
    "start_time": "2021-11-23T10:10:11.695Z"
   },
   {
    "duration": 42,
    "start_time": "2021-11-23T10:10:46.029Z"
   },
   {
    "duration": 49,
    "start_time": "2021-11-23T10:11:00.366Z"
   },
   {
    "duration": 99,
    "start_time": "2021-11-23T10:26:02.745Z"
   },
   {
    "duration": 103,
    "start_time": "2021-11-23T10:26:33.490Z"
   },
   {
    "duration": 96,
    "start_time": "2021-11-23T10:27:01.243Z"
   },
   {
    "duration": 3,
    "start_time": "2021-11-23T10:27:19.210Z"
   },
   {
    "duration": 371,
    "start_time": "2021-11-23T10:37:05.225Z"
   },
   {
    "duration": 277,
    "start_time": "2021-11-23T10:38:27.665Z"
   },
   {
    "duration": 3,
    "start_time": "2021-11-23T10:38:32.841Z"
   },
   {
    "duration": 4,
    "start_time": "2021-11-23T10:56:47.411Z"
   },
   {
    "duration": 4,
    "start_time": "2021-11-23T10:56:50.139Z"
   },
   {
    "duration": 4,
    "start_time": "2021-11-23T10:56:54.962Z"
   },
   {
    "duration": 4,
    "start_time": "2021-11-23T10:57:00.555Z"
   },
   {
    "duration": 6,
    "start_time": "2021-11-23T10:57:09.723Z"
   },
   {
    "duration": 3,
    "start_time": "2021-11-23T10:57:35.669Z"
   },
   {
    "duration": 317,
    "start_time": "2021-11-23T11:04:32.309Z"
   },
   {
    "duration": 3,
    "start_time": "2021-11-23T11:10:59.462Z"
   },
   {
    "duration": 31,
    "start_time": "2021-11-23T11:11:12.147Z"
   },
   {
    "duration": 98,
    "start_time": "2021-11-23T11:13:37.296Z"
   },
   {
    "duration": 127,
    "start_time": "2021-11-23T11:13:40.976Z"
   },
   {
    "duration": 315,
    "start_time": "2021-11-23T11:14:01.649Z"
   },
   {
    "duration": 300,
    "start_time": "2021-11-23T11:14:16.682Z"
   },
   {
    "duration": 534,
    "start_time": "2021-11-23T11:14:42.194Z"
   },
   {
    "duration": 297,
    "start_time": "2021-11-23T11:14:54.067Z"
   },
   {
    "duration": 347,
    "start_time": "2021-11-23T11:19:48.465Z"
   },
   {
    "duration": 297,
    "start_time": "2021-11-23T11:19:58.481Z"
   },
   {
    "duration": 3,
    "start_time": "2021-11-23T11:20:16.073Z"
   },
   {
    "duration": 19,
    "start_time": "2021-11-23T11:20:29.850Z"
   },
   {
    "duration": 105,
    "start_time": "2021-11-23T13:19:36.558Z"
   },
   {
    "duration": 89,
    "start_time": "2021-11-23T13:19:44.723Z"
   },
   {
    "duration": 110,
    "start_time": "2021-11-23T13:20:15.467Z"
   },
   {
    "duration": 107,
    "start_time": "2021-11-23T13:23:01.742Z"
   },
   {
    "duration": 180,
    "start_time": "2021-11-23T13:23:08.255Z"
   },
   {
    "duration": 9204,
    "start_time": "2021-11-23T13:23:24.270Z"
   },
   {
    "duration": 7410,
    "start_time": "2021-11-23T13:23:42.991Z"
   },
   {
    "duration": 75,
    "start_time": "2021-11-23T13:23:50.330Z"
   },
   {
    "duration": 152,
    "start_time": "2021-11-23T13:24:30.256Z"
   },
   {
    "duration": 2303,
    "start_time": "2021-11-23T13:24:38.751Z"
   },
   {
    "duration": 2331,
    "start_time": "2021-11-23T13:24:59.776Z"
   },
   {
    "duration": 3,
    "start_time": "2021-11-23T13:25:33.978Z"
   },
   {
    "duration": 30,
    "start_time": "2021-11-23T13:25:36.024Z"
   },
   {
    "duration": 322,
    "start_time": "2021-11-23T17:46:04.512Z"
   },
   {
    "duration": 286,
    "start_time": "2021-11-23T17:46:15.548Z"
   },
   {
    "duration": 263,
    "start_time": "2021-11-23T17:46:21.467Z"
   },
   {
    "duration": 635,
    "start_time": "2021-11-23T17:46:30.555Z"
   },
   {
    "duration": 137,
    "start_time": "2021-11-23T17:46:32.387Z"
   },
   {
    "duration": 18,
    "start_time": "2021-11-23T17:46:34.434Z"
   },
   {
    "duration": 26,
    "start_time": "2021-11-23T17:46:36.451Z"
   },
   {
    "duration": 3,
    "start_time": "2021-11-23T17:46:39.043Z"
   },
   {
    "duration": 23,
    "start_time": "2021-11-23T17:46:40.987Z"
   },
   {
    "duration": 4,
    "start_time": "2021-11-23T17:46:44.243Z"
   },
   {
    "duration": 24,
    "start_time": "2021-11-23T17:46:47.835Z"
   },
   {
    "duration": 2,
    "start_time": "2021-11-23T17:46:50.011Z"
   },
   {
    "duration": 289,
    "start_time": "2021-11-23T17:54:59.089Z"
   },
   {
    "duration": 283,
    "start_time": "2021-11-23T17:55:02.156Z"
   },
   {
    "duration": 271,
    "start_time": "2021-11-23T17:55:08.283Z"
   },
   {
    "duration": 22,
    "start_time": "2021-11-23T17:55:18.411Z"
   },
   {
    "duration": 250,
    "start_time": "2021-11-23T17:55:21.818Z"
   },
   {
    "duration": -199,
    "start_time": "2021-11-23T17:55:42.942Z"
   },
   {
    "duration": -201,
    "start_time": "2021-11-23T17:55:50.923Z"
   },
   {
    "duration": 248,
    "start_time": "2021-11-23T17:56:39.031Z"
   },
   {
    "duration": 266,
    "start_time": "2021-11-23T17:56:54.009Z"
   },
   {
    "duration": 4,
    "start_time": "2021-11-23T17:57:35.225Z"
   },
   {
    "duration": 246,
    "start_time": "2021-11-23T17:58:12.120Z"
   },
   {
    "duration": 250,
    "start_time": "2021-11-23T17:58:24.871Z"
   },
   {
    "duration": 65,
    "start_time": "2021-11-23T17:58:33.623Z"
   },
   {
    "duration": 280,
    "start_time": "2021-11-23T17:58:39.655Z"
   },
   {
    "duration": 23,
    "start_time": "2021-11-23T17:58:50.671Z"
   },
   {
    "duration": 64,
    "start_time": "2021-11-23T18:02:09.257Z"
   },
   {
    "duration": 62,
    "start_time": "2021-11-23T18:02:27.683Z"
   },
   {
    "duration": 56,
    "start_time": "2021-11-23T18:02:57.458Z"
   },
   {
    "duration": 58,
    "start_time": "2021-11-23T18:03:03.801Z"
   },
   {
    "duration": 72,
    "start_time": "2021-11-23T18:03:57.856Z"
   },
   {
    "duration": 113,
    "start_time": "2021-11-23T18:04:05.736Z"
   },
   {
    "duration": 65,
    "start_time": "2021-11-23T18:04:09.567Z"
   },
   {
    "duration": 80,
    "start_time": "2021-11-23T18:04:16.248Z"
   },
   {
    "duration": 6,
    "start_time": "2021-11-23T18:05:58.966Z"
   },
   {
    "duration": 308,
    "start_time": "2021-11-23T18:08:41.907Z"
   },
   {
    "duration": 263,
    "start_time": "2021-11-23T18:08:44.866Z"
   },
   {
    "duration": 254,
    "start_time": "2021-11-23T18:08:53.395Z"
   },
   {
    "duration": 7,
    "start_time": "2021-11-23T18:08:58.890Z"
   },
   {
    "duration": 252,
    "start_time": "2021-11-23T18:09:17.785Z"
   },
   {
    "duration": 8,
    "start_time": "2021-11-23T18:09:21.114Z"
   },
   {
    "duration": 6,
    "start_time": "2021-11-23T18:09:54.682Z"
   },
   {
    "duration": 51,
    "start_time": "2021-11-23T18:10:55.049Z"
   },
   {
    "duration": 22,
    "start_time": "2021-11-23T18:10:57.282Z"
   },
   {
    "duration": 54,
    "start_time": "2021-11-23T18:10:59.872Z"
   },
   {
    "duration": 68,
    "start_time": "2021-11-23T18:11:08.176Z"
   },
   {
    "duration": 51,
    "start_time": "2021-11-23T18:11:11.312Z"
   },
   {
    "duration": 23,
    "start_time": "2021-11-23T18:11:18.095Z"
   },
   {
    "duration": 52,
    "start_time": "2021-11-23T18:11:20.737Z"
   },
   {
    "duration": 65,
    "start_time": "2021-11-23T18:11:25.232Z"
   },
   {
    "duration": 50,
    "start_time": "2021-11-23T18:11:27.448Z"
   },
   {
    "duration": 4,
    "start_time": "2021-11-23T18:11:35.695Z"
   },
   {
    "duration": 23,
    "start_time": "2021-11-23T18:11:38.023Z"
   },
   {
    "duration": 23,
    "start_time": "2021-11-23T18:11:42.311Z"
   },
   {
    "duration": 3,
    "start_time": "2021-11-23T18:11:51.895Z"
   },
   {
    "duration": 3,
    "start_time": "2021-11-23T18:11:58.392Z"
   },
   {
    "duration": 3,
    "start_time": "2021-11-23T18:12:25.039Z"
   },
   {
    "duration": 2,
    "start_time": "2021-11-23T18:12:40.199Z"
   },
   {
    "duration": 161,
    "start_time": "2021-11-23T18:12:41.167Z"
   },
   {
    "duration": 10,
    "start_time": "2021-11-23T18:12:42.030Z"
   },
   {
    "duration": 24,
    "start_time": "2021-11-23T18:12:43.623Z"
   },
   {
    "duration": 3,
    "start_time": "2021-11-23T18:12:45.903Z"
   },
   {
    "duration": 17,
    "start_time": "2021-11-23T18:12:47.166Z"
   },
   {
    "duration": 4,
    "start_time": "2021-11-23T18:12:48.838Z"
   },
   {
    "duration": 23,
    "start_time": "2021-11-23T18:12:49.790Z"
   },
   {
    "duration": 77,
    "start_time": "2021-11-23T18:12:51.534Z"
   },
   {
    "duration": 23,
    "start_time": "2021-11-23T18:12:52.717Z"
   },
   {
    "duration": 57,
    "start_time": "2021-11-23T18:12:54.302Z"
   },
   {
    "duration": 69,
    "start_time": "2021-11-23T18:12:55.398Z"
   },
   {
    "duration": 53,
    "start_time": "2021-11-23T18:12:56.405Z"
   },
   {
    "duration": 5,
    "start_time": "2021-11-23T18:17:25.441Z"
   },
   {
    "duration": 6,
    "start_time": "2021-11-23T18:17:32.441Z"
   },
   {
    "duration": 268,
    "start_time": "2021-11-23T18:18:36.248Z"
   },
   {
    "duration": 6,
    "start_time": "2021-11-23T18:18:51.081Z"
   },
   {
    "duration": 251,
    "start_time": "2021-11-23T18:19:55.583Z"
   },
   {
    "duration": 346,
    "start_time": "2021-11-23T18:20:05.191Z"
   },
   {
    "duration": 273,
    "start_time": "2021-11-23T18:20:15.495Z"
   },
   {
    "duration": 277,
    "start_time": "2021-11-23T18:20:17.406Z"
   },
   {
    "duration": 7,
    "start_time": "2021-11-23T18:24:09.498Z"
   },
   {
    "duration": 295,
    "start_time": "2021-11-23T18:29:22.733Z"
   },
   {
    "duration": 7,
    "start_time": "2021-11-23T18:29:30.061Z"
   },
   {
    "duration": 10,
    "start_time": "2021-11-23T18:39:28.179Z"
   },
   {
    "duration": 8,
    "start_time": "2021-11-23T18:41:54.784Z"
   },
   {
    "duration": 16,
    "start_time": "2021-11-23T18:42:03.591Z"
   },
   {
    "duration": 5,
    "start_time": "2021-11-23T18:42:58.447Z"
   },
   {
    "duration": 5,
    "start_time": "2021-11-23T18:43:06.942Z"
   },
   {
    "duration": 94,
    "start_time": "2021-11-23T18:44:05.374Z"
   },
   {
    "duration": 83,
    "start_time": "2021-11-23T18:44:14.629Z"
   },
   {
    "duration": 7,
    "start_time": "2021-11-23T18:44:20.613Z"
   },
   {
    "duration": 5,
    "start_time": "2021-11-23T18:44:25.870Z"
   },
   {
    "duration": 1117,
    "start_time": "2021-11-23T18:44:36.109Z"
   },
   {
    "duration": 5,
    "start_time": "2021-11-23T18:44:46.933Z"
   },
   {
    "duration": 8,
    "start_time": "2021-11-23T18:45:36.388Z"
   },
   {
    "duration": 7,
    "start_time": "2021-11-23T18:45:40.932Z"
   },
   {
    "duration": 5,
    "start_time": "2021-11-23T18:45:49.563Z"
   },
   {
    "duration": 4,
    "start_time": "2021-11-23T18:47:27.939Z"
   },
   {
    "duration": 80,
    "start_time": "2021-11-23T18:48:49.065Z"
   },
   {
    "duration": 39,
    "start_time": "2021-11-23T18:48:52.857Z"
   },
   {
    "duration": 40,
    "start_time": "2021-11-23T18:49:01.840Z"
   },
   {
    "duration": 479,
    "start_time": "2021-11-23T18:49:28.840Z"
   },
   {
    "duration": 39,
    "start_time": "2021-11-23T18:50:06.104Z"
   },
   {
    "duration": 287,
    "start_time": "2021-11-23T18:52:12.286Z"
   },
   {
    "duration": 40,
    "start_time": "2021-11-23T18:52:20.709Z"
   },
   {
    "duration": 44,
    "start_time": "2021-11-23T18:53:37.291Z"
   },
   {
    "duration": 295,
    "start_time": "2021-11-23T18:53:52.803Z"
   },
   {
    "duration": 288,
    "start_time": "2021-11-23T18:53:57.971Z"
   },
   {
    "duration": 38,
    "start_time": "2021-11-23T18:54:38.499Z"
   },
   {
    "duration": 38,
    "start_time": "2021-11-23T18:54:51.179Z"
   },
   {
    "duration": 5,
    "start_time": "2021-11-23T18:59:27.006Z"
   },
   {
    "duration": 39,
    "start_time": "2021-11-23T18:59:35.061Z"
   },
   {
    "duration": 5,
    "start_time": "2021-11-23T19:00:02.502Z"
   },
   {
    "duration": 38,
    "start_time": "2021-11-23T19:00:11.805Z"
   },
   {
    "duration": 42,
    "start_time": "2021-11-23T19:00:20.004Z"
   },
   {
    "duration": 3515,
    "start_time": "2021-11-23T19:01:50.300Z"
   },
   {
    "duration": 43,
    "start_time": "2021-11-23T19:04:06.841Z"
   },
   {
    "duration": 44,
    "start_time": "2021-11-23T19:04:30.568Z"
   },
   {
    "duration": 40,
    "start_time": "2021-11-23T19:05:01.472Z"
   },
   {
    "duration": 42,
    "start_time": "2021-11-23T19:05:32.119Z"
   },
   {
    "duration": 40,
    "start_time": "2021-11-23T19:05:42.615Z"
   },
   {
    "duration": 657,
    "start_time": "2021-11-24T06:07:54.842Z"
   },
   {
    "duration": 780,
    "start_time": "2021-11-24T06:09:02.735Z"
   },
   {
    "duration": 189,
    "start_time": "2021-11-24T06:09:05.440Z"
   },
   {
    "duration": 29,
    "start_time": "2021-11-24T06:09:07.912Z"
   },
   {
    "duration": 35,
    "start_time": "2021-11-24T06:09:11.755Z"
   },
   {
    "duration": 5,
    "start_time": "2021-11-24T06:09:15.199Z"
   },
   {
    "duration": 30,
    "start_time": "2021-11-24T06:09:24.544Z"
   },
   {
    "duration": 6,
    "start_time": "2021-11-24T06:09:26.303Z"
   },
   {
    "duration": 53,
    "start_time": "2021-11-24T06:09:28.223Z"
   },
   {
    "duration": 84,
    "start_time": "2021-11-24T06:09:30.136Z"
   },
   {
    "duration": 33,
    "start_time": "2021-11-24T06:09:32.064Z"
   },
   {
    "duration": 91,
    "start_time": "2021-11-24T06:09:34.111Z"
   },
   {
    "duration": 105,
    "start_time": "2021-11-24T06:09:36.064Z"
   },
   {
    "duration": 81,
    "start_time": "2021-11-24T06:09:37.680Z"
   },
   {
    "duration": 58,
    "start_time": "2021-11-24T06:09:39.752Z"
   },
   {
    "duration": 24,
    "start_time": "2021-11-24T06:09:42.914Z"
   },
   {
    "duration": 78,
    "start_time": "2021-11-24T06:11:40.042Z"
   },
   {
    "duration": 23,
    "start_time": "2021-11-24T06:11:56.995Z"
   },
   {
    "duration": 60,
    "start_time": "2021-11-24T06:13:26.014Z"
   },
   {
    "duration": 23,
    "start_time": "2021-11-24T06:13:31.861Z"
   },
   {
    "duration": 60,
    "start_time": "2021-11-24T06:13:42.413Z"
   },
   {
    "duration": 4,
    "start_time": "2021-11-24T06:13:45.973Z"
   },
   {
    "duration": 23,
    "start_time": "2021-11-24T06:13:47.509Z"
   },
   {
    "duration": 57,
    "start_time": "2021-11-24T06:13:49.221Z"
   },
   {
    "duration": 47,
    "start_time": "2021-11-24T06:22:46.824Z"
   },
   {
    "duration": 411,
    "start_time": "2021-11-24T06:23:40.746Z"
   },
   {
    "duration": 45,
    "start_time": "2021-11-24T06:23:46.393Z"
   },
   {
    "duration": 513,
    "start_time": "2021-11-24T06:24:30.091Z"
   },
   {
    "duration": 399,
    "start_time": "2021-11-24T06:24:32.427Z"
   },
   {
    "duration": 132,
    "start_time": "2021-11-24T06:24:37.130Z"
   },
   {
    "duration": 450,
    "start_time": "2021-11-24T06:24:46.082Z"
   },
   {
    "duration": 121,
    "start_time": "2021-11-24T06:24:49.794Z"
   },
   {
    "duration": 45,
    "start_time": "2021-11-24T06:24:52.562Z"
   },
   {
    "duration": 374,
    "start_time": "2021-11-24T06:25:10.836Z"
   },
   {
    "duration": 49,
    "start_time": "2021-11-24T06:25:15.324Z"
   },
   {
    "duration": 419,
    "start_time": "2021-11-24T06:27:04.102Z"
   },
   {
    "duration": 18,
    "start_time": "2021-11-24T06:27:08.022Z"
   },
   {
    "duration": 45,
    "start_time": "2021-11-24T06:27:56.751Z"
   },
   {
    "duration": 46,
    "start_time": "2021-11-24T06:28:01.208Z"
   },
   {
    "duration": 495,
    "start_time": "2021-11-24T06:29:18.689Z"
   },
   {
    "duration": 45,
    "start_time": "2021-11-24T06:29:27.393Z"
   },
   {
    "duration": 15,
    "start_time": "2021-11-24T06:30:20.722Z"
   },
   {
    "duration": 15,
    "start_time": "2021-11-24T06:30:28.131Z"
   },
   {
    "duration": 582,
    "start_time": "2021-11-24T06:39:39.896Z"
   },
   {
    "duration": 343,
    "start_time": "2021-11-24T06:40:22.568Z"
   },
   {
    "duration": 22,
    "start_time": "2021-11-24T06:40:41.912Z"
   },
   {
    "duration": 25,
    "start_time": "2021-11-24T06:41:10.424Z"
   },
   {
    "duration": 28,
    "start_time": "2021-11-24T06:41:58.041Z"
   },
   {
    "duration": 36,
    "start_time": "2021-11-24T06:42:28.267Z"
   },
   {
    "duration": 120,
    "start_time": "2021-11-24T06:42:33.675Z"
   },
   {
    "duration": 24,
    "start_time": "2021-11-24T06:42:38.346Z"
   },
   {
    "duration": 133,
    "start_time": "2021-11-24T06:42:42.084Z"
   },
   {
    "duration": 22,
    "start_time": "2021-11-24T06:42:54.883Z"
   },
   {
    "duration": 24,
    "start_time": "2021-11-24T06:44:45.487Z"
   },
   {
    "duration": 23,
    "start_time": "2021-11-24T06:45:53.872Z"
   },
   {
    "duration": 22,
    "start_time": "2021-11-24T06:46:00.671Z"
   },
   {
    "duration": 21,
    "start_time": "2021-11-24T06:46:34.240Z"
   },
   {
    "duration": 348,
    "start_time": "2021-11-24T06:46:52.616Z"
   },
   {
    "duration": 19,
    "start_time": "2021-11-24T06:46:59.144Z"
   },
   {
    "duration": 20,
    "start_time": "2021-11-24T06:47:36.113Z"
   },
   {
    "duration": 22,
    "start_time": "2021-11-24T06:48:32.659Z"
   },
   {
    "duration": 23,
    "start_time": "2021-11-24T06:50:01.717Z"
   },
   {
    "duration": 21,
    "start_time": "2021-11-24T06:50:03.292Z"
   },
   {
    "duration": 377,
    "start_time": "2021-11-24T06:52:01.056Z"
   },
   {
    "duration": 49,
    "start_time": "2021-11-24T06:52:22.007Z"
   },
   {
    "duration": 5,
    "start_time": "2021-11-24T06:52:57.000Z"
   },
   {
    "duration": 99,
    "start_time": "2021-11-24T06:54:41.235Z"
   },
   {
    "duration": 100,
    "start_time": "2021-11-24T06:56:06.000Z"
   },
   {
    "duration": 3,
    "start_time": "2021-11-24T07:20:25.103Z"
   },
   {
    "duration": 208,
    "start_time": "2021-11-24T07:20:27.236Z"
   },
   {
    "duration": 17,
    "start_time": "2021-11-24T07:20:27.704Z"
   },
   {
    "duration": 32,
    "start_time": "2021-11-24T07:20:28.284Z"
   },
   {
    "duration": 5,
    "start_time": "2021-11-24T07:20:29.334Z"
   },
   {
    "duration": 23,
    "start_time": "2021-11-24T07:20:29.687Z"
   },
   {
    "duration": 6,
    "start_time": "2021-11-24T07:20:30.019Z"
   },
   {
    "duration": 31,
    "start_time": "2021-11-24T07:20:30.582Z"
   },
   {
    "duration": 78,
    "start_time": "2021-11-24T07:20:31.220Z"
   },
   {
    "duration": 32,
    "start_time": "2021-11-24T07:20:31.577Z"
   },
   {
    "duration": 85,
    "start_time": "2021-11-24T07:20:31.938Z"
   },
   {
    "duration": 94,
    "start_time": "2021-11-24T07:20:32.382Z"
   },
   {
    "duration": 84,
    "start_time": "2021-11-24T07:20:32.799Z"
   },
   {
    "duration": 56,
    "start_time": "2021-11-24T07:20:33.381Z"
   },
   {
    "duration": 3,
    "start_time": "2021-11-24T07:20:34.201Z"
   },
   {
    "duration": 22,
    "start_time": "2021-11-24T07:20:35.191Z"
   },
   {
    "duration": 59,
    "start_time": "2021-11-24T07:20:36.563Z"
   },
   {
    "duration": 14,
    "start_time": "2021-11-24T07:20:40.646Z"
   },
   {
    "duration": 15,
    "start_time": "2021-11-24T07:20:42.234Z"
   },
   {
    "duration": 5,
    "start_time": "2021-11-24T07:20:46.489Z"
   },
   {
    "duration": 22,
    "start_time": "2021-11-24T07:20:52.398Z"
   },
   {
    "duration": 20,
    "start_time": "2021-11-24T07:20:52.595Z"
   },
   {
    "duration": 20,
    "start_time": "2021-11-24T07:20:52.773Z"
   },
   {
    "duration": 19,
    "start_time": "2021-11-24T07:20:52.979Z"
   },
   {
    "duration": 22,
    "start_time": "2021-11-24T07:20:53.185Z"
   },
   {
    "duration": 22,
    "start_time": "2021-11-24T07:20:53.338Z"
   },
   {
    "duration": 98,
    "start_time": "2021-11-24T07:20:54.952Z"
   },
   {
    "duration": 15,
    "start_time": "2021-11-24T07:25:52.186Z"
   },
   {
    "duration": 33,
    "start_time": "2021-11-24T07:26:06.564Z"
   },
   {
    "duration": 28,
    "start_time": "2021-11-24T07:26:23.091Z"
   },
   {
    "duration": 21,
    "start_time": "2021-11-24T07:32:39.156Z"
   },
   {
    "duration": 20,
    "start_time": "2021-11-24T07:33:18.630Z"
   },
   {
    "duration": 659,
    "start_time": "2021-11-24T07:34:03.908Z"
   },
   {
    "duration": 20,
    "start_time": "2021-11-24T07:34:39.798Z"
   },
   {
    "duration": 587,
    "start_time": "2021-11-24T07:35:00.974Z"
   },
   {
    "duration": 141,
    "start_time": "2021-11-24T07:35:05.094Z"
   },
   {
    "duration": 20,
    "start_time": "2021-11-24T07:35:11.502Z"
   },
   {
    "duration": 1277,
    "start_time": "2021-11-24T07:36:01.424Z"
   },
   {
    "duration": 18,
    "start_time": "2021-11-24T07:36:09.688Z"
   },
   {
    "duration": 19,
    "start_time": "2021-11-24T07:36:31.488Z"
   },
   {
    "duration": 28,
    "start_time": "2021-11-24T07:36:54.249Z"
   },
   {
    "duration": 6,
    "start_time": "2021-11-24T07:37:27.785Z"
   },
   {
    "duration": 26,
    "start_time": "2021-11-24T07:37:30.872Z"
   },
   {
    "duration": 17,
    "start_time": "2021-11-24T07:37:57.906Z"
   },
   {
    "duration": 26,
    "start_time": "2021-11-24T07:38:11.517Z"
   },
   {
    "duration": 18,
    "start_time": "2021-11-24T07:38:13.914Z"
   },
   {
    "duration": 26,
    "start_time": "2021-11-24T07:38:49.859Z"
   },
   {
    "duration": 19,
    "start_time": "2021-11-24T07:38:51.082Z"
   },
   {
    "duration": 36,
    "start_time": "2021-11-24T07:51:28.916Z"
   },
   {
    "duration": 14,
    "start_time": "2021-11-24T07:53:04.637Z"
   },
   {
    "duration": 15,
    "start_time": "2021-11-24T07:53:30.415Z"
   },
   {
    "duration": 10,
    "start_time": "2021-11-24T07:53:48.223Z"
   },
   {
    "duration": 13,
    "start_time": "2021-11-24T07:54:32.223Z"
   },
   {
    "duration": 14,
    "start_time": "2021-11-24T07:54:41.600Z"
   },
   {
    "duration": 375,
    "start_time": "2021-11-24T07:54:56.177Z"
   },
   {
    "duration": 356,
    "start_time": "2021-11-24T07:55:00.737Z"
   },
   {
    "duration": 1044,
    "start_time": "2021-11-24T07:55:18.656Z"
   },
   {
    "duration": 349,
    "start_time": "2021-11-24T07:55:42.881Z"
   },
   {
    "duration": 15,
    "start_time": "2021-11-24T07:55:54.586Z"
   },
   {
    "duration": 14,
    "start_time": "2021-11-24T07:56:27.099Z"
   },
   {
    "duration": 12,
    "start_time": "2021-11-24T07:57:25.701Z"
   },
   {
    "duration": 5,
    "start_time": "2021-11-24T07:57:28.276Z"
   },
   {
    "duration": 359,
    "start_time": "2021-11-24T07:58:08.517Z"
   },
   {
    "duration": 10,
    "start_time": "2021-11-24T07:58:20.917Z"
   },
   {
    "duration": 5,
    "start_time": "2021-11-24T07:58:23.077Z"
   },
   {
    "duration": 107,
    "start_time": "2021-11-25T05:40:43.740Z"
   },
   {
    "duration": 96,
    "start_time": "2021-11-25T05:41:07.569Z"
   },
   {
    "duration": 119,
    "start_time": "2021-11-25T05:41:55.322Z"
   },
   {
    "duration": 103,
    "start_time": "2021-11-25T05:42:18.802Z"
   },
   {
    "duration": 104,
    "start_time": "2021-11-25T05:42:30.667Z"
   },
   {
    "duration": 626,
    "start_time": "2021-11-25T05:42:45.307Z"
   },
   {
    "duration": 129,
    "start_time": "2021-11-25T05:43:16.020Z"
   },
   {
    "duration": 117,
    "start_time": "2021-11-25T05:44:02.358Z"
   },
   {
    "duration": 114,
    "start_time": "2021-11-25T05:45:08.607Z"
   },
   {
    "duration": 286,
    "start_time": "2021-11-25T05:45:28.974Z"
   },
   {
    "duration": 1118,
    "start_time": "2021-11-25T05:56:38.791Z"
   },
   {
    "duration": 255,
    "start_time": "2021-11-25T05:56:43.885Z"
   },
   {
    "duration": 38,
    "start_time": "2021-11-25T05:56:59.465Z"
   },
   {
    "duration": 19,
    "start_time": "2021-11-25T05:57:06.478Z"
   },
   {
    "duration": 441,
    "start_time": "2021-11-25T05:57:19.023Z"
   },
   {
    "duration": 13,
    "start_time": "2021-11-25T05:57:34.006Z"
   },
   {
    "duration": 15,
    "start_time": "2021-11-25T05:57:38.521Z"
   },
   {
    "duration": 33,
    "start_time": "2021-11-25T05:59:35.602Z"
   },
   {
    "duration": 6,
    "start_time": "2021-11-25T05:59:56.371Z"
   },
   {
    "duration": 5,
    "start_time": "2021-11-25T05:59:58.875Z"
   },
   {
    "duration": 6,
    "start_time": "2021-11-25T06:00:05.089Z"
   },
   {
    "duration": 28,
    "start_time": "2021-11-25T06:01:12.211Z"
   },
   {
    "duration": 5,
    "start_time": "2021-11-25T06:01:18.291Z"
   },
   {
    "duration": 31,
    "start_time": "2021-11-25T06:01:41.563Z"
   },
   {
    "duration": 78,
    "start_time": "2021-11-25T06:01:45.196Z"
   },
   {
    "duration": 32,
    "start_time": "2021-11-25T06:01:47.859Z"
   },
   {
    "duration": 86,
    "start_time": "2021-11-25T06:01:50.524Z"
   },
   {
    "duration": 102,
    "start_time": "2021-11-25T06:01:52.564Z"
   },
   {
    "duration": 81,
    "start_time": "2021-11-25T06:01:54.468Z"
   },
   {
    "duration": 58,
    "start_time": "2021-11-25T06:01:57.540Z"
   },
   {
    "duration": 5,
    "start_time": "2021-11-25T06:02:01.917Z"
   },
   {
    "duration": 5,
    "start_time": "2021-11-25T06:07:44.796Z"
   },
   {
    "duration": 21,
    "start_time": "2021-11-25T06:07:49.563Z"
   },
   {
    "duration": 56,
    "start_time": "2021-11-25T06:08:12.901Z"
   },
   {
    "duration": 59,
    "start_time": "2021-11-25T06:11:26.145Z"
   },
   {
    "duration": 56,
    "start_time": "2021-11-25T06:11:32.648Z"
   },
   {
    "duration": 14,
    "start_time": "2021-11-25T06:11:37.744Z"
   },
   {
    "duration": 14,
    "start_time": "2021-11-25T06:11:42.832Z"
   },
   {
    "duration": 21,
    "start_time": "2021-11-25T06:12:18.338Z"
   },
   {
    "duration": 17,
    "start_time": "2021-11-25T06:12:37.241Z"
   },
   {
    "duration": 5,
    "start_time": "2021-11-25T06:12:41.065Z"
   },
   {
    "duration": 21,
    "start_time": "2021-11-25T06:12:43.337Z"
   },
   {
    "duration": 20,
    "start_time": "2021-11-25T06:12:45.297Z"
   },
   {
    "duration": 21,
    "start_time": "2021-11-25T06:12:47.625Z"
   },
   {
    "duration": 20,
    "start_time": "2021-11-25T06:12:49.449Z"
   },
   {
    "duration": 26,
    "start_time": "2021-11-25T06:12:51.706Z"
   },
   {
    "duration": 20,
    "start_time": "2021-11-25T06:12:53.513Z"
   },
   {
    "duration": 100,
    "start_time": "2021-11-25T06:12:56.011Z"
   },
   {
    "duration": 29,
    "start_time": "2021-11-25T06:13:00.299Z"
   },
   {
    "duration": 39,
    "start_time": "2021-11-25T06:13:02.594Z"
   },
   {
    "duration": 6,
    "start_time": "2021-11-25T06:13:05.650Z"
   },
   {
    "duration": 28,
    "start_time": "2021-11-25T06:13:10.642Z"
   },
   {
    "duration": 19,
    "start_time": "2021-11-25T06:13:12.306Z"
   },
   {
    "duration": 26,
    "start_time": "2021-11-25T06:13:14.442Z"
   },
   {
    "duration": 25,
    "start_time": "2021-11-25T06:13:16.738Z"
   },
   {
    "duration": 17,
    "start_time": "2021-11-25T06:13:19.986Z"
   },
   {
    "duration": 5,
    "start_time": "2021-11-25T06:13:21.738Z"
   },
   {
    "duration": 9,
    "start_time": "2021-11-25T06:13:24.114Z"
   },
   {
    "duration": 5,
    "start_time": "2021-11-25T06:13:26.370Z"
   },
   {
    "duration": 4,
    "start_time": "2021-11-25T06:16:31.032Z"
   },
   {
    "duration": 233,
    "start_time": "2021-11-25T06:16:31.059Z"
   },
   {
    "duration": 16,
    "start_time": "2021-11-25T06:16:31.294Z"
   },
   {
    "duration": 46,
    "start_time": "2021-11-25T06:16:31.314Z"
   },
   {
    "duration": 22,
    "start_time": "2021-11-25T06:16:31.363Z"
   },
   {
    "duration": 46,
    "start_time": "2021-11-25T06:16:31.388Z"
   },
   {
    "duration": 13,
    "start_time": "2021-11-25T06:16:31.437Z"
   },
   {
    "duration": 55,
    "start_time": "2021-11-25T06:16:31.453Z"
   },
   {
    "duration": 88,
    "start_time": "2021-11-25T06:16:31.513Z"
   },
   {
    "duration": 33,
    "start_time": "2021-11-25T06:16:31.604Z"
   },
   {
    "duration": 117,
    "start_time": "2021-11-25T06:16:31.639Z"
   },
   {
    "duration": 136,
    "start_time": "2021-11-25T06:16:31.759Z"
   },
   {
    "duration": 95,
    "start_time": "2021-11-25T06:16:31.898Z"
   },
   {
    "duration": 57,
    "start_time": "2021-11-25T06:16:31.995Z"
   },
   {
    "duration": 27,
    "start_time": "2021-11-25T06:16:32.055Z"
   },
   {
    "duration": 43,
    "start_time": "2021-11-25T06:16:32.085Z"
   },
   {
    "duration": 81,
    "start_time": "2021-11-25T06:16:32.130Z"
   },
   {
    "duration": 21,
    "start_time": "2021-11-25T06:16:32.214Z"
   },
   {
    "duration": 30,
    "start_time": "2021-11-25T06:16:32.238Z"
   },
   {
    "duration": 5,
    "start_time": "2021-11-25T06:16:32.282Z"
   },
   {
    "duration": 138,
    "start_time": "2021-11-25T06:16:32.290Z"
   },
   {
    "duration": 133,
    "start_time": "2021-11-25T06:16:32.431Z"
   },
   {
    "duration": 38,
    "start_time": "2021-11-25T06:16:32.567Z"
   },
   {
    "duration": 22,
    "start_time": "2021-11-25T06:16:32.612Z"
   },
   {
    "duration": 48,
    "start_time": "2021-11-25T06:16:32.637Z"
   },
   {
    "duration": 20,
    "start_time": "2021-11-25T06:16:32.688Z"
   },
   {
    "duration": 123,
    "start_time": "2021-11-25T06:16:32.710Z"
   },
   {
    "duration": 48,
    "start_time": "2021-11-25T06:16:32.835Z"
   },
   {
    "duration": 32,
    "start_time": "2021-11-25T06:16:32.885Z"
   },
   {
    "duration": 6,
    "start_time": "2021-11-25T06:16:32.919Z"
   },
   {
    "duration": 54,
    "start_time": "2021-11-25T06:16:32.928Z"
   },
   {
    "duration": 17,
    "start_time": "2021-11-25T06:16:32.984Z"
   },
   {
    "duration": 87,
    "start_time": "2021-11-25T06:16:33.003Z"
   },
   {
    "duration": 17,
    "start_time": "2021-11-25T06:16:33.093Z"
   },
   {
    "duration": 16,
    "start_time": "2021-11-25T06:16:33.112Z"
   },
   {
    "duration": 9,
    "start_time": "2021-11-25T06:16:33.130Z"
   },
   {
    "duration": 42,
    "start_time": "2021-11-25T06:16:33.141Z"
   },
   {
    "duration": 7,
    "start_time": "2021-11-25T06:16:33.186Z"
   },
   {
    "duration": 4,
    "start_time": "2021-11-25T06:26:27.186Z"
   },
   {
    "duration": 231,
    "start_time": "2021-11-25T06:26:27.192Z"
   },
   {
    "duration": 15,
    "start_time": "2021-11-25T06:26:27.426Z"
   },
   {
    "duration": 54,
    "start_time": "2021-11-25T06:26:27.444Z"
   },
   {
    "duration": 6,
    "start_time": "2021-11-25T06:26:27.501Z"
   },
   {
    "duration": 26,
    "start_time": "2021-11-25T06:26:27.510Z"
   },
   {
    "duration": 6,
    "start_time": "2021-11-25T06:26:27.540Z"
   },
   {
    "duration": 33,
    "start_time": "2021-11-25T06:26:27.583Z"
   },
   {
    "duration": 129,
    "start_time": "2021-11-25T06:26:27.619Z"
   },
   {
    "duration": 56,
    "start_time": "2021-11-25T06:26:27.751Z"
   },
   {
    "duration": 100,
    "start_time": "2021-11-25T06:26:27.810Z"
   },
   {
    "duration": 106,
    "start_time": "2021-11-25T06:26:27.913Z"
   },
   {
    "duration": 92,
    "start_time": "2021-11-25T06:26:28.021Z"
   },
   {
    "duration": 68,
    "start_time": "2021-11-25T06:26:28.116Z"
   },
   {
    "duration": 5,
    "start_time": "2021-11-25T06:26:28.187Z"
   },
   {
    "duration": 22,
    "start_time": "2021-11-25T06:26:28.195Z"
   },
   {
    "duration": 6,
    "start_time": "2021-11-25T06:26:28.220Z"
   },
   {
    "duration": 89,
    "start_time": "2021-11-25T06:26:28.229Z"
   },
   {
    "duration": 15,
    "start_time": "2021-11-25T06:26:28.323Z"
   },
   {
    "duration": 40,
    "start_time": "2021-11-25T06:26:28.342Z"
   },
   {
    "duration": 7,
    "start_time": "2021-11-25T06:26:28.384Z"
   },
   {
    "duration": 34,
    "start_time": "2021-11-25T06:26:28.393Z"
   },
   {
    "duration": 21,
    "start_time": "2021-11-25T06:26:28.430Z"
   },
   {
    "duration": 43,
    "start_time": "2021-11-25T06:26:28.454Z"
   },
   {
    "duration": 18,
    "start_time": "2021-11-25T06:26:28.500Z"
   },
   {
    "duration": 24,
    "start_time": "2021-11-25T06:26:28.521Z"
   },
   {
    "duration": 52,
    "start_time": "2021-11-25T06:26:28.548Z"
   },
   {
    "duration": 121,
    "start_time": "2021-11-25T06:26:28.603Z"
   },
   {
    "duration": 56,
    "start_time": "2021-11-25T06:26:28.727Z"
   },
   {
    "duration": 33,
    "start_time": "2021-11-25T06:26:28.786Z"
   },
   {
    "duration": 6,
    "start_time": "2021-11-25T06:26:28.822Z"
   },
   {
    "duration": 58,
    "start_time": "2021-11-25T06:26:28.831Z"
   },
   {
    "duration": 18,
    "start_time": "2021-11-25T06:26:28.891Z"
   },
   {
    "duration": 26,
    "start_time": "2021-11-25T06:26:28.911Z"
   },
   {
    "duration": 48,
    "start_time": "2021-11-25T06:26:28.939Z"
   },
   {
    "duration": 11,
    "start_time": "2021-11-25T06:26:28.990Z"
   },
   {
    "duration": 5,
    "start_time": "2021-11-25T06:26:29.003Z"
   },
   {
    "duration": 10,
    "start_time": "2021-11-25T06:26:29.011Z"
   },
   {
    "duration": 5,
    "start_time": "2021-11-25T06:26:29.023Z"
   },
   {
    "duration": 192,
    "start_time": "2021-11-25T06:27:47.357Z"
   },
   {
    "duration": 15,
    "start_time": "2021-11-25T06:28:56.199Z"
   },
   {
    "duration": 3,
    "start_time": "2021-11-25T06:29:15.234Z"
   },
   {
    "duration": 210,
    "start_time": "2021-11-25T06:29:15.240Z"
   },
   {
    "duration": 15,
    "start_time": "2021-11-25T06:29:15.452Z"
   },
   {
    "duration": 44,
    "start_time": "2021-11-25T06:29:15.470Z"
   },
   {
    "duration": 6,
    "start_time": "2021-11-25T06:29:15.517Z"
   },
   {
    "duration": 59,
    "start_time": "2021-11-25T06:29:15.525Z"
   },
   {
    "duration": 7,
    "start_time": "2021-11-25T06:29:15.588Z"
   },
   {
    "duration": 35,
    "start_time": "2021-11-25T06:29:15.598Z"
   },
   {
    "duration": 102,
    "start_time": "2021-11-25T06:29:15.636Z"
   },
   {
    "duration": 43,
    "start_time": "2021-11-25T06:29:15.741Z"
   },
   {
    "duration": 83,
    "start_time": "2021-11-25T06:29:15.786Z"
   },
   {
    "duration": 109,
    "start_time": "2021-11-25T06:29:15.882Z"
   },
   {
    "duration": 88,
    "start_time": "2021-11-25T06:29:15.993Z"
   },
   {
    "duration": 60,
    "start_time": "2021-11-25T06:29:16.084Z"
   },
   {
    "duration": 4,
    "start_time": "2021-11-25T06:29:16.146Z"
   },
   {
    "duration": 44,
    "start_time": "2021-11-25T06:29:16.152Z"
   },
   {
    "duration": 7,
    "start_time": "2021-11-25T06:29:16.198Z"
   },
   {
    "duration": 80,
    "start_time": "2021-11-25T06:29:16.207Z"
   },
   {
    "duration": 15,
    "start_time": "2021-11-25T06:29:16.293Z"
   },
   {
    "duration": 15,
    "start_time": "2021-11-25T06:29:16.311Z"
   },
   {
    "duration": 5,
    "start_time": "2021-11-25T06:29:16.328Z"
   },
   {
    "duration": 67,
    "start_time": "2021-11-25T06:29:16.335Z"
   },
   {
    "duration": 21,
    "start_time": "2021-11-25T06:29:16.404Z"
   },
   {
    "duration": 20,
    "start_time": "2021-11-25T06:29:16.427Z"
   },
   {
    "duration": 48,
    "start_time": "2021-11-25T06:29:16.449Z"
   },
   {
    "duration": 23,
    "start_time": "2021-11-25T06:29:16.499Z"
   },
   {
    "duration": 21,
    "start_time": "2021-11-25T06:29:16.525Z"
   },
   {
    "duration": 108,
    "start_time": "2021-11-25T06:29:16.583Z"
   },
   {
    "duration": 41,
    "start_time": "2021-11-25T06:29:16.694Z"
   },
   {
    "duration": 58,
    "start_time": "2021-11-25T06:29:16.738Z"
   },
   {
    "duration": 7,
    "start_time": "2021-11-25T06:29:16.799Z"
   },
   {
    "duration": 49,
    "start_time": "2021-11-25T06:29:16.809Z"
   },
   {
    "duration": 27,
    "start_time": "2021-11-25T06:29:16.860Z"
   },
   {
    "duration": 24,
    "start_time": "2021-11-25T06:29:16.890Z"
   },
   {
    "duration": 17,
    "start_time": "2021-11-25T06:29:16.917Z"
   },
   {
    "duration": 46,
    "start_time": "2021-11-25T06:29:16.936Z"
   },
   {
    "duration": 5,
    "start_time": "2021-11-25T06:29:16.985Z"
   },
   {
    "duration": 13,
    "start_time": "2021-11-25T06:29:16.993Z"
   },
   {
    "duration": 12,
    "start_time": "2021-11-25T06:29:17.008Z"
   },
   {
    "duration": 9,
    "start_time": "2021-11-25T06:29:41.024Z"
   },
   {
    "duration": 7,
    "start_time": "2021-11-25T06:29:59.640Z"
   },
   {
    "duration": 4,
    "start_time": "2021-11-25T06:34:42.280Z"
   },
   {
    "duration": 244,
    "start_time": "2021-11-25T06:34:42.287Z"
   },
   {
    "duration": 17,
    "start_time": "2021-11-25T06:34:42.535Z"
   },
   {
    "duration": 56,
    "start_time": "2021-11-25T06:34:42.554Z"
   },
   {
    "duration": 5,
    "start_time": "2021-11-25T06:34:42.612Z"
   },
   {
    "duration": 25,
    "start_time": "2021-11-25T06:34:42.620Z"
   },
   {
    "duration": 5,
    "start_time": "2021-11-25T06:34:42.649Z"
   },
   {
    "duration": 38,
    "start_time": "2021-11-25T06:34:42.683Z"
   },
   {
    "duration": 107,
    "start_time": "2021-11-25T06:34:42.723Z"
   },
   {
    "duration": 52,
    "start_time": "2021-11-25T06:34:42.833Z"
   },
   {
    "duration": 100,
    "start_time": "2021-11-25T06:34:42.887Z"
   },
   {
    "duration": 101,
    "start_time": "2021-11-25T06:34:42.989Z"
   },
   {
    "duration": 91,
    "start_time": "2021-11-25T06:34:43.092Z"
   },
   {
    "duration": 64,
    "start_time": "2021-11-25T06:34:43.185Z"
   },
   {
    "duration": 5,
    "start_time": "2021-11-25T06:34:43.252Z"
   },
   {
    "duration": 23,
    "start_time": "2021-11-25T06:34:43.283Z"
   },
   {
    "duration": 10,
    "start_time": "2021-11-25T06:34:43.309Z"
   },
   {
    "duration": 80,
    "start_time": "2021-11-25T06:34:43.322Z"
   },
   {
    "duration": 14,
    "start_time": "2021-11-25T06:34:43.407Z"
   },
   {
    "duration": 17,
    "start_time": "2021-11-25T06:34:43.423Z"
   },
   {
    "duration": 6,
    "start_time": "2021-11-25T06:34:43.442Z"
   },
   {
    "duration": 52,
    "start_time": "2021-11-25T06:34:43.450Z"
   },
   {
    "duration": 20,
    "start_time": "2021-11-25T06:34:43.504Z"
   },
   {
    "duration": 19,
    "start_time": "2021-11-25T06:34:43.527Z"
   },
   {
    "duration": 49,
    "start_time": "2021-11-25T06:34:43.549Z"
   },
   {
    "duration": 22,
    "start_time": "2021-11-25T06:34:43.601Z"
   },
   {
    "duration": 18,
    "start_time": "2021-11-25T06:34:43.626Z"
   },
   {
    "duration": 189,
    "start_time": "2021-11-25T06:34:43.646Z"
   },
   {
    "duration": 62,
    "start_time": "2021-11-25T06:34:43.838Z"
   },
   {
    "duration": 37,
    "start_time": "2021-11-25T06:34:43.903Z"
   },
   {
    "duration": 6,
    "start_time": "2021-11-25T06:34:43.942Z"
   },
   {
    "duration": 60,
    "start_time": "2021-11-25T06:34:43.951Z"
   },
   {
    "duration": 18,
    "start_time": "2021-11-25T06:34:44.013Z"
   },
   {
    "duration": 23,
    "start_time": "2021-11-25T06:34:44.034Z"
   },
   {
    "duration": 37,
    "start_time": "2021-11-25T06:34:44.059Z"
   },
   {
    "duration": 18,
    "start_time": "2021-11-25T06:34:44.098Z"
   },
   {
    "duration": 7,
    "start_time": "2021-11-25T06:34:44.118Z"
   },
   {
    "duration": 8,
    "start_time": "2021-11-25T06:34:44.127Z"
   },
   {
    "duration": 49,
    "start_time": "2021-11-25T06:34:44.138Z"
   },
   {
    "duration": 60,
    "start_time": "2021-11-25T06:36:55.075Z"
   },
   {
    "duration": 205,
    "start_time": "2021-11-25T06:37:21.066Z"
   },
   {
    "duration": 63,
    "start_time": "2021-11-25T06:37:37.922Z"
   },
   {
    "duration": 4,
    "start_time": "2021-11-25T06:37:50.783Z"
   },
   {
    "duration": 230,
    "start_time": "2021-11-25T06:37:50.790Z"
   },
   {
    "duration": 15,
    "start_time": "2021-11-25T06:37:51.023Z"
   },
   {
    "duration": 58,
    "start_time": "2021-11-25T06:37:51.041Z"
   },
   {
    "duration": 8,
    "start_time": "2021-11-25T06:37:51.102Z"
   },
   {
    "duration": 31,
    "start_time": "2021-11-25T06:37:51.113Z"
   },
   {
    "duration": 6,
    "start_time": "2021-11-25T06:37:51.148Z"
   },
   {
    "duration": 31,
    "start_time": "2021-11-25T06:37:51.182Z"
   },
   {
    "duration": 126,
    "start_time": "2021-11-25T06:37:51.216Z"
   },
   {
    "duration": 53,
    "start_time": "2021-11-25T06:37:51.345Z"
   },
   {
    "duration": 134,
    "start_time": "2021-11-25T06:37:51.401Z"
   },
   {
    "duration": 145,
    "start_time": "2021-11-25T06:37:51.537Z"
   },
   {
    "duration": 130,
    "start_time": "2021-11-25T06:37:51.685Z"
   },
   {
    "duration": 69,
    "start_time": "2021-11-25T06:37:51.817Z"
   },
   {
    "duration": 4,
    "start_time": "2021-11-25T06:37:51.888Z"
   },
   {
    "duration": 61,
    "start_time": "2021-11-25T06:37:51.895Z"
   },
   {
    "duration": 18,
    "start_time": "2021-11-25T06:37:51.959Z"
   },
   {
    "duration": 77,
    "start_time": "2021-11-25T06:37:51.979Z"
   },
   {
    "duration": 15,
    "start_time": "2021-11-25T06:37:52.062Z"
   },
   {
    "duration": 23,
    "start_time": "2021-11-25T06:37:52.079Z"
   },
   {
    "duration": 5,
    "start_time": "2021-11-25T06:37:52.104Z"
   },
   {
    "duration": 31,
    "start_time": "2021-11-25T06:37:52.111Z"
   },
   {
    "duration": 45,
    "start_time": "2021-11-25T06:37:52.144Z"
   },
   {
    "duration": 20,
    "start_time": "2021-11-25T06:37:52.191Z"
   },
   {
    "duration": 24,
    "start_time": "2021-11-25T06:37:52.213Z"
   },
   {
    "duration": 55,
    "start_time": "2021-11-25T06:37:52.239Z"
   },
   {
    "duration": 22,
    "start_time": "2021-11-25T06:37:52.296Z"
   },
   {
    "duration": 135,
    "start_time": "2021-11-25T06:37:52.321Z"
   },
   {
    "duration": 42,
    "start_time": "2021-11-25T06:37:52.459Z"
   },
   {
    "duration": 32,
    "start_time": "2021-11-25T06:37:52.503Z"
   },
   {
    "duration": 7,
    "start_time": "2021-11-25T06:37:52.538Z"
   },
   {
    "duration": 48,
    "start_time": "2021-11-25T06:37:52.583Z"
   },
   {
    "duration": 25,
    "start_time": "2021-11-25T06:37:52.634Z"
   },
   {
    "duration": 45,
    "start_time": "2021-11-25T06:37:52.661Z"
   },
   {
    "duration": 23,
    "start_time": "2021-11-25T06:37:52.709Z"
   },
   {
    "duration": 44,
    "start_time": "2021-11-25T06:37:52.738Z"
   },
   {
    "duration": 9,
    "start_time": "2021-11-25T06:37:52.785Z"
   },
   {
    "duration": 12,
    "start_time": "2021-11-25T06:37:52.797Z"
   },
   {
    "duration": 8,
    "start_time": "2021-11-25T06:37:52.812Z"
   },
   {
    "duration": 3,
    "start_time": "2021-11-25T06:40:10.567Z"
   },
   {
    "duration": 226,
    "start_time": "2021-11-25T06:40:10.573Z"
   },
   {
    "duration": 15,
    "start_time": "2021-11-25T06:40:10.802Z"
   },
   {
    "duration": 39,
    "start_time": "2021-11-25T06:40:10.820Z"
   },
   {
    "duration": 23,
    "start_time": "2021-11-25T06:40:10.862Z"
   },
   {
    "duration": 33,
    "start_time": "2021-11-25T06:40:10.888Z"
   },
   {
    "duration": 9,
    "start_time": "2021-11-25T06:40:10.925Z"
   },
   {
    "duration": 67,
    "start_time": "2021-11-25T06:40:10.938Z"
   },
   {
    "duration": 106,
    "start_time": "2021-11-25T06:40:11.007Z"
   },
   {
    "duration": 66,
    "start_time": "2021-11-25T06:40:11.116Z"
   },
   {
    "duration": 100,
    "start_time": "2021-11-25T06:40:11.185Z"
   },
   {
    "duration": 106,
    "start_time": "2021-11-25T06:40:11.287Z"
   },
   {
    "duration": 77,
    "start_time": "2021-11-25T06:40:11.396Z"
   },
   {
    "duration": 61,
    "start_time": "2021-11-25T06:40:11.482Z"
   },
   {
    "duration": 4,
    "start_time": "2021-11-25T06:40:11.545Z"
   },
   {
    "duration": 49,
    "start_time": "2021-11-25T06:40:11.551Z"
   },
   {
    "duration": 7,
    "start_time": "2021-11-25T06:40:11.603Z"
   },
   {
    "duration": 75,
    "start_time": "2021-11-25T06:40:11.612Z"
   },
   {
    "duration": 15,
    "start_time": "2021-11-25T06:40:11.692Z"
   },
   {
    "duration": 16,
    "start_time": "2021-11-25T06:40:11.710Z"
   },
   {
    "duration": 5,
    "start_time": "2021-11-25T06:40:11.728Z"
   },
   {
    "duration": 60,
    "start_time": "2021-11-25T06:40:11.735Z"
   },
   {
    "duration": 21,
    "start_time": "2021-11-25T06:40:11.798Z"
   },
   {
    "duration": 24,
    "start_time": "2021-11-25T06:40:11.823Z"
   },
   {
    "duration": 48,
    "start_time": "2021-11-25T06:40:11.849Z"
   },
   {
    "duration": 22,
    "start_time": "2021-11-25T06:40:11.900Z"
   },
   {
    "duration": 19,
    "start_time": "2021-11-25T06:40:11.925Z"
   },
   {
    "duration": 147,
    "start_time": "2021-11-25T06:40:11.947Z"
   },
   {
    "duration": 37,
    "start_time": "2021-11-25T06:40:12.097Z"
   },
   {
    "duration": 58,
    "start_time": "2021-11-25T06:40:12.137Z"
   },
   {
    "duration": 7,
    "start_time": "2021-11-25T06:40:12.199Z"
   },
   {
    "duration": 30,
    "start_time": "2021-11-25T06:40:12.209Z"
   },
   {
    "duration": 52,
    "start_time": "2021-11-25T06:40:12.242Z"
   },
   {
    "duration": 26,
    "start_time": "2021-11-25T06:40:12.296Z"
   },
   {
    "duration": 17,
    "start_time": "2021-11-25T06:40:12.324Z"
   },
   {
    "duration": 45,
    "start_time": "2021-11-25T06:40:12.344Z"
   },
   {
    "duration": 7,
    "start_time": "2021-11-25T06:40:12.391Z"
   },
   {
    "duration": 12,
    "start_time": "2021-11-25T06:40:12.401Z"
   },
   {
    "duration": 9,
    "start_time": "2021-11-25T06:40:12.415Z"
   }
  ],
  "colab": {
   "collapsed_sections": [
    "E0vqbgi9ay0H",
    "VUC88oWjTJw2"
   ],
   "name": "yandex_music_project_2021.2.ipynb",
   "provenance": []
  },
  "kernelspec": {
   "display_name": "Python 3 (ipykernel)",
   "language": "python",
   "name": "python3"
  },
  "language_info": {
   "codemirror_mode": {
    "name": "ipython",
    "version": 3
   },
   "file_extension": ".py",
   "mimetype": "text/x-python",
   "name": "python",
   "nbconvert_exporter": "python",
   "pygments_lexer": "ipython3",
   "version": "3.9.7"
  },
  "toc": {
   "base_numbering": 1,
   "nav_menu": {},
   "number_sections": true,
   "sideBar": true,
   "skip_h1_title": true,
   "title_cell": "Table of Contents",
   "title_sidebar": "Contents",
   "toc_cell": false,
   "toc_position": {
    "height": "calc(100% - 180px)",
    "left": "10px",
    "top": "150px",
    "width": "366.391px"
   },
   "toc_section_display": true,
   "toc_window_display": true
  }
 },
 "nbformat": 4,
 "nbformat_minor": 1
}
