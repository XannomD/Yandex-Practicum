{
 "cells": [
  {
   "cell_type": "markdown",
   "metadata": {},
   "source": [
    "# Исследование и анализ базы данных книжного сервиса"
   ]
  },
  {
   "cell_type": "markdown",
   "metadata": {},
   "source": [
    "Коронавирус застал мир врасплох, изменив привычный порядок вещей. В свободное время жители городов больше не выходят на улицу, не посещают кафе и торговые центры. Зато стало больше времени для книг. Это заметили стартаперы — и бросились создавать приложения для тех, кто любит читать.\n",
    "\n",
    "Наша компания решила быть на волне и купила крупный сервис для чтения книг по подписке. \n",
    "\n",
    "Наша первая задача как аналитика — проанализировать базу данных.\n",
    "\n",
    "В ней — информация о книгах, издательствах, авторах, а также пользовательские обзоры книг. Эти данные помогут сформулировать ценностное предложение для нового продукта.\n",
    "\n",
    "**Задания:**\n",
    "\n",
    "- Посчитать, сколько книг вышло после 1 января 2000 года;\n",
    "- Для каждой книги посчитать количество обзоров и среднюю оценку;\n",
    "- Определить издательство, которое выпустило наибольшее число книг толще 50 страниц — так вы исключите из анализа брошюры;\n",
    "- Определить автора с самой высокой средней оценкой книг — учитывайте только книги с 50 и более оценками;\n",
    "- Посчитать среднее количество обзоров от пользователей, которые поставили больше 50 оценок."
   ]
  },
  {
   "cell_type": "markdown",
   "metadata": {},
   "source": [
    "<h1>Содержание<span class=\"tocSkip\"></span></h1>\n",
    "<div class=\"toc\">\n",
    "<a href='#1'>1. Изучение данных</a>\n",
    "\n",
    "<a href='#1.1'>1.1 Изучение Таблицы books</a>\n",
    "\n",
    "<a href='#1.2'>1.2 Изучение Таблицы authors</a>\n",
    "\n",
    "<a href='#1.3'>1.3 Изучение Таблицы publishers</a>\n",
    "\n",
    "<a href='#1.4'>1.4 Изучение Таблицы ratings</a>\n",
    "\n",
    "<a href='#1.5'>1.5 Изучение Таблицы reviews</a>\n",
    "\n",
    "<a href='#2'>2. Задания</a>\n",
    "    \n",
    "<a href='#2.1'>2.1 Сколько книг вышло после 1 января 2000 года</a>   \n",
    "    \n",
    "<a href='#2.2'>2.2 Для каждой книги посчитать количество обзоров и среднюю оценку</a>   \n",
    "    \n",
    "<a href='#2.3'>2.3 Определить издательство, которое выпустило наибольшее число книг толще 50 страниц — так вы исключите из анализа брошюры</a>   \n",
    "    \n",
    "<a href='#2.4'>2.4 Определить автора с самой высокой средней оценкой книг — учитывайте только книги с 50 и более оценками</a>   \n",
    "    \n",
    "<a href='#2.5'>2.5 среднее количество обзоров от пользователей, которые поставили больше 50 оценок</a>   \n",
    "     \n",
    "<a href='#3'>3 Вывод</a> "
   ]
  },
  {
   "cell_type": "markdown",
   "metadata": {},
   "source": [
    "<a id='1'></a>\n",
    "## Изучение данных"
   ]
  },
  {
   "cell_type": "code",
   "execution_count": 1,
   "metadata": {},
   "outputs": [],
   "source": [
    "import pandas as pd\n",
    "from sqlalchemy import create_engine\n",
    "\n",
    "db_config = {'user': 'praktikum_student', \n",
    "'pwd': 'Sdf4$2;d-d30pp', \n",
    "'host': 'rc1b-wcoijxj3yxfsf3fs.mdb.yandexcloud.net',\n",
    "'port': 6432, \n",
    "'db': 'data-analyst-final-project-db'} \n",
    "connection_string = 'postgresql://{}:{}@{}:{}/{}'.format(db_config['user'],\n",
    " db_config['pwd'],\n",
    " db_config['host'],\n",
    " db_config['port'],\n",
    " db_config['db'])\n",
    "\n",
    "engine = create_engine(connection_string, connect_args={'sslmode':'require'}) \n",
    "pd.set_option('display.max_colwidth', None)"
   ]
  },
  {
   "cell_type": "markdown",
   "metadata": {},
   "source": [
    "<a id='1.1'></a>\n",
    "### Изучение Таблицы books"
   ]
  },
  {
   "cell_type": "code",
   "execution_count": 2,
   "metadata": {},
   "outputs": [
    {
     "data": {
      "text/html": [
       "<div>\n",
       "<style scoped>\n",
       "    .dataframe tbody tr th:only-of-type {\n",
       "        vertical-align: middle;\n",
       "    }\n",
       "\n",
       "    .dataframe tbody tr th {\n",
       "        vertical-align: top;\n",
       "    }\n",
       "\n",
       "    .dataframe thead th {\n",
       "        text-align: right;\n",
       "    }\n",
       "</style>\n",
       "<table border=\"1\" class=\"dataframe\">\n",
       "  <thead>\n",
       "    <tr style=\"text-align: right;\">\n",
       "      <th></th>\n",
       "      <th>book_id</th>\n",
       "      <th>author_id</th>\n",
       "      <th>title</th>\n",
       "      <th>num_pages</th>\n",
       "      <th>publication_date</th>\n",
       "      <th>publisher_id</th>\n",
       "    </tr>\n",
       "  </thead>\n",
       "  <tbody>\n",
       "    <tr>\n",
       "      <th>0</th>\n",
       "      <td>1</td>\n",
       "      <td>546</td>\n",
       "      <td>'Salem's Lot</td>\n",
       "      <td>594</td>\n",
       "      <td>2005-11-01</td>\n",
       "      <td>93</td>\n",
       "    </tr>\n",
       "    <tr>\n",
       "      <th>1</th>\n",
       "      <td>2</td>\n",
       "      <td>465</td>\n",
       "      <td>1 000 Places to See Before You Die</td>\n",
       "      <td>992</td>\n",
       "      <td>2003-05-22</td>\n",
       "      <td>336</td>\n",
       "    </tr>\n",
       "    <tr>\n",
       "      <th>2</th>\n",
       "      <td>3</td>\n",
       "      <td>407</td>\n",
       "      <td>13 Little Blue Envelopes (Little Blue Envelope  #1)</td>\n",
       "      <td>322</td>\n",
       "      <td>2010-12-21</td>\n",
       "      <td>135</td>\n",
       "    </tr>\n",
       "    <tr>\n",
       "      <th>3</th>\n",
       "      <td>4</td>\n",
       "      <td>82</td>\n",
       "      <td>1491: New Revelations of the Americas Before Columbus</td>\n",
       "      <td>541</td>\n",
       "      <td>2006-10-10</td>\n",
       "      <td>309</td>\n",
       "    </tr>\n",
       "    <tr>\n",
       "      <th>4</th>\n",
       "      <td>5</td>\n",
       "      <td>125</td>\n",
       "      <td>1776</td>\n",
       "      <td>386</td>\n",
       "      <td>2006-07-04</td>\n",
       "      <td>268</td>\n",
       "    </tr>\n",
       "    <tr>\n",
       "      <th>...</th>\n",
       "      <td>...</td>\n",
       "      <td>...</td>\n",
       "      <td>...</td>\n",
       "      <td>...</td>\n",
       "      <td>...</td>\n",
       "      <td>...</td>\n",
       "    </tr>\n",
       "    <tr>\n",
       "      <th>995</th>\n",
       "      <td>996</td>\n",
       "      <td>571</td>\n",
       "      <td>Wyrd Sisters (Discworld  #6; Witches #2)</td>\n",
       "      <td>265</td>\n",
       "      <td>2001-02-06</td>\n",
       "      <td>147</td>\n",
       "    </tr>\n",
       "    <tr>\n",
       "      <th>996</th>\n",
       "      <td>997</td>\n",
       "      <td>454</td>\n",
       "      <td>Xenocide (Ender's Saga  #3)</td>\n",
       "      <td>592</td>\n",
       "      <td>1996-07-15</td>\n",
       "      <td>297</td>\n",
       "    </tr>\n",
       "    <tr>\n",
       "      <th>997</th>\n",
       "      <td>998</td>\n",
       "      <td>201</td>\n",
       "      <td>Year of Wonders</td>\n",
       "      <td>358</td>\n",
       "      <td>2002-04-30</td>\n",
       "      <td>212</td>\n",
       "    </tr>\n",
       "    <tr>\n",
       "      <th>998</th>\n",
       "      <td>999</td>\n",
       "      <td>94</td>\n",
       "      <td>You Suck (A Love Story  #2)</td>\n",
       "      <td>328</td>\n",
       "      <td>2007-01-16</td>\n",
       "      <td>331</td>\n",
       "    </tr>\n",
       "    <tr>\n",
       "      <th>999</th>\n",
       "      <td>1000</td>\n",
       "      <td>509</td>\n",
       "      <td>Zen and the Art of Motorcycle Maintenance: An Inquiry Into Values (Phaedrus  #1)</td>\n",
       "      <td>540</td>\n",
       "      <td>2006-04-25</td>\n",
       "      <td>143</td>\n",
       "    </tr>\n",
       "  </tbody>\n",
       "</table>\n",
       "<p>1000 rows × 6 columns</p>\n",
       "</div>"
      ],
      "text/plain": [
       "     book_id  author_id  \\\n",
       "0          1        546   \n",
       "1          2        465   \n",
       "2          3        407   \n",
       "3          4         82   \n",
       "4          5        125   \n",
       "..       ...        ...   \n",
       "995      996        571   \n",
       "996      997        454   \n",
       "997      998        201   \n",
       "998      999         94   \n",
       "999     1000        509   \n",
       "\n",
       "                                                                                title  \\\n",
       "0                                                                        'Salem's Lot   \n",
       "1                                                  1 000 Places to See Before You Die   \n",
       "2                                 13 Little Blue Envelopes (Little Blue Envelope  #1)   \n",
       "3                               1491: New Revelations of the Americas Before Columbus   \n",
       "4                                                                                1776   \n",
       "..                                                                                ...   \n",
       "995                                          Wyrd Sisters (Discworld  #6; Witches #2)   \n",
       "996                                                       Xenocide (Ender's Saga  #3)   \n",
       "997                                                                   Year of Wonders   \n",
       "998                                                       You Suck (A Love Story  #2)   \n",
       "999  Zen and the Art of Motorcycle Maintenance: An Inquiry Into Values (Phaedrus  #1)   \n",
       "\n",
       "     num_pages publication_date  publisher_id  \n",
       "0          594       2005-11-01            93  \n",
       "1          992       2003-05-22           336  \n",
       "2          322       2010-12-21           135  \n",
       "3          541       2006-10-10           309  \n",
       "4          386       2006-07-04           268  \n",
       "..         ...              ...           ...  \n",
       "995        265       2001-02-06           147  \n",
       "996        592       1996-07-15           297  \n",
       "997        358       2002-04-30           212  \n",
       "998        328       2007-01-16           331  \n",
       "999        540       2006-04-25           143  \n",
       "\n",
       "[1000 rows x 6 columns]"
      ]
     },
     "execution_count": 2,
     "metadata": {},
     "output_type": "execute_result"
    }
   ],
   "source": [
    "query = ''' \n",
    "        SELECT *\n",
    "        FROM books\n",
    "        \n",
    "        '''\n",
    "\n",
    "pd.io.sql.read_sql(query, con = engine) "
   ]
  },
  {
   "cell_type": "markdown",
   "metadata": {},
   "source": [
    "Содержит данные о книгах:\n",
    "\n",
    "- `book_id` — идентификатор книги;\n",
    "- `author_id` — идентификатор автора;\n",
    "- `title` — название книги;\n",
    "- `num_pages` — количество страниц;\n",
    "- `publication_date` — дата публикации книги;\n",
    "- `publisher_id` — идентификатор издателя."
   ]
  },
  {
   "cell_type": "markdown",
   "metadata": {},
   "source": [
    "<a id='1.2'></a>\n",
    "### Изучение Таблицы authors"
   ]
  },
  {
   "cell_type": "code",
   "execution_count": 3,
   "metadata": {},
   "outputs": [
    {
     "data": {
      "text/html": [
       "<div>\n",
       "<style scoped>\n",
       "    .dataframe tbody tr th:only-of-type {\n",
       "        vertical-align: middle;\n",
       "    }\n",
       "\n",
       "    .dataframe tbody tr th {\n",
       "        vertical-align: top;\n",
       "    }\n",
       "\n",
       "    .dataframe thead th {\n",
       "        text-align: right;\n",
       "    }\n",
       "</style>\n",
       "<table border=\"1\" class=\"dataframe\">\n",
       "  <thead>\n",
       "    <tr style=\"text-align: right;\">\n",
       "      <th></th>\n",
       "      <th>author_id</th>\n",
       "      <th>author</th>\n",
       "    </tr>\n",
       "  </thead>\n",
       "  <tbody>\n",
       "    <tr>\n",
       "      <th>0</th>\n",
       "      <td>1</td>\n",
       "      <td>A.S. Byatt</td>\n",
       "    </tr>\n",
       "    <tr>\n",
       "      <th>1</th>\n",
       "      <td>2</td>\n",
       "      <td>Aesop/Laura Harris/Laura Gibbs</td>\n",
       "    </tr>\n",
       "    <tr>\n",
       "      <th>2</th>\n",
       "      <td>3</td>\n",
       "      <td>Agatha Christie</td>\n",
       "    </tr>\n",
       "    <tr>\n",
       "      <th>3</th>\n",
       "      <td>4</td>\n",
       "      <td>Alan Brennert</td>\n",
       "    </tr>\n",
       "    <tr>\n",
       "      <th>4</th>\n",
       "      <td>5</td>\n",
       "      <td>Alan Moore/David   Lloyd</td>\n",
       "    </tr>\n",
       "  </tbody>\n",
       "</table>\n",
       "</div>"
      ],
      "text/plain": [
       "   author_id                          author\n",
       "0          1                      A.S. Byatt\n",
       "1          2  Aesop/Laura Harris/Laura Gibbs\n",
       "2          3                 Agatha Christie\n",
       "3          4                   Alan Brennert\n",
       "4          5        Alan Moore/David   Lloyd"
      ]
     },
     "execution_count": 3,
     "metadata": {},
     "output_type": "execute_result"
    }
   ],
   "source": [
    "query = ''' \n",
    "        SELECT *\n",
    "        FROM authors\n",
    "        LIMIT 5\n",
    "        '''\n",
    "\n",
    "pd.io.sql.read_sql(query, con = engine) "
   ]
  },
  {
   "cell_type": "markdown",
   "metadata": {},
   "source": [
    "Содержит данные об авторах:\n",
    "\n",
    "- `author_id` — идентификатор автора;\n",
    "- `author` — имя автора."
   ]
  },
  {
   "cell_type": "markdown",
   "metadata": {},
   "source": [
    "<a id='1.3'></a>\n",
    "### Изучение Таблицы publishers"
   ]
  },
  {
   "cell_type": "code",
   "execution_count": 4,
   "metadata": {},
   "outputs": [
    {
     "data": {
      "text/html": [
       "<div>\n",
       "<style scoped>\n",
       "    .dataframe tbody tr th:only-of-type {\n",
       "        vertical-align: middle;\n",
       "    }\n",
       "\n",
       "    .dataframe tbody tr th {\n",
       "        vertical-align: top;\n",
       "    }\n",
       "\n",
       "    .dataframe thead th {\n",
       "        text-align: right;\n",
       "    }\n",
       "</style>\n",
       "<table border=\"1\" class=\"dataframe\">\n",
       "  <thead>\n",
       "    <tr style=\"text-align: right;\">\n",
       "      <th></th>\n",
       "      <th>publisher_id</th>\n",
       "      <th>publisher</th>\n",
       "    </tr>\n",
       "  </thead>\n",
       "  <tbody>\n",
       "    <tr>\n",
       "      <th>0</th>\n",
       "      <td>1</td>\n",
       "      <td>Ace</td>\n",
       "    </tr>\n",
       "    <tr>\n",
       "      <th>1</th>\n",
       "      <td>2</td>\n",
       "      <td>Ace Book</td>\n",
       "    </tr>\n",
       "    <tr>\n",
       "      <th>2</th>\n",
       "      <td>3</td>\n",
       "      <td>Ace Books</td>\n",
       "    </tr>\n",
       "    <tr>\n",
       "      <th>3</th>\n",
       "      <td>4</td>\n",
       "      <td>Ace Hardcover</td>\n",
       "    </tr>\n",
       "    <tr>\n",
       "      <th>4</th>\n",
       "      <td>5</td>\n",
       "      <td>Addison Wesley Publishing Company</td>\n",
       "    </tr>\n",
       "  </tbody>\n",
       "</table>\n",
       "</div>"
      ],
      "text/plain": [
       "   publisher_id                          publisher\n",
       "0             1                                Ace\n",
       "1             2                           Ace Book\n",
       "2             3                          Ace Books\n",
       "3             4                      Ace Hardcover\n",
       "4             5  Addison Wesley Publishing Company"
      ]
     },
     "execution_count": 4,
     "metadata": {},
     "output_type": "execute_result"
    }
   ],
   "source": [
    "query = ''' \n",
    "        SELECT *\n",
    "        FROM publishers\n",
    "        LIMIT 5\n",
    "        '''\n",
    "\n",
    "pd.io.sql.read_sql(query, con = engine) "
   ]
  },
  {
   "cell_type": "markdown",
   "metadata": {},
   "source": [
    "Содержит данные об издательствах:\n",
    "\n",
    "- `publisher_id` — идентификатор издательства;\n",
    "- `publisher` — название издательства;"
   ]
  },
  {
   "cell_type": "markdown",
   "metadata": {},
   "source": [
    "<a id='1.4'></a>\n",
    "### Изучение Таблицы ratings"
   ]
  },
  {
   "cell_type": "code",
   "execution_count": 5,
   "metadata": {},
   "outputs": [
    {
     "data": {
      "text/html": [
       "<div>\n",
       "<style scoped>\n",
       "    .dataframe tbody tr th:only-of-type {\n",
       "        vertical-align: middle;\n",
       "    }\n",
       "\n",
       "    .dataframe tbody tr th {\n",
       "        vertical-align: top;\n",
       "    }\n",
       "\n",
       "    .dataframe thead th {\n",
       "        text-align: right;\n",
       "    }\n",
       "</style>\n",
       "<table border=\"1\" class=\"dataframe\">\n",
       "  <thead>\n",
       "    <tr style=\"text-align: right;\">\n",
       "      <th></th>\n",
       "      <th>rating_id</th>\n",
       "      <th>book_id</th>\n",
       "      <th>username</th>\n",
       "      <th>rating</th>\n",
       "    </tr>\n",
       "  </thead>\n",
       "  <tbody>\n",
       "    <tr>\n",
       "      <th>0</th>\n",
       "      <td>1</td>\n",
       "      <td>1</td>\n",
       "      <td>ryanfranco</td>\n",
       "      <td>4</td>\n",
       "    </tr>\n",
       "    <tr>\n",
       "      <th>1</th>\n",
       "      <td>2</td>\n",
       "      <td>1</td>\n",
       "      <td>grantpatricia</td>\n",
       "      <td>2</td>\n",
       "    </tr>\n",
       "    <tr>\n",
       "      <th>2</th>\n",
       "      <td>3</td>\n",
       "      <td>1</td>\n",
       "      <td>brandtandrea</td>\n",
       "      <td>5</td>\n",
       "    </tr>\n",
       "    <tr>\n",
       "      <th>3</th>\n",
       "      <td>4</td>\n",
       "      <td>2</td>\n",
       "      <td>lorichen</td>\n",
       "      <td>3</td>\n",
       "    </tr>\n",
       "    <tr>\n",
       "      <th>4</th>\n",
       "      <td>5</td>\n",
       "      <td>2</td>\n",
       "      <td>mariokeller</td>\n",
       "      <td>2</td>\n",
       "    </tr>\n",
       "  </tbody>\n",
       "</table>\n",
       "</div>"
      ],
      "text/plain": [
       "   rating_id  book_id       username  rating\n",
       "0          1        1     ryanfranco       4\n",
       "1          2        1  grantpatricia       2\n",
       "2          3        1   brandtandrea       5\n",
       "3          4        2       lorichen       3\n",
       "4          5        2    mariokeller       2"
      ]
     },
     "execution_count": 5,
     "metadata": {},
     "output_type": "execute_result"
    }
   ],
   "source": [
    "query = ''' \n",
    "        SELECT *\n",
    "        FROM ratings\n",
    "        LIMIT 5\n",
    "        '''\n",
    "\n",
    "pd.io.sql.read_sql(query, con = engine) "
   ]
  },
  {
   "cell_type": "markdown",
   "metadata": {},
   "source": [
    "Содержит данные о пользовательских оценках книг:\n",
    "\n",
    "- `rating_id` — идентификатор оценки;\n",
    "- `book_id` — идентификатор книги;\n",
    "- `username` — имя пользователя, оставившего оценку;\n",
    "- `rating` — оценка книги."
   ]
  },
  {
   "cell_type": "markdown",
   "metadata": {},
   "source": [
    "<a id='1.5'></a>\n",
    "### Изучение Таблицы reviews"
   ]
  },
  {
   "cell_type": "code",
   "execution_count": 6,
   "metadata": {},
   "outputs": [
    {
     "data": {
      "text/html": [
       "<div>\n",
       "<style scoped>\n",
       "    .dataframe tbody tr th:only-of-type {\n",
       "        vertical-align: middle;\n",
       "    }\n",
       "\n",
       "    .dataframe tbody tr th {\n",
       "        vertical-align: top;\n",
       "    }\n",
       "\n",
       "    .dataframe thead th {\n",
       "        text-align: right;\n",
       "    }\n",
       "</style>\n",
       "<table border=\"1\" class=\"dataframe\">\n",
       "  <thead>\n",
       "    <tr style=\"text-align: right;\">\n",
       "      <th></th>\n",
       "      <th>review_id</th>\n",
       "      <th>book_id</th>\n",
       "      <th>username</th>\n",
       "      <th>text</th>\n",
       "    </tr>\n",
       "  </thead>\n",
       "  <tbody>\n",
       "    <tr>\n",
       "      <th>0</th>\n",
       "      <td>1</td>\n",
       "      <td>1</td>\n",
       "      <td>brandtandrea</td>\n",
       "      <td>Mention society tell send professor analysis. Over provide race technology continue these.</td>\n",
       "    </tr>\n",
       "    <tr>\n",
       "      <th>1</th>\n",
       "      <td>2</td>\n",
       "      <td>1</td>\n",
       "      <td>ryanfranco</td>\n",
       "      <td>Foot glass pretty audience hit themselves. Among admit investment argue security.</td>\n",
       "    </tr>\n",
       "    <tr>\n",
       "      <th>2</th>\n",
       "      <td>3</td>\n",
       "      <td>2</td>\n",
       "      <td>lorichen</td>\n",
       "      <td>Listen treat keep worry. Miss husband tax but person sport treatment industry. Kitchen decision deep the. Social party body the.</td>\n",
       "    </tr>\n",
       "    <tr>\n",
       "      <th>3</th>\n",
       "      <td>4</td>\n",
       "      <td>3</td>\n",
       "      <td>johnsonamanda</td>\n",
       "      <td>Finally month interesting blue could nature cultural bit. Prepare beat finish grow that smile teach. Dream me play near.</td>\n",
       "    </tr>\n",
       "    <tr>\n",
       "      <th>4</th>\n",
       "      <td>5</td>\n",
       "      <td>3</td>\n",
       "      <td>scotttamara</td>\n",
       "      <td>Nation purpose heavy give wait song will. List dinner another whole positive radio fast. Music staff many green.</td>\n",
       "    </tr>\n",
       "  </tbody>\n",
       "</table>\n",
       "</div>"
      ],
      "text/plain": [
       "   review_id  book_id       username  \\\n",
       "0          1        1   brandtandrea   \n",
       "1          2        1     ryanfranco   \n",
       "2          3        2       lorichen   \n",
       "3          4        3  johnsonamanda   \n",
       "4          5        3    scotttamara   \n",
       "\n",
       "                                                                                                                               text  \n",
       "0                                        Mention society tell send professor analysis. Over provide race technology continue these.  \n",
       "1                                                 Foot glass pretty audience hit themselves. Among admit investment argue security.  \n",
       "2  Listen treat keep worry. Miss husband tax but person sport treatment industry. Kitchen decision deep the. Social party body the.  \n",
       "3          Finally month interesting blue could nature cultural bit. Prepare beat finish grow that smile teach. Dream me play near.  \n",
       "4                  Nation purpose heavy give wait song will. List dinner another whole positive radio fast. Music staff many green.  "
      ]
     },
     "execution_count": 6,
     "metadata": {},
     "output_type": "execute_result"
    }
   ],
   "source": [
    "query = ''' \n",
    "        SELECT *\n",
    "        FROM reviews\n",
    "        LIMIT 5\n",
    "        '''\n",
    "\n",
    "pd.io.sql.read_sql(query, con = engine) "
   ]
  },
  {
   "cell_type": "markdown",
   "metadata": {},
   "source": [
    "<a id='2'></a>\n",
    "## Задания"
   ]
  },
  {
   "cell_type": "markdown",
   "metadata": {},
   "source": [
    "<a id='2.1'></a>\n",
    "### Сколько книг вышло после 1 января 2000 года"
   ]
  },
  {
   "cell_type": "code",
   "execution_count": 7,
   "metadata": {},
   "outputs": [
    {
     "data": {
      "text/html": [
       "<div>\n",
       "<style scoped>\n",
       "    .dataframe tbody tr th:only-of-type {\n",
       "        vertical-align: middle;\n",
       "    }\n",
       "\n",
       "    .dataframe tbody tr th {\n",
       "        vertical-align: top;\n",
       "    }\n",
       "\n",
       "    .dataframe thead th {\n",
       "        text-align: right;\n",
       "    }\n",
       "</style>\n",
       "<table border=\"1\" class=\"dataframe\">\n",
       "  <thead>\n",
       "    <tr style=\"text-align: right;\">\n",
       "      <th></th>\n",
       "      <th>count</th>\n",
       "    </tr>\n",
       "  </thead>\n",
       "  <tbody>\n",
       "    <tr>\n",
       "      <th>0</th>\n",
       "      <td>819</td>\n",
       "    </tr>\n",
       "  </tbody>\n",
       "</table>\n",
       "</div>"
      ],
      "text/plain": [
       "   count\n",
       "0    819"
      ]
     },
     "execution_count": 7,
     "metadata": {},
     "output_type": "execute_result"
    }
   ],
   "source": [
    "query = ''' \n",
    "        SELECT count (DISTINCT book_id)\n",
    "        FROM books\n",
    "        WHERE publication_date >= '2000-01-02'\n",
    "        '''\n",
    "\n",
    "pd.io.sql.read_sql(query, con = engine) "
   ]
  },
  {
   "cell_type": "markdown",
   "metadata": {},
   "source": [
    "<a id='2.2'></a>\n",
    "### Для каждой книги посчитать количество обзоров и среднюю оценку"
   ]
  },
  {
   "cell_type": "code",
   "execution_count": 10,
   "metadata": {},
   "outputs": [
    {
     "data": {
      "text/html": [
       "<div>\n",
       "<style scoped>\n",
       "    .dataframe tbody tr th:only-of-type {\n",
       "        vertical-align: middle;\n",
       "    }\n",
       "\n",
       "    .dataframe tbody tr th {\n",
       "        vertical-align: top;\n",
       "    }\n",
       "\n",
       "    .dataframe thead th {\n",
       "        text-align: right;\n",
       "    }\n",
       "</style>\n",
       "<table border=\"1\" class=\"dataframe\">\n",
       "  <thead>\n",
       "    <tr style=\"text-align: right;\">\n",
       "      <th></th>\n",
       "      <th>title</th>\n",
       "      <th>book_id</th>\n",
       "      <th>review</th>\n",
       "      <th>rating</th>\n",
       "    </tr>\n",
       "  </thead>\n",
       "  <tbody>\n",
       "    <tr>\n",
       "      <th>0</th>\n",
       "      <td>Twilight (Twilight  #1)</td>\n",
       "      <td>948</td>\n",
       "      <td>7</td>\n",
       "      <td>3.662500</td>\n",
       "    </tr>\n",
       "    <tr>\n",
       "      <th>1</th>\n",
       "      <td>The Hobbit  or There and Back Again</td>\n",
       "      <td>750</td>\n",
       "      <td>6</td>\n",
       "      <td>4.125000</td>\n",
       "    </tr>\n",
       "    <tr>\n",
       "      <th>2</th>\n",
       "      <td>The Catcher in the Rye</td>\n",
       "      <td>673</td>\n",
       "      <td>6</td>\n",
       "      <td>3.825581</td>\n",
       "    </tr>\n",
       "    <tr>\n",
       "      <th>3</th>\n",
       "      <td>Harry Potter and the Prisoner of Azkaban (Harry Potter  #3)</td>\n",
       "      <td>302</td>\n",
       "      <td>6</td>\n",
       "      <td>4.414634</td>\n",
       "    </tr>\n",
       "    <tr>\n",
       "      <th>4</th>\n",
       "      <td>Harry Potter and the Chamber of Secrets (Harry Potter  #2)</td>\n",
       "      <td>299</td>\n",
       "      <td>6</td>\n",
       "      <td>4.287500</td>\n",
       "    </tr>\n",
       "    <tr>\n",
       "      <th>...</th>\n",
       "      <td>...</td>\n",
       "      <td>...</td>\n",
       "      <td>...</td>\n",
       "      <td>...</td>\n",
       "    </tr>\n",
       "    <tr>\n",
       "      <th>995</th>\n",
       "      <td>Essential Tales and Poems</td>\n",
       "      <td>221</td>\n",
       "      <td>0</td>\n",
       "      <td>4.000000</td>\n",
       "    </tr>\n",
       "    <tr>\n",
       "      <th>996</th>\n",
       "      <td>Leonardo's Notebooks</td>\n",
       "      <td>387</td>\n",
       "      <td>0</td>\n",
       "      <td>4.000000</td>\n",
       "    </tr>\n",
       "    <tr>\n",
       "      <th>997</th>\n",
       "      <td>The Cat in the Hat and Other Dr. Seuss Favorites</td>\n",
       "      <td>672</td>\n",
       "      <td>0</td>\n",
       "      <td>5.000000</td>\n",
       "    </tr>\n",
       "    <tr>\n",
       "      <th>998</th>\n",
       "      <td>Anne Rice's The Vampire Lestat: A Graphic Novel</td>\n",
       "      <td>83</td>\n",
       "      <td>0</td>\n",
       "      <td>3.666667</td>\n",
       "    </tr>\n",
       "    <tr>\n",
       "      <th>999</th>\n",
       "      <td>The Natural Way to Draw</td>\n",
       "      <td>808</td>\n",
       "      <td>0</td>\n",
       "      <td>3.000000</td>\n",
       "    </tr>\n",
       "  </tbody>\n",
       "</table>\n",
       "<p>1000 rows × 4 columns</p>\n",
       "</div>"
      ],
      "text/plain": [
       "                                                           title  book_id  \\\n",
       "0                                        Twilight (Twilight  #1)      948   \n",
       "1                            The Hobbit  or There and Back Again      750   \n",
       "2                                         The Catcher in the Rye      673   \n",
       "3    Harry Potter and the Prisoner of Azkaban (Harry Potter  #3)      302   \n",
       "4     Harry Potter and the Chamber of Secrets (Harry Potter  #2)      299   \n",
       "..                                                           ...      ...   \n",
       "995                                    Essential Tales and Poems      221   \n",
       "996                                         Leonardo's Notebooks      387   \n",
       "997             The Cat in the Hat and Other Dr. Seuss Favorites      672   \n",
       "998              Anne Rice's The Vampire Lestat: A Graphic Novel       83   \n",
       "999                                      The Natural Way to Draw      808   \n",
       "\n",
       "     review    rating  \n",
       "0         7  3.662500  \n",
       "1         6  4.125000  \n",
       "2         6  3.825581  \n",
       "3         6  4.414634  \n",
       "4         6  4.287500  \n",
       "..      ...       ...  \n",
       "995       0  4.000000  \n",
       "996       0  4.000000  \n",
       "997       0  5.000000  \n",
       "998       0  3.666667  \n",
       "999       0  3.000000  \n",
       "\n",
       "[1000 rows x 4 columns]"
      ]
     },
     "execution_count": 10,
     "metadata": {},
     "output_type": "execute_result"
    }
   ],
   "source": [
    "query = ''' \n",
    "        SELECT b.title,\n",
    "               b.book_id,\n",
    "               count (DISTINCT review_id) AS review,\n",
    "               avg (rating) AS rating \n",
    "        FROM books AS b\n",
    "        LEFT JOIN reviews ON reviews.book_id = b.book_id\n",
    "        LEFT JOIN ratings ON ratings.book_id  = b.book_id\n",
    "        GROUP BY b.book_id\n",
    "        ORDER BY COUNT(reviews) DESC\n",
    "        '''\n",
    "pd.io.sql.read_sql(query, con = engine) "
   ]
  },
  {
   "cell_type": "markdown",
   "metadata": {},
   "source": [
    "<a id='2.3'></a>\n",
    "### Определить издательство, которое выпустило наибольшее число книг толще 50 страниц — так вы исключите из анализа брошюры"
   ]
  },
  {
   "cell_type": "code",
   "execution_count": 11,
   "metadata": {},
   "outputs": [
    {
     "data": {
      "text/html": [
       "<div>\n",
       "<style scoped>\n",
       "    .dataframe tbody tr th:only-of-type {\n",
       "        vertical-align: middle;\n",
       "    }\n",
       "\n",
       "    .dataframe tbody tr th {\n",
       "        vertical-align: top;\n",
       "    }\n",
       "\n",
       "    .dataframe thead th {\n",
       "        text-align: right;\n",
       "    }\n",
       "</style>\n",
       "<table border=\"1\" class=\"dataframe\">\n",
       "  <thead>\n",
       "    <tr style=\"text-align: right;\">\n",
       "      <th></th>\n",
       "      <th>publisher</th>\n",
       "      <th>books</th>\n",
       "    </tr>\n",
       "  </thead>\n",
       "  <tbody>\n",
       "    <tr>\n",
       "      <th>0</th>\n",
       "      <td>Penguin Books</td>\n",
       "      <td>42</td>\n",
       "    </tr>\n",
       "    <tr>\n",
       "      <th>1</th>\n",
       "      <td>Vintage</td>\n",
       "      <td>31</td>\n",
       "    </tr>\n",
       "  </tbody>\n",
       "</table>\n",
       "</div>"
      ],
      "text/plain": [
       "       publisher  books\n",
       "0  Penguin Books     42\n",
       "1        Vintage     31"
      ]
     },
     "execution_count": 11,
     "metadata": {},
     "output_type": "execute_result"
    }
   ],
   "source": [
    "query = ''' \n",
    "        SELECT p.publisher,\n",
    "               count (DISTINCT book_id) AS books\n",
    "        FROM publishers AS p\n",
    "        LEFT JOIN books ON books.publisher_id = p.publisher_id\n",
    "        WHERE num_pages > 50\n",
    "        GROUP BY p.publisher\n",
    "        ORDER BY books DESC\n",
    "        LIMIT 2\n",
    "        '''\n",
    "pd.io.sql.read_sql(query, con = engine) "
   ]
  },
  {
   "cell_type": "markdown",
   "metadata": {},
   "source": [
    "<a id='2.4'></a>\n",
    "### Определить автора с самой высокой средней оценкой книг — учитываем только книги с 50 и более оценками"
   ]
  },
  {
   "cell_type": "code",
   "execution_count": 12,
   "metadata": {},
   "outputs": [
    {
     "data": {
      "text/html": [
       "<div>\n",
       "<style scoped>\n",
       "    .dataframe tbody tr th:only-of-type {\n",
       "        vertical-align: middle;\n",
       "    }\n",
       "\n",
       "    .dataframe tbody tr th {\n",
       "        vertical-align: top;\n",
       "    }\n",
       "\n",
       "    .dataframe thead th {\n",
       "        text-align: right;\n",
       "    }\n",
       "</style>\n",
       "<table border=\"1\" class=\"dataframe\">\n",
       "  <thead>\n",
       "    <tr style=\"text-align: right;\">\n",
       "      <th></th>\n",
       "      <th>author</th>\n",
       "      <th>rating</th>\n",
       "    </tr>\n",
       "  </thead>\n",
       "  <tbody>\n",
       "    <tr>\n",
       "      <th>0</th>\n",
       "      <td>J.K. Rowling/Mary GrandPré</td>\n",
       "      <td>4.283844</td>\n",
       "    </tr>\n",
       "    <tr>\n",
       "      <th>1</th>\n",
       "      <td>Markus Zusak/Cao Xuân Việt Khương</td>\n",
       "      <td>4.264151</td>\n",
       "    </tr>\n",
       "  </tbody>\n",
       "</table>\n",
       "</div>"
      ],
      "text/plain": [
       "                              author    rating\n",
       "0         J.K. Rowling/Mary GrandPré  4.283844\n",
       "1  Markus Zusak/Cao Xuân Việt Khương  4.264151"
      ]
     },
     "execution_count": 12,
     "metadata": {},
     "output_type": "execute_result"
    }
   ],
   "source": [
    "query = ''' \n",
    "        WITH \n",
    "        i as (SELECT author,\n",
    "                     b.book_id,\n",
    "                     AVG(rating) AS rating\n",
    "              FROM authors AS a\n",
    "              LEFT JOIN books AS b ON b.author_id = a.author_id\n",
    "              LEFT JOIN ratings AS r ON r.book_id = b.book_id\n",
    "              GROUP BY author,\n",
    "                       b.book_id\n",
    "              HAVING COUNT(rating) > 50)\n",
    "        SELECT i.author,\n",
    "               AVG(rating) as rating\n",
    "        FROM i\n",
    "        GROUP BY author\n",
    "        ORDER BY rating DESC\n",
    "        LIMIT 2\n",
    "               \n",
    "        ''' \n",
    "\n",
    "pd.io.sql.read_sql(query, con = engine) "
   ]
  },
  {
   "cell_type": "markdown",
   "metadata": {},
   "source": [
    "<a id='2.5'></a>\n",
    "### Cреднее количество обзоров от пользователей, которые поставили больше 50 оценок"
   ]
  },
  {
   "cell_type": "code",
   "execution_count": 13,
   "metadata": {},
   "outputs": [
    {
     "data": {
      "text/html": [
       "<div>\n",
       "<style scoped>\n",
       "    .dataframe tbody tr th:only-of-type {\n",
       "        vertical-align: middle;\n",
       "    }\n",
       "\n",
       "    .dataframe tbody tr th {\n",
       "        vertical-align: top;\n",
       "    }\n",
       "\n",
       "    .dataframe thead th {\n",
       "        text-align: right;\n",
       "    }\n",
       "</style>\n",
       "<table border=\"1\" class=\"dataframe\">\n",
       "  <thead>\n",
       "    <tr style=\"text-align: right;\">\n",
       "      <th></th>\n",
       "      <th>avg_review</th>\n",
       "    </tr>\n",
       "  </thead>\n",
       "  <tbody>\n",
       "    <tr>\n",
       "      <th>0</th>\n",
       "      <td>24.333333</td>\n",
       "    </tr>\n",
       "  </tbody>\n",
       "</table>\n",
       "</div>"
      ],
      "text/plain": [
       "   avg_review\n",
       "0   24.333333"
      ]
     },
     "execution_count": 13,
     "metadata": {},
     "output_type": "execute_result"
    }
   ],
   "source": [
    "query = ''' \n",
    "       WITH \n",
    "       i as (SELECT count (review_id) as review\n",
    "             FROM reviews\n",
    "             WHERE username IN (\n",
    "                                SELECT username\n",
    "                                FROM ratings\n",
    "                                GROUP BY username\n",
    "                                HAVING COUNT(rating_id) > 50)\n",
    "              GROUP BY username)\n",
    "SELECT AVG(review) as avg_review\n",
    "FROM i\n",
    "\n",
    "'''\n",
    "pd.io.sql.read_sql(query, con = engine) "
   ]
  },
  {
   "cell_type": "markdown",
   "metadata": {},
   "source": [
    "<a id='3'></a>\n",
    "## Вывод"
   ]
  },
  {
   "cell_type": "markdown",
   "metadata": {},
   "source": [
    "1. С 1 января 2000 года вышло 819 книг.\n",
    "2. Наибольшее количество обзоров приходится на книгу Twilight (Twilight #1) - их 7, средняя оценка книги 3.66.\n",
    "3. Penguin Books - издательство, которое выпустило самое большое количество книг с количеством странци более 50.\n",
    "4. J.K. Rowling/Mary GrandPré самый популярный автор ( плюс художница к книге) - рейтин 4,28.\n",
    "5. В среднем пользователи, которые ставили больше 50 оценок, публикуют 24 отзыва."
   ]
  }
 ],
 "metadata": {
  "ExecuteTimeLog": [
   {
    "duration": 26,
    "start_time": "2022-05-30T06:19:03.763Z"
   },
   {
    "duration": 985,
    "start_time": "2022-05-30T06:28:41.935Z"
   },
   {
    "duration": 5,
    "start_time": "2022-05-30T06:29:09.293Z"
   },
   {
    "duration": 76,
    "start_time": "2022-05-30T06:30:26.355Z"
   },
   {
    "duration": 41,
    "start_time": "2022-05-30T06:32:06.058Z"
   },
   {
    "duration": 103,
    "start_time": "2022-05-30T06:32:31.801Z"
   },
   {
    "duration": 26,
    "start_time": "2022-05-30T06:32:38.360Z"
   },
   {
    "duration": 19,
    "start_time": "2022-05-30T06:32:46.424Z"
   },
   {
    "duration": 4,
    "start_time": "2022-05-30T06:32:57.059Z"
   },
   {
    "duration": 23,
    "start_time": "2022-05-30T06:32:57.078Z"
   },
   {
    "duration": 268,
    "start_time": "2022-05-30T06:33:23.400Z"
   },
   {
    "duration": 105,
    "start_time": "2022-05-30T06:34:03.770Z"
   },
   {
    "duration": 95,
    "start_time": "2022-05-30T06:35:00.696Z"
   },
   {
    "duration": 86,
    "start_time": "2022-05-30T06:35:02.402Z"
   },
   {
    "duration": 80,
    "start_time": "2022-05-30T06:35:10.297Z"
   },
   {
    "duration": 70,
    "start_time": "2022-05-30T06:35:24.550Z"
   },
   {
    "duration": 120,
    "start_time": "2022-05-30T06:35:46.614Z"
   },
   {
    "duration": 122,
    "start_time": "2022-05-30T06:36:01.910Z"
   },
   {
    "duration": 4,
    "start_time": "2022-05-30T06:37:18.260Z"
   },
   {
    "duration": 342,
    "start_time": "2022-05-30T06:37:18.265Z"
   },
   {
    "duration": 73,
    "start_time": "2022-05-30T06:37:18.609Z"
   },
   {
    "duration": 73,
    "start_time": "2022-05-30T06:37:18.683Z"
   },
   {
    "duration": 102,
    "start_time": "2022-05-30T06:37:18.757Z"
   },
   {
    "duration": 91,
    "start_time": "2022-05-30T06:37:18.861Z"
   },
   {
    "duration": 131,
    "start_time": "2022-05-30T06:46:20.572Z"
   },
   {
    "duration": 71,
    "start_time": "2022-05-30T06:46:39.955Z"
   },
   {
    "duration": 71,
    "start_time": "2022-05-30T06:46:47.244Z"
   },
   {
    "duration": 70,
    "start_time": "2022-05-30T06:46:54.250Z"
   },
   {
    "duration": 115,
    "start_time": "2022-05-30T06:56:49.577Z"
   },
   {
    "duration": 192,
    "start_time": "2022-05-30T07:07:43.735Z"
   },
   {
    "duration": 127,
    "start_time": "2022-05-30T07:09:32.021Z"
   },
   {
    "duration": 106,
    "start_time": "2022-05-30T07:13:29.183Z"
   },
   {
    "duration": 100,
    "start_time": "2022-05-30T07:14:12.392Z"
   },
   {
    "duration": 115,
    "start_time": "2022-05-30T07:16:16.708Z"
   },
   {
    "duration": 114,
    "start_time": "2022-05-30T07:18:34.305Z"
   },
   {
    "duration": 153,
    "start_time": "2022-05-30T07:19:20.698Z"
   },
   {
    "duration": 122,
    "start_time": "2022-05-30T07:19:43.617Z"
   },
   {
    "duration": 110,
    "start_time": "2022-05-30T07:20:40.793Z"
   },
   {
    "duration": 108,
    "start_time": "2022-05-30T07:21:17.760Z"
   },
   {
    "duration": 109,
    "start_time": "2022-05-30T07:21:31.263Z"
   },
   {
    "duration": 114,
    "start_time": "2022-05-30T07:22:21.654Z"
   },
   {
    "duration": 106,
    "start_time": "2022-05-30T07:23:44.732Z"
   },
   {
    "duration": 109,
    "start_time": "2022-05-30T07:23:52.397Z"
   },
   {
    "duration": 105,
    "start_time": "2022-05-30T07:23:55.916Z"
   },
   {
    "duration": 110,
    "start_time": "2022-05-30T07:24:43.516Z"
   },
   {
    "duration": 110,
    "start_time": "2022-05-30T07:26:38.817Z"
   },
   {
    "duration": 117,
    "start_time": "2022-05-30T07:27:02.584Z"
   },
   {
    "duration": 4,
    "start_time": "2022-05-30T07:28:58.607Z"
   },
   {
    "duration": 5,
    "start_time": "2022-05-30T07:29:05.090Z"
   },
   {
    "duration": 241,
    "start_time": "2022-05-30T07:29:05.097Z"
   },
   {
    "duration": 71,
    "start_time": "2022-05-30T07:29:05.339Z"
   },
   {
    "duration": 71,
    "start_time": "2022-05-30T07:29:05.412Z"
   },
   {
    "duration": 71,
    "start_time": "2022-05-30T07:29:05.484Z"
   },
   {
    "duration": 74,
    "start_time": "2022-05-30T07:29:05.557Z"
   },
   {
    "duration": 4,
    "start_time": "2022-05-30T07:29:05.634Z"
   },
   {
    "duration": 82,
    "start_time": "2022-05-30T07:29:05.642Z"
   },
   {
    "duration": 120,
    "start_time": "2022-05-30T07:29:05.726Z"
   },
   {
    "duration": 5,
    "start_time": "2022-05-30T07:29:30.352Z"
   },
   {
    "duration": 265,
    "start_time": "2022-05-30T07:29:30.359Z"
   },
   {
    "duration": 75,
    "start_time": "2022-05-30T07:29:30.626Z"
   },
   {
    "duration": 77,
    "start_time": "2022-05-30T07:29:30.702Z"
   },
   {
    "duration": 77,
    "start_time": "2022-05-30T07:29:30.781Z"
   },
   {
    "duration": 77,
    "start_time": "2022-05-30T07:29:30.860Z"
   },
   {
    "duration": 79,
    "start_time": "2022-05-30T07:29:30.939Z"
   },
   {
    "duration": 77,
    "start_time": "2022-05-30T07:29:31.019Z"
   },
   {
    "duration": 114,
    "start_time": "2022-05-30T07:29:31.098Z"
   },
   {
    "duration": 118,
    "start_time": "2022-05-30T07:30:24.711Z"
   },
   {
    "duration": 116,
    "start_time": "2022-05-30T07:30:43.037Z"
   },
   {
    "duration": 4,
    "start_time": "2022-05-30T07:30:45.352Z"
   },
   {
    "duration": 234,
    "start_time": "2022-05-30T07:30:45.357Z"
   },
   {
    "duration": 68,
    "start_time": "2022-05-30T07:30:45.592Z"
   },
   {
    "duration": 67,
    "start_time": "2022-05-30T07:30:45.661Z"
   },
   {
    "duration": 70,
    "start_time": "2022-05-30T07:30:45.730Z"
   },
   {
    "duration": 70,
    "start_time": "2022-05-30T07:30:45.802Z"
   },
   {
    "duration": 67,
    "start_time": "2022-05-30T07:30:45.873Z"
   },
   {
    "duration": 71,
    "start_time": "2022-05-30T07:30:45.942Z"
   },
   {
    "duration": 114,
    "start_time": "2022-05-30T07:30:46.014Z"
   },
   {
    "duration": 103,
    "start_time": "2022-05-30T07:30:50.973Z"
   },
   {
    "duration": 4,
    "start_time": "2022-05-30T07:30:55.670Z"
   },
   {
    "duration": 256,
    "start_time": "2022-05-30T07:30:55.677Z"
   },
   {
    "duration": 73,
    "start_time": "2022-05-30T07:30:55.935Z"
   },
   {
    "duration": 73,
    "start_time": "2022-05-30T07:30:56.010Z"
   },
   {
    "duration": 73,
    "start_time": "2022-05-30T07:30:56.085Z"
   },
   {
    "duration": 75,
    "start_time": "2022-05-30T07:30:56.160Z"
   },
   {
    "duration": 80,
    "start_time": "2022-05-30T07:30:56.238Z"
   },
   {
    "duration": 72,
    "start_time": "2022-05-30T07:30:56.320Z"
   },
   {
    "duration": 111,
    "start_time": "2022-05-30T07:30:56.394Z"
   },
   {
    "duration": 4,
    "start_time": "2022-05-30T07:31:21.552Z"
   },
   {
    "duration": 253,
    "start_time": "2022-05-30T07:31:21.558Z"
   },
   {
    "duration": 75,
    "start_time": "2022-05-30T07:31:21.813Z"
   },
   {
    "duration": 74,
    "start_time": "2022-05-30T07:31:21.890Z"
   },
   {
    "duration": 76,
    "start_time": "2022-05-30T07:31:21.966Z"
   },
   {
    "duration": 74,
    "start_time": "2022-05-30T07:31:22.044Z"
   },
   {
    "duration": 78,
    "start_time": "2022-05-30T07:31:22.119Z"
   },
   {
    "duration": 74,
    "start_time": "2022-05-30T07:31:22.199Z"
   },
   {
    "duration": 112,
    "start_time": "2022-05-30T07:31:22.275Z"
   },
   {
    "duration": 6,
    "start_time": "2022-05-30T07:31:45.096Z"
   },
   {
    "duration": 270,
    "start_time": "2022-05-30T07:31:45.105Z"
   },
   {
    "duration": 76,
    "start_time": "2022-05-30T07:31:45.376Z"
   },
   {
    "duration": 75,
    "start_time": "2022-05-30T07:31:45.454Z"
   },
   {
    "duration": 76,
    "start_time": "2022-05-30T07:31:45.531Z"
   },
   {
    "duration": 138,
    "start_time": "2022-05-30T07:31:45.609Z"
   },
   {
    "duration": 96,
    "start_time": "2022-05-30T07:31:45.749Z"
   },
   {
    "duration": 76,
    "start_time": "2022-05-30T07:31:45.847Z"
   },
   {
    "duration": 97,
    "start_time": "2022-05-30T07:31:45.925Z"
   },
   {
    "duration": 5,
    "start_time": "2022-05-30T07:32:07.775Z"
   },
   {
    "duration": 260,
    "start_time": "2022-05-30T07:32:07.782Z"
   },
   {
    "duration": 80,
    "start_time": "2022-05-30T07:32:08.044Z"
   },
   {
    "duration": 75,
    "start_time": "2022-05-30T07:32:08.126Z"
   },
   {
    "duration": 77,
    "start_time": "2022-05-30T07:32:08.203Z"
   },
   {
    "duration": 138,
    "start_time": "2022-05-30T07:32:08.281Z"
   },
   {
    "duration": 100,
    "start_time": "2022-05-30T07:32:08.420Z"
   },
   {
    "duration": 75,
    "start_time": "2022-05-30T07:32:08.522Z"
   },
   {
    "duration": 94,
    "start_time": "2022-05-30T07:32:08.598Z"
   },
   {
    "duration": 122,
    "start_time": "2022-05-30T07:32:32.548Z"
   },
   {
    "duration": 5,
    "start_time": "2022-05-30T07:32:34.883Z"
   },
   {
    "duration": 243,
    "start_time": "2022-05-30T07:32:34.890Z"
   },
   {
    "duration": 67,
    "start_time": "2022-05-30T07:32:35.135Z"
   },
   {
    "duration": 67,
    "start_time": "2022-05-30T07:32:35.203Z"
   },
   {
    "duration": 67,
    "start_time": "2022-05-30T07:32:35.272Z"
   },
   {
    "duration": 123,
    "start_time": "2022-05-30T07:32:35.340Z"
   },
   {
    "duration": 88,
    "start_time": "2022-05-30T07:32:35.464Z"
   },
   {
    "duration": 67,
    "start_time": "2022-05-30T07:32:35.554Z"
   },
   {
    "duration": 82,
    "start_time": "2022-05-30T07:32:35.623Z"
   },
   {
    "duration": 6,
    "start_time": "2022-05-30T07:33:24.974Z"
   },
   {
    "duration": 253,
    "start_time": "2022-05-30T07:33:24.982Z"
   },
   {
    "duration": 69,
    "start_time": "2022-05-30T07:33:25.236Z"
   },
   {
    "duration": 70,
    "start_time": "2022-05-30T07:33:25.307Z"
   },
   {
    "duration": 71,
    "start_time": "2022-05-30T07:33:25.378Z"
   },
   {
    "duration": 128,
    "start_time": "2022-05-30T07:33:25.451Z"
   },
   {
    "duration": 92,
    "start_time": "2022-05-30T07:33:25.580Z"
   },
   {
    "duration": 69,
    "start_time": "2022-05-30T07:33:25.674Z"
   },
   {
    "duration": 88,
    "start_time": "2022-05-30T07:33:25.744Z"
   },
   {
    "duration": 124,
    "start_time": "2022-05-30T07:33:54.106Z"
   },
   {
    "duration": 100,
    "start_time": "2022-05-30T07:34:38.377Z"
   },
   {
    "duration": 71,
    "start_time": "2022-05-30T07:34:53.233Z"
   },
   {
    "duration": 4,
    "start_time": "2022-05-30T07:34:58.780Z"
   },
   {
    "duration": 248,
    "start_time": "2022-05-30T07:34:58.786Z"
   },
   {
    "duration": 73,
    "start_time": "2022-05-30T07:34:59.036Z"
   },
   {
    "duration": 72,
    "start_time": "2022-05-30T07:34:59.110Z"
   },
   {
    "duration": 73,
    "start_time": "2022-05-30T07:34:59.184Z"
   },
   {
    "duration": 74,
    "start_time": "2022-05-30T07:34:59.259Z"
   },
   {
    "duration": 74,
    "start_time": "2022-05-30T07:34:59.334Z"
   },
   {
    "duration": 103,
    "start_time": "2022-05-30T07:34:59.410Z"
   },
   {
    "duration": 88,
    "start_time": "2022-05-30T07:36:32.776Z"
   },
   {
    "duration": 102,
    "start_time": "2022-05-30T07:38:35.292Z"
   },
   {
    "duration": 116,
    "start_time": "2022-05-30T07:38:59.790Z"
   },
   {
    "duration": 101,
    "start_time": "2022-05-30T07:39:20.340Z"
   },
   {
    "duration": 103,
    "start_time": "2022-05-30T07:39:25.756Z"
   },
   {
    "duration": 114,
    "start_time": "2022-05-30T08:11:30.447Z"
   },
   {
    "duration": 101,
    "start_time": "2022-05-30T08:11:38.125Z"
   },
   {
    "duration": 102,
    "start_time": "2022-05-30T08:11:45.430Z"
   },
   {
    "duration": 106,
    "start_time": "2022-05-30T08:12:20.525Z"
   },
   {
    "duration": 127,
    "start_time": "2022-05-30T08:12:26.429Z"
   },
   {
    "duration": 107,
    "start_time": "2022-05-30T08:13:12.900Z"
   },
   {
    "duration": 108,
    "start_time": "2022-05-30T08:13:27.884Z"
   },
   {
    "duration": 76,
    "start_time": "2022-05-30T08:14:04.363Z"
   },
   {
    "duration": 82,
    "start_time": "2022-05-30T08:14:32.541Z"
   },
   {
    "duration": 45,
    "start_time": "2022-05-30T09:15:31.683Z"
   },
   {
    "duration": 112,
    "start_time": "2022-05-30T09:15:40.044Z"
   },
   {
    "duration": 111,
    "start_time": "2022-05-30T09:16:38.892Z"
   },
   {
    "duration": 118,
    "start_time": "2022-05-30T09:16:53.324Z"
   },
   {
    "duration": 104,
    "start_time": "2022-05-30T09:16:58.275Z"
   },
   {
    "duration": 133,
    "start_time": "2022-05-30T09:17:16.812Z"
   },
   {
    "duration": 106,
    "start_time": "2022-05-30T09:17:34.635Z"
   },
   {
    "duration": 161,
    "start_time": "2022-05-30T09:17:42.507Z"
   },
   {
    "duration": 114,
    "start_time": "2022-05-30T09:17:54.994Z"
   },
   {
    "duration": 109,
    "start_time": "2022-05-30T09:18:05.206Z"
   },
   {
    "duration": 104,
    "start_time": "2022-05-30T09:18:41.777Z"
   },
   {
    "duration": 104,
    "start_time": "2022-05-30T09:19:04.209Z"
   },
   {
    "duration": 141,
    "start_time": "2022-05-30T09:19:45.619Z"
   },
   {
    "duration": 193,
    "start_time": "2022-05-30T09:20:03.009Z"
   },
   {
    "duration": 122,
    "start_time": "2022-05-30T09:20:12.742Z"
   },
   {
    "duration": 167,
    "start_time": "2022-05-30T09:20:32.636Z"
   },
   {
    "duration": 105,
    "start_time": "2022-05-30T09:20:37.256Z"
   },
   {
    "duration": 113,
    "start_time": "2022-05-30T09:22:54.959Z"
   },
   {
    "duration": 109,
    "start_time": "2022-05-30T09:23:06.869Z"
   },
   {
    "duration": 115,
    "start_time": "2022-05-30T09:23:27.936Z"
   },
   {
    "duration": 125,
    "start_time": "2022-05-30T09:24:41.439Z"
   },
   {
    "duration": 132,
    "start_time": "2022-05-30T09:24:51.163Z"
   },
   {
    "duration": 118,
    "start_time": "2022-05-30T09:25:20.307Z"
   },
   {
    "duration": 118,
    "start_time": "2022-05-30T09:25:28.542Z"
   },
   {
    "duration": 97,
    "start_time": "2022-05-30T09:25:35.065Z"
   },
   {
    "duration": 120,
    "start_time": "2022-05-30T09:25:53.881Z"
   },
   {
    "duration": 161,
    "start_time": "2022-05-30T09:26:47.088Z"
   },
   {
    "duration": 93,
    "start_time": "2022-05-30T09:27:30.558Z"
   },
   {
    "duration": 78,
    "start_time": "2022-05-30T09:27:46.695Z"
   },
   {
    "duration": 96,
    "start_time": "2022-05-30T09:27:55.558Z"
   },
   {
    "duration": 144,
    "start_time": "2022-05-30T09:28:10.216Z"
   },
   {
    "duration": 152,
    "start_time": "2022-05-30T09:28:30.198Z"
   },
   {
    "duration": 134,
    "start_time": "2022-05-30T09:28:37.662Z"
   },
   {
    "duration": 106,
    "start_time": "2022-05-30T09:28:47.658Z"
   },
   {
    "duration": 98,
    "start_time": "2022-05-30T09:28:58.638Z"
   },
   {
    "duration": 120,
    "start_time": "2022-05-30T09:29:34.100Z"
   },
   {
    "duration": 98,
    "start_time": "2022-05-30T09:29:41.657Z"
   },
   {
    "duration": 109,
    "start_time": "2022-05-30T09:30:13.848Z"
   },
   {
    "duration": 102,
    "start_time": "2022-05-30T09:30:51.859Z"
   },
   {
    "duration": 151,
    "start_time": "2022-05-30T09:31:05.104Z"
   },
   {
    "duration": 102,
    "start_time": "2022-05-30T09:31:56.865Z"
   },
   {
    "duration": 92,
    "start_time": "2022-05-30T09:32:05.497Z"
   },
   {
    "duration": 95,
    "start_time": "2022-05-30T09:32:15.480Z"
   },
   {
    "duration": 89,
    "start_time": "2022-05-30T09:32:25.616Z"
   },
   {
    "duration": 105,
    "start_time": "2022-05-30T09:33:10.678Z"
   },
   {
    "duration": 75,
    "start_time": "2022-05-30T09:34:22.744Z"
   },
   {
    "duration": 81,
    "start_time": "2022-05-30T09:34:40.862Z"
   },
   {
    "duration": 88,
    "start_time": "2022-05-30T09:34:46.465Z"
   },
   {
    "duration": 81,
    "start_time": "2022-05-30T09:34:53.454Z"
   },
   {
    "duration": 80,
    "start_time": "2022-05-30T09:35:29.181Z"
   },
   {
    "duration": 77,
    "start_time": "2022-05-30T09:35:38.150Z"
   },
   {
    "duration": 82,
    "start_time": "2022-05-30T09:35:41.759Z"
   },
   {
    "duration": 152,
    "start_time": "2022-05-30T09:59:19.762Z"
   },
   {
    "duration": 1940,
    "start_time": "2022-05-30T09:59:24.810Z"
   },
   {
    "duration": 76,
    "start_time": "2022-05-30T10:00:43.944Z"
   },
   {
    "duration": 129,
    "start_time": "2022-05-30T10:06:45.909Z"
   },
   {
    "duration": 138,
    "start_time": "2022-05-30T10:06:51.184Z"
   },
   {
    "duration": 91,
    "start_time": "2022-05-30T10:07:28.064Z"
   },
   {
    "duration": 183,
    "start_time": "2022-05-30T10:10:02.909Z"
   },
   {
    "duration": 78,
    "start_time": "2022-05-30T10:10:30.748Z"
   },
   {
    "duration": 93,
    "start_time": "2022-05-30T10:14:20.799Z"
   },
   {
    "duration": 97,
    "start_time": "2022-05-30T10:15:00.824Z"
   },
   {
    "duration": 79,
    "start_time": "2022-05-30T10:15:19.236Z"
   },
   {
    "duration": 87,
    "start_time": "2022-05-30T10:16:16.478Z"
   },
   {
    "duration": 84,
    "start_time": "2022-05-30T10:16:21.033Z"
   },
   {
    "duration": 8,
    "start_time": "2022-05-30T10:18:15.802Z"
   },
   {
    "duration": 92,
    "start_time": "2022-05-30T10:18:21.795Z"
   },
   {
    "duration": 90,
    "start_time": "2022-05-30T10:18:58.385Z"
   },
   {
    "duration": 87,
    "start_time": "2022-05-30T10:19:03.258Z"
   },
   {
    "duration": 87,
    "start_time": "2022-05-30T10:19:35.202Z"
   },
   {
    "duration": 76,
    "start_time": "2022-05-30T10:20:27.648Z"
   },
   {
    "duration": 130,
    "start_time": "2022-05-30T10:21:36.451Z"
   },
   {
    "duration": 123,
    "start_time": "2022-05-30T10:22:12.863Z"
   },
   {
    "duration": 124,
    "start_time": "2022-05-30T10:22:27.382Z"
   },
   {
    "duration": 119,
    "start_time": "2022-05-30T10:22:32.151Z"
   },
   {
    "duration": 118,
    "start_time": "2022-05-30T10:22:53.390Z"
   },
   {
    "duration": 80,
    "start_time": "2022-05-30T10:23:17.263Z"
   },
   {
    "duration": 78,
    "start_time": "2022-05-30T10:23:39.421Z"
   },
   {
    "duration": 81,
    "start_time": "2022-05-30T10:24:10.508Z"
   },
   {
    "duration": 110,
    "start_time": "2022-05-30T10:24:38.076Z"
   },
   {
    "duration": 101,
    "start_time": "2022-05-30T10:24:49.388Z"
   },
   {
    "duration": 232,
    "start_time": "2022-05-30T10:25:03.076Z"
   },
   {
    "duration": 116,
    "start_time": "2022-05-30T10:25:23.859Z"
   },
   {
    "duration": 88,
    "start_time": "2022-05-30T10:25:26.467Z"
   },
   {
    "duration": 76,
    "start_time": "2022-05-30T10:25:56.851Z"
   },
   {
    "duration": 4,
    "start_time": "2022-05-30T10:26:03.796Z"
   },
   {
    "duration": 291,
    "start_time": "2022-05-30T10:26:03.802Z"
   },
   {
    "duration": 77,
    "start_time": "2022-05-30T10:26:04.095Z"
   },
   {
    "duration": 88,
    "start_time": "2022-05-30T10:26:04.174Z"
   },
   {
    "duration": 74,
    "start_time": "2022-05-30T10:26:04.264Z"
   },
   {
    "duration": 72,
    "start_time": "2022-05-30T10:26:04.341Z"
   },
   {
    "duration": 86,
    "start_time": "2022-05-30T10:26:04.414Z"
   },
   {
    "duration": 164,
    "start_time": "2022-05-30T10:26:04.502Z"
   },
   {
    "duration": 98,
    "start_time": "2022-05-30T10:26:04.668Z"
   },
   {
    "duration": 93,
    "start_time": "2022-05-30T10:26:04.767Z"
   },
   {
    "duration": 86,
    "start_time": "2022-05-30T10:26:04.862Z"
   },
   {
    "duration": 78,
    "start_time": "2022-05-30T10:31:29.116Z"
   },
   {
    "duration": 94,
    "start_time": "2022-05-30T10:32:19.594Z"
   },
   {
    "duration": 70,
    "start_time": "2022-05-30T10:32:30.150Z"
   },
   {
    "duration": 96,
    "start_time": "2022-05-30T10:32:36.602Z"
   },
   {
    "duration": 77,
    "start_time": "2022-05-30T10:33:07.749Z"
   },
   {
    "duration": 79,
    "start_time": "2022-05-30T10:33:13.480Z"
   },
   {
    "duration": 513,
    "start_time": "2022-05-30T10:34:33.086Z"
   },
   {
    "duration": 280,
    "start_time": "2022-05-30T10:34:33.601Z"
   },
   {
    "duration": 88,
    "start_time": "2022-05-30T10:34:33.883Z"
   },
   {
    "duration": 85,
    "start_time": "2022-05-30T10:34:33.974Z"
   },
   {
    "duration": 72,
    "start_time": "2022-05-30T10:34:34.061Z"
   },
   {
    "duration": 78,
    "start_time": "2022-05-30T10:34:34.135Z"
   },
   {
    "duration": 87,
    "start_time": "2022-05-30T10:34:34.214Z"
   },
   {
    "duration": 155,
    "start_time": "2022-05-30T10:34:34.303Z"
   },
   {
    "duration": 80,
    "start_time": "2022-05-30T10:34:34.459Z"
   },
   {
    "duration": 74,
    "start_time": "2022-05-30T10:34:34.543Z"
   },
   {
    "duration": 84,
    "start_time": "2022-05-30T10:34:34.619Z"
   },
   {
    "duration": 5,
    "start_time": "2022-05-30T10:34:50.868Z"
   },
   {
    "duration": 392,
    "start_time": "2022-05-30T10:34:50.875Z"
   },
   {
    "duration": 78,
    "start_time": "2022-05-30T10:34:51.268Z"
   },
   {
    "duration": 70,
    "start_time": "2022-05-30T10:34:51.348Z"
   },
   {
    "duration": 83,
    "start_time": "2022-05-30T10:34:51.420Z"
   },
   {
    "duration": 81,
    "start_time": "2022-05-30T10:34:51.505Z"
   },
   {
    "duration": 82,
    "start_time": "2022-05-30T10:34:51.587Z"
   },
   {
    "duration": 127,
    "start_time": "2022-05-30T10:34:51.671Z"
   },
   {
    "duration": 83,
    "start_time": "2022-05-30T10:34:51.800Z"
   },
   {
    "duration": 93,
    "start_time": "2022-05-30T10:34:51.885Z"
   },
   {
    "duration": 76,
    "start_time": "2022-05-30T10:34:51.979Z"
   },
   {
    "duration": 568,
    "start_time": "2022-05-30T10:35:13.553Z"
   },
   {
    "duration": 309,
    "start_time": "2022-05-30T10:35:14.127Z"
   },
   {
    "duration": 73,
    "start_time": "2022-05-30T10:35:14.446Z"
   },
   {
    "duration": 83,
    "start_time": "2022-05-30T10:35:14.521Z"
   },
   {
    "duration": 86,
    "start_time": "2022-05-30T10:35:14.607Z"
   },
   {
    "duration": 84,
    "start_time": "2022-05-30T10:35:14.694Z"
   },
   {
    "duration": 93,
    "start_time": "2022-05-30T10:35:14.779Z"
   },
   {
    "duration": 161,
    "start_time": "2022-05-30T10:35:14.874Z"
   },
   {
    "duration": 80,
    "start_time": "2022-05-30T10:35:15.037Z"
   },
   {
    "duration": 97,
    "start_time": "2022-05-30T10:35:15.118Z"
   },
   {
    "duration": 104,
    "start_time": "2022-05-30T10:35:15.217Z"
   },
   {
    "duration": 547,
    "start_time": "2022-05-30T21:38:32.670Z"
   },
   {
    "duration": 256,
    "start_time": "2022-05-30T21:38:33.219Z"
   },
   {
    "duration": 68,
    "start_time": "2022-05-30T21:38:33.476Z"
   },
   {
    "duration": 70,
    "start_time": "2022-05-30T21:38:33.545Z"
   },
   {
    "duration": 71,
    "start_time": "2022-05-30T21:38:33.618Z"
   },
   {
    "duration": 69,
    "start_time": "2022-05-30T21:38:33.691Z"
   },
   {
    "duration": 68,
    "start_time": "2022-05-30T21:38:33.762Z"
   },
   {
    "duration": 123,
    "start_time": "2022-05-30T21:38:33.832Z"
   },
   {
    "duration": 69,
    "start_time": "2022-05-30T21:38:33.956Z"
   },
   {
    "duration": 73,
    "start_time": "2022-05-30T21:38:34.027Z"
   },
   {
    "duration": 69,
    "start_time": "2022-05-30T21:38:34.102Z"
   },
   {
    "duration": 74,
    "start_time": "2022-05-30T21:39:16.860Z"
   },
   {
    "duration": 74,
    "start_time": "2022-05-30T21:39:20.729Z"
   },
   {
    "duration": 3804,
    "start_time": "2022-05-30T22:05:01.062Z"
   },
   {
    "duration": 272,
    "start_time": "2022-05-30T22:05:04.868Z"
   },
   {
    "duration": 71,
    "start_time": "2022-05-30T22:05:05.142Z"
   },
   {
    "duration": 71,
    "start_time": "2022-05-30T22:05:05.215Z"
   },
   {
    "duration": 74,
    "start_time": "2022-05-30T22:05:05.288Z"
   },
   {
    "duration": 68,
    "start_time": "2022-05-30T22:05:05.365Z"
   },
   {
    "duration": 68,
    "start_time": "2022-05-30T22:05:05.435Z"
   },
   {
    "duration": 106,
    "start_time": "2022-05-30T22:05:05.504Z"
   },
   {
    "duration": 76,
    "start_time": "2022-05-30T22:05:05.612Z"
   },
   {
    "duration": 76,
    "start_time": "2022-05-30T22:05:05.690Z"
   },
   {
    "duration": 70,
    "start_time": "2022-05-30T22:05:05.768Z"
   },
   {
    "duration": 111,
    "start_time": "2022-05-30T22:06:56.768Z"
   },
   {
    "duration": 122,
    "start_time": "2022-05-30T22:07:00.778Z"
   },
   {
    "duration": 189,
    "start_time": "2022-05-30T22:07:26.616Z"
   },
   {
    "duration": 116,
    "start_time": "2022-05-30T22:07:39.112Z"
   },
   {
    "duration": 4,
    "start_time": "2022-05-30T22:07:42.410Z"
   },
   {
    "duration": 222,
    "start_time": "2022-05-30T22:07:42.416Z"
   },
   {
    "duration": 68,
    "start_time": "2022-05-30T22:07:42.640Z"
   },
   {
    "duration": 72,
    "start_time": "2022-05-30T22:07:42.710Z"
   },
   {
    "duration": 70,
    "start_time": "2022-05-30T22:07:42.784Z"
   },
   {
    "duration": 70,
    "start_time": "2022-05-30T22:07:42.856Z"
   },
   {
    "duration": 82,
    "start_time": "2022-05-30T22:07:42.928Z"
   },
   {
    "duration": 123,
    "start_time": "2022-05-30T22:07:43.012Z"
   },
   {
    "duration": 67,
    "start_time": "2022-05-30T22:07:43.137Z"
   },
   {
    "duration": 78,
    "start_time": "2022-05-30T22:07:43.206Z"
   },
   {
    "duration": 68,
    "start_time": "2022-05-30T22:07:43.286Z"
   },
   {
    "duration": 104,
    "start_time": "2022-05-30T22:08:14.734Z"
   },
   {
    "duration": 72,
    "start_time": "2022-05-30T22:08:20.702Z"
   },
   {
    "duration": 114,
    "start_time": "2022-05-30T22:08:42.973Z"
   },
   {
    "duration": 67,
    "start_time": "2022-05-30T22:08:46.613Z"
   },
   {
    "duration": 109,
    "start_time": "2022-05-30T22:09:31.805Z"
   },
   {
    "duration": 120,
    "start_time": "2022-05-30T22:09:34.501Z"
   },
   {
    "duration": 99,
    "start_time": "2022-05-30T22:09:43.917Z"
   },
   {
    "duration": 367,
    "start_time": "2022-05-30T22:09:50.518Z"
   },
   {
    "duration": 121,
    "start_time": "2022-05-30T22:10:00.421Z"
   },
   {
    "duration": 162,
    "start_time": "2022-05-30T22:10:28.037Z"
   },
   {
    "duration": 68,
    "start_time": "2022-05-30T22:10:38.099Z"
   },
   {
    "duration": 66,
    "start_time": "2022-05-30T22:12:24.875Z"
   },
   {
    "duration": 103,
    "start_time": "2022-05-30T22:12:39.906Z"
   },
   {
    "duration": 159,
    "start_time": "2022-05-30T22:12:49.882Z"
   },
   {
    "duration": 103,
    "start_time": "2022-05-30T22:13:04.697Z"
   },
   {
    "duration": 117,
    "start_time": "2022-05-30T22:13:20.617Z"
   },
   {
    "duration": 107,
    "start_time": "2022-05-30T22:14:42.304Z"
   },
   {
    "duration": 78,
    "start_time": "2022-05-30T22:14:51.832Z"
   },
   {
    "duration": 100,
    "start_time": "2022-05-30T22:15:14.479Z"
   },
   {
    "duration": 77,
    "start_time": "2022-05-30T22:15:45.975Z"
   },
   {
    "duration": 108,
    "start_time": "2022-05-30T22:17:01.566Z"
   },
   {
    "duration": 101,
    "start_time": "2022-05-30T22:17:10.508Z"
   },
   {
    "duration": 73,
    "start_time": "2022-05-30T22:17:15.308Z"
   },
   {
    "duration": 81,
    "start_time": "2022-05-30T22:17:19.133Z"
   },
   {
    "duration": 77,
    "start_time": "2022-05-30T22:18:05.581Z"
   },
   {
    "duration": 75,
    "start_time": "2022-05-30T22:18:13.612Z"
   },
   {
    "duration": 76,
    "start_time": "2022-05-30T22:18:15.468Z"
   },
   {
    "duration": 72,
    "start_time": "2022-05-30T22:18:20.500Z"
   },
   {
    "duration": 76,
    "start_time": "2022-05-30T22:18:23.260Z"
   },
   {
    "duration": 78,
    "start_time": "2022-05-30T22:18:28.331Z"
   },
   {
    "duration": 85,
    "start_time": "2022-05-30T22:18:31.139Z"
   },
   {
    "duration": 90,
    "start_time": "2022-05-30T22:20:04.434Z"
   },
   {
    "duration": 90,
    "start_time": "2022-05-30T22:20:13.699Z"
   },
   {
    "duration": 81,
    "start_time": "2022-05-30T22:21:38.497Z"
   },
   {
    "duration": 76,
    "start_time": "2022-05-30T22:21:42.263Z"
   },
   {
    "duration": 79,
    "start_time": "2022-05-30T22:21:52.976Z"
   },
   {
    "duration": 151,
    "start_time": "2022-05-30T22:22:31.104Z"
   },
   {
    "duration": 84,
    "start_time": "2022-05-30T22:22:41.992Z"
   },
   {
    "duration": 98,
    "start_time": "2022-05-30T22:23:31.895Z"
   },
   {
    "duration": 86,
    "start_time": "2022-05-30T22:24:30.913Z"
   },
   {
    "duration": 86,
    "start_time": "2022-05-30T22:24:36.560Z"
   },
   {
    "duration": 83,
    "start_time": "2022-05-30T22:24:44.383Z"
   },
   {
    "duration": 77,
    "start_time": "2022-05-30T22:24:52.751Z"
   },
   {
    "duration": 146,
    "start_time": "2022-05-30T22:25:29.974Z"
   },
   {
    "duration": 89,
    "start_time": "2022-05-30T22:25:37.094Z"
   },
   {
    "duration": 96,
    "start_time": "2022-05-30T22:25:39.799Z"
   },
   {
    "duration": 224,
    "start_time": "2022-05-30T22:26:36.934Z"
   },
   {
    "duration": 150,
    "start_time": "2022-05-30T22:26:40.837Z"
   },
   {
    "duration": 99,
    "start_time": "2022-05-30T22:26:54.749Z"
   },
   {
    "duration": 92,
    "start_time": "2022-05-30T22:27:07.375Z"
   },
   {
    "duration": 102,
    "start_time": "2022-05-30T22:27:51.762Z"
   },
   {
    "duration": 92,
    "start_time": "2022-05-30T22:30:35.723Z"
   },
   {
    "duration": 115,
    "start_time": "2022-05-30T22:30:45.668Z"
   },
   {
    "duration": 98,
    "start_time": "2022-05-30T22:51:32.464Z"
   },
   {
    "duration": 98,
    "start_time": "2022-05-30T22:54:41.470Z"
   },
   {
    "duration": 26,
    "start_time": "2022-05-30T22:55:11.502Z"
   },
   {
    "duration": 95,
    "start_time": "2022-05-30T22:55:14.181Z"
   },
   {
    "duration": 96,
    "start_time": "2022-05-30T22:55:31.021Z"
   },
   {
    "duration": 105,
    "start_time": "2022-05-30T22:55:37.870Z"
   },
   {
    "duration": 99,
    "start_time": "2022-05-30T22:57:02.564Z"
   },
   {
    "duration": 102,
    "start_time": "2022-05-30T22:57:11.906Z"
   },
   {
    "duration": 113,
    "start_time": "2022-05-30T22:57:28.650Z"
   },
   {
    "duration": 94,
    "start_time": "2022-05-30T22:57:53.211Z"
   },
   {
    "duration": 21,
    "start_time": "2022-05-30T22:58:07.689Z"
   },
   {
    "duration": 22,
    "start_time": "2022-05-30T22:58:20.218Z"
   },
   {
    "duration": 102,
    "start_time": "2022-05-30T22:58:33.224Z"
   },
   {
    "duration": 91,
    "start_time": "2022-05-30T22:58:43.425Z"
   },
   {
    "duration": 98,
    "start_time": "2022-05-30T22:58:51.912Z"
   },
   {
    "duration": 99,
    "start_time": "2022-05-30T22:59:02.321Z"
   },
   {
    "duration": 92,
    "start_time": "2022-05-30T22:59:10.152Z"
   },
   {
    "duration": 100,
    "start_time": "2022-05-30T22:59:38.503Z"
   },
   {
    "duration": 97,
    "start_time": "2022-05-30T22:59:44.913Z"
   },
   {
    "duration": 105,
    "start_time": "2022-05-30T22:59:49.103Z"
   },
   {
    "duration": 101,
    "start_time": "2022-05-30T23:01:12.720Z"
   },
   {
    "duration": 105,
    "start_time": "2022-05-30T23:01:17.981Z"
   },
   {
    "duration": 101,
    "start_time": "2022-05-30T23:01:30.382Z"
   },
   {
    "duration": 104,
    "start_time": "2022-05-30T23:01:44.589Z"
   },
   {
    "duration": 103,
    "start_time": "2022-05-30T23:02:12.828Z"
   },
   {
    "duration": 102,
    "start_time": "2022-05-30T23:03:04.780Z"
   },
   {
    "duration": 103,
    "start_time": "2022-05-30T23:03:14.556Z"
   },
   {
    "duration": 104,
    "start_time": "2022-05-30T23:03:43.236Z"
   },
   {
    "duration": 97,
    "start_time": "2022-05-30T23:03:46.571Z"
   },
   {
    "duration": 98,
    "start_time": "2022-05-30T23:08:46.079Z"
   },
   {
    "duration": 97,
    "start_time": "2022-05-30T23:09:40.413Z"
   },
   {
    "duration": 101,
    "start_time": "2022-05-30T23:09:47.597Z"
   },
   {
    "duration": 100,
    "start_time": "2022-05-30T23:09:57.644Z"
   },
   {
    "duration": 5,
    "start_time": "2022-05-30T23:10:41.727Z"
   },
   {
    "duration": 236,
    "start_time": "2022-05-30T23:10:41.734Z"
   },
   {
    "duration": 63,
    "start_time": "2022-05-30T23:10:41.971Z"
   },
   {
    "duration": 63,
    "start_time": "2022-05-30T23:10:42.036Z"
   },
   {
    "duration": 64,
    "start_time": "2022-05-30T23:10:42.100Z"
   },
   {
    "duration": 64,
    "start_time": "2022-05-30T23:10:42.165Z"
   },
   {
    "duration": 63,
    "start_time": "2022-05-30T23:10:42.230Z"
   },
   {
    "duration": 97,
    "start_time": "2022-05-30T23:10:42.294Z"
   },
   {
    "duration": 75,
    "start_time": "2022-05-30T23:10:42.393Z"
   },
   {
    "duration": 80,
    "start_time": "2022-05-30T23:10:42.470Z"
   },
   {
    "duration": 66,
    "start_time": "2022-05-30T23:10:42.552Z"
   },
   {
    "duration": 67,
    "start_time": "2022-05-30T23:10:42.620Z"
   },
   {
    "duration": 66,
    "start_time": "2022-05-30T23:10:42.689Z"
   },
   {
    "duration": 508,
    "start_time": "2022-05-30T23:13:04.070Z"
   },
   {
    "duration": 243,
    "start_time": "2022-05-30T23:13:04.580Z"
   },
   {
    "duration": 69,
    "start_time": "2022-05-30T23:13:04.824Z"
   },
   {
    "duration": 64,
    "start_time": "2022-05-30T23:13:04.896Z"
   },
   {
    "duration": 75,
    "start_time": "2022-05-30T23:13:04.961Z"
   },
   {
    "duration": 65,
    "start_time": "2022-05-30T23:13:05.037Z"
   },
   {
    "duration": 63,
    "start_time": "2022-05-30T23:13:05.103Z"
   },
   {
    "duration": 99,
    "start_time": "2022-05-30T23:13:05.168Z"
   },
   {
    "duration": 80,
    "start_time": "2022-05-30T23:13:05.269Z"
   },
   {
    "duration": 80,
    "start_time": "2022-05-30T23:13:05.351Z"
   },
   {
    "duration": 64,
    "start_time": "2022-05-30T23:13:05.432Z"
   },
   {
    "duration": 68,
    "start_time": "2022-05-30T23:13:05.498Z"
   },
   {
    "duration": 66,
    "start_time": "2022-05-30T23:13:05.568Z"
   }
  ],
  "kernelspec": {
   "display_name": "Python 3 (ipykernel)",
   "language": "python",
   "name": "python3"
  },
  "language_info": {
   "codemirror_mode": {
    "name": "ipython",
    "version": 3
   },
   "file_extension": ".py",
   "mimetype": "text/x-python",
   "name": "python",
   "nbconvert_exporter": "python",
   "pygments_lexer": "ipython3",
   "version": "3.9.7"
  },
  "toc": {
   "base_numbering": 1,
   "nav_menu": {},
   "number_sections": false,
   "sideBar": true,
   "skip_h1_title": true,
   "title_cell": "Table of Contents",
   "title_sidebar": "Contents",
   "toc_cell": false,
   "toc_position": {},
   "toc_section_display": true,
   "toc_window_display": true
  }
 },
 "nbformat": 4,
 "nbformat_minor": 2
}
