{
 "cells": [
  {
   "cell_type": "markdown",
   "metadata": {},
   "source": [
    "# Исследование и анализ рекламных источников для мобильной игры «Космические братья»"
   ]
  },
  {
   "cell_type": "markdown",
   "metadata": {},
   "source": [
    "Мы аналитики команды игры \"Космические братья\", в ней пользователи строят свою космическую программу и пытаются преуспеть в нелёгком деле колонизации галактики.. Наша игра уже пользуется досточно большой популярностью и пора задуматься о монетизации. Чем мы и займемся.\n",
    "\n",
    "**Цель исследования** - провести анализ рекламных источников и определить какой источник приводит наиболее потенциально \"прибыльных\" пользователей.\n",
    "\n",
    "Реклама в нашем приложении будет показываться на экране выбора здании при постройке, исходя из этого нам надо определить: пользователи из каких источников в данной ситуации наиболее предпочтительней для нашей монетизации. Либо в процессе исследования найти более подходящий способ монетизации ( вдруг ПВП-режим окажется наиболее популярным у игроков, и рекламу  стоит показывать перед началом боя между игроками, ну или игроком и мобами ( не уточняется кто с кем будет биться).\n",
    "\n",
    "Для достижения поставленной задачи нам необходимо будет решить следующие задачи:\n",
    "\n",
    "1. Провести исследовательский анализ данных;\n",
    "2. Проанализировать влияние источника перехода в игру на поведение пользователя;\n",
    "3. Определить пользователей, которые строят больше всего зданий ( для монетизации самое главное);\n",
    "4. Проверим статистические гипотезы\n",
    "   * Проверим гипотезу: время завершения уровня различается в зависимости способа прохождения:\n",
    "        - *через реализацию проекта,*\n",
    "        - *через победу над первым игроком.*\n",
    "   * Проверим гипотезу: тип победы не отличается между пользвателями, пришедшими с двух разных источников ( рассмотрим пользователей с двух самых популярных каналов) ( я правда пока смутно представляю как это будет реализовываться):\n",
    "        - *Нулевая гипотеза(H0): тип победы у пользователй из источника 1 и из источника 2 одинаковый*\n",
    "        - *Альтернативная гипотеза (Н1): тип победы у пользователй из источника 1 и из источника 2 разный*\n",
    "   \n",
    "   \n",
    "И не забываем: **Космические братья — бесконечность беспредельна!**"
   ]
  },
  {
   "cell_type": "markdown",
   "metadata": {},
   "source": [
    "<h1>Содержание<span class=\"tocSkip\"></span></h1>\n",
    "<div class=\"toc\">\n",
    "<a href='#1'>1. Загрузка и подготовка данных</a>\n",
    "\n",
    "<a href='#1.1'>1.1 Загрузка данных</a>\n",
    "\n",
    "<a href='#1.2'>1.2 Предобработка данных</a>\n",
    "    \n",
    "<a href='#1.3'>1.3 Выводы</a>\n",
    "\n",
    "<a href='#2'>2. Исследовательский анализ данных</a>\n",
    "    \n",
    "<a href='#2.1'>2.1 Изучение и проверка данных</a>   \n",
    "        \n",
    "<a href='#2.1.1'>2.1.1 Изучение природы пропусков</a>   \n",
    "        \n",
    "<a href='#2.1.2'>2.1.2 Изучение пользователей по источнику перехода</a>   \n",
    "            \n",
    "<a href='#2.1.3'>2.1.3 Изучение пользователей по их действиям в приложении</a>    \n",
    " \n",
    "<a href='#2.2'>2.2 Изучение поведения пользователей в зависмости от источника перехода</a>   \n",
    "\n",
    "<a href='#2.3'>2.3 Выводы</a>\n",
    "    \n",
    "<a href='#3'>3. Проверка гипотез</a>\n",
    "         \n",
    "<a href='#3.1'>3.1 Проверка гипотезы: время завершения уровня различается в зависимости способа прохождения</a>\n",
    "             \n",
    "<a href='#3.2'>3.2 Проверка гипотезы: тип победы не отличается между пользвателями, пришедшими с двух разных источников</a>\n",
    "     \n",
    "<a href='#4'>4 Общий вывод</a> \n",
    "    \n",
    "<a href='#5'>5 Дашборд по проекту</a> \n",
    "        \n",
    "<a href='#6'>6 Презентация по проекту</a> "
   ]
  },
  {
   "cell_type": "markdown",
   "metadata": {},
   "source": [
    "<a id='1'></a>\n",
    "## Загрузка и подготовка данных"
   ]
  },
  {
   "cell_type": "markdown",
   "metadata": {},
   "source": [
    "<a id='1.1'></a>\n",
    "### Загрузка данных"
   ]
  },
  {
   "cell_type": "code",
   "execution_count": 1,
   "metadata": {},
   "outputs": [],
   "source": [
    "import pandas as pd\n",
    "import warnings \n",
    "warnings.simplefilter('ignore')\n",
    "import seaborn as sns\n",
    "import numpy as np\n",
    "import matplotlib.pyplot as plt\n",
    "from datetime import datetime, timedelta\n",
    "import datetime as dt\n",
    "import plotly.express as px\n",
    "from scipy import stats as st\n",
    "import scipy.stats as stats"
   ]
  },
  {
   "cell_type": "code",
   "execution_count": 2,
   "metadata": {},
   "outputs": [],
   "source": [
    "def info_data(data):\n",
    "    print('\\033[1m' + 'Информация, включающая записи датасета:' + '\\033[0m')\n",
    "    display (data.sample(10))\n",
    "    print('\\033[1m' + 'Информация о датасете:' + '\\033[0m\\n')\n",
    "    data.info()\n",
    "    print('\\033[1m' + '\\nДубликатов в таблице:' + '\\033[0m', data.duplicated().sum())\n",
    "    print('\\033[1m' + '\\nПодсчет пропусков:' + '\\033[0m\\n', data.isna().sum())"
   ]
  },
  {
   "cell_type": "markdown",
   "metadata": {},
   "source": [
    "Загрузим предоставленные нам данные."
   ]
  },
  {
   "cell_type": "markdown",
   "metadata": {},
   "source": [
    "Основные данные у нас хранятся в датасете \"game_actions.csv\", который показывает нам активность пользователей в нашей мобильной игре:"
   ]
  },
  {
   "cell_type": "code",
   "execution_count": 3,
   "metadata": {
    "scrolled": true
   },
   "outputs": [
    {
     "name": "stdout",
     "output_type": "stream",
     "text": [
      "\u001b[1mИнформация, включающая записи датасета:\u001b[0m\n"
     ]
    },
    {
     "data": {
      "text/html": [
       "<div>\n",
       "<style scoped>\n",
       "    .dataframe tbody tr th:only-of-type {\n",
       "        vertical-align: middle;\n",
       "    }\n",
       "\n",
       "    .dataframe tbody tr th {\n",
       "        vertical-align: top;\n",
       "    }\n",
       "\n",
       "    .dataframe thead th {\n",
       "        text-align: right;\n",
       "    }\n",
       "</style>\n",
       "<table border=\"1\" class=\"dataframe\">\n",
       "  <thead>\n",
       "    <tr style=\"text-align: right;\">\n",
       "      <th></th>\n",
       "      <th>event_datetime</th>\n",
       "      <th>event</th>\n",
       "      <th>building_type</th>\n",
       "      <th>user_id</th>\n",
       "      <th>project_type</th>\n",
       "    </tr>\n",
       "  </thead>\n",
       "  <tbody>\n",
       "    <tr>\n",
       "      <th>17397</th>\n",
       "      <td>2020-05-06 00:25:59</td>\n",
       "      <td>building</td>\n",
       "      <td>spaceport</td>\n",
       "      <td>ec598bb3-85cc-4a6e-9522-8dc92925a30e</td>\n",
       "      <td>NaN</td>\n",
       "    </tr>\n",
       "    <tr>\n",
       "      <th>105414</th>\n",
       "      <td>2020-05-14 11:18:48</td>\n",
       "      <td>building</td>\n",
       "      <td>research_center</td>\n",
       "      <td>965fd559-2041-4c36-9a3a-b08c502ee7cf</td>\n",
       "      <td>NaN</td>\n",
       "    </tr>\n",
       "    <tr>\n",
       "      <th>47287</th>\n",
       "      <td>2020-05-08 18:31:37</td>\n",
       "      <td>building</td>\n",
       "      <td>assembly_shop</td>\n",
       "      <td>b583b694-5b6c-44f7-b245-175663cf05d8</td>\n",
       "      <td>NaN</td>\n",
       "    </tr>\n",
       "    <tr>\n",
       "      <th>19001</th>\n",
       "      <td>2020-05-06 04:27:01</td>\n",
       "      <td>building</td>\n",
       "      <td>assembly_shop</td>\n",
       "      <td>c79e61e0-a462-4189-ad0b-240b831bdb6c</td>\n",
       "      <td>NaN</td>\n",
       "    </tr>\n",
       "    <tr>\n",
       "      <th>7811</th>\n",
       "      <td>2020-05-04 22:58:48</td>\n",
       "      <td>building</td>\n",
       "      <td>assembly_shop</td>\n",
       "      <td>f44f5682-781d-465e-aba0-a8431d1d2380</td>\n",
       "      <td>NaN</td>\n",
       "    </tr>\n",
       "    <tr>\n",
       "      <th>93743</th>\n",
       "      <td>2020-05-12 21:43:30</td>\n",
       "      <td>building</td>\n",
       "      <td>spaceport</td>\n",
       "      <td>8fbdae2a-9c6c-4d8c-857e-761bbfd17e01</td>\n",
       "      <td>NaN</td>\n",
       "    </tr>\n",
       "    <tr>\n",
       "      <th>133761</th>\n",
       "      <td>2020-05-23 15:18:20</td>\n",
       "      <td>finished_stage_1</td>\n",
       "      <td>NaN</td>\n",
       "      <td>503be0ce-57cc-4d5c-bd34-bf6328273f73</td>\n",
       "      <td>NaN</td>\n",
       "    </tr>\n",
       "    <tr>\n",
       "      <th>18498</th>\n",
       "      <td>2020-05-06 03:05:40</td>\n",
       "      <td>building</td>\n",
       "      <td>spaceport</td>\n",
       "      <td>9af9c900-4b7f-469a-909b-6363d37d5ada</td>\n",
       "      <td>NaN</td>\n",
       "    </tr>\n",
       "    <tr>\n",
       "      <th>104715</th>\n",
       "      <td>2020-05-14 08:50:49</td>\n",
       "      <td>building</td>\n",
       "      <td>spaceport</td>\n",
       "      <td>d2733a33-2b68-4bfe-8527-23630d8f69fb</td>\n",
       "      <td>NaN</td>\n",
       "    </tr>\n",
       "    <tr>\n",
       "      <th>132197</th>\n",
       "      <td>2020-05-21 21:12:20</td>\n",
       "      <td>finished_stage_1</td>\n",
       "      <td>NaN</td>\n",
       "      <td>1ebf63ef-e430-4165-a1a8-738d784c20f6</td>\n",
       "      <td>NaN</td>\n",
       "    </tr>\n",
       "  </tbody>\n",
       "</table>\n",
       "</div>"
      ],
      "text/plain": [
       "             event_datetime             event    building_type  \\\n",
       "17397   2020-05-06 00:25:59          building        spaceport   \n",
       "105414  2020-05-14 11:18:48          building  research_center   \n",
       "47287   2020-05-08 18:31:37          building    assembly_shop   \n",
       "19001   2020-05-06 04:27:01          building    assembly_shop   \n",
       "7811    2020-05-04 22:58:48          building    assembly_shop   \n",
       "93743   2020-05-12 21:43:30          building        spaceport   \n",
       "133761  2020-05-23 15:18:20  finished_stage_1              NaN   \n",
       "18498   2020-05-06 03:05:40          building        spaceport   \n",
       "104715  2020-05-14 08:50:49          building        spaceport   \n",
       "132197  2020-05-21 21:12:20  finished_stage_1              NaN   \n",
       "\n",
       "                                     user_id project_type  \n",
       "17397   ec598bb3-85cc-4a6e-9522-8dc92925a30e          NaN  \n",
       "105414  965fd559-2041-4c36-9a3a-b08c502ee7cf          NaN  \n",
       "47287   b583b694-5b6c-44f7-b245-175663cf05d8          NaN  \n",
       "19001   c79e61e0-a462-4189-ad0b-240b831bdb6c          NaN  \n",
       "7811    f44f5682-781d-465e-aba0-a8431d1d2380          NaN  \n",
       "93743   8fbdae2a-9c6c-4d8c-857e-761bbfd17e01          NaN  \n",
       "133761  503be0ce-57cc-4d5c-bd34-bf6328273f73          NaN  \n",
       "18498   9af9c900-4b7f-469a-909b-6363d37d5ada          NaN  \n",
       "104715  d2733a33-2b68-4bfe-8527-23630d8f69fb          NaN  \n",
       "132197  1ebf63ef-e430-4165-a1a8-738d784c20f6          NaN  "
      ]
     },
     "metadata": {},
     "output_type": "display_data"
    },
    {
     "name": "stdout",
     "output_type": "stream",
     "text": [
      "\u001b[1mИнформация о датасете:\u001b[0m\n",
      "\n",
      "<class 'pandas.core.frame.DataFrame'>\n",
      "RangeIndex: 135640 entries, 0 to 135639\n",
      "Data columns (total 5 columns):\n",
      " #   Column          Non-Null Count   Dtype \n",
      "---  ------          --------------   ----- \n",
      " 0   event_datetime  135640 non-null  object\n",
      " 1   event           135640 non-null  object\n",
      " 2   building_type   127957 non-null  object\n",
      " 3   user_id         135640 non-null  object\n",
      " 4   project_type    1866 non-null    object\n",
      "dtypes: object(5)\n",
      "memory usage: 5.2+ MB\n",
      "\u001b[1m\n",
      "Дубликатов в таблице:\u001b[0m 1\n",
      "\u001b[1m\n",
      "Подсчет пропусков:\u001b[0m\n",
      " event_datetime         0\n",
      "event                  0\n",
      "building_type       7683\n",
      "user_id                0\n",
      "project_type      133774\n",
      "dtype: int64\n"
     ]
    }
   ],
   "source": [
    "data_actions=pd.read_csv('game_actions.csv')\n",
    "info_data(data_actions)"
   ]
  },
  {
   "cell_type": "markdown",
   "metadata": {},
   "source": [
    "- `event_datetime` — время события;\n",
    "- `event` — одно из трёх событий:\n",
    "    1. `building` — объект построен,\n",
    "    2. `finished_stage_1` — первый уровень завершён,\n",
    "    3. `project` — проект завершён;\n",
    "- `building_type` — один из трёх типов здания:\n",
    "    1. `assembly_shop` — сборочный цех,\n",
    "    2. `spaceport` — космопорт,\n",
    "    3. `research_center` — исследовательский центр;\n",
    "- `user_id` — идентификатор пользователя;\n",
    "- `project_type` — тип реализованного проекта;"
   ]
  },
  {
   "cell_type": "markdown",
   "metadata": {},
   "source": [
    "Так же у нас есть еще два датасета, которые указывают нам на рекламные источники, из которых пришли пользователи к нам в игру и сколько стоило привлечение пользвоателей:"
   ]
  },
  {
   "cell_type": "code",
   "execution_count": 4,
   "metadata": {
    "scrolled": true
   },
   "outputs": [
    {
     "name": "stdout",
     "output_type": "stream",
     "text": [
      "\u001b[1mИнформация, включающая записи датасета:\u001b[0m\n"
     ]
    },
    {
     "data": {
      "text/html": [
       "<div>\n",
       "<style scoped>\n",
       "    .dataframe tbody tr th:only-of-type {\n",
       "        vertical-align: middle;\n",
       "    }\n",
       "\n",
       "    .dataframe tbody tr th {\n",
       "        vertical-align: top;\n",
       "    }\n",
       "\n",
       "    .dataframe thead th {\n",
       "        text-align: right;\n",
       "    }\n",
       "</style>\n",
       "<table border=\"1\" class=\"dataframe\">\n",
       "  <thead>\n",
       "    <tr style=\"text-align: right;\">\n",
       "      <th></th>\n",
       "      <th>source</th>\n",
       "      <th>day</th>\n",
       "      <th>cost</th>\n",
       "    </tr>\n",
       "  </thead>\n",
       "  <tbody>\n",
       "    <tr>\n",
       "      <th>11</th>\n",
       "      <td>instagram_new_adverts</td>\n",
       "      <td>2020-05-07</td>\n",
       "      <td>109.915254</td>\n",
       "    </tr>\n",
       "    <tr>\n",
       "      <th>7</th>\n",
       "      <td>instagram_new_adverts</td>\n",
       "      <td>2020-05-03</td>\n",
       "      <td>943.204717</td>\n",
       "    </tr>\n",
       "    <tr>\n",
       "      <th>3</th>\n",
       "      <td>facebook_ads</td>\n",
       "      <td>2020-05-06</td>\n",
       "      <td>177.982200</td>\n",
       "    </tr>\n",
       "    <tr>\n",
       "      <th>26</th>\n",
       "      <td>youtube_channel_reklama</td>\n",
       "      <td>2020-05-08</td>\n",
       "      <td>40.217907</td>\n",
       "    </tr>\n",
       "    <tr>\n",
       "      <th>0</th>\n",
       "      <td>facebook_ads</td>\n",
       "      <td>2020-05-03</td>\n",
       "      <td>935.882786</td>\n",
       "    </tr>\n",
       "    <tr>\n",
       "      <th>9</th>\n",
       "      <td>instagram_new_adverts</td>\n",
       "      <td>2020-05-05</td>\n",
       "      <td>313.970984</td>\n",
       "    </tr>\n",
       "    <tr>\n",
       "      <th>4</th>\n",
       "      <td>facebook_ads</td>\n",
       "      <td>2020-05-07</td>\n",
       "      <td>111.766796</td>\n",
       "    </tr>\n",
       "    <tr>\n",
       "      <th>1</th>\n",
       "      <td>facebook_ads</td>\n",
       "      <td>2020-05-04</td>\n",
       "      <td>548.354480</td>\n",
       "    </tr>\n",
       "    <tr>\n",
       "      <th>16</th>\n",
       "      <td>yandex_direct</td>\n",
       "      <td>2020-05-05</td>\n",
       "      <td>308.232990</td>\n",
       "    </tr>\n",
       "    <tr>\n",
       "      <th>27</th>\n",
       "      <td>youtube_channel_reklama</td>\n",
       "      <td>2020-05-09</td>\n",
       "      <td>23.314669</td>\n",
       "    </tr>\n",
       "  </tbody>\n",
       "</table>\n",
       "</div>"
      ],
      "text/plain": [
       "                     source         day        cost\n",
       "11    instagram_new_adverts  2020-05-07  109.915254\n",
       "7     instagram_new_adverts  2020-05-03  943.204717\n",
       "3              facebook_ads  2020-05-06  177.982200\n",
       "26  youtube_channel_reklama  2020-05-08   40.217907\n",
       "0              facebook_ads  2020-05-03  935.882786\n",
       "9     instagram_new_adverts  2020-05-05  313.970984\n",
       "4              facebook_ads  2020-05-07  111.766796\n",
       "1              facebook_ads  2020-05-04  548.354480\n",
       "16            yandex_direct  2020-05-05  308.232990\n",
       "27  youtube_channel_reklama  2020-05-09   23.314669"
      ]
     },
     "metadata": {},
     "output_type": "display_data"
    },
    {
     "name": "stdout",
     "output_type": "stream",
     "text": [
      "\u001b[1mИнформация о датасете:\u001b[0m\n",
      "\n",
      "<class 'pandas.core.frame.DataFrame'>\n",
      "RangeIndex: 28 entries, 0 to 27\n",
      "Data columns (total 3 columns):\n",
      " #   Column  Non-Null Count  Dtype  \n",
      "---  ------  --------------  -----  \n",
      " 0   source  28 non-null     object \n",
      " 1   day     28 non-null     object \n",
      " 2   cost    28 non-null     float64\n",
      "dtypes: float64(1), object(2)\n",
      "memory usage: 800.0+ bytes\n",
      "\u001b[1m\n",
      "Дубликатов в таблице:\u001b[0m 0\n",
      "\u001b[1m\n",
      "Подсчет пропусков:\u001b[0m\n",
      " source    0\n",
      "day       0\n",
      "cost      0\n",
      "dtype: int64\n"
     ]
    }
   ],
   "source": [
    "data_cost=pd.read_csv('ad_costs.csv')\n",
    "info_data(data_cost)"
   ]
  },
  {
   "cell_type": "markdown",
   "metadata": {},
   "source": [
    "- `day` - день, в который был совершен клик по объявлению\n",
    "- `source` - источник трафика\n",
    "- `cost` - стоимость кликов"
   ]
  },
  {
   "cell_type": "code",
   "execution_count": 5,
   "metadata": {
    "scrolled": true
   },
   "outputs": [
    {
     "name": "stdout",
     "output_type": "stream",
     "text": [
      "\u001b[1mИнформация, включающая записи датасета:\u001b[0m\n"
     ]
    },
    {
     "data": {
      "text/html": [
       "<div>\n",
       "<style scoped>\n",
       "    .dataframe tbody tr th:only-of-type {\n",
       "        vertical-align: middle;\n",
       "    }\n",
       "\n",
       "    .dataframe tbody tr th {\n",
       "        vertical-align: top;\n",
       "    }\n",
       "\n",
       "    .dataframe thead th {\n",
       "        text-align: right;\n",
       "    }\n",
       "</style>\n",
       "<table border=\"1\" class=\"dataframe\">\n",
       "  <thead>\n",
       "    <tr style=\"text-align: right;\">\n",
       "      <th></th>\n",
       "      <th>user_id</th>\n",
       "      <th>source</th>\n",
       "    </tr>\n",
       "  </thead>\n",
       "  <tbody>\n",
       "    <tr>\n",
       "      <th>13074</th>\n",
       "      <td>f6a765d3-a1c4-487c-86ae-079586c2180d</td>\n",
       "      <td>yandex_direct</td>\n",
       "    </tr>\n",
       "    <tr>\n",
       "      <th>8562</th>\n",
       "      <td>a16233a6-1ae9-4074-95c7-a5caa8a0624d</td>\n",
       "      <td>youtube_channel_reklama</td>\n",
       "    </tr>\n",
       "    <tr>\n",
       "      <th>11431</th>\n",
       "      <td>d83a3558-5c84-4a76-b3b4-96f5a15a12e1</td>\n",
       "      <td>youtube_channel_reklama</td>\n",
       "    </tr>\n",
       "    <tr>\n",
       "      <th>8669</th>\n",
       "      <td>a36142ae-b6ed-49e7-8c09-f72c8776fd39</td>\n",
       "      <td>youtube_channel_reklama</td>\n",
       "    </tr>\n",
       "    <tr>\n",
       "      <th>8470</th>\n",
       "      <td>9fd8609c-d3a8-4724-8e33-cc6f7fe82813</td>\n",
       "      <td>yandex_direct</td>\n",
       "    </tr>\n",
       "    <tr>\n",
       "      <th>1605</th>\n",
       "      <td>1d083bfe-d54c-4ba6-b2f2-416ea16da4d8</td>\n",
       "      <td>facebook_ads</td>\n",
       "    </tr>\n",
       "    <tr>\n",
       "      <th>5219</th>\n",
       "      <td>60fb22c3-fcab-4d0f-b9a3-9a4c40470cc4</td>\n",
       "      <td>facebook_ads</td>\n",
       "    </tr>\n",
       "    <tr>\n",
       "      <th>1663</th>\n",
       "      <td>1df5e462-1a92-4368-9170-0953f7d9bc62</td>\n",
       "      <td>yandex_direct</td>\n",
       "    </tr>\n",
       "    <tr>\n",
       "      <th>10233</th>\n",
       "      <td>c1514957-a0d4-47e7-886a-e87fb3641fb7</td>\n",
       "      <td>youtube_channel_reklama</td>\n",
       "    </tr>\n",
       "    <tr>\n",
       "      <th>7290</th>\n",
       "      <td>884c7881-2c0f-484b-99ee-c960f3bf29e9</td>\n",
       "      <td>instagram_new_adverts</td>\n",
       "    </tr>\n",
       "  </tbody>\n",
       "</table>\n",
       "</div>"
      ],
      "text/plain": [
       "                                    user_id                   source\n",
       "13074  f6a765d3-a1c4-487c-86ae-079586c2180d            yandex_direct\n",
       "8562   a16233a6-1ae9-4074-95c7-a5caa8a0624d  youtube_channel_reklama\n",
       "11431  d83a3558-5c84-4a76-b3b4-96f5a15a12e1  youtube_channel_reklama\n",
       "8669   a36142ae-b6ed-49e7-8c09-f72c8776fd39  youtube_channel_reklama\n",
       "8470   9fd8609c-d3a8-4724-8e33-cc6f7fe82813            yandex_direct\n",
       "1605   1d083bfe-d54c-4ba6-b2f2-416ea16da4d8             facebook_ads\n",
       "5219   60fb22c3-fcab-4d0f-b9a3-9a4c40470cc4             facebook_ads\n",
       "1663   1df5e462-1a92-4368-9170-0953f7d9bc62            yandex_direct\n",
       "10233  c1514957-a0d4-47e7-886a-e87fb3641fb7  youtube_channel_reklama\n",
       "7290   884c7881-2c0f-484b-99ee-c960f3bf29e9    instagram_new_adverts"
      ]
     },
     "metadata": {},
     "output_type": "display_data"
    },
    {
     "name": "stdout",
     "output_type": "stream",
     "text": [
      "\u001b[1mИнформация о датасете:\u001b[0m\n",
      "\n",
      "<class 'pandas.core.frame.DataFrame'>\n",
      "RangeIndex: 13576 entries, 0 to 13575\n",
      "Data columns (total 2 columns):\n",
      " #   Column   Non-Null Count  Dtype \n",
      "---  ------   --------------  ----- \n",
      " 0   user_id  13576 non-null  object\n",
      " 1   source   13576 non-null  object\n",
      "dtypes: object(2)\n",
      "memory usage: 212.2+ KB\n",
      "\u001b[1m\n",
      "Дубликатов в таблице:\u001b[0m 0\n",
      "\u001b[1m\n",
      "Подсчет пропусков:\u001b[0m\n",
      " user_id    0\n",
      "source     0\n",
      "dtype: int64\n"
     ]
    }
   ],
   "source": [
    "data_user=pd.read_csv('user_source.csv')\n",
    "info_data(data_user)"
   ]
  },
  {
   "cell_type": "markdown",
   "metadata": {},
   "source": [
    "- `user_id` - идентификатор пользователя\n",
    "- `source` - источников, с которого пришёл пользователь, установивший приложение"
   ]
  },
  {
   "cell_type": "markdown",
   "metadata": {},
   "source": [
    "<a id='1.2'></a>\n",
    "### Предобработка данных"
   ]
  },
  {
   "cell_type": "markdown",
   "metadata": {},
   "source": [
    "Преобразуем значения по столбцу event_datetime в датасете data_actions к типу данных \"дата\":"
   ]
  },
  {
   "cell_type": "code",
   "execution_count": 6,
   "metadata": {},
   "outputs": [],
   "source": [
    "data_actions['event_datetime'] = pd.to_datetime(data_actions['event_datetime'])"
   ]
  },
  {
   "cell_type": "markdown",
   "metadata": {},
   "source": [
    "Аналогично сделаем со значениями по столбцу day в датасете data_cost:"
   ]
  },
  {
   "cell_type": "code",
   "execution_count": 7,
   "metadata": {},
   "outputs": [],
   "source": [
    "data_cost['day'] = pd.to_datetime(data_cost['day'])"
   ]
  },
  {
   "cell_type": "markdown",
   "metadata": {},
   "source": [
    "Выше мы увидели, что у нас есть 1 дубликат, что составляет менее процента от всех данных датасета data_actions. Считаю, что их можно удалить со спокойной совестью:"
   ]
  },
  {
   "cell_type": "code",
   "execution_count": 8,
   "metadata": {},
   "outputs": [
    {
     "name": "stdout",
     "output_type": "stream",
     "text": [
      "\u001b[1m\n",
      "Дубликатов в таблице после удаления:\u001b[0m 0\n"
     ]
    }
   ],
   "source": [
    "data_actions = data_actions.drop_duplicates().reset_index(drop=True)\n",
    "print('\\033[1m' + '\\nДубликатов в таблице после удаления:' + '\\033[0m', data_actions.duplicated().sum())"
   ]
  },
  {
   "cell_type": "markdown",
   "metadata": {},
   "source": [
    "<a id='1.3'></a>\n",
    "### Выводы"
   ]
  },
  {
   "cell_type": "markdown",
   "metadata": {},
   "source": [
    "Бегло посмотрев на данные и проведя некоторые преобразования, можно сказать следующее:\n",
    "1. Наименования столбцов имеют правильное наименование - это хорошо.\n",
    "2. Привели данные по датам к нужному типу.\n",
    "3. Мы увидели пропуски в data_actions - предлагаю пока с этим ничего не делать, так как могу предположить, что по факту это не пропуски:\n",
    "    * отсутсвующие значения по столбцу \"project_type\" - это не пропуски как такоевые, а просто не наступдление определенного события ( то есть когда игрок построил здание - это обычное событие и оно не должно отображаться в данном столбце, а вот когда пользователь завершил так называемое \"исследование\", то в этом столбце появляется запись об этом)\n",
    "    * отсутсвующие значения по столбцу \"building_type\" - это тоже не пропуски в чистом виде. Отсутсвие значения здесь показывает нам, что игрок завершил первый этап игры и здание он при этом не строил, значит и отображть здесь нечего.\n",
    "4. Удалили 1 дубликат.    \n",
    "В целом можно сказать, предоставленные нам данных отличные. С ними можно работать, не тратив много времени на рпедобработку и \"чистку\"."
   ]
  },
  {
   "cell_type": "markdown",
   "metadata": {},
   "source": [
    "<a id='2'></a>\n",
    "## Исследовательский анализ данных"
   ]
  },
  {
   "cell_type": "markdown",
   "metadata": {},
   "source": [
    "<a id='2.1'></a>\n",
    "### Изучение и проверка данных"
   ]
  },
  {
   "cell_type": "markdown",
   "metadata": {},
   "source": [
    "<a id='2.1.1'></a>\n",
    "#### Изучение природы пропусков"
   ]
  },
  {
   "cell_type": "markdown",
   "metadata": {},
   "source": [
    "Предлагаю вначале точно убедиться, что у нас нет в data_actions пропусков.\n",
    "\n",
    "Для этого изучим столбцы \"event\", \"building_type\" и \"project_type\":"
   ]
  },
  {
   "cell_type": "code",
   "execution_count": 9,
   "metadata": {},
   "outputs": [
    {
     "name": "stdout",
     "output_type": "stream",
     "text": [
      "\u001b[1mВсего событий \"building_type\"  :\u001b[0m 4\n",
      "\u001b[1mУникальные события событий \"event\"  :\u001b[0m ['assembly_shop' 'spaceport' nan 'research_center']\n"
     ]
    }
   ],
   "source": [
    "print('\\033[1m' + 'Всего событий \"building_type\"  :' + '\\033[0m', len(data_actions['building_type'].unique()))\n",
    "print('\\033[1m' + 'Уникальные события событий \"event\"  :' + '\\033[0m', data_actions['building_type'].unique())"
   ]
  },
  {
   "cell_type": "code",
   "execution_count": 10,
   "metadata": {},
   "outputs": [
    {
     "name": "stdout",
     "output_type": "stream",
     "text": [
      "\u001b[1mВсего событий \"project_type\"  :\u001b[0m 2\n",
      "\u001b[1mУникальные события событий \"event\"  :\u001b[0m [nan 'satellite_orbital_assembly']\n",
      "\u001b[1mВсего событий \"satellite_orbital_assembly\"  :\u001b[0m 1866\n"
     ]
    }
   ],
   "source": [
    "print('\\033[1m' + 'Всего событий \"project_type\"  :' + '\\033[0m', len(data_actions['project_type'].unique()))\n",
    "print('\\033[1m' + 'Уникальные события событий \"event\"  :' + '\\033[0m', data_actions['project_type'].unique())\n",
    "print('\\033[1m' + 'Всего событий \"satellite_orbital_assembly\"  :' + '\\033[0m', len(data_actions[data_actions['project_type'] == 'satellite_orbital_assembly']))"
   ]
  },
  {
   "cell_type": "code",
   "execution_count": 11,
   "metadata": {},
   "outputs": [
    {
     "name": "stdout",
     "output_type": "stream",
     "text": [
      "\u001b[1mВсего событий \"event\"  :\u001b[0m 3\n",
      "\u001b[1mУникальные события событий \"event\"  :\u001b[0m ['building' 'finished_stage_1' 'project']\n",
      "\u001b[1mВсего событий \"finished_stage_1\"  :\u001b[0m 5817\n",
      "\u001b[1mВсего событий \"project\"  :\u001b[0m 1866\n"
     ]
    }
   ],
   "source": [
    "print('\\033[1m' + 'Всего событий \"event\"  :' + '\\033[0m', len(data_actions['event'].unique()))\n",
    "print('\\033[1m' + 'Уникальные события событий \"event\"  :' + '\\033[0m', data_actions['event'].unique())\n",
    "print('\\033[1m' + 'Всего событий \"finished_stage_1\"  :' + '\\033[0m', len(data_actions[data_actions['event'] == 'finished_stage_1']))\n",
    "print('\\033[1m' + 'Всего событий \"project\"  :' + '\\033[0m', len(data_actions[data_actions['event'] == 'project']))"
   ]
  },
  {
   "cell_type": "code",
   "execution_count": 12,
   "metadata": {},
   "outputs": [
    {
     "data": {
      "text/plain": [
       "building            127956\n",
       "finished_stage_1      5817\n",
       "project               1866\n",
       "Name: event, dtype: int64"
      ]
     },
     "execution_count": 12,
     "metadata": {},
     "output_type": "execute_result"
    }
   ],
   "source": [
    "data_actions['event'].value_counts()"
   ]
  },
  {
   "cell_type": "markdown",
   "metadata": {},
   "source": [
    "Итак, наше предположение подтвердилось:\n",
    "1. По колонке \"building_type\" у нас в датасете 7683 пропусков - это как раз сумма событий \"finished_stage_1\" и \"project\" - это значит, что когда у игрока происходит событие Постройка орбитальной станции или Проект завершен  - по факту никакое строительство в колонке \"building_type\" не отображается. \n",
    "Можем заключить: пропусков в столбце \"building_type\" нет, отсутствующие значения - это либо постройкак Орбитальной станции либо Завершение проекта.\n",
    "2. По столбцу \"project_type\" у нас есть 133 774 пропусков. Но и здесь мы уже получили ответ: это не пропуски, просто в этой колоки отображается факт Постройки орбитальной станции. Выше мы посчитали, что игроки построили 1866 орбитальных станци, а пропусков 133 774 - в сумме этим значения дают 135 640 - это как раз количество строк в нашем первом датасете."
   ]
  },
  {
   "cell_type": "markdown",
   "metadata": {},
   "source": [
    "<a id='2.1.2'></a>\n",
    "#### Изучение пользователей по источнику перехода"
   ]
  },
  {
   "cell_type": "markdown",
   "metadata": {},
   "source": [
    "Предлагаю изучить пользователей по источнику перехода.\n",
    "\n",
    "Для этого посмотрим как распределились пользователи нашей игры по источникам перехода и датам. Для этого вначале добавим источник, по которуму к нам пришли пользователи:"
   ]
  },
  {
   "cell_type": "code",
   "execution_count": 13,
   "metadata": {},
   "outputs": [
    {
     "data": {
      "text/html": [
       "<div>\n",
       "<style scoped>\n",
       "    .dataframe tbody tr th:only-of-type {\n",
       "        vertical-align: middle;\n",
       "    }\n",
       "\n",
       "    .dataframe tbody tr th {\n",
       "        vertical-align: top;\n",
       "    }\n",
       "\n",
       "    .dataframe thead th {\n",
       "        text-align: right;\n",
       "    }\n",
       "</style>\n",
       "<table border=\"1\" class=\"dataframe\">\n",
       "  <thead>\n",
       "    <tr style=\"text-align: right;\">\n",
       "      <th></th>\n",
       "      <th>event_datetime</th>\n",
       "      <th>event</th>\n",
       "      <th>building_type</th>\n",
       "      <th>user_id</th>\n",
       "      <th>project_type</th>\n",
       "      <th>source</th>\n",
       "      <th>dt</th>\n",
       "    </tr>\n",
       "  </thead>\n",
       "  <tbody>\n",
       "    <tr>\n",
       "      <th>0</th>\n",
       "      <td>2020-05-04 00:00:01</td>\n",
       "      <td>building</td>\n",
       "      <td>assembly_shop</td>\n",
       "      <td>55e92310-cb8e-4754-b622-597e124b03de</td>\n",
       "      <td>NaN</td>\n",
       "      <td>youtube_channel_reklama</td>\n",
       "      <td>2020-05-04</td>\n",
       "    </tr>\n",
       "    <tr>\n",
       "      <th>1</th>\n",
       "      <td>2020-05-04 00:00:03</td>\n",
       "      <td>building</td>\n",
       "      <td>assembly_shop</td>\n",
       "      <td>c07b1c10-f477-44dc-81dc-ec82254b1347</td>\n",
       "      <td>NaN</td>\n",
       "      <td>facebook_ads</td>\n",
       "      <td>2020-05-04</td>\n",
       "    </tr>\n",
       "    <tr>\n",
       "      <th>2</th>\n",
       "      <td>2020-05-04 00:00:16</td>\n",
       "      <td>building</td>\n",
       "      <td>assembly_shop</td>\n",
       "      <td>6edd42cc-e753-4ff6-a947-2107cd560710</td>\n",
       "      <td>NaN</td>\n",
       "      <td>instagram_new_adverts</td>\n",
       "      <td>2020-05-04</td>\n",
       "    </tr>\n",
       "    <tr>\n",
       "      <th>3</th>\n",
       "      <td>2020-05-04 00:00:16</td>\n",
       "      <td>building</td>\n",
       "      <td>assembly_shop</td>\n",
       "      <td>92c69003-d60a-444a-827f-8cc51bf6bf4c</td>\n",
       "      <td>NaN</td>\n",
       "      <td>facebook_ads</td>\n",
       "      <td>2020-05-04</td>\n",
       "    </tr>\n",
       "    <tr>\n",
       "      <th>4</th>\n",
       "      <td>2020-05-04 00:00:35</td>\n",
       "      <td>building</td>\n",
       "      <td>assembly_shop</td>\n",
       "      <td>cdc6bb92-0ccb-4490-9866-ef142f09139d</td>\n",
       "      <td>NaN</td>\n",
       "      <td>yandex_direct</td>\n",
       "      <td>2020-05-04</td>\n",
       "    </tr>\n",
       "  </tbody>\n",
       "</table>\n",
       "</div>"
      ],
      "text/plain": [
       "       event_datetime     event  building_type  \\\n",
       "0 2020-05-04 00:00:01  building  assembly_shop   \n",
       "1 2020-05-04 00:00:03  building  assembly_shop   \n",
       "2 2020-05-04 00:00:16  building  assembly_shop   \n",
       "3 2020-05-04 00:00:16  building  assembly_shop   \n",
       "4 2020-05-04 00:00:35  building  assembly_shop   \n",
       "\n",
       "                                user_id project_type                   source  \\\n",
       "0  55e92310-cb8e-4754-b622-597e124b03de          NaN  youtube_channel_reklama   \n",
       "1  c07b1c10-f477-44dc-81dc-ec82254b1347          NaN             facebook_ads   \n",
       "2  6edd42cc-e753-4ff6-a947-2107cd560710          NaN    instagram_new_adverts   \n",
       "3  92c69003-d60a-444a-827f-8cc51bf6bf4c          NaN             facebook_ads   \n",
       "4  cdc6bb92-0ccb-4490-9866-ef142f09139d          NaN            yandex_direct   \n",
       "\n",
       "           dt  \n",
       "0  2020-05-04  \n",
       "1  2020-05-04  \n",
       "2  2020-05-04  \n",
       "3  2020-05-04  \n",
       "4  2020-05-04  "
      ]
     },
     "execution_count": 13,
     "metadata": {},
     "output_type": "execute_result"
    }
   ],
   "source": [
    "data_actions_new = pd.merge(data_actions, data_user,\n",
    "                       how='left', on='user_id')\n",
    "data_actions_new['dt'] = data_actions_new['event_datetime'].dt.date\n",
    "data_actions_new.head()"
   ]
  },
  {
   "cell_type": "markdown",
   "metadata": {},
   "source": [
    "Создадим профили пользователей, чтобы определить первую дату перехода и в целом по каким источникам к нам переходили игроки:"
   ]
  },
  {
   "cell_type": "code",
   "execution_count": 14,
   "metadata": {},
   "outputs": [],
   "source": [
    "profiles = (\n",
    "        data_actions_new.sort_values(by=['user_id', 'event_datetime'])\n",
    "        .groupby('user_id')\n",
    "        .agg(\n",
    "            {\n",
    "                'event_datetime': 'first',\n",
    "                'source': 'first',\n",
    "                'building_type': 'first',\n",
    "                'project_type': 'first',\n",
    "            }\n",
    "        )\n",
    "        .rename(columns={'event_datetime': 'first_ts'})\n",
    "        .reset_index()\n",
    "    )\n",
    "\n",
    "profiles['dt'] = profiles['first_ts'].dt.date"
   ]
  },
  {
   "cell_type": "code",
   "execution_count": 15,
   "metadata": {},
   "outputs": [
    {
     "data": {
      "text/html": [
       "<div>\n",
       "<style scoped>\n",
       "    .dataframe tbody tr th:only-of-type {\n",
       "        vertical-align: middle;\n",
       "    }\n",
       "\n",
       "    .dataframe tbody tr th {\n",
       "        vertical-align: top;\n",
       "    }\n",
       "\n",
       "    .dataframe thead th {\n",
       "        text-align: right;\n",
       "    }\n",
       "</style>\n",
       "<table border=\"1\" class=\"dataframe\">\n",
       "  <thead>\n",
       "    <tr style=\"text-align: right;\">\n",
       "      <th></th>\n",
       "      <th>user_id</th>\n",
       "      <th>first_ts</th>\n",
       "      <th>source</th>\n",
       "      <th>building_type</th>\n",
       "      <th>project_type</th>\n",
       "      <th>dt</th>\n",
       "    </tr>\n",
       "  </thead>\n",
       "  <tbody>\n",
       "    <tr>\n",
       "      <th>0</th>\n",
       "      <td>0001f83c-c6ac-4621-b7f0-8a28b283ac30</td>\n",
       "      <td>2020-05-06 01:07:37</td>\n",
       "      <td>facebook_ads</td>\n",
       "      <td>assembly_shop</td>\n",
       "      <td>None</td>\n",
       "      <td>2020-05-06</td>\n",
       "    </tr>\n",
       "    <tr>\n",
       "      <th>1</th>\n",
       "      <td>00151b4f-ba38-44a8-a650-d7cf130a0105</td>\n",
       "      <td>2020-05-06 03:09:12</td>\n",
       "      <td>yandex_direct</td>\n",
       "      <td>assembly_shop</td>\n",
       "      <td>None</td>\n",
       "      <td>2020-05-06</td>\n",
       "    </tr>\n",
       "    <tr>\n",
       "      <th>2</th>\n",
       "      <td>001aaea6-3d14-43f1-8ca8-7f48820f17aa</td>\n",
       "      <td>2020-05-05 18:08:52</td>\n",
       "      <td>youtube_channel_reklama</td>\n",
       "      <td>assembly_shop</td>\n",
       "      <td>None</td>\n",
       "      <td>2020-05-05</td>\n",
       "    </tr>\n",
       "    <tr>\n",
       "      <th>3</th>\n",
       "      <td>001d39dc-366c-4021-9604-6a3b9ff01e25</td>\n",
       "      <td>2020-05-05 21:02:05</td>\n",
       "      <td>instagram_new_adverts</td>\n",
       "      <td>assembly_shop</td>\n",
       "      <td>None</td>\n",
       "      <td>2020-05-05</td>\n",
       "    </tr>\n",
       "    <tr>\n",
       "      <th>4</th>\n",
       "      <td>002f508f-67b6-479f-814b-b05f00d4e995</td>\n",
       "      <td>2020-05-05 13:49:58</td>\n",
       "      <td>facebook_ads</td>\n",
       "      <td>assembly_shop</td>\n",
       "      <td>None</td>\n",
       "      <td>2020-05-05</td>\n",
       "    </tr>\n",
       "    <tr>\n",
       "      <th>...</th>\n",
       "      <td>...</td>\n",
       "      <td>...</td>\n",
       "      <td>...</td>\n",
       "      <td>...</td>\n",
       "      <td>...</td>\n",
       "      <td>...</td>\n",
       "    </tr>\n",
       "    <tr>\n",
       "      <th>13571</th>\n",
       "      <td>ffef4fed-164c-40e1-bde1-3980f76d0fb5</td>\n",
       "      <td>2020-05-04 01:58:59</td>\n",
       "      <td>instagram_new_adverts</td>\n",
       "      <td>assembly_shop</td>\n",
       "      <td>None</td>\n",
       "      <td>2020-05-04</td>\n",
       "    </tr>\n",
       "    <tr>\n",
       "      <th>13572</th>\n",
       "      <td>fffab3da-da0e-4e30-ae62-10d0a2e24a4e</td>\n",
       "      <td>2020-05-04 11:58:14</td>\n",
       "      <td>facebook_ads</td>\n",
       "      <td>assembly_shop</td>\n",
       "      <td>None</td>\n",
       "      <td>2020-05-04</td>\n",
       "    </tr>\n",
       "    <tr>\n",
       "      <th>13573</th>\n",
       "      <td>fffb626c-5ab6-47c9-8113-2062a2f18494</td>\n",
       "      <td>2020-05-04 02:05:09</td>\n",
       "      <td>yandex_direct</td>\n",
       "      <td>assembly_shop</td>\n",
       "      <td>None</td>\n",
       "      <td>2020-05-04</td>\n",
       "    </tr>\n",
       "    <tr>\n",
       "      <th>13574</th>\n",
       "      <td>ffff194a-56b7-4c12-860d-3485242ae7f5</td>\n",
       "      <td>2020-05-04 20:28:28</td>\n",
       "      <td>instagram_new_adverts</td>\n",
       "      <td>assembly_shop</td>\n",
       "      <td>None</td>\n",
       "      <td>2020-05-04</td>\n",
       "    </tr>\n",
       "    <tr>\n",
       "      <th>13575</th>\n",
       "      <td>ffff69cc-fec1-4fd3-9f98-93be1112a6b8</td>\n",
       "      <td>2020-05-08 06:57:30</td>\n",
       "      <td>facebook_ads</td>\n",
       "      <td>assembly_shop</td>\n",
       "      <td>satellite_orbital_assembly</td>\n",
       "      <td>2020-05-08</td>\n",
       "    </tr>\n",
       "  </tbody>\n",
       "</table>\n",
       "<p>13576 rows × 6 columns</p>\n",
       "</div>"
      ],
      "text/plain": [
       "                                    user_id            first_ts  \\\n",
       "0      0001f83c-c6ac-4621-b7f0-8a28b283ac30 2020-05-06 01:07:37   \n",
       "1      00151b4f-ba38-44a8-a650-d7cf130a0105 2020-05-06 03:09:12   \n",
       "2      001aaea6-3d14-43f1-8ca8-7f48820f17aa 2020-05-05 18:08:52   \n",
       "3      001d39dc-366c-4021-9604-6a3b9ff01e25 2020-05-05 21:02:05   \n",
       "4      002f508f-67b6-479f-814b-b05f00d4e995 2020-05-05 13:49:58   \n",
       "...                                     ...                 ...   \n",
       "13571  ffef4fed-164c-40e1-bde1-3980f76d0fb5 2020-05-04 01:58:59   \n",
       "13572  fffab3da-da0e-4e30-ae62-10d0a2e24a4e 2020-05-04 11:58:14   \n",
       "13573  fffb626c-5ab6-47c9-8113-2062a2f18494 2020-05-04 02:05:09   \n",
       "13574  ffff194a-56b7-4c12-860d-3485242ae7f5 2020-05-04 20:28:28   \n",
       "13575  ffff69cc-fec1-4fd3-9f98-93be1112a6b8 2020-05-08 06:57:30   \n",
       "\n",
       "                        source  building_type                project_type  \\\n",
       "0                 facebook_ads  assembly_shop                        None   \n",
       "1                yandex_direct  assembly_shop                        None   \n",
       "2      youtube_channel_reklama  assembly_shop                        None   \n",
       "3        instagram_new_adverts  assembly_shop                        None   \n",
       "4                 facebook_ads  assembly_shop                        None   \n",
       "...                        ...            ...                         ...   \n",
       "13571    instagram_new_adverts  assembly_shop                        None   \n",
       "13572             facebook_ads  assembly_shop                        None   \n",
       "13573            yandex_direct  assembly_shop                        None   \n",
       "13574    instagram_new_adverts  assembly_shop                        None   \n",
       "13575             facebook_ads  assembly_shop  satellite_orbital_assembly   \n",
       "\n",
       "               dt  \n",
       "0      2020-05-06  \n",
       "1      2020-05-06  \n",
       "2      2020-05-05  \n",
       "3      2020-05-05  \n",
       "4      2020-05-05  \n",
       "...           ...  \n",
       "13571  2020-05-04  \n",
       "13572  2020-05-04  \n",
       "13573  2020-05-04  \n",
       "13574  2020-05-04  \n",
       "13575  2020-05-08  \n",
       "\n",
       "[13576 rows x 6 columns]"
      ]
     },
     "execution_count": 15,
     "metadata": {},
     "output_type": "execute_result"
    }
   ],
   "source": [
    "profiles"
   ]
  },
  {
   "cell_type": "markdown",
   "metadata": {},
   "source": [
    "Посмотрим вначале, как к нам приходили пользователи со всех каналов по дням:"
   ]
  },
  {
   "cell_type": "code",
   "execution_count": 16,
   "metadata": {},
   "outputs": [
    {
     "data": {
      "image/png": "[encoded data removed]",
      "text/plain": [
       "<Figure size 1440x720 with 1 Axes>"
      ]
     },
     "metadata": {
      "needs_background": "light"
     },
     "output_type": "display_data"
    }
   ],
   "source": [
    "f, ax = plt.subplots(figsize=(20, 10))\n",
    "sns.histplot(data=profiles['dt'])\n",
    "plt.title('Гистограмма переходов пользователей со всех источников')\n",
    "plt.xlabel('Дата')\n",
    "plt.ylabel('Число пользователей')\n",
    "plt.grid()\n",
    "plt.show()"
   ]
  },
  {
   "cell_type": "markdown",
   "metadata": {},
   "source": [
    "Вначале рекламной кампании ( 4 мая 2020 года) у нас наблюдается самый сильный поток пользователей в наше приложение ( по крайне мере польователей, которые перешли по ссылке, установили приложение и совершили первое действие в нем).\n",
    "\n",
    "Построим график первых переходов пользователей по источникам:"
   ]
  },
  {
   "cell_type": "code",
   "execution_count": 17,
   "metadata": {},
   "outputs": [
    {
     "data": {
      "image/png": "[encoded data removed]",
      "text/plain": [
       "<Figure size 864x360 with 1 Axes>"
      ]
     },
     "metadata": {
      "needs_background": "light"
     },
     "output_type": "display_data"
    }
   ],
   "source": [
    "cumulative_facebook_ads = profiles[profiles['source']=='facebook_ads'][['dt','user_id']]\n",
    "cumulative_facebook_ads = cumulative_facebook_ads.groupby('dt').agg({'user_id': 'count'}).reset_index()\n",
    "cumulative_yandex_direct = profiles[profiles['source']=='yandex_direct'][['dt','user_id']]\n",
    "cumulative_yandex_direct = cumulative_yandex_direct.groupby('dt').agg({'user_id': 'count'}).reset_index()\n",
    "cumulative_instagram_new_adverts = profiles[profiles['source']=='instagram_new_adverts'][['dt','user_id']]\n",
    "cumulative_instagram_new_adverts = cumulative_instagram_new_adverts.groupby('dt').agg({'user_id': 'count'}).reset_index()\n",
    "cumulative_youtube_channel_reklama = profiles[profiles['source']=='youtube_channel_reklama'][['dt','user_id']]\n",
    "cumulative_youtube_channel_reklama = cumulative_youtube_channel_reklama.groupby('dt').agg({'user_id': 'count'}).reset_index()\n",
    "plt.figure(figsize=(12,5))\n",
    "plt.xlabel('Дата первого перехода')\n",
    "plt.ylabel('Количество пользователей')\n",
    "plt.plot(cumulative_facebook_ads['dt'], cumulative_facebook_ads['user_id'], label='facebook_ads')\n",
    "plt.plot(cumulative_yandex_direct['dt'], cumulative_yandex_direct['user_id'], label='yandex_direct')\n",
    "plt.plot(cumulative_instagram_new_adverts['dt'], cumulative_instagram_new_adverts['user_id'], label='instagram_new_adverts')\n",
    "plt.plot(cumulative_youtube_channel_reklama['dt'], cumulative_youtube_channel_reklama['user_id'], label='youtube_channel_reklama')\n",
    "plt.title('График переходов пользователей по источникам')\n",
    "plt.legend()\n",
    "plt.show()"
   ]
  },
  {
   "cell_type": "markdown",
   "metadata": {},
   "source": [
    "Лидирущий \"поставщик\" наших пользователей - это yandex_direct. В первые дни рекламной кампании он расположился на первом месте и до конца удерживал лидирующу позицию по привлечению новых пользователей в игру. Второе место уверенно занимает instagram_new_adverts. Третье и четвертое место: facebook_ads и youtube_channel_reklama привлекали нам примерно одинаковое количество пользователей. Все четыре источника перехода постепепнно в течении исследемого периода равномерно падали и привлекали с каждым днем все меньше и меньше пользователей в наше приложение.\n",
    "\n",
    "Посмотрим на источники по общему количеству пользователей:"
   ]
  },
  {
   "cell_type": "code",
   "execution_count": 18,
   "metadata": {},
   "outputs": [
    {
     "name": "stdout",
     "output_type": "stream",
     "text": [
      "                    source  unique_users\n",
      "2            yandex_direct          4817\n",
      "1    instagram_new_adverts          3347\n",
      "0             facebook_ads          2726\n",
      "3  youtube_channel_reklama          2686\n"
     ]
    },
    {
     "data": {
      "image/png": "[encoded data removed]",
      "text/plain": [
       "<Figure size 720x432 with 1 Axes>"
      ]
     },
     "metadata": {
      "needs_background": "light"
     },
     "output_type": "display_data"
    }
   ],
   "source": [
    "new_users = (\n",
    "        profiles.groupby(['dt', 'source'])\n",
    "        .agg({'user_id': 'nunique'})\n",
    "        .rename(columns={'user_id': 'unique_users'})\n",
    "        .reset_index()\n",
    "    )\n",
    "new_users= new_users.groupby('source', as_index=False).agg({'unique_users':'sum'}).sort_values(by='unique_users', \n",
    "                                                                                               ascending = False)\n",
    "print(new_users)\n",
    "fig, ax = plt.subplots()\n",
    "ax.bar(new_users['source'], new_users['unique_users'])\n",
    "plt.xlabel('Источник перехода')\n",
    "plt.ylabel('Количество')\n",
    "plt.grid()\n",
    "plt.title('Гистограмма переходов пользователей по источникам')\n",
    "fig.set_figwidth(10)    \n",
    "fig.set_figheight(6)  \n",
    "plt.show()"
   ]
  },
  {
   "cell_type": "markdown",
   "metadata": {},
   "source": [
    "По общему количеству переходов за весь период уверенно лидирует yandex_direct - 4817 пользователей.\n",
    "На втором месте расположился instagram_new_adverts с 3347 переходами. Третье и четвертое место практически с равнывм количеством пользователей перешло к facebook_ads и youtube_channel_reklama "
   ]
  },
  {
   "cell_type": "markdown",
   "metadata": {},
   "source": [
    "<a id='2.1.3'></a>\n",
    "#### Изучение пользователей по их действиям в приложении"
   ]
  },
  {
   "cell_type": "markdown",
   "metadata": {},
   "source": [
    "Посмотрим как уникальные пользователей у нас распределены по дням:"
   ]
  },
  {
   "cell_type": "code",
   "execution_count": 19,
   "metadata": {
    "scrolled": true
   },
   "outputs": [],
   "source": [
    "data_actions_user=data_actions_new.copy(deep=True)\n",
    "data_actions_user['event_datetime']=data_actions_user['event_datetime'].dt.date\n",
    "data_actions_user=data_actions_user.groupby('event_datetime', as_index=False).agg({'user_id': 'nunique'})"
   ]
  },
  {
   "cell_type": "markdown",
   "metadata": {},
   "source": [
    "Визуализируем наши данные:"
   ]
  },
  {
   "cell_type": "code",
   "execution_count": 20,
   "metadata": {},
   "outputs": [
    {
     "data": {
      "image/png": "[encoded data removed]",
      "text/plain": [
       "<Figure size 1440x720 with 1 Axes>"
      ]
     },
     "metadata": {
      "needs_background": "light"
     },
     "output_type": "display_data"
    }
   ],
   "source": [
    "fig, ax = plt.subplots()\n",
    "ax.bar(data_actions_user['event_datetime'], data_actions_user['user_id'])\n",
    "plt.xlabel('Дата')\n",
    "plt.ylabel('Количество пользователей')\n",
    "plt.grid()\n",
    "plt.title('Гистограмма пользователей по дням')\n",
    "fig.set_figwidth(20)    \n",
    "fig.set_figheight(10)  \n",
    "plt.show()\n",
    "plt.show()"
   ]
  },
  {
   "cell_type": "markdown",
   "metadata": {},
   "source": [
    "Мы наблюдаем что с 4 мая количество пользователей в игре прибавляется и максимум в чуть более 9000 достигается 10 мая, однако потом идет резкий спад. Предполагаю, что пользователи активно играли все майские прздники ( насколько я помню выходные были с 1 мая по 11 мая включительно в 2020 году). Так же, ключевой момент: 9 мая мы заплатили за последний день рекламной кампании (за 10 мая) и после этого уже новых игроков к нам по рекламным источникам не приходило, что так же обуславливает такой резкий спад.\n",
    "11 мая уже предрабочий день, наверное многие пошли заниматься делами ( глажка, уборка, готовка еды на рабочую неделю), поэтому активность немного снизилась. После 11 мая наблюдается стабильная тенденция уменьшения пользователей каждый день и к началу июня уникальных пользователей в игре остается всего лишь 4, прискорбно."
   ]
  },
  {
   "cell_type": "markdown",
   "metadata": {},
   "source": [
    "Теперь предлагаю посмотреть на то, как пользователи проявляли активность в приложении по дням:"
   ]
  },
  {
   "cell_type": "code",
   "execution_count": 21,
   "metadata": {},
   "outputs": [
    {
     "data": {
      "image/png": "[encoded data removed]",
      "text/plain": [
       "<Figure size 1440x720 with 1 Axes>"
      ]
     },
     "metadata": {
      "needs_background": "light"
     },
     "output_type": "display_data"
    }
   ],
   "source": [
    "f, ax = plt.subplots(figsize=(20, 10))\n",
    "sns.histplot(data=data_actions_new['event_datetime'].dt.date)\n",
    "plt.title('Гистограмма активности пользователей по дням')\n",
    "plt.xlabel('Дата')\n",
    "plt.ylabel('Активность пользователей')\n",
    "plt.grid()\n",
    "plt.show()"
   ]
  },
  {
   "cell_type": "code",
   "execution_count": 22,
   "metadata": {},
   "outputs": [
    {
     "data": {
      "image/png": "[encoded data removed]",
      "text/plain": [
       "<Figure size 864x360 with 1 Axes>"
      ]
     },
     "metadata": {
      "needs_background": "light"
     },
     "output_type": "display_data"
    }
   ],
   "source": [
    "cumulative_assembly_shop = data_actions_new[data_actions_new['building_type']=='assembly_shop'][['dt','user_id']]\n",
    "cumulative_assembly_shop = cumulative_assembly_shop.groupby('dt').agg({'user_id': 'count'}).reset_index()\n",
    "cumulative_spaceport = data_actions_new[data_actions_new['building_type']=='spaceport'][['dt','user_id']]\n",
    "cumulative_spaceport = cumulative_spaceport.groupby('dt').agg({'user_id': 'count'}).reset_index()\n",
    "cumulative_research_center = data_actions_new[data_actions_new['building_type']=='research_center'][['dt','user_id']]\n",
    "cumulative_research_center = cumulative_research_center.groupby('dt').agg({'user_id': 'count'}).reset_index()\n",
    "plt.figure(figsize=(12,5))\n",
    "plt.xlabel('Дата постройки')\n",
    "plt.ylabel('Количество пользователей')\n",
    "plt.plot(cumulative_assembly_shop['dt'], cumulative_assembly_shop['user_id'], label='assembly_shop')\n",
    "plt.plot(cumulative_spaceport['dt'], cumulative_spaceport['user_id'], label='spaceport')\n",
    "plt.plot(cumulative_research_center['dt'], cumulative_research_center['user_id'], label='event_datetime')\n",
    "plt.title('График постройки зданий')\n",
    "plt.legend()\n",
    "plt.show()"
   ]
  },
  {
   "cell_type": "markdown",
   "metadata": {},
   "source": [
    "Итак, мы получаем, что активность пользователей в приложении полностью совпадает с количеством уникальных пользователей по дням: стремительный рост активности с 4 мая, достигающий пика 10 мая ( чуть более 15 000 действий в день) и потом неуклонный спад до окончания исследуемого периода. \n",
    "\n",
    "По второму графику можно сказать, что такой резкий спад связан еще с тем ( помимо того что с 11 мая к нам перестали приходить новые пользователи), старые игроки полностью перестали почему то строить assembly_shop - здесь надо задать вопрос разрабочикам, почему так произошло ( возможно были технические проблемы с этим зданием и его строительство полностью отключили в игре). Так, возможно, есть какие то проблемы со строительством spaceport - его строительство так почему достаточно резко падает ( возможно это дорогое в постройке здание и вначале игрокам выдавали грубо говоря по 1000 приветсвенных \"кристалов\" и они его усиленно строили, а потом валюта кончилась и они уже не могли его строить как раньше ( опять таки надо уточнить как происходило строительство)."
   ]
  },
  {
   "cell_type": "markdown",
   "metadata": {},
   "source": [
    "Посмотрим, что пользователи предпочитали строить:"
   ]
  },
  {
   "cell_type": "code",
   "execution_count": 23,
   "metadata": {},
   "outputs": [
    {
     "data": {
      "text/html": [
       "<div>\n",
       "<style scoped>\n",
       "    .dataframe tbody tr th:only-of-type {\n",
       "        vertical-align: middle;\n",
       "    }\n",
       "\n",
       "    .dataframe tbody tr th {\n",
       "        vertical-align: top;\n",
       "    }\n",
       "\n",
       "    .dataframe thead th {\n",
       "        text-align: right;\n",
       "    }\n",
       "</style>\n",
       "<table border=\"1\" class=\"dataframe\">\n",
       "  <thead>\n",
       "    <tr style=\"text-align: right;\">\n",
       "      <th></th>\n",
       "      <th>building_type</th>\n",
       "      <th>user_id</th>\n",
       "    </tr>\n",
       "  </thead>\n",
       "  <tbody>\n",
       "    <tr>\n",
       "      <th>2</th>\n",
       "      <td>spaceport</td>\n",
       "      <td>59325</td>\n",
       "    </tr>\n",
       "    <tr>\n",
       "      <th>0</th>\n",
       "      <td>assembly_shop</td>\n",
       "      <td>54494</td>\n",
       "    </tr>\n",
       "    <tr>\n",
       "      <th>1</th>\n",
       "      <td>research_center</td>\n",
       "      <td>14137</td>\n",
       "    </tr>\n",
       "  </tbody>\n",
       "</table>\n",
       "</div>"
      ],
      "text/plain": [
       "     building_type  user_id\n",
       "2        spaceport    59325\n",
       "0    assembly_shop    54494\n",
       "1  research_center    14137"
      ]
     },
     "execution_count": 23,
     "metadata": {},
     "output_type": "execute_result"
    }
   ],
   "source": [
    "building_type= data_actions_new.groupby('building_type', as_index=False).agg({'user_id':'count'}).sort_values(by='user_id', \n",
    "                                                                                               ascending = False)\n",
    "building_type"
   ]
  },
  {
   "cell_type": "code",
   "execution_count": 24,
   "metadata": {},
   "outputs": [
    {
     "data": {
      "image/png": "[encoded data removed]",
      "text/plain": [
       "<Figure size 720x360 with 1 Axes>"
      ]
     },
     "metadata": {
      "needs_background": "light"
     },
     "output_type": "display_data"
    }
   ],
   "source": [
    "fig, ax = plt.subplots()\n",
    "ax.bar(building_type['building_type'], building_type['user_id'])\n",
    "plt.xlabel('Тип здания')\n",
    "plt.ylabel('Количество построек')\n",
    "plt.grid()\n",
    "plt.title('Гистограмма распределения построенных объектов')\n",
    "fig.set_figwidth(10)    \n",
    "fig.set_figheight(5)  \n",
    "plt.show()\n",
    "plt.show()"
   ]
  },
  {
   "cell_type": "markdown",
   "metadata": {},
   "source": [
    "Мы узнали, что самый популярный тип объекта при строительстве зданий - это космопорт ( с почти 60000 построек). Следом с небольшим отставанием идет сборочный цех - 54494 построек. У исследовательского центра очень большое оставание - 14137 построек."
   ]
  },
  {
   "cell_type": "markdown",
   "metadata": {},
   "source": [
    "Далее предлагаю посмотреть как пользователи распределились по типу завершения первого уровня: кто победил по средством постройки орбитальной станции, а кто по средством ПВП."
   ]
  },
  {
   "cell_type": "markdown",
   "metadata": {},
   "source": [
    "Мы уже знаем, что пользователей, которые завершили первый этап посредством постройки орбитальной станции 1866 человек, проверим это еще раз:"
   ]
  },
  {
   "cell_type": "code",
   "execution_count": 25,
   "metadata": {},
   "outputs": [
    {
     "name": "stdout",
     "output_type": "stream",
     "text": [
      "\u001b[1mВсего пользователей заершили первый этап игры посредством постройки орбитаной станции:\u001b[0m 1866\n"
     ]
    }
   ],
   "source": [
    "data_actions_new_pve=data_actions_new[data_actions_new['event'] == 'project']\n",
    "print('\\033[1m' + 'Всего пользователей заершили первый этап игры посредством постройки орбитаной станции:' + '\\033[0m',\\\n",
    "                                      data_actions_new_pve['user_id'].nunique())"
   ]
  },
  {
   "cell_type": "markdown",
   "metadata": {},
   "source": [
    "Теперь узнаем, сколько людей завершило первый уровень путем победы через ПВП:"
   ]
  },
  {
   "cell_type": "code",
   "execution_count": 26,
   "metadata": {},
   "outputs": [
    {
     "name": "stdout",
     "output_type": "stream",
     "text": [
      "\u001b[1mВсего пользователей заершили первый этап игры посредством ПВП поебды :\u001b[0m 3951\n"
     ]
    }
   ],
   "source": [
    "data_actions_new_pvp=data_actions_new[data_actions_new['event'] != 'project']\n",
    "data_actions_new_pvp=data_actions_new_pvp[data_actions_new_pvp['event'] == 'finished_stage_1']\n",
    "data_actions_new_pvp=data_actions_new_pvp[~data_actions_new['user_id'].isin(data_actions_new_pve['user_id'])]\n",
    "print('\\033[1m' + 'Всего пользователей заершили первый этап игры посредством ПВП поебды :' + '\\033[0m', \\\n",
    "                                          data_actions_new_pvp['user_id'].nunique())"
   ]
  },
  {
   "cell_type": "markdown",
   "metadata": {},
   "source": [
    "Отлично, данные сошлись: мы знаем что у нас пропусков по столбцу building_type 7683 - это как раз сумма пользователей, которые завершили первый этам ( либо постройкой орбитальной станции - это 1866 игроков и игроков, которые завершили первый этам через PVP-победу - это 3951 игрок; плючи сюдаже надо добавить еще 1866 пропусков, которые дал нам project по графе building_type).\n",
    "\n",
    "Посчитаем сколько людей не завершили первый этам:"
   ]
  },
  {
   "cell_type": "code",
   "execution_count": 27,
   "metadata": {},
   "outputs": [
    {
     "name": "stdout",
     "output_type": "stream",
     "text": [
      "\u001b[1mВсего пользователей не завершили первый этап:\u001b[0m 7759\n"
     ]
    }
   ],
   "source": [
    "print('\\033[1m' + 'Всего пользователей не завершили первый этап:' + '\\033[0m', \\\n",
    "      (len(profiles)-len(data_actions_new_pvp)-len(data_actions_new_pve)))"
   ]
  },
  {
   "cell_type": "code",
   "execution_count": 28,
   "metadata": {},
   "outputs": [],
   "source": [
    "data_actions_new_no=data_actions_new[data_actions_new['event'] != 'project']\n",
    "data_actions_new_no=data_actions_new_no[~data_actions_new['user_id'].isin(data_actions_new_pvp['user_id'])]\n",
    "data_actions_new_no=data_actions_new_no[~data_actions_new['user_id'].isin(data_actions_new_pve['user_id'])]"
   ]
  },
  {
   "cell_type": "markdown",
   "metadata": {},
   "source": [
    "Далее предлагаю посмотреть, сколько зданий строят пользователи в зависимости от типа победы:"
   ]
  },
  {
   "cell_type": "code",
   "execution_count": 29,
   "metadata": {},
   "outputs": [
    {
     "name": "stdout",
     "output_type": "stream",
     "text": [
      "12.64790996784566 \u001b[1m- Столько зданий в среднем строит пользователь, победивший путем потройки Орбитальной станции\u001b[0m\n",
      "9.411541381928625 \u001b[1m- Столько зданий в среднем строит пользователь, победивший путем ПВП победы\u001b[0m\n",
      "8.657043433432143 \u001b[1m- Столько зданий в среднем строит пользователь, который не прошел первый уровень\u001b[0m\n"
     ]
    }
   ],
   "source": [
    "print(float(data_actions_new[data_actions_new['user_id'].isin(data_actions_new_pve['user_id'])].groupby('user_id')\\\n",
    "      .agg({'building_type':'count'}).mean()),\\\n",
    "      '\\033[1m' + '- Столько зданий в среднем строит пользователь, победивший путем потройки Орбитальной станции' + '\\033[0m')\n",
    "print(float(data_actions_new[data_actions_new['user_id'].isin(data_actions_new_pvp['user_id'])].groupby('user_id')\\\n",
    "      .agg({'building_type':'count'}).mean()),\\\n",
    "      '\\033[1m' + '- Столько зданий в среднем строит пользователь, победивший путем ПВП победы' + '\\033[0m')\n",
    "print(float(data_actions_new[data_actions_new['user_id'].isin(data_actions_new_no['user_id'].unique())].groupby('user_id')\\\n",
    "      .agg({'building_type':'count'}).mean()), \\\n",
    "      '\\033[1m' + '- Столько зданий в среднем строит пользователь, который не прошел первый уровень' + '\\033[0m')"
   ]
  },
  {
   "cell_type": "markdown",
   "metadata": {},
   "source": [
    "Визуализируем полученные данные:"
   ]
  },
  {
   "cell_type": "code",
   "execution_count": 30,
   "metadata": {},
   "outputs": [],
   "source": [
    "data_actions_new_pve_only=data_actions_new[data_actions_new['user_id'].isin(data_actions_new_pve['user_id'])]\n",
    "data_actions_new_pve_only=data_actions_new_pve_only.groupby(['user_id', 'building_type']) \\\n",
    "                                                .agg({'building_type':'count'}) \\\n",
    "                                                .rename(columns={'user_id': 'Пользователи','building_type': 'Тип постройки'})\\\n",
    "                                                .reset_index()\n",
    "data_actions_new_pve_only=data_actions_new_pve_only.rename(columns={'user_id': 'Пользователи',\\\n",
    "                                                                    'building_type': 'Тип постройки',\\\n",
    "                                                                    'Тип постройки':'Количество построек'})"
   ]
  },
  {
   "cell_type": "code",
   "execution_count": 31,
   "metadata": {},
   "outputs": [],
   "source": [
    "data_actions_new_pvp_only=data_actions_new[data_actions_new['user_id'].isin(data_actions_new_pvp['user_id'])]\n",
    "data_actions_new_pvp_only=data_actions_new_pvp_only.groupby(['user_id', 'building_type'])\\\n",
    "                                                   .agg({'building_type':'count'})\\\n",
    "                                                   .rename(columns={'user_id': 'Пользователб','building_type': 'Тип постройки'})\\\n",
    "                                                   .reset_index()\n",
    "data_actions_new_pvp_only=data_actions_new_pvp_only.rename(columns={'user_id': 'Пользователи',\\\n",
    "                                                                    'building_type': 'Тип постройки',\\\n",
    "                                                                    'Тип постройки':'Количество построек'})"
   ]
  },
  {
   "cell_type": "code",
   "execution_count": 32,
   "metadata": {},
   "outputs": [],
   "source": [
    "data_actions_new_no_win=data_actions_new[data_actions_new['user_id'].isin(data_actions_new_no['user_id'].unique())]\n",
    "data_actions_new_no_win=data_actions_new_no_win.groupby(['user_id', 'building_type'])\\\n",
    "                                                   .agg({'building_type':'count'})\\\n",
    "                                                   .rename(columns={'user_id': 'Пользователб','building_type': 'Тип постройки'})\\\n",
    "                                                   .reset_index()\n",
    "data_actions_new_no_win=data_actions_new_no_win.rename(columns={'user_id': 'Пользователи',\\\n",
    "                                                                    'building_type': 'Тип постройки',\\\n",
    "                                                                    'Тип постройки':'Количество построек'})"
   ]
  },
  {
   "cell_type": "code",
   "execution_count": 33,
   "metadata": {},
   "outputs": [
    {
     "data": {
      "image/png": "[encoded data removed]",
      "text/plain": [
       "<Figure size 432x288 with 1 Axes>"
      ]
     },
     "metadata": {
      "needs_background": "light"
     },
     "output_type": "display_data"
    },
    {
     "data": {
      "image/png": "[encoded data removed]",
      "text/plain": [
       "<Figure size 432x288 with 1 Axes>"
      ]
     },
     "metadata": {
      "needs_background": "light"
     },
     "output_type": "display_data"
    },
    {
     "data": {
      "image/png": "[encoded data removed]",
      "text/plain": [
       "<Figure size 432x288 with 1 Axes>"
      ]
     },
     "metadata": {
      "needs_background": "light"
     },
     "output_type": "display_data"
    }
   ],
   "source": [
    "plt.grid()\n",
    "boxplot=sns.boxplot(x='Тип постройки', y='Количество построек', data=data_actions_new_pve_only, hue = 'Тип постройки') \n",
    "boxplot.axes.set_title(\"Количество построек зданий PVE-игроками\")\n",
    "boxplot.set_xlabel(\"Тип здания\")\n",
    "boxplot.set_ylabel(\"Количество построек\")\n",
    "plt.show()\n",
    "plt.grid()\n",
    "boxplot=sns.boxplot(x='Тип постройки', y='Количество построек', data=data_actions_new_pvp_only, hue = 'Тип постройки') \n",
    "boxplot.axes.set_title(\"Количество построек зданий PVP-игроками\")\n",
    "boxplot.set_xlabel(\"Тип здания\")\n",
    "boxplot.set_ylabel(\"Количество построек\")\n",
    "plt.show()\n",
    "plt.grid()\n",
    "boxplot=sns.boxplot(x='Тип постройки', y='Количество построек', data=data_actions_new_no_win, hue = 'Тип постройки') \n",
    "boxplot.axes.set_title(\"Количество построек зданий игроками, незавершифшими 1-й уровень\")\n",
    "boxplot.set_xlabel(\"Тип здания\")\n",
    "boxplot.set_ylabel(\"Количество построек\")\n",
    "plt.show()"
   ]
  },
  {
   "cell_type": "markdown",
   "metadata": {},
   "source": [
    "Итак, у нас получается, что пользователи, которые победили с помощью постройки Орбитальной станции - строят больше всего построек ( что в принципе неудивительно). Игроки, побеждающие с помощью PVP-побед так же строят достаточно много зданий. Что касается пользователей, которые не прошли 1-й уровень ожидаемо в среднем строят меньше всего зданий."
   ]
  },
  {
   "cell_type": "markdown",
   "metadata": {},
   "source": [
    "Предлагаю так же посмотреть, какие игроки ( по типу побед) какие здания предпочитают строить."
   ]
  },
  {
   "cell_type": "code",
   "execution_count": 34,
   "metadata": {},
   "outputs": [
    {
     "data": {
      "image/png": "[encoded data removed]",
      "text/plain": [
       "<Figure size 432x288 with 1 Axes>"
      ]
     },
     "metadata": {
      "needs_background": "light"
     },
     "output_type": "display_data"
    },
    {
     "data": {
      "image/png": "[encoded data removed]",
      "text/plain": [
       "<Figure size 432x288 with 1 Axes>"
      ]
     },
     "metadata": {
      "needs_background": "light"
     },
     "output_type": "display_data"
    },
    {
     "data": {
      "image/png": "[encoded data removed]",
      "text/plain": [
       "<Figure size 432x288 with 1 Axes>"
      ]
     },
     "metadata": {
      "needs_background": "light"
     },
     "output_type": "display_data"
    }
   ],
   "source": [
    "pve = data_actions_new_pve_only.groupby(['Тип постройки']).agg({'Количество построек':'sum'}).reset_index()\n",
    "pvp = data_actions_new_pvp_only.groupby(['Тип постройки']).agg({'Количество построек':'sum'}).reset_index()                       \n",
    "no_win = data_actions_new_no_win.groupby(['Тип постройки']).agg({'Количество построек':'sum'}).reset_index()     \n",
    "fig, ax = plt.subplots()\n",
    "ax.bar(pve['Тип постройки'], pve['Количество построек'])\n",
    "plt.xlabel('Тип здания')\n",
    "plt.ylabel('Количество построек')\n",
    "plt.grid()\n",
    "plt.title('Гистограмма распределения построенных объектов у pve-игроков')\n",
    "plt.show()\n",
    "fig, ax = plt.subplots()\n",
    "ax.bar(pvp['Тип постройки'], pvp['Количество построек'])\n",
    "plt.xlabel('Тип здания')\n",
    "plt.ylabel('Количество построек')\n",
    "plt.grid()\n",
    "plt.title('Гистограмма распределения построенных объектову pvp-игроков')\n",
    "plt.show()\n",
    "fig, ax = plt.subplots()\n",
    "ax.bar(no_win['Тип постройки'], no_win['Количество построек'])\n",
    "plt.xlabel('Тип здания')\n",
    "plt.ylabel('Количество построек')\n",
    "plt.grid()\n",
    "plt.title('Гистограмма распределения построенных объектов у игроков не прошедших 1-й уровень')\n",
    "plt.show()"
   ]
  },
  {
   "cell_type": "markdown",
   "metadata": {},
   "source": [
    "Стоит отметить, что самый популярный объект у всех игрков, независимо от типа победы - spaceport. Самый не популярный - research_center ( инетересно с чем это связано, посмотреть на них бы  в игре и понять какой функционал у каждого из них, может тогда станет яснее)."
   ]
  },
  {
   "cell_type": "markdown",
   "metadata": {},
   "source": [
    "<a id='2.2'></a>\n",
    "### Изучение поведения пользователей в зависмости от источника перехода"
   ]
  },
  {
   "cell_type": "markdown",
   "metadata": {},
   "source": [
    "Предлагаю посмотреть как распрелялись типы постройки в зависимости от источника перехода"
   ]
  },
  {
   "cell_type": "code",
   "execution_count": 35,
   "metadata": {},
   "outputs": [
    {
     "data": {
      "text/html": [
       "<div>\n",
       "<style scoped>\n",
       "    .dataframe tbody tr th:only-of-type {\n",
       "        vertical-align: middle;\n",
       "    }\n",
       "\n",
       "    .dataframe tbody tr th {\n",
       "        vertical-align: top;\n",
       "    }\n",
       "\n",
       "    .dataframe thead th {\n",
       "        text-align: right;\n",
       "    }\n",
       "</style>\n",
       "<table border=\"1\" class=\"dataframe\">\n",
       "  <thead>\n",
       "    <tr style=\"text-align: right;\">\n",
       "      <th>building_type</th>\n",
       "      <th>source</th>\n",
       "      <th>assembly_shop</th>\n",
       "      <th>assembly_shop, Процент</th>\n",
       "      <th>research_center</th>\n",
       "      <th>research_center, Процент</th>\n",
       "      <th>spaceport</th>\n",
       "      <th>spaceport, Процент</th>\n",
       "      <th>all_building</th>\n",
       "      <th>Процент</th>\n",
       "    </tr>\n",
       "  </thead>\n",
       "  <tbody>\n",
       "    <tr>\n",
       "      <th>2</th>\n",
       "      <td>yandex_direct</td>\n",
       "      <td>19295</td>\n",
       "      <td>42.847309</td>\n",
       "      <td>4952</td>\n",
       "      <td>10.996625</td>\n",
       "      <td>20785</td>\n",
       "      <td>46.156067</td>\n",
       "      <td>45032</td>\n",
       "      <td>35.193348</td>\n",
       "    </tr>\n",
       "    <tr>\n",
       "      <th>1</th>\n",
       "      <td>instagram_new_adverts</td>\n",
       "      <td>13431</td>\n",
       "      <td>42.215936</td>\n",
       "      <td>3537</td>\n",
       "      <td>11.117397</td>\n",
       "      <td>14847</td>\n",
       "      <td>46.666667</td>\n",
       "      <td>31815</td>\n",
       "      <td>24.864016</td>\n",
       "    </tr>\n",
       "    <tr>\n",
       "      <th>0</th>\n",
       "      <td>facebook_ads</td>\n",
       "      <td>11117</td>\n",
       "      <td>42.543339</td>\n",
       "      <td>2945</td>\n",
       "      <td>11.270139</td>\n",
       "      <td>12069</td>\n",
       "      <td>46.186522</td>\n",
       "      <td>26131</td>\n",
       "      <td>20.421864</td>\n",
       "    </tr>\n",
       "    <tr>\n",
       "      <th>3</th>\n",
       "      <td>youtube_channel_reklama</td>\n",
       "      <td>10651</td>\n",
       "      <td>42.641525</td>\n",
       "      <td>2703</td>\n",
       "      <td>10.821523</td>\n",
       "      <td>11624</td>\n",
       "      <td>46.536953</td>\n",
       "      <td>24978</td>\n",
       "      <td>19.520773</td>\n",
       "    </tr>\n",
       "  </tbody>\n",
       "</table>\n",
       "</div>"
      ],
      "text/plain": [
       "building_type                   source  assembly_shop  assembly_shop, Процент  \\\n",
       "2                        yandex_direct          19295               42.847309   \n",
       "1                instagram_new_adverts          13431               42.215936   \n",
       "0                         facebook_ads          11117               42.543339   \n",
       "3              youtube_channel_reklama          10651               42.641525   \n",
       "\n",
       "building_type  research_center  research_center, Процент  spaceport  \\\n",
       "2                         4952                 10.996625      20785   \n",
       "1                         3537                 11.117397      14847   \n",
       "0                         2945                 11.270139      12069   \n",
       "3                         2703                 10.821523      11624   \n",
       "\n",
       "building_type  spaceport, Процент  all_building    Процент  \n",
       "2                       46.156067         45032  35.193348  \n",
       "1                       46.666667         31815  24.864016  \n",
       "0                       46.186522         26131  20.421864  \n",
       "3                       46.536953         24978  19.520773  "
      ]
     },
     "execution_count": 35,
     "metadata": {},
     "output_type": "execute_result"
    }
   ],
   "source": [
    "data_actions_new_group = data_actions_new.pivot_table(index='source', columns='building_type', \\\n",
    "                                                      values='user_id',aggfunc='count').reset_index()\n",
    "data_actions_new_group['all_building']=data_actions_new_group['assembly_shop']+data_actions_new_group['research_center']\\\n",
    "                                      +data_actions_new_group['spaceport']\n",
    "data_actions_new_group['Процент'] = data_actions_new_group['all_building'] / data_actions_new_group['all_building'].sum() * 100\n",
    "data_actions_new_group['assembly_shop, Процент']=data_actions_new_group['assembly_shop']\\\n",
    "                                                 /data_actions_new_group['all_building']*100\n",
    "data_actions_new_group['research_center, Процент']=data_actions_new_group['research_center']\\\n",
    "                                                  /data_actions_new_group['all_building']*100\n",
    "data_actions_new_group['spaceport, Процент']=data_actions_new_group['spaceport']\\\n",
    "                                            /data_actions_new_group['all_building']*100\n",
    "data_actions_new_group = data_actions_new_group.reindex(columns=['source','assembly_shop','assembly_shop, Процент',\\\n",
    "                                                                 'research_center','research_center, Процент',\\\n",
    "                                                                 'spaceport','spaceport, Процент','all_building','Процент'])\n",
    "data_actions_new_group.sort_values(by='all_building', ascending = False)"
   ]
  },
  {
   "cell_type": "markdown",
   "metadata": {},
   "source": [
    "Рекламный источник yandex_direct и здесь первый ( что и не удивительно), через этот канал к нам пришло больше всего пользователей и эти пользователи строят больше всего - практически 35 % построект приходится на пользователей, пришедших с yandex_direct. Второе место количества построек ( как и количество пришедших пользователей) у нас у пользователей, перешедших с instagram_new_adverts - почти 25% всех построект. На третьем и четвертом месте обосновались наши аутсайдеры: facebook_ads и youtube_channel_reklama с 20 % и 19 % соответветственно.\n",
    "\n",
    "Игроки, перешедшие с разных источников, строят примерно в равной пропорции строят здания разных типов: assembly_shop - 42%, research_center - 11%, spaceport - 46 %.\n",
    "\n",
    "То есть можем заключить, между пользователями с разных источников нет разницы в том что они строят в процентном соотношении."
   ]
  },
  {
   "cell_type": "markdown",
   "metadata": {},
   "source": [
    "Посмотрим как побеждают игроки, перешедшие с разных каналов:"
   ]
  },
  {
   "cell_type": "code",
   "execution_count": 36,
   "metadata": {},
   "outputs": [
    {
     "data": {
      "text/html": [
       "<div>\n",
       "<style scoped>\n",
       "    .dataframe tbody tr th:only-of-type {\n",
       "        vertical-align: middle;\n",
       "    }\n",
       "\n",
       "    .dataframe tbody tr th {\n",
       "        vertical-align: top;\n",
       "    }\n",
       "\n",
       "    .dataframe thead th {\n",
       "        text-align: right;\n",
       "    }\n",
       "</style>\n",
       "<table border=\"1\" class=\"dataframe\">\n",
       "  <thead>\n",
       "    <tr style=\"text-align: right;\">\n",
       "      <th>event</th>\n",
       "      <th>source</th>\n",
       "      <th>building</th>\n",
       "      <th>finished_stage_1</th>\n",
       "      <th>project</th>\n",
       "      <th>Процент побед строительством</th>\n",
       "      <th>Процент побед посредством ПВП</th>\n",
       "    </tr>\n",
       "  </thead>\n",
       "  <tbody>\n",
       "    <tr>\n",
       "      <th>2</th>\n",
       "      <td>yandex_direct</td>\n",
       "      <td>45032</td>\n",
       "      <td>2042</td>\n",
       "      <td>620</td>\n",
       "      <td>30.362390</td>\n",
       "      <td>69.637610</td>\n",
       "    </tr>\n",
       "    <tr>\n",
       "      <th>1</th>\n",
       "      <td>instagram_new_adverts</td>\n",
       "      <td>31815</td>\n",
       "      <td>1466</td>\n",
       "      <td>476</td>\n",
       "      <td>32.469304</td>\n",
       "      <td>67.530696</td>\n",
       "    </tr>\n",
       "    <tr>\n",
       "      <th>3</th>\n",
       "      <td>youtube_channel_reklama</td>\n",
       "      <td>24978</td>\n",
       "      <td>1159</td>\n",
       "      <td>379</td>\n",
       "      <td>32.700604</td>\n",
       "      <td>67.299396</td>\n",
       "    </tr>\n",
       "    <tr>\n",
       "      <th>0</th>\n",
       "      <td>facebook_ads</td>\n",
       "      <td>26131</td>\n",
       "      <td>1150</td>\n",
       "      <td>391</td>\n",
       "      <td>34.000000</td>\n",
       "      <td>66.000000</td>\n",
       "    </tr>\n",
       "  </tbody>\n",
       "</table>\n",
       "</div>"
      ],
      "text/plain": [
       "event                   source  building  finished_stage_1  project  \\\n",
       "2                yandex_direct     45032              2042      620   \n",
       "1        instagram_new_adverts     31815              1466      476   \n",
       "3      youtube_channel_reklama     24978              1159      379   \n",
       "0                 facebook_ads     26131              1150      391   \n",
       "\n",
       "event  Процент побед строительством  Процент побед посредством ПВП  \n",
       "2                         30.362390                      69.637610  \n",
       "1                         32.469304                      67.530696  \n",
       "3                         32.700604                      67.299396  \n",
       "0                         34.000000                      66.000000  "
      ]
     },
     "execution_count": 36,
     "metadata": {},
     "output_type": "execute_result"
    }
   ],
   "source": [
    "data_actions_new_group_win = data_actions_new.pivot_table(index='source', columns='event', values='user_id',aggfunc='count')\\\n",
    "                             .reset_index().sort_values(by='finished_stage_1', ascending = False)\n",
    "data_actions_new_group_win['Процент побед строительством']=data_actions_new_group_win['project']\\\n",
    "                                                          /data_actions_new_group_win['finished_stage_1']*100\n",
    "data_actions_new_group_win['Процент побед посредством ПВП']=(100 - data_actions_new_group_win['project']\\\n",
    "                                                             /data_actions_new_group_win['finished_stage_1']*100)\n",
    "data_actions_new_group_win"
   ]
  },
  {
   "cell_type": "markdown",
   "metadata": {},
   "source": [
    "Ранее мы выяснили, что игроки в основной своей массе побеждали в основном посредством ПВП-побед, в разрезе рекламных источников данная тенденция сохранилась. Притом видна закономерность: игроки, пришедшие по самому большому каналу, побеждают в ПВП больше чем игроки пришедшие с самых маленьких источников привлечения. И наоборот: победы за счет строительства Орбитаной станции в большей степени характерно игрокам, пришедших с менее популярных каналов привлечения."
   ]
  },
  {
   "cell_type": "markdown",
   "metadata": {},
   "source": [
    "Далее предлагаю посмотреть сколько в среднем строят игроки, пришедшие с разных источников:"
   ]
  },
  {
   "cell_type": "code",
   "execution_count": 37,
   "metadata": {},
   "outputs": [
    {
     "name": "stdout",
     "output_type": "stream",
     "text": [
      "9.35 \u001b[1m- Столько зданий в среднем строит пользователь yandex_direct\u001b[0m\n",
      "9.51 \u001b[1m- Столько зданий в среднем строит пользователь instagram_new_adverts\u001b[0m\n",
      "9.59 \u001b[1m- Столько зданий в среднем строит пользователь facebook_ads\u001b[0m\n",
      "9.3 \u001b[1m- Столько зданий в среднем строит пользователь youtube_channel_reklama\u001b[0m\n"
     ]
    }
   ],
   "source": [
    "print(round(float(data_actions_new[(data_actions_new['source'] == 'yandex_direct')].groupby('user_id')\\\n",
    "                  .agg({'building_type':'count'}).mean()),2),\\\n",
    "                  '\\033[1m' + '- Столько зданий в среднем строит пользователь yandex_direct' + '\\033[0m')\n",
    "print(round(float(data_actions_new[(data_actions_new['source'] == 'instagram_new_adverts')].groupby('user_id')\\\n",
    "                  .agg({'building_type':'count'}).mean()),2), \\\n",
    "                  '\\033[1m' + '- Столько зданий в среднем строит пользователь instagram_new_adverts' + '\\033[0m')\n",
    "print(round(float(data_actions_new[(data_actions_new['source'] == 'facebook_ads')].groupby('user_id').\\\n",
    "                  agg({'building_type':'count'}).mean()),2), \\\n",
    "                  '\\033[1m' + '- Столько зданий в среднем строит пользователь facebook_ads' + '\\033[0m')\n",
    "print(round(float(data_actions_new[(data_actions_new['source'] == 'youtube_channel_reklama')].groupby('user_id')\\\n",
    "                  .agg({'building_type':'count'}).mean()),2), \\\n",
    "                  '\\033[1m' + '- Столько зданий в среднем строит пользователь youtube_channel_reklama' + '\\033[0m')"
   ]
  },
  {
   "cell_type": "markdown",
   "metadata": {},
   "source": [
    "В рамках нашей монетизации в данном случае стоит обратить внимание на следубщие источники привлечения игроков: facebook_ads и instagram_new_adverts - данные игроки предпочитают строить."
   ]
  },
  {
   "cell_type": "markdown",
   "metadata": {},
   "source": [
    "Далее предлагаю посмотреть на пользователей, привлеченных с разных источников перехода в разрезе стоимости затрат для их привлечения. Вначале сгрупируем пользователей по дням и проставим стоимость привлечения пользователей по дням.\n",
    "\n",
    "Стоит обратить вниманеи, что стоимость привлечения пользователей начинается с 3 мая 2020 г, а данные по переходам пользователям начинаются с 4 мая, поэтому могу предположить, что стоимость, указанная на 3 мая - это цена привлечения на следующий день, поэтому надо будет отнять один день при формировании расчетно таблице:"
   ]
  },
  {
   "cell_type": "code",
   "execution_count": 38,
   "metadata": {},
   "outputs": [
    {
     "data": {
      "text/html": [
       "<div>\n",
       "<style scoped>\n",
       "    .dataframe tbody tr th:only-of-type {\n",
       "        vertical-align: middle;\n",
       "    }\n",
       "\n",
       "    .dataframe tbody tr th {\n",
       "        vertical-align: top;\n",
       "    }\n",
       "\n",
       "    .dataframe thead th {\n",
       "        text-align: right;\n",
       "    }\n",
       "</style>\n",
       "<table border=\"1\" class=\"dataframe\">\n",
       "  <thead>\n",
       "    <tr style=\"text-align: right;\">\n",
       "      <th></th>\n",
       "      <th>cost</th>\n",
       "      <th>user_id</th>\n",
       "      <th>Стоимость привлечения 1 игрока</th>\n",
       "    </tr>\n",
       "    <tr>\n",
       "      <th>source</th>\n",
       "      <th></th>\n",
       "      <th></th>\n",
       "      <th></th>\n",
       "    </tr>\n",
       "  </thead>\n",
       "  <tbody>\n",
       "    <tr>\n",
       "      <th>yandex_direct</th>\n",
       "      <td>2233.111449</td>\n",
       "      <td>4817</td>\n",
       "      <td>0.463590</td>\n",
       "    </tr>\n",
       "    <tr>\n",
       "      <th>instagram_new_adverts</th>\n",
       "      <td>2161.441691</td>\n",
       "      <td>3347</td>\n",
       "      <td>0.645785</td>\n",
       "    </tr>\n",
       "    <tr>\n",
       "      <th>facebook_ads</th>\n",
       "      <td>2140.904643</td>\n",
       "      <td>2726</td>\n",
       "      <td>0.785365</td>\n",
       "    </tr>\n",
       "    <tr>\n",
       "      <th>youtube_channel_reklama</th>\n",
       "      <td>1068.119204</td>\n",
       "      <td>2686</td>\n",
       "      <td>0.397662</td>\n",
       "    </tr>\n",
       "  </tbody>\n",
       "</table>\n",
       "</div>"
      ],
      "text/plain": [
       "                                cost  user_id  Стоимость привлечения 1 игрока\n",
       "source                                                                       \n",
       "yandex_direct            2233.111449     4817                        0.463590\n",
       "instagram_new_adverts    2161.441691     3347                        0.645785\n",
       "facebook_ads             2140.904643     2726                        0.785365\n",
       "youtube_channel_reklama  1068.119204     2686                        0.397662"
      ]
     },
     "execution_count": 38,
     "metadata": {},
     "output_type": "execute_result"
    }
   ],
   "source": [
    "profiles_users=profiles.groupby(['dt', 'source']).agg({'user_id': 'nunique'}).reset_index()\n",
    "profiles_users['dt'] = pd.to_datetime(profiles_users['dt'])\n",
    "profiles_users['dt'] = profiles_users['dt']-timedelta(days=1)\n",
    "profiles_users = pd.merge(profiles_users, data_cost,  how='left', left_on=['dt','source'], right_on = ['day','source'])                          \n",
    "profiles_users = profiles_users.groupby('source').agg({'cost':'sum', 'user_id':'sum'})\\\n",
    "                                                 .sort_values(by='cost', ascending = False)\n",
    "profiles_users['Стоимость привлечения 1 игрока'] = profiles_users['cost']/profiles_users['user_id']\n",
    "profiles_users"
   ]
  },
  {
   "cell_type": "markdown",
   "metadata": {},
   "source": [
    "<a id='2.3'></a>\n",
    "### Выводы"
   ]
  },
  {
   "cell_type": "markdown",
   "metadata": {},
   "source": [
    "1. Мы выяснили, что пропусков наших данных нет:\n",
    "   * По колонке \"building_type\" у нас в датасете 7683 пропусков - это как раз сумма событий \"finished_stage_1\" и \"project\" - это значит, что когда у игрока происходит событие Постройка орбитальной станции или Проект завершен  - по факту никакое строительство в колонке \"building_type\" не отображается. Можем заключить: пропусков в столбце \"building_type\" нет, отсутствующие значения - это либо постройкак Орбитальной станции либо Завершение проекта.\n",
    "   * По столбцу \"project_type\" у нас есть 133 774 пропусков. Но и здесь мы уже получили ответ: это не пропуски, просто в этой колоки отображается факт Постройки орбитальной станции. Выше мы посчитали, что игроки построили 1866 орбитальных станци, а пропусков 133 774 - в сумме этим значения дают 135 640 - это как раз количество строк в нашем первом датасете.\n",
    "2. По общему количеству переходов за весь период уверенно лидирует yandex_direct - 4817 пользователей.\n",
    "На втором месте расположился instagram_new_adverts с 3347 переходами. Третье и четвертое место практически с равнывм количеством пользователей перешло к facebook_ads и youtube_channel_reklama \n",
    "3. Мы узнали, что самый популярный тип объекта при строительстве зданий - это космопорт ( с почти 60000 построек). Следом с небольшим отставанием идет сборочный цех - 54494 построек. У исследовательского центра очень большое оставание - 14137 построек.\n",
    "4. Большинсво игроков проходят первый уровень путем победы - это  5817 игроков. Игроков, которые завершили первый уровень путем постройки Орбитальной станции, - 1866. 5893 - столько игроков не прошли первый уровень.\n",
    "6. Узнали, как строят игроки, пришедшие с разных источников:\n",
    "   * yandex_direct - 45032 построек или 35.19 % от общего количества построеных зданий.\n",
    "   * instagram_new_adverts - 31815 построек или 24.86 % от общего количества построеных зданий.\n",
    "   * facebook_ads - 26131 построек или 20.42 % от общего количества построеных зданий.\n",
    "   * youtube_channel_reklama - 24978 построек или 19.52 % от общего количества построеных зданий.\n",
    "7. Расчитали стоимость привлечения пользователей по рекламным источникам:\n",
    "   * yandex_direct - 0.46\n",
    "   * instagram_new_adverts - 0.65\n",
    "   * facebook_ads - 0.78\n",
    "   * youtube_channel_reklama - 0.40\n",
    "   \n",
    "По итогам проведенного исследования можно однозначно сказать, что лидером по источнику перехода является **yandex_direct**. Через этот канал к нам приходят самое большое количество пользователей, которые строят соответственно больше всех зданий ( практически 35 % построек приходится на пользователей этого канала). К тому же стоимость привлечения пользователей по данному каналу одна из самых дешевых ( 0,46 у.е. за 1 игрока). Вторым по значимости я бы наверное выделил канал привлечения **youtube_channel_reklama**. По данному каналу к нам приходит конечно наименьшее число пользователей из всех, однако стоит учетсь такие моменты: во-первых это самый дешевый источник привлечения новых игроков (0,39 у.е.), во-вторых данный пользователи как и все любят строить ( строят в среднем 9 зданий, в то время как остальные от 9,35 до 9,59 - разница не столь существена). Думаю что разработчикам стоит уделить больше внимание этому каналу привлечения."
   ]
  },
  {
   "cell_type": "markdown",
   "metadata": {},
   "source": [
    "<a id='3'></a>\n",
    "## Проверка гипотез"
   ]
  },
  {
   "cell_type": "markdown",
   "metadata": {},
   "source": [
    "<a id='3.1'></a>\n",
    "### Проверка гипотезы: время завершения уровня различается в зависимости способа прохождения"
   ]
  },
  {
   "cell_type": "markdown",
   "metadata": {},
   "source": [
    "Чтобы проверить данную гипотезу, сформируем две выборки: с pve и pvp игроками."
   ]
  },
  {
   "cell_type": "code",
   "execution_count": 39,
   "metadata": {},
   "outputs": [],
   "source": [
    "users_pvp= data_actions_new_pvp.copy(deep=True)"
   ]
  },
  {
   "cell_type": "markdown",
   "metadata": {},
   "source": [
    "Добавим столбец с первым заходом в игру:"
   ]
  },
  {
   "cell_type": "code",
   "execution_count": 40,
   "metadata": {},
   "outputs": [],
   "source": [
    "users_pvp = users_pvp.merge(profiles[['user_id','first_ts']], on='user_id')"
   ]
  },
  {
   "cell_type": "markdown",
   "metadata": {},
   "source": [
    "Найдем время по истечению, которого игроки победили:"
   ]
  },
  {
   "cell_type": "code",
   "execution_count": 41,
   "metadata": {},
   "outputs": [
    {
     "data": {
      "text/html": [
       "<div>\n",
       "<style scoped>\n",
       "    .dataframe tbody tr th:only-of-type {\n",
       "        vertical-align: middle;\n",
       "    }\n",
       "\n",
       "    .dataframe tbody tr th {\n",
       "        vertical-align: top;\n",
       "    }\n",
       "\n",
       "    .dataframe thead th {\n",
       "        text-align: right;\n",
       "    }\n",
       "</style>\n",
       "<table border=\"1\" class=\"dataframe\">\n",
       "  <thead>\n",
       "    <tr style=\"text-align: right;\">\n",
       "      <th></th>\n",
       "      <th>event_datetime</th>\n",
       "      <th>event</th>\n",
       "      <th>building_type</th>\n",
       "      <th>user_id</th>\n",
       "      <th>project_type</th>\n",
       "      <th>source</th>\n",
       "      <th>dt</th>\n",
       "      <th>first_ts</th>\n",
       "      <th>time_win</th>\n",
       "    </tr>\n",
       "  </thead>\n",
       "  <tbody>\n",
       "    <tr>\n",
       "      <th>0</th>\n",
       "      <td>2020-05-04 19:47:29</td>\n",
       "      <td>finished_stage_1</td>\n",
       "      <td>NaN</td>\n",
       "      <td>ced7b368-818f-48f6-9461-2346de0892c5</td>\n",
       "      <td>NaN</td>\n",
       "      <td>instagram_new_adverts</td>\n",
       "      <td>2020-05-04</td>\n",
       "      <td>2020-05-04 00:13:21</td>\n",
       "      <td>70448.0</td>\n",
       "    </tr>\n",
       "    <tr>\n",
       "      <th>1</th>\n",
       "      <td>2020-05-05 13:22:09</td>\n",
       "      <td>finished_stage_1</td>\n",
       "      <td>NaN</td>\n",
       "      <td>7ef7fc89-2779-46ea-b328-9e5035b83af5</td>\n",
       "      <td>NaN</td>\n",
       "      <td>facebook_ads</td>\n",
       "      <td>2020-05-05</td>\n",
       "      <td>2020-05-04 00:22:48</td>\n",
       "      <td>133161.0</td>\n",
       "    </tr>\n",
       "    <tr>\n",
       "      <th>2</th>\n",
       "      <td>2020-05-05 18:54:37</td>\n",
       "      <td>finished_stage_1</td>\n",
       "      <td>NaN</td>\n",
       "      <td>70db22b3-c2f4-43bc-94ea-51c8d2904a29</td>\n",
       "      <td>NaN</td>\n",
       "      <td>youtube_channel_reklama</td>\n",
       "      <td>2020-05-05</td>\n",
       "      <td>2020-05-04 13:41:55</td>\n",
       "      <td>105162.0</td>\n",
       "    </tr>\n",
       "    <tr>\n",
       "      <th>3</th>\n",
       "      <td>2020-05-05 21:27:29</td>\n",
       "      <td>finished_stage_1</td>\n",
       "      <td>NaN</td>\n",
       "      <td>903fc9ef-ba97-4b12-9d5c-ac8d602fbd8b</td>\n",
       "      <td>NaN</td>\n",
       "      <td>youtube_channel_reklama</td>\n",
       "      <td>2020-05-05</td>\n",
       "      <td>2020-05-04 00:57:02</td>\n",
       "      <td>160227.0</td>\n",
       "    </tr>\n",
       "    <tr>\n",
       "      <th>4</th>\n",
       "      <td>2020-05-06 06:02:22</td>\n",
       "      <td>finished_stage_1</td>\n",
       "      <td>NaN</td>\n",
       "      <td>58e077ba-feb1-4556-a5a0-d96bd04efa39</td>\n",
       "      <td>NaN</td>\n",
       "      <td>facebook_ads</td>\n",
       "      <td>2020-05-06</td>\n",
       "      <td>2020-05-04 19:23:40</td>\n",
       "      <td>124722.0</td>\n",
       "    </tr>\n",
       "    <tr>\n",
       "      <th>...</th>\n",
       "      <td>...</td>\n",
       "      <td>...</td>\n",
       "      <td>...</td>\n",
       "      <td>...</td>\n",
       "      <td>...</td>\n",
       "      <td>...</td>\n",
       "      <td>...</td>\n",
       "      <td>...</td>\n",
       "      <td>...</td>\n",
       "    </tr>\n",
       "    <tr>\n",
       "      <th>3946</th>\n",
       "      <td>2020-06-04 06:44:02</td>\n",
       "      <td>finished_stage_1</td>\n",
       "      <td>NaN</td>\n",
       "      <td>18fc6a86-00e7-4f3e-96da-bdb6d550415c</td>\n",
       "      <td>NaN</td>\n",
       "      <td>yandex_direct</td>\n",
       "      <td>2020-06-04</td>\n",
       "      <td>2020-05-04 08:45:09</td>\n",
       "      <td>2671133.0</td>\n",
       "    </tr>\n",
       "    <tr>\n",
       "      <th>3947</th>\n",
       "      <td>2020-06-04 15:50:38</td>\n",
       "      <td>finished_stage_1</td>\n",
       "      <td>NaN</td>\n",
       "      <td>22cce310-fe10-41a2-941b-9c3d63327fea</td>\n",
       "      <td>NaN</td>\n",
       "      <td>yandex_direct</td>\n",
       "      <td>2020-06-04</td>\n",
       "      <td>2020-05-04 18:38:25</td>\n",
       "      <td>2668333.0</td>\n",
       "    </tr>\n",
       "    <tr>\n",
       "      <th>3948</th>\n",
       "      <td>2020-06-05 02:25:12</td>\n",
       "      <td>finished_stage_1</td>\n",
       "      <td>NaN</td>\n",
       "      <td>515c1952-99aa-4bca-a7ea-d0449eb5385a</td>\n",
       "      <td>NaN</td>\n",
       "      <td>yandex_direct</td>\n",
       "      <td>2020-06-05</td>\n",
       "      <td>2020-05-07 07:28:50</td>\n",
       "      <td>2487382.0</td>\n",
       "    </tr>\n",
       "    <tr>\n",
       "      <th>3949</th>\n",
       "      <td>2020-06-05 12:12:27</td>\n",
       "      <td>finished_stage_1</td>\n",
       "      <td>NaN</td>\n",
       "      <td>32572adb-900f-4b5d-a453-1eb1e6d88d8b</td>\n",
       "      <td>NaN</td>\n",
       "      <td>facebook_ads</td>\n",
       "      <td>2020-06-05</td>\n",
       "      <td>2020-05-07 05:43:45</td>\n",
       "      <td>2528922.0</td>\n",
       "    </tr>\n",
       "    <tr>\n",
       "      <th>3950</th>\n",
       "      <td>2020-06-05 12:32:49</td>\n",
       "      <td>finished_stage_1</td>\n",
       "      <td>NaN</td>\n",
       "      <td>f21d179f-1c4b-437e-b9c6-ab1976907195</td>\n",
       "      <td>NaN</td>\n",
       "      <td>instagram_new_adverts</td>\n",
       "      <td>2020-06-05</td>\n",
       "      <td>2020-05-06 02:56:25</td>\n",
       "      <td>2626584.0</td>\n",
       "    </tr>\n",
       "  </tbody>\n",
       "</table>\n",
       "<p>3951 rows × 9 columns</p>\n",
       "</div>"
      ],
      "text/plain": [
       "          event_datetime             event building_type  \\\n",
       "0    2020-05-04 19:47:29  finished_stage_1           NaN   \n",
       "1    2020-05-05 13:22:09  finished_stage_1           NaN   \n",
       "2    2020-05-05 18:54:37  finished_stage_1           NaN   \n",
       "3    2020-05-05 21:27:29  finished_stage_1           NaN   \n",
       "4    2020-05-06 06:02:22  finished_stage_1           NaN   \n",
       "...                  ...               ...           ...   \n",
       "3946 2020-06-04 06:44:02  finished_stage_1           NaN   \n",
       "3947 2020-06-04 15:50:38  finished_stage_1           NaN   \n",
       "3948 2020-06-05 02:25:12  finished_stage_1           NaN   \n",
       "3949 2020-06-05 12:12:27  finished_stage_1           NaN   \n",
       "3950 2020-06-05 12:32:49  finished_stage_1           NaN   \n",
       "\n",
       "                                   user_id project_type  \\\n",
       "0     ced7b368-818f-48f6-9461-2346de0892c5          NaN   \n",
       "1     7ef7fc89-2779-46ea-b328-9e5035b83af5          NaN   \n",
       "2     70db22b3-c2f4-43bc-94ea-51c8d2904a29          NaN   \n",
       "3     903fc9ef-ba97-4b12-9d5c-ac8d602fbd8b          NaN   \n",
       "4     58e077ba-feb1-4556-a5a0-d96bd04efa39          NaN   \n",
       "...                                    ...          ...   \n",
       "3946  18fc6a86-00e7-4f3e-96da-bdb6d550415c          NaN   \n",
       "3947  22cce310-fe10-41a2-941b-9c3d63327fea          NaN   \n",
       "3948  515c1952-99aa-4bca-a7ea-d0449eb5385a          NaN   \n",
       "3949  32572adb-900f-4b5d-a453-1eb1e6d88d8b          NaN   \n",
       "3950  f21d179f-1c4b-437e-b9c6-ab1976907195          NaN   \n",
       "\n",
       "                       source          dt            first_ts   time_win  \n",
       "0       instagram_new_adverts  2020-05-04 2020-05-04 00:13:21    70448.0  \n",
       "1                facebook_ads  2020-05-05 2020-05-04 00:22:48   133161.0  \n",
       "2     youtube_channel_reklama  2020-05-05 2020-05-04 13:41:55   105162.0  \n",
       "3     youtube_channel_reklama  2020-05-05 2020-05-04 00:57:02   160227.0  \n",
       "4                facebook_ads  2020-05-06 2020-05-04 19:23:40   124722.0  \n",
       "...                       ...         ...                 ...        ...  \n",
       "3946            yandex_direct  2020-06-04 2020-05-04 08:45:09  2671133.0  \n",
       "3947            yandex_direct  2020-06-04 2020-05-04 18:38:25  2668333.0  \n",
       "3948            yandex_direct  2020-06-05 2020-05-07 07:28:50  2487382.0  \n",
       "3949             facebook_ads  2020-06-05 2020-05-07 05:43:45  2528922.0  \n",
       "3950    instagram_new_adverts  2020-06-05 2020-05-06 02:56:25  2626584.0  \n",
       "\n",
       "[3951 rows x 9 columns]"
      ]
     },
     "execution_count": 41,
     "metadata": {},
     "output_type": "execute_result"
    }
   ],
   "source": [
    "users_pvp['time_win'] = users_pvp['event_datetime'] - users_pvp['first_ts']\n",
    "users_pvp['time_win']=users_pvp['time_win'].dt.total_seconds()\n",
    "users_pvp"
   ]
  },
  {
   "cell_type": "markdown",
   "metadata": {},
   "source": [
    "Проведем аналогичные манипуляции для pve-игроков:"
   ]
  },
  {
   "cell_type": "code",
   "execution_count": 42,
   "metadata": {},
   "outputs": [
    {
     "data": {
      "text/html": [
       "<div>\n",
       "<style scoped>\n",
       "    .dataframe tbody tr th:only-of-type {\n",
       "        vertical-align: middle;\n",
       "    }\n",
       "\n",
       "    .dataframe tbody tr th {\n",
       "        vertical-align: top;\n",
       "    }\n",
       "\n",
       "    .dataframe thead th {\n",
       "        text-align: right;\n",
       "    }\n",
       "</style>\n",
       "<table border=\"1\" class=\"dataframe\">\n",
       "  <thead>\n",
       "    <tr style=\"text-align: right;\">\n",
       "      <th></th>\n",
       "      <th>event_datetime</th>\n",
       "      <th>event</th>\n",
       "      <th>building_type</th>\n",
       "      <th>user_id</th>\n",
       "      <th>project_type</th>\n",
       "      <th>source</th>\n",
       "      <th>dt</th>\n",
       "      <th>first_ts</th>\n",
       "      <th>time_win</th>\n",
       "    </tr>\n",
       "  </thead>\n",
       "  <tbody>\n",
       "    <tr>\n",
       "      <th>0</th>\n",
       "      <td>2020-05-10 02:37:50</td>\n",
       "      <td>finished_stage_1</td>\n",
       "      <td>NaN</td>\n",
       "      <td>9e57e5bb-49f4-4efb-991c-747d7a88e446</td>\n",
       "      <td>NaN</td>\n",
       "      <td>yandex_direct</td>\n",
       "      <td>2020-05-10</td>\n",
       "      <td>2020-05-04 12:13:36</td>\n",
       "      <td>483854.0</td>\n",
       "    </tr>\n",
       "    <tr>\n",
       "      <th>1</th>\n",
       "      <td>2020-05-10 10:30:22</td>\n",
       "      <td>finished_stage_1</td>\n",
       "      <td>NaN</td>\n",
       "      <td>e3c66498-9d45-4000-9392-f81e6796e7da</td>\n",
       "      <td>NaN</td>\n",
       "      <td>youtube_channel_reklama</td>\n",
       "      <td>2020-05-10</td>\n",
       "      <td>2020-05-04 06:50:30</td>\n",
       "      <td>531592.0</td>\n",
       "    </tr>\n",
       "    <tr>\n",
       "      <th>2</th>\n",
       "      <td>2020-05-10 14:40:04</td>\n",
       "      <td>finished_stage_1</td>\n",
       "      <td>NaN</td>\n",
       "      <td>a4491c86-c498-4f74-a56e-65c136d0e9a1</td>\n",
       "      <td>NaN</td>\n",
       "      <td>yandex_direct</td>\n",
       "      <td>2020-05-10</td>\n",
       "      <td>2020-05-04 01:42:30</td>\n",
       "      <td>565054.0</td>\n",
       "    </tr>\n",
       "    <tr>\n",
       "      <th>3</th>\n",
       "      <td>2020-05-11 02:10:33</td>\n",
       "      <td>finished_stage_1</td>\n",
       "      <td>NaN</td>\n",
       "      <td>9f63fad6-17b0-493f-938b-8d19e6d6c38c</td>\n",
       "      <td>NaN</td>\n",
       "      <td>instagram_new_adverts</td>\n",
       "      <td>2020-05-11</td>\n",
       "      <td>2020-05-04 06:39:33</td>\n",
       "      <td>588660.0</td>\n",
       "    </tr>\n",
       "    <tr>\n",
       "      <th>4</th>\n",
       "      <td>2020-05-11 08:37:32</td>\n",
       "      <td>finished_stage_1</td>\n",
       "      <td>NaN</td>\n",
       "      <td>ee21905b-ab5a-44c6-9196-e5c9f8fada19</td>\n",
       "      <td>NaN</td>\n",
       "      <td>yandex_direct</td>\n",
       "      <td>2020-05-11</td>\n",
       "      <td>2020-05-04 01:40:19</td>\n",
       "      <td>629833.0</td>\n",
       "    </tr>\n",
       "    <tr>\n",
       "      <th>...</th>\n",
       "      <td>...</td>\n",
       "      <td>...</td>\n",
       "      <td>...</td>\n",
       "      <td>...</td>\n",
       "      <td>...</td>\n",
       "      <td>...</td>\n",
       "      <td>...</td>\n",
       "      <td>...</td>\n",
       "      <td>...</td>\n",
       "    </tr>\n",
       "    <tr>\n",
       "      <th>1861</th>\n",
       "      <td>2020-06-02 20:53:20</td>\n",
       "      <td>finished_stage_1</td>\n",
       "      <td>NaN</td>\n",
       "      <td>9df154c3-fb77-4f8a-a281-0457c0b11cec</td>\n",
       "      <td>NaN</td>\n",
       "      <td>instagram_new_adverts</td>\n",
       "      <td>2020-06-02</td>\n",
       "      <td>2020-05-05 03:15:52</td>\n",
       "      <td>2482648.0</td>\n",
       "    </tr>\n",
       "    <tr>\n",
       "      <th>1862</th>\n",
       "      <td>2020-06-02 23:31:08</td>\n",
       "      <td>finished_stage_1</td>\n",
       "      <td>NaN</td>\n",
       "      <td>9d98001c-7e14-40d7-896e-46b3047365fd</td>\n",
       "      <td>NaN</td>\n",
       "      <td>yandex_direct</td>\n",
       "      <td>2020-06-02</td>\n",
       "      <td>2020-05-07 18:38:47</td>\n",
       "      <td>2263941.0</td>\n",
       "    </tr>\n",
       "    <tr>\n",
       "      <th>1863</th>\n",
       "      <td>2020-06-03 14:41:22</td>\n",
       "      <td>finished_stage_1</td>\n",
       "      <td>NaN</td>\n",
       "      <td>82e46f34-e243-4728-8e20-2e171fc33ea4</td>\n",
       "      <td>NaN</td>\n",
       "      <td>youtube_channel_reklama</td>\n",
       "      <td>2020-06-03</td>\n",
       "      <td>2020-05-09 01:14:45</td>\n",
       "      <td>2208397.0</td>\n",
       "    </tr>\n",
       "    <tr>\n",
       "      <th>1864</th>\n",
       "      <td>2020-06-04 08:03:27</td>\n",
       "      <td>finished_stage_1</td>\n",
       "      <td>NaN</td>\n",
       "      <td>fe032991-71e0-48c5-889f-4c3805ba4c9b</td>\n",
       "      <td>NaN</td>\n",
       "      <td>facebook_ads</td>\n",
       "      <td>2020-06-04</td>\n",
       "      <td>2020-05-08 09:14:00</td>\n",
       "      <td>2328567.0</td>\n",
       "    </tr>\n",
       "    <tr>\n",
       "      <th>1865</th>\n",
       "      <td>2020-06-04 17:56:14</td>\n",
       "      <td>finished_stage_1</td>\n",
       "      <td>NaN</td>\n",
       "      <td>d477dde8-7c22-4f23-9c4f-4ec31a1aa4c8</td>\n",
       "      <td>NaN</td>\n",
       "      <td>facebook_ads</td>\n",
       "      <td>2020-06-04</td>\n",
       "      <td>2020-05-07 02:18:19</td>\n",
       "      <td>2475475.0</td>\n",
       "    </tr>\n",
       "  </tbody>\n",
       "</table>\n",
       "<p>1866 rows × 9 columns</p>\n",
       "</div>"
      ],
      "text/plain": [
       "          event_datetime             event building_type  \\\n",
       "0    2020-05-10 02:37:50  finished_stage_1           NaN   \n",
       "1    2020-05-10 10:30:22  finished_stage_1           NaN   \n",
       "2    2020-05-10 14:40:04  finished_stage_1           NaN   \n",
       "3    2020-05-11 02:10:33  finished_stage_1           NaN   \n",
       "4    2020-05-11 08:37:32  finished_stage_1           NaN   \n",
       "...                  ...               ...           ...   \n",
       "1861 2020-06-02 20:53:20  finished_stage_1           NaN   \n",
       "1862 2020-06-02 23:31:08  finished_stage_1           NaN   \n",
       "1863 2020-06-03 14:41:22  finished_stage_1           NaN   \n",
       "1864 2020-06-04 08:03:27  finished_stage_1           NaN   \n",
       "1865 2020-06-04 17:56:14  finished_stage_1           NaN   \n",
       "\n",
       "                                   user_id project_type  \\\n",
       "0     9e57e5bb-49f4-4efb-991c-747d7a88e446          NaN   \n",
       "1     e3c66498-9d45-4000-9392-f81e6796e7da          NaN   \n",
       "2     a4491c86-c498-4f74-a56e-65c136d0e9a1          NaN   \n",
       "3     9f63fad6-17b0-493f-938b-8d19e6d6c38c          NaN   \n",
       "4     ee21905b-ab5a-44c6-9196-e5c9f8fada19          NaN   \n",
       "...                                    ...          ...   \n",
       "1861  9df154c3-fb77-4f8a-a281-0457c0b11cec          NaN   \n",
       "1862  9d98001c-7e14-40d7-896e-46b3047365fd          NaN   \n",
       "1863  82e46f34-e243-4728-8e20-2e171fc33ea4          NaN   \n",
       "1864  fe032991-71e0-48c5-889f-4c3805ba4c9b          NaN   \n",
       "1865  d477dde8-7c22-4f23-9c4f-4ec31a1aa4c8          NaN   \n",
       "\n",
       "                       source          dt            first_ts   time_win  \n",
       "0               yandex_direct  2020-05-10 2020-05-04 12:13:36   483854.0  \n",
       "1     youtube_channel_reklama  2020-05-10 2020-05-04 06:50:30   531592.0  \n",
       "2               yandex_direct  2020-05-10 2020-05-04 01:42:30   565054.0  \n",
       "3       instagram_new_adverts  2020-05-11 2020-05-04 06:39:33   588660.0  \n",
       "4               yandex_direct  2020-05-11 2020-05-04 01:40:19   629833.0  \n",
       "...                       ...         ...                 ...        ...  \n",
       "1861    instagram_new_adverts  2020-06-02 2020-05-05 03:15:52  2482648.0  \n",
       "1862            yandex_direct  2020-06-02 2020-05-07 18:38:47  2263941.0  \n",
       "1863  youtube_channel_reklama  2020-06-03 2020-05-09 01:14:45  2208397.0  \n",
       "1864             facebook_ads  2020-06-04 2020-05-08 09:14:00  2328567.0  \n",
       "1865             facebook_ads  2020-06-04 2020-05-07 02:18:19  2475475.0  \n",
       "\n",
       "[1866 rows x 9 columns]"
      ]
     },
     "execution_count": 42,
     "metadata": {},
     "output_type": "execute_result"
    }
   ],
   "source": [
    "users_pve_one = data_actions_new[data_actions_new['event'] == 'project']\n",
    "users_pve_two = data_actions_new[data_actions_new['event'] == 'finished_stage_1']\n",
    "users_pve = users_pve_two[users_pve_two['user_id'].isin(users_pve_one['user_id'])]\n",
    "users_pve = users_pve.merge(profiles[['user_id','first_ts']], on='user_id')\n",
    "users_pve['time_win'] = users_pve['event_datetime'] - users_pve['first_ts']\n",
    "users_pve['time_win']=users_pve['time_win'].dt.total_seconds()\n",
    "users_pve"
   ]
  },
  {
   "cell_type": "markdown",
   "metadata": {},
   "source": [
    "Итак, мы создали два датасета, в которых содержится информация о двух типах игроках ( тех которые побеждали путем постройки Орбитальной станции и тех которые побеждали путем победы над врагом). Можно приступать к проверке гипотезы.\n",
    "\n",
    "Построим график побед пользователе по дня, а так же посмотрим на гистограмму и график плотности распределения побед пользоватлеей по времени."
   ]
  },
  {
   "cell_type": "code",
   "execution_count": 43,
   "metadata": {},
   "outputs": [
    {
     "data": {
      "image/png": "[encoded data removed]",
      "text/plain": [
       "<Figure size 864x360 with 1 Axes>"
      ]
     },
     "metadata": {
      "needs_background": "light"
     },
     "output_type": "display_data"
    }
   ],
   "source": [
    "users_pvp['win'] = 1\n",
    "users_pvp['type'] = 'Победа PVP'\n",
    "users_pve['win'] = 0\n",
    "users_pve['type'] = 'Победа PVE'\n",
    "users_all = users_pve.append(users_pvp, sort=False)\n",
    "cumulative_pvp = users_all[users_all['type']=='Победа PVP'][['dt','user_id']]\n",
    "cumulative_pvp = cumulative_pvp.groupby('dt').agg({'user_id': 'count'}).reset_index()\n",
    "cumulative_pve = users_all[users_all['type']=='Победа PVE'][['dt','user_id']]\n",
    "cumulative_pve = cumulative_pve.groupby('dt').agg({'user_id': 'count'}).reset_index()\n",
    "plt.figure(figsize=(12,5))\n",
    "plt.xlabel('Дата победы')\n",
    "plt.ylabel('Количество пользователей')\n",
    "plt.plot(cumulative_pvp['dt'], cumulative_pvp['user_id'], label='Победа PVP')\n",
    "plt.plot(cumulative_pve['dt'], cumulative_pve['user_id'], label='Победа PVE')\n",
    "plt.title('График побед пользователей')\n",
    "plt.legend()\n",
    "plt.show()"
   ]
  },
  {
   "cell_type": "code",
   "execution_count": 44,
   "metadata": {},
   "outputs": [
    {
     "data": {
      "image/png": "[encoded data removed]",
      "text/plain": [
       "<Figure size 1080x720 with 1 Axes>"
      ]
     },
     "metadata": {
      "needs_background": "light"
     },
     "output_type": "display_data"
    }
   ],
   "source": [
    "plt.figure(figsize=(15,10))\n",
    "sns.histplot(data=users_all, x=users_all.query('type==\"Победа PVP\"')['time_win'], color=\"green\", label=\"Победа PVP\", kde=True)\n",
    "sns.histplot(data=users_all, x=users_all.query('type==\"Победа PVE\"')['time_win'], color=\"orange\", label=\"Победа PVE\", kde=True)\n",
    "plt.grid()\n",
    "plt.title('Гистограмма и график плотности распределения побед пользователей')\n",
    "plt.legend() \n",
    "plt.show()"
   ]
  },
  {
   "cell_type": "markdown",
   "metadata": {},
   "source": [
    "Визуально в приницпе все хорошо, но стоит заметить что распределение побед пользователей в PVE незначительно отличается от побед пользователей PVP. Проверим эту гипотезу расчетами."
   ]
  },
  {
   "cell_type": "markdown",
   "metadata": {},
   "source": [
    "**Обозначим:**\n",
    "* Нулевая гипотеза(H0): время завершения первого уровня не отличается от типа победы\n",
    "* Альтернативная гипотеза (Н1): время завершения первого уровня отличается от типа победы\n",
    "* Объявим p-value = 0,05"
   ]
  },
  {
   "cell_type": "code",
   "execution_count": 45,
   "metadata": {},
   "outputs": [
    {
     "name": "stdout",
     "output_type": "stream",
     "text": [
      "p-значение:  7.256845329495443e-98\n",
      "Отвергаем нулевую гипотезу\n"
     ]
    }
   ],
   "source": [
    "alpha = .05 \n",
    "results = st.ttest_ind(users_pve['time_win'], users_pvp['time_win'])\n",
    "\n",
    "print('p-значение: ', results.pvalue)\n",
    "\n",
    "if results.pvalue < alpha:\n",
    "    print(\"Отвергаем нулевую гипотезу\")\n",
    "else:\n",
    "    print(\"Не получилось отвергнуть нулевую гипотезу\") "
   ]
  },
  {
   "cell_type": "markdown",
   "metadata": {},
   "source": [
    "Судя по нашим расчетам присутсвуют статистически значимые различия во времени прохождения первого уровня в зависимости от типа победы ( постройка орбитальной станции и победа на врагом)."
   ]
  },
  {
   "cell_type": "markdown",
   "metadata": {},
   "source": [
    "<a id='3.2'></a>\n",
    "### Проверка гипотезы: тип победы не отличается между пользвателями, пришедшими с двух разных источников"
   ]
  },
  {
   "cell_type": "markdown",
   "metadata": {},
   "source": [
    "В данном разделе предлагаю посмотреть отличается ли тип победы ( пве или пвп) между игроками, приедшими с двух разных каналов: yandex_direct и youtube_channel_reklama."
   ]
  },
  {
   "cell_type": "markdown",
   "metadata": {},
   "source": [
    "Сформируем два новых датасета по каналам:"
   ]
  },
  {
   "cell_type": "code",
   "execution_count": 46,
   "metadata": {},
   "outputs": [
    {
     "data": {
      "text/html": [
       "<div>\n",
       "<style scoped>\n",
       "    .dataframe tbody tr th:only-of-type {\n",
       "        vertical-align: middle;\n",
       "    }\n",
       "\n",
       "    .dataframe tbody tr th {\n",
       "        vertical-align: top;\n",
       "    }\n",
       "\n",
       "    .dataframe thead th {\n",
       "        text-align: right;\n",
       "    }\n",
       "</style>\n",
       "<table border=\"1\" class=\"dataframe\">\n",
       "  <thead>\n",
       "    <tr style=\"text-align: right;\">\n",
       "      <th></th>\n",
       "      <th>event_datetime</th>\n",
       "      <th>event</th>\n",
       "      <th>building_type</th>\n",
       "      <th>user_id</th>\n",
       "      <th>project_type</th>\n",
       "      <th>source</th>\n",
       "      <th>dt</th>\n",
       "      <th>first_ts</th>\n",
       "      <th>time_win</th>\n",
       "      <th>win</th>\n",
       "      <th>type</th>\n",
       "    </tr>\n",
       "  </thead>\n",
       "  <tbody>\n",
       "    <tr>\n",
       "      <th>0</th>\n",
       "      <td>2020-05-10 02:37:50</td>\n",
       "      <td>finished_stage_1</td>\n",
       "      <td>NaN</td>\n",
       "      <td>9e57e5bb-49f4-4efb-991c-747d7a88e446</td>\n",
       "      <td>NaN</td>\n",
       "      <td>yandex_direct</td>\n",
       "      <td>2020-05-10</td>\n",
       "      <td>2020-05-04 12:13:36</td>\n",
       "      <td>483854.0</td>\n",
       "      <td>0</td>\n",
       "      <td>Победа PVE</td>\n",
       "    </tr>\n",
       "    <tr>\n",
       "      <th>2</th>\n",
       "      <td>2020-05-10 14:40:04</td>\n",
       "      <td>finished_stage_1</td>\n",
       "      <td>NaN</td>\n",
       "      <td>a4491c86-c498-4f74-a56e-65c136d0e9a1</td>\n",
       "      <td>NaN</td>\n",
       "      <td>yandex_direct</td>\n",
       "      <td>2020-05-10</td>\n",
       "      <td>2020-05-04 01:42:30</td>\n",
       "      <td>565054.0</td>\n",
       "      <td>0</td>\n",
       "      <td>Победа PVE</td>\n",
       "    </tr>\n",
       "    <tr>\n",
       "      <th>4</th>\n",
       "      <td>2020-05-11 08:37:32</td>\n",
       "      <td>finished_stage_1</td>\n",
       "      <td>NaN</td>\n",
       "      <td>ee21905b-ab5a-44c6-9196-e5c9f8fada19</td>\n",
       "      <td>NaN</td>\n",
       "      <td>yandex_direct</td>\n",
       "      <td>2020-05-11</td>\n",
       "      <td>2020-05-04 01:40:19</td>\n",
       "      <td>629833.0</td>\n",
       "      <td>0</td>\n",
       "      <td>Победа PVE</td>\n",
       "    </tr>\n",
       "    <tr>\n",
       "      <th>5</th>\n",
       "      <td>2020-05-11 08:50:17</td>\n",
       "      <td>finished_stage_1</td>\n",
       "      <td>NaN</td>\n",
       "      <td>08425f93-aaca-40a7-97d0-7ff4be09b990</td>\n",
       "      <td>NaN</td>\n",
       "      <td>yandex_direct</td>\n",
       "      <td>2020-05-11</td>\n",
       "      <td>2020-05-05 13:21:12</td>\n",
       "      <td>502145.0</td>\n",
       "      <td>0</td>\n",
       "      <td>Победа PVE</td>\n",
       "    </tr>\n",
       "    <tr>\n",
       "      <th>7</th>\n",
       "      <td>2020-05-11 09:57:05</td>\n",
       "      <td>finished_stage_1</td>\n",
       "      <td>NaN</td>\n",
       "      <td>7551f807-74e8-4bf7-8df1-3dd8bee479af</td>\n",
       "      <td>NaN</td>\n",
       "      <td>yandex_direct</td>\n",
       "      <td>2020-05-11</td>\n",
       "      <td>2020-05-04 03:30:44</td>\n",
       "      <td>627981.0</td>\n",
       "      <td>0</td>\n",
       "      <td>Победа PVE</td>\n",
       "    </tr>\n",
       "    <tr>\n",
       "      <th>...</th>\n",
       "      <td>...</td>\n",
       "      <td>...</td>\n",
       "      <td>...</td>\n",
       "      <td>...</td>\n",
       "      <td>...</td>\n",
       "      <td>...</td>\n",
       "      <td>...</td>\n",
       "      <td>...</td>\n",
       "      <td>...</td>\n",
       "      <td>...</td>\n",
       "      <td>...</td>\n",
       "    </tr>\n",
       "    <tr>\n",
       "      <th>3938</th>\n",
       "      <td>2020-06-01 02:50:24</td>\n",
       "      <td>finished_stage_1</td>\n",
       "      <td>NaN</td>\n",
       "      <td>eb1c0ded-45da-461a-9cf2-3288d58d3af2</td>\n",
       "      <td>NaN</td>\n",
       "      <td>yandex_direct</td>\n",
       "      <td>2020-06-01</td>\n",
       "      <td>2020-05-04 17:24:22</td>\n",
       "      <td>2366762.0</td>\n",
       "      <td>1</td>\n",
       "      <td>Победа PVP</td>\n",
       "    </tr>\n",
       "    <tr>\n",
       "      <th>3942</th>\n",
       "      <td>2020-06-01 21:05:32</td>\n",
       "      <td>finished_stage_1</td>\n",
       "      <td>NaN</td>\n",
       "      <td>c147c105-eb88-4f2d-887f-05779b0f2c19</td>\n",
       "      <td>NaN</td>\n",
       "      <td>yandex_direct</td>\n",
       "      <td>2020-06-01</td>\n",
       "      <td>2020-05-05 16:18:08</td>\n",
       "      <td>2350044.0</td>\n",
       "      <td>1</td>\n",
       "      <td>Победа PVP</td>\n",
       "    </tr>\n",
       "    <tr>\n",
       "      <th>3946</th>\n",
       "      <td>2020-06-04 06:44:02</td>\n",
       "      <td>finished_stage_1</td>\n",
       "      <td>NaN</td>\n",
       "      <td>18fc6a86-00e7-4f3e-96da-bdb6d550415c</td>\n",
       "      <td>NaN</td>\n",
       "      <td>yandex_direct</td>\n",
       "      <td>2020-06-04</td>\n",
       "      <td>2020-05-04 08:45:09</td>\n",
       "      <td>2671133.0</td>\n",
       "      <td>1</td>\n",
       "      <td>Победа PVP</td>\n",
       "    </tr>\n",
       "    <tr>\n",
       "      <th>3947</th>\n",
       "      <td>2020-06-04 15:50:38</td>\n",
       "      <td>finished_stage_1</td>\n",
       "      <td>NaN</td>\n",
       "      <td>22cce310-fe10-41a2-941b-9c3d63327fea</td>\n",
       "      <td>NaN</td>\n",
       "      <td>yandex_direct</td>\n",
       "      <td>2020-06-04</td>\n",
       "      <td>2020-05-04 18:38:25</td>\n",
       "      <td>2668333.0</td>\n",
       "      <td>1</td>\n",
       "      <td>Победа PVP</td>\n",
       "    </tr>\n",
       "    <tr>\n",
       "      <th>3948</th>\n",
       "      <td>2020-06-05 02:25:12</td>\n",
       "      <td>finished_stage_1</td>\n",
       "      <td>NaN</td>\n",
       "      <td>515c1952-99aa-4bca-a7ea-d0449eb5385a</td>\n",
       "      <td>NaN</td>\n",
       "      <td>yandex_direct</td>\n",
       "      <td>2020-06-05</td>\n",
       "      <td>2020-05-07 07:28:50</td>\n",
       "      <td>2487382.0</td>\n",
       "      <td>1</td>\n",
       "      <td>Победа PVP</td>\n",
       "    </tr>\n",
       "  </tbody>\n",
       "</table>\n",
       "<p>2042 rows × 11 columns</p>\n",
       "</div>"
      ],
      "text/plain": [
       "          event_datetime             event building_type  \\\n",
       "0    2020-05-10 02:37:50  finished_stage_1           NaN   \n",
       "2    2020-05-10 14:40:04  finished_stage_1           NaN   \n",
       "4    2020-05-11 08:37:32  finished_stage_1           NaN   \n",
       "5    2020-05-11 08:50:17  finished_stage_1           NaN   \n",
       "7    2020-05-11 09:57:05  finished_stage_1           NaN   \n",
       "...                  ...               ...           ...   \n",
       "3938 2020-06-01 02:50:24  finished_stage_1           NaN   \n",
       "3942 2020-06-01 21:05:32  finished_stage_1           NaN   \n",
       "3946 2020-06-04 06:44:02  finished_stage_1           NaN   \n",
       "3947 2020-06-04 15:50:38  finished_stage_1           NaN   \n",
       "3948 2020-06-05 02:25:12  finished_stage_1           NaN   \n",
       "\n",
       "                                   user_id project_type         source  \\\n",
       "0     9e57e5bb-49f4-4efb-991c-747d7a88e446          NaN  yandex_direct   \n",
       "2     a4491c86-c498-4f74-a56e-65c136d0e9a1          NaN  yandex_direct   \n",
       "4     ee21905b-ab5a-44c6-9196-e5c9f8fada19          NaN  yandex_direct   \n",
       "5     08425f93-aaca-40a7-97d0-7ff4be09b990          NaN  yandex_direct   \n",
       "7     7551f807-74e8-4bf7-8df1-3dd8bee479af          NaN  yandex_direct   \n",
       "...                                    ...          ...            ...   \n",
       "3938  eb1c0ded-45da-461a-9cf2-3288d58d3af2          NaN  yandex_direct   \n",
       "3942  c147c105-eb88-4f2d-887f-05779b0f2c19          NaN  yandex_direct   \n",
       "3946  18fc6a86-00e7-4f3e-96da-bdb6d550415c          NaN  yandex_direct   \n",
       "3947  22cce310-fe10-41a2-941b-9c3d63327fea          NaN  yandex_direct   \n",
       "3948  515c1952-99aa-4bca-a7ea-d0449eb5385a          NaN  yandex_direct   \n",
       "\n",
       "              dt            first_ts   time_win  win        type  \n",
       "0     2020-05-10 2020-05-04 12:13:36   483854.0    0  Победа PVE  \n",
       "2     2020-05-10 2020-05-04 01:42:30   565054.0    0  Победа PVE  \n",
       "4     2020-05-11 2020-05-04 01:40:19   629833.0    0  Победа PVE  \n",
       "5     2020-05-11 2020-05-05 13:21:12   502145.0    0  Победа PVE  \n",
       "7     2020-05-11 2020-05-04 03:30:44   627981.0    0  Победа PVE  \n",
       "...          ...                 ...        ...  ...         ...  \n",
       "3938  2020-06-01 2020-05-04 17:24:22  2366762.0    1  Победа PVP  \n",
       "3942  2020-06-01 2020-05-05 16:18:08  2350044.0    1  Победа PVP  \n",
       "3946  2020-06-04 2020-05-04 08:45:09  2671133.0    1  Победа PVP  \n",
       "3947  2020-06-04 2020-05-04 18:38:25  2668333.0    1  Победа PVP  \n",
       "3948  2020-06-05 2020-05-07 07:28:50  2487382.0    1  Победа PVP  \n",
       "\n",
       "[2042 rows x 11 columns]"
      ]
     },
     "execution_count": 46,
     "metadata": {},
     "output_type": "execute_result"
    }
   ],
   "source": [
    "users_ya = users_pve.append(users_pvp, sort=False)\n",
    "users_ya = users_ya[users_ya['source'] == 'yandex_direct']\n",
    "users_ya"
   ]
  },
  {
   "cell_type": "code",
   "execution_count": 47,
   "metadata": {},
   "outputs": [
    {
     "data": {
      "text/html": [
       "<div>\n",
       "<style scoped>\n",
       "    .dataframe tbody tr th:only-of-type {\n",
       "        vertical-align: middle;\n",
       "    }\n",
       "\n",
       "    .dataframe tbody tr th {\n",
       "        vertical-align: top;\n",
       "    }\n",
       "\n",
       "    .dataframe thead th {\n",
       "        text-align: right;\n",
       "    }\n",
       "</style>\n",
       "<table border=\"1\" class=\"dataframe\">\n",
       "  <thead>\n",
       "    <tr style=\"text-align: right;\">\n",
       "      <th></th>\n",
       "      <th>type</th>\n",
       "      <th>win</th>\n",
       "      <th>pecent</th>\n",
       "    </tr>\n",
       "  </thead>\n",
       "  <tbody>\n",
       "    <tr>\n",
       "      <th>0</th>\n",
       "      <td>Победа PVE</td>\n",
       "      <td>620</td>\n",
       "      <td>30.36</td>\n",
       "    </tr>\n",
       "    <tr>\n",
       "      <th>1</th>\n",
       "      <td>Победа PVP</td>\n",
       "      <td>1422</td>\n",
       "      <td>69.64</td>\n",
       "    </tr>\n",
       "  </tbody>\n",
       "</table>\n",
       "</div>"
      ],
      "text/plain": [
       "         type   win  pecent\n",
       "0  Победа PVE   620   30.36\n",
       "1  Победа PVP  1422   69.64"
      ]
     },
     "execution_count": 47,
     "metadata": {},
     "output_type": "execute_result"
    }
   ],
   "source": [
    "users_ya_new = users_ya.pivot_table(index='type',values='win',aggfunc='count').reset_index()\n",
    "users_ya_new['pecent'] = round (users_ya_new['win']/users_ya_new['win'].sum()*100, 2)\n",
    "users_ya_new"
   ]
  },
  {
   "cell_type": "code",
   "execution_count": 48,
   "metadata": {},
   "outputs": [],
   "source": [
    "users_yt = users_pve.append(users_pvp, sort=False)\n",
    "users_yt = users_yt[users_yt['source'] == 'youtube_channel_reklama']"
   ]
  },
  {
   "cell_type": "code",
   "execution_count": 49,
   "metadata": {},
   "outputs": [
    {
     "data": {
      "text/html": [
       "<div>\n",
       "<style scoped>\n",
       "    .dataframe tbody tr th:only-of-type {\n",
       "        vertical-align: middle;\n",
       "    }\n",
       "\n",
       "    .dataframe tbody tr th {\n",
       "        vertical-align: top;\n",
       "    }\n",
       "\n",
       "    .dataframe thead th {\n",
       "        text-align: right;\n",
       "    }\n",
       "</style>\n",
       "<table border=\"1\" class=\"dataframe\">\n",
       "  <thead>\n",
       "    <tr style=\"text-align: right;\">\n",
       "      <th></th>\n",
       "      <th>type</th>\n",
       "      <th>win</th>\n",
       "      <th>pecent</th>\n",
       "    </tr>\n",
       "  </thead>\n",
       "  <tbody>\n",
       "    <tr>\n",
       "      <th>0</th>\n",
       "      <td>Победа PVE</td>\n",
       "      <td>379</td>\n",
       "      <td>32.7</td>\n",
       "    </tr>\n",
       "    <tr>\n",
       "      <th>1</th>\n",
       "      <td>Победа PVP</td>\n",
       "      <td>780</td>\n",
       "      <td>67.3</td>\n",
       "    </tr>\n",
       "  </tbody>\n",
       "</table>\n",
       "</div>"
      ],
      "text/plain": [
       "         type  win  pecent\n",
       "0  Победа PVE  379    32.7\n",
       "1  Победа PVP  780    67.3"
      ]
     },
     "execution_count": 49,
     "metadata": {},
     "output_type": "execute_result"
    }
   ],
   "source": [
    "users_yt_new = users_yt.pivot_table(index='type',values='win',aggfunc='count').reset_index()\n",
    "users_yt_new['pecent'] = round (users_yt_new['win']/users_yt_new['win'].sum()*100, 2)\n",
    "users_yt_new"
   ]
  },
  {
   "cell_type": "markdown",
   "metadata": {},
   "source": [
    "Итак, визуально мы видим, что существенных различий в типах побед между игроками, пришедших с разных каналов нет - разница составляет примерно 2 %. Проверим это расчетом.\n",
    "\n",
    "**Обозначим:**\n",
    "* Нулевая гипотеза(H0): тип победы у пользователей из yandex_direct и из youtube_channel_reklama одинаковый\n",
    "* Альтернативная гипотеза (Н1): тип победы у пользователей из yandex_direct и из youtube_channel_reklama разный\n",
    "* Объявим p-value = 0,05"
   ]
  },
  {
   "cell_type": "code",
   "execution_count": 50,
   "metadata": {},
   "outputs": [
    {
     "name": "stdout",
     "output_type": "stream",
     "text": [
      "p-значение:  0.17011711801262347\n",
      "Не получилось отвергнуть нулевую гипотезу\n"
     ]
    }
   ],
   "source": [
    "alpha = .05 \n",
    "results = st.ttest_ind(users_ya['win'], users_yt['win'])\n",
    "\n",
    "print('p-значение: ', results.pvalue)\n",
    "\n",
    "if results.pvalue < alpha:\n",
    "    print(\"Отвергаем нулевую гипотезу\")\n",
    "else:\n",
    "    print(\"Не получилось отвергнуть нулевую гипотезу\") "
   ]
  },
  {
   "cell_type": "markdown",
   "metadata": {},
   "source": [
    "Нам не получилось отвергнуть нулевую гипотезу, поэтому можем предположить, что игроки, пришедшие из yandex_direct, имеют такое же процентное соотношение по типам побед ( pve и pvp) как и игроки, пришедшие по каналу youtube_channel_reklama."
   ]
  },
  {
   "cell_type": "markdown",
   "metadata": {},
   "source": [
    "<a id='4'></a>\n",
    "## Общий вывод"
   ]
  },
  {
   "cell_type": "markdown",
   "metadata": {},
   "source": [
    "1. По общему количеству переходов за весь период уверенно лидирует yandex_direct - 4817 пользователей.\n",
    "На втором месте расположился instagram_new_adverts с 3347 переходами. Третье и четвертое место практически с равнывм количеством пользователей перешло к facebook_ads и youtube_channel_reklama \n",
    "2. Мы узнали, что самый популярный тип объекта при строительстве зданий - это космопорт ( с почти 60000 построек). Следом с небольшим отставанием идет сборочный цех - 54494 построек. У исследовательского центра очень большое оставание - 14137 построек.\n",
    "3. Большинсво игроков проходят первый уровень путем победы - это  5817 игроков. Игроков, которые завершили первый уровень путем постройки Орбитальной станции, - 1866. 5893 - столько игроков не прошли первый уровень.\n",
    "4. Узнали, как строят игроки, пришедшие с разных источников:\n",
    "   * yandex_direct - 45032 построек или 35.19 % от общего количества построеных зданий.\n",
    "   * instagram_new_adverts - 31815 построек или 24.86 % от общего количества построеных зданий.\n",
    "   * facebook_ads - 26131 построек или 20.42 % от общего количества построеных зданий.\n",
    "   * youtube_channel_reklama - 24978 построек или 19.52 % от общего количества построеных зданий.\n",
    "5. Расчитали стоимость привлечения пользователей по рекламным источникам:\n",
    "   * yandex_direct - 0.46\n",
    "   * instagram_new_adverts - 0.65\n",
    "   * facebook_ads - 0.78\n",
    "   * youtube_channel_reklama - 0.40\n",
    "6. Через **yandex_direct** к нам приходят самое большое количество пользователей, которые строят соответственно больше всех зданий ( практически 35 % построек приходится на пользователей этого канала). К тому же стоимость привлечения пользователей по данному каналу одна из самых дешевых ( 0,46 у.е. за 1 игрока). Вторым по значимости я бы наверное выделил канал привлечения **youtube_channel_reklama**. По данному каналу к нам приходит конечно наименьшее число пользователей из всех, однако стоит учетсь такие моменты: во-первых это самый дешевый источник привлечения новых игроков (0,39 у.е.), во-вторых данный пользователи как и все любят строить ( строят в среднем 9 зданий, в то время как остальные от 9,35 до 9,59 - разница не столь существена). Думаю что разработчикам стоит уделить больше внимание этому каналу привлечения.\n",
    "7. Статистически значимая разница во времени прохождения 1го уровня между игроками, которые проходят первый уровень через постройку орбитальной станции и игроками, которые побеждают путем ПВП-побед присутствует.\n",
    "8. Игроки пришедшие к нам через **yandex_direct**, так же как и пришедшие через **youtube_channel_reklama**, делятся примерно на равные пропорции по типу побед ( PVP и PVE).\n",
    "9. В сухом остатке можно сказать, что наилучшим источником привлечения новых игроков является **yandex_direct**, но стоит обратить внимание и на **youtube_channel_reklama**, где стоимость привлечения клиентов стоит дешевле, чем на других платформах, а ведут себя они так же ( постройки, тип победы).\n",
    "10. Так же я бы еще предложил разработчикам рассмотреть еще один вариант монетизации: показывать рекламу пользователям во время боев. Но тут надо наверное вначале провести А/В тесты и понять раздражает это пользователей сильно или нет, а то может случится так, что из-за сильно избыточной рекламы пользователи уйдут из игры."
   ]
  },
  {
   "cell_type": "markdown",
   "metadata": {},
   "source": [
    "<a id='5'></a>\n",
    "## Дашборд по проекту"
   ]
  },
  {
   "cell_type": "markdown",
   "metadata": {},
   "source": [
    "https://public.tableau.com/app/profile/denis7928/viz/_16532295126480/Dashboard1?publish=yes"
   ]
  },
  {
   "cell_type": "markdown",
   "metadata": {},
   "source": [
    "<a id='6'></a>\n",
    "## Презентация по исследованию"
   ]
  },
  {
   "cell_type": "markdown",
   "metadata": {},
   "source": [
    "https://disk.yandex.ru/i/GAUJvFvjJSjsCA"
   ]
  }
 ],
 "metadata": {
  "ExecuteTimeLog": [
   {
    "duration": 50,
    "start_time": "2022-05-19T07:45:11.224Z"
   },
   {
    "duration": 1495,
    "start_time": "2022-05-19T07:45:55.352Z"
   },
   {
    "duration": 6810,
    "start_time": "2022-05-19T08:59:18.576Z"
   },
   {
    "duration": 5,
    "start_time": "2022-05-19T08:59:25.389Z"
   },
   {
    "duration": 674,
    "start_time": "2022-05-19T09:00:53.077Z"
   },
   {
    "duration": 389,
    "start_time": "2022-05-19T09:01:01.862Z"
   },
   {
    "duration": 134,
    "start_time": "2022-05-19T09:01:57.579Z"
   },
   {
    "duration": 85,
    "start_time": "2022-05-19T09:02:18.771Z"
   },
   {
    "duration": 41,
    "start_time": "2022-05-19T09:02:57.506Z"
   },
   {
    "duration": 40,
    "start_time": "2022-05-19T09:03:12.924Z"
   },
   {
    "duration": 3,
    "start_time": "2022-05-19T09:03:20.160Z"
   },
   {
    "duration": 26,
    "start_time": "2022-05-19T09:03:20.165Z"
   },
   {
    "duration": 338,
    "start_time": "2022-05-19T09:03:20.192Z"
   },
   {
    "duration": 29,
    "start_time": "2022-05-19T09:03:20.531Z"
   },
   {
    "duration": 32,
    "start_time": "2022-05-19T09:03:20.562Z"
   },
   {
    "duration": 46,
    "start_time": "2022-05-19T09:03:35.026Z"
   },
   {
    "duration": 41,
    "start_time": "2022-05-19T09:03:44.275Z"
   },
   {
    "duration": 39,
    "start_time": "2022-05-19T09:03:47.362Z"
   },
   {
    "duration": 16,
    "start_time": "2022-05-19T09:04:03.961Z"
   },
   {
    "duration": 40,
    "start_time": "2022-05-19T09:04:09.618Z"
   },
   {
    "duration": 166,
    "start_time": "2022-05-19T09:04:21.742Z"
   },
   {
    "duration": 40,
    "start_time": "2022-05-19T09:04:28.769Z"
   },
   {
    "duration": 60,
    "start_time": "2022-05-19T09:04:32.482Z"
   },
   {
    "duration": 12,
    "start_time": "2022-05-19T09:07:06.247Z"
   },
   {
    "duration": 52,
    "start_time": "2022-05-19T09:07:11.102Z"
   },
   {
    "duration": 27,
    "start_time": "2022-05-19T09:07:13.637Z"
   },
   {
    "duration": 116,
    "start_time": "2022-05-19T09:07:26.097Z"
   },
   {
    "duration": 54,
    "start_time": "2022-05-19T09:07:29.374Z"
   },
   {
    "duration": 11,
    "start_time": "2022-05-19T09:07:33.221Z"
   },
   {
    "duration": 10,
    "start_time": "2022-05-19T09:08:50.756Z"
   },
   {
    "duration": 5,
    "start_time": "2022-05-19T09:09:01.791Z"
   },
   {
    "duration": 16,
    "start_time": "2022-05-19T09:09:02.980Z"
   },
   {
    "duration": 368,
    "start_time": "2022-05-19T09:15:05.688Z"
   },
   {
    "duration": 445,
    "start_time": "2022-05-19T09:15:07.071Z"
   },
   {
    "duration": 349,
    "start_time": "2022-05-19T09:15:12.373Z"
   },
   {
    "duration": 342,
    "start_time": "2022-05-19T09:15:13.413Z"
   },
   {
    "duration": 352,
    "start_time": "2022-05-19T09:15:14.350Z"
   },
   {
    "duration": 347,
    "start_time": "2022-05-19T09:15:15.580Z"
   },
   {
    "duration": 366,
    "start_time": "2022-05-19T09:15:16.558Z"
   },
   {
    "duration": 427,
    "start_time": "2022-05-19T09:15:17.429Z"
   },
   {
    "duration": 402,
    "start_time": "2022-05-19T09:15:18.363Z"
   },
   {
    "duration": 4,
    "start_time": "2022-05-19T09:19:09.021Z"
   },
   {
    "duration": 5,
    "start_time": "2022-05-19T09:19:09.027Z"
   },
   {
    "duration": 324,
    "start_time": "2022-05-19T09:19:09.033Z"
   },
   {
    "duration": 27,
    "start_time": "2022-05-19T09:19:09.359Z"
   },
   {
    "duration": 42,
    "start_time": "2022-05-19T09:19:09.388Z"
   },
   {
    "duration": 37,
    "start_time": "2022-05-19T09:19:09.432Z"
   },
   {
    "duration": 4,
    "start_time": "2022-05-19T09:19:09.470Z"
   },
   {
    "duration": 122,
    "start_time": "2022-05-19T09:34:16.168Z"
   },
   {
    "duration": 120,
    "start_time": "2022-05-19T09:34:18.704Z"
   },
   {
    "duration": 60,
    "start_time": "2022-05-19T09:36:38.087Z"
   },
   {
    "duration": 59,
    "start_time": "2022-05-19T09:37:29.355Z"
   },
   {
    "duration": 46,
    "start_time": "2022-05-19T09:37:34.248Z"
   },
   {
    "duration": 8,
    "start_time": "2022-05-19T09:37:38.701Z"
   },
   {
    "duration": 15,
    "start_time": "2022-05-19T09:38:54.827Z"
   },
   {
    "duration": 17,
    "start_time": "2022-05-19T09:39:09.099Z"
   },
   {
    "duration": 28,
    "start_time": "2022-05-19T09:39:22.700Z"
   },
   {
    "duration": 24,
    "start_time": "2022-05-19T09:39:27.747Z"
   },
   {
    "duration": 22,
    "start_time": "2022-05-19T09:41:42.545Z"
   },
   {
    "duration": 13,
    "start_time": "2022-05-19T09:41:49.855Z"
   },
   {
    "duration": 16,
    "start_time": "2022-05-19T09:41:50.592Z"
   },
   {
    "duration": 16,
    "start_time": "2022-05-19T09:42:24.704Z"
   },
   {
    "duration": 63,
    "start_time": "2022-05-19T09:44:12.151Z"
   },
   {
    "duration": 55,
    "start_time": "2022-05-19T09:44:21.774Z"
   },
   {
    "duration": 14,
    "start_time": "2022-05-19T09:44:50.533Z"
   },
   {
    "duration": 71,
    "start_time": "2022-05-19T09:44:58.516Z"
   },
   {
    "duration": 48,
    "start_time": "2022-05-19T09:45:57.445Z"
   },
   {
    "duration": 23,
    "start_time": "2022-05-19T09:46:04.787Z"
   },
   {
    "duration": 20,
    "start_time": "2022-05-19T09:46:20.460Z"
   },
   {
    "duration": 33,
    "start_time": "2022-05-19T09:46:46.672Z"
   },
   {
    "duration": 34,
    "start_time": "2022-05-19T09:47:02.115Z"
   },
   {
    "duration": 19,
    "start_time": "2022-05-19T09:47:06.373Z"
   },
   {
    "duration": 17,
    "start_time": "2022-05-19T09:47:07.308Z"
   },
   {
    "duration": 31,
    "start_time": "2022-05-19T09:47:08.507Z"
   },
   {
    "duration": 31,
    "start_time": "2022-05-19T09:47:09.586Z"
   },
   {
    "duration": 31,
    "start_time": "2022-05-19T09:48:17.944Z"
   },
   {
    "duration": 2,
    "start_time": "2022-05-19T10:25:05.280Z"
   },
   {
    "duration": 6,
    "start_time": "2022-05-19T10:25:05.284Z"
   },
   {
    "duration": 343,
    "start_time": "2022-05-19T10:25:05.291Z"
   },
   {
    "duration": 29,
    "start_time": "2022-05-19T10:25:05.636Z"
   },
   {
    "duration": 49,
    "start_time": "2022-05-19T10:25:05.668Z"
   },
   {
    "duration": 35,
    "start_time": "2022-05-19T10:25:05.718Z"
   },
   {
    "duration": 4,
    "start_time": "2022-05-19T10:25:05.755Z"
   },
   {
    "duration": 125,
    "start_time": "2022-05-19T10:25:05.760Z"
   },
   {
    "duration": 12,
    "start_time": "2022-05-19T10:25:05.887Z"
   },
   {
    "duration": 24,
    "start_time": "2022-05-19T10:25:05.912Z"
   },
   {
    "duration": 36,
    "start_time": "2022-05-19T10:25:05.938Z"
   },
   {
    "duration": 10,
    "start_time": "2022-05-19T10:32:02.562Z"
   },
   {
    "duration": 5,
    "start_time": "2022-05-19T10:32:18.170Z"
   },
   {
    "duration": 46,
    "start_time": "2022-05-19T11:12:19.730Z"
   },
   {
    "duration": 11,
    "start_time": "2022-05-19T11:14:34.094Z"
   },
   {
    "duration": 136,
    "start_time": "2022-05-19T11:14:42.721Z"
   },
   {
    "duration": 16,
    "start_time": "2022-05-19T11:14:43.750Z"
   },
   {
    "duration": 14,
    "start_time": "2022-05-19T11:14:51.369Z"
   },
   {
    "duration": 22,
    "start_time": "2022-05-19T11:14:59.710Z"
   },
   {
    "duration": 27,
    "start_time": "2022-05-19T11:15:05.742Z"
   },
   {
    "duration": 3,
    "start_time": "2022-05-19T12:54:33.611Z"
   },
   {
    "duration": 10,
    "start_time": "2022-05-19T12:54:33.616Z"
   },
   {
    "duration": 438,
    "start_time": "2022-05-19T12:54:33.628Z"
   },
   {
    "duration": 32,
    "start_time": "2022-05-19T12:54:34.068Z"
   },
   {
    "duration": 55,
    "start_time": "2022-05-19T12:54:34.103Z"
   },
   {
    "duration": 33,
    "start_time": "2022-05-19T12:54:34.159Z"
   },
   {
    "duration": 18,
    "start_time": "2022-05-19T12:54:34.194Z"
   },
   {
    "duration": 116,
    "start_time": "2022-05-19T12:54:34.215Z"
   },
   {
    "duration": 14,
    "start_time": "2022-05-19T12:54:34.333Z"
   },
   {
    "duration": 27,
    "start_time": "2022-05-19T12:54:34.348Z"
   },
   {
    "duration": 60,
    "start_time": "2022-05-19T12:54:34.376Z"
   },
   {
    "duration": 43,
    "start_time": "2022-05-19T12:54:34.438Z"
   },
   {
    "duration": 152,
    "start_time": "2022-05-19T12:54:34.483Z"
   },
   {
    "duration": 19,
    "start_time": "2022-05-19T12:54:34.637Z"
   },
   {
    "duration": 53,
    "start_time": "2022-05-19T12:54:34.659Z"
   },
   {
    "duration": 939,
    "start_time": "2022-05-19T17:57:03.223Z"
   },
   {
    "duration": 491,
    "start_time": "2022-05-19T17:58:31.873Z"
   },
   {
    "duration": 321,
    "start_time": "2022-05-19T17:59:28.271Z"
   },
   {
    "duration": 406,
    "start_time": "2022-05-19T18:00:07.950Z"
   },
   {
    "duration": 10,
    "start_time": "2022-05-19T18:03:40.106Z"
   },
   {
    "duration": 1435,
    "start_time": "2022-05-19T18:03:45.081Z"
   },
   {
    "duration": 1496,
    "start_time": "2022-05-19T18:04:08.849Z"
   },
   {
    "duration": 275,
    "start_time": "2022-05-19T18:08:11.285Z"
   },
   {
    "duration": 365,
    "start_time": "2022-05-19T18:08:20.949Z"
   },
   {
    "duration": 253,
    "start_time": "2022-05-19T18:09:57.075Z"
   },
   {
    "duration": 228,
    "start_time": "2022-05-19T18:10:11.691Z"
   },
   {
    "duration": 220,
    "start_time": "2022-05-19T18:10:23.155Z"
   },
   {
    "duration": 35,
    "start_time": "2022-05-19T19:15:41.225Z"
   },
   {
    "duration": 39,
    "start_time": "2022-05-19T19:15:48.650Z"
   },
   {
    "duration": 46,
    "start_time": "2022-05-19T19:15:57.481Z"
   },
   {
    "duration": 40,
    "start_time": "2022-05-19T19:16:22.707Z"
   },
   {
    "duration": 4,
    "start_time": "2022-05-19T19:16:27.013Z"
   },
   {
    "duration": 6,
    "start_time": "2022-05-19T19:16:27.019Z"
   },
   {
    "duration": 832,
    "start_time": "2022-05-19T19:16:27.026Z"
   },
   {
    "duration": 79,
    "start_time": "2022-05-19T19:16:27.860Z"
   },
   {
    "duration": 168,
    "start_time": "2022-05-19T19:16:27.941Z"
   },
   {
    "duration": 30,
    "start_time": "2022-05-19T19:16:28.111Z"
   },
   {
    "duration": 4,
    "start_time": "2022-05-19T19:16:28.142Z"
   },
   {
    "duration": 117,
    "start_time": "2022-05-19T19:16:28.148Z"
   },
   {
    "duration": 12,
    "start_time": "2022-05-19T19:16:28.268Z"
   },
   {
    "duration": 33,
    "start_time": "2022-05-19T19:16:28.282Z"
   },
   {
    "duration": 33,
    "start_time": "2022-05-19T19:16:28.317Z"
   },
   {
    "duration": 66,
    "start_time": "2022-05-19T19:16:28.352Z"
   },
   {
    "duration": 156,
    "start_time": "2022-05-19T19:16:28.420Z"
   },
   {
    "duration": 14,
    "start_time": "2022-05-19T19:16:28.577Z"
   },
   {
    "duration": 380,
    "start_time": "2022-05-19T19:16:28.593Z"
   },
   {
    "duration": 40,
    "start_time": "2022-05-19T19:16:28.975Z"
   },
   {
    "duration": 0,
    "start_time": "2022-05-19T19:16:29.017Z"
   },
   {
    "duration": 37,
    "start_time": "2022-05-19T19:16:35.342Z"
   },
   {
    "duration": 70,
    "start_time": "2022-05-19T19:16:52.171Z"
   },
   {
    "duration": 730,
    "start_time": "2022-05-19T19:17:00.958Z"
   },
   {
    "duration": 176,
    "start_time": "2022-05-19T19:17:13.186Z"
   },
   {
    "duration": 232,
    "start_time": "2022-05-19T19:17:41.587Z"
   },
   {
    "duration": 168,
    "start_time": "2022-05-19T19:18:04.551Z"
   },
   {
    "duration": 293,
    "start_time": "2022-05-19T19:18:16.106Z"
   },
   {
    "duration": 112,
    "start_time": "2022-05-19T19:20:24.160Z"
   },
   {
    "duration": 173,
    "start_time": "2022-05-19T19:22:14.661Z"
   },
   {
    "duration": 159,
    "start_time": "2022-05-19T19:22:30.965Z"
   },
   {
    "duration": 177,
    "start_time": "2022-05-19T19:22:41.196Z"
   },
   {
    "duration": 10,
    "start_time": "2022-05-19T19:22:52.005Z"
   },
   {
    "duration": 149,
    "start_time": "2022-05-19T19:23:20.988Z"
   },
   {
    "duration": 163,
    "start_time": "2022-05-19T19:26:20.153Z"
   },
   {
    "duration": 6,
    "start_time": "2022-05-19T19:26:43.912Z"
   },
   {
    "duration": 11,
    "start_time": "2022-05-19T19:26:47.759Z"
   },
   {
    "duration": 11,
    "start_time": "2022-05-19T19:26:59.992Z"
   },
   {
    "duration": 169,
    "start_time": "2022-05-19T19:27:29.472Z"
   },
   {
    "duration": 14,
    "start_time": "2022-05-19T19:27:51.649Z"
   },
   {
    "duration": 750,
    "start_time": "2022-05-19T19:28:14.279Z"
   },
   {
    "duration": 159,
    "start_time": "2022-05-19T19:28:22.390Z"
   },
   {
    "duration": 140,
    "start_time": "2022-05-19T19:28:43.583Z"
   },
   {
    "duration": 9,
    "start_time": "2022-05-19T19:28:52.045Z"
   },
   {
    "duration": 6,
    "start_time": "2022-05-19T19:29:20.150Z"
   },
   {
    "duration": 9,
    "start_time": "2022-05-19T19:29:25.614Z"
   },
   {
    "duration": 678,
    "start_time": "2022-05-19T19:30:22.545Z"
   },
   {
    "duration": 6,
    "start_time": "2022-05-19T19:30:58.499Z"
   },
   {
    "duration": 11,
    "start_time": "2022-05-19T19:31:06.253Z"
   },
   {
    "duration": 184,
    "start_time": "2022-05-19T19:32:05.675Z"
   },
   {
    "duration": 10,
    "start_time": "2022-05-19T19:32:11.986Z"
   },
   {
    "duration": 7,
    "start_time": "2022-05-19T19:32:14.446Z"
   },
   {
    "duration": 182,
    "start_time": "2022-05-19T19:32:19.106Z"
   },
   {
    "duration": 719,
    "start_time": "2022-05-19T19:32:26.114Z"
   },
   {
    "duration": 220,
    "start_time": "2022-05-19T19:32:32.523Z"
   },
   {
    "duration": 229,
    "start_time": "2022-05-19T19:32:48.942Z"
   },
   {
    "duration": 221,
    "start_time": "2022-05-19T19:33:17.865Z"
   },
   {
    "duration": 25,
    "start_time": "2022-05-19T19:33:55.129Z"
   },
   {
    "duration": 230,
    "start_time": "2022-05-19T19:34:04.507Z"
   },
   {
    "duration": 237,
    "start_time": "2022-05-19T19:34:20.777Z"
   },
   {
    "duration": 410,
    "start_time": "2022-05-19T19:34:47.450Z"
   },
   {
    "duration": 251,
    "start_time": "2022-05-19T19:44:05.520Z"
   },
   {
    "duration": 230,
    "start_time": "2022-05-19T19:44:17.398Z"
   },
   {
    "duration": 243,
    "start_time": "2022-05-19T19:46:07.049Z"
   },
   {
    "duration": 6,
    "start_time": "2022-05-19T19:47:39.942Z"
   },
   {
    "duration": 6,
    "start_time": "2022-05-19T19:47:55.347Z"
   },
   {
    "duration": 7,
    "start_time": "2022-05-19T19:48:07.794Z"
   },
   {
    "duration": 233,
    "start_time": "2022-05-19T19:55:04.130Z"
   },
   {
    "duration": 23,
    "start_time": "2022-05-19T20:36:57.318Z"
   },
   {
    "duration": 615,
    "start_time": "2022-05-19T20:37:54.495Z"
   },
   {
    "duration": 141,
    "start_time": "2022-05-19T20:38:04.057Z"
   },
   {
    "duration": 237,
    "start_time": "2022-05-19T20:38:27.518Z"
   },
   {
    "duration": 140,
    "start_time": "2022-05-19T20:39:18.364Z"
   },
   {
    "duration": 18,
    "start_time": "2022-05-19T20:42:30.100Z"
   },
   {
    "duration": 18,
    "start_time": "2022-05-19T20:42:36.777Z"
   },
   {
    "duration": 15,
    "start_time": "2022-05-19T20:44:00.751Z"
   },
   {
    "duration": 158,
    "start_time": "2022-05-19T20:44:25.886Z"
   },
   {
    "duration": 338,
    "start_time": "2022-05-19T20:45:31.805Z"
   },
   {
    "duration": 250,
    "start_time": "2022-05-19T20:46:26.068Z"
   },
   {
    "duration": 223,
    "start_time": "2022-05-19T20:46:39.756Z"
   },
   {
    "duration": 236,
    "start_time": "2022-05-19T20:46:49.957Z"
   },
   {
    "duration": 158,
    "start_time": "2022-05-19T20:48:05.995Z"
   },
   {
    "duration": 172,
    "start_time": "2022-05-19T20:49:00.457Z"
   },
   {
    "duration": 14,
    "start_time": "2022-05-19T20:49:20.121Z"
   },
   {
    "duration": 160,
    "start_time": "2022-05-19T22:12:04.274Z"
   },
   {
    "duration": 311,
    "start_time": "2022-05-19T22:12:11.849Z"
   },
   {
    "duration": 251,
    "start_time": "2022-05-19T22:14:15.584Z"
   },
   {
    "duration": 164,
    "start_time": "2022-05-19T22:14:39.848Z"
   },
   {
    "duration": 167,
    "start_time": "2022-05-19T22:14:44.368Z"
   },
   {
    "duration": 261,
    "start_time": "2022-05-19T22:15:59.662Z"
   },
   {
    "duration": 190,
    "start_time": "2022-05-19T22:16:12.838Z"
   },
   {
    "duration": 173,
    "start_time": "2022-05-19T22:16:51.134Z"
   },
   {
    "duration": 183,
    "start_time": "2022-05-19T22:17:32.005Z"
   },
   {
    "duration": 173,
    "start_time": "2022-05-19T22:21:02.113Z"
   },
   {
    "duration": 161,
    "start_time": "2022-05-19T22:22:40.247Z"
   },
   {
    "duration": 153,
    "start_time": "2022-05-19T22:22:51.214Z"
   },
   {
    "duration": 89,
    "start_time": "2022-05-19T22:23:18.590Z"
   },
   {
    "duration": 84,
    "start_time": "2022-05-19T22:23:38.422Z"
   },
   {
    "duration": 163,
    "start_time": "2022-05-19T22:23:47.829Z"
   },
   {
    "duration": 10,
    "start_time": "2022-05-19T22:25:18.406Z"
   },
   {
    "duration": 230,
    "start_time": "2022-05-19T22:25:46.821Z"
   },
   {
    "duration": 4,
    "start_time": "2022-05-19T22:25:47.053Z"
   },
   {
    "duration": 360,
    "start_time": "2022-05-19T22:25:47.059Z"
   },
   {
    "duration": 29,
    "start_time": "2022-05-19T22:25:47.422Z"
   },
   {
    "duration": 46,
    "start_time": "2022-05-19T22:25:47.453Z"
   },
   {
    "duration": 32,
    "start_time": "2022-05-19T22:25:47.501Z"
   },
   {
    "duration": 3,
    "start_time": "2022-05-19T22:25:47.535Z"
   },
   {
    "duration": 118,
    "start_time": "2022-05-19T22:25:47.540Z"
   },
   {
    "duration": 12,
    "start_time": "2022-05-19T22:25:47.659Z"
   },
   {
    "duration": 20,
    "start_time": "2022-05-19T22:25:47.674Z"
   },
   {
    "duration": 46,
    "start_time": "2022-05-19T22:25:47.696Z"
   },
   {
    "duration": 40,
    "start_time": "2022-05-19T22:25:47.744Z"
   },
   {
    "duration": 167,
    "start_time": "2022-05-19T22:25:47.786Z"
   },
   {
    "duration": 13,
    "start_time": "2022-05-19T22:25:47.955Z"
   },
   {
    "duration": 400,
    "start_time": "2022-05-19T22:25:47.970Z"
   },
   {
    "duration": 246,
    "start_time": "2022-05-19T22:25:48.372Z"
   },
   {
    "duration": 15,
    "start_time": "2022-05-19T22:25:48.620Z"
   },
   {
    "duration": 180,
    "start_time": "2022-05-19T22:25:48.636Z"
   },
   {
    "duration": 443,
    "start_time": "2022-05-19T22:25:48.818Z"
   },
   {
    "duration": 56,
    "start_time": "2022-05-19T22:26:05.789Z"
   },
   {
    "duration": 63,
    "start_time": "2022-05-19T22:26:16.257Z"
   },
   {
    "duration": 91,
    "start_time": "2022-05-19T22:27:09.972Z"
   },
   {
    "duration": 64,
    "start_time": "2022-05-19T22:27:15.666Z"
   },
   {
    "duration": 53,
    "start_time": "2022-05-19T22:27:20.526Z"
   },
   {
    "duration": 87,
    "start_time": "2022-05-19T22:27:33.571Z"
   },
   {
    "duration": 56,
    "start_time": "2022-05-19T22:29:06.538Z"
   },
   {
    "duration": 65,
    "start_time": "2022-05-19T22:29:13.936Z"
   },
   {
    "duration": 26,
    "start_time": "2022-05-19T22:30:41.446Z"
   },
   {
    "duration": 3,
    "start_time": "2022-05-19T22:30:52.740Z"
   },
   {
    "duration": 11,
    "start_time": "2022-05-19T22:30:52.745Z"
   },
   {
    "duration": 354,
    "start_time": "2022-05-19T22:30:52.758Z"
   },
   {
    "duration": 30,
    "start_time": "2022-05-19T22:30:53.114Z"
   },
   {
    "duration": 46,
    "start_time": "2022-05-19T22:30:53.145Z"
   },
   {
    "duration": 34,
    "start_time": "2022-05-19T22:30:53.192Z"
   },
   {
    "duration": 4,
    "start_time": "2022-05-19T22:30:53.227Z"
   },
   {
    "duration": 126,
    "start_time": "2022-05-19T22:30:53.232Z"
   },
   {
    "duration": 13,
    "start_time": "2022-05-19T22:30:53.360Z"
   },
   {
    "duration": 26,
    "start_time": "2022-05-19T22:30:53.375Z"
   },
   {
    "duration": 33,
    "start_time": "2022-05-19T22:30:53.412Z"
   },
   {
    "duration": 69,
    "start_time": "2022-05-19T22:30:53.447Z"
   },
   {
    "duration": 143,
    "start_time": "2022-05-19T22:30:53.518Z"
   },
   {
    "duration": 14,
    "start_time": "2022-05-19T22:30:53.662Z"
   },
   {
    "duration": 333,
    "start_time": "2022-05-19T22:30:53.677Z"
   },
   {
    "duration": 248,
    "start_time": "2022-05-19T22:30:54.011Z"
   },
   {
    "duration": 21,
    "start_time": "2022-05-19T22:30:54.260Z"
   },
   {
    "duration": 189,
    "start_time": "2022-05-19T22:30:54.283Z"
   },
   {
    "duration": 71,
    "start_time": "2022-05-19T22:30:54.474Z"
   },
   {
    "duration": 18,
    "start_time": "2022-05-19T22:31:25.038Z"
   },
   {
    "duration": 67,
    "start_time": "2022-05-19T22:31:40.598Z"
   },
   {
    "duration": 19,
    "start_time": "2022-05-19T22:32:13.574Z"
   },
   {
    "duration": 56,
    "start_time": "2022-05-19T22:32:28.669Z"
   },
   {
    "duration": 17,
    "start_time": "2022-05-19T22:36:10.258Z"
   },
   {
    "duration": 39,
    "start_time": "2022-05-19T22:36:51.240Z"
   },
   {
    "duration": 78,
    "start_time": "2022-05-19T22:37:09.080Z"
   },
   {
    "duration": 22,
    "start_time": "2022-05-19T22:37:23.000Z"
   },
   {
    "duration": 28,
    "start_time": "2022-05-19T22:37:36.881Z"
   },
   {
    "duration": 35,
    "start_time": "2022-05-19T22:37:42.664Z"
   },
   {
    "duration": 18,
    "start_time": "2022-05-19T22:37:53.471Z"
   },
   {
    "duration": 25,
    "start_time": "2022-05-19T22:37:57.871Z"
   },
   {
    "duration": 186,
    "start_time": "2022-05-19T22:38:01.271Z"
   },
   {
    "duration": 54,
    "start_time": "2022-05-19T22:38:18.463Z"
   },
   {
    "duration": 52,
    "start_time": "2022-05-19T22:38:25.767Z"
   },
   {
    "duration": 53,
    "start_time": "2022-05-20T07:38:16.721Z"
   },
   {
    "duration": 1696,
    "start_time": "2022-05-20T07:38:20.501Z"
   },
   {
    "duration": 3,
    "start_time": "2022-05-20T07:38:22.199Z"
   },
   {
    "duration": 848,
    "start_time": "2022-05-20T07:38:22.204Z"
   },
   {
    "duration": 83,
    "start_time": "2022-05-20T07:38:23.054Z"
   },
   {
    "duration": 164,
    "start_time": "2022-05-20T07:38:23.138Z"
   },
   {
    "duration": 34,
    "start_time": "2022-05-20T07:38:23.304Z"
   },
   {
    "duration": 14,
    "start_time": "2022-05-20T07:38:23.340Z"
   },
   {
    "duration": 132,
    "start_time": "2022-05-20T07:38:23.356Z"
   },
   {
    "duration": 13,
    "start_time": "2022-05-20T07:38:23.490Z"
   },
   {
    "duration": 43,
    "start_time": "2022-05-20T07:38:23.505Z"
   },
   {
    "duration": 48,
    "start_time": "2022-05-20T07:38:23.550Z"
   },
   {
    "duration": 46,
    "start_time": "2022-05-20T07:38:23.600Z"
   },
   {
    "duration": 135,
    "start_time": "2022-05-20T07:38:23.648Z"
   },
   {
    "duration": 14,
    "start_time": "2022-05-20T07:38:23.784Z"
   },
   {
    "duration": 488,
    "start_time": "2022-05-20T07:38:23.799Z"
   },
   {
    "duration": 224,
    "start_time": "2022-05-20T07:38:24.289Z"
   },
   {
    "duration": 173,
    "start_time": "2022-05-20T07:38:24.514Z"
   },
   {
    "duration": 159,
    "start_time": "2022-05-20T07:38:24.689Z"
   },
   {
    "duration": 160,
    "start_time": "2022-05-20T07:43:02.106Z"
   },
   {
    "duration": 4,
    "start_time": "2022-05-20T07:43:07.233Z"
   },
   {
    "duration": 3,
    "start_time": "2022-05-20T07:43:15.058Z"
   },
   {
    "duration": 8,
    "start_time": "2022-05-20T07:43:34.017Z"
   },
   {
    "duration": 159,
    "start_time": "2022-05-20T07:43:55.992Z"
   },
   {
    "duration": 35,
    "start_time": "2022-05-20T07:44:07.488Z"
   },
   {
    "duration": 59,
    "start_time": "2022-05-20T07:44:12.617Z"
   },
   {
    "duration": 12,
    "start_time": "2022-05-20T07:44:16.801Z"
   },
   {
    "duration": 4,
    "start_time": "2022-05-20T07:44:34.601Z"
   },
   {
    "duration": 4,
    "start_time": "2022-05-20T07:44:40.335Z"
   },
   {
    "duration": 3,
    "start_time": "2022-05-20T07:44:48.919Z"
   },
   {
    "duration": 9,
    "start_time": "2022-05-20T07:45:27.815Z"
   },
   {
    "duration": 23,
    "start_time": "2022-05-20T07:45:35.543Z"
   },
   {
    "duration": 11,
    "start_time": "2022-05-20T07:45:45.224Z"
   },
   {
    "duration": 209,
    "start_time": "2022-05-20T07:47:34.684Z"
   },
   {
    "duration": 130,
    "start_time": "2022-05-20T07:47:42.812Z"
   },
   {
    "duration": 137,
    "start_time": "2022-05-20T07:47:56.244Z"
   },
   {
    "duration": 138,
    "start_time": "2022-05-20T07:48:14.100Z"
   },
   {
    "duration": 160,
    "start_time": "2022-05-20T07:48:21.547Z"
   },
   {
    "duration": 145,
    "start_time": "2022-05-20T07:50:41.529Z"
   },
   {
    "duration": 962,
    "start_time": "2022-05-20T08:05:03.762Z"
   },
   {
    "duration": 797,
    "start_time": "2022-05-20T08:05:46.737Z"
   },
   {
    "duration": 11,
    "start_time": "2022-05-20T08:05:59.561Z"
   },
   {
    "duration": 611,
    "start_time": "2022-05-20T08:06:38.624Z"
   },
   {
    "duration": 8,
    "start_time": "2022-05-20T08:06:53.616Z"
   },
   {
    "duration": 917,
    "start_time": "2022-05-20T08:07:37.016Z"
   },
   {
    "duration": 8,
    "start_time": "2022-05-20T08:07:46.152Z"
   },
   {
    "duration": 3,
    "start_time": "2022-05-20T08:07:56.551Z"
   },
   {
    "duration": 6,
    "start_time": "2022-05-20T08:07:56.557Z"
   },
   {
    "duration": 322,
    "start_time": "2022-05-20T08:07:56.565Z"
   },
   {
    "duration": 29,
    "start_time": "2022-05-20T08:07:56.890Z"
   },
   {
    "duration": 44,
    "start_time": "2022-05-20T08:07:56.921Z"
   },
   {
    "duration": 28,
    "start_time": "2022-05-20T08:07:56.966Z"
   },
   {
    "duration": 7,
    "start_time": "2022-05-20T08:07:56.996Z"
   },
   {
    "duration": 111,
    "start_time": "2022-05-20T08:07:57.004Z"
   },
   {
    "duration": 12,
    "start_time": "2022-05-20T08:07:57.118Z"
   },
   {
    "duration": 38,
    "start_time": "2022-05-20T08:07:57.132Z"
   },
   {
    "duration": 33,
    "start_time": "2022-05-20T08:07:57.172Z"
   },
   {
    "duration": 53,
    "start_time": "2022-05-20T08:07:57.207Z"
   },
   {
    "duration": 152,
    "start_time": "2022-05-20T08:07:57.262Z"
   },
   {
    "duration": 13,
    "start_time": "2022-05-20T08:07:57.415Z"
   },
   {
    "duration": 411,
    "start_time": "2022-05-20T08:07:57.429Z"
   },
   {
    "duration": 279,
    "start_time": "2022-05-20T08:07:57.842Z"
   },
   {
    "duration": 152,
    "start_time": "2022-05-20T08:07:58.122Z"
   },
   {
    "duration": 684,
    "start_time": "2022-05-20T08:07:58.275Z"
   },
   {
    "duration": 0,
    "start_time": "2022-05-20T08:07:58.961Z"
   },
   {
    "duration": 12,
    "start_time": "2022-05-20T08:08:25.015Z"
   },
   {
    "duration": 797,
    "start_time": "2022-05-20T08:08:31.294Z"
   },
   {
    "duration": 812,
    "start_time": "2022-05-20T08:09:05.462Z"
   },
   {
    "duration": 108385,
    "start_time": "2022-05-20T08:12:53.643Z"
   },
   {
    "duration": 1180,
    "start_time": "2022-05-20T08:18:19.598Z"
   },
   {
    "duration": 4,
    "start_time": "2022-05-20T08:18:20.780Z"
   },
   {
    "duration": 350,
    "start_time": "2022-05-20T08:18:20.785Z"
   },
   {
    "duration": 29,
    "start_time": "2022-05-20T08:18:21.137Z"
   },
   {
    "duration": 46,
    "start_time": "2022-05-20T08:18:21.168Z"
   },
   {
    "duration": 44,
    "start_time": "2022-05-20T08:18:21.216Z"
   },
   {
    "duration": 4,
    "start_time": "2022-05-20T08:18:21.261Z"
   },
   {
    "duration": 121,
    "start_time": "2022-05-20T08:18:21.266Z"
   },
   {
    "duration": 14,
    "start_time": "2022-05-20T08:18:21.389Z"
   },
   {
    "duration": 22,
    "start_time": "2022-05-20T08:18:21.406Z"
   },
   {
    "duration": 46,
    "start_time": "2022-05-20T08:18:21.430Z"
   },
   {
    "duration": 38,
    "start_time": "2022-05-20T08:18:21.478Z"
   },
   {
    "duration": 157,
    "start_time": "2022-05-20T08:18:21.518Z"
   },
   {
    "duration": 14,
    "start_time": "2022-05-20T08:18:21.676Z"
   },
   {
    "duration": 524,
    "start_time": "2022-05-20T08:18:21.691Z"
   },
   {
    "duration": 238,
    "start_time": "2022-05-20T08:18:22.216Z"
   },
   {
    "duration": 145,
    "start_time": "2022-05-20T08:18:22.459Z"
   },
   {
    "duration": 1146,
    "start_time": "2022-05-20T08:19:14.187Z"
   },
   {
    "duration": 4,
    "start_time": "2022-05-20T08:19:15.335Z"
   },
   {
    "duration": 339,
    "start_time": "2022-05-20T08:19:15.341Z"
   },
   {
    "duration": 29,
    "start_time": "2022-05-20T08:19:15.682Z"
   },
   {
    "duration": 44,
    "start_time": "2022-05-20T08:19:15.712Z"
   },
   {
    "duration": 33,
    "start_time": "2022-05-20T08:19:15.758Z"
   },
   {
    "duration": 3,
    "start_time": "2022-05-20T08:19:15.793Z"
   },
   {
    "duration": 128,
    "start_time": "2022-05-20T08:19:15.797Z"
   },
   {
    "duration": 12,
    "start_time": "2022-05-20T08:19:15.926Z"
   },
   {
    "duration": 45,
    "start_time": "2022-05-20T08:19:15.941Z"
   },
   {
    "duration": 32,
    "start_time": "2022-05-20T08:19:15.987Z"
   },
   {
    "duration": 55,
    "start_time": "2022-05-20T08:19:16.021Z"
   },
   {
    "duration": 148,
    "start_time": "2022-05-20T08:19:16.078Z"
   },
   {
    "duration": 13,
    "start_time": "2022-05-20T08:19:16.228Z"
   },
   {
    "duration": 502,
    "start_time": "2022-05-20T08:19:16.243Z"
   },
   {
    "duration": 233,
    "start_time": "2022-05-20T08:19:16.747Z"
   },
   {
    "duration": 146,
    "start_time": "2022-05-20T08:19:16.981Z"
   },
   {
    "duration": 550,
    "start_time": "2022-05-20T08:19:17.128Z"
   },
   {
    "duration": 8,
    "start_time": "2022-05-20T08:20:28.441Z"
   },
   {
    "duration": 124,
    "start_time": "2022-05-20T08:20:53.089Z"
   },
   {
    "duration": 12,
    "start_time": "2022-05-20T08:20:59.713Z"
   },
   {
    "duration": 15,
    "start_time": "2022-05-20T08:21:09.920Z"
   },
   {
    "duration": 462,
    "start_time": "2022-05-20T08:21:19.440Z"
   },
   {
    "duration": 3,
    "start_time": "2022-05-20T08:21:29.563Z"
   },
   {
    "duration": 7,
    "start_time": "2022-05-20T08:21:29.567Z"
   },
   {
    "duration": 339,
    "start_time": "2022-05-20T08:21:29.576Z"
   },
   {
    "duration": 43,
    "start_time": "2022-05-20T08:21:29.917Z"
   },
   {
    "duration": 51,
    "start_time": "2022-05-20T08:21:29.962Z"
   },
   {
    "duration": 57,
    "start_time": "2022-05-20T08:21:30.014Z"
   },
   {
    "duration": 4,
    "start_time": "2022-05-20T08:21:30.073Z"
   },
   {
    "duration": 160,
    "start_time": "2022-05-20T08:21:30.078Z"
   },
   {
    "duration": 26,
    "start_time": "2022-05-20T08:21:30.240Z"
   },
   {
    "duration": 41,
    "start_time": "2022-05-20T08:21:30.267Z"
   },
   {
    "duration": 47,
    "start_time": "2022-05-20T08:21:30.310Z"
   },
   {
    "duration": 38,
    "start_time": "2022-05-20T08:21:30.358Z"
   },
   {
    "duration": 155,
    "start_time": "2022-05-20T08:21:30.398Z"
   },
   {
    "duration": 13,
    "start_time": "2022-05-20T08:21:30.559Z"
   },
   {
    "duration": 424,
    "start_time": "2022-05-20T08:21:30.574Z"
   },
   {
    "duration": 238,
    "start_time": "2022-05-20T08:21:31.000Z"
   },
   {
    "duration": 145,
    "start_time": "2022-05-20T08:21:31.240Z"
   },
   {
    "duration": 855,
    "start_time": "2022-05-20T08:21:31.386Z"
   },
   {
    "duration": 17,
    "start_time": "2022-05-20T08:21:32.243Z"
   },
   {
    "duration": 513,
    "start_time": "2022-05-20T08:21:45.768Z"
   },
   {
    "duration": 7,
    "start_time": "2022-05-20T08:21:50.136Z"
   },
   {
    "duration": 13,
    "start_time": "2022-05-20T08:22:19.480Z"
   },
   {
    "duration": 12,
    "start_time": "2022-05-20T08:22:28.536Z"
   },
   {
    "duration": 12,
    "start_time": "2022-05-20T08:22:36.759Z"
   },
   {
    "duration": 3,
    "start_time": "2022-05-20T08:22:39.961Z"
   },
   {
    "duration": 16,
    "start_time": "2022-05-20T08:22:39.966Z"
   },
   {
    "duration": 355,
    "start_time": "2022-05-20T08:22:39.983Z"
   },
   {
    "duration": 29,
    "start_time": "2022-05-20T08:22:40.341Z"
   },
   {
    "duration": 44,
    "start_time": "2022-05-20T08:22:40.372Z"
   },
   {
    "duration": 27,
    "start_time": "2022-05-20T08:22:40.417Z"
   },
   {
    "duration": 22,
    "start_time": "2022-05-20T08:22:40.446Z"
   },
   {
    "duration": 108,
    "start_time": "2022-05-20T08:22:40.470Z"
   },
   {
    "duration": 12,
    "start_time": "2022-05-20T08:22:40.580Z"
   },
   {
    "duration": 38,
    "start_time": "2022-05-20T08:22:40.594Z"
   },
   {
    "duration": 47,
    "start_time": "2022-05-20T08:22:40.634Z"
   },
   {
    "duration": 50,
    "start_time": "2022-05-20T08:22:40.683Z"
   },
   {
    "duration": 130,
    "start_time": "2022-05-20T08:22:40.734Z"
   },
   {
    "duration": 14,
    "start_time": "2022-05-20T08:22:40.866Z"
   },
   {
    "duration": 348,
    "start_time": "2022-05-20T08:22:40.881Z"
   },
   {
    "duration": 229,
    "start_time": "2022-05-20T08:22:41.231Z"
   },
   {
    "duration": 146,
    "start_time": "2022-05-20T08:22:41.462Z"
   },
   {
    "duration": 558,
    "start_time": "2022-05-20T08:22:41.609Z"
   },
   {
    "duration": 8,
    "start_time": "2022-05-20T08:22:42.168Z"
   },
   {
    "duration": 12,
    "start_time": "2022-05-20T08:24:08.846Z"
   },
   {
    "duration": 588,
    "start_time": "2022-05-20T08:24:16.234Z"
   },
   {
    "duration": 3,
    "start_time": "2022-05-20T08:24:20.608Z"
   },
   {
    "duration": 9,
    "start_time": "2022-05-20T08:24:20.613Z"
   },
   {
    "duration": 360,
    "start_time": "2022-05-20T08:24:20.623Z"
   },
   {
    "duration": 31,
    "start_time": "2022-05-20T08:24:20.986Z"
   },
   {
    "duration": 49,
    "start_time": "2022-05-20T08:24:21.019Z"
   },
   {
    "duration": 32,
    "start_time": "2022-05-20T08:24:21.069Z"
   },
   {
    "duration": 5,
    "start_time": "2022-05-20T08:24:21.102Z"
   },
   {
    "duration": 128,
    "start_time": "2022-05-20T08:24:21.109Z"
   },
   {
    "duration": 12,
    "start_time": "2022-05-20T08:24:21.239Z"
   },
   {
    "duration": 19,
    "start_time": "2022-05-20T08:24:21.259Z"
   },
   {
    "duration": 38,
    "start_time": "2022-05-20T08:24:21.279Z"
   },
   {
    "duration": 61,
    "start_time": "2022-05-20T08:24:21.319Z"
   },
   {
    "duration": 132,
    "start_time": "2022-05-20T08:24:21.382Z"
   },
   {
    "duration": 14,
    "start_time": "2022-05-20T08:24:21.515Z"
   },
   {
    "duration": 343,
    "start_time": "2022-05-20T08:24:21.530Z"
   },
   {
    "duration": 236,
    "start_time": "2022-05-20T08:24:21.875Z"
   },
   {
    "duration": 161,
    "start_time": "2022-05-20T08:24:22.113Z"
   },
   {
    "duration": 867,
    "start_time": "2022-05-20T08:24:22.276Z"
   },
   {
    "duration": 15,
    "start_time": "2022-05-20T08:24:23.145Z"
   },
   {
    "duration": 561,
    "start_time": "2022-05-20T08:24:55.197Z"
   },
   {
    "duration": 12,
    "start_time": "2022-05-20T08:26:00.107Z"
   },
   {
    "duration": 3,
    "start_time": "2022-05-20T08:26:02.254Z"
   },
   {
    "duration": 13,
    "start_time": "2022-05-20T08:26:02.259Z"
   },
   {
    "duration": 338,
    "start_time": "2022-05-20T08:26:02.274Z"
   },
   {
    "duration": 31,
    "start_time": "2022-05-20T08:26:02.613Z"
   },
   {
    "duration": 48,
    "start_time": "2022-05-20T08:26:02.646Z"
   },
   {
    "duration": 29,
    "start_time": "2022-05-20T08:26:02.696Z"
   },
   {
    "duration": 3,
    "start_time": "2022-05-20T08:26:02.727Z"
   },
   {
    "duration": 123,
    "start_time": "2022-05-20T08:26:02.732Z"
   },
   {
    "duration": 13,
    "start_time": "2022-05-20T08:26:02.861Z"
   },
   {
    "duration": 23,
    "start_time": "2022-05-20T08:26:02.875Z"
   },
   {
    "duration": 32,
    "start_time": "2022-05-20T08:26:02.900Z"
   },
   {
    "duration": 60,
    "start_time": "2022-05-20T08:26:02.933Z"
   },
   {
    "duration": 146,
    "start_time": "2022-05-20T08:26:02.994Z"
   },
   {
    "duration": 18,
    "start_time": "2022-05-20T08:26:03.142Z"
   },
   {
    "duration": 409,
    "start_time": "2022-05-20T08:26:03.162Z"
   },
   {
    "duration": 244,
    "start_time": "2022-05-20T08:26:03.573Z"
   },
   {
    "duration": 152,
    "start_time": "2022-05-20T08:26:03.819Z"
   },
   {
    "duration": 503,
    "start_time": "2022-05-20T08:26:03.972Z"
   },
   {
    "duration": 12,
    "start_time": "2022-05-20T08:27:28.498Z"
   },
   {
    "duration": 514,
    "start_time": "2022-05-20T08:27:35.282Z"
   },
   {
    "duration": 461,
    "start_time": "2022-05-20T08:27:36.793Z"
   },
   {
    "duration": 455,
    "start_time": "2022-05-20T08:27:39.282Z"
   },
   {
    "duration": 3,
    "start_time": "2022-05-20T08:27:41.797Z"
   },
   {
    "duration": 10,
    "start_time": "2022-05-20T08:27:41.802Z"
   },
   {
    "duration": 328,
    "start_time": "2022-05-20T08:27:41.813Z"
   },
   {
    "duration": 30,
    "start_time": "2022-05-20T08:27:42.143Z"
   },
   {
    "duration": 46,
    "start_time": "2022-05-20T08:27:42.174Z"
   },
   {
    "duration": 37,
    "start_time": "2022-05-20T08:27:42.222Z"
   },
   {
    "duration": 17,
    "start_time": "2022-05-20T08:27:42.261Z"
   },
   {
    "duration": 130,
    "start_time": "2022-05-20T08:27:42.279Z"
   },
   {
    "duration": 12,
    "start_time": "2022-05-20T08:27:42.412Z"
   },
   {
    "duration": 38,
    "start_time": "2022-05-20T08:27:42.426Z"
   },
   {
    "duration": 48,
    "start_time": "2022-05-20T08:27:42.465Z"
   },
   {
    "duration": 62,
    "start_time": "2022-05-20T08:27:42.514Z"
   },
   {
    "duration": 126,
    "start_time": "2022-05-20T08:27:42.578Z"
   },
   {
    "duration": 16,
    "start_time": "2022-05-20T08:27:42.706Z"
   },
   {
    "duration": 381,
    "start_time": "2022-05-20T08:27:42.724Z"
   },
   {
    "duration": 228,
    "start_time": "2022-05-20T08:27:43.106Z"
   },
   {
    "duration": 135,
    "start_time": "2022-05-20T08:27:43.336Z"
   },
   {
    "duration": 788,
    "start_time": "2022-05-20T08:27:43.473Z"
   },
   {
    "duration": 493,
    "start_time": "2022-05-20T08:28:22.937Z"
   },
   {
    "duration": 479,
    "start_time": "2022-05-20T08:28:32.560Z"
   },
   {
    "duration": 474,
    "start_time": "2022-05-20T08:28:34.981Z"
   },
   {
    "duration": 14,
    "start_time": "2022-05-20T08:29:01.728Z"
   },
   {
    "duration": 3,
    "start_time": "2022-05-20T08:29:04.106Z"
   },
   {
    "duration": 19,
    "start_time": "2022-05-20T08:29:04.111Z"
   },
   {
    "duration": 334,
    "start_time": "2022-05-20T08:29:04.132Z"
   },
   {
    "duration": 28,
    "start_time": "2022-05-20T08:29:04.468Z"
   },
   {
    "duration": 45,
    "start_time": "2022-05-20T08:29:04.498Z"
   },
   {
    "duration": 30,
    "start_time": "2022-05-20T08:29:04.545Z"
   },
   {
    "duration": 10,
    "start_time": "2022-05-20T08:29:04.577Z"
   },
   {
    "duration": 121,
    "start_time": "2022-05-20T08:29:04.588Z"
   },
   {
    "duration": 13,
    "start_time": "2022-05-20T08:29:04.710Z"
   },
   {
    "duration": 37,
    "start_time": "2022-05-20T08:29:04.724Z"
   },
   {
    "duration": 56,
    "start_time": "2022-05-20T08:29:04.763Z"
   },
   {
    "duration": 42,
    "start_time": "2022-05-20T08:29:04.820Z"
   },
   {
    "duration": 154,
    "start_time": "2022-05-20T08:29:04.863Z"
   },
   {
    "duration": 13,
    "start_time": "2022-05-20T08:29:05.018Z"
   },
   {
    "duration": 290,
    "start_time": "2022-05-20T08:29:05.032Z"
   },
   {
    "duration": 226,
    "start_time": "2022-05-20T08:29:05.324Z"
   },
   {
    "duration": 253,
    "start_time": "2022-05-20T08:29:05.552Z"
   },
   {
    "duration": 539,
    "start_time": "2022-05-20T08:29:05.807Z"
   },
   {
    "duration": 4,
    "start_time": "2022-05-20T08:31:01.365Z"
   },
   {
    "duration": 11,
    "start_time": "2022-05-20T08:31:01.371Z"
   },
   {
    "duration": 376,
    "start_time": "2022-05-20T08:31:01.383Z"
   },
   {
    "duration": 29,
    "start_time": "2022-05-20T08:31:01.762Z"
   },
   {
    "duration": 53,
    "start_time": "2022-05-20T08:31:01.793Z"
   },
   {
    "duration": 47,
    "start_time": "2022-05-20T08:31:01.848Z"
   },
   {
    "duration": 6,
    "start_time": "2022-05-20T08:31:01.896Z"
   },
   {
    "duration": 136,
    "start_time": "2022-05-20T08:31:01.903Z"
   },
   {
    "duration": 17,
    "start_time": "2022-05-20T08:31:02.042Z"
   },
   {
    "duration": 32,
    "start_time": "2022-05-20T08:31:02.061Z"
   },
   {
    "duration": 36,
    "start_time": "2022-05-20T08:31:02.095Z"
   },
   {
    "duration": 62,
    "start_time": "2022-05-20T08:31:02.132Z"
   },
   {
    "duration": 141,
    "start_time": "2022-05-20T08:31:02.195Z"
   },
   {
    "duration": 13,
    "start_time": "2022-05-20T08:31:02.337Z"
   },
   {
    "duration": 296,
    "start_time": "2022-05-20T08:31:02.359Z"
   },
   {
    "duration": 240,
    "start_time": "2022-05-20T08:31:02.659Z"
   },
   {
    "duration": 149,
    "start_time": "2022-05-20T08:31:02.901Z"
   },
   {
    "duration": 506,
    "start_time": "2022-05-20T08:31:03.059Z"
   },
   {
    "duration": 443,
    "start_time": "2022-05-20T08:31:23.374Z"
   },
   {
    "duration": 3,
    "start_time": "2022-05-20T08:31:26.254Z"
   },
   {
    "duration": 9,
    "start_time": "2022-05-20T08:31:26.258Z"
   },
   {
    "duration": 328,
    "start_time": "2022-05-20T08:31:26.269Z"
   },
   {
    "duration": 30,
    "start_time": "2022-05-20T08:31:26.598Z"
   },
   {
    "duration": 46,
    "start_time": "2022-05-20T08:31:26.629Z"
   },
   {
    "duration": 28,
    "start_time": "2022-05-20T08:31:26.677Z"
   },
   {
    "duration": 3,
    "start_time": "2022-05-20T08:31:26.707Z"
   },
   {
    "duration": 117,
    "start_time": "2022-05-20T08:31:26.712Z"
   },
   {
    "duration": 12,
    "start_time": "2022-05-20T08:31:26.831Z"
   },
   {
    "duration": 34,
    "start_time": "2022-05-20T08:31:26.844Z"
   },
   {
    "duration": 36,
    "start_time": "2022-05-20T08:31:26.879Z"
   },
   {
    "duration": 134,
    "start_time": "2022-05-20T08:31:26.917Z"
   },
   {
    "duration": 135,
    "start_time": "2022-05-20T08:31:27.060Z"
   },
   {
    "duration": 13,
    "start_time": "2022-05-20T08:31:27.197Z"
   },
   {
    "duration": 300,
    "start_time": "2022-05-20T08:31:27.212Z"
   },
   {
    "duration": 226,
    "start_time": "2022-05-20T08:31:27.513Z"
   },
   {
    "duration": 184,
    "start_time": "2022-05-20T08:31:27.741Z"
   },
   {
    "duration": 821,
    "start_time": "2022-05-20T08:31:27.927Z"
   },
   {
    "duration": 521,
    "start_time": "2022-05-20T08:31:45.094Z"
   },
   {
    "duration": 13,
    "start_time": "2022-05-20T08:32:27.365Z"
   },
   {
    "duration": 3,
    "start_time": "2022-05-20T08:32:31.038Z"
   },
   {
    "duration": 8,
    "start_time": "2022-05-20T08:32:31.044Z"
   },
   {
    "duration": 352,
    "start_time": "2022-05-20T08:32:31.054Z"
   },
   {
    "duration": 31,
    "start_time": "2022-05-20T08:32:31.409Z"
   },
   {
    "duration": 49,
    "start_time": "2022-05-20T08:32:31.441Z"
   },
   {
    "duration": 35,
    "start_time": "2022-05-20T08:32:31.493Z"
   },
   {
    "duration": 24,
    "start_time": "2022-05-20T08:32:31.530Z"
   },
   {
    "duration": 135,
    "start_time": "2022-05-20T08:32:31.556Z"
   },
   {
    "duration": 14,
    "start_time": "2022-05-20T08:32:31.694Z"
   },
   {
    "duration": 38,
    "start_time": "2022-05-20T08:32:31.710Z"
   },
   {
    "duration": 66,
    "start_time": "2022-05-20T08:32:31.751Z"
   },
   {
    "duration": 56,
    "start_time": "2022-05-20T08:32:31.819Z"
   },
   {
    "duration": 162,
    "start_time": "2022-05-20T08:32:31.877Z"
   },
   {
    "duration": 21,
    "start_time": "2022-05-20T08:32:32.041Z"
   },
   {
    "duration": 335,
    "start_time": "2022-05-20T08:32:32.064Z"
   },
   {
    "duration": 235,
    "start_time": "2022-05-20T08:32:32.401Z"
   },
   {
    "duration": 234,
    "start_time": "2022-05-20T08:32:32.638Z"
   },
   {
    "duration": 513,
    "start_time": "2022-05-20T08:32:32.874Z"
   },
   {
    "duration": 7,
    "start_time": "2022-05-20T08:32:39.893Z"
   },
   {
    "duration": 17,
    "start_time": "2022-05-20T08:33:05.764Z"
   },
   {
    "duration": 5,
    "start_time": "2022-05-20T08:33:08.157Z"
   },
   {
    "duration": 9,
    "start_time": "2022-05-20T08:33:08.164Z"
   },
   {
    "duration": 328,
    "start_time": "2022-05-20T08:33:08.175Z"
   },
   {
    "duration": 31,
    "start_time": "2022-05-20T08:33:08.505Z"
   },
   {
    "duration": 52,
    "start_time": "2022-05-20T08:33:08.537Z"
   },
   {
    "duration": 49,
    "start_time": "2022-05-20T08:33:08.590Z"
   },
   {
    "duration": 20,
    "start_time": "2022-05-20T08:33:08.640Z"
   },
   {
    "duration": 115,
    "start_time": "2022-05-20T08:33:08.662Z"
   },
   {
    "duration": 19,
    "start_time": "2022-05-20T08:33:08.780Z"
   },
   {
    "duration": 24,
    "start_time": "2022-05-20T08:33:08.801Z"
   },
   {
    "duration": 45,
    "start_time": "2022-05-20T08:33:08.827Z"
   },
   {
    "duration": 38,
    "start_time": "2022-05-20T08:33:08.874Z"
   },
   {
    "duration": 154,
    "start_time": "2022-05-20T08:33:08.914Z"
   },
   {
    "duration": 14,
    "start_time": "2022-05-20T08:33:09.071Z"
   },
   {
    "duration": 301,
    "start_time": "2022-05-20T08:33:09.087Z"
   },
   {
    "duration": 260,
    "start_time": "2022-05-20T08:33:09.389Z"
   },
   {
    "duration": 158,
    "start_time": "2022-05-20T08:33:09.651Z"
   },
   {
    "duration": 1116,
    "start_time": "2022-05-20T08:33:09.810Z"
   },
   {
    "duration": 0,
    "start_time": "2022-05-20T08:33:10.927Z"
   },
   {
    "duration": 6,
    "start_time": "2022-05-20T08:33:22.636Z"
   },
   {
    "duration": 16,
    "start_time": "2022-05-20T08:34:00.260Z"
   },
   {
    "duration": 4,
    "start_time": "2022-05-20T08:34:03.563Z"
   },
   {
    "duration": 6,
    "start_time": "2022-05-20T08:34:03.570Z"
   },
   {
    "duration": 336,
    "start_time": "2022-05-20T08:34:03.578Z"
   },
   {
    "duration": 42,
    "start_time": "2022-05-20T08:34:03.917Z"
   },
   {
    "duration": 45,
    "start_time": "2022-05-20T08:34:03.960Z"
   },
   {
    "duration": 32,
    "start_time": "2022-05-20T08:34:04.007Z"
   },
   {
    "duration": 4,
    "start_time": "2022-05-20T08:34:04.041Z"
   },
   {
    "duration": 105,
    "start_time": "2022-05-20T08:34:04.059Z"
   },
   {
    "duration": 13,
    "start_time": "2022-05-20T08:34:04.166Z"
   },
   {
    "duration": 24,
    "start_time": "2022-05-20T08:34:04.180Z"
   },
   {
    "duration": 30,
    "start_time": "2022-05-20T08:34:04.206Z"
   },
   {
    "duration": 38,
    "start_time": "2022-05-20T08:34:04.259Z"
   },
   {
    "duration": 146,
    "start_time": "2022-05-20T08:34:04.299Z"
   },
   {
    "duration": 20,
    "start_time": "2022-05-20T08:34:04.448Z"
   },
   {
    "duration": 428,
    "start_time": "2022-05-20T08:34:04.470Z"
   },
   {
    "duration": 243,
    "start_time": "2022-05-20T08:34:04.900Z"
   },
   {
    "duration": 161,
    "start_time": "2022-05-20T08:34:05.145Z"
   },
   {
    "duration": 891,
    "start_time": "2022-05-20T08:34:05.307Z"
   },
   {
    "duration": 0,
    "start_time": "2022-05-20T08:34:06.200Z"
   },
   {
    "duration": 8,
    "start_time": "2022-05-20T08:34:09.923Z"
   },
   {
    "duration": 938,
    "start_time": "2022-05-20T08:34:50.116Z"
   },
   {
    "duration": 7,
    "start_time": "2022-05-20T08:34:55.445Z"
   },
   {
    "duration": 285,
    "start_time": "2022-05-20T08:35:12.091Z"
   },
   {
    "duration": 11,
    "start_time": "2022-05-20T08:35:14.266Z"
   },
   {
    "duration": 4,
    "start_time": "2022-05-20T08:35:33.914Z"
   },
   {
    "duration": 7,
    "start_time": "2022-05-20T08:35:33.921Z"
   },
   {
    "duration": 325,
    "start_time": "2022-05-20T08:35:33.929Z"
   },
   {
    "duration": 31,
    "start_time": "2022-05-20T08:35:34.260Z"
   },
   {
    "duration": 46,
    "start_time": "2022-05-20T08:35:34.293Z"
   },
   {
    "duration": 36,
    "start_time": "2022-05-20T08:35:34.341Z"
   },
   {
    "duration": 4,
    "start_time": "2022-05-20T08:35:34.379Z"
   },
   {
    "duration": 116,
    "start_time": "2022-05-20T08:35:34.384Z"
   },
   {
    "duration": 12,
    "start_time": "2022-05-20T08:35:34.502Z"
   },
   {
    "duration": 24,
    "start_time": "2022-05-20T08:35:34.516Z"
   },
   {
    "duration": 51,
    "start_time": "2022-05-20T08:35:34.542Z"
   },
   {
    "duration": 44,
    "start_time": "2022-05-20T08:35:34.596Z"
   },
   {
    "duration": 158,
    "start_time": "2022-05-20T08:35:34.642Z"
   },
   {
    "duration": 14,
    "start_time": "2022-05-20T08:35:34.802Z"
   },
   {
    "duration": 402,
    "start_time": "2022-05-20T08:35:34.818Z"
   },
   {
    "duration": 219,
    "start_time": "2022-05-20T08:35:35.222Z"
   },
   {
    "duration": 145,
    "start_time": "2022-05-20T08:35:35.443Z"
   },
   {
    "duration": 802,
    "start_time": "2022-05-20T08:35:35.589Z"
   },
   {
    "duration": 8,
    "start_time": "2022-05-20T08:35:36.393Z"
   },
   {
    "duration": 369,
    "start_time": "2022-05-20T08:36:17.281Z"
   },
   {
    "duration": 3,
    "start_time": "2022-05-20T08:36:27.987Z"
   },
   {
    "duration": 17,
    "start_time": "2022-05-20T08:36:27.992Z"
   },
   {
    "duration": 320,
    "start_time": "2022-05-20T08:36:28.011Z"
   },
   {
    "duration": 30,
    "start_time": "2022-05-20T08:36:28.333Z"
   },
   {
    "duration": 46,
    "start_time": "2022-05-20T08:36:28.365Z"
   },
   {
    "duration": 32,
    "start_time": "2022-05-20T08:36:28.412Z"
   },
   {
    "duration": 15,
    "start_time": "2022-05-20T08:36:28.446Z"
   },
   {
    "duration": 112,
    "start_time": "2022-05-20T08:36:28.462Z"
   },
   {
    "duration": 13,
    "start_time": "2022-05-20T08:36:28.576Z"
   },
   {
    "duration": 40,
    "start_time": "2022-05-20T08:36:28.590Z"
   },
   {
    "duration": 55,
    "start_time": "2022-05-20T08:36:28.632Z"
   },
   {
    "duration": 54,
    "start_time": "2022-05-20T08:36:28.689Z"
   },
   {
    "duration": 131,
    "start_time": "2022-05-20T08:36:28.745Z"
   },
   {
    "duration": 13,
    "start_time": "2022-05-20T08:36:28.877Z"
   },
   {
    "duration": 287,
    "start_time": "2022-05-20T08:36:28.891Z"
   },
   {
    "duration": 210,
    "start_time": "2022-05-20T08:36:29.179Z"
   },
   {
    "duration": 146,
    "start_time": "2022-05-20T08:36:29.390Z"
   },
   {
    "duration": 409,
    "start_time": "2022-05-20T08:36:29.537Z"
   },
   {
    "duration": 12,
    "start_time": "2022-05-20T08:36:29.948Z"
   },
   {
    "duration": 11,
    "start_time": "2022-05-20T08:37:05.424Z"
   },
   {
    "duration": 4,
    "start_time": "2022-05-20T08:37:08.564Z"
   },
   {
    "duration": 9,
    "start_time": "2022-05-20T08:37:08.569Z"
   },
   {
    "duration": 344,
    "start_time": "2022-05-20T08:37:08.580Z"
   },
   {
    "duration": 28,
    "start_time": "2022-05-20T08:37:08.926Z"
   },
   {
    "duration": 44,
    "start_time": "2022-05-20T08:37:08.956Z"
   },
   {
    "duration": 29,
    "start_time": "2022-05-20T08:37:09.002Z"
   },
   {
    "duration": 3,
    "start_time": "2022-05-20T08:37:09.033Z"
   },
   {
    "duration": 116,
    "start_time": "2022-05-20T08:37:09.037Z"
   },
   {
    "duration": 13,
    "start_time": "2022-05-20T08:37:09.159Z"
   },
   {
    "duration": 28,
    "start_time": "2022-05-20T08:37:09.173Z"
   },
   {
    "duration": 51,
    "start_time": "2022-05-20T08:37:09.203Z"
   },
   {
    "duration": 38,
    "start_time": "2022-05-20T08:37:09.256Z"
   },
   {
    "duration": 140,
    "start_time": "2022-05-20T08:37:09.296Z"
   },
   {
    "duration": 23,
    "start_time": "2022-05-20T08:37:09.437Z"
   },
   {
    "duration": 299,
    "start_time": "2022-05-20T08:37:09.461Z"
   },
   {
    "duration": 225,
    "start_time": "2022-05-20T08:37:09.762Z"
   },
   {
    "duration": 140,
    "start_time": "2022-05-20T08:37:09.988Z"
   },
   {
    "duration": 278,
    "start_time": "2022-05-20T08:37:10.129Z"
   },
   {
    "duration": 7,
    "start_time": "2022-05-20T08:37:10.408Z"
   },
   {
    "duration": 4,
    "start_time": "2022-05-20T08:37:21.149Z"
   },
   {
    "duration": 14,
    "start_time": "2022-05-20T08:37:21.155Z"
   },
   {
    "duration": 324,
    "start_time": "2022-05-20T08:37:21.170Z"
   },
   {
    "duration": 28,
    "start_time": "2022-05-20T08:37:21.496Z"
   },
   {
    "duration": 45,
    "start_time": "2022-05-20T08:37:21.526Z"
   },
   {
    "duration": 31,
    "start_time": "2022-05-20T08:37:21.573Z"
   },
   {
    "duration": 4,
    "start_time": "2022-05-20T08:37:21.606Z"
   },
   {
    "duration": 136,
    "start_time": "2022-05-20T08:37:21.612Z"
   },
   {
    "duration": 16,
    "start_time": "2022-05-20T08:37:21.750Z"
   },
   {
    "duration": 33,
    "start_time": "2022-05-20T08:37:21.767Z"
   },
   {
    "duration": 32,
    "start_time": "2022-05-20T08:37:21.801Z"
   },
   {
    "duration": 53,
    "start_time": "2022-05-20T08:37:21.834Z"
   },
   {
    "duration": 137,
    "start_time": "2022-05-20T08:37:21.888Z"
   },
   {
    "duration": 13,
    "start_time": "2022-05-20T08:37:22.026Z"
   },
   {
    "duration": 386,
    "start_time": "2022-05-20T08:37:22.041Z"
   },
   {
    "duration": 216,
    "start_time": "2022-05-20T08:37:22.429Z"
   },
   {
    "duration": 143,
    "start_time": "2022-05-20T08:37:22.647Z"
   },
   {
    "duration": 1282,
    "start_time": "2022-05-20T08:37:22.792Z"
   },
   {
    "duration": 0,
    "start_time": "2022-05-20T08:37:24.076Z"
   },
   {
    "duration": 7,
    "start_time": "2022-05-20T08:37:27.527Z"
   },
   {
    "duration": 12,
    "start_time": "2022-05-20T08:38:36.255Z"
   },
   {
    "duration": 4,
    "start_time": "2022-05-20T08:38:38.546Z"
   },
   {
    "duration": 5,
    "start_time": "2022-05-20T08:38:38.552Z"
   },
   {
    "duration": 316,
    "start_time": "2022-05-20T08:38:38.558Z"
   },
   {
    "duration": 28,
    "start_time": "2022-05-20T08:38:38.876Z"
   },
   {
    "duration": 44,
    "start_time": "2022-05-20T08:38:38.906Z"
   },
   {
    "duration": 26,
    "start_time": "2022-05-20T08:38:38.952Z"
   },
   {
    "duration": 4,
    "start_time": "2022-05-20T08:38:38.979Z"
   },
   {
    "duration": 105,
    "start_time": "2022-05-20T08:38:38.984Z"
   },
   {
    "duration": 12,
    "start_time": "2022-05-20T08:38:39.091Z"
   },
   {
    "duration": 22,
    "start_time": "2022-05-20T08:38:39.104Z"
   },
   {
    "duration": 40,
    "start_time": "2022-05-20T08:38:39.128Z"
   },
   {
    "duration": 35,
    "start_time": "2022-05-20T08:38:39.170Z"
   },
   {
    "duration": 135,
    "start_time": "2022-05-20T08:38:39.207Z"
   },
   {
    "duration": 16,
    "start_time": "2022-05-20T08:38:39.344Z"
   },
   {
    "duration": 282,
    "start_time": "2022-05-20T08:38:39.361Z"
   },
   {
    "duration": 290,
    "start_time": "2022-05-20T08:38:39.644Z"
   },
   {
    "duration": 150,
    "start_time": "2022-05-20T08:38:39.936Z"
   },
   {
    "duration": 317,
    "start_time": "2022-05-20T08:38:40.087Z"
   },
   {
    "duration": 8,
    "start_time": "2022-05-20T08:38:40.405Z"
   },
   {
    "duration": 232,
    "start_time": "2022-05-20T08:39:47.686Z"
   },
   {
    "duration": 12,
    "start_time": "2022-05-20T08:40:08.741Z"
   },
   {
    "duration": 4,
    "start_time": "2022-05-20T08:40:13.042Z"
   },
   {
    "duration": 26,
    "start_time": "2022-05-20T08:40:13.048Z"
   },
   {
    "duration": 321,
    "start_time": "2022-05-20T08:40:13.076Z"
   },
   {
    "duration": 29,
    "start_time": "2022-05-20T08:40:13.399Z"
   },
   {
    "duration": 45,
    "start_time": "2022-05-20T08:40:13.429Z"
   },
   {
    "duration": 29,
    "start_time": "2022-05-20T08:40:13.475Z"
   },
   {
    "duration": 4,
    "start_time": "2022-05-20T08:40:13.505Z"
   },
   {
    "duration": 112,
    "start_time": "2022-05-20T08:40:13.511Z"
   },
   {
    "duration": 12,
    "start_time": "2022-05-20T08:40:13.625Z"
   },
   {
    "duration": 38,
    "start_time": "2022-05-20T08:40:13.638Z"
   },
   {
    "duration": 43,
    "start_time": "2022-05-20T08:40:13.678Z"
   },
   {
    "duration": 44,
    "start_time": "2022-05-20T08:40:13.722Z"
   },
   {
    "duration": 134,
    "start_time": "2022-05-20T08:40:13.768Z"
   },
   {
    "duration": 13,
    "start_time": "2022-05-20T08:40:13.904Z"
   },
   {
    "duration": 279,
    "start_time": "2022-05-20T08:40:13.919Z"
   },
   {
    "duration": 224,
    "start_time": "2022-05-20T08:40:14.199Z"
   },
   {
    "duration": 138,
    "start_time": "2022-05-20T08:40:14.424Z"
   },
   {
    "duration": 355,
    "start_time": "2022-05-20T08:40:14.563Z"
   },
   {
    "duration": 189,
    "start_time": "2022-05-20T08:40:14.919Z"
   },
   {
    "duration": 12,
    "start_time": "2022-05-20T08:40:26.205Z"
   },
   {
    "duration": 3,
    "start_time": "2022-05-20T08:40:28.555Z"
   },
   {
    "duration": 42,
    "start_time": "2022-05-20T08:40:28.559Z"
   },
   {
    "duration": 351,
    "start_time": "2022-05-20T08:40:28.603Z"
   },
   {
    "duration": 28,
    "start_time": "2022-05-20T08:40:28.959Z"
   },
   {
    "duration": 44,
    "start_time": "2022-05-20T08:40:28.989Z"
   },
   {
    "duration": 33,
    "start_time": "2022-05-20T08:40:29.034Z"
   },
   {
    "duration": 15,
    "start_time": "2022-05-20T08:40:29.068Z"
   },
   {
    "duration": 122,
    "start_time": "2022-05-20T08:40:29.084Z"
   },
   {
    "duration": 12,
    "start_time": "2022-05-20T08:40:29.208Z"
   },
   {
    "duration": 63,
    "start_time": "2022-05-20T08:40:29.222Z"
   },
   {
    "duration": 49,
    "start_time": "2022-05-20T08:40:29.286Z"
   },
   {
    "duration": 40,
    "start_time": "2022-05-20T08:40:29.337Z"
   },
   {
    "duration": 130,
    "start_time": "2022-05-20T08:40:29.379Z"
   },
   {
    "duration": 13,
    "start_time": "2022-05-20T08:40:29.512Z"
   },
   {
    "duration": 288,
    "start_time": "2022-05-20T08:40:29.526Z"
   },
   {
    "duration": 224,
    "start_time": "2022-05-20T08:40:29.815Z"
   },
   {
    "duration": 138,
    "start_time": "2022-05-20T08:40:30.041Z"
   },
   {
    "duration": 300,
    "start_time": "2022-05-20T08:40:30.181Z"
   },
   {
    "duration": 3,
    "start_time": "2022-05-20T08:40:39.030Z"
   },
   {
    "duration": 10,
    "start_time": "2022-05-20T08:40:39.035Z"
   },
   {
    "duration": 314,
    "start_time": "2022-05-20T08:40:39.046Z"
   },
   {
    "duration": 29,
    "start_time": "2022-05-20T08:40:39.362Z"
   },
   {
    "duration": 44,
    "start_time": "2022-05-20T08:40:39.392Z"
   },
   {
    "duration": 29,
    "start_time": "2022-05-20T08:40:39.437Z"
   },
   {
    "duration": 4,
    "start_time": "2022-05-20T08:40:39.467Z"
   },
   {
    "duration": 106,
    "start_time": "2022-05-20T08:40:39.472Z"
   },
   {
    "duration": 12,
    "start_time": "2022-05-20T08:40:39.580Z"
   },
   {
    "duration": 22,
    "start_time": "2022-05-20T08:40:39.594Z"
   },
   {
    "duration": 45,
    "start_time": "2022-05-20T08:40:39.618Z"
   },
   {
    "duration": 39,
    "start_time": "2022-05-20T08:40:39.664Z"
   },
   {
    "duration": 134,
    "start_time": "2022-05-20T08:40:39.704Z"
   },
   {
    "duration": 19,
    "start_time": "2022-05-20T08:40:39.840Z"
   },
   {
    "duration": 367,
    "start_time": "2022-05-20T08:40:39.860Z"
   },
   {
    "duration": 211,
    "start_time": "2022-05-20T08:40:40.228Z"
   },
   {
    "duration": 141,
    "start_time": "2022-05-20T08:40:40.440Z"
   },
   {
    "duration": 304,
    "start_time": "2022-05-20T08:40:40.582Z"
   },
   {
    "duration": 4,
    "start_time": "2022-05-20T08:40:48.008Z"
   },
   {
    "duration": 10,
    "start_time": "2022-05-20T08:40:48.013Z"
   },
   {
    "duration": 318,
    "start_time": "2022-05-20T08:40:48.026Z"
   },
   {
    "duration": 29,
    "start_time": "2022-05-20T08:40:48.346Z"
   },
   {
    "duration": 44,
    "start_time": "2022-05-20T08:40:48.377Z"
   },
   {
    "duration": 39,
    "start_time": "2022-05-20T08:40:48.423Z"
   },
   {
    "duration": 4,
    "start_time": "2022-05-20T08:40:48.463Z"
   },
   {
    "duration": 108,
    "start_time": "2022-05-20T08:40:48.469Z"
   },
   {
    "duration": 12,
    "start_time": "2022-05-20T08:40:48.579Z"
   },
   {
    "duration": 26,
    "start_time": "2022-05-20T08:40:48.593Z"
   },
   {
    "duration": 43,
    "start_time": "2022-05-20T08:40:48.621Z"
   },
   {
    "duration": 39,
    "start_time": "2022-05-20T08:40:48.666Z"
   },
   {
    "duration": 134,
    "start_time": "2022-05-20T08:40:48.707Z"
   },
   {
    "duration": 13,
    "start_time": "2022-05-20T08:40:48.842Z"
   },
   {
    "duration": 351,
    "start_time": "2022-05-20T08:40:48.859Z"
   },
   {
    "duration": 222,
    "start_time": "2022-05-20T08:40:49.212Z"
   },
   {
    "duration": 136,
    "start_time": "2022-05-20T08:40:49.436Z"
   },
   {
    "duration": 1101,
    "start_time": "2022-05-20T08:41:40.017Z"
   },
   {
    "duration": 12,
    "start_time": "2022-05-20T08:41:41.120Z"
   },
   {
    "duration": 363,
    "start_time": "2022-05-20T08:41:41.133Z"
   },
   {
    "duration": 29,
    "start_time": "2022-05-20T08:41:41.499Z"
   },
   {
    "duration": 49,
    "start_time": "2022-05-20T08:41:41.529Z"
   },
   {
    "duration": 64,
    "start_time": "2022-05-20T08:41:41.580Z"
   },
   {
    "duration": 5,
    "start_time": "2022-05-20T08:41:41.660Z"
   },
   {
    "duration": 132,
    "start_time": "2022-05-20T08:41:41.666Z"
   },
   {
    "duration": 12,
    "start_time": "2022-05-20T08:41:41.799Z"
   },
   {
    "duration": 51,
    "start_time": "2022-05-20T08:41:41.813Z"
   },
   {
    "duration": 53,
    "start_time": "2022-05-20T08:41:41.866Z"
   },
   {
    "duration": 51,
    "start_time": "2022-05-20T08:41:41.921Z"
   },
   {
    "duration": 135,
    "start_time": "2022-05-20T08:41:41.974Z"
   },
   {
    "duration": 13,
    "start_time": "2022-05-20T08:41:42.111Z"
   },
   {
    "duration": 475,
    "start_time": "2022-05-20T08:41:42.126Z"
   },
   {
    "duration": 218,
    "start_time": "2022-05-20T08:41:42.602Z"
   },
   {
    "duration": 141,
    "start_time": "2022-05-20T08:41:42.822Z"
   },
   {
    "duration": 315,
    "start_time": "2022-05-20T08:41:42.964Z"
   },
   {
    "duration": 14,
    "start_time": "2022-05-20T08:41:52.473Z"
   },
   {
    "duration": 4,
    "start_time": "2022-05-20T08:42:42.655Z"
   },
   {
    "duration": 24,
    "start_time": "2022-05-20T08:42:42.661Z"
   },
   {
    "duration": 366,
    "start_time": "2022-05-20T08:42:42.687Z"
   },
   {
    "duration": 32,
    "start_time": "2022-05-20T08:42:43.060Z"
   },
   {
    "duration": 55,
    "start_time": "2022-05-20T08:42:43.094Z"
   },
   {
    "duration": 50,
    "start_time": "2022-05-20T08:42:43.159Z"
   },
   {
    "duration": 4,
    "start_time": "2022-05-20T08:42:43.211Z"
   },
   {
    "duration": 150,
    "start_time": "2022-05-20T08:42:43.217Z"
   },
   {
    "duration": 13,
    "start_time": "2022-05-20T08:42:43.370Z"
   },
   {
    "duration": 25,
    "start_time": "2022-05-20T08:42:43.385Z"
   },
   {
    "duration": 50,
    "start_time": "2022-05-20T08:42:43.413Z"
   },
   {
    "duration": 51,
    "start_time": "2022-05-20T08:42:43.465Z"
   },
   {
    "duration": 158,
    "start_time": "2022-05-20T08:42:43.518Z"
   },
   {
    "duration": 17,
    "start_time": "2022-05-20T08:42:43.679Z"
   },
   {
    "duration": 402,
    "start_time": "2022-05-20T08:42:43.698Z"
   },
   {
    "duration": 237,
    "start_time": "2022-05-20T08:42:44.102Z"
   },
   {
    "duration": 152,
    "start_time": "2022-05-20T08:42:44.341Z"
   },
   {
    "duration": 329,
    "start_time": "2022-05-20T08:42:44.495Z"
   },
   {
    "duration": 14,
    "start_time": "2022-05-20T08:42:44.825Z"
   },
   {
    "duration": 322,
    "start_time": "2022-05-20T08:42:48.624Z"
   },
   {
    "duration": 304,
    "start_time": "2022-05-20T08:44:29.039Z"
   },
   {
    "duration": 226,
    "start_time": "2022-05-20T08:48:14.178Z"
   },
   {
    "duration": 85,
    "start_time": "2022-05-20T08:48:15.058Z"
   },
   {
    "duration": 94,
    "start_time": "2022-05-20T08:48:19.355Z"
   },
   {
    "duration": 98,
    "start_time": "2022-05-20T08:48:43.417Z"
   },
   {
    "duration": 88,
    "start_time": "2022-05-20T08:48:58.602Z"
   },
   {
    "duration": 837,
    "start_time": "2022-05-20T09:05:33.583Z"
   },
   {
    "duration": 480,
    "start_time": "2022-05-20T09:05:57.944Z"
   },
   {
    "duration": 35,
    "start_time": "2022-05-20T09:06:34.175Z"
   },
   {
    "duration": 57,
    "start_time": "2022-05-20T09:06:43.662Z"
   },
   {
    "duration": 65,
    "start_time": "2022-05-20T09:13:02.152Z"
   },
   {
    "duration": 327,
    "start_time": "2022-05-20T09:13:57.902Z"
   },
   {
    "duration": 1,
    "start_time": "2022-05-20T09:15:23.611Z"
   },
   {
    "duration": 3,
    "start_time": "2022-05-20T09:16:33.061Z"
   },
   {
    "duration": 29,
    "start_time": "2022-05-20T09:16:33.066Z"
   },
   {
    "duration": 341,
    "start_time": "2022-05-20T09:16:33.097Z"
   },
   {
    "duration": 29,
    "start_time": "2022-05-20T09:16:33.440Z"
   },
   {
    "duration": 44,
    "start_time": "2022-05-20T09:16:33.470Z"
   },
   {
    "duration": 27,
    "start_time": "2022-05-20T09:16:33.516Z"
   },
   {
    "duration": 28,
    "start_time": "2022-05-20T09:16:33.544Z"
   },
   {
    "duration": 106,
    "start_time": "2022-05-20T09:16:33.574Z"
   },
   {
    "duration": 19,
    "start_time": "2022-05-20T09:16:33.682Z"
   },
   {
    "duration": 50,
    "start_time": "2022-05-20T09:16:33.703Z"
   },
   {
    "duration": 106,
    "start_time": "2022-05-20T09:16:33.755Z"
   },
   {
    "duration": 43,
    "start_time": "2022-05-20T09:16:33.863Z"
   },
   {
    "duration": 140,
    "start_time": "2022-05-20T09:16:33.907Z"
   },
   {
    "duration": 19,
    "start_time": "2022-05-20T09:16:34.049Z"
   },
   {
    "duration": 304,
    "start_time": "2022-05-20T09:16:34.070Z"
   },
   {
    "duration": 226,
    "start_time": "2022-05-20T09:16:34.376Z"
   },
   {
    "duration": 144,
    "start_time": "2022-05-20T09:16:34.604Z"
   },
   {
    "duration": 94,
    "start_time": "2022-05-20T09:16:34.749Z"
   },
   {
    "duration": 246,
    "start_time": "2022-05-20T09:16:34.845Z"
   },
   {
    "duration": 500,
    "start_time": "2022-05-20T09:16:35.093Z"
   },
   {
    "duration": 8052,
    "start_time": "2022-05-20T09:16:35.595Z"
   },
   {
    "duration": 18,
    "start_time": "2022-05-20T09:16:49.118Z"
   },
   {
    "duration": 201,
    "start_time": "2022-05-20T09:16:55.055Z"
   },
   {
    "duration": 6,
    "start_time": "2022-05-20T09:16:56.679Z"
   },
   {
    "duration": 269,
    "start_time": "2022-05-20T09:17:24.218Z"
   },
   {
    "duration": 163,
    "start_time": "2022-05-20T09:17:30.511Z"
   },
   {
    "duration": 153,
    "start_time": "2022-05-20T09:17:56.471Z"
   },
   {
    "duration": 120,
    "start_time": "2022-05-20T09:18:16.542Z"
   },
   {
    "duration": 111,
    "start_time": "2022-05-20T09:18:21.094Z"
   },
   {
    "duration": 124,
    "start_time": "2022-05-20T09:18:25.869Z"
   },
   {
    "duration": 129,
    "start_time": "2022-05-20T09:18:31.237Z"
   },
   {
    "duration": 127,
    "start_time": "2022-05-20T09:18:36.653Z"
   },
   {
    "duration": 24,
    "start_time": "2022-05-20T09:18:41.221Z"
   },
   {
    "duration": 123,
    "start_time": "2022-05-20T09:18:43.253Z"
   },
   {
    "duration": 126,
    "start_time": "2022-05-20T09:20:15.428Z"
   },
   {
    "duration": 103,
    "start_time": "2022-05-20T11:07:56.285Z"
   },
   {
    "duration": 4,
    "start_time": "2022-05-20T11:08:00.968Z"
   },
   {
    "duration": 32,
    "start_time": "2022-05-20T11:08:00.974Z"
   },
   {
    "duration": 386,
    "start_time": "2022-05-20T11:08:01.008Z"
   },
   {
    "duration": 33,
    "start_time": "2022-05-20T11:08:01.396Z"
   },
   {
    "duration": 71,
    "start_time": "2022-05-20T11:08:01.431Z"
   },
   {
    "duration": 30,
    "start_time": "2022-05-20T11:08:01.503Z"
   },
   {
    "duration": 32,
    "start_time": "2022-05-20T11:08:01.534Z"
   },
   {
    "duration": 166,
    "start_time": "2022-05-20T11:08:01.568Z"
   },
   {
    "duration": 12,
    "start_time": "2022-05-20T11:08:01.736Z"
   },
   {
    "duration": 43,
    "start_time": "2022-05-20T11:08:01.749Z"
   },
   {
    "duration": 52,
    "start_time": "2022-05-20T11:08:01.794Z"
   },
   {
    "duration": 70,
    "start_time": "2022-05-20T11:08:01.849Z"
   },
   {
    "duration": 152,
    "start_time": "2022-05-20T11:08:01.921Z"
   },
   {
    "duration": 14,
    "start_time": "2022-05-20T11:08:02.074Z"
   },
   {
    "duration": 376,
    "start_time": "2022-05-20T11:08:02.089Z"
   },
   {
    "duration": 219,
    "start_time": "2022-05-20T11:08:02.467Z"
   },
   {
    "duration": 142,
    "start_time": "2022-05-20T11:08:02.688Z"
   },
   {
    "duration": 99,
    "start_time": "2022-05-20T11:08:02.831Z"
   },
   {
    "duration": 246,
    "start_time": "2022-05-20T11:08:02.932Z"
   },
   {
    "duration": 532,
    "start_time": "2022-05-20T11:08:03.179Z"
   },
   {
    "duration": 25,
    "start_time": "2022-05-20T11:08:03.713Z"
   },
   {
    "duration": 142,
    "start_time": "2022-05-20T11:08:03.740Z"
   },
   {
    "duration": 8,
    "start_time": "2022-05-20T11:08:03.884Z"
   },
   {
    "duration": 554,
    "start_time": "2022-05-20T11:08:08.268Z"
   },
   {
    "duration": 8,
    "start_time": "2022-05-20T11:09:01.124Z"
   },
   {
    "duration": 13,
    "start_time": "2022-05-20T11:10:08.585Z"
   },
   {
    "duration": 21,
    "start_time": "2022-05-20T11:10:34.153Z"
   },
   {
    "duration": 9,
    "start_time": "2022-05-20T11:13:01.662Z"
   },
   {
    "duration": 728,
    "start_time": "2022-05-20T11:13:09.014Z"
   },
   {
    "duration": 311,
    "start_time": "2022-05-20T11:14:45.517Z"
   },
   {
    "duration": 24,
    "start_time": "2022-05-20T11:15:01.181Z"
   },
   {
    "duration": 19,
    "start_time": "2022-05-20T11:15:13.692Z"
   },
   {
    "duration": 15,
    "start_time": "2022-05-20T11:15:19.403Z"
   },
   {
    "duration": 22,
    "start_time": "2022-05-20T11:15:57.522Z"
   },
   {
    "duration": 17,
    "start_time": "2022-05-20T11:16:49.154Z"
   },
   {
    "duration": 4,
    "start_time": "2022-05-20T11:16:53.878Z"
   },
   {
    "duration": 11,
    "start_time": "2022-05-20T11:16:53.884Z"
   },
   {
    "duration": 336,
    "start_time": "2022-05-20T11:16:53.897Z"
   },
   {
    "duration": 32,
    "start_time": "2022-05-20T11:16:54.235Z"
   },
   {
    "duration": 45,
    "start_time": "2022-05-20T11:16:54.268Z"
   },
   {
    "duration": 30,
    "start_time": "2022-05-20T11:16:54.314Z"
   },
   {
    "duration": 13,
    "start_time": "2022-05-20T11:16:54.346Z"
   },
   {
    "duration": 138,
    "start_time": "2022-05-20T11:16:54.361Z"
   },
   {
    "duration": 12,
    "start_time": "2022-05-20T11:16:54.501Z"
   },
   {
    "duration": 39,
    "start_time": "2022-05-20T11:16:54.514Z"
   },
   {
    "duration": 53,
    "start_time": "2022-05-20T11:16:54.556Z"
   },
   {
    "duration": 48,
    "start_time": "2022-05-20T11:16:54.611Z"
   },
   {
    "duration": 138,
    "start_time": "2022-05-20T11:16:54.661Z"
   },
   {
    "duration": 13,
    "start_time": "2022-05-20T11:16:54.800Z"
   },
   {
    "duration": 390,
    "start_time": "2022-05-20T11:16:54.815Z"
   },
   {
    "duration": 230,
    "start_time": "2022-05-20T11:16:55.206Z"
   },
   {
    "duration": 144,
    "start_time": "2022-05-20T11:16:55.438Z"
   },
   {
    "duration": 98,
    "start_time": "2022-05-20T11:16:55.583Z"
   },
   {
    "duration": 246,
    "start_time": "2022-05-20T11:16:55.683Z"
   },
   {
    "duration": 509,
    "start_time": "2022-05-20T11:16:55.931Z"
   },
   {
    "duration": 24,
    "start_time": "2022-05-20T11:16:56.441Z"
   },
   {
    "duration": 128,
    "start_time": "2022-05-20T11:16:56.466Z"
   },
   {
    "duration": 17,
    "start_time": "2022-05-20T11:16:56.595Z"
   },
   {
    "duration": 14,
    "start_time": "2022-05-20T11:18:43.977Z"
   },
   {
    "duration": 15,
    "start_time": "2022-05-20T11:18:49.559Z"
   },
   {
    "duration": 15,
    "start_time": "2022-05-20T11:19:56.562Z"
   },
   {
    "duration": 25,
    "start_time": "2022-05-20T11:20:01.663Z"
   },
   {
    "duration": 16,
    "start_time": "2022-05-20T11:21:05.375Z"
   },
   {
    "duration": 3,
    "start_time": "2022-05-20T11:21:30.214Z"
   },
   {
    "duration": 10,
    "start_time": "2022-05-20T11:21:36.998Z"
   },
   {
    "duration": 15,
    "start_time": "2022-05-20T11:21:46.229Z"
   },
   {
    "duration": 21,
    "start_time": "2022-05-20T11:22:00.005Z"
   },
   {
    "duration": 16,
    "start_time": "2022-05-20T11:22:03.164Z"
   },
   {
    "duration": 16,
    "start_time": "2022-05-20T11:22:08.428Z"
   },
   {
    "duration": 15,
    "start_time": "2022-05-20T11:22:23.918Z"
   },
   {
    "duration": 8,
    "start_time": "2022-05-20T11:22:52.059Z"
   },
   {
    "duration": 11,
    "start_time": "2022-05-20T11:29:04.588Z"
   },
   {
    "duration": 16,
    "start_time": "2022-05-20T11:29:35.700Z"
   },
   {
    "duration": 15,
    "start_time": "2022-05-20T11:30:13.019Z"
   },
   {
    "duration": 18,
    "start_time": "2022-05-20T11:30:40.187Z"
   },
   {
    "duration": 27,
    "start_time": "2022-05-20T11:30:51.579Z"
   },
   {
    "duration": 14,
    "start_time": "2022-05-20T11:32:52.520Z"
   },
   {
    "duration": 3,
    "start_time": "2022-05-20T11:33:16.549Z"
   },
   {
    "duration": 11,
    "start_time": "2022-05-20T11:33:30.529Z"
   },
   {
    "duration": 22,
    "start_time": "2022-05-20T11:33:33.279Z"
   },
   {
    "duration": 26,
    "start_time": "2022-05-20T11:34:05.297Z"
   },
   {
    "duration": 35,
    "start_time": "2022-05-20T11:34:09.328Z"
   },
   {
    "duration": 92,
    "start_time": "2022-05-20T11:35:12.319Z"
   },
   {
    "duration": 56,
    "start_time": "2022-05-20T11:35:18.157Z"
   },
   {
    "duration": 39,
    "start_time": "2022-05-20T11:35:29.326Z"
   },
   {
    "duration": 10,
    "start_time": "2022-05-20T11:36:38.637Z"
   },
   {
    "duration": 11,
    "start_time": "2022-05-20T11:36:59.541Z"
   },
   {
    "duration": 15,
    "start_time": "2022-05-20T11:37:09.387Z"
   },
   {
    "duration": 20,
    "start_time": "2022-05-20T11:37:18.692Z"
   },
   {
    "duration": 16,
    "start_time": "2022-05-20T11:37:51.748Z"
   },
   {
    "duration": 17,
    "start_time": "2022-05-20T11:37:53.820Z"
   },
   {
    "duration": 3,
    "start_time": "2022-05-20T11:38:54.940Z"
   },
   {
    "duration": 17,
    "start_time": "2022-05-20T11:39:11.353Z"
   },
   {
    "duration": 21,
    "start_time": "2022-05-20T11:39:18.322Z"
   },
   {
    "duration": 11,
    "start_time": "2022-05-20T11:39:32.992Z"
   },
   {
    "duration": 21,
    "start_time": "2022-05-20T11:39:36.816Z"
   },
   {
    "duration": 21,
    "start_time": "2022-05-20T11:42:49.022Z"
   },
   {
    "duration": 21,
    "start_time": "2022-05-20T11:43:05.813Z"
   },
   {
    "duration": 13,
    "start_time": "2022-05-20T11:43:44.127Z"
   },
   {
    "duration": 18,
    "start_time": "2022-05-20T11:43:53.420Z"
   },
   {
    "duration": 16,
    "start_time": "2022-05-20T11:48:54.768Z"
   },
   {
    "duration": 40,
    "start_time": "2022-05-20T11:49:18.840Z"
   },
   {
    "duration": 9,
    "start_time": "2022-05-20T11:49:25.151Z"
   },
   {
    "duration": 18,
    "start_time": "2022-05-20T11:49:35.431Z"
   },
   {
    "duration": 20,
    "start_time": "2022-05-20T11:53:54.627Z"
   },
   {
    "duration": 11,
    "start_time": "2022-05-20T12:28:28.912Z"
   },
   {
    "duration": 12,
    "start_time": "2022-05-20T12:28:38.927Z"
   },
   {
    "duration": 8,
    "start_time": "2022-05-20T12:29:01.997Z"
   },
   {
    "duration": 7,
    "start_time": "2022-05-20T12:29:36.340Z"
   },
   {
    "duration": 10,
    "start_time": "2022-05-20T12:29:56.236Z"
   },
   {
    "duration": 49,
    "start_time": "2022-05-20T12:30:59.691Z"
   },
   {
    "duration": 36,
    "start_time": "2022-05-20T12:31:05.426Z"
   },
   {
    "duration": 4,
    "start_time": "2022-05-20T12:32:16.090Z"
   },
   {
    "duration": 45,
    "start_time": "2022-05-20T12:36:35.924Z"
   },
   {
    "duration": 40,
    "start_time": "2022-05-20T12:38:25.857Z"
   },
   {
    "duration": 10,
    "start_time": "2022-05-20T12:38:31.698Z"
   },
   {
    "duration": 14,
    "start_time": "2022-05-20T12:38:45.009Z"
   },
   {
    "duration": 12,
    "start_time": "2022-05-20T12:39:04.081Z"
   },
   {
    "duration": 5,
    "start_time": "2022-05-20T12:39:08.001Z"
   },
   {
    "duration": 12,
    "start_time": "2022-05-20T12:39:31.113Z"
   },
   {
    "duration": 13,
    "start_time": "2022-05-20T12:40:13.823Z"
   },
   {
    "duration": 12,
    "start_time": "2022-05-20T12:40:34.023Z"
   },
   {
    "duration": 12,
    "start_time": "2022-05-20T12:40:41.399Z"
   },
   {
    "duration": 12,
    "start_time": "2022-05-20T12:40:42.959Z"
   },
   {
    "duration": 3,
    "start_time": "2022-05-20T12:41:48.990Z"
   },
   {
    "duration": 5,
    "start_time": "2022-05-20T12:41:51.933Z"
   },
   {
    "duration": 36,
    "start_time": "2022-05-20T12:42:19.397Z"
   },
   {
    "duration": 37,
    "start_time": "2022-05-20T12:42:26.156Z"
   },
   {
    "duration": 10,
    "start_time": "2022-05-20T12:42:38.053Z"
   },
   {
    "duration": 42,
    "start_time": "2022-05-20T12:43:01.092Z"
   },
   {
    "duration": 11,
    "start_time": "2022-05-20T12:43:20.418Z"
   },
   {
    "duration": 4,
    "start_time": "2022-05-20T12:43:34.314Z"
   },
   {
    "duration": 16,
    "start_time": "2022-05-20T12:43:55.267Z"
   },
   {
    "duration": 3,
    "start_time": "2022-05-20T12:44:24.019Z"
   },
   {
    "duration": 10,
    "start_time": "2022-05-20T12:44:34.722Z"
   },
   {
    "duration": 6,
    "start_time": "2022-05-20T12:44:44.409Z"
   },
   {
    "duration": 66,
    "start_time": "2022-05-20T12:44:46.120Z"
   },
   {
    "duration": 6,
    "start_time": "2022-05-20T12:44:49.497Z"
   },
   {
    "duration": 4,
    "start_time": "2022-05-20T12:44:53.193Z"
   },
   {
    "duration": 4,
    "start_time": "2022-05-20T12:44:58.145Z"
   },
   {
    "duration": 23,
    "start_time": "2022-05-20T12:45:07.858Z"
   },
   {
    "duration": 3,
    "start_time": "2022-05-20T12:45:20.825Z"
   },
   {
    "duration": 7,
    "start_time": "2022-05-20T12:45:23.681Z"
   },
   {
    "duration": 10,
    "start_time": "2022-05-20T12:46:02.513Z"
   },
   {
    "duration": 10,
    "start_time": "2022-05-20T12:46:17.384Z"
   },
   {
    "duration": 4,
    "start_time": "2022-05-20T12:46:22.241Z"
   },
   {
    "duration": 5,
    "start_time": "2022-05-20T12:46:39.848Z"
   },
   {
    "duration": 32,
    "start_time": "2022-05-20T12:47:19.488Z"
   },
   {
    "duration": 13,
    "start_time": "2022-05-20T12:47:54.383Z"
   },
   {
    "duration": 20,
    "start_time": "2022-05-20T12:48:08.023Z"
   },
   {
    "duration": 21,
    "start_time": "2022-05-20T12:48:39.879Z"
   },
   {
    "duration": 33,
    "start_time": "2022-05-20T12:48:55.398Z"
   },
   {
    "duration": 20,
    "start_time": "2022-05-20T12:49:36.852Z"
   },
   {
    "duration": 30,
    "start_time": "2022-05-20T12:50:16.748Z"
   },
   {
    "duration": 19,
    "start_time": "2022-05-20T12:50:33.268Z"
   },
   {
    "duration": 20,
    "start_time": "2022-05-20T12:50:56.107Z"
   },
   {
    "duration": 39,
    "start_time": "2022-05-20T12:51:11.644Z"
   },
   {
    "duration": 19,
    "start_time": "2022-05-20T12:51:46.306Z"
   },
   {
    "duration": 30,
    "start_time": "2022-05-20T12:51:54.978Z"
   },
   {
    "duration": 20,
    "start_time": "2022-05-20T12:52:03.699Z"
   },
   {
    "duration": 24,
    "start_time": "2022-05-20T12:52:23.929Z"
   },
   {
    "duration": 20,
    "start_time": "2022-05-20T12:52:30.345Z"
   },
   {
    "duration": 63,
    "start_time": "2022-05-20T12:52:47.312Z"
   },
   {
    "duration": 20,
    "start_time": "2022-05-20T12:52:50.488Z"
   },
   {
    "duration": 59,
    "start_time": "2022-05-20T12:53:30.004Z"
   },
   {
    "duration": 15,
    "start_time": "2022-05-20T12:54:54.792Z"
   },
   {
    "duration": 8,
    "start_time": "2022-05-20T12:55:00.029Z"
   },
   {
    "duration": 20,
    "start_time": "2022-05-20T12:55:03.494Z"
   },
   {
    "duration": 24,
    "start_time": "2022-05-20T12:55:15.125Z"
   },
   {
    "duration": 54,
    "start_time": "2022-05-20T12:55:27.894Z"
   },
   {
    "duration": 29,
    "start_time": "2022-05-20T12:55:31.533Z"
   },
   {
    "duration": 30,
    "start_time": "2022-05-20T12:56:36.261Z"
   },
   {
    "duration": 32,
    "start_time": "2022-05-20T12:58:53.481Z"
   },
   {
    "duration": 3,
    "start_time": "2022-05-20T12:59:04.064Z"
   },
   {
    "duration": 31,
    "start_time": "2022-05-20T12:59:06.952Z"
   },
   {
    "duration": 25,
    "start_time": "2022-05-20T12:59:12.913Z"
   },
   {
    "duration": 26,
    "start_time": "2022-05-20T12:59:19.480Z"
   },
   {
    "duration": 46,
    "start_time": "2022-05-20T12:59:33.209Z"
   },
   {
    "duration": 12,
    "start_time": "2022-05-20T12:59:48.832Z"
   },
   {
    "duration": 3,
    "start_time": "2022-05-20T12:59:52.935Z"
   },
   {
    "duration": 10,
    "start_time": "2022-05-20T12:59:52.940Z"
   },
   {
    "duration": 342,
    "start_time": "2022-05-20T12:59:52.952Z"
   },
   {
    "duration": 29,
    "start_time": "2022-05-20T12:59:53.296Z"
   },
   {
    "duration": 44,
    "start_time": "2022-05-20T12:59:53.326Z"
   },
   {
    "duration": 27,
    "start_time": "2022-05-20T12:59:53.371Z"
   },
   {
    "duration": 3,
    "start_time": "2022-05-20T12:59:53.400Z"
   },
   {
    "duration": 104,
    "start_time": "2022-05-20T12:59:53.404Z"
   },
   {
    "duration": 11,
    "start_time": "2022-05-20T12:59:53.510Z"
   },
   {
    "duration": 25,
    "start_time": "2022-05-20T12:59:53.522Z"
   },
   {
    "duration": 30,
    "start_time": "2022-05-20T12:59:53.560Z"
   },
   {
    "duration": 40,
    "start_time": "2022-05-20T12:59:53.591Z"
   },
   {
    "duration": 140,
    "start_time": "2022-05-20T12:59:53.633Z"
   },
   {
    "duration": 13,
    "start_time": "2022-05-20T12:59:53.775Z"
   },
   {
    "duration": 391,
    "start_time": "2022-05-20T12:59:53.790Z"
   },
   {
    "duration": 221,
    "start_time": "2022-05-20T12:59:54.182Z"
   },
   {
    "duration": 140,
    "start_time": "2022-05-20T12:59:54.404Z"
   },
   {
    "duration": 99,
    "start_time": "2022-05-20T12:59:54.545Z"
   },
   {
    "duration": 239,
    "start_time": "2022-05-20T12:59:54.646Z"
   },
   {
    "duration": 502,
    "start_time": "2022-05-20T12:59:54.887Z"
   },
   {
    "duration": 20,
    "start_time": "2022-05-20T12:59:55.391Z"
   },
   {
    "duration": 126,
    "start_time": "2022-05-20T12:59:55.412Z"
   },
   {
    "duration": 20,
    "start_time": "2022-05-20T12:59:55.539Z"
   },
   {
    "duration": 29,
    "start_time": "2022-05-20T12:59:55.561Z"
   },
   {
    "duration": 47,
    "start_time": "2022-05-20T12:59:55.591Z"
   },
   {
    "duration": 67,
    "start_time": "2022-05-20T12:59:55.639Z"
   },
   {
    "duration": 102,
    "start_time": "2022-05-20T13:00:19.376Z"
   },
   {
    "duration": 4,
    "start_time": "2022-05-20T13:02:02.254Z"
   },
   {
    "duration": 30,
    "start_time": "2022-05-20T13:02:05.573Z"
   },
   {
    "duration": 34,
    "start_time": "2022-05-20T13:03:25.620Z"
   },
   {
    "duration": 29,
    "start_time": "2022-05-20T13:04:31.395Z"
   },
   {
    "duration": 107,
    "start_time": "2022-05-20T13:07:39.438Z"
   },
   {
    "duration": 106,
    "start_time": "2022-05-20T13:07:56.272Z"
   },
   {
    "duration": 5,
    "start_time": "2022-05-20T13:11:29.995Z"
   },
   {
    "duration": 5,
    "start_time": "2022-05-20T13:11:40.606Z"
   },
   {
    "duration": 5,
    "start_time": "2022-05-20T13:12:32.695Z"
   },
   {
    "duration": 5,
    "start_time": "2022-05-20T13:12:38.742Z"
   },
   {
    "duration": 6,
    "start_time": "2022-05-20T13:12:41.766Z"
   },
   {
    "duration": 7,
    "start_time": "2022-05-20T13:14:27.950Z"
   },
   {
    "duration": 6,
    "start_time": "2022-05-20T13:15:08.974Z"
   },
   {
    "duration": 6,
    "start_time": "2022-05-20T13:15:19.662Z"
   },
   {
    "duration": 7,
    "start_time": "2022-05-20T13:15:29.518Z"
   },
   {
    "duration": 6,
    "start_time": "2022-05-20T13:15:33.215Z"
   },
   {
    "duration": 5,
    "start_time": "2022-05-20T13:15:35.935Z"
   },
   {
    "duration": 123,
    "start_time": "2022-05-20T13:15:45.766Z"
   },
   {
    "duration": 50,
    "start_time": "2022-05-20T13:17:04.021Z"
   },
   {
    "duration": 71,
    "start_time": "2022-05-20T13:17:31.438Z"
   },
   {
    "duration": 12,
    "start_time": "2022-05-20T13:17:39.077Z"
   },
   {
    "duration": 16,
    "start_time": "2022-05-20T13:17:51.117Z"
   },
   {
    "duration": 56,
    "start_time": "2022-05-20T13:18:20.949Z"
   },
   {
    "duration": 17,
    "start_time": "2022-05-20T13:18:22.708Z"
   },
   {
    "duration": 72,
    "start_time": "2022-05-20T13:20:10.837Z"
   },
   {
    "duration": 13,
    "start_time": "2022-05-20T13:20:11.989Z"
   },
   {
    "duration": 60,
    "start_time": "2022-05-20T13:20:20.367Z"
   },
   {
    "duration": 34,
    "start_time": "2022-05-20T13:20:22.872Z"
   },
   {
    "duration": 56,
    "start_time": "2022-05-20T13:20:39.676Z"
   },
   {
    "duration": 58,
    "start_time": "2022-05-20T13:20:42.277Z"
   },
   {
    "duration": 55,
    "start_time": "2022-05-20T13:20:48.332Z"
   },
   {
    "duration": 17,
    "start_time": "2022-05-20T13:20:50.699Z"
   },
   {
    "duration": 46,
    "start_time": "2022-05-20T13:20:56.573Z"
   },
   {
    "duration": 20,
    "start_time": "2022-05-20T13:20:57.964Z"
   },
   {
    "duration": 23,
    "start_time": "2022-05-20T13:20:59.412Z"
   },
   {
    "duration": 5,
    "start_time": "2022-05-20T13:21:21.336Z"
   },
   {
    "duration": 12,
    "start_time": "2022-05-20T13:21:21.343Z"
   },
   {
    "duration": 411,
    "start_time": "2022-05-20T13:21:21.357Z"
   },
   {
    "duration": 32,
    "start_time": "2022-05-20T13:21:21.770Z"
   },
   {
    "duration": 47,
    "start_time": "2022-05-20T13:21:21.804Z"
   },
   {
    "duration": 46,
    "start_time": "2022-05-20T13:21:21.853Z"
   },
   {
    "duration": 4,
    "start_time": "2022-05-20T13:21:21.901Z"
   },
   {
    "duration": 121,
    "start_time": "2022-05-20T13:21:21.907Z"
   },
   {
    "duration": 13,
    "start_time": "2022-05-20T13:21:22.030Z"
   },
   {
    "duration": 20,
    "start_time": "2022-05-20T13:21:22.060Z"
   },
   {
    "duration": 34,
    "start_time": "2022-05-20T13:21:22.082Z"
   },
   {
    "duration": 79,
    "start_time": "2022-05-20T13:21:22.117Z"
   },
   {
    "duration": 143,
    "start_time": "2022-05-20T13:21:22.197Z"
   },
   {
    "duration": 18,
    "start_time": "2022-05-20T13:21:22.342Z"
   },
   {
    "duration": 313,
    "start_time": "2022-05-20T13:21:22.362Z"
   },
   {
    "duration": 335,
    "start_time": "2022-05-20T13:21:22.677Z"
   },
   {
    "duration": 157,
    "start_time": "2022-05-20T13:21:23.013Z"
   },
   {
    "duration": 109,
    "start_time": "2022-05-20T13:21:23.172Z"
   },
   {
    "duration": 272,
    "start_time": "2022-05-20T13:21:23.283Z"
   },
   {
    "duration": 518,
    "start_time": "2022-05-20T13:21:23.556Z"
   },
   {
    "duration": 22,
    "start_time": "2022-05-20T13:21:24.076Z"
   },
   {
    "duration": 134,
    "start_time": "2022-05-20T13:21:24.099Z"
   },
   {
    "duration": 27,
    "start_time": "2022-05-20T13:21:24.235Z"
   },
   {
    "duration": 27,
    "start_time": "2022-05-20T13:21:24.263Z"
   },
   {
    "duration": 87,
    "start_time": "2022-05-20T13:21:24.292Z"
   },
   {
    "duration": 22,
    "start_time": "2022-05-20T13:21:24.381Z"
   },
   {
    "duration": 136,
    "start_time": "2022-05-20T13:21:24.405Z"
   },
   {
    "duration": 58,
    "start_time": "2022-05-20T13:21:45.524Z"
   },
   {
    "duration": 21,
    "start_time": "2022-05-20T13:21:47.595Z"
   },
   {
    "duration": 48,
    "start_time": "2022-05-20T13:21:50.732Z"
   },
   {
    "duration": 17,
    "start_time": "2022-05-20T13:21:52.315Z"
   },
   {
    "duration": 16,
    "start_time": "2022-05-20T13:21:53.242Z"
   },
   {
    "duration": 69,
    "start_time": "2022-05-20T13:21:53.850Z"
   },
   {
    "duration": 21,
    "start_time": "2022-05-20T13:21:54.491Z"
   },
   {
    "duration": 62,
    "start_time": "2022-05-20T13:21:55.875Z"
   },
   {
    "duration": 15,
    "start_time": "2022-05-20T13:21:56.802Z"
   },
   {
    "duration": 36,
    "start_time": "2022-05-20T13:22:31.612Z"
   },
   {
    "duration": 23,
    "start_time": "2022-05-20T13:22:33.787Z"
   },
   {
    "duration": 53,
    "start_time": "2022-05-20T13:23:23.089Z"
   },
   {
    "duration": 25,
    "start_time": "2022-05-20T13:23:24.033Z"
   },
   {
    "duration": 62,
    "start_time": "2022-05-20T13:23:28.650Z"
   },
   {
    "duration": 33,
    "start_time": "2022-05-20T13:23:29.434Z"
   },
   {
    "duration": 79,
    "start_time": "2022-05-20T13:23:32.171Z"
   },
   {
    "duration": 16,
    "start_time": "2022-05-20T13:23:32.873Z"
   },
   {
    "duration": 23,
    "start_time": "2022-05-20T13:24:51.569Z"
   },
   {
    "duration": 27,
    "start_time": "2022-05-20T13:24:53.233Z"
   },
   {
    "duration": 44,
    "start_time": "2022-05-20T13:24:55.145Z"
   },
   {
    "duration": 24,
    "start_time": "2022-05-20T13:24:55.857Z"
   },
   {
    "duration": 44,
    "start_time": "2022-05-20T13:25:59.273Z"
   },
   {
    "duration": 16,
    "start_time": "2022-05-20T13:26:00.888Z"
   },
   {
    "duration": 38,
    "start_time": "2022-05-20T13:28:38.608Z"
   },
   {
    "duration": 15,
    "start_time": "2022-05-20T13:28:39.687Z"
   },
   {
    "duration": 39,
    "start_time": "2022-05-20T13:28:43.679Z"
   },
   {
    "duration": 15,
    "start_time": "2022-05-20T13:28:46.951Z"
   },
   {
    "duration": 16,
    "start_time": "2022-05-20T13:28:50.638Z"
   },
   {
    "duration": 24,
    "start_time": "2022-05-20T13:28:53.758Z"
   },
   {
    "duration": 41,
    "start_time": "2022-05-20T13:28:56.542Z"
   },
   {
    "duration": 15,
    "start_time": "2022-05-20T13:28:57.405Z"
   },
   {
    "duration": 4,
    "start_time": "2022-05-20T13:29:59.095Z"
   },
   {
    "duration": 4,
    "start_time": "2022-05-20T13:30:00.381Z"
   },
   {
    "duration": 49,
    "start_time": "2022-05-20T13:30:11.534Z"
   },
   {
    "duration": 39,
    "start_time": "2022-05-20T13:30:13.735Z"
   },
   {
    "duration": 35,
    "start_time": "2022-05-20T13:30:23.365Z"
   },
   {
    "duration": 30,
    "start_time": "2022-05-20T13:30:59.813Z"
   },
   {
    "duration": 22,
    "start_time": "2022-05-20T13:31:01.612Z"
   },
   {
    "duration": 7,
    "start_time": "2022-05-20T13:31:57.934Z"
   },
   {
    "duration": 6,
    "start_time": "2022-05-20T13:32:11.665Z"
   },
   {
    "duration": 31,
    "start_time": "2022-05-20T13:32:48.131Z"
   },
   {
    "duration": 20,
    "start_time": "2022-05-20T13:32:49.195Z"
   },
   {
    "duration": 41,
    "start_time": "2022-05-20T13:33:10.843Z"
   },
   {
    "duration": 17,
    "start_time": "2022-05-20T13:33:12.155Z"
   },
   {
    "duration": 14,
    "start_time": "2022-05-20T13:33:39.091Z"
   },
   {
    "duration": 43,
    "start_time": "2022-05-20T13:33:50.914Z"
   },
   {
    "duration": 19,
    "start_time": "2022-05-20T13:34:45.266Z"
   },
   {
    "duration": 14,
    "start_time": "2022-05-20T13:35:17.401Z"
   },
   {
    "duration": 3,
    "start_time": "2022-05-20T13:35:23.867Z"
   },
   {
    "duration": 7619,
    "start_time": "2022-05-20T13:35:34.490Z"
   },
   {
    "duration": 569,
    "start_time": "2022-05-20T14:01:34.957Z"
   },
   {
    "duration": 3,
    "start_time": "2022-05-20T14:01:44.307Z"
   },
   {
    "duration": 28,
    "start_time": "2022-05-20T14:01:44.312Z"
   },
   {
    "duration": 347,
    "start_time": "2022-05-20T14:01:44.342Z"
   },
   {
    "duration": 32,
    "start_time": "2022-05-20T14:01:44.691Z"
   },
   {
    "duration": 48,
    "start_time": "2022-05-20T14:01:44.725Z"
   },
   {
    "duration": 52,
    "start_time": "2022-05-20T14:01:44.775Z"
   },
   {
    "duration": 25,
    "start_time": "2022-05-20T14:01:44.829Z"
   },
   {
    "duration": 113,
    "start_time": "2022-05-20T14:01:44.856Z"
   },
   {
    "duration": 12,
    "start_time": "2022-05-20T14:01:44.971Z"
   },
   {
    "duration": 36,
    "start_time": "2022-05-20T14:01:44.985Z"
   },
   {
    "duration": 59,
    "start_time": "2022-05-20T14:01:45.023Z"
   },
   {
    "duration": 43,
    "start_time": "2022-05-20T14:01:45.084Z"
   },
   {
    "duration": 136,
    "start_time": "2022-05-20T14:01:45.129Z"
   },
   {
    "duration": 13,
    "start_time": "2022-05-20T14:01:45.266Z"
   },
   {
    "duration": 297,
    "start_time": "2022-05-20T14:01:45.280Z"
   },
   {
    "duration": 234,
    "start_time": "2022-05-20T14:01:45.579Z"
   },
   {
    "duration": 249,
    "start_time": "2022-05-20T14:01:45.814Z"
   },
   {
    "duration": 97,
    "start_time": "2022-05-20T14:01:46.064Z"
   },
   {
    "duration": 233,
    "start_time": "2022-05-20T14:01:46.163Z"
   },
   {
    "duration": 476,
    "start_time": "2022-05-20T14:01:46.398Z"
   },
   {
    "duration": 20,
    "start_time": "2022-05-20T14:01:46.876Z"
   },
   {
    "duration": 135,
    "start_time": "2022-05-20T14:01:46.897Z"
   },
   {
    "duration": 25,
    "start_time": "2022-05-20T14:01:47.034Z"
   },
   {
    "duration": 27,
    "start_time": "2022-05-20T14:01:47.063Z"
   },
   {
    "duration": 42,
    "start_time": "2022-05-20T14:01:47.092Z"
   },
   {
    "duration": 967,
    "start_time": "2022-05-20T14:01:47.136Z"
   },
   {
    "duration": 0,
    "start_time": "2022-05-20T14:01:48.104Z"
   },
   {
    "duration": 0,
    "start_time": "2022-05-20T14:01:48.106Z"
   },
   {
    "duration": 611,
    "start_time": "2022-05-20T14:02:41.597Z"
   },
   {
    "duration": 740,
    "start_time": "2022-05-20T14:02:45.555Z"
   },
   {
    "duration": 14,
    "start_time": "2022-05-20T14:02:55.555Z"
   },
   {
    "duration": 7,
    "start_time": "2022-05-20T14:03:26.642Z"
   },
   {
    "duration": 4,
    "start_time": "2022-05-20T14:03:34.779Z"
   },
   {
    "duration": 7,
    "start_time": "2022-05-20T14:03:37.482Z"
   },
   {
    "duration": 16,
    "start_time": "2022-05-20T14:03:51.016Z"
   },
   {
    "duration": 5,
    "start_time": "2022-05-20T14:04:48.602Z"
   },
   {
    "duration": 12,
    "start_time": "2022-05-20T14:04:52.242Z"
   },
   {
    "duration": 50,
    "start_time": "2022-05-20T14:05:07.529Z"
   },
   {
    "duration": 13,
    "start_time": "2022-05-20T14:05:47.640Z"
   },
   {
    "duration": 65,
    "start_time": "2022-05-20T14:06:10.168Z"
   },
   {
    "duration": 18,
    "start_time": "2022-05-20T14:06:35.392Z"
   },
   {
    "duration": 19,
    "start_time": "2022-05-20T14:10:21.756Z"
   },
   {
    "duration": 28,
    "start_time": "2022-05-20T14:10:24.134Z"
   },
   {
    "duration": 46,
    "start_time": "2022-05-20T14:10:47.701Z"
   },
   {
    "duration": 39,
    "start_time": "2022-05-20T14:10:50.348Z"
   },
   {
    "duration": 41,
    "start_time": "2022-05-20T14:10:59.523Z"
   },
   {
    "duration": 33,
    "start_time": "2022-05-20T14:11:12.227Z"
   },
   {
    "duration": 31,
    "start_time": "2022-05-20T14:11:18.458Z"
   },
   {
    "duration": 39,
    "start_time": "2022-05-20T14:11:44.650Z"
   },
   {
    "duration": 55,
    "start_time": "2022-05-20T14:11:50.634Z"
   },
   {
    "duration": 42,
    "start_time": "2022-05-20T14:11:57.627Z"
   },
   {
    "duration": 34,
    "start_time": "2022-05-20T14:12:02.850Z"
   },
   {
    "duration": 55,
    "start_time": "2022-05-20T14:12:05.978Z"
   },
   {
    "duration": 14,
    "start_time": "2022-05-20T14:14:20.178Z"
   },
   {
    "duration": 15,
    "start_time": "2022-05-20T14:14:37.742Z"
   },
   {
    "duration": 14,
    "start_time": "2022-05-20T14:14:42.648Z"
   },
   {
    "duration": 13,
    "start_time": "2022-05-20T14:14:50.535Z"
   },
   {
    "duration": 66,
    "start_time": "2022-05-20T14:15:31.695Z"
   },
   {
    "duration": 58,
    "start_time": "2022-05-20T14:15:53.823Z"
   },
   {
    "duration": 52,
    "start_time": "2022-05-20T14:15:57.550Z"
   },
   {
    "duration": 68,
    "start_time": "2022-05-20T14:16:04.390Z"
   },
   {
    "duration": 55,
    "start_time": "2022-05-20T14:16:10.766Z"
   },
   {
    "duration": 56,
    "start_time": "2022-05-20T14:16:16.407Z"
   },
   {
    "duration": 36,
    "start_time": "2022-05-20T14:19:07.883Z"
   },
   {
    "duration": 69,
    "start_time": "2022-05-20T14:19:09.300Z"
   },
   {
    "duration": 15,
    "start_time": "2022-05-20T14:19:22.522Z"
   },
   {
    "duration": 18,
    "start_time": "2022-05-20T14:19:28.291Z"
   },
   {
    "duration": 25,
    "start_time": "2022-05-20T14:19:29.139Z"
   },
   {
    "duration": 28,
    "start_time": "2022-05-20T14:20:25.265Z"
   },
   {
    "duration": 33,
    "start_time": "2022-05-20T14:21:18.816Z"
   },
   {
    "duration": 59,
    "start_time": "2022-05-20T14:21:31.735Z"
   },
   {
    "duration": 25,
    "start_time": "2022-05-20T14:21:33.518Z"
   },
   {
    "duration": 65,
    "start_time": "2022-05-20T14:21:54.367Z"
   },
   {
    "duration": 24,
    "start_time": "2022-05-20T14:21:55.727Z"
   },
   {
    "duration": 55,
    "start_time": "2022-05-20T14:22:01.590Z"
   },
   {
    "duration": 14,
    "start_time": "2022-05-20T14:22:13.102Z"
   },
   {
    "duration": 11,
    "start_time": "2022-05-20T14:22:20.173Z"
   },
   {
    "duration": 6,
    "start_time": "2022-05-20T14:22:27.663Z"
   },
   {
    "duration": 37,
    "start_time": "2022-05-20T14:24:20.413Z"
   },
   {
    "duration": 42,
    "start_time": "2022-05-20T14:24:27.237Z"
   },
   {
    "duration": 38,
    "start_time": "2022-05-20T14:24:31.292Z"
   },
   {
    "duration": 35,
    "start_time": "2022-05-20T14:24:33.355Z"
   },
   {
    "duration": 35,
    "start_time": "2022-05-20T14:24:35.386Z"
   },
   {
    "duration": 43,
    "start_time": "2022-05-20T14:24:52.596Z"
   },
   {
    "duration": 53,
    "start_time": "2022-05-20T14:24:57.380Z"
   },
   {
    "duration": 12,
    "start_time": "2022-05-20T14:26:38.496Z"
   },
   {
    "duration": 137,
    "start_time": "2022-05-20T14:26:54.625Z"
   },
   {
    "duration": 8,
    "start_time": "2022-05-20T14:27:10.129Z"
   },
   {
    "duration": 24,
    "start_time": "2022-05-20T14:30:24.445Z"
   },
   {
    "duration": 14,
    "start_time": "2022-05-20T14:31:04.843Z"
   },
   {
    "duration": 27,
    "start_time": "2022-05-20T14:31:26.005Z"
   },
   {
    "duration": 70,
    "start_time": "2022-05-20T14:33:33.619Z"
   },
   {
    "duration": 33,
    "start_time": "2022-05-20T14:33:53.490Z"
   },
   {
    "duration": 30,
    "start_time": "2022-05-20T14:34:10.994Z"
   },
   {
    "duration": 4,
    "start_time": "2022-05-20T14:34:15.144Z"
   },
   {
    "duration": 18,
    "start_time": "2022-05-20T14:35:41.127Z"
   },
   {
    "duration": 18,
    "start_time": "2022-05-20T14:35:54.567Z"
   },
   {
    "duration": 15,
    "start_time": "2022-05-20T14:36:07.231Z"
   },
   {
    "duration": 11,
    "start_time": "2022-05-20T14:36:13.255Z"
   },
   {
    "duration": 37,
    "start_time": "2022-05-20T14:36:45.398Z"
   },
   {
    "duration": 13,
    "start_time": "2022-05-20T14:36:47.109Z"
   },
   {
    "duration": 14,
    "start_time": "2022-05-20T14:36:53.205Z"
   },
   {
    "duration": 13,
    "start_time": "2022-05-20T14:41:24.177Z"
   },
   {
    "duration": 24,
    "start_time": "2022-05-20T14:41:31.809Z"
   },
   {
    "duration": 15,
    "start_time": "2022-05-20T14:41:36.817Z"
   },
   {
    "duration": 40,
    "start_time": "2022-05-20T14:42:00.416Z"
   },
   {
    "duration": 15,
    "start_time": "2022-05-20T14:42:02.081Z"
   },
   {
    "duration": 31,
    "start_time": "2022-05-20T14:42:07.432Z"
   },
   {
    "duration": 22,
    "start_time": "2022-05-20T14:42:12.225Z"
   },
   {
    "duration": 12,
    "start_time": "2022-05-20T14:42:13.031Z"
   },
   {
    "duration": 25,
    "start_time": "2022-05-20T14:42:13.919Z"
   },
   {
    "duration": 11,
    "start_time": "2022-05-20T14:42:46.919Z"
   },
   {
    "duration": 12,
    "start_time": "2022-05-20T14:43:04.255Z"
   },
   {
    "duration": 38,
    "start_time": "2022-05-20T14:43:13.679Z"
   },
   {
    "duration": 12,
    "start_time": "2022-05-20T14:43:17.495Z"
   },
   {
    "duration": 11,
    "start_time": "2022-05-20T14:43:20.887Z"
   },
   {
    "duration": 593,
    "start_time": "2022-05-20T14:46:02.380Z"
   },
   {
    "duration": 10,
    "start_time": "2022-05-20T14:46:13.460Z"
   },
   {
    "duration": 22,
    "start_time": "2022-05-20T14:46:17.771Z"
   },
   {
    "duration": 12,
    "start_time": "2022-05-20T14:46:19.012Z"
   },
   {
    "duration": 18,
    "start_time": "2022-05-20T14:46:20.187Z"
   },
   {
    "duration": 33,
    "start_time": "2022-05-20T14:46:43.692Z"
   },
   {
    "duration": 29,
    "start_time": "2022-05-20T14:46:46.739Z"
   },
   {
    "duration": 32,
    "start_time": "2022-05-20T14:46:49.363Z"
   },
   {
    "duration": 35,
    "start_time": "2022-05-20T14:46:52.635Z"
   },
   {
    "duration": 18,
    "start_time": "2022-05-20T14:46:56.467Z"
   },
   {
    "duration": 21,
    "start_time": "2022-05-20T14:47:02.196Z"
   },
   {
    "duration": 25,
    "start_time": "2022-05-20T14:47:03.251Z"
   },
   {
    "duration": 28,
    "start_time": "2022-05-20T14:47:10.011Z"
   },
   {
    "duration": 32,
    "start_time": "2022-05-20T14:47:36.707Z"
   },
   {
    "duration": 31,
    "start_time": "2022-05-20T14:47:39.017Z"
   },
   {
    "duration": 39,
    "start_time": "2022-05-20T14:48:57.033Z"
   },
   {
    "duration": 14,
    "start_time": "2022-05-20T14:48:58.401Z"
   },
   {
    "duration": 13,
    "start_time": "2022-05-20T14:48:59.321Z"
   },
   {
    "duration": 15,
    "start_time": "2022-05-20T14:49:19.032Z"
   },
   {
    "duration": 33,
    "start_time": "2022-05-20T14:49:57.505Z"
   },
   {
    "duration": 6,
    "start_time": "2022-05-20T14:49:59.399Z"
   },
   {
    "duration": 7,
    "start_time": "2022-05-20T14:50:01.599Z"
   },
   {
    "duration": 55,
    "start_time": "2022-05-20T14:50:07.375Z"
   },
   {
    "duration": 12,
    "start_time": "2022-05-20T14:50:09.184Z"
   },
   {
    "duration": 13,
    "start_time": "2022-05-20T14:50:10.376Z"
   },
   {
    "duration": 17,
    "start_time": "2022-05-20T14:51:34.430Z"
   },
   {
    "duration": 20,
    "start_time": "2022-05-20T14:51:35.807Z"
   },
   {
    "duration": 30,
    "start_time": "2022-05-20T14:53:01.677Z"
   },
   {
    "duration": 17,
    "start_time": "2022-05-20T14:53:02.821Z"
   },
   {
    "duration": 37,
    "start_time": "2022-05-20T14:53:56.877Z"
   },
   {
    "duration": 14,
    "start_time": "2022-05-20T14:54:10.404Z"
   },
   {
    "duration": 26,
    "start_time": "2022-05-20T14:54:14.045Z"
   },
   {
    "duration": 44,
    "start_time": "2022-05-20T14:55:20.220Z"
   },
   {
    "duration": 14,
    "start_time": "2022-05-20T14:55:22.147Z"
   },
   {
    "duration": 38,
    "start_time": "2022-05-20T14:55:34.315Z"
   },
   {
    "duration": 11,
    "start_time": "2022-05-20T14:55:35.667Z"
   },
   {
    "duration": 13,
    "start_time": "2022-05-20T14:55:36.451Z"
   },
   {
    "duration": 46,
    "start_time": "2022-05-20T14:55:37.901Z"
   },
   {
    "duration": 15,
    "start_time": "2022-05-20T14:55:38.900Z"
   },
   {
    "duration": 14,
    "start_time": "2022-05-20T14:55:40.170Z"
   },
   {
    "duration": 43,
    "start_time": "2022-05-20T14:55:53.090Z"
   },
   {
    "duration": 12,
    "start_time": "2022-05-20T14:55:54.163Z"
   },
   {
    "duration": 15,
    "start_time": "2022-05-20T14:55:55.027Z"
   },
   {
    "duration": 41,
    "start_time": "2022-05-20T14:56:04.924Z"
   },
   {
    "duration": 11,
    "start_time": "2022-05-20T14:56:06.043Z"
   },
   {
    "duration": 13,
    "start_time": "2022-05-20T14:56:06.818Z"
   },
   {
    "duration": 40,
    "start_time": "2022-05-20T14:56:16.691Z"
   },
   {
    "duration": 17,
    "start_time": "2022-05-20T14:56:17.858Z"
   },
   {
    "duration": 15,
    "start_time": "2022-05-20T14:56:18.699Z"
   },
   {
    "duration": 46,
    "start_time": "2022-05-20T14:56:20.828Z"
   },
   {
    "duration": 13,
    "start_time": "2022-05-20T14:56:27.106Z"
   },
   {
    "duration": 8,
    "start_time": "2022-05-20T14:56:28.491Z"
   },
   {
    "duration": 11,
    "start_time": "2022-05-20T14:56:30.028Z"
   },
   {
    "duration": 47,
    "start_time": "2022-05-20T14:56:54.595Z"
   },
   {
    "duration": 32,
    "start_time": "2022-05-20T14:56:56.459Z"
   },
   {
    "duration": 6,
    "start_time": "2022-05-20T14:56:57.738Z"
   },
   {
    "duration": 4,
    "start_time": "2022-05-20T14:56:59.514Z"
   },
   {
    "duration": 6,
    "start_time": "2022-05-20T14:57:03.203Z"
   },
   {
    "duration": 6,
    "start_time": "2022-05-20T14:57:04.778Z"
   },
   {
    "duration": 4,
    "start_time": "2022-05-20T14:57:05.835Z"
   },
   {
    "duration": 7,
    "start_time": "2022-05-20T14:57:13.970Z"
   },
   {
    "duration": 6,
    "start_time": "2022-05-20T14:57:15.186Z"
   },
   {
    "duration": 6,
    "start_time": "2022-05-20T14:57:17.923Z"
   },
   {
    "duration": 6,
    "start_time": "2022-05-20T14:57:18.844Z"
   },
   {
    "duration": 5,
    "start_time": "2022-05-20T14:57:19.889Z"
   },
   {
    "duration": 19,
    "start_time": "2022-05-20T14:57:30.002Z"
   },
   {
    "duration": 34,
    "start_time": "2022-05-20T14:57:31.787Z"
   },
   {
    "duration": 12,
    "start_time": "2022-05-20T14:57:34.425Z"
   },
   {
    "duration": 13,
    "start_time": "2022-05-20T14:57:35.633Z"
   },
   {
    "duration": 34,
    "start_time": "2022-05-20T14:59:53.480Z"
   },
   {
    "duration": 30,
    "start_time": "2022-05-20T15:00:01.257Z"
   },
   {
    "duration": 34,
    "start_time": "2022-05-20T15:00:22.952Z"
   },
   {
    "duration": 29,
    "start_time": "2022-05-20T15:00:31.047Z"
   },
   {
    "duration": 33,
    "start_time": "2022-05-20T15:00:41.768Z"
   },
   {
    "duration": 11,
    "start_time": "2022-05-20T15:00:42.785Z"
   },
   {
    "duration": 14,
    "start_time": "2022-05-20T15:00:43.839Z"
   },
   {
    "duration": 55,
    "start_time": "2022-05-20T15:00:48.433Z"
   },
   {
    "duration": 11,
    "start_time": "2022-05-20T15:00:50.233Z"
   },
   {
    "duration": 14,
    "start_time": "2022-05-20T15:00:51.159Z"
   },
   {
    "duration": 27,
    "start_time": "2022-05-20T15:00:55.432Z"
   },
   {
    "duration": 19,
    "start_time": "2022-05-20T15:01:01.751Z"
   },
   {
    "duration": 13,
    "start_time": "2022-05-20T15:01:09.039Z"
   },
   {
    "duration": 9,
    "start_time": "2022-05-20T15:01:48.039Z"
   },
   {
    "duration": 8,
    "start_time": "2022-05-20T15:01:52.119Z"
   },
   {
    "duration": 10,
    "start_time": "2022-05-20T15:01:58.976Z"
   },
   {
    "duration": 81,
    "start_time": "2022-05-20T15:02:41.727Z"
   },
   {
    "duration": 3,
    "start_time": "2022-05-20T15:03:00.371Z"
   },
   {
    "duration": 22,
    "start_time": "2022-05-20T15:03:00.376Z"
   },
   {
    "duration": 383,
    "start_time": "2022-05-20T15:03:00.399Z"
   },
   {
    "duration": 30,
    "start_time": "2022-05-20T15:03:00.784Z"
   },
   {
    "duration": 59,
    "start_time": "2022-05-20T15:03:00.816Z"
   },
   {
    "duration": 30,
    "start_time": "2022-05-20T15:03:00.876Z"
   },
   {
    "duration": 22,
    "start_time": "2022-05-20T15:03:00.908Z"
   },
   {
    "duration": 122,
    "start_time": "2022-05-20T15:03:00.932Z"
   },
   {
    "duration": 12,
    "start_time": "2022-05-20T15:03:01.056Z"
   },
   {
    "duration": 44,
    "start_time": "2022-05-20T15:03:01.070Z"
   },
   {
    "duration": 48,
    "start_time": "2022-05-20T15:03:01.116Z"
   },
   {
    "duration": 51,
    "start_time": "2022-05-20T15:03:01.166Z"
   },
   {
    "duration": 154,
    "start_time": "2022-05-20T15:03:01.219Z"
   },
   {
    "duration": 14,
    "start_time": "2022-05-20T15:03:01.374Z"
   },
   {
    "duration": 325,
    "start_time": "2022-05-20T15:03:01.390Z"
   },
   {
    "duration": 268,
    "start_time": "2022-05-20T15:03:01.716Z"
   },
   {
    "duration": 244,
    "start_time": "2022-05-20T15:03:01.985Z"
   },
   {
    "duration": 100,
    "start_time": "2022-05-20T15:03:02.231Z"
   },
   {
    "duration": 242,
    "start_time": "2022-05-20T15:03:02.333Z"
   },
   {
    "duration": 512,
    "start_time": "2022-05-20T15:03:02.577Z"
   },
   {
    "duration": 22,
    "start_time": "2022-05-20T15:03:03.091Z"
   },
   {
    "duration": 135,
    "start_time": "2022-05-20T15:03:03.114Z"
   },
   {
    "duration": 20,
    "start_time": "2022-05-20T15:03:03.251Z"
   },
   {
    "duration": 27,
    "start_time": "2022-05-20T15:03:03.275Z"
   },
   {
    "duration": 29,
    "start_time": "2022-05-20T15:03:03.304Z"
   },
   {
    "duration": 12,
    "start_time": "2022-05-20T15:03:03.360Z"
   },
   {
    "duration": 14,
    "start_time": "2022-05-20T15:03:03.373Z"
   },
   {
    "duration": 108,
    "start_time": "2022-05-20T15:03:03.388Z"
   },
   {
    "duration": 13,
    "start_time": "2022-05-20T15:03:03.497Z"
   },
   {
    "duration": 13,
    "start_time": "2022-05-20T15:03:19.469Z"
   },
   {
    "duration": 11,
    "start_time": "2022-05-20T15:12:36.799Z"
   },
   {
    "duration": 7,
    "start_time": "2022-05-20T15:12:42.327Z"
   },
   {
    "duration": 8,
    "start_time": "2022-05-20T15:12:52.606Z"
   },
   {
    "duration": 21,
    "start_time": "2022-05-20T15:12:55.901Z"
   },
   {
    "duration": 50,
    "start_time": "2022-05-20T15:13:18.901Z"
   },
   {
    "duration": 33,
    "start_time": "2022-05-20T15:13:21.909Z"
   },
   {
    "duration": 5,
    "start_time": "2022-05-20T15:13:37.964Z"
   },
   {
    "duration": 38,
    "start_time": "2022-05-20T15:13:41.140Z"
   },
   {
    "duration": 35,
    "start_time": "2022-05-20T15:13:48.572Z"
   },
   {
    "duration": 3,
    "start_time": "2022-05-20T15:13:56.700Z"
   },
   {
    "duration": 45,
    "start_time": "2022-05-20T15:14:00.531Z"
   },
   {
    "duration": 38,
    "start_time": "2022-05-20T15:14:03.146Z"
   },
   {
    "duration": 62,
    "start_time": "2022-05-20T15:14:08.930Z"
   },
   {
    "duration": 3,
    "start_time": "2022-05-20T15:14:17.451Z"
   },
   {
    "duration": 4,
    "start_time": "2022-05-20T15:14:37.892Z"
   },
   {
    "duration": 30,
    "start_time": "2022-05-20T15:15:14.740Z"
   },
   {
    "duration": 12,
    "start_time": "2022-05-20T15:15:16.675Z"
   },
   {
    "duration": 17,
    "start_time": "2022-05-20T15:15:17.875Z"
   },
   {
    "duration": 30,
    "start_time": "2022-05-20T15:15:44.458Z"
   },
   {
    "duration": 14,
    "start_time": "2022-05-20T15:15:45.450Z"
   },
   {
    "duration": 13,
    "start_time": "2022-05-20T15:15:46.890Z"
   },
   {
    "duration": 16,
    "start_time": "2022-05-20T15:15:57.875Z"
   },
   {
    "duration": 13,
    "start_time": "2022-05-20T15:16:01.321Z"
   },
   {
    "duration": 14,
    "start_time": "2022-05-20T15:16:02.321Z"
   },
   {
    "duration": 22,
    "start_time": "2022-05-20T15:16:07.858Z"
   },
   {
    "duration": 12,
    "start_time": "2022-05-20T15:16:09.018Z"
   },
   {
    "duration": 17,
    "start_time": "2022-05-20T15:16:10.041Z"
   },
   {
    "duration": 17,
    "start_time": "2022-05-20T15:16:30.570Z"
   },
   {
    "duration": 14,
    "start_time": "2022-05-20T15:16:31.665Z"
   },
   {
    "duration": 3,
    "start_time": "2022-05-20T15:16:52.736Z"
   },
   {
    "duration": 11,
    "start_time": "2022-05-20T15:16:52.741Z"
   },
   {
    "duration": 326,
    "start_time": "2022-05-20T15:16:52.753Z"
   },
   {
    "duration": 28,
    "start_time": "2022-05-20T15:16:53.081Z"
   },
   {
    "duration": 45,
    "start_time": "2022-05-20T15:16:53.111Z"
   },
   {
    "duration": 30,
    "start_time": "2022-05-20T15:16:53.157Z"
   },
   {
    "duration": 3,
    "start_time": "2022-05-20T15:16:53.189Z"
   },
   {
    "duration": 112,
    "start_time": "2022-05-20T15:16:53.194Z"
   },
   {
    "duration": 12,
    "start_time": "2022-05-20T15:16:53.309Z"
   },
   {
    "duration": 36,
    "start_time": "2022-05-20T15:16:53.323Z"
   },
   {
    "duration": 32,
    "start_time": "2022-05-20T15:16:53.361Z"
   },
   {
    "duration": 39,
    "start_time": "2022-05-20T15:16:53.394Z"
   },
   {
    "duration": 136,
    "start_time": "2022-05-20T15:16:53.459Z"
   },
   {
    "duration": 14,
    "start_time": "2022-05-20T15:16:53.597Z"
   },
   {
    "duration": 313,
    "start_time": "2022-05-20T15:16:53.612Z"
   },
   {
    "duration": 229,
    "start_time": "2022-05-20T15:16:53.927Z"
   },
   {
    "duration": 147,
    "start_time": "2022-05-20T15:16:54.159Z"
   },
   {
    "duration": 104,
    "start_time": "2022-05-20T15:16:54.307Z"
   },
   {
    "duration": 336,
    "start_time": "2022-05-20T15:16:54.413Z"
   },
   {
    "duration": 491,
    "start_time": "2022-05-20T15:16:54.750Z"
   },
   {
    "duration": 29,
    "start_time": "2022-05-20T15:16:55.242Z"
   },
   {
    "duration": 136,
    "start_time": "2022-05-20T15:16:55.272Z"
   },
   {
    "duration": 12,
    "start_time": "2022-05-20T15:16:55.410Z"
   },
   {
    "duration": 42,
    "start_time": "2022-05-20T15:16:55.425Z"
   },
   {
    "duration": 15,
    "start_time": "2022-05-20T15:16:55.468Z"
   },
   {
    "duration": 12,
    "start_time": "2022-05-20T15:16:55.484Z"
   },
   {
    "duration": 23,
    "start_time": "2022-05-20T15:16:55.498Z"
   },
   {
    "duration": 128,
    "start_time": "2022-05-20T15:16:55.523Z"
   },
   {
    "duration": 12,
    "start_time": "2022-05-20T15:16:55.660Z"
   },
   {
    "duration": 3,
    "start_time": "2022-05-20T15:17:11.992Z"
   },
   {
    "duration": 36,
    "start_time": "2022-05-20T15:17:11.997Z"
   },
   {
    "duration": 378,
    "start_time": "2022-05-20T15:17:12.034Z"
   },
   {
    "duration": 30,
    "start_time": "2022-05-20T15:17:12.413Z"
   },
   {
    "duration": 51,
    "start_time": "2022-05-20T15:17:12.444Z"
   },
   {
    "duration": 31,
    "start_time": "2022-05-20T15:17:12.496Z"
   },
   {
    "duration": 41,
    "start_time": "2022-05-20T15:17:12.529Z"
   },
   {
    "duration": 125,
    "start_time": "2022-05-20T15:17:12.571Z"
   },
   {
    "duration": 16,
    "start_time": "2022-05-20T15:17:12.699Z"
   },
   {
    "duration": 56,
    "start_time": "2022-05-20T15:17:12.717Z"
   },
   {
    "duration": 77,
    "start_time": "2022-05-20T15:17:12.774Z"
   },
   {
    "duration": 38,
    "start_time": "2022-05-20T15:17:12.852Z"
   },
   {
    "duration": 143,
    "start_time": "2022-05-20T15:17:12.892Z"
   },
   {
    "duration": 13,
    "start_time": "2022-05-20T15:17:13.036Z"
   },
   {
    "duration": 321,
    "start_time": "2022-05-20T15:17:13.050Z"
   },
   {
    "duration": 234,
    "start_time": "2022-05-20T15:17:13.373Z"
   },
   {
    "duration": 150,
    "start_time": "2022-05-20T15:17:13.609Z"
   },
   {
    "duration": 108,
    "start_time": "2022-05-20T15:17:13.761Z"
   },
   {
    "duration": 251,
    "start_time": "2022-05-20T15:17:13.871Z"
   },
   {
    "duration": 589,
    "start_time": "2022-05-20T15:17:14.124Z"
   },
   {
    "duration": 21,
    "start_time": "2022-05-20T15:17:14.714Z"
   },
   {
    "duration": 135,
    "start_time": "2022-05-20T15:17:14.737Z"
   },
   {
    "duration": 13,
    "start_time": "2022-05-20T15:17:14.873Z"
   },
   {
    "duration": 38,
    "start_time": "2022-05-20T15:17:14.889Z"
   },
   {
    "duration": 39,
    "start_time": "2022-05-20T15:17:14.928Z"
   },
   {
    "duration": 12,
    "start_time": "2022-05-20T15:17:14.968Z"
   },
   {
    "duration": 13,
    "start_time": "2022-05-20T15:17:14.982Z"
   },
   {
    "duration": 105,
    "start_time": "2022-05-20T15:17:14.997Z"
   },
   {
    "duration": 11,
    "start_time": "2022-05-20T15:17:15.104Z"
   },
   {
    "duration": 4,
    "start_time": "2022-05-20T15:17:27.437Z"
   },
   {
    "duration": 47,
    "start_time": "2022-05-20T15:17:27.443Z"
   },
   {
    "duration": 413,
    "start_time": "2022-05-20T15:17:27.492Z"
   },
   {
    "duration": 34,
    "start_time": "2022-05-20T15:17:27.908Z"
   },
   {
    "duration": 60,
    "start_time": "2022-05-20T15:17:27.944Z"
   },
   {
    "duration": 71,
    "start_time": "2022-05-20T15:17:28.006Z"
   },
   {
    "duration": 55,
    "start_time": "2022-05-20T15:17:28.079Z"
   },
   {
    "duration": 132,
    "start_time": "2022-05-20T15:17:28.136Z"
   },
   {
    "duration": 12,
    "start_time": "2022-05-20T15:17:28.271Z"
   },
   {
    "duration": 38,
    "start_time": "2022-05-20T15:17:28.284Z"
   },
   {
    "duration": 53,
    "start_time": "2022-05-20T15:17:28.323Z"
   },
   {
    "duration": 43,
    "start_time": "2022-05-20T15:17:28.377Z"
   },
   {
    "duration": 138,
    "start_time": "2022-05-20T15:17:28.421Z"
   },
   {
    "duration": 12,
    "start_time": "2022-05-20T15:17:28.561Z"
   },
   {
    "duration": 339,
    "start_time": "2022-05-20T15:17:28.575Z"
   },
   {
    "duration": 226,
    "start_time": "2022-05-20T15:17:28.915Z"
   },
   {
    "duration": 140,
    "start_time": "2022-05-20T15:17:29.142Z"
   },
   {
    "duration": 97,
    "start_time": "2022-05-20T15:17:29.283Z"
   },
   {
    "duration": 316,
    "start_time": "2022-05-20T15:17:29.381Z"
   },
   {
    "duration": 607,
    "start_time": "2022-05-20T15:17:29.699Z"
   },
   {
    "duration": 21,
    "start_time": "2022-05-20T15:17:30.307Z"
   },
   {
    "duration": 223,
    "start_time": "2022-05-20T15:17:30.329Z"
   },
   {
    "duration": 13,
    "start_time": "2022-05-20T15:17:30.558Z"
   },
   {
    "duration": 36,
    "start_time": "2022-05-20T15:17:30.574Z"
   },
   {
    "duration": 44,
    "start_time": "2022-05-20T15:17:30.612Z"
   },
   {
    "duration": 13,
    "start_time": "2022-05-20T15:17:30.657Z"
   },
   {
    "duration": 24,
    "start_time": "2022-05-20T15:17:30.671Z"
   },
   {
    "duration": 92,
    "start_time": "2022-05-20T15:17:30.696Z"
   },
   {
    "duration": 11,
    "start_time": "2022-05-20T15:17:30.790Z"
   },
   {
    "duration": 22,
    "start_time": "2022-05-20T15:19:02.983Z"
   },
   {
    "duration": 7,
    "start_time": "2022-05-20T15:19:04.614Z"
   },
   {
    "duration": 4,
    "start_time": "2022-05-20T15:19:06.215Z"
   },
   {
    "duration": 43,
    "start_time": "2022-05-20T15:19:17.768Z"
   },
   {
    "duration": 11,
    "start_time": "2022-05-20T15:19:19.440Z"
   },
   {
    "duration": 14,
    "start_time": "2022-05-20T15:19:20.991Z"
   },
   {
    "duration": 33,
    "start_time": "2022-05-20T15:19:34.630Z"
   },
   {
    "duration": 32,
    "start_time": "2022-05-20T15:19:42.711Z"
   },
   {
    "duration": 11,
    "start_time": "2022-05-20T15:19:44.215Z"
   },
   {
    "duration": 15,
    "start_time": "2022-05-20T15:19:45.893Z"
   },
   {
    "duration": 3,
    "start_time": "2022-05-20T15:20:12.481Z"
   },
   {
    "duration": 14,
    "start_time": "2022-05-20T15:20:12.486Z"
   },
   {
    "duration": 344,
    "start_time": "2022-05-20T15:20:12.501Z"
   },
   {
    "duration": 29,
    "start_time": "2022-05-20T15:20:12.847Z"
   },
   {
    "duration": 53,
    "start_time": "2022-05-20T15:20:12.878Z"
   },
   {
    "duration": 29,
    "start_time": "2022-05-20T15:20:12.932Z"
   },
   {
    "duration": 4,
    "start_time": "2022-05-20T15:20:12.962Z"
   },
   {
    "duration": 130,
    "start_time": "2022-05-20T15:20:12.968Z"
   },
   {
    "duration": 13,
    "start_time": "2022-05-20T15:20:13.099Z"
   },
   {
    "duration": 28,
    "start_time": "2022-05-20T15:20:13.113Z"
   },
   {
    "duration": 54,
    "start_time": "2022-05-20T15:20:13.159Z"
   },
   {
    "duration": 39,
    "start_time": "2022-05-20T15:20:13.215Z"
   },
   {
    "duration": 142,
    "start_time": "2022-05-20T15:20:13.255Z"
   },
   {
    "duration": 13,
    "start_time": "2022-05-20T15:20:13.399Z"
   },
   {
    "duration": 311,
    "start_time": "2022-05-20T15:20:13.414Z"
   },
   {
    "duration": 259,
    "start_time": "2022-05-20T15:20:13.727Z"
   },
   {
    "duration": 152,
    "start_time": "2022-05-20T15:20:13.988Z"
   },
   {
    "duration": 100,
    "start_time": "2022-05-20T15:20:14.141Z"
   },
   {
    "duration": 256,
    "start_time": "2022-05-20T15:20:14.243Z"
   },
   {
    "duration": 503,
    "start_time": "2022-05-20T15:20:14.500Z"
   },
   {
    "duration": 22,
    "start_time": "2022-05-20T15:20:15.004Z"
   },
   {
    "duration": 133,
    "start_time": "2022-05-20T15:20:15.028Z"
   },
   {
    "duration": 13,
    "start_time": "2022-05-20T15:20:15.162Z"
   },
   {
    "duration": 34,
    "start_time": "2022-05-20T15:20:15.177Z"
   },
   {
    "duration": 28,
    "start_time": "2022-05-20T15:20:15.213Z"
   },
   {
    "duration": 26,
    "start_time": "2022-05-20T15:20:15.243Z"
   },
   {
    "duration": 26,
    "start_time": "2022-05-20T15:20:15.270Z"
   },
   {
    "duration": 190,
    "start_time": "2022-05-20T15:20:15.297Z"
   },
   {
    "duration": 13,
    "start_time": "2022-05-20T15:20:15.490Z"
   },
   {
    "duration": 13,
    "start_time": "2022-05-20T15:21:32.725Z"
   },
   {
    "duration": 73,
    "start_time": "2022-05-20T15:23:13.947Z"
   },
   {
    "duration": 16,
    "start_time": "2022-05-20T15:23:24.404Z"
   },
   {
    "duration": 92,
    "start_time": "2022-05-20T15:24:04.490Z"
   },
   {
    "duration": 4,
    "start_time": "2022-05-20T15:24:24.170Z"
   },
   {
    "duration": 3,
    "start_time": "2022-05-20T15:24:31.101Z"
   },
   {
    "duration": 36,
    "start_time": "2022-05-20T15:24:31.106Z"
   },
   {
    "duration": 337,
    "start_time": "2022-05-20T15:24:31.143Z"
   },
   {
    "duration": 31,
    "start_time": "2022-05-20T15:24:31.482Z"
   },
   {
    "duration": 58,
    "start_time": "2022-05-20T15:24:31.514Z"
   },
   {
    "duration": 34,
    "start_time": "2022-05-20T15:24:31.575Z"
   },
   {
    "duration": 21,
    "start_time": "2022-05-20T15:24:31.610Z"
   },
   {
    "duration": 150,
    "start_time": "2022-05-20T15:24:31.633Z"
   },
   {
    "duration": 14,
    "start_time": "2022-05-20T15:24:31.786Z"
   },
   {
    "duration": 25,
    "start_time": "2022-05-20T15:24:31.801Z"
   },
   {
    "duration": 61,
    "start_time": "2022-05-20T15:24:31.828Z"
   },
   {
    "duration": 46,
    "start_time": "2022-05-20T15:24:31.891Z"
   },
   {
    "duration": 233,
    "start_time": "2022-05-20T15:24:31.939Z"
   },
   {
    "duration": 14,
    "start_time": "2022-05-20T15:24:32.173Z"
   },
   {
    "duration": 357,
    "start_time": "2022-05-20T15:24:32.189Z"
   },
   {
    "duration": 268,
    "start_time": "2022-05-20T15:24:32.548Z"
   },
   {
    "duration": 160,
    "start_time": "2022-05-20T15:24:32.817Z"
   },
   {
    "duration": 104,
    "start_time": "2022-05-20T15:24:32.978Z"
   },
   {
    "duration": 286,
    "start_time": "2022-05-20T15:24:33.084Z"
   },
   {
    "duration": 514,
    "start_time": "2022-05-20T15:24:33.373Z"
   },
   {
    "duration": 24,
    "start_time": "2022-05-20T15:24:33.889Z"
   },
   {
    "duration": 137,
    "start_time": "2022-05-20T15:24:33.914Z"
   },
   {
    "duration": 19,
    "start_time": "2022-05-20T15:24:34.059Z"
   },
   {
    "duration": 36,
    "start_time": "2022-05-20T15:24:34.081Z"
   },
   {
    "duration": 4,
    "start_time": "2022-05-20T15:24:34.119Z"
   },
   {
    "duration": 110,
    "start_time": "2022-05-20T15:24:34.124Z"
   },
   {
    "duration": 13,
    "start_time": "2022-05-20T15:24:34.235Z"
   },
   {
    "duration": 89,
    "start_time": "2022-05-20T15:27:58.350Z"
   },
   {
    "duration": 5,
    "start_time": "2022-05-20T15:28:02.202Z"
   },
   {
    "duration": 24,
    "start_time": "2022-05-20T15:28:02.208Z"
   },
   {
    "duration": 346,
    "start_time": "2022-05-20T15:28:02.233Z"
   },
   {
    "duration": 30,
    "start_time": "2022-05-20T15:28:02.581Z"
   },
   {
    "duration": 45,
    "start_time": "2022-05-20T15:28:02.612Z"
   },
   {
    "duration": 29,
    "start_time": "2022-05-20T15:28:02.659Z"
   },
   {
    "duration": 4,
    "start_time": "2022-05-20T15:28:02.689Z"
   },
   {
    "duration": 116,
    "start_time": "2022-05-20T15:28:02.695Z"
   },
   {
    "duration": 13,
    "start_time": "2022-05-20T15:28:02.813Z"
   },
   {
    "duration": 36,
    "start_time": "2022-05-20T15:28:02.828Z"
   },
   {
    "duration": 30,
    "start_time": "2022-05-20T15:28:02.866Z"
   },
   {
    "duration": 66,
    "start_time": "2022-05-20T15:28:02.897Z"
   },
   {
    "duration": 152,
    "start_time": "2022-05-20T15:28:02.965Z"
   },
   {
    "duration": 15,
    "start_time": "2022-05-20T15:28:03.119Z"
   },
   {
    "duration": 403,
    "start_time": "2022-05-20T15:28:03.136Z"
   },
   {
    "duration": 241,
    "start_time": "2022-05-20T15:28:03.540Z"
   },
   {
    "duration": 170,
    "start_time": "2022-05-20T15:28:03.782Z"
   },
   {
    "duration": 95,
    "start_time": "2022-05-20T15:28:03.953Z"
   },
   {
    "duration": 250,
    "start_time": "2022-05-20T15:28:04.050Z"
   },
   {
    "duration": 484,
    "start_time": "2022-05-20T15:28:04.301Z"
   },
   {
    "duration": 22,
    "start_time": "2022-05-20T15:28:04.787Z"
   },
   {
    "duration": 133,
    "start_time": "2022-05-20T15:28:04.810Z"
   },
   {
    "duration": 19,
    "start_time": "2022-05-20T15:28:04.944Z"
   },
   {
    "duration": 28,
    "start_time": "2022-05-20T15:28:04.965Z"
   },
   {
    "duration": 3,
    "start_time": "2022-05-20T15:28:04.995Z"
   },
   {
    "duration": 113,
    "start_time": "2022-05-20T15:28:04.999Z"
   },
   {
    "duration": 13,
    "start_time": "2022-05-20T15:28:23.669Z"
   },
   {
    "duration": 104,
    "start_time": "2022-05-20T15:30:08.724Z"
   },
   {
    "duration": 3,
    "start_time": "2022-05-20T15:30:15.302Z"
   },
   {
    "duration": 7,
    "start_time": "2022-05-20T15:30:15.307Z"
   },
   {
    "duration": 320,
    "start_time": "2022-05-20T15:30:15.315Z"
   },
   {
    "duration": 28,
    "start_time": "2022-05-20T15:30:15.637Z"
   },
   {
    "duration": 43,
    "start_time": "2022-05-20T15:30:15.666Z"
   },
   {
    "duration": 27,
    "start_time": "2022-05-20T15:30:15.710Z"
   },
   {
    "duration": 4,
    "start_time": "2022-05-20T15:30:15.738Z"
   },
   {
    "duration": 115,
    "start_time": "2022-05-20T15:30:15.744Z"
   },
   {
    "duration": 15,
    "start_time": "2022-05-20T15:30:15.862Z"
   },
   {
    "duration": 29,
    "start_time": "2022-05-20T15:30:15.879Z"
   },
   {
    "duration": 52,
    "start_time": "2022-05-20T15:30:15.910Z"
   },
   {
    "duration": 44,
    "start_time": "2022-05-20T15:30:15.964Z"
   },
   {
    "duration": 159,
    "start_time": "2022-05-20T15:30:16.010Z"
   },
   {
    "duration": 14,
    "start_time": "2022-05-20T15:30:16.171Z"
   },
   {
    "duration": 398,
    "start_time": "2022-05-20T15:30:16.187Z"
   },
   {
    "duration": 254,
    "start_time": "2022-05-20T15:30:16.586Z"
   },
   {
    "duration": 161,
    "start_time": "2022-05-20T15:30:16.842Z"
   },
   {
    "duration": 96,
    "start_time": "2022-05-20T15:30:17.004Z"
   },
   {
    "duration": 257,
    "start_time": "2022-05-20T15:30:17.102Z"
   },
   {
    "duration": 542,
    "start_time": "2022-05-20T15:30:17.360Z"
   },
   {
    "duration": 30,
    "start_time": "2022-05-20T15:30:17.903Z"
   },
   {
    "duration": 154,
    "start_time": "2022-05-20T15:30:17.935Z"
   },
   {
    "duration": 19,
    "start_time": "2022-05-20T15:30:18.091Z"
   },
   {
    "duration": 31,
    "start_time": "2022-05-20T15:30:18.113Z"
   },
   {
    "duration": 30,
    "start_time": "2022-05-20T15:30:18.145Z"
   },
   {
    "duration": 116,
    "start_time": "2022-05-20T15:30:18.176Z"
   },
   {
    "duration": 4,
    "start_time": "2022-05-20T15:31:08.246Z"
   },
   {
    "duration": 18,
    "start_time": "2022-05-20T15:31:08.253Z"
   },
   {
    "duration": 339,
    "start_time": "2022-05-20T15:31:08.273Z"
   },
   {
    "duration": 29,
    "start_time": "2022-05-20T15:31:08.614Z"
   },
   {
    "duration": 44,
    "start_time": "2022-05-20T15:31:08.645Z"
   },
   {
    "duration": 29,
    "start_time": "2022-05-20T15:31:08.690Z"
   },
   {
    "duration": 3,
    "start_time": "2022-05-20T15:31:08.721Z"
   },
   {
    "duration": 118,
    "start_time": "2022-05-20T15:31:08.725Z"
   },
   {
    "duration": 20,
    "start_time": "2022-05-20T15:31:08.845Z"
   },
   {
    "duration": 21,
    "start_time": "2022-05-20T15:31:08.866Z"
   },
   {
    "duration": 28,
    "start_time": "2022-05-20T15:31:08.888Z"
   },
   {
    "duration": 58,
    "start_time": "2022-05-20T15:31:08.918Z"
   },
   {
    "duration": 130,
    "start_time": "2022-05-20T15:31:08.978Z"
   },
   {
    "duration": 13,
    "start_time": "2022-05-20T15:31:09.109Z"
   },
   {
    "duration": 406,
    "start_time": "2022-05-20T15:31:09.123Z"
   },
   {
    "duration": 221,
    "start_time": "2022-05-20T15:31:09.530Z"
   },
   {
    "duration": 164,
    "start_time": "2022-05-20T15:31:09.753Z"
   },
   {
    "duration": 106,
    "start_time": "2022-05-20T15:31:09.919Z"
   },
   {
    "duration": 242,
    "start_time": "2022-05-20T15:31:10.026Z"
   },
   {
    "duration": 500,
    "start_time": "2022-05-20T15:31:10.269Z"
   },
   {
    "duration": 21,
    "start_time": "2022-05-20T15:31:10.771Z"
   },
   {
    "duration": 138,
    "start_time": "2022-05-20T15:31:10.794Z"
   },
   {
    "duration": 13,
    "start_time": "2022-05-20T15:31:10.933Z"
   },
   {
    "duration": 38,
    "start_time": "2022-05-20T15:31:10.949Z"
   },
   {
    "duration": 4,
    "start_time": "2022-05-20T15:31:10.989Z"
   },
   {
    "duration": 106,
    "start_time": "2022-05-20T15:31:10.995Z"
   },
   {
    "duration": 4,
    "start_time": "2022-05-20T15:31:25.847Z"
   },
   {
    "duration": 10,
    "start_time": "2022-05-20T15:31:27.623Z"
   },
   {
    "duration": 13,
    "start_time": "2022-05-20T15:32:13.023Z"
   },
   {
    "duration": 83,
    "start_time": "2022-05-20T15:32:13.983Z"
   },
   {
    "duration": 57,
    "start_time": "2022-05-20T15:32:32.229Z"
   },
   {
    "duration": 53,
    "start_time": "2022-05-20T15:32:38.893Z"
   },
   {
    "duration": 106,
    "start_time": "2022-05-20T15:32:42.861Z"
   },
   {
    "duration": 3,
    "start_time": "2022-05-20T15:32:45.176Z"
   },
   {
    "duration": 6,
    "start_time": "2022-05-20T15:32:45.180Z"
   },
   {
    "duration": 318,
    "start_time": "2022-05-20T15:32:45.188Z"
   },
   {
    "duration": 30,
    "start_time": "2022-05-20T15:32:45.508Z"
   },
   {
    "duration": 43,
    "start_time": "2022-05-20T15:32:45.539Z"
   },
   {
    "duration": 29,
    "start_time": "2022-05-20T15:32:45.584Z"
   },
   {
    "duration": 15,
    "start_time": "2022-05-20T15:32:45.614Z"
   },
   {
    "duration": 111,
    "start_time": "2022-05-20T15:32:45.631Z"
   },
   {
    "duration": 20,
    "start_time": "2022-05-20T15:32:45.744Z"
   },
   {
    "duration": 26,
    "start_time": "2022-05-20T15:32:45.765Z"
   },
   {
    "duration": 31,
    "start_time": "2022-05-20T15:32:45.793Z"
   },
   {
    "duration": 69,
    "start_time": "2022-05-20T15:32:45.826Z"
   },
   {
    "duration": 143,
    "start_time": "2022-05-20T15:32:45.897Z"
   },
   {
    "duration": 19,
    "start_time": "2022-05-20T15:32:46.041Z"
   },
   {
    "duration": 408,
    "start_time": "2022-05-20T15:32:46.062Z"
   },
   {
    "duration": 234,
    "start_time": "2022-05-20T15:32:46.473Z"
   },
   {
    "duration": 145,
    "start_time": "2022-05-20T15:32:46.709Z"
   },
   {
    "duration": 89,
    "start_time": "2022-05-20T15:32:46.859Z"
   },
   {
    "duration": 234,
    "start_time": "2022-05-20T15:32:46.950Z"
   },
   {
    "duration": 486,
    "start_time": "2022-05-20T15:32:47.185Z"
   },
   {
    "duration": 21,
    "start_time": "2022-05-20T15:32:47.672Z"
   },
   {
    "duration": 179,
    "start_time": "2022-05-20T15:32:47.695Z"
   },
   {
    "duration": 20,
    "start_time": "2022-05-20T15:32:47.875Z"
   },
   {
    "duration": 53,
    "start_time": "2022-05-20T15:32:47.899Z"
   },
   {
    "duration": 13,
    "start_time": "2022-05-20T15:32:47.955Z"
   },
   {
    "duration": 36,
    "start_time": "2022-05-20T15:32:47.970Z"
   },
   {
    "duration": 132,
    "start_time": "2022-05-20T15:32:48.008Z"
   },
   {
    "duration": 58,
    "start_time": "2022-05-20T15:33:21.293Z"
   },
   {
    "duration": 9,
    "start_time": "2022-05-20T15:33:24.291Z"
   },
   {
    "duration": 56,
    "start_time": "2022-05-20T15:33:26.523Z"
   },
   {
    "duration": 14,
    "start_time": "2022-05-20T15:33:45.420Z"
   },
   {
    "duration": 110,
    "start_time": "2022-05-20T15:33:46.949Z"
   },
   {
    "duration": 25,
    "start_time": "2022-05-20T15:34:33.179Z"
   },
   {
    "duration": 32,
    "start_time": "2022-05-20T15:34:41.035Z"
   },
   {
    "duration": 4,
    "start_time": "2022-05-20T15:34:46.950Z"
   },
   {
    "duration": 7,
    "start_time": "2022-05-20T15:34:46.956Z"
   },
   {
    "duration": 341,
    "start_time": "2022-05-20T15:34:46.964Z"
   },
   {
    "duration": 30,
    "start_time": "2022-05-20T15:34:47.307Z"
   },
   {
    "duration": 44,
    "start_time": "2022-05-20T15:34:47.338Z"
   },
   {
    "duration": 30,
    "start_time": "2022-05-20T15:34:47.384Z"
   },
   {
    "duration": 4,
    "start_time": "2022-05-20T15:34:47.416Z"
   },
   {
    "duration": 126,
    "start_time": "2022-05-20T15:34:47.422Z"
   },
   {
    "duration": 17,
    "start_time": "2022-05-20T15:34:47.551Z"
   },
   {
    "duration": 22,
    "start_time": "2022-05-20T15:34:47.570Z"
   },
   {
    "duration": 32,
    "start_time": "2022-05-20T15:34:47.594Z"
   },
   {
    "duration": 63,
    "start_time": "2022-05-20T15:34:47.628Z"
   },
   {
    "duration": 201,
    "start_time": "2022-05-20T15:34:47.693Z"
   },
   {
    "duration": 18,
    "start_time": "2022-05-20T15:34:47.896Z"
   },
   {
    "duration": 330,
    "start_time": "2022-05-20T15:34:47.916Z"
   },
   {
    "duration": 315,
    "start_time": "2022-05-20T15:34:48.247Z"
   },
   {
    "duration": 151,
    "start_time": "2022-05-20T15:34:48.564Z"
   },
   {
    "duration": 97,
    "start_time": "2022-05-20T15:34:48.718Z"
   },
   {
    "duration": 246,
    "start_time": "2022-05-20T15:34:48.816Z"
   },
   {
    "duration": 479,
    "start_time": "2022-05-20T15:34:49.063Z"
   },
   {
    "duration": 24,
    "start_time": "2022-05-20T15:34:49.543Z"
   },
   {
    "duration": 128,
    "start_time": "2022-05-20T15:34:49.569Z"
   },
   {
    "duration": 12,
    "start_time": "2022-05-20T15:34:49.699Z"
   },
   {
    "duration": 27,
    "start_time": "2022-05-20T15:34:49.714Z"
   },
   {
    "duration": 18,
    "start_time": "2022-05-20T15:34:49.743Z"
   },
   {
    "duration": 43,
    "start_time": "2022-05-20T15:34:49.763Z"
   },
   {
    "duration": 0,
    "start_time": "2022-05-20T15:34:49.808Z"
   },
   {
    "duration": 48,
    "start_time": "2022-05-20T15:35:00.082Z"
   },
   {
    "duration": 50,
    "start_time": "2022-05-20T15:35:01.810Z"
   },
   {
    "duration": 85,
    "start_time": "2022-05-20T15:35:03.106Z"
   },
   {
    "duration": 40,
    "start_time": "2022-05-20T15:35:10.034Z"
   },
   {
    "duration": 64,
    "start_time": "2022-05-20T15:35:25.931Z"
   },
   {
    "duration": 4,
    "start_time": "2022-05-20T15:35:36.808Z"
   },
   {
    "duration": 9,
    "start_time": "2022-05-20T15:35:36.814Z"
   },
   {
    "duration": 380,
    "start_time": "2022-05-20T15:35:36.824Z"
   },
   {
    "duration": 38,
    "start_time": "2022-05-20T15:35:37.206Z"
   },
   {
    "duration": 81,
    "start_time": "2022-05-20T15:35:37.246Z"
   },
   {
    "duration": 36,
    "start_time": "2022-05-20T15:35:37.328Z"
   },
   {
    "duration": 8,
    "start_time": "2022-05-20T15:35:37.366Z"
   },
   {
    "duration": 185,
    "start_time": "2022-05-20T15:35:37.377Z"
   },
   {
    "duration": 20,
    "start_time": "2022-05-20T15:35:37.565Z"
   },
   {
    "duration": 22,
    "start_time": "2022-05-20T15:35:37.587Z"
   },
   {
    "duration": 56,
    "start_time": "2022-05-20T15:35:37.612Z"
   },
   {
    "duration": 46,
    "start_time": "2022-05-20T15:35:37.670Z"
   },
   {
    "duration": 236,
    "start_time": "2022-05-20T15:35:37.718Z"
   },
   {
    "duration": 20,
    "start_time": "2022-05-20T15:35:37.963Z"
   },
   {
    "duration": 347,
    "start_time": "2022-05-20T15:35:37.985Z"
   },
   {
    "duration": 235,
    "start_time": "2022-05-20T15:35:38.333Z"
   },
   {
    "duration": 260,
    "start_time": "2022-05-20T15:35:38.569Z"
   },
   {
    "duration": 99,
    "start_time": "2022-05-20T15:35:38.831Z"
   },
   {
    "duration": 277,
    "start_time": "2022-05-20T15:35:38.931Z"
   },
   {
    "duration": 503,
    "start_time": "2022-05-20T15:35:39.211Z"
   },
   {
    "duration": 23,
    "start_time": "2022-05-20T15:35:39.716Z"
   },
   {
    "duration": 150,
    "start_time": "2022-05-20T15:35:39.741Z"
   },
   {
    "duration": 13,
    "start_time": "2022-05-20T15:35:39.893Z"
   },
   {
    "duration": 29,
    "start_time": "2022-05-20T15:35:39.909Z"
   },
   {
    "duration": 21,
    "start_time": "2022-05-20T15:35:39.939Z"
   },
   {
    "duration": 111,
    "start_time": "2022-05-20T15:35:39.963Z"
   },
   {
    "duration": 5,
    "start_time": "2022-05-20T15:36:12.186Z"
   },
   {
    "duration": 96,
    "start_time": "2022-05-20T15:36:16.970Z"
   },
   {
    "duration": 4,
    "start_time": "2022-05-20T15:36:41.081Z"
   },
   {
    "duration": 90,
    "start_time": "2022-05-20T15:36:44.529Z"
   },
   {
    "duration": 220,
    "start_time": "2022-05-20T15:39:50.117Z"
   },
   {
    "duration": 229,
    "start_time": "2022-05-20T15:41:15.060Z"
   },
   {
    "duration": 490,
    "start_time": "2022-05-20T15:41:38.572Z"
   },
   {
    "duration": 5,
    "start_time": "2022-05-20T17:29:37.215Z"
   },
   {
    "duration": 96,
    "start_time": "2022-05-20T17:29:51.239Z"
   },
   {
    "duration": 95,
    "start_time": "2022-05-20T17:29:57.510Z"
   },
   {
    "duration": 90,
    "start_time": "2022-05-20T17:30:02.651Z"
   },
   {
    "duration": 4,
    "start_time": "2022-05-20T17:30:07.184Z"
   },
   {
    "duration": 43,
    "start_time": "2022-05-20T17:30:07.190Z"
   },
   {
    "duration": 387,
    "start_time": "2022-05-20T17:30:07.234Z"
   },
   {
    "duration": 31,
    "start_time": "2022-05-20T17:30:07.623Z"
   },
   {
    "duration": 57,
    "start_time": "2022-05-20T17:30:07.663Z"
   },
   {
    "duration": 47,
    "start_time": "2022-05-20T17:30:07.723Z"
   },
   {
    "duration": 27,
    "start_time": "2022-05-20T17:30:07.774Z"
   },
   {
    "duration": 230,
    "start_time": "2022-05-20T17:30:07.804Z"
   },
   {
    "duration": 16,
    "start_time": "2022-05-20T17:30:08.037Z"
   },
   {
    "duration": 56,
    "start_time": "2022-05-20T17:30:08.055Z"
   },
   {
    "duration": 64,
    "start_time": "2022-05-20T17:30:08.112Z"
   },
   {
    "duration": 55,
    "start_time": "2022-05-20T17:30:08.178Z"
   },
   {
    "duration": 147,
    "start_time": "2022-05-20T17:30:08.234Z"
   },
   {
    "duration": 12,
    "start_time": "2022-05-20T17:30:08.383Z"
   },
   {
    "duration": 450,
    "start_time": "2022-05-20T17:30:08.396Z"
   },
   {
    "duration": 262,
    "start_time": "2022-05-20T17:30:08.847Z"
   },
   {
    "duration": 163,
    "start_time": "2022-05-20T17:30:09.111Z"
   },
   {
    "duration": 101,
    "start_time": "2022-05-20T17:30:09.276Z"
   },
   {
    "duration": 247,
    "start_time": "2022-05-20T17:30:09.378Z"
   },
   {
    "duration": 549,
    "start_time": "2022-05-20T17:30:09.627Z"
   },
   {
    "duration": 21,
    "start_time": "2022-05-20T17:30:10.178Z"
   },
   {
    "duration": 136,
    "start_time": "2022-05-20T17:30:10.200Z"
   },
   {
    "duration": 12,
    "start_time": "2022-05-20T17:30:10.338Z"
   },
   {
    "duration": 56,
    "start_time": "2022-05-20T17:30:10.352Z"
   },
   {
    "duration": 4,
    "start_time": "2022-05-20T17:30:10.410Z"
   },
   {
    "duration": 102,
    "start_time": "2022-05-20T17:30:10.415Z"
   },
   {
    "duration": 23,
    "start_time": "2022-05-20T17:30:40.862Z"
   },
   {
    "duration": 12,
    "start_time": "2022-05-20T17:30:45.646Z"
   },
   {
    "duration": 43,
    "start_time": "2022-05-20T17:31:46.549Z"
   },
   {
    "duration": 37,
    "start_time": "2022-05-20T17:31:57.375Z"
   },
   {
    "duration": 5,
    "start_time": "2022-05-20T17:32:01.180Z"
   },
   {
    "duration": 37,
    "start_time": "2022-05-20T17:32:41.011Z"
   },
   {
    "duration": 33,
    "start_time": "2022-05-20T17:33:18.002Z"
   },
   {
    "duration": 18,
    "start_time": "2022-05-20T17:33:24.955Z"
   },
   {
    "duration": 33,
    "start_time": "2022-05-20T17:33:36.269Z"
   },
   {
    "duration": 28,
    "start_time": "2022-05-20T17:33:37.595Z"
   },
   {
    "duration": 11,
    "start_time": "2022-05-20T17:33:38.291Z"
   },
   {
    "duration": 54,
    "start_time": "2022-05-20T17:33:55.547Z"
   },
   {
    "duration": 12,
    "start_time": "2022-05-20T17:33:56.973Z"
   },
   {
    "duration": 13,
    "start_time": "2022-05-20T17:34:20.226Z"
   },
   {
    "duration": 42,
    "start_time": "2022-05-20T17:35:02.993Z"
   },
   {
    "duration": 20,
    "start_time": "2022-05-20T17:35:04.863Z"
   },
   {
    "duration": 42,
    "start_time": "2022-05-20T17:35:19.976Z"
   },
   {
    "duration": 44,
    "start_time": "2022-05-20T17:36:10.241Z"
   },
   {
    "duration": 68,
    "start_time": "2022-05-21T10:04:46.875Z"
   },
   {
    "duration": 8,
    "start_time": "2022-05-21T10:06:51.367Z"
   },
   {
    "duration": 1851,
    "start_time": "2022-05-21T10:06:57.744Z"
   },
   {
    "duration": 4,
    "start_time": "2022-05-21T10:06:59.597Z"
   },
   {
    "duration": 857,
    "start_time": "2022-05-21T10:06:59.603Z"
   },
   {
    "duration": 49,
    "start_time": "2022-05-21T10:07:00.462Z"
   },
   {
    "duration": 87,
    "start_time": "2022-05-21T10:07:00.514Z"
   },
   {
    "duration": 44,
    "start_time": "2022-05-21T10:07:00.603Z"
   },
   {
    "duration": 57,
    "start_time": "2022-05-21T10:07:00.649Z"
   },
   {
    "duration": 202,
    "start_time": "2022-05-21T10:07:00.708Z"
   },
   {
    "duration": 30,
    "start_time": "2022-05-21T10:07:00.912Z"
   },
   {
    "duration": 38,
    "start_time": "2022-05-21T10:07:00.943Z"
   },
   {
    "duration": 57,
    "start_time": "2022-05-21T10:07:00.982Z"
   },
   {
    "duration": 52,
    "start_time": "2022-05-21T10:07:01.041Z"
   },
   {
    "duration": 209,
    "start_time": "2022-05-21T10:07:01.095Z"
   },
   {
    "duration": 33,
    "start_time": "2022-05-21T10:07:01.307Z"
   },
   {
    "duration": 619,
    "start_time": "2022-05-21T10:07:01.342Z"
   },
   {
    "duration": 391,
    "start_time": "2022-05-21T10:07:01.963Z"
   },
   {
    "duration": 192,
    "start_time": "2022-05-21T10:07:02.356Z"
   },
   {
    "duration": 147,
    "start_time": "2022-05-21T10:07:02.552Z"
   },
   {
    "duration": 390,
    "start_time": "2022-05-21T10:07:02.701Z"
   },
   {
    "duration": 688,
    "start_time": "2022-05-21T10:07:03.093Z"
   },
   {
    "duration": 30,
    "start_time": "2022-05-21T10:07:03.782Z"
   },
   {
    "duration": 189,
    "start_time": "2022-05-21T10:07:03.823Z"
   },
   {
    "duration": 32,
    "start_time": "2022-05-21T10:07:04.014Z"
   },
   {
    "duration": 33,
    "start_time": "2022-05-21T10:07:04.048Z"
   },
   {
    "duration": 5,
    "start_time": "2022-05-21T10:07:04.082Z"
   },
   {
    "duration": 79,
    "start_time": "2022-05-21T10:07:04.089Z"
   },
   {
    "duration": 17,
    "start_time": "2022-05-21T10:07:04.171Z"
   },
   {
    "duration": 236,
    "start_time": "2022-05-21T10:07:04.191Z"
   },
   {
    "duration": 2786,
    "start_time": "2022-05-21T10:07:04.430Z"
   },
   {
    "duration": 2590,
    "start_time": "2022-05-21T10:07:10.165Z"
   },
   {
    "duration": 35,
    "start_time": "2022-05-21T10:07:22.170Z"
   },
   {
    "duration": 85,
    "start_time": "2022-05-21T10:08:24.178Z"
   },
   {
    "duration": 17,
    "start_time": "2022-05-21T10:08:56.240Z"
   },
   {
    "duration": 10214,
    "start_time": "2022-05-21T10:09:04.678Z"
   },
   {
    "duration": 29,
    "start_time": "2022-05-21T10:09:26.041Z"
   },
   {
    "duration": 92,
    "start_time": "2022-05-21T10:11:42.703Z"
   },
   {
    "duration": 81,
    "start_time": "2022-05-21T10:11:47.514Z"
   },
   {
    "duration": 165,
    "start_time": "2022-05-21T10:12:46.477Z"
   },
   {
    "duration": 250,
    "start_time": "2022-05-21T10:12:53.438Z"
   },
   {
    "duration": 304,
    "start_time": "2022-05-21T10:12:59.928Z"
   },
   {
    "duration": 80,
    "start_time": "2022-05-21T10:14:20.123Z"
   },
   {
    "duration": 54,
    "start_time": "2022-05-21T10:15:12.313Z"
   },
   {
    "duration": 54,
    "start_time": "2022-05-21T10:18:39.310Z"
   },
   {
    "duration": 50,
    "start_time": "2022-05-21T10:21:27.764Z"
   },
   {
    "duration": 74,
    "start_time": "2022-05-21T10:22:47.771Z"
   },
   {
    "duration": 65,
    "start_time": "2022-05-21T10:28:53.172Z"
   },
   {
    "duration": 57,
    "start_time": "2022-05-21T10:32:13.584Z"
   },
   {
    "duration": 22,
    "start_time": "2022-05-21T10:32:41.399Z"
   },
   {
    "duration": 30,
    "start_time": "2022-05-21T10:32:48.774Z"
   },
   {
    "duration": 43,
    "start_time": "2022-05-21T10:32:59.436Z"
   },
   {
    "duration": 67,
    "start_time": "2022-05-21T10:33:20.294Z"
   },
   {
    "duration": 39,
    "start_time": "2022-05-21T10:45:44.872Z"
   },
   {
    "duration": 49,
    "start_time": "2022-05-21T10:45:48.840Z"
   },
   {
    "duration": 50,
    "start_time": "2022-05-21T10:46:55.617Z"
   },
   {
    "duration": 148,
    "start_time": "2022-05-21T10:48:22.198Z"
   },
   {
    "duration": 1161,
    "start_time": "2022-05-21T10:49:37.086Z"
   },
   {
    "duration": 4,
    "start_time": "2022-05-21T10:49:38.249Z"
   },
   {
    "duration": 349,
    "start_time": "2022-05-21T10:49:38.254Z"
   },
   {
    "duration": 42,
    "start_time": "2022-05-21T10:49:38.606Z"
   },
   {
    "duration": 42,
    "start_time": "2022-05-21T10:49:38.649Z"
   },
   {
    "duration": 45,
    "start_time": "2022-05-21T10:49:38.693Z"
   },
   {
    "duration": 4,
    "start_time": "2022-05-21T10:49:38.739Z"
   },
   {
    "duration": 139,
    "start_time": "2022-05-21T10:49:38.745Z"
   },
   {
    "duration": 14,
    "start_time": "2022-05-21T10:49:38.886Z"
   },
   {
    "duration": 47,
    "start_time": "2022-05-21T10:49:38.903Z"
   },
   {
    "duration": 42,
    "start_time": "2022-05-21T10:49:38.952Z"
   },
   {
    "duration": 61,
    "start_time": "2022-05-21T10:49:38.996Z"
   },
   {
    "duration": 181,
    "start_time": "2022-05-21T10:49:39.059Z"
   },
   {
    "duration": 16,
    "start_time": "2022-05-21T10:49:39.242Z"
   },
   {
    "duration": 539,
    "start_time": "2022-05-21T10:49:39.259Z"
   },
   {
    "duration": 274,
    "start_time": "2022-05-21T10:49:39.799Z"
   },
   {
    "duration": 168,
    "start_time": "2022-05-21T10:49:40.075Z"
   },
   {
    "duration": 114,
    "start_time": "2022-05-21T10:49:40.244Z"
   },
   {
    "duration": 283,
    "start_time": "2022-05-21T10:49:40.359Z"
   },
   {
    "duration": 562,
    "start_time": "2022-05-21T10:49:40.643Z"
   },
   {
    "duration": 32,
    "start_time": "2022-05-21T10:49:41.207Z"
   },
   {
    "duration": 132,
    "start_time": "2022-05-21T10:49:41.240Z"
   },
   {
    "duration": 13,
    "start_time": "2022-05-21T10:49:41.374Z"
   },
   {
    "duration": 52,
    "start_time": "2022-05-21T10:49:41.389Z"
   },
   {
    "duration": 4,
    "start_time": "2022-05-21T10:49:41.443Z"
   },
   {
    "duration": 51,
    "start_time": "2022-05-21T10:49:41.448Z"
   },
   {
    "duration": 35,
    "start_time": "2022-05-21T10:49:41.501Z"
   },
   {
    "duration": 98,
    "start_time": "2022-05-21T10:49:41.540Z"
   },
   {
    "duration": 137,
    "start_time": "2022-05-21T10:49:41.640Z"
   },
   {
    "duration": 251,
    "start_time": "2022-05-21T10:49:41.779Z"
   },
   {
    "duration": 1341,
    "start_time": "2022-05-21T10:55:09.469Z"
   },
   {
    "duration": 4,
    "start_time": "2022-05-21T10:55:10.812Z"
   },
   {
    "duration": 404,
    "start_time": "2022-05-21T10:55:10.817Z"
   },
   {
    "duration": 41,
    "start_time": "2022-05-21T10:55:11.223Z"
   },
   {
    "duration": 44,
    "start_time": "2022-05-21T10:55:11.266Z"
   },
   {
    "duration": 50,
    "start_time": "2022-05-21T10:55:11.312Z"
   },
   {
    "duration": 4,
    "start_time": "2022-05-21T10:55:11.363Z"
   },
   {
    "duration": 146,
    "start_time": "2022-05-21T10:55:11.369Z"
   },
   {
    "duration": 33,
    "start_time": "2022-05-21T10:55:11.517Z"
   },
   {
    "duration": 23,
    "start_time": "2022-05-21T10:55:11.552Z"
   },
   {
    "duration": 50,
    "start_time": "2022-05-21T10:55:11.577Z"
   },
   {
    "duration": 47,
    "start_time": "2022-05-21T10:55:11.633Z"
   },
   {
    "duration": 163,
    "start_time": "2022-05-21T10:55:11.682Z"
   },
   {
    "duration": 14,
    "start_time": "2022-05-21T10:55:11.852Z"
   },
   {
    "duration": 553,
    "start_time": "2022-05-21T10:55:11.868Z"
   },
   {
    "duration": 334,
    "start_time": "2022-05-21T10:55:12.423Z"
   },
   {
    "duration": 216,
    "start_time": "2022-05-21T10:55:12.761Z"
   },
   {
    "duration": 127,
    "start_time": "2022-05-21T10:55:12.978Z"
   },
   {
    "duration": 286,
    "start_time": "2022-05-21T10:55:13.107Z"
   },
   {
    "duration": 622,
    "start_time": "2022-05-21T10:55:13.395Z"
   },
   {
    "duration": 35,
    "start_time": "2022-05-21T10:55:14.023Z"
   },
   {
    "duration": 145,
    "start_time": "2022-05-21T10:55:14.060Z"
   },
   {
    "duration": 29,
    "start_time": "2022-05-21T10:55:14.208Z"
   },
   {
    "duration": 42,
    "start_time": "2022-05-21T10:55:14.239Z"
   },
   {
    "duration": 3,
    "start_time": "2022-05-21T10:55:14.283Z"
   },
   {
    "duration": 61,
    "start_time": "2022-05-21T10:55:14.288Z"
   },
   {
    "duration": 15,
    "start_time": "2022-05-21T10:55:14.351Z"
   },
   {
    "duration": 203,
    "start_time": "2022-05-21T10:55:14.367Z"
   },
   {
    "duration": 73,
    "start_time": "2022-05-21T10:55:14.572Z"
   },
   {
    "duration": 22,
    "start_time": "2022-05-21T10:55:58.102Z"
   },
   {
    "duration": 9,
    "start_time": "2022-05-21T10:55:58.127Z"
   },
   {
    "duration": 378,
    "start_time": "2022-05-21T10:55:58.137Z"
   },
   {
    "duration": 38,
    "start_time": "2022-05-21T10:55:58.522Z"
   },
   {
    "duration": 44,
    "start_time": "2022-05-21T10:55:58.561Z"
   },
   {
    "duration": 50,
    "start_time": "2022-05-21T10:55:58.607Z"
   },
   {
    "duration": 4,
    "start_time": "2022-05-21T10:55:58.659Z"
   },
   {
    "duration": 127,
    "start_time": "2022-05-21T10:55:58.665Z"
   },
   {
    "duration": 14,
    "start_time": "2022-05-21T10:55:58.794Z"
   },
   {
    "duration": 46,
    "start_time": "2022-05-21T10:55:58.810Z"
   },
   {
    "duration": 36,
    "start_time": "2022-05-21T10:55:58.857Z"
   },
   {
    "duration": 77,
    "start_time": "2022-05-21T10:55:58.894Z"
   },
   {
    "duration": 171,
    "start_time": "2022-05-21T10:55:58.973Z"
   },
   {
    "duration": 18,
    "start_time": "2022-05-21T10:55:59.145Z"
   },
   {
    "duration": 390,
    "start_time": "2022-05-21T10:55:59.165Z"
   },
   {
    "duration": 291,
    "start_time": "2022-05-21T10:55:59.557Z"
   },
   {
    "duration": 165,
    "start_time": "2022-05-21T10:55:59.851Z"
   },
   {
    "duration": 130,
    "start_time": "2022-05-21T10:56:00.018Z"
   },
   {
    "duration": 310,
    "start_time": "2022-05-21T10:56:00.149Z"
   },
   {
    "duration": 641,
    "start_time": "2022-05-21T10:56:00.461Z"
   },
   {
    "duration": 31,
    "start_time": "2022-05-21T10:56:01.104Z"
   },
   {
    "duration": 143,
    "start_time": "2022-05-21T10:56:01.137Z"
   },
   {
    "duration": 14,
    "start_time": "2022-05-21T10:56:01.284Z"
   },
   {
    "duration": 51,
    "start_time": "2022-05-21T10:56:01.300Z"
   },
   {
    "duration": 14,
    "start_time": "2022-05-21T10:56:01.355Z"
   },
   {
    "duration": 68,
    "start_time": "2022-05-21T10:56:01.371Z"
   },
   {
    "duration": 22,
    "start_time": "2022-05-21T10:56:01.443Z"
   },
   {
    "duration": 115,
    "start_time": "2022-05-21T10:56:01.467Z"
   },
   {
    "duration": 74,
    "start_time": "2022-05-21T10:56:01.584Z"
   },
   {
    "duration": 47,
    "start_time": "2022-05-21T10:56:01.660Z"
   },
   {
    "duration": 54,
    "start_time": "2022-05-21T11:10:20.925Z"
   },
   {
    "duration": 52,
    "start_time": "2022-05-21T11:11:22.336Z"
   },
   {
    "duration": 60,
    "start_time": "2022-05-21T11:11:36.478Z"
   },
   {
    "duration": 15,
    "start_time": "2022-05-21T11:22:05.617Z"
   },
   {
    "duration": 120,
    "start_time": "2022-05-21T11:22:58.972Z"
   },
   {
    "duration": 18,
    "start_time": "2022-05-21T11:23:06.807Z"
   },
   {
    "duration": 19,
    "start_time": "2022-05-21T11:23:28.176Z"
   },
   {
    "duration": 171,
    "start_time": "2022-05-21T11:23:33.831Z"
   },
   {
    "duration": 161,
    "start_time": "2022-05-21T11:23:39.895Z"
   },
   {
    "duration": 208,
    "start_time": "2022-05-21T11:23:43.023Z"
   },
   {
    "duration": 29,
    "start_time": "2022-05-21T11:24:05.071Z"
   },
   {
    "duration": 22,
    "start_time": "2022-05-21T11:25:49.902Z"
   },
   {
    "duration": 23,
    "start_time": "2022-05-21T11:29:12.226Z"
   },
   {
    "duration": 21,
    "start_time": "2022-05-21T11:29:28.409Z"
   },
   {
    "duration": 10,
    "start_time": "2022-05-21T11:30:37.279Z"
   },
   {
    "duration": 28,
    "start_time": "2022-05-21T11:30:42.687Z"
   },
   {
    "duration": 26,
    "start_time": "2022-05-21T11:34:43.892Z"
   },
   {
    "duration": 65,
    "start_time": "2022-05-21T11:35:33.507Z"
   },
   {
    "duration": 26,
    "start_time": "2022-05-21T11:36:29.313Z"
   },
   {
    "duration": 23,
    "start_time": "2022-05-21T11:37:10.168Z"
   },
   {
    "duration": 28,
    "start_time": "2022-05-21T11:37:41.263Z"
   },
   {
    "duration": 23,
    "start_time": "2022-05-21T11:38:08.312Z"
   },
   {
    "duration": 27,
    "start_time": "2022-05-21T11:38:11.791Z"
   },
   {
    "duration": 31,
    "start_time": "2022-05-21T11:38:13.830Z"
   },
   {
    "duration": 250,
    "start_time": "2022-05-21T11:39:43.163Z"
   },
   {
    "duration": 374,
    "start_time": "2022-05-21T11:57:26.169Z"
   },
   {
    "duration": 330,
    "start_time": "2022-05-21T11:57:35.268Z"
   },
   {
    "duration": 432,
    "start_time": "2022-05-21T11:57:43.227Z"
   },
   {
    "duration": 428,
    "start_time": "2022-05-21T11:57:59.225Z"
   },
   {
    "duration": 583,
    "start_time": "2022-05-21T11:58:12.313Z"
   },
   {
    "duration": 842,
    "start_time": "2022-05-21T11:58:22.737Z"
   },
   {
    "duration": 4,
    "start_time": "2022-05-21T11:58:30.631Z"
   },
   {
    "duration": 18,
    "start_time": "2022-05-21T11:58:30.637Z"
   },
   {
    "duration": 368,
    "start_time": "2022-05-21T11:58:30.658Z"
   },
   {
    "duration": 137,
    "start_time": "2022-05-21T11:58:31.029Z"
   },
   {
    "duration": 59,
    "start_time": "2022-05-21T11:58:31.168Z"
   },
   {
    "duration": 32,
    "start_time": "2022-05-21T11:58:31.228Z"
   },
   {
    "duration": 6,
    "start_time": "2022-05-21T11:58:31.262Z"
   },
   {
    "duration": 137,
    "start_time": "2022-05-21T11:58:31.269Z"
   },
   {
    "duration": 22,
    "start_time": "2022-05-21T11:58:31.408Z"
   },
   {
    "duration": 31,
    "start_time": "2022-05-21T11:58:31.432Z"
   },
   {
    "duration": 32,
    "start_time": "2022-05-21T11:58:31.464Z"
   },
   {
    "duration": 51,
    "start_time": "2022-05-21T11:58:31.498Z"
   },
   {
    "duration": 145,
    "start_time": "2022-05-21T11:58:31.551Z"
   },
   {
    "duration": 15,
    "start_time": "2022-05-21T11:58:31.698Z"
   },
   {
    "duration": 279,
    "start_time": "2022-05-21T11:58:31.724Z"
   },
   {
    "duration": 284,
    "start_time": "2022-05-21T11:58:32.005Z"
   },
   {
    "duration": 167,
    "start_time": "2022-05-21T11:58:32.291Z"
   },
   {
    "duration": 127,
    "start_time": "2022-05-21T11:58:32.459Z"
   },
   {
    "duration": 335,
    "start_time": "2022-05-21T11:58:32.588Z"
   },
   {
    "duration": 550,
    "start_time": "2022-05-21T11:58:32.925Z"
   },
   {
    "duration": 24,
    "start_time": "2022-05-21T11:58:33.476Z"
   },
   {
    "duration": 152,
    "start_time": "2022-05-21T11:58:33.501Z"
   },
   {
    "duration": 14,
    "start_time": "2022-05-21T11:58:33.654Z"
   },
   {
    "duration": 27,
    "start_time": "2022-05-21T11:58:33.671Z"
   },
   {
    "duration": 23,
    "start_time": "2022-05-21T11:58:33.700Z"
   },
   {
    "duration": 49,
    "start_time": "2022-05-21T11:58:33.725Z"
   },
   {
    "duration": 14,
    "start_time": "2022-05-21T11:58:33.776Z"
   },
   {
    "duration": 107,
    "start_time": "2022-05-21T11:58:33.792Z"
   },
   {
    "duration": 73,
    "start_time": "2022-05-21T11:58:33.901Z"
   },
   {
    "duration": 63,
    "start_time": "2022-05-21T11:58:33.976Z"
   },
   {
    "duration": 411,
    "start_time": "2022-05-21T11:58:34.041Z"
   },
   {
    "duration": 20,
    "start_time": "2022-05-21T11:58:48.809Z"
   },
   {
    "duration": 28,
    "start_time": "2022-05-21T11:59:05.016Z"
   },
   {
    "duration": 33,
    "start_time": "2022-05-21T11:59:34.385Z"
   },
   {
    "duration": 34,
    "start_time": "2022-05-21T12:00:41.174Z"
   },
   {
    "duration": 48,
    "start_time": "2022-05-21T12:03:20.978Z"
   },
   {
    "duration": 29,
    "start_time": "2022-05-21T12:04:06.723Z"
   },
   {
    "duration": 41,
    "start_time": "2022-05-21T12:04:30.184Z"
   },
   {
    "duration": 4,
    "start_time": "2022-05-21T12:05:45.670Z"
   },
   {
    "duration": 14,
    "start_time": "2022-05-21T12:06:07.904Z"
   },
   {
    "duration": 6,
    "start_time": "2022-05-21T12:06:09.504Z"
   },
   {
    "duration": 5,
    "start_time": "2022-05-21T12:06:18.279Z"
   },
   {
    "duration": 4,
    "start_time": "2022-05-21T12:06:24.737Z"
   },
   {
    "duration": 21,
    "start_time": "2022-05-21T12:06:27.399Z"
   },
   {
    "duration": 14,
    "start_time": "2022-05-21T12:06:55.695Z"
   },
   {
    "duration": 3,
    "start_time": "2022-05-21T12:07:18.596Z"
   },
   {
    "duration": 9,
    "start_time": "2022-05-21T12:07:18.601Z"
   },
   {
    "duration": 371,
    "start_time": "2022-05-21T12:07:18.611Z"
   },
   {
    "duration": 29,
    "start_time": "2022-05-21T12:07:18.984Z"
   },
   {
    "duration": 50,
    "start_time": "2022-05-21T12:07:19.023Z"
   },
   {
    "duration": 32,
    "start_time": "2022-05-21T12:07:19.075Z"
   },
   {
    "duration": 4,
    "start_time": "2022-05-21T12:07:19.122Z"
   },
   {
    "duration": 123,
    "start_time": "2022-05-21T12:07:19.128Z"
   },
   {
    "duration": 21,
    "start_time": "2022-05-21T12:07:19.254Z"
   },
   {
    "duration": 28,
    "start_time": "2022-05-21T12:07:19.277Z"
   },
   {
    "duration": 50,
    "start_time": "2022-05-21T12:07:19.307Z"
   },
   {
    "duration": 44,
    "start_time": "2022-05-21T12:07:19.359Z"
   },
   {
    "duration": 181,
    "start_time": "2022-05-21T12:07:19.404Z"
   },
   {
    "duration": 15,
    "start_time": "2022-05-21T12:07:19.587Z"
   },
   {
    "duration": 287,
    "start_time": "2022-05-21T12:07:19.605Z"
   },
   {
    "duration": 270,
    "start_time": "2022-05-21T12:07:19.894Z"
   },
   {
    "duration": 166,
    "start_time": "2022-05-21T12:07:20.166Z"
   },
   {
    "duration": 115,
    "start_time": "2022-05-21T12:07:20.334Z"
   },
   {
    "duration": 272,
    "start_time": "2022-05-21T12:07:20.451Z"
   },
   {
    "duration": 565,
    "start_time": "2022-05-21T12:07:20.724Z"
   },
   {
    "duration": 33,
    "start_time": "2022-05-21T12:07:21.291Z"
   },
   {
    "duration": 259,
    "start_time": "2022-05-21T12:07:21.326Z"
   },
   {
    "duration": 15,
    "start_time": "2022-05-21T12:07:21.587Z"
   },
   {
    "duration": 43,
    "start_time": "2022-05-21T12:07:21.605Z"
   },
   {
    "duration": 4,
    "start_time": "2022-05-21T12:07:21.649Z"
   },
   {
    "duration": 68,
    "start_time": "2022-05-21T12:07:21.655Z"
   },
   {
    "duration": 15,
    "start_time": "2022-05-21T12:07:21.725Z"
   },
   {
    "duration": 117,
    "start_time": "2022-05-21T12:07:21.742Z"
   },
   {
    "duration": 73,
    "start_time": "2022-05-21T12:07:21.861Z"
   },
   {
    "duration": 55,
    "start_time": "2022-05-21T12:07:21.936Z"
   },
   {
    "duration": 30,
    "start_time": "2022-05-21T12:07:21.994Z"
   },
   {
    "duration": 24,
    "start_time": "2022-05-21T12:07:22.027Z"
   },
   {
    "duration": 0,
    "start_time": "2022-05-21T12:07:22.053Z"
   },
   {
    "duration": 36,
    "start_time": "2022-05-21T12:07:41.973Z"
   },
   {
    "duration": 35,
    "start_time": "2022-05-21T12:08:12.085Z"
   },
   {
    "duration": 25,
    "start_time": "2022-05-21T12:08:25.337Z"
   },
   {
    "duration": 24,
    "start_time": "2022-05-21T12:08:37.166Z"
   },
   {
    "duration": 40,
    "start_time": "2022-05-21T12:09:12.844Z"
   },
   {
    "duration": 39,
    "start_time": "2022-05-21T12:09:35.540Z"
   },
   {
    "duration": 56,
    "start_time": "2022-05-21T12:09:57.916Z"
   },
   {
    "duration": 25,
    "start_time": "2022-05-21T12:10:01.074Z"
   },
   {
    "duration": 33,
    "start_time": "2022-05-21T12:10:08.314Z"
   },
   {
    "duration": 26,
    "start_time": "2022-05-21T12:10:24.523Z"
   },
   {
    "duration": 33,
    "start_time": "2022-05-21T12:10:33.171Z"
   },
   {
    "duration": 30,
    "start_time": "2022-05-21T12:11:55.337Z"
   },
   {
    "duration": 29,
    "start_time": "2022-05-21T12:13:07.478Z"
   },
   {
    "duration": 27,
    "start_time": "2022-05-21T12:13:12.272Z"
   },
   {
    "duration": 38,
    "start_time": "2022-05-21T12:13:22.966Z"
   },
   {
    "duration": 37,
    "start_time": "2022-05-21T12:15:11.622Z"
   },
   {
    "duration": 11,
    "start_time": "2022-05-21T13:19:13.036Z"
   },
   {
    "duration": 13,
    "start_time": "2022-05-21T13:19:21.404Z"
   },
   {
    "duration": 586,
    "start_time": "2022-05-21T13:20:05.194Z"
   },
   {
    "duration": 10,
    "start_time": "2022-05-21T13:20:48.088Z"
   },
   {
    "duration": 10,
    "start_time": "2022-05-21T13:20:53.010Z"
   },
   {
    "duration": 1892,
    "start_time": "2022-05-21T13:20:57.186Z"
   },
   {
    "duration": 574,
    "start_time": "2022-05-21T13:21:57.536Z"
   },
   {
    "duration": 499,
    "start_time": "2022-05-21T13:22:20.079Z"
   },
   {
    "duration": 10,
    "start_time": "2022-05-21T13:22:27.470Z"
   },
   {
    "duration": 1296,
    "start_time": "2022-05-21T13:25:12.584Z"
   },
   {
    "duration": 5,
    "start_time": "2022-05-21T13:25:13.882Z"
   },
   {
    "duration": 412,
    "start_time": "2022-05-21T13:25:13.889Z"
   },
   {
    "duration": 34,
    "start_time": "2022-05-21T13:25:14.303Z"
   },
   {
    "duration": 46,
    "start_time": "2022-05-21T13:25:14.338Z"
   },
   {
    "duration": 55,
    "start_time": "2022-05-21T13:25:14.385Z"
   },
   {
    "duration": 11,
    "start_time": "2022-05-21T13:25:14.442Z"
   },
   {
    "duration": 143,
    "start_time": "2022-05-21T13:25:14.456Z"
   },
   {
    "duration": 14,
    "start_time": "2022-05-21T13:25:14.600Z"
   },
   {
    "duration": 42,
    "start_time": "2022-05-21T13:25:14.625Z"
   },
   {
    "duration": 39,
    "start_time": "2022-05-21T13:25:14.668Z"
   },
   {
    "duration": 70,
    "start_time": "2022-05-21T13:25:14.708Z"
   },
   {
    "duration": 183,
    "start_time": "2022-05-21T13:25:14.779Z"
   },
   {
    "duration": 16,
    "start_time": "2022-05-21T13:25:14.964Z"
   },
   {
    "duration": 520,
    "start_time": "2022-05-21T13:25:14.981Z"
   },
   {
    "duration": 285,
    "start_time": "2022-05-21T13:25:15.503Z"
   },
   {
    "duration": 179,
    "start_time": "2022-05-21T13:25:15.790Z"
   },
   {
    "duration": 132,
    "start_time": "2022-05-21T13:25:15.972Z"
   },
   {
    "duration": 300,
    "start_time": "2022-05-21T13:25:16.106Z"
   },
   {
    "duration": 636,
    "start_time": "2022-05-21T13:25:16.408Z"
   },
   {
    "duration": 27,
    "start_time": "2022-05-21T13:25:17.046Z"
   },
   {
    "duration": 169,
    "start_time": "2022-05-21T13:25:17.075Z"
   },
   {
    "duration": 15,
    "start_time": "2022-05-21T13:25:17.246Z"
   },
   {
    "duration": 33,
    "start_time": "2022-05-21T13:25:17.263Z"
   },
   {
    "duration": 26,
    "start_time": "2022-05-21T13:25:17.298Z"
   },
   {
    "duration": 85,
    "start_time": "2022-05-21T13:25:17.326Z"
   },
   {
    "duration": 24,
    "start_time": "2022-05-21T13:25:17.413Z"
   },
   {
    "duration": 99,
    "start_time": "2022-05-21T13:25:17.441Z"
   },
   {
    "duration": 94,
    "start_time": "2022-05-21T13:25:17.542Z"
   },
   {
    "duration": 67,
    "start_time": "2022-05-21T13:25:17.638Z"
   },
   {
    "duration": 56,
    "start_time": "2022-05-21T13:25:17.707Z"
   },
   {
    "duration": 25,
    "start_time": "2022-05-21T13:25:17.765Z"
   },
   {
    "duration": 44,
    "start_time": "2022-05-21T13:25:17.792Z"
   },
   {
    "duration": 24,
    "start_time": "2022-05-21T13:25:17.839Z"
   },
   {
    "duration": 30,
    "start_time": "2022-05-21T13:25:17.865Z"
   },
   {
    "duration": 1364,
    "start_time": "2022-05-22T07:54:36.124Z"
   },
   {
    "duration": 4,
    "start_time": "2022-05-22T07:54:37.491Z"
   },
   {
    "duration": 679,
    "start_time": "2022-05-22T07:54:37.496Z"
   },
   {
    "duration": 47,
    "start_time": "2022-05-22T07:54:38.177Z"
   },
   {
    "duration": 68,
    "start_time": "2022-05-22T07:54:38.226Z"
   },
   {
    "duration": 35,
    "start_time": "2022-05-22T07:54:38.295Z"
   },
   {
    "duration": 4,
    "start_time": "2022-05-22T07:54:38.332Z"
   },
   {
    "duration": 120,
    "start_time": "2022-05-22T07:54:38.337Z"
   },
   {
    "duration": 13,
    "start_time": "2022-05-22T07:54:38.459Z"
   },
   {
    "duration": 38,
    "start_time": "2022-05-22T07:54:38.474Z"
   },
   {
    "duration": 44,
    "start_time": "2022-05-22T07:54:38.514Z"
   },
   {
    "duration": 43,
    "start_time": "2022-05-22T07:54:38.560Z"
   },
   {
    "duration": 167,
    "start_time": "2022-05-22T07:54:38.604Z"
   },
   {
    "duration": 15,
    "start_time": "2022-05-22T07:54:38.773Z"
   },
   {
    "duration": 466,
    "start_time": "2022-05-22T07:54:38.790Z"
   },
   {
    "duration": 251,
    "start_time": "2022-05-22T07:54:39.258Z"
   },
   {
    "duration": 152,
    "start_time": "2022-05-22T07:54:39.511Z"
   },
   {
    "duration": 109,
    "start_time": "2022-05-22T07:54:39.665Z"
   },
   {
    "duration": 265,
    "start_time": "2022-05-22T07:54:39.775Z"
   },
   {
    "duration": 543,
    "start_time": "2022-05-22T07:54:40.042Z"
   },
   {
    "duration": 24,
    "start_time": "2022-05-22T07:54:40.587Z"
   },
   {
    "duration": 136,
    "start_time": "2022-05-22T07:54:40.622Z"
   },
   {
    "duration": 15,
    "start_time": "2022-05-22T07:54:40.760Z"
   },
   {
    "duration": 49,
    "start_time": "2022-05-22T07:54:40.777Z"
   },
   {
    "duration": 4,
    "start_time": "2022-05-22T07:54:40.828Z"
   },
   {
    "duration": 51,
    "start_time": "2022-05-22T07:54:40.833Z"
   },
   {
    "duration": 14,
    "start_time": "2022-05-22T07:54:40.886Z"
   },
   {
    "duration": 103,
    "start_time": "2022-05-22T07:54:40.923Z"
   },
   {
    "duration": 57,
    "start_time": "2022-05-22T07:54:41.028Z"
   },
   {
    "duration": 75,
    "start_time": "2022-05-22T07:54:41.088Z"
   },
   {
    "duration": 30,
    "start_time": "2022-05-22T07:54:41.165Z"
   },
   {
    "duration": 43,
    "start_time": "2022-05-22T07:54:41.197Z"
   },
   {
    "duration": 23,
    "start_time": "2022-05-22T07:54:41.242Z"
   },
   {
    "duration": 26,
    "start_time": "2022-05-22T07:54:41.267Z"
   },
   {
    "duration": 56,
    "start_time": "2022-05-22T07:54:41.295Z"
   },
   {
    "duration": 131,
    "start_time": "2022-05-22T08:19:44.112Z"
   },
   {
    "duration": 11,
    "start_time": "2022-05-22T08:19:59.281Z"
   },
   {
    "duration": 383,
    "start_time": "2022-05-22T08:22:52.382Z"
   },
   {
    "duration": 4,
    "start_time": "2022-05-22T08:22:59.490Z"
   },
   {
    "duration": 6,
    "start_time": "2022-05-22T08:22:59.496Z"
   },
   {
    "duration": 364,
    "start_time": "2022-05-22T08:22:59.504Z"
   },
   {
    "duration": 27,
    "start_time": "2022-05-22T08:22:59.870Z"
   },
   {
    "duration": 56,
    "start_time": "2022-05-22T08:22:59.898Z"
   },
   {
    "duration": 45,
    "start_time": "2022-05-22T08:22:59.956Z"
   },
   {
    "duration": 22,
    "start_time": "2022-05-22T08:23:00.003Z"
   },
   {
    "duration": 135,
    "start_time": "2022-05-22T08:23:00.026Z"
   },
   {
    "duration": 15,
    "start_time": "2022-05-22T08:23:00.164Z"
   },
   {
    "duration": 30,
    "start_time": "2022-05-22T08:23:00.181Z"
   },
   {
    "duration": 34,
    "start_time": "2022-05-22T08:23:00.223Z"
   },
   {
    "duration": 65,
    "start_time": "2022-05-22T08:23:00.259Z"
   },
   {
    "duration": 149,
    "start_time": "2022-05-22T08:23:00.326Z"
   },
   {
    "duration": 15,
    "start_time": "2022-05-22T08:23:00.477Z"
   },
   {
    "duration": 286,
    "start_time": "2022-05-22T08:23:00.493Z"
   },
   {
    "duration": 254,
    "start_time": "2022-05-22T08:23:00.780Z"
   },
   {
    "duration": 173,
    "start_time": "2022-05-22T08:23:01.035Z"
   },
   {
    "duration": 119,
    "start_time": "2022-05-22T08:23:01.210Z"
   },
   {
    "duration": 265,
    "start_time": "2022-05-22T08:23:01.331Z"
   },
   {
    "duration": 668,
    "start_time": "2022-05-22T08:23:01.598Z"
   },
   {
    "duration": 24,
    "start_time": "2022-05-22T08:23:02.268Z"
   },
   {
    "duration": 150,
    "start_time": "2022-05-22T08:23:02.293Z"
   },
   {
    "duration": 13,
    "start_time": "2022-05-22T08:23:02.445Z"
   },
   {
    "duration": 30,
    "start_time": "2022-05-22T08:23:02.461Z"
   },
   {
    "duration": 5,
    "start_time": "2022-05-22T08:23:02.492Z"
   },
   {
    "duration": 64,
    "start_time": "2022-05-22T08:23:02.523Z"
   },
   {
    "duration": 16,
    "start_time": "2022-05-22T08:23:02.589Z"
   },
   {
    "duration": 119,
    "start_time": "2022-05-22T08:23:02.623Z"
   },
   {
    "duration": 53,
    "start_time": "2022-05-22T08:23:02.744Z"
   },
   {
    "duration": 65,
    "start_time": "2022-05-22T08:23:02.798Z"
   },
   {
    "duration": 29,
    "start_time": "2022-05-22T08:23:02.865Z"
   },
   {
    "duration": 31,
    "start_time": "2022-05-22T08:23:02.895Z"
   },
   {
    "duration": 20,
    "start_time": "2022-05-22T08:23:02.927Z"
   },
   {
    "duration": 20,
    "start_time": "2022-05-22T08:23:02.949Z"
   },
   {
    "duration": 53,
    "start_time": "2022-05-22T08:23:02.971Z"
   },
   {
    "duration": 1076,
    "start_time": "2022-05-22T08:23:03.026Z"
   },
   {
    "duration": 39,
    "start_time": "2022-05-22T08:28:47.671Z"
   },
   {
    "duration": 95,
    "start_time": "2022-05-22T08:28:50.615Z"
   },
   {
    "duration": 15,
    "start_time": "2022-05-22T08:30:39.959Z"
   },
   {
    "duration": 13,
    "start_time": "2022-05-22T08:30:44.285Z"
   },
   {
    "duration": 13,
    "start_time": "2022-05-22T08:30:46.003Z"
   },
   {
    "duration": 12,
    "start_time": "2022-05-22T08:31:23.228Z"
   },
   {
    "duration": 84,
    "start_time": "2022-05-22T08:34:47.512Z"
   },
   {
    "duration": 3,
    "start_time": "2022-05-22T08:34:53.809Z"
   },
   {
    "duration": 8,
    "start_time": "2022-05-22T08:34:53.814Z"
   },
   {
    "duration": 363,
    "start_time": "2022-05-22T08:34:53.823Z"
   },
   {
    "duration": 26,
    "start_time": "2022-05-22T08:34:54.188Z"
   },
   {
    "duration": 44,
    "start_time": "2022-05-22T08:34:54.223Z"
   },
   {
    "duration": 32,
    "start_time": "2022-05-22T08:34:54.268Z"
   },
   {
    "duration": 3,
    "start_time": "2022-05-22T08:34:54.302Z"
   },
   {
    "duration": 111,
    "start_time": "2022-05-22T08:34:54.323Z"
   },
   {
    "duration": 13,
    "start_time": "2022-05-22T08:34:54.437Z"
   },
   {
    "duration": 25,
    "start_time": "2022-05-22T08:34:54.452Z"
   },
   {
    "duration": 47,
    "start_time": "2022-05-22T08:34:54.479Z"
   },
   {
    "duration": 39,
    "start_time": "2022-05-22T08:34:54.527Z"
   },
   {
    "duration": 147,
    "start_time": "2022-05-22T08:34:54.568Z"
   },
   {
    "duration": 13,
    "start_time": "2022-05-22T08:34:54.717Z"
   },
   {
    "duration": 259,
    "start_time": "2022-05-22T08:34:54.732Z"
   },
   {
    "duration": 237,
    "start_time": "2022-05-22T08:34:54.992Z"
   },
   {
    "duration": 153,
    "start_time": "2022-05-22T08:34:55.231Z"
   },
   {
    "duration": 110,
    "start_time": "2022-05-22T08:34:55.386Z"
   },
   {
    "duration": 262,
    "start_time": "2022-05-22T08:34:55.497Z"
   },
   {
    "duration": 597,
    "start_time": "2022-05-22T08:34:55.761Z"
   },
   {
    "duration": 29,
    "start_time": "2022-05-22T08:34:56.360Z"
   },
   {
    "duration": 140,
    "start_time": "2022-05-22T08:34:56.390Z"
   },
   {
    "duration": 12,
    "start_time": "2022-05-22T08:34:56.532Z"
   },
   {
    "duration": 33,
    "start_time": "2022-05-22T08:34:56.547Z"
   },
   {
    "duration": 4,
    "start_time": "2022-05-22T08:34:56.582Z"
   },
   {
    "duration": 65,
    "start_time": "2022-05-22T08:34:56.587Z"
   },
   {
    "duration": 14,
    "start_time": "2022-05-22T08:34:56.654Z"
   },
   {
    "duration": 96,
    "start_time": "2022-05-22T08:34:56.670Z"
   },
   {
    "duration": 66,
    "start_time": "2022-05-22T08:34:56.768Z"
   },
   {
    "duration": 45,
    "start_time": "2022-05-22T08:34:56.835Z"
   },
   {
    "duration": 41,
    "start_time": "2022-05-22T08:34:56.882Z"
   },
   {
    "duration": 23,
    "start_time": "2022-05-22T08:34:56.924Z"
   },
   {
    "duration": 21,
    "start_time": "2022-05-22T08:34:56.948Z"
   },
   {
    "duration": 22,
    "start_time": "2022-05-22T08:34:56.971Z"
   },
   {
    "duration": 55,
    "start_time": "2022-05-22T08:34:56.994Z"
   },
   {
    "duration": 50,
    "start_time": "2022-05-22T08:34:57.051Z"
   },
   {
    "duration": 21,
    "start_time": "2022-05-22T08:52:38.276Z"
   },
   {
    "duration": 36,
    "start_time": "2022-05-22T08:52:44.804Z"
   },
   {
    "duration": 27,
    "start_time": "2022-05-22T08:53:01.564Z"
   },
   {
    "duration": 47,
    "start_time": "2022-05-22T08:53:42.754Z"
   },
   {
    "duration": 24,
    "start_time": "2022-05-22T08:53:59.847Z"
   },
   {
    "duration": 28,
    "start_time": "2022-05-22T08:54:11.091Z"
   },
   {
    "duration": 49,
    "start_time": "2022-05-22T08:54:15.658Z"
   },
   {
    "duration": 3,
    "start_time": "2022-05-22T08:54:19.986Z"
   },
   {
    "duration": 3,
    "start_time": "2022-05-22T08:54:19.998Z"
   },
   {
    "duration": 350,
    "start_time": "2022-05-22T08:54:20.003Z"
   },
   {
    "duration": 27,
    "start_time": "2022-05-22T08:54:20.354Z"
   },
   {
    "duration": 53,
    "start_time": "2022-05-22T08:54:20.382Z"
   },
   {
    "duration": 32,
    "start_time": "2022-05-22T08:54:20.438Z"
   },
   {
    "duration": 6,
    "start_time": "2022-05-22T08:54:20.471Z"
   },
   {
    "duration": 135,
    "start_time": "2022-05-22T08:54:20.479Z"
   },
   {
    "duration": 18,
    "start_time": "2022-05-22T08:54:20.616Z"
   },
   {
    "duration": 23,
    "start_time": "2022-05-22T08:54:20.636Z"
   },
   {
    "duration": 34,
    "start_time": "2022-05-22T08:54:20.660Z"
   },
   {
    "duration": 65,
    "start_time": "2022-05-22T08:54:20.696Z"
   },
   {
    "duration": 151,
    "start_time": "2022-05-22T08:54:20.763Z"
   },
   {
    "duration": 18,
    "start_time": "2022-05-22T08:54:20.916Z"
   },
   {
    "duration": 277,
    "start_time": "2022-05-22T08:54:20.937Z"
   },
   {
    "duration": 268,
    "start_time": "2022-05-22T08:54:21.217Z"
   },
   {
    "duration": 165,
    "start_time": "2022-05-22T08:54:21.487Z"
   },
   {
    "duration": 108,
    "start_time": "2022-05-22T08:54:21.654Z"
   },
   {
    "duration": 393,
    "start_time": "2022-05-22T08:54:21.763Z"
   },
   {
    "duration": 606,
    "start_time": "2022-05-22T08:54:22.158Z"
   },
   {
    "duration": 31,
    "start_time": "2022-05-22T08:54:22.766Z"
   },
   {
    "duration": 149,
    "start_time": "2022-05-22T08:54:22.799Z"
   },
   {
    "duration": 13,
    "start_time": "2022-05-22T08:54:22.950Z"
   },
   {
    "duration": 32,
    "start_time": "2022-05-22T08:54:22.965Z"
   },
   {
    "duration": 4,
    "start_time": "2022-05-22T08:54:22.998Z"
   },
   {
    "duration": 70,
    "start_time": "2022-05-22T08:54:23.003Z"
   },
   {
    "duration": 16,
    "start_time": "2022-05-22T08:54:23.075Z"
   },
   {
    "duration": 108,
    "start_time": "2022-05-22T08:54:23.092Z"
   },
   {
    "duration": 65,
    "start_time": "2022-05-22T08:54:23.202Z"
   },
   {
    "duration": 56,
    "start_time": "2022-05-22T08:54:23.268Z"
   },
   {
    "duration": 29,
    "start_time": "2022-05-22T08:54:23.325Z"
   },
   {
    "duration": 23,
    "start_time": "2022-05-22T08:54:23.356Z"
   },
   {
    "duration": 42,
    "start_time": "2022-05-22T08:54:23.381Z"
   },
   {
    "duration": 21,
    "start_time": "2022-05-22T08:54:23.424Z"
   },
   {
    "duration": 28,
    "start_time": "2022-05-22T08:54:23.447Z"
   },
   {
    "duration": 46,
    "start_time": "2022-05-22T08:54:23.477Z"
   },
   {
    "duration": 50,
    "start_time": "2022-05-22T08:54:23.525Z"
   },
   {
    "duration": 67,
    "start_time": "2022-05-22T08:54:23.577Z"
   },
   {
    "duration": 3,
    "start_time": "2022-05-22T08:54:32.413Z"
   },
   {
    "duration": 13,
    "start_time": "2022-05-22T08:54:32.418Z"
   },
   {
    "duration": 391,
    "start_time": "2022-05-22T08:54:32.433Z"
   },
   {
    "duration": 26,
    "start_time": "2022-05-22T08:54:32.826Z"
   },
   {
    "duration": 44,
    "start_time": "2022-05-22T08:54:32.853Z"
   },
   {
    "duration": 41,
    "start_time": "2022-05-22T08:54:32.899Z"
   },
   {
    "duration": 4,
    "start_time": "2022-05-22T08:54:32.942Z"
   },
   {
    "duration": 137,
    "start_time": "2022-05-22T08:54:32.947Z"
   },
   {
    "duration": 13,
    "start_time": "2022-05-22T08:54:33.087Z"
   },
   {
    "duration": 31,
    "start_time": "2022-05-22T08:54:33.101Z"
   },
   {
    "duration": 34,
    "start_time": "2022-05-22T08:54:33.134Z"
   },
   {
    "duration": 67,
    "start_time": "2022-05-22T08:54:33.171Z"
   },
   {
    "duration": 155,
    "start_time": "2022-05-22T08:54:33.239Z"
   },
   {
    "duration": 14,
    "start_time": "2022-05-22T08:54:33.396Z"
   },
   {
    "duration": 272,
    "start_time": "2022-05-22T08:54:33.411Z"
   },
   {
    "duration": 249,
    "start_time": "2022-05-22T08:54:33.685Z"
   },
   {
    "duration": 163,
    "start_time": "2022-05-22T08:54:33.936Z"
   },
   {
    "duration": 110,
    "start_time": "2022-05-22T08:54:34.101Z"
   },
   {
    "duration": 252,
    "start_time": "2022-05-22T08:54:34.213Z"
   },
   {
    "duration": 532,
    "start_time": "2022-05-22T08:54:34.467Z"
   },
   {
    "duration": 28,
    "start_time": "2022-05-22T08:54:35.001Z"
   },
   {
    "duration": 127,
    "start_time": "2022-05-22T08:54:35.031Z"
   },
   {
    "duration": 13,
    "start_time": "2022-05-22T08:54:35.160Z"
   },
   {
    "duration": 28,
    "start_time": "2022-05-22T08:54:35.175Z"
   },
   {
    "duration": 20,
    "start_time": "2022-05-22T08:54:35.205Z"
   },
   {
    "duration": 51,
    "start_time": "2022-05-22T08:54:35.227Z"
   },
   {
    "duration": 15,
    "start_time": "2022-05-22T08:54:35.279Z"
   },
   {
    "duration": 105,
    "start_time": "2022-05-22T08:54:35.295Z"
   },
   {
    "duration": 67,
    "start_time": "2022-05-22T08:54:35.402Z"
   },
   {
    "duration": 55,
    "start_time": "2022-05-22T08:54:35.471Z"
   },
   {
    "duration": 30,
    "start_time": "2022-05-22T08:54:35.528Z"
   },
   {
    "duration": 26,
    "start_time": "2022-05-22T08:54:35.559Z"
   },
   {
    "duration": 42,
    "start_time": "2022-05-22T08:54:35.587Z"
   },
   {
    "duration": 21,
    "start_time": "2022-05-22T08:54:35.631Z"
   },
   {
    "duration": 28,
    "start_time": "2022-05-22T08:54:35.654Z"
   },
   {
    "duration": 47,
    "start_time": "2022-05-22T08:54:35.683Z"
   },
   {
    "duration": 25,
    "start_time": "2022-05-22T08:54:35.731Z"
   },
   {
    "duration": 67,
    "start_time": "2022-05-22T08:54:35.758Z"
   },
   {
    "duration": 9,
    "start_time": "2022-05-22T08:54:57.922Z"
   },
   {
    "duration": 15,
    "start_time": "2022-05-22T08:54:57.936Z"
   },
   {
    "duration": 384,
    "start_time": "2022-05-22T08:54:57.953Z"
   },
   {
    "duration": 27,
    "start_time": "2022-05-22T08:54:58.338Z"
   },
   {
    "duration": 42,
    "start_time": "2022-05-22T08:54:58.367Z"
   },
   {
    "duration": 35,
    "start_time": "2022-05-22T08:54:58.425Z"
   },
   {
    "duration": 4,
    "start_time": "2022-05-22T08:54:58.461Z"
   },
   {
    "duration": 138,
    "start_time": "2022-05-22T08:54:58.467Z"
   },
   {
    "duration": 30,
    "start_time": "2022-05-22T08:54:58.607Z"
   },
   {
    "duration": 24,
    "start_time": "2022-05-22T08:54:58.639Z"
   },
   {
    "duration": 32,
    "start_time": "2022-05-22T08:54:58.665Z"
   },
   {
    "duration": 63,
    "start_time": "2022-05-22T08:54:58.699Z"
   },
   {
    "duration": 149,
    "start_time": "2022-05-22T08:54:58.764Z"
   },
   {
    "duration": 28,
    "start_time": "2022-05-22T08:54:58.915Z"
   },
   {
    "duration": 271,
    "start_time": "2022-05-22T08:54:58.946Z"
   },
   {
    "duration": 280,
    "start_time": "2022-05-22T08:54:59.218Z"
   },
   {
    "duration": 276,
    "start_time": "2022-05-22T08:54:59.500Z"
   },
   {
    "duration": 122,
    "start_time": "2022-05-22T08:54:59.778Z"
   },
   {
    "duration": 286,
    "start_time": "2022-05-22T08:54:59.901Z"
   },
   {
    "duration": 575,
    "start_time": "2022-05-22T08:55:00.189Z"
   },
   {
    "duration": 24,
    "start_time": "2022-05-22T08:55:00.766Z"
   },
   {
    "duration": 152,
    "start_time": "2022-05-22T08:55:00.791Z"
   },
   {
    "duration": 17,
    "start_time": "2022-05-22T08:55:00.946Z"
   },
   {
    "duration": 38,
    "start_time": "2022-05-22T08:55:00.964Z"
   },
   {
    "duration": 30,
    "start_time": "2022-05-22T08:55:01.004Z"
   },
   {
    "duration": 65,
    "start_time": "2022-05-22T08:55:01.037Z"
   },
   {
    "duration": 14,
    "start_time": "2022-05-22T08:55:01.104Z"
   },
   {
    "duration": 143,
    "start_time": "2022-05-22T08:55:01.120Z"
   },
   {
    "duration": 73,
    "start_time": "2022-05-22T08:55:01.266Z"
   },
   {
    "duration": 49,
    "start_time": "2022-05-22T08:55:01.341Z"
   },
   {
    "duration": 50,
    "start_time": "2022-05-22T08:55:01.392Z"
   },
   {
    "duration": 25,
    "start_time": "2022-05-22T08:55:01.443Z"
   },
   {
    "duration": 23,
    "start_time": "2022-05-22T08:55:01.470Z"
   },
   {
    "duration": 57,
    "start_time": "2022-05-22T08:55:01.495Z"
   },
   {
    "duration": 32,
    "start_time": "2022-05-22T08:55:01.554Z"
   },
   {
    "duration": 49,
    "start_time": "2022-05-22T08:55:01.588Z"
   },
   {
    "duration": 65,
    "start_time": "2022-05-22T08:55:01.644Z"
   },
   {
    "duration": 22,
    "start_time": "2022-05-22T08:56:15.480Z"
   },
   {
    "duration": 35,
    "start_time": "2022-05-22T08:57:28.936Z"
   },
   {
    "duration": 4,
    "start_time": "2022-05-22T08:58:24.743Z"
   },
   {
    "duration": 20,
    "start_time": "2022-05-22T08:58:33.157Z"
   },
   {
    "duration": 3,
    "start_time": "2022-05-22T08:58:35.672Z"
   },
   {
    "duration": 8,
    "start_time": "2022-05-22T08:58:35.677Z"
   },
   {
    "duration": 403,
    "start_time": "2022-05-22T08:58:35.687Z"
   },
   {
    "duration": 25,
    "start_time": "2022-05-22T08:58:36.092Z"
   },
   {
    "duration": 50,
    "start_time": "2022-05-22T08:58:36.119Z"
   },
   {
    "duration": 30,
    "start_time": "2022-05-22T08:58:36.171Z"
   },
   {
    "duration": 4,
    "start_time": "2022-05-22T08:58:36.202Z"
   },
   {
    "duration": 136,
    "start_time": "2022-05-22T08:58:36.207Z"
   },
   {
    "duration": 14,
    "start_time": "2022-05-22T08:58:36.347Z"
   },
   {
    "duration": 26,
    "start_time": "2022-05-22T08:58:36.363Z"
   },
   {
    "duration": 55,
    "start_time": "2022-05-22T08:58:36.391Z"
   },
   {
    "duration": 42,
    "start_time": "2022-05-22T08:58:36.448Z"
   },
   {
    "duration": 159,
    "start_time": "2022-05-22T08:58:36.491Z"
   },
   {
    "duration": 14,
    "start_time": "2022-05-22T08:58:36.652Z"
   },
   {
    "duration": 292,
    "start_time": "2022-05-22T08:58:36.669Z"
   },
   {
    "duration": 275,
    "start_time": "2022-05-22T08:58:36.963Z"
   },
   {
    "duration": 170,
    "start_time": "2022-05-22T08:58:37.239Z"
   },
   {
    "duration": 102,
    "start_time": "2022-05-22T08:58:37.410Z"
   },
   {
    "duration": 278,
    "start_time": "2022-05-22T08:58:37.514Z"
   },
   {
    "duration": 613,
    "start_time": "2022-05-22T08:58:37.794Z"
   },
   {
    "duration": 29,
    "start_time": "2022-05-22T08:58:38.409Z"
   },
   {
    "duration": 146,
    "start_time": "2022-05-22T08:58:38.439Z"
   },
   {
    "duration": 14,
    "start_time": "2022-05-22T08:58:38.587Z"
   },
   {
    "duration": 48,
    "start_time": "2022-05-22T08:58:38.604Z"
   },
   {
    "duration": 4,
    "start_time": "2022-05-22T08:58:38.654Z"
   },
   {
    "duration": 57,
    "start_time": "2022-05-22T08:58:38.660Z"
   },
   {
    "duration": 24,
    "start_time": "2022-05-22T08:58:38.719Z"
   },
   {
    "duration": 113,
    "start_time": "2022-05-22T08:58:38.744Z"
   },
   {
    "duration": 56,
    "start_time": "2022-05-22T08:58:38.859Z"
   },
   {
    "duration": 70,
    "start_time": "2022-05-22T08:58:38.917Z"
   },
   {
    "duration": 46,
    "start_time": "2022-05-22T08:58:38.988Z"
   },
   {
    "duration": 28,
    "start_time": "2022-05-22T08:58:39.037Z"
   },
   {
    "duration": 24,
    "start_time": "2022-05-22T08:58:39.066Z"
   },
   {
    "duration": 49,
    "start_time": "2022-05-22T08:58:39.092Z"
   },
   {
    "duration": 30,
    "start_time": "2022-05-22T08:58:39.142Z"
   },
   {
    "duration": 25,
    "start_time": "2022-05-22T08:58:39.174Z"
   },
   {
    "duration": 37,
    "start_time": "2022-05-22T08:58:39.201Z"
   },
   {
    "duration": 24,
    "start_time": "2022-05-22T08:58:39.240Z"
   },
   {
    "duration": 11,
    "start_time": "2022-05-22T09:00:33.508Z"
   },
   {
    "duration": 21,
    "start_time": "2022-05-22T09:00:36.843Z"
   },
   {
    "duration": 20,
    "start_time": "2022-05-22T09:01:05.482Z"
   },
   {
    "duration": 26,
    "start_time": "2022-05-22T09:01:09.636Z"
   },
   {
    "duration": 39,
    "start_time": "2022-05-22T09:01:11.922Z"
   },
   {
    "duration": 51,
    "start_time": "2022-05-22T09:01:23.103Z"
   },
   {
    "duration": 28,
    "start_time": "2022-05-22T09:02:36.818Z"
   },
   {
    "duration": 22,
    "start_time": "2022-05-22T09:02:46.850Z"
   },
   {
    "duration": 38,
    "start_time": "2022-05-22T09:03:11.915Z"
   },
   {
    "duration": 41,
    "start_time": "2022-05-22T09:03:16.698Z"
   },
   {
    "duration": 43,
    "start_time": "2022-05-22T09:04:03.156Z"
   },
   {
    "duration": 4,
    "start_time": "2022-05-22T09:04:06.955Z"
   },
   {
    "duration": 22,
    "start_time": "2022-05-22T09:04:06.961Z"
   },
   {
    "duration": 395,
    "start_time": "2022-05-22T09:04:06.985Z"
   },
   {
    "duration": 25,
    "start_time": "2022-05-22T09:04:07.382Z"
   },
   {
    "duration": 50,
    "start_time": "2022-05-22T09:04:07.408Z"
   },
   {
    "duration": 31,
    "start_time": "2022-05-22T09:04:07.460Z"
   },
   {
    "duration": 4,
    "start_time": "2022-05-22T09:04:07.492Z"
   },
   {
    "duration": 159,
    "start_time": "2022-05-22T09:04:07.498Z"
   },
   {
    "duration": 17,
    "start_time": "2022-05-22T09:04:07.669Z"
   },
   {
    "duration": 26,
    "start_time": "2022-05-22T09:04:07.688Z"
   },
   {
    "duration": 52,
    "start_time": "2022-05-22T09:04:07.716Z"
   },
   {
    "duration": 70,
    "start_time": "2022-05-22T09:04:07.770Z"
   },
   {
    "duration": 198,
    "start_time": "2022-05-22T09:04:07.843Z"
   },
   {
    "duration": 16,
    "start_time": "2022-05-22T09:04:08.043Z"
   },
   {
    "duration": 290,
    "start_time": "2022-05-22T09:04:08.061Z"
   },
   {
    "duration": 385,
    "start_time": "2022-05-22T09:04:08.353Z"
   },
   {
    "duration": 161,
    "start_time": "2022-05-22T09:04:08.740Z"
   },
   {
    "duration": 115,
    "start_time": "2022-05-22T09:04:08.903Z"
   },
   {
    "duration": 323,
    "start_time": "2022-05-22T09:04:09.019Z"
   },
   {
    "duration": 606,
    "start_time": "2022-05-22T09:04:09.343Z"
   },
   {
    "duration": 27,
    "start_time": "2022-05-22T09:04:09.951Z"
   },
   {
    "duration": 167,
    "start_time": "2022-05-22T09:04:09.980Z"
   },
   {
    "duration": 14,
    "start_time": "2022-05-22T09:04:10.148Z"
   },
   {
    "duration": 30,
    "start_time": "2022-05-22T09:04:10.166Z"
   },
   {
    "duration": 4,
    "start_time": "2022-05-22T09:04:10.198Z"
   },
   {
    "duration": 77,
    "start_time": "2022-05-22T09:04:10.203Z"
   },
   {
    "duration": 15,
    "start_time": "2022-05-22T09:04:10.282Z"
   },
   {
    "duration": 109,
    "start_time": "2022-05-22T09:04:10.298Z"
   },
   {
    "duration": 69,
    "start_time": "2022-05-22T09:04:10.408Z"
   },
   {
    "duration": 63,
    "start_time": "2022-05-22T09:04:10.479Z"
   },
   {
    "duration": 28,
    "start_time": "2022-05-22T09:04:10.544Z"
   },
   {
    "duration": 25,
    "start_time": "2022-05-22T09:04:10.574Z"
   },
   {
    "duration": 48,
    "start_time": "2022-05-22T09:04:10.600Z"
   },
   {
    "duration": 22,
    "start_time": "2022-05-22T09:04:10.649Z"
   },
   {
    "duration": 30,
    "start_time": "2022-05-22T09:04:10.673Z"
   },
   {
    "duration": 47,
    "start_time": "2022-05-22T09:04:10.705Z"
   },
   {
    "duration": 14,
    "start_time": "2022-05-22T09:04:10.754Z"
   },
   {
    "duration": 19,
    "start_time": "2022-05-22T09:04:10.769Z"
   },
   {
    "duration": 73,
    "start_time": "2022-05-22T09:04:10.790Z"
   },
   {
    "duration": 10,
    "start_time": "2022-05-22T09:09:58.964Z"
   },
   {
    "duration": 4,
    "start_time": "2022-05-22T09:10:19.336Z"
   },
   {
    "duration": 6,
    "start_time": "2022-05-22T09:10:19.342Z"
   },
   {
    "duration": 377,
    "start_time": "2022-05-22T09:10:19.349Z"
   },
   {
    "duration": 28,
    "start_time": "2022-05-22T09:10:19.735Z"
   },
   {
    "duration": 45,
    "start_time": "2022-05-22T09:10:19.765Z"
   },
   {
    "duration": 41,
    "start_time": "2022-05-22T09:10:19.811Z"
   },
   {
    "duration": 5,
    "start_time": "2022-05-22T09:10:19.853Z"
   },
   {
    "duration": 137,
    "start_time": "2022-05-22T09:10:19.860Z"
   },
   {
    "duration": 14,
    "start_time": "2022-05-22T09:10:19.999Z"
   },
   {
    "duration": 37,
    "start_time": "2022-05-22T09:10:20.023Z"
   },
   {
    "duration": 38,
    "start_time": "2022-05-22T09:10:20.070Z"
   },
   {
    "duration": 55,
    "start_time": "2022-05-22T09:10:20.110Z"
   },
   {
    "duration": 148,
    "start_time": "2022-05-22T09:10:20.167Z"
   },
   {
    "duration": 23,
    "start_time": "2022-05-22T09:10:20.318Z"
   },
   {
    "duration": 298,
    "start_time": "2022-05-22T09:10:20.343Z"
   },
   {
    "duration": 258,
    "start_time": "2022-05-22T09:10:20.643Z"
   },
   {
    "duration": 158,
    "start_time": "2022-05-22T09:10:20.902Z"
   },
   {
    "duration": 107,
    "start_time": "2022-05-22T09:10:21.061Z"
   },
   {
    "duration": 285,
    "start_time": "2022-05-22T09:10:21.169Z"
   },
   {
    "duration": 618,
    "start_time": "2022-05-22T09:10:21.456Z"
   },
   {
    "duration": 25,
    "start_time": "2022-05-22T09:10:22.076Z"
   },
   {
    "duration": 163,
    "start_time": "2022-05-22T09:10:22.103Z"
   },
   {
    "duration": 15,
    "start_time": "2022-05-22T09:10:22.268Z"
   },
   {
    "duration": 57,
    "start_time": "2022-05-22T09:10:22.285Z"
   },
   {
    "duration": 3,
    "start_time": "2022-05-22T09:10:22.344Z"
   },
   {
    "duration": 60,
    "start_time": "2022-05-22T09:10:22.349Z"
   },
   {
    "duration": 27,
    "start_time": "2022-05-22T09:10:22.411Z"
   },
   {
    "duration": 278,
    "start_time": "2022-05-22T09:10:22.441Z"
   },
   {
    "duration": 80,
    "start_time": "2022-05-22T09:10:22.721Z"
   },
   {
    "duration": 91,
    "start_time": "2022-05-22T09:10:22.804Z"
   },
   {
    "duration": 48,
    "start_time": "2022-05-22T09:10:22.897Z"
   },
   {
    "duration": 34,
    "start_time": "2022-05-22T09:10:22.947Z"
   },
   {
    "duration": 55,
    "start_time": "2022-05-22T09:10:22.983Z"
   },
   {
    "duration": 30,
    "start_time": "2022-05-22T09:10:23.040Z"
   },
   {
    "duration": 33,
    "start_time": "2022-05-22T09:10:23.072Z"
   },
   {
    "duration": 52,
    "start_time": "2022-05-22T09:10:23.107Z"
   },
   {
    "duration": 13,
    "start_time": "2022-05-22T09:10:23.161Z"
   },
   {
    "duration": 19,
    "start_time": "2022-05-22T09:10:23.176Z"
   },
   {
    "duration": 82,
    "start_time": "2022-05-22T09:10:23.196Z"
   },
   {
    "duration": 176,
    "start_time": "2022-05-22T09:10:23.281Z"
   },
   {
    "duration": 55,
    "start_time": "2022-05-22T09:11:45.843Z"
   },
   {
    "duration": 16,
    "start_time": "2022-05-22T09:11:57.993Z"
   },
   {
    "duration": 49,
    "start_time": "2022-05-22T09:15:55.021Z"
   },
   {
    "duration": 8,
    "start_time": "2022-05-22T09:18:41.568Z"
   },
   {
    "duration": 9,
    "start_time": "2022-05-22T09:19:03.794Z"
   },
   {
    "duration": 5,
    "start_time": "2022-05-22T09:19:11.876Z"
   },
   {
    "duration": 17,
    "start_time": "2022-05-22T09:19:15.138Z"
   },
   {
    "duration": 4,
    "start_time": "2022-05-22T09:19:22.896Z"
   },
   {
    "duration": 13,
    "start_time": "2022-05-22T09:19:22.901Z"
   },
   {
    "duration": 436,
    "start_time": "2022-05-22T09:19:22.916Z"
   },
   {
    "duration": 27,
    "start_time": "2022-05-22T09:19:23.354Z"
   },
   {
    "duration": 60,
    "start_time": "2022-05-22T09:19:23.383Z"
   },
   {
    "duration": 31,
    "start_time": "2022-05-22T09:19:23.445Z"
   },
   {
    "duration": 5,
    "start_time": "2022-05-22T09:19:23.478Z"
   },
   {
    "duration": 154,
    "start_time": "2022-05-22T09:19:23.484Z"
   },
   {
    "duration": 17,
    "start_time": "2022-05-22T09:19:23.641Z"
   },
   {
    "duration": 28,
    "start_time": "2022-05-22T09:19:23.659Z"
   },
   {
    "duration": 52,
    "start_time": "2022-05-22T09:19:23.689Z"
   },
   {
    "duration": 49,
    "start_time": "2022-05-22T09:19:23.743Z"
   },
   {
    "duration": 190,
    "start_time": "2022-05-22T09:19:23.794Z"
   },
   {
    "duration": 16,
    "start_time": "2022-05-22T09:19:23.986Z"
   },
   {
    "duration": 291,
    "start_time": "2022-05-22T09:19:24.004Z"
   },
   {
    "duration": 275,
    "start_time": "2022-05-22T09:19:24.297Z"
   },
   {
    "duration": 164,
    "start_time": "2022-05-22T09:19:24.573Z"
   },
   {
    "duration": 106,
    "start_time": "2022-05-22T09:19:24.738Z"
   },
   {
    "duration": 291,
    "start_time": "2022-05-22T09:19:24.846Z"
   },
   {
    "duration": 562,
    "start_time": "2022-05-22T09:19:25.139Z"
   },
   {
    "duration": 32,
    "start_time": "2022-05-22T09:19:25.703Z"
   },
   {
    "duration": 134,
    "start_time": "2022-05-22T09:19:25.737Z"
   },
   {
    "duration": 14,
    "start_time": "2022-05-22T09:19:25.873Z"
   },
   {
    "duration": 46,
    "start_time": "2022-05-22T09:19:25.891Z"
   },
   {
    "duration": 4,
    "start_time": "2022-05-22T09:19:25.939Z"
   },
   {
    "duration": 54,
    "start_time": "2022-05-22T09:19:25.952Z"
   },
   {
    "duration": 27,
    "start_time": "2022-05-22T09:19:26.008Z"
   },
   {
    "duration": 97,
    "start_time": "2022-05-22T09:19:26.037Z"
   },
   {
    "duration": 53,
    "start_time": "2022-05-22T09:19:26.136Z"
   },
   {
    "duration": 67,
    "start_time": "2022-05-22T09:19:26.190Z"
   },
   {
    "duration": 28,
    "start_time": "2022-05-22T09:19:26.259Z"
   },
   {
    "duration": 50,
    "start_time": "2022-05-22T09:19:26.289Z"
   },
   {
    "duration": 22,
    "start_time": "2022-05-22T09:19:26.341Z"
   },
   {
    "duration": 24,
    "start_time": "2022-05-22T09:19:26.365Z"
   },
   {
    "duration": 65,
    "start_time": "2022-05-22T09:19:26.391Z"
   },
   {
    "duration": 25,
    "start_time": "2022-05-22T09:19:26.458Z"
   },
   {
    "duration": 14,
    "start_time": "2022-05-22T09:19:26.484Z"
   },
   {
    "duration": 37,
    "start_time": "2022-05-22T09:19:26.500Z"
   },
   {
    "duration": 45,
    "start_time": "2022-05-22T09:19:26.539Z"
   },
   {
    "duration": 19,
    "start_time": "2022-05-22T09:19:26.585Z"
   },
   {
    "duration": 69,
    "start_time": "2022-05-22T09:19:26.605Z"
   },
   {
    "duration": 21,
    "start_time": "2022-05-22T09:19:43.713Z"
   },
   {
    "duration": 4,
    "start_time": "2022-05-22T09:19:49.983Z"
   },
   {
    "duration": 8,
    "start_time": "2022-05-22T09:19:49.989Z"
   },
   {
    "duration": 375,
    "start_time": "2022-05-22T09:19:49.999Z"
   },
   {
    "duration": 27,
    "start_time": "2022-05-22T09:19:50.375Z"
   },
   {
    "duration": 53,
    "start_time": "2022-05-22T09:19:50.404Z"
   },
   {
    "duration": 29,
    "start_time": "2022-05-22T09:19:50.459Z"
   },
   {
    "duration": 4,
    "start_time": "2022-05-22T09:19:50.490Z"
   },
   {
    "duration": 131,
    "start_time": "2022-05-22T09:19:50.495Z"
   },
   {
    "duration": 14,
    "start_time": "2022-05-22T09:19:50.635Z"
   },
   {
    "duration": 21,
    "start_time": "2022-05-22T09:19:50.651Z"
   },
   {
    "duration": 35,
    "start_time": "2022-05-22T09:19:50.674Z"
   },
   {
    "duration": 57,
    "start_time": "2022-05-22T09:19:50.710Z"
   },
   {
    "duration": 149,
    "start_time": "2022-05-22T09:19:50.769Z"
   },
   {
    "duration": 23,
    "start_time": "2022-05-22T09:19:50.920Z"
   },
   {
    "duration": 271,
    "start_time": "2022-05-22T09:19:50.945Z"
   },
   {
    "duration": 258,
    "start_time": "2022-05-22T09:19:51.217Z"
   },
   {
    "duration": 274,
    "start_time": "2022-05-22T09:19:51.477Z"
   },
   {
    "duration": 99,
    "start_time": "2022-05-22T09:19:51.753Z"
   },
   {
    "duration": 284,
    "start_time": "2022-05-22T09:19:51.854Z"
   },
   {
    "duration": 649,
    "start_time": "2022-05-22T09:19:52.140Z"
   },
   {
    "duration": 25,
    "start_time": "2022-05-22T09:19:52.791Z"
   },
   {
    "duration": 154,
    "start_time": "2022-05-22T09:19:52.834Z"
   },
   {
    "duration": 14,
    "start_time": "2022-05-22T09:19:52.990Z"
   },
   {
    "duration": 42,
    "start_time": "2022-05-22T09:19:53.005Z"
   },
   {
    "duration": 4,
    "start_time": "2022-05-22T09:19:53.049Z"
   },
   {
    "duration": 56,
    "start_time": "2022-05-22T09:19:53.055Z"
   },
   {
    "duration": 15,
    "start_time": "2022-05-22T09:19:53.134Z"
   },
   {
    "duration": 104,
    "start_time": "2022-05-22T09:19:53.152Z"
   },
   {
    "duration": 52,
    "start_time": "2022-05-22T09:19:53.258Z"
   },
   {
    "duration": 64,
    "start_time": "2022-05-22T09:19:53.312Z"
   },
   {
    "duration": 27,
    "start_time": "2022-05-22T09:19:53.377Z"
   },
   {
    "duration": 33,
    "start_time": "2022-05-22T09:19:53.406Z"
   },
   {
    "duration": 25,
    "start_time": "2022-05-22T09:19:53.440Z"
   },
   {
    "duration": 22,
    "start_time": "2022-05-22T09:19:53.466Z"
   },
   {
    "duration": 55,
    "start_time": "2022-05-22T09:19:53.490Z"
   },
   {
    "duration": 24,
    "start_time": "2022-05-22T09:19:53.547Z"
   },
   {
    "duration": 12,
    "start_time": "2022-05-22T09:19:53.573Z"
   },
   {
    "duration": 18,
    "start_time": "2022-05-22T09:19:53.587Z"
   },
   {
    "duration": 48,
    "start_time": "2022-05-22T09:19:53.626Z"
   },
   {
    "duration": 13,
    "start_time": "2022-05-22T09:19:53.676Z"
   },
   {
    "duration": 51,
    "start_time": "2022-05-22T09:19:53.690Z"
   },
   {
    "duration": 3,
    "start_time": "2022-05-22T09:20:22.986Z"
   },
   {
    "duration": 9,
    "start_time": "2022-05-22T09:20:22.991Z"
   },
   {
    "duration": 376,
    "start_time": "2022-05-22T09:20:23.002Z"
   },
   {
    "duration": 25,
    "start_time": "2022-05-22T09:20:23.381Z"
   },
   {
    "duration": 55,
    "start_time": "2022-05-22T09:20:23.407Z"
   },
   {
    "duration": 30,
    "start_time": "2022-05-22T09:20:23.464Z"
   },
   {
    "duration": 4,
    "start_time": "2022-05-22T09:20:23.495Z"
   },
   {
    "duration": 141,
    "start_time": "2022-05-22T09:20:23.501Z"
   },
   {
    "duration": 12,
    "start_time": "2022-05-22T09:20:23.645Z"
   },
   {
    "duration": 22,
    "start_time": "2022-05-22T09:20:23.658Z"
   },
   {
    "duration": 52,
    "start_time": "2022-05-22T09:20:23.682Z"
   },
   {
    "duration": 41,
    "start_time": "2022-05-22T09:20:23.736Z"
   },
   {
    "duration": 139,
    "start_time": "2022-05-22T09:20:23.779Z"
   },
   {
    "duration": 26,
    "start_time": "2022-05-22T09:20:23.920Z"
   },
   {
    "duration": 271,
    "start_time": "2022-05-22T09:20:23.948Z"
   },
   {
    "duration": 274,
    "start_time": "2022-05-22T09:20:24.221Z"
   },
   {
    "duration": 171,
    "start_time": "2022-05-22T09:20:24.497Z"
   },
   {
    "duration": 109,
    "start_time": "2022-05-22T09:20:24.670Z"
   },
   {
    "duration": 273,
    "start_time": "2022-05-22T09:20:24.781Z"
   },
   {
    "duration": 584,
    "start_time": "2022-05-22T09:20:25.056Z"
   },
   {
    "duration": 27,
    "start_time": "2022-05-22T09:20:25.642Z"
   },
   {
    "duration": 167,
    "start_time": "2022-05-22T09:20:25.670Z"
   },
   {
    "duration": 13,
    "start_time": "2022-05-22T09:20:25.839Z"
   },
   {
    "duration": 32,
    "start_time": "2022-05-22T09:20:25.855Z"
   },
   {
    "duration": 4,
    "start_time": "2022-05-22T09:20:25.888Z"
   },
   {
    "duration": 64,
    "start_time": "2022-05-22T09:20:25.894Z"
   },
   {
    "duration": 15,
    "start_time": "2022-05-22T09:20:25.960Z"
   },
   {
    "duration": 111,
    "start_time": "2022-05-22T09:20:25.977Z"
   },
   {
    "duration": 68,
    "start_time": "2022-05-22T09:20:26.090Z"
   },
   {
    "duration": 49,
    "start_time": "2022-05-22T09:20:26.160Z"
   },
   {
    "duration": 45,
    "start_time": "2022-05-22T09:20:26.211Z"
   },
   {
    "duration": 23,
    "start_time": "2022-05-22T09:20:26.258Z"
   },
   {
    "duration": 47,
    "start_time": "2022-05-22T09:20:26.283Z"
   },
   {
    "duration": 24,
    "start_time": "2022-05-22T09:20:26.335Z"
   },
   {
    "duration": 29,
    "start_time": "2022-05-22T09:20:26.360Z"
   },
   {
    "duration": 51,
    "start_time": "2022-05-22T09:20:26.391Z"
   },
   {
    "duration": 14,
    "start_time": "2022-05-22T09:20:26.444Z"
   },
   {
    "duration": 20,
    "start_time": "2022-05-22T09:20:26.459Z"
   },
   {
    "duration": 70,
    "start_time": "2022-05-22T09:20:26.481Z"
   },
   {
    "duration": 5,
    "start_time": "2022-05-22T09:20:26.552Z"
   },
   {
    "duration": 209,
    "start_time": "2022-05-22T09:20:47.609Z"
   },
   {
    "duration": 10,
    "start_time": "2022-05-22T09:25:16.620Z"
   },
   {
    "duration": 10,
    "start_time": "2022-05-22T09:28:27.575Z"
   },
   {
    "duration": 3,
    "start_time": "2022-05-22T09:28:41.479Z"
   },
   {
    "duration": 13,
    "start_time": "2022-05-22T09:28:41.483Z"
   },
   {
    "duration": 392,
    "start_time": "2022-05-22T09:28:41.498Z"
   },
   {
    "duration": 27,
    "start_time": "2022-05-22T09:28:41.892Z"
   },
   {
    "duration": 62,
    "start_time": "2022-05-22T09:28:41.921Z"
   },
   {
    "duration": 41,
    "start_time": "2022-05-22T09:28:41.985Z"
   },
   {
    "duration": 17,
    "start_time": "2022-05-22T09:28:42.035Z"
   },
   {
    "duration": 134,
    "start_time": "2022-05-22T09:28:42.053Z"
   },
   {
    "duration": 14,
    "start_time": "2022-05-22T09:28:42.189Z"
   },
   {
    "duration": 46,
    "start_time": "2022-05-22T09:28:42.204Z"
   },
   {
    "duration": 32,
    "start_time": "2022-05-22T09:28:42.252Z"
   },
   {
    "duration": 59,
    "start_time": "2022-05-22T09:28:42.286Z"
   },
   {
    "duration": 154,
    "start_time": "2022-05-22T09:28:42.351Z"
   },
   {
    "duration": 18,
    "start_time": "2022-05-22T09:28:42.508Z"
   },
   {
    "duration": 367,
    "start_time": "2022-05-22T09:28:42.538Z"
   },
   {
    "duration": 299,
    "start_time": "2022-05-22T09:28:42.906Z"
   },
   {
    "duration": 175,
    "start_time": "2022-05-22T09:28:43.206Z"
   },
   {
    "duration": 176,
    "start_time": "2022-05-22T09:28:43.383Z"
   },
   {
    "duration": 594,
    "start_time": "2022-05-22T09:28:43.560Z"
   },
   {
    "duration": 1308,
    "start_time": "2022-05-22T09:28:44.156Z"
   },
   {
    "duration": 82,
    "start_time": "2022-05-22T09:28:45.465Z"
   },
   {
    "duration": 233,
    "start_time": "2022-05-22T09:28:45.551Z"
   },
   {
    "duration": 14,
    "start_time": "2022-05-22T09:28:45.786Z"
   },
   {
    "duration": 55,
    "start_time": "2022-05-22T09:28:45.801Z"
   },
   {
    "duration": 4,
    "start_time": "2022-05-22T09:28:45.858Z"
   },
   {
    "duration": 66,
    "start_time": "2022-05-22T09:28:45.864Z"
   },
   {
    "duration": 34,
    "start_time": "2022-05-22T09:28:45.938Z"
   },
   {
    "duration": 114,
    "start_time": "2022-05-22T09:28:45.974Z"
   },
   {
    "duration": 65,
    "start_time": "2022-05-22T09:28:46.091Z"
   },
   {
    "duration": 46,
    "start_time": "2022-05-22T09:28:46.157Z"
   },
   {
    "duration": 51,
    "start_time": "2022-05-22T09:28:46.204Z"
   },
   {
    "duration": 26,
    "start_time": "2022-05-22T09:28:46.258Z"
   },
   {
    "duration": 22,
    "start_time": "2022-05-22T09:28:46.285Z"
   },
   {
    "duration": 46,
    "start_time": "2022-05-22T09:28:46.309Z"
   },
   {
    "duration": 27,
    "start_time": "2022-05-22T09:28:46.357Z"
   },
   {
    "duration": 23,
    "start_time": "2022-05-22T09:28:46.386Z"
   },
   {
    "duration": 37,
    "start_time": "2022-05-22T09:28:46.410Z"
   },
   {
    "duration": 20,
    "start_time": "2022-05-22T09:28:46.448Z"
   },
   {
    "duration": 42,
    "start_time": "2022-05-22T09:28:46.469Z"
   },
   {
    "duration": 29,
    "start_time": "2022-05-22T09:28:46.513Z"
   },
   {
    "duration": 18,
    "start_time": "2022-05-22T09:28:46.546Z"
   },
   {
    "duration": 29,
    "start_time": "2022-05-22T09:29:34.626Z"
   },
   {
    "duration": 22,
    "start_time": "2022-05-22T09:29:52.415Z"
   },
   {
    "duration": 12,
    "start_time": "2022-05-22T09:34:11.386Z"
   },
   {
    "duration": 22,
    "start_time": "2022-05-22T09:34:12.940Z"
   },
   {
    "duration": 45,
    "start_time": "2022-05-22T09:34:19.674Z"
   },
   {
    "duration": 4,
    "start_time": "2022-05-22T09:34:23.644Z"
   },
   {
    "duration": 3,
    "start_time": "2022-05-22T09:34:23.654Z"
   },
   {
    "duration": 396,
    "start_time": "2022-05-22T09:34:23.658Z"
   },
   {
    "duration": 27,
    "start_time": "2022-05-22T09:34:24.055Z"
   },
   {
    "duration": 60,
    "start_time": "2022-05-22T09:34:24.083Z"
   },
   {
    "duration": 34,
    "start_time": "2022-05-22T09:34:24.145Z"
   },
   {
    "duration": 5,
    "start_time": "2022-05-22T09:34:24.181Z"
   },
   {
    "duration": 149,
    "start_time": "2022-05-22T09:34:24.187Z"
   },
   {
    "duration": 20,
    "start_time": "2022-05-22T09:34:24.337Z"
   },
   {
    "duration": 23,
    "start_time": "2022-05-22T09:34:24.359Z"
   },
   {
    "duration": 34,
    "start_time": "2022-05-22T09:34:24.384Z"
   },
   {
    "duration": 50,
    "start_time": "2022-05-22T09:34:24.426Z"
   },
   {
    "duration": 172,
    "start_time": "2022-05-22T09:34:24.478Z"
   },
   {
    "duration": 14,
    "start_time": "2022-05-22T09:34:24.652Z"
   },
   {
    "duration": 291,
    "start_time": "2022-05-22T09:34:24.668Z"
   },
   {
    "duration": 292,
    "start_time": "2022-05-22T09:34:24.961Z"
   },
   {
    "duration": 159,
    "start_time": "2022-05-22T09:34:25.257Z"
   },
   {
    "duration": 125,
    "start_time": "2022-05-22T09:34:25.418Z"
   },
   {
    "duration": 276,
    "start_time": "2022-05-22T09:34:25.545Z"
   },
   {
    "duration": 743,
    "start_time": "2022-05-22T09:34:25.822Z"
   },
   {
    "duration": 23,
    "start_time": "2022-05-22T09:34:26.566Z"
   },
   {
    "duration": 147,
    "start_time": "2022-05-22T09:34:26.590Z"
   },
   {
    "duration": 19,
    "start_time": "2022-05-22T09:34:26.738Z"
   },
   {
    "duration": 29,
    "start_time": "2022-05-22T09:34:26.758Z"
   },
   {
    "duration": 4,
    "start_time": "2022-05-22T09:34:26.789Z"
   },
   {
    "duration": 71,
    "start_time": "2022-05-22T09:34:26.795Z"
   },
   {
    "duration": 13,
    "start_time": "2022-05-22T09:34:26.868Z"
   },
   {
    "duration": 105,
    "start_time": "2022-05-22T09:34:26.883Z"
   },
   {
    "duration": 81,
    "start_time": "2022-05-22T09:34:26.990Z"
   },
   {
    "duration": 46,
    "start_time": "2022-05-22T09:34:27.073Z"
   },
   {
    "duration": 46,
    "start_time": "2022-05-22T09:34:27.120Z"
   },
   {
    "duration": 24,
    "start_time": "2022-05-22T09:34:27.168Z"
   },
   {
    "duration": 56,
    "start_time": "2022-05-22T09:34:27.194Z"
   },
   {
    "duration": 24,
    "start_time": "2022-05-22T09:34:27.251Z"
   },
   {
    "duration": 36,
    "start_time": "2022-05-22T09:34:27.276Z"
   },
   {
    "duration": 47,
    "start_time": "2022-05-22T09:34:27.313Z"
   },
   {
    "duration": 13,
    "start_time": "2022-05-22T09:34:27.361Z"
   },
   {
    "duration": 19,
    "start_time": "2022-05-22T09:34:27.379Z"
   },
   {
    "duration": 85,
    "start_time": "2022-05-22T09:34:27.400Z"
   },
   {
    "duration": 5,
    "start_time": "2022-05-22T09:34:27.486Z"
   },
   {
    "duration": 25,
    "start_time": "2022-05-22T09:35:09.321Z"
   },
   {
    "duration": 23,
    "start_time": "2022-05-22T09:35:35.960Z"
   },
   {
    "duration": 4,
    "start_time": "2022-05-22T09:35:38.951Z"
   },
   {
    "duration": 31,
    "start_time": "2022-05-22T09:35:38.961Z"
   },
   {
    "duration": 522,
    "start_time": "2022-05-22T09:35:38.994Z"
   },
   {
    "duration": 50,
    "start_time": "2022-05-22T09:35:39.518Z"
   },
   {
    "duration": 47,
    "start_time": "2022-05-22T09:35:39.571Z"
   },
   {
    "duration": 50,
    "start_time": "2022-05-22T09:35:39.620Z"
   },
   {
    "duration": 19,
    "start_time": "2022-05-22T09:35:39.673Z"
   },
   {
    "duration": 176,
    "start_time": "2022-05-22T09:35:39.694Z"
   },
   {
    "duration": 14,
    "start_time": "2022-05-22T09:35:39.872Z"
   },
   {
    "duration": 32,
    "start_time": "2022-05-22T09:35:39.888Z"
   },
   {
    "duration": 118,
    "start_time": "2022-05-22T09:35:39.922Z"
   },
   {
    "duration": 66,
    "start_time": "2022-05-22T09:35:40.049Z"
   },
   {
    "duration": 196,
    "start_time": "2022-05-22T09:35:40.117Z"
   },
   {
    "duration": 27,
    "start_time": "2022-05-22T09:35:40.317Z"
   },
   {
    "duration": 331,
    "start_time": "2022-05-22T09:35:40.346Z"
   },
   {
    "duration": 295,
    "start_time": "2022-05-22T09:35:40.679Z"
   },
   {
    "duration": 193,
    "start_time": "2022-05-22T09:35:40.976Z"
   },
   {
    "duration": 123,
    "start_time": "2022-05-22T09:35:41.172Z"
   },
   {
    "duration": 307,
    "start_time": "2022-05-22T09:35:41.297Z"
   },
   {
    "duration": 664,
    "start_time": "2022-05-22T09:35:41.605Z"
   },
   {
    "duration": 26,
    "start_time": "2022-05-22T09:35:42.271Z"
   },
   {
    "duration": 197,
    "start_time": "2022-05-22T09:35:42.299Z"
   },
   {
    "duration": 14,
    "start_time": "2022-05-22T09:35:42.498Z"
   },
   {
    "duration": 71,
    "start_time": "2022-05-22T09:35:42.514Z"
   },
   {
    "duration": 29,
    "start_time": "2022-05-22T09:35:42.591Z"
   },
   {
    "duration": 129,
    "start_time": "2022-05-22T09:35:42.622Z"
   },
   {
    "duration": 22,
    "start_time": "2022-05-22T09:35:42.755Z"
   },
   {
    "duration": 138,
    "start_time": "2022-05-22T09:35:42.779Z"
   },
   {
    "duration": 83,
    "start_time": "2022-05-22T09:35:42.919Z"
   },
   {
    "duration": 98,
    "start_time": "2022-05-22T09:35:43.005Z"
   },
   {
    "duration": 54,
    "start_time": "2022-05-22T09:35:43.106Z"
   },
   {
    "duration": 45,
    "start_time": "2022-05-22T09:35:43.165Z"
   },
   {
    "duration": 51,
    "start_time": "2022-05-22T09:35:43.213Z"
   },
   {
    "duration": 27,
    "start_time": "2022-05-22T09:35:43.269Z"
   },
   {
    "duration": 53,
    "start_time": "2022-05-22T09:35:43.301Z"
   },
   {
    "duration": 31,
    "start_time": "2022-05-22T09:35:43.356Z"
   },
   {
    "duration": 13,
    "start_time": "2022-05-22T09:35:43.389Z"
   },
   {
    "duration": 38,
    "start_time": "2022-05-22T09:35:43.404Z"
   },
   {
    "duration": 51,
    "start_time": "2022-05-22T09:35:43.444Z"
   },
   {
    "duration": 6,
    "start_time": "2022-05-22T09:35:43.496Z"
   },
   {
    "duration": 28,
    "start_time": "2022-05-22T09:49:15.688Z"
   },
   {
    "duration": 6,
    "start_time": "2022-05-22T09:51:26.879Z"
   },
   {
    "duration": 20,
    "start_time": "2022-05-22T09:51:30.066Z"
   },
   {
    "duration": 7,
    "start_time": "2022-05-22T09:52:04.614Z"
   },
   {
    "duration": 19,
    "start_time": "2022-05-22T09:52:09.574Z"
   },
   {
    "duration": 22,
    "start_time": "2022-05-22T09:57:11.000Z"
   },
   {
    "duration": 17,
    "start_time": "2022-05-22T09:57:21.239Z"
   },
   {
    "duration": 28,
    "start_time": "2022-05-22T09:58:09.006Z"
   },
   {
    "duration": 7,
    "start_time": "2022-05-22T09:58:22.019Z"
   },
   {
    "duration": 7,
    "start_time": "2022-05-22T09:58:22.035Z"
   },
   {
    "duration": 376,
    "start_time": "2022-05-22T09:58:22.043Z"
   },
   {
    "duration": 36,
    "start_time": "2022-05-22T09:58:22.422Z"
   },
   {
    "duration": 43,
    "start_time": "2022-05-22T09:58:22.460Z"
   },
   {
    "duration": 48,
    "start_time": "2022-05-22T09:58:22.504Z"
   },
   {
    "duration": 6,
    "start_time": "2022-05-22T09:58:22.554Z"
   },
   {
    "duration": 150,
    "start_time": "2022-05-22T09:58:22.562Z"
   },
   {
    "duration": 31,
    "start_time": "2022-05-22T09:58:22.716Z"
   },
   {
    "duration": 30,
    "start_time": "2022-05-22T09:58:22.749Z"
   },
   {
    "duration": 59,
    "start_time": "2022-05-22T09:58:22.781Z"
   },
   {
    "duration": 50,
    "start_time": "2022-05-22T09:58:22.842Z"
   },
   {
    "duration": 175,
    "start_time": "2022-05-22T09:58:22.894Z"
   },
   {
    "duration": 14,
    "start_time": "2022-05-22T09:58:23.071Z"
   },
   {
    "duration": 292,
    "start_time": "2022-05-22T09:58:23.087Z"
   },
   {
    "duration": 263,
    "start_time": "2022-05-22T09:58:23.381Z"
   },
   {
    "duration": 157,
    "start_time": "2022-05-22T09:58:23.647Z"
   },
   {
    "duration": 111,
    "start_time": "2022-05-22T09:58:23.805Z"
   },
   {
    "duration": 289,
    "start_time": "2022-05-22T09:58:23.918Z"
   },
   {
    "duration": 692,
    "start_time": "2022-05-22T09:58:24.208Z"
   },
   {
    "duration": 36,
    "start_time": "2022-05-22T09:58:24.901Z"
   },
   {
    "duration": 143,
    "start_time": "2022-05-22T09:58:24.939Z"
   },
   {
    "duration": 13,
    "start_time": "2022-05-22T09:58:25.084Z"
   },
   {
    "duration": 41,
    "start_time": "2022-05-22T09:58:25.101Z"
   },
   {
    "duration": 4,
    "start_time": "2022-05-22T09:58:25.144Z"
   },
   {
    "duration": 57,
    "start_time": "2022-05-22T09:58:25.149Z"
   },
   {
    "duration": 27,
    "start_time": "2022-05-22T09:58:25.208Z"
   },
   {
    "duration": 101,
    "start_time": "2022-05-22T09:58:25.237Z"
   },
   {
    "duration": 51,
    "start_time": "2022-05-22T09:58:25.340Z"
   },
   {
    "duration": 67,
    "start_time": "2022-05-22T09:58:25.392Z"
   },
   {
    "duration": 26,
    "start_time": "2022-05-22T09:58:25.461Z"
   },
   {
    "duration": 41,
    "start_time": "2022-05-22T09:58:25.489Z"
   },
   {
    "duration": 24,
    "start_time": "2022-05-22T09:58:25.535Z"
   },
   {
    "duration": 23,
    "start_time": "2022-05-22T09:58:25.561Z"
   },
   {
    "duration": 52,
    "start_time": "2022-05-22T09:58:25.586Z"
   },
   {
    "duration": 27,
    "start_time": "2022-05-22T09:58:25.639Z"
   },
   {
    "duration": 13,
    "start_time": "2022-05-22T09:58:25.667Z"
   },
   {
    "duration": 17,
    "start_time": "2022-05-22T09:58:25.682Z"
   },
   {
    "duration": 67,
    "start_time": "2022-05-22T09:58:25.701Z"
   },
   {
    "duration": 5,
    "start_time": "2022-05-22T09:58:25.770Z"
   },
   {
    "duration": 21,
    "start_time": "2022-05-22T09:58:25.776Z"
   },
   {
    "duration": 19,
    "start_time": "2022-05-22T09:58:44.238Z"
   },
   {
    "duration": 27,
    "start_time": "2022-05-22T09:58:50.118Z"
   },
   {
    "duration": 19,
    "start_time": "2022-05-22T09:59:24.270Z"
   },
   {
    "duration": 19,
    "start_time": "2022-05-22T10:02:36.871Z"
   },
   {
    "duration": 20,
    "start_time": "2022-05-22T10:02:49.265Z"
   },
   {
    "duration": 34,
    "start_time": "2022-05-22T10:02:52.861Z"
   },
   {
    "duration": 29,
    "start_time": "2022-05-22T10:03:03.726Z"
   },
   {
    "duration": 17,
    "start_time": "2022-05-22T10:04:46.138Z"
   },
   {
    "duration": 25,
    "start_time": "2022-05-22T10:04:49.511Z"
   },
   {
    "duration": 12,
    "start_time": "2022-05-22T10:05:15.888Z"
   },
   {
    "duration": 18,
    "start_time": "2022-05-22T10:05:45.503Z"
   },
   {
    "duration": 16,
    "start_time": "2022-05-22T10:06:03.844Z"
   },
   {
    "duration": 22,
    "start_time": "2022-05-22T10:09:02.516Z"
   },
   {
    "duration": 25,
    "start_time": "2022-05-22T10:09:08.461Z"
   },
   {
    "duration": 26,
    "start_time": "2022-05-22T10:09:20.539Z"
   },
   {
    "duration": 26,
    "start_time": "2022-05-22T10:09:30.211Z"
   },
   {
    "duration": 13,
    "start_time": "2022-05-22T10:09:36.074Z"
   },
   {
    "duration": 13,
    "start_time": "2022-05-22T10:09:45.090Z"
   },
   {
    "duration": 4,
    "start_time": "2022-05-22T10:09:48.823Z"
   },
   {
    "duration": 13,
    "start_time": "2022-05-22T10:09:48.829Z"
   },
   {
    "duration": 374,
    "start_time": "2022-05-22T10:09:48.843Z"
   },
   {
    "duration": 30,
    "start_time": "2022-05-22T10:09:49.222Z"
   },
   {
    "duration": 50,
    "start_time": "2022-05-22T10:09:49.253Z"
   },
   {
    "duration": 47,
    "start_time": "2022-05-22T10:09:49.305Z"
   },
   {
    "duration": 5,
    "start_time": "2022-05-22T10:09:49.354Z"
   },
   {
    "duration": 137,
    "start_time": "2022-05-22T10:09:49.361Z"
   },
   {
    "duration": 23,
    "start_time": "2022-05-22T10:09:49.501Z"
   },
   {
    "duration": 22,
    "start_time": "2022-05-22T10:09:49.525Z"
   },
   {
    "duration": 35,
    "start_time": "2022-05-22T10:09:49.549Z"
   },
   {
    "duration": 71,
    "start_time": "2022-05-22T10:09:49.586Z"
   },
   {
    "duration": 165,
    "start_time": "2022-05-22T10:09:49.658Z"
   },
   {
    "duration": 15,
    "start_time": "2022-05-22T10:09:49.825Z"
   },
   {
    "duration": 304,
    "start_time": "2022-05-22T10:09:49.842Z"
   },
   {
    "duration": 280,
    "start_time": "2022-05-22T10:09:50.148Z"
   },
   {
    "duration": 184,
    "start_time": "2022-05-22T10:09:50.430Z"
   },
   {
    "duration": 113,
    "start_time": "2022-05-22T10:09:50.617Z"
   },
   {
    "duration": 293,
    "start_time": "2022-05-22T10:09:50.732Z"
   },
   {
    "duration": 556,
    "start_time": "2022-05-22T10:09:51.026Z"
   },
   {
    "duration": 24,
    "start_time": "2022-05-22T10:09:51.584Z"
   },
   {
    "duration": 145,
    "start_time": "2022-05-22T10:09:51.610Z"
   },
   {
    "duration": 13,
    "start_time": "2022-05-22T10:09:51.757Z"
   },
   {
    "duration": 39,
    "start_time": "2022-05-22T10:09:51.773Z"
   },
   {
    "duration": 13,
    "start_time": "2022-05-22T10:09:51.813Z"
   },
   {
    "duration": 60,
    "start_time": "2022-05-22T10:09:51.827Z"
   },
   {
    "duration": 15,
    "start_time": "2022-05-22T10:09:51.888Z"
   },
   {
    "duration": 101,
    "start_time": "2022-05-22T10:09:51.905Z"
   },
   {
    "duration": 63,
    "start_time": "2022-05-22T10:09:52.008Z"
   },
   {
    "duration": 56,
    "start_time": "2022-05-22T10:09:52.072Z"
   },
   {
    "duration": 28,
    "start_time": "2022-05-22T10:09:52.129Z"
   },
   {
    "duration": 24,
    "start_time": "2022-05-22T10:09:52.159Z"
   },
   {
    "duration": 44,
    "start_time": "2022-05-22T10:09:52.185Z"
   },
   {
    "duration": 23,
    "start_time": "2022-05-22T10:09:52.231Z"
   },
   {
    "duration": 29,
    "start_time": "2022-05-22T10:09:52.256Z"
   },
   {
    "duration": 50,
    "start_time": "2022-05-22T10:09:52.287Z"
   },
   {
    "duration": 12,
    "start_time": "2022-05-22T10:09:52.339Z"
   },
   {
    "duration": 23,
    "start_time": "2022-05-22T10:09:52.353Z"
   },
   {
    "duration": 54,
    "start_time": "2022-05-22T10:09:52.378Z"
   },
   {
    "duration": 5,
    "start_time": "2022-05-22T10:09:52.434Z"
   },
   {
    "duration": 27,
    "start_time": "2022-05-22T10:09:52.440Z"
   },
   {
    "duration": 11,
    "start_time": "2022-05-22T10:09:52.469Z"
   },
   {
    "duration": 47,
    "start_time": "2022-05-22T10:09:52.482Z"
   },
   {
    "duration": 31,
    "start_time": "2022-05-22T10:11:19.778Z"
   },
   {
    "duration": 11,
    "start_time": "2022-05-22T10:11:24.304Z"
   },
   {
    "duration": 13,
    "start_time": "2022-05-22T10:11:29.320Z"
   },
   {
    "duration": 452,
    "start_time": "2022-05-22T10:12:21.097Z"
   },
   {
    "duration": 24,
    "start_time": "2022-05-22T10:12:29.929Z"
   },
   {
    "duration": 24,
    "start_time": "2022-05-22T10:12:37.472Z"
   },
   {
    "duration": 18,
    "start_time": "2022-05-22T10:12:57.423Z"
   },
   {
    "duration": 20,
    "start_time": "2022-05-22T10:13:00.762Z"
   },
   {
    "duration": 16,
    "start_time": "2022-05-22T10:13:23.800Z"
   },
   {
    "duration": 14,
    "start_time": "2022-05-22T10:13:32.360Z"
   },
   {
    "duration": 15,
    "start_time": "2022-05-22T10:13:38.451Z"
   },
   {
    "duration": 13,
    "start_time": "2022-05-22T10:13:46.580Z"
   },
   {
    "duration": 11,
    "start_time": "2022-05-22T10:14:51.310Z"
   },
   {
    "duration": 15,
    "start_time": "2022-05-22T10:14:54.762Z"
   },
   {
    "duration": 17,
    "start_time": "2022-05-22T10:15:07.278Z"
   },
   {
    "duration": 24,
    "start_time": "2022-05-22T10:15:23.886Z"
   },
   {
    "duration": 15,
    "start_time": "2022-05-22T10:15:49.389Z"
   },
   {
    "duration": 7,
    "start_time": "2022-05-22T10:17:11.356Z"
   },
   {
    "duration": 403,
    "start_time": "2022-05-22T10:17:28.476Z"
   },
   {
    "duration": 5,
    "start_time": "2022-05-22T10:17:46.657Z"
   },
   {
    "duration": 7,
    "start_time": "2022-05-22T10:17:52.532Z"
   },
   {
    "duration": 5,
    "start_time": "2022-05-22T10:21:34.591Z"
   },
   {
    "duration": 4,
    "start_time": "2022-05-22T10:23:25.489Z"
   },
   {
    "duration": 8,
    "start_time": "2022-05-22T10:23:25.495Z"
   },
   {
    "duration": 369,
    "start_time": "2022-05-22T10:23:25.505Z"
   },
   {
    "duration": 25,
    "start_time": "2022-05-22T10:23:25.876Z"
   },
   {
    "duration": 52,
    "start_time": "2022-05-22T10:23:25.902Z"
   },
   {
    "duration": 46,
    "start_time": "2022-05-22T10:23:25.956Z"
   },
   {
    "duration": 23,
    "start_time": "2022-05-22T10:23:26.003Z"
   },
   {
    "duration": 121,
    "start_time": "2022-05-22T10:23:26.028Z"
   },
   {
    "duration": 12,
    "start_time": "2022-05-22T10:23:26.152Z"
   },
   {
    "duration": 22,
    "start_time": "2022-05-22T10:23:26.167Z"
   },
   {
    "duration": 56,
    "start_time": "2022-05-22T10:23:26.191Z"
   },
   {
    "duration": 42,
    "start_time": "2022-05-22T10:23:26.249Z"
   },
   {
    "duration": 152,
    "start_time": "2022-05-22T10:23:26.293Z"
   },
   {
    "duration": 14,
    "start_time": "2022-05-22T10:23:26.447Z"
   },
   {
    "duration": 270,
    "start_time": "2022-05-22T10:23:26.463Z"
   },
   {
    "duration": 243,
    "start_time": "2022-05-22T10:23:26.735Z"
   },
   {
    "duration": 272,
    "start_time": "2022-05-22T10:23:26.980Z"
   },
   {
    "duration": 208,
    "start_time": "2022-05-22T10:23:27.253Z"
   },
   {
    "duration": 578,
    "start_time": "2022-05-22T10:23:27.462Z"
   },
   {
    "duration": 1021,
    "start_time": "2022-05-22T10:23:28.042Z"
   },
   {
    "duration": 24,
    "start_time": "2022-05-22T10:23:29.065Z"
   },
   {
    "duration": 149,
    "start_time": "2022-05-22T10:23:29.091Z"
   },
   {
    "duration": 15,
    "start_time": "2022-05-22T10:23:29.242Z"
   },
   {
    "duration": 37,
    "start_time": "2022-05-22T10:23:29.261Z"
   },
   {
    "duration": 25,
    "start_time": "2022-05-22T10:23:29.300Z"
   },
   {
    "duration": 57,
    "start_time": "2022-05-22T10:23:29.326Z"
   },
   {
    "duration": 15,
    "start_time": "2022-05-22T10:23:29.385Z"
   },
   {
    "duration": 121,
    "start_time": "2022-05-22T10:23:29.402Z"
   },
   {
    "duration": 56,
    "start_time": "2022-05-22T10:23:29.525Z"
   },
   {
    "duration": 60,
    "start_time": "2022-05-22T10:23:29.583Z"
   },
   {
    "duration": 28,
    "start_time": "2022-05-22T10:23:29.645Z"
   },
   {
    "duration": 23,
    "start_time": "2022-05-22T10:23:29.674Z"
   },
   {
    "duration": 44,
    "start_time": "2022-05-22T10:23:29.698Z"
   },
   {
    "duration": 21,
    "start_time": "2022-05-22T10:23:29.743Z"
   },
   {
    "duration": 28,
    "start_time": "2022-05-22T10:23:29.766Z"
   },
   {
    "duration": 46,
    "start_time": "2022-05-22T10:23:29.796Z"
   },
   {
    "duration": 12,
    "start_time": "2022-05-22T10:23:29.843Z"
   },
   {
    "duration": 21,
    "start_time": "2022-05-22T10:23:29.856Z"
   },
   {
    "duration": 58,
    "start_time": "2022-05-22T10:23:29.878Z"
   },
   {
    "duration": 5,
    "start_time": "2022-05-22T10:23:29.937Z"
   },
   {
    "duration": 33,
    "start_time": "2022-05-22T10:23:29.944Z"
   },
   {
    "duration": 15,
    "start_time": "2022-05-22T10:23:29.979Z"
   },
   {
    "duration": 48,
    "start_time": "2022-05-22T10:23:29.996Z"
   },
   {
    "duration": 14,
    "start_time": "2022-05-22T10:23:30.046Z"
   },
   {
    "duration": 9,
    "start_time": "2022-05-22T10:23:30.062Z"
   },
   {
    "duration": 10,
    "start_time": "2022-05-22T10:23:46.464Z"
   },
   {
    "duration": 10,
    "start_time": "2022-05-22T10:23:47.790Z"
   },
   {
    "duration": 5,
    "start_time": "2022-05-22T10:24:57.236Z"
   },
   {
    "duration": 5,
    "start_time": "2022-05-22T10:25:21.860Z"
   },
   {
    "duration": 4,
    "start_time": "2022-05-22T14:26:50.366Z"
   },
   {
    "duration": 7,
    "start_time": "2022-05-22T14:26:50.371Z"
   },
   {
    "duration": 347,
    "start_time": "2022-05-22T14:26:50.379Z"
   },
   {
    "duration": 29,
    "start_time": "2022-05-22T14:26:50.728Z"
   },
   {
    "duration": 44,
    "start_time": "2022-05-22T14:26:50.759Z"
   },
   {
    "duration": 45,
    "start_time": "2022-05-22T14:26:50.805Z"
   },
   {
    "duration": 4,
    "start_time": "2022-05-22T14:26:50.851Z"
   },
   {
    "duration": 129,
    "start_time": "2022-05-22T14:26:50.857Z"
   },
   {
    "duration": 14,
    "start_time": "2022-05-22T14:26:50.989Z"
   },
   {
    "duration": 32,
    "start_time": "2022-05-22T14:26:51.005Z"
   },
   {
    "duration": 34,
    "start_time": "2022-05-22T14:26:51.038Z"
   },
   {
    "duration": 65,
    "start_time": "2022-05-22T14:26:51.074Z"
   },
   {
    "duration": 139,
    "start_time": "2022-05-22T14:26:51.141Z"
   },
   {
    "duration": 15,
    "start_time": "2022-05-22T14:26:51.282Z"
   },
   {
    "duration": 255,
    "start_time": "2022-05-22T14:26:51.298Z"
   },
   {
    "duration": 248,
    "start_time": "2022-05-22T14:26:51.555Z"
   },
   {
    "duration": 149,
    "start_time": "2022-05-22T14:26:51.805Z"
   },
   {
    "duration": 104,
    "start_time": "2022-05-22T14:26:51.956Z"
   },
   {
    "duration": 261,
    "start_time": "2022-05-22T14:26:52.062Z"
   },
   {
    "duration": 604,
    "start_time": "2022-05-22T14:26:52.325Z"
   },
   {
    "duration": 23,
    "start_time": "2022-05-22T14:26:52.930Z"
   },
   {
    "duration": 149,
    "start_time": "2022-05-22T14:26:52.954Z"
   },
   {
    "duration": 19,
    "start_time": "2022-05-22T14:26:53.105Z"
   },
   {
    "duration": 26,
    "start_time": "2022-05-22T14:26:53.127Z"
   },
   {
    "duration": 4,
    "start_time": "2022-05-22T14:26:53.155Z"
   },
   {
    "duration": 69,
    "start_time": "2022-05-22T14:26:53.160Z"
   },
   {
    "duration": 15,
    "start_time": "2022-05-22T14:26:53.231Z"
   },
   {
    "duration": 104,
    "start_time": "2022-05-22T14:26:53.248Z"
   },
   {
    "duration": 73,
    "start_time": "2022-05-22T14:26:53.354Z"
   },
   {
    "duration": 47,
    "start_time": "2022-05-22T14:26:53.429Z"
   },
   {
    "duration": 46,
    "start_time": "2022-05-22T14:26:53.478Z"
   },
   {
    "duration": 25,
    "start_time": "2022-05-22T14:26:53.526Z"
   },
   {
    "duration": 20,
    "start_time": "2022-05-22T14:26:53.553Z"
   },
   {
    "duration": 20,
    "start_time": "2022-05-22T14:26:53.575Z"
   },
   {
    "duration": 54,
    "start_time": "2022-05-22T14:26:53.596Z"
   },
   {
    "duration": 25,
    "start_time": "2022-05-22T14:26:53.652Z"
   },
   {
    "duration": 12,
    "start_time": "2022-05-22T14:26:53.679Z"
   },
   {
    "duration": 46,
    "start_time": "2022-05-22T14:26:53.693Z"
   },
   {
    "duration": 42,
    "start_time": "2022-05-22T14:26:53.741Z"
   },
   {
    "duration": 5,
    "start_time": "2022-05-22T14:26:53.785Z"
   },
   {
    "duration": 41,
    "start_time": "2022-05-22T14:26:53.792Z"
   },
   {
    "duration": 15,
    "start_time": "2022-05-22T14:26:53.835Z"
   },
   {
    "duration": 8,
    "start_time": "2022-05-22T14:26:53.852Z"
   },
   {
    "duration": 14,
    "start_time": "2022-05-22T14:26:53.862Z"
   },
   {
    "duration": 5,
    "start_time": "2022-05-22T14:26:53.878Z"
   },
   {
    "duration": 458,
    "start_time": "2022-05-22T14:56:35.764Z"
   },
   {
    "duration": 4,
    "start_time": "2022-05-22T15:21:30.918Z"
   },
   {
    "duration": 19,
    "start_time": "2022-05-22T15:21:30.925Z"
   },
   {
    "duration": 372,
    "start_time": "2022-05-22T15:21:30.946Z"
   },
   {
    "duration": 31,
    "start_time": "2022-05-22T15:21:31.326Z"
   },
   {
    "duration": 44,
    "start_time": "2022-05-22T15:21:31.359Z"
   },
   {
    "duration": 48,
    "start_time": "2022-05-22T15:21:31.404Z"
   },
   {
    "duration": 8,
    "start_time": "2022-05-22T15:21:31.453Z"
   },
   {
    "duration": 137,
    "start_time": "2022-05-22T15:21:31.463Z"
   },
   {
    "duration": 13,
    "start_time": "2022-05-22T15:21:31.603Z"
   },
   {
    "duration": 44,
    "start_time": "2022-05-22T15:21:31.618Z"
   },
   {
    "duration": 44,
    "start_time": "2022-05-22T15:21:31.664Z"
   },
   {
    "duration": 50,
    "start_time": "2022-05-22T15:21:31.710Z"
   },
   {
    "duration": 151,
    "start_time": "2022-05-22T15:21:31.761Z"
   },
   {
    "duration": 31,
    "start_time": "2022-05-22T15:21:31.913Z"
   },
   {
    "duration": 397,
    "start_time": "2022-05-22T15:21:31.946Z"
   },
   {
    "duration": 279,
    "start_time": "2022-05-22T15:21:32.345Z"
   },
   {
    "duration": 189,
    "start_time": "2022-05-22T15:21:32.626Z"
   },
   {
    "duration": 127,
    "start_time": "2022-05-22T15:21:32.826Z"
   },
   {
    "duration": 360,
    "start_time": "2022-05-22T15:21:32.955Z"
   },
   {
    "duration": 556,
    "start_time": "2022-05-22T15:21:33.316Z"
   },
   {
    "duration": 23,
    "start_time": "2022-05-22T15:21:33.873Z"
   },
   {
    "duration": 161,
    "start_time": "2022-05-22T15:21:33.898Z"
   },
   {
    "duration": 15,
    "start_time": "2022-05-22T15:21:34.060Z"
   },
   {
    "duration": 58,
    "start_time": "2022-05-22T15:21:34.079Z"
   },
   {
    "duration": 4,
    "start_time": "2022-05-22T15:21:34.141Z"
   },
   {
    "duration": 60,
    "start_time": "2022-05-22T15:21:34.147Z"
   },
   {
    "duration": 24,
    "start_time": "2022-05-22T15:21:34.209Z"
   },
   {
    "duration": 91,
    "start_time": "2022-05-22T15:21:34.235Z"
   },
   {
    "duration": 56,
    "start_time": "2022-05-22T15:21:34.328Z"
   },
   {
    "duration": 60,
    "start_time": "2022-05-22T15:21:34.385Z"
   },
   {
    "duration": 28,
    "start_time": "2022-05-22T15:21:34.446Z"
   },
   {
    "duration": 23,
    "start_time": "2022-05-22T15:21:34.475Z"
   },
   {
    "duration": 47,
    "start_time": "2022-05-22T15:21:34.499Z"
   },
   {
    "duration": 21,
    "start_time": "2022-05-22T15:21:34.548Z"
   },
   {
    "duration": 28,
    "start_time": "2022-05-22T15:21:34.571Z"
   },
   {
    "duration": 47,
    "start_time": "2022-05-22T15:21:34.601Z"
   },
   {
    "duration": 13,
    "start_time": "2022-05-22T15:21:34.650Z"
   },
   {
    "duration": 17,
    "start_time": "2022-05-22T15:21:34.664Z"
   },
   {
    "duration": 67,
    "start_time": "2022-05-22T15:21:34.683Z"
   },
   {
    "duration": 6,
    "start_time": "2022-05-22T15:21:34.752Z"
   },
   {
    "duration": 15,
    "start_time": "2022-05-22T15:21:34.759Z"
   },
   {
    "duration": 15,
    "start_time": "2022-05-22T15:21:34.776Z"
   },
   {
    "duration": 37,
    "start_time": "2022-05-22T15:21:34.793Z"
   },
   {
    "duration": 15,
    "start_time": "2022-05-22T15:21:34.836Z"
   },
   {
    "duration": 10,
    "start_time": "2022-05-22T15:21:34.852Z"
   },
   {
    "duration": 87,
    "start_time": "2022-05-22T15:25:01.156Z"
   },
   {
    "duration": 4,
    "start_time": "2022-05-22T15:25:14.908Z"
   },
   {
    "duration": 10,
    "start_time": "2022-05-22T15:25:14.914Z"
   },
   {
    "duration": 340,
    "start_time": "2022-05-22T15:25:14.925Z"
   },
   {
    "duration": 27,
    "start_time": "2022-05-22T15:25:15.267Z"
   },
   {
    "duration": 52,
    "start_time": "2022-05-22T15:25:15.296Z"
   },
   {
    "duration": 31,
    "start_time": "2022-05-22T15:25:15.350Z"
   },
   {
    "duration": 4,
    "start_time": "2022-05-22T15:25:15.383Z"
   },
   {
    "duration": 137,
    "start_time": "2022-05-22T15:25:15.389Z"
   },
   {
    "duration": 14,
    "start_time": "2022-05-22T15:25:15.528Z"
   },
   {
    "duration": 25,
    "start_time": "2022-05-22T15:25:15.544Z"
   },
   {
    "duration": 55,
    "start_time": "2022-05-22T15:25:15.571Z"
   },
   {
    "duration": 44,
    "start_time": "2022-05-22T15:25:15.627Z"
   },
   {
    "duration": 152,
    "start_time": "2022-05-22T15:25:15.673Z"
   },
   {
    "duration": 14,
    "start_time": "2022-05-22T15:25:15.827Z"
   },
   {
    "duration": 345,
    "start_time": "2022-05-22T15:25:15.842Z"
   },
   {
    "duration": 240,
    "start_time": "2022-05-22T15:25:16.189Z"
   },
   {
    "duration": 156,
    "start_time": "2022-05-22T15:25:16.431Z"
   },
   {
    "duration": 113,
    "start_time": "2022-05-22T15:25:16.589Z"
   },
   {
    "duration": 379,
    "start_time": "2022-05-22T15:25:16.703Z"
   },
   {
    "duration": 552,
    "start_time": "2022-05-22T15:25:17.083Z"
   },
   {
    "duration": 23,
    "start_time": "2022-05-22T15:25:17.637Z"
   },
   {
    "duration": 136,
    "start_time": "2022-05-22T15:25:17.661Z"
   },
   {
    "duration": 14,
    "start_time": "2022-05-22T15:25:17.798Z"
   },
   {
    "duration": 27,
    "start_time": "2022-05-22T15:25:17.824Z"
   },
   {
    "duration": 3,
    "start_time": "2022-05-22T15:25:17.853Z"
   },
   {
    "duration": 67,
    "start_time": "2022-05-22T15:25:17.858Z"
   },
   {
    "duration": 24,
    "start_time": "2022-05-22T15:25:17.926Z"
   },
   {
    "duration": 103,
    "start_time": "2022-05-22T15:25:17.952Z"
   },
   {
    "duration": 69,
    "start_time": "2022-05-22T15:25:18.057Z"
   },
   {
    "duration": 46,
    "start_time": "2022-05-22T15:25:18.128Z"
   },
   {
    "duration": 94,
    "start_time": "2022-05-22T15:25:18.176Z"
   },
   {
    "duration": 28,
    "start_time": "2022-05-22T15:25:18.271Z"
   },
   {
    "duration": 38,
    "start_time": "2022-05-22T15:25:18.301Z"
   },
   {
    "duration": 12,
    "start_time": "2022-05-22T15:25:18.340Z"
   },
   {
    "duration": 17,
    "start_time": "2022-05-22T15:25:18.353Z"
   },
   {
    "duration": 61,
    "start_time": "2022-05-22T15:25:18.372Z"
   },
   {
    "duration": 4,
    "start_time": "2022-05-22T15:25:18.435Z"
   },
   {
    "duration": 14,
    "start_time": "2022-05-22T15:25:18.440Z"
   },
   {
    "duration": 14,
    "start_time": "2022-05-22T15:25:18.455Z"
   },
   {
    "duration": 8,
    "start_time": "2022-05-22T15:25:18.471Z"
   },
   {
    "duration": 44,
    "start_time": "2022-05-22T15:25:18.480Z"
   },
   {
    "duration": 6,
    "start_time": "2022-05-22T15:25:18.526Z"
   },
   {
    "duration": 5,
    "start_time": "2022-05-22T15:25:33.211Z"
   },
   {
    "duration": 1995,
    "start_time": "2022-05-23T05:04:19.016Z"
   },
   {
    "duration": 48,
    "start_time": "2022-05-23T05:04:21.017Z"
   },
   {
    "duration": 837,
    "start_time": "2022-05-23T05:04:21.067Z"
   },
   {
    "duration": 47,
    "start_time": "2022-05-23T05:04:21.906Z"
   },
   {
    "duration": 87,
    "start_time": "2022-05-23T05:04:21.955Z"
   },
   {
    "duration": 41,
    "start_time": "2022-05-23T05:04:22.044Z"
   },
   {
    "duration": 5,
    "start_time": "2022-05-23T05:04:22.087Z"
   },
   {
    "duration": 152,
    "start_time": "2022-05-23T05:04:22.094Z"
   },
   {
    "duration": 17,
    "start_time": "2022-05-23T05:04:22.248Z"
   },
   {
    "duration": 30,
    "start_time": "2022-05-23T05:04:22.268Z"
   },
   {
    "duration": 88,
    "start_time": "2022-05-23T05:04:22.300Z"
   },
   {
    "duration": 50,
    "start_time": "2022-05-23T05:04:22.391Z"
   },
   {
    "duration": 181,
    "start_time": "2022-05-23T05:04:22.443Z"
   },
   {
    "duration": 16,
    "start_time": "2022-05-23T05:04:22.626Z"
   },
   {
    "duration": 577,
    "start_time": "2022-05-23T05:04:22.644Z"
   },
   {
    "duration": 284,
    "start_time": "2022-05-23T05:04:23.223Z"
   },
   {
    "duration": 215,
    "start_time": "2022-05-23T05:04:23.508Z"
   },
   {
    "duration": 122,
    "start_time": "2022-05-23T05:04:23.725Z"
   },
   {
    "duration": 281,
    "start_time": "2022-05-23T05:04:23.849Z"
   },
   {
    "duration": 591,
    "start_time": "2022-05-23T05:04:24.131Z"
   },
   {
    "duration": 50,
    "start_time": "2022-05-23T05:04:24.725Z"
   },
   {
    "duration": 169,
    "start_time": "2022-05-23T05:04:24.776Z"
   },
   {
    "duration": 28,
    "start_time": "2022-05-23T05:04:24.947Z"
   },
   {
    "duration": 39,
    "start_time": "2022-05-23T05:04:24.978Z"
   },
   {
    "duration": 4,
    "start_time": "2022-05-23T05:04:25.019Z"
   },
   {
    "duration": 79,
    "start_time": "2022-05-23T05:04:25.025Z"
   },
   {
    "duration": 19,
    "start_time": "2022-05-23T05:04:25.106Z"
   },
   {
    "duration": 124,
    "start_time": "2022-05-23T05:04:25.129Z"
   },
   {
    "duration": 158,
    "start_time": "2022-05-23T05:04:25.264Z"
   },
   {
    "duration": 61,
    "start_time": "2022-05-23T05:04:25.424Z"
   },
   {
    "duration": 103,
    "start_time": "2022-05-23T05:04:25.487Z"
   },
   {
    "duration": 30,
    "start_time": "2022-05-23T05:04:25.592Z"
   },
   {
    "duration": 44,
    "start_time": "2022-05-23T05:04:25.624Z"
   },
   {
    "duration": 13,
    "start_time": "2022-05-23T05:04:25.670Z"
   },
   {
    "duration": 18,
    "start_time": "2022-05-23T05:04:25.685Z"
   },
   {
    "duration": 65,
    "start_time": "2022-05-23T05:04:25.705Z"
   },
   {
    "duration": 6,
    "start_time": "2022-05-23T05:04:25.771Z"
   },
   {
    "duration": 14,
    "start_time": "2022-05-23T05:04:25.778Z"
   },
   {
    "duration": 16,
    "start_time": "2022-05-23T05:04:25.794Z"
   },
   {
    "duration": 11,
    "start_time": "2022-05-23T05:04:25.811Z"
   },
   {
    "duration": 52,
    "start_time": "2022-05-23T05:04:25.823Z"
   },
   {
    "duration": 5,
    "start_time": "2022-05-23T05:04:25.877Z"
   },
   {
    "duration": 14,
    "start_time": "2022-05-23T05:12:53.916Z"
   },
   {
    "duration": 20,
    "start_time": "2022-05-23T05:13:13.182Z"
   },
   {
    "duration": 18,
    "start_time": "2022-05-23T05:13:17.602Z"
   },
   {
    "duration": 15,
    "start_time": "2022-05-23T05:13:50.733Z"
   },
   {
    "duration": 17,
    "start_time": "2022-05-23T05:14:11.495Z"
   },
   {
    "duration": 22,
    "start_time": "2022-05-23T05:33:58.858Z"
   },
   {
    "duration": 24,
    "start_time": "2022-05-23T05:34:45.815Z"
   },
   {
    "duration": 21,
    "start_time": "2022-05-23T05:35:36.782Z"
   },
   {
    "duration": 1564,
    "start_time": "2022-05-23T05:56:09.667Z"
   },
   {
    "duration": 4,
    "start_time": "2022-05-23T05:56:11.234Z"
   },
   {
    "duration": 612,
    "start_time": "2022-05-23T05:56:11.240Z"
   },
   {
    "duration": 46,
    "start_time": "2022-05-23T05:56:11.854Z"
   },
   {
    "duration": 72,
    "start_time": "2022-05-23T05:56:11.902Z"
   },
   {
    "duration": 37,
    "start_time": "2022-05-23T05:56:11.976Z"
   },
   {
    "duration": 4,
    "start_time": "2022-05-23T05:56:12.015Z"
   },
   {
    "duration": 143,
    "start_time": "2022-05-23T05:56:12.021Z"
   },
   {
    "duration": 13,
    "start_time": "2022-05-23T05:56:12.165Z"
   },
   {
    "duration": 26,
    "start_time": "2022-05-23T05:56:12.180Z"
   },
   {
    "duration": 46,
    "start_time": "2022-05-23T05:56:12.208Z"
   },
   {
    "duration": 42,
    "start_time": "2022-05-23T05:56:12.256Z"
   },
   {
    "duration": 175,
    "start_time": "2022-05-23T05:56:12.300Z"
   },
   {
    "duration": 16,
    "start_time": "2022-05-23T05:56:12.477Z"
   },
   {
    "duration": 563,
    "start_time": "2022-05-23T05:56:12.495Z"
   },
   {
    "duration": 254,
    "start_time": "2022-05-23T05:56:13.060Z"
   },
   {
    "duration": 161,
    "start_time": "2022-05-23T05:56:13.316Z"
   },
   {
    "duration": 109,
    "start_time": "2022-05-23T05:56:13.478Z"
   },
   {
    "duration": 275,
    "start_time": "2022-05-23T05:56:13.589Z"
   },
   {
    "duration": 546,
    "start_time": "2022-05-23T05:56:13.866Z"
   },
   {
    "duration": 22,
    "start_time": "2022-05-23T05:56:14.414Z"
   },
   {
    "duration": 148,
    "start_time": "2022-05-23T05:56:14.438Z"
   },
   {
    "duration": 14,
    "start_time": "2022-05-23T05:56:14.589Z"
   },
   {
    "duration": 27,
    "start_time": "2022-05-23T05:56:14.605Z"
   },
   {
    "duration": 19,
    "start_time": "2022-05-23T05:56:14.634Z"
   },
   {
    "duration": 55,
    "start_time": "2022-05-23T05:56:14.655Z"
   },
   {
    "duration": 14,
    "start_time": "2022-05-23T05:56:14.712Z"
   },
   {
    "duration": 105,
    "start_time": "2022-05-23T05:56:14.729Z"
   },
   {
    "duration": 155,
    "start_time": "2022-05-23T05:56:14.836Z"
   },
   {
    "duration": 60,
    "start_time": "2022-05-23T05:56:14.993Z"
   },
   {
    "duration": 83,
    "start_time": "2022-05-23T05:56:15.055Z"
   },
   {
    "duration": 31,
    "start_time": "2022-05-23T05:56:15.152Z"
   },
   {
    "duration": 26,
    "start_time": "2022-05-23T05:56:15.185Z"
   },
   {
    "duration": 46,
    "start_time": "2022-05-23T05:56:15.212Z"
   },
   {
    "duration": 14,
    "start_time": "2022-05-23T05:56:15.260Z"
   },
   {
    "duration": 27,
    "start_time": "2022-05-23T05:56:15.276Z"
   },
   {
    "duration": 76,
    "start_time": "2022-05-23T05:56:15.305Z"
   },
   {
    "duration": 6,
    "start_time": "2022-05-23T05:56:15.383Z"
   },
   {
    "duration": 24,
    "start_time": "2022-05-23T05:56:15.391Z"
   },
   {
    "duration": 21,
    "start_time": "2022-05-23T05:56:15.453Z"
   },
   {
    "duration": 20,
    "start_time": "2022-05-23T05:56:15.477Z"
   },
   {
    "duration": 66,
    "start_time": "2022-05-23T05:56:15.500Z"
   },
   {
    "duration": 5,
    "start_time": "2022-05-23T05:56:15.568Z"
   },
   {
    "duration": 5,
    "start_time": "2022-05-23T06:06:28.413Z"
   },
   {
    "duration": 22,
    "start_time": "2022-05-23T06:06:52.101Z"
   },
   {
    "duration": 273,
    "start_time": "2022-05-23T06:11:44.600Z"
   },
   {
    "duration": 325,
    "start_time": "2022-05-23T06:12:24.183Z"
   },
   {
    "duration": 5,
    "start_time": "2022-05-23T06:15:11.317Z"
   },
   {
    "duration": 255,
    "start_time": "2022-05-23T06:15:38.299Z"
   },
   {
    "duration": 96,
    "start_time": "2022-05-23T06:17:59.594Z"
   },
   {
    "duration": 31,
    "start_time": "2022-05-23T06:23:07.494Z"
   },
   {
    "duration": 10,
    "start_time": "2022-05-23T06:23:33.115Z"
   },
   {
    "duration": 43,
    "start_time": "2022-05-23T06:34:23.362Z"
   },
   {
    "duration": 136,
    "start_time": "2022-05-23T06:34:31.480Z"
   },
   {
    "duration": 11,
    "start_time": "2022-05-23T06:35:32.087Z"
   },
   {
    "duration": 13,
    "start_time": "2022-05-23T06:36:00.951Z"
   },
   {
    "duration": 18,
    "start_time": "2022-05-23T06:36:59.174Z"
   },
   {
    "duration": 374,
    "start_time": "2022-05-23T06:39:28.371Z"
   },
   {
    "duration": 47,
    "start_time": "2022-05-23T06:41:12.976Z"
   },
   {
    "duration": 302,
    "start_time": "2022-05-23T06:41:37.017Z"
   },
   {
    "duration": 40,
    "start_time": "2022-05-23T06:43:08.747Z"
   },
   {
    "duration": 73,
    "start_time": "2022-05-23T06:44:10.865Z"
   },
   {
    "duration": 317,
    "start_time": "2022-05-23T06:44:37.758Z"
   },
   {
    "duration": 59,
    "start_time": "2022-05-23T06:56:44.002Z"
   },
   {
    "duration": 42,
    "start_time": "2022-05-23T06:57:36.631Z"
   },
   {
    "duration": 4,
    "start_time": "2022-05-23T06:58:01.231Z"
   },
   {
    "duration": 53,
    "start_time": "2022-05-23T06:58:16.974Z"
   },
   {
    "duration": 84,
    "start_time": "2022-05-23T06:58:17.740Z"
   },
   {
    "duration": 349,
    "start_time": "2022-05-23T07:06:13.129Z"
   },
   {
    "duration": 15,
    "start_time": "2022-05-23T07:07:01.854Z"
   },
   {
    "duration": 63,
    "start_time": "2022-05-23T07:07:26.789Z"
   },
   {
    "duration": 56,
    "start_time": "2022-05-23T07:08:03.759Z"
   },
   {
    "duration": 59,
    "start_time": "2022-05-23T07:08:16.803Z"
   },
   {
    "duration": 14,
    "start_time": "2022-05-23T07:10:27.106Z"
   },
   {
    "duration": 354,
    "start_time": "2022-05-23T07:12:15.093Z"
   },
   {
    "duration": 10,
    "start_time": "2022-05-23T07:14:27.157Z"
   },
   {
    "duration": 17,
    "start_time": "2022-05-23T07:14:33.853Z"
   },
   {
    "duration": 13,
    "start_time": "2022-05-23T07:16:52.758Z"
   },
   {
    "duration": 12,
    "start_time": "2022-05-23T07:17:03.185Z"
   },
   {
    "duration": 9,
    "start_time": "2022-05-23T07:17:13.090Z"
   },
   {
    "duration": 3,
    "start_time": "2022-05-23T07:17:20.398Z"
   },
   {
    "duration": 17,
    "start_time": "2022-05-23T07:17:20.403Z"
   },
   {
    "duration": 362,
    "start_time": "2022-05-23T07:17:20.481Z"
   },
   {
    "duration": 25,
    "start_time": "2022-05-23T07:17:20.851Z"
   },
   {
    "duration": 43,
    "start_time": "2022-05-23T07:17:20.878Z"
   },
   {
    "duration": 45,
    "start_time": "2022-05-23T07:17:20.923Z"
   },
   {
    "duration": 17,
    "start_time": "2022-05-23T07:17:20.970Z"
   },
   {
    "duration": 126,
    "start_time": "2022-05-23T07:17:20.989Z"
   },
   {
    "duration": 15,
    "start_time": "2022-05-23T07:17:21.116Z"
   },
   {
    "duration": 32,
    "start_time": "2022-05-23T07:17:21.132Z"
   },
   {
    "duration": 33,
    "start_time": "2022-05-23T07:17:21.166Z"
   },
   {
    "duration": 15,
    "start_time": "2022-05-23T07:17:21.203Z"
   },
   {
    "duration": 100,
    "start_time": "2022-05-23T07:17:21.220Z"
   },
   {
    "duration": 160,
    "start_time": "2022-05-23T07:17:21.321Z"
   },
   {
    "duration": 14,
    "start_time": "2022-05-23T07:17:21.483Z"
   },
   {
    "duration": 281,
    "start_time": "2022-05-23T07:17:21.499Z"
   },
   {
    "duration": 254,
    "start_time": "2022-05-23T07:17:21.782Z"
   },
   {
    "duration": 169,
    "start_time": "2022-05-23T07:17:22.037Z"
   },
   {
    "duration": 99,
    "start_time": "2022-05-23T07:17:22.208Z"
   },
   {
    "duration": 282,
    "start_time": "2022-05-23T07:17:22.309Z"
   },
   {
    "duration": 572,
    "start_time": "2022-05-23T07:17:22.593Z"
   },
   {
    "duration": 280,
    "start_time": "2022-05-23T07:17:23.166Z"
   },
   {
    "duration": 22,
    "start_time": "2022-05-23T07:17:23.452Z"
   },
   {
    "duration": 251,
    "start_time": "2022-05-23T07:17:23.475Z"
   },
   {
    "duration": 12,
    "start_time": "2022-05-23T07:17:23.728Z"
   },
   {
    "duration": 54,
    "start_time": "2022-05-23T07:17:23.742Z"
   },
   {
    "duration": 3,
    "start_time": "2022-05-23T07:17:23.798Z"
   },
   {
    "duration": 71,
    "start_time": "2022-05-23T07:17:23.803Z"
   },
   {
    "duration": 86,
    "start_time": "2022-05-23T07:17:23.875Z"
   },
   {
    "duration": 14,
    "start_time": "2022-05-23T07:17:23.964Z"
   },
   {
    "duration": 64,
    "start_time": "2022-05-23T07:17:23.980Z"
   },
   {
    "duration": 675,
    "start_time": "2022-05-23T07:17:24.046Z"
   },
   {
    "duration": 0,
    "start_time": "2022-05-23T07:17:24.723Z"
   },
   {
    "duration": 0,
    "start_time": "2022-05-23T07:17:24.725Z"
   },
   {
    "duration": 0,
    "start_time": "2022-05-23T07:17:24.727Z"
   },
   {
    "duration": 0,
    "start_time": "2022-05-23T07:17:24.728Z"
   },
   {
    "duration": 0,
    "start_time": "2022-05-23T07:17:24.729Z"
   },
   {
    "duration": 0,
    "start_time": "2022-05-23T07:17:24.731Z"
   },
   {
    "duration": 0,
    "start_time": "2022-05-23T07:17:24.732Z"
   },
   {
    "duration": 0,
    "start_time": "2022-05-23T07:17:24.734Z"
   },
   {
    "duration": 0,
    "start_time": "2022-05-23T07:17:24.735Z"
   },
   {
    "duration": 1,
    "start_time": "2022-05-23T07:17:24.752Z"
   },
   {
    "duration": 0,
    "start_time": "2022-05-23T07:17:24.754Z"
   },
   {
    "duration": 0,
    "start_time": "2022-05-23T07:17:24.756Z"
   },
   {
    "duration": 0,
    "start_time": "2022-05-23T07:17:24.757Z"
   },
   {
    "duration": 0,
    "start_time": "2022-05-23T07:17:24.759Z"
   },
   {
    "duration": 0,
    "start_time": "2022-05-23T07:17:24.760Z"
   },
   {
    "duration": 11,
    "start_time": "2022-05-23T07:17:41.984Z"
   },
   {
    "duration": 11,
    "start_time": "2022-05-23T07:17:47.456Z"
   },
   {
    "duration": 17,
    "start_time": "2022-05-23T07:17:54.668Z"
   },
   {
    "duration": 12,
    "start_time": "2022-05-23T07:18:03.129Z"
   },
   {
    "duration": 167,
    "start_time": "2022-05-23T07:20:56.972Z"
   },
   {
    "duration": 6,
    "start_time": "2022-05-23T07:21:06.350Z"
   },
   {
    "duration": 6,
    "start_time": "2022-05-23T07:21:09.139Z"
   },
   {
    "duration": 4,
    "start_time": "2022-05-23T07:21:11.311Z"
   },
   {
    "duration": 6,
    "start_time": "2022-05-23T07:21:11.317Z"
   },
   {
    "duration": 359,
    "start_time": "2022-05-23T07:21:11.324Z"
   },
   {
    "duration": 25,
    "start_time": "2022-05-23T07:21:11.685Z"
   },
   {
    "duration": 52,
    "start_time": "2022-05-23T07:21:11.712Z"
   },
   {
    "duration": 32,
    "start_time": "2022-05-23T07:21:11.765Z"
   },
   {
    "duration": 4,
    "start_time": "2022-05-23T07:21:11.798Z"
   },
   {
    "duration": 129,
    "start_time": "2022-05-23T07:21:11.803Z"
   },
   {
    "duration": 18,
    "start_time": "2022-05-23T07:21:11.934Z"
   },
   {
    "duration": 28,
    "start_time": "2022-05-23T07:21:11.954Z"
   },
   {
    "duration": 38,
    "start_time": "2022-05-23T07:21:11.985Z"
   },
   {
    "duration": 28,
    "start_time": "2022-05-23T07:21:12.024Z"
   },
   {
    "duration": 85,
    "start_time": "2022-05-23T07:21:12.054Z"
   },
   {
    "duration": 164,
    "start_time": "2022-05-23T07:21:12.140Z"
   },
   {
    "duration": 15,
    "start_time": "2022-05-23T07:21:12.306Z"
   },
   {
    "duration": 282,
    "start_time": "2022-05-23T07:21:12.323Z"
   },
   {
    "duration": 358,
    "start_time": "2022-05-23T07:21:12.608Z"
   },
   {
    "duration": 162,
    "start_time": "2022-05-23T07:21:12.969Z"
   },
   {
    "duration": 100,
    "start_time": "2022-05-23T07:21:13.133Z"
   },
   {
    "duration": 271,
    "start_time": "2022-05-23T07:21:13.235Z"
   },
   {
    "duration": 540,
    "start_time": "2022-05-23T07:21:13.507Z"
   },
   {
    "duration": 301,
    "start_time": "2022-05-23T07:21:14.049Z"
   },
   {
    "duration": 21,
    "start_time": "2022-05-23T07:21:14.352Z"
   },
   {
    "duration": 147,
    "start_time": "2022-05-23T07:21:14.375Z"
   },
   {
    "duration": 12,
    "start_time": "2022-05-23T07:21:14.523Z"
   },
   {
    "duration": 56,
    "start_time": "2022-05-23T07:21:14.537Z"
   },
   {
    "duration": 3,
    "start_time": "2022-05-23T07:21:14.595Z"
   },
   {
    "duration": 61,
    "start_time": "2022-05-23T07:21:14.599Z"
   },
   {
    "duration": 90,
    "start_time": "2022-05-23T07:21:14.663Z"
   },
   {
    "duration": 14,
    "start_time": "2022-05-23T07:21:14.755Z"
   },
   {
    "duration": 16,
    "start_time": "2022-05-23T07:21:14.771Z"
   },
   {
    "duration": 196,
    "start_time": "2022-05-23T07:21:14.788Z"
   },
   {
    "duration": 0,
    "start_time": "2022-05-23T07:21:14.987Z"
   },
   {
    "duration": 0,
    "start_time": "2022-05-23T07:21:14.989Z"
   },
   {
    "duration": 1,
    "start_time": "2022-05-23T07:21:14.990Z"
   },
   {
    "duration": 0,
    "start_time": "2022-05-23T07:21:14.992Z"
   },
   {
    "duration": 0,
    "start_time": "2022-05-23T07:21:14.993Z"
   },
   {
    "duration": 0,
    "start_time": "2022-05-23T07:21:14.995Z"
   },
   {
    "duration": 0,
    "start_time": "2022-05-23T07:21:14.996Z"
   },
   {
    "duration": 0,
    "start_time": "2022-05-23T07:21:14.998Z"
   },
   {
    "duration": 1,
    "start_time": "2022-05-23T07:21:14.999Z"
   },
   {
    "duration": 0,
    "start_time": "2022-05-23T07:21:15.001Z"
   },
   {
    "duration": 0,
    "start_time": "2022-05-23T07:21:15.002Z"
   },
   {
    "duration": 0,
    "start_time": "2022-05-23T07:21:15.004Z"
   },
   {
    "duration": 0,
    "start_time": "2022-05-23T07:21:15.005Z"
   },
   {
    "duration": 0,
    "start_time": "2022-05-23T07:21:15.007Z"
   },
   {
    "duration": 0,
    "start_time": "2022-05-23T07:21:15.008Z"
   },
   {
    "duration": 22,
    "start_time": "2022-05-23T07:23:38.066Z"
   },
   {
    "duration": 10,
    "start_time": "2022-05-23T07:23:48.187Z"
   },
   {
    "duration": 15,
    "start_time": "2022-05-23T07:23:50.954Z"
   },
   {
    "duration": 21,
    "start_time": "2022-05-23T07:24:28.592Z"
   },
   {
    "duration": 22,
    "start_time": "2022-05-23T07:24:37.187Z"
   },
   {
    "duration": 30,
    "start_time": "2022-05-23T07:25:32.071Z"
   },
   {
    "duration": 15,
    "start_time": "2022-05-23T07:25:35.168Z"
   },
   {
    "duration": 12,
    "start_time": "2022-05-23T07:25:47.863Z"
   },
   {
    "duration": 9,
    "start_time": "2022-05-23T07:26:03.224Z"
   },
   {
    "duration": 63,
    "start_time": "2022-05-23T07:26:38.319Z"
   },
   {
    "duration": 64,
    "start_time": "2022-05-23T07:26:45.198Z"
   },
   {
    "duration": 19,
    "start_time": "2022-05-23T07:27:19.670Z"
   },
   {
    "duration": 4,
    "start_time": "2022-05-23T07:27:24.357Z"
   },
   {
    "duration": 8,
    "start_time": "2022-05-23T07:27:24.363Z"
   },
   {
    "duration": 350,
    "start_time": "2022-05-23T07:27:24.373Z"
   },
   {
    "duration": 36,
    "start_time": "2022-05-23T07:27:24.725Z"
   },
   {
    "duration": 41,
    "start_time": "2022-05-23T07:27:24.763Z"
   },
   {
    "duration": 47,
    "start_time": "2022-05-23T07:27:24.806Z"
   },
   {
    "duration": 4,
    "start_time": "2022-05-23T07:27:24.855Z"
   },
   {
    "duration": 118,
    "start_time": "2022-05-23T07:27:24.861Z"
   },
   {
    "duration": 12,
    "start_time": "2022-05-23T07:27:24.981Z"
   },
   {
    "duration": 30,
    "start_time": "2022-05-23T07:27:24.995Z"
   },
   {
    "duration": 50,
    "start_time": "2022-05-23T07:27:25.029Z"
   },
   {
    "duration": 16,
    "start_time": "2022-05-23T07:27:25.081Z"
   },
   {
    "duration": 142,
    "start_time": "2022-05-23T07:27:25.099Z"
   },
   {
    "duration": 245,
    "start_time": "2022-05-23T07:27:25.243Z"
   },
   {
    "duration": 20,
    "start_time": "2022-05-23T07:27:25.491Z"
   },
   {
    "duration": 421,
    "start_time": "2022-05-23T07:27:25.514Z"
   },
   {
    "duration": 315,
    "start_time": "2022-05-23T07:27:25.937Z"
   },
   {
    "duration": 168,
    "start_time": "2022-05-23T07:27:26.254Z"
   },
   {
    "duration": 128,
    "start_time": "2022-05-23T07:27:26.424Z"
   },
   {
    "duration": 273,
    "start_time": "2022-05-23T07:27:26.553Z"
   },
   {
    "duration": 718,
    "start_time": "2022-05-23T07:27:26.828Z"
   },
   {
    "duration": 387,
    "start_time": "2022-05-23T07:27:27.548Z"
   },
   {
    "duration": 32,
    "start_time": "2022-05-23T07:27:27.936Z"
   },
   {
    "duration": 210,
    "start_time": "2022-05-23T07:27:27.970Z"
   },
   {
    "duration": 14,
    "start_time": "2022-05-23T07:27:28.182Z"
   },
   {
    "duration": 78,
    "start_time": "2022-05-23T07:27:28.199Z"
   },
   {
    "duration": 4,
    "start_time": "2022-05-23T07:27:28.279Z"
   },
   {
    "duration": 67,
    "start_time": "2022-05-23T07:27:28.285Z"
   },
   {
    "duration": 132,
    "start_time": "2022-05-23T07:27:28.357Z"
   },
   {
    "duration": 18,
    "start_time": "2022-05-23T07:27:28.491Z"
   },
   {
    "duration": 15,
    "start_time": "2022-05-23T07:27:28.511Z"
   },
   {
    "duration": 194,
    "start_time": "2022-05-23T07:27:28.528Z"
   },
   {
    "duration": 89,
    "start_time": "2022-05-23T07:27:28.724Z"
   },
   {
    "duration": 61,
    "start_time": "2022-05-23T07:27:28.815Z"
   },
   {
    "duration": 106,
    "start_time": "2022-05-23T07:27:28.879Z"
   },
   {
    "duration": 32,
    "start_time": "2022-05-23T07:27:28.987Z"
   },
   {
    "duration": 54,
    "start_time": "2022-05-23T07:27:29.021Z"
   },
   {
    "duration": 25,
    "start_time": "2022-05-23T07:27:29.078Z"
   },
   {
    "duration": 18,
    "start_time": "2022-05-23T07:27:29.106Z"
   },
   {
    "duration": 23,
    "start_time": "2022-05-23T07:27:29.151Z"
   },
   {
    "duration": 85,
    "start_time": "2022-05-23T07:27:29.177Z"
   },
   {
    "duration": 7,
    "start_time": "2022-05-23T07:27:29.265Z"
   },
   {
    "duration": 18,
    "start_time": "2022-05-23T07:27:29.274Z"
   },
   {
    "duration": 21,
    "start_time": "2022-05-23T07:27:29.294Z"
   },
   {
    "duration": 37,
    "start_time": "2022-05-23T07:27:29.317Z"
   },
   {
    "duration": 18,
    "start_time": "2022-05-23T07:27:29.357Z"
   },
   {
    "duration": 14,
    "start_time": "2022-05-23T07:27:29.377Z"
   },
   {
    "duration": 16,
    "start_time": "2022-05-23T07:27:46.318Z"
   },
   {
    "duration": 4,
    "start_time": "2022-05-23T07:28:28.465Z"
   },
   {
    "duration": 7,
    "start_time": "2022-05-23T07:28:28.471Z"
   },
   {
    "duration": 379,
    "start_time": "2022-05-23T07:28:28.479Z"
   },
   {
    "duration": 28,
    "start_time": "2022-05-23T07:28:28.860Z"
   },
   {
    "duration": 45,
    "start_time": "2022-05-23T07:28:28.890Z"
   },
   {
    "duration": 31,
    "start_time": "2022-05-23T07:28:28.951Z"
   },
   {
    "duration": 4,
    "start_time": "2022-05-23T07:28:28.984Z"
   },
   {
    "duration": 135,
    "start_time": "2022-05-23T07:28:28.989Z"
   },
   {
    "duration": 16,
    "start_time": "2022-05-23T07:28:29.127Z"
   },
   {
    "duration": 30,
    "start_time": "2022-05-23T07:28:29.152Z"
   },
   {
    "duration": 35,
    "start_time": "2022-05-23T07:28:29.185Z"
   },
   {
    "duration": 14,
    "start_time": "2022-05-23T07:28:29.222Z"
   },
   {
    "duration": 85,
    "start_time": "2022-05-23T07:28:29.252Z"
   },
   {
    "duration": 165,
    "start_time": "2022-05-23T07:28:29.352Z"
   },
   {
    "duration": 16,
    "start_time": "2022-05-23T07:28:29.519Z"
   },
   {
    "duration": 293,
    "start_time": "2022-05-23T07:28:29.537Z"
   },
   {
    "duration": 280,
    "start_time": "2022-05-23T07:28:29.832Z"
   },
   {
    "duration": 180,
    "start_time": "2022-05-23T07:28:30.114Z"
   },
   {
    "duration": 111,
    "start_time": "2022-05-23T07:28:30.296Z"
   },
   {
    "duration": 298,
    "start_time": "2022-05-23T07:28:30.408Z"
   },
   {
    "duration": 619,
    "start_time": "2022-05-23T07:28:30.708Z"
   },
   {
    "duration": 304,
    "start_time": "2022-05-23T07:28:31.329Z"
   },
   {
    "duration": 36,
    "start_time": "2022-05-23T07:28:31.634Z"
   },
   {
    "duration": 158,
    "start_time": "2022-05-23T07:28:31.674Z"
   },
   {
    "duration": 23,
    "start_time": "2022-05-23T07:28:31.833Z"
   },
   {
    "duration": 58,
    "start_time": "2022-05-23T07:28:31.858Z"
   },
   {
    "duration": 5,
    "start_time": "2022-05-23T07:28:31.918Z"
   },
   {
    "duration": 87,
    "start_time": "2022-05-23T07:28:31.925Z"
   },
   {
    "duration": 260,
    "start_time": "2022-05-23T07:28:32.015Z"
   },
   {
    "duration": 20,
    "start_time": "2022-05-23T07:28:32.277Z"
   },
   {
    "duration": 15,
    "start_time": "2022-05-23T07:28:32.299Z"
   },
   {
    "duration": 84,
    "start_time": "2022-05-23T07:28:32.316Z"
   },
   {
    "duration": 66,
    "start_time": "2022-05-23T07:28:32.402Z"
   },
   {
    "duration": 143,
    "start_time": "2022-05-23T07:28:32.470Z"
   },
   {
    "duration": 57,
    "start_time": "2022-05-23T07:28:32.615Z"
   },
   {
    "duration": 41,
    "start_time": "2022-05-23T07:28:32.674Z"
   },
   {
    "duration": 36,
    "start_time": "2022-05-23T07:28:32.717Z"
   },
   {
    "duration": 14,
    "start_time": "2022-05-23T07:28:32.755Z"
   },
   {
    "duration": 57,
    "start_time": "2022-05-23T07:28:32.772Z"
   },
   {
    "duration": 51,
    "start_time": "2022-05-23T07:28:32.831Z"
   },
   {
    "duration": 6,
    "start_time": "2022-05-23T07:28:32.884Z"
   },
   {
    "duration": 21,
    "start_time": "2022-05-23T07:28:32.891Z"
   },
   {
    "duration": 17,
    "start_time": "2022-05-23T07:28:32.913Z"
   },
   {
    "duration": 13,
    "start_time": "2022-05-23T07:28:32.953Z"
   },
   {
    "duration": 20,
    "start_time": "2022-05-23T07:28:32.968Z"
   },
   {
    "duration": 9,
    "start_time": "2022-05-23T07:28:32.990Z"
   },
   {
    "duration": 961,
    "start_time": "2022-05-23T07:33:55.753Z"
   },
   {
    "duration": 3668,
    "start_time": "2022-05-23T07:35:37.957Z"
   },
   {
    "duration": 1172,
    "start_time": "2022-05-23T07:43:29.630Z"
   },
   {
    "duration": 5,
    "start_time": "2022-05-23T07:43:34.919Z"
   },
   {
    "duration": 5,
    "start_time": "2022-05-23T07:43:34.926Z"
   },
   {
    "duration": 468,
    "start_time": "2022-05-23T07:43:34.933Z"
   },
   {
    "duration": 35,
    "start_time": "2022-05-23T07:43:35.407Z"
   },
   {
    "duration": 73,
    "start_time": "2022-05-23T07:43:35.444Z"
   },
   {
    "duration": 36,
    "start_time": "2022-05-23T07:43:35.519Z"
   },
   {
    "duration": 23,
    "start_time": "2022-05-23T07:43:35.557Z"
   },
   {
    "duration": 178,
    "start_time": "2022-05-23T07:43:35.583Z"
   },
   {
    "duration": 17,
    "start_time": "2022-05-23T07:43:35.764Z"
   },
   {
    "duration": 35,
    "start_time": "2022-05-23T07:43:35.784Z"
   },
   {
    "duration": 63,
    "start_time": "2022-05-23T07:43:35.822Z"
   },
   {
    "duration": 13,
    "start_time": "2022-05-23T07:43:35.886Z"
   },
   {
    "duration": 104,
    "start_time": "2022-05-23T07:43:35.901Z"
   },
   {
    "duration": 197,
    "start_time": "2022-05-23T07:43:36.007Z"
   },
   {
    "duration": 18,
    "start_time": "2022-05-23T07:43:36.206Z"
   },
   {
    "duration": 320,
    "start_time": "2022-05-23T07:43:36.226Z"
   },
   {
    "duration": 278,
    "start_time": "2022-05-23T07:43:36.552Z"
   },
   {
    "duration": 169,
    "start_time": "2022-05-23T07:43:36.832Z"
   },
   {
    "duration": 123,
    "start_time": "2022-05-23T07:43:37.003Z"
   },
   {
    "duration": 283,
    "start_time": "2022-05-23T07:43:37.128Z"
   },
   {
    "duration": 616,
    "start_time": "2022-05-23T07:43:37.413Z"
   },
   {
    "duration": 329,
    "start_time": "2022-05-23T07:43:38.031Z"
   },
   {
    "duration": 27,
    "start_time": "2022-05-23T07:43:38.363Z"
   },
   {
    "duration": 162,
    "start_time": "2022-05-23T07:43:38.393Z"
   },
   {
    "duration": 17,
    "start_time": "2022-05-23T07:43:38.557Z"
   },
   {
    "duration": 43,
    "start_time": "2022-05-23T07:43:38.576Z"
   },
   {
    "duration": 4,
    "start_time": "2022-05-23T07:43:38.620Z"
   },
   {
    "duration": 76,
    "start_time": "2022-05-23T07:43:38.626Z"
   },
   {
    "duration": 108,
    "start_time": "2022-05-23T07:43:38.704Z"
   },
   {
    "duration": 19,
    "start_time": "2022-05-23T07:43:38.814Z"
   },
   {
    "duration": 92,
    "start_time": "2022-05-23T07:43:38.835Z"
   },
   {
    "duration": 71,
    "start_time": "2022-05-23T07:43:38.929Z"
   },
   {
    "duration": 113,
    "start_time": "2022-05-23T07:43:39.001Z"
   },
   {
    "duration": 37,
    "start_time": "2022-05-23T07:43:39.116Z"
   },
   {
    "duration": 33,
    "start_time": "2022-05-23T07:43:39.155Z"
   },
   {
    "duration": 22,
    "start_time": "2022-05-23T07:43:39.190Z"
   },
   {
    "duration": 14,
    "start_time": "2022-05-23T07:43:39.213Z"
   },
   {
    "duration": 27,
    "start_time": "2022-05-23T07:43:39.258Z"
   },
   {
    "duration": 45,
    "start_time": "2022-05-23T07:43:39.287Z"
   },
   {
    "duration": 17,
    "start_time": "2022-05-23T07:43:39.334Z"
   },
   {
    "duration": 17,
    "start_time": "2022-05-23T07:43:39.354Z"
   },
   {
    "duration": 49,
    "start_time": "2022-05-23T07:43:39.373Z"
   },
   {
    "duration": 10,
    "start_time": "2022-05-23T07:43:39.425Z"
   },
   {
    "duration": 19,
    "start_time": "2022-05-23T07:43:39.437Z"
   },
   {
    "duration": 26,
    "start_time": "2022-05-23T07:43:39.458Z"
   },
   {
    "duration": 34,
    "start_time": "2022-05-23T07:43:43.284Z"
   },
   {
    "duration": 59,
    "start_time": "2022-05-23T07:44:42.789Z"
   },
   {
    "duration": 50,
    "start_time": "2022-05-23T07:44:51.502Z"
   },
   {
    "duration": 32,
    "start_time": "2022-05-23T07:45:06.164Z"
   },
   {
    "duration": 40,
    "start_time": "2022-05-23T07:45:27.487Z"
   },
   {
    "duration": 40,
    "start_time": "2022-05-23T07:45:33.248Z"
   },
   {
    "duration": 33,
    "start_time": "2022-05-23T07:45:42.860Z"
   },
   {
    "duration": 34,
    "start_time": "2022-05-23T07:46:23.190Z"
   },
   {
    "duration": 26,
    "start_time": "2022-05-23T07:47:13.825Z"
   },
   {
    "duration": 51,
    "start_time": "2022-05-23T07:47:23.113Z"
   },
   {
    "duration": 27,
    "start_time": "2022-05-23T07:47:38.647Z"
   },
   {
    "duration": 24,
    "start_time": "2022-05-23T07:47:50.347Z"
   },
   {
    "duration": 72,
    "start_time": "2022-05-23T07:49:43.103Z"
   },
   {
    "duration": 82,
    "start_time": "2022-05-23T07:49:47.399Z"
   },
   {
    "duration": 70,
    "start_time": "2022-05-23T07:49:54.197Z"
   },
   {
    "duration": 31,
    "start_time": "2022-05-23T07:50:33.605Z"
   },
   {
    "duration": 33,
    "start_time": "2022-05-23T07:52:11.427Z"
   },
   {
    "duration": 29,
    "start_time": "2022-05-23T07:52:13.706Z"
   },
   {
    "duration": 37,
    "start_time": "2022-05-23T07:52:46.772Z"
   },
   {
    "duration": 33,
    "start_time": "2022-05-23T07:52:53.899Z"
   },
   {
    "duration": 33,
    "start_time": "2022-05-23T07:53:02.148Z"
   },
   {
    "duration": 34,
    "start_time": "2022-05-23T07:53:04.611Z"
   },
   {
    "duration": 5,
    "start_time": "2022-05-23T07:53:08.059Z"
   },
   {
    "duration": 29,
    "start_time": "2022-05-23T07:53:10.961Z"
   },
   {
    "duration": 34,
    "start_time": "2022-05-23T07:53:46.250Z"
   },
   {
    "duration": 28,
    "start_time": "2022-05-23T07:53:55.993Z"
   },
   {
    "duration": 32,
    "start_time": "2022-05-23T07:54:36.512Z"
   },
   {
    "duration": 27,
    "start_time": "2022-05-23T07:54:42.831Z"
   },
   {
    "duration": 217,
    "start_time": "2022-05-23T07:54:53.761Z"
   },
   {
    "duration": 30,
    "start_time": "2022-05-23T07:55:21.983Z"
   },
   {
    "duration": 52,
    "start_time": "2022-05-23T07:55:32.809Z"
   },
   {
    "duration": 31,
    "start_time": "2022-05-23T07:56:31.702Z"
   },
   {
    "duration": 43,
    "start_time": "2022-05-23T07:56:41.108Z"
   },
   {
    "duration": 31,
    "start_time": "2022-05-23T07:57:09.957Z"
   },
   {
    "duration": 35,
    "start_time": "2022-05-23T07:57:22.215Z"
   },
   {
    "duration": 229,
    "start_time": "2022-05-23T07:57:41.841Z"
   },
   {
    "duration": 297,
    "start_time": "2022-05-23T07:57:48.925Z"
   },
   {
    "duration": 222,
    "start_time": "2022-05-23T07:57:55.782Z"
   },
   {
    "duration": 46,
    "start_time": "2022-05-23T08:01:56.569Z"
   },
   {
    "duration": 32,
    "start_time": "2022-05-23T08:02:16.298Z"
   },
   {
    "duration": 51,
    "start_time": "2022-05-23T08:02:43.616Z"
   },
   {
    "duration": 42,
    "start_time": "2022-05-23T08:02:49.146Z"
   },
   {
    "duration": 37,
    "start_time": "2022-05-23T08:03:12.607Z"
   },
   {
    "duration": 32,
    "start_time": "2022-05-23T08:03:53.263Z"
   },
   {
    "duration": 241,
    "start_time": "2022-05-23T08:04:17.464Z"
   },
   {
    "duration": 254,
    "start_time": "2022-05-23T08:04:26.150Z"
   },
   {
    "duration": 252,
    "start_time": "2022-05-23T08:04:30.111Z"
   },
   {
    "duration": 228,
    "start_time": "2022-05-23T08:04:36.943Z"
   },
   {
    "duration": 162,
    "start_time": "2022-05-23T08:06:28.333Z"
   },
   {
    "duration": 232,
    "start_time": "2022-05-23T08:06:38.731Z"
   },
   {
    "duration": 250,
    "start_time": "2022-05-23T08:06:45.628Z"
   },
   {
    "duration": 48,
    "start_time": "2022-05-23T08:08:05.908Z"
   },
   {
    "duration": 277,
    "start_time": "2022-05-23T08:08:19.450Z"
   },
   {
    "duration": 223,
    "start_time": "2022-05-23T08:08:28.362Z"
   },
   {
    "duration": 52,
    "start_time": "2022-05-23T08:09:18.138Z"
   },
   {
    "duration": 42,
    "start_time": "2022-05-23T08:09:24.097Z"
   },
   {
    "duration": 42,
    "start_time": "2022-05-23T08:10:26.880Z"
   },
   {
    "duration": 33,
    "start_time": "2022-05-23T08:10:42.024Z"
   },
   {
    "duration": 4,
    "start_time": "2022-05-23T08:11:04.492Z"
   },
   {
    "duration": 8,
    "start_time": "2022-05-23T08:11:04.498Z"
   },
   {
    "duration": 372,
    "start_time": "2022-05-23T08:11:04.508Z"
   },
   {
    "duration": 26,
    "start_time": "2022-05-23T08:11:04.882Z"
   },
   {
    "duration": 168,
    "start_time": "2022-05-23T08:11:04.910Z"
   },
   {
    "duration": 34,
    "start_time": "2022-05-23T08:11:05.080Z"
   },
   {
    "duration": 5,
    "start_time": "2022-05-23T08:11:05.116Z"
   },
   {
    "duration": 181,
    "start_time": "2022-05-23T08:11:05.123Z"
   },
   {
    "duration": 19,
    "start_time": "2022-05-23T08:11:05.306Z"
   },
   {
    "duration": 58,
    "start_time": "2022-05-23T08:11:05.327Z"
   },
   {
    "duration": 65,
    "start_time": "2022-05-23T08:11:05.389Z"
   },
   {
    "duration": 16,
    "start_time": "2022-05-23T08:11:05.457Z"
   },
   {
    "duration": 114,
    "start_time": "2022-05-23T08:11:05.475Z"
   },
   {
    "duration": 161,
    "start_time": "2022-05-23T08:11:05.592Z"
   },
   {
    "duration": 17,
    "start_time": "2022-05-23T08:11:05.755Z"
   },
   {
    "duration": 286,
    "start_time": "2022-05-23T08:11:05.774Z"
   },
   {
    "duration": 287,
    "start_time": "2022-05-23T08:11:06.062Z"
   },
   {
    "duration": 162,
    "start_time": "2022-05-23T08:11:06.351Z"
   },
   {
    "duration": 107,
    "start_time": "2022-05-23T08:11:06.515Z"
   },
   {
    "duration": 284,
    "start_time": "2022-05-23T08:11:06.624Z"
   },
   {
    "duration": 552,
    "start_time": "2022-05-23T08:11:06.909Z"
   },
   {
    "duration": 294,
    "start_time": "2022-05-23T08:11:07.463Z"
   },
   {
    "duration": 22,
    "start_time": "2022-05-23T08:11:07.759Z"
   },
   {
    "duration": 153,
    "start_time": "2022-05-23T08:11:07.783Z"
   },
   {
    "duration": 19,
    "start_time": "2022-05-23T08:11:07.938Z"
   },
   {
    "duration": 40,
    "start_time": "2022-05-23T08:11:07.959Z"
   },
   {
    "duration": 5,
    "start_time": "2022-05-23T08:11:08.000Z"
   },
   {
    "duration": 76,
    "start_time": "2022-05-23T08:11:08.007Z"
   },
   {
    "duration": 96,
    "start_time": "2022-05-23T08:11:08.087Z"
   },
   {
    "duration": 35,
    "start_time": "2022-05-23T08:11:08.185Z"
   },
   {
    "duration": 58,
    "start_time": "2022-05-23T08:11:08.222Z"
   },
   {
    "duration": 230,
    "start_time": "2022-05-23T08:11:08.282Z"
   },
   {
    "duration": 66,
    "start_time": "2022-05-23T08:11:08.514Z"
   },
   {
    "duration": 51,
    "start_time": "2022-05-23T08:11:08.582Z"
   },
   {
    "duration": 98,
    "start_time": "2022-05-23T08:11:08.635Z"
   },
   {
    "duration": 37,
    "start_time": "2022-05-23T08:11:08.734Z"
   },
   {
    "duration": 38,
    "start_time": "2022-05-23T08:11:08.773Z"
   },
   {
    "duration": 44,
    "start_time": "2022-05-23T08:11:08.813Z"
   },
   {
    "duration": 17,
    "start_time": "2022-05-23T08:11:08.859Z"
   },
   {
    "duration": 24,
    "start_time": "2022-05-23T08:11:08.878Z"
   },
   {
    "duration": 71,
    "start_time": "2022-05-23T08:11:08.903Z"
   },
   {
    "duration": 6,
    "start_time": "2022-05-23T08:11:08.976Z"
   },
   {
    "duration": 13,
    "start_time": "2022-05-23T08:11:08.984Z"
   },
   {
    "duration": 16,
    "start_time": "2022-05-23T08:11:08.999Z"
   },
   {
    "duration": 36,
    "start_time": "2022-05-23T08:11:09.016Z"
   },
   {
    "duration": 16,
    "start_time": "2022-05-23T08:11:09.053Z"
   },
   {
    "duration": 8,
    "start_time": "2022-05-23T08:11:09.070Z"
   },
   {
    "duration": 34,
    "start_time": "2022-05-23T08:11:40.487Z"
   },
   {
    "duration": 49,
    "start_time": "2022-05-23T08:12:17.614Z"
   },
   {
    "duration": 212,
    "start_time": "2022-05-23T08:13:48.181Z"
   },
   {
    "duration": 13,
    "start_time": "2022-05-23T08:14:04.476Z"
   },
   {
    "duration": 13,
    "start_time": "2022-05-23T08:14:14.861Z"
   },
   {
    "duration": 188,
    "start_time": "2022-05-23T08:14:23.772Z"
   },
   {
    "duration": 341,
    "start_time": "2022-05-23T08:14:34.709Z"
   },
   {
    "duration": 291,
    "start_time": "2022-05-23T08:15:03.355Z"
   },
   {
    "duration": 328,
    "start_time": "2022-05-23T08:15:20.420Z"
   },
   {
    "duration": 271,
    "start_time": "2022-05-23T08:15:24.892Z"
   },
   {
    "duration": 291,
    "start_time": "2022-05-23T08:15:29.435Z"
   },
   {
    "duration": 265,
    "start_time": "2022-05-23T08:15:37.994Z"
   },
   {
    "duration": 314,
    "start_time": "2022-05-23T08:15:45.210Z"
   },
   {
    "duration": 245,
    "start_time": "2022-05-23T08:15:51.418Z"
   },
   {
    "duration": 289,
    "start_time": "2022-05-23T08:16:02.058Z"
   },
   {
    "duration": 245,
    "start_time": "2022-05-23T08:16:23.026Z"
   },
   {
    "duration": 191,
    "start_time": "2022-05-23T08:16:33.618Z"
   },
   {
    "duration": 247,
    "start_time": "2022-05-23T08:19:43.599Z"
   },
   {
    "duration": 361,
    "start_time": "2022-05-23T08:20:16.069Z"
   },
   {
    "duration": 213,
    "start_time": "2022-05-23T08:20:22.741Z"
   },
   {
    "duration": 196,
    "start_time": "2022-05-23T08:20:29.781Z"
   },
   {
    "duration": 188,
    "start_time": "2022-05-23T08:20:33.613Z"
   },
   {
    "duration": 183,
    "start_time": "2022-05-23T08:20:38.125Z"
   },
   {
    "duration": 245,
    "start_time": "2022-05-23T08:20:48.022Z"
   },
   {
    "duration": 210,
    "start_time": "2022-05-23T08:20:57.620Z"
   },
   {
    "duration": 219,
    "start_time": "2022-05-23T08:21:11.707Z"
   },
   {
    "duration": 217,
    "start_time": "2022-05-23T08:21:20.172Z"
   },
   {
    "duration": 237,
    "start_time": "2022-05-23T08:21:26.051Z"
   },
   {
    "duration": 290,
    "start_time": "2022-05-23T08:21:37.653Z"
   },
   {
    "duration": 325,
    "start_time": "2022-05-23T08:21:46.884Z"
   },
   {
    "duration": 208,
    "start_time": "2022-05-23T08:21:50.692Z"
   },
   {
    "duration": 205,
    "start_time": "2022-05-23T08:21:57.932Z"
   },
   {
    "duration": 205,
    "start_time": "2022-05-23T08:22:00.859Z"
   },
   {
    "duration": 945,
    "start_time": "2022-05-23T08:23:03.259Z"
   },
   {
    "duration": 42,
    "start_time": "2022-05-23T08:23:12.250Z"
   },
   {
    "duration": 29,
    "start_time": "2022-05-23T08:23:21.290Z"
   },
   {
    "duration": 40,
    "start_time": "2022-05-23T08:23:25.673Z"
   },
   {
    "duration": 59,
    "start_time": "2022-05-23T08:23:29.906Z"
   },
   {
    "duration": 43,
    "start_time": "2022-05-23T08:23:37.116Z"
   },
   {
    "duration": 25,
    "start_time": "2022-05-23T08:23:47.219Z"
   },
   {
    "duration": 30,
    "start_time": "2022-05-23T08:23:51.056Z"
   },
   {
    "duration": 27,
    "start_time": "2022-05-23T08:25:06.328Z"
   },
   {
    "duration": 32,
    "start_time": "2022-05-23T08:25:29.575Z"
   },
   {
    "duration": 265,
    "start_time": "2022-05-23T08:26:21.247Z"
   },
   {
    "duration": 197,
    "start_time": "2022-05-23T08:27:34.143Z"
   },
   {
    "duration": 217,
    "start_time": "2022-05-23T08:27:50.071Z"
   },
   {
    "duration": 23,
    "start_time": "2022-05-23T08:29:39.141Z"
   },
   {
    "duration": 33,
    "start_time": "2022-05-23T08:29:42.195Z"
   },
   {
    "duration": 32,
    "start_time": "2022-05-23T08:29:56.307Z"
   },
   {
    "duration": 310,
    "start_time": "2022-05-23T09:10:18.961Z"
   },
   {
    "duration": 186,
    "start_time": "2022-05-23T09:10:25.785Z"
   },
   {
    "duration": 497,
    "start_time": "2022-05-23T09:44:46.092Z"
   },
   {
    "duration": 571,
    "start_time": "2022-05-23T09:44:54.172Z"
   },
   {
    "duration": 579,
    "start_time": "2022-05-23T09:45:05.604Z"
   },
   {
    "duration": 579,
    "start_time": "2022-05-23T09:45:10.412Z"
   },
   {
    "duration": 31,
    "start_time": "2022-05-23T09:45:26.924Z"
   },
   {
    "duration": 4,
    "start_time": "2022-05-23T09:45:32.626Z"
   },
   {
    "duration": 22,
    "start_time": "2022-05-23T09:45:32.632Z"
   },
   {
    "duration": 383,
    "start_time": "2022-05-23T09:45:32.662Z"
   },
   {
    "duration": 27,
    "start_time": "2022-05-23T09:45:33.051Z"
   },
   {
    "duration": 46,
    "start_time": "2022-05-23T09:45:33.080Z"
   },
   {
    "duration": 49,
    "start_time": "2022-05-23T09:45:33.127Z"
   },
   {
    "duration": 9,
    "start_time": "2022-05-23T09:45:33.178Z"
   },
   {
    "duration": 137,
    "start_time": "2022-05-23T09:45:33.189Z"
   },
   {
    "duration": 14,
    "start_time": "2022-05-23T09:45:33.328Z"
   },
   {
    "duration": 27,
    "start_time": "2022-05-23T09:45:33.343Z"
   },
   {
    "duration": 37,
    "start_time": "2022-05-23T09:45:33.372Z"
   },
   {
    "duration": 13,
    "start_time": "2022-05-23T09:45:33.411Z"
   },
   {
    "duration": 95,
    "start_time": "2022-05-23T09:45:33.426Z"
   },
   {
    "duration": 150,
    "start_time": "2022-05-23T09:45:33.522Z"
   },
   {
    "duration": 15,
    "start_time": "2022-05-23T09:45:33.673Z"
   },
   {
    "duration": 290,
    "start_time": "2022-05-23T09:45:33.691Z"
   },
   {
    "duration": 377,
    "start_time": "2022-05-23T09:45:33.983Z"
   },
   {
    "duration": 162,
    "start_time": "2022-05-23T09:45:34.362Z"
   },
   {
    "duration": 104,
    "start_time": "2022-05-23T09:45:34.526Z"
   },
   {
    "duration": 273,
    "start_time": "2022-05-23T09:45:34.632Z"
   },
   {
    "duration": 606,
    "start_time": "2022-05-23T09:45:34.907Z"
   },
   {
    "duration": 282,
    "start_time": "2022-05-23T09:45:35.515Z"
   },
   {
    "duration": 22,
    "start_time": "2022-05-23T09:45:35.799Z"
   },
   {
    "duration": 153,
    "start_time": "2022-05-23T09:45:35.823Z"
   },
   {
    "duration": 13,
    "start_time": "2022-05-23T09:45:35.978Z"
   },
   {
    "duration": 57,
    "start_time": "2022-05-23T09:45:35.993Z"
   },
   {
    "duration": 3,
    "start_time": "2022-05-23T09:45:36.052Z"
   },
   {
    "duration": 53,
    "start_time": "2022-05-23T09:45:36.056Z"
   },
   {
    "duration": 100,
    "start_time": "2022-05-23T09:45:36.111Z"
   },
   {
    "duration": 27,
    "start_time": "2022-05-23T09:45:36.212Z"
   },
   {
    "duration": 43,
    "start_time": "2022-05-23T09:45:36.240Z"
   },
   {
    "duration": 31,
    "start_time": "2022-05-23T09:45:36.285Z"
   },
   {
    "duration": 0,
    "start_time": "2022-05-23T09:45:36.317Z"
   },
   {
    "duration": 0,
    "start_time": "2022-05-23T09:45:36.318Z"
   },
   {
    "duration": 0,
    "start_time": "2022-05-23T09:45:36.320Z"
   },
   {
    "duration": 0,
    "start_time": "2022-05-23T09:45:36.321Z"
   },
   {
    "duration": 0,
    "start_time": "2022-05-23T09:45:36.322Z"
   },
   {
    "duration": 0,
    "start_time": "2022-05-23T09:45:36.323Z"
   },
   {
    "duration": 0,
    "start_time": "2022-05-23T09:45:36.324Z"
   },
   {
    "duration": 0,
    "start_time": "2022-05-23T09:45:36.356Z"
   },
   {
    "duration": 0,
    "start_time": "2022-05-23T09:45:36.357Z"
   },
   {
    "duration": 0,
    "start_time": "2022-05-23T09:45:36.358Z"
   },
   {
    "duration": 0,
    "start_time": "2022-05-23T09:45:36.359Z"
   },
   {
    "duration": 0,
    "start_time": "2022-05-23T09:45:36.360Z"
   },
   {
    "duration": 0,
    "start_time": "2022-05-23T09:45:36.361Z"
   },
   {
    "duration": 0,
    "start_time": "2022-05-23T09:45:36.362Z"
   },
   {
    "duration": 0,
    "start_time": "2022-05-23T09:45:36.363Z"
   },
   {
    "duration": 0,
    "start_time": "2022-05-23T09:45:36.364Z"
   },
   {
    "duration": 89,
    "start_time": "2022-05-23T09:46:05.402Z"
   },
   {
    "duration": 35,
    "start_time": "2022-05-23T09:46:09.770Z"
   },
   {
    "duration": 30,
    "start_time": "2022-05-23T09:46:31.362Z"
   },
   {
    "duration": 4,
    "start_time": "2022-05-23T09:47:04.562Z"
   },
   {
    "duration": 6,
    "start_time": "2022-05-23T09:47:04.567Z"
   },
   {
    "duration": 351,
    "start_time": "2022-05-23T09:47:04.575Z"
   },
   {
    "duration": 29,
    "start_time": "2022-05-23T09:47:04.928Z"
   },
   {
    "duration": 40,
    "start_time": "2022-05-23T09:47:04.959Z"
   },
   {
    "duration": 31,
    "start_time": "2022-05-23T09:47:05.001Z"
   },
   {
    "duration": 4,
    "start_time": "2022-05-23T09:47:05.051Z"
   },
   {
    "duration": 127,
    "start_time": "2022-05-23T09:47:05.057Z"
   },
   {
    "duration": 18,
    "start_time": "2022-05-23T09:47:05.186Z"
   },
   {
    "duration": 46,
    "start_time": "2022-05-23T09:47:05.206Z"
   },
   {
    "duration": 41,
    "start_time": "2022-05-23T09:47:05.256Z"
   },
   {
    "duration": 19,
    "start_time": "2022-05-23T09:47:05.299Z"
   },
   {
    "duration": 116,
    "start_time": "2022-05-23T09:47:05.320Z"
   },
   {
    "duration": 160,
    "start_time": "2022-05-23T09:47:05.438Z"
   },
   {
    "duration": 14,
    "start_time": "2022-05-23T09:47:05.599Z"
   },
   {
    "duration": 274,
    "start_time": "2022-05-23T09:47:05.615Z"
   },
   {
    "duration": 251,
    "start_time": "2022-05-23T09:47:05.891Z"
   },
   {
    "duration": 167,
    "start_time": "2022-05-23T09:47:06.144Z"
   },
   {
    "duration": 100,
    "start_time": "2022-05-23T09:47:06.312Z"
   },
   {
    "duration": 261,
    "start_time": "2022-05-23T09:47:06.414Z"
   },
   {
    "duration": 525,
    "start_time": "2022-05-23T09:47:06.677Z"
   },
   {
    "duration": 383,
    "start_time": "2022-05-23T09:47:07.203Z"
   },
   {
    "duration": 23,
    "start_time": "2022-05-23T09:47:07.587Z"
   },
   {
    "duration": 141,
    "start_time": "2022-05-23T09:47:07.612Z"
   },
   {
    "duration": 13,
    "start_time": "2022-05-23T09:47:07.755Z"
   },
   {
    "duration": 44,
    "start_time": "2022-05-23T09:47:07.769Z"
   },
   {
    "duration": 3,
    "start_time": "2022-05-23T09:47:07.815Z"
   },
   {
    "duration": 72,
    "start_time": "2022-05-23T09:47:07.820Z"
   },
   {
    "duration": 92,
    "start_time": "2022-05-23T09:47:07.897Z"
   },
   {
    "duration": 29,
    "start_time": "2022-05-23T09:47:07.991Z"
   },
   {
    "duration": 48,
    "start_time": "2022-05-23T09:47:08.022Z"
   },
   {
    "duration": 30,
    "start_time": "2022-05-23T09:47:08.071Z"
   },
   {
    "duration": 585,
    "start_time": "2022-05-23T09:47:08.103Z"
   },
   {
    "duration": 52,
    "start_time": "2022-05-23T09:47:08.690Z"
   },
   {
    "duration": 46,
    "start_time": "2022-05-23T09:47:08.751Z"
   },
   {
    "duration": 98,
    "start_time": "2022-05-23T09:47:08.798Z"
   },
   {
    "duration": 28,
    "start_time": "2022-05-23T09:47:08.898Z"
   },
   {
    "duration": 42,
    "start_time": "2022-05-23T09:47:08.928Z"
   },
   {
    "duration": 20,
    "start_time": "2022-05-23T09:47:08.973Z"
   },
   {
    "duration": 12,
    "start_time": "2022-05-23T09:47:08.995Z"
   },
   {
    "duration": 20,
    "start_time": "2022-05-23T09:47:09.009Z"
   },
   {
    "duration": 42,
    "start_time": "2022-05-23T09:47:09.053Z"
   },
   {
    "duration": 5,
    "start_time": "2022-05-23T09:47:09.096Z"
   },
   {
    "duration": 14,
    "start_time": "2022-05-23T09:47:09.103Z"
   },
   {
    "duration": 34,
    "start_time": "2022-05-23T09:47:09.119Z"
   },
   {
    "duration": 8,
    "start_time": "2022-05-23T09:47:09.155Z"
   },
   {
    "duration": 14,
    "start_time": "2022-05-23T09:47:09.165Z"
   },
   {
    "duration": 7,
    "start_time": "2022-05-23T09:47:09.180Z"
   },
   {
    "duration": 35,
    "start_time": "2022-05-23T09:47:18.321Z"
   },
   {
    "duration": 31,
    "start_time": "2022-05-23T09:47:22.240Z"
   },
   {
    "duration": 35,
    "start_time": "2022-05-23T09:47:33.776Z"
   },
   {
    "duration": 62,
    "start_time": "2022-05-23T09:47:54.609Z"
   },
   {
    "duration": 68,
    "start_time": "2022-05-23T09:48:02.551Z"
   },
   {
    "duration": 33,
    "start_time": "2022-05-23T09:48:05.843Z"
   },
   {
    "duration": 44,
    "start_time": "2022-05-23T09:48:15.225Z"
   },
   {
    "duration": 61,
    "start_time": "2022-05-23T09:48:31.759Z"
   },
   {
    "duration": 58,
    "start_time": "2022-05-23T09:49:03.095Z"
   },
   {
    "duration": 56,
    "start_time": "2022-05-23T09:49:08.103Z"
   },
   {
    "duration": 303,
    "start_time": "2022-05-23T09:49:09.229Z"
   },
   {
    "duration": 40,
    "start_time": "2022-05-23T09:49:23.454Z"
   },
   {
    "duration": 39,
    "start_time": "2022-05-23T09:49:28.213Z"
   },
   {
    "duration": 185,
    "start_time": "2022-05-23T09:50:39.461Z"
   },
   {
    "duration": 186,
    "start_time": "2022-05-23T09:50:40.779Z"
   },
   {
    "duration": 192,
    "start_time": "2022-05-23T09:50:42.244Z"
   },
   {
    "duration": 684,
    "start_time": "2022-05-23T09:50:52.661Z"
   },
   {
    "duration": 4,
    "start_time": "2022-05-23T09:50:55.487Z"
   },
   {
    "duration": 17,
    "start_time": "2022-05-23T09:50:55.492Z"
   },
   {
    "duration": 345,
    "start_time": "2022-05-23T09:50:55.511Z"
   },
   {
    "duration": 25,
    "start_time": "2022-05-23T09:50:55.858Z"
   },
   {
    "duration": 67,
    "start_time": "2022-05-23T09:50:55.884Z"
   },
   {
    "duration": 30,
    "start_time": "2022-05-23T09:50:55.953Z"
   },
   {
    "duration": 3,
    "start_time": "2022-05-23T09:50:55.985Z"
   },
   {
    "duration": 125,
    "start_time": "2022-05-23T09:50:55.990Z"
   },
   {
    "duration": 32,
    "start_time": "2022-05-23T09:50:56.120Z"
   },
   {
    "duration": 33,
    "start_time": "2022-05-23T09:50:56.155Z"
   },
   {
    "duration": 33,
    "start_time": "2022-05-23T09:50:56.190Z"
   },
   {
    "duration": 35,
    "start_time": "2022-05-23T09:50:56.224Z"
   },
   {
    "duration": 98,
    "start_time": "2022-05-23T09:50:56.260Z"
   },
   {
    "duration": 145,
    "start_time": "2022-05-23T09:50:56.360Z"
   },
   {
    "duration": 14,
    "start_time": "2022-05-23T09:50:56.507Z"
   },
   {
    "duration": 271,
    "start_time": "2022-05-23T09:50:56.523Z"
   },
   {
    "duration": 254,
    "start_time": "2022-05-23T09:50:56.795Z"
   },
   {
    "duration": 151,
    "start_time": "2022-05-23T09:50:57.051Z"
   },
   {
    "duration": 108,
    "start_time": "2022-05-23T09:50:57.204Z"
   },
   {
    "duration": 265,
    "start_time": "2022-05-23T09:50:57.313Z"
   },
   {
    "duration": 553,
    "start_time": "2022-05-23T09:50:57.579Z"
   },
   {
    "duration": 306,
    "start_time": "2022-05-23T09:50:58.134Z"
   },
   {
    "duration": 28,
    "start_time": "2022-05-23T09:50:58.442Z"
   },
   {
    "duration": 137,
    "start_time": "2022-05-23T09:50:58.473Z"
   },
   {
    "duration": 14,
    "start_time": "2022-05-23T09:50:58.612Z"
   },
   {
    "duration": 59,
    "start_time": "2022-05-23T09:50:58.627Z"
   },
   {
    "duration": 3,
    "start_time": "2022-05-23T09:50:58.688Z"
   },
   {
    "duration": 63,
    "start_time": "2022-05-23T09:50:58.693Z"
   },
   {
    "duration": 82,
    "start_time": "2022-05-23T09:50:58.757Z"
   },
   {
    "duration": 28,
    "start_time": "2022-05-23T09:50:58.851Z"
   },
   {
    "duration": 36,
    "start_time": "2022-05-23T09:50:58.881Z"
   },
   {
    "duration": 77,
    "start_time": "2022-05-23T09:50:58.919Z"
   },
   {
    "duration": 673,
    "start_time": "2022-05-23T09:50:58.997Z"
   },
   {
    "duration": 199,
    "start_time": "2022-05-23T09:50:59.671Z"
   },
   {
    "duration": 200,
    "start_time": "2022-05-23T09:50:59.871Z"
   },
   {
    "duration": 56,
    "start_time": "2022-05-23T09:51:00.072Z"
   },
   {
    "duration": 60,
    "start_time": "2022-05-23T09:51:00.130Z"
   },
   {
    "duration": 96,
    "start_time": "2022-05-23T09:51:00.192Z"
   },
   {
    "duration": 29,
    "start_time": "2022-05-23T09:51:00.290Z"
   },
   {
    "duration": 47,
    "start_time": "2022-05-23T09:51:00.321Z"
   },
   {
    "duration": 19,
    "start_time": "2022-05-23T09:51:00.370Z"
   },
   {
    "duration": 13,
    "start_time": "2022-05-23T09:51:00.391Z"
   },
   {
    "duration": 52,
    "start_time": "2022-05-23T09:51:00.406Z"
   },
   {
    "duration": 64,
    "start_time": "2022-05-23T09:51:00.459Z"
   },
   {
    "duration": 5,
    "start_time": "2022-05-23T09:51:00.525Z"
   },
   {
    "duration": 24,
    "start_time": "2022-05-23T09:51:00.531Z"
   },
   {
    "duration": 15,
    "start_time": "2022-05-23T09:51:00.557Z"
   },
   {
    "duration": 8,
    "start_time": "2022-05-23T09:51:00.573Z"
   },
   {
    "duration": 47,
    "start_time": "2022-05-23T09:51:00.583Z"
   },
   {
    "duration": 7,
    "start_time": "2022-05-23T09:51:00.632Z"
   },
   {
    "duration": 582,
    "start_time": "2022-05-23T09:51:22.756Z"
   },
   {
    "duration": 573,
    "start_time": "2022-05-23T09:51:46.486Z"
   },
   {
    "duration": 81,
    "start_time": "2022-05-23T09:52:14.842Z"
   },
   {
    "duration": 44,
    "start_time": "2022-05-23T09:57:02.055Z"
   },
   {
    "duration": 12,
    "start_time": "2022-05-23T10:01:23.465Z"
   },
   {
    "duration": 6,
    "start_time": "2022-05-23T10:01:31.367Z"
   },
   {
    "duration": 15,
    "start_time": "2022-05-23T10:01:34.080Z"
   },
   {
    "duration": 18,
    "start_time": "2022-05-23T10:03:42.277Z"
   },
   {
    "duration": 401438,
    "start_time": "2022-05-23T10:03:54.148Z"
   },
   {
    "duration": 13,
    "start_time": "2022-05-23T10:11:47.387Z"
   },
   {
    "duration": 7867,
    "start_time": "2022-05-23T10:18:45.148Z"
   },
   {
    "duration": 14,
    "start_time": "2022-05-23T10:19:42.683Z"
   },
   {
    "duration": 60702,
    "start_time": "2022-05-23T10:20:07.138Z"
   },
   {
    "duration": 13,
    "start_time": "2022-05-23T10:21:26.817Z"
   },
   {
    "duration": 11851,
    "start_time": "2022-05-23T10:21:59.704Z"
   },
   {
    "duration": 8829,
    "start_time": "2022-05-23T10:22:30.896Z"
   },
   {
    "duration": 8744,
    "start_time": "2022-05-23T10:22:48.544Z"
   },
   {
    "duration": 8564,
    "start_time": "2022-05-23T10:23:23.166Z"
   },
   {
    "duration": 11,
    "start_time": "2022-05-23T10:23:46.095Z"
   },
   {
    "duration": 5,
    "start_time": "2022-05-23T10:25:07.429Z"
   },
   {
    "duration": 4,
    "start_time": "2022-05-23T10:25:15.828Z"
   },
   {
    "duration": 15,
    "start_time": "2022-05-23T10:25:25.237Z"
   },
   {
    "duration": 16,
    "start_time": "2022-05-23T10:25:47.500Z"
   },
   {
    "duration": 9,
    "start_time": "2022-05-23T10:26:06.381Z"
   },
   {
    "duration": 12,
    "start_time": "2022-05-23T10:26:14.846Z"
   },
   {
    "duration": 13,
    "start_time": "2022-05-23T10:26:34.827Z"
   },
   {
    "duration": 12,
    "start_time": "2022-05-23T10:26:37.347Z"
   },
   {
    "duration": 14,
    "start_time": "2022-05-23T10:27:36.748Z"
   },
   {
    "duration": 12,
    "start_time": "2022-05-23T10:27:56.698Z"
   },
   {
    "duration": 14,
    "start_time": "2022-05-23T10:28:26.113Z"
   },
   {
    "duration": 14,
    "start_time": "2022-05-23T10:29:12.824Z"
   },
   {
    "duration": 14,
    "start_time": "2022-05-23T10:29:19.001Z"
   },
   {
    "duration": 4,
    "start_time": "2022-05-23T10:29:28.993Z"
   },
   {
    "duration": 12,
    "start_time": "2022-05-23T10:29:35.488Z"
   },
   {
    "duration": 11,
    "start_time": "2022-05-23T10:29:48.256Z"
   },
   {
    "duration": 13,
    "start_time": "2022-05-23T10:29:50.159Z"
   },
   {
    "duration": 25,
    "start_time": "2022-05-23T10:30:03.600Z"
   },
   {
    "duration": 12,
    "start_time": "2022-05-23T10:30:06.960Z"
   },
   {
    "duration": 4,
    "start_time": "2022-05-23T10:30:31.600Z"
   },
   {
    "duration": 10,
    "start_time": "2022-05-23T10:30:35.023Z"
   },
   {
    "duration": 11,
    "start_time": "2022-05-23T10:30:52.647Z"
   },
   {
    "duration": 14,
    "start_time": "2022-05-23T10:31:13.942Z"
   },
   {
    "duration": 19,
    "start_time": "2022-05-23T10:31:30.838Z"
   },
   {
    "duration": 15,
    "start_time": "2022-05-23T10:32:33.246Z"
   },
   {
    "duration": 18,
    "start_time": "2022-05-23T10:32:44.212Z"
   },
   {
    "duration": 598,
    "start_time": "2022-05-23T10:34:04.763Z"
   },
   {
    "duration": 27,
    "start_time": "2022-05-23T10:34:13.999Z"
   },
   {
    "duration": 104,
    "start_time": "2022-05-23T10:35:18.963Z"
   },
   {
    "duration": 23,
    "start_time": "2022-05-23T10:35:27.554Z"
   },
   {
    "duration": 106,
    "start_time": "2022-05-23T10:35:28.697Z"
   },
   {
    "duration": 144,
    "start_time": "2022-05-23T10:35:40.050Z"
   },
   {
    "duration": 90,
    "start_time": "2022-05-23T10:36:24.681Z"
   },
   {
    "duration": 10,
    "start_time": "2022-05-23T10:36:54.008Z"
   },
   {
    "duration": 1204,
    "start_time": "2022-05-23T10:36:56.594Z"
   },
   {
    "duration": 703,
    "start_time": "2022-05-23T10:37:07.290Z"
   },
   {
    "duration": 462,
    "start_time": "2022-05-23T10:37:15.633Z"
   },
   {
    "duration": 211,
    "start_time": "2022-05-23T10:37:18.640Z"
   },
   {
    "duration": 18,
    "start_time": "2022-05-23T10:37:53.079Z"
   },
   {
    "duration": 51,
    "start_time": "2022-05-23T10:38:57.400Z"
   },
   {
    "duration": 129,
    "start_time": "2022-05-23T10:39:02.247Z"
   },
   {
    "duration": 131,
    "start_time": "2022-05-23T10:39:14.535Z"
   },
   {
    "duration": 24,
    "start_time": "2022-05-23T10:42:17.234Z"
   },
   {
    "duration": 27,
    "start_time": "2022-05-23T10:42:26.322Z"
   },
   {
    "duration": 25,
    "start_time": "2022-05-23T10:42:34.025Z"
   },
   {
    "duration": 38,
    "start_time": "2022-05-23T10:45:22.008Z"
   },
   {
    "duration": 263,
    "start_time": "2022-05-23T10:45:31.126Z"
   },
   {
    "duration": 6,
    "start_time": "2022-05-23T10:45:57.575Z"
   },
   {
    "duration": 7,
    "start_time": "2022-05-23T10:46:01.368Z"
   },
   {
    "duration": 171,
    "start_time": "2022-05-23T10:46:22.742Z"
   },
   {
    "duration": 7,
    "start_time": "2022-05-23T10:47:32.765Z"
   },
   {
    "duration": 63,
    "start_time": "2022-05-23T10:47:47.903Z"
   },
   {
    "duration": 25,
    "start_time": "2022-05-23T10:47:55.886Z"
   },
   {
    "duration": 6,
    "start_time": "2022-05-23T10:48:08.548Z"
   },
   {
    "duration": 167,
    "start_time": "2022-05-23T10:48:40.164Z"
   },
   {
    "duration": 117,
    "start_time": "2022-05-23T10:48:57.869Z"
   },
   {
    "duration": 184,
    "start_time": "2022-05-23T10:50:16.738Z"
   },
   {
    "duration": 19,
    "start_time": "2022-05-23T10:50:50.401Z"
   },
   {
    "duration": 192,
    "start_time": "2022-05-23T10:50:52.409Z"
   },
   {
    "duration": 20,
    "start_time": "2022-05-23T10:51:06.488Z"
   },
   {
    "duration": 25,
    "start_time": "2022-05-23T10:51:14.338Z"
   },
   {
    "duration": 404,
    "start_time": "2022-05-23T10:52:20.456Z"
   },
   {
    "duration": 505,
    "start_time": "2022-05-23T10:52:36.073Z"
   },
   {
    "duration": 374,
    "start_time": "2022-05-23T10:53:47.335Z"
   },
   {
    "duration": 398,
    "start_time": "2022-05-23T10:53:50.381Z"
   },
   {
    "duration": 371,
    "start_time": "2022-05-23T10:54:16.342Z"
   },
   {
    "duration": 87,
    "start_time": "2022-05-23T10:59:08.457Z"
   },
   {
    "duration": 4,
    "start_time": "2022-05-23T10:59:56.983Z"
   },
   {
    "duration": 61,
    "start_time": "2022-05-23T11:00:19.551Z"
   },
   {
    "duration": 57,
    "start_time": "2022-05-23T11:01:28.047Z"
   },
   {
    "duration": 48,
    "start_time": "2022-05-23T11:01:52.702Z"
   },
   {
    "duration": 90,
    "start_time": "2022-05-23T11:02:37.197Z"
   },
   {
    "duration": 40,
    "start_time": "2022-05-23T11:03:24.139Z"
   },
   {
    "duration": 1225,
    "start_time": "2022-05-23T11:12:58.788Z"
   },
   {
    "duration": 4,
    "start_time": "2022-05-23T11:13:00.015Z"
   },
   {
    "duration": 383,
    "start_time": "2022-05-23T11:13:00.023Z"
   },
   {
    "duration": 28,
    "start_time": "2022-05-23T11:13:00.408Z"
   },
   {
    "duration": 61,
    "start_time": "2022-05-23T11:13:00.437Z"
   },
   {
    "duration": 55,
    "start_time": "2022-05-23T11:13:00.500Z"
   },
   {
    "duration": 4,
    "start_time": "2022-05-23T11:13:00.557Z"
   },
   {
    "duration": 144,
    "start_time": "2022-05-23T11:13:00.563Z"
   },
   {
    "duration": 12,
    "start_time": "2022-05-23T11:13:00.711Z"
   },
   {
    "duration": 46,
    "start_time": "2022-05-23T11:13:00.725Z"
   },
   {
    "duration": 49,
    "start_time": "2022-05-23T11:13:00.773Z"
   },
   {
    "duration": 22,
    "start_time": "2022-05-23T11:13:00.824Z"
   },
   {
    "duration": 107,
    "start_time": "2022-05-23T11:13:00.847Z"
   },
   {
    "duration": 156,
    "start_time": "2022-05-23T11:13:00.956Z"
   },
   {
    "duration": 15,
    "start_time": "2022-05-23T11:13:01.114Z"
   },
   {
    "duration": 475,
    "start_time": "2022-05-23T11:13:01.131Z"
   },
   {
    "duration": 281,
    "start_time": "2022-05-23T11:13:01.608Z"
   },
   {
    "duration": 370,
    "start_time": "2022-05-23T11:13:01.891Z"
   },
   {
    "duration": 205,
    "start_time": "2022-05-23T11:13:02.263Z"
   },
   {
    "duration": 520,
    "start_time": "2022-05-23T11:13:02.470Z"
   },
   {
    "duration": 875,
    "start_time": "2022-05-23T11:13:02.992Z"
   },
   {
    "duration": 292,
    "start_time": "2022-05-23T11:13:03.869Z"
   },
   {
    "duration": 22,
    "start_time": "2022-05-23T11:13:04.163Z"
   },
   {
    "duration": 142,
    "start_time": "2022-05-23T11:13:04.186Z"
   },
   {
    "duration": 12,
    "start_time": "2022-05-23T11:13:04.330Z"
   },
   {
    "duration": 40,
    "start_time": "2022-05-23T11:13:04.352Z"
   },
   {
    "duration": 3,
    "start_time": "2022-05-23T11:13:04.396Z"
   },
   {
    "duration": 69,
    "start_time": "2022-05-23T11:13:04.401Z"
   },
   {
    "duration": 87,
    "start_time": "2022-05-23T11:13:04.472Z"
   },
   {
    "duration": 26,
    "start_time": "2022-05-23T11:13:04.561Z"
   },
   {
    "duration": 36,
    "start_time": "2022-05-23T11:13:04.589Z"
   },
   {
    "duration": 77,
    "start_time": "2022-05-23T11:13:04.626Z"
   },
   {
    "duration": 650,
    "start_time": "2022-05-23T11:13:04.705Z"
   },
   {
    "duration": 504,
    "start_time": "2022-05-23T11:13:05.357Z"
   },
   {
    "duration": 55,
    "start_time": "2022-05-23T11:13:05.863Z"
   },
   {
    "duration": 77,
    "start_time": "2022-05-23T11:13:05.921Z"
   },
   {
    "duration": 99,
    "start_time": "2022-05-23T11:13:06.000Z"
   },
   {
    "duration": 34,
    "start_time": "2022-05-23T11:13:06.102Z"
   },
   {
    "duration": 31,
    "start_time": "2022-05-23T11:13:06.152Z"
   },
   {
    "duration": 22,
    "start_time": "2022-05-23T11:13:06.185Z"
   },
   {
    "duration": 14,
    "start_time": "2022-05-23T11:13:06.208Z"
   },
   {
    "duration": 42,
    "start_time": "2022-05-23T11:13:06.224Z"
   },
   {
    "duration": 45,
    "start_time": "2022-05-23T11:13:06.268Z"
   },
   {
    "duration": 6,
    "start_time": "2022-05-23T11:13:06.314Z"
   },
   {
    "duration": 34,
    "start_time": "2022-05-23T11:13:06.322Z"
   },
   {
    "duration": 17,
    "start_time": "2022-05-23T11:13:06.357Z"
   },
   {
    "duration": 10,
    "start_time": "2022-05-23T11:13:06.376Z"
   },
   {
    "duration": 19,
    "start_time": "2022-05-23T11:13:06.387Z"
   },
   {
    "duration": 11,
    "start_time": "2022-05-23T11:13:06.408Z"
   },
   {
    "duration": 1963,
    "start_time": "2022-05-24T02:36:58.090Z"
   },
   {
    "duration": 3,
    "start_time": "2022-05-24T02:37:00.056Z"
   },
   {
    "duration": 1011,
    "start_time": "2022-05-24T02:37:00.061Z"
   },
   {
    "duration": 68,
    "start_time": "2022-05-24T02:37:01.074Z"
   },
   {
    "duration": 109,
    "start_time": "2022-05-24T02:37:01.145Z"
   },
   {
    "duration": 85,
    "start_time": "2022-05-24T02:37:01.255Z"
   },
   {
    "duration": 138,
    "start_time": "2022-05-24T02:37:01.343Z"
   },
   {
    "duration": 185,
    "start_time": "2022-05-24T02:37:01.483Z"
   },
   {
    "duration": 13,
    "start_time": "2022-05-24T02:37:01.670Z"
   },
   {
    "duration": 76,
    "start_time": "2022-05-24T02:37:01.686Z"
   },
   {
    "duration": 76,
    "start_time": "2022-05-24T02:37:01.763Z"
   },
   {
    "duration": 32,
    "start_time": "2022-05-24T02:37:01.841Z"
   },
   {
    "duration": 136,
    "start_time": "2022-05-24T02:37:01.875Z"
   },
   {
    "duration": 188,
    "start_time": "2022-05-24T02:37:02.012Z"
   },
   {
    "duration": 13,
    "start_time": "2022-05-24T02:37:02.202Z"
   },
   {
    "duration": 501,
    "start_time": "2022-05-24T02:37:02.227Z"
   },
   {
    "duration": 278,
    "start_time": "2022-05-24T02:37:02.730Z"
   },
   {
    "duration": 167,
    "start_time": "2022-05-24T02:37:03.010Z"
   },
   {
    "duration": 129,
    "start_time": "2022-05-24T02:37:03.178Z"
   },
   {
    "duration": 305,
    "start_time": "2022-05-24T02:37:03.309Z"
   },
   {
    "duration": 588,
    "start_time": "2022-05-24T02:37:03.616Z"
   },
   {
    "duration": 300,
    "start_time": "2022-05-24T02:37:04.206Z"
   },
   {
    "duration": 38,
    "start_time": "2022-05-24T02:37:04.509Z"
   },
   {
    "duration": 148,
    "start_time": "2022-05-24T02:37:04.549Z"
   },
   {
    "duration": 28,
    "start_time": "2022-05-24T02:37:04.699Z"
   },
   {
    "duration": 55,
    "start_time": "2022-05-24T02:37:04.730Z"
   },
   {
    "duration": 4,
    "start_time": "2022-05-24T02:37:04.787Z"
   },
   {
    "duration": 87,
    "start_time": "2022-05-24T02:37:04.794Z"
   },
   {
    "duration": 97,
    "start_time": "2022-05-24T02:37:04.883Z"
   },
   {
    "duration": 51,
    "start_time": "2022-05-24T02:37:04.982Z"
   },
   {
    "duration": 51,
    "start_time": "2022-05-24T02:37:05.036Z"
   },
   {
    "duration": 88,
    "start_time": "2022-05-24T02:37:05.089Z"
   },
   {
    "duration": 688,
    "start_time": "2022-05-24T02:37:05.179Z"
   },
   {
    "duration": 595,
    "start_time": "2022-05-24T02:37:05.869Z"
   },
   {
    "duration": 79,
    "start_time": "2022-05-24T02:37:06.466Z"
   },
   {
    "duration": 52,
    "start_time": "2022-05-24T02:37:06.546Z"
   },
   {
    "duration": 111,
    "start_time": "2022-05-24T02:37:06.600Z"
   },
   {
    "duration": 46,
    "start_time": "2022-05-24T02:37:06.713Z"
   },
   {
    "duration": 27,
    "start_time": "2022-05-24T02:37:06.760Z"
   },
   {
    "duration": 39,
    "start_time": "2022-05-24T02:37:06.789Z"
   },
   {
    "duration": 19,
    "start_time": "2022-05-24T02:37:06.830Z"
   },
   {
    "duration": 18,
    "start_time": "2022-05-24T02:37:06.851Z"
   },
   {
    "duration": 69,
    "start_time": "2022-05-24T02:37:06.870Z"
   },
   {
    "duration": 7,
    "start_time": "2022-05-24T02:37:06.941Z"
   },
   {
    "duration": 20,
    "start_time": "2022-05-24T02:37:06.949Z"
   },
   {
    "duration": 15,
    "start_time": "2022-05-24T02:37:06.971Z"
   },
   {
    "duration": 11,
    "start_time": "2022-05-24T02:37:06.987Z"
   },
   {
    "duration": 44,
    "start_time": "2022-05-24T02:37:07.000Z"
   },
   {
    "duration": 9,
    "start_time": "2022-05-24T02:37:07.046Z"
   },
   {
    "duration": 18,
    "start_time": "2022-05-24T02:37:45.641Z"
   },
   {
    "duration": 42,
    "start_time": "2022-05-24T02:37:54.575Z"
   },
   {
    "duration": 57,
    "start_time": "2022-05-24T07:24:29.801Z"
   },
   {
    "duration": 1364,
    "start_time": "2022-05-24T07:24:33.373Z"
   },
   {
    "duration": 4,
    "start_time": "2022-05-24T07:24:34.739Z"
   },
   {
    "duration": 656,
    "start_time": "2022-05-24T07:24:34.745Z"
   },
   {
    "duration": 67,
    "start_time": "2022-05-24T07:24:35.403Z"
   },
   {
    "duration": 89,
    "start_time": "2022-05-24T07:24:35.472Z"
   },
   {
    "duration": 38,
    "start_time": "2022-05-24T07:24:35.563Z"
   },
   {
    "duration": 7,
    "start_time": "2022-05-24T07:24:35.602Z"
   },
   {
    "duration": 161,
    "start_time": "2022-05-24T07:24:35.610Z"
   },
   {
    "duration": 13,
    "start_time": "2022-05-24T07:24:35.773Z"
   },
   {
    "duration": 46,
    "start_time": "2022-05-24T07:24:35.788Z"
   },
   {
    "duration": 41,
    "start_time": "2022-05-24T07:24:35.836Z"
   },
   {
    "duration": 15,
    "start_time": "2022-05-24T07:24:35.879Z"
   },
   {
    "duration": 94,
    "start_time": "2022-05-24T07:24:35.895Z"
   },
   {
    "duration": 177,
    "start_time": "2022-05-24T07:24:35.991Z"
   },
   {
    "duration": 15,
    "start_time": "2022-05-24T07:24:36.169Z"
   },
   {
    "duration": 481,
    "start_time": "2022-05-24T07:24:36.186Z"
   },
   {
    "duration": 257,
    "start_time": "2022-05-24T07:24:36.669Z"
   },
   {
    "duration": 159,
    "start_time": "2022-05-24T07:24:36.928Z"
   },
   {
    "duration": 110,
    "start_time": "2022-05-24T07:24:37.089Z"
   },
   {
    "duration": 263,
    "start_time": "2022-05-24T07:24:37.201Z"
   },
   {
    "duration": 537,
    "start_time": "2022-05-24T07:24:37.466Z"
   },
   {
    "duration": 273,
    "start_time": "2022-05-24T07:24:38.006Z"
   },
   {
    "duration": 22,
    "start_time": "2022-05-24T07:24:38.280Z"
   },
   {
    "duration": 136,
    "start_time": "2022-05-24T07:24:38.304Z"
   },
   {
    "duration": 13,
    "start_time": "2022-05-24T07:24:38.442Z"
   },
   {
    "duration": 41,
    "start_time": "2022-05-24T07:24:38.465Z"
   },
   {
    "duration": 3,
    "start_time": "2022-05-24T07:24:38.508Z"
   },
   {
    "duration": 73,
    "start_time": "2022-05-24T07:24:38.515Z"
   },
   {
    "duration": 87,
    "start_time": "2022-05-24T07:24:38.590Z"
   },
   {
    "duration": 27,
    "start_time": "2022-05-24T07:24:38.678Z"
   },
   {
    "duration": 33,
    "start_time": "2022-05-24T07:24:38.706Z"
   },
   {
    "duration": 64,
    "start_time": "2022-05-24T07:24:38.741Z"
   },
   {
    "duration": 640,
    "start_time": "2022-05-24T07:24:38.807Z"
   },
   {
    "duration": 470,
    "start_time": "2022-05-24T07:24:39.449Z"
   },
   {
    "duration": 68,
    "start_time": "2022-05-24T07:24:39.921Z"
   },
   {
    "duration": 54,
    "start_time": "2022-05-24T07:24:39.990Z"
   },
   {
    "duration": 109,
    "start_time": "2022-05-24T07:24:40.045Z"
   },
   {
    "duration": 30,
    "start_time": "2022-05-24T07:24:40.164Z"
   },
   {
    "duration": 38,
    "start_time": "2022-05-24T07:24:40.196Z"
   },
   {
    "duration": 44,
    "start_time": "2022-05-24T07:24:40.236Z"
   },
   {
    "duration": 12,
    "start_time": "2022-05-24T07:24:40.282Z"
   },
   {
    "duration": 18,
    "start_time": "2022-05-24T07:24:40.296Z"
   },
   {
    "duration": 70,
    "start_time": "2022-05-24T07:24:40.315Z"
   },
   {
    "duration": 5,
    "start_time": "2022-05-24T07:24:40.387Z"
   },
   {
    "duration": 22,
    "start_time": "2022-05-24T07:24:40.393Z"
   },
   {
    "duration": 18,
    "start_time": "2022-05-24T07:24:40.417Z"
   },
   {
    "duration": 17,
    "start_time": "2022-05-24T07:24:40.437Z"
   },
   {
    "duration": 21,
    "start_time": "2022-05-24T07:24:40.456Z"
   },
   {
    "duration": 4,
    "start_time": "2022-05-24T07:24:40.479Z"
   },
   {
    "duration": 54,
    "start_time": "2022-05-24T07:26:01.927Z"
   },
   {
    "duration": 45,
    "start_time": "2022-05-24T07:26:24.525Z"
   },
   {
    "duration": 45,
    "start_time": "2022-05-24T07:26:57.948Z"
   },
   {
    "duration": 4,
    "start_time": "2022-05-24T07:27:33.299Z"
   },
   {
    "duration": 50,
    "start_time": "2022-05-24T07:27:35.779Z"
   },
   {
    "duration": 33,
    "start_time": "2022-05-24T07:29:04.058Z"
   },
   {
    "duration": 54,
    "start_time": "2022-05-24T07:29:14.146Z"
   },
   {
    "duration": 24,
    "start_time": "2022-05-24T07:30:39.959Z"
   },
   {
    "duration": 8,
    "start_time": "2022-05-24T07:30:43.712Z"
   },
   {
    "duration": 8,
    "start_time": "2022-05-24T07:30:52.263Z"
   },
   {
    "duration": 14,
    "start_time": "2022-05-24T07:31:01.176Z"
   },
   {
    "duration": 13,
    "start_time": "2022-05-24T07:31:07.695Z"
   },
   {
    "duration": 3,
    "start_time": "2022-05-24T07:31:22.023Z"
   },
   {
    "duration": 13,
    "start_time": "2022-05-24T07:31:32.238Z"
   },
   {
    "duration": 21,
    "start_time": "2022-05-24T07:31:35.192Z"
   },
   {
    "duration": 42,
    "start_time": "2022-05-24T07:31:48.407Z"
   },
   {
    "duration": 15,
    "start_time": "2022-05-24T07:32:53.429Z"
   },
   {
    "duration": 3,
    "start_time": "2022-05-24T07:32:57.221Z"
   },
   {
    "duration": 51,
    "start_time": "2022-05-24T07:33:06.518Z"
   },
   {
    "duration": 591,
    "start_time": "2022-05-24T07:33:11.772Z"
   },
   {
    "duration": 4,
    "start_time": "2022-05-24T07:33:30.719Z"
   },
   {
    "duration": 27,
    "start_time": "2022-05-24T07:33:30.725Z"
   },
   {
    "duration": 396,
    "start_time": "2022-05-24T07:33:30.754Z"
   },
   {
    "duration": 32,
    "start_time": "2022-05-24T07:33:31.152Z"
   },
   {
    "duration": 49,
    "start_time": "2022-05-24T07:33:31.186Z"
   },
   {
    "duration": 39,
    "start_time": "2022-05-24T07:33:31.237Z"
   },
   {
    "duration": 3,
    "start_time": "2022-05-24T07:33:31.278Z"
   },
   {
    "duration": 121,
    "start_time": "2022-05-24T07:33:31.283Z"
   },
   {
    "duration": 15,
    "start_time": "2022-05-24T07:33:31.406Z"
   },
   {
    "duration": 42,
    "start_time": "2022-05-24T07:33:31.423Z"
   },
   {
    "duration": 33,
    "start_time": "2022-05-24T07:33:31.468Z"
   },
   {
    "duration": 15,
    "start_time": "2022-05-24T07:33:31.503Z"
   },
   {
    "duration": 104,
    "start_time": "2022-05-24T07:33:31.519Z"
   },
   {
    "duration": 159,
    "start_time": "2022-05-24T07:33:31.624Z"
   },
   {
    "duration": 13,
    "start_time": "2022-05-24T07:33:31.785Z"
   },
   {
    "duration": 291,
    "start_time": "2022-05-24T07:33:31.800Z"
   },
   {
    "duration": 271,
    "start_time": "2022-05-24T07:33:32.092Z"
   },
   {
    "duration": 161,
    "start_time": "2022-05-24T07:33:32.365Z"
   },
   {
    "duration": 110,
    "start_time": "2022-05-24T07:33:32.528Z"
   },
   {
    "duration": 255,
    "start_time": "2022-05-24T07:33:32.639Z"
   },
   {
    "duration": 535,
    "start_time": "2022-05-24T07:33:32.895Z"
   },
   {
    "duration": 305,
    "start_time": "2022-05-24T07:33:33.431Z"
   },
   {
    "duration": 29,
    "start_time": "2022-05-24T07:33:33.738Z"
   },
   {
    "duration": 135,
    "start_time": "2022-05-24T07:33:33.768Z"
   },
   {
    "duration": 13,
    "start_time": "2022-05-24T07:33:33.905Z"
   },
   {
    "duration": 60,
    "start_time": "2022-05-24T07:33:33.920Z"
   },
   {
    "duration": 4,
    "start_time": "2022-05-24T07:33:33.981Z"
   },
   {
    "duration": 55,
    "start_time": "2022-05-24T07:33:33.986Z"
   },
   {
    "duration": 97,
    "start_time": "2022-05-24T07:33:34.044Z"
   },
   {
    "duration": 37,
    "start_time": "2022-05-24T07:33:34.143Z"
   },
   {
    "duration": 34,
    "start_time": "2022-05-24T07:33:34.181Z"
   },
   {
    "duration": 69,
    "start_time": "2022-05-24T07:33:34.217Z"
   },
   {
    "duration": 687,
    "start_time": "2022-05-24T07:33:34.288Z"
   },
   {
    "duration": 380,
    "start_time": "2022-05-24T07:33:34.977Z"
   },
   {
    "duration": 54,
    "start_time": "2022-05-24T07:33:35.359Z"
   },
   {
    "duration": 61,
    "start_time": "2022-05-24T07:33:35.415Z"
   },
   {
    "duration": 94,
    "start_time": "2022-05-24T07:33:35.478Z"
   },
   {
    "duration": 28,
    "start_time": "2022-05-24T07:33:35.574Z"
   },
   {
    "duration": 3,
    "start_time": "2022-05-24T07:33:35.603Z"
   },
   {
    "duration": 25,
    "start_time": "2022-05-24T07:33:35.607Z"
   },
   {
    "duration": 36,
    "start_time": "2022-05-24T07:33:35.633Z"
   },
   {
    "duration": 21,
    "start_time": "2022-05-24T07:33:35.670Z"
   },
   {
    "duration": 48,
    "start_time": "2022-05-24T07:33:35.692Z"
   },
   {
    "duration": 23,
    "start_time": "2022-05-24T07:33:35.742Z"
   },
   {
    "duration": 14,
    "start_time": "2022-05-24T07:33:35.767Z"
   },
   {
    "duration": 15,
    "start_time": "2022-05-24T07:33:35.782Z"
   },
   {
    "duration": 9,
    "start_time": "2022-05-24T07:33:35.798Z"
   },
   {
    "duration": 16,
    "start_time": "2022-05-24T07:33:35.808Z"
   },
   {
    "duration": 40,
    "start_time": "2022-05-24T07:33:35.825Z"
   },
   {
    "duration": 33,
    "start_time": "2022-05-24T07:37:04.089Z"
   },
   {
    "duration": 240,
    "start_time": "2022-05-24T07:38:17.464Z"
   },
   {
    "duration": 173,
    "start_time": "2022-05-24T07:38:31.144Z"
   },
   {
    "duration": 340,
    "start_time": "2022-05-24T07:38:45.880Z"
   },
   {
    "duration": 4,
    "start_time": "2022-05-24T07:40:12.654Z"
   },
   {
    "duration": 4,
    "start_time": "2022-05-24T07:40:13.582Z"
   },
   {
    "duration": 6,
    "start_time": "2022-05-24T07:40:15.117Z"
   },
   {
    "duration": 21,
    "start_time": "2022-05-24T07:40:20.981Z"
   },
   {
    "duration": 26,
    "start_time": "2022-05-24T07:45:30.153Z"
   },
   {
    "duration": 33,
    "start_time": "2022-05-24T07:45:48.865Z"
   },
   {
    "duration": 4,
    "start_time": "2022-05-24T07:46:14.318Z"
   },
   {
    "duration": 12,
    "start_time": "2022-05-24T07:46:14.324Z"
   },
   {
    "duration": 394,
    "start_time": "2022-05-24T07:46:14.338Z"
   },
   {
    "duration": 34,
    "start_time": "2022-05-24T07:46:14.734Z"
   },
   {
    "duration": 52,
    "start_time": "2022-05-24T07:46:14.770Z"
   },
   {
    "duration": 45,
    "start_time": "2022-05-24T07:46:14.824Z"
   },
   {
    "duration": 5,
    "start_time": "2022-05-24T07:46:14.870Z"
   },
   {
    "duration": 131,
    "start_time": "2022-05-24T07:46:14.876Z"
   },
   {
    "duration": 15,
    "start_time": "2022-05-24T07:46:15.008Z"
   },
   {
    "duration": 41,
    "start_time": "2022-05-24T07:46:15.025Z"
   },
   {
    "duration": 48,
    "start_time": "2022-05-24T07:46:15.070Z"
   },
   {
    "duration": 14,
    "start_time": "2022-05-24T07:46:15.120Z"
   },
   {
    "duration": 104,
    "start_time": "2022-05-24T07:46:15.136Z"
   },
   {
    "duration": 156,
    "start_time": "2022-05-24T07:46:15.241Z"
   },
   {
    "duration": 14,
    "start_time": "2022-05-24T07:46:15.398Z"
   },
   {
    "duration": 273,
    "start_time": "2022-05-24T07:46:15.413Z"
   },
   {
    "duration": 265,
    "start_time": "2022-05-24T07:46:15.688Z"
   },
   {
    "duration": 187,
    "start_time": "2022-05-24T07:46:15.956Z"
   },
   {
    "duration": 109,
    "start_time": "2022-05-24T07:46:16.144Z"
   },
   {
    "duration": 388,
    "start_time": "2022-05-24T07:46:16.255Z"
   },
   {
    "duration": 560,
    "start_time": "2022-05-24T07:46:16.645Z"
   },
   {
    "duration": 317,
    "start_time": "2022-05-24T07:46:17.207Z"
   },
   {
    "duration": 23,
    "start_time": "2022-05-24T07:46:17.525Z"
   },
   {
    "duration": 157,
    "start_time": "2022-05-24T07:46:17.550Z"
   },
   {
    "duration": 17,
    "start_time": "2022-05-24T07:46:17.709Z"
   },
   {
    "duration": 60,
    "start_time": "2022-05-24T07:46:17.728Z"
   },
   {
    "duration": 5,
    "start_time": "2022-05-24T07:46:17.789Z"
   },
   {
    "duration": 90,
    "start_time": "2022-05-24T07:46:17.796Z"
   },
   {
    "duration": 93,
    "start_time": "2022-05-24T07:46:17.889Z"
   },
   {
    "duration": 28,
    "start_time": "2022-05-24T07:46:17.984Z"
   },
   {
    "duration": 34,
    "start_time": "2022-05-24T07:46:18.013Z"
   },
   {
    "duration": 70,
    "start_time": "2022-05-24T07:46:18.048Z"
   },
   {
    "duration": 590,
    "start_time": "2022-05-24T07:46:18.120Z"
   },
   {
    "duration": 505,
    "start_time": "2022-05-24T07:46:18.711Z"
   },
   {
    "duration": 59,
    "start_time": "2022-05-24T07:46:19.218Z"
   },
   {
    "duration": 46,
    "start_time": "2022-05-24T07:46:19.278Z"
   },
   {
    "duration": 103,
    "start_time": "2022-05-24T07:46:19.325Z"
   },
   {
    "duration": 39,
    "start_time": "2022-05-24T07:46:19.430Z"
   },
   {
    "duration": 4,
    "start_time": "2022-05-24T07:46:19.471Z"
   },
   {
    "duration": 25,
    "start_time": "2022-05-24T07:46:19.476Z"
   },
   {
    "duration": 14,
    "start_time": "2022-05-24T07:46:19.502Z"
   },
   {
    "duration": 20,
    "start_time": "2022-05-24T07:46:19.517Z"
   },
   {
    "duration": 67,
    "start_time": "2022-05-24T07:46:19.538Z"
   },
   {
    "duration": 26,
    "start_time": "2022-05-24T07:46:19.607Z"
   },
   {
    "duration": 0,
    "start_time": "2022-05-24T07:46:19.634Z"
   },
   {
    "duration": 0,
    "start_time": "2022-05-24T07:46:19.635Z"
   },
   {
    "duration": 0,
    "start_time": "2022-05-24T07:46:19.636Z"
   },
   {
    "duration": 0,
    "start_time": "2022-05-24T07:46:19.637Z"
   },
   {
    "duration": 0,
    "start_time": "2022-05-24T07:46:19.638Z"
   },
   {
    "duration": 0,
    "start_time": "2022-05-24T07:46:19.639Z"
   },
   {
    "duration": 9,
    "start_time": "2022-05-24T07:46:39.574Z"
   },
   {
    "duration": 21,
    "start_time": "2022-05-24T07:46:43.502Z"
   },
   {
    "duration": 21,
    "start_time": "2022-05-24T07:46:52.277Z"
   },
   {
    "duration": 20,
    "start_time": "2022-05-24T07:46:57.085Z"
   },
   {
    "duration": 25,
    "start_time": "2022-05-24T07:47:23.766Z"
   },
   {
    "duration": 219,
    "start_time": "2022-05-24T07:47:39.005Z"
   },
   {
    "duration": 308,
    "start_time": "2022-05-24T08:20:22.863Z"
   },
   {
    "duration": 194,
    "start_time": "2022-05-24T08:20:28.342Z"
   },
   {
    "duration": 171,
    "start_time": "2022-05-24T08:21:25.998Z"
   },
   {
    "duration": 9,
    "start_time": "2022-05-24T08:21:45.245Z"
   },
   {
    "duration": 13,
    "start_time": "2022-05-24T08:21:58.862Z"
   },
   {
    "duration": 10,
    "start_time": "2022-05-24T08:22:09.268Z"
   },
   {
    "duration": 518,
    "start_time": "2022-05-24T08:22:28.788Z"
   },
   {
    "duration": 218,
    "start_time": "2022-05-24T08:22:33.499Z"
   },
   {
    "duration": 29,
    "start_time": "2022-05-24T08:23:35.075Z"
   },
   {
    "duration": 31,
    "start_time": "2022-05-24T08:23:40.043Z"
   },
   {
    "duration": 551,
    "start_time": "2022-05-24T08:24:59.577Z"
   },
   {
    "duration": 221,
    "start_time": "2022-05-24T08:25:06.113Z"
   },
   {
    "duration": 211,
    "start_time": "2022-05-24T08:25:18.250Z"
   },
   {
    "duration": 332,
    "start_time": "2022-05-24T08:25:29.993Z"
   },
   {
    "duration": 606,
    "start_time": "2022-05-24T08:27:14.392Z"
   },
   {
    "duration": 693,
    "start_time": "2022-05-24T08:27:50.758Z"
   },
   {
    "duration": 229,
    "start_time": "2022-05-24T08:30:17.851Z"
   },
   {
    "duration": 51,
    "start_time": "2022-05-24T08:30:58.594Z"
   },
   {
    "duration": 209,
    "start_time": "2022-05-24T08:31:00.642Z"
   },
   {
    "duration": 264,
    "start_time": "2022-05-24T08:31:02.315Z"
   },
   {
    "duration": 25,
    "start_time": "2022-05-24T08:31:52.506Z"
   },
   {
    "duration": 47,
    "start_time": "2022-05-24T08:32:02.082Z"
   },
   {
    "duration": 206,
    "start_time": "2022-05-24T08:32:23.826Z"
   },
   {
    "duration": 306,
    "start_time": "2022-05-24T08:32:29.466Z"
   },
   {
    "duration": 423,
    "start_time": "2022-05-24T08:32:55.025Z"
   },
   {
    "duration": 569,
    "start_time": "2022-05-24T08:32:57.721Z"
   },
   {
    "duration": 326,
    "start_time": "2022-05-24T08:33:15.381Z"
   },
   {
    "duration": 293,
    "start_time": "2022-05-24T08:33:24.393Z"
   },
   {
    "duration": 327,
    "start_time": "2022-05-24T08:33:30.592Z"
   },
   {
    "duration": 330,
    "start_time": "2022-05-24T08:33:46.639Z"
   },
   {
    "duration": 460,
    "start_time": "2022-05-24T08:33:58.904Z"
   },
   {
    "duration": 340,
    "start_time": "2022-05-24T08:34:04.280Z"
   },
   {
    "duration": 301,
    "start_time": "2022-05-24T08:34:13.216Z"
   },
   {
    "duration": 340,
    "start_time": "2022-05-24T08:34:20.192Z"
   },
   {
    "duration": 40,
    "start_time": "2022-05-24T08:35:29.199Z"
   },
   {
    "duration": 39,
    "start_time": "2022-05-24T08:35:34.575Z"
   },
   {
    "duration": 43,
    "start_time": "2022-05-24T08:35:39.405Z"
   },
   {
    "duration": 22,
    "start_time": "2022-05-24T08:35:44.606Z"
   },
   {
    "duration": 209,
    "start_time": "2022-05-24T08:35:54.693Z"
   },
   {
    "duration": 272,
    "start_time": "2022-05-24T08:35:56.101Z"
   },
   {
    "duration": 23,
    "start_time": "2022-05-24T08:36:14.206Z"
   },
   {
    "duration": 47,
    "start_time": "2022-05-24T08:36:26.118Z"
   },
   {
    "duration": 43,
    "start_time": "2022-05-24T08:36:35.765Z"
   },
   {
    "duration": 20,
    "start_time": "2022-05-24T08:36:57.988Z"
   },
   {
    "duration": 36,
    "start_time": "2022-05-24T08:37:12.356Z"
   },
   {
    "duration": 25,
    "start_time": "2022-05-24T08:37:16.236Z"
   },
   {
    "duration": 5,
    "start_time": "2022-05-24T08:54:40.105Z"
   },
   {
    "duration": 1165,
    "start_time": "2022-05-24T08:55:25.304Z"
   },
   {
    "duration": 3,
    "start_time": "2022-05-24T08:55:26.471Z"
   },
   {
    "duration": 374,
    "start_time": "2022-05-24T08:55:26.476Z"
   },
   {
    "duration": 32,
    "start_time": "2022-05-24T08:55:26.853Z"
   },
   {
    "duration": 50,
    "start_time": "2022-05-24T08:55:26.887Z"
   },
   {
    "duration": 39,
    "start_time": "2022-05-24T08:55:26.939Z"
   },
   {
    "duration": 4,
    "start_time": "2022-05-24T08:55:26.979Z"
   },
   {
    "duration": 146,
    "start_time": "2022-05-24T08:55:26.984Z"
   },
   {
    "duration": 13,
    "start_time": "2022-05-24T08:55:27.132Z"
   },
   {
    "duration": 29,
    "start_time": "2022-05-24T08:55:27.149Z"
   },
   {
    "duration": 43,
    "start_time": "2022-05-24T08:55:27.180Z"
   },
   {
    "duration": 14,
    "start_time": "2022-05-24T08:55:27.225Z"
   },
   {
    "duration": 94,
    "start_time": "2022-05-24T08:55:27.241Z"
   },
   {
    "duration": 178,
    "start_time": "2022-05-24T08:55:27.337Z"
   },
   {
    "duration": 14,
    "start_time": "2022-05-24T08:55:27.517Z"
   },
   {
    "duration": 437,
    "start_time": "2022-05-24T08:55:27.532Z"
   },
   {
    "duration": 251,
    "start_time": "2022-05-24T08:55:27.971Z"
   },
   {
    "duration": 153,
    "start_time": "2022-05-24T08:55:28.223Z"
   },
   {
    "duration": 112,
    "start_time": "2022-05-24T08:55:28.378Z"
   },
   {
    "duration": 256,
    "start_time": "2022-05-24T08:55:28.492Z"
   },
   {
    "duration": 597,
    "start_time": "2022-05-24T08:55:28.750Z"
   },
   {
    "duration": 301,
    "start_time": "2022-05-24T08:55:29.349Z"
   },
   {
    "duration": 29,
    "start_time": "2022-05-24T08:55:29.652Z"
   },
   {
    "duration": 130,
    "start_time": "2022-05-24T08:55:29.682Z"
   },
   {
    "duration": 13,
    "start_time": "2022-05-24T08:55:29.814Z"
   },
   {
    "duration": 53,
    "start_time": "2022-05-24T08:55:29.829Z"
   },
   {
    "duration": 4,
    "start_time": "2022-05-24T08:55:29.883Z"
   },
   {
    "duration": 54,
    "start_time": "2022-05-24T08:55:29.890Z"
   },
   {
    "duration": 95,
    "start_time": "2022-05-24T08:55:29.946Z"
   },
   {
    "duration": 39,
    "start_time": "2022-05-24T08:55:30.043Z"
   },
   {
    "duration": 42,
    "start_time": "2022-05-24T08:55:30.084Z"
   },
   {
    "duration": 80,
    "start_time": "2022-05-24T08:55:30.128Z"
   },
   {
    "duration": 574,
    "start_time": "2022-05-24T08:55:30.210Z"
   },
   {
    "duration": 490,
    "start_time": "2022-05-24T08:55:30.786Z"
   },
   {
    "duration": 54,
    "start_time": "2022-05-24T08:55:31.278Z"
   },
   {
    "duration": 62,
    "start_time": "2022-05-24T08:55:31.333Z"
   },
   {
    "duration": 105,
    "start_time": "2022-05-24T08:55:31.397Z"
   },
   {
    "duration": 29,
    "start_time": "2022-05-24T08:55:31.503Z"
   },
   {
    "duration": 2,
    "start_time": "2022-05-24T08:55:31.534Z"
   },
   {
    "duration": 36,
    "start_time": "2022-05-24T08:55:31.538Z"
   },
   {
    "duration": 13,
    "start_time": "2022-05-24T08:55:31.576Z"
   },
   {
    "duration": 18,
    "start_time": "2022-05-24T08:55:31.591Z"
   },
   {
    "duration": 68,
    "start_time": "2022-05-24T08:55:31.610Z"
   },
   {
    "duration": 257,
    "start_time": "2022-05-24T08:55:31.680Z"
   },
   {
    "duration": 278,
    "start_time": "2022-05-24T08:55:31.938Z"
   },
   {
    "duration": 0,
    "start_time": "2022-05-24T08:55:32.218Z"
   },
   {
    "duration": 0,
    "start_time": "2022-05-24T08:55:32.219Z"
   },
   {
    "duration": 0,
    "start_time": "2022-05-24T08:55:32.220Z"
   },
   {
    "duration": 0,
    "start_time": "2022-05-24T08:55:32.221Z"
   },
   {
    "duration": 0,
    "start_time": "2022-05-24T08:55:32.222Z"
   },
   {
    "duration": 0,
    "start_time": "2022-05-24T08:55:32.224Z"
   },
   {
    "duration": 0,
    "start_time": "2022-05-24T08:55:32.224Z"
   },
   {
    "duration": 4,
    "start_time": "2022-05-24T08:56:12.231Z"
   },
   {
    "duration": 21,
    "start_time": "2022-05-24T08:56:16.870Z"
   },
   {
    "duration": 19,
    "start_time": "2022-05-24T08:56:38.030Z"
   },
   {
    "duration": 20,
    "start_time": "2022-05-24T08:56:48.023Z"
   },
   {
    "duration": 21,
    "start_time": "2022-05-24T08:57:52.414Z"
   },
   {
    "duration": 28,
    "start_time": "2022-05-24T08:57:58.436Z"
   },
   {
    "duration": 24,
    "start_time": "2022-05-24T08:58:01.076Z"
   },
   {
    "duration": 59,
    "start_time": "2022-05-24T08:58:25.726Z"
   },
   {
    "duration": 220,
    "start_time": "2022-05-24T08:58:29.060Z"
   },
   {
    "duration": 389,
    "start_time": "2022-05-24T08:58:34.420Z"
   },
   {
    "duration": 221,
    "start_time": "2022-05-24T08:59:06.139Z"
   },
   {
    "duration": 243,
    "start_time": "2022-05-24T08:59:17.091Z"
   },
   {
    "duration": 374,
    "start_time": "2022-05-24T08:59:33.452Z"
   },
   {
    "duration": 378,
    "start_time": "2022-05-24T09:00:51.762Z"
   },
   {
    "duration": 16,
    "start_time": "2022-05-24T09:01:10.562Z"
   },
   {
    "duration": 465,
    "start_time": "2022-05-24T09:01:18.816Z"
   },
   {
    "duration": 26,
    "start_time": "2022-05-24T09:02:06.704Z"
   },
   {
    "duration": 449,
    "start_time": "2022-05-24T09:02:16.065Z"
   },
   {
    "duration": 490,
    "start_time": "2022-05-24T09:02:57.800Z"
   },
   {
    "duration": 447,
    "start_time": "2022-05-24T09:03:01.934Z"
   },
   {
    "duration": 5,
    "start_time": "2022-05-24T09:03:09.575Z"
   },
   {
    "duration": 36,
    "start_time": "2022-05-24T09:03:34.654Z"
   },
   {
    "duration": 5,
    "start_time": "2022-05-24T09:03:45.662Z"
   },
   {
    "duration": 4,
    "start_time": "2022-05-24T09:03:50.601Z"
   },
   {
    "duration": 6,
    "start_time": "2022-05-24T09:03:50.606Z"
   },
   {
    "duration": 379,
    "start_time": "2022-05-24T09:03:50.614Z"
   },
   {
    "duration": 32,
    "start_time": "2022-05-24T09:03:50.995Z"
   },
   {
    "duration": 48,
    "start_time": "2022-05-24T09:03:51.029Z"
   },
   {
    "duration": 30,
    "start_time": "2022-05-24T09:03:51.079Z"
   },
   {
    "duration": 10,
    "start_time": "2022-05-24T09:03:51.112Z"
   },
   {
    "duration": 115,
    "start_time": "2022-05-24T09:03:51.123Z"
   },
   {
    "duration": 13,
    "start_time": "2022-05-24T09:03:51.239Z"
   },
   {
    "duration": 28,
    "start_time": "2022-05-24T09:03:51.255Z"
   },
   {
    "duration": 38,
    "start_time": "2022-05-24T09:03:51.285Z"
   },
   {
    "duration": 14,
    "start_time": "2022-05-24T09:03:51.325Z"
   },
   {
    "duration": 97,
    "start_time": "2022-05-24T09:03:51.341Z"
   },
   {
    "duration": 164,
    "start_time": "2022-05-24T09:03:51.440Z"
   },
   {
    "duration": 14,
    "start_time": "2022-05-24T09:03:51.606Z"
   },
   {
    "duration": 256,
    "start_time": "2022-05-24T09:03:51.623Z"
   },
   {
    "duration": 245,
    "start_time": "2022-05-24T09:03:51.881Z"
   },
   {
    "duration": 160,
    "start_time": "2022-05-24T09:03:52.127Z"
   },
   {
    "duration": 107,
    "start_time": "2022-05-24T09:03:52.289Z"
   },
   {
    "duration": 250,
    "start_time": "2022-05-24T09:03:52.398Z"
   },
   {
    "duration": 525,
    "start_time": "2022-05-24T09:03:52.650Z"
   },
   {
    "duration": 275,
    "start_time": "2022-05-24T09:03:53.176Z"
   },
   {
    "duration": 26,
    "start_time": "2022-05-24T09:03:53.452Z"
   },
   {
    "duration": 134,
    "start_time": "2022-05-24T09:03:53.480Z"
   },
   {
    "duration": 14,
    "start_time": "2022-05-24T09:03:53.617Z"
   },
   {
    "duration": 57,
    "start_time": "2022-05-24T09:03:53.632Z"
   },
   {
    "duration": 3,
    "start_time": "2022-05-24T09:03:53.692Z"
   },
   {
    "duration": 69,
    "start_time": "2022-05-24T09:03:53.697Z"
   },
   {
    "duration": 78,
    "start_time": "2022-05-24T09:03:53.768Z"
   },
   {
    "duration": 36,
    "start_time": "2022-05-24T09:03:53.848Z"
   },
   {
    "duration": 33,
    "start_time": "2022-05-24T09:03:53.886Z"
   },
   {
    "duration": 67,
    "start_time": "2022-05-24T09:03:53.921Z"
   },
   {
    "duration": 660,
    "start_time": "2022-05-24T09:03:53.990Z"
   },
   {
    "duration": 381,
    "start_time": "2022-05-24T09:03:54.651Z"
   },
   {
    "duration": 62,
    "start_time": "2022-05-24T09:03:55.033Z"
   },
   {
    "duration": 46,
    "start_time": "2022-05-24T09:03:55.096Z"
   },
   {
    "duration": 102,
    "start_time": "2022-05-24T09:03:55.143Z"
   },
   {
    "duration": 38,
    "start_time": "2022-05-24T09:03:55.247Z"
   },
   {
    "duration": 3,
    "start_time": "2022-05-24T09:03:55.286Z"
   },
   {
    "duration": 22,
    "start_time": "2022-05-24T09:03:55.290Z"
   },
   {
    "duration": 11,
    "start_time": "2022-05-24T09:03:55.314Z"
   },
   {
    "duration": 38,
    "start_time": "2022-05-24T09:03:55.327Z"
   },
   {
    "duration": 44,
    "start_time": "2022-05-24T09:03:55.367Z"
   },
   {
    "duration": 226,
    "start_time": "2022-05-24T09:03:55.413Z"
   },
   {
    "duration": 391,
    "start_time": "2022-05-24T09:03:55.641Z"
   },
   {
    "duration": 6,
    "start_time": "2022-05-24T09:03:56.034Z"
   },
   {
    "duration": 38,
    "start_time": "2022-05-24T09:03:56.041Z"
   },
   {
    "duration": 15,
    "start_time": "2022-05-24T09:03:56.080Z"
   },
   {
    "duration": 19,
    "start_time": "2022-05-24T09:03:56.097Z"
   },
   {
    "duration": 14,
    "start_time": "2022-05-24T09:03:56.118Z"
   },
   {
    "duration": 6,
    "start_time": "2022-05-24T09:03:56.134Z"
   },
   {
    "duration": 3,
    "start_time": "2022-05-24T09:05:05.614Z"
   },
   {
    "duration": 8,
    "start_time": "2022-05-24T09:05:05.619Z"
   },
   {
    "duration": 385,
    "start_time": "2022-05-24T09:05:05.629Z"
   },
   {
    "duration": 32,
    "start_time": "2022-05-24T09:05:06.016Z"
   },
   {
    "duration": 52,
    "start_time": "2022-05-24T09:05:06.051Z"
   },
   {
    "duration": 30,
    "start_time": "2022-05-24T09:05:06.105Z"
   },
   {
    "duration": 4,
    "start_time": "2022-05-24T09:05:06.136Z"
   },
   {
    "duration": 126,
    "start_time": "2022-05-24T09:05:06.142Z"
   },
   {
    "duration": 12,
    "start_time": "2022-05-24T09:05:06.270Z"
   },
   {
    "duration": 26,
    "start_time": "2022-05-24T09:05:06.284Z"
   },
   {
    "duration": 52,
    "start_time": "2022-05-24T09:05:06.313Z"
   },
   {
    "duration": 15,
    "start_time": "2022-05-24T09:05:06.366Z"
   },
   {
    "duration": 85,
    "start_time": "2022-05-24T09:05:06.383Z"
   },
   {
    "duration": 171,
    "start_time": "2022-05-24T09:05:06.470Z"
   },
   {
    "duration": 22,
    "start_time": "2022-05-24T09:05:06.642Z"
   },
   {
    "duration": 261,
    "start_time": "2022-05-24T09:05:06.665Z"
   },
   {
    "duration": 248,
    "start_time": "2022-05-24T09:05:06.928Z"
   },
   {
    "duration": 160,
    "start_time": "2022-05-24T09:05:07.178Z"
   },
   {
    "duration": 113,
    "start_time": "2022-05-24T09:05:07.340Z"
   },
   {
    "duration": 363,
    "start_time": "2022-05-24T09:05:07.455Z"
   },
   {
    "duration": 548,
    "start_time": "2022-05-24T09:05:07.820Z"
   },
   {
    "duration": 283,
    "start_time": "2022-05-24T09:05:08.370Z"
   },
   {
    "duration": 25,
    "start_time": "2022-05-24T09:05:08.654Z"
   },
   {
    "duration": 140,
    "start_time": "2022-05-24T09:05:08.680Z"
   },
   {
    "duration": 14,
    "start_time": "2022-05-24T09:05:08.821Z"
   },
   {
    "duration": 62,
    "start_time": "2022-05-24T09:05:08.837Z"
   },
   {
    "duration": 4,
    "start_time": "2022-05-24T09:05:08.901Z"
   },
   {
    "duration": 78,
    "start_time": "2022-05-24T09:05:08.907Z"
   },
   {
    "duration": 118,
    "start_time": "2022-05-24T09:05:08.990Z"
   },
   {
    "duration": 31,
    "start_time": "2022-05-24T09:05:09.114Z"
   },
   {
    "duration": 42,
    "start_time": "2022-05-24T09:05:09.147Z"
   },
   {
    "duration": 54,
    "start_time": "2022-05-24T09:05:09.190Z"
   },
   {
    "duration": 573,
    "start_time": "2022-05-24T09:05:09.246Z"
   },
   {
    "duration": 381,
    "start_time": "2022-05-24T09:05:09.820Z"
   },
   {
    "duration": 69,
    "start_time": "2022-05-24T09:05:10.203Z"
   },
   {
    "duration": 47,
    "start_time": "2022-05-24T09:05:10.274Z"
   },
   {
    "duration": 103,
    "start_time": "2022-05-24T09:05:10.323Z"
   },
   {
    "duration": 45,
    "start_time": "2022-05-24T09:05:10.428Z"
   },
   {
    "duration": 4,
    "start_time": "2022-05-24T09:05:10.475Z"
   },
   {
    "duration": 22,
    "start_time": "2022-05-24T09:05:10.480Z"
   },
   {
    "duration": 12,
    "start_time": "2022-05-24T09:05:10.504Z"
   },
   {
    "duration": 19,
    "start_time": "2022-05-24T09:05:10.518Z"
   },
   {
    "duration": 51,
    "start_time": "2022-05-24T09:05:10.566Z"
   },
   {
    "duration": 225,
    "start_time": "2022-05-24T09:05:10.620Z"
   },
   {
    "duration": 486,
    "start_time": "2022-05-24T09:05:10.847Z"
   },
   {
    "duration": 5,
    "start_time": "2022-05-24T09:05:11.335Z"
   },
   {
    "duration": 35,
    "start_time": "2022-05-24T09:05:11.342Z"
   },
   {
    "duration": 14,
    "start_time": "2022-05-24T09:05:11.378Z"
   },
   {
    "duration": 10,
    "start_time": "2022-05-24T09:05:11.394Z"
   },
   {
    "duration": 15,
    "start_time": "2022-05-24T09:05:11.405Z"
   },
   {
    "duration": 7,
    "start_time": "2022-05-24T09:05:11.421Z"
   },
   {
    "duration": 4,
    "start_time": "2022-05-24T09:06:25.543Z"
   },
   {
    "duration": 7,
    "start_time": "2022-05-24T09:06:25.549Z"
   },
   {
    "duration": 347,
    "start_time": "2022-05-24T09:06:25.558Z"
   },
   {
    "duration": 34,
    "start_time": "2022-05-24T09:06:25.906Z"
   },
   {
    "duration": 50,
    "start_time": "2022-05-24T09:06:25.943Z"
   },
   {
    "duration": 30,
    "start_time": "2022-05-24T09:06:25.994Z"
   },
   {
    "duration": 4,
    "start_time": "2022-05-24T09:06:26.026Z"
   },
   {
    "duration": 129,
    "start_time": "2022-05-24T09:06:26.031Z"
   },
   {
    "duration": 13,
    "start_time": "2022-05-24T09:06:26.164Z"
   },
   {
    "duration": 24,
    "start_time": "2022-05-24T09:06:26.178Z"
   },
   {
    "duration": 32,
    "start_time": "2022-05-24T09:06:26.205Z"
   },
   {
    "duration": 38,
    "start_time": "2022-05-24T09:06:26.239Z"
   },
   {
    "duration": 87,
    "start_time": "2022-05-24T09:06:26.279Z"
   },
   {
    "duration": 151,
    "start_time": "2022-05-24T09:06:26.367Z"
   },
   {
    "duration": 14,
    "start_time": "2022-05-24T09:06:26.520Z"
   },
   {
    "duration": 260,
    "start_time": "2022-05-24T09:06:26.535Z"
   },
   {
    "duration": 241,
    "start_time": "2022-05-24T09:06:26.797Z"
   },
   {
    "duration": 150,
    "start_time": "2022-05-24T09:06:27.040Z"
   },
   {
    "duration": 105,
    "start_time": "2022-05-24T09:06:27.192Z"
   },
   {
    "duration": 272,
    "start_time": "2022-05-24T09:06:27.299Z"
   },
   {
    "duration": 513,
    "start_time": "2022-05-24T09:06:27.572Z"
   },
   {
    "duration": 277,
    "start_time": "2022-05-24T09:06:28.086Z"
   },
   {
    "duration": 23,
    "start_time": "2022-05-24T09:06:28.365Z"
   },
   {
    "duration": 142,
    "start_time": "2022-05-24T09:06:28.390Z"
   },
   {
    "duration": 13,
    "start_time": "2022-05-24T09:06:28.534Z"
   },
   {
    "duration": 59,
    "start_time": "2022-05-24T09:06:28.548Z"
   },
   {
    "duration": 3,
    "start_time": "2022-05-24T09:06:28.609Z"
   },
   {
    "duration": 62,
    "start_time": "2022-05-24T09:06:28.614Z"
   },
   {
    "duration": 92,
    "start_time": "2022-05-24T09:06:28.680Z"
   },
   {
    "duration": 27,
    "start_time": "2022-05-24T09:06:28.774Z"
   },
   {
    "duration": 33,
    "start_time": "2022-05-24T09:06:28.802Z"
   },
   {
    "duration": 83,
    "start_time": "2022-05-24T09:06:28.837Z"
   },
   {
    "duration": 711,
    "start_time": "2022-05-24T09:06:28.922Z"
   },
   {
    "duration": 377,
    "start_time": "2022-05-24T09:06:29.634Z"
   },
   {
    "duration": 72,
    "start_time": "2022-05-24T09:06:30.013Z"
   },
   {
    "duration": 47,
    "start_time": "2022-05-24T09:06:30.087Z"
   },
   {
    "duration": 102,
    "start_time": "2022-05-24T09:06:30.136Z"
   },
   {
    "duration": 39,
    "start_time": "2022-05-24T09:06:30.240Z"
   },
   {
    "duration": 4,
    "start_time": "2022-05-24T09:06:30.280Z"
   },
   {
    "duration": 28,
    "start_time": "2022-05-24T09:06:30.286Z"
   },
   {
    "duration": 22,
    "start_time": "2022-05-24T09:06:30.316Z"
   },
   {
    "duration": 50,
    "start_time": "2022-05-24T09:06:30.340Z"
   },
   {
    "duration": 226,
    "start_time": "2022-05-24T09:06:30.392Z"
   },
   {
    "duration": 405,
    "start_time": "2022-05-24T09:06:30.621Z"
   },
   {
    "duration": 5,
    "start_time": "2022-05-24T09:06:31.028Z"
   },
   {
    "duration": 46,
    "start_time": "2022-05-24T09:06:31.035Z"
   },
   {
    "duration": 16,
    "start_time": "2022-05-24T09:06:31.082Z"
   },
   {
    "duration": 19,
    "start_time": "2022-05-24T09:06:31.100Z"
   },
   {
    "duration": 26,
    "start_time": "2022-05-24T09:06:31.120Z"
   },
   {
    "duration": 11,
    "start_time": "2022-05-24T09:06:31.148Z"
   },
   {
    "duration": 22,
    "start_time": "2022-05-24T09:07:39.658Z"
   },
   {
    "duration": 45,
    "start_time": "2022-05-24T09:07:45.738Z"
   },
   {
    "duration": 3,
    "start_time": "2022-05-24T09:07:48.492Z"
   },
   {
    "duration": 5,
    "start_time": "2022-05-24T09:07:48.497Z"
   },
   {
    "duration": 390,
    "start_time": "2022-05-24T09:07:48.504Z"
   },
   {
    "duration": 35,
    "start_time": "2022-05-24T09:07:48.896Z"
   },
   {
    "duration": 61,
    "start_time": "2022-05-24T09:07:48.934Z"
   },
   {
    "duration": 41,
    "start_time": "2022-05-24T09:07:48.997Z"
   },
   {
    "duration": 25,
    "start_time": "2022-05-24T09:07:49.041Z"
   },
   {
    "duration": 136,
    "start_time": "2022-05-24T09:07:49.069Z"
   },
   {
    "duration": 13,
    "start_time": "2022-05-24T09:07:49.207Z"
   },
   {
    "duration": 22,
    "start_time": "2022-05-24T09:07:49.223Z"
   },
   {
    "duration": 32,
    "start_time": "2022-05-24T09:07:49.265Z"
   },
   {
    "duration": 14,
    "start_time": "2022-05-24T09:07:49.299Z"
   },
   {
    "duration": 97,
    "start_time": "2022-05-24T09:07:49.314Z"
   },
   {
    "duration": 162,
    "start_time": "2022-05-24T09:07:49.413Z"
   },
   {
    "duration": 16,
    "start_time": "2022-05-24T09:07:49.576Z"
   },
   {
    "duration": 276,
    "start_time": "2022-05-24T09:07:49.594Z"
   },
   {
    "duration": 256,
    "start_time": "2022-05-24T09:07:49.872Z"
   },
   {
    "duration": 157,
    "start_time": "2022-05-24T09:07:50.130Z"
   },
   {
    "duration": 112,
    "start_time": "2022-05-24T09:07:50.289Z"
   },
   {
    "duration": 272,
    "start_time": "2022-05-24T09:07:50.404Z"
   },
   {
    "duration": 667,
    "start_time": "2022-05-24T09:07:50.677Z"
   },
   {
    "duration": 304,
    "start_time": "2022-05-24T09:07:51.346Z"
   },
   {
    "duration": 28,
    "start_time": "2022-05-24T09:07:51.652Z"
   },
   {
    "duration": 136,
    "start_time": "2022-05-24T09:07:51.681Z"
   },
   {
    "duration": 13,
    "start_time": "2022-05-24T09:07:51.820Z"
   },
   {
    "duration": 58,
    "start_time": "2022-05-24T09:07:51.835Z"
   },
   {
    "duration": 3,
    "start_time": "2022-05-24T09:07:51.894Z"
   },
   {
    "duration": 53,
    "start_time": "2022-05-24T09:07:51.899Z"
   },
   {
    "duration": 83,
    "start_time": "2022-05-24T09:07:51.965Z"
   },
   {
    "duration": 41,
    "start_time": "2022-05-24T09:07:52.049Z"
   },
   {
    "duration": 46,
    "start_time": "2022-05-24T09:07:52.092Z"
   },
   {
    "duration": 82,
    "start_time": "2022-05-24T09:07:52.141Z"
   },
   {
    "duration": 594,
    "start_time": "2022-05-24T09:07:52.224Z"
   },
   {
    "duration": 393,
    "start_time": "2022-05-24T09:07:52.820Z"
   },
   {
    "duration": 74,
    "start_time": "2022-05-24T09:07:53.216Z"
   },
   {
    "duration": 52,
    "start_time": "2022-05-24T09:07:53.292Z"
   },
   {
    "duration": 112,
    "start_time": "2022-05-24T09:07:53.346Z"
   },
   {
    "duration": 27,
    "start_time": "2022-05-24T09:07:53.465Z"
   },
   {
    "duration": 19,
    "start_time": "2022-05-24T09:07:53.494Z"
   },
   {
    "duration": 30,
    "start_time": "2022-05-24T09:07:53.514Z"
   },
   {
    "duration": 21,
    "start_time": "2022-05-24T09:07:53.546Z"
   },
   {
    "duration": 45,
    "start_time": "2022-05-24T09:07:53.568Z"
   },
   {
    "duration": 230,
    "start_time": "2022-05-24T09:07:53.615Z"
   },
   {
    "duration": 299,
    "start_time": "2022-05-24T09:07:53.847Z"
   },
   {
    "duration": 6,
    "start_time": "2022-05-24T09:07:54.147Z"
   },
   {
    "duration": 33,
    "start_time": "2022-05-24T09:07:54.165Z"
   },
   {
    "duration": 14,
    "start_time": "2022-05-24T09:07:54.199Z"
   },
   {
    "duration": 31,
    "start_time": "2022-05-24T09:07:54.215Z"
   },
   {
    "duration": 33,
    "start_time": "2022-05-24T09:07:54.247Z"
   },
   {
    "duration": 20,
    "start_time": "2022-05-24T09:07:54.282Z"
   },
   {
    "duration": 4,
    "start_time": "2022-05-24T09:08:22.366Z"
   },
   {
    "duration": 5,
    "start_time": "2022-05-24T09:08:22.372Z"
   },
   {
    "duration": 385,
    "start_time": "2022-05-24T09:08:22.379Z"
   },
   {
    "duration": 30,
    "start_time": "2022-05-24T09:08:22.766Z"
   },
   {
    "duration": 56,
    "start_time": "2022-05-24T09:08:22.798Z"
   },
   {
    "duration": 32,
    "start_time": "2022-05-24T09:08:22.855Z"
   },
   {
    "duration": 4,
    "start_time": "2022-05-24T09:08:22.888Z"
   },
   {
    "duration": 126,
    "start_time": "2022-05-24T09:08:22.894Z"
   },
   {
    "duration": 15,
    "start_time": "2022-05-24T09:08:23.022Z"
   },
   {
    "duration": 33,
    "start_time": "2022-05-24T09:08:23.040Z"
   },
   {
    "duration": 37,
    "start_time": "2022-05-24T09:08:23.075Z"
   },
   {
    "duration": 14,
    "start_time": "2022-05-24T09:08:23.114Z"
   },
   {
    "duration": 211,
    "start_time": "2022-05-24T09:08:23.130Z"
   },
   {
    "duration": 151,
    "start_time": "2022-05-24T09:08:23.342Z"
   },
   {
    "duration": 14,
    "start_time": "2022-05-24T09:08:23.494Z"
   },
   {
    "duration": 280,
    "start_time": "2022-05-24T09:08:23.510Z"
   },
   {
    "duration": 243,
    "start_time": "2022-05-24T09:08:23.792Z"
   },
   {
    "duration": 153,
    "start_time": "2022-05-24T09:08:24.037Z"
   },
   {
    "duration": 103,
    "start_time": "2022-05-24T09:08:24.191Z"
   },
   {
    "duration": 278,
    "start_time": "2022-05-24T09:08:24.295Z"
   },
   {
    "duration": 544,
    "start_time": "2022-05-24T09:08:24.575Z"
   },
   {
    "duration": 281,
    "start_time": "2022-05-24T09:08:25.121Z"
   },
   {
    "duration": 23,
    "start_time": "2022-05-24T09:08:25.403Z"
   },
   {
    "duration": 140,
    "start_time": "2022-05-24T09:08:25.428Z"
   },
   {
    "duration": 14,
    "start_time": "2022-05-24T09:08:25.572Z"
   },
   {
    "duration": 45,
    "start_time": "2022-05-24T09:08:25.587Z"
   },
   {
    "duration": 3,
    "start_time": "2022-05-24T09:08:25.634Z"
   },
   {
    "duration": 71,
    "start_time": "2022-05-24T09:08:25.638Z"
   },
   {
    "duration": 90,
    "start_time": "2022-05-24T09:08:25.711Z"
   },
   {
    "duration": 26,
    "start_time": "2022-05-24T09:08:25.803Z"
   },
   {
    "duration": 59,
    "start_time": "2022-05-24T09:08:25.830Z"
   },
   {
    "duration": 55,
    "start_time": "2022-05-24T09:08:25.890Z"
   },
   {
    "duration": 576,
    "start_time": "2022-05-24T09:08:25.946Z"
   },
   {
    "duration": 499,
    "start_time": "2022-05-24T09:08:26.523Z"
   },
   {
    "duration": 60,
    "start_time": "2022-05-24T09:08:27.023Z"
   },
   {
    "duration": 46,
    "start_time": "2022-05-24T09:08:27.084Z"
   },
   {
    "duration": 111,
    "start_time": "2022-05-24T09:08:27.132Z"
   },
   {
    "duration": 40,
    "start_time": "2022-05-24T09:08:27.245Z"
   },
   {
    "duration": 3,
    "start_time": "2022-05-24T09:08:27.287Z"
   },
   {
    "duration": 15,
    "start_time": "2022-05-24T09:08:27.291Z"
   },
   {
    "duration": 19,
    "start_time": "2022-05-24T09:08:27.307Z"
   },
   {
    "duration": 69,
    "start_time": "2022-05-24T09:08:27.328Z"
   },
   {
    "duration": 225,
    "start_time": "2022-05-24T09:08:27.398Z"
   },
   {
    "duration": 175,
    "start_time": "2022-05-24T09:08:27.625Z"
   },
   {
    "duration": 0,
    "start_time": "2022-05-24T09:08:27.802Z"
   },
   {
    "duration": 0,
    "start_time": "2022-05-24T09:08:27.803Z"
   },
   {
    "duration": 0,
    "start_time": "2022-05-24T09:08:27.804Z"
   },
   {
    "duration": 0,
    "start_time": "2022-05-24T09:08:27.805Z"
   },
   {
    "duration": 0,
    "start_time": "2022-05-24T09:08:27.806Z"
   },
   {
    "duration": 0,
    "start_time": "2022-05-24T09:08:27.807Z"
   },
   {
    "duration": 4,
    "start_time": "2022-05-24T09:08:40.150Z"
   },
   {
    "duration": 9,
    "start_time": "2022-05-24T09:08:40.155Z"
   },
   {
    "duration": 357,
    "start_time": "2022-05-24T09:08:40.165Z"
   },
   {
    "duration": 31,
    "start_time": "2022-05-24T09:08:40.524Z"
   },
   {
    "duration": 50,
    "start_time": "2022-05-24T09:08:40.557Z"
   },
   {
    "duration": 39,
    "start_time": "2022-05-24T09:08:40.608Z"
   },
   {
    "duration": 4,
    "start_time": "2022-05-24T09:08:40.648Z"
   },
   {
    "duration": 113,
    "start_time": "2022-05-24T09:08:40.665Z"
   },
   {
    "duration": 14,
    "start_time": "2022-05-24T09:08:40.780Z"
   },
   {
    "duration": 22,
    "start_time": "2022-05-24T09:08:40.796Z"
   },
   {
    "duration": 57,
    "start_time": "2022-05-24T09:08:40.821Z"
   },
   {
    "duration": 14,
    "start_time": "2022-05-24T09:08:40.880Z"
   },
   {
    "duration": 91,
    "start_time": "2022-05-24T09:08:40.896Z"
   },
   {
    "duration": 161,
    "start_time": "2022-05-24T09:08:40.989Z"
   },
   {
    "duration": 20,
    "start_time": "2022-05-24T09:08:41.152Z"
   },
   {
    "duration": 274,
    "start_time": "2022-05-24T09:08:41.174Z"
   },
   {
    "duration": 273,
    "start_time": "2022-05-24T09:08:41.450Z"
   },
   {
    "duration": 155,
    "start_time": "2022-05-24T09:08:41.725Z"
   },
   {
    "duration": 102,
    "start_time": "2022-05-24T09:08:41.882Z"
   },
   {
    "duration": 258,
    "start_time": "2022-05-24T09:08:41.985Z"
   },
   {
    "duration": 519,
    "start_time": "2022-05-24T09:08:42.246Z"
   },
   {
    "duration": 275,
    "start_time": "2022-05-24T09:08:42.767Z"
   },
   {
    "duration": 32,
    "start_time": "2022-05-24T09:08:43.044Z"
   },
   {
    "duration": 132,
    "start_time": "2022-05-24T09:08:43.078Z"
   },
   {
    "duration": 13,
    "start_time": "2022-05-24T09:08:43.212Z"
   },
   {
    "duration": 56,
    "start_time": "2022-05-24T09:08:43.226Z"
   },
   {
    "duration": 3,
    "start_time": "2022-05-24T09:08:43.284Z"
   },
   {
    "duration": 54,
    "start_time": "2022-05-24T09:08:43.288Z"
   },
   {
    "duration": 91,
    "start_time": "2022-05-24T09:08:43.346Z"
   },
   {
    "duration": 42,
    "start_time": "2022-05-24T09:08:43.439Z"
   },
   {
    "duration": 33,
    "start_time": "2022-05-24T09:08:43.483Z"
   },
   {
    "duration": 73,
    "start_time": "2022-05-24T09:08:43.518Z"
   },
   {
    "duration": 691,
    "start_time": "2022-05-24T09:08:43.592Z"
   },
   {
    "duration": 381,
    "start_time": "2022-05-24T09:08:44.285Z"
   },
   {
    "duration": 51,
    "start_time": "2022-05-24T09:08:44.668Z"
   },
   {
    "duration": 64,
    "start_time": "2022-05-24T09:08:44.720Z"
   },
   {
    "duration": 92,
    "start_time": "2022-05-24T09:08:44.786Z"
   },
   {
    "duration": 29,
    "start_time": "2022-05-24T09:08:44.879Z"
   },
   {
    "duration": 3,
    "start_time": "2022-05-24T09:08:44.910Z"
   },
   {
    "duration": 15,
    "start_time": "2022-05-24T09:08:44.914Z"
   },
   {
    "duration": 43,
    "start_time": "2022-05-24T09:08:44.930Z"
   },
   {
    "duration": 56,
    "start_time": "2022-05-24T09:08:44.975Z"
   },
   {
    "duration": 242,
    "start_time": "2022-05-24T09:08:45.032Z"
   },
   {
    "duration": 373,
    "start_time": "2022-05-24T09:08:45.275Z"
   },
   {
    "duration": 6,
    "start_time": "2022-05-24T09:08:45.650Z"
   },
   {
    "duration": 23,
    "start_time": "2022-05-24T09:08:45.665Z"
   },
   {
    "duration": 15,
    "start_time": "2022-05-24T09:08:45.702Z"
   },
   {
    "duration": 8,
    "start_time": "2022-05-24T09:08:45.718Z"
   },
   {
    "duration": 14,
    "start_time": "2022-05-24T09:08:45.728Z"
   },
   {
    "duration": 25,
    "start_time": "2022-05-24T09:08:45.744Z"
   },
   {
    "duration": 375,
    "start_time": "2022-05-24T09:11:32.725Z"
   },
   {
    "duration": 364,
    "start_time": "2022-05-24T09:11:52.069Z"
   },
   {
    "duration": 492,
    "start_time": "2022-05-24T09:11:59.045Z"
   },
   {
    "duration": 657,
    "start_time": "2022-05-24T09:12:25.677Z"
   },
   {
    "duration": 719,
    "start_time": "2022-05-24T09:12:36.021Z"
   },
   {
    "duration": 4,
    "start_time": "2022-05-24T09:14:14.700Z"
   },
   {
    "duration": 8,
    "start_time": "2022-05-24T09:14:14.705Z"
   },
   {
    "duration": 378,
    "start_time": "2022-05-24T09:14:14.715Z"
   },
   {
    "duration": 32,
    "start_time": "2022-05-24T09:14:15.094Z"
   },
   {
    "duration": 56,
    "start_time": "2022-05-24T09:14:15.129Z"
   },
   {
    "duration": 30,
    "start_time": "2022-05-24T09:14:15.187Z"
   },
   {
    "duration": 5,
    "start_time": "2022-05-24T09:14:15.219Z"
   },
   {
    "duration": 128,
    "start_time": "2022-05-24T09:14:15.225Z"
   },
   {
    "duration": 21,
    "start_time": "2022-05-24T09:14:15.354Z"
   },
   {
    "duration": 22,
    "start_time": "2022-05-24T09:14:15.377Z"
   },
   {
    "duration": 37,
    "start_time": "2022-05-24T09:14:15.402Z"
   },
   {
    "duration": 28,
    "start_time": "2022-05-24T09:14:15.440Z"
   },
   {
    "duration": 91,
    "start_time": "2022-05-24T09:14:15.470Z"
   },
   {
    "duration": 144,
    "start_time": "2022-05-24T09:14:15.563Z"
   },
   {
    "duration": 17,
    "start_time": "2022-05-24T09:14:15.708Z"
   },
   {
    "duration": 293,
    "start_time": "2022-05-24T09:14:15.727Z"
   },
   {
    "duration": 271,
    "start_time": "2022-05-24T09:14:16.022Z"
   },
   {
    "duration": 165,
    "start_time": "2022-05-24T09:14:16.295Z"
   },
   {
    "duration": 148,
    "start_time": "2022-05-24T09:14:16.465Z"
   },
   {
    "duration": 511,
    "start_time": "2022-05-24T09:14:16.665Z"
   },
   {
    "duration": 1040,
    "start_time": "2022-05-24T09:14:17.178Z"
   },
   {
    "duration": 317,
    "start_time": "2022-05-24T09:14:18.220Z"
   },
   {
    "duration": 36,
    "start_time": "2022-05-24T09:14:18.539Z"
   },
   {
    "duration": 250,
    "start_time": "2022-05-24T09:14:18.577Z"
   },
   {
    "duration": 14,
    "start_time": "2022-05-24T09:14:18.828Z"
   },
   {
    "duration": 65,
    "start_time": "2022-05-24T09:14:18.844Z"
   },
   {
    "duration": 5,
    "start_time": "2022-05-24T09:14:18.911Z"
   },
   {
    "duration": 79,
    "start_time": "2022-05-24T09:14:18.918Z"
   },
   {
    "duration": 131,
    "start_time": "2022-05-24T09:14:19.002Z"
   },
   {
    "duration": 37,
    "start_time": "2022-05-24T09:14:19.134Z"
   },
   {
    "duration": 35,
    "start_time": "2022-05-24T09:14:19.173Z"
   },
   {
    "duration": 68,
    "start_time": "2022-05-24T09:14:19.210Z"
   },
   {
    "duration": 557,
    "start_time": "2022-05-24T09:14:19.279Z"
   },
   {
    "duration": 378,
    "start_time": "2022-05-24T09:14:19.837Z"
   },
   {
    "duration": 74,
    "start_time": "2022-05-24T09:14:20.217Z"
   },
   {
    "duration": 50,
    "start_time": "2022-05-24T09:14:20.293Z"
   },
   {
    "duration": 105,
    "start_time": "2022-05-24T09:14:20.345Z"
   },
   {
    "duration": 37,
    "start_time": "2022-05-24T09:14:20.452Z"
   },
   {
    "duration": 3,
    "start_time": "2022-05-24T09:14:20.491Z"
   },
   {
    "duration": 22,
    "start_time": "2022-05-24T09:14:20.496Z"
   },
   {
    "duration": 20,
    "start_time": "2022-05-24T09:14:20.519Z"
   },
   {
    "duration": 67,
    "start_time": "2022-05-24T09:14:20.541Z"
   },
   {
    "duration": 229,
    "start_time": "2022-05-24T09:14:20.611Z"
   },
   {
    "duration": 398,
    "start_time": "2022-05-24T09:14:20.842Z"
   },
   {
    "duration": 5,
    "start_time": "2022-05-24T09:14:21.242Z"
   },
   {
    "duration": 38,
    "start_time": "2022-05-24T09:14:21.248Z"
   },
   {
    "duration": 16,
    "start_time": "2022-05-24T09:14:21.288Z"
   },
   {
    "duration": 13,
    "start_time": "2022-05-24T09:14:21.305Z"
   },
   {
    "duration": 15,
    "start_time": "2022-05-24T09:14:21.320Z"
   },
   {
    "duration": 30,
    "start_time": "2022-05-24T09:14:21.336Z"
   },
   {
    "duration": 24,
    "start_time": "2022-05-24T09:29:03.857Z"
   },
   {
    "duration": 31,
    "start_time": "2022-05-24T09:29:08.888Z"
   },
   {
    "duration": 218,
    "start_time": "2022-05-24T09:32:55.381Z"
   },
   {
    "duration": 403,
    "start_time": "2022-05-24T09:42:57.330Z"
   },
   {
    "duration": 1228,
    "start_time": "2022-05-24T09:43:20.268Z"
   },
   {
    "duration": 4,
    "start_time": "2022-05-24T09:43:21.498Z"
   },
   {
    "duration": 390,
    "start_time": "2022-05-24T09:43:21.505Z"
   },
   {
    "duration": 33,
    "start_time": "2022-05-24T09:43:21.898Z"
   },
   {
    "duration": 50,
    "start_time": "2022-05-24T09:43:21.932Z"
   },
   {
    "duration": 39,
    "start_time": "2022-05-24T09:43:21.983Z"
   },
   {
    "duration": 4,
    "start_time": "2022-05-24T09:43:22.024Z"
   },
   {
    "duration": 151,
    "start_time": "2022-05-24T09:43:22.029Z"
   },
   {
    "duration": 13,
    "start_time": "2022-05-24T09:43:22.182Z"
   },
   {
    "duration": 23,
    "start_time": "2022-05-24T09:43:22.198Z"
   },
   {
    "duration": 49,
    "start_time": "2022-05-24T09:43:22.223Z"
   },
   {
    "duration": 15,
    "start_time": "2022-05-24T09:43:22.274Z"
   },
   {
    "duration": 90,
    "start_time": "2022-05-24T09:43:22.291Z"
   },
   {
    "duration": 174,
    "start_time": "2022-05-24T09:43:22.383Z"
   },
   {
    "duration": 19,
    "start_time": "2022-05-24T09:43:22.559Z"
   },
   {
    "duration": 463,
    "start_time": "2022-05-24T09:43:22.580Z"
   },
   {
    "duration": 250,
    "start_time": "2022-05-24T09:43:23.045Z"
   },
   {
    "duration": 155,
    "start_time": "2022-05-24T09:43:23.296Z"
   },
   {
    "duration": 114,
    "start_time": "2022-05-24T09:43:23.453Z"
   },
   {
    "duration": 258,
    "start_time": "2022-05-24T09:43:23.569Z"
   },
   {
    "duration": 544,
    "start_time": "2022-05-24T09:43:23.829Z"
   },
   {
    "duration": 294,
    "start_time": "2022-05-24T09:43:24.375Z"
   },
   {
    "duration": 23,
    "start_time": "2022-05-24T09:43:24.671Z"
   },
   {
    "duration": 142,
    "start_time": "2022-05-24T09:43:24.696Z"
   },
   {
    "duration": 12,
    "start_time": "2022-05-24T09:43:24.840Z"
   },
   {
    "duration": 79,
    "start_time": "2022-05-24T09:43:24.854Z"
   },
   {
    "duration": 4,
    "start_time": "2022-05-24T09:43:24.934Z"
   },
   {
    "duration": 56,
    "start_time": "2022-05-24T09:43:24.941Z"
   },
   {
    "duration": 84,
    "start_time": "2022-05-24T09:43:24.999Z"
   },
   {
    "duration": 26,
    "start_time": "2022-05-24T09:43:25.085Z"
   },
   {
    "duration": 34,
    "start_time": "2022-05-24T09:43:25.112Z"
   },
   {
    "duration": 53,
    "start_time": "2022-05-24T09:43:25.164Z"
   },
   {
    "duration": 577,
    "start_time": "2022-05-24T09:43:25.219Z"
   },
   {
    "duration": 488,
    "start_time": "2022-05-24T09:43:25.798Z"
   },
   {
    "duration": 53,
    "start_time": "2022-05-24T09:43:26.287Z"
   },
   {
    "duration": 61,
    "start_time": "2022-05-24T09:43:26.342Z"
   },
   {
    "duration": 101,
    "start_time": "2022-05-24T09:43:26.405Z"
   },
   {
    "duration": 30,
    "start_time": "2022-05-24T09:43:26.507Z"
   },
   {
    "duration": 3,
    "start_time": "2022-05-24T09:43:26.539Z"
   },
   {
    "duration": 30,
    "start_time": "2022-05-24T09:43:26.543Z"
   },
   {
    "duration": 39,
    "start_time": "2022-05-24T09:43:26.576Z"
   },
   {
    "duration": 56,
    "start_time": "2022-05-24T09:43:26.617Z"
   },
   {
    "duration": 213,
    "start_time": "2022-05-24T09:43:26.675Z"
   },
   {
    "duration": 381,
    "start_time": "2022-05-24T09:43:26.889Z"
   },
   {
    "duration": 5,
    "start_time": "2022-05-24T09:43:27.272Z"
   },
   {
    "duration": 32,
    "start_time": "2022-05-24T09:43:27.279Z"
   },
   {
    "duration": 15,
    "start_time": "2022-05-24T09:43:27.312Z"
   },
   {
    "duration": 19,
    "start_time": "2022-05-24T09:43:27.329Z"
   },
   {
    "duration": 35,
    "start_time": "2022-05-24T09:43:27.350Z"
   },
   {
    "duration": 7,
    "start_time": "2022-05-24T09:43:27.387Z"
   },
   {
    "duration": 4,
    "start_time": "2022-05-24T09:47:30.774Z"
   },
   {
    "duration": 52,
    "start_time": "2022-05-24T09:47:30.779Z"
   },
   {
    "duration": 404,
    "start_time": "2022-05-24T09:47:30.833Z"
   },
   {
    "duration": 32,
    "start_time": "2022-05-24T09:47:31.239Z"
   },
   {
    "duration": 48,
    "start_time": "2022-05-24T09:47:31.273Z"
   },
   {
    "duration": 42,
    "start_time": "2022-05-24T09:47:31.323Z"
   },
   {
    "duration": 4,
    "start_time": "2022-05-24T09:47:31.367Z"
   },
   {
    "duration": 116,
    "start_time": "2022-05-24T09:47:31.372Z"
   },
   {
    "duration": 12,
    "start_time": "2022-05-24T09:47:31.490Z"
   },
   {
    "duration": 25,
    "start_time": "2022-05-24T09:47:31.504Z"
   },
   {
    "duration": 48,
    "start_time": "2022-05-24T09:47:31.531Z"
   },
   {
    "duration": 20,
    "start_time": "2022-05-24T09:47:31.581Z"
   },
   {
    "duration": 93,
    "start_time": "2022-05-24T09:47:31.603Z"
   },
   {
    "duration": 161,
    "start_time": "2022-05-24T09:47:31.698Z"
   },
   {
    "duration": 19,
    "start_time": "2022-05-24T09:47:31.861Z"
   },
   {
    "duration": 274,
    "start_time": "2022-05-24T09:47:31.882Z"
   },
   {
    "duration": 249,
    "start_time": "2022-05-24T09:47:32.157Z"
   },
   {
    "duration": 157,
    "start_time": "2022-05-24T09:47:32.407Z"
   },
   {
    "duration": 104,
    "start_time": "2022-05-24T09:47:32.566Z"
   },
   {
    "duration": 253,
    "start_time": "2022-05-24T09:47:32.671Z"
   },
   {
    "duration": 520,
    "start_time": "2022-05-24T09:47:32.926Z"
   },
   {
    "duration": 390,
    "start_time": "2022-05-24T09:47:33.448Z"
   },
   {
    "duration": 34,
    "start_time": "2022-05-24T09:47:33.840Z"
   },
   {
    "duration": 131,
    "start_time": "2022-05-24T09:47:33.876Z"
   },
   {
    "duration": 13,
    "start_time": "2022-05-24T09:47:34.008Z"
   },
   {
    "duration": 51,
    "start_time": "2022-05-24T09:47:34.023Z"
   },
   {
    "duration": 4,
    "start_time": "2022-05-24T09:47:34.076Z"
   },
   {
    "duration": 50,
    "start_time": "2022-05-24T09:47:34.082Z"
   },
   {
    "duration": 94,
    "start_time": "2022-05-24T09:47:34.135Z"
   },
   {
    "duration": 41,
    "start_time": "2022-05-24T09:47:34.231Z"
   },
   {
    "duration": 34,
    "start_time": "2022-05-24T09:47:34.274Z"
   },
   {
    "duration": 66,
    "start_time": "2022-05-24T09:47:34.309Z"
   },
   {
    "duration": 577,
    "start_time": "2022-05-24T09:47:34.376Z"
   },
   {
    "duration": 377,
    "start_time": "2022-05-24T09:47:34.955Z"
   },
   {
    "duration": 63,
    "start_time": "2022-05-24T09:47:35.333Z"
   },
   {
    "duration": 46,
    "start_time": "2022-05-24T09:47:35.398Z"
   },
   {
    "duration": 102,
    "start_time": "2022-05-24T09:47:35.446Z"
   },
   {
    "duration": 41,
    "start_time": "2022-05-24T09:47:35.549Z"
   },
   {
    "duration": 3,
    "start_time": "2022-05-24T09:47:35.591Z"
   },
   {
    "duration": 15,
    "start_time": "2022-05-24T09:47:35.595Z"
   },
   {
    "duration": 20,
    "start_time": "2022-05-24T09:47:35.611Z"
   },
   {
    "duration": 61,
    "start_time": "2022-05-24T09:47:35.632Z"
   },
   {
    "duration": 214,
    "start_time": "2022-05-24T09:47:35.695Z"
   },
   {
    "duration": 376,
    "start_time": "2022-05-24T09:47:35.910Z"
   },
   {
    "duration": 5,
    "start_time": "2022-05-24T09:47:36.288Z"
   },
   {
    "duration": 25,
    "start_time": "2022-05-24T09:47:36.295Z"
   },
   {
    "duration": 15,
    "start_time": "2022-05-24T09:47:36.322Z"
   },
   {
    "duration": 31,
    "start_time": "2022-05-24T09:47:36.339Z"
   },
   {
    "duration": 14,
    "start_time": "2022-05-24T09:47:36.372Z"
   },
   {
    "duration": 4,
    "start_time": "2022-05-24T09:47:36.388Z"
   },
   {
    "duration": 1225,
    "start_time": "2022-05-24T09:59:42.845Z"
   },
   {
    "duration": 4,
    "start_time": "2022-05-24T09:59:44.071Z"
   },
   {
    "duration": 373,
    "start_time": "2022-05-24T09:59:44.076Z"
   },
   {
    "duration": 30,
    "start_time": "2022-05-24T09:59:44.451Z"
   },
   {
    "duration": 47,
    "start_time": "2022-05-24T09:59:44.483Z"
   },
   {
    "duration": 46,
    "start_time": "2022-05-24T09:59:44.531Z"
   },
   {
    "duration": 4,
    "start_time": "2022-05-24T09:59:44.578Z"
   },
   {
    "duration": 133,
    "start_time": "2022-05-24T09:59:44.584Z"
   },
   {
    "duration": 13,
    "start_time": "2022-05-24T09:59:44.719Z"
   },
   {
    "duration": 36,
    "start_time": "2022-05-24T09:59:44.734Z"
   },
   {
    "duration": 32,
    "start_time": "2022-05-24T09:59:44.772Z"
   },
   {
    "duration": 14,
    "start_time": "2022-05-24T09:59:44.806Z"
   },
   {
    "duration": 100,
    "start_time": "2022-05-24T09:59:44.822Z"
   },
   {
    "duration": 167,
    "start_time": "2022-05-24T09:59:44.923Z"
   },
   {
    "duration": 14,
    "start_time": "2022-05-24T09:59:45.092Z"
   },
   {
    "duration": 436,
    "start_time": "2022-05-24T09:59:45.108Z"
   },
   {
    "duration": 246,
    "start_time": "2022-05-24T09:59:45.545Z"
   },
   {
    "duration": 155,
    "start_time": "2022-05-24T09:59:45.792Z"
   },
   {
    "duration": 122,
    "start_time": "2022-05-24T09:59:45.949Z"
   },
   {
    "duration": 257,
    "start_time": "2022-05-24T09:59:46.073Z"
   },
   {
    "duration": 542,
    "start_time": "2022-05-24T09:59:46.332Z"
   },
   {
    "duration": 278,
    "start_time": "2022-05-24T09:59:46.876Z"
   },
   {
    "duration": 26,
    "start_time": "2022-05-24T09:59:47.155Z"
   },
   {
    "duration": 136,
    "start_time": "2022-05-24T09:59:47.183Z"
   },
   {
    "duration": 14,
    "start_time": "2022-05-24T09:59:47.321Z"
   },
   {
    "duration": 57,
    "start_time": "2022-05-24T09:59:47.336Z"
   },
   {
    "duration": 5,
    "start_time": "2022-05-24T09:59:47.395Z"
   },
   {
    "duration": 67,
    "start_time": "2022-05-24T09:59:47.403Z"
   },
   {
    "duration": 93,
    "start_time": "2022-05-24T09:59:47.472Z"
   },
   {
    "duration": 28,
    "start_time": "2022-05-24T09:59:47.567Z"
   },
   {
    "duration": 32,
    "start_time": "2022-05-24T09:59:47.597Z"
   },
   {
    "duration": 69,
    "start_time": "2022-05-24T09:59:47.630Z"
   },
   {
    "duration": 556,
    "start_time": "2022-05-24T09:59:47.701Z"
   },
   {
    "duration": 453,
    "start_time": "2022-05-24T09:59:48.259Z"
   },
   {
    "duration": 59,
    "start_time": "2022-05-24T09:59:48.714Z"
   },
   {
    "duration": 48,
    "start_time": "2022-05-24T09:59:48.775Z"
   },
   {
    "duration": 125,
    "start_time": "2022-05-24T09:59:48.825Z"
   },
   {
    "duration": 36,
    "start_time": "2022-05-24T09:59:48.952Z"
   },
   {
    "duration": 3,
    "start_time": "2022-05-24T09:59:48.990Z"
   },
   {
    "duration": 20,
    "start_time": "2022-05-24T09:59:48.995Z"
   },
   {
    "duration": 23,
    "start_time": "2022-05-24T09:59:49.018Z"
   },
   {
    "duration": 55,
    "start_time": "2022-05-24T09:59:49.065Z"
   },
   {
    "duration": 215,
    "start_time": "2022-05-24T09:59:49.121Z"
   },
   {
    "duration": 364,
    "start_time": "2022-05-24T09:59:49.337Z"
   },
   {
    "duration": 5,
    "start_time": "2022-05-24T09:59:49.703Z"
   },
   {
    "duration": 24,
    "start_time": "2022-05-24T09:59:49.709Z"
   },
   {
    "duration": 30,
    "start_time": "2022-05-24T09:59:49.735Z"
   },
   {
    "duration": 8,
    "start_time": "2022-05-24T09:59:49.767Z"
   },
   {
    "duration": 14,
    "start_time": "2022-05-24T09:59:49.776Z"
   },
   {
    "duration": 4,
    "start_time": "2022-05-24T09:59:49.791Z"
   },
   {
    "duration": 61,
    "start_time": "2022-05-26T14:16:03.812Z"
   },
   {
    "duration": 1557,
    "start_time": "2022-05-26T14:16:07.010Z"
   },
   {
    "duration": 4,
    "start_time": "2022-05-26T14:16:08.569Z"
   },
   {
    "duration": 895,
    "start_time": "2022-05-26T14:16:08.574Z"
   },
   {
    "duration": 74,
    "start_time": "2022-05-26T14:16:09.471Z"
   },
   {
    "duration": 161,
    "start_time": "2022-05-26T14:16:09.547Z"
   },
   {
    "duration": 40,
    "start_time": "2022-05-26T14:16:09.710Z"
   },
   {
    "duration": 3,
    "start_time": "2022-05-26T14:16:09.752Z"
   },
   {
    "duration": 146,
    "start_time": "2022-05-26T14:16:09.757Z"
   },
   {
    "duration": 16,
    "start_time": "2022-05-26T14:16:09.904Z"
   },
   {
    "duration": 23,
    "start_time": "2022-05-26T14:16:09.921Z"
   },
   {
    "duration": 60,
    "start_time": "2022-05-26T14:16:09.945Z"
   },
   {
    "duration": 16,
    "start_time": "2022-05-26T14:16:10.007Z"
   },
   {
    "duration": 88,
    "start_time": "2022-05-26T14:16:10.025Z"
   },
   {
    "duration": 172,
    "start_time": "2022-05-26T14:16:10.117Z"
   },
   {
    "duration": 24,
    "start_time": "2022-05-26T14:16:10.291Z"
   },
   {
    "duration": 469,
    "start_time": "2022-05-26T14:16:10.317Z"
   },
   {
    "duration": 249,
    "start_time": "2022-05-26T14:16:10.794Z"
   },
   {
    "duration": 164,
    "start_time": "2022-05-26T14:16:11.045Z"
   },
   {
    "duration": 112,
    "start_time": "2022-05-26T14:16:11.211Z"
   },
   {
    "duration": 283,
    "start_time": "2022-05-26T14:16:11.324Z"
   },
   {
    "duration": 540,
    "start_time": "2022-05-26T14:16:11.609Z"
   },
   {
    "duration": 303,
    "start_time": "2022-05-26T14:16:12.151Z"
   },
   {
    "duration": 23,
    "start_time": "2022-05-26T14:16:12.456Z"
   },
   {
    "duration": 152,
    "start_time": "2022-05-26T14:16:12.481Z"
   },
   {
    "duration": 12,
    "start_time": "2022-05-26T14:16:12.635Z"
   },
   {
    "duration": 59,
    "start_time": "2022-05-26T14:16:12.649Z"
   },
   {
    "duration": 4,
    "start_time": "2022-05-26T14:16:12.710Z"
   },
   {
    "duration": 63,
    "start_time": "2022-05-26T14:16:12.715Z"
   },
   {
    "duration": 87,
    "start_time": "2022-05-26T14:16:12.780Z"
   },
   {
    "duration": 43,
    "start_time": "2022-05-26T14:16:12.868Z"
   },
   {
    "duration": 36,
    "start_time": "2022-05-26T14:16:12.913Z"
   },
   {
    "duration": 68,
    "start_time": "2022-05-26T14:16:12.951Z"
   },
   {
    "duration": 571,
    "start_time": "2022-05-26T14:16:13.020Z"
   },
   {
    "duration": 477,
    "start_time": "2022-05-26T14:16:13.593Z"
   },
   {
    "duration": 66,
    "start_time": "2022-05-26T14:16:14.071Z"
   },
   {
    "duration": 67,
    "start_time": "2022-05-26T14:16:14.138Z"
   },
   {
    "duration": 99,
    "start_time": "2022-05-26T14:16:14.210Z"
   },
   {
    "duration": 28,
    "start_time": "2022-05-26T14:16:14.311Z"
   },
   {
    "duration": 18,
    "start_time": "2022-05-26T14:16:14.341Z"
   },
   {
    "duration": 26,
    "start_time": "2022-05-26T14:16:14.360Z"
   },
   {
    "duration": 21,
    "start_time": "2022-05-26T14:16:14.396Z"
   },
   {
    "duration": 44,
    "start_time": "2022-05-26T14:16:14.419Z"
   },
   {
    "duration": 244,
    "start_time": "2022-05-26T14:16:14.464Z"
   },
   {
    "duration": 374,
    "start_time": "2022-05-26T14:16:14.710Z"
   },
   {
    "duration": 17,
    "start_time": "2022-05-26T14:16:15.086Z"
   },
   {
    "duration": 31,
    "start_time": "2022-05-26T14:16:15.109Z"
   },
   {
    "duration": 15,
    "start_time": "2022-05-26T14:16:15.141Z"
   },
   {
    "duration": 12,
    "start_time": "2022-05-26T14:16:15.157Z"
   },
   {
    "duration": 35,
    "start_time": "2022-05-26T14:16:15.171Z"
   },
   {
    "duration": 7,
    "start_time": "2022-05-26T14:16:15.208Z"
   }
  ],
  "kernelspec": {
   "display_name": "Python 3 (ipykernel)",
   "language": "python",
   "name": "python3"
  },
  "language_info": {
   "codemirror_mode": {
    "name": "ipython",
    "version": 3
   },
   "file_extension": ".py",
   "mimetype": "text/x-python",
   "name": "python",
   "nbconvert_exporter": "python",
   "pygments_lexer": "ipython3",
   "version": "3.9.7"
  },
  "toc": {
   "base_numbering": 1,
   "nav_menu": {},
   "number_sections": true,
   "sideBar": true,
   "skip_h1_title": true,
   "title_cell": "Table of Contents",
   "title_sidebar": "Contents",
   "toc_cell": false,
   "toc_position": {
    "height": "calc(100% - 180px)",
    "left": "10px",
    "top": "150px",
    "width": "507.75px"
   },
   "toc_section_display": true,
   "toc_window_display": true
  }
 },
 "nbformat": 4,
 "nbformat_minor": 2
}
