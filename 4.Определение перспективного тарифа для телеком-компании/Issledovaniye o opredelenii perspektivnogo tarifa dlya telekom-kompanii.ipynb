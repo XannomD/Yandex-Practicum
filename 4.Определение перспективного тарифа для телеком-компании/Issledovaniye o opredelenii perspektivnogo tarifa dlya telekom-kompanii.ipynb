{
 "cells": [
  {
   "cell_type": "markdown",
   "metadata": {},
   "source": [
    "# Исследование о определении перспективного тарифа для телеком-компании\n",
    "\n",
    "В нашем распоряжении данные о двух тарифах сотового оператора «Мегалайн»: данные 500 пользователей: кто они, откуда, каким тарифом пользуются, сколько звонков и сообщений каждый отправил за 2018 год. \n",
    "\n",
    "**Цель исследования** — нужно проанализировать поведение клиентов и сделать вывод — какой тариф лучше.\n",
    "\n",
    "\n",
    "**Гипотезы:**\n",
    "* средняя выручка пользователей тарифов «Ультра» и «Смарт» различаются\n",
    "* средняя выручка пользователей из Москвы отличается от выручки пользователей из других регионов\n",
    "\n",
    "**Описание тарифов:**\n",
    "\n",
    "*Тариф «Смарт»*\n",
    "Ежемесячная плата: 550 рублей\n",
    "Включено 500 минут разговора, 50 сообщений и 15 Гб интернет-трафика\n",
    "Стоимость услуг сверх тарифного пакета: 1. минута разговора: 3 рубля («Мегалайн» всегда округляет вверх значения минут и мегабайтов. Если пользователь проговорил всего 1 секунду, в тарифе засчитывается целая минута); 2. сообщение: 3 рубля; 3. 1 Гб интернет-трафика: 200 рублей.\n",
    "\n",
    "*Тариф «Ультра»*\n",
    "Ежемесячная плата: 1950 рублей\n",
    "Включено 3000 минут разговора, 1000 сообщений и 30 Гб интернет-трафика\n",
    "Стоимость услуг сверх тарифного пакета: 1. минута разговора: 1 рубль; 2. сообщение: 1 рубль; 3. 1 Гб интернет-трафика: 150 рублей."
   ]
  },
  {
   "cell_type": "markdown",
   "metadata": {},
   "source": [
    "<h1>Содержание<span class=\"tocSkip\"></span></h1>\n",
    "<div class=\"toc\"><ul class=\"toc-item\"><li><span><a href=\"#Изучение-данных-из-файлов\" data-toc-modified-id=\"Изучение-данных-из-файлов-1\"><span class=\"toc-item-num\">1&nbsp;&nbsp;</span>Изучение данных из файлов</a></span><ul class=\"toc-item\"><li><span><a href=\"#Вывод\" data-toc-modified-id=\"Вывод-1.1\"><span class=\"toc-item-num\">1.1&nbsp;&nbsp;</span>Вывод</a></span></li></ul></li><li><span><a href=\"#Предобработка-данных\" data-toc-modified-id=\"Предобработка-данных-2\"><span class=\"toc-item-num\">2&nbsp;&nbsp;</span>Предобработка данных</a></span><ul class=\"toc-item\"><li><span><a href=\"#Вывод\" data-toc-modified-id=\"Вывод-2.1\"><span class=\"toc-item-num\">2.1&nbsp;&nbsp;</span>Вывод</a></span></li></ul></li><li><span><a href=\"#Расчёты-и-добавление-результатов-в-таблицу\" data-toc-modified-id=\"Расчёты-и-добавление-результатов-в-таблицу-3\"><span class=\"toc-item-num\">3&nbsp;&nbsp;</span>Расчёты и добавление результатов в таблицу</a></span><ul class=\"toc-item\"><li><span><a href=\"#Вывод\" data-toc-modified-id=\"Вывод-3.1\"><span class=\"toc-item-num\">3.1&nbsp;&nbsp;</span>Вывод</a></span></li></ul></li><li><span><a href=\"#Исследовательский-анализ-данных\" data-toc-modified-id=\"Исследовательский-анализ-данных-4\"><span class=\"toc-item-num\">4&nbsp;&nbsp;</span>Исследовательский анализ данных</a></span><ul class=\"toc-item\"><li><span><a href=\"#Вывод\" data-toc-modified-id=\"Вывод-4.1\"><span class=\"toc-item-num\">4.1&nbsp;&nbsp;</span>Вывод</a></span></li></ul></li><li><span><a href=\"#Общий-вывод\" data-toc-modified-id=\"Общий-вывод-5\"><span class=\"toc-item-num\">5&nbsp;&nbsp;</span>Общий вывод</a></span></li><li>"
   ]
  },
  {
   "cell_type": "markdown",
   "metadata": {},
   "source": [
    "## Изучение данных из файлов"
   ]
  },
  {
   "cell_type": "markdown",
   "metadata": {},
   "source": [
    "Вначале импортируем все библиотеки Pandas, которые нам могут пригодиться:"
   ]
  },
  {
   "cell_type": "code",
   "execution_count": 99,
   "metadata": {},
   "outputs": [],
   "source": [
    "import pandas as pd\n",
    "import warnings \n",
    "warnings.simplefilter('ignore')\n",
    "import numpy as np\n",
    "import matplotlib.pyplot as plt\n",
    "from scipy import stats as st"
   ]
  },
  {
   "cell_type": "markdown",
   "metadata": {},
   "source": [
    "Прочитаем файлы, данные нам для проекта и изучим их:"
   ]
  },
  {
   "cell_type": "code",
   "execution_count": 100,
   "metadata": {},
   "outputs": [],
   "source": [
    "dataset_calls=pd.read_csv('calls.csv')\n",
    "dataset_internet=pd.read_csv('internet.csv')\n",
    "dataset_messages=pd.read_csv('messages.csv')\n",
    "dataset_tariffs=pd.read_csv('tariffs.csv')\n",
    "dataset_users=pd.read_csv('users.csv')"
   ]
  },
  {
   "cell_type": "code",
   "execution_count": 101,
   "metadata": {},
   "outputs": [
    {
     "data": {
      "text/html": [
       "<div>\n",
       "<style scoped>\n",
       "    .dataframe tbody tr th:only-of-type {\n",
       "        vertical-align: middle;\n",
       "    }\n",
       "\n",
       "    .dataframe tbody tr th {\n",
       "        vertical-align: top;\n",
       "    }\n",
       "\n",
       "    .dataframe thead th {\n",
       "        text-align: right;\n",
       "    }\n",
       "</style>\n",
       "<table border=\"1\" class=\"dataframe\">\n",
       "  <thead>\n",
       "    <tr style=\"text-align: right;\">\n",
       "      <th></th>\n",
       "      <th>id</th>\n",
       "      <th>call_date</th>\n",
       "      <th>duration</th>\n",
       "      <th>user_id</th>\n",
       "    </tr>\n",
       "  </thead>\n",
       "  <tbody>\n",
       "    <tr>\n",
       "      <th>0</th>\n",
       "      <td>1000_0</td>\n",
       "      <td>2018-07-25</td>\n",
       "      <td>0.00</td>\n",
       "      <td>1000</td>\n",
       "    </tr>\n",
       "    <tr>\n",
       "      <th>1</th>\n",
       "      <td>1000_1</td>\n",
       "      <td>2018-08-17</td>\n",
       "      <td>0.00</td>\n",
       "      <td>1000</td>\n",
       "    </tr>\n",
       "    <tr>\n",
       "      <th>2</th>\n",
       "      <td>1000_2</td>\n",
       "      <td>2018-06-11</td>\n",
       "      <td>2.85</td>\n",
       "      <td>1000</td>\n",
       "    </tr>\n",
       "    <tr>\n",
       "      <th>3</th>\n",
       "      <td>1000_3</td>\n",
       "      <td>2018-09-21</td>\n",
       "      <td>13.80</td>\n",
       "      <td>1000</td>\n",
       "    </tr>\n",
       "    <tr>\n",
       "      <th>4</th>\n",
       "      <td>1000_4</td>\n",
       "      <td>2018-12-15</td>\n",
       "      <td>5.18</td>\n",
       "      <td>1000</td>\n",
       "    </tr>\n",
       "    <tr>\n",
       "      <th>5</th>\n",
       "      <td>1000_5</td>\n",
       "      <td>2018-11-02</td>\n",
       "      <td>0.00</td>\n",
       "      <td>1000</td>\n",
       "    </tr>\n",
       "    <tr>\n",
       "      <th>6</th>\n",
       "      <td>1000_6</td>\n",
       "      <td>2018-10-18</td>\n",
       "      <td>0.00</td>\n",
       "      <td>1000</td>\n",
       "    </tr>\n",
       "    <tr>\n",
       "      <th>7</th>\n",
       "      <td>1000_7</td>\n",
       "      <td>2018-08-22</td>\n",
       "      <td>18.31</td>\n",
       "      <td>1000</td>\n",
       "    </tr>\n",
       "    <tr>\n",
       "      <th>8</th>\n",
       "      <td>1000_8</td>\n",
       "      <td>2018-09-15</td>\n",
       "      <td>18.44</td>\n",
       "      <td>1000</td>\n",
       "    </tr>\n",
       "    <tr>\n",
       "      <th>9</th>\n",
       "      <td>1000_9</td>\n",
       "      <td>2018-08-15</td>\n",
       "      <td>0.00</td>\n",
       "      <td>1000</td>\n",
       "    </tr>\n",
       "  </tbody>\n",
       "</table>\n",
       "</div>"
      ],
      "text/plain": [
       "       id   call_date  duration  user_id\n",
       "0  1000_0  2018-07-25      0.00     1000\n",
       "1  1000_1  2018-08-17      0.00     1000\n",
       "2  1000_2  2018-06-11      2.85     1000\n",
       "3  1000_3  2018-09-21     13.80     1000\n",
       "4  1000_4  2018-12-15      5.18     1000\n",
       "5  1000_5  2018-11-02      0.00     1000\n",
       "6  1000_6  2018-10-18      0.00     1000\n",
       "7  1000_7  2018-08-22     18.31     1000\n",
       "8  1000_8  2018-09-15     18.44     1000\n",
       "9  1000_9  2018-08-15      0.00     1000"
      ]
     },
     "execution_count": 101,
     "metadata": {},
     "output_type": "execute_result"
    }
   ],
   "source": [
    "dataset_calls.head(10)"
   ]
  },
  {
   "cell_type": "markdown",
   "metadata": {},
   "source": [
    "* id — уникальный номер звонка\n",
    "* call_date — дата звонка\n",
    "* duration — длительность звонка в минутах\n",
    "* user_id — идентификатор пользователя, сделавшего звонок"
   ]
  },
  {
   "cell_type": "code",
   "execution_count": 102,
   "metadata": {},
   "outputs": [
    {
     "data": {
      "text/plain": [
       "(202607, 4)"
      ]
     },
     "execution_count": 102,
     "metadata": {},
     "output_type": "execute_result"
    }
   ],
   "source": [
    "dataset_calls.shape"
   ]
  },
  {
   "cell_type": "code",
   "execution_count": 103,
   "metadata": {},
   "outputs": [
    {
     "name": "stdout",
     "output_type": "stream",
     "text": [
      "<class 'pandas.core.frame.DataFrame'>\n",
      "RangeIndex: 202607 entries, 0 to 202606\n",
      "Data columns (total 4 columns):\n",
      " #   Column     Non-Null Count   Dtype  \n",
      "---  ------     --------------   -----  \n",
      " 0   id         202607 non-null  object \n",
      " 1   call_date  202607 non-null  object \n",
      " 2   duration   202607 non-null  float64\n",
      " 3   user_id    202607 non-null  int64  \n",
      "dtypes: float64(1), int64(1), object(2)\n",
      "memory usage: 6.2+ MB\n"
     ]
    }
   ],
   "source": [
    "dataset_calls.info() "
   ]
  },
  {
   "cell_type": "code",
   "execution_count": 104,
   "metadata": {},
   "outputs": [
    {
     "data": {
      "text/html": [
       "<div>\n",
       "<style scoped>\n",
       "    .dataframe tbody tr th:only-of-type {\n",
       "        vertical-align: middle;\n",
       "    }\n",
       "\n",
       "    .dataframe tbody tr th {\n",
       "        vertical-align: top;\n",
       "    }\n",
       "\n",
       "    .dataframe thead th {\n",
       "        text-align: right;\n",
       "    }\n",
       "</style>\n",
       "<table border=\"1\" class=\"dataframe\">\n",
       "  <thead>\n",
       "    <tr style=\"text-align: right;\">\n",
       "      <th></th>\n",
       "      <th>Unnamed: 0</th>\n",
       "      <th>id</th>\n",
       "      <th>mb_used</th>\n",
       "      <th>session_date</th>\n",
       "      <th>user_id</th>\n",
       "    </tr>\n",
       "  </thead>\n",
       "  <tbody>\n",
       "    <tr>\n",
       "      <th>5708</th>\n",
       "      <td>5708</td>\n",
       "      <td>1017_148</td>\n",
       "      <td>0.00</td>\n",
       "      <td>2018-12-26</td>\n",
       "      <td>1017</td>\n",
       "    </tr>\n",
       "    <tr>\n",
       "      <th>87596</th>\n",
       "      <td>87596</td>\n",
       "      <td>1296_231</td>\n",
       "      <td>12.87</td>\n",
       "      <td>2018-06-29</td>\n",
       "      <td>1296</td>\n",
       "    </tr>\n",
       "    <tr>\n",
       "      <th>100125</th>\n",
       "      <td>100125</td>\n",
       "      <td>1337_162</td>\n",
       "      <td>434.76</td>\n",
       "      <td>2018-10-04</td>\n",
       "      <td>1337</td>\n",
       "    </tr>\n",
       "    <tr>\n",
       "      <th>34824</th>\n",
       "      <td>34824</td>\n",
       "      <td>1121_182</td>\n",
       "      <td>833.96</td>\n",
       "      <td>2018-09-20</td>\n",
       "      <td>1121</td>\n",
       "    </tr>\n",
       "    <tr>\n",
       "      <th>27981</th>\n",
       "      <td>27981</td>\n",
       "      <td>1098_155</td>\n",
       "      <td>202.86</td>\n",
       "      <td>2018-08-29</td>\n",
       "      <td>1098</td>\n",
       "    </tr>\n",
       "    <tr>\n",
       "      <th>84086</th>\n",
       "      <td>84086</td>\n",
       "      <td>1284_440</td>\n",
       "      <td>113.68</td>\n",
       "      <td>2018-10-25</td>\n",
       "      <td>1284</td>\n",
       "    </tr>\n",
       "    <tr>\n",
       "      <th>61514</th>\n",
       "      <td>61514</td>\n",
       "      <td>1209_36</td>\n",
       "      <td>372.60</td>\n",
       "      <td>2018-07-25</td>\n",
       "      <td>1209</td>\n",
       "    </tr>\n",
       "    <tr>\n",
       "      <th>92900</th>\n",
       "      <td>92900</td>\n",
       "      <td>1314_254</td>\n",
       "      <td>454.36</td>\n",
       "      <td>2018-06-18</td>\n",
       "      <td>1314</td>\n",
       "    </tr>\n",
       "    <tr>\n",
       "      <th>122024</th>\n",
       "      <td>122024</td>\n",
       "      <td>1411_214</td>\n",
       "      <td>634.94</td>\n",
       "      <td>2018-11-10</td>\n",
       "      <td>1411</td>\n",
       "    </tr>\n",
       "    <tr>\n",
       "      <th>79531</th>\n",
       "      <td>79531</td>\n",
       "      <td>1267_165</td>\n",
       "      <td>474.58</td>\n",
       "      <td>2018-12-17</td>\n",
       "      <td>1267</td>\n",
       "    </tr>\n",
       "  </tbody>\n",
       "</table>\n",
       "</div>"
      ],
      "text/plain": [
       "        Unnamed: 0        id  mb_used session_date  user_id\n",
       "5708          5708  1017_148     0.00   2018-12-26     1017\n",
       "87596        87596  1296_231    12.87   2018-06-29     1296\n",
       "100125      100125  1337_162   434.76   2018-10-04     1337\n",
       "34824        34824  1121_182   833.96   2018-09-20     1121\n",
       "27981        27981  1098_155   202.86   2018-08-29     1098\n",
       "84086        84086  1284_440   113.68   2018-10-25     1284\n",
       "61514        61514   1209_36   372.60   2018-07-25     1209\n",
       "92900        92900  1314_254   454.36   2018-06-18     1314\n",
       "122024      122024  1411_214   634.94   2018-11-10     1411\n",
       "79531        79531  1267_165   474.58   2018-12-17     1267"
      ]
     },
     "execution_count": 104,
     "metadata": {},
     "output_type": "execute_result"
    }
   ],
   "source": [
    "dataset_internet.sample(10)"
   ]
  },
  {
   "cell_type": "markdown",
   "metadata": {},
   "source": [
    "* id — уникальный номер сессии\n",
    "* mb_used — объём потраченного за сессию интернет-трафика (в мегабайтах)\n",
    "* session_date — дата интернет-сессии\n",
    "* user_id — идентификатор пользователя"
   ]
  },
  {
   "cell_type": "code",
   "execution_count": 105,
   "metadata": {},
   "outputs": [
    {
     "data": {
      "text/plain": [
       "(149396, 5)"
      ]
     },
     "execution_count": 105,
     "metadata": {},
     "output_type": "execute_result"
    }
   ],
   "source": [
    "dataset_internet.shape"
   ]
  },
  {
   "cell_type": "code",
   "execution_count": 106,
   "metadata": {},
   "outputs": [
    {
     "name": "stdout",
     "output_type": "stream",
     "text": [
      "<class 'pandas.core.frame.DataFrame'>\n",
      "RangeIndex: 149396 entries, 0 to 149395\n",
      "Data columns (total 5 columns):\n",
      " #   Column        Non-Null Count   Dtype  \n",
      "---  ------        --------------   -----  \n",
      " 0   Unnamed: 0    149396 non-null  int64  \n",
      " 1   id            149396 non-null  object \n",
      " 2   mb_used       149396 non-null  float64\n",
      " 3   session_date  149396 non-null  object \n",
      " 4   user_id       149396 non-null  int64  \n",
      "dtypes: float64(1), int64(2), object(2)\n",
      "memory usage: 5.7+ MB\n"
     ]
    }
   ],
   "source": [
    "dataset_internet.info() "
   ]
  },
  {
   "cell_type": "code",
   "execution_count": 107,
   "metadata": {},
   "outputs": [
    {
     "data": {
      "text/html": [
       "<div>\n",
       "<style scoped>\n",
       "    .dataframe tbody tr th:only-of-type {\n",
       "        vertical-align: middle;\n",
       "    }\n",
       "\n",
       "    .dataframe tbody tr th {\n",
       "        vertical-align: top;\n",
       "    }\n",
       "\n",
       "    .dataframe thead th {\n",
       "        text-align: right;\n",
       "    }\n",
       "</style>\n",
       "<table border=\"1\" class=\"dataframe\">\n",
       "  <thead>\n",
       "    <tr style=\"text-align: right;\">\n",
       "      <th></th>\n",
       "      <th>id</th>\n",
       "      <th>message_date</th>\n",
       "      <th>user_id</th>\n",
       "    </tr>\n",
       "  </thead>\n",
       "  <tbody>\n",
       "    <tr>\n",
       "      <th>36968</th>\n",
       "      <td>1160_100</td>\n",
       "      <td>2018-11-11</td>\n",
       "      <td>1160</td>\n",
       "    </tr>\n",
       "    <tr>\n",
       "      <th>57721</th>\n",
       "      <td>1253_230</td>\n",
       "      <td>2018-11-04</td>\n",
       "      <td>1253</td>\n",
       "    </tr>\n",
       "    <tr>\n",
       "      <th>100322</th>\n",
       "      <td>1411_158</td>\n",
       "      <td>2018-09-03</td>\n",
       "      <td>1411</td>\n",
       "    </tr>\n",
       "    <tr>\n",
       "      <th>80046</th>\n",
       "      <td>1333_402</td>\n",
       "      <td>2018-12-21</td>\n",
       "      <td>1333</td>\n",
       "    </tr>\n",
       "    <tr>\n",
       "      <th>115810</th>\n",
       "      <td>1472_114</td>\n",
       "      <td>2018-11-18</td>\n",
       "      <td>1472</td>\n",
       "    </tr>\n",
       "    <tr>\n",
       "      <th>89535</th>\n",
       "      <td>1373_547</td>\n",
       "      <td>2018-07-15</td>\n",
       "      <td>1373</td>\n",
       "    </tr>\n",
       "    <tr>\n",
       "      <th>72394</th>\n",
       "      <td>1307_38</td>\n",
       "      <td>2018-10-30</td>\n",
       "      <td>1307</td>\n",
       "    </tr>\n",
       "    <tr>\n",
       "      <th>48485</th>\n",
       "      <td>1214_284</td>\n",
       "      <td>2018-10-31</td>\n",
       "      <td>1214</td>\n",
       "    </tr>\n",
       "    <tr>\n",
       "      <th>50198</th>\n",
       "      <td>1222_402</td>\n",
       "      <td>2018-10-21</td>\n",
       "      <td>1222</td>\n",
       "    </tr>\n",
       "    <tr>\n",
       "      <th>110210</th>\n",
       "      <td>1446_40</td>\n",
       "      <td>2018-09-21</td>\n",
       "      <td>1446</td>\n",
       "    </tr>\n",
       "  </tbody>\n",
       "</table>\n",
       "</div>"
      ],
      "text/plain": [
       "              id message_date  user_id\n",
       "36968   1160_100   2018-11-11     1160\n",
       "57721   1253_230   2018-11-04     1253\n",
       "100322  1411_158   2018-09-03     1411\n",
       "80046   1333_402   2018-12-21     1333\n",
       "115810  1472_114   2018-11-18     1472\n",
       "89535   1373_547   2018-07-15     1373\n",
       "72394    1307_38   2018-10-30     1307\n",
       "48485   1214_284   2018-10-31     1214\n",
       "50198   1222_402   2018-10-21     1222\n",
       "110210   1446_40   2018-09-21     1446"
      ]
     },
     "execution_count": 107,
     "metadata": {},
     "output_type": "execute_result"
    }
   ],
   "source": [
    "dataset_messages.sample(10)"
   ]
  },
  {
   "cell_type": "markdown",
   "metadata": {},
   "source": [
    "* id — уникальный номер сообщения\n",
    "* message_date — дата сообщения\n",
    "* user_id — идентификатор пользователя, отправившего сообщение"
   ]
  },
  {
   "cell_type": "code",
   "execution_count": 108,
   "metadata": {},
   "outputs": [
    {
     "data": {
      "text/plain": [
       "(123036, 3)"
      ]
     },
     "execution_count": 108,
     "metadata": {},
     "output_type": "execute_result"
    }
   ],
   "source": [
    "dataset_messages.shape"
   ]
  },
  {
   "cell_type": "code",
   "execution_count": 109,
   "metadata": {},
   "outputs": [
    {
     "name": "stdout",
     "output_type": "stream",
     "text": [
      "<class 'pandas.core.frame.DataFrame'>\n",
      "RangeIndex: 123036 entries, 0 to 123035\n",
      "Data columns (total 3 columns):\n",
      " #   Column        Non-Null Count   Dtype \n",
      "---  ------        --------------   ----- \n",
      " 0   id            123036 non-null  object\n",
      " 1   message_date  123036 non-null  object\n",
      " 2   user_id       123036 non-null  int64 \n",
      "dtypes: int64(1), object(2)\n",
      "memory usage: 2.8+ MB\n"
     ]
    }
   ],
   "source": [
    "dataset_messages.info() "
   ]
  },
  {
   "cell_type": "code",
   "execution_count": 110,
   "metadata": {},
   "outputs": [
    {
     "data": {
      "text/html": [
       "<div>\n",
       "<style scoped>\n",
       "    .dataframe tbody tr th:only-of-type {\n",
       "        vertical-align: middle;\n",
       "    }\n",
       "\n",
       "    .dataframe tbody tr th {\n",
       "        vertical-align: top;\n",
       "    }\n",
       "\n",
       "    .dataframe thead th {\n",
       "        text-align: right;\n",
       "    }\n",
       "</style>\n",
       "<table border=\"1\" class=\"dataframe\">\n",
       "  <thead>\n",
       "    <tr style=\"text-align: right;\">\n",
       "      <th></th>\n",
       "      <th>messages_included</th>\n",
       "      <th>mb_per_month_included</th>\n",
       "      <th>minutes_included</th>\n",
       "      <th>rub_monthly_fee</th>\n",
       "      <th>rub_per_gb</th>\n",
       "      <th>rub_per_message</th>\n",
       "      <th>rub_per_minute</th>\n",
       "      <th>tariff_name</th>\n",
       "    </tr>\n",
       "  </thead>\n",
       "  <tbody>\n",
       "    <tr>\n",
       "      <th>0</th>\n",
       "      <td>50</td>\n",
       "      <td>15360</td>\n",
       "      <td>500</td>\n",
       "      <td>550</td>\n",
       "      <td>200</td>\n",
       "      <td>3</td>\n",
       "      <td>3</td>\n",
       "      <td>smart</td>\n",
       "    </tr>\n",
       "    <tr>\n",
       "      <th>1</th>\n",
       "      <td>1000</td>\n",
       "      <td>30720</td>\n",
       "      <td>3000</td>\n",
       "      <td>1950</td>\n",
       "      <td>150</td>\n",
       "      <td>1</td>\n",
       "      <td>1</td>\n",
       "      <td>ultra</td>\n",
       "    </tr>\n",
       "  </tbody>\n",
       "</table>\n",
       "</div>"
      ],
      "text/plain": [
       "   messages_included  mb_per_month_included  minutes_included  \\\n",
       "0                 50                  15360               500   \n",
       "1               1000                  30720              3000   \n",
       "\n",
       "   rub_monthly_fee  rub_per_gb  rub_per_message  rub_per_minute tariff_name  \n",
       "0              550         200                3               3       smart  \n",
       "1             1950         150                1               1       ultra  "
      ]
     },
     "execution_count": 110,
     "metadata": {},
     "output_type": "execute_result"
    }
   ],
   "source": [
    "dataset_tariffs.head(10)"
   ]
  },
  {
   "cell_type": "markdown",
   "metadata": {},
   "source": [
    "* tariff_name — название тарифа\n",
    "* rub_monthly_fee — ежемесячная абонентская плата в рублях\n",
    "* minutes_included — количество минут разговора в месяц, включённых в абонентскую плату\n",
    "* messages_included — количество сообщений в месяц, включённых в абонентскую плату\n",
    "* mb_per_month_included — объём интернет-трафика, включённого в абонентскую плату (в мегабайтах)\n",
    "* rub_per_minute — стоимость минуты разговора сверх тарифного пакета (например, если в тарифе 100 минут разговора в месяц, то со 101 минуты будет взиматься плата)\n",
    "* rub_per_message — стоимость отправки сообщения сверх тарифного пакета\n",
    "* rub_per_gb — стоимость дополнительного гигабайта интернет-трафика сверх тарифного пакета (1 гигабайт = 1024 мегабайта)"
   ]
  },
  {
   "cell_type": "code",
   "execution_count": 111,
   "metadata": {},
   "outputs": [
    {
     "data": {
      "text/plain": [
       "(2, 8)"
      ]
     },
     "execution_count": 111,
     "metadata": {},
     "output_type": "execute_result"
    }
   ],
   "source": [
    "dataset_tariffs.shape"
   ]
  },
  {
   "cell_type": "code",
   "execution_count": 112,
   "metadata": {},
   "outputs": [
    {
     "name": "stdout",
     "output_type": "stream",
     "text": [
      "<class 'pandas.core.frame.DataFrame'>\n",
      "RangeIndex: 2 entries, 0 to 1\n",
      "Data columns (total 8 columns):\n",
      " #   Column                 Non-Null Count  Dtype \n",
      "---  ------                 --------------  ----- \n",
      " 0   messages_included      2 non-null      int64 \n",
      " 1   mb_per_month_included  2 non-null      int64 \n",
      " 2   minutes_included       2 non-null      int64 \n",
      " 3   rub_monthly_fee        2 non-null      int64 \n",
      " 4   rub_per_gb             2 non-null      int64 \n",
      " 5   rub_per_message        2 non-null      int64 \n",
      " 6   rub_per_minute         2 non-null      int64 \n",
      " 7   tariff_name            2 non-null      object\n",
      "dtypes: int64(7), object(1)\n",
      "memory usage: 256.0+ bytes\n"
     ]
    }
   ],
   "source": [
    "dataset_tariffs.info() "
   ]
  },
  {
   "cell_type": "code",
   "execution_count": 113,
   "metadata": {},
   "outputs": [
    {
     "data": {
      "text/html": [
       "<div>\n",
       "<style scoped>\n",
       "    .dataframe tbody tr th:only-of-type {\n",
       "        vertical-align: middle;\n",
       "    }\n",
       "\n",
       "    .dataframe tbody tr th {\n",
       "        vertical-align: top;\n",
       "    }\n",
       "\n",
       "    .dataframe thead th {\n",
       "        text-align: right;\n",
       "    }\n",
       "</style>\n",
       "<table border=\"1\" class=\"dataframe\">\n",
       "  <thead>\n",
       "    <tr style=\"text-align: right;\">\n",
       "      <th></th>\n",
       "      <th>user_id</th>\n",
       "      <th>age</th>\n",
       "      <th>churn_date</th>\n",
       "      <th>city</th>\n",
       "      <th>first_name</th>\n",
       "      <th>last_name</th>\n",
       "      <th>reg_date</th>\n",
       "      <th>tariff</th>\n",
       "    </tr>\n",
       "  </thead>\n",
       "  <tbody>\n",
       "    <tr>\n",
       "      <th>20</th>\n",
       "      <td>1020</td>\n",
       "      <td>59</td>\n",
       "      <td>2018-12-18</td>\n",
       "      <td>Чита</td>\n",
       "      <td>Тала</td>\n",
       "      <td>Костина</td>\n",
       "      <td>2018-10-22</td>\n",
       "      <td>smart</td>\n",
       "    </tr>\n",
       "    <tr>\n",
       "      <th>234</th>\n",
       "      <td>1234</td>\n",
       "      <td>54</td>\n",
       "      <td>NaN</td>\n",
       "      <td>Магнитогорск</td>\n",
       "      <td>Роксана</td>\n",
       "      <td>Алексеева</td>\n",
       "      <td>2018-12-19</td>\n",
       "      <td>ultra</td>\n",
       "    </tr>\n",
       "    <tr>\n",
       "      <th>36</th>\n",
       "      <td>1036</td>\n",
       "      <td>47</td>\n",
       "      <td>NaN</td>\n",
       "      <td>Санкт-Петербург</td>\n",
       "      <td>Анжелика</td>\n",
       "      <td>Андропова</td>\n",
       "      <td>2018-07-14</td>\n",
       "      <td>smart</td>\n",
       "    </tr>\n",
       "    <tr>\n",
       "      <th>27</th>\n",
       "      <td>1027</td>\n",
       "      <td>62</td>\n",
       "      <td>NaN</td>\n",
       "      <td>Петрозаводск</td>\n",
       "      <td>Владислав</td>\n",
       "      <td>Авдеев</td>\n",
       "      <td>2018-04-10</td>\n",
       "      <td>smart</td>\n",
       "    </tr>\n",
       "    <tr>\n",
       "      <th>384</th>\n",
       "      <td>1384</td>\n",
       "      <td>42</td>\n",
       "      <td>NaN</td>\n",
       "      <td>Нижний Новгород</td>\n",
       "      <td>Кристина</td>\n",
       "      <td>Касьянова</td>\n",
       "      <td>2018-04-27</td>\n",
       "      <td>smart</td>\n",
       "    </tr>\n",
       "    <tr>\n",
       "      <th>301</th>\n",
       "      <td>1301</td>\n",
       "      <td>26</td>\n",
       "      <td>NaN</td>\n",
       "      <td>Махачкала</td>\n",
       "      <td>Наида</td>\n",
       "      <td>Авраменко</td>\n",
       "      <td>2018-09-27</td>\n",
       "      <td>smart</td>\n",
       "    </tr>\n",
       "    <tr>\n",
       "      <th>51</th>\n",
       "      <td>1051</td>\n",
       "      <td>37</td>\n",
       "      <td>2018-10-14</td>\n",
       "      <td>Москва</td>\n",
       "      <td>Кристина</td>\n",
       "      <td>Сомова</td>\n",
       "      <td>2018-05-28</td>\n",
       "      <td>smart</td>\n",
       "    </tr>\n",
       "    <tr>\n",
       "      <th>146</th>\n",
       "      <td>1146</td>\n",
       "      <td>72</td>\n",
       "      <td>NaN</td>\n",
       "      <td>Санкт-Петербург</td>\n",
       "      <td>Владислав</td>\n",
       "      <td>Никонов</td>\n",
       "      <td>2018-05-25</td>\n",
       "      <td>smart</td>\n",
       "    </tr>\n",
       "    <tr>\n",
       "      <th>437</th>\n",
       "      <td>1437</td>\n",
       "      <td>73</td>\n",
       "      <td>NaN</td>\n",
       "      <td>Казань</td>\n",
       "      <td>Лилия</td>\n",
       "      <td>Селезнева</td>\n",
       "      <td>2018-08-03</td>\n",
       "      <td>smart</td>\n",
       "    </tr>\n",
       "    <tr>\n",
       "      <th>4</th>\n",
       "      <td>1004</td>\n",
       "      <td>68</td>\n",
       "      <td>NaN</td>\n",
       "      <td>Новокузнецк</td>\n",
       "      <td>Татьяна</td>\n",
       "      <td>Авдеенко</td>\n",
       "      <td>2018-05-14</td>\n",
       "      <td>ultra</td>\n",
       "    </tr>\n",
       "  </tbody>\n",
       "</table>\n",
       "</div>"
      ],
      "text/plain": [
       "     user_id  age  churn_date             city first_name  last_name  \\\n",
       "20      1020   59  2018-12-18             Чита       Тала    Костина   \n",
       "234     1234   54         NaN     Магнитогорск    Роксана  Алексеева   \n",
       "36      1036   47         NaN  Санкт-Петербург   Анжелика  Андропова   \n",
       "27      1027   62         NaN     Петрозаводск  Владислав     Авдеев   \n",
       "384     1384   42         NaN  Нижний Новгород   Кристина  Касьянова   \n",
       "301     1301   26         NaN        Махачкала      Наида  Авраменко   \n",
       "51      1051   37  2018-10-14           Москва   Кристина     Сомова   \n",
       "146     1146   72         NaN  Санкт-Петербург  Владислав    Никонов   \n",
       "437     1437   73         NaN           Казань      Лилия  Селезнева   \n",
       "4       1004   68         NaN      Новокузнецк    Татьяна   Авдеенко   \n",
       "\n",
       "       reg_date tariff  \n",
       "20   2018-10-22  smart  \n",
       "234  2018-12-19  ultra  \n",
       "36   2018-07-14  smart  \n",
       "27   2018-04-10  smart  \n",
       "384  2018-04-27  smart  \n",
       "301  2018-09-27  smart  \n",
       "51   2018-05-28  smart  \n",
       "146  2018-05-25  smart  \n",
       "437  2018-08-03  smart  \n",
       "4    2018-05-14  ultra  "
      ]
     },
     "execution_count": 113,
     "metadata": {},
     "output_type": "execute_result"
    }
   ],
   "source": [
    "dataset_users.sample(10)"
   ]
  },
  {
   "cell_type": "markdown",
   "metadata": {},
   "source": [
    "* user_id — уникальный идентификатор пользователя\n",
    "* first_name — имя пользователя\n",
    "* last_name — фамилия пользователя\n",
    "* age — возраст пользователя (годы)\n",
    "* reg_date — дата подключения тарифа (день, месяц, год)\n",
    "* churn_date — дата прекращения пользования тарифом (если значение пропущено, то тариф ещё действовал на момент выгрузки данных)\n",
    "* city — город проживания пользователя\n",
    "* tarif — название тарифного плана"
   ]
  },
  {
   "cell_type": "code",
   "execution_count": 114,
   "metadata": {},
   "outputs": [
    {
     "data": {
      "text/plain": [
       "(500, 8)"
      ]
     },
     "execution_count": 114,
     "metadata": {},
     "output_type": "execute_result"
    }
   ],
   "source": [
    "dataset_users.shape"
   ]
  },
  {
   "cell_type": "code",
   "execution_count": 115,
   "metadata": {},
   "outputs": [
    {
     "name": "stdout",
     "output_type": "stream",
     "text": [
      "<class 'pandas.core.frame.DataFrame'>\n",
      "RangeIndex: 500 entries, 0 to 499\n",
      "Data columns (total 8 columns):\n",
      " #   Column      Non-Null Count  Dtype \n",
      "---  ------      --------------  ----- \n",
      " 0   user_id     500 non-null    int64 \n",
      " 1   age         500 non-null    int64 \n",
      " 2   churn_date  38 non-null     object\n",
      " 3   city        500 non-null    object\n",
      " 4   first_name  500 non-null    object\n",
      " 5   last_name   500 non-null    object\n",
      " 6   reg_date    500 non-null    object\n",
      " 7   tariff      500 non-null    object\n",
      "dtypes: int64(2), object(6)\n",
      "memory usage: 31.4+ KB\n"
     ]
    }
   ],
   "source": [
    "dataset_users.info() "
   ]
  },
  {
   "cell_type": "markdown",
   "metadata": {},
   "source": [
    "Посчитаем, сколько в таблицах пропущенных значений:"
   ]
  },
  {
   "cell_type": "code",
   "execution_count": 116,
   "metadata": {},
   "outputs": [
    {
     "data": {
      "text/plain": [
       "id           0\n",
       "call_date    0\n",
       "duration     0\n",
       "user_id      0\n",
       "dtype: int64"
      ]
     },
     "execution_count": 116,
     "metadata": {},
     "output_type": "execute_result"
    }
   ],
   "source": [
    "dataset_calls.isna().sum()"
   ]
  },
  {
   "cell_type": "code",
   "execution_count": 117,
   "metadata": {},
   "outputs": [
    {
     "data": {
      "text/plain": [
       "Unnamed: 0      0\n",
       "id              0\n",
       "mb_used         0\n",
       "session_date    0\n",
       "user_id         0\n",
       "dtype: int64"
      ]
     },
     "execution_count": 117,
     "metadata": {},
     "output_type": "execute_result"
    }
   ],
   "source": [
    "dataset_internet.isna().sum()"
   ]
  },
  {
   "cell_type": "code",
   "execution_count": 118,
   "metadata": {
    "scrolled": true
   },
   "outputs": [
    {
     "data": {
      "text/plain": [
       "id              0\n",
       "message_date    0\n",
       "user_id         0\n",
       "dtype: int64"
      ]
     },
     "execution_count": 118,
     "metadata": {},
     "output_type": "execute_result"
    }
   ],
   "source": [
    "dataset_messages.isna().sum()"
   ]
  },
  {
   "cell_type": "code",
   "execution_count": 119,
   "metadata": {},
   "outputs": [
    {
     "data": {
      "text/plain": [
       "messages_included        0\n",
       "mb_per_month_included    0\n",
       "minutes_included         0\n",
       "rub_monthly_fee          0\n",
       "rub_per_gb               0\n",
       "rub_per_message          0\n",
       "rub_per_minute           0\n",
       "tariff_name              0\n",
       "dtype: int64"
      ]
     },
     "execution_count": 119,
     "metadata": {},
     "output_type": "execute_result"
    }
   ],
   "source": [
    "dataset_tariffs.isna().sum()"
   ]
  },
  {
   "cell_type": "code",
   "execution_count": 120,
   "metadata": {},
   "outputs": [
    {
     "data": {
      "text/plain": [
       "user_id         0\n",
       "age             0\n",
       "churn_date    462\n",
       "city            0\n",
       "first_name      0\n",
       "last_name       0\n",
       "reg_date        0\n",
       "tariff          0\n",
       "dtype: int64"
      ]
     },
     "execution_count": 120,
     "metadata": {},
     "output_type": "execute_result"
    }
   ],
   "source": [
    "dataset_users.isna().sum()"
   ]
  },
  {
   "cell_type": "markdown",
   "metadata": {},
   "source": [
    "Проверим наличе явных дубликатов:"
   ]
  },
  {
   "cell_type": "code",
   "execution_count": 121,
   "metadata": {},
   "outputs": [
    {
     "name": "stdout",
     "output_type": "stream",
     "text": [
      "Дубликатов в таблице звонков: 0\n",
      "Дубликатов в таблице интернет-трафика: 0\n",
      "Дубликатов в таблице смс: 0\n",
      "Дубликатов в таблице перечня пользователей: 0\n"
     ]
    }
   ],
   "source": [
    "print ('Дубликатов в таблице звонков:', dataset_calls.duplicated().sum())\n",
    "print ('Дубликатов в таблице интернет-трафика:', dataset_internet.duplicated().sum())\n",
    "print ('Дубликатов в таблице смс:', dataset_messages.duplicated().sum())\n",
    "print ('Дубликатов в таблице перечня пользователей:', dataset_users.duplicated().sum())"
   ]
  },
  {
   "cell_type": "markdown",
   "metadata": {},
   "source": [
    "Проверим, нет ли ошибок в написании городов пользователей и заодно увидим в каких городах находятся пользователи Мегалайна:"
   ]
  },
  {
   "cell_type": "code",
   "execution_count": 122,
   "metadata": {},
   "outputs": [
    {
     "data": {
      "text/plain": [
       "Москва              99\n",
       "Санкт-Петербург     39\n",
       "Новосибирск         16\n",
       "Омск                14\n",
       "Казань              14\n",
       "Уфа                 12\n",
       "Краснодар           11\n",
       "Набережные Челны    11\n",
       "Ульяновск           11\n",
       "Екатеринбург        11\n",
       "Челябинск            9\n",
       "Самара               9\n",
       "Нижний Новгород      8\n",
       "Волгоград            8\n",
       "Пермь                8\n",
       "Улан-Удэ             7\n",
       "Новокузнецк          7\n",
       "Вологда              7\n",
       "Красноярск           7\n",
       "Сочи                 6\n",
       "Иркутск              6\n",
       "Ростов-на-Дону       6\n",
       "Тюмень               6\n",
       "Пенза                6\n",
       "Киров                6\n",
       "Томск                6\n",
       "Воронеж              6\n",
       "Владивосток          5\n",
       "Ставрополь           5\n",
       "Махачкала            5\n",
       "Балашиха             5\n",
       "Магнитогорск         5\n",
       "Тольятти             4\n",
       "Саранск              4\n",
       "Новороссийск         4\n",
       "Кострома             4\n",
       "Астрахань            4\n",
       "Петрозаводск         4\n",
       "Хабаровск            4\n",
       "Чита                 4\n",
       "Калуга               4\n",
       "Рязань               4\n",
       "Мурманск             4\n",
       "Тверь                3\n",
       "Череповец            3\n",
       "Чебоксары            3\n",
       "Ярославль            3\n",
       "Барнаул              3\n",
       "Курган               3\n",
       "Севастополь          3\n",
       "Name: city, dtype: int64"
      ]
     },
     "execution_count": 122,
     "metadata": {},
     "output_type": "execute_result"
    }
   ],
   "source": [
    "dataset_users['city'].value_counts().head(50)"
   ]
  },
  {
   "cell_type": "markdown",
   "metadata": {},
   "source": [
    "### Вывод"
   ]
  },
  {
   "cell_type": "markdown",
   "metadata": {},
   "source": [
    "Изучив предоставленную нам информацию можно сказать следующе:\n",
    "* все таблицы имеют одинаковый (\"земииный\") регистр написания столбцов ( красиво и аккуратно собираются данные в Мегалайне)\n",
    "* отсутствуют пропуски в таблицах, что очень редко всречается ( можно подумать, что в dataset_user имеются пропуски по столбцу 'churn_date', однако это не так - пропущенные значения указывают на то, что тарифом еще пользуются)\n",
    "* судя по разному количесву пользователей в каждом датасете, мы можем сказать, что не все пользователи пользуются всеми доступными им услугами: кто-то не отправляет смс, кто-то не выходит в интернет, кто-то не звонит вообще никому ( наверное интроверты:-))\n",
    "* имеются нулевые значения в данных о звонках, однако это не ошибка - человек, которому звонили просто не взял трубку и поговорить не удалось\n",
    "* список городов пользователей записано верно, повторяющихся значений нет\n",
    "* нет дубликатов - мечта аналитика"
   ]
  },
  {
   "cell_type": "markdown",
   "metadata": {},
   "source": [
    "# Предобработка данных"
   ]
  },
  {
   "cell_type": "markdown",
   "metadata": {},
   "source": [
    "Так как Мегалайн округляет минуты и мегабайты до целых при расчете стоймотси звонка и трафика, то предлагаю округлить все минуты и мегабайты, с такими данными считаю работать проще и удобнее:"
   ]
  },
  {
   "cell_type": "code",
   "execution_count": 123,
   "metadata": {},
   "outputs": [],
   "source": [
    "dataset_calls['duration']=dataset_calls['duration'].apply(np.ceil)\n",
    "#dataset_internet['mb_used']=dataset_internet['mb_used'].round().astype('int')"
   ]
  },
  {
   "cell_type": "markdown",
   "metadata": {},
   "source": [
    "Так как у нас во всех датасетах тип даты \"non-null object\", то приведем это к нужному нам формату:"
   ]
  },
  {
   "cell_type": "code",
   "execution_count": 124,
   "metadata": {},
   "outputs": [
    {
     "name": "stdout",
     "output_type": "stream",
     "text": [
      "<class 'pandas.core.frame.DataFrame'>\n",
      "RangeIndex: 202607 entries, 0 to 202606\n",
      "Data columns (total 4 columns):\n",
      " #   Column     Non-Null Count   Dtype         \n",
      "---  ------     --------------   -----         \n",
      " 0   id         202607 non-null  object        \n",
      " 1   call_date  202607 non-null  datetime64[ns]\n",
      " 2   duration   202607 non-null  float64       \n",
      " 3   user_id    202607 non-null  int64         \n",
      "dtypes: datetime64[ns](1), float64(1), int64(1), object(1)\n",
      "memory usage: 6.2+ MB\n"
     ]
    }
   ],
   "source": [
    "dataset_calls['call_date'] = pd.to_datetime(dataset_calls['call_date'], format='%Y-%m-%d')\n",
    "dataset_internet['session_date'] = pd.to_datetime(dataset_internet['session_date'], format='%Y-%m-%d')\n",
    "dataset_messages['message_date'] = pd.to_datetime(dataset_messages['message_date'], format='%Y-%m-%d')\n",
    "dataset_calls.info()"
   ]
  },
  {
   "cell_type": "markdown",
   "metadata": {},
   "source": [
    "### Вывод"
   ]
  },
  {
   "cell_type": "markdown",
   "metadata": {},
   "source": [
    "Данные в данных датасетах как никогда правильно оформленны, таблицы выглядят аккуратно и красиво. Вот бы всегда так.\n",
    "\n",
    "Округлили только минуты и мегабайты до целых значений, и добавили месяц пользования услуг для дальнейших расчетов."
   ]
  },
  {
   "cell_type": "markdown",
   "metadata": {},
   "source": [
    "# Расчёты, добавление результатов в таблицу, исследовательский анализ данных"
   ]
  },
  {
   "cell_type": "markdown",
   "metadata": {},
   "source": [
    "Добавим отдельными столбцами месяц для каждого вида коммуникации ( звонок, смс и трафик):"
   ]
  },
  {
   "cell_type": "code",
   "execution_count": 125,
   "metadata": {},
   "outputs": [
    {
     "data": {
      "text/html": [
       "<div>\n",
       "<style scoped>\n",
       "    .dataframe tbody tr th:only-of-type {\n",
       "        vertical-align: middle;\n",
       "    }\n",
       "\n",
       "    .dataframe tbody tr th {\n",
       "        vertical-align: top;\n",
       "    }\n",
       "\n",
       "    .dataframe thead th {\n",
       "        text-align: right;\n",
       "    }\n",
       "</style>\n",
       "<table border=\"1\" class=\"dataframe\">\n",
       "  <thead>\n",
       "    <tr style=\"text-align: right;\">\n",
       "      <th></th>\n",
       "      <th>id</th>\n",
       "      <th>message_date</th>\n",
       "      <th>user_id</th>\n",
       "      <th>month</th>\n",
       "    </tr>\n",
       "  </thead>\n",
       "  <tbody>\n",
       "    <tr>\n",
       "      <th>0</th>\n",
       "      <td>1000_0</td>\n",
       "      <td>2018-06-27</td>\n",
       "      <td>1000</td>\n",
       "      <td>6</td>\n",
       "    </tr>\n",
       "    <tr>\n",
       "      <th>1</th>\n",
       "      <td>1000_1</td>\n",
       "      <td>2018-10-08</td>\n",
       "      <td>1000</td>\n",
       "      <td>10</td>\n",
       "    </tr>\n",
       "    <tr>\n",
       "      <th>2</th>\n",
       "      <td>1000_2</td>\n",
       "      <td>2018-08-04</td>\n",
       "      <td>1000</td>\n",
       "      <td>8</td>\n",
       "    </tr>\n",
       "    <tr>\n",
       "      <th>3</th>\n",
       "      <td>1000_3</td>\n",
       "      <td>2018-06-16</td>\n",
       "      <td>1000</td>\n",
       "      <td>6</td>\n",
       "    </tr>\n",
       "    <tr>\n",
       "      <th>4</th>\n",
       "      <td>1000_4</td>\n",
       "      <td>2018-12-05</td>\n",
       "      <td>1000</td>\n",
       "      <td>12</td>\n",
       "    </tr>\n",
       "  </tbody>\n",
       "</table>\n",
       "</div>"
      ],
      "text/plain": [
       "       id message_date  user_id  month\n",
       "0  1000_0   2018-06-27     1000      6\n",
       "1  1000_1   2018-10-08     1000     10\n",
       "2  1000_2   2018-08-04     1000      8\n",
       "3  1000_3   2018-06-16     1000      6\n",
       "4  1000_4   2018-12-05     1000     12"
      ]
     },
     "execution_count": 125,
     "metadata": {},
     "output_type": "execute_result"
    }
   ],
   "source": [
    "dataset_calls['month'] = dataset_calls['call_date'].dt.month\n",
    "dataset_internet['month'] = dataset_internet['session_date'].dt.month\n",
    "dataset_messages['month'] = dataset_messages['message_date'].dt.month\n",
    "dataset_messages.head()\n"
   ]
  },
  {
   "cell_type": "markdown",
   "metadata": {},
   "source": [
    "В дальнейшем для расчетов нам необходимо будет понимать какой тариф у пользователя. Для этого добавим столбец в каждый датасет с информацией о тарифе."
   ]
  },
  {
   "cell_type": "code",
   "execution_count": 126,
   "metadata": {},
   "outputs": [
    {
     "data": {
      "text/html": [
       "<div>\n",
       "<style scoped>\n",
       "    .dataframe tbody tr th:only-of-type {\n",
       "        vertical-align: middle;\n",
       "    }\n",
       "\n",
       "    .dataframe tbody tr th {\n",
       "        vertical-align: top;\n",
       "    }\n",
       "\n",
       "    .dataframe thead th {\n",
       "        text-align: right;\n",
       "    }\n",
       "</style>\n",
       "<table border=\"1\" class=\"dataframe\">\n",
       "  <thead>\n",
       "    <tr style=\"text-align: right;\">\n",
       "      <th></th>\n",
       "      <th>Unnamed: 0</th>\n",
       "      <th>id</th>\n",
       "      <th>mb_used</th>\n",
       "      <th>session_date</th>\n",
       "      <th>user_id</th>\n",
       "      <th>month</th>\n",
       "      <th>tariff</th>\n",
       "    </tr>\n",
       "  </thead>\n",
       "  <tbody>\n",
       "    <tr>\n",
       "      <th>0</th>\n",
       "      <td>0</td>\n",
       "      <td>1000_0</td>\n",
       "      <td>112.95</td>\n",
       "      <td>2018-11-25</td>\n",
       "      <td>1000</td>\n",
       "      <td>11</td>\n",
       "      <td>ultra</td>\n",
       "    </tr>\n",
       "    <tr>\n",
       "      <th>1</th>\n",
       "      <td>1</td>\n",
       "      <td>1000_1</td>\n",
       "      <td>1052.81</td>\n",
       "      <td>2018-09-07</td>\n",
       "      <td>1000</td>\n",
       "      <td>9</td>\n",
       "      <td>ultra</td>\n",
       "    </tr>\n",
       "    <tr>\n",
       "      <th>2</th>\n",
       "      <td>2</td>\n",
       "      <td>1000_2</td>\n",
       "      <td>1197.26</td>\n",
       "      <td>2018-06-25</td>\n",
       "      <td>1000</td>\n",
       "      <td>6</td>\n",
       "      <td>ultra</td>\n",
       "    </tr>\n",
       "    <tr>\n",
       "      <th>3</th>\n",
       "      <td>3</td>\n",
       "      <td>1000_3</td>\n",
       "      <td>550.27</td>\n",
       "      <td>2018-08-22</td>\n",
       "      <td>1000</td>\n",
       "      <td>8</td>\n",
       "      <td>ultra</td>\n",
       "    </tr>\n",
       "    <tr>\n",
       "      <th>4</th>\n",
       "      <td>4</td>\n",
       "      <td>1000_4</td>\n",
       "      <td>302.56</td>\n",
       "      <td>2018-09-24</td>\n",
       "      <td>1000</td>\n",
       "      <td>9</td>\n",
       "      <td>ultra</td>\n",
       "    </tr>\n",
       "  </tbody>\n",
       "</table>\n",
       "</div>"
      ],
      "text/plain": [
       "   Unnamed: 0      id  mb_used session_date  user_id  month tariff\n",
       "0           0  1000_0   112.95   2018-11-25     1000     11  ultra\n",
       "1           1  1000_1  1052.81   2018-09-07     1000      9  ultra\n",
       "2           2  1000_2  1197.26   2018-06-25     1000      6  ultra\n",
       "3           3  1000_3   550.27   2018-08-22     1000      8  ultra\n",
       "4           4  1000_4   302.56   2018-09-24     1000      9  ultra"
      ]
     },
     "execution_count": 126,
     "metadata": {},
     "output_type": "execute_result"
    }
   ],
   "source": [
    "dataset_users_tariff=dataset_users.drop(dataset_users.columns[[1,2,3,4,5,6]], axis=1)\n",
    "dataset_calls=dataset_calls.merge(dataset_users_tariff, on='user_id')\n",
    "dataset_internet=dataset_internet.merge(dataset_users_tariff, on='user_id')\n",
    "dataset_messages=dataset_messages.merge(dataset_users_tariff, on='user_id')\n",
    "dataset_internet.head()"
   ]
  },
  {
   "cell_type": "markdown",
   "metadata": {},
   "source": [
    "Посчитаем количество звонков, сделанных каждым пользователем в каждый месяце:"
   ]
  },
  {
   "cell_type": "code",
   "execution_count": 127,
   "metadata": {},
   "outputs": [
    {
     "data": {
      "text/html": [
       "<div>\n",
       "<style scoped>\n",
       "    .dataframe tbody tr th:only-of-type {\n",
       "        vertical-align: middle;\n",
       "    }\n",
       "\n",
       "    .dataframe tbody tr th {\n",
       "        vertical-align: top;\n",
       "    }\n",
       "\n",
       "    .dataframe thead th {\n",
       "        text-align: right;\n",
       "    }\n",
       "</style>\n",
       "<table border=\"1\" class=\"dataframe\">\n",
       "  <thead>\n",
       "    <tr style=\"text-align: right;\">\n",
       "      <th>month</th>\n",
       "      <th>1</th>\n",
       "      <th>2</th>\n",
       "      <th>3</th>\n",
       "      <th>4</th>\n",
       "      <th>5</th>\n",
       "      <th>6</th>\n",
       "      <th>7</th>\n",
       "      <th>8</th>\n",
       "      <th>9</th>\n",
       "      <th>10</th>\n",
       "      <th>11</th>\n",
       "      <th>12</th>\n",
       "    </tr>\n",
       "    <tr>\n",
       "      <th>user_id</th>\n",
       "      <th></th>\n",
       "      <th></th>\n",
       "      <th></th>\n",
       "      <th></th>\n",
       "      <th></th>\n",
       "      <th></th>\n",
       "      <th></th>\n",
       "      <th></th>\n",
       "      <th></th>\n",
       "      <th></th>\n",
       "      <th></th>\n",
       "      <th></th>\n",
       "    </tr>\n",
       "  </thead>\n",
       "  <tbody>\n",
       "    <tr>\n",
       "      <th>1000</th>\n",
       "      <td>NaN</td>\n",
       "      <td>NaN</td>\n",
       "      <td>NaN</td>\n",
       "      <td>NaN</td>\n",
       "      <td>22.0</td>\n",
       "      <td>43.0</td>\n",
       "      <td>47.0</td>\n",
       "      <td>52.0</td>\n",
       "      <td>58.0</td>\n",
       "      <td>57.0</td>\n",
       "      <td>43.0</td>\n",
       "      <td>46.0</td>\n",
       "    </tr>\n",
       "    <tr>\n",
       "      <th>1001</th>\n",
       "      <td>NaN</td>\n",
       "      <td>NaN</td>\n",
       "      <td>NaN</td>\n",
       "      <td>NaN</td>\n",
       "      <td>NaN</td>\n",
       "      <td>NaN</td>\n",
       "      <td>NaN</td>\n",
       "      <td>NaN</td>\n",
       "      <td>NaN</td>\n",
       "      <td>NaN</td>\n",
       "      <td>59.0</td>\n",
       "      <td>63.0</td>\n",
       "    </tr>\n",
       "    <tr>\n",
       "      <th>1002</th>\n",
       "      <td>NaN</td>\n",
       "      <td>NaN</td>\n",
       "      <td>NaN</td>\n",
       "      <td>NaN</td>\n",
       "      <td>NaN</td>\n",
       "      <td>15.0</td>\n",
       "      <td>26.0</td>\n",
       "      <td>42.0</td>\n",
       "      <td>36.0</td>\n",
       "      <td>33.0</td>\n",
       "      <td>32.0</td>\n",
       "      <td>33.0</td>\n",
       "    </tr>\n",
       "    <tr>\n",
       "      <th>1003</th>\n",
       "      <td>NaN</td>\n",
       "      <td>NaN</td>\n",
       "      <td>NaN</td>\n",
       "      <td>NaN</td>\n",
       "      <td>NaN</td>\n",
       "      <td>NaN</td>\n",
       "      <td>NaN</td>\n",
       "      <td>55.0</td>\n",
       "      <td>134.0</td>\n",
       "      <td>108.0</td>\n",
       "      <td>115.0</td>\n",
       "      <td>108.0</td>\n",
       "    </tr>\n",
       "    <tr>\n",
       "      <th>1004</th>\n",
       "      <td>NaN</td>\n",
       "      <td>NaN</td>\n",
       "      <td>NaN</td>\n",
       "      <td>NaN</td>\n",
       "      <td>9.0</td>\n",
       "      <td>31.0</td>\n",
       "      <td>22.0</td>\n",
       "      <td>19.0</td>\n",
       "      <td>26.0</td>\n",
       "      <td>29.0</td>\n",
       "      <td>19.0</td>\n",
       "      <td>21.0</td>\n",
       "    </tr>\n",
       "    <tr>\n",
       "      <th>1005</th>\n",
       "      <td>15.0</td>\n",
       "      <td>69.0</td>\n",
       "      <td>77.0</td>\n",
       "      <td>101.0</td>\n",
       "      <td>73.0</td>\n",
       "      <td>80.0</td>\n",
       "      <td>77.0</td>\n",
       "      <td>71.0</td>\n",
       "      <td>66.0</td>\n",
       "      <td>100.0</td>\n",
       "      <td>75.0</td>\n",
       "      <td>84.0</td>\n",
       "    </tr>\n",
       "    <tr>\n",
       "      <th>1006</th>\n",
       "      <td>NaN</td>\n",
       "      <td>3.0</td>\n",
       "      <td>46.0</td>\n",
       "      <td>47.0</td>\n",
       "      <td>56.0</td>\n",
       "      <td>53.0</td>\n",
       "      <td>49.0</td>\n",
       "      <td>42.0</td>\n",
       "      <td>54.0</td>\n",
       "      <td>44.0</td>\n",
       "      <td>62.0</td>\n",
       "      <td>50.0</td>\n",
       "    </tr>\n",
       "    <tr>\n",
       "      <th>1007</th>\n",
       "      <td>NaN</td>\n",
       "      <td>NaN</td>\n",
       "      <td>NaN</td>\n",
       "      <td>25.0</td>\n",
       "      <td>67.0</td>\n",
       "      <td>68.0</td>\n",
       "      <td>69.0</td>\n",
       "      <td>74.0</td>\n",
       "      <td>87.0</td>\n",
       "      <td>69.0</td>\n",
       "      <td>81.0</td>\n",
       "      <td>72.0</td>\n",
       "    </tr>\n",
       "    <tr>\n",
       "      <th>1008</th>\n",
       "      <td>NaN</td>\n",
       "      <td>NaN</td>\n",
       "      <td>NaN</td>\n",
       "      <td>NaN</td>\n",
       "      <td>NaN</td>\n",
       "      <td>NaN</td>\n",
       "      <td>NaN</td>\n",
       "      <td>NaN</td>\n",
       "      <td>NaN</td>\n",
       "      <td>NaN</td>\n",
       "      <td>NaN</td>\n",
       "      <td>52.0</td>\n",
       "    </tr>\n",
       "    <tr>\n",
       "      <th>1009</th>\n",
       "      <td>NaN</td>\n",
       "      <td>NaN</td>\n",
       "      <td>13.0</td>\n",
       "      <td>39.0</td>\n",
       "      <td>28.0</td>\n",
       "      <td>31.0</td>\n",
       "      <td>22.0</td>\n",
       "      <td>33.0</td>\n",
       "      <td>25.0</td>\n",
       "      <td>28.0</td>\n",
       "      <td>39.0</td>\n",
       "      <td>32.0</td>\n",
       "    </tr>\n",
       "  </tbody>\n",
       "</table>\n",
       "</div>"
      ],
      "text/plain": [
       "month      1     2     3      4     5     6     7     8      9      10     11  \\\n",
       "user_id                                                                         \n",
       "1000      NaN   NaN   NaN    NaN  22.0  43.0  47.0  52.0   58.0   57.0   43.0   \n",
       "1001      NaN   NaN   NaN    NaN   NaN   NaN   NaN   NaN    NaN    NaN   59.0   \n",
       "1002      NaN   NaN   NaN    NaN   NaN  15.0  26.0  42.0   36.0   33.0   32.0   \n",
       "1003      NaN   NaN   NaN    NaN   NaN   NaN   NaN  55.0  134.0  108.0  115.0   \n",
       "1004      NaN   NaN   NaN    NaN   9.0  31.0  22.0  19.0   26.0   29.0   19.0   \n",
       "1005     15.0  69.0  77.0  101.0  73.0  80.0  77.0  71.0   66.0  100.0   75.0   \n",
       "1006      NaN   3.0  46.0   47.0  56.0  53.0  49.0  42.0   54.0   44.0   62.0   \n",
       "1007      NaN   NaN   NaN   25.0  67.0  68.0  69.0  74.0   87.0   69.0   81.0   \n",
       "1008      NaN   NaN   NaN    NaN   NaN   NaN   NaN   NaN    NaN    NaN    NaN   \n",
       "1009      NaN   NaN  13.0   39.0  28.0  31.0  22.0  33.0   25.0   28.0   39.0   \n",
       "\n",
       "month       12  \n",
       "user_id         \n",
       "1000      46.0  \n",
       "1001      63.0  \n",
       "1002      33.0  \n",
       "1003     108.0  \n",
       "1004      21.0  \n",
       "1005      84.0  \n",
       "1006      50.0  \n",
       "1007      72.0  \n",
       "1008      52.0  \n",
       "1009      32.0  "
      ]
     },
     "metadata": {},
     "output_type": "display_data"
    }
   ],
   "source": [
    "pivot_dataset_calls_count=pd.pivot_table(dataset_calls,index=['user_id'], columns='month',values='duration', aggfunc='count')\n",
    "display(pivot_dataset_calls_count.head(10))"
   ]
  },
  {
   "cell_type": "markdown",
   "metadata": {},
   "source": [
    "Посчитаем количество минут, которые потратили пользователи \"Мегалайна\" по месяцам:"
   ]
  },
  {
   "cell_type": "code",
   "execution_count": 128,
   "metadata": {},
   "outputs": [
    {
     "data": {
      "text/html": [
       "<div>\n",
       "<style scoped>\n",
       "    .dataframe tbody tr th:only-of-type {\n",
       "        vertical-align: middle;\n",
       "    }\n",
       "\n",
       "    .dataframe tbody tr th {\n",
       "        vertical-align: top;\n",
       "    }\n",
       "\n",
       "    .dataframe thead th {\n",
       "        text-align: right;\n",
       "    }\n",
       "</style>\n",
       "<table border=\"1\" class=\"dataframe\">\n",
       "  <thead>\n",
       "    <tr style=\"text-align: right;\">\n",
       "      <th>month</th>\n",
       "      <th>1</th>\n",
       "      <th>2</th>\n",
       "      <th>3</th>\n",
       "      <th>4</th>\n",
       "      <th>5</th>\n",
       "      <th>6</th>\n",
       "      <th>7</th>\n",
       "      <th>8</th>\n",
       "      <th>9</th>\n",
       "      <th>10</th>\n",
       "      <th>11</th>\n",
       "      <th>12</th>\n",
       "    </tr>\n",
       "    <tr>\n",
       "      <th>user_id</th>\n",
       "      <th></th>\n",
       "      <th></th>\n",
       "      <th></th>\n",
       "      <th></th>\n",
       "      <th></th>\n",
       "      <th></th>\n",
       "      <th></th>\n",
       "      <th></th>\n",
       "      <th></th>\n",
       "      <th></th>\n",
       "      <th></th>\n",
       "      <th></th>\n",
       "    </tr>\n",
       "  </thead>\n",
       "  <tbody>\n",
       "    <tr>\n",
       "      <th>1000</th>\n",
       "      <td>NaN</td>\n",
       "      <td>NaN</td>\n",
       "      <td>NaN</td>\n",
       "      <td>NaN</td>\n",
       "      <td>159.0</td>\n",
       "      <td>172.0</td>\n",
       "      <td>340.0</td>\n",
       "      <td>408.0</td>\n",
       "      <td>466.0</td>\n",
       "      <td>350.0</td>\n",
       "      <td>338.0</td>\n",
       "      <td>333.0</td>\n",
       "    </tr>\n",
       "    <tr>\n",
       "      <th>1001</th>\n",
       "      <td>NaN</td>\n",
       "      <td>NaN</td>\n",
       "      <td>NaN</td>\n",
       "      <td>NaN</td>\n",
       "      <td>NaN</td>\n",
       "      <td>NaN</td>\n",
       "      <td>NaN</td>\n",
       "      <td>NaN</td>\n",
       "      <td>NaN</td>\n",
       "      <td>NaN</td>\n",
       "      <td>430.0</td>\n",
       "      <td>414.0</td>\n",
       "    </tr>\n",
       "    <tr>\n",
       "      <th>1002</th>\n",
       "      <td>NaN</td>\n",
       "      <td>NaN</td>\n",
       "      <td>NaN</td>\n",
       "      <td>NaN</td>\n",
       "      <td>NaN</td>\n",
       "      <td>117.0</td>\n",
       "      <td>214.0</td>\n",
       "      <td>289.0</td>\n",
       "      <td>206.0</td>\n",
       "      <td>212.0</td>\n",
       "      <td>243.0</td>\n",
       "      <td>236.0</td>\n",
       "    </tr>\n",
       "    <tr>\n",
       "      <th>1003</th>\n",
       "      <td>NaN</td>\n",
       "      <td>NaN</td>\n",
       "      <td>NaN</td>\n",
       "      <td>NaN</td>\n",
       "      <td>NaN</td>\n",
       "      <td>NaN</td>\n",
       "      <td>NaN</td>\n",
       "      <td>380.0</td>\n",
       "      <td>961.0</td>\n",
       "      <td>855.0</td>\n",
       "      <td>824.0</td>\n",
       "      <td>802.0</td>\n",
       "    </tr>\n",
       "    <tr>\n",
       "      <th>1004</th>\n",
       "      <td>NaN</td>\n",
       "      <td>NaN</td>\n",
       "      <td>NaN</td>\n",
       "      <td>NaN</td>\n",
       "      <td>35.0</td>\n",
       "      <td>171.0</td>\n",
       "      <td>135.0</td>\n",
       "      <td>137.0</td>\n",
       "      <td>117.0</td>\n",
       "      <td>145.0</td>\n",
       "      <td>117.0</td>\n",
       "      <td>130.0</td>\n",
       "    </tr>\n",
       "    <tr>\n",
       "      <th>1005</th>\n",
       "      <td>95.0</td>\n",
       "      <td>456.0</td>\n",
       "      <td>606.0</td>\n",
       "      <td>712.0</td>\n",
       "      <td>595.0</td>\n",
       "      <td>612.0</td>\n",
       "      <td>569.0</td>\n",
       "      <td>619.0</td>\n",
       "      <td>479.0</td>\n",
       "      <td>723.0</td>\n",
       "      <td>547.0</td>\n",
       "      <td>592.0</td>\n",
       "    </tr>\n",
       "    <tr>\n",
       "      <th>1006</th>\n",
       "      <td>NaN</td>\n",
       "      <td>42.0</td>\n",
       "      <td>286.0</td>\n",
       "      <td>356.0</td>\n",
       "      <td>370.0</td>\n",
       "      <td>478.0</td>\n",
       "      <td>316.0</td>\n",
       "      <td>275.0</td>\n",
       "      <td>360.0</td>\n",
       "      <td>267.0</td>\n",
       "      <td>372.0</td>\n",
       "      <td>379.0</td>\n",
       "    </tr>\n",
       "    <tr>\n",
       "      <th>1007</th>\n",
       "      <td>NaN</td>\n",
       "      <td>NaN</td>\n",
       "      <td>NaN</td>\n",
       "      <td>198.0</td>\n",
       "      <td>480.0</td>\n",
       "      <td>545.0</td>\n",
       "      <td>577.0</td>\n",
       "      <td>458.0</td>\n",
       "      <td>655.0</td>\n",
       "      <td>465.0</td>\n",
       "      <td>580.0</td>\n",
       "      <td>421.0</td>\n",
       "    </tr>\n",
       "    <tr>\n",
       "      <th>1008</th>\n",
       "      <td>NaN</td>\n",
       "      <td>NaN</td>\n",
       "      <td>NaN</td>\n",
       "      <td>NaN</td>\n",
       "      <td>NaN</td>\n",
       "      <td>NaN</td>\n",
       "      <td>NaN</td>\n",
       "      <td>NaN</td>\n",
       "      <td>NaN</td>\n",
       "      <td>NaN</td>\n",
       "      <td>NaN</td>\n",
       "      <td>339.0</td>\n",
       "    </tr>\n",
       "    <tr>\n",
       "      <th>1009</th>\n",
       "      <td>NaN</td>\n",
       "      <td>NaN</td>\n",
       "      <td>109.0</td>\n",
       "      <td>324.0</td>\n",
       "      <td>170.0</td>\n",
       "      <td>289.0</td>\n",
       "      <td>183.0</td>\n",
       "      <td>249.0</td>\n",
       "      <td>133.0</td>\n",
       "      <td>213.0</td>\n",
       "      <td>290.0</td>\n",
       "      <td>229.0</td>\n",
       "    </tr>\n",
       "  </tbody>\n",
       "</table>\n",
       "</div>"
      ],
      "text/plain": [
       "month      1      2      3      4      5      6      7      8      9      10  \\\n",
       "user_id                                                                        \n",
       "1000      NaN    NaN    NaN    NaN  159.0  172.0  340.0  408.0  466.0  350.0   \n",
       "1001      NaN    NaN    NaN    NaN    NaN    NaN    NaN    NaN    NaN    NaN   \n",
       "1002      NaN    NaN    NaN    NaN    NaN  117.0  214.0  289.0  206.0  212.0   \n",
       "1003      NaN    NaN    NaN    NaN    NaN    NaN    NaN  380.0  961.0  855.0   \n",
       "1004      NaN    NaN    NaN    NaN   35.0  171.0  135.0  137.0  117.0  145.0   \n",
       "1005     95.0  456.0  606.0  712.0  595.0  612.0  569.0  619.0  479.0  723.0   \n",
       "1006      NaN   42.0  286.0  356.0  370.0  478.0  316.0  275.0  360.0  267.0   \n",
       "1007      NaN    NaN    NaN  198.0  480.0  545.0  577.0  458.0  655.0  465.0   \n",
       "1008      NaN    NaN    NaN    NaN    NaN    NaN    NaN    NaN    NaN    NaN   \n",
       "1009      NaN    NaN  109.0  324.0  170.0  289.0  183.0  249.0  133.0  213.0   \n",
       "\n",
       "month       11     12  \n",
       "user_id                \n",
       "1000     338.0  333.0  \n",
       "1001     430.0  414.0  \n",
       "1002     243.0  236.0  \n",
       "1003     824.0  802.0  \n",
       "1004     117.0  130.0  \n",
       "1005     547.0  592.0  \n",
       "1006     372.0  379.0  \n",
       "1007     580.0  421.0  \n",
       "1008       NaN  339.0  \n",
       "1009     290.0  229.0  "
      ]
     },
     "metadata": {},
     "output_type": "display_data"
    }
   ],
   "source": [
    "pivot_dataset_calls_sum=pd.pivot_table(dataset_calls,index=['user_id'], columns='month',values='duration', aggfunc='sum')\n",
    "display(pivot_dataset_calls_sum.head(10))"
   ]
  },
  {
   "cell_type": "markdown",
   "metadata": {},
   "source": [
    "Предлагаю еще посмотреть, в какие месяцы люди больше всего говорили по телефону и совершали больше всего звонков:"
   ]
  },
  {
   "cell_type": "code",
   "execution_count": 129,
   "metadata": {},
   "outputs": [
    {
     "data": {
      "text/html": [
       "<div>\n",
       "<style scoped>\n",
       "    .dataframe tbody tr th:only-of-type {\n",
       "        vertical-align: middle;\n",
       "    }\n",
       "\n",
       "    .dataframe tbody tr th {\n",
       "        vertical-align: top;\n",
       "    }\n",
       "\n",
       "    .dataframe thead th {\n",
       "        text-align: right;\n",
       "    }\n",
       "</style>\n",
       "<table border=\"1\" class=\"dataframe\">\n",
       "  <thead>\n",
       "    <tr style=\"text-align: right;\">\n",
       "      <th></th>\n",
       "      <th>duration</th>\n",
       "    </tr>\n",
       "    <tr>\n",
       "      <th>month</th>\n",
       "      <th></th>\n",
       "    </tr>\n",
       "  </thead>\n",
       "  <tbody>\n",
       "    <tr>\n",
       "      <th>1</th>\n",
       "      <td>1476</td>\n",
       "    </tr>\n",
       "    <tr>\n",
       "      <th>2</th>\n",
       "      <td>3328</td>\n",
       "    </tr>\n",
       "    <tr>\n",
       "      <th>3</th>\n",
       "      <td>6687</td>\n",
       "    </tr>\n",
       "    <tr>\n",
       "      <th>4</th>\n",
       "      <td>9272</td>\n",
       "    </tr>\n",
       "    <tr>\n",
       "      <th>5</th>\n",
       "      <td>12647</td>\n",
       "    </tr>\n",
       "    <tr>\n",
       "      <th>6</th>\n",
       "      <td>14716</td>\n",
       "    </tr>\n",
       "    <tr>\n",
       "      <th>7</th>\n",
       "      <td>18298</td>\n",
       "    </tr>\n",
       "    <tr>\n",
       "      <th>8</th>\n",
       "      <td>21488</td>\n",
       "    </tr>\n",
       "    <tr>\n",
       "      <th>9</th>\n",
       "      <td>24061</td>\n",
       "    </tr>\n",
       "    <tr>\n",
       "      <th>10</th>\n",
       "      <td>27146</td>\n",
       "    </tr>\n",
       "  </tbody>\n",
       "</table>\n",
       "</div>"
      ],
      "text/plain": [
       "       duration\n",
       "month          \n",
       "1          1476\n",
       "2          3328\n",
       "3          6687\n",
       "4          9272\n",
       "5         12647\n",
       "6         14716\n",
       "7         18298\n",
       "8         21488\n",
       "9         24061\n",
       "10        27146"
      ]
     },
     "metadata": {},
     "output_type": "display_data"
    }
   ],
   "source": [
    "pivot_dataset_calls_count_month=pd.pivot_table(dataset_calls,index=['month'], values='duration', aggfunc='count')\n",
    "display(pivot_dataset_calls_count_month.head(10))"
   ]
  },
  {
   "cell_type": "code",
   "execution_count": 130,
   "metadata": {},
   "outputs": [
    {
     "data": {
      "text/html": [
       "<div>\n",
       "<style scoped>\n",
       "    .dataframe tbody tr th:only-of-type {\n",
       "        vertical-align: middle;\n",
       "    }\n",
       "\n",
       "    .dataframe tbody tr th {\n",
       "        vertical-align: top;\n",
       "    }\n",
       "\n",
       "    .dataframe thead th {\n",
       "        text-align: right;\n",
       "    }\n",
       "</style>\n",
       "<table border=\"1\" class=\"dataframe\">\n",
       "  <thead>\n",
       "    <tr style=\"text-align: right;\">\n",
       "      <th></th>\n",
       "      <th>duration</th>\n",
       "    </tr>\n",
       "    <tr>\n",
       "      <th>month</th>\n",
       "      <th></th>\n",
       "    </tr>\n",
       "  </thead>\n",
       "  <tbody>\n",
       "    <tr>\n",
       "      <th>1</th>\n",
       "      <td>10784.0</td>\n",
       "    </tr>\n",
       "    <tr>\n",
       "      <th>2</th>\n",
       "      <td>24455.0</td>\n",
       "    </tr>\n",
       "    <tr>\n",
       "      <th>3</th>\n",
       "      <td>48151.0</td>\n",
       "    </tr>\n",
       "    <tr>\n",
       "      <th>4</th>\n",
       "      <td>66310.0</td>\n",
       "    </tr>\n",
       "    <tr>\n",
       "      <th>5</th>\n",
       "      <td>88810.0</td>\n",
       "    </tr>\n",
       "    <tr>\n",
       "      <th>6</th>\n",
       "      <td>105180.0</td>\n",
       "    </tr>\n",
       "    <tr>\n",
       "      <th>7</th>\n",
       "      <td>131746.0</td>\n",
       "    </tr>\n",
       "    <tr>\n",
       "      <th>8</th>\n",
       "      <td>153698.0</td>\n",
       "    </tr>\n",
       "    <tr>\n",
       "      <th>9</th>\n",
       "      <td>173475.0</td>\n",
       "    </tr>\n",
       "    <tr>\n",
       "      <th>10</th>\n",
       "      <td>193928.0</td>\n",
       "    </tr>\n",
       "    <tr>\n",
       "      <th>11</th>\n",
       "      <td>210089.0</td>\n",
       "    </tr>\n",
       "    <tr>\n",
       "      <th>12</th>\n",
       "      <td>243675.0</td>\n",
       "    </tr>\n",
       "  </tbody>\n",
       "</table>\n",
       "</div>"
      ],
      "text/plain": [
       "       duration\n",
       "month          \n",
       "1       10784.0\n",
       "2       24455.0\n",
       "3       48151.0\n",
       "4       66310.0\n",
       "5       88810.0\n",
       "6      105180.0\n",
       "7      131746.0\n",
       "8      153698.0\n",
       "9      173475.0\n",
       "10     193928.0\n",
       "11     210089.0\n",
       "12     243675.0"
      ]
     },
     "metadata": {},
     "output_type": "display_data"
    }
   ],
   "source": [
    "pivot_dataset_calls_sum_month=pd.pivot_table(dataset_calls,index=['month'], values='duration', aggfunc='sum')\n",
    "display(pivot_dataset_calls_sum_month.head(12))"
   ]
  },
  {
   "cell_type": "markdown",
   "metadata": {},
   "source": [
    "Хочу еще посмотреть сколько длятся звонки пользователей:"
   ]
  },
  {
   "cell_type": "code",
   "execution_count": 131,
   "metadata": {},
   "outputs": [
    {
     "data": {
      "image/png": "[encoded data removed]",
      "text/plain": [
       "<Figure size 432x288 with 1 Axes>"
      ]
     },
     "metadata": {
      "needs_background": "light"
     },
     "output_type": "display_data"
    },
    {
     "data": {
      "text/plain": [
       "count    202607.000000\n",
       "mean          7.158198\n",
       "std           5.959173\n",
       "min           0.000000\n",
       "25%           2.000000\n",
       "50%           6.000000\n",
       "75%          11.000000\n",
       "max          38.000000\n",
       "Name: duration, dtype: float64"
      ]
     },
     "execution_count": 131,
     "metadata": {},
     "output_type": "execute_result"
    }
   ],
   "source": [
    "dataset_calls['duration'].hist(bins=100).set_title('Гистограмма длительности звонков')\n",
    "plt.show()\n",
    "dataset_calls['duration'].describe()"
   ]
  },
  {
   "cell_type": "markdown",
   "metadata": {},
   "source": [
    "Судя по медиане длительности звонков большинство пользователи Мегалайна любят поговорить примерно 6 минут. Стоит так же обратить внимание на звонки с длительностью 0 минут, мы про них уже говорил, их более 40 000 ед. Предлагаю с ними ничего не делать, считаю что специалистам Мегалайна надо просмотреть эти звонки более детально, чтобы узнать почему так просиходит: возможно пропадала связь во время вызова ( это уже вопрос к техническим специалистам и зоной покрытия, можно узнать слабые места покрытия), возможно абонет, которому звонили, был занят и звонок сбросился автоматически сразу ( тут мы уже ничего не поделаем)."
   ]
  },
  {
   "cell_type": "markdown",
   "metadata": {},
   "source": [
    "Посчитаем количество смс, отправленных каждым пользователем в каждый месяце:"
   ]
  },
  {
   "cell_type": "code",
   "execution_count": 132,
   "metadata": {},
   "outputs": [
    {
     "data": {
      "text/html": [
       "<div>\n",
       "<style scoped>\n",
       "    .dataframe tbody tr th:only-of-type {\n",
       "        vertical-align: middle;\n",
       "    }\n",
       "\n",
       "    .dataframe tbody tr th {\n",
       "        vertical-align: top;\n",
       "    }\n",
       "\n",
       "    .dataframe thead th {\n",
       "        text-align: right;\n",
       "    }\n",
       "</style>\n",
       "<table border=\"1\" class=\"dataframe\">\n",
       "  <thead>\n",
       "    <tr style=\"text-align: right;\">\n",
       "      <th>month</th>\n",
       "      <th>1</th>\n",
       "      <th>2</th>\n",
       "      <th>3</th>\n",
       "      <th>4</th>\n",
       "      <th>5</th>\n",
       "      <th>6</th>\n",
       "      <th>7</th>\n",
       "      <th>8</th>\n",
       "      <th>9</th>\n",
       "      <th>10</th>\n",
       "      <th>11</th>\n",
       "      <th>12</th>\n",
       "    </tr>\n",
       "    <tr>\n",
       "      <th>user_id</th>\n",
       "      <th></th>\n",
       "      <th></th>\n",
       "      <th></th>\n",
       "      <th></th>\n",
       "      <th></th>\n",
       "      <th></th>\n",
       "      <th></th>\n",
       "      <th></th>\n",
       "      <th></th>\n",
       "      <th></th>\n",
       "      <th></th>\n",
       "      <th></th>\n",
       "    </tr>\n",
       "  </thead>\n",
       "  <tbody>\n",
       "    <tr>\n",
       "      <th>1000</th>\n",
       "      <td>NaN</td>\n",
       "      <td>NaN</td>\n",
       "      <td>NaN</td>\n",
       "      <td>NaN</td>\n",
       "      <td>22.0</td>\n",
       "      <td>60.0</td>\n",
       "      <td>75.0</td>\n",
       "      <td>81.0</td>\n",
       "      <td>57.0</td>\n",
       "      <td>73.0</td>\n",
       "      <td>58.0</td>\n",
       "      <td>70.0</td>\n",
       "    </tr>\n",
       "    <tr>\n",
       "      <th>1002</th>\n",
       "      <td>NaN</td>\n",
       "      <td>NaN</td>\n",
       "      <td>NaN</td>\n",
       "      <td>NaN</td>\n",
       "      <td>NaN</td>\n",
       "      <td>4.0</td>\n",
       "      <td>11.0</td>\n",
       "      <td>13.0</td>\n",
       "      <td>4.0</td>\n",
       "      <td>10.0</td>\n",
       "      <td>16.0</td>\n",
       "      <td>12.0</td>\n",
       "    </tr>\n",
       "    <tr>\n",
       "      <th>1003</th>\n",
       "      <td>NaN</td>\n",
       "      <td>NaN</td>\n",
       "      <td>NaN</td>\n",
       "      <td>NaN</td>\n",
       "      <td>NaN</td>\n",
       "      <td>NaN</td>\n",
       "      <td>NaN</td>\n",
       "      <td>37.0</td>\n",
       "      <td>91.0</td>\n",
       "      <td>83.0</td>\n",
       "      <td>94.0</td>\n",
       "      <td>75.0</td>\n",
       "    </tr>\n",
       "    <tr>\n",
       "      <th>1004</th>\n",
       "      <td>NaN</td>\n",
       "      <td>NaN</td>\n",
       "      <td>NaN</td>\n",
       "      <td>NaN</td>\n",
       "      <td>95.0</td>\n",
       "      <td>134.0</td>\n",
       "      <td>181.0</td>\n",
       "      <td>151.0</td>\n",
       "      <td>146.0</td>\n",
       "      <td>165.0</td>\n",
       "      <td>158.0</td>\n",
       "      <td>162.0</td>\n",
       "    </tr>\n",
       "    <tr>\n",
       "      <th>1005</th>\n",
       "      <td>7.0</td>\n",
       "      <td>38.0</td>\n",
       "      <td>56.0</td>\n",
       "      <td>41.0</td>\n",
       "      <td>42.0</td>\n",
       "      <td>47.0</td>\n",
       "      <td>56.0</td>\n",
       "      <td>64.0</td>\n",
       "      <td>52.0</td>\n",
       "      <td>44.0</td>\n",
       "      <td>51.0</td>\n",
       "      <td>54.0</td>\n",
       "    </tr>\n",
       "    <tr>\n",
       "      <th>1007</th>\n",
       "      <td>NaN</td>\n",
       "      <td>NaN</td>\n",
       "      <td>NaN</td>\n",
       "      <td>11.0</td>\n",
       "      <td>39.0</td>\n",
       "      <td>26.0</td>\n",
       "      <td>26.0</td>\n",
       "      <td>27.0</td>\n",
       "      <td>31.0</td>\n",
       "      <td>18.0</td>\n",
       "      <td>21.0</td>\n",
       "      <td>26.0</td>\n",
       "    </tr>\n",
       "    <tr>\n",
       "      <th>1008</th>\n",
       "      <td>NaN</td>\n",
       "      <td>NaN</td>\n",
       "      <td>NaN</td>\n",
       "      <td>NaN</td>\n",
       "      <td>NaN</td>\n",
       "      <td>NaN</td>\n",
       "      <td>NaN</td>\n",
       "      <td>NaN</td>\n",
       "      <td>NaN</td>\n",
       "      <td>NaN</td>\n",
       "      <td>NaN</td>\n",
       "      <td>56.0</td>\n",
       "    </tr>\n",
       "    <tr>\n",
       "      <th>1009</th>\n",
       "      <td>NaN</td>\n",
       "      <td>NaN</td>\n",
       "      <td>2.0</td>\n",
       "      <td>14.0</td>\n",
       "      <td>7.0</td>\n",
       "      <td>14.0</td>\n",
       "      <td>14.0</td>\n",
       "      <td>9.0</td>\n",
       "      <td>12.0</td>\n",
       "      <td>15.0</td>\n",
       "      <td>11.0</td>\n",
       "      <td>12.0</td>\n",
       "    </tr>\n",
       "    <tr>\n",
       "      <th>1011</th>\n",
       "      <td>NaN</td>\n",
       "      <td>NaN</td>\n",
       "      <td>4.0</td>\n",
       "      <td>7.0</td>\n",
       "      <td>13.0</td>\n",
       "      <td>13.0</td>\n",
       "      <td>13.0</td>\n",
       "      <td>15.0</td>\n",
       "      <td>10.0</td>\n",
       "      <td>17.0</td>\n",
       "      <td>12.0</td>\n",
       "      <td>6.0</td>\n",
       "    </tr>\n",
       "    <tr>\n",
       "      <th>1012</th>\n",
       "      <td>NaN</td>\n",
       "      <td>NaN</td>\n",
       "      <td>2.0</td>\n",
       "      <td>21.0</td>\n",
       "      <td>10.0</td>\n",
       "      <td>15.0</td>\n",
       "      <td>12.0</td>\n",
       "      <td>23.0</td>\n",
       "      <td>14.0</td>\n",
       "      <td>13.0</td>\n",
       "      <td>25.0</td>\n",
       "      <td>15.0</td>\n",
       "    </tr>\n",
       "  </tbody>\n",
       "</table>\n",
       "</div>"
      ],
      "text/plain": [
       "month     1     2     3     4     5      6      7      8      9      10  \\\n",
       "user_id                                                                   \n",
       "1000     NaN   NaN   NaN   NaN  22.0   60.0   75.0   81.0   57.0   73.0   \n",
       "1002     NaN   NaN   NaN   NaN   NaN    4.0   11.0   13.0    4.0   10.0   \n",
       "1003     NaN   NaN   NaN   NaN   NaN    NaN    NaN   37.0   91.0   83.0   \n",
       "1004     NaN   NaN   NaN   NaN  95.0  134.0  181.0  151.0  146.0  165.0   \n",
       "1005     7.0  38.0  56.0  41.0  42.0   47.0   56.0   64.0   52.0   44.0   \n",
       "1007     NaN   NaN   NaN  11.0  39.0   26.0   26.0   27.0   31.0   18.0   \n",
       "1008     NaN   NaN   NaN   NaN   NaN    NaN    NaN    NaN    NaN    NaN   \n",
       "1009     NaN   NaN   2.0  14.0   7.0   14.0   14.0    9.0   12.0   15.0   \n",
       "1011     NaN   NaN   4.0   7.0  13.0   13.0   13.0   15.0   10.0   17.0   \n",
       "1012     NaN   NaN   2.0  21.0  10.0   15.0   12.0   23.0   14.0   13.0   \n",
       "\n",
       "month       11     12  \n",
       "user_id                \n",
       "1000      58.0   70.0  \n",
       "1002      16.0   12.0  \n",
       "1003      94.0   75.0  \n",
       "1004     158.0  162.0  \n",
       "1005      51.0   54.0  \n",
       "1007      21.0   26.0  \n",
       "1008       NaN   56.0  \n",
       "1009      11.0   12.0  \n",
       "1011      12.0    6.0  \n",
       "1012      25.0   15.0  "
      ]
     },
     "metadata": {},
     "output_type": "display_data"
    }
   ],
   "source": [
    "pivot_dataset_messages_count=pd.pivot_table(dataset_messages,index=['user_id'], columns='month',values='id', aggfunc='count')\n",
    "display(pivot_dataset_messages_count.head(10))"
   ]
  },
  {
   "cell_type": "code",
   "execution_count": 133,
   "metadata": {
    "scrolled": true
   },
   "outputs": [
    {
     "data": {
      "text/html": [
       "<div>\n",
       "<style scoped>\n",
       "    .dataframe tbody tr th:only-of-type {\n",
       "        vertical-align: middle;\n",
       "    }\n",
       "\n",
       "    .dataframe tbody tr th {\n",
       "        vertical-align: top;\n",
       "    }\n",
       "\n",
       "    .dataframe thead th {\n",
       "        text-align: right;\n",
       "    }\n",
       "</style>\n",
       "<table border=\"1\" class=\"dataframe\">\n",
       "  <thead>\n",
       "    <tr style=\"text-align: right;\">\n",
       "      <th></th>\n",
       "      <th>id</th>\n",
       "    </tr>\n",
       "    <tr>\n",
       "      <th>month</th>\n",
       "      <th></th>\n",
       "    </tr>\n",
       "  </thead>\n",
       "  <tbody>\n",
       "    <tr>\n",
       "      <th>1</th>\n",
       "      <td>924</td>\n",
       "    </tr>\n",
       "    <tr>\n",
       "      <th>2</th>\n",
       "      <td>1924</td>\n",
       "    </tr>\n",
       "    <tr>\n",
       "      <th>3</th>\n",
       "      <td>3648</td>\n",
       "    </tr>\n",
       "    <tr>\n",
       "      <th>4</th>\n",
       "      <td>5179</td>\n",
       "    </tr>\n",
       "    <tr>\n",
       "      <th>5</th>\n",
       "      <td>7298</td>\n",
       "    </tr>\n",
       "    <tr>\n",
       "      <th>6</th>\n",
       "      <td>8983</td>\n",
       "    </tr>\n",
       "    <tr>\n",
       "      <th>7</th>\n",
       "      <td>11320</td>\n",
       "    </tr>\n",
       "    <tr>\n",
       "      <th>8</th>\n",
       "      <td>13088</td>\n",
       "    </tr>\n",
       "    <tr>\n",
       "      <th>9</th>\n",
       "      <td>14759</td>\n",
       "    </tr>\n",
       "    <tr>\n",
       "      <th>10</th>\n",
       "      <td>17114</td>\n",
       "    </tr>\n",
       "    <tr>\n",
       "      <th>11</th>\n",
       "      <td>18244</td>\n",
       "    </tr>\n",
       "    <tr>\n",
       "      <th>12</th>\n",
       "      <td>20555</td>\n",
       "    </tr>\n",
       "  </tbody>\n",
       "</table>\n",
       "</div>"
      ],
      "text/plain": [
       "          id\n",
       "month       \n",
       "1        924\n",
       "2       1924\n",
       "3       3648\n",
       "4       5179\n",
       "5       7298\n",
       "6       8983\n",
       "7      11320\n",
       "8      13088\n",
       "9      14759\n",
       "10     17114\n",
       "11     18244\n",
       "12     20555"
      ]
     },
     "execution_count": 133,
     "metadata": {},
     "output_type": "execute_result"
    }
   ],
   "source": [
    "pivot_dataset_messages_sum_month=pd.pivot_table(dataset_messages,index=['month'], values='id', aggfunc='count')\n",
    "pivot_dataset_messages_sum_month.head(12)"
   ]
  },
  {
   "cell_type": "markdown",
   "metadata": {},
   "source": [
    "Посчитаем сколько раз пользователи выходили в интернет ( это скорее всего не несет никакой информационной нагрузки, так как пользователи могли постараться зайти в интеренет и пропадала связь например или сессия начиналась и прерывалась - потому что телефон сел, варинатов много я думаю):"
   ]
  },
  {
   "cell_type": "code",
   "execution_count": 134,
   "metadata": {},
   "outputs": [
    {
     "data": {
      "text/html": [
       "<div>\n",
       "<style scoped>\n",
       "    .dataframe tbody tr th:only-of-type {\n",
       "        vertical-align: middle;\n",
       "    }\n",
       "\n",
       "    .dataframe tbody tr th {\n",
       "        vertical-align: top;\n",
       "    }\n",
       "\n",
       "    .dataframe thead th {\n",
       "        text-align: right;\n",
       "    }\n",
       "</style>\n",
       "<table border=\"1\" class=\"dataframe\">\n",
       "  <thead>\n",
       "    <tr style=\"text-align: right;\">\n",
       "      <th>month</th>\n",
       "      <th>1</th>\n",
       "      <th>2</th>\n",
       "      <th>3</th>\n",
       "      <th>4</th>\n",
       "      <th>5</th>\n",
       "      <th>6</th>\n",
       "      <th>7</th>\n",
       "      <th>8</th>\n",
       "      <th>9</th>\n",
       "      <th>10</th>\n",
       "      <th>11</th>\n",
       "      <th>12</th>\n",
       "    </tr>\n",
       "    <tr>\n",
       "      <th>user_id</th>\n",
       "      <th></th>\n",
       "      <th></th>\n",
       "      <th></th>\n",
       "      <th></th>\n",
       "      <th></th>\n",
       "      <th></th>\n",
       "      <th></th>\n",
       "      <th></th>\n",
       "      <th></th>\n",
       "      <th></th>\n",
       "      <th></th>\n",
       "      <th></th>\n",
       "    </tr>\n",
       "  </thead>\n",
       "  <tbody>\n",
       "    <tr>\n",
       "      <th>1000</th>\n",
       "      <td>NaN</td>\n",
       "      <td>NaN</td>\n",
       "      <td>NaN</td>\n",
       "      <td>NaN</td>\n",
       "      <td>5.0</td>\n",
       "      <td>49.0</td>\n",
       "      <td>29.0</td>\n",
       "      <td>29.0</td>\n",
       "      <td>27.0</td>\n",
       "      <td>27.0</td>\n",
       "      <td>24.0</td>\n",
       "      <td>21.0</td>\n",
       "    </tr>\n",
       "    <tr>\n",
       "      <th>1001</th>\n",
       "      <td>NaN</td>\n",
       "      <td>NaN</td>\n",
       "      <td>NaN</td>\n",
       "      <td>NaN</td>\n",
       "      <td>NaN</td>\n",
       "      <td>NaN</td>\n",
       "      <td>NaN</td>\n",
       "      <td>NaN</td>\n",
       "      <td>NaN</td>\n",
       "      <td>NaN</td>\n",
       "      <td>55.0</td>\n",
       "      <td>41.0</td>\n",
       "    </tr>\n",
       "    <tr>\n",
       "      <th>1002</th>\n",
       "      <td>NaN</td>\n",
       "      <td>NaN</td>\n",
       "      <td>NaN</td>\n",
       "      <td>NaN</td>\n",
       "      <td>NaN</td>\n",
       "      <td>34.0</td>\n",
       "      <td>58.0</td>\n",
       "      <td>60.0</td>\n",
       "      <td>56.0</td>\n",
       "      <td>44.0</td>\n",
       "      <td>55.0</td>\n",
       "      <td>62.0</td>\n",
       "    </tr>\n",
       "    <tr>\n",
       "      <th>1003</th>\n",
       "      <td>NaN</td>\n",
       "      <td>NaN</td>\n",
       "      <td>NaN</td>\n",
       "      <td>NaN</td>\n",
       "      <td>NaN</td>\n",
       "      <td>NaN</td>\n",
       "      <td>NaN</td>\n",
       "      <td>15.0</td>\n",
       "      <td>22.0</td>\n",
       "      <td>25.0</td>\n",
       "      <td>21.0</td>\n",
       "      <td>21.0</td>\n",
       "    </tr>\n",
       "    <tr>\n",
       "      <th>1004</th>\n",
       "      <td>NaN</td>\n",
       "      <td>NaN</td>\n",
       "      <td>NaN</td>\n",
       "      <td>NaN</td>\n",
       "      <td>24.0</td>\n",
       "      <td>35.0</td>\n",
       "      <td>35.0</td>\n",
       "      <td>52.0</td>\n",
       "      <td>37.0</td>\n",
       "      <td>41.0</td>\n",
       "      <td>36.0</td>\n",
       "      <td>40.0</td>\n",
       "    </tr>\n",
       "    <tr>\n",
       "      <th>1005</th>\n",
       "      <td>6.0</td>\n",
       "      <td>24.0</td>\n",
       "      <td>28.0</td>\n",
       "      <td>30.0</td>\n",
       "      <td>25.0</td>\n",
       "      <td>28.0</td>\n",
       "      <td>21.0</td>\n",
       "      <td>23.0</td>\n",
       "      <td>24.0</td>\n",
       "      <td>21.0</td>\n",
       "      <td>30.0</td>\n",
       "      <td>29.0</td>\n",
       "    </tr>\n",
       "    <tr>\n",
       "      <th>1006</th>\n",
       "      <td>NaN</td>\n",
       "      <td>8.0</td>\n",
       "      <td>52.0</td>\n",
       "      <td>42.0</td>\n",
       "      <td>46.0</td>\n",
       "      <td>45.0</td>\n",
       "      <td>58.0</td>\n",
       "      <td>53.0</td>\n",
       "      <td>50.0</td>\n",
       "      <td>61.0</td>\n",
       "      <td>37.0</td>\n",
       "      <td>55.0</td>\n",
       "    </tr>\n",
       "    <tr>\n",
       "      <th>1007</th>\n",
       "      <td>NaN</td>\n",
       "      <td>NaN</td>\n",
       "      <td>NaN</td>\n",
       "      <td>21.0</td>\n",
       "      <td>60.0</td>\n",
       "      <td>44.0</td>\n",
       "      <td>61.0</td>\n",
       "      <td>57.0</td>\n",
       "      <td>45.0</td>\n",
       "      <td>46.0</td>\n",
       "      <td>52.0</td>\n",
       "      <td>52.0</td>\n",
       "    </tr>\n",
       "    <tr>\n",
       "      <th>1008</th>\n",
       "      <td>NaN</td>\n",
       "      <td>NaN</td>\n",
       "      <td>NaN</td>\n",
       "      <td>NaN</td>\n",
       "      <td>NaN</td>\n",
       "      <td>NaN</td>\n",
       "      <td>NaN</td>\n",
       "      <td>NaN</td>\n",
       "      <td>NaN</td>\n",
       "      <td>NaN</td>\n",
       "      <td>NaN</td>\n",
       "      <td>44.0</td>\n",
       "    </tr>\n",
       "    <tr>\n",
       "      <th>1009</th>\n",
       "      <td>NaN</td>\n",
       "      <td>NaN</td>\n",
       "      <td>22.0</td>\n",
       "      <td>49.0</td>\n",
       "      <td>40.0</td>\n",
       "      <td>48.0</td>\n",
       "      <td>68.0</td>\n",
       "      <td>65.0</td>\n",
       "      <td>54.0</td>\n",
       "      <td>61.0</td>\n",
       "      <td>48.0</td>\n",
       "      <td>57.0</td>\n",
       "    </tr>\n",
       "  </tbody>\n",
       "</table>\n",
       "</div>"
      ],
      "text/plain": [
       "month     1     2     3     4     5     6     7     8     9     10    11    12\n",
       "user_id                                                                       \n",
       "1000     NaN   NaN   NaN   NaN   5.0  49.0  29.0  29.0  27.0  27.0  24.0  21.0\n",
       "1001     NaN   NaN   NaN   NaN   NaN   NaN   NaN   NaN   NaN   NaN  55.0  41.0\n",
       "1002     NaN   NaN   NaN   NaN   NaN  34.0  58.0  60.0  56.0  44.0  55.0  62.0\n",
       "1003     NaN   NaN   NaN   NaN   NaN   NaN   NaN  15.0  22.0  25.0  21.0  21.0\n",
       "1004     NaN   NaN   NaN   NaN  24.0  35.0  35.0  52.0  37.0  41.0  36.0  40.0\n",
       "1005     6.0  24.0  28.0  30.0  25.0  28.0  21.0  23.0  24.0  21.0  30.0  29.0\n",
       "1006     NaN   8.0  52.0  42.0  46.0  45.0  58.0  53.0  50.0  61.0  37.0  55.0\n",
       "1007     NaN   NaN   NaN  21.0  60.0  44.0  61.0  57.0  45.0  46.0  52.0  52.0\n",
       "1008     NaN   NaN   NaN   NaN   NaN   NaN   NaN   NaN   NaN   NaN   NaN  44.0\n",
       "1009     NaN   NaN  22.0  49.0  40.0  48.0  68.0  65.0  54.0  61.0  48.0  57.0"
      ]
     },
     "metadata": {},
     "output_type": "display_data"
    }
   ],
   "source": [
    "pivot_dataset_internet_count=pd.pivot_table(dataset_internet,index=['user_id'], columns='month',values='mb_used', aggfunc='count')\n",
    "display(pivot_dataset_internet_count.head(10))"
   ]
  },
  {
   "cell_type": "markdown",
   "metadata": {},
   "source": [
    "Посчитаем сколько интернет-трафика потратили пользователи \"Мегалайна\" по месяцам:"
   ]
  },
  {
   "cell_type": "code",
   "execution_count": 135,
   "metadata": {},
   "outputs": [
    {
     "data": {
      "text/html": [
       "<div>\n",
       "<style scoped>\n",
       "    .dataframe tbody tr th:only-of-type {\n",
       "        vertical-align: middle;\n",
       "    }\n",
       "\n",
       "    .dataframe tbody tr th {\n",
       "        vertical-align: top;\n",
       "    }\n",
       "\n",
       "    .dataframe thead th {\n",
       "        text-align: right;\n",
       "    }\n",
       "</style>\n",
       "<table border=\"1\" class=\"dataframe\">\n",
       "  <thead>\n",
       "    <tr style=\"text-align: right;\">\n",
       "      <th>month</th>\n",
       "      <th>1</th>\n",
       "      <th>2</th>\n",
       "      <th>3</th>\n",
       "      <th>4</th>\n",
       "      <th>5</th>\n",
       "      <th>6</th>\n",
       "      <th>7</th>\n",
       "      <th>8</th>\n",
       "      <th>9</th>\n",
       "      <th>10</th>\n",
       "      <th>11</th>\n",
       "      <th>12</th>\n",
       "    </tr>\n",
       "    <tr>\n",
       "      <th>user_id</th>\n",
       "      <th></th>\n",
       "      <th></th>\n",
       "      <th></th>\n",
       "      <th></th>\n",
       "      <th></th>\n",
       "      <th></th>\n",
       "      <th></th>\n",
       "      <th></th>\n",
       "      <th></th>\n",
       "      <th></th>\n",
       "      <th></th>\n",
       "      <th></th>\n",
       "    </tr>\n",
       "  </thead>\n",
       "  <tbody>\n",
       "    <tr>\n",
       "      <th>1000</th>\n",
       "      <td>NaN</td>\n",
       "      <td>NaN</td>\n",
       "      <td>NaN</td>\n",
       "      <td>NaN</td>\n",
       "      <td>2253.49</td>\n",
       "      <td>23233.77</td>\n",
       "      <td>14003.64</td>\n",
       "      <td>14055.93</td>\n",
       "      <td>14568.91</td>\n",
       "      <td>14702.49</td>\n",
       "      <td>14756.47</td>\n",
       "      <td>9817.61</td>\n",
       "    </tr>\n",
       "    <tr>\n",
       "      <th>1001</th>\n",
       "      <td>NaN</td>\n",
       "      <td>NaN</td>\n",
       "      <td>NaN</td>\n",
       "      <td>NaN</td>\n",
       "      <td>NaN</td>\n",
       "      <td>NaN</td>\n",
       "      <td>NaN</td>\n",
       "      <td>NaN</td>\n",
       "      <td>NaN</td>\n",
       "      <td>NaN</td>\n",
       "      <td>18429.34</td>\n",
       "      <td>14036.66</td>\n",
       "    </tr>\n",
       "    <tr>\n",
       "      <th>1002</th>\n",
       "      <td>NaN</td>\n",
       "      <td>NaN</td>\n",
       "      <td>NaN</td>\n",
       "      <td>NaN</td>\n",
       "      <td>NaN</td>\n",
       "      <td>10856.82</td>\n",
       "      <td>17580.10</td>\n",
       "      <td>20319.26</td>\n",
       "      <td>16691.08</td>\n",
       "      <td>13888.25</td>\n",
       "      <td>18587.28</td>\n",
       "      <td>18113.73</td>\n",
       "    </tr>\n",
       "    <tr>\n",
       "      <th>1003</th>\n",
       "      <td>NaN</td>\n",
       "      <td>NaN</td>\n",
       "      <td>NaN</td>\n",
       "      <td>NaN</td>\n",
       "      <td>NaN</td>\n",
       "      <td>NaN</td>\n",
       "      <td>NaN</td>\n",
       "      <td>8565.21</td>\n",
       "      <td>12468.87</td>\n",
       "      <td>14768.14</td>\n",
       "      <td>11356.89</td>\n",
       "      <td>10121.53</td>\n",
       "    </tr>\n",
       "    <tr>\n",
       "      <th>1004</th>\n",
       "      <td>NaN</td>\n",
       "      <td>NaN</td>\n",
       "      <td>NaN</td>\n",
       "      <td>NaN</td>\n",
       "      <td>13403.98</td>\n",
       "      <td>17600.02</td>\n",
       "      <td>22229.58</td>\n",
       "      <td>28584.37</td>\n",
       "      <td>15109.03</td>\n",
       "      <td>18475.44</td>\n",
       "      <td>15616.02</td>\n",
       "      <td>18021.04</td>\n",
       "    </tr>\n",
       "    <tr>\n",
       "      <th>1005</th>\n",
       "      <td>2727.97</td>\n",
       "      <td>7383.93</td>\n",
       "      <td>11104.25</td>\n",
       "      <td>9351.72</td>\n",
       "      <td>7865.53</td>\n",
       "      <td>9863.19</td>\n",
       "      <td>7694.56</td>\n",
       "      <td>7543.63</td>\n",
       "      <td>7016.46</td>\n",
       "      <td>7800.93</td>\n",
       "      <td>12666.95</td>\n",
       "      <td>8668.19</td>\n",
       "    </tr>\n",
       "    <tr>\n",
       "      <th>1006</th>\n",
       "      <td>NaN</td>\n",
       "      <td>1392.15</td>\n",
       "      <td>17287.93</td>\n",
       "      <td>13936.70</td>\n",
       "      <td>12965.41</td>\n",
       "      <td>12371.66</td>\n",
       "      <td>19977.60</td>\n",
       "      <td>19303.71</td>\n",
       "      <td>15521.53</td>\n",
       "      <td>19696.60</td>\n",
       "      <td>13259.41</td>\n",
       "      <td>18476.11</td>\n",
       "    </tr>\n",
       "    <tr>\n",
       "      <th>1007</th>\n",
       "      <td>NaN</td>\n",
       "      <td>NaN</td>\n",
       "      <td>NaN</td>\n",
       "      <td>8022.76</td>\n",
       "      <td>17687.27</td>\n",
       "      <td>13654.52</td>\n",
       "      <td>15656.66</td>\n",
       "      <td>20700.40</td>\n",
       "      <td>12613.05</td>\n",
       "      <td>14427.33</td>\n",
       "      <td>16369.61</td>\n",
       "      <td>12494.07</td>\n",
       "    </tr>\n",
       "    <tr>\n",
       "      <th>1008</th>\n",
       "      <td>NaN</td>\n",
       "      <td>NaN</td>\n",
       "      <td>NaN</td>\n",
       "      <td>NaN</td>\n",
       "      <td>NaN</td>\n",
       "      <td>NaN</td>\n",
       "      <td>NaN</td>\n",
       "      <td>NaN</td>\n",
       "      <td>NaN</td>\n",
       "      <td>NaN</td>\n",
       "      <td>NaN</td>\n",
       "      <td>13217.14</td>\n",
       "    </tr>\n",
       "    <tr>\n",
       "      <th>1009</th>\n",
       "      <td>NaN</td>\n",
       "      <td>NaN</td>\n",
       "      <td>7350.15</td>\n",
       "      <td>14709.22</td>\n",
       "      <td>13371.89</td>\n",
       "      <td>16067.51</td>\n",
       "      <td>24725.84</td>\n",
       "      <td>23708.41</td>\n",
       "      <td>21932.59</td>\n",
       "      <td>20081.73</td>\n",
       "      <td>16845.85</td>\n",
       "      <td>18618.02</td>\n",
       "    </tr>\n",
       "  </tbody>\n",
       "</table>\n",
       "</div>"
      ],
      "text/plain": [
       "month         1        2         3         4         5         6         7   \\\n",
       "user_id                                                                       \n",
       "1000         NaN      NaN       NaN       NaN   2253.49  23233.77  14003.64   \n",
       "1001         NaN      NaN       NaN       NaN       NaN       NaN       NaN   \n",
       "1002         NaN      NaN       NaN       NaN       NaN  10856.82  17580.10   \n",
       "1003         NaN      NaN       NaN       NaN       NaN       NaN       NaN   \n",
       "1004         NaN      NaN       NaN       NaN  13403.98  17600.02  22229.58   \n",
       "1005     2727.97  7383.93  11104.25   9351.72   7865.53   9863.19   7694.56   \n",
       "1006         NaN  1392.15  17287.93  13936.70  12965.41  12371.66  19977.60   \n",
       "1007         NaN      NaN       NaN   8022.76  17687.27  13654.52  15656.66   \n",
       "1008         NaN      NaN       NaN       NaN       NaN       NaN       NaN   \n",
       "1009         NaN      NaN   7350.15  14709.22  13371.89  16067.51  24725.84   \n",
       "\n",
       "month          8         9         10        11        12  \n",
       "user_id                                                    \n",
       "1000     14055.93  14568.91  14702.49  14756.47   9817.61  \n",
       "1001          NaN       NaN       NaN  18429.34  14036.66  \n",
       "1002     20319.26  16691.08  13888.25  18587.28  18113.73  \n",
       "1003      8565.21  12468.87  14768.14  11356.89  10121.53  \n",
       "1004     28584.37  15109.03  18475.44  15616.02  18021.04  \n",
       "1005      7543.63   7016.46   7800.93  12666.95   8668.19  \n",
       "1006     19303.71  15521.53  19696.60  13259.41  18476.11  \n",
       "1007     20700.40  12613.05  14427.33  16369.61  12494.07  \n",
       "1008          NaN       NaN       NaN       NaN  13217.14  \n",
       "1009     23708.41  21932.59  20081.73  16845.85  18618.02  "
      ]
     },
     "metadata": {},
     "output_type": "display_data"
    }
   ],
   "source": [
    "pivot_dataset_internet_sum=pd.pivot_table(dataset_internet,index=['user_id'], columns='month',values='mb_used', aggfunc='sum')\n",
    "display(pivot_dataset_internet_sum.head(10))"
   ]
  },
  {
   "cell_type": "markdown",
   "metadata": {},
   "source": [
    "Взглянем как изменялся интрент-трафик по месяцам в целом:"
   ]
  },
  {
   "cell_type": "code",
   "execution_count": 136,
   "metadata": {},
   "outputs": [
    {
     "data": {
      "text/html": [
       "<div>\n",
       "<style scoped>\n",
       "    .dataframe tbody tr th:only-of-type {\n",
       "        vertical-align: middle;\n",
       "    }\n",
       "\n",
       "    .dataframe tbody tr th {\n",
       "        vertical-align: top;\n",
       "    }\n",
       "\n",
       "    .dataframe thead th {\n",
       "        text-align: right;\n",
       "    }\n",
       "</style>\n",
       "<table border=\"1\" class=\"dataframe\">\n",
       "  <thead>\n",
       "    <tr style=\"text-align: right;\">\n",
       "      <th></th>\n",
       "      <th>mb_used</th>\n",
       "    </tr>\n",
       "    <tr>\n",
       "      <th>month</th>\n",
       "      <th></th>\n",
       "    </tr>\n",
       "  </thead>\n",
       "  <tbody>\n",
       "    <tr>\n",
       "      <th>1</th>\n",
       "      <td>407732.53</td>\n",
       "    </tr>\n",
       "    <tr>\n",
       "      <th>2</th>\n",
       "      <td>955251.65</td>\n",
       "    </tr>\n",
       "    <tr>\n",
       "      <th>3</th>\n",
       "      <td>1811835.61</td>\n",
       "    </tr>\n",
       "    <tr>\n",
       "      <th>4</th>\n",
       "      <td>2433311.62</td>\n",
       "    </tr>\n",
       "    <tr>\n",
       "      <th>5</th>\n",
       "      <td>3525862.24</td>\n",
       "    </tr>\n",
       "    <tr>\n",
       "      <th>6</th>\n",
       "      <td>4180017.17</td>\n",
       "    </tr>\n",
       "    <tr>\n",
       "      <th>7</th>\n",
       "      <td>5029478.75</td>\n",
       "    </tr>\n",
       "    <tr>\n",
       "      <th>8</th>\n",
       "      <td>5998157.07</td>\n",
       "    </tr>\n",
       "    <tr>\n",
       "      <th>9</th>\n",
       "      <td>6447422.36</td>\n",
       "    </tr>\n",
       "    <tr>\n",
       "      <th>10</th>\n",
       "      <td>7392170.62</td>\n",
       "    </tr>\n",
       "    <tr>\n",
       "      <th>11</th>\n",
       "      <td>7990473.01</td>\n",
       "    </tr>\n",
       "    <tr>\n",
       "      <th>12</th>\n",
       "      <td>9133555.10</td>\n",
       "    </tr>\n",
       "  </tbody>\n",
       "</table>\n",
       "</div>"
      ],
      "text/plain": [
       "          mb_used\n",
       "month            \n",
       "1       407732.53\n",
       "2       955251.65\n",
       "3      1811835.61\n",
       "4      2433311.62\n",
       "5      3525862.24\n",
       "6      4180017.17\n",
       "7      5029478.75\n",
       "8      5998157.07\n",
       "9      6447422.36\n",
       "10     7392170.62\n",
       "11     7990473.01\n",
       "12     9133555.10"
      ]
     },
     "metadata": {},
     "output_type": "display_data"
    }
   ],
   "source": [
    "pivot_dataset_internet_sum_month=pd.pivot_table(dataset_internet,index=['month'], values='mb_used', aggfunc='sum')\n",
    "display(pivot_dataset_internet_sum_month.head(12))"
   ]
  },
  {
   "cell_type": "markdown",
   "metadata": {},
   "source": [
    "Посмотрим, сколько в среднем в мегабайтах длится инетрент сессия у пользователей:"
   ]
  },
  {
   "cell_type": "code",
   "execution_count": 137,
   "metadata": {},
   "outputs": [
    {
     "data": {
      "image/png": "[encoded data removed]",
      "text/plain": [
       "<Figure size 432x288 with 1 Axes>"
      ]
     },
     "metadata": {
      "needs_background": "light"
     },
     "output_type": "display_data"
    },
    {
     "data": {
      "text/plain": [
       "count    149396.000000\n",
       "mean        370.192426\n",
       "std         278.300951\n",
       "min           0.000000\n",
       "25%         138.187500\n",
       "50%         348.015000\n",
       "75%         559.552500\n",
       "max        1724.830000\n",
       "Name: mb_used, dtype: float64"
      ]
     },
     "execution_count": 137,
     "metadata": {},
     "output_type": "execute_result"
    }
   ],
   "source": [
    "dataset_internet['mb_used'].hist(bins=50).set_title('Гистограмма длительности интернет-сессии')\n",
    "plt.show()\n",
    "dataset_internet['mb_used'].describe()"
   ]
  },
  {
   "cell_type": "markdown",
   "metadata": {},
   "source": [
    "Получается, что средняя продолжительность интернет-сессии 370 Мегабайт. Присутсвуют так же много околонулевых сессий ( более 25 тыс.), явно какие то проблемы с соединением, на что так же стоит обратить внимание техническим специалистам Мегалайн и узнать почему так происходит ( возможно это программы быстренько обновлялись в фоновом режиме: например почтовый клиент проверял нет ли новых писем. Но в любом случае надо это проверить)."
   ]
  },
  {
   "cell_type": "markdown",
   "metadata": {},
   "source": [
    "У нас по всем трем позициям: смс, звонки и интернет трафик наблюдается странная закономерность - каждый месяц их количество лавинообразно увеличивается. Давайте проверим подключения к Мегалайну по месяцам."
   ]
  },
  {
   "cell_type": "code",
   "execution_count": 138,
   "metadata": {},
   "outputs": [],
   "source": [
    "dataset_users['reg_date'] = pd.to_datetime(dataset_users['reg_date'], format='%Y-%m-%d')"
   ]
  },
  {
   "cell_type": "code",
   "execution_count": 139,
   "metadata": {},
   "outputs": [],
   "source": [
    "dataset_users['month'] = dataset_users['reg_date'].dt.month"
   ]
  },
  {
   "cell_type": "code",
   "execution_count": 140,
   "metadata": {},
   "outputs": [
    {
     "data": {
      "text/html": [
       "<div>\n",
       "<style scoped>\n",
       "    .dataframe tbody tr th:only-of-type {\n",
       "        vertical-align: middle;\n",
       "    }\n",
       "\n",
       "    .dataframe tbody tr th {\n",
       "        vertical-align: top;\n",
       "    }\n",
       "\n",
       "    .dataframe thead th {\n",
       "        text-align: right;\n",
       "    }\n",
       "</style>\n",
       "<table border=\"1\" class=\"dataframe\">\n",
       "  <thead>\n",
       "    <tr style=\"text-align: right;\">\n",
       "      <th></th>\n",
       "      <th>user_id</th>\n",
       "    </tr>\n",
       "    <tr>\n",
       "      <th>month</th>\n",
       "      <th></th>\n",
       "    </tr>\n",
       "  </thead>\n",
       "  <tbody>\n",
       "    <tr>\n",
       "      <th>1</th>\n",
       "      <td>43</td>\n",
       "    </tr>\n",
       "    <tr>\n",
       "      <th>2</th>\n",
       "      <td>39</td>\n",
       "    </tr>\n",
       "    <tr>\n",
       "      <th>3</th>\n",
       "      <td>32</td>\n",
       "    </tr>\n",
       "    <tr>\n",
       "      <th>4</th>\n",
       "      <td>53</td>\n",
       "    </tr>\n",
       "    <tr>\n",
       "      <th>5</th>\n",
       "      <td>41</td>\n",
       "    </tr>\n",
       "    <tr>\n",
       "      <th>6</th>\n",
       "      <td>40</td>\n",
       "    </tr>\n",
       "    <tr>\n",
       "      <th>7</th>\n",
       "      <td>44</td>\n",
       "    </tr>\n",
       "    <tr>\n",
       "      <th>8</th>\n",
       "      <td>50</td>\n",
       "    </tr>\n",
       "    <tr>\n",
       "      <th>9</th>\n",
       "      <td>35</td>\n",
       "    </tr>\n",
       "    <tr>\n",
       "      <th>10</th>\n",
       "      <td>45</td>\n",
       "    </tr>\n",
       "    <tr>\n",
       "      <th>11</th>\n",
       "      <td>42</td>\n",
       "    </tr>\n",
       "    <tr>\n",
       "      <th>12</th>\n",
       "      <td>36</td>\n",
       "    </tr>\n",
       "  </tbody>\n",
       "</table>\n",
       "</div>"
      ],
      "text/plain": [
       "       user_id\n",
       "month         \n",
       "1           43\n",
       "2           39\n",
       "3           32\n",
       "4           53\n",
       "5           41\n",
       "6           40\n",
       "7           44\n",
       "8           50\n",
       "9           35\n",
       "10          45\n",
       "11          42\n",
       "12          36"
      ]
     },
     "metadata": {},
     "output_type": "display_data"
    }
   ],
   "source": [
    "pivot_dataset_users_count_month=pd.pivot_table(dataset_users,index=['month'], values='user_id', aggfunc='count')\n",
    "display(pivot_dataset_users_count_month.head(12))"
   ]
  },
  {
   "cell_type": "markdown",
   "metadata": {},
   "source": [
    "Вот и ответ на вопрос: лавиообразный рост показателей повлекло увеличение клиентской базы Мегалайна в течении всего года. Всего у нас в выборке 500 уникальных пользователей, в сумме за 12 месяцев подключилось 500 пользователей, то есть логично, что какдый месяц сумма израсходованных минут, отправленных смс и интернет трафика увеличивалось."
   ]
  },
  {
   "cell_type": "markdown",
   "metadata": {},
   "source": [
    " \n",
    "#### Вывод\n",
    "* Обычно пользователи говорят по 6 минут за звонок. Но есть звонки в 0 минут, которым надо уделить внимание: либо абонент был занят либо были неполадки с сетью - это должно помочь понять что с зоной покрытия.\n",
    "\n",
    "* 370 мегабайт - средняя интернет-сессия пользователей Мегалайн (наверное кто-то смотрит инстраграмм когда едет на работу или просматривает паблики в контакте), но есть и более длительные сессии - наверное это любители ютуба)\n",
    "\n",
    "* Мы заметили, что с каждым месяцем объем услуг, потребляемых пользователями Мегалайн, увеличивался. Мы выяснили, что все 500 пользователей постепенно подключались к Мегалайну. Предполагаю несколько возможных вариантов почему это происходит:\n",
    "  \n",
    "  * у нас в выборке только поьзователи, которые присоединялись к Мегалайну постепенно в 2018 г. ( но у Мегалайна есть и другие клиенты)\n",
    "  * тарифы Смарт и Ультра были запущены только в 2018 г.\n",
    "  * была крупная рекламная кампания по данным тарифам и пошел поток новых пользователей.\n",
    "  * Мегалайн начал свою деятельность только в 2018 г.\n"
   ]
  },
  {
   "cell_type": "markdown",
   "metadata": {},
   "source": [
    "\n",
    "### Добавление результатов расчета в таблицу для анализа\n",
    "\n"
   ]
  },
  {
   "cell_type": "markdown",
   "metadata": {},
   "source": [
    "Объеденим наши датафреймы звонков, смс и интернет трафика в единое целое с указанием тарифа по каждому пользователю:"
   ]
  },
  {
   "cell_type": "code",
   "execution_count": 141,
   "metadata": {},
   "outputs": [],
   "source": [
    "all_calls = dataset_calls.groupby(['user_id','month','tariff'])['duration'].agg(['count', 'sum'])\n",
    "all_messages = dataset_messages.groupby(['user_id', 'month','tariff'])['id'].count()\n",
    "all_internet = dataset_internet.groupby(['user_id', 'month','tariff']).sum()['mb_used']"
   ]
  },
  {
   "cell_type": "code",
   "execution_count": 142,
   "metadata": {},
   "outputs": [
    {
     "data": {
      "text/html": [
       "<div>\n",
       "<style scoped>\n",
       "    .dataframe tbody tr th:only-of-type {\n",
       "        vertical-align: middle;\n",
       "    }\n",
       "\n",
       "    .dataframe tbody tr th {\n",
       "        vertical-align: top;\n",
       "    }\n",
       "\n",
       "    .dataframe thead th {\n",
       "        text-align: right;\n",
       "    }\n",
       "</style>\n",
       "<table border=\"1\" class=\"dataframe\">\n",
       "  <thead>\n",
       "    <tr style=\"text-align: right;\">\n",
       "      <th></th>\n",
       "      <th>user_id</th>\n",
       "      <th>month</th>\n",
       "      <th>tariff</th>\n",
       "      <th>count</th>\n",
       "      <th>sum</th>\n",
       "      <th>sms</th>\n",
       "      <th>mb_used</th>\n",
       "    </tr>\n",
       "  </thead>\n",
       "  <tbody>\n",
       "    <tr>\n",
       "      <th>0</th>\n",
       "      <td>1000</td>\n",
       "      <td>5</td>\n",
       "      <td>ultra</td>\n",
       "      <td>22.0</td>\n",
       "      <td>159.0</td>\n",
       "      <td>22.0</td>\n",
       "      <td>2253.49</td>\n",
       "    </tr>\n",
       "    <tr>\n",
       "      <th>1</th>\n",
       "      <td>1000</td>\n",
       "      <td>6</td>\n",
       "      <td>ultra</td>\n",
       "      <td>43.0</td>\n",
       "      <td>172.0</td>\n",
       "      <td>60.0</td>\n",
       "      <td>23233.77</td>\n",
       "    </tr>\n",
       "    <tr>\n",
       "      <th>2</th>\n",
       "      <td>1000</td>\n",
       "      <td>7</td>\n",
       "      <td>ultra</td>\n",
       "      <td>47.0</td>\n",
       "      <td>340.0</td>\n",
       "      <td>75.0</td>\n",
       "      <td>14003.64</td>\n",
       "    </tr>\n",
       "    <tr>\n",
       "      <th>3</th>\n",
       "      <td>1000</td>\n",
       "      <td>8</td>\n",
       "      <td>ultra</td>\n",
       "      <td>52.0</td>\n",
       "      <td>408.0</td>\n",
       "      <td>81.0</td>\n",
       "      <td>14055.93</td>\n",
       "    </tr>\n",
       "    <tr>\n",
       "      <th>4</th>\n",
       "      <td>1000</td>\n",
       "      <td>9</td>\n",
       "      <td>ultra</td>\n",
       "      <td>58.0</td>\n",
       "      <td>466.0</td>\n",
       "      <td>57.0</td>\n",
       "      <td>14568.91</td>\n",
       "    </tr>\n",
       "    <tr>\n",
       "      <th>5</th>\n",
       "      <td>1000</td>\n",
       "      <td>10</td>\n",
       "      <td>ultra</td>\n",
       "      <td>57.0</td>\n",
       "      <td>350.0</td>\n",
       "      <td>73.0</td>\n",
       "      <td>14702.49</td>\n",
       "    </tr>\n",
       "    <tr>\n",
       "      <th>6</th>\n",
       "      <td>1000</td>\n",
       "      <td>11</td>\n",
       "      <td>ultra</td>\n",
       "      <td>43.0</td>\n",
       "      <td>338.0</td>\n",
       "      <td>58.0</td>\n",
       "      <td>14756.47</td>\n",
       "    </tr>\n",
       "    <tr>\n",
       "      <th>7</th>\n",
       "      <td>1000</td>\n",
       "      <td>12</td>\n",
       "      <td>ultra</td>\n",
       "      <td>46.0</td>\n",
       "      <td>333.0</td>\n",
       "      <td>70.0</td>\n",
       "      <td>9817.61</td>\n",
       "    </tr>\n",
       "    <tr>\n",
       "      <th>8</th>\n",
       "      <td>1001</td>\n",
       "      <td>11</td>\n",
       "      <td>smart</td>\n",
       "      <td>59.0</td>\n",
       "      <td>430.0</td>\n",
       "      <td>NaN</td>\n",
       "      <td>18429.34</td>\n",
       "    </tr>\n",
       "    <tr>\n",
       "      <th>9</th>\n",
       "      <td>1001</td>\n",
       "      <td>12</td>\n",
       "      <td>smart</td>\n",
       "      <td>63.0</td>\n",
       "      <td>414.0</td>\n",
       "      <td>NaN</td>\n",
       "      <td>14036.66</td>\n",
       "    </tr>\n",
       "    <tr>\n",
       "      <th>10</th>\n",
       "      <td>1002</td>\n",
       "      <td>6</td>\n",
       "      <td>smart</td>\n",
       "      <td>15.0</td>\n",
       "      <td>117.0</td>\n",
       "      <td>4.0</td>\n",
       "      <td>10856.82</td>\n",
       "    </tr>\n",
       "    <tr>\n",
       "      <th>11</th>\n",
       "      <td>1002</td>\n",
       "      <td>7</td>\n",
       "      <td>smart</td>\n",
       "      <td>26.0</td>\n",
       "      <td>214.0</td>\n",
       "      <td>11.0</td>\n",
       "      <td>17580.10</td>\n",
       "    </tr>\n",
       "  </tbody>\n",
       "</table>\n",
       "</div>"
      ],
      "text/plain": [
       "    user_id  month tariff  count    sum   sms   mb_used\n",
       "0      1000      5  ultra   22.0  159.0  22.0   2253.49\n",
       "1      1000      6  ultra   43.0  172.0  60.0  23233.77\n",
       "2      1000      7  ultra   47.0  340.0  75.0  14003.64\n",
       "3      1000      8  ultra   52.0  408.0  81.0  14055.93\n",
       "4      1000      9  ultra   58.0  466.0  57.0  14568.91\n",
       "5      1000     10  ultra   57.0  350.0  73.0  14702.49\n",
       "6      1000     11  ultra   43.0  338.0  58.0  14756.47\n",
       "7      1000     12  ultra   46.0  333.0  70.0   9817.61\n",
       "8      1001     11  smart   59.0  430.0   NaN  18429.34\n",
       "9      1001     12  smart   63.0  414.0   NaN  14036.66\n",
       "10     1002      6  smart   15.0  117.0   4.0  10856.82\n",
       "11     1002      7  smart   26.0  214.0  11.0  17580.10"
      ]
     },
     "execution_count": 142,
     "metadata": {},
     "output_type": "execute_result"
    }
   ],
   "source": [
    "dataset = pd.concat([all_calls, all_messages, all_internet], axis=1)\n",
    "dataset = dataset.reset_index()\n",
    "dataset=dataset.rename(columns={'id':'sms'}) # переименую столбец, чтобы было понятно, что там количество смс (а то надпись id не совсем понятна)\n",
    "def price_id_def(row): #добавим сразу столбец с абонентской платой за тариф\n",
    "    price_group = row['tariff']\n",
    "    if price_group == \"ultra\":\n",
    "            return '1950'\n",
    "    if price_group == \"smart\":\n",
    "            return '550'\n",
    "#dataset['price']=dataset.apply(price_id_def, axis=1).astype('int')\n",
    "#dataset['count']=dataset['count'].replace(np.nan, 0).astype('int')\n",
    "#dataset['sum']=dataset['sum'].replace(np.nan, 0).astype('int')\n",
    "#dataset['sms']=dataset['sms'].replace(np.nan, 0).astype('int')\n",
    "#dataset['mb_used']=dataset['mb_used'].replace(np.nan, 0).apply(np.ceil)\n",
    "dataset.head(12)"
   ]
  },
  {
   "cell_type": "code",
   "execution_count": 143,
   "metadata": {},
   "outputs": [
    {
     "name": "stdout",
     "output_type": "stream",
     "text": [
      "<class 'pandas.core.frame.DataFrame'>\n",
      "RangeIndex: 3214 entries, 0 to 3213\n",
      "Data columns (total 7 columns):\n",
      " #   Column   Non-Null Count  Dtype  \n",
      "---  ------   --------------  -----  \n",
      " 0   user_id  3214 non-null   int64  \n",
      " 1   month    3214 non-null   int64  \n",
      " 2   tariff   3214 non-null   object \n",
      " 3   count    3174 non-null   float64\n",
      " 4   sum      3174 non-null   float64\n",
      " 5   sms      2717 non-null   float64\n",
      " 6   mb_used  3203 non-null   float64\n",
      "dtypes: float64(4), int64(2), object(1)\n",
      "memory usage: 175.9+ KB\n"
     ]
    }
   ],
   "source": [
    "dataset.info()"
   ]
  },
  {
   "cell_type": "code",
   "execution_count": 144,
   "metadata": {},
   "outputs": [
    {
     "data": {
      "text/plain": [
       "user_id      0\n",
       "month        0\n",
       "tariff       0\n",
       "count       40\n",
       "sum         40\n",
       "sms        497\n",
       "mb_used     11\n",
       "dtype: int64"
      ]
     },
     "execution_count": 144,
     "metadata": {},
     "output_type": "execute_result"
    }
   ],
   "source": [
    "dataset.isna().sum()"
   ]
  },
  {
   "cell_type": "markdown",
   "metadata": {},
   "source": [
    "В столбцах смс, звонки и их количество, интернет-трафик есть пропуски - но я так предполагаю, что в это не совсем пропуски - в эти месяцы пользователи не пользовались данными услугами, поэтому и пропуски ( например я практически никогда не отправляю смс, но иногда это надо сделать - и судя по данным я не один такой:-))\n",
    "\n",
    "Но проверим еще один момент - не у одних и тех же абонентов пропуски:\n"
   ]
  },
  {
   "cell_type": "code",
   "execution_count": 145,
   "metadata": {},
   "outputs": [
    {
     "name": "stdout",
     "output_type": "stream",
     "text": [
      "0\n"
     ]
    }
   ],
   "source": [
    "count_proverka=dataset['count']\n",
    "sms_proverka=dataset['sms']\n",
    "mb_used_proverka=dataset['mb_used']\n",
    "proverka=0 # в переменную будем добавлять по единице, если пропуск в столбцах совпадают пропуски \n",
    "for index in range(len(count_proverka)):\n",
    "    if count_proverka[index] == sms_proverka[index] == mb_used_proverka[index]:\n",
    "        proverka+=1\n",
    "print(proverka)"
   ]
  },
  {
   "cell_type": "markdown",
   "metadata": {},
   "source": [
    "Итак получается, что значения не совпадают по одному абоненту, значит все пользуются различными услугами."
   ]
  },
  {
   "cell_type": "markdown",
   "metadata": {},
   "source": [
    "Посмотрим на распределение пользователей по городам:"
   ]
  },
  {
   "cell_type": "code",
   "execution_count": 146,
   "metadata": {},
   "outputs": [
    {
     "data": {
      "text/plain": [
       "Text(0.5, 1.0, 'Гистограмма распределения пользователей по городам')"
      ]
     },
     "execution_count": 146,
     "metadata": {},
     "output_type": "execute_result"
    },
    {
     "data": {
      "image/png": "[encoded data removed]",
      "text/plain": [
       "<Figure size 360x1440 with 1 Axes>"
      ]
     },
     "metadata": {
      "needs_background": "light"
     },
     "output_type": "display_data"
    }
   ],
   "source": [
    "dataset_users['city'].value_counts().plot(kind='barh', figsize=(5,20)).set_title('Гистограмма распределения пользователей по городам')"
   ]
  },
  {
   "cell_type": "markdown",
   "metadata": {},
   "source": [
    "Онсновна масса пользователей Мегалайна - это жители городов Москва и Санкт-Петербург ( мой Воронеж где то в середине)."
   ]
  },
  {
   "cell_type": "markdown",
   "metadata": {},
   "source": [
    "Посмотрим на популярный тыриф Мегалайна:"
   ]
  },
  {
   "cell_type": "code",
   "execution_count": 147,
   "metadata": {},
   "outputs": [
    {
     "data": {
      "text/plain": [
       "Text(0.5, 1.0, 'Гистограмма распределения пользователей по тарифам')"
      ]
     },
     "execution_count": 147,
     "metadata": {},
     "output_type": "execute_result"
    },
    {
     "data": {
      "image/png": "[encoded data removed]",
      "text/plain": [
       "<Figure size 432x288 with 1 Axes>"
      ]
     },
     "metadata": {
      "needs_background": "light"
     },
     "output_type": "display_data"
    }
   ],
   "source": [
    "dataset_users['tariff'].value_counts().plot(kind='barh').set_title('Гистограмма распределения пользователей по тарифам')"
   ]
  },
  {
   "cell_type": "markdown",
   "metadata": {},
   "source": [
    "Почти 70 % пользователей из выборки выбрали тариф smart."
   ]
  },
  {
   "cell_type": "markdown",
   "metadata": {},
   "source": [
    "Посчитаем перерасход пользователей по минутам, смс и ГБ и узнаем сколько каждый пользователь платит выше абонентской платы:"
   ]
  },
  {
   "cell_type": "markdown",
   "metadata": {},
   "source": [
    "<class 'pandas.core.frame.DataFrame'>\n",
    "RangeIndex: 3214 entries, 0 to 3213\n",
    "Data columns (total 8 columns):\n",
    "user_id    3214 non-null int64\n",
    "month      3214 non-null int64\n",
    "tariff     3214 non-null object\n",
    "count      3174 non-null float64\n",
    "sum        3174 non-null float64\n",
    "sms        2717 non-null float64\n",
    "mb_used    3203 non-null float64\n",
    "price      3214 non-null int64"
   ]
  },
  {
   "cell_type": "code",
   "execution_count": 148,
   "metadata": {},
   "outputs": [],
   "source": [
    "def calls_over(row):\n",
    "    if row['tariff'] == 'smart':\n",
    "        result = row['sum'] - 500\n",
    "        return np.where(result > 0, result, 0)\n",
    "    else:\n",
    "        result = row['sum'] - 3000\n",
    "        return np.where(result > 0, result, 0)\n",
    "    \n",
    "    \n",
    "def sms_over(row):\n",
    "    if row['tariff'] == 'smart':\n",
    "        result = row['sms'] - 50\n",
    "        return np.where(result > 0, result, 0)\n",
    "    else:\n",
    "        result =  row['sms'] - 1000\n",
    "        return np.where(result > 0, result, 0)\n",
    "    \n",
    "\n",
    "def internet_over(row):\n",
    "    if row['tariff'] == 'smart':\n",
    "        result = row['mb_used'] - 15 * 1024\n",
    "        return np.where(result > 0, result, 0)\n",
    "    else:\n",
    "        result = row['mb_used'] - 30 * 1024\n",
    "        return np.where(result > 0, result, 0)\n",
    "    \n",
    "    \n",
    "def month_over(row):\n",
    "    sum_over_month = 0\n",
    "    if row['tariff'] == 'smart':\n",
    "        sum_over_month += row['sum_over'] * 3\n",
    "        sum_over_month += row['smska_over'] * 3\n",
    "        sum_over_month += np.ceil(row['mb_over']/1024) * 200\n",
    "        return sum_over_month\n",
    "    \n",
    "    else:\n",
    "        sum_over_month += row['sum_over'] * 1\n",
    "        sum_over_month += row['smska_over'] * 1\n",
    "        sum_over_month += np.ceil(row['mb_over']/1024) * 150\n",
    "        return sum_over_month"
   ]
  },
  {
   "cell_type": "code",
   "execution_count": 149,
   "metadata": {},
   "outputs": [
    {
     "data": {
      "text/html": [
       "<div>\n",
       "<style scoped>\n",
       "    .dataframe tbody tr th:only-of-type {\n",
       "        vertical-align: middle;\n",
       "    }\n",
       "\n",
       "    .dataframe tbody tr th {\n",
       "        vertical-align: top;\n",
       "    }\n",
       "\n",
       "    .dataframe thead th {\n",
       "        text-align: right;\n",
       "    }\n",
       "</style>\n",
       "<table border=\"1\" class=\"dataframe\">\n",
       "  <thead>\n",
       "    <tr style=\"text-align: right;\">\n",
       "      <th></th>\n",
       "      <th>user_id</th>\n",
       "      <th>month</th>\n",
       "      <th>tariff</th>\n",
       "      <th>count</th>\n",
       "      <th>sum</th>\n",
       "      <th>sms</th>\n",
       "      <th>mb_used</th>\n",
       "      <th>sum_over</th>\n",
       "      <th>smska_over</th>\n",
       "      <th>mb_over</th>\n",
       "      <th>over_price</th>\n",
       "    </tr>\n",
       "  </thead>\n",
       "  <tbody>\n",
       "    <tr>\n",
       "      <th>2217</th>\n",
       "      <td>1352</td>\n",
       "      <td>6</td>\n",
       "      <td>ultra</td>\n",
       "      <td>110.0</td>\n",
       "      <td>805.0</td>\n",
       "      <td>9.0</td>\n",
       "      <td>20790.91</td>\n",
       "      <td>0.0</td>\n",
       "      <td>0.0</td>\n",
       "      <td>0.0</td>\n",
       "      <td>0</td>\n",
       "    </tr>\n",
       "    <tr>\n",
       "      <th>590</th>\n",
       "      <td>1093</td>\n",
       "      <td>11</td>\n",
       "      <td>smart</td>\n",
       "      <td>119.0</td>\n",
       "      <td>843.0</td>\n",
       "      <td>76.0</td>\n",
       "      <td>18735.08</td>\n",
       "      <td>343.0</td>\n",
       "      <td>26.0</td>\n",
       "      <td>3375.079999999998</td>\n",
       "      <td>1907</td>\n",
       "    </tr>\n",
       "    <tr>\n",
       "      <th>107</th>\n",
       "      <td>1014</td>\n",
       "      <td>12</td>\n",
       "      <td>smart</td>\n",
       "      <td>32.0</td>\n",
       "      <td>175.0</td>\n",
       "      <td>53.0</td>\n",
       "      <td>25420.71</td>\n",
       "      <td>0.0</td>\n",
       "      <td>3.0</td>\n",
       "      <td>10060.71</td>\n",
       "      <td>2009</td>\n",
       "    </tr>\n",
       "    <tr>\n",
       "      <th>1804</th>\n",
       "      <td>1284</td>\n",
       "      <td>11</td>\n",
       "      <td>smart</td>\n",
       "      <td>60.0</td>\n",
       "      <td>407.0</td>\n",
       "      <td>42.0</td>\n",
       "      <td>19499.52</td>\n",
       "      <td>0.0</td>\n",
       "      <td>0.0</td>\n",
       "      <td>4139.52</td>\n",
       "      <td>1000</td>\n",
       "    </tr>\n",
       "    <tr>\n",
       "      <th>889</th>\n",
       "      <td>1142</td>\n",
       "      <td>10</td>\n",
       "      <td>smart</td>\n",
       "      <td>60.0</td>\n",
       "      <td>457.0</td>\n",
       "      <td>44.0</td>\n",
       "      <td>20860.79</td>\n",
       "      <td>0.0</td>\n",
       "      <td>0.0</td>\n",
       "      <td>5500.790000000001</td>\n",
       "      <td>1200</td>\n",
       "    </tr>\n",
       "    <tr>\n",
       "      <th>2757</th>\n",
       "      <td>1429</td>\n",
       "      <td>3</td>\n",
       "      <td>smart</td>\n",
       "      <td>47.0</td>\n",
       "      <td>357.0</td>\n",
       "      <td>NaN</td>\n",
       "      <td>23721.07</td>\n",
       "      <td>0.0</td>\n",
       "      <td>0.0</td>\n",
       "      <td>8361.07</td>\n",
       "      <td>1800</td>\n",
       "    </tr>\n",
       "    <tr>\n",
       "      <th>3204</th>\n",
       "      <td>1497</td>\n",
       "      <td>11</td>\n",
       "      <td>smart</td>\n",
       "      <td>64.0</td>\n",
       "      <td>371.0</td>\n",
       "      <td>14.0</td>\n",
       "      <td>14156.08</td>\n",
       "      <td>0.0</td>\n",
       "      <td>0.0</td>\n",
       "      <td>0.0</td>\n",
       "      <td>0</td>\n",
       "    </tr>\n",
       "    <tr>\n",
       "      <th>2908</th>\n",
       "      <td>1454</td>\n",
       "      <td>7</td>\n",
       "      <td>smart</td>\n",
       "      <td>77.0</td>\n",
       "      <td>520.0</td>\n",
       "      <td>28.0</td>\n",
       "      <td>15346.11</td>\n",
       "      <td>20.0</td>\n",
       "      <td>0.0</td>\n",
       "      <td>0.0</td>\n",
       "      <td>60</td>\n",
       "    </tr>\n",
       "    <tr>\n",
       "      <th>2525</th>\n",
       "      <td>1394</td>\n",
       "      <td>7</td>\n",
       "      <td>smart</td>\n",
       "      <td>63.0</td>\n",
       "      <td>455.0</td>\n",
       "      <td>6.0</td>\n",
       "      <td>7104.38</td>\n",
       "      <td>0.0</td>\n",
       "      <td>0.0</td>\n",
       "      <td>0.0</td>\n",
       "      <td>0</td>\n",
       "    </tr>\n",
       "    <tr>\n",
       "      <th>137</th>\n",
       "      <td>1019</td>\n",
       "      <td>6</td>\n",
       "      <td>ultra</td>\n",
       "      <td>52.0</td>\n",
       "      <td>386.0</td>\n",
       "      <td>25.0</td>\n",
       "      <td>22201.17</td>\n",
       "      <td>0.0</td>\n",
       "      <td>0.0</td>\n",
       "      <td>0.0</td>\n",
       "      <td>0</td>\n",
       "    </tr>\n",
       "    <tr>\n",
       "      <th>1666</th>\n",
       "      <td>1263</td>\n",
       "      <td>12</td>\n",
       "      <td>smart</td>\n",
       "      <td>93.0</td>\n",
       "      <td>755.0</td>\n",
       "      <td>11.0</td>\n",
       "      <td>17723.57</td>\n",
       "      <td>255.0</td>\n",
       "      <td>0.0</td>\n",
       "      <td>2363.5699999999997</td>\n",
       "      <td>1365</td>\n",
       "    </tr>\n",
       "    <tr>\n",
       "      <th>1957</th>\n",
       "      <td>1308</td>\n",
       "      <td>10</td>\n",
       "      <td>smart</td>\n",
       "      <td>32.0</td>\n",
       "      <td>243.0</td>\n",
       "      <td>35.0</td>\n",
       "      <td>13460.49</td>\n",
       "      <td>0.0</td>\n",
       "      <td>0.0</td>\n",
       "      <td>0.0</td>\n",
       "      <td>0</td>\n",
       "    </tr>\n",
       "    <tr>\n",
       "      <th>670</th>\n",
       "      <td>1105</td>\n",
       "      <td>12</td>\n",
       "      <td>smart</td>\n",
       "      <td>47.0</td>\n",
       "      <td>270.0</td>\n",
       "      <td>82.0</td>\n",
       "      <td>25562.09</td>\n",
       "      <td>0.0</td>\n",
       "      <td>32.0</td>\n",
       "      <td>10202.09</td>\n",
       "      <td>2096</td>\n",
       "    </tr>\n",
       "    <tr>\n",
       "      <th>1932</th>\n",
       "      <td>1303</td>\n",
       "      <td>12</td>\n",
       "      <td>ultra</td>\n",
       "      <td>74.0</td>\n",
       "      <td>580.0</td>\n",
       "      <td>27.0</td>\n",
       "      <td>18349.97</td>\n",
       "      <td>0.0</td>\n",
       "      <td>0.0</td>\n",
       "      <td>0.0</td>\n",
       "      <td>0</td>\n",
       "    </tr>\n",
       "    <tr>\n",
       "      <th>1730</th>\n",
       "      <td>1274</td>\n",
       "      <td>5</td>\n",
       "      <td>smart</td>\n",
       "      <td>69.0</td>\n",
       "      <td>493.0</td>\n",
       "      <td>69.0</td>\n",
       "      <td>16226.63</td>\n",
       "      <td>0.0</td>\n",
       "      <td>19.0</td>\n",
       "      <td>866.6299999999992</td>\n",
       "      <td>257</td>\n",
       "    </tr>\n",
       "    <tr>\n",
       "      <th>1463</th>\n",
       "      <td>1228</td>\n",
       "      <td>9</td>\n",
       "      <td>smart</td>\n",
       "      <td>64.0</td>\n",
       "      <td>428.0</td>\n",
       "      <td>NaN</td>\n",
       "      <td>11460.21</td>\n",
       "      <td>0.0</td>\n",
       "      <td>0.0</td>\n",
       "      <td>0.0</td>\n",
       "      <td>0</td>\n",
       "    </tr>\n",
       "    <tr>\n",
       "      <th>282</th>\n",
       "      <td>1045</td>\n",
       "      <td>8</td>\n",
       "      <td>smart</td>\n",
       "      <td>34.0</td>\n",
       "      <td>222.0</td>\n",
       "      <td>63.0</td>\n",
       "      <td>23026.27</td>\n",
       "      <td>0.0</td>\n",
       "      <td>13.0</td>\n",
       "      <td>7666.27</td>\n",
       "      <td>1639</td>\n",
       "    </tr>\n",
       "    <tr>\n",
       "      <th>947</th>\n",
       "      <td>1149</td>\n",
       "      <td>10</td>\n",
       "      <td>smart</td>\n",
       "      <td>35.0</td>\n",
       "      <td>261.0</td>\n",
       "      <td>77.0</td>\n",
       "      <td>21368.45</td>\n",
       "      <td>0.0</td>\n",
       "      <td>27.0</td>\n",
       "      <td>6008.450000000001</td>\n",
       "      <td>1281</td>\n",
       "    </tr>\n",
       "    <tr>\n",
       "      <th>3177</th>\n",
       "      <td>1492</td>\n",
       "      <td>11</td>\n",
       "      <td>smart</td>\n",
       "      <td>81.0</td>\n",
       "      <td>510.0</td>\n",
       "      <td>13.0</td>\n",
       "      <td>17081.38</td>\n",
       "      <td>10.0</td>\n",
       "      <td>0.0</td>\n",
       "      <td>1721.380000000001</td>\n",
       "      <td>430</td>\n",
       "    </tr>\n",
       "    <tr>\n",
       "      <th>721</th>\n",
       "      <td>1113</td>\n",
       "      <td>9</td>\n",
       "      <td>smart</td>\n",
       "      <td>96.0</td>\n",
       "      <td>638.0</td>\n",
       "      <td>37.0</td>\n",
       "      <td>12569.35</td>\n",
       "      <td>138.0</td>\n",
       "      <td>0.0</td>\n",
       "      <td>0.0</td>\n",
       "      <td>414</td>\n",
       "    </tr>\n",
       "  </tbody>\n",
       "</table>\n",
       "</div>"
      ],
      "text/plain": [
       "      user_id  month tariff  count    sum   sms   mb_used sum_over smska_over  \\\n",
       "2217     1352      6  ultra  110.0  805.0   9.0  20790.91      0.0        0.0   \n",
       "590      1093     11  smart  119.0  843.0  76.0  18735.08    343.0       26.0   \n",
       "107      1014     12  smart   32.0  175.0  53.0  25420.71      0.0        3.0   \n",
       "1804     1284     11  smart   60.0  407.0  42.0  19499.52      0.0        0.0   \n",
       "889      1142     10  smart   60.0  457.0  44.0  20860.79      0.0        0.0   \n",
       "2757     1429      3  smart   47.0  357.0   NaN  23721.07      0.0        0.0   \n",
       "3204     1497     11  smart   64.0  371.0  14.0  14156.08      0.0        0.0   \n",
       "2908     1454      7  smart   77.0  520.0  28.0  15346.11     20.0        0.0   \n",
       "2525     1394      7  smart   63.0  455.0   6.0   7104.38      0.0        0.0   \n",
       "137      1019      6  ultra   52.0  386.0  25.0  22201.17      0.0        0.0   \n",
       "1666     1263     12  smart   93.0  755.0  11.0  17723.57    255.0        0.0   \n",
       "1957     1308     10  smart   32.0  243.0  35.0  13460.49      0.0        0.0   \n",
       "670      1105     12  smart   47.0  270.0  82.0  25562.09      0.0       32.0   \n",
       "1932     1303     12  ultra   74.0  580.0  27.0  18349.97      0.0        0.0   \n",
       "1730     1274      5  smart   69.0  493.0  69.0  16226.63      0.0       19.0   \n",
       "1463     1228      9  smart   64.0  428.0   NaN  11460.21      0.0        0.0   \n",
       "282      1045      8  smart   34.0  222.0  63.0  23026.27      0.0       13.0   \n",
       "947      1149     10  smart   35.0  261.0  77.0  21368.45      0.0       27.0   \n",
       "3177     1492     11  smart   81.0  510.0  13.0  17081.38     10.0        0.0   \n",
       "721      1113      9  smart   96.0  638.0  37.0  12569.35    138.0        0.0   \n",
       "\n",
       "                 mb_over  over_price  \n",
       "2217                 0.0           0  \n",
       "590    3375.079999999998        1907  \n",
       "107             10060.71        2009  \n",
       "1804             4139.52        1000  \n",
       "889    5500.790000000001        1200  \n",
       "2757             8361.07        1800  \n",
       "3204                 0.0           0  \n",
       "2908                 0.0          60  \n",
       "2525                 0.0           0  \n",
       "137                  0.0           0  \n",
       "1666  2363.5699999999997        1365  \n",
       "1957                 0.0           0  \n",
       "670             10202.09        2096  \n",
       "1932                 0.0           0  \n",
       "1730   866.6299999999992         257  \n",
       "1463                 0.0           0  \n",
       "282              7666.27        1639  \n",
       "947    6008.450000000001        1281  \n",
       "3177   1721.380000000001         430  \n",
       "721                  0.0         414  "
      ]
     },
     "execution_count": 149,
     "metadata": {},
     "output_type": "execute_result"
    }
   ],
   "source": [
    "dataset['sum_over'] = dataset.apply(calls_over, axis=1)\n",
    "dataset['smska_over'] = dataset.apply(sms_over, axis=1)\n",
    "dataset['mb_over'] = dataset.apply(internet_over, axis=1)\n",
    "dataset['over_price'] = dataset.apply(month_over, axis=1).astype('int')\n",
    "dataset.sample(20)"
   ]
  },
  {
   "cell_type": "markdown",
   "metadata": {},
   "source": [
    "Добавим столбец о наличии переплаты:"
   ]
  },
  {
   "cell_type": "code",
   "execution_count": 150,
   "metadata": {},
   "outputs": [
    {
     "data": {
      "text/html": [
       "<div>\n",
       "<style scoped>\n",
       "    .dataframe tbody tr th:only-of-type {\n",
       "        vertical-align: middle;\n",
       "    }\n",
       "\n",
       "    .dataframe tbody tr th {\n",
       "        vertical-align: top;\n",
       "    }\n",
       "\n",
       "    .dataframe thead th {\n",
       "        text-align: right;\n",
       "    }\n",
       "</style>\n",
       "<table border=\"1\" class=\"dataframe\">\n",
       "  <thead>\n",
       "    <tr style=\"text-align: right;\">\n",
       "      <th></th>\n",
       "      <th>user_id</th>\n",
       "      <th>month</th>\n",
       "      <th>tariff</th>\n",
       "      <th>count</th>\n",
       "      <th>sum</th>\n",
       "      <th>sms</th>\n",
       "      <th>mb_used</th>\n",
       "      <th>sum_over</th>\n",
       "      <th>smska_over</th>\n",
       "      <th>mb_over</th>\n",
       "      <th>over_price</th>\n",
       "      <th>over_price_id</th>\n",
       "      <th>over_price_name</th>\n",
       "    </tr>\n",
       "  </thead>\n",
       "  <tbody>\n",
       "    <tr>\n",
       "      <th>2724</th>\n",
       "      <td>1424</td>\n",
       "      <td>11</td>\n",
       "      <td>ultra</td>\n",
       "      <td>6.0</td>\n",
       "      <td>16.0</td>\n",
       "      <td>83.0</td>\n",
       "      <td>17145.74</td>\n",
       "      <td>0.0</td>\n",
       "      <td>0.0</td>\n",
       "      <td>0.0</td>\n",
       "      <td>0</td>\n",
       "      <td>0</td>\n",
       "      <td>нет переплаты</td>\n",
       "    </tr>\n",
       "    <tr>\n",
       "      <th>2764</th>\n",
       "      <td>1429</td>\n",
       "      <td>10</td>\n",
       "      <td>smart</td>\n",
       "      <td>39.0</td>\n",
       "      <td>261.0</td>\n",
       "      <td>NaN</td>\n",
       "      <td>19998.68</td>\n",
       "      <td>0.0</td>\n",
       "      <td>0.0</td>\n",
       "      <td>4638.68</td>\n",
       "      <td>1000</td>\n",
       "      <td>1</td>\n",
       "      <td>есть переплата</td>\n",
       "    </tr>\n",
       "    <tr>\n",
       "      <th>1230</th>\n",
       "      <td>1190</td>\n",
       "      <td>12</td>\n",
       "      <td>smart</td>\n",
       "      <td>66.0</td>\n",
       "      <td>445.0</td>\n",
       "      <td>20.0</td>\n",
       "      <td>12049.42</td>\n",
       "      <td>0.0</td>\n",
       "      <td>0.0</td>\n",
       "      <td>0.0</td>\n",
       "      <td>0</td>\n",
       "      <td>0</td>\n",
       "      <td>нет переплаты</td>\n",
       "    </tr>\n",
       "    <tr>\n",
       "      <th>2991</th>\n",
       "      <td>1466</td>\n",
       "      <td>4</td>\n",
       "      <td>ultra</td>\n",
       "      <td>73.0</td>\n",
       "      <td>453.0</td>\n",
       "      <td>NaN</td>\n",
       "      <td>21436.37</td>\n",
       "      <td>0.0</td>\n",
       "      <td>0.0</td>\n",
       "      <td>0.0</td>\n",
       "      <td>0</td>\n",
       "      <td>0</td>\n",
       "      <td>нет переплаты</td>\n",
       "    </tr>\n",
       "    <tr>\n",
       "      <th>229</th>\n",
       "      <td>1035</td>\n",
       "      <td>11</td>\n",
       "      <td>smart</td>\n",
       "      <td>44.0</td>\n",
       "      <td>303.0</td>\n",
       "      <td>51.0</td>\n",
       "      <td>11816.84</td>\n",
       "      <td>0.0</td>\n",
       "      <td>1.0</td>\n",
       "      <td>0.0</td>\n",
       "      <td>3</td>\n",
       "      <td>1</td>\n",
       "      <td>есть переплата</td>\n",
       "    </tr>\n",
       "    <tr>\n",
       "      <th>1764</th>\n",
       "      <td>1279</td>\n",
       "      <td>10</td>\n",
       "      <td>smart</td>\n",
       "      <td>73.0</td>\n",
       "      <td>516.0</td>\n",
       "      <td>1.0</td>\n",
       "      <td>13779.41</td>\n",
       "      <td>16.0</td>\n",
       "      <td>0.0</td>\n",
       "      <td>0.0</td>\n",
       "      <td>48</td>\n",
       "      <td>1</td>\n",
       "      <td>есть переплата</td>\n",
       "    </tr>\n",
       "    <tr>\n",
       "      <th>2438</th>\n",
       "      <td>1382</td>\n",
       "      <td>6</td>\n",
       "      <td>ultra</td>\n",
       "      <td>98.0</td>\n",
       "      <td>681.0</td>\n",
       "      <td>74.0</td>\n",
       "      <td>7844.43</td>\n",
       "      <td>0.0</td>\n",
       "      <td>0.0</td>\n",
       "      <td>0.0</td>\n",
       "      <td>0</td>\n",
       "      <td>0</td>\n",
       "      <td>нет переплаты</td>\n",
       "    </tr>\n",
       "    <tr>\n",
       "      <th>663</th>\n",
       "      <td>1104</td>\n",
       "      <td>9</td>\n",
       "      <td>ultra</td>\n",
       "      <td>55.0</td>\n",
       "      <td>451.0</td>\n",
       "      <td>85.0</td>\n",
       "      <td>15961.95</td>\n",
       "      <td>0.0</td>\n",
       "      <td>0.0</td>\n",
       "      <td>0.0</td>\n",
       "      <td>0</td>\n",
       "      <td>0</td>\n",
       "      <td>нет переплаты</td>\n",
       "    </tr>\n",
       "    <tr>\n",
       "      <th>2534</th>\n",
       "      <td>1395</td>\n",
       "      <td>4</td>\n",
       "      <td>smart</td>\n",
       "      <td>81.0</td>\n",
       "      <td>657.0</td>\n",
       "      <td>37.0</td>\n",
       "      <td>18603.33</td>\n",
       "      <td>157.0</td>\n",
       "      <td>0.0</td>\n",
       "      <td>3243.3300000000017</td>\n",
       "      <td>1271</td>\n",
       "      <td>1</td>\n",
       "      <td>есть переплата</td>\n",
       "    </tr>\n",
       "    <tr>\n",
       "      <th>84</th>\n",
       "      <td>1011</td>\n",
       "      <td>9</td>\n",
       "      <td>smart</td>\n",
       "      <td>65.0</td>\n",
       "      <td>472.0</td>\n",
       "      <td>10.0</td>\n",
       "      <td>21739.69</td>\n",
       "      <td>0.0</td>\n",
       "      <td>0.0</td>\n",
       "      <td>6379.689999999999</td>\n",
       "      <td>1400</td>\n",
       "      <td>1</td>\n",
       "      <td>есть переплата</td>\n",
       "    </tr>\n",
       "    <tr>\n",
       "      <th>1731</th>\n",
       "      <td>1274</td>\n",
       "      <td>6</td>\n",
       "      <td>smart</td>\n",
       "      <td>54.0</td>\n",
       "      <td>432.0</td>\n",
       "      <td>85.0</td>\n",
       "      <td>15291.88</td>\n",
       "      <td>0.0</td>\n",
       "      <td>35.0</td>\n",
       "      <td>0.0</td>\n",
       "      <td>105</td>\n",
       "      <td>1</td>\n",
       "      <td>есть переплата</td>\n",
       "    </tr>\n",
       "    <tr>\n",
       "      <th>2943</th>\n",
       "      <td>1458</td>\n",
       "      <td>6</td>\n",
       "      <td>ultra</td>\n",
       "      <td>100.0</td>\n",
       "      <td>781.0</td>\n",
       "      <td>4.0</td>\n",
       "      <td>11412.69</td>\n",
       "      <td>0.0</td>\n",
       "      <td>0.0</td>\n",
       "      <td>0.0</td>\n",
       "      <td>0</td>\n",
       "      <td>0</td>\n",
       "      <td>нет переплаты</td>\n",
       "    </tr>\n",
       "    <tr>\n",
       "      <th>2343</th>\n",
       "      <td>1372</td>\n",
       "      <td>10</td>\n",
       "      <td>smart</td>\n",
       "      <td>60.0</td>\n",
       "      <td>437.0</td>\n",
       "      <td>40.0</td>\n",
       "      <td>11053.50</td>\n",
       "      <td>0.0</td>\n",
       "      <td>0.0</td>\n",
       "      <td>0.0</td>\n",
       "      <td>0</td>\n",
       "      <td>0</td>\n",
       "      <td>нет переплаты</td>\n",
       "    </tr>\n",
       "    <tr>\n",
       "      <th>309</th>\n",
       "      <td>1049</td>\n",
       "      <td>12</td>\n",
       "      <td>ultra</td>\n",
       "      <td>108.0</td>\n",
       "      <td>822.0</td>\n",
       "      <td>NaN</td>\n",
       "      <td>8069.95</td>\n",
       "      <td>0.0</td>\n",
       "      <td>0.0</td>\n",
       "      <td>0.0</td>\n",
       "      <td>0</td>\n",
       "      <td>0</td>\n",
       "      <td>нет переплаты</td>\n",
       "    </tr>\n",
       "    <tr>\n",
       "      <th>2511</th>\n",
       "      <td>1393</td>\n",
       "      <td>5</td>\n",
       "      <td>smart</td>\n",
       "      <td>85.0</td>\n",
       "      <td>574.0</td>\n",
       "      <td>66.0</td>\n",
       "      <td>19989.17</td>\n",
       "      <td>74.0</td>\n",
       "      <td>16.0</td>\n",
       "      <td>4629.169999999998</td>\n",
       "      <td>1270</td>\n",
       "      <td>1</td>\n",
       "      <td>есть переплата</td>\n",
       "    </tr>\n",
       "    <tr>\n",
       "      <th>1527</th>\n",
       "      <td>1240</td>\n",
       "      <td>11</td>\n",
       "      <td>ultra</td>\n",
       "      <td>53.0</td>\n",
       "      <td>383.0</td>\n",
       "      <td>NaN</td>\n",
       "      <td>32581.10</td>\n",
       "      <td>0.0</td>\n",
       "      <td>0.0</td>\n",
       "      <td>1861.0999999999985</td>\n",
       "      <td>300</td>\n",
       "      <td>1</td>\n",
       "      <td>есть переплата</td>\n",
       "    </tr>\n",
       "    <tr>\n",
       "      <th>1385</th>\n",
       "      <td>1217</td>\n",
       "      <td>10</td>\n",
       "      <td>smart</td>\n",
       "      <td>69.0</td>\n",
       "      <td>463.0</td>\n",
       "      <td>74.0</td>\n",
       "      <td>14727.28</td>\n",
       "      <td>0.0</td>\n",
       "      <td>24.0</td>\n",
       "      <td>0.0</td>\n",
       "      <td>72</td>\n",
       "      <td>1</td>\n",
       "      <td>есть переплата</td>\n",
       "    </tr>\n",
       "    <tr>\n",
       "      <th>632</th>\n",
       "      <td>1099</td>\n",
       "      <td>11</td>\n",
       "      <td>ultra</td>\n",
       "      <td>88.0</td>\n",
       "      <td>579.0</td>\n",
       "      <td>43.0</td>\n",
       "      <td>16868.59</td>\n",
       "      <td>0.0</td>\n",
       "      <td>0.0</td>\n",
       "      <td>0.0</td>\n",
       "      <td>0</td>\n",
       "      <td>0</td>\n",
       "      <td>нет переплаты</td>\n",
       "    </tr>\n",
       "    <tr>\n",
       "      <th>2192</th>\n",
       "      <td>1345</td>\n",
       "      <td>9</td>\n",
       "      <td>smart</td>\n",
       "      <td>40.0</td>\n",
       "      <td>284.0</td>\n",
       "      <td>2.0</td>\n",
       "      <td>13934.49</td>\n",
       "      <td>0.0</td>\n",
       "      <td>0.0</td>\n",
       "      <td>0.0</td>\n",
       "      <td>0</td>\n",
       "      <td>0</td>\n",
       "      <td>нет переплаты</td>\n",
       "    </tr>\n",
       "    <tr>\n",
       "      <th>709</th>\n",
       "      <td>1112</td>\n",
       "      <td>9</td>\n",
       "      <td>smart</td>\n",
       "      <td>66.0</td>\n",
       "      <td>466.0</td>\n",
       "      <td>85.0</td>\n",
       "      <td>14264.05</td>\n",
       "      <td>0.0</td>\n",
       "      <td>35.0</td>\n",
       "      <td>0.0</td>\n",
       "      <td>105</td>\n",
       "      <td>1</td>\n",
       "      <td>есть переплата</td>\n",
       "    </tr>\n",
       "  </tbody>\n",
       "</table>\n",
       "</div>"
      ],
      "text/plain": [
       "      user_id  month tariff  count    sum   sms   mb_used sum_over smska_over  \\\n",
       "2724     1424     11  ultra    6.0   16.0  83.0  17145.74      0.0        0.0   \n",
       "2764     1429     10  smart   39.0  261.0   NaN  19998.68      0.0        0.0   \n",
       "1230     1190     12  smart   66.0  445.0  20.0  12049.42      0.0        0.0   \n",
       "2991     1466      4  ultra   73.0  453.0   NaN  21436.37      0.0        0.0   \n",
       "229      1035     11  smart   44.0  303.0  51.0  11816.84      0.0        1.0   \n",
       "1764     1279     10  smart   73.0  516.0   1.0  13779.41     16.0        0.0   \n",
       "2438     1382      6  ultra   98.0  681.0  74.0   7844.43      0.0        0.0   \n",
       "663      1104      9  ultra   55.0  451.0  85.0  15961.95      0.0        0.0   \n",
       "2534     1395      4  smart   81.0  657.0  37.0  18603.33    157.0        0.0   \n",
       "84       1011      9  smart   65.0  472.0  10.0  21739.69      0.0        0.0   \n",
       "1731     1274      6  smart   54.0  432.0  85.0  15291.88      0.0       35.0   \n",
       "2943     1458      6  ultra  100.0  781.0   4.0  11412.69      0.0        0.0   \n",
       "2343     1372     10  smart   60.0  437.0  40.0  11053.50      0.0        0.0   \n",
       "309      1049     12  ultra  108.0  822.0   NaN   8069.95      0.0        0.0   \n",
       "2511     1393      5  smart   85.0  574.0  66.0  19989.17     74.0       16.0   \n",
       "1527     1240     11  ultra   53.0  383.0   NaN  32581.10      0.0        0.0   \n",
       "1385     1217     10  smart   69.0  463.0  74.0  14727.28      0.0       24.0   \n",
       "632      1099     11  ultra   88.0  579.0  43.0  16868.59      0.0        0.0   \n",
       "2192     1345      9  smart   40.0  284.0   2.0  13934.49      0.0        0.0   \n",
       "709      1112      9  smart   66.0  466.0  85.0  14264.05      0.0       35.0   \n",
       "\n",
       "                 mb_over  over_price over_price_id over_price_name  \n",
       "2724                 0.0           0             0   нет переплаты  \n",
       "2764             4638.68        1000             1  есть переплата  \n",
       "1230                 0.0           0             0   нет переплаты  \n",
       "2991                 0.0           0             0   нет переплаты  \n",
       "229                  0.0           3             1  есть переплата  \n",
       "1764                 0.0          48             1  есть переплата  \n",
       "2438                 0.0           0             0   нет переплаты  \n",
       "663                  0.0           0             0   нет переплаты  \n",
       "2534  3243.3300000000017        1271             1  есть переплата  \n",
       "84     6379.689999999999        1400             1  есть переплата  \n",
       "1731                 0.0         105             1  есть переплата  \n",
       "2943                 0.0           0             0   нет переплаты  \n",
       "2343                 0.0           0             0   нет переплаты  \n",
       "309                  0.0           0             0   нет переплаты  \n",
       "2511   4629.169999999998        1270             1  есть переплата  \n",
       "1527  1861.0999999999985         300             1  есть переплата  \n",
       "1385                 0.0          72             1  есть переплата  \n",
       "632                  0.0           0             0   нет переплаты  \n",
       "2192                 0.0           0             0   нет переплаты  \n",
       "709                  0.0         105             1  есть переплата  "
      ]
     },
     "execution_count": 150,
     "metadata": {},
     "output_type": "execute_result"
    }
   ],
   "source": [
    "def over_price_id_def(row):\n",
    "    over_price = row['over_price']\n",
    "    if over_price == 0:\n",
    "            return '0'\n",
    "    if over_price > 0:\n",
    "            return '1'\n",
    "dataset['over_price_id']=dataset.apply(over_price_id_def, axis=1)\n",
    "\n",
    "def over_price_def(row):\n",
    "    over_price = row['over_price']\n",
    "    if over_price == 0:\n",
    "            return 'нет переплаты'\n",
    "    if over_price > 0:\n",
    "            return 'есть переплата'\n",
    "dataset['over_price_name']=dataset.apply(over_price_def, axis=1)\n",
    "dataset.sample(20)\n"
   ]
  },
  {
   "cell_type": "code",
   "execution_count": 151,
   "metadata": {},
   "outputs": [
    {
     "data": {
      "text/html": [
       "<div>\n",
       "<style scoped>\n",
       "    .dataframe tbody tr th:only-of-type {\n",
       "        vertical-align: middle;\n",
       "    }\n",
       "\n",
       "    .dataframe tbody tr th {\n",
       "        vertical-align: top;\n",
       "    }\n",
       "\n",
       "    .dataframe thead th {\n",
       "        text-align: right;\n",
       "    }\n",
       "</style>\n",
       "<table border=\"1\" class=\"dataframe\">\n",
       "  <thead>\n",
       "    <tr style=\"text-align: right;\">\n",
       "      <th>over_price_name</th>\n",
       "      <th>есть переплата</th>\n",
       "      <th>нет переплаты</th>\n",
       "      <th>percent</th>\n",
       "    </tr>\n",
       "    <tr>\n",
       "      <th>tariff</th>\n",
       "      <th></th>\n",
       "      <th></th>\n",
       "      <th></th>\n",
       "    </tr>\n",
       "  </thead>\n",
       "  <tbody>\n",
       "    <tr>\n",
       "      <th>smart</th>\n",
       "      <td>1662</td>\n",
       "      <td>567</td>\n",
       "      <td>74.562584</td>\n",
       "    </tr>\n",
       "    <tr>\n",
       "      <th>ultra</th>\n",
       "      <td>134</td>\n",
       "      <td>851</td>\n",
       "      <td>13.604061</td>\n",
       "    </tr>\n",
       "  </tbody>\n",
       "</table>\n",
       "</div>"
      ],
      "text/plain": [
       "over_price_name  есть переплата  нет переплаты    percent\n",
       "tariff                                                   \n",
       "smart                      1662            567  74.562584\n",
       "ultra                       134            851  13.604061"
      ]
     },
     "metadata": {},
     "output_type": "display_data"
    }
   ],
   "source": [
    "pivot_dataset_over=pd.pivot_table(dataset,index=['tariff'], columns='over_price_name', values='over_price_id', aggfunc='count')\n",
    "pivot_dataset_over['percent'] = pivot_dataset_over['есть переплата'] / (pivot_dataset_over['есть переплата'] \n",
    "                                + pivot_dataset_over['нет переплаты']) * 100\n",
    "display(pivot_dataset_over)"
   ]
  },
  {
   "cell_type": "markdown",
   "metadata": {},
   "source": [
    "Получается, что 73 % пользователям тарифа smart не хватает включенных в пакет услуг и они всегда заказывают доп услуги. А вот пользователи тарифом ultra переплачивают только в 13% случаев."
   ]
  },
  {
   "cell_type": "markdown",
   "metadata": {},
   "source": [
    "Посчитаем помесяную выручку с каждого пользователя:"
   ]
  },
  {
   "cell_type": "code",
   "execution_count": 152,
   "metadata": {},
   "outputs": [
    {
     "data": {
      "text/html": [
       "<div>\n",
       "<style scoped>\n",
       "    .dataframe tbody tr th:only-of-type {\n",
       "        vertical-align: middle;\n",
       "    }\n",
       "\n",
       "    .dataframe tbody tr th {\n",
       "        vertical-align: top;\n",
       "    }\n",
       "\n",
       "    .dataframe thead th {\n",
       "        text-align: right;\n",
       "    }\n",
       "</style>\n",
       "<table border=\"1\" class=\"dataframe\">\n",
       "  <thead>\n",
       "    <tr style=\"text-align: right;\">\n",
       "      <th></th>\n",
       "      <th>user_id</th>\n",
       "      <th>month</th>\n",
       "      <th>tariff</th>\n",
       "      <th>count</th>\n",
       "      <th>sum</th>\n",
       "      <th>sms</th>\n",
       "      <th>mb_used</th>\n",
       "      <th>sum_over</th>\n",
       "      <th>smska_over</th>\n",
       "      <th>mb_over</th>\n",
       "      <th>over_price</th>\n",
       "      <th>over_price_id</th>\n",
       "      <th>over_price_name</th>\n",
       "      <th>proceeds</th>\n",
       "    </tr>\n",
       "  </thead>\n",
       "  <tbody>\n",
       "    <tr>\n",
       "      <th>30</th>\n",
       "      <td>1005</td>\n",
       "      <td>1</td>\n",
       "      <td>smart</td>\n",
       "      <td>15.0</td>\n",
       "      <td>95.0</td>\n",
       "      <td>7.0</td>\n",
       "      <td>2727.97</td>\n",
       "      <td>0.0</td>\n",
       "      <td>0.0</td>\n",
       "      <td>0.0</td>\n",
       "      <td>0</td>\n",
       "      <td>0</td>\n",
       "      <td>нет переплаты</td>\n",
       "      <td>0.0</td>\n",
       "    </tr>\n",
       "    <tr>\n",
       "      <th>31</th>\n",
       "      <td>1005</td>\n",
       "      <td>2</td>\n",
       "      <td>smart</td>\n",
       "      <td>69.0</td>\n",
       "      <td>456.0</td>\n",
       "      <td>38.0</td>\n",
       "      <td>7383.93</td>\n",
       "      <td>0.0</td>\n",
       "      <td>0.0</td>\n",
       "      <td>0.0</td>\n",
       "      <td>0</td>\n",
       "      <td>0</td>\n",
       "      <td>нет переплаты</td>\n",
       "      <td>0.0</td>\n",
       "    </tr>\n",
       "    <tr>\n",
       "      <th>32</th>\n",
       "      <td>1005</td>\n",
       "      <td>3</td>\n",
       "      <td>smart</td>\n",
       "      <td>77.0</td>\n",
       "      <td>606.0</td>\n",
       "      <td>56.0</td>\n",
       "      <td>11104.25</td>\n",
       "      <td>106.0</td>\n",
       "      <td>6.0</td>\n",
       "      <td>0.0</td>\n",
       "      <td>336</td>\n",
       "      <td>1</td>\n",
       "      <td>есть переплата</td>\n",
       "      <td>442.0</td>\n",
       "    </tr>\n",
       "    <tr>\n",
       "      <th>33</th>\n",
       "      <td>1005</td>\n",
       "      <td>4</td>\n",
       "      <td>smart</td>\n",
       "      <td>101.0</td>\n",
       "      <td>712.0</td>\n",
       "      <td>41.0</td>\n",
       "      <td>9351.72</td>\n",
       "      <td>212.0</td>\n",
       "      <td>0.0</td>\n",
       "      <td>0.0</td>\n",
       "      <td>636</td>\n",
       "      <td>1</td>\n",
       "      <td>есть переплата</td>\n",
       "      <td>848.0</td>\n",
       "    </tr>\n",
       "    <tr>\n",
       "      <th>34</th>\n",
       "      <td>1005</td>\n",
       "      <td>5</td>\n",
       "      <td>smart</td>\n",
       "      <td>73.0</td>\n",
       "      <td>595.0</td>\n",
       "      <td>42.0</td>\n",
       "      <td>7865.53</td>\n",
       "      <td>95.0</td>\n",
       "      <td>0.0</td>\n",
       "      <td>0.0</td>\n",
       "      <td>285</td>\n",
       "      <td>1</td>\n",
       "      <td>есть переплата</td>\n",
       "      <td>380.0</td>\n",
       "    </tr>\n",
       "    <tr>\n",
       "      <th>35</th>\n",
       "      <td>1005</td>\n",
       "      <td>6</td>\n",
       "      <td>smart</td>\n",
       "      <td>80.0</td>\n",
       "      <td>612.0</td>\n",
       "      <td>47.0</td>\n",
       "      <td>9863.19</td>\n",
       "      <td>112.0</td>\n",
       "      <td>0.0</td>\n",
       "      <td>0.0</td>\n",
       "      <td>336</td>\n",
       "      <td>1</td>\n",
       "      <td>есть переплата</td>\n",
       "      <td>448.0</td>\n",
       "    </tr>\n",
       "    <tr>\n",
       "      <th>36</th>\n",
       "      <td>1005</td>\n",
       "      <td>7</td>\n",
       "      <td>smart</td>\n",
       "      <td>77.0</td>\n",
       "      <td>569.0</td>\n",
       "      <td>56.0</td>\n",
       "      <td>7694.56</td>\n",
       "      <td>69.0</td>\n",
       "      <td>6.0</td>\n",
       "      <td>0.0</td>\n",
       "      <td>225</td>\n",
       "      <td>1</td>\n",
       "      <td>есть переплата</td>\n",
       "      <td>294.0</td>\n",
       "    </tr>\n",
       "    <tr>\n",
       "      <th>37</th>\n",
       "      <td>1005</td>\n",
       "      <td>8</td>\n",
       "      <td>smart</td>\n",
       "      <td>71.0</td>\n",
       "      <td>619.0</td>\n",
       "      <td>64.0</td>\n",
       "      <td>7543.63</td>\n",
       "      <td>119.0</td>\n",
       "      <td>14.0</td>\n",
       "      <td>0.0</td>\n",
       "      <td>399</td>\n",
       "      <td>1</td>\n",
       "      <td>есть переплата</td>\n",
       "      <td>518.0</td>\n",
       "    </tr>\n",
       "    <tr>\n",
       "      <th>38</th>\n",
       "      <td>1005</td>\n",
       "      <td>9</td>\n",
       "      <td>smart</td>\n",
       "      <td>66.0</td>\n",
       "      <td>479.0</td>\n",
       "      <td>52.0</td>\n",
       "      <td>7016.46</td>\n",
       "      <td>0.0</td>\n",
       "      <td>2.0</td>\n",
       "      <td>0.0</td>\n",
       "      <td>6</td>\n",
       "      <td>1</td>\n",
       "      <td>есть переплата</td>\n",
       "      <td>6.0</td>\n",
       "    </tr>\n",
       "    <tr>\n",
       "      <th>39</th>\n",
       "      <td>1005</td>\n",
       "      <td>10</td>\n",
       "      <td>smart</td>\n",
       "      <td>100.0</td>\n",
       "      <td>723.0</td>\n",
       "      <td>44.0</td>\n",
       "      <td>7800.93</td>\n",
       "      <td>223.0</td>\n",
       "      <td>0.0</td>\n",
       "      <td>0.0</td>\n",
       "      <td>669</td>\n",
       "      <td>1</td>\n",
       "      <td>есть переплата</td>\n",
       "      <td>892.0</td>\n",
       "    </tr>\n",
       "  </tbody>\n",
       "</table>\n",
       "</div>"
      ],
      "text/plain": [
       "    user_id  month tariff  count    sum   sms   mb_used sum_over smska_over  \\\n",
       "30     1005      1  smart   15.0   95.0   7.0   2727.97      0.0        0.0   \n",
       "31     1005      2  smart   69.0  456.0  38.0   7383.93      0.0        0.0   \n",
       "32     1005      3  smart   77.0  606.0  56.0  11104.25    106.0        6.0   \n",
       "33     1005      4  smart  101.0  712.0  41.0   9351.72    212.0        0.0   \n",
       "34     1005      5  smart   73.0  595.0  42.0   7865.53     95.0        0.0   \n",
       "35     1005      6  smart   80.0  612.0  47.0   9863.19    112.0        0.0   \n",
       "36     1005      7  smart   77.0  569.0  56.0   7694.56     69.0        6.0   \n",
       "37     1005      8  smart   71.0  619.0  64.0   7543.63    119.0       14.0   \n",
       "38     1005      9  smart   66.0  479.0  52.0   7016.46      0.0        2.0   \n",
       "39     1005     10  smart  100.0  723.0  44.0   7800.93    223.0        0.0   \n",
       "\n",
       "   mb_over  over_price over_price_id over_price_name proceeds  \n",
       "30     0.0           0             0   нет переплаты      0.0  \n",
       "31     0.0           0             0   нет переплаты      0.0  \n",
       "32     0.0         336             1  есть переплата    442.0  \n",
       "33     0.0         636             1  есть переплата    848.0  \n",
       "34     0.0         285             1  есть переплата    380.0  \n",
       "35     0.0         336             1  есть переплата    448.0  \n",
       "36     0.0         225             1  есть переплата    294.0  \n",
       "37     0.0         399             1  есть переплата    518.0  \n",
       "38     0.0           6             1  есть переплата      6.0  \n",
       "39     0.0         669             1  есть переплата    892.0  "
      ]
     },
     "execution_count": 152,
     "metadata": {},
     "output_type": "execute_result"
    }
   ],
   "source": [
    "dataset['proceeds'] = dataset['sum_over'] + dataset['over_price']\n",
    "dataset.loc[dataset['user_id'] == 1005].head(10)"
   ]
  },
  {
   "cell_type": "markdown",
   "metadata": {},
   "source": [
    "Посмотрим, сколько в среднем переплачиваю пользователи тарифов:"
   ]
  },
  {
   "cell_type": "code",
   "execution_count": 153,
   "metadata": {},
   "outputs": [
    {
     "data": {
      "image/png": "[encoded data removed]",
      "text/plain": [
       "<Figure size 432x288 with 1 Axes>"
      ]
     },
     "metadata": {
      "needs_background": "light"
     },
     "output_type": "display_data"
    },
    {
     "data": {
      "text/plain": [
       "count    1662.000000\n",
       "mean      992.419374\n",
       "std       804.823706\n",
       "min         3.000000\n",
       "25%       400.000000\n",
       "50%       800.000000\n",
       "75%      1403.250000\n",
       "max      6220.000000\n",
       "Name: over_price, dtype: float64"
      ]
     },
     "execution_count": 153,
     "metadata": {},
     "output_type": "execute_result"
    }
   ],
   "source": [
    "dataset_smart=dataset[(dataset['tariff'] == \"smart\") &\n",
    "                     (dataset['over_price'] > 0)]\n",
    "dataset_smart['over_price'].hist(bins=70).set_title('Гистограмма распределения переплат, тариф \"smart\"')\n",
    "plt.show()\n",
    "dataset_smart['over_price'].describe()"
   ]
  },
  {
   "cell_type": "code",
   "execution_count": 154,
   "metadata": {},
   "outputs": [
    {
     "data": {
      "text/plain": [
       "Text(0.5, 1.0, 'Гистограмма распределения переплат, тариф \"smart\"')"
      ]
     },
     "execution_count": 154,
     "metadata": {},
     "output_type": "execute_result"
    },
    {
     "data": {
      "image/png": "[encoded data removed]",
      "text/plain": [
       "<Figure size 432x288 with 1 Axes>"
      ]
     },
     "metadata": {
      "needs_background": "light"
     },
     "output_type": "display_data"
    }
   ],
   "source": [
    "dataset_smart['over_price'].hist(bins=40, range=(10,1600)).set_title('Гистограмма распределения переплат, тариф \"smart\"')"
   ]
  },
  {
   "cell_type": "markdown",
   "metadata": {},
   "source": [
    "Что мы видим: основные переплаты составляю в сумме до 1600 руб. Большинство пользователей Мегалайна (которые переплачивают) по тарифу \"smart\" переплачивают в среднем переплачивают 800 руб. Если посмотреть на второй график, то можно заметить, что скачки переплат происходят каждые 200 руб. - это сумма доплаты за 1 гб интернета, значит в соновном не хвататет интернета пользователям."
   ]
  },
  {
   "cell_type": "code",
   "execution_count": 155,
   "metadata": {},
   "outputs": [
    {
     "data": {
      "image/png": "[encoded data removed]",
      "text/plain": [
       "<Figure size 360x360 with 1 Axes>"
      ]
     },
     "metadata": {
      "needs_background": "light"
     },
     "output_type": "display_data"
    },
    {
     "data": {
      "text/plain": [
       "count     134.000000\n",
       "mean      883.208955\n",
       "std       606.634498\n",
       "min       150.000000\n",
       "25%       450.000000\n",
       "50%       750.000000\n",
       "75%      1312.500000\n",
       "max      2850.000000\n",
       "Name: over_price, dtype: float64"
      ]
     },
     "execution_count": 155,
     "metadata": {},
     "output_type": "execute_result"
    }
   ],
   "source": [
    "dataset_ultra=dataset[(dataset['tariff'] == \"ultra\") &\n",
    "                     (dataset['over_price'] > 0)]\n",
    "dataset_ultra['over_price'].hist(bins=70, range=(10,3000),figsize=(5,5)).set_title('Гистограмма распределения переплат, тариф \"ultra\"')\n",
    "plt.show()\n",
    "dataset_ultra['over_price'].describe()"
   ]
  },
  {
   "cell_type": "code",
   "execution_count": 156,
   "metadata": {},
   "outputs": [
    {
     "data": {
      "image/png": "[encoded data removed]",
      "text/plain": [
       "<Figure size 360x360 with 1 Axes>"
      ]
     },
     "metadata": {
      "needs_background": "light"
     },
     "output_type": "display_data"
    }
   ],
   "source": [
    "dataset_ultra['over_price'].hist(bins=70, range=(10,1600),figsize=(5,5)).set_title('Гистограмма распределения переплат, тариф \"ultra\"')\n",
    "plt.show()"
   ]
  },
  {
   "cell_type": "markdown",
   "metadata": {},
   "source": [
    "А вот в тарифе \"ultra\" пользователи заказывают только дополнительный интернет."
   ]
  },
  {
   "cell_type": "markdown",
   "metadata": {},
   "source": [
    "#### Вывод\n",
    "* Сгрупировали каждого пользователя по месяцам ( с учетом их использования минут, интернет-трафика и смс)\n",
    "* Посчитали сколько в среднем длится зовнок, интерент сессия и чем равно среднее значение смс на каждом из тарифов.\n",
    "* Добавили столбец с перерасходом услуг и суммой доплаты\n",
    "* Создали столбец \"полной\" выручки с абонета ( с учетом переплаты)\n",
    "* Сгруппировали пользователй по регионам\n",
    "* 73 % пользователям тарифа smart не хватает включенных в пакет услуг и они всегда заказывают доп услуги. А вот пользователи тарифом ultra переплачивают только в 13% случаев: пользовател тарифа smart переплачивают в основном за минуты и гб, а пользователи тарифа ultra в основном только за интернет\n"
   ]
  },
  {
   "cell_type": "markdown",
   "metadata": {},
   "source": [
    "### Исследовательский анализ данных "
   ]
  },
  {
   "cell_type": "markdown",
   "metadata": {},
   "source": [
    "Посмотрим сколько в среднем пользователи тарифов тратят смс, интернета и звонков в месяц:"
   ]
  },
  {
   "cell_type": "code",
   "execution_count": 157,
   "metadata": {},
   "outputs": [
    {
     "data": {
      "image/png": "[encoded data removed]",
      "text/plain": [
       "<Figure size 360x360 with 1 Axes>"
      ]
     },
     "metadata": {
      "needs_background": "light"
     },
     "output_type": "display_data"
    },
    {
     "data": {
      "text/plain": [
       "count    2223.000000\n",
       "mean      419.062978\n",
       "std       189.325618\n",
       "min         0.000000\n",
       "25%       285.000000\n",
       "50%       423.000000\n",
       "75%       545.500000\n",
       "max      1435.000000\n",
       "Name: sum, dtype: float64"
      ]
     },
     "execution_count": 157,
     "metadata": {},
     "output_type": "execute_result"
    }
   ],
   "source": [
    "dataset_smart_mean_calls=dataset[(dataset['tariff'] == \"smart\")]\n",
    "dataset_smart_mean_calls['sum'].hist(bins=70, range=(10,1200),figsize=(5,5)).set_title('Гистограмма звонков, тариф \"smart\"')\n",
    "plt.show()\n",
    "dataset_smart_mean_calls['sum'].describe()"
   ]
  },
  {
   "cell_type": "code",
   "execution_count": 158,
   "metadata": {},
   "outputs": [
    {
     "data": {
      "image/png": "[encoded data removed]",
      "text/plain": [
       "<Figure size 432x288 with 1 Axes>"
      ]
     },
     "metadata": {
      "needs_background": "light"
     },
     "output_type": "display_data"
    }
   ],
   "source": [
    "dataset_smart_mean_calls.boxplot(['sum']).set_title('Диаграмма размаха звонков тарифа smart')\n",
    "plt.show()  "
   ]
  },
  {
   "cell_type": "markdown",
   "metadata": {},
   "source": [
    "В среднем получается, что пользователи тарифа smart тратят в месяц 400 минут ( при лимите в 500 минут), то есть пользователи выбирают минуты практически 80% заявленных минут тарифа. Если посмотреть в целом, то пользователи в целом говорят от 267 до 515 минут на данном тарифе.\n",
    "\n",
    "У нас есть выбросы в данных ( это нулевые звонки и звонки с слишком длинными разговорами). Давайте почистим выборку и посмотрим измениться ли ситуация:"
   ]
  },
  {
   "cell_type": "code",
   "execution_count": 159,
   "metadata": {},
   "outputs": [
    {
     "data": {
      "image/png": "[encoded data removed]",
      "text/plain": [
       "<Figure size 432x288 with 1 Axes>"
      ]
     },
     "metadata": {
      "needs_background": "light"
     },
     "output_type": "display_data"
    }
   ],
   "source": [
    "dataset_smart_mean_calls = dataset_smart_mean_calls[(dataset_smart_mean_calls['sum'] <900) & (dataset_smart_mean_calls['sum'] > 0)]\n",
    "dataset_smart_mean_calls.boxplot(['sum']).set_title('Диаграмма размаха звонков тарифа smart')\n",
    "plt.show() "
   ]
  },
  {
   "cell_type": "code",
   "execution_count": 160,
   "metadata": {},
   "outputs": [
    {
     "data": {
      "image/png": "[encoded data removed]",
      "text/plain": [
       "<Figure size 360x360 with 1 Axes>"
      ]
     },
     "metadata": {
      "needs_background": "light"
     },
     "output_type": "display_data"
    },
    {
     "data": {
      "text/plain": [
       "count    2205.000000\n",
       "mean      415.192744\n",
       "std       182.628113\n",
       "min         2.000000\n",
       "25%       283.000000\n",
       "50%       421.000000\n",
       "75%       543.000000\n",
       "max       891.000000\n",
       "Name: sum, dtype: float64"
      ]
     },
     "execution_count": 160,
     "metadata": {},
     "output_type": "execute_result"
    }
   ],
   "source": [
    "dataset_smart_mean_calls['sum'].hist(bins=70, range=(10,1200),figsize=(5,5)).set_title('Гистограмма звонков, тариф \"smart\"')\n",
    "plt.show()\n",
    "dataset_smart_mean_calls['sum'].describe()"
   ]
  },
  {
   "cell_type": "code",
   "execution_count": 161,
   "metadata": {},
   "outputs": [
    {
     "name": "stdout",
     "output_type": "stream",
     "text": [
      "33353.027715018216\n"
     ]
    }
   ],
   "source": [
    "variance_calls = np.var(dataset_smart_mean_calls['sum'], ddof=1)\n",
    "print(variance_calls) "
   ]
  },
  {
   "cell_type": "markdown",
   "metadata": {},
   "source": [
    "Ситуация кардинально не поменялась, результаты те же: средний расход минут в районе 400 минут, в целом тратят от 268 до 513 минут."
   ]
  },
  {
   "cell_type": "code",
   "execution_count": 162,
   "metadata": {},
   "outputs": [
    {
     "data": {
      "image/png": "[encoded data removed]",
      "text/plain": [
       "<Figure size 360x360 with 1 Axes>"
      ]
     },
     "metadata": {
      "needs_background": "light"
     },
     "output_type": "display_data"
    },
    {
     "data": {
      "text/plain": [
       "count     2228.000000\n",
       "mean     16215.661849\n",
       "std       5861.736234\n",
       "min          0.000000\n",
       "25%      12649.272500\n",
       "50%      16507.740000\n",
       "75%      20043.792500\n",
       "max      38552.450000\n",
       "Name: mb_used, dtype: float64"
      ]
     },
     "execution_count": 162,
     "metadata": {},
     "output_type": "execute_result"
    }
   ],
   "source": [
    "dataset_smart_mean_internet=dataset[(dataset['tariff'] == \"smart\")]\n",
    "dataset_smart_mean_internet['mb_used'].hist(bins=70,figsize=(5,5)).set_title('Гистограмма интернет-трафика, тариф \"smart\"')\n",
    "plt.show()\n",
    "dataset_smart_mean_internet['mb_used'].describe()"
   ]
  },
  {
   "cell_type": "code",
   "execution_count": 163,
   "metadata": {},
   "outputs": [
    {
     "data": {
      "image/png": "[encoded data removed]",
      "text/plain": [
       "<Figure size 432x288 with 1 Axes>"
      ]
     },
     "metadata": {
      "needs_background": "light"
     },
     "output_type": "display_data"
    }
   ],
   "source": [
    "dataset_smart_mean_internet.boxplot(['mb_used']).set_title('Диаграмма размаха интернет тарфика тарифа smart')\n",
    "plt.show() "
   ]
  },
  {
   "cell_type": "markdown",
   "metadata": {},
   "source": [
    "В целом пользователи тратят в месяц от 13 до 20 гб в месяц. Среднестатистический пользователь тратит примерно 16 гб в месяц, при лимите в 15 ГБ. Выше мы предположили, что пользователи в основном переплачивают за интернет и вот этому подтверждение ( если в минуты пользователи в оснвном укладываются, то в интернет трафик нет).\n",
    "\n",
    "Давайте удалим выбросы и посмотрим изменится ли ситуация:"
   ]
  },
  {
   "cell_type": "code",
   "execution_count": 164,
   "metadata": {},
   "outputs": [
    {
     "data": {
      "image/png": "[encoded data removed]",
      "text/plain": [
       "<Figure size 432x288 with 1 Axes>"
      ]
     },
     "metadata": {
      "needs_background": "light"
     },
     "output_type": "display_data"
    }
   ],
   "source": [
    "dataset_smart_mean_internet = dataset_smart_mean_internet[(dataset_smart_mean_internet['mb_used'] <31000) & (dataset_smart_mean_internet['mb_used'] > 0)]\n",
    "dataset_smart_mean_internet.boxplot(['mb_used']).set_title('Диаграмма размаха интернет тарфика тарифа smart')\n",
    "plt.show() "
   ]
  },
  {
   "cell_type": "code",
   "execution_count": 165,
   "metadata": {},
   "outputs": [
    {
     "data": {
      "image/png": "[encoded data removed]",
      "text/plain": [
       "<Figure size 360x360 with 1 Axes>"
      ]
     },
     "metadata": {
      "needs_background": "light"
     },
     "output_type": "display_data"
    },
    {
     "data": {
      "text/plain": [
       "count     2211.000000\n",
       "mean     16095.183198\n",
       "std       5673.868770\n",
       "min        201.070000\n",
       "25%      12621.185000\n",
       "50%      16461.940000\n",
       "75%      19975.795000\n",
       "max      30981.620000\n",
       "Name: mb_used, dtype: float64"
      ]
     },
     "execution_count": 165,
     "metadata": {},
     "output_type": "execute_result"
    }
   ],
   "source": [
    "dataset_smart_mean_internet['mb_used'].hist(bins=70,figsize=(5,5)).set_title('Диаграмма размаха интернет тарфика тарифа smart')\n",
    "plt.show()\n",
    "dataset_smart_mean_internet['mb_used'].describe()"
   ]
  },
  {
   "cell_type": "code",
   "execution_count": 166,
   "metadata": {},
   "outputs": [
    {
     "name": "stdout",
     "output_type": "stream",
     "text": [
      "32192786.813710365\n"
     ]
    }
   ],
   "source": [
    "variance_internet = np.var(dataset_smart_mean_internet['mb_used'], ddof=1)\n",
    "print(variance_internet) "
   ]
  },
  {
   "cell_type": "markdown",
   "metadata": {},
   "source": [
    "Ситуация в целом не поменялась. Все так же можно заключить, что пользователям не хватате интернета на тарифе smart."
   ]
  },
  {
   "cell_type": "code",
   "execution_count": 167,
   "metadata": {},
   "outputs": [
    {
     "data": {
      "image/png": "[encoded data removed]",
      "text/plain": [
       "<Figure size 432x288 with 1 Axes>"
      ]
     },
     "metadata": {
      "needs_background": "light"
     },
     "output_type": "display_data"
    },
    {
     "data": {
      "text/plain": [
       "count    1922.000000\n",
       "mean       38.716441\n",
       "std        26.787949\n",
       "min         1.000000\n",
       "25%        17.000000\n",
       "50%        34.000000\n",
       "75%        55.000000\n",
       "max       143.000000\n",
       "Name: sms, dtype: float64"
      ]
     },
     "execution_count": 167,
     "metadata": {},
     "output_type": "execute_result"
    }
   ],
   "source": [
    "dataset_smart_mean_sms=dataset[(dataset['tariff'] == \"smart\")]\n",
    "dataset_smart_mean_sms['sms'].hist(bins=70).set_title('Гистограмма смс, тариф \"smart\"')\n",
    "plt.show()\n",
    "dataset_smart_mean_sms['sms'].describe()"
   ]
  },
  {
   "cell_type": "code",
   "execution_count": 168,
   "metadata": {},
   "outputs": [
    {
     "data": {
      "image/png": "[encoded data removed]",
      "text/plain": [
       "<Figure size 432x288 with 1 Axes>"
      ]
     },
     "metadata": {
      "needs_background": "light"
     },
     "output_type": "display_data"
    }
   ],
   "source": [
    "dataset_smart_mean_sms.boxplot(['sms']).set_title('Диаграмма размаха смс тарифа smart')\n",
    "plt.show()  "
   ]
  },
  {
   "cell_type": "markdown",
   "metadata": {},
   "source": [
    "В основном пользователям хвататет смсок в данном тарифе. В целом люди тратят от 10 до 51 смски в месяц, что практически укладывается в лимит, переплата за смс практически нулевая. Уберем выбросы ( те которые тратят больше 100 смс в месяц - это какие то очень активные люди))."
   ]
  },
  {
   "cell_type": "code",
   "execution_count": 169,
   "metadata": {},
   "outputs": [
    {
     "data": {
      "image/png": "[encoded data removed]",
      "text/plain": [
       "<Figure size 432x288 with 1 Axes>"
      ]
     },
     "metadata": {
      "needs_background": "light"
     },
     "output_type": "display_data"
    },
    {
     "data": {
      "text/plain": [
       "count    1872.000000\n",
       "mean       36.763355\n",
       "std        24.217350\n",
       "min         1.000000\n",
       "25%        17.000000\n",
       "50%        33.000000\n",
       "75%        53.000000\n",
       "max        99.000000\n",
       "Name: sms, dtype: float64"
      ]
     },
     "execution_count": 169,
     "metadata": {},
     "output_type": "execute_result"
    }
   ],
   "source": [
    "dataset_smart_mean_sms = dataset_smart_mean_sms[(dataset_smart_mean_sms['sms'] <100)& (dataset_smart_mean_sms['sms'] > 0)]\n",
    "dataset_smart_mean_sms.boxplot(['sms']).set_title('Диаграмма размаха смс тарифа smart')\n",
    "plt.show() \n",
    "dataset_smart_mean_sms['sms'].describe()"
   ]
  },
  {
   "cell_type": "code",
   "execution_count": 170,
   "metadata": {},
   "outputs": [
    {
     "data": {
      "text/plain": [
       "Text(0.5, 1.0, 'Гистограмма смс, тариф \"smart\"')"
      ]
     },
     "execution_count": 170,
     "metadata": {},
     "output_type": "execute_result"
    },
    {
     "data": {
      "image/png": "[encoded data removed]",
      "text/plain": [
       "<Figure size 432x288 with 1 Axes>"
      ]
     },
     "metadata": {
      "needs_background": "light"
     },
     "output_type": "display_data"
    }
   ],
   "source": [
    "dataset_smart_mean_sms['sms'].hist(bins=70).set_title('Гистограмма смс, тариф \"smart\"')"
   ]
  },
  {
   "cell_type": "code",
   "execution_count": 171,
   "metadata": {},
   "outputs": [
    {
     "name": "stdout",
     "output_type": "stream",
     "text": [
      "586.4800460355309\n",
      "24.217350103500813\n"
     ]
    }
   ],
   "source": [
    "variance_sms = np.var(dataset_smart_mean_sms['sms'], ddof=1)\n",
    "print(variance_sms) \n",
    "standard_sms=np.std(dataset_smart_mean_sms['sms'], ddof=1) # проверим совпадает ли значение с расчетом describe:-)\n",
    "print(standard_sms)"
   ]
  },
  {
   "cell_type": "markdown",
   "metadata": {},
   "source": [
    "После удаления выбросов получается, что практически всем пользователям данного тарифа хватате смс в пакете."
   ]
  },
  {
   "cell_type": "markdown",
   "metadata": {},
   "source": [
    "В целом по тарифу smart можно сказать следующее: \n",
    "* гигабайтов в основном не хвататет пользователям данного тарифа, они часто заказывают дополнительные пакет\n",
    "* минут для большинства пользователей хватате\n",
    "* смс в пакете хвататет практически всем пользователям, оплачивают сверхлимита единицы"
   ]
  },
  {
   "cell_type": "markdown",
   "metadata": {},
   "source": [
    "Проведеме аналогичные манипуляции для тарифа ultra"
   ]
  },
  {
   "cell_type": "code",
   "execution_count": 172,
   "metadata": {},
   "outputs": [
    {
     "data": {
      "image/png": "[encoded data removed]",
      "text/plain": [
       "<Figure size 432x288 with 1 Axes>"
      ]
     },
     "metadata": {
      "needs_background": "light"
     },
     "output_type": "display_data"
    },
    {
     "data": {
      "text/plain": [
       "count     951.000000\n",
       "mean      545.451104\n",
       "std       306.925754\n",
       "min         0.000000\n",
       "25%       310.000000\n",
       "50%       528.000000\n",
       "75%       756.500000\n",
       "max      1673.000000\n",
       "Name: sum, dtype: float64"
      ]
     },
     "execution_count": 172,
     "metadata": {},
     "output_type": "execute_result"
    }
   ],
   "source": [
    "dataset_ultra_mean_calls=dataset[(dataset['tariff'] == \"ultra\")]\n",
    "dataset_ultra_mean_calls['sum'].hist(bins=70).set_title('Гистограмма звонков, тариф \"ultra\"')\n",
    "plt.show()\n",
    "dataset_ultra_mean_calls['sum'].describe()"
   ]
  },
  {
   "cell_type": "code",
   "execution_count": 173,
   "metadata": {},
   "outputs": [
    {
     "data": {
      "image/png": "[encoded data removed]",
      "text/plain": [
       "<Figure size 432x288 with 1 Axes>"
      ]
     },
     "metadata": {
      "needs_background": "light"
     },
     "output_type": "display_data"
    }
   ],
   "source": [
    "dataset_ultra_mean_calls.boxplot(['sum']).set_title('Диаграмма размаха звонков тарифа ultra')\n",
    "plt.show()  "
   ]
  },
  {
   "cell_type": "markdown",
   "metadata": {},
   "source": [
    "Судя по данным пользователей тарифа ultra,которые разговаривают по телефону в несколько раз меньше, чем пользователей тарифа smart ( почти в два раза). В осномно пользователи тратят от 270 до 710 минут в месяц при лимите в 3000. В среднем тратят 500 минут.\n",
    "\n",
    "Почистим выборку от выбросом и посмотрим изменится, что-нибудь или нет."
   ]
  },
  {
   "cell_type": "code",
   "execution_count": 174,
   "metadata": {},
   "outputs": [
    {
     "data": {
      "image/png": "[encoded data removed]",
      "text/plain": [
       "<Figure size 432x288 with 1 Axes>"
      ]
     },
     "metadata": {
      "needs_background": "light"
     },
     "output_type": "display_data"
    }
   ],
   "source": [
    "dataset_ultra_mean_calls = dataset_ultra_mean_calls[(dataset_ultra_mean_calls['sum'] <1400) & (dataset_ultra_mean_calls['sum'] > 0)]\n",
    "dataset_ultra_mean_calls.boxplot(['sum']).set_title('Диаграмма размаха звонков тарифа ultra')\n",
    "plt.show() "
   ]
  },
  {
   "cell_type": "code",
   "execution_count": 175,
   "metadata": {},
   "outputs": [
    {
     "data": {
      "image/png": "[encoded data removed]",
      "text/plain": [
       "<Figure size 432x288 with 1 Axes>"
      ]
     },
     "metadata": {
      "needs_background": "light"
     },
     "output_type": "display_data"
    },
    {
     "data": {
      "text/plain": [
       "count     943.000000\n",
       "mean      543.617179\n",
       "std       299.359005\n",
       "min         1.000000\n",
       "25%       311.000000\n",
       "50%       528.000000\n",
       "75%       756.000000\n",
       "max      1345.000000\n",
       "Name: sum, dtype: float64"
      ]
     },
     "execution_count": 175,
     "metadata": {},
     "output_type": "execute_result"
    }
   ],
   "source": [
    "dataset_ultra_mean_calls['sum'].hist(bins=70).set_title('Гистограмма звонков, тариф \"ultra\"')\n",
    "plt.show()\n",
    "dataset_ultra_mean_calls['sum'].describe()"
   ]
  },
  {
   "cell_type": "code",
   "execution_count": 176,
   "metadata": {},
   "outputs": [
    {
     "name": "stdout",
     "output_type": "stream",
     "text": [
      "89615.81401454008\n"
     ]
    }
   ],
   "source": [
    "variance_calls_ultra = np.var(dataset_ultra_mean_calls['sum'], ddof=1)\n",
    "print(variance_calls_ultra) "
   ]
  },
  {
   "cell_type": "markdown",
   "metadata": {},
   "source": [
    "Сильно данные не поменялись, немного увеличелось среднее( до 515 минут), стандартное отклонение уменьшилось до 285."
   ]
  },
  {
   "cell_type": "code",
   "execution_count": 177,
   "metadata": {},
   "outputs": [
    {
     "data": {
      "image/png": "[encoded data removed]",
      "text/plain": [
       "<Figure size 432x288 with 1 Axes>"
      ]
     },
     "metadata": {
      "needs_background": "light"
     },
     "output_type": "display_data"
    },
    {
     "data": {
      "text/plain": [
       "count      975.000000\n",
       "mean     19668.485262\n",
       "std       9943.050284\n",
       "min          0.000000\n",
       "25%      12008.305000\n",
       "50%      19394.290000\n",
       "75%      26896.550000\n",
       "max      49745.690000\n",
       "Name: mb_used, dtype: float64"
      ]
     },
     "execution_count": 177,
     "metadata": {},
     "output_type": "execute_result"
    }
   ],
   "source": [
    "dataset_ultra_mean_internet=dataset[(dataset['tariff'] == \"ultra\")]\n",
    "dataset_ultra_mean_internet['mb_used'].hist(bins=70).set_title('Гистограмма интернет трафика, тариф \"ultra\"')\n",
    "plt.show()\n",
    "dataset_ultra_mean_internet['mb_used'].describe()"
   ]
  },
  {
   "cell_type": "code",
   "execution_count": 178,
   "metadata": {},
   "outputs": [
    {
     "data": {
      "image/png": "[encoded data removed]",
      "text/plain": [
       "<Figure size 432x288 with 1 Axes>"
      ]
     },
     "metadata": {
      "needs_background": "light"
     },
     "output_type": "display_data"
    }
   ],
   "source": [
    "dataset_ultra_mean_internet.boxplot(['mb_used']).set_title('Диаграмма размаха трафика, тариф \"ultra\"')\n",
    "plt.show()  "
   ]
  },
  {
   "cell_type": "code",
   "execution_count": 179,
   "metadata": {},
   "outputs": [
    {
     "data": {
      "image/png": "[encoded data removed]",
      "text/plain": [
       "<Figure size 432x288 with 1 Axes>"
      ]
     },
     "metadata": {
      "needs_background": "light"
     },
     "output_type": "display_data"
    }
   ],
   "source": [
    "dataset_ultra_mean_internet = dataset_ultra_mean_calls[(dataset_ultra_mean_internet['sum'] <45000) & (dataset_ultra_mean_internet['sum'] > 0)]\n",
    "dataset_ultra_mean_internet.boxplot(['mb_used']).set_title('Диаграмма размаха трафика, тариф \"ultra\"')\n",
    "plt.show() "
   ]
  },
  {
   "cell_type": "code",
   "execution_count": 180,
   "metadata": {},
   "outputs": [
    {
     "data": {
      "image/png": "[encoded data removed]",
      "text/plain": [
       "<Figure size 432x288 with 1 Axes>"
      ]
     },
     "metadata": {
      "needs_background": "light"
     },
     "output_type": "display_data"
    },
    {
     "data": {
      "text/plain": [
       "count      933.000000\n",
       "mean     19720.511726\n",
       "std       9967.710138\n",
       "min          0.000000\n",
       "25%      11966.720000\n",
       "50%      19428.210000\n",
       "75%      26951.160000\n",
       "max      49745.690000\n",
       "Name: mb_used, dtype: float64"
      ]
     },
     "execution_count": 180,
     "metadata": {},
     "output_type": "execute_result"
    }
   ],
   "source": [
    "dataset_ultra_mean_internet['mb_used'].hist(bins=70).set_title('Гистограмма трафика, тариф \"ultra\"')\n",
    "plt.show()\n",
    "dataset_ultra_mean_internet['mb_used'].describe()"
   ]
  },
  {
   "cell_type": "code",
   "execution_count": 181,
   "metadata": {},
   "outputs": [
    {
     "name": "stdout",
     "output_type": "stream",
     "text": [
      "99355245.39820565\n"
     ]
    }
   ],
   "source": [
    "variance_internet_ultra = np.var(dataset_ultra_mean_internet['mb_used'], ddof=1)\n",
    "print(variance_internet_ultra) "
   ]
  },
  {
   "cell_type": "markdown",
   "metadata": {},
   "source": [
    "Абоненты тарифа ultra очень активно пользуются интернетом, в основном пользователи тратят от 11,7 гб до 26,8 гб. В среднем пользователи тратят 19,5 гб. В любом случае большинству пользователей тарифа ultra хватает интернета на тарифе."
   ]
  },
  {
   "cell_type": "code",
   "execution_count": 182,
   "metadata": {},
   "outputs": [
    {
     "data": {
      "image/png": "[encoded data removed]",
      "text/plain": [
       "<Figure size 432x288 with 1 Axes>"
      ]
     },
     "metadata": {
      "needs_background": "light"
     },
     "output_type": "display_data"
    },
    {
     "data": {
      "text/plain": [
       "count    795.000000\n",
       "mean      61.161006\n",
       "std       45.931026\n",
       "min        1.000000\n",
       "25%       24.000000\n",
       "50%       51.000000\n",
       "75%       87.500000\n",
       "max      224.000000\n",
       "Name: sms, dtype: float64"
      ]
     },
     "execution_count": 182,
     "metadata": {},
     "output_type": "execute_result"
    }
   ],
   "source": [
    "dataset_ultra_mean_sms=dataset[(dataset['tariff'] == \"ultra\")]\n",
    "dataset_ultra_mean_sms['sms'].hist(bins=70).set_title('Гистограмма смс, тариф \"ultra\"')\n",
    "plt.show()\n",
    "dataset_ultra_mean_sms['sms'].describe()"
   ]
  },
  {
   "cell_type": "code",
   "execution_count": 183,
   "metadata": {},
   "outputs": [
    {
     "data": {
      "image/png": "[encoded data removed]",
      "text/plain": [
       "<Figure size 432x288 with 1 Axes>"
      ]
     },
     "metadata": {
      "needs_background": "light"
     },
     "output_type": "display_data"
    }
   ],
   "source": [
    "dataset_ultra_mean_sms.boxplot(['sms']).set_title('Диаграмма размаха смс, тариф \"ultra\"')\n",
    "plt.show()  "
   ]
  },
  {
   "cell_type": "code",
   "execution_count": 184,
   "metadata": {},
   "outputs": [
    {
     "data": {
      "image/png": "[encoded data removed]",
      "text/plain": [
       "<Figure size 432x288 with 1 Axes>"
      ]
     },
     "metadata": {
      "needs_background": "light"
     },
     "output_type": "display_data"
    }
   ],
   "source": [
    "dataset_ultra_mean_sms = dataset_ultra_mean_sms[(dataset_ultra_mean_sms['sms'] <170) & (dataset_ultra_mean_sms['sms'] > 0)]\n",
    "dataset_ultra_mean_sms.boxplot(['sms']).set_title('Диаграмма размаха смс, тариф \"ultra\"')\n",
    "plt.show() "
   ]
  },
  {
   "cell_type": "code",
   "execution_count": 185,
   "metadata": {},
   "outputs": [
    {
     "data": {
      "image/png": "[encoded data removed]",
      "text/plain": [
       "<Figure size 432x288 with 1 Axes>"
      ]
     },
     "metadata": {
      "needs_background": "light"
     },
     "output_type": "display_data"
    },
    {
     "data": {
      "text/plain": [
       "count    773.000000\n",
       "mean      57.586028\n",
       "std       41.235447\n",
       "min        1.000000\n",
       "25%       24.000000\n",
       "50%       49.000000\n",
       "75%       84.000000\n",
       "max      169.000000\n",
       "Name: sms, dtype: float64"
      ]
     },
     "execution_count": 185,
     "metadata": {},
     "output_type": "execute_result"
    }
   ],
   "source": [
    "dataset_ultra_mean_sms['sms'].hist(bins=70).set_title('Гистограмма смс, тариф \"ultra\"')\n",
    "plt.show()\n",
    "dataset_ultra_mean_sms['sms'].describe()"
   ]
  },
  {
   "cell_type": "code",
   "execution_count": 186,
   "metadata": {},
   "outputs": [
    {
     "name": "stdout",
     "output_type": "stream",
     "text": [
      "1700.3620843359759\n"
     ]
    }
   ],
   "source": [
    "variance_internet_sms = np.var(dataset_ultra_mean_sms['sms'], ddof=1)\n",
    "print(variance_internet_sms) "
   ]
  },
  {
   "cell_type": "markdown",
   "metadata": {},
   "source": [
    "В среднем пользователи тарифа ultra отправляют до 58 сообщений  в месяц, в общем от 24 до 85 сообщений. Этого хватате ( пакет включает 1000 сообщени). Если сравнивать с пользователями тарифа smart - то можно сказать, что пользователи тарифа smart чаще пользуются чаще этой услугой ( но учтем что и пользователей тарифа смарт больше)."
   ]
  },
  {
   "cell_type": "markdown",
   "metadata": {},
   "source": [
    "Посчитаем выручку по тарифам:"
   ]
  },
  {
   "cell_type": "code",
   "execution_count": 187,
   "metadata": {},
   "outputs": [
    {
     "data": {
      "text/html": [
       "<div>\n",
       "<style scoped>\n",
       "    .dataframe tbody tr th:only-of-type {\n",
       "        vertical-align: middle;\n",
       "    }\n",
       "\n",
       "    .dataframe tbody tr th {\n",
       "        vertical-align: top;\n",
       "    }\n",
       "\n",
       "    .dataframe thead tr th {\n",
       "        text-align: left;\n",
       "    }\n",
       "\n",
       "    .dataframe thead tr:last-of-type th {\n",
       "        text-align: right;\n",
       "    }\n",
       "</style>\n",
       "<table border=\"1\" class=\"dataframe\">\n",
       "  <thead>\n",
       "    <tr>\n",
       "      <th></th>\n",
       "      <th>count</th>\n",
       "      <th>sum</th>\n",
       "      <th>revenue_on_one</th>\n",
       "    </tr>\n",
       "    <tr>\n",
       "      <th></th>\n",
       "      <th>proceeds</th>\n",
       "      <th>proceeds</th>\n",
       "      <th></th>\n",
       "    </tr>\n",
       "    <tr>\n",
       "      <th>tariff</th>\n",
       "      <th></th>\n",
       "      <th></th>\n",
       "      <th></th>\n",
       "    </tr>\n",
       "  </thead>\n",
       "  <tbody>\n",
       "    <tr>\n",
       "      <th>smart</th>\n",
       "      <td>2229</td>\n",
       "      <td>1742140.0</td>\n",
       "      <td>781</td>\n",
       "    </tr>\n",
       "    <tr>\n",
       "      <th>ultra</th>\n",
       "      <td>985</td>\n",
       "      <td>118350.0</td>\n",
       "      <td>120</td>\n",
       "    </tr>\n",
       "  </tbody>\n",
       "</table>\n",
       "</div>"
      ],
      "text/plain": [
       "          count        sum revenue_on_one\n",
       "       proceeds   proceeds               \n",
       "tariff                                   \n",
       "smart      2229  1742140.0            781\n",
       "ultra       985   118350.0            120"
      ]
     },
     "metadata": {},
     "output_type": "display_data"
    }
   ],
   "source": [
    "pivot_dataset_all_revenue=pd.pivot_table(dataset,index=['tariff'],values='proceeds', aggfunc=['count', 'sum'])\n",
    "pivot_dataset_all_revenue['revenue_on_one'] = pivot_dataset_all_revenue[( 'sum', 'proceeds')] / (pivot_dataset_all_revenue[('count', 'proceeds')]) \n",
    "pivot_dataset_all_revenue['revenue_on_one']=pivot_dataset_all_revenue['revenue_on_one'].astype('int')          \n",
    "display(pivot_dataset_all_revenue)\n"
   ]
  },
  {
   "cell_type": "markdown",
   "metadata": {},
   "source": [
    "Почти 58 % выручки из выбранный пользователей приносят обоненты тарифа smart. Средняя выручка на одного клиента выше у тарифа ultra, однако из-за большого количества пользователей тарифа smart они приносят большую часть выручки в этой выборке."
   ]
  },
  {
   "cell_type": "markdown",
   "metadata": {},
   "source": [
    "Посчитаем выручку по Москве и другим регионам."
   ]
  },
  {
   "cell_type": "code",
   "execution_count": 188,
   "metadata": {},
   "outputs": [
    {
     "data": {
      "text/html": [
       "<div>\n",
       "<style scoped>\n",
       "    .dataframe tbody tr th:only-of-type {\n",
       "        vertical-align: middle;\n",
       "    }\n",
       "\n",
       "    .dataframe tbody tr th {\n",
       "        vertical-align: top;\n",
       "    }\n",
       "\n",
       "    .dataframe thead tr th {\n",
       "        text-align: left;\n",
       "    }\n",
       "\n",
       "    .dataframe thead tr:last-of-type th {\n",
       "        text-align: right;\n",
       "    }\n",
       "</style>\n",
       "<table border=\"1\" class=\"dataframe\">\n",
       "  <thead>\n",
       "    <tr>\n",
       "      <th></th>\n",
       "      <th>count</th>\n",
       "      <th>sum</th>\n",
       "      <th>revenue_on_one</th>\n",
       "    </tr>\n",
       "    <tr>\n",
       "      <th></th>\n",
       "      <th>proceeds</th>\n",
       "      <th>proceeds</th>\n",
       "      <th></th>\n",
       "    </tr>\n",
       "    <tr>\n",
       "      <th>region</th>\n",
       "      <th></th>\n",
       "      <th></th>\n",
       "      <th></th>\n",
       "    </tr>\n",
       "  </thead>\n",
       "  <tbody>\n",
       "    <tr>\n",
       "      <th>Другой регион</th>\n",
       "      <td>2603</td>\n",
       "      <td>1551269.0</td>\n",
       "      <td>595</td>\n",
       "    </tr>\n",
       "    <tr>\n",
       "      <th>Москва</th>\n",
       "      <td>611</td>\n",
       "      <td>309221.0</td>\n",
       "      <td>506</td>\n",
       "    </tr>\n",
       "  </tbody>\n",
       "</table>\n",
       "</div>"
      ],
      "text/plain": [
       "                 count        sum revenue_on_one\n",
       "              proceeds   proceeds               \n",
       "region                                          \n",
       "Другой регион     2603  1551269.0            595\n",
       "Москва             611   309221.0            506"
      ]
     },
     "metadata": {},
     "output_type": "display_data"
    }
   ],
   "source": [
    "dataset_region=dataset_users[['user_id','city']]\n",
    "dataset=dataset.merge(dataset_region, on='user_id')\n",
    "def region_id_def(row):\n",
    "    region_group = row['city']\n",
    "    if region_group == \"Москва\":\n",
    "           return 'Москва'\n",
    "    if region_group != \"Москва\":\n",
    "            return 'Другой регион'\n",
    "dataset['region']=dataset.apply(region_id_def, axis=1)\n",
    "\n",
    "pivot_dataset_region_revenue=pd.pivot_table(dataset,index=['region'],values='proceeds', aggfunc=['count', 'sum'])\n",
    "pivot_dataset_region_revenue['revenue_on_one'] = pivot_dataset_region_revenue[( 'sum', 'proceeds')] / (pivot_dataset_region_revenue[('count', 'proceeds')]) \n",
    "pivot_dataset_region_revenue['revenue_on_one']=pivot_dataset_region_revenue['revenue_on_one'].astype('int')          \n",
    "display(pivot_dataset_region_revenue)"
   ]
  },
  {
   "cell_type": "markdown",
   "metadata": {},
   "source": [
    "Выручка с одного пользователя в Москве больше, правда совсем немного - всего на 25 рублей."
   ]
  },
  {
   "cell_type": "markdown",
   "metadata": {},
   "source": [
    "\n",
    "#### Вывод\n",
    "* Пользователям тарифа ultra и smart практически всегдахватает минут, включенных в пакет\n",
    "* 53 % выручки приходится на пользователей тарифа smart\n",
    "* Пользователи тарифа Ultra активнее используют интерент, чем пользователи тарифа smart\n",
    "* Пользователи тарифа Smart активнее пользуются минутами, чем пользователи тарифа Ultra\n"
   ]
  },
  {
   "cell_type": "markdown",
   "metadata": {},
   "source": [
    "## Общий вывод"
   ]
  },
  {
   "cell_type": "markdown",
   "metadata": {},
   "source": [
    "* Пользователи тарифа ultra полностью вписываются в пакет минут по тарифу. Пользователи тарифа smart примерно в 75% случаев вписываются в пакет звонков, остальным приходится платить сверх пакета.\n",
    "* Пользователи тарифов ultra и smart активно пользуются интернет трафиком. Более 25 % пользователей тарифа smart используют дополнительные пакеты интернета, в тарифе ultra малое количество (примерно 13%) пользователей берут дополнительный пакет интернета.\n",
    "* СМС-сообщений, заложенных в тариф, хватат практически всем пользователяс smart. В тарифе ultra всем пользователям хватает смс-сообщений из пакета.\n",
    "* Средняя переплата по тарифу smart составляет 966 рублей, медиана 800 ( это достаточно много, учитывая что сам тариф стоит 550 рублей. Пользователи тарифа ultra в среднем переплачивают 800 рублей ( медиана 750).\n",
    "* Выручка c одного пользователя в тарифе ultra больче в 1,6 раза чем с одного пользователя тарифа smart. Однако из-за того, что количество пользователей тарифа smart больше - этот тариф приносит 58 % всей выручки.\n",
    "* Выручка с одного пользователя в Москве чуть больше, чем в регионах ( Санкт-Петербург нельзя конечно назвать регионом, но что ж сделаем так)"
   ]
  },
  {
   "cell_type": "markdown",
   "metadata": {},
   "source": [
    "# Проверка гипотезы"
   ]
  },
  {
   "cell_type": "markdown",
   "metadata": {},
   "source": [
    "### Проверим первую гипотезу: средняя выручка пользователей тарифов «Ультра» и «Смарт» различаются"
   ]
  },
  {
   "cell_type": "markdown",
   "metadata": {},
   "source": [
    "Сформулируем гипотезы:\n",
    "* Нулевая гипотеза(H0): средняя выручка пользователей тарифа smart не отличается от средней выручки пользователей тарифа ultra \n",
    "* Альтернативная гипотеза (Н1): средняя выручка пользователей тарифа smart отличается от средней выручки пользователей тарифа ultra"
   ]
  },
  {
   "cell_type": "code",
   "execution_count": 189,
   "metadata": {},
   "outputs": [
    {
     "name": "stdout",
     "output_type": "stream",
     "text": [
      "p-значение:  4.268925011743705e-110\n",
      "Отвергаем нулевую гипотезу\n"
     ]
    }
   ],
   "source": [
    "dataset_smart=dataset[(dataset['tariff'] == \"smart\")]\n",
    "dataset_smart=dataset_smart['proceeds']\n",
    "dataset_ultra=dataset[(dataset['tariff'] == \"ultra\")]\n",
    "dataset_ultra=dataset_ultra['proceeds']\n",
    "alpha = .05 \n",
    "results = st.ttest_ind(\n",
    "    dataset_smart, \n",
    "    dataset_ultra)\n",
    "\n",
    "print('p-значение: ', results.pvalue)\n",
    "\n",
    "if results.pvalue < alpha:\n",
    "    print(\"Отвергаем нулевую гипотезу\")\n",
    "else:\n",
    "    print(\"Не получилось отвергнуть нулевую гипотезу\") "
   ]
  },
  {
   "cell_type": "markdown",
   "metadata": {},
   "source": [
    "Альтернативная гипотеза подтвердилась: средняя выручка пользователей тарифа smart отличается от средней выручки пользователей тарифа ultra. Выше мы уже с мы уже это конечно узнали ( сводная таблица выше). Давайте еще раз вглянем как выглядят эти данные:"
   ]
  },
  {
   "cell_type": "code",
   "execution_count": 190,
   "metadata": {},
   "outputs": [
    {
     "name": "stdout",
     "output_type": "stream",
     "text": [
      "Средняя выручка пользователей тарифа smart: 781.5791834903545\n",
      "Средняя выручка пользователей тарифа ultra: 120.15228426395939\n"
     ]
    }
   ],
   "source": [
    "print('Средняя выручка пользователей тарифа smart:',dataset_smart.mean())\n",
    "print('Средняя выручка пользователей тарифа ultra:',dataset_ultra.mean())"
   ]
  },
  {
   "cell_type": "markdown",
   "metadata": {},
   "source": [
    "### Проверим первую гипотезу: средняя выручка пользователей из Москвы отличается от выручки пользователей из других регионов."
   ]
  },
  {
   "cell_type": "markdown",
   "metadata": {},
   "source": [
    "Сформулируем гипотезы:\n",
    "* Нулевая гипотеза(H0): средняя выручка пользователей Москвы не отличается от средней выручки пользователей в регионах \n",
    "* Альтернативная гипотеза (Н1): средняя выручка пользователей Москвы отличается от средней выручки пользователей в регионах "
   ]
  },
  {
   "cell_type": "code",
   "execution_count": 191,
   "metadata": {},
   "outputs": [
    {
     "name": "stdout",
     "output_type": "stream",
     "text": [
      "p-значение:  0.013046091452031344\n",
      "Отвергаем нулевую гипотезу\n"
     ]
    }
   ],
   "source": [
    "dataset_moscow=dataset[(dataset['region'] == \"Москва\")]\n",
    "dataset_moscow=dataset_moscow['proceeds']\n",
    "dataset_another=dataset[(dataset['region'] == \"Другой регион\")]\n",
    "dataset_another=dataset_another['proceeds']\n",
    "alpha = .05\n",
    "results = st.ttest_ind(\n",
    "    dataset_moscow, \n",
    "    dataset_another)\n",
    "\n",
    "print('p-значение: ', results.pvalue)\n",
    "\n",
    "if results.pvalue < alpha:\n",
    "    print(\"Отвергаем нулевую гипотезу\")\n",
    "else:\n",
    "    print(\"Не получилось отвергнуть нулевую гипотезу\") "
   ]
  },
  {
   "cell_type": "markdown",
   "metadata": {},
   "source": [
    "Получается, что средняя выручка с пользоватля в Москве практически не отличается от средней выручки с пользователя в регионах.\n",
    "Для нагалядности можно посмотреть:"
   ]
  },
  {
   "cell_type": "code",
   "execution_count": 192,
   "metadata": {},
   "outputs": [
    {
     "name": "stdout",
     "output_type": "stream",
     "text": [
      "Средняя выручка пользователей в Москве: 506.09001636661213\n",
      "Средняя выручка пользователей в регионах: 595.9542835190165\n"
     ]
    }
   ],
   "source": [
    "print('Средняя выручка пользователей в Москве:',dataset_moscow.mean())\n",
    "print('Средняя выручка пользователей в регионах:',dataset_another.mean())"
   ]
  },
  {
   "cell_type": "markdown",
   "metadata": {},
   "source": [
    "# Общий вывод"
   ]
  },
  {
   "cell_type": "markdown",
   "metadata": {},
   "source": [
    "1. Склоняюсь к двум выводам по поводу пользователям:\n",
    "    * тарифы начали действовать только с января 2018 г. поэтому у нас в выборке все пользователи подключились за год\n",
    "    * оператор Мегалайн начал работать только в январе 2018 г.\n",
    "2. В среднем пользователи тарифа smart тратят:\n",
    "    * 394 минут (лимит 500)\n",
    "    * 16 гб (лимит 15 )\n",
    "    * 33 смс(лимит 50)\n",
    "3. В среднем пользователи тарифа ultra тратят:\n",
    "    * 515 минут (лимит 3000)\n",
    "    * 19.5 гб (лимит 30 )\n",
    "    * 57 смс(лимит 1000)\n",
    "4. Абоненты тарифа smart приносят большую часть выручки компании Мегалайн, не смотря на то что тариф меньше, они берут количеством так сказать.\n",
    "5. Выручка с одного пользователя в Москве и других регионах практически не отличается, а вот разница в выручке с пользователя тарифа smart и ultra отличается практически 1,6 раза.   \n",
    "6. Абоненты тарифы smart - наверное любимцы компании Мегалайн, так как они чаще всего переплачивают за услуги выше лимита (75% пользователей).\n",
    "7. Если говорить с точки зрения \"улучшения\" жизни пользователей - то можно рассмотреть увеличении стоимости тарифа smart и увеличении минут и гб в пакете. Пользователи данного тарифа переплачивают за доп услуги до 966 руб ( пристоймотси тарифа 550!) или придумать третий, промежуточный тариф, на который я думаю перешли многие пользователи."
   ]
  }
 ],
 "metadata": {
  "ExecuteTimeLog": [
   {
    "duration": 4,
    "start_time": "2022-01-08T12:30:10.406Z"
   },
   {
    "duration": 3,
    "start_time": "2022-01-08T12:32:00.805Z"
   },
   {
    "duration": 890,
    "start_time": "2022-01-08T12:35:20.281Z"
   },
   {
    "duration": 382,
    "start_time": "2022-01-08T12:40:40.076Z"
   },
   {
    "duration": 5,
    "start_time": "2022-01-08T12:40:52.212Z"
   },
   {
    "duration": 532,
    "start_time": "2022-01-08T12:40:53.014Z"
   },
   {
    "duration": 1839,
    "start_time": "2022-01-08T12:40:54.252Z"
   },
   {
    "duration": 25,
    "start_time": "2022-01-08T12:41:05.165Z"
   },
   {
    "duration": 26,
    "start_time": "2022-01-08T12:41:14.300Z"
   },
   {
    "duration": 38,
    "start_time": "2022-01-08T12:41:57.258Z"
   },
   {
    "duration": 4,
    "start_time": "2022-01-08T12:42:04.864Z"
   },
   {
    "duration": 727,
    "start_time": "2022-01-08T12:42:04.871Z"
   },
   {
    "duration": 52,
    "start_time": "2022-01-08T12:42:05.602Z"
   },
   {
    "duration": 25,
    "start_time": "2022-01-08T12:42:05.657Z"
   },
   {
    "duration": 45,
    "start_time": "2022-01-08T12:42:05.686Z"
   },
   {
    "duration": 1234,
    "start_time": "2022-01-08T12:42:05.734Z"
   },
   {
    "duration": -978,
    "start_time": "2022-01-08T12:42:07.949Z"
   },
   {
    "duration": 42,
    "start_time": "2022-01-08T12:42:19.164Z"
   },
   {
    "duration": 6,
    "start_time": "2022-01-08T12:42:21.092Z"
   },
   {
    "duration": -991,
    "start_time": "2022-01-08T12:43:29.725Z"
   },
   {
    "duration": 4,
    "start_time": "2022-01-08T12:43:59.474Z"
   },
   {
    "duration": 519,
    "start_time": "2022-01-08T12:43:59.481Z"
   },
   {
    "duration": 20,
    "start_time": "2022-01-08T12:44:00.004Z"
   },
   {
    "duration": 6,
    "start_time": "2022-01-08T12:44:00.028Z"
   },
   {
    "duration": 32,
    "start_time": "2022-01-08T12:44:00.037Z"
   },
   {
    "duration": 51,
    "start_time": "2022-01-08T12:44:00.071Z"
   },
   {
    "duration": 7,
    "start_time": "2022-01-08T12:44:00.125Z"
   },
   {
    "duration": 28,
    "start_time": "2022-01-08T12:44:00.134Z"
   },
   {
    "duration": 56,
    "start_time": "2022-01-08T12:44:00.166Z"
   },
   {
    "duration": 7,
    "start_time": "2022-01-08T12:44:00.225Z"
   },
   {
    "duration": 21,
    "start_time": "2022-01-08T12:44:00.235Z"
   },
   {
    "duration": 1308,
    "start_time": "2022-01-08T12:44:00.258Z"
   },
   {
    "duration": -990,
    "start_time": "2022-01-08T12:44:02.560Z"
   },
   {
    "duration": -1002,
    "start_time": "2022-01-08T12:44:02.574Z"
   },
   {
    "duration": -1002,
    "start_time": "2022-01-08T12:44:02.576Z"
   },
   {
    "duration": -1001,
    "start_time": "2022-01-08T12:44:02.577Z"
   },
   {
    "duration": -1000,
    "start_time": "2022-01-08T12:44:02.579Z"
   },
   {
    "duration": 17,
    "start_time": "2022-01-08T12:45:06.680Z"
   },
   {
    "duration": 5,
    "start_time": "2022-01-08T12:45:10.488Z"
   },
   {
    "duration": 9,
    "start_time": "2022-01-08T12:45:13.080Z"
   },
   {
    "duration": 5,
    "start_time": "2022-01-08T12:48:46.777Z"
   },
   {
    "duration": 805,
    "start_time": "2022-01-08T12:48:46.786Z"
   },
   {
    "duration": 23,
    "start_time": "2022-01-08T12:48:47.596Z"
   },
   {
    "duration": 20,
    "start_time": "2022-01-08T12:48:47.623Z"
   },
   {
    "duration": 35,
    "start_time": "2022-01-08T12:48:47.646Z"
   },
   {
    "duration": 44,
    "start_time": "2022-01-08T12:48:47.684Z"
   },
   {
    "duration": 19,
    "start_time": "2022-01-08T12:48:47.731Z"
   },
   {
    "duration": 28,
    "start_time": "2022-01-08T12:48:47.753Z"
   },
   {
    "duration": 50,
    "start_time": "2022-01-08T12:48:47.785Z"
   },
   {
    "duration": 5,
    "start_time": "2022-01-08T12:48:47.838Z"
   },
   {
    "duration": 71,
    "start_time": "2022-01-08T12:48:47.846Z"
   },
   {
    "duration": 21,
    "start_time": "2022-01-08T12:48:47.920Z"
   },
   {
    "duration": 19,
    "start_time": "2022-01-08T12:48:47.944Z"
   },
   {
    "duration": 12,
    "start_time": "2022-01-08T12:48:47.966Z"
   },
   {
    "duration": 57,
    "start_time": "2022-01-08T12:48:47.981Z"
   },
   {
    "duration": 7,
    "start_time": "2022-01-08T12:48:48.041Z"
   },
   {
    "duration": 13,
    "start_time": "2022-01-08T12:48:48.052Z"
   },
   {
    "duration": 4,
    "start_time": "2022-01-08T12:50:35.820Z"
   },
   {
    "duration": 541,
    "start_time": "2022-01-08T12:50:35.828Z"
   },
   {
    "duration": 21,
    "start_time": "2022-01-08T12:50:36.372Z"
   },
   {
    "duration": 6,
    "start_time": "2022-01-08T12:50:36.397Z"
   },
   {
    "duration": 39,
    "start_time": "2022-01-08T12:50:36.406Z"
   },
   {
    "duration": 21,
    "start_time": "2022-01-08T12:50:36.448Z"
   },
   {
    "duration": 47,
    "start_time": "2022-01-08T12:50:36.472Z"
   },
   {
    "duration": 26,
    "start_time": "2022-01-08T12:50:36.522Z"
   },
   {
    "duration": 15,
    "start_time": "2022-01-08T12:50:36.552Z"
   },
   {
    "duration": 50,
    "start_time": "2022-01-08T12:50:36.570Z"
   },
   {
    "duration": 23,
    "start_time": "2022-01-08T12:50:36.623Z"
   },
   {
    "duration": 1621,
    "start_time": "2022-01-08T12:50:36.649Z"
   },
   {
    "duration": -987,
    "start_time": "2022-01-08T12:50:39.259Z"
   },
   {
    "duration": -997,
    "start_time": "2022-01-08T12:50:39.271Z"
   },
   {
    "duration": -1000,
    "start_time": "2022-01-08T12:50:39.275Z"
   },
   {
    "duration": -999,
    "start_time": "2022-01-08T12:50:39.276Z"
   },
   {
    "duration": -999,
    "start_time": "2022-01-08T12:50:39.277Z"
   },
   {
    "duration": 16,
    "start_time": "2022-01-08T12:50:53.938Z"
   },
   {
    "duration": 6,
    "start_time": "2022-01-08T12:50:58.842Z"
   },
   {
    "duration": 5,
    "start_time": "2022-01-08T12:51:23.811Z"
   },
   {
    "duration": 512,
    "start_time": "2022-01-08T12:51:23.819Z"
   },
   {
    "duration": 19,
    "start_time": "2022-01-08T12:51:24.334Z"
   },
   {
    "duration": 6,
    "start_time": "2022-01-08T12:51:24.356Z"
   },
   {
    "duration": 61,
    "start_time": "2022-01-08T12:51:24.365Z"
   },
   {
    "duration": 18,
    "start_time": "2022-01-08T12:51:24.428Z"
   },
   {
    "duration": 5,
    "start_time": "2022-01-08T12:51:24.448Z"
   },
   {
    "duration": 65,
    "start_time": "2022-01-08T12:51:24.455Z"
   },
   {
    "duration": 15,
    "start_time": "2022-01-08T12:51:24.523Z"
   },
   {
    "duration": 9,
    "start_time": "2022-01-08T12:51:24.540Z"
   },
   {
    "duration": 70,
    "start_time": "2022-01-08T12:51:24.552Z"
   },
   {
    "duration": 12,
    "start_time": "2022-01-08T12:51:24.624Z"
   },
   {
    "duration": 8,
    "start_time": "2022-01-08T12:51:24.639Z"
   },
   {
    "duration": 9,
    "start_time": "2022-01-08T12:51:24.650Z"
   },
   {
    "duration": 70,
    "start_time": "2022-01-08T12:51:24.662Z"
   },
   {
    "duration": 7,
    "start_time": "2022-01-08T12:51:24.735Z"
   },
   {
    "duration": 14,
    "start_time": "2022-01-08T12:51:24.745Z"
   },
   {
    "duration": 4,
    "start_time": "2022-01-08T12:54:33.702Z"
   },
   {
    "duration": 546,
    "start_time": "2022-01-08T12:54:33.709Z"
   },
   {
    "duration": 20,
    "start_time": "2022-01-08T12:54:34.257Z"
   },
   {
    "duration": 7,
    "start_time": "2022-01-08T12:54:34.280Z"
   },
   {
    "duration": 65,
    "start_time": "2022-01-08T12:54:34.290Z"
   },
   {
    "duration": 22,
    "start_time": "2022-01-08T12:54:34.358Z"
   },
   {
    "duration": 34,
    "start_time": "2022-01-08T12:54:34.383Z"
   },
   {
    "duration": 29,
    "start_time": "2022-01-08T12:54:34.421Z"
   },
   {
    "duration": 16,
    "start_time": "2022-01-08T12:54:34.454Z"
   },
   {
    "duration": 46,
    "start_time": "2022-01-08T12:54:34.473Z"
   },
   {
    "duration": 23,
    "start_time": "2022-01-08T12:54:34.522Z"
   },
   {
    "duration": 13,
    "start_time": "2022-01-08T12:54:34.548Z"
   },
   {
    "duration": 54,
    "start_time": "2022-01-08T12:54:34.563Z"
   },
   {
    "duration": 9,
    "start_time": "2022-01-08T12:54:34.620Z"
   },
   {
    "duration": 24,
    "start_time": "2022-01-08T12:54:34.632Z"
   },
   {
    "duration": 6,
    "start_time": "2022-01-08T12:54:34.660Z"
   },
   {
    "duration": 58,
    "start_time": "2022-01-08T12:54:34.669Z"
   },
   {
    "duration": 5,
    "start_time": "2022-01-08T13:02:27.774Z"
   },
   {
    "duration": 613,
    "start_time": "2022-01-08T13:02:27.782Z"
   },
   {
    "duration": 26,
    "start_time": "2022-01-08T13:02:28.398Z"
   },
   {
    "duration": 6,
    "start_time": "2022-01-08T13:02:28.428Z"
   },
   {
    "duration": 47,
    "start_time": "2022-01-08T13:02:28.437Z"
   },
   {
    "duration": 48,
    "start_time": "2022-01-08T13:02:28.487Z"
   },
   {
    "duration": 6,
    "start_time": "2022-01-08T13:02:28.538Z"
   },
   {
    "duration": 74,
    "start_time": "2022-01-08T13:02:28.548Z"
   },
   {
    "duration": 16,
    "start_time": "2022-01-08T13:02:28.627Z"
   },
   {
    "duration": 5,
    "start_time": "2022-01-08T13:02:28.646Z"
   },
   {
    "duration": 71,
    "start_time": "2022-01-08T13:02:28.653Z"
   },
   {
    "duration": 13,
    "start_time": "2022-01-08T13:02:28.727Z"
   },
   {
    "duration": 6,
    "start_time": "2022-01-08T13:02:28.743Z"
   },
   {
    "duration": 9,
    "start_time": "2022-01-08T13:02:28.751Z"
   },
   {
    "duration": 69,
    "start_time": "2022-01-08T13:02:28.763Z"
   },
   {
    "duration": 10,
    "start_time": "2022-01-08T13:02:28.836Z"
   },
   {
    "duration": 13,
    "start_time": "2022-01-08T13:02:28.849Z"
   },
   {
    "duration": 883,
    "start_time": "2022-01-09T10:52:08.585Z"
   },
   {
    "duration": 537,
    "start_time": "2022-01-09T10:52:09.470Z"
   },
   {
    "duration": 30,
    "start_time": "2022-01-09T10:52:10.010Z"
   },
   {
    "duration": 5,
    "start_time": "2022-01-09T10:52:10.042Z"
   },
   {
    "duration": 32,
    "start_time": "2022-01-09T10:52:10.049Z"
   },
   {
    "duration": 59,
    "start_time": "2022-01-09T10:52:10.084Z"
   },
   {
    "duration": 5,
    "start_time": "2022-01-09T10:52:10.146Z"
   },
   {
    "duration": 29,
    "start_time": "2022-01-09T10:52:10.155Z"
   },
   {
    "duration": 46,
    "start_time": "2022-01-09T10:52:10.186Z"
   },
   {
    "duration": 10,
    "start_time": "2022-01-09T10:52:10.235Z"
   },
   {
    "duration": 30,
    "start_time": "2022-01-09T10:52:10.247Z"
   },
   {
    "duration": 41,
    "start_time": "2022-01-09T10:52:10.280Z"
   },
   {
    "duration": 7,
    "start_time": "2022-01-09T10:52:10.324Z"
   },
   {
    "duration": 9,
    "start_time": "2022-01-09T10:52:10.334Z"
   },
   {
    "duration": 16,
    "start_time": "2022-01-09T10:52:10.345Z"
   },
   {
    "duration": 60,
    "start_time": "2022-01-09T10:52:10.363Z"
   },
   {
    "duration": 16,
    "start_time": "2022-01-09T10:52:10.426Z"
   },
   {
    "duration": 9,
    "start_time": "2022-01-09T10:57:21.853Z"
   },
   {
    "duration": 26,
    "start_time": "2022-01-09T10:57:29.653Z"
   },
   {
    "duration": 4,
    "start_time": "2022-01-09T10:57:49.938Z"
   },
   {
    "duration": 553,
    "start_time": "2022-01-09T10:57:49.945Z"
   },
   {
    "duration": 11,
    "start_time": "2022-01-09T10:57:50.501Z"
   },
   {
    "duration": 11,
    "start_time": "2022-01-09T10:57:50.514Z"
   },
   {
    "duration": 30,
    "start_time": "2022-01-09T10:57:50.528Z"
   },
   {
    "duration": 19,
    "start_time": "2022-01-09T10:57:50.560Z"
   },
   {
    "duration": 45,
    "start_time": "2022-01-09T10:57:50.581Z"
   },
   {
    "duration": 28,
    "start_time": "2022-01-09T10:57:50.629Z"
   },
   {
    "duration": 68,
    "start_time": "2022-01-09T10:57:50.662Z"
   },
   {
    "duration": 6,
    "start_time": "2022-01-09T10:57:50.733Z"
   },
   {
    "duration": 19,
    "start_time": "2022-01-09T10:57:50.742Z"
   },
   {
    "duration": 12,
    "start_time": "2022-01-09T10:57:50.763Z"
   },
   {
    "duration": 8,
    "start_time": "2022-01-09T10:57:50.821Z"
   },
   {
    "duration": 8,
    "start_time": "2022-01-09T10:57:50.833Z"
   },
   {
    "duration": 20,
    "start_time": "2022-01-09T10:57:50.843Z"
   },
   {
    "duration": 63,
    "start_time": "2022-01-09T10:57:50.866Z"
   },
   {
    "duration": 11,
    "start_time": "2022-01-09T10:57:50.932Z"
   },
   {
    "duration": 21,
    "start_time": "2022-01-09T10:57:50.946Z"
   },
   {
    "duration": 425,
    "start_time": "2022-01-09T11:00:57.699Z"
   },
   {
    "duration": 14,
    "start_time": "2022-01-09T11:01:11.530Z"
   },
   {
    "duration": 19,
    "start_time": "2022-01-09T11:01:45.945Z"
   },
   {
    "duration": 15,
    "start_time": "2022-01-09T11:01:49.521Z"
   },
   {
    "duration": 13,
    "start_time": "2022-01-09T11:01:53.033Z"
   },
   {
    "duration": 15,
    "start_time": "2022-01-09T11:02:05.600Z"
   },
   {
    "duration": 4,
    "start_time": "2022-01-09T11:02:09.700Z"
   },
   {
    "duration": 543,
    "start_time": "2022-01-09T11:02:09.707Z"
   },
   {
    "duration": 11,
    "start_time": "2022-01-09T11:02:10.253Z"
   },
   {
    "duration": 10,
    "start_time": "2022-01-09T11:02:10.267Z"
   },
   {
    "duration": 30,
    "start_time": "2022-01-09T11:02:10.280Z"
   },
   {
    "duration": 22,
    "start_time": "2022-01-09T11:02:10.317Z"
   },
   {
    "duration": 6,
    "start_time": "2022-01-09T11:02:10.342Z"
   },
   {
    "duration": 69,
    "start_time": "2022-01-09T11:02:10.350Z"
   },
   {
    "duration": 16,
    "start_time": "2022-01-09T11:02:10.426Z"
   },
   {
    "duration": 4,
    "start_time": "2022-01-09T11:02:10.445Z"
   },
   {
    "duration": 20,
    "start_time": "2022-01-09T11:02:10.451Z"
   },
   {
    "duration": 17,
    "start_time": "2022-01-09T11:02:10.518Z"
   },
   {
    "duration": 5,
    "start_time": "2022-01-09T11:02:10.538Z"
   },
   {
    "duration": 9,
    "start_time": "2022-01-09T11:02:10.545Z"
   },
   {
    "duration": 62,
    "start_time": "2022-01-09T11:02:10.557Z"
   },
   {
    "duration": 20,
    "start_time": "2022-01-09T11:02:10.621Z"
   },
   {
    "duration": 8,
    "start_time": "2022-01-09T11:02:10.644Z"
   },
   {
    "duration": 18,
    "start_time": "2022-01-09T11:02:10.655Z"
   },
   {
    "duration": 4,
    "start_time": "2022-01-09T11:02:27.177Z"
   },
   {
    "duration": 550,
    "start_time": "2022-01-09T11:02:27.185Z"
   },
   {
    "duration": 14,
    "start_time": "2022-01-09T11:02:27.739Z"
   },
   {
    "duration": 8,
    "start_time": "2022-01-09T11:02:27.757Z"
   },
   {
    "duration": 63,
    "start_time": "2022-01-09T11:02:27.768Z"
   },
   {
    "duration": 22,
    "start_time": "2022-01-09T11:02:27.834Z"
   },
   {
    "duration": 6,
    "start_time": "2022-01-09T11:02:27.858Z"
   },
   {
    "duration": 65,
    "start_time": "2022-01-09T11:02:27.866Z"
   },
   {
    "duration": 17,
    "start_time": "2022-01-09T11:02:27.937Z"
   },
   {
    "duration": 6,
    "start_time": "2022-01-09T11:02:27.957Z"
   },
   {
    "duration": 74,
    "start_time": "2022-01-09T11:02:27.966Z"
   },
   {
    "duration": 15,
    "start_time": "2022-01-09T11:02:28.043Z"
   },
   {
    "duration": 6,
    "start_time": "2022-01-09T11:02:28.061Z"
   },
   {
    "duration": 62,
    "start_time": "2022-01-09T11:02:28.069Z"
   },
   {
    "duration": 16,
    "start_time": "2022-01-09T11:02:28.134Z"
   },
   {
    "duration": 7,
    "start_time": "2022-01-09T11:02:28.153Z"
   },
   {
    "duration": 9,
    "start_time": "2022-01-09T11:02:28.163Z"
   },
   {
    "duration": 22,
    "start_time": "2022-01-09T11:02:28.224Z"
   },
   {
    "duration": 16,
    "start_time": "2022-01-09T11:02:48.575Z"
   },
   {
    "duration": 22,
    "start_time": "2022-01-09T11:03:02.863Z"
   },
   {
    "duration": 12,
    "start_time": "2022-01-09T11:03:21.247Z"
   },
   {
    "duration": 20,
    "start_time": "2022-01-09T11:03:27.368Z"
   },
   {
    "duration": 6,
    "start_time": "2022-01-09T11:03:34.968Z"
   },
   {
    "duration": 6,
    "start_time": "2022-01-09T11:03:47.575Z"
   },
   {
    "duration": 4,
    "start_time": "2022-01-09T11:05:41.764Z"
   },
   {
    "duration": 580,
    "start_time": "2022-01-09T11:05:41.771Z"
   },
   {
    "duration": 11,
    "start_time": "2022-01-09T11:05:42.354Z"
   },
   {
    "duration": 10,
    "start_time": "2022-01-09T11:05:42.367Z"
   },
   {
    "duration": 27,
    "start_time": "2022-01-09T11:05:42.379Z"
   },
   {
    "duration": 26,
    "start_time": "2022-01-09T11:05:42.409Z"
   },
   {
    "duration": 4,
    "start_time": "2022-01-09T11:05:42.438Z"
   },
   {
    "duration": 24,
    "start_time": "2022-01-09T11:05:42.444Z"
   },
   {
    "duration": 55,
    "start_time": "2022-01-09T11:05:42.471Z"
   },
   {
    "duration": 6,
    "start_time": "2022-01-09T11:05:42.530Z"
   },
   {
    "duration": 20,
    "start_time": "2022-01-09T11:05:42.545Z"
   },
   {
    "duration": 67,
    "start_time": "2022-01-09T11:05:42.568Z"
   },
   {
    "duration": 8,
    "start_time": "2022-01-09T11:05:42.637Z"
   },
   {
    "duration": 9,
    "start_time": "2022-01-09T11:05:42.647Z"
   },
   {
    "duration": 68,
    "start_time": "2022-01-09T11:05:42.658Z"
   },
   {
    "duration": 6,
    "start_time": "2022-01-09T11:05:42.730Z"
   },
   {
    "duration": 10,
    "start_time": "2022-01-09T11:05:42.738Z"
   },
   {
    "duration": 8,
    "start_time": "2022-01-09T11:05:42.750Z"
   },
   {
    "duration": 38,
    "start_time": "2022-01-09T11:07:40.667Z"
   },
   {
    "duration": 21,
    "start_time": "2022-01-09T11:07:53.003Z"
   },
   {
    "duration": 281,
    "start_time": "2022-01-09T12:31:21.837Z"
   },
   {
    "duration": 5,
    "start_time": "2022-01-09T12:31:26.975Z"
   },
   {
    "duration": 506,
    "start_time": "2022-01-09T12:31:26.983Z"
   },
   {
    "duration": 13,
    "start_time": "2022-01-09T12:31:27.493Z"
   },
   {
    "duration": 7,
    "start_time": "2022-01-09T12:31:27.510Z"
   },
   {
    "duration": 26,
    "start_time": "2022-01-09T12:31:27.520Z"
   },
   {
    "duration": 18,
    "start_time": "2022-01-09T12:31:27.548Z"
   },
   {
    "duration": 49,
    "start_time": "2022-01-09T12:31:27.568Z"
   },
   {
    "duration": 25,
    "start_time": "2022-01-09T12:31:27.620Z"
   },
   {
    "duration": 30,
    "start_time": "2022-01-09T12:31:27.648Z"
   },
   {
    "duration": 5,
    "start_time": "2022-01-09T12:31:27.681Z"
   },
   {
    "duration": 20,
    "start_time": "2022-01-09T12:31:27.718Z"
   },
   {
    "duration": 24,
    "start_time": "2022-01-09T12:31:27.741Z"
   },
   {
    "duration": 18,
    "start_time": "2022-01-09T12:31:27.768Z"
   },
   {
    "duration": 42,
    "start_time": "2022-01-09T12:31:27.788Z"
   },
   {
    "duration": 28,
    "start_time": "2022-01-09T12:31:27.833Z"
   },
   {
    "duration": 15,
    "start_time": "2022-01-09T12:31:27.863Z"
   },
   {
    "duration": 37,
    "start_time": "2022-01-09T12:31:27.881Z"
   },
   {
    "duration": 19,
    "start_time": "2022-01-09T12:31:27.920Z"
   },
   {
    "duration": 320,
    "start_time": "2022-01-09T12:31:27.941Z"
   },
   {
    "duration": 293,
    "start_time": "2022-01-09T12:31:39.493Z"
   },
   {
    "duration": 37,
    "start_time": "2022-01-09T12:32:49.891Z"
   },
   {
    "duration": 40,
    "start_time": "2022-01-09T12:32:51.683Z"
   },
   {
    "duration": 4,
    "start_time": "2022-01-09T12:35:16.933Z"
   },
   {
    "duration": 511,
    "start_time": "2022-01-09T12:35:16.940Z"
   },
   {
    "duration": 10,
    "start_time": "2022-01-09T12:35:17.454Z"
   },
   {
    "duration": 10,
    "start_time": "2022-01-09T12:35:17.467Z"
   },
   {
    "duration": 31,
    "start_time": "2022-01-09T12:35:17.480Z"
   },
   {
    "duration": 20,
    "start_time": "2022-01-09T12:35:17.518Z"
   },
   {
    "duration": 6,
    "start_time": "2022-01-09T12:35:17.540Z"
   },
   {
    "duration": 68,
    "start_time": "2022-01-09T12:35:17.549Z"
   },
   {
    "duration": 15,
    "start_time": "2022-01-09T12:35:17.620Z"
   },
   {
    "duration": 7,
    "start_time": "2022-01-09T12:35:17.637Z"
   },
   {
    "duration": 19,
    "start_time": "2022-01-09T12:35:17.647Z"
   },
   {
    "duration": 54,
    "start_time": "2022-01-09T12:35:17.668Z"
   },
   {
    "duration": 5,
    "start_time": "2022-01-09T12:35:17.725Z"
   },
   {
    "duration": 9,
    "start_time": "2022-01-09T12:35:17.733Z"
   },
   {
    "duration": 19,
    "start_time": "2022-01-09T12:35:17.745Z"
   },
   {
    "duration": 51,
    "start_time": "2022-01-09T12:35:17.766Z"
   },
   {
    "duration": 9,
    "start_time": "2022-01-09T12:35:17.819Z"
   },
   {
    "duration": 10,
    "start_time": "2022-01-09T12:35:17.830Z"
   },
   {
    "duration": 130,
    "start_time": "2022-01-09T12:35:17.842Z"
   },
   {
    "duration": 96,
    "start_time": "2022-01-09T12:35:17.975Z"
   },
   {
    "duration": 90,
    "start_time": "2022-01-09T12:36:37.976Z"
   },
   {
    "duration": 70,
    "start_time": "2022-01-09T12:36:42.911Z"
   },
   {
    "duration": 97,
    "start_time": "2022-01-09T12:38:03.653Z"
   },
   {
    "duration": 82,
    "start_time": "2022-01-09T12:40:51.299Z"
   },
   {
    "duration": 80,
    "start_time": "2022-01-09T12:40:56.675Z"
   },
   {
    "duration": 22,
    "start_time": "2022-01-09T12:41:14.826Z"
   },
   {
    "duration": 21,
    "start_time": "2022-01-09T12:41:22.058Z"
   },
   {
    "duration": 84,
    "start_time": "2022-01-09T12:43:46.679Z"
   },
   {
    "duration": 105,
    "start_time": "2022-01-09T12:44:15.047Z"
   },
   {
    "duration": 119,
    "start_time": "2022-01-09T12:44:44.121Z"
   },
   {
    "duration": 132,
    "start_time": "2022-01-09T12:45:41.783Z"
   },
   {
    "duration": 83,
    "start_time": "2022-01-09T12:47:13.733Z"
   },
   {
    "duration": 96,
    "start_time": "2022-01-09T12:47:33.939Z"
   },
   {
    "duration": 312,
    "start_time": "2022-01-09T12:47:39.347Z"
   },
   {
    "duration": 76,
    "start_time": "2022-01-09T12:47:52.676Z"
   },
   {
    "duration": 50,
    "start_time": "2022-01-09T12:49:14.706Z"
   },
   {
    "duration": 78,
    "start_time": "2022-01-09T12:49:52.266Z"
   },
   {
    "duration": 57,
    "start_time": "2022-01-09T12:50:09.266Z"
   },
   {
    "duration": 57,
    "start_time": "2022-01-09T12:50:16.256Z"
   },
   {
    "duration": 54,
    "start_time": "2022-01-09T12:51:56.343Z"
   },
   {
    "duration": 39,
    "start_time": "2022-01-09T12:52:11.118Z"
   },
   {
    "duration": 434,
    "start_time": "2022-01-09T12:52:17.767Z"
   },
   {
    "duration": 22,
    "start_time": "2022-01-09T12:52:24.943Z"
   },
   {
    "duration": 25,
    "start_time": "2022-01-09T12:52:50.646Z"
   },
   {
    "duration": 23,
    "start_time": "2022-01-09T12:53:15.798Z"
   },
   {
    "duration": 21,
    "start_time": "2022-01-09T12:53:24.445Z"
   },
   {
    "duration": 27,
    "start_time": "2022-01-09T12:53:27.863Z"
   },
   {
    "duration": 21,
    "start_time": "2022-01-09T12:55:02.708Z"
   },
   {
    "duration": 4,
    "start_time": "2022-01-09T12:57:16.635Z"
   },
   {
    "duration": 531,
    "start_time": "2022-01-09T12:57:16.642Z"
   },
   {
    "duration": 12,
    "start_time": "2022-01-09T12:57:17.176Z"
   },
   {
    "duration": 7,
    "start_time": "2022-01-09T12:57:17.191Z"
   },
   {
    "duration": 29,
    "start_time": "2022-01-09T12:57:17.201Z"
   },
   {
    "duration": 18,
    "start_time": "2022-01-09T12:57:17.232Z"
   },
   {
    "duration": 4,
    "start_time": "2022-01-09T12:57:17.253Z"
   },
   {
    "duration": 63,
    "start_time": "2022-01-09T12:57:17.261Z"
   },
   {
    "duration": 15,
    "start_time": "2022-01-09T12:57:17.328Z"
   },
   {
    "duration": 8,
    "start_time": "2022-01-09T12:57:17.345Z"
   },
   {
    "duration": 30,
    "start_time": "2022-01-09T12:57:17.355Z"
   },
   {
    "duration": 38,
    "start_time": "2022-01-09T12:57:17.387Z"
   },
   {
    "duration": 9,
    "start_time": "2022-01-09T12:57:17.427Z"
   },
   {
    "duration": 11,
    "start_time": "2022-01-09T12:57:17.438Z"
   },
   {
    "duration": 18,
    "start_time": "2022-01-09T12:57:17.451Z"
   },
   {
    "duration": 5,
    "start_time": "2022-01-09T12:57:17.518Z"
   },
   {
    "duration": 10,
    "start_time": "2022-01-09T12:57:17.525Z"
   },
   {
    "duration": 13,
    "start_time": "2022-01-09T12:57:17.537Z"
   },
   {
    "duration": 126,
    "start_time": "2022-01-09T12:57:17.552Z"
   },
   {
    "duration": 87,
    "start_time": "2022-01-09T12:57:17.680Z"
   },
   {
    "duration": 76,
    "start_time": "2022-01-09T12:57:17.770Z"
   },
   {
    "duration": 86,
    "start_time": "2022-01-09T12:57:17.849Z"
   },
   {
    "duration": 25,
    "start_time": "2022-01-09T12:57:17.940Z"
   },
   {
    "duration": 59,
    "start_time": "2022-01-09T12:57:17.968Z"
   },
   {
    "duration": 73,
    "start_time": "2022-01-09T13:02:39.843Z"
   },
   {
    "duration": 741,
    "start_time": "2022-01-09T13:02:49.564Z"
   },
   {
    "duration": 58,
    "start_time": "2022-01-09T13:03:01.837Z"
   },
   {
    "duration": 73,
    "start_time": "2022-01-09T13:03:05.092Z"
   },
   {
    "duration": 55,
    "start_time": "2022-01-09T13:03:08.572Z"
   },
   {
    "duration": 43,
    "start_time": "2022-01-09T13:03:20.931Z"
   },
   {
    "duration": 21,
    "start_time": "2022-01-09T13:03:23.499Z"
   },
   {
    "duration": 69,
    "start_time": "2022-01-09T13:04:46.762Z"
   },
   {
    "duration": 76,
    "start_time": "2022-01-09T13:05:40.529Z"
   },
   {
    "duration": 59,
    "start_time": "2022-01-09T13:06:20.343Z"
   },
   {
    "duration": 53,
    "start_time": "2022-01-09T13:08:52.454Z"
   },
   {
    "duration": 23,
    "start_time": "2022-01-09T13:09:32.846Z"
   },
   {
    "duration": 78,
    "start_time": "2022-01-09T13:11:44.650Z"
   },
   {
    "duration": 52,
    "start_time": "2022-01-09T13:13:07.041Z"
   },
   {
    "duration": 42,
    "start_time": "2022-01-09T13:13:13.225Z"
   },
   {
    "duration": 46,
    "start_time": "2022-01-09T13:16:51.645Z"
   },
   {
    "duration": 22,
    "start_time": "2022-01-09T13:18:11.516Z"
   },
   {
    "duration": 365,
    "start_time": "2022-01-10T06:00:03.463Z"
   },
   {
    "duration": 624,
    "start_time": "2022-01-10T06:00:11.067Z"
   },
   {
    "duration": 397,
    "start_time": "2022-01-10T06:00:11.693Z"
   },
   {
    "duration": 10,
    "start_time": "2022-01-10T06:00:12.092Z"
   },
   {
    "duration": 5,
    "start_time": "2022-01-10T06:00:12.104Z"
   },
   {
    "duration": 18,
    "start_time": "2022-01-10T06:00:12.111Z"
   },
   {
    "duration": 11,
    "start_time": "2022-01-10T06:00:12.131Z"
   },
   {
    "duration": 3,
    "start_time": "2022-01-10T06:00:12.143Z"
   },
   {
    "duration": 16,
    "start_time": "2022-01-10T06:00:12.148Z"
   },
   {
    "duration": 8,
    "start_time": "2022-01-10T06:00:12.166Z"
   },
   {
    "duration": 8,
    "start_time": "2022-01-10T06:00:12.176Z"
   },
   {
    "duration": 14,
    "start_time": "2022-01-10T06:00:12.185Z"
   },
   {
    "duration": 27,
    "start_time": "2022-01-10T06:00:12.200Z"
   },
   {
    "duration": 3,
    "start_time": "2022-01-10T06:00:12.228Z"
   },
   {
    "duration": 7,
    "start_time": "2022-01-10T06:00:12.233Z"
   },
   {
    "duration": 11,
    "start_time": "2022-01-10T06:00:12.242Z"
   },
   {
    "duration": 4,
    "start_time": "2022-01-10T06:00:12.254Z"
   },
   {
    "duration": 8,
    "start_time": "2022-01-10T06:00:12.260Z"
   },
   {
    "duration": 8,
    "start_time": "2022-01-10T06:00:12.269Z"
   },
   {
    "duration": 84,
    "start_time": "2022-01-10T06:00:12.278Z"
   },
   {
    "duration": 50,
    "start_time": "2022-01-10T06:00:12.363Z"
   },
   {
    "duration": 49,
    "start_time": "2022-01-10T06:00:12.414Z"
   },
   {
    "duration": 37,
    "start_time": "2022-01-10T06:00:12.465Z"
   },
   {
    "duration": 27,
    "start_time": "2022-01-10T06:00:12.505Z"
   },
   {
    "duration": 13,
    "start_time": "2022-01-10T06:00:12.533Z"
   },
   {
    "duration": 33,
    "start_time": "2022-01-10T06:00:12.548Z"
   },
   {
    "duration": 14,
    "start_time": "2022-01-10T06:00:12.582Z"
   },
   {
    "duration": 53,
    "start_time": "2022-01-10T06:00:12.598Z"
   },
   {
    "duration": 31,
    "start_time": "2022-01-10T06:00:12.653Z"
   },
   {
    "duration": 14,
    "start_time": "2022-01-10T06:00:12.686Z"
   },
   {
    "duration": 35,
    "start_time": "2022-01-10T06:02:09.918Z"
   },
   {
    "duration": 29,
    "start_time": "2022-01-10T06:02:16.032Z"
   },
   {
    "duration": 12,
    "start_time": "2022-01-10T06:05:47.748Z"
   },
   {
    "duration": 12,
    "start_time": "2022-01-10T06:05:53.475Z"
   },
   {
    "duration": 10,
    "start_time": "2022-01-10T06:05:55.355Z"
   },
   {
    "duration": 5,
    "start_time": "2022-01-10T06:05:59.324Z"
   },
   {
    "duration": 6,
    "start_time": "2022-01-10T06:06:01.524Z"
   },
   {
    "duration": 6,
    "start_time": "2022-01-10T06:10:16.290Z"
   },
   {
    "duration": 10,
    "start_time": "2022-01-10T06:10:20.818Z"
   },
   {
    "duration": 6,
    "start_time": "2022-01-10T06:10:32.329Z"
   },
   {
    "duration": 5,
    "start_time": "2022-01-10T06:10:52.403Z"
   },
   {
    "duration": 5,
    "start_time": "2022-01-10T06:11:32.148Z"
   },
   {
    "duration": 127,
    "start_time": "2022-01-10T06:13:51.006Z"
   },
   {
    "duration": 124,
    "start_time": "2022-01-10T06:14:36.137Z"
   },
   {
    "duration": 3,
    "start_time": "2022-01-10T06:21:28.057Z"
   },
   {
    "duration": 391,
    "start_time": "2022-01-10T06:21:28.062Z"
   },
   {
    "duration": 6,
    "start_time": "2022-01-10T06:21:28.455Z"
   },
   {
    "duration": 6,
    "start_time": "2022-01-10T06:21:28.463Z"
   },
   {
    "duration": 20,
    "start_time": "2022-01-10T06:21:28.470Z"
   },
   {
    "duration": 10,
    "start_time": "2022-01-10T06:21:28.491Z"
   },
   {
    "duration": 3,
    "start_time": "2022-01-10T06:21:28.502Z"
   },
   {
    "duration": 15,
    "start_time": "2022-01-10T06:21:28.507Z"
   },
   {
    "duration": 8,
    "start_time": "2022-01-10T06:21:28.523Z"
   },
   {
    "duration": 4,
    "start_time": "2022-01-10T06:21:28.533Z"
   },
   {
    "duration": 14,
    "start_time": "2022-01-10T06:21:28.538Z"
   },
   {
    "duration": 7,
    "start_time": "2022-01-10T06:21:28.553Z"
   },
   {
    "duration": 5,
    "start_time": "2022-01-10T06:21:28.561Z"
   },
   {
    "duration": 7,
    "start_time": "2022-01-10T06:21:28.567Z"
   },
   {
    "duration": 12,
    "start_time": "2022-01-10T06:21:28.576Z"
   },
   {
    "duration": 6,
    "start_time": "2022-01-10T06:21:28.590Z"
   },
   {
    "duration": 7,
    "start_time": "2022-01-10T06:21:28.627Z"
   },
   {
    "duration": 18,
    "start_time": "2022-01-10T06:21:28.636Z"
   },
   {
    "duration": 13,
    "start_time": "2022-01-10T06:21:28.657Z"
   },
   {
    "duration": 11,
    "start_time": "2022-01-10T06:21:28.672Z"
   },
   {
    "duration": 4,
    "start_time": "2022-01-10T06:21:28.685Z"
   },
   {
    "duration": 5,
    "start_time": "2022-01-10T06:21:28.691Z"
   },
   {
    "duration": 163,
    "start_time": "2022-01-10T06:21:28.697Z"
   },
   {
    "duration": 6,
    "start_time": "2022-01-10T06:21:28.861Z"
   },
   {
    "duration": 6,
    "start_time": "2022-01-10T06:21:28.868Z"
   },
   {
    "duration": 71,
    "start_time": "2022-01-10T06:21:28.876Z"
   },
   {
    "duration": 48,
    "start_time": "2022-01-10T06:21:28.949Z"
   },
   {
    "duration": 48,
    "start_time": "2022-01-10T06:21:28.999Z"
   },
   {
    "duration": 30,
    "start_time": "2022-01-10T06:21:29.048Z"
   },
   {
    "duration": 12,
    "start_time": "2022-01-10T06:21:29.079Z"
   },
   {
    "duration": 14,
    "start_time": "2022-01-10T06:21:29.093Z"
   },
   {
    "duration": 33,
    "start_time": "2022-01-10T06:21:29.127Z"
   },
   {
    "duration": 14,
    "start_time": "2022-01-10T06:21:29.162Z"
   },
   {
    "duration": 27,
    "start_time": "2022-01-10T06:21:29.177Z"
   },
   {
    "duration": 26,
    "start_time": "2022-01-10T06:21:29.227Z"
   },
   {
    "duration": 13,
    "start_time": "2022-01-10T06:21:29.255Z"
   },
   {
    "duration": 43,
    "start_time": "2022-01-10T06:26:36.109Z"
   },
   {
    "duration": 9992,
    "start_time": "2022-01-10T07:06:33.243Z"
   },
   {
    "duration": 8371,
    "start_time": "2022-01-10T07:06:52.524Z"
   },
   {
    "duration": 324,
    "start_time": "2022-01-10T07:07:42.725Z"
   },
   {
    "duration": 3,
    "start_time": "2022-01-10T07:08:01.685Z"
   },
   {
    "duration": 8139,
    "start_time": "2022-01-10T07:08:10.636Z"
   },
   {
    "duration": 3,
    "start_time": "2022-01-10T07:17:30.442Z"
   },
   {
    "duration": 4,
    "start_time": "2022-01-10T07:17:49.751Z"
   },
   {
    "duration": 5,
    "start_time": "2022-01-10T07:18:06.649Z"
   },
   {
    "duration": 4,
    "start_time": "2022-01-10T07:18:17.034Z"
   },
   {
    "duration": 3,
    "start_time": "2022-01-10T07:18:43.082Z"
   },
   {
    "duration": 399,
    "start_time": "2022-01-10T07:18:43.086Z"
   },
   {
    "duration": 7,
    "start_time": "2022-01-10T07:18:43.487Z"
   },
   {
    "duration": 4,
    "start_time": "2022-01-10T07:18:43.496Z"
   },
   {
    "duration": 18,
    "start_time": "2022-01-10T07:18:43.502Z"
   },
   {
    "duration": 12,
    "start_time": "2022-01-10T07:18:43.521Z"
   },
   {
    "duration": 3,
    "start_time": "2022-01-10T07:18:43.534Z"
   },
   {
    "duration": 15,
    "start_time": "2022-01-10T07:18:43.539Z"
   },
   {
    "duration": 9,
    "start_time": "2022-01-10T07:18:43.555Z"
   },
   {
    "duration": 3,
    "start_time": "2022-01-10T07:18:43.565Z"
   },
   {
    "duration": 17,
    "start_time": "2022-01-10T07:18:43.569Z"
   },
   {
    "duration": 7,
    "start_time": "2022-01-10T07:18:43.587Z"
   },
   {
    "duration": 33,
    "start_time": "2022-01-10T07:18:43.595Z"
   },
   {
    "duration": 5,
    "start_time": "2022-01-10T07:18:43.629Z"
   },
   {
    "duration": 11,
    "start_time": "2022-01-10T07:18:43.636Z"
   },
   {
    "duration": 4,
    "start_time": "2022-01-10T07:18:43.649Z"
   },
   {
    "duration": 7,
    "start_time": "2022-01-10T07:18:43.654Z"
   },
   {
    "duration": 18,
    "start_time": "2022-01-10T07:18:43.662Z"
   },
   {
    "duration": 14,
    "start_time": "2022-01-10T07:18:43.681Z"
   },
   {
    "duration": 37,
    "start_time": "2022-01-10T07:18:43.697Z"
   },
   {
    "duration": 4,
    "start_time": "2022-01-10T07:18:43.735Z"
   },
   {
    "duration": 5,
    "start_time": "2022-01-10T07:18:43.740Z"
   },
   {
    "duration": 179,
    "start_time": "2022-01-10T07:18:43.748Z"
   },
   {
    "duration": 5,
    "start_time": "2022-01-10T07:18:43.929Z"
   },
   {
    "duration": 7,
    "start_time": "2022-01-10T07:18:43.935Z"
   },
   {
    "duration": 53,
    "start_time": "2022-01-10T07:18:43.944Z"
   },
   {
    "duration": 61,
    "start_time": "2022-01-10T07:18:43.999Z"
   },
   {
    "duration": 5,
    "start_time": "2022-01-10T07:18:44.062Z"
   },
   {
    "duration": 42,
    "start_time": "2022-01-10T07:18:44.069Z"
   },
   {
    "duration": 38,
    "start_time": "2022-01-10T07:18:44.113Z"
   },
   {
    "duration": 14,
    "start_time": "2022-01-10T07:18:44.152Z"
   },
   {
    "duration": 13,
    "start_time": "2022-01-10T07:18:44.167Z"
   },
   {
    "duration": 53,
    "start_time": "2022-01-10T07:18:44.182Z"
   },
   {
    "duration": 15,
    "start_time": "2022-01-10T07:18:44.237Z"
   },
   {
    "duration": 28,
    "start_time": "2022-01-10T07:18:44.253Z"
   },
   {
    "duration": 56,
    "start_time": "2022-01-10T07:18:44.283Z"
   },
   {
    "duration": 12,
    "start_time": "2022-01-10T07:18:44.341Z"
   },
   {
    "duration": 5,
    "start_time": "2022-01-10T07:19:39.899Z"
   },
   {
    "duration": 4,
    "start_time": "2022-01-10T07:19:44.547Z"
   },
   {
    "duration": 4,
    "start_time": "2022-01-10T07:19:47.603Z"
   },
   {
    "duration": 4,
    "start_time": "2022-01-10T07:19:49.883Z"
   },
   {
    "duration": 4,
    "start_time": "2022-01-10T07:20:00.668Z"
   },
   {
    "duration": 5,
    "start_time": "2022-01-10T07:25:32.013Z"
   },
   {
    "duration": 6,
    "start_time": "2022-01-10T07:25:44.955Z"
   },
   {
    "duration": 5,
    "start_time": "2022-01-10T07:25:58.705Z"
   },
   {
    "duration": 3,
    "start_time": "2022-01-10T07:26:24.549Z"
   },
   {
    "duration": 15,
    "start_time": "2022-01-10T10:24:47.310Z"
   },
   {
    "duration": 47,
    "start_time": "2022-01-10T10:26:28.503Z"
   },
   {
    "duration": 3,
    "start_time": "2022-01-10T10:26:33.361Z"
   },
   {
    "duration": 399,
    "start_time": "2022-01-10T10:26:33.366Z"
   },
   {
    "duration": 8,
    "start_time": "2022-01-10T10:26:33.767Z"
   },
   {
    "duration": 4,
    "start_time": "2022-01-10T10:26:33.777Z"
   },
   {
    "duration": 22,
    "start_time": "2022-01-10T10:26:33.782Z"
   },
   {
    "duration": 11,
    "start_time": "2022-01-10T10:26:33.805Z"
   },
   {
    "duration": 6,
    "start_time": "2022-01-10T10:26:33.818Z"
   },
   {
    "duration": 17,
    "start_time": "2022-01-10T10:26:33.826Z"
   },
   {
    "duration": 10,
    "start_time": "2022-01-10T10:26:33.845Z"
   },
   {
    "duration": 5,
    "start_time": "2022-01-10T10:26:33.856Z"
   },
   {
    "duration": 15,
    "start_time": "2022-01-10T10:26:33.862Z"
   },
   {
    "duration": 7,
    "start_time": "2022-01-10T10:26:33.878Z"
   },
   {
    "duration": 5,
    "start_time": "2022-01-10T10:26:33.886Z"
   },
   {
    "duration": 7,
    "start_time": "2022-01-10T10:26:33.893Z"
   },
   {
    "duration": 10,
    "start_time": "2022-01-10T10:26:33.927Z"
   },
   {
    "duration": 5,
    "start_time": "2022-01-10T10:26:33.938Z"
   },
   {
    "duration": 7,
    "start_time": "2022-01-10T10:26:33.945Z"
   },
   {
    "duration": 20,
    "start_time": "2022-01-10T10:26:33.953Z"
   },
   {
    "duration": 15,
    "start_time": "2022-01-10T10:26:33.976Z"
   },
   {
    "duration": 38,
    "start_time": "2022-01-10T10:26:33.992Z"
   },
   {
    "duration": 4,
    "start_time": "2022-01-10T10:26:34.032Z"
   },
   {
    "duration": 7,
    "start_time": "2022-01-10T10:26:34.037Z"
   },
   {
    "duration": 169,
    "start_time": "2022-01-10T10:26:34.046Z"
   },
   {
    "duration": 12,
    "start_time": "2022-01-10T10:26:34.216Z"
   },
   {
    "duration": 5,
    "start_time": "2022-01-10T10:26:34.230Z"
   },
   {
    "duration": 56,
    "start_time": "2022-01-10T10:26:34.236Z"
   },
   {
    "duration": 62,
    "start_time": "2022-01-10T10:26:34.293Z"
   },
   {
    "duration": 38,
    "start_time": "2022-01-10T10:26:34.357Z"
   },
   {
    "duration": 55,
    "start_time": "2022-01-10T10:26:34.397Z"
   },
   {
    "duration": 40,
    "start_time": "2022-01-10T10:26:34.453Z"
   },
   {
    "duration": 16,
    "start_time": "2022-01-10T10:26:34.495Z"
   },
   {
    "duration": 28,
    "start_time": "2022-01-10T10:26:34.512Z"
   },
   {
    "duration": 38,
    "start_time": "2022-01-10T10:26:34.541Z"
   },
   {
    "duration": 17,
    "start_time": "2022-01-10T10:26:34.580Z"
   },
   {
    "duration": 47,
    "start_time": "2022-01-10T10:26:34.599Z"
   },
   {
    "duration": 30,
    "start_time": "2022-01-10T10:26:34.647Z"
   },
   {
    "duration": 13,
    "start_time": "2022-01-10T10:26:34.678Z"
   },
   {
    "duration": 9,
    "start_time": "2022-01-10T10:27:00.428Z"
   },
   {
    "duration": 36,
    "start_time": "2022-01-10T10:27:06.124Z"
   },
   {
    "duration": 28,
    "start_time": "2022-01-10T10:27:21.205Z"
   },
   {
    "duration": 8,
    "start_time": "2022-01-10T10:27:25.676Z"
   },
   {
    "duration": 407,
    "start_time": "2022-01-10T10:28:19.782Z"
   },
   {
    "duration": 31,
    "start_time": "2022-01-10T10:28:35.927Z"
   },
   {
    "duration": 7,
    "start_time": "2022-01-10T10:28:51.480Z"
   },
   {
    "duration": 331,
    "start_time": "2022-01-10T10:31:43.772Z"
   },
   {
    "duration": 378,
    "start_time": "2022-01-10T10:31:49.027Z"
   },
   {
    "duration": 7,
    "start_time": "2022-01-10T10:34:12.806Z"
   },
   {
    "duration": 61,
    "start_time": "2022-01-10T10:34:47.216Z"
   },
   {
    "duration": 398,
    "start_time": "2022-01-10T10:35:13.151Z"
   },
   {
    "duration": 7,
    "start_time": "2022-01-10T10:36:02.065Z"
   },
   {
    "duration": 38,
    "start_time": "2022-01-10T10:37:54.516Z"
   },
   {
    "duration": 29,
    "start_time": "2022-01-10T10:39:06.557Z"
   },
   {
    "duration": 31,
    "start_time": "2022-01-10T10:39:24.645Z"
   },
   {
    "duration": 3,
    "start_time": "2022-01-10T10:40:56.044Z"
   },
   {
    "duration": 384,
    "start_time": "2022-01-10T10:40:56.048Z"
   },
   {
    "duration": 8,
    "start_time": "2022-01-10T10:40:56.433Z"
   },
   {
    "duration": 14,
    "start_time": "2022-01-10T10:40:56.442Z"
   },
   {
    "duration": 33,
    "start_time": "2022-01-10T10:40:56.458Z"
   },
   {
    "duration": 15,
    "start_time": "2022-01-10T10:40:56.493Z"
   },
   {
    "duration": 9,
    "start_time": "2022-01-10T10:40:56.509Z"
   },
   {
    "duration": 26,
    "start_time": "2022-01-10T10:40:56.520Z"
   },
   {
    "duration": 12,
    "start_time": "2022-01-10T10:40:56.548Z"
   },
   {
    "duration": 12,
    "start_time": "2022-01-10T10:40:56.561Z"
   },
   {
    "duration": 31,
    "start_time": "2022-01-10T10:40:56.574Z"
   },
   {
    "duration": 10,
    "start_time": "2022-01-10T10:40:56.606Z"
   },
   {
    "duration": 6,
    "start_time": "2022-01-10T10:40:56.617Z"
   },
   {
    "duration": 6,
    "start_time": "2022-01-10T10:40:56.625Z"
   },
   {
    "duration": 13,
    "start_time": "2022-01-10T10:40:56.633Z"
   },
   {
    "duration": 8,
    "start_time": "2022-01-10T10:40:56.647Z"
   },
   {
    "duration": 13,
    "start_time": "2022-01-10T10:40:56.656Z"
   },
   {
    "duration": 21,
    "start_time": "2022-01-10T10:40:56.670Z"
   },
   {
    "duration": 14,
    "start_time": "2022-01-10T10:40:56.692Z"
   },
   {
    "duration": 24,
    "start_time": "2022-01-10T10:40:56.708Z"
   },
   {
    "duration": 4,
    "start_time": "2022-01-10T10:40:56.733Z"
   },
   {
    "duration": 8,
    "start_time": "2022-01-10T10:40:56.739Z"
   },
   {
    "duration": 162,
    "start_time": "2022-01-10T10:40:56.750Z"
   },
   {
    "duration": 16,
    "start_time": "2022-01-10T10:40:56.914Z"
   },
   {
    "duration": 11,
    "start_time": "2022-01-10T10:40:56.931Z"
   },
   {
    "duration": 62,
    "start_time": "2022-01-10T10:40:56.944Z"
   },
   {
    "duration": 49,
    "start_time": "2022-01-10T10:40:57.007Z"
   },
   {
    "duration": 34,
    "start_time": "2022-01-10T10:40:57.058Z"
   },
   {
    "duration": 57,
    "start_time": "2022-01-10T10:40:57.094Z"
   },
   {
    "duration": 29,
    "start_time": "2022-01-10T10:40:57.153Z"
   },
   {
    "duration": 11,
    "start_time": "2022-01-10T10:40:57.184Z"
   },
   {
    "duration": 30,
    "start_time": "2022-01-10T10:40:57.197Z"
   },
   {
    "duration": 33,
    "start_time": "2022-01-10T10:40:57.229Z"
   },
   {
    "duration": 14,
    "start_time": "2022-01-10T10:40:57.264Z"
   },
   {
    "duration": 48,
    "start_time": "2022-01-10T10:40:57.280Z"
   },
   {
    "duration": 30,
    "start_time": "2022-01-10T10:40:57.330Z"
   },
   {
    "duration": 13,
    "start_time": "2022-01-10T10:40:57.361Z"
   },
   {
    "duration": 29,
    "start_time": "2022-01-10T10:41:18.120Z"
   },
   {
    "duration": 21,
    "start_time": "2022-01-10T10:41:34.095Z"
   },
   {
    "duration": 356,
    "start_time": "2022-01-10T10:41:42.096Z"
   },
   {
    "duration": 35,
    "start_time": "2022-01-10T10:41:45.224Z"
   },
   {
    "duration": 51,
    "start_time": "2022-01-10T10:42:25.793Z"
   },
   {
    "duration": 94,
    "start_time": "2022-01-10T10:42:29.225Z"
   },
   {
    "duration": 112,
    "start_time": "2022-01-10T10:44:02.867Z"
   },
   {
    "duration": 177,
    "start_time": "2022-01-10T10:44:31.708Z"
   },
   {
    "duration": 125,
    "start_time": "2022-01-10T10:44:37.267Z"
   },
   {
    "duration": 362,
    "start_time": "2022-01-10T10:44:54.420Z"
   },
   {
    "duration": 63,
    "start_time": "2022-01-10T10:46:03.766Z"
   },
   {
    "duration": 115,
    "start_time": "2022-01-10T10:46:06.575Z"
   },
   {
    "duration": 544,
    "start_time": "2022-01-10T10:47:46.601Z"
   },
   {
    "duration": 476,
    "start_time": "2022-01-10T10:47:57.881Z"
   },
   {
    "duration": 126,
    "start_time": "2022-01-10T10:48:23.882Z"
   },
   {
    "duration": 316,
    "start_time": "2022-01-10T10:48:30.410Z"
   },
   {
    "duration": 344,
    "start_time": "2022-01-10T10:48:42.490Z"
   },
   {
    "duration": 332,
    "start_time": "2022-01-10T10:48:57.930Z"
   },
   {
    "duration": 387,
    "start_time": "2022-01-10T10:49:06.242Z"
   },
   {
    "duration": 104,
    "start_time": "2022-01-10T10:49:09.298Z"
   },
   {
    "duration": 336,
    "start_time": "2022-01-10T10:49:11.556Z"
   },
   {
    "duration": 358,
    "start_time": "2022-01-10T10:49:16.418Z"
   },
   {
    "duration": 335,
    "start_time": "2022-01-10T10:50:02.924Z"
   },
   {
    "duration": 406,
    "start_time": "2022-01-10T10:50:08.236Z"
   },
   {
    "duration": 351,
    "start_time": "2022-01-10T10:50:21.102Z"
   },
   {
    "duration": 372,
    "start_time": "2022-01-10T10:50:33.092Z"
   },
   {
    "duration": 322,
    "start_time": "2022-01-10T10:50:42.110Z"
   },
   {
    "duration": 320,
    "start_time": "2022-01-10T10:50:47.198Z"
   },
   {
    "duration": 332,
    "start_time": "2022-01-10T10:51:03.372Z"
   },
   {
    "duration": 429,
    "start_time": "2022-01-10T10:51:05.589Z"
   },
   {
    "duration": 355,
    "start_time": "2022-01-10T10:51:12.989Z"
   },
   {
    "duration": 471,
    "start_time": "2022-01-10T10:51:28.739Z"
   },
   {
    "duration": 2,
    "start_time": "2022-01-10T10:51:36.185Z"
   },
   {
    "duration": 357,
    "start_time": "2022-01-10T10:51:36.189Z"
   },
   {
    "duration": 7,
    "start_time": "2022-01-10T10:51:36.548Z"
   },
   {
    "duration": 5,
    "start_time": "2022-01-10T10:51:36.556Z"
   },
   {
    "duration": 19,
    "start_time": "2022-01-10T10:51:36.563Z"
   },
   {
    "duration": 11,
    "start_time": "2022-01-10T10:51:36.583Z"
   },
   {
    "duration": 5,
    "start_time": "2022-01-10T10:51:36.596Z"
   },
   {
    "duration": 29,
    "start_time": "2022-01-10T10:51:36.602Z"
   },
   {
    "duration": 9,
    "start_time": "2022-01-10T10:51:36.632Z"
   },
   {
    "duration": 4,
    "start_time": "2022-01-10T10:51:36.642Z"
   },
   {
    "duration": 13,
    "start_time": "2022-01-10T10:51:36.648Z"
   },
   {
    "duration": 7,
    "start_time": "2022-01-10T10:51:36.663Z"
   },
   {
    "duration": 6,
    "start_time": "2022-01-10T10:51:36.671Z"
   },
   {
    "duration": 6,
    "start_time": "2022-01-10T10:51:36.678Z"
   },
   {
    "duration": 10,
    "start_time": "2022-01-10T10:51:36.685Z"
   },
   {
    "duration": 4,
    "start_time": "2022-01-10T10:51:36.727Z"
   },
   {
    "duration": 7,
    "start_time": "2022-01-10T10:51:36.732Z"
   },
   {
    "duration": 19,
    "start_time": "2022-01-10T10:51:36.741Z"
   },
   {
    "duration": 14,
    "start_time": "2022-01-10T10:51:36.763Z"
   },
   {
    "duration": 13,
    "start_time": "2022-01-10T10:51:36.779Z"
   },
   {
    "duration": 4,
    "start_time": "2022-01-10T10:51:36.793Z"
   },
   {
    "duration": 5,
    "start_time": "2022-01-10T10:51:36.827Z"
   },
   {
    "duration": 148,
    "start_time": "2022-01-10T10:51:36.833Z"
   },
   {
    "duration": 6,
    "start_time": "2022-01-10T10:51:36.982Z"
   },
   {
    "duration": 7,
    "start_time": "2022-01-10T10:51:36.989Z"
   },
   {
    "duration": 70,
    "start_time": "2022-01-10T10:51:36.998Z"
   },
   {
    "duration": 45,
    "start_time": "2022-01-10T10:51:37.070Z"
   },
   {
    "duration": 43,
    "start_time": "2022-01-10T10:51:37.117Z"
   },
   {
    "duration": 41,
    "start_time": "2022-01-10T10:51:37.161Z"
   },
   {
    "duration": 49,
    "start_time": "2022-01-10T10:51:37.203Z"
   },
   {
    "duration": 12,
    "start_time": "2022-01-10T10:51:37.254Z"
   },
   {
    "duration": 13,
    "start_time": "2022-01-10T10:51:37.267Z"
   },
   {
    "duration": 52,
    "start_time": "2022-01-10T10:51:37.282Z"
   },
   {
    "duration": 15,
    "start_time": "2022-01-10T10:51:37.335Z"
   },
   {
    "duration": 29,
    "start_time": "2022-01-10T10:51:37.351Z"
   },
   {
    "duration": 49,
    "start_time": "2022-01-10T10:51:37.382Z"
   },
   {
    "duration": 13,
    "start_time": "2022-01-10T10:51:37.433Z"
   },
   {
    "duration": 30,
    "start_time": "2022-01-10T10:53:50.281Z"
   },
   {
    "duration": 30,
    "start_time": "2022-01-10T10:53:56.624Z"
   },
   {
    "duration": 35,
    "start_time": "2022-01-10T10:54:03.025Z"
   },
   {
    "duration": 29,
    "start_time": "2022-01-10T10:54:13.891Z"
   },
   {
    "duration": 32,
    "start_time": "2022-01-10T10:54:17.209Z"
   },
   {
    "duration": 38,
    "start_time": "2022-01-10T10:54:19.554Z"
   },
   {
    "duration": 3,
    "start_time": "2022-01-10T10:54:21.963Z"
   },
   {
    "duration": 385,
    "start_time": "2022-01-10T10:54:21.968Z"
   },
   {
    "duration": 7,
    "start_time": "2022-01-10T10:54:22.355Z"
   },
   {
    "duration": 4,
    "start_time": "2022-01-10T10:54:22.364Z"
   },
   {
    "duration": 19,
    "start_time": "2022-01-10T10:54:22.370Z"
   },
   {
    "duration": 10,
    "start_time": "2022-01-10T10:54:22.391Z"
   },
   {
    "duration": 3,
    "start_time": "2022-01-10T10:54:22.403Z"
   },
   {
    "duration": 19,
    "start_time": "2022-01-10T10:54:22.408Z"
   },
   {
    "duration": 9,
    "start_time": "2022-01-10T10:54:22.428Z"
   },
   {
    "duration": 6,
    "start_time": "2022-01-10T10:54:22.438Z"
   },
   {
    "duration": 15,
    "start_time": "2022-01-10T10:54:22.446Z"
   },
   {
    "duration": 6,
    "start_time": "2022-01-10T10:54:22.463Z"
   },
   {
    "duration": 4,
    "start_time": "2022-01-10T10:54:22.471Z"
   },
   {
    "duration": 11,
    "start_time": "2022-01-10T10:54:22.476Z"
   },
   {
    "duration": 12,
    "start_time": "2022-01-10T10:54:22.488Z"
   },
   {
    "duration": 28,
    "start_time": "2022-01-10T10:54:22.501Z"
   },
   {
    "duration": 7,
    "start_time": "2022-01-10T10:54:22.530Z"
   },
   {
    "duration": 19,
    "start_time": "2022-01-10T10:54:22.538Z"
   },
   {
    "duration": 14,
    "start_time": "2022-01-10T10:54:22.560Z"
   },
   {
    "duration": 12,
    "start_time": "2022-01-10T10:54:22.576Z"
   },
   {
    "duration": 4,
    "start_time": "2022-01-10T10:54:22.590Z"
   },
   {
    "duration": 5,
    "start_time": "2022-01-10T10:54:22.628Z"
   },
   {
    "duration": 150,
    "start_time": "2022-01-10T10:54:22.634Z"
   },
   {
    "duration": 6,
    "start_time": "2022-01-10T10:54:22.785Z"
   },
   {
    "duration": 8,
    "start_time": "2022-01-10T10:54:22.793Z"
   },
   {
    "duration": 70,
    "start_time": "2022-01-10T10:54:22.802Z"
   },
   {
    "duration": 45,
    "start_time": "2022-01-10T10:54:22.873Z"
   },
   {
    "duration": 35,
    "start_time": "2022-01-10T10:54:22.919Z"
   },
   {
    "duration": 38,
    "start_time": "2022-01-10T10:54:22.956Z"
   },
   {
    "duration": 48,
    "start_time": "2022-01-10T10:54:22.995Z"
   },
   {
    "duration": 13,
    "start_time": "2022-01-10T10:54:23.044Z"
   },
   {
    "duration": 14,
    "start_time": "2022-01-10T10:54:23.059Z"
   },
   {
    "duration": 55,
    "start_time": "2022-01-10T10:54:23.074Z"
   },
   {
    "duration": 15,
    "start_time": "2022-01-10T10:54:23.130Z"
   },
   {
    "duration": 29,
    "start_time": "2022-01-10T10:54:23.146Z"
   },
   {
    "duration": 28,
    "start_time": "2022-01-10T10:54:23.177Z"
   },
   {
    "duration": 31,
    "start_time": "2022-01-10T10:54:23.207Z"
   },
   {
    "duration": 518,
    "start_time": "2022-01-10T10:55:06.980Z"
   },
   {
    "duration": 74,
    "start_time": "2022-01-10T10:55:18.170Z"
   },
   {
    "duration": 344,
    "start_time": "2022-01-10T14:31:11.934Z"
   },
   {
    "duration": 5,
    "start_time": "2022-01-10T14:31:15.307Z"
   },
   {
    "duration": 4,
    "start_time": "2022-01-10T14:31:17.044Z"
   },
   {
    "duration": 11,
    "start_time": "2022-01-10T14:32:24.789Z"
   },
   {
    "duration": 12,
    "start_time": "2022-01-10T14:32:34.221Z"
   },
   {
    "duration": 11,
    "start_time": "2022-01-10T14:32:50.263Z"
   },
   {
    "duration": 1268,
    "start_time": "2022-01-11T07:21:58.527Z"
   },
   {
    "duration": 753,
    "start_time": "2022-01-11T07:21:59.797Z"
   },
   {
    "duration": 27,
    "start_time": "2022-01-11T07:22:00.553Z"
   },
   {
    "duration": 6,
    "start_time": "2022-01-11T07:22:00.583Z"
   },
   {
    "duration": 38,
    "start_time": "2022-01-11T07:22:00.592Z"
   },
   {
    "duration": 44,
    "start_time": "2022-01-11T07:22:00.633Z"
   },
   {
    "duration": 7,
    "start_time": "2022-01-11T07:22:00.679Z"
   },
   {
    "duration": 67,
    "start_time": "2022-01-11T07:22:00.692Z"
   },
   {
    "duration": 14,
    "start_time": "2022-01-11T07:22:00.763Z"
   },
   {
    "duration": 13,
    "start_time": "2022-01-11T07:22:00.779Z"
   },
   {
    "duration": 52,
    "start_time": "2022-01-11T07:22:00.795Z"
   },
   {
    "duration": 18,
    "start_time": "2022-01-11T07:22:00.859Z"
   },
   {
    "duration": 8,
    "start_time": "2022-01-11T07:22:00.880Z"
   },
   {
    "duration": 18,
    "start_time": "2022-01-11T07:22:00.891Z"
   },
   {
    "duration": 56,
    "start_time": "2022-01-11T07:22:00.912Z"
   },
   {
    "duration": 6,
    "start_time": "2022-01-11T07:22:00.971Z"
   },
   {
    "duration": 19,
    "start_time": "2022-01-11T07:22:00.980Z"
   },
   {
    "duration": 67,
    "start_time": "2022-01-11T07:22:01.002Z"
   },
   {
    "duration": 37,
    "start_time": "2022-01-11T07:22:01.073Z"
   },
   {
    "duration": 49,
    "start_time": "2022-01-11T07:22:01.114Z"
   },
   {
    "duration": 13,
    "start_time": "2022-01-11T07:22:01.165Z"
   },
   {
    "duration": 24,
    "start_time": "2022-01-11T07:22:01.181Z"
   },
   {
    "duration": 351,
    "start_time": "2022-01-11T07:22:01.211Z"
   },
   {
    "duration": 10,
    "start_time": "2022-01-11T07:22:01.565Z"
   },
   {
    "duration": 9,
    "start_time": "2022-01-11T07:22:01.578Z"
   },
   {
    "duration": 123,
    "start_time": "2022-01-11T07:22:01.589Z"
   },
   {
    "duration": 82,
    "start_time": "2022-01-11T07:22:01.715Z"
   },
   {
    "duration": 115,
    "start_time": "2022-01-11T07:22:01.799Z"
   },
   {
    "duration": 91,
    "start_time": "2022-01-11T07:22:01.917Z"
   },
   {
    "duration": 65,
    "start_time": "2022-01-11T07:22:02.011Z"
   },
   {
    "duration": 20,
    "start_time": "2022-01-11T07:22:02.078Z"
   },
   {
    "duration": 22,
    "start_time": "2022-01-11T07:22:02.101Z"
   },
   {
    "duration": 473,
    "start_time": "2022-01-11T07:22:02.126Z"
   },
   {
    "duration": 111,
    "start_time": "2022-01-11T07:22:02.602Z"
   },
   {
    "duration": 49,
    "start_time": "2022-01-11T07:22:02.716Z"
   },
   {
    "duration": 97,
    "start_time": "2022-01-11T07:22:02.769Z"
   },
   {
    "duration": 76,
    "start_time": "2022-01-11T07:22:02.869Z"
   },
   {
    "duration": 33,
    "start_time": "2022-01-11T07:22:02.961Z"
   },
   {
    "duration": 8,
    "start_time": "2022-01-11T07:22:02.997Z"
   },
   {
    "duration": 32,
    "start_time": "2022-01-11T07:22:03.008Z"
   },
   {
    "duration": 28,
    "start_time": "2022-01-11T07:22:03.066Z"
   },
   {
    "duration": 412,
    "start_time": "2022-01-11T07:22:11.738Z"
   },
   {
    "duration": 523,
    "start_time": "2022-01-11T07:22:23.766Z"
   },
   {
    "duration": 586,
    "start_time": "2022-01-11T07:22:28.607Z"
   },
   {
    "duration": 317,
    "start_time": "2022-01-11T07:22:32.607Z"
   },
   {
    "duration": 536,
    "start_time": "2022-01-11T07:22:36.759Z"
   },
   {
    "duration": 542,
    "start_time": "2022-01-11T07:35:45.177Z"
   },
   {
    "duration": 3203,
    "start_time": "2022-01-11T07:36:09.904Z"
   },
   {
    "duration": 325,
    "start_time": "2022-01-11T07:36:17.019Z"
   },
   {
    "duration": 422,
    "start_time": "2022-01-11T07:36:23.340Z"
   },
   {
    "duration": 6,
    "start_time": "2022-01-11T11:53:14.865Z"
   },
   {
    "duration": 5,
    "start_time": "2022-01-11T11:53:18.055Z"
   },
   {
    "duration": 1646,
    "start_time": "2022-01-11T11:54:50.762Z"
   },
   {
    "duration": 583,
    "start_time": "2022-01-11T11:55:04.895Z"
   },
   {
    "duration": 56,
    "start_time": "2022-01-11T11:55:46.899Z"
   },
   {
    "duration": 89,
    "start_time": "2022-01-11T11:58:32.038Z"
   },
   {
    "duration": 464,
    "start_time": "2022-01-11T11:59:09.152Z"
   },
   {
    "duration": 47,
    "start_time": "2022-01-11T11:59:20.961Z"
   },
   {
    "duration": 33,
    "start_time": "2022-01-11T12:02:06.227Z"
   },
   {
    "duration": 40,
    "start_time": "2022-01-11T12:02:10.272Z"
   },
   {
    "duration": 5,
    "start_time": "2022-01-11T12:02:22.901Z"
   },
   {
    "duration": 4118,
    "start_time": "2022-01-11T12:02:22.908Z"
   },
   {
    "duration": 15,
    "start_time": "2022-01-11T12:02:27.029Z"
   },
   {
    "duration": 10,
    "start_time": "2022-01-11T12:02:27.047Z"
   },
   {
    "duration": 49,
    "start_time": "2022-01-11T12:02:27.059Z"
   },
   {
    "duration": 26,
    "start_time": "2022-01-11T12:02:27.111Z"
   },
   {
    "duration": 29,
    "start_time": "2022-01-11T12:02:27.141Z"
   },
   {
    "duration": 46,
    "start_time": "2022-01-11T12:02:27.176Z"
   },
   {
    "duration": 36,
    "start_time": "2022-01-11T12:02:27.226Z"
   },
   {
    "duration": 26,
    "start_time": "2022-01-11T12:02:27.265Z"
   },
   {
    "duration": 40,
    "start_time": "2022-01-11T12:02:27.294Z"
   },
   {
    "duration": 13,
    "start_time": "2022-01-11T12:02:27.337Z"
   },
   {
    "duration": 11,
    "start_time": "2022-01-11T12:02:27.354Z"
   },
   {
    "duration": 20,
    "start_time": "2022-01-11T12:02:27.368Z"
   },
   {
    "duration": 26,
    "start_time": "2022-01-11T12:02:27.391Z"
   },
   {
    "duration": 8,
    "start_time": "2022-01-11T12:02:27.420Z"
   },
   {
    "duration": 40,
    "start_time": "2022-01-11T12:02:27.431Z"
   },
   {
    "duration": 72,
    "start_time": "2022-01-11T12:02:27.473Z"
   },
   {
    "duration": 37,
    "start_time": "2022-01-11T12:02:27.548Z"
   },
   {
    "duration": 21,
    "start_time": "2022-01-11T12:02:27.588Z"
   },
   {
    "duration": 26,
    "start_time": "2022-01-11T12:02:27.612Z"
   },
   {
    "duration": 20,
    "start_time": "2022-01-11T12:02:27.641Z"
   },
   {
    "duration": 317,
    "start_time": "2022-01-11T12:02:27.667Z"
   },
   {
    "duration": 10,
    "start_time": "2022-01-11T12:02:27.987Z"
   },
   {
    "duration": 28,
    "start_time": "2022-01-11T12:02:27.999Z"
   },
   {
    "duration": 114,
    "start_time": "2022-01-11T12:02:28.030Z"
   },
   {
    "duration": 91,
    "start_time": "2022-01-11T12:02:28.146Z"
   },
   {
    "duration": 114,
    "start_time": "2022-01-11T12:02:28.258Z"
   },
   {
    "duration": 69,
    "start_time": "2022-01-11T12:02:28.375Z"
   },
   {
    "duration": 53,
    "start_time": "2022-01-11T12:02:28.459Z"
   },
   {
    "duration": 21,
    "start_time": "2022-01-11T12:02:28.514Z"
   },
   {
    "duration": 36,
    "start_time": "2022-01-11T12:02:28.561Z"
   },
   {
    "duration": 629,
    "start_time": "2022-01-11T12:02:28.601Z"
   },
   {
    "duration": 79,
    "start_time": "2022-01-11T12:02:29.233Z"
   },
   {
    "duration": 48,
    "start_time": "2022-01-11T12:02:29.314Z"
   },
   {
    "duration": 55,
    "start_time": "2022-01-11T12:02:29.365Z"
   },
   {
    "duration": 71,
    "start_time": "2022-01-11T12:02:29.422Z"
   },
   {
    "duration": 23,
    "start_time": "2022-01-11T12:02:29.495Z"
   },
   {
    "duration": 904,
    "start_time": "2022-01-11T12:02:29.521Z"
   },
   {
    "duration": 8,
    "start_time": "2022-01-11T12:02:30.428Z"
   },
   {
    "duration": 24,
    "start_time": "2022-01-11T12:02:30.440Z"
   },
   {
    "duration": 43,
    "start_time": "2022-01-11T12:02:30.467Z"
   },
   {
    "duration": 46,
    "start_time": "2022-01-11T12:16:05.750Z"
   },
   {
    "duration": 161,
    "start_time": "2022-01-11T13:08:25.747Z"
   },
   {
    "duration": 5,
    "start_time": "2022-01-11T13:08:36.191Z"
   },
   {
    "duration": 627,
    "start_time": "2022-01-11T13:08:36.200Z"
   },
   {
    "duration": 12,
    "start_time": "2022-01-11T13:08:36.830Z"
   },
   {
    "duration": 7,
    "start_time": "2022-01-11T13:08:36.845Z"
   },
   {
    "duration": 64,
    "start_time": "2022-01-11T13:08:36.854Z"
   },
   {
    "duration": 29,
    "start_time": "2022-01-11T13:08:36.920Z"
   },
   {
    "duration": 6,
    "start_time": "2022-01-11T13:08:36.952Z"
   },
   {
    "duration": 58,
    "start_time": "2022-01-11T13:08:36.970Z"
   },
   {
    "duration": 16,
    "start_time": "2022-01-11T13:08:37.031Z"
   },
   {
    "duration": 13,
    "start_time": "2022-01-11T13:08:37.050Z"
   },
   {
    "duration": 51,
    "start_time": "2022-01-11T13:08:37.067Z"
   },
   {
    "duration": 11,
    "start_time": "2022-01-11T13:08:37.121Z"
   },
   {
    "duration": 6,
    "start_time": "2022-01-11T13:08:37.135Z"
   },
   {
    "duration": 18,
    "start_time": "2022-01-11T13:08:37.144Z"
   },
   {
    "duration": 38,
    "start_time": "2022-01-11T13:08:37.165Z"
   },
   {
    "duration": 7,
    "start_time": "2022-01-11T13:08:37.205Z"
   },
   {
    "duration": 13,
    "start_time": "2022-01-11T13:08:37.214Z"
   },
   {
    "duration": 77,
    "start_time": "2022-01-11T13:08:37.230Z"
   },
   {
    "duration": 23,
    "start_time": "2022-01-11T13:08:37.310Z"
   },
   {
    "duration": 33,
    "start_time": "2022-01-11T13:08:37.335Z"
   },
   {
    "duration": 22,
    "start_time": "2022-01-11T13:08:37.372Z"
   },
   {
    "duration": 16,
    "start_time": "2022-01-11T13:08:37.397Z"
   },
   {
    "duration": 325,
    "start_time": "2022-01-11T13:08:37.418Z"
   },
   {
    "duration": 8,
    "start_time": "2022-01-11T13:08:37.746Z"
   },
   {
    "duration": 44,
    "start_time": "2022-01-11T13:08:37.756Z"
   },
   {
    "duration": 104,
    "start_time": "2022-01-11T13:08:37.803Z"
   },
   {
    "duration": 99,
    "start_time": "2022-01-11T13:08:37.910Z"
   },
   {
    "duration": 131,
    "start_time": "2022-01-11T13:08:38.012Z"
   },
   {
    "duration": 631,
    "start_time": "2022-01-11T13:08:38.147Z"
   },
   {
    "duration": 57,
    "start_time": "2022-01-11T13:08:38.781Z"
   },
   {
    "duration": 32,
    "start_time": "2022-01-11T13:08:38.860Z"
   },
   {
    "duration": 30,
    "start_time": "2022-01-11T13:08:38.895Z"
   },
   {
    "duration": 669,
    "start_time": "2022-01-11T13:08:38.960Z"
   },
   {
    "duration": 95,
    "start_time": "2022-01-11T13:08:39.632Z"
   },
   {
    "duration": 48,
    "start_time": "2022-01-11T13:08:39.729Z"
   },
   {
    "duration": 85,
    "start_time": "2022-01-11T13:08:39.780Z"
   },
   {
    "duration": 61,
    "start_time": "2022-01-11T13:08:39.869Z"
   },
   {
    "duration": 48,
    "start_time": "2022-01-11T13:08:39.932Z"
   },
   {
    "duration": 517,
    "start_time": "2022-01-11T13:08:39.983Z"
   },
   {
    "duration": 6,
    "start_time": "2022-01-11T13:08:40.504Z"
   },
   {
    "duration": 10,
    "start_time": "2022-01-11T13:08:40.513Z"
   },
   {
    "duration": 64,
    "start_time": "2022-01-11T13:08:40.526Z"
   },
   {
    "duration": 132,
    "start_time": "2022-01-11T13:08:40.593Z"
   },
   {
    "duration": 117,
    "start_time": "2022-01-11T13:08:56.205Z"
   },
   {
    "duration": 3323,
    "start_time": "2022-01-11T13:09:33.223Z"
   },
   {
    "duration": 76,
    "start_time": "2022-01-11T13:10:24.976Z"
   },
   {
    "duration": 64,
    "start_time": "2022-01-11T13:10:29.712Z"
   },
   {
    "duration": 115,
    "start_time": "2022-01-11T13:10:31.600Z"
   },
   {
    "duration": 48,
    "start_time": "2022-01-11T13:10:39.690Z"
   },
   {
    "duration": 97,
    "start_time": "2022-01-11T13:10:46.505Z"
   },
   {
    "duration": 3107,
    "start_time": "2022-01-11T13:10:47.329Z"
   },
   {
    "duration": 68,
    "start_time": "2022-01-11T13:10:58.374Z"
   },
   {
    "duration": 63,
    "start_time": "2022-01-11T13:10:59.040Z"
   },
   {
    "duration": 5,
    "start_time": "2022-01-11T13:11:31.424Z"
   },
   {
    "duration": 616,
    "start_time": "2022-01-11T13:11:31.432Z"
   },
   {
    "duration": 19,
    "start_time": "2022-01-11T13:11:32.052Z"
   },
   {
    "duration": 26,
    "start_time": "2022-01-11T13:11:32.075Z"
   },
   {
    "duration": 29,
    "start_time": "2022-01-11T13:11:32.104Z"
   },
   {
    "duration": 48,
    "start_time": "2022-01-11T13:11:32.136Z"
   },
   {
    "duration": 12,
    "start_time": "2022-01-11T13:11:32.188Z"
   },
   {
    "duration": 23,
    "start_time": "2022-01-11T13:11:32.204Z"
   },
   {
    "duration": 58,
    "start_time": "2022-01-11T13:11:32.229Z"
   },
   {
    "duration": 15,
    "start_time": "2022-01-11T13:11:32.290Z"
   },
   {
    "duration": 19,
    "start_time": "2022-01-11T13:11:32.307Z"
   },
   {
    "duration": 40,
    "start_time": "2022-01-11T13:11:32.329Z"
   },
   {
    "duration": 21,
    "start_time": "2022-01-11T13:11:32.372Z"
   },
   {
    "duration": 12,
    "start_time": "2022-01-11T13:11:32.396Z"
   },
   {
    "duration": 18,
    "start_time": "2022-01-11T13:11:32.411Z"
   },
   {
    "duration": 37,
    "start_time": "2022-01-11T13:11:32.432Z"
   },
   {
    "duration": 32,
    "start_time": "2022-01-11T13:11:32.473Z"
   },
   {
    "duration": 30,
    "start_time": "2022-01-11T13:11:32.508Z"
   },
   {
    "duration": 52,
    "start_time": "2022-01-11T13:11:32.541Z"
   },
   {
    "duration": 23,
    "start_time": "2022-01-11T13:11:32.596Z"
   },
   {
    "duration": 7,
    "start_time": "2022-01-11T13:11:32.622Z"
   },
   {
    "duration": 32,
    "start_time": "2022-01-11T13:11:32.632Z"
   },
   {
    "duration": 302,
    "start_time": "2022-01-11T13:11:32.672Z"
   },
   {
    "duration": 13,
    "start_time": "2022-01-11T13:11:32.978Z"
   },
   {
    "duration": 13,
    "start_time": "2022-01-11T13:11:32.994Z"
   },
   {
    "duration": 137,
    "start_time": "2022-01-11T13:11:33.011Z"
   },
   {
    "duration": 86,
    "start_time": "2022-01-11T13:11:33.151Z"
   },
   {
    "duration": 148,
    "start_time": "2022-01-11T13:11:33.240Z"
   },
   {
    "duration": 70,
    "start_time": "2022-01-11T13:11:33.391Z"
   },
   {
    "duration": 62,
    "start_time": "2022-01-11T13:11:33.464Z"
   },
   {
    "duration": 55,
    "start_time": "2022-01-11T13:11:33.528Z"
   },
   {
    "duration": 34,
    "start_time": "2022-01-11T13:11:33.586Z"
   },
   {
    "duration": 885,
    "start_time": "2022-01-11T13:11:33.622Z"
   },
   {
    "duration": 87,
    "start_time": "2022-01-11T13:11:34.509Z"
   },
   {
    "duration": 31,
    "start_time": "2022-01-11T13:11:34.598Z"
   },
   {
    "duration": 95,
    "start_time": "2022-01-11T13:11:34.632Z"
   },
   {
    "duration": 62,
    "start_time": "2022-01-11T13:11:34.729Z"
   },
   {
    "duration": 26,
    "start_time": "2022-01-11T13:11:34.793Z"
   },
   {
    "duration": 527,
    "start_time": "2022-01-11T13:11:34.821Z"
   },
   {
    "duration": 10,
    "start_time": "2022-01-11T13:11:35.350Z"
   },
   {
    "duration": 21,
    "start_time": "2022-01-11T13:11:35.363Z"
   },
   {
    "duration": 29,
    "start_time": "2022-01-11T13:11:35.387Z"
   },
   {
    "duration": 106,
    "start_time": "2022-01-11T13:11:35.418Z"
   },
   {
    "duration": 2817,
    "start_time": "2022-01-11T13:11:35.527Z"
   },
   {
    "duration": 121,
    "start_time": "2022-01-11T13:11:44.182Z"
   },
   {
    "duration": 3413,
    "start_time": "2022-01-11T13:11:46.189Z"
   },
   {
    "duration": 99,
    "start_time": "2022-01-11T13:12:25.354Z"
   },
   {
    "duration": 79,
    "start_time": "2022-01-11T13:12:26.458Z"
   },
   {
    "duration": 86,
    "start_time": "2022-01-11T13:13:34.500Z"
   },
   {
    "duration": 116,
    "start_time": "2022-01-11T13:13:39.155Z"
   },
   {
    "duration": 57,
    "start_time": "2022-01-11T13:13:59.773Z"
   },
   {
    "duration": 13,
    "start_time": "2022-01-11T13:14:07.004Z"
   },
   {
    "duration": 109,
    "start_time": "2022-01-11T13:17:29.033Z"
   },
   {
    "duration": 67,
    "start_time": "2022-01-11T13:19:51.181Z"
   },
   {
    "duration": 93,
    "start_time": "2022-01-11T13:20:00.661Z"
   },
   {
    "duration": 106,
    "start_time": "2022-01-11T13:20:02.577Z"
   },
   {
    "duration": 82,
    "start_time": "2022-01-11T13:20:15.946Z"
   },
   {
    "duration": 71,
    "start_time": "2022-01-11T13:21:54.629Z"
   },
   {
    "duration": 117,
    "start_time": "2022-01-11T13:21:59.206Z"
   },
   {
    "duration": 5,
    "start_time": "2022-01-11T13:22:01.873Z"
   },
   {
    "duration": 641,
    "start_time": "2022-01-11T13:22:01.896Z"
   },
   {
    "duration": 14,
    "start_time": "2022-01-11T13:22:02.540Z"
   },
   {
    "duration": 7,
    "start_time": "2022-01-11T13:22:02.562Z"
   },
   {
    "duration": 50,
    "start_time": "2022-01-11T13:22:02.573Z"
   },
   {
    "duration": 37,
    "start_time": "2022-01-11T13:22:02.626Z"
   },
   {
    "duration": 14,
    "start_time": "2022-01-11T13:22:02.666Z"
   },
   {
    "duration": 37,
    "start_time": "2022-01-11T13:22:02.683Z"
   },
   {
    "duration": 16,
    "start_time": "2022-01-11T13:22:02.723Z"
   },
   {
    "duration": 11,
    "start_time": "2022-01-11T13:22:02.766Z"
   },
   {
    "duration": 39,
    "start_time": "2022-01-11T13:22:02.782Z"
   },
   {
    "duration": 13,
    "start_time": "2022-01-11T13:22:02.823Z"
   },
   {
    "duration": 28,
    "start_time": "2022-01-11T13:22:02.838Z"
   },
   {
    "duration": 35,
    "start_time": "2022-01-11T13:22:02.869Z"
   },
   {
    "duration": 24,
    "start_time": "2022-01-11T13:22:02.907Z"
   },
   {
    "duration": 9,
    "start_time": "2022-01-11T13:22:02.934Z"
   },
   {
    "duration": 26,
    "start_time": "2022-01-11T13:22:02.945Z"
   },
   {
    "duration": 46,
    "start_time": "2022-01-11T13:22:02.974Z"
   },
   {
    "duration": 43,
    "start_time": "2022-01-11T13:22:03.022Z"
   },
   {
    "duration": 33,
    "start_time": "2022-01-11T13:22:03.068Z"
   },
   {
    "duration": 9,
    "start_time": "2022-01-11T13:22:03.105Z"
   },
   {
    "duration": 10,
    "start_time": "2022-01-11T13:22:03.116Z"
   },
   {
    "duration": 341,
    "start_time": "2022-01-11T13:22:03.167Z"
   },
   {
    "duration": 8,
    "start_time": "2022-01-11T13:22:03.511Z"
   },
   {
    "duration": 21,
    "start_time": "2022-01-11T13:22:03.521Z"
   },
   {
    "duration": 107,
    "start_time": "2022-01-11T13:22:03.544Z"
   },
   {
    "duration": 90,
    "start_time": "2022-01-11T13:22:03.654Z"
   },
   {
    "duration": 115,
    "start_time": "2022-01-11T13:22:03.766Z"
   },
   {
    "duration": 86,
    "start_time": "2022-01-11T13:22:03.884Z"
   },
   {
    "duration": 56,
    "start_time": "2022-01-11T13:22:03.973Z"
   },
   {
    "duration": 59,
    "start_time": "2022-01-11T13:22:04.032Z"
   },
   {
    "duration": 36,
    "start_time": "2022-01-11T13:22:04.095Z"
   },
   {
    "duration": 998,
    "start_time": "2022-01-11T13:22:04.134Z"
   },
   {
    "duration": 95,
    "start_time": "2022-01-11T13:22:05.136Z"
   },
   {
    "duration": 38,
    "start_time": "2022-01-11T13:22:05.234Z"
   },
   {
    "duration": 62,
    "start_time": "2022-01-11T13:22:05.277Z"
   },
   {
    "duration": 81,
    "start_time": "2022-01-11T13:22:05.342Z"
   },
   {
    "duration": 45,
    "start_time": "2022-01-11T13:22:05.425Z"
   },
   {
    "duration": 618,
    "start_time": "2022-01-11T13:22:05.472Z"
   },
   {
    "duration": 6,
    "start_time": "2022-01-11T13:22:06.093Z"
   },
   {
    "duration": 17,
    "start_time": "2022-01-11T13:22:06.106Z"
   },
   {
    "duration": 37,
    "start_time": "2022-01-11T13:22:06.126Z"
   },
   {
    "duration": 141,
    "start_time": "2022-01-11T13:22:06.166Z"
   },
   {
    "duration": 80,
    "start_time": "2022-01-11T13:22:06.311Z"
   },
   {
    "duration": 8,
    "start_time": "2022-01-11T13:22:06.395Z"
   },
   {
    "duration": 11,
    "start_time": "2022-01-11T13:24:43.679Z"
   },
   {
    "duration": 504,
    "start_time": "2022-01-11T13:27:45.511Z"
   },
   {
    "duration": 393,
    "start_time": "2022-01-11T13:27:55.295Z"
   },
   {
    "duration": 486,
    "start_time": "2022-01-11T13:28:08.623Z"
   },
   {
    "duration": 445,
    "start_time": "2022-01-11T13:28:55.128Z"
   },
   {
    "duration": 434,
    "start_time": "2022-01-11T13:34:30.977Z"
   },
   {
    "duration": 544,
    "start_time": "2022-01-11T13:36:28.076Z"
   },
   {
    "duration": 514,
    "start_time": "2022-01-11T13:46:30.339Z"
   },
   {
    "duration": 91,
    "start_time": "2022-01-11T13:46:36.990Z"
   },
   {
    "duration": 92,
    "start_time": "2022-01-11T13:48:08.353Z"
   },
   {
    "duration": 120,
    "start_time": "2022-01-11T13:48:23.514Z"
   },
   {
    "duration": 408,
    "start_time": "2022-01-11T13:49:01.210Z"
   },
   {
    "duration": 92,
    "start_time": "2022-01-11T13:50:18.548Z"
   },
   {
    "duration": 4,
    "start_time": "2022-01-11T13:50:23.025Z"
   },
   {
    "duration": 596,
    "start_time": "2022-01-11T13:50:23.031Z"
   },
   {
    "duration": 11,
    "start_time": "2022-01-11T13:50:23.631Z"
   },
   {
    "duration": 6,
    "start_time": "2022-01-11T13:50:23.645Z"
   },
   {
    "duration": 37,
    "start_time": "2022-01-11T13:50:23.653Z"
   },
   {
    "duration": 18,
    "start_time": "2022-01-11T13:50:23.693Z"
   },
   {
    "duration": 5,
    "start_time": "2022-01-11T13:50:23.714Z"
   },
   {
    "duration": 43,
    "start_time": "2022-01-11T13:50:23.721Z"
   },
   {
    "duration": 23,
    "start_time": "2022-01-11T13:50:23.769Z"
   },
   {
    "duration": 4,
    "start_time": "2022-01-11T13:50:23.796Z"
   },
   {
    "duration": 56,
    "start_time": "2022-01-11T13:50:23.803Z"
   },
   {
    "duration": 16,
    "start_time": "2022-01-11T13:50:23.863Z"
   },
   {
    "duration": 5,
    "start_time": "2022-01-11T13:50:23.882Z"
   },
   {
    "duration": 9,
    "start_time": "2022-01-11T13:50:23.890Z"
   },
   {
    "duration": 22,
    "start_time": "2022-01-11T13:50:23.901Z"
   },
   {
    "duration": 17,
    "start_time": "2022-01-11T13:50:23.961Z"
   },
   {
    "duration": 16,
    "start_time": "2022-01-11T13:50:23.981Z"
   },
   {
    "duration": 29,
    "start_time": "2022-01-11T13:50:23.999Z"
   },
   {
    "duration": 53,
    "start_time": "2022-01-11T13:50:24.031Z"
   },
   {
    "duration": 21,
    "start_time": "2022-01-11T13:50:24.087Z"
   },
   {
    "duration": 9,
    "start_time": "2022-01-11T13:50:24.111Z"
   },
   {
    "duration": 44,
    "start_time": "2022-01-11T13:50:24.124Z"
   },
   {
    "duration": 294,
    "start_time": "2022-01-11T13:50:24.170Z"
   },
   {
    "duration": 10,
    "start_time": "2022-01-11T13:50:24.467Z"
   },
   {
    "duration": 12,
    "start_time": "2022-01-11T13:50:24.480Z"
   },
   {
    "duration": 125,
    "start_time": "2022-01-11T13:50:24.495Z"
   },
   {
    "duration": 93,
    "start_time": "2022-01-11T13:50:24.625Z"
   },
   {
    "duration": 113,
    "start_time": "2022-01-11T13:50:24.721Z"
   },
   {
    "duration": 77,
    "start_time": "2022-01-11T13:50:24.836Z"
   },
   {
    "duration": 72,
    "start_time": "2022-01-11T13:50:24.916Z"
   },
   {
    "duration": 24,
    "start_time": "2022-01-11T13:50:24.990Z"
   },
   {
    "duration": 52,
    "start_time": "2022-01-11T13:50:25.017Z"
   },
   {
    "duration": 639,
    "start_time": "2022-01-11T13:50:25.072Z"
   },
   {
    "duration": 100,
    "start_time": "2022-01-11T13:50:25.713Z"
   },
   {
    "duration": 45,
    "start_time": "2022-01-11T13:50:25.816Z"
   },
   {
    "duration": 67,
    "start_time": "2022-01-11T13:50:25.865Z"
   },
   {
    "duration": 91,
    "start_time": "2022-01-11T13:50:25.934Z"
   },
   {
    "duration": 43,
    "start_time": "2022-01-11T13:50:26.027Z"
   },
   {
    "duration": 644,
    "start_time": "2022-01-11T13:50:26.073Z"
   },
   {
    "duration": 6,
    "start_time": "2022-01-11T13:50:26.719Z"
   },
   {
    "duration": 7,
    "start_time": "2022-01-11T13:50:26.727Z"
   },
   {
    "duration": 25,
    "start_time": "2022-01-11T13:50:26.760Z"
   },
   {
    "duration": 139,
    "start_time": "2022-01-11T13:50:26.787Z"
   },
   {
    "duration": 210,
    "start_time": "2022-01-11T13:50:26.929Z"
   },
   {
    "duration": 26,
    "start_time": "2022-01-11T13:50:27.142Z"
   },
   {
    "duration": 22,
    "start_time": "2022-01-11T13:50:27.171Z"
   },
   {
    "duration": 108,
    "start_time": "2022-01-11T13:50:27.195Z"
   },
   {
    "duration": 750,
    "start_time": "2022-01-12T05:58:36.730Z"
   },
   {
    "duration": 395,
    "start_time": "2022-01-12T05:58:37.481Z"
   },
   {
    "duration": 12,
    "start_time": "2022-01-12T05:58:37.878Z"
   },
   {
    "duration": 5,
    "start_time": "2022-01-12T05:58:37.891Z"
   },
   {
    "duration": 21,
    "start_time": "2022-01-12T05:58:37.897Z"
   },
   {
    "duration": 13,
    "start_time": "2022-01-12T05:58:37.920Z"
   },
   {
    "duration": 3,
    "start_time": "2022-01-12T05:58:37.935Z"
   },
   {
    "duration": 36,
    "start_time": "2022-01-12T05:58:37.941Z"
   },
   {
    "duration": 9,
    "start_time": "2022-01-12T05:58:37.979Z"
   },
   {
    "duration": 6,
    "start_time": "2022-01-12T05:58:37.990Z"
   },
   {
    "duration": 17,
    "start_time": "2022-01-12T05:58:37.997Z"
   },
   {
    "duration": 8,
    "start_time": "2022-01-12T05:58:38.016Z"
   },
   {
    "duration": 35,
    "start_time": "2022-01-12T05:58:38.026Z"
   },
   {
    "duration": 7,
    "start_time": "2022-01-12T05:58:38.063Z"
   },
   {
    "duration": 15,
    "start_time": "2022-01-12T05:58:38.072Z"
   },
   {
    "duration": 3,
    "start_time": "2022-01-12T05:58:38.089Z"
   },
   {
    "duration": 7,
    "start_time": "2022-01-12T05:58:38.094Z"
   },
   {
    "duration": 23,
    "start_time": "2022-01-12T05:58:38.103Z"
   },
   {
    "duration": 49,
    "start_time": "2022-01-12T05:58:38.127Z"
   },
   {
    "duration": 13,
    "start_time": "2022-01-12T05:58:38.178Z"
   },
   {
    "duration": 5,
    "start_time": "2022-01-12T05:58:38.193Z"
   },
   {
    "duration": 6,
    "start_time": "2022-01-12T05:58:38.199Z"
   },
   {
    "duration": 230,
    "start_time": "2022-01-12T05:58:38.208Z"
   },
   {
    "duration": 6,
    "start_time": "2022-01-12T05:58:38.440Z"
   },
   {
    "duration": 17,
    "start_time": "2022-01-12T05:58:38.448Z"
   },
   {
    "duration": 64,
    "start_time": "2022-01-12T05:58:38.467Z"
   },
   {
    "duration": 67,
    "start_time": "2022-01-12T05:58:38.532Z"
   },
   {
    "duration": 82,
    "start_time": "2022-01-12T05:58:38.600Z"
   },
   {
    "duration": 49,
    "start_time": "2022-01-12T05:58:38.684Z"
   },
   {
    "duration": 48,
    "start_time": "2022-01-12T05:58:38.734Z"
   },
   {
    "duration": 14,
    "start_time": "2022-01-12T05:58:38.783Z"
   },
   {
    "duration": 14,
    "start_time": "2022-01-12T05:58:38.799Z"
   },
   {
    "duration": 332,
    "start_time": "2022-01-12T05:58:38.814Z"
   },
   {
    "duration": 50,
    "start_time": "2022-01-12T05:58:39.148Z"
   },
   {
    "duration": 21,
    "start_time": "2022-01-12T05:58:39.200Z"
   },
   {
    "duration": 55,
    "start_time": "2022-01-12T05:58:39.222Z"
   },
   {
    "duration": 30,
    "start_time": "2022-01-12T05:58:39.279Z"
   },
   {
    "duration": 14,
    "start_time": "2022-01-12T05:58:39.310Z"
   },
   {
    "duration": 262,
    "start_time": "2022-01-12T05:58:39.325Z"
   },
   {
    "duration": 4,
    "start_time": "2022-01-12T05:58:39.588Z"
   },
   {
    "duration": 7,
    "start_time": "2022-01-12T05:58:39.594Z"
   },
   {
    "duration": 14,
    "start_time": "2022-01-12T05:58:39.603Z"
   },
   {
    "duration": 90,
    "start_time": "2022-01-12T05:58:39.618Z"
   },
   {
    "duration": 93,
    "start_time": "2022-01-12T05:58:39.710Z"
   },
   {
    "duration": 7,
    "start_time": "2022-01-12T05:58:39.804Z"
   },
   {
    "duration": 7,
    "start_time": "2022-01-12T05:58:39.812Z"
   },
   {
    "duration": 71,
    "start_time": "2022-01-12T05:58:39.821Z"
   },
   {
    "duration": 46140,
    "start_time": "2022-01-12T06:09:02.326Z"
   },
   {
    "duration": 13020,
    "start_time": "2022-01-12T06:09:51.567Z"
   },
   {
    "duration": 173,
    "start_time": "2022-01-12T06:39:15.206Z"
   },
   {
    "duration": 251,
    "start_time": "2022-01-12T06:39:28.566Z"
   },
   {
    "duration": 311,
    "start_time": "2022-01-12T06:39:41.694Z"
   },
   {
    "duration": 317,
    "start_time": "2022-01-12T06:39:51.630Z"
   },
   {
    "duration": 1082,
    "start_time": "2022-01-12T06:41:57.029Z"
   },
   {
    "duration": 1798,
    "start_time": "2022-01-12T06:42:30.538Z"
   },
   {
    "duration": 1026,
    "start_time": "2022-01-12T06:42:37.549Z"
   },
   {
    "duration": 1144,
    "start_time": "2022-01-12T06:42:44.346Z"
   },
   {
    "duration": 1062,
    "start_time": "2022-01-12T06:43:26.875Z"
   },
   {
    "duration": 4,
    "start_time": "2022-01-12T06:46:32.160Z"
   },
   {
    "duration": 1424,
    "start_time": "2022-01-12T06:46:34.568Z"
   },
   {
    "duration": 1405,
    "start_time": "2022-01-12T06:47:18.993Z"
   },
   {
    "duration": 1253,
    "start_time": "2022-01-12T06:47:53.755Z"
   },
   {
    "duration": 1037,
    "start_time": "2022-01-12T06:48:24.949Z"
   },
   {
    "duration": 1036,
    "start_time": "2022-01-12T06:48:37.370Z"
   },
   {
    "duration": 1058,
    "start_time": "2022-01-12T06:48:52.330Z"
   },
   {
    "duration": 1057,
    "start_time": "2022-01-12T06:48:57.859Z"
   },
   {
    "duration": 1560,
    "start_time": "2022-01-12T06:49:02.900Z"
   },
   {
    "duration": 191,
    "start_time": "2022-01-12T06:54:27.938Z"
   },
   {
    "duration": 109,
    "start_time": "2022-01-12T06:54:35.338Z"
   },
   {
    "duration": 1051,
    "start_time": "2022-01-12T06:54:38.914Z"
   },
   {
    "duration": 466,
    "start_time": "2022-01-12T06:54:44.258Z"
   },
   {
    "duration": 134,
    "start_time": "2022-01-12T06:54:54.435Z"
   },
   {
    "duration": 134,
    "start_time": "2022-01-12T06:55:08.663Z"
   },
   {
    "duration": 341,
    "start_time": "2022-01-12T06:55:15.026Z"
   },
   {
    "duration": 596,
    "start_time": "2022-01-12T06:55:19.394Z"
   },
   {
    "duration": 2468,
    "start_time": "2022-01-12T06:55:27.380Z"
   },
   {
    "duration": 117,
    "start_time": "2022-01-12T06:55:33.980Z"
   },
   {
    "duration": 83,
    "start_time": "2022-01-12T06:56:39.517Z"
   },
   {
    "duration": 126,
    "start_time": "2022-01-12T06:57:46.390Z"
   },
   {
    "duration": 142,
    "start_time": "2022-01-12T06:58:51.623Z"
   },
   {
    "duration": 1273,
    "start_time": "2022-01-12T07:00:55.579Z"
   },
   {
    "duration": 79,
    "start_time": "2022-01-12T07:11:05.751Z"
   },
   {
    "duration": 145,
    "start_time": "2022-01-12T07:11:21.354Z"
   },
   {
    "duration": 70,
    "start_time": "2022-01-12T07:18:39.051Z"
   },
   {
    "duration": 8,
    "start_time": "2022-01-12T07:18:43.928Z"
   },
   {
    "duration": 2,
    "start_time": "2022-01-12T07:19:16.966Z"
   },
   {
    "duration": 71,
    "start_time": "2022-01-12T07:19:20.159Z"
   },
   {
    "duration": 7,
    "start_time": "2022-01-12T07:19:23.338Z"
   },
   {
    "duration": 68,
    "start_time": "2022-01-12T07:19:31.178Z"
   },
   {
    "duration": 8,
    "start_time": "2022-01-12T07:19:32.993Z"
   },
   {
    "duration": 69,
    "start_time": "2022-01-12T07:19:38.154Z"
   },
   {
    "duration": 7,
    "start_time": "2022-01-12T07:19:41.250Z"
   },
   {
    "duration": 211,
    "start_time": "2022-01-12T07:26:38.237Z"
   },
   {
    "duration": 9,
    "start_time": "2022-01-12T07:26:41.819Z"
   },
   {
    "duration": 99,
    "start_time": "2022-01-12T07:26:46.716Z"
   },
   {
    "duration": 8,
    "start_time": "2022-01-12T07:26:49.123Z"
   },
   {
    "duration": 337,
    "start_time": "2022-01-12T07:44:53.911Z"
   },
   {
    "duration": 62,
    "start_time": "2022-01-12T07:45:19.160Z"
   },
   {
    "duration": 370,
    "start_time": "2022-01-12T07:45:22.709Z"
   },
   {
    "duration": 77,
    "start_time": "2022-01-12T07:45:34.922Z"
   },
   {
    "duration": 343,
    "start_time": "2022-01-12T07:46:40.017Z"
   },
   {
    "duration": 118,
    "start_time": "2022-01-12T07:46:54.863Z"
   },
   {
    "duration": 72,
    "start_time": "2022-01-12T07:47:01.246Z"
   },
   {
    "duration": 326,
    "start_time": "2022-01-12T07:47:13.111Z"
   },
   {
    "duration": 463,
    "start_time": "2022-01-12T07:47:41.937Z"
   },
   {
    "duration": 312,
    "start_time": "2022-01-12T07:47:57.577Z"
   },
   {
    "duration": 75,
    "start_time": "2022-01-12T07:50:30.364Z"
   },
   {
    "duration": 394,
    "start_time": "2022-01-12T08:22:30.974Z"
   },
   {
    "duration": 7,
    "start_time": "2022-01-12T08:22:57.654Z"
   },
   {
    "duration": 994,
    "start_time": "2022-01-12T08:22:59.871Z"
   },
   {
    "duration": 1119,
    "start_time": "2022-01-12T08:23:25.887Z"
   },
   {
    "duration": 11,
    "start_time": "2022-01-12T08:26:01.558Z"
   },
   {
    "duration": 3,
    "start_time": "2022-01-12T08:26:03.926Z"
   },
   {
    "duration": 411,
    "start_time": "2022-01-12T08:26:03.931Z"
   },
   {
    "duration": 8,
    "start_time": "2022-01-12T08:26:04.344Z"
   },
   {
    "duration": 8,
    "start_time": "2022-01-12T08:26:04.354Z"
   },
   {
    "duration": 24,
    "start_time": "2022-01-12T08:26:04.364Z"
   },
   {
    "duration": 13,
    "start_time": "2022-01-12T08:26:04.390Z"
   },
   {
    "duration": 5,
    "start_time": "2022-01-12T08:26:04.406Z"
   },
   {
    "duration": 47,
    "start_time": "2022-01-12T08:26:04.413Z"
   },
   {
    "duration": 12,
    "start_time": "2022-01-12T08:26:04.462Z"
   },
   {
    "duration": 5,
    "start_time": "2022-01-12T08:26:04.475Z"
   },
   {
    "duration": 17,
    "start_time": "2022-01-12T08:26:04.482Z"
   },
   {
    "duration": 8,
    "start_time": "2022-01-12T08:26:04.501Z"
   },
   {
    "duration": 5,
    "start_time": "2022-01-12T08:26:04.511Z"
   },
   {
    "duration": 10,
    "start_time": "2022-01-12T08:26:04.517Z"
   },
   {
    "duration": 12,
    "start_time": "2022-01-12T08:26:04.561Z"
   },
   {
    "duration": 17,
    "start_time": "2022-01-12T08:26:04.575Z"
   },
   {
    "duration": 20,
    "start_time": "2022-01-12T08:26:04.594Z"
   },
   {
    "duration": 32,
    "start_time": "2022-01-12T08:26:04.615Z"
   },
   {
    "duration": 17,
    "start_time": "2022-01-12T08:26:04.651Z"
   },
   {
    "duration": 14,
    "start_time": "2022-01-12T08:26:04.670Z"
   },
   {
    "duration": 6,
    "start_time": "2022-01-12T08:26:04.686Z"
   },
   {
    "duration": 8,
    "start_time": "2022-01-12T08:26:04.693Z"
   },
   {
    "duration": 187,
    "start_time": "2022-01-12T08:26:04.702Z"
   },
   {
    "duration": 7,
    "start_time": "2022-01-12T08:26:04.890Z"
   },
   {
    "duration": 17,
    "start_time": "2022-01-12T08:26:04.898Z"
   },
   {
    "duration": 73,
    "start_time": "2022-01-12T08:26:04.917Z"
   },
   {
    "duration": 58,
    "start_time": "2022-01-12T08:26:04.992Z"
   },
   {
    "duration": 76,
    "start_time": "2022-01-12T08:26:05.060Z"
   },
   {
    "duration": 66,
    "start_time": "2022-01-12T08:26:05.138Z"
   },
   {
    "duration": 35,
    "start_time": "2022-01-12T08:26:05.207Z"
   },
   {
    "duration": 27,
    "start_time": "2022-01-12T08:26:05.244Z"
   },
   {
    "duration": 16,
    "start_time": "2022-01-12T08:26:05.273Z"
   },
   {
    "duration": 371,
    "start_time": "2022-01-12T08:26:05.291Z"
   },
   {
    "duration": 43,
    "start_time": "2022-01-12T08:26:05.664Z"
   },
   {
    "duration": 22,
    "start_time": "2022-01-12T08:26:05.709Z"
   },
   {
    "duration": 66,
    "start_time": "2022-01-12T08:26:05.733Z"
   },
   {
    "duration": 31,
    "start_time": "2022-01-12T08:26:05.801Z"
   },
   {
    "duration": 34,
    "start_time": "2022-01-12T08:26:05.834Z"
   },
   {
    "duration": 390,
    "start_time": "2022-01-12T08:26:05.870Z"
   },
   {
    "duration": 4,
    "start_time": "2022-01-12T08:26:06.262Z"
   },
   {
    "duration": 14,
    "start_time": "2022-01-12T08:26:06.268Z"
   },
   {
    "duration": 18,
    "start_time": "2022-01-12T08:26:06.284Z"
   },
   {
    "duration": 75,
    "start_time": "2022-01-12T08:26:06.304Z"
   },
   {
    "duration": 87,
    "start_time": "2022-01-12T08:26:06.381Z"
   },
   {
    "duration": 7,
    "start_time": "2022-01-12T08:26:06.470Z"
   },
   {
    "duration": 6,
    "start_time": "2022-01-12T08:26:06.478Z"
   },
   {
    "duration": 48,
    "start_time": "2022-01-12T08:26:06.486Z"
   },
   {
    "duration": 1344,
    "start_time": "2022-01-12T08:26:06.536Z"
   },
   {
    "duration": 168,
    "start_time": "2022-01-12T08:26:07.882Z"
   },
   {
    "duration": 12,
    "start_time": "2022-01-12T08:26:08.052Z"
   },
   {
    "duration": 1008,
    "start_time": "2022-01-12T08:26:08.066Z"
   },
   {
    "duration": 981,
    "start_time": "2022-01-12T08:26:56.976Z"
   },
   {
    "duration": 256,
    "start_time": "2022-01-12T08:46:35.241Z"
   },
   {
    "duration": 52,
    "start_time": "2022-01-12T08:46:42.697Z"
   },
   {
    "duration": 917,
    "start_time": "2022-01-12T08:47:06.251Z"
   },
   {
    "duration": 49,
    "start_time": "2022-01-12T08:47:10.779Z"
   },
   {
    "duration": 246,
    "start_time": "2022-01-12T08:49:22.485Z"
   },
   {
    "duration": 6880,
    "start_time": "2022-01-12T08:49:44.493Z"
   },
   {
    "duration": 9478,
    "start_time": "2022-01-12T08:52:22.777Z"
   },
   {
    "duration": 305,
    "start_time": "2022-01-12T08:52:47.145Z"
   },
   {
    "duration": 39,
    "start_time": "2022-01-12T08:52:54.441Z"
   },
   {
    "duration": 24,
    "start_time": "2022-01-12T08:53:12.041Z"
   },
   {
    "duration": 21,
    "start_time": "2022-01-12T08:53:29.507Z"
   },
   {
    "duration": 12,
    "start_time": "2022-01-12T08:53:38.330Z"
   },
   {
    "duration": 7245,
    "start_time": "2022-01-12T08:54:39.933Z"
   },
   {
    "duration": 68,
    "start_time": "2022-01-12T08:57:43.092Z"
   },
   {
    "duration": 6601,
    "start_time": "2022-01-12T08:57:50.680Z"
   },
   {
    "duration": 121,
    "start_time": "2022-01-12T08:58:56.355Z"
   },
   {
    "duration": 6583,
    "start_time": "2022-01-12T08:59:01.898Z"
   },
   {
    "duration": 6617,
    "start_time": "2022-01-12T08:59:35.042Z"
   },
   {
    "duration": 8183,
    "start_time": "2022-01-12T09:00:07.091Z"
   },
   {
    "duration": 120,
    "start_time": "2022-01-12T09:00:41.012Z"
   },
   {
    "duration": 17,
    "start_time": "2022-01-12T09:00:47.300Z"
   },
   {
    "duration": 268,
    "start_time": "2022-01-12T09:01:21.222Z"
   },
   {
    "duration": 19,
    "start_time": "2022-01-12T09:01:30.893Z"
   },
   {
    "duration": 20,
    "start_time": "2022-01-12T09:02:08.630Z"
   },
   {
    "duration": 9958,
    "start_time": "2022-01-12T09:02:34.026Z"
   },
   {
    "duration": 22,
    "start_time": "2022-01-12T09:02:54.007Z"
   },
   {
    "duration": 17,
    "start_time": "2022-01-12T09:04:20.488Z"
   },
   {
    "duration": 18,
    "start_time": "2022-01-12T09:04:48.191Z"
   },
   {
    "duration": 18,
    "start_time": "2022-01-12T09:44:37.660Z"
   },
   {
    "duration": 6969,
    "start_time": "2022-01-12T09:47:08.726Z"
   },
   {
    "duration": 724,
    "start_time": "2022-01-12T09:47:26.639Z"
   },
   {
    "duration": 276,
    "start_time": "2022-01-12T09:47:37.631Z"
   },
   {
    "duration": 255,
    "start_time": "2022-01-12T09:47:47.618Z"
   },
   {
    "duration": 324,
    "start_time": "2022-01-12T09:47:59.208Z"
   },
   {
    "duration": 274,
    "start_time": "2022-01-12T09:49:44.322Z"
   },
   {
    "duration": 757,
    "start_time": "2022-01-12T10:19:58.661Z"
   },
   {
    "duration": 406,
    "start_time": "2022-01-12T10:19:59.420Z"
   },
   {
    "duration": 12,
    "start_time": "2022-01-12T10:19:59.828Z"
   },
   {
    "duration": 8,
    "start_time": "2022-01-12T10:19:59.842Z"
   },
   {
    "duration": 31,
    "start_time": "2022-01-12T10:19:59.852Z"
   },
   {
    "duration": 13,
    "start_time": "2022-01-12T10:19:59.885Z"
   },
   {
    "duration": 8,
    "start_time": "2022-01-12T10:19:59.900Z"
   },
   {
    "duration": 22,
    "start_time": "2022-01-12T10:19:59.909Z"
   },
   {
    "duration": 29,
    "start_time": "2022-01-12T10:19:59.933Z"
   },
   {
    "duration": 4,
    "start_time": "2022-01-12T10:19:59.964Z"
   },
   {
    "duration": 18,
    "start_time": "2022-01-12T10:19:59.969Z"
   },
   {
    "duration": 8,
    "start_time": "2022-01-12T10:19:59.989Z"
   },
   {
    "duration": 7,
    "start_time": "2022-01-12T10:19:59.998Z"
   },
   {
    "duration": 14,
    "start_time": "2022-01-12T10:20:00.006Z"
   },
   {
    "duration": 40,
    "start_time": "2022-01-12T10:20:00.022Z"
   },
   {
    "duration": 8,
    "start_time": "2022-01-12T10:20:00.064Z"
   },
   {
    "duration": 13,
    "start_time": "2022-01-12T10:20:00.074Z"
   },
   {
    "duration": 32,
    "start_time": "2022-01-12T10:20:00.089Z"
   },
   {
    "duration": 18,
    "start_time": "2022-01-12T10:20:00.122Z"
   },
   {
    "duration": 32,
    "start_time": "2022-01-12T10:20:00.142Z"
   },
   {
    "duration": 7,
    "start_time": "2022-01-12T10:20:00.176Z"
   },
   {
    "duration": 10,
    "start_time": "2022-01-12T10:20:00.184Z"
   },
   {
    "duration": 244,
    "start_time": "2022-01-12T10:20:00.195Z"
   },
   {
    "duration": 7,
    "start_time": "2022-01-12T10:20:00.441Z"
   },
   {
    "duration": 17,
    "start_time": "2022-01-12T10:20:00.449Z"
   },
   {
    "duration": 66,
    "start_time": "2022-01-12T10:20:00.468Z"
   },
   {
    "duration": 78,
    "start_time": "2022-01-12T10:20:00.538Z"
   },
   {
    "duration": 96,
    "start_time": "2022-01-12T10:20:00.618Z"
   },
   {
    "duration": 72,
    "start_time": "2022-01-12T10:20:00.716Z"
   },
   {
    "duration": 38,
    "start_time": "2022-01-12T10:20:00.790Z"
   },
   {
    "duration": 37,
    "start_time": "2022-01-12T10:20:00.830Z"
   },
   {
    "duration": 17,
    "start_time": "2022-01-12T10:20:00.869Z"
   },
   {
    "duration": 378,
    "start_time": "2022-01-12T10:20:00.889Z"
   },
   {
    "duration": 46,
    "start_time": "2022-01-12T10:20:01.270Z"
   },
   {
    "duration": 48,
    "start_time": "2022-01-12T10:20:01.318Z"
   },
   {
    "duration": 42,
    "start_time": "2022-01-12T10:20:01.368Z"
   },
   {
    "duration": 52,
    "start_time": "2022-01-12T10:20:01.412Z"
   },
   {
    "duration": 16,
    "start_time": "2022-01-12T10:20:01.466Z"
   },
   {
    "duration": 318,
    "start_time": "2022-01-12T10:20:01.484Z"
   },
   {
    "duration": 4,
    "start_time": "2022-01-12T10:20:01.804Z"
   },
   {
    "duration": 32,
    "start_time": "2022-01-12T10:20:01.811Z"
   },
   {
    "duration": 55,
    "start_time": "2022-01-12T10:20:01.845Z"
   },
   {
    "duration": 113,
    "start_time": "2022-01-12T10:20:01.902Z"
   },
   {
    "duration": 158,
    "start_time": "2022-01-12T10:20:02.017Z"
   },
   {
    "duration": 11,
    "start_time": "2022-01-12T10:20:02.176Z"
   },
   {
    "duration": 27,
    "start_time": "2022-01-12T10:20:02.189Z"
   },
   {
    "duration": 61,
    "start_time": "2022-01-12T10:20:02.218Z"
   },
   {
    "duration": 1145,
    "start_time": "2022-01-12T10:20:02.281Z"
   },
   {
    "duration": 234,
    "start_time": "2022-01-12T10:20:03.429Z"
   },
   {
    "duration": 6,
    "start_time": "2022-01-12T10:20:03.665Z"
   },
   {
    "duration": 1009,
    "start_time": "2022-01-12T10:20:03.673Z"
   },
   {
    "duration": 98,
    "start_time": "2022-01-12T10:20:04.684Z"
   },
   {
    "duration": 23,
    "start_time": "2022-01-12T10:20:04.784Z"
   },
   {
    "duration": 3,
    "start_time": "2022-01-12T10:45:19.175Z"
   },
   {
    "duration": 422,
    "start_time": "2022-01-12T10:45:19.180Z"
   },
   {
    "duration": 9,
    "start_time": "2022-01-12T10:45:19.604Z"
   },
   {
    "duration": 8,
    "start_time": "2022-01-12T10:45:19.614Z"
   },
   {
    "duration": 36,
    "start_time": "2022-01-12T10:45:19.624Z"
   },
   {
    "duration": 12,
    "start_time": "2022-01-12T10:45:19.662Z"
   },
   {
    "duration": 11,
    "start_time": "2022-01-12T10:45:19.676Z"
   },
   {
    "duration": 22,
    "start_time": "2022-01-12T10:45:19.688Z"
   },
   {
    "duration": 12,
    "start_time": "2022-01-12T10:45:19.712Z"
   },
   {
    "duration": 9,
    "start_time": "2022-01-12T10:45:19.726Z"
   },
   {
    "duration": 34,
    "start_time": "2022-01-12T10:45:19.737Z"
   },
   {
    "duration": 10,
    "start_time": "2022-01-12T10:45:19.773Z"
   },
   {
    "duration": 5,
    "start_time": "2022-01-12T10:45:19.785Z"
   },
   {
    "duration": 7,
    "start_time": "2022-01-12T10:45:19.792Z"
   },
   {
    "duration": 13,
    "start_time": "2022-01-12T10:45:19.801Z"
   },
   {
    "duration": 11,
    "start_time": "2022-01-12T10:45:19.816Z"
   },
   {
    "duration": 34,
    "start_time": "2022-01-12T10:45:19.828Z"
   },
   {
    "duration": 33,
    "start_time": "2022-01-12T10:45:19.864Z"
   },
   {
    "duration": 20,
    "start_time": "2022-01-12T10:45:19.899Z"
   },
   {
    "duration": 15,
    "start_time": "2022-01-12T10:45:19.921Z"
   },
   {
    "duration": 6,
    "start_time": "2022-01-12T10:45:19.961Z"
   },
   {
    "duration": 33,
    "start_time": "2022-01-12T10:45:19.969Z"
   },
   {
    "duration": 235,
    "start_time": "2022-01-12T10:45:20.004Z"
   },
   {
    "duration": 6,
    "start_time": "2022-01-12T10:45:20.241Z"
   },
   {
    "duration": 16,
    "start_time": "2022-01-12T10:45:20.261Z"
   },
   {
    "duration": 77,
    "start_time": "2022-01-12T10:45:20.279Z"
   },
   {
    "duration": 58,
    "start_time": "2022-01-12T10:45:20.358Z"
   },
   {
    "duration": 98,
    "start_time": "2022-01-12T10:45:20.418Z"
   },
   {
    "duration": 69,
    "start_time": "2022-01-12T10:45:20.518Z"
   },
   {
    "duration": 38,
    "start_time": "2022-01-12T10:45:20.589Z"
   },
   {
    "duration": 33,
    "start_time": "2022-01-12T10:45:20.629Z"
   },
   {
    "duration": 21,
    "start_time": "2022-01-12T10:45:20.663Z"
   },
   {
    "duration": 392,
    "start_time": "2022-01-12T10:45:20.685Z"
   },
   {
    "duration": 53,
    "start_time": "2022-01-12T10:45:21.079Z"
   },
   {
    "duration": 42,
    "start_time": "2022-01-12T10:45:21.133Z"
   },
   {
    "duration": 43,
    "start_time": "2022-01-12T10:45:21.177Z"
   },
   {
    "duration": 55,
    "start_time": "2022-01-12T10:45:21.222Z"
   },
   {
    "duration": 17,
    "start_time": "2022-01-12T10:45:21.279Z"
   },
   {
    "duration": 287,
    "start_time": "2022-01-12T10:45:21.297Z"
   },
   {
    "duration": 5,
    "start_time": "2022-01-12T10:45:21.586Z"
   },
   {
    "duration": 10,
    "start_time": "2022-01-12T10:45:21.594Z"
   },
   {
    "duration": 18,
    "start_time": "2022-01-12T10:45:21.607Z"
   },
   {
    "duration": 100,
    "start_time": "2022-01-12T10:45:21.628Z"
   },
   {
    "duration": 99,
    "start_time": "2022-01-12T10:45:21.730Z"
   },
   {
    "duration": 7,
    "start_time": "2022-01-12T10:45:21.830Z"
   },
   {
    "duration": 22,
    "start_time": "2022-01-12T10:45:21.839Z"
   },
   {
    "duration": 49,
    "start_time": "2022-01-12T10:45:21.863Z"
   },
   {
    "duration": 1312,
    "start_time": "2022-01-12T10:45:21.913Z"
   },
   {
    "duration": 166,
    "start_time": "2022-01-12T10:45:23.227Z"
   },
   {
    "duration": 11918,
    "start_time": "2022-01-12T10:45:23.396Z"
   },
   {
    "duration": 964,
    "start_time": "2022-01-12T10:45:35.316Z"
   },
   {
    "duration": 106,
    "start_time": "2022-01-12T10:45:36.282Z"
   },
   {
    "duration": 19,
    "start_time": "2022-01-12T10:45:36.390Z"
   },
   {
    "duration": 794,
    "start_time": "2022-01-12T11:08:31.148Z"
   },
   {
    "duration": 423,
    "start_time": "2022-01-12T11:08:31.944Z"
   },
   {
    "duration": 13,
    "start_time": "2022-01-12T11:08:32.369Z"
   },
   {
    "duration": 7,
    "start_time": "2022-01-12T11:08:32.384Z"
   },
   {
    "duration": 25,
    "start_time": "2022-01-12T11:08:32.393Z"
   },
   {
    "duration": 14,
    "start_time": "2022-01-12T11:08:32.420Z"
   },
   {
    "duration": 28,
    "start_time": "2022-01-12T11:08:32.435Z"
   },
   {
    "duration": 21,
    "start_time": "2022-01-12T11:08:32.466Z"
   },
   {
    "duration": 11,
    "start_time": "2022-01-12T11:08:32.489Z"
   },
   {
    "duration": 40,
    "start_time": "2022-01-12T11:08:32.502Z"
   },
   {
    "duration": 33,
    "start_time": "2022-01-12T11:08:32.543Z"
   },
   {
    "duration": 22,
    "start_time": "2022-01-12T11:08:32.577Z"
   },
   {
    "duration": 10,
    "start_time": "2022-01-12T11:08:32.601Z"
   },
   {
    "duration": 15,
    "start_time": "2022-01-12T11:08:32.612Z"
   },
   {
    "duration": 20,
    "start_time": "2022-01-12T11:08:32.628Z"
   },
   {
    "duration": 9,
    "start_time": "2022-01-12T11:08:32.650Z"
   },
   {
    "duration": 8,
    "start_time": "2022-01-12T11:08:32.661Z"
   },
   {
    "duration": 32,
    "start_time": "2022-01-12T11:08:32.671Z"
   },
   {
    "duration": 18,
    "start_time": "2022-01-12T11:08:32.704Z"
   },
   {
    "duration": 14,
    "start_time": "2022-01-12T11:08:32.724Z"
   },
   {
    "duration": 22,
    "start_time": "2022-01-12T11:08:32.740Z"
   },
   {
    "duration": 10,
    "start_time": "2022-01-12T11:08:32.764Z"
   },
   {
    "duration": 233,
    "start_time": "2022-01-12T11:08:32.777Z"
   },
   {
    "duration": 6,
    "start_time": "2022-01-12T11:08:33.013Z"
   },
   {
    "duration": 13,
    "start_time": "2022-01-12T11:08:33.021Z"
   },
   {
    "duration": 78,
    "start_time": "2022-01-12T11:08:33.036Z"
   },
   {
    "duration": 65,
    "start_time": "2022-01-12T11:08:33.116Z"
   },
   {
    "duration": 85,
    "start_time": "2022-01-12T11:08:33.182Z"
   },
   {
    "duration": 52,
    "start_time": "2022-01-12T11:08:33.269Z"
   },
   {
    "duration": 50,
    "start_time": "2022-01-12T11:08:33.323Z"
   },
   {
    "duration": 15,
    "start_time": "2022-01-12T11:08:33.375Z"
   },
   {
    "duration": 17,
    "start_time": "2022-01-12T11:08:33.391Z"
   },
   {
    "duration": 360,
    "start_time": "2022-01-12T11:08:33.409Z"
   },
   {
    "duration": 42,
    "start_time": "2022-01-12T11:08:33.771Z"
   },
   {
    "duration": 24,
    "start_time": "2022-01-12T11:08:33.815Z"
   },
   {
    "duration": 41,
    "start_time": "2022-01-12T11:08:33.860Z"
   },
   {
    "duration": 34,
    "start_time": "2022-01-12T11:08:33.903Z"
   },
   {
    "duration": 37,
    "start_time": "2022-01-12T11:08:33.939Z"
   },
   {
    "duration": 285,
    "start_time": "2022-01-12T11:08:33.977Z"
   },
   {
    "duration": 5,
    "start_time": "2022-01-12T11:08:34.264Z"
   },
   {
    "duration": 9,
    "start_time": "2022-01-12T11:08:34.270Z"
   },
   {
    "duration": 16,
    "start_time": "2022-01-12T11:08:34.280Z"
   },
   {
    "duration": 103,
    "start_time": "2022-01-12T11:08:34.298Z"
   },
   {
    "duration": 142,
    "start_time": "2022-01-12T11:08:34.404Z"
   },
   {
    "duration": 17,
    "start_time": "2022-01-12T11:08:34.548Z"
   },
   {
    "duration": 8,
    "start_time": "2022-01-12T11:08:34.567Z"
   },
   {
    "duration": 51,
    "start_time": "2022-01-12T11:08:34.576Z"
   },
   {
    "duration": 1171,
    "start_time": "2022-01-12T11:08:34.629Z"
   },
   {
    "duration": 170,
    "start_time": "2022-01-12T11:08:35.802Z"
   },
   {
    "duration": 7,
    "start_time": "2022-01-12T11:08:35.974Z"
   },
   {
    "duration": 1017,
    "start_time": "2022-01-12T11:08:35.983Z"
   },
   {
    "duration": 119,
    "start_time": "2022-01-12T11:08:37.002Z"
   },
   {
    "duration": 39,
    "start_time": "2022-01-12T11:08:37.123Z"
   },
   {
    "duration": 492746,
    "start_time": "2022-01-12T11:33:20.362Z"
   },
   {
    "duration": 250258,
    "start_time": "2022-01-12T11:42:55.874Z"
   },
   {
    "duration": 323,
    "start_time": "2022-01-12T11:47:49.416Z"
   },
   {
    "duration": 15,
    "start_time": "2022-01-12T11:48:07.233Z"
   },
   {
    "duration": 16,
    "start_time": "2022-01-12T11:48:26.913Z"
   },
   {
    "duration": 6562,
    "start_time": "2022-01-12T11:49:06.346Z"
   },
   {
    "duration": 7005,
    "start_time": "2022-01-12T11:49:30.242Z"
   },
   {
    "duration": 95,
    "start_time": "2022-01-12T11:50:46.197Z"
   },
   {
    "duration": 109,
    "start_time": "2022-01-12T11:50:50.291Z"
   },
   {
    "duration": 250,
    "start_time": "2022-01-12T11:51:00.396Z"
   },
   {
    "duration": 255,
    "start_time": "2022-01-12T11:51:05.764Z"
   },
   {
    "duration": 20,
    "start_time": "2022-01-12T11:52:15.719Z"
   },
   {
    "duration": 23,
    "start_time": "2022-01-12T11:52:27.975Z"
   },
   {
    "duration": 21,
    "start_time": "2022-01-12T11:52:37.855Z"
   },
   {
    "duration": 33,
    "start_time": "2022-01-12T11:52:54.923Z"
   },
   {
    "duration": 271,
    "start_time": "2022-01-12T12:07:22.361Z"
   },
   {
    "duration": 33,
    "start_time": "2022-01-12T12:07:39.977Z"
   },
   {
    "duration": 33,
    "start_time": "2022-01-12T12:08:07.674Z"
   },
   {
    "duration": 19,
    "start_time": "2022-01-12T12:08:18.507Z"
   },
   {
    "duration": 48,
    "start_time": "2022-01-12T12:08:48.803Z"
   },
   {
    "duration": 12,
    "start_time": "2022-01-12T12:10:56.919Z"
   },
   {
    "duration": 251,
    "start_time": "2022-01-12T12:11:08.215Z"
   },
   {
    "duration": 277,
    "start_time": "2022-01-12T12:11:14.799Z"
   },
   {
    "duration": 10,
    "start_time": "2022-01-12T12:11:25.537Z"
   },
   {
    "duration": 11,
    "start_time": "2022-01-12T12:12:36.448Z"
   },
   {
    "duration": 9,
    "start_time": "2022-01-12T12:36:57.353Z"
   },
   {
    "duration": 11,
    "start_time": "2022-01-12T12:37:24.986Z"
   },
   {
    "duration": 10,
    "start_time": "2022-01-12T12:38:14.339Z"
   },
   {
    "duration": 10,
    "start_time": "2022-01-12T12:38:39.196Z"
   },
   {
    "duration": 11,
    "start_time": "2022-01-12T12:39:04.316Z"
   },
   {
    "duration": 10134,
    "start_time": "2022-01-12T12:47:35.487Z"
   },
   {
    "duration": 9,
    "start_time": "2022-01-12T12:47:48.680Z"
   },
   {
    "duration": 276,
    "start_time": "2022-01-12T12:48:31.657Z"
   },
   {
    "duration": 261,
    "start_time": "2022-01-12T12:48:54.377Z"
   },
   {
    "duration": 11,
    "start_time": "2022-01-12T12:50:04.571Z"
   },
   {
    "duration": 18,
    "start_time": "2022-01-12T12:50:15.195Z"
   },
   {
    "duration": 16,
    "start_time": "2022-01-12T12:50:22.859Z"
   },
   {
    "duration": 18,
    "start_time": "2022-01-12T12:51:02.501Z"
   },
   {
    "duration": 16,
    "start_time": "2022-01-12T12:51:15.157Z"
   },
   {
    "duration": 16,
    "start_time": "2022-01-12T12:51:18.732Z"
   },
   {
    "duration": 29,
    "start_time": "2022-01-12T12:51:27.316Z"
   },
   {
    "duration": 11,
    "start_time": "2022-01-12T12:51:37.446Z"
   },
   {
    "duration": 275,
    "start_time": "2022-01-12T12:52:58.990Z"
   },
   {
    "duration": 199,
    "start_time": "2022-01-12T12:54:34.617Z"
   },
   {
    "duration": 247,
    "start_time": "2022-01-12T12:54:41.068Z"
   },
   {
    "duration": 262,
    "start_time": "2022-01-12T13:12:56.785Z"
   },
   {
    "duration": 289,
    "start_time": "2022-01-12T13:13:13.714Z"
   },
   {
    "duration": 5938,
    "start_time": "2022-01-12T13:13:20.361Z"
   },
   {
    "duration": 199,
    "start_time": "2022-01-12T13:13:48.667Z"
   },
   {
    "duration": 315,
    "start_time": "2022-01-12T13:13:54.258Z"
   },
   {
    "duration": 270,
    "start_time": "2022-01-12T13:17:21.566Z"
   },
   {
    "duration": 264,
    "start_time": "2022-01-12T13:17:27.678Z"
   },
   {
    "duration": 338,
    "start_time": "2022-01-12T13:17:40.871Z"
   },
   {
    "duration": 350,
    "start_time": "2022-01-12T13:17:47.863Z"
   },
   {
    "duration": 198,
    "start_time": "2022-01-12T13:18:05.415Z"
   },
   {
    "duration": 188,
    "start_time": "2022-01-12T13:18:10.327Z"
   },
   {
    "duration": 266,
    "start_time": "2022-01-12T13:18:15.153Z"
   },
   {
    "duration": 333,
    "start_time": "2022-01-12T13:18:21.681Z"
   },
   {
    "duration": 243,
    "start_time": "2022-01-12T13:18:58.521Z"
   },
   {
    "duration": 94,
    "start_time": "2022-01-12T13:28:19.565Z"
   },
   {
    "duration": 92,
    "start_time": "2022-01-12T13:28:33.525Z"
   },
   {
    "duration": 296,
    "start_time": "2022-01-12T13:29:14.040Z"
   },
   {
    "duration": 318,
    "start_time": "2022-01-12T13:30:33.202Z"
   },
   {
    "duration": 319,
    "start_time": "2022-01-12T13:30:37.105Z"
   },
   {
    "duration": 345,
    "start_time": "2022-01-12T13:30:41.835Z"
   },
   {
    "duration": 868,
    "start_time": "2022-01-12T13:31:40.378Z"
   },
   {
    "duration": 387,
    "start_time": "2022-01-12T13:31:50.745Z"
   },
   {
    "duration": 315,
    "start_time": "2022-01-12T13:33:40.253Z"
   },
   {
    "duration": 308,
    "start_time": "2022-01-12T14:22:23.969Z"
   },
   {
    "duration": 307,
    "start_time": "2022-01-12T14:22:37.584Z"
   },
   {
    "duration": 963,
    "start_time": "2022-01-13T06:16:21.202Z"
   },
   {
    "duration": 567,
    "start_time": "2022-01-13T06:16:22.168Z"
   },
   {
    "duration": 17,
    "start_time": "2022-01-13T06:16:22.738Z"
   },
   {
    "duration": 8,
    "start_time": "2022-01-13T06:16:22.758Z"
   },
   {
    "duration": 28,
    "start_time": "2022-01-13T06:16:22.769Z"
   },
   {
    "duration": 19,
    "start_time": "2022-01-13T06:16:22.800Z"
   },
   {
    "duration": 5,
    "start_time": "2022-01-13T06:16:22.822Z"
   },
   {
    "duration": 23,
    "start_time": "2022-01-13T06:16:22.831Z"
   },
   {
    "duration": 49,
    "start_time": "2022-01-13T06:16:22.857Z"
   },
   {
    "duration": 5,
    "start_time": "2022-01-13T06:16:22.909Z"
   },
   {
    "duration": 20,
    "start_time": "2022-01-13T06:16:22.917Z"
   },
   {
    "duration": 12,
    "start_time": "2022-01-13T06:16:22.940Z"
   },
   {
    "duration": 47,
    "start_time": "2022-01-13T06:16:22.955Z"
   },
   {
    "duration": 9,
    "start_time": "2022-01-13T06:16:23.004Z"
   },
   {
    "duration": 19,
    "start_time": "2022-01-13T06:16:23.015Z"
   },
   {
    "duration": 8,
    "start_time": "2022-01-13T06:16:23.036Z"
   },
   {
    "duration": 12,
    "start_time": "2022-01-13T06:16:23.046Z"
   },
   {
    "duration": 60,
    "start_time": "2022-01-13T06:16:23.060Z"
   },
   {
    "duration": 22,
    "start_time": "2022-01-13T06:16:23.122Z"
   },
   {
    "duration": 18,
    "start_time": "2022-01-13T06:16:23.147Z"
   },
   {
    "duration": 10,
    "start_time": "2022-01-13T06:16:23.202Z"
   },
   {
    "duration": 9,
    "start_time": "2022-01-13T06:16:23.214Z"
   },
   {
    "duration": 360,
    "start_time": "2022-01-13T06:16:23.229Z"
   },
   {
    "duration": 10,
    "start_time": "2022-01-13T06:16:23.599Z"
   },
   {
    "duration": 9,
    "start_time": "2022-01-13T06:16:23.611Z"
   },
   {
    "duration": 117,
    "start_time": "2022-01-13T06:16:23.622Z"
   },
   {
    "duration": 87,
    "start_time": "2022-01-13T06:16:23.742Z"
   },
   {
    "duration": 127,
    "start_time": "2022-01-13T06:16:23.831Z"
   },
   {
    "duration": 92,
    "start_time": "2022-01-13T06:16:23.960Z"
   },
   {
    "duration": 63,
    "start_time": "2022-01-13T06:16:24.054Z"
   },
   {
    "duration": 21,
    "start_time": "2022-01-13T06:16:24.120Z"
   },
   {
    "duration": 25,
    "start_time": "2022-01-13T06:16:24.144Z"
   },
   {
    "duration": 604,
    "start_time": "2022-01-13T06:16:24.171Z"
   },
   {
    "duration": 89,
    "start_time": "2022-01-13T06:16:24.778Z"
   },
   {
    "duration": 45,
    "start_time": "2022-01-13T06:16:24.869Z"
   },
   {
    "duration": 57,
    "start_time": "2022-01-13T06:16:24.916Z"
   },
   {
    "duration": 70,
    "start_time": "2022-01-13T06:16:24.975Z"
   },
   {
    "duration": 23,
    "start_time": "2022-01-13T06:16:25.047Z"
   },
   {
    "duration": 455,
    "start_time": "2022-01-13T06:16:25.072Z"
   },
   {
    "duration": 6,
    "start_time": "2022-01-13T06:16:25.529Z"
   },
   {
    "duration": 9,
    "start_time": "2022-01-13T06:16:25.537Z"
   },
   {
    "duration": 25,
    "start_time": "2022-01-13T06:16:25.548Z"
   },
   {
    "duration": 132,
    "start_time": "2022-01-13T06:16:25.575Z"
   },
   {
    "duration": 209,
    "start_time": "2022-01-13T06:16:25.710Z"
   },
   {
    "duration": 12,
    "start_time": "2022-01-13T06:16:25.922Z"
   },
   {
    "duration": 9,
    "start_time": "2022-01-13T06:16:25.936Z"
   },
   {
    "duration": 113,
    "start_time": "2022-01-13T06:16:25.948Z"
   },
   {
    "duration": 1803,
    "start_time": "2022-01-13T06:16:26.064Z"
   },
   {
    "duration": 284,
    "start_time": "2022-01-13T06:16:27.870Z"
   },
   {
    "duration": 9,
    "start_time": "2022-01-13T06:16:28.157Z"
   },
   {
    "duration": 1897,
    "start_time": "2022-01-13T06:16:28.169Z"
   },
   {
    "duration": 166,
    "start_time": "2022-01-13T06:16:30.068Z"
   },
   {
    "duration": 33,
    "start_time": "2022-01-13T06:16:30.236Z"
   },
   {
    "duration": 41,
    "start_time": "2022-01-13T06:16:30.271Z"
   },
   {
    "duration": 125,
    "start_time": "2022-01-13T06:16:30.314Z"
   },
   {
    "duration": -1,
    "start_time": "2022-01-13T06:16:30.443Z"
   },
   {
    "duration": -6,
    "start_time": "2022-01-13T06:16:30.449Z"
   },
   {
    "duration": -12,
    "start_time": "2022-01-13T06:16:30.457Z"
   },
   {
    "duration": 131,
    "start_time": "2022-01-13T06:16:52.733Z"
   },
   {
    "duration": 511,
    "start_time": "2022-01-13T06:17:02.134Z"
   },
   {
    "duration": 429,
    "start_time": "2022-01-13T06:17:04.998Z"
   },
   {
    "duration": 554,
    "start_time": "2022-01-13T06:17:07.382Z"
   },
   {
    "duration": 590,
    "start_time": "2022-01-13T06:17:10.510Z"
   },
   {
    "duration": 14,
    "start_time": "2022-01-13T06:25:04.241Z"
   },
   {
    "duration": 10,
    "start_time": "2022-01-13T06:25:10.008Z"
   },
   {
    "duration": 244,
    "start_time": "2022-01-13T06:31:38.706Z"
   },
   {
    "duration": 2188,
    "start_time": "2022-01-13T06:35:22.301Z"
   },
   {
    "duration": 489,
    "start_time": "2022-01-13T06:35:37.215Z"
   },
   {
    "duration": 496,
    "start_time": "2022-01-13T06:35:47.110Z"
   },
   {
    "duration": 461,
    "start_time": "2022-01-13T06:35:51.966Z"
   },
   {
    "duration": 621,
    "start_time": "2022-01-13T06:36:22.464Z"
   },
   {
    "duration": 228,
    "start_time": "2022-01-13T06:49:56.244Z"
   },
   {
    "duration": 215,
    "start_time": "2022-01-13T06:51:04.442Z"
   },
   {
    "duration": 467,
    "start_time": "2022-01-13T06:51:17.474Z"
   },
   {
    "duration": 514,
    "start_time": "2022-01-13T06:59:05.652Z"
   },
   {
    "duration": 496,
    "start_time": "2022-01-13T07:03:39.226Z"
   },
   {
    "duration": 251,
    "start_time": "2022-01-13T07:05:05.862Z"
   },
   {
    "duration": 589,
    "start_time": "2022-01-13T07:07:52.763Z"
   },
   {
    "duration": 221,
    "start_time": "2022-01-13T07:07:54.703Z"
   },
   {
    "duration": 219,
    "start_time": "2022-01-13T07:08:11.346Z"
   },
   {
    "duration": 225,
    "start_time": "2022-01-13T07:08:38.960Z"
   },
   {
    "duration": 227,
    "start_time": "2022-01-13T07:08:52.113Z"
   },
   {
    "duration": 504,
    "start_time": "2022-01-13T07:11:24.996Z"
   },
   {
    "duration": 460,
    "start_time": "2022-01-13T07:11:56.813Z"
   },
   {
    "duration": 472,
    "start_time": "2022-01-13T07:12:02.517Z"
   },
   {
    "duration": 602,
    "start_time": "2022-01-13T07:12:10.709Z"
   },
   {
    "duration": 486,
    "start_time": "2022-01-13T07:12:19.166Z"
   },
   {
    "duration": 646,
    "start_time": "2022-01-13T07:12:26.102Z"
   },
   {
    "duration": 696,
    "start_time": "2022-01-13T07:12:29.942Z"
   },
   {
    "duration": 570,
    "start_time": "2022-01-13T07:12:34.254Z"
   },
   {
    "duration": 479,
    "start_time": "2022-01-13T07:12:38.254Z"
   },
   {
    "duration": 331,
    "start_time": "2022-01-13T07:12:47.342Z"
   },
   {
    "duration": 527,
    "start_time": "2022-01-13T07:16:01.682Z"
   },
   {
    "duration": 258,
    "start_time": "2022-01-13T07:16:10.997Z"
   },
   {
    "duration": 233,
    "start_time": "2022-01-13T07:16:49.476Z"
   },
   {
    "duration": 222,
    "start_time": "2022-01-13T07:17:10.380Z"
   },
   {
    "duration": 5,
    "start_time": "2022-01-13T07:28:06.116Z"
   },
   {
    "duration": 5,
    "start_time": "2022-01-13T07:30:13.581Z"
   },
   {
    "duration": 5,
    "start_time": "2022-01-13T07:30:42.285Z"
   },
   {
    "duration": 6,
    "start_time": "2022-01-13T07:31:58.063Z"
   },
   {
    "duration": 6,
    "start_time": "2022-01-13T07:32:30.824Z"
   },
   {
    "duration": 6,
    "start_time": "2022-01-13T07:32:42.432Z"
   },
   {
    "duration": 6,
    "start_time": "2022-01-13T07:33:22.273Z"
   },
   {
    "duration": 6,
    "start_time": "2022-01-13T07:33:54.377Z"
   },
   {
    "duration": 5,
    "start_time": "2022-01-13T07:34:13.546Z"
   },
   {
    "duration": 7,
    "start_time": "2022-01-13T07:34:26.274Z"
   },
   {
    "duration": 6,
    "start_time": "2022-01-13T07:34:36.290Z"
   },
   {
    "duration": 464,
    "start_time": "2022-01-13T07:54:49.237Z"
   },
   {
    "duration": 526,
    "start_time": "2022-01-13T07:55:16.382Z"
   },
   {
    "duration": 579,
    "start_time": "2022-01-13T07:55:26.541Z"
   },
   {
    "duration": 758,
    "start_time": "2022-01-13T07:55:36.759Z"
   },
   {
    "duration": 231,
    "start_time": "2022-01-13T07:58:28.953Z"
   },
   {
    "duration": 233,
    "start_time": "2022-01-13T08:02:40.111Z"
   },
   {
    "duration": 829,
    "start_time": "2022-01-13T08:02:44.447Z"
   },
   {
    "duration": 484,
    "start_time": "2022-01-13T08:02:57.199Z"
   },
   {
    "duration": 321,
    "start_time": "2022-01-13T08:03:02.591Z"
   },
   {
    "duration": 977,
    "start_time": "2022-01-13T08:03:12.897Z"
   },
   {
    "duration": 7,
    "start_time": "2022-01-13T08:03:23.656Z"
   },
   {
    "duration": 483,
    "start_time": "2022-01-13T08:08:39.079Z"
   },
   {
    "duration": 229,
    "start_time": "2022-01-13T08:09:26.463Z"
   },
   {
    "duration": 230,
    "start_time": "2022-01-13T08:09:46.600Z"
   },
   {
    "duration": 225,
    "start_time": "2022-01-13T08:09:53.649Z"
   },
   {
    "duration": 491,
    "start_time": "2022-01-13T08:09:55.720Z"
   },
   {
    "duration": 6,
    "start_time": "2022-01-13T08:09:59.128Z"
   },
   {
    "duration": 443,
    "start_time": "2022-01-13T08:18:21.914Z"
   },
   {
    "duration": 276,
    "start_time": "2022-01-13T08:18:31.947Z"
   },
   {
    "duration": 297,
    "start_time": "2022-01-13T08:18:48.661Z"
   },
   {
    "duration": 222,
    "start_time": "2022-01-13T08:19:06.484Z"
   },
   {
    "duration": 478,
    "start_time": "2022-01-13T08:19:13.241Z"
   },
   {
    "duration": 5,
    "start_time": "2022-01-13T08:19:15.908Z"
   },
   {
    "duration": 5,
    "start_time": "2022-01-13T08:19:25.485Z"
   },
   {
    "duration": 223,
    "start_time": "2022-01-13T08:20:56.014Z"
   },
   {
    "duration": 434,
    "start_time": "2022-01-13T08:21:12.232Z"
   },
   {
    "duration": 227,
    "start_time": "2022-01-13T08:21:28.503Z"
   },
   {
    "duration": 253,
    "start_time": "2022-01-13T08:22:22.365Z"
   },
   {
    "duration": 254,
    "start_time": "2022-01-13T08:22:26.873Z"
   },
   {
    "duration": 247,
    "start_time": "2022-01-13T08:23:01.386Z"
   },
   {
    "duration": 338,
    "start_time": "2022-01-13T08:23:12.883Z"
   },
   {
    "duration": 234,
    "start_time": "2022-01-13T08:23:16.851Z"
   },
   {
    "duration": 484,
    "start_time": "2022-01-13T08:23:19.075Z"
   },
   {
    "duration": 229,
    "start_time": "2022-01-13T08:23:24.306Z"
   },
   {
    "duration": 218,
    "start_time": "2022-01-13T08:23:26.738Z"
   },
   {
    "duration": 567,
    "start_time": "2022-01-13T08:23:39.571Z"
   },
   {
    "duration": 499,
    "start_time": "2022-01-13T09:52:09.053Z"
   },
   {
    "duration": 582,
    "start_time": "2022-01-13T09:52:27.125Z"
   },
   {
    "duration": 131,
    "start_time": "2022-01-13T09:52:36.966Z"
   },
   {
    "duration": 1414,
    "start_time": "2022-01-13T09:52:42.472Z"
   },
   {
    "duration": 506,
    "start_time": "2022-01-13T09:52:56.767Z"
   },
   {
    "duration": 511,
    "start_time": "2022-01-13T09:53:06.063Z"
   },
   {
    "duration": 82,
    "start_time": "2022-01-13T10:07:06.889Z"
   },
   {
    "duration": 19,
    "start_time": "2022-01-13T10:07:35.379Z"
   },
   {
    "duration": 22,
    "start_time": "2022-01-13T10:09:04.636Z"
   },
   {
    "duration": 24,
    "start_time": "2022-01-13T10:11:19.222Z"
   },
   {
    "duration": 22,
    "start_time": "2022-01-13T10:11:26.111Z"
   },
   {
    "duration": 454,
    "start_time": "2022-01-13T10:11:41.607Z"
   },
   {
    "duration": 22,
    "start_time": "2022-01-13T10:11:48.440Z"
   },
   {
    "duration": 26,
    "start_time": "2022-01-13T10:12:21.168Z"
   },
   {
    "duration": 51,
    "start_time": "2022-01-13T10:14:14.122Z"
   },
   {
    "duration": 373,
    "start_time": "2022-01-13T10:14:33.355Z"
   },
   {
    "duration": 23,
    "start_time": "2022-01-13T10:16:51.966Z"
   },
   {
    "duration": 8,
    "start_time": "2022-01-13T10:17:48.765Z"
   },
   {
    "duration": 21,
    "start_time": "2022-01-13T10:18:01.910Z"
   },
   {
    "duration": 25,
    "start_time": "2022-01-13T10:18:18.359Z"
   },
   {
    "duration": 19,
    "start_time": "2022-01-13T10:18:32.464Z"
   },
   {
    "duration": 31,
    "start_time": "2022-01-13T10:19:54.772Z"
   },
   {
    "duration": 558,
    "start_time": "2022-01-13T10:20:24.810Z"
   },
   {
    "duration": 32,
    "start_time": "2022-01-13T10:20:53.060Z"
   },
   {
    "duration": 46,
    "start_time": "2022-01-13T10:23:21.495Z"
   },
   {
    "duration": 145,
    "start_time": "2022-01-13T10:24:38.817Z"
   },
   {
    "duration": 147,
    "start_time": "2022-01-13T10:24:54.978Z"
   },
   {
    "duration": 113,
    "start_time": "2022-01-13T10:25:22.976Z"
   },
   {
    "duration": 39,
    "start_time": "2022-01-13T10:25:30.945Z"
   },
   {
    "duration": 37,
    "start_time": "2022-01-13T10:25:42.594Z"
   },
   {
    "duration": 130,
    "start_time": "2022-01-13T10:29:44.552Z"
   },
   {
    "duration": 39,
    "start_time": "2022-01-13T10:29:58.383Z"
   },
   {
    "duration": 43,
    "start_time": "2022-01-13T10:30:26.928Z"
   },
   {
    "duration": 45,
    "start_time": "2022-01-13T10:30:56.785Z"
   },
   {
    "duration": 7,
    "start_time": "2022-01-13T10:31:32.882Z"
   },
   {
    "duration": 34,
    "start_time": "2022-01-13T10:31:37.426Z"
   },
   {
    "duration": 35,
    "start_time": "2022-01-13T10:32:23.139Z"
   },
   {
    "duration": 41,
    "start_time": "2022-01-13T10:32:48.539Z"
   },
   {
    "duration": 140,
    "start_time": "2022-01-13T11:07:10.096Z"
   },
   {
    "duration": 182,
    "start_time": "2022-01-13T11:59:27.492Z"
   },
   {
    "duration": 4,
    "start_time": "2022-01-13T11:59:39.852Z"
   },
   {
    "duration": 12258,
    "start_time": "2022-01-13T12:15:01.832Z"
   },
   {
    "duration": 75,
    "start_time": "2022-01-13T12:15:50.506Z"
   },
   {
    "duration": 12397,
    "start_time": "2022-01-13T12:16:36.200Z"
   },
   {
    "duration": 465,
    "start_time": "2022-01-13T12:24:39.565Z"
   },
   {
    "duration": 38,
    "start_time": "2022-01-13T12:30:25.860Z"
   },
   {
    "duration": 36,
    "start_time": "2022-01-13T12:30:42.428Z"
   },
   {
    "duration": 30,
    "start_time": "2022-01-13T12:30:46.373Z"
   },
   {
    "duration": 6,
    "start_time": "2022-01-13T12:30:49.636Z"
   },
   {
    "duration": 13,
    "start_time": "2022-01-13T12:30:57.332Z"
   },
   {
    "duration": 26,
    "start_time": "2022-01-13T12:31:04.997Z"
   },
   {
    "duration": 37,
    "start_time": "2022-01-13T12:31:09.636Z"
   },
   {
    "duration": 374,
    "start_time": "2022-01-13T12:33:51.425Z"
   },
   {
    "duration": 902,
    "start_time": "2022-01-13T12:36:03.419Z"
   },
   {
    "duration": 14,
    "start_time": "2022-01-13T12:36:19.043Z"
   },
   {
    "duration": 15,
    "start_time": "2022-01-13T12:36:29.715Z"
   },
   {
    "duration": 28,
    "start_time": "2022-01-13T12:36:34.324Z"
   },
   {
    "duration": 121,
    "start_time": "2022-01-13T12:38:31.776Z"
   },
   {
    "duration": 46,
    "start_time": "2022-01-13T12:38:45.942Z"
   },
   {
    "duration": 12810,
    "start_time": "2022-01-13T12:39:05.200Z"
   },
   {
    "duration": 54,
    "start_time": "2022-01-13T12:40:14.945Z"
   },
   {
    "duration": 4,
    "start_time": "2022-01-13T12:40:47.505Z"
   },
   {
    "duration": 624,
    "start_time": "2022-01-13T12:40:47.516Z"
   },
   {
    "duration": 13,
    "start_time": "2022-01-13T12:40:48.143Z"
   },
   {
    "duration": 9,
    "start_time": "2022-01-13T12:40:48.159Z"
   },
   {
    "duration": 32,
    "start_time": "2022-01-13T12:40:48.171Z"
   },
   {
    "duration": 18,
    "start_time": "2022-01-13T12:40:48.205Z"
   },
   {
    "duration": 5,
    "start_time": "2022-01-13T12:40:48.225Z"
   },
   {
    "duration": 22,
    "start_time": "2022-01-13T12:40:48.233Z"
   },
   {
    "duration": 51,
    "start_time": "2022-01-13T12:40:48.259Z"
   },
   {
    "duration": 5,
    "start_time": "2022-01-13T12:40:48.313Z"
   },
   {
    "duration": 20,
    "start_time": "2022-01-13T12:40:48.321Z"
   },
   {
    "duration": 13,
    "start_time": "2022-01-13T12:40:48.344Z"
   },
   {
    "duration": 44,
    "start_time": "2022-01-13T12:40:48.359Z"
   },
   {
    "duration": 11,
    "start_time": "2022-01-13T12:40:48.405Z"
   },
   {
    "duration": 22,
    "start_time": "2022-01-13T12:40:48.419Z"
   },
   {
    "duration": 6,
    "start_time": "2022-01-13T12:40:48.443Z"
   },
   {
    "duration": 49,
    "start_time": "2022-01-13T12:40:48.452Z"
   },
   {
    "duration": 30,
    "start_time": "2022-01-13T12:40:48.504Z"
   },
   {
    "duration": 21,
    "start_time": "2022-01-13T12:40:48.536Z"
   },
   {
    "duration": 42,
    "start_time": "2022-01-13T12:40:48.560Z"
   },
   {
    "duration": 8,
    "start_time": "2022-01-13T12:40:48.604Z"
   },
   {
    "duration": 10,
    "start_time": "2022-01-13T12:40:48.614Z"
   },
   {
    "duration": 320,
    "start_time": "2022-01-13T12:40:48.627Z"
   },
   {
    "duration": 8,
    "start_time": "2022-01-13T12:40:48.953Z"
   },
   {
    "duration": 7,
    "start_time": "2022-01-13T12:40:48.965Z"
   },
   {
    "duration": 111,
    "start_time": "2022-01-13T12:40:48.975Z"
   },
   {
    "duration": 87,
    "start_time": "2022-01-13T12:40:49.089Z"
   },
   {
    "duration": 128,
    "start_time": "2022-01-13T12:40:49.178Z"
   },
   {
    "duration": 72,
    "start_time": "2022-01-13T12:40:49.308Z"
   },
   {
    "duration": 67,
    "start_time": "2022-01-13T12:40:49.382Z"
   },
   {
    "duration": 21,
    "start_time": "2022-01-13T12:40:49.451Z"
   },
   {
    "duration": 46,
    "start_time": "2022-01-13T12:40:49.475Z"
   },
   {
    "duration": 588,
    "start_time": "2022-01-13T12:40:49.523Z"
   },
   {
    "duration": 63,
    "start_time": "2022-01-13T12:40:50.113Z"
   },
   {
    "duration": 53,
    "start_time": "2022-01-13T12:40:50.179Z"
   },
   {
    "duration": 73,
    "start_time": "2022-01-13T12:40:50.234Z"
   },
   {
    "duration": 50,
    "start_time": "2022-01-13T12:40:50.310Z"
   },
   {
    "duration": 53,
    "start_time": "2022-01-13T12:40:50.362Z"
   },
   {
    "duration": 437,
    "start_time": "2022-01-13T12:40:50.417Z"
   },
   {
    "duration": 6,
    "start_time": "2022-01-13T12:40:50.857Z"
   },
   {
    "duration": 7,
    "start_time": "2022-01-13T12:40:50.866Z"
   },
   {
    "duration": 42,
    "start_time": "2022-01-13T12:40:50.876Z"
   },
   {
    "duration": 123,
    "start_time": "2022-01-13T12:40:50.921Z"
   },
   {
    "duration": 237,
    "start_time": "2022-01-13T12:40:51.046Z"
   },
   {
    "duration": 17,
    "start_time": "2022-01-13T12:40:51.285Z"
   },
   {
    "duration": 12,
    "start_time": "2022-01-13T12:40:51.304Z"
   },
   {
    "duration": 101,
    "start_time": "2022-01-13T12:40:51.319Z"
   },
   {
    "duration": 1892,
    "start_time": "2022-01-13T12:40:51.422Z"
   },
   {
    "duration": 283,
    "start_time": "2022-01-13T12:40:53.317Z"
   },
   {
    "duration": 11,
    "start_time": "2022-01-13T12:40:53.603Z"
   },
   {
    "duration": 2107,
    "start_time": "2022-01-13T12:40:53.617Z"
   },
   {
    "duration": 162,
    "start_time": "2022-01-13T12:40:55.728Z"
   },
   {
    "duration": 27,
    "start_time": "2022-01-13T12:40:55.900Z"
   },
   {
    "duration": 27,
    "start_time": "2022-01-13T12:40:55.930Z"
   },
   {
    "duration": 550,
    "start_time": "2022-01-13T12:40:55.961Z"
   },
   {
    "duration": 427,
    "start_time": "2022-01-13T12:40:56.514Z"
   },
   {
    "duration": 524,
    "start_time": "2022-01-13T12:40:56.944Z"
   },
   {
    "duration": 620,
    "start_time": "2022-01-13T12:40:57.471Z"
   },
   {
    "duration": 515,
    "start_time": "2022-01-13T12:40:58.093Z"
   },
   {
    "duration": 252,
    "start_time": "2022-01-13T12:40:58.611Z"
   },
   {
    "duration": 238,
    "start_time": "2022-01-13T12:40:58.865Z"
   },
   {
    "duration": 497,
    "start_time": "2022-01-13T12:40:59.105Z"
   },
   {
    "duration": 6,
    "start_time": "2022-01-13T12:40:59.605Z"
   },
   {
    "duration": 598,
    "start_time": "2022-01-13T12:40:59.613Z"
   },
   {
    "duration": 269,
    "start_time": "2022-01-13T12:41:00.213Z"
   },
   {
    "duration": 362,
    "start_time": "2022-01-13T12:41:00.485Z"
   },
   {
    "duration": 535,
    "start_time": "2022-01-13T12:41:00.850Z"
   },
   {
    "duration": 15,
    "start_time": "2022-01-13T12:41:01.388Z"
   },
   {
    "duration": 522,
    "start_time": "2022-01-13T12:41:01.416Z"
   },
   {
    "duration": 271,
    "start_time": "2022-01-13T12:41:01.941Z"
   },
   {
    "duration": 238,
    "start_time": "2022-01-13T12:41:02.215Z"
   },
   {
    "duration": 596,
    "start_time": "2022-01-13T12:41:02.455Z"
   },
   {
    "duration": 7,
    "start_time": "2022-01-13T12:41:03.054Z"
   },
   {
    "duration": 511,
    "start_time": "2022-01-13T12:41:03.063Z"
   },
   {
    "duration": 351,
    "start_time": "2022-01-13T12:41:03.576Z"
   },
   {
    "duration": 245,
    "start_time": "2022-01-13T12:41:03.930Z"
   },
   {
    "duration": 523,
    "start_time": "2022-01-13T12:41:04.177Z"
   },
   {
    "duration": 5,
    "start_time": "2022-01-13T12:41:04.702Z"
   },
   {
    "duration": 500,
    "start_time": "2022-01-13T12:41:04.710Z"
   },
   {
    "duration": 244,
    "start_time": "2022-01-13T12:41:05.212Z"
   },
   {
    "duration": 244,
    "start_time": "2022-01-13T12:41:05.459Z"
   },
   {
    "duration": 485,
    "start_time": "2022-01-13T12:41:05.706Z"
   },
   {
    "duration": 5,
    "start_time": "2022-01-13T12:41:06.201Z"
   },
   {
    "duration": 593,
    "start_time": "2022-01-13T12:41:06.208Z"
   },
   {
    "duration": 238,
    "start_time": "2022-01-13T12:41:06.804Z"
   },
   {
    "duration": 241,
    "start_time": "2022-01-13T12:41:07.045Z"
   },
   {
    "duration": 499,
    "start_time": "2022-01-13T12:41:07.288Z"
   },
   {
    "duration": 13,
    "start_time": "2022-01-13T12:41:07.789Z"
   },
   {
    "duration": 56,
    "start_time": "2022-01-13T12:41:07.805Z"
   },
   {
    "duration": 111,
    "start_time": "2022-01-13T12:41:07.863Z"
   },
   {
    "duration": 12915,
    "start_time": "2022-01-13T12:44:26.518Z"
   },
   {
    "duration": 4,
    "start_time": "2022-01-13T12:45:08.797Z"
   },
   {
    "duration": 640,
    "start_time": "2022-01-13T12:45:08.805Z"
   },
   {
    "duration": 20,
    "start_time": "2022-01-13T12:45:09.449Z"
   },
   {
    "duration": 23,
    "start_time": "2022-01-13T12:45:09.472Z"
   },
   {
    "duration": 55,
    "start_time": "2022-01-13T12:45:09.497Z"
   },
   {
    "duration": 23,
    "start_time": "2022-01-13T12:45:09.554Z"
   },
   {
    "duration": 15,
    "start_time": "2022-01-13T12:45:09.580Z"
   },
   {
    "duration": 36,
    "start_time": "2022-01-13T12:45:09.597Z"
   },
   {
    "duration": 17,
    "start_time": "2022-01-13T12:45:09.637Z"
   },
   {
    "duration": 11,
    "start_time": "2022-01-13T12:45:09.657Z"
   },
   {
    "duration": 35,
    "start_time": "2022-01-13T12:45:09.671Z"
   },
   {
    "duration": 22,
    "start_time": "2022-01-13T12:45:09.709Z"
   },
   {
    "duration": 20,
    "start_time": "2022-01-13T12:45:09.733Z"
   },
   {
    "duration": 22,
    "start_time": "2022-01-13T12:45:09.755Z"
   },
   {
    "duration": 27,
    "start_time": "2022-01-13T12:45:09.779Z"
   },
   {
    "duration": 12,
    "start_time": "2022-01-13T12:45:09.809Z"
   },
   {
    "duration": 21,
    "start_time": "2022-01-13T12:45:09.823Z"
   },
   {
    "duration": 36,
    "start_time": "2022-01-13T12:45:09.846Z"
   },
   {
    "duration": 32,
    "start_time": "2022-01-13T12:45:09.888Z"
   },
   {
    "duration": 26,
    "start_time": "2022-01-13T12:45:09.925Z"
   },
   {
    "duration": 10,
    "start_time": "2022-01-13T12:45:09.954Z"
   },
   {
    "duration": 36,
    "start_time": "2022-01-13T12:45:09.966Z"
   },
   {
    "duration": 291,
    "start_time": "2022-01-13T12:45:10.005Z"
   },
   {
    "duration": 9,
    "start_time": "2022-01-13T12:45:10.302Z"
   },
   {
    "duration": 20,
    "start_time": "2022-01-13T12:45:10.314Z"
   },
   {
    "duration": 108,
    "start_time": "2022-01-13T12:45:10.337Z"
   },
   {
    "duration": 91,
    "start_time": "2022-01-13T12:45:10.448Z"
   },
   {
    "duration": 114,
    "start_time": "2022-01-13T12:45:10.541Z"
   },
   {
    "duration": 82,
    "start_time": "2022-01-13T12:45:10.657Z"
   },
   {
    "duration": 61,
    "start_time": "2022-01-13T12:45:10.741Z"
   },
   {
    "duration": 23,
    "start_time": "2022-01-13T12:45:10.804Z"
   },
   {
    "duration": 36,
    "start_time": "2022-01-13T12:45:10.829Z"
   },
   {
    "duration": 570,
    "start_time": "2022-01-13T12:45:10.867Z"
   },
   {
    "duration": 78,
    "start_time": "2022-01-13T12:45:11.439Z"
   },
   {
    "duration": 31,
    "start_time": "2022-01-13T12:45:11.519Z"
   },
   {
    "duration": 82,
    "start_time": "2022-01-13T12:45:11.552Z"
   },
   {
    "duration": 65,
    "start_time": "2022-01-13T12:45:11.637Z"
   },
   {
    "duration": 23,
    "start_time": "2022-01-13T12:45:11.705Z"
   },
   {
    "duration": 450,
    "start_time": "2022-01-13T12:45:11.731Z"
   },
   {
    "duration": 17,
    "start_time": "2022-01-13T12:45:12.183Z"
   },
   {
    "duration": 5,
    "start_time": "2022-01-13T12:45:12.203Z"
   },
   {
    "duration": 23,
    "start_time": "2022-01-13T12:45:12.211Z"
   },
   {
    "duration": 122,
    "start_time": "2022-01-13T12:45:12.236Z"
   },
   {
    "duration": 251,
    "start_time": "2022-01-13T12:45:12.360Z"
   },
   {
    "duration": 8,
    "start_time": "2022-01-13T12:45:12.614Z"
   },
   {
    "duration": 7,
    "start_time": "2022-01-13T12:45:12.625Z"
   },
   {
    "duration": 112,
    "start_time": "2022-01-13T12:45:12.635Z"
   },
   {
    "duration": 1870,
    "start_time": "2022-01-13T12:45:12.750Z"
   },
   {
    "duration": 262,
    "start_time": "2022-01-13T12:45:14.623Z"
   },
   {
    "duration": 15,
    "start_time": "2022-01-13T12:45:14.887Z"
   },
   {
    "duration": 1913,
    "start_time": "2022-01-13T12:45:14.904Z"
   },
   {
    "duration": 189,
    "start_time": "2022-01-13T12:45:16.820Z"
   },
   {
    "duration": 28,
    "start_time": "2022-01-13T12:45:17.011Z"
   },
   {
    "duration": 26,
    "start_time": "2022-01-13T12:45:17.042Z"
   },
   {
    "duration": 539,
    "start_time": "2022-01-13T12:45:17.103Z"
   },
   {
    "duration": 426,
    "start_time": "2022-01-13T12:45:17.646Z"
   },
   {
    "duration": 518,
    "start_time": "2022-01-13T12:45:18.074Z"
   },
   {
    "duration": 612,
    "start_time": "2022-01-13T12:45:18.601Z"
   },
   {
    "duration": 515,
    "start_time": "2022-01-13T12:45:19.215Z"
   },
   {
    "duration": 244,
    "start_time": "2022-01-13T12:45:19.732Z"
   },
   {
    "duration": 225,
    "start_time": "2022-01-13T12:45:19.979Z"
   },
   {
    "duration": 475,
    "start_time": "2022-01-13T12:45:20.207Z"
   },
   {
    "duration": 4,
    "start_time": "2022-01-13T12:45:20.685Z"
   },
   {
    "duration": 621,
    "start_time": "2022-01-13T12:45:20.702Z"
   },
   {
    "duration": 278,
    "start_time": "2022-01-13T12:45:21.325Z"
   },
   {
    "duration": 357,
    "start_time": "2022-01-13T12:45:21.605Z"
   },
   {
    "duration": 508,
    "start_time": "2022-01-13T12:45:21.965Z"
   },
   {
    "duration": 5,
    "start_time": "2022-01-13T12:45:22.476Z"
   },
   {
    "duration": 517,
    "start_time": "2022-01-13T12:45:22.484Z"
   },
   {
    "duration": 244,
    "start_time": "2022-01-13T12:45:23.004Z"
   },
   {
    "duration": 260,
    "start_time": "2022-01-13T12:45:23.250Z"
   },
   {
    "duration": 493,
    "start_time": "2022-01-13T12:45:23.512Z"
   },
   {
    "duration": 7,
    "start_time": "2022-01-13T12:45:24.007Z"
   },
   {
    "duration": 604,
    "start_time": "2022-01-13T12:45:24.016Z"
   },
   {
    "duration": 380,
    "start_time": "2022-01-13T12:45:24.623Z"
   },
   {
    "duration": 263,
    "start_time": "2022-01-13T12:45:25.005Z"
   },
   {
    "duration": 498,
    "start_time": "2022-01-13T12:45:25.270Z"
   },
   {
    "duration": 6,
    "start_time": "2022-01-13T12:45:25.770Z"
   },
   {
    "duration": 505,
    "start_time": "2022-01-13T12:45:25.778Z"
   },
   {
    "duration": 235,
    "start_time": "2022-01-13T12:45:26.286Z"
   },
   {
    "duration": 328,
    "start_time": "2022-01-13T12:45:26.524Z"
   },
   {
    "duration": 474,
    "start_time": "2022-01-13T12:45:26.854Z"
   },
   {
    "duration": 6,
    "start_time": "2022-01-13T12:45:27.330Z"
   },
   {
    "duration": 611,
    "start_time": "2022-01-13T12:45:27.338Z"
   },
   {
    "duration": 260,
    "start_time": "2022-01-13T12:45:27.952Z"
   },
   {
    "duration": 255,
    "start_time": "2022-01-13T12:45:28.215Z"
   },
   {
    "duration": 506,
    "start_time": "2022-01-13T12:45:28.472Z"
   },
   {
    "duration": 4,
    "start_time": "2022-01-13T12:45:28.981Z"
   },
   {
    "duration": 39,
    "start_time": "2022-01-13T12:45:29.001Z"
   },
   {
    "duration": 139,
    "start_time": "2022-01-13T12:45:29.042Z"
   },
   {
    "duration": 4,
    "start_time": "2022-01-13T12:54:24.092Z"
   },
   {
    "duration": 625,
    "start_time": "2022-01-13T12:54:24.102Z"
   },
   {
    "duration": 12,
    "start_time": "2022-01-13T12:54:24.730Z"
   },
   {
    "duration": 7,
    "start_time": "2022-01-13T12:54:24.745Z"
   },
   {
    "duration": 31,
    "start_time": "2022-01-13T12:54:24.754Z"
   },
   {
    "duration": 23,
    "start_time": "2022-01-13T12:54:24.787Z"
   },
   {
    "duration": 6,
    "start_time": "2022-01-13T12:54:24.812Z"
   },
   {
    "duration": 26,
    "start_time": "2022-01-13T12:54:24.820Z"
   },
   {
    "duration": 50,
    "start_time": "2022-01-13T12:54:24.852Z"
   },
   {
    "duration": 7,
    "start_time": "2022-01-13T12:54:24.906Z"
   },
   {
    "duration": 24,
    "start_time": "2022-01-13T12:54:24.916Z"
   },
   {
    "duration": 14,
    "start_time": "2022-01-13T12:54:24.942Z"
   },
   {
    "duration": 43,
    "start_time": "2022-01-13T12:54:24.959Z"
   },
   {
    "duration": 12,
    "start_time": "2022-01-13T12:54:25.005Z"
   },
   {
    "duration": 20,
    "start_time": "2022-01-13T12:54:25.019Z"
   },
   {
    "duration": 9,
    "start_time": "2022-01-13T12:54:25.041Z"
   },
   {
    "duration": 48,
    "start_time": "2022-01-13T12:54:25.053Z"
   },
   {
    "duration": 28,
    "start_time": "2022-01-13T12:54:25.103Z"
   },
   {
    "duration": 22,
    "start_time": "2022-01-13T12:54:25.133Z"
   },
   {
    "duration": 48,
    "start_time": "2022-01-13T12:54:25.157Z"
   },
   {
    "duration": 8,
    "start_time": "2022-01-13T12:54:25.207Z"
   },
   {
    "duration": 9,
    "start_time": "2022-01-13T12:54:25.218Z"
   },
   {
    "duration": 325,
    "start_time": "2022-01-13T12:54:25.230Z"
   },
   {
    "duration": 10,
    "start_time": "2022-01-13T12:54:25.562Z"
   },
   {
    "duration": 8,
    "start_time": "2022-01-13T12:54:25.601Z"
   },
   {
    "duration": 100,
    "start_time": "2022-01-13T12:54:25.612Z"
   },
   {
    "duration": 88,
    "start_time": "2022-01-13T12:54:25.714Z"
   },
   {
    "duration": 123,
    "start_time": "2022-01-13T12:54:25.805Z"
   },
   {
    "duration": 81,
    "start_time": "2022-01-13T12:54:25.930Z"
   },
   {
    "duration": 55,
    "start_time": "2022-01-13T12:54:26.014Z"
   },
   {
    "duration": 39,
    "start_time": "2022-01-13T12:54:26.072Z"
   },
   {
    "duration": 25,
    "start_time": "2022-01-13T12:54:26.114Z"
   },
   {
    "duration": 600,
    "start_time": "2022-01-13T12:54:26.142Z"
   },
   {
    "duration": 81,
    "start_time": "2022-01-13T12:54:26.744Z"
   },
   {
    "duration": 31,
    "start_time": "2022-01-13T12:54:26.828Z"
   },
   {
    "duration": 78,
    "start_time": "2022-01-13T12:54:26.862Z"
   },
   {
    "duration": 71,
    "start_time": "2022-01-13T12:54:26.942Z"
   },
   {
    "duration": 24,
    "start_time": "2022-01-13T12:54:27.016Z"
   },
   {
    "duration": 459,
    "start_time": "2022-01-13T12:54:27.043Z"
   },
   {
    "duration": 7,
    "start_time": "2022-01-13T12:54:27.504Z"
   },
   {
    "duration": 8,
    "start_time": "2022-01-13T12:54:27.513Z"
   },
   {
    "duration": 22,
    "start_time": "2022-01-13T12:54:27.523Z"
   },
   {
    "duration": 131,
    "start_time": "2022-01-13T12:54:27.547Z"
   },
   {
    "duration": 136,
    "start_time": "2022-01-13T12:54:27.680Z"
   },
   {
    "duration": 10,
    "start_time": "2022-01-13T12:54:27.819Z"
   },
   {
    "duration": 9,
    "start_time": "2022-01-13T12:54:27.831Z"
   },
   {
    "duration": 111,
    "start_time": "2022-01-13T12:54:27.843Z"
   },
   {
    "duration": 1972,
    "start_time": "2022-01-13T12:54:27.957Z"
   },
   {
    "duration": 380,
    "start_time": "2022-01-13T12:54:29.931Z"
   },
   {
    "duration": 11,
    "start_time": "2022-01-13T12:54:30.315Z"
   },
   {
    "duration": 1984,
    "start_time": "2022-01-13T12:54:30.328Z"
   },
   {
    "duration": 158,
    "start_time": "2022-01-13T12:54:32.315Z"
   },
   {
    "duration": 40,
    "start_time": "2022-01-13T12:54:32.476Z"
   },
   {
    "duration": 27,
    "start_time": "2022-01-13T12:54:32.519Z"
   },
   {
    "duration": 614,
    "start_time": "2022-01-13T12:54:32.548Z"
   },
   {
    "duration": 431,
    "start_time": "2022-01-13T12:54:33.164Z"
   },
   {
    "duration": 498,
    "start_time": "2022-01-13T12:54:33.602Z"
   },
   {
    "duration": 519,
    "start_time": "2022-01-13T12:54:34.102Z"
   },
   {
    "duration": 615,
    "start_time": "2022-01-13T12:54:34.623Z"
   },
   {
    "duration": 250,
    "start_time": "2022-01-13T12:54:35.241Z"
   },
   {
    "duration": 233,
    "start_time": "2022-01-13T12:54:35.493Z"
   },
   {
    "duration": 508,
    "start_time": "2022-01-13T12:54:35.728Z"
   },
   {
    "duration": 5,
    "start_time": "2022-01-13T12:54:36.239Z"
   },
   {
    "duration": 531,
    "start_time": "2022-01-13T12:54:36.247Z"
   },
   {
    "duration": 269,
    "start_time": "2022-01-13T12:54:36.780Z"
   },
   {
    "duration": 242,
    "start_time": "2022-01-13T12:54:37.052Z"
   },
   {
    "duration": 559,
    "start_time": "2022-01-13T12:54:37.300Z"
   },
   {
    "duration": 5,
    "start_time": "2022-01-13T12:54:37.861Z"
   },
   {
    "duration": 524,
    "start_time": "2022-01-13T12:54:37.876Z"
   },
   {
    "duration": 251,
    "start_time": "2022-01-13T12:54:38.403Z"
   },
   {
    "duration": 434,
    "start_time": "2022-01-13T12:54:38.657Z"
   },
   {
    "duration": 501,
    "start_time": "2022-01-13T12:54:39.093Z"
   },
   {
    "duration": 7,
    "start_time": "2022-01-13T12:54:39.596Z"
   },
   {
    "duration": 600,
    "start_time": "2022-01-13T12:54:39.606Z"
   },
   {
    "duration": 254,
    "start_time": "2022-01-13T12:54:40.209Z"
   },
   {
    "duration": 248,
    "start_time": "2022-01-13T12:54:40.466Z"
   },
   {
    "duration": 495,
    "start_time": "2022-01-13T12:54:40.716Z"
   },
   {
    "duration": 5,
    "start_time": "2022-01-13T12:54:41.213Z"
   },
   {
    "duration": 509,
    "start_time": "2022-01-13T12:54:41.221Z"
   },
   {
    "duration": 267,
    "start_time": "2022-01-13T12:54:41.733Z"
   },
   {
    "duration": 237,
    "start_time": "2022-01-13T12:54:42.002Z"
   },
   {
    "duration": 661,
    "start_time": "2022-01-13T12:54:42.241Z"
   },
   {
    "duration": 6,
    "start_time": "2022-01-13T12:54:42.905Z"
   },
   {
    "duration": 505,
    "start_time": "2022-01-13T12:54:42.913Z"
   },
   {
    "duration": 339,
    "start_time": "2022-01-13T12:54:43.420Z"
   },
   {
    "duration": 381,
    "start_time": "2022-01-13T12:54:43.762Z"
   },
   {
    "duration": 925,
    "start_time": "2022-01-13T12:54:44.146Z"
   },
   {
    "duration": 6,
    "start_time": "2022-01-13T12:54:45.075Z"
   },
   {
    "duration": 62,
    "start_time": "2022-01-13T12:54:45.084Z"
   },
   {
    "duration": 146,
    "start_time": "2022-01-13T12:54:45.148Z"
   },
   {
    "duration": 1393,
    "start_time": "2022-01-15T07:43:48.978Z"
   },
   {
    "duration": 4,
    "start_time": "2022-01-15T07:43:51.280Z"
   },
   {
    "duration": 627,
    "start_time": "2022-01-15T07:43:51.287Z"
   },
   {
    "duration": 17,
    "start_time": "2022-01-15T07:43:51.916Z"
   },
   {
    "duration": 5,
    "start_time": "2022-01-15T07:43:51.936Z"
   },
   {
    "duration": 30,
    "start_time": "2022-01-15T07:43:51.943Z"
   },
   {
    "duration": 16,
    "start_time": "2022-01-15T07:43:51.976Z"
   },
   {
    "duration": 6,
    "start_time": "2022-01-15T07:43:51.996Z"
   },
   {
    "duration": 24,
    "start_time": "2022-01-15T07:43:52.004Z"
   },
   {
    "duration": 48,
    "start_time": "2022-01-15T07:43:52.030Z"
   },
   {
    "duration": 6,
    "start_time": "2022-01-15T07:43:52.080Z"
   },
   {
    "duration": 22,
    "start_time": "2022-01-15T07:43:52.089Z"
   },
   {
    "duration": 52,
    "start_time": "2022-01-15T07:43:52.114Z"
   },
   {
    "duration": 7,
    "start_time": "2022-01-15T07:43:52.169Z"
   },
   {
    "duration": 18,
    "start_time": "2022-01-15T07:43:52.179Z"
   },
   {
    "duration": 20,
    "start_time": "2022-01-15T07:43:52.200Z"
   },
   {
    "duration": 6,
    "start_time": "2022-01-15T07:43:52.223Z"
   },
   {
    "duration": 43,
    "start_time": "2022-01-15T07:43:52.231Z"
   },
   {
    "duration": 32,
    "start_time": "2022-01-15T07:43:52.276Z"
   },
   {
    "duration": 23,
    "start_time": "2022-01-15T07:43:52.313Z"
   },
   {
    "duration": 45,
    "start_time": "2022-01-15T07:43:52.341Z"
   },
   {
    "duration": 9,
    "start_time": "2022-01-15T07:43:52.389Z"
   },
   {
    "duration": 14,
    "start_time": "2022-01-15T07:43:52.400Z"
   },
   {
    "duration": 360,
    "start_time": "2022-01-15T07:43:52.416Z"
   },
   {
    "duration": 9,
    "start_time": "2022-01-15T07:43:52.779Z"
   },
   {
    "duration": 16,
    "start_time": "2022-01-15T07:43:52.790Z"
   },
   {
    "duration": 108,
    "start_time": "2022-01-15T07:43:52.809Z"
   },
   {
    "duration": 86,
    "start_time": "2022-01-15T07:43:52.920Z"
   },
   {
    "duration": 126,
    "start_time": "2022-01-15T07:43:53.009Z"
   },
   {
    "duration": 86,
    "start_time": "2022-01-15T07:43:53.137Z"
   },
   {
    "duration": 62,
    "start_time": "2022-01-15T07:43:53.226Z"
   },
   {
    "duration": 21,
    "start_time": "2022-01-15T07:43:53.291Z"
   },
   {
    "duration": 55,
    "start_time": "2022-01-15T07:43:53.314Z"
   },
   {
    "duration": 578,
    "start_time": "2022-01-15T07:43:53.371Z"
   },
   {
    "duration": 72,
    "start_time": "2022-01-15T07:43:53.951Z"
   },
   {
    "duration": 48,
    "start_time": "2022-01-15T07:43:54.025Z"
   },
   {
    "duration": 54,
    "start_time": "2022-01-15T07:43:54.076Z"
   },
   {
    "duration": 69,
    "start_time": "2022-01-15T07:43:54.132Z"
   },
   {
    "duration": 23,
    "start_time": "2022-01-15T07:43:54.203Z"
   },
   {
    "duration": 449,
    "start_time": "2022-01-15T07:43:54.228Z"
   },
   {
    "duration": 6,
    "start_time": "2022-01-15T07:43:54.679Z"
   },
   {
    "duration": 9,
    "start_time": "2022-01-15T07:43:54.688Z"
   },
   {
    "duration": 22,
    "start_time": "2022-01-15T07:43:54.700Z"
   },
   {
    "duration": 136,
    "start_time": "2022-01-15T07:43:54.726Z"
   },
   {
    "duration": 140,
    "start_time": "2022-01-15T07:43:54.868Z"
   },
   {
    "duration": 9,
    "start_time": "2022-01-15T07:43:55.010Z"
   },
   {
    "duration": 7,
    "start_time": "2022-01-15T07:43:55.022Z"
   },
   {
    "duration": 109,
    "start_time": "2022-01-15T07:43:55.032Z"
   },
   {
    "duration": 1860,
    "start_time": "2022-01-15T07:43:55.144Z"
   },
   {
    "duration": 266,
    "start_time": "2022-01-15T07:43:57.006Z"
   },
   {
    "duration": 11,
    "start_time": "2022-01-15T07:43:57.274Z"
   },
   {
    "duration": 1980,
    "start_time": "2022-01-15T07:43:57.287Z"
   },
   {
    "duration": 158,
    "start_time": "2022-01-15T07:43:59.269Z"
   },
   {
    "duration": 39,
    "start_time": "2022-01-15T07:43:59.429Z"
   },
   {
    "duration": 26,
    "start_time": "2022-01-15T07:43:59.471Z"
   },
   {
    "duration": 501,
    "start_time": "2022-01-15T07:43:59.505Z"
   },
   {
    "duration": 462,
    "start_time": "2022-01-15T07:44:00.010Z"
   },
   {
    "duration": 510,
    "start_time": "2022-01-15T07:44:00.474Z"
   },
   {
    "duration": 511,
    "start_time": "2022-01-15T07:44:00.986Z"
   },
   {
    "duration": 562,
    "start_time": "2022-01-15T07:44:01.500Z"
   },
   {
    "duration": 257,
    "start_time": "2022-01-15T07:44:02.067Z"
   },
   {
    "duration": 232,
    "start_time": "2022-01-15T07:44:02.326Z"
   },
   {
    "duration": 475,
    "start_time": "2022-01-15T07:44:02.560Z"
   },
   {
    "duration": 5,
    "start_time": "2022-01-15T07:44:03.037Z"
   },
   {
    "duration": 525,
    "start_time": "2022-01-15T07:44:03.044Z"
   },
   {
    "duration": 252,
    "start_time": "2022-01-15T07:44:03.571Z"
   },
   {
    "duration": 238,
    "start_time": "2022-01-15T07:44:03.826Z"
   },
   {
    "duration": 514,
    "start_time": "2022-01-15T07:44:04.067Z"
   },
   {
    "duration": 4,
    "start_time": "2022-01-15T07:44:04.584Z"
   },
   {
    "duration": 607,
    "start_time": "2022-01-15T07:44:04.591Z"
   },
   {
    "duration": 253,
    "start_time": "2022-01-15T07:44:05.200Z"
   },
   {
    "duration": 248,
    "start_time": "2022-01-15T07:44:05.456Z"
   },
   {
    "duration": 518,
    "start_time": "2022-01-15T07:44:05.708Z"
   },
   {
    "duration": 6,
    "start_time": "2022-01-15T07:44:06.228Z"
   },
   {
    "duration": 508,
    "start_time": "2022-01-15T07:44:06.236Z"
   },
   {
    "duration": 257,
    "start_time": "2022-01-15T07:44:06.746Z"
   },
   {
    "duration": 248,
    "start_time": "2022-01-15T07:44:07.006Z"
   },
   {
    "duration": 586,
    "start_time": "2022-01-15T07:44:07.256Z"
   },
   {
    "duration": 5,
    "start_time": "2022-01-15T07:44:07.844Z"
   },
   {
    "duration": 501,
    "start_time": "2022-01-15T07:44:07.868Z"
   },
   {
    "duration": 233,
    "start_time": "2022-01-15T07:44:08.371Z"
   },
   {
    "duration": 332,
    "start_time": "2022-01-15T07:44:08.606Z"
   },
   {
    "duration": 483,
    "start_time": "2022-01-15T07:44:08.941Z"
   },
   {
    "duration": 5,
    "start_time": "2022-01-15T07:44:09.427Z"
   },
   {
    "duration": 469,
    "start_time": "2022-01-15T07:44:09.435Z"
   },
   {
    "duration": 229,
    "start_time": "2022-01-15T07:44:09.907Z"
   },
   {
    "duration": 254,
    "start_time": "2022-01-15T07:44:10.138Z"
   },
   {
    "duration": 582,
    "start_time": "2022-01-15T07:44:10.395Z"
   },
   {
    "duration": 6,
    "start_time": "2022-01-15T07:44:10.980Z"
   },
   {
    "duration": 39,
    "start_time": "2022-01-15T07:44:10.989Z"
   },
   {
    "duration": 157,
    "start_time": "2022-01-15T07:44:11.032Z"
   },
   {
    "duration": 382,
    "start_time": "2022-01-15T07:44:11.192Z"
   },
   {
    "duration": 20,
    "start_time": "2022-01-15T07:44:32.290Z"
   },
   {
    "duration": 28,
    "start_time": "2022-01-15T07:44:44.507Z"
   },
   {
    "duration": 6981,
    "start_time": "2022-01-15T07:47:34.526Z"
   },
   {
    "duration": 23,
    "start_time": "2022-01-15T07:48:50.603Z"
   },
   {
    "duration": 8,
    "start_time": "2022-01-15T07:49:14.729Z"
   },
   {
    "duration": 3465,
    "start_time": "2022-01-15T07:49:45.993Z"
   },
   {
    "duration": 11,
    "start_time": "2022-01-15T07:49:54.978Z"
   },
   {
    "duration": 8,
    "start_time": "2022-01-15T07:50:02.138Z"
   },
   {
    "duration": 8,
    "start_time": "2022-01-15T07:55:11.336Z"
   },
   {
    "duration": 8,
    "start_time": "2022-01-15T07:55:26.391Z"
   },
   {
    "duration": 8,
    "start_time": "2022-01-15T07:55:28.528Z"
   },
   {
    "duration": 7,
    "start_time": "2022-01-15T07:55:30.840Z"
   },
   {
    "duration": 7,
    "start_time": "2022-01-15T08:01:33.213Z"
   },
   {
    "duration": 6,
    "start_time": "2022-01-15T08:02:00.590Z"
   },
   {
    "duration": 6,
    "start_time": "2022-01-15T08:02:03.341Z"
   },
   {
    "duration": 6,
    "start_time": "2022-01-15T08:03:12.663Z"
   },
   {
    "duration": 6,
    "start_time": "2022-01-15T08:03:38.208Z"
   },
   {
    "duration": 21,
    "start_time": "2022-01-15T08:05:30.723Z"
   },
   {
    "duration": 304,
    "start_time": "2022-01-15T08:08:44.023Z"
   },
   {
    "duration": 9,
    "start_time": "2022-01-15T08:09:07.047Z"
   },
   {
    "duration": 13,
    "start_time": "2022-01-15T08:09:24.904Z"
   },
   {
    "duration": 10,
    "start_time": "2022-01-15T08:09:38.816Z"
   },
   {
    "duration": 96,
    "start_time": "2022-01-15T08:10:08.473Z"
   },
   {
    "duration": 11,
    "start_time": "2022-01-15T08:10:17.369Z"
   },
   {
    "duration": 6,
    "start_time": "2022-01-15T08:11:35.194Z"
   },
   {
    "duration": 141,
    "start_time": "2022-01-15T08:12:46.156Z"
   },
   {
    "duration": 13,
    "start_time": "2022-01-15T08:13:32.596Z"
   },
   {
    "duration": 5,
    "start_time": "2022-01-15T08:29:17.918Z"
   },
   {
    "duration": 768,
    "start_time": "2022-01-15T08:29:17.927Z"
   },
   {
    "duration": 17,
    "start_time": "2022-01-15T08:29:18.699Z"
   },
   {
    "duration": 7,
    "start_time": "2022-01-15T08:29:18.718Z"
   },
   {
    "duration": 29,
    "start_time": "2022-01-15T08:29:18.728Z"
   },
   {
    "duration": 22,
    "start_time": "2022-01-15T08:29:18.760Z"
   },
   {
    "duration": 5,
    "start_time": "2022-01-15T08:29:18.785Z"
   },
   {
    "duration": 26,
    "start_time": "2022-01-15T08:29:18.792Z"
   },
   {
    "duration": 55,
    "start_time": "2022-01-15T08:29:18.821Z"
   },
   {
    "duration": 5,
    "start_time": "2022-01-15T08:29:18.880Z"
   },
   {
    "duration": 20,
    "start_time": "2022-01-15T08:29:18.888Z"
   },
   {
    "duration": 12,
    "start_time": "2022-01-15T08:29:18.911Z"
   },
   {
    "duration": 42,
    "start_time": "2022-01-15T08:29:18.925Z"
   },
   {
    "duration": 8,
    "start_time": "2022-01-15T08:29:18.970Z"
   },
   {
    "duration": 23,
    "start_time": "2022-01-15T08:29:18.980Z"
   },
   {
    "duration": 6,
    "start_time": "2022-01-15T08:29:19.005Z"
   },
   {
    "duration": 14,
    "start_time": "2022-01-15T08:29:19.013Z"
   },
   {
    "duration": 60,
    "start_time": "2022-01-15T08:29:19.029Z"
   },
   {
    "duration": 22,
    "start_time": "2022-01-15T08:29:19.091Z"
   },
   {
    "duration": 18,
    "start_time": "2022-01-15T08:29:19.116Z"
   },
   {
    "duration": 8,
    "start_time": "2022-01-15T08:29:19.168Z"
   },
   {
    "duration": 12,
    "start_time": "2022-01-15T08:29:19.179Z"
   },
   {
    "duration": 288,
    "start_time": "2022-01-15T08:29:19.194Z"
   },
   {
    "duration": 9,
    "start_time": "2022-01-15T08:29:19.485Z"
   },
   {
    "duration": 12,
    "start_time": "2022-01-15T08:29:19.496Z"
   },
   {
    "duration": 124,
    "start_time": "2022-01-15T08:29:19.510Z"
   },
   {
    "duration": 89,
    "start_time": "2022-01-15T08:29:19.643Z"
   },
   {
    "duration": 119,
    "start_time": "2022-01-15T08:29:19.738Z"
   },
   {
    "duration": 80,
    "start_time": "2022-01-15T08:29:19.859Z"
   },
   {
    "duration": 73,
    "start_time": "2022-01-15T08:29:19.943Z"
   },
   {
    "duration": 21,
    "start_time": "2022-01-15T08:29:20.018Z"
   },
   {
    "duration": 45,
    "start_time": "2022-01-15T08:29:20.041Z"
   },
   {
    "duration": 652,
    "start_time": "2022-01-15T08:29:20.088Z"
   },
   {
    "duration": 79,
    "start_time": "2022-01-15T08:29:20.742Z"
   },
   {
    "duration": 45,
    "start_time": "2022-01-15T08:29:20.823Z"
   },
   {
    "duration": 58,
    "start_time": "2022-01-15T08:29:20.871Z"
   },
   {
    "duration": 72,
    "start_time": "2022-01-15T08:29:20.931Z"
   },
   {
    "duration": 23,
    "start_time": "2022-01-15T08:29:21.005Z"
   },
   {
    "duration": 460,
    "start_time": "2022-01-15T08:29:21.031Z"
   },
   {
    "duration": 6,
    "start_time": "2022-01-15T08:29:21.493Z"
   },
   {
    "duration": 7,
    "start_time": "2022-01-15T08:29:21.502Z"
   },
   {
    "duration": 23,
    "start_time": "2022-01-15T08:29:21.512Z"
   },
   {
    "duration": 136,
    "start_time": "2022-01-15T08:29:21.538Z"
   },
   {
    "duration": 141,
    "start_time": "2022-01-15T08:29:21.676Z"
   },
   {
    "duration": 10,
    "start_time": "2022-01-15T08:29:21.820Z"
   },
   {
    "duration": 9,
    "start_time": "2022-01-15T08:29:21.832Z"
   },
   {
    "duration": 104,
    "start_time": "2022-01-15T08:29:21.843Z"
   },
   {
    "duration": 1911,
    "start_time": "2022-01-15T08:29:21.967Z"
   },
   {
    "duration": 356,
    "start_time": "2022-01-15T08:29:23.881Z"
   },
   {
    "duration": 12,
    "start_time": "2022-01-15T08:29:24.240Z"
   },
   {
    "duration": 1961,
    "start_time": "2022-01-15T08:29:24.266Z"
   },
   {
    "duration": 159,
    "start_time": "2022-01-15T08:29:26.230Z"
   },
   {
    "duration": 26,
    "start_time": "2022-01-15T08:29:26.392Z"
   },
   {
    "duration": 47,
    "start_time": "2022-01-15T08:29:26.420Z"
   },
   {
    "duration": 509,
    "start_time": "2022-01-15T08:29:26.469Z"
   },
   {
    "duration": 420,
    "start_time": "2022-01-15T08:29:26.980Z"
   },
   {
    "duration": 506,
    "start_time": "2022-01-15T08:29:27.403Z"
   },
   {
    "duration": 529,
    "start_time": "2022-01-15T08:29:27.911Z"
   },
   {
    "duration": 485,
    "start_time": "2022-01-15T08:29:28.442Z"
   },
   {
    "duration": 349,
    "start_time": "2022-01-15T08:29:28.929Z"
   },
   {
    "duration": 227,
    "start_time": "2022-01-15T08:29:29.281Z"
   },
   {
    "duration": 505,
    "start_time": "2022-01-15T08:29:29.511Z"
   },
   {
    "duration": 5,
    "start_time": "2022-01-15T08:29:30.019Z"
   },
   {
    "duration": 515,
    "start_time": "2022-01-15T08:29:30.026Z"
   },
   {
    "duration": 258,
    "start_time": "2022-01-15T08:29:30.543Z"
   },
   {
    "duration": 258,
    "start_time": "2022-01-15T08:29:30.804Z"
   },
   {
    "duration": 515,
    "start_time": "2022-01-15T08:29:31.064Z"
   },
   {
    "duration": 6,
    "start_time": "2022-01-15T08:29:31.581Z"
   },
   {
    "duration": 629,
    "start_time": "2022-01-15T08:29:31.590Z"
   },
   {
    "duration": 288,
    "start_time": "2022-01-15T08:29:32.221Z"
   },
   {
    "duration": 246,
    "start_time": "2022-01-15T08:29:32.512Z"
   },
   {
    "duration": 479,
    "start_time": "2022-01-15T08:29:32.767Z"
   },
   {
    "duration": 17,
    "start_time": "2022-01-15T08:29:33.249Z"
   },
   {
    "duration": 502,
    "start_time": "2022-01-15T08:29:33.270Z"
   },
   {
    "duration": 258,
    "start_time": "2022-01-15T08:29:33.775Z"
   },
   {
    "duration": 245,
    "start_time": "2022-01-15T08:29:34.037Z"
   },
   {
    "duration": 500,
    "start_time": "2022-01-15T08:29:34.285Z"
   },
   {
    "duration": 6,
    "start_time": "2022-01-15T08:29:34.788Z"
   },
   {
    "duration": 725,
    "start_time": "2022-01-15T08:29:34.797Z"
   },
   {
    "duration": 245,
    "start_time": "2022-01-15T08:29:35.525Z"
   },
   {
    "duration": 244,
    "start_time": "2022-01-15T08:29:35.778Z"
   },
   {
    "duration": 505,
    "start_time": "2022-01-15T08:29:36.026Z"
   },
   {
    "duration": 5,
    "start_time": "2022-01-15T08:29:36.533Z"
   },
   {
    "duration": 497,
    "start_time": "2022-01-15T08:29:36.541Z"
   },
   {
    "duration": 283,
    "start_time": "2022-01-15T08:29:37.040Z"
   },
   {
    "duration": 252,
    "start_time": "2022-01-15T08:29:37.326Z"
   },
   {
    "duration": 491,
    "start_time": "2022-01-15T08:29:37.581Z"
   },
   {
    "duration": 4,
    "start_time": "2022-01-15T08:29:38.074Z"
   },
   {
    "duration": 42,
    "start_time": "2022-01-15T08:29:38.080Z"
   },
   {
    "duration": 143,
    "start_time": "2022-01-15T08:29:38.124Z"
   },
   {
    "duration": 12,
    "start_time": "2022-01-15T08:29:38.270Z"
   },
   {
    "duration": 19,
    "start_time": "2022-01-15T08:29:38.284Z"
   },
   {
    "duration": 20,
    "start_time": "2022-01-15T08:29:38.305Z"
   },
   {
    "duration": 18,
    "start_time": "2022-01-15T08:29:38.328Z"
   },
   {
    "duration": 4,
    "start_time": "2022-01-15T08:36:23.451Z"
   },
   {
    "duration": 592,
    "start_time": "2022-01-15T08:36:23.457Z"
   },
   {
    "duration": 11,
    "start_time": "2022-01-15T08:36:24.052Z"
   },
   {
    "duration": 8,
    "start_time": "2022-01-15T08:36:24.066Z"
   },
   {
    "duration": 28,
    "start_time": "2022-01-15T08:36:24.076Z"
   },
   {
    "duration": 17,
    "start_time": "2022-01-15T08:36:24.107Z"
   },
   {
    "duration": 42,
    "start_time": "2022-01-15T08:36:24.126Z"
   },
   {
    "duration": 22,
    "start_time": "2022-01-15T08:36:24.171Z"
   },
   {
    "duration": 14,
    "start_time": "2022-01-15T08:36:24.197Z"
   },
   {
    "duration": 5,
    "start_time": "2022-01-15T08:36:24.214Z"
   },
   {
    "duration": 56,
    "start_time": "2022-01-15T08:36:24.222Z"
   },
   {
    "duration": 11,
    "start_time": "2022-01-15T08:36:24.280Z"
   },
   {
    "duration": 10,
    "start_time": "2022-01-15T08:36:24.294Z"
   },
   {
    "duration": 13,
    "start_time": "2022-01-15T08:36:24.306Z"
   },
   {
    "duration": 54,
    "start_time": "2022-01-15T08:36:24.322Z"
   },
   {
    "duration": 5,
    "start_time": "2022-01-15T08:36:24.379Z"
   },
   {
    "duration": 11,
    "start_time": "2022-01-15T08:36:24.387Z"
   },
   {
    "duration": 36,
    "start_time": "2022-01-15T08:36:24.400Z"
   },
   {
    "duration": 48,
    "start_time": "2022-01-15T08:36:24.439Z"
   },
   {
    "duration": 20,
    "start_time": "2022-01-15T08:36:24.489Z"
   },
   {
    "duration": 7,
    "start_time": "2022-01-15T08:36:24.512Z"
   },
   {
    "duration": 8,
    "start_time": "2022-01-15T08:36:24.522Z"
   },
   {
    "duration": 292,
    "start_time": "2022-01-15T08:36:24.569Z"
   },
   {
    "duration": 10,
    "start_time": "2022-01-15T08:36:24.867Z"
   },
   {
    "duration": 15,
    "start_time": "2022-01-15T08:36:24.880Z"
   },
   {
    "duration": 110,
    "start_time": "2022-01-15T08:36:24.898Z"
   },
   {
    "duration": 94,
    "start_time": "2022-01-15T08:36:25.016Z"
   },
   {
    "duration": 133,
    "start_time": "2022-01-15T08:36:25.114Z"
   },
   {
    "duration": 80,
    "start_time": "2022-01-15T08:36:25.250Z"
   },
   {
    "duration": 74,
    "start_time": "2022-01-15T08:36:25.332Z"
   },
   {
    "duration": 21,
    "start_time": "2022-01-15T08:36:25.409Z"
   },
   {
    "duration": 45,
    "start_time": "2022-01-15T08:36:25.433Z"
   },
   {
    "duration": 721,
    "start_time": "2022-01-15T08:36:25.481Z"
   },
   {
    "duration": 83,
    "start_time": "2022-01-15T08:36:26.205Z"
   },
   {
    "duration": 33,
    "start_time": "2022-01-15T08:36:26.291Z"
   },
   {
    "duration": 86,
    "start_time": "2022-01-15T08:36:26.327Z"
   },
   {
    "duration": 72,
    "start_time": "2022-01-15T08:36:26.416Z"
   },
   {
    "duration": 25,
    "start_time": "2022-01-15T08:36:26.491Z"
   },
   {
    "duration": 452,
    "start_time": "2022-01-15T08:36:26.518Z"
   },
   {
    "duration": 6,
    "start_time": "2022-01-15T08:36:26.972Z"
   },
   {
    "duration": 11,
    "start_time": "2022-01-15T08:36:26.980Z"
   },
   {
    "duration": 24,
    "start_time": "2022-01-15T08:36:26.993Z"
   },
   {
    "duration": 124,
    "start_time": "2022-01-15T08:36:27.020Z"
   },
   {
    "duration": 136,
    "start_time": "2022-01-15T08:36:27.147Z"
   },
   {
    "duration": 9,
    "start_time": "2022-01-15T08:36:27.285Z"
   },
   {
    "duration": 8,
    "start_time": "2022-01-15T08:36:27.296Z"
   },
   {
    "duration": 111,
    "start_time": "2022-01-15T08:36:27.306Z"
   },
   {
    "duration": 1817,
    "start_time": "2022-01-15T08:36:27.419Z"
   },
   {
    "duration": 263,
    "start_time": "2022-01-15T08:36:29.238Z"
   },
   {
    "duration": 10,
    "start_time": "2022-01-15T08:36:29.504Z"
   },
   {
    "duration": 1937,
    "start_time": "2022-01-15T08:36:29.516Z"
   },
   {
    "duration": 165,
    "start_time": "2022-01-15T08:36:31.456Z"
   },
   {
    "duration": 29,
    "start_time": "2022-01-15T08:36:31.624Z"
   },
   {
    "duration": 34,
    "start_time": "2022-01-15T08:36:31.656Z"
   },
   {
    "duration": 515,
    "start_time": "2022-01-15T08:36:31.692Z"
   },
   {
    "duration": 532,
    "start_time": "2022-01-15T08:36:32.209Z"
   },
   {
    "duration": 513,
    "start_time": "2022-01-15T08:36:32.743Z"
   },
   {
    "duration": 513,
    "start_time": "2022-01-15T08:36:33.258Z"
   },
   {
    "duration": 494,
    "start_time": "2022-01-15T08:36:33.773Z"
   },
   {
    "duration": 238,
    "start_time": "2022-01-15T08:36:34.269Z"
   },
   {
    "duration": 234,
    "start_time": "2022-01-15T08:36:34.509Z"
   },
   {
    "duration": 497,
    "start_time": "2022-01-15T08:36:34.745Z"
   },
   {
    "duration": 5,
    "start_time": "2022-01-15T08:36:35.244Z"
   },
   {
    "duration": 649,
    "start_time": "2022-01-15T08:36:35.268Z"
   },
   {
    "duration": 267,
    "start_time": "2022-01-15T08:36:35.920Z"
   },
   {
    "duration": 344,
    "start_time": "2022-01-15T08:36:36.190Z"
   },
   {
    "duration": 630,
    "start_time": "2022-01-15T08:36:36.536Z"
   },
   {
    "duration": 6,
    "start_time": "2022-01-15T08:36:37.169Z"
   },
   {
    "duration": 593,
    "start_time": "2022-01-15T08:36:37.177Z"
   },
   {
    "duration": 234,
    "start_time": "2022-01-15T08:36:37.772Z"
   },
   {
    "duration": 240,
    "start_time": "2022-01-15T08:36:38.008Z"
   },
   {
    "duration": 495,
    "start_time": "2022-01-15T08:36:38.250Z"
   },
   {
    "duration": 6,
    "start_time": "2022-01-15T08:36:38.748Z"
   },
   {
    "duration": 629,
    "start_time": "2022-01-15T08:36:38.768Z"
   },
   {
    "duration": 260,
    "start_time": "2022-01-15T08:36:39.400Z"
   },
   {
    "duration": 244,
    "start_time": "2022-01-15T08:36:39.667Z"
   },
   {
    "duration": 507,
    "start_time": "2022-01-15T08:36:39.913Z"
   },
   {
    "duration": 5,
    "start_time": "2022-01-15T08:36:40.423Z"
   },
   {
    "duration": 496,
    "start_time": "2022-01-15T08:36:40.430Z"
   },
   {
    "duration": 236,
    "start_time": "2022-01-15T08:36:40.928Z"
   },
   {
    "duration": 231,
    "start_time": "2022-01-15T08:36:41.173Z"
   },
   {
    "duration": 479,
    "start_time": "2022-01-15T08:36:41.407Z"
   },
   {
    "duration": 6,
    "start_time": "2022-01-15T08:36:41.888Z"
   },
   {
    "duration": 488,
    "start_time": "2022-01-15T08:36:41.896Z"
   },
   {
    "duration": 372,
    "start_time": "2022-01-15T08:36:42.387Z"
   },
   {
    "duration": 248,
    "start_time": "2022-01-15T08:36:42.761Z"
   },
   {
    "duration": 506,
    "start_time": "2022-01-15T08:36:43.011Z"
   },
   {
    "duration": 5,
    "start_time": "2022-01-15T08:36:43.520Z"
   },
   {
    "duration": 70,
    "start_time": "2022-01-15T08:36:43.529Z"
   },
   {
    "duration": 128,
    "start_time": "2022-01-15T08:36:43.602Z"
   },
   {
    "duration": 14,
    "start_time": "2022-01-15T08:36:43.733Z"
   },
   {
    "duration": 23,
    "start_time": "2022-01-15T08:36:43.749Z"
   },
   {
    "duration": 16,
    "start_time": "2022-01-15T08:36:43.775Z"
   },
   {
    "duration": 8,
    "start_time": "2022-01-15T08:36:43.795Z"
   },
   {
    "duration": 1081,
    "start_time": "2022-01-17T14:38:24.779Z"
   },
   {
    "duration": 401,
    "start_time": "2022-01-17T14:38:25.862Z"
   },
   {
    "duration": 12,
    "start_time": "2022-01-17T14:38:26.265Z"
   },
   {
    "duration": 6,
    "start_time": "2022-01-17T14:38:26.278Z"
   },
   {
    "duration": 22,
    "start_time": "2022-01-17T14:38:26.285Z"
   },
   {
    "duration": 12,
    "start_time": "2022-01-17T14:38:26.309Z"
   },
   {
    "duration": 5,
    "start_time": "2022-01-17T14:38:26.322Z"
   },
   {
    "duration": 17,
    "start_time": "2022-01-17T14:38:26.329Z"
   },
   {
    "duration": 11,
    "start_time": "2022-01-17T14:38:26.348Z"
   },
   {
    "duration": 33,
    "start_time": "2022-01-17T14:38:26.361Z"
   },
   {
    "duration": 16,
    "start_time": "2022-01-17T14:38:26.396Z"
   },
   {
    "duration": 8,
    "start_time": "2022-01-17T14:38:26.414Z"
   },
   {
    "duration": 4,
    "start_time": "2022-01-17T14:38:26.424Z"
   },
   {
    "duration": 7,
    "start_time": "2022-01-17T14:38:26.430Z"
   },
   {
    "duration": 15,
    "start_time": "2022-01-17T14:38:26.439Z"
   },
   {
    "duration": 5,
    "start_time": "2022-01-17T14:38:26.492Z"
   },
   {
    "duration": 8,
    "start_time": "2022-01-17T14:38:26.499Z"
   },
   {
    "duration": 31,
    "start_time": "2022-01-17T14:38:26.509Z"
   },
   {
    "duration": 17,
    "start_time": "2022-01-17T14:38:26.542Z"
   },
   {
    "duration": 40,
    "start_time": "2022-01-17T14:38:26.560Z"
   },
   {
    "duration": 6,
    "start_time": "2022-01-17T14:38:26.602Z"
   },
   {
    "duration": 6,
    "start_time": "2022-01-17T14:38:26.610Z"
   },
   {
    "duration": 232,
    "start_time": "2022-01-17T14:38:26.620Z"
   },
   {
    "duration": 6,
    "start_time": "2022-01-17T14:38:26.855Z"
   },
   {
    "duration": 10,
    "start_time": "2022-01-17T14:38:26.862Z"
   },
   {
    "duration": 77,
    "start_time": "2022-01-17T14:38:26.873Z"
   },
   {
    "duration": 64,
    "start_time": "2022-01-17T14:38:26.951Z"
   },
   {
    "duration": 88,
    "start_time": "2022-01-17T14:38:27.017Z"
   },
   {
    "duration": 51,
    "start_time": "2022-01-17T14:38:27.107Z"
   },
   {
    "duration": 54,
    "start_time": "2022-01-17T14:38:27.159Z"
   },
   {
    "duration": 15,
    "start_time": "2022-01-17T14:38:27.214Z"
   },
   {
    "duration": 16,
    "start_time": "2022-01-17T14:38:27.230Z"
   },
   {
    "duration": 376,
    "start_time": "2022-01-17T14:38:27.248Z"
   },
   {
    "duration": 44,
    "start_time": "2022-01-17T14:38:27.625Z"
   },
   {
    "duration": 40,
    "start_time": "2022-01-17T14:38:27.671Z"
   },
   {
    "duration": 40,
    "start_time": "2022-01-17T14:38:27.713Z"
   },
   {
    "duration": 62,
    "start_time": "2022-01-17T14:38:27.755Z"
   },
   {
    "duration": 17,
    "start_time": "2022-01-17T14:38:27.819Z"
   },
   {
    "duration": 289,
    "start_time": "2022-01-17T14:38:27.837Z"
   },
   {
    "duration": 5,
    "start_time": "2022-01-17T14:38:28.128Z"
   },
   {
    "duration": 13,
    "start_time": "2022-01-17T14:38:28.135Z"
   },
   {
    "duration": 16,
    "start_time": "2022-01-17T14:38:28.150Z"
   },
   {
    "duration": 79,
    "start_time": "2022-01-17T14:38:28.168Z"
   },
   {
    "duration": 86,
    "start_time": "2022-01-17T14:38:28.248Z"
   },
   {
    "duration": 7,
    "start_time": "2022-01-17T14:38:28.336Z"
   },
   {
    "duration": 6,
    "start_time": "2022-01-17T14:38:28.344Z"
   },
   {
    "duration": 70,
    "start_time": "2022-01-17T14:38:28.352Z"
   },
   {
    "duration": 1255,
    "start_time": "2022-01-17T14:38:28.424Z"
   },
   {
    "duration": 164,
    "start_time": "2022-01-17T14:38:29.681Z"
   },
   {
    "duration": 6,
    "start_time": "2022-01-17T14:38:29.847Z"
   },
   {
    "duration": 945,
    "start_time": "2022-01-17T14:38:29.855Z"
   },
   {
    "duration": 96,
    "start_time": "2022-01-17T14:38:30.802Z"
   },
   {
    "duration": 19,
    "start_time": "2022-01-17T14:38:30.900Z"
   },
   {
    "duration": 16,
    "start_time": "2022-01-17T14:38:30.921Z"
   },
   {
    "duration": 355,
    "start_time": "2022-01-17T14:38:30.939Z"
   },
   {
    "duration": 287,
    "start_time": "2022-01-17T14:38:31.295Z"
   },
   {
    "duration": 325,
    "start_time": "2022-01-17T14:38:31.591Z"
   },
   {
    "duration": 321,
    "start_time": "2022-01-17T14:38:31.918Z"
   },
   {
    "duration": 384,
    "start_time": "2022-01-17T14:38:32.241Z"
   },
   {
    "duration": 161,
    "start_time": "2022-01-17T14:38:32.627Z"
   },
   {
    "duration": 140,
    "start_time": "2022-01-17T14:38:32.791Z"
   },
   {
    "duration": 302,
    "start_time": "2022-01-17T14:38:32.932Z"
   },
   {
    "duration": 3,
    "start_time": "2022-01-17T14:38:33.235Z"
   },
   {
    "duration": 332,
    "start_time": "2022-01-17T14:38:33.240Z"
   },
   {
    "duration": 167,
    "start_time": "2022-01-17T14:38:33.573Z"
   },
   {
    "duration": 165,
    "start_time": "2022-01-17T14:38:33.741Z"
   },
   {
    "duration": 332,
    "start_time": "2022-01-17T14:38:33.907Z"
   },
   {
    "duration": 4,
    "start_time": "2022-01-17T14:38:34.244Z"
   },
   {
    "duration": 410,
    "start_time": "2022-01-17T14:38:34.250Z"
   },
   {
    "duration": 154,
    "start_time": "2022-01-17T14:38:34.661Z"
   },
   {
    "duration": 154,
    "start_time": "2022-01-17T14:38:34.817Z"
   },
   {
    "duration": 319,
    "start_time": "2022-01-17T14:38:34.972Z"
   },
   {
    "duration": 5,
    "start_time": "2022-01-17T14:38:35.293Z"
   },
   {
    "duration": 326,
    "start_time": "2022-01-17T14:38:35.299Z"
   },
   {
    "duration": 168,
    "start_time": "2022-01-17T14:38:35.627Z"
   },
   {
    "duration": 158,
    "start_time": "2022-01-17T14:38:35.796Z"
   },
   {
    "duration": 398,
    "start_time": "2022-01-17T14:38:35.956Z"
   },
   {
    "duration": 3,
    "start_time": "2022-01-17T14:38:36.356Z"
   },
   {
    "duration": 353,
    "start_time": "2022-01-17T14:38:36.361Z"
   },
   {
    "duration": 176,
    "start_time": "2022-01-17T14:38:36.716Z"
   },
   {
    "duration": 146,
    "start_time": "2022-01-17T14:38:36.894Z"
   },
   {
    "duration": 316,
    "start_time": "2022-01-17T14:38:37.041Z"
   },
   {
    "duration": 4,
    "start_time": "2022-01-17T14:38:37.359Z"
   },
   {
    "duration": 301,
    "start_time": "2022-01-17T14:38:37.365Z"
   },
   {
    "duration": 144,
    "start_time": "2022-01-17T14:38:37.668Z"
   },
   {
    "duration": 156,
    "start_time": "2022-01-17T14:38:37.814Z"
   },
   {
    "duration": 420,
    "start_time": "2022-01-17T14:38:37.972Z"
   },
   {
    "duration": 4,
    "start_time": "2022-01-17T14:38:38.394Z"
   },
   {
    "duration": 25,
    "start_time": "2022-01-17T14:38:38.400Z"
   },
   {
    "duration": 86,
    "start_time": "2022-01-17T14:38:38.427Z"
   },
   {
    "duration": 10,
    "start_time": "2022-01-17T14:38:38.514Z"
   },
   {
    "duration": 7,
    "start_time": "2022-01-17T14:38:38.525Z"
   },
   {
    "duration": 9,
    "start_time": "2022-01-17T14:38:38.533Z"
   },
   {
    "duration": 5,
    "start_time": "2022-01-17T14:38:38.543Z"
   },
   {
    "duration": 268,
    "start_time": "2022-01-17T14:54:48.977Z"
   },
   {
    "duration": 1096,
    "start_time": "2022-01-18T05:47:13.683Z"
   },
   {
    "duration": 409,
    "start_time": "2022-01-18T05:47:14.781Z"
   },
   {
    "duration": 11,
    "start_time": "2022-01-18T05:47:15.192Z"
   },
   {
    "duration": 6,
    "start_time": "2022-01-18T05:47:15.205Z"
   },
   {
    "duration": 23,
    "start_time": "2022-01-18T05:47:15.212Z"
   },
   {
    "duration": 12,
    "start_time": "2022-01-18T05:47:15.237Z"
   },
   {
    "duration": 5,
    "start_time": "2022-01-18T05:47:15.250Z"
   },
   {
    "duration": 43,
    "start_time": "2022-01-18T05:47:15.257Z"
   },
   {
    "duration": 9,
    "start_time": "2022-01-18T05:47:15.302Z"
   },
   {
    "duration": 8,
    "start_time": "2022-01-18T05:47:15.313Z"
   },
   {
    "duration": 26,
    "start_time": "2022-01-18T05:47:15.322Z"
   },
   {
    "duration": 17,
    "start_time": "2022-01-18T05:47:15.350Z"
   },
   {
    "duration": 7,
    "start_time": "2022-01-18T05:47:15.369Z"
   },
   {
    "duration": 15,
    "start_time": "2022-01-18T05:47:15.377Z"
   },
   {
    "duration": 11,
    "start_time": "2022-01-18T05:47:15.393Z"
   },
   {
    "duration": 5,
    "start_time": "2022-01-18T05:47:15.406Z"
   },
   {
    "duration": 15,
    "start_time": "2022-01-18T05:47:15.413Z"
   },
   {
    "duration": 23,
    "start_time": "2022-01-18T05:47:15.429Z"
   },
   {
    "duration": 38,
    "start_time": "2022-01-18T05:47:15.454Z"
   },
   {
    "duration": 14,
    "start_time": "2022-01-18T05:47:15.495Z"
   },
   {
    "duration": 9,
    "start_time": "2022-01-18T05:47:15.511Z"
   },
   {
    "duration": 18,
    "start_time": "2022-01-18T05:47:15.522Z"
   },
   {
    "duration": 219,
    "start_time": "2022-01-18T05:47:15.544Z"
   },
   {
    "duration": 7,
    "start_time": "2022-01-18T05:47:15.765Z"
   },
   {
    "duration": 19,
    "start_time": "2022-01-18T05:47:15.773Z"
   },
   {
    "duration": 64,
    "start_time": "2022-01-18T05:47:15.794Z"
   },
   {
    "duration": 71,
    "start_time": "2022-01-18T05:47:15.860Z"
   },
   {
    "duration": 88,
    "start_time": "2022-01-18T05:47:15.932Z"
   },
   {
    "duration": 53,
    "start_time": "2022-01-18T05:47:16.022Z"
   },
   {
    "duration": 45,
    "start_time": "2022-01-18T05:47:16.077Z"
   },
   {
    "duration": 15,
    "start_time": "2022-01-18T05:47:16.124Z"
   },
   {
    "duration": 16,
    "start_time": "2022-01-18T05:47:16.140Z"
   },
   {
    "duration": 390,
    "start_time": "2022-01-18T05:47:16.158Z"
   },
   {
    "duration": 50,
    "start_time": "2022-01-18T05:47:16.550Z"
   },
   {
    "duration": 21,
    "start_time": "2022-01-18T05:47:16.602Z"
   },
   {
    "duration": 40,
    "start_time": "2022-01-18T05:47:16.625Z"
   },
   {
    "duration": 53,
    "start_time": "2022-01-18T05:47:16.667Z"
   },
   {
    "duration": 15,
    "start_time": "2022-01-18T05:47:16.722Z"
   },
   {
    "duration": 286,
    "start_time": "2022-01-18T05:47:16.739Z"
   },
   {
    "duration": 4,
    "start_time": "2022-01-18T05:47:17.027Z"
   },
   {
    "duration": 6,
    "start_time": "2022-01-18T05:47:17.032Z"
   },
   {
    "duration": 14,
    "start_time": "2022-01-18T05:47:17.039Z"
   },
   {
    "duration": 83,
    "start_time": "2022-01-18T05:47:17.055Z"
   },
   {
    "duration": 87,
    "start_time": "2022-01-18T05:47:17.139Z"
   },
   {
    "duration": 7,
    "start_time": "2022-01-18T05:47:17.227Z"
   },
   {
    "duration": 6,
    "start_time": "2022-01-18T05:47:17.235Z"
   },
   {
    "duration": 68,
    "start_time": "2022-01-18T05:47:17.242Z"
   },
   {
    "duration": 1244,
    "start_time": "2022-01-18T05:47:17.312Z"
   },
   {
    "duration": 161,
    "start_time": "2022-01-18T05:47:18.558Z"
   },
   {
    "duration": 7,
    "start_time": "2022-01-18T05:47:18.720Z"
   },
   {
    "duration": 948,
    "start_time": "2022-01-18T05:47:18.729Z"
   },
   {
    "duration": 94,
    "start_time": "2022-01-18T05:47:19.678Z"
   },
   {
    "duration": 28,
    "start_time": "2022-01-18T05:47:19.773Z"
   },
   {
    "duration": 16,
    "start_time": "2022-01-18T05:47:19.803Z"
   },
   {
    "duration": 334,
    "start_time": "2022-01-18T05:47:19.821Z"
   },
   {
    "duration": 434,
    "start_time": "2022-01-18T05:47:20.157Z"
   },
   {
    "duration": 539,
    "start_time": "2022-01-18T05:47:20.593Z"
   },
   {
    "duration": 447,
    "start_time": "2022-01-18T05:47:21.134Z"
   },
   {
    "duration": 411,
    "start_time": "2022-01-18T05:47:21.583Z"
   },
   {
    "duration": 151,
    "start_time": "2022-01-18T05:47:21.996Z"
   },
   {
    "duration": 149,
    "start_time": "2022-01-18T05:47:22.148Z"
   },
   {
    "duration": 300,
    "start_time": "2022-01-18T05:47:22.298Z"
   },
   {
    "duration": 4,
    "start_time": "2022-01-18T05:47:22.599Z"
   },
   {
    "duration": 328,
    "start_time": "2022-01-18T05:47:22.604Z"
   },
   {
    "duration": 169,
    "start_time": "2022-01-18T05:47:22.933Z"
   },
   {
    "duration": 163,
    "start_time": "2022-01-18T05:47:23.104Z"
   },
   {
    "duration": 330,
    "start_time": "2022-01-18T05:47:23.269Z"
   },
   {
    "duration": 3,
    "start_time": "2022-01-18T05:47:23.605Z"
   },
   {
    "duration": 417,
    "start_time": "2022-01-18T05:47:23.611Z"
   },
   {
    "duration": 155,
    "start_time": "2022-01-18T05:47:24.030Z"
   },
   {
    "duration": 154,
    "start_time": "2022-01-18T05:47:24.190Z"
   },
   {
    "duration": 415,
    "start_time": "2022-01-18T05:47:24.346Z"
   },
   {
    "duration": 4,
    "start_time": "2022-01-18T05:47:24.763Z"
   },
   {
    "duration": 326,
    "start_time": "2022-01-18T05:47:24.769Z"
   },
   {
    "duration": 164,
    "start_time": "2022-01-18T05:47:25.096Z"
   },
   {
    "duration": 162,
    "start_time": "2022-01-18T05:47:25.262Z"
   },
   {
    "duration": 408,
    "start_time": "2022-01-18T05:47:25.426Z"
   },
   {
    "duration": 3,
    "start_time": "2022-01-18T05:47:25.836Z"
   },
   {
    "duration": 334,
    "start_time": "2022-01-18T05:47:25.841Z"
   },
   {
    "duration": 151,
    "start_time": "2022-01-18T05:47:26.177Z"
   },
   {
    "duration": 162,
    "start_time": "2022-01-18T05:47:26.329Z"
   },
   {
    "duration": 311,
    "start_time": "2022-01-18T05:47:26.493Z"
   },
   {
    "duration": 4,
    "start_time": "2022-01-18T05:47:26.805Z"
   },
   {
    "duration": 298,
    "start_time": "2022-01-18T05:47:26.811Z"
   },
   {
    "duration": 152,
    "start_time": "2022-01-18T05:47:27.111Z"
   },
   {
    "duration": 158,
    "start_time": "2022-01-18T05:47:27.265Z"
   },
   {
    "duration": 424,
    "start_time": "2022-01-18T05:47:27.425Z"
   },
   {
    "duration": 3,
    "start_time": "2022-01-18T05:47:27.851Z"
   },
   {
    "duration": 36,
    "start_time": "2022-01-18T05:47:27.856Z"
   },
   {
    "duration": 69,
    "start_time": "2022-01-18T05:47:27.894Z"
   },
   {
    "duration": 26,
    "start_time": "2022-01-18T05:47:27.965Z"
   },
   {
    "duration": 5,
    "start_time": "2022-01-18T05:47:27.993Z"
   },
   {
    "duration": 30,
    "start_time": "2022-01-18T05:47:27.999Z"
   },
   {
    "duration": 21,
    "start_time": "2022-01-18T05:47:28.031Z"
   },
   {
    "duration": 5,
    "start_time": "2022-01-18T05:48:12.986Z"
   },
   {
    "duration": 9,
    "start_time": "2022-01-18T05:48:23.682Z"
   },
   {
    "duration": 11,
    "start_time": "2022-01-18T05:48:37.963Z"
   },
   {
    "duration": 3,
    "start_time": "2022-01-18T05:48:53.798Z"
   },
   {
    "duration": 431,
    "start_time": "2022-01-18T05:48:53.805Z"
   },
   {
    "duration": 9,
    "start_time": "2022-01-18T05:48:54.237Z"
   },
   {
    "duration": 5,
    "start_time": "2022-01-18T05:48:54.248Z"
   },
   {
    "duration": 22,
    "start_time": "2022-01-18T05:48:54.255Z"
   },
   {
    "duration": 15,
    "start_time": "2022-01-18T05:48:54.278Z"
   },
   {
    "duration": 3,
    "start_time": "2022-01-18T05:48:54.295Z"
   },
   {
    "duration": 18,
    "start_time": "2022-01-18T05:48:54.300Z"
   },
   {
    "duration": 9,
    "start_time": "2022-01-18T05:48:54.320Z"
   },
   {
    "duration": 3,
    "start_time": "2022-01-18T05:48:54.331Z"
   },
   {
    "duration": 23,
    "start_time": "2022-01-18T05:48:54.336Z"
   },
   {
    "duration": 32,
    "start_time": "2022-01-18T05:48:54.361Z"
   },
   {
    "duration": 5,
    "start_time": "2022-01-18T05:48:54.395Z"
   },
   {
    "duration": 11,
    "start_time": "2022-01-18T05:48:54.401Z"
   },
   {
    "duration": 12,
    "start_time": "2022-01-18T05:48:54.414Z"
   },
   {
    "duration": 4,
    "start_time": "2022-01-18T05:48:54.428Z"
   },
   {
    "duration": 8,
    "start_time": "2022-01-18T05:48:54.434Z"
   },
   {
    "duration": 21,
    "start_time": "2022-01-18T05:48:54.443Z"
   },
   {
    "duration": 40,
    "start_time": "2022-01-18T05:48:54.466Z"
   },
   {
    "duration": 14,
    "start_time": "2022-01-18T05:48:54.507Z"
   },
   {
    "duration": 5,
    "start_time": "2022-01-18T05:48:54.522Z"
   },
   {
    "duration": 5,
    "start_time": "2022-01-18T05:48:54.528Z"
   },
   {
    "duration": 192,
    "start_time": "2022-01-18T05:48:54.535Z"
   },
   {
    "duration": 6,
    "start_time": "2022-01-18T05:48:54.730Z"
   },
   {
    "duration": 12,
    "start_time": "2022-01-18T05:48:54.738Z"
   },
   {
    "duration": 15,
    "start_time": "2022-01-18T05:48:54.751Z"
   },
   {
    "duration": 78,
    "start_time": "2022-01-18T05:48:54.767Z"
   },
   {
    "duration": 61,
    "start_time": "2022-01-18T05:48:54.846Z"
   },
   {
    "duration": 83,
    "start_time": "2022-01-18T05:48:54.909Z"
   },
   {
    "duration": 55,
    "start_time": "2022-01-18T05:48:54.994Z"
   },
   {
    "duration": 52,
    "start_time": "2022-01-18T05:48:55.050Z"
   },
   {
    "duration": 15,
    "start_time": "2022-01-18T05:48:55.103Z"
   },
   {
    "duration": 16,
    "start_time": "2022-01-18T05:48:55.119Z"
   },
   {
    "duration": 378,
    "start_time": "2022-01-18T05:48:55.136Z"
   },
   {
    "duration": 43,
    "start_time": "2022-01-18T05:48:55.516Z"
   },
   {
    "duration": 37,
    "start_time": "2022-01-18T05:48:55.560Z"
   },
   {
    "duration": 40,
    "start_time": "2022-01-18T05:48:55.599Z"
   },
   {
    "duration": 50,
    "start_time": "2022-01-18T05:48:55.640Z"
   },
   {
    "duration": 16,
    "start_time": "2022-01-18T05:48:55.692Z"
   },
   {
    "duration": 270,
    "start_time": "2022-01-18T05:48:55.710Z"
   },
   {
    "duration": 12,
    "start_time": "2022-01-18T05:48:55.982Z"
   },
   {
    "duration": 5,
    "start_time": "2022-01-18T05:48:55.996Z"
   },
   {
    "duration": 13,
    "start_time": "2022-01-18T05:48:56.003Z"
   },
   {
    "duration": 79,
    "start_time": "2022-01-18T05:48:56.018Z"
   },
   {
    "duration": 76,
    "start_time": "2022-01-18T05:48:56.099Z"
   },
   {
    "duration": 18,
    "start_time": "2022-01-18T05:48:56.177Z"
   },
   {
    "duration": 5,
    "start_time": "2022-01-18T05:48:56.197Z"
   },
   {
    "duration": 46,
    "start_time": "2022-01-18T05:48:56.204Z"
   },
   {
    "duration": 1214,
    "start_time": "2022-01-18T05:48:56.252Z"
   },
   {
    "duration": 248,
    "start_time": "2022-01-18T05:48:57.468Z"
   },
   {
    "duration": 7,
    "start_time": "2022-01-18T05:48:57.717Z"
   },
   {
    "duration": 948,
    "start_time": "2022-01-18T05:48:57.726Z"
   },
   {
    "duration": 135,
    "start_time": "2022-01-18T05:48:58.676Z"
   },
   {
    "duration": 18,
    "start_time": "2022-01-18T05:48:58.813Z"
   },
   {
    "duration": 71,
    "start_time": "2022-01-18T05:48:58.833Z"
   },
   {
    "duration": 487,
    "start_time": "2022-01-18T05:48:58.905Z"
   },
   {
    "duration": 281,
    "start_time": "2022-01-18T05:48:59.394Z"
   },
   {
    "duration": 322,
    "start_time": "2022-01-18T05:48:59.676Z"
   },
   {
    "duration": 329,
    "start_time": "2022-01-18T05:49:00.000Z"
   },
   {
    "duration": 309,
    "start_time": "2022-01-18T05:49:00.331Z"
   },
   {
    "duration": 249,
    "start_time": "2022-01-18T05:49:00.642Z"
   },
   {
    "duration": 144,
    "start_time": "2022-01-18T05:49:00.893Z"
   },
   {
    "duration": 322,
    "start_time": "2022-01-18T05:49:01.038Z"
   },
   {
    "duration": 3,
    "start_time": "2022-01-18T05:49:01.362Z"
   },
   {
    "duration": 340,
    "start_time": "2022-01-18T05:49:01.367Z"
   },
   {
    "duration": 170,
    "start_time": "2022-01-18T05:49:01.709Z"
   },
   {
    "duration": 152,
    "start_time": "2022-01-18T05:49:01.881Z"
   },
   {
    "duration": 322,
    "start_time": "2022-01-18T05:49:02.034Z"
   },
   {
    "duration": 4,
    "start_time": "2022-01-18T05:49:02.360Z"
   },
   {
    "duration": 429,
    "start_time": "2022-01-18T05:49:02.366Z"
   },
   {
    "duration": 160,
    "start_time": "2022-01-18T05:49:02.797Z"
   },
   {
    "duration": 166,
    "start_time": "2022-01-18T05:49:02.959Z"
   },
   {
    "duration": 319,
    "start_time": "2022-01-18T05:49:03.126Z"
   },
   {
    "duration": 5,
    "start_time": "2022-01-18T05:49:03.446Z"
   },
   {
    "duration": 314,
    "start_time": "2022-01-18T05:49:03.453Z"
   },
   {
    "duration": 155,
    "start_time": "2022-01-18T05:49:03.769Z"
   },
   {
    "duration": 150,
    "start_time": "2022-01-18T05:49:03.926Z"
   },
   {
    "duration": 308,
    "start_time": "2022-01-18T05:49:04.077Z"
   },
   {
    "duration": 4,
    "start_time": "2022-01-18T05:49:04.390Z"
   },
   {
    "duration": 422,
    "start_time": "2022-01-18T05:49:04.396Z"
   },
   {
    "duration": 150,
    "start_time": "2022-01-18T05:49:04.820Z"
   },
   {
    "duration": 153,
    "start_time": "2022-01-18T05:49:04.971Z"
   },
   {
    "duration": 301,
    "start_time": "2022-01-18T05:49:05.126Z"
   },
   {
    "duration": 3,
    "start_time": "2022-01-18T05:49:05.429Z"
   },
   {
    "duration": 307,
    "start_time": "2022-01-18T05:49:05.434Z"
   },
   {
    "duration": 152,
    "start_time": "2022-01-18T05:49:05.742Z"
   },
   {
    "duration": 159,
    "start_time": "2022-01-18T05:49:05.895Z"
   },
   {
    "duration": 306,
    "start_time": "2022-01-18T05:49:06.056Z"
   },
   {
    "duration": 3,
    "start_time": "2022-01-18T05:49:06.364Z"
   },
   {
    "duration": 38,
    "start_time": "2022-01-18T05:49:06.369Z"
   },
   {
    "duration": 67,
    "start_time": "2022-01-18T05:49:06.409Z"
   },
   {
    "duration": 22,
    "start_time": "2022-01-18T05:49:06.478Z"
   },
   {
    "duration": 5,
    "start_time": "2022-01-18T05:49:06.502Z"
   },
   {
    "duration": 10,
    "start_time": "2022-01-18T05:49:06.508Z"
   },
   {
    "duration": 6,
    "start_time": "2022-01-18T05:49:06.520Z"
   },
   {
    "duration": 15,
    "start_time": "2022-01-18T05:49:15.740Z"
   },
   {
    "duration": 260,
    "start_time": "2022-01-18T05:52:28.664Z"
   },
   {
    "duration": 15,
    "start_time": "2022-01-18T05:53:47.610Z"
   },
   {
    "duration": 61,
    "start_time": "2022-01-18T05:57:03.414Z"
   },
   {
    "duration": 16,
    "start_time": "2022-01-18T05:57:06.381Z"
   },
   {
    "duration": 3,
    "start_time": "2022-01-18T05:57:32.283Z"
   },
   {
    "duration": 451,
    "start_time": "2022-01-18T05:57:32.290Z"
   },
   {
    "duration": 9,
    "start_time": "2022-01-18T05:57:32.743Z"
   },
   {
    "duration": 6,
    "start_time": "2022-01-18T05:57:32.755Z"
   },
   {
    "duration": 22,
    "start_time": "2022-01-18T05:57:32.763Z"
   },
   {
    "duration": 13,
    "start_time": "2022-01-18T05:57:32.787Z"
   },
   {
    "duration": 5,
    "start_time": "2022-01-18T05:57:32.802Z"
   },
   {
    "duration": 21,
    "start_time": "2022-01-18T05:57:32.808Z"
   },
   {
    "duration": 10,
    "start_time": "2022-01-18T05:57:32.833Z"
   },
   {
    "duration": 7,
    "start_time": "2022-01-18T05:57:32.845Z"
   },
   {
    "duration": 45,
    "start_time": "2022-01-18T05:57:32.854Z"
   },
   {
    "duration": 7,
    "start_time": "2022-01-18T05:57:32.901Z"
   },
   {
    "duration": 5,
    "start_time": "2022-01-18T05:57:32.910Z"
   },
   {
    "duration": 13,
    "start_time": "2022-01-18T05:57:32.916Z"
   },
   {
    "duration": 15,
    "start_time": "2022-01-18T05:57:32.930Z"
   },
   {
    "duration": 5,
    "start_time": "2022-01-18T05:57:32.946Z"
   },
   {
    "duration": 8,
    "start_time": "2022-01-18T05:57:32.952Z"
   },
   {
    "duration": 44,
    "start_time": "2022-01-18T05:57:32.962Z"
   },
   {
    "duration": 15,
    "start_time": "2022-01-18T05:57:33.007Z"
   },
   {
    "duration": 13,
    "start_time": "2022-01-18T05:57:33.024Z"
   },
   {
    "duration": 6,
    "start_time": "2022-01-18T05:57:33.038Z"
   },
   {
    "duration": 8,
    "start_time": "2022-01-18T05:57:33.045Z"
   },
   {
    "duration": 205,
    "start_time": "2022-01-18T05:57:33.055Z"
   },
   {
    "duration": 6,
    "start_time": "2022-01-18T05:57:33.264Z"
   },
   {
    "duration": 26,
    "start_time": "2022-01-18T05:57:33.273Z"
   },
   {
    "duration": 14,
    "start_time": "2022-01-18T05:57:33.301Z"
   },
   {
    "duration": 58,
    "start_time": "2022-01-18T05:57:33.316Z"
   },
   {
    "duration": 52,
    "start_time": "2022-01-18T05:57:33.391Z"
   },
   {
    "duration": 86,
    "start_time": "2022-01-18T05:57:33.444Z"
   },
   {
    "duration": 49,
    "start_time": "2022-01-18T05:57:33.531Z"
   },
   {
    "duration": 40,
    "start_time": "2022-01-18T05:57:33.581Z"
   },
   {
    "duration": 14,
    "start_time": "2022-01-18T05:57:33.623Z"
   },
   {
    "duration": 15,
    "start_time": "2022-01-18T05:57:33.638Z"
   },
   {
    "duration": 503,
    "start_time": "2022-01-18T05:57:33.655Z"
   },
   {
    "duration": 49,
    "start_time": "2022-01-18T05:57:34.160Z"
   },
   {
    "duration": 20,
    "start_time": "2022-01-18T05:57:34.210Z"
   },
   {
    "duration": 43,
    "start_time": "2022-01-18T05:57:34.231Z"
   },
   {
    "duration": 46,
    "start_time": "2022-01-18T05:57:34.276Z"
   },
   {
    "duration": 13,
    "start_time": "2022-01-18T05:57:34.323Z"
   },
   {
    "duration": 289,
    "start_time": "2022-01-18T05:57:34.338Z"
   },
   {
    "duration": 4,
    "start_time": "2022-01-18T05:57:34.629Z"
   },
   {
    "duration": 25,
    "start_time": "2022-01-18T05:57:34.634Z"
   },
   {
    "duration": 30,
    "start_time": "2022-01-18T05:57:34.660Z"
   },
   {
    "duration": 77,
    "start_time": "2022-01-18T05:57:34.691Z"
   },
   {
    "duration": 76,
    "start_time": "2022-01-18T05:57:34.770Z"
   },
   {
    "duration": 6,
    "start_time": "2022-01-18T05:57:34.847Z"
   },
   {
    "duration": 26,
    "start_time": "2022-01-18T05:57:34.855Z"
   },
   {
    "duration": 53,
    "start_time": "2022-01-18T05:57:34.883Z"
   },
   {
    "duration": 1153,
    "start_time": "2022-01-18T05:57:34.938Z"
   },
   {
    "duration": 155,
    "start_time": "2022-01-18T05:57:36.093Z"
   },
   {
    "duration": 6,
    "start_time": "2022-01-18T05:57:36.250Z"
   },
   {
    "duration": 956,
    "start_time": "2022-01-18T05:57:36.258Z"
   },
   {
    "duration": 91,
    "start_time": "2022-01-18T05:57:37.215Z"
   },
   {
    "duration": 16,
    "start_time": "2022-01-18T05:57:37.308Z"
   },
   {
    "duration": 30,
    "start_time": "2022-01-18T05:57:37.325Z"
   },
   {
    "duration": 306,
    "start_time": "2022-01-18T05:57:37.356Z"
   },
   {
    "duration": 369,
    "start_time": "2022-01-18T05:57:37.664Z"
   },
   {
    "duration": 321,
    "start_time": "2022-01-18T05:57:38.034Z"
   },
   {
    "duration": 304,
    "start_time": "2022-01-18T05:57:38.357Z"
   },
   {
    "duration": 283,
    "start_time": "2022-01-18T05:57:38.662Z"
   },
   {
    "duration": 160,
    "start_time": "2022-01-18T05:57:38.947Z"
   },
   {
    "duration": 142,
    "start_time": "2022-01-18T05:57:39.108Z"
   },
   {
    "duration": 297,
    "start_time": "2022-01-18T05:57:39.252Z"
   },
   {
    "duration": 4,
    "start_time": "2022-01-18T05:57:39.550Z"
   },
   {
    "duration": 422,
    "start_time": "2022-01-18T05:57:39.555Z"
   },
   {
    "duration": 176,
    "start_time": "2022-01-18T05:57:39.978Z"
   },
   {
    "duration": 149,
    "start_time": "2022-01-18T05:57:40.155Z"
   },
   {
    "duration": 313,
    "start_time": "2022-01-18T05:57:40.305Z"
   },
   {
    "duration": 4,
    "start_time": "2022-01-18T05:57:40.624Z"
   },
   {
    "duration": 324,
    "start_time": "2022-01-18T05:57:40.629Z"
   },
   {
    "duration": 156,
    "start_time": "2022-01-18T05:57:40.954Z"
   },
   {
    "duration": 144,
    "start_time": "2022-01-18T05:57:41.111Z"
   },
   {
    "duration": 303,
    "start_time": "2022-01-18T05:57:41.257Z"
   },
   {
    "duration": 5,
    "start_time": "2022-01-18T05:57:41.561Z"
   },
   {
    "duration": 428,
    "start_time": "2022-01-18T05:57:41.567Z"
   },
   {
    "duration": 151,
    "start_time": "2022-01-18T05:57:41.997Z"
   },
   {
    "duration": 145,
    "start_time": "2022-01-18T05:57:42.149Z"
   },
   {
    "duration": 303,
    "start_time": "2022-01-18T05:57:42.295Z"
   },
   {
    "duration": 4,
    "start_time": "2022-01-18T05:57:42.599Z"
   },
   {
    "duration": 300,
    "start_time": "2022-01-18T05:57:42.604Z"
   },
   {
    "duration": 145,
    "start_time": "2022-01-18T05:57:42.905Z"
   },
   {
    "duration": 161,
    "start_time": "2022-01-18T05:57:43.051Z"
   },
   {
    "duration": 294,
    "start_time": "2022-01-18T05:57:43.214Z"
   },
   {
    "duration": 4,
    "start_time": "2022-01-18T05:57:43.509Z"
   },
   {
    "duration": 419,
    "start_time": "2022-01-18T05:57:43.514Z"
   },
   {
    "duration": 141,
    "start_time": "2022-01-18T05:57:43.934Z"
   },
   {
    "duration": 150,
    "start_time": "2022-01-18T05:57:44.077Z"
   },
   {
    "duration": 311,
    "start_time": "2022-01-18T05:57:44.228Z"
   },
   {
    "duration": 3,
    "start_time": "2022-01-18T05:57:44.540Z"
   },
   {
    "duration": 29,
    "start_time": "2022-01-18T05:57:44.545Z"
   },
   {
    "duration": 78,
    "start_time": "2022-01-18T05:57:44.575Z"
   },
   {
    "duration": 9,
    "start_time": "2022-01-18T05:57:44.654Z"
   },
   {
    "duration": 31,
    "start_time": "2022-01-18T05:57:44.665Z"
   },
   {
    "duration": 11,
    "start_time": "2022-01-18T05:57:44.698Z"
   },
   {
    "duration": 5,
    "start_time": "2022-01-18T05:57:44.711Z"
   },
   {
    "duration": 7,
    "start_time": "2022-01-18T05:58:33.480Z"
   },
   {
    "duration": 62,
    "start_time": "2022-01-18T06:04:39.311Z"
   },
   {
    "duration": 3,
    "start_time": "2022-01-18T06:06:43.722Z"
   },
   {
    "duration": 435,
    "start_time": "2022-01-18T06:06:43.729Z"
   },
   {
    "duration": 9,
    "start_time": "2022-01-18T06:06:44.166Z"
   },
   {
    "duration": 6,
    "start_time": "2022-01-18T06:06:44.177Z"
   },
   {
    "duration": 22,
    "start_time": "2022-01-18T06:06:44.185Z"
   },
   {
    "duration": 11,
    "start_time": "2022-01-18T06:06:44.209Z"
   },
   {
    "duration": 7,
    "start_time": "2022-01-18T06:06:44.222Z"
   },
   {
    "duration": 18,
    "start_time": "2022-01-18T06:06:44.231Z"
   },
   {
    "duration": 9,
    "start_time": "2022-01-18T06:06:44.251Z"
   },
   {
    "duration": 29,
    "start_time": "2022-01-18T06:06:44.262Z"
   },
   {
    "duration": 14,
    "start_time": "2022-01-18T06:06:44.293Z"
   },
   {
    "duration": 8,
    "start_time": "2022-01-18T06:06:44.309Z"
   },
   {
    "duration": 10,
    "start_time": "2022-01-18T06:06:44.319Z"
   },
   {
    "duration": 7,
    "start_time": "2022-01-18T06:06:44.331Z"
   },
   {
    "duration": 12,
    "start_time": "2022-01-18T06:06:44.340Z"
   },
   {
    "duration": 5,
    "start_time": "2022-01-18T06:06:44.354Z"
   },
   {
    "duration": 37,
    "start_time": "2022-01-18T06:06:44.360Z"
   },
   {
    "duration": 26,
    "start_time": "2022-01-18T06:06:44.398Z"
   },
   {
    "duration": 16,
    "start_time": "2022-01-18T06:06:44.425Z"
   },
   {
    "duration": 13,
    "start_time": "2022-01-18T06:06:44.443Z"
   },
   {
    "duration": 8,
    "start_time": "2022-01-18T06:06:44.458Z"
   },
   {
    "duration": 26,
    "start_time": "2022-01-18T06:06:44.468Z"
   },
   {
    "duration": 174,
    "start_time": "2022-01-18T06:06:44.495Z"
   },
   {
    "duration": 18,
    "start_time": "2022-01-18T06:06:44.673Z"
   },
   {
    "duration": 5,
    "start_time": "2022-01-18T06:06:44.694Z"
   },
   {
    "duration": 61,
    "start_time": "2022-01-18T06:06:44.700Z"
   },
   {
    "duration": 69,
    "start_time": "2022-01-18T06:06:44.762Z"
   },
   {
    "duration": 75,
    "start_time": "2022-01-18T06:06:44.832Z"
   },
   {
    "duration": 52,
    "start_time": "2022-01-18T06:06:44.908Z"
   },
   {
    "duration": 51,
    "start_time": "2022-01-18T06:06:44.962Z"
   },
   {
    "duration": 16,
    "start_time": "2022-01-18T06:06:45.015Z"
   },
   {
    "duration": 16,
    "start_time": "2022-01-18T06:06:45.033Z"
   },
   {
    "duration": 391,
    "start_time": "2022-01-18T06:06:45.050Z"
   },
   {
    "duration": 52,
    "start_time": "2022-01-18T06:06:45.443Z"
   },
   {
    "duration": 23,
    "start_time": "2022-01-18T06:06:45.496Z"
   },
   {
    "duration": 39,
    "start_time": "2022-01-18T06:06:45.520Z"
   },
   {
    "duration": 56,
    "start_time": "2022-01-18T06:06:45.561Z"
   },
   {
    "duration": 15,
    "start_time": "2022-01-18T06:06:45.618Z"
   },
   {
    "duration": 291,
    "start_time": "2022-01-18T06:06:45.635Z"
   },
   {
    "duration": 4,
    "start_time": "2022-01-18T06:06:45.927Z"
   },
   {
    "duration": 7,
    "start_time": "2022-01-18T06:06:45.933Z"
   },
   {
    "duration": 15,
    "start_time": "2022-01-18T06:06:45.941Z"
   },
   {
    "duration": 85,
    "start_time": "2022-01-18T06:06:45.957Z"
   },
   {
    "duration": 90,
    "start_time": "2022-01-18T06:06:46.043Z"
   },
   {
    "duration": 6,
    "start_time": "2022-01-18T06:06:46.135Z"
   },
   {
    "duration": 8,
    "start_time": "2022-01-18T06:06:46.143Z"
   },
   {
    "duration": 63,
    "start_time": "2022-01-18T06:06:46.153Z"
   },
   {
    "duration": 1317,
    "start_time": "2022-01-18T06:06:46.218Z"
   },
   {
    "duration": 162,
    "start_time": "2022-01-18T06:06:47.536Z"
   },
   {
    "duration": 7,
    "start_time": "2022-01-18T06:06:47.700Z"
   },
   {
    "duration": 932,
    "start_time": "2022-01-18T06:06:47.708Z"
   },
   {
    "duration": 102,
    "start_time": "2022-01-18T06:06:48.642Z"
   },
   {
    "duration": 17,
    "start_time": "2022-01-18T06:06:48.746Z"
   },
   {
    "duration": 31,
    "start_time": "2022-01-18T06:06:48.765Z"
   },
   {
    "duration": 313,
    "start_time": "2022-01-18T06:06:48.798Z"
   },
   {
    "duration": 269,
    "start_time": "2022-01-18T06:06:49.112Z"
   },
   {
    "duration": 331,
    "start_time": "2022-01-18T06:06:49.382Z"
   },
   {
    "duration": 332,
    "start_time": "2022-01-18T06:06:49.714Z"
   },
   {
    "duration": 310,
    "start_time": "2022-01-18T06:06:50.047Z"
   },
   {
    "duration": 162,
    "start_time": "2022-01-18T06:06:50.359Z"
   },
   {
    "duration": 143,
    "start_time": "2022-01-18T06:06:50.522Z"
   },
   {
    "duration": 435,
    "start_time": "2022-01-18T06:06:50.667Z"
   },
   {
    "duration": 3,
    "start_time": "2022-01-18T06:06:51.104Z"
   },
   {
    "duration": 342,
    "start_time": "2022-01-18T06:06:51.109Z"
   },
   {
    "duration": 177,
    "start_time": "2022-01-18T06:06:51.452Z"
   },
   {
    "duration": 160,
    "start_time": "2022-01-18T06:06:51.631Z"
   },
   {
    "duration": 311,
    "start_time": "2022-01-18T06:06:51.793Z"
   },
   {
    "duration": 3,
    "start_time": "2022-01-18T06:06:52.106Z"
   },
   {
    "duration": 322,
    "start_time": "2022-01-18T06:06:52.115Z"
   },
   {
    "duration": 162,
    "start_time": "2022-01-18T06:06:52.439Z"
   },
   {
    "duration": 162,
    "start_time": "2022-01-18T06:06:52.603Z"
   },
   {
    "duration": 458,
    "start_time": "2022-01-18T06:06:52.767Z"
   },
   {
    "duration": 5,
    "start_time": "2022-01-18T06:06:53.227Z"
   },
   {
    "duration": 317,
    "start_time": "2022-01-18T06:06:53.234Z"
   },
   {
    "duration": 162,
    "start_time": "2022-01-18T06:06:53.553Z"
   },
   {
    "duration": 164,
    "start_time": "2022-01-18T06:06:53.717Z"
   },
   {
    "duration": 315,
    "start_time": "2022-01-18T06:06:53.883Z"
   },
   {
    "duration": 4,
    "start_time": "2022-01-18T06:06:54.199Z"
   },
   {
    "duration": 321,
    "start_time": "2022-01-18T06:06:54.205Z"
   },
   {
    "duration": 146,
    "start_time": "2022-01-18T06:06:54.527Z"
   },
   {
    "duration": 155,
    "start_time": "2022-01-18T06:06:54.676Z"
   },
   {
    "duration": 308,
    "start_time": "2022-01-18T06:06:54.832Z"
   },
   {
    "duration": 3,
    "start_time": "2022-01-18T06:06:55.142Z"
   },
   {
    "duration": 448,
    "start_time": "2022-01-18T06:06:55.147Z"
   },
   {
    "duration": 141,
    "start_time": "2022-01-18T06:06:55.596Z"
   },
   {
    "duration": 157,
    "start_time": "2022-01-18T06:06:55.739Z"
   },
   {
    "duration": 310,
    "start_time": "2022-01-18T06:06:55.898Z"
   },
   {
    "duration": 3,
    "start_time": "2022-01-18T06:06:56.209Z"
   },
   {
    "duration": 25,
    "start_time": "2022-01-18T06:06:56.214Z"
   },
   {
    "duration": 85,
    "start_time": "2022-01-18T06:06:56.241Z"
   },
   {
    "duration": 8,
    "start_time": "2022-01-18T06:06:56.327Z"
   },
   {
    "duration": 5,
    "start_time": "2022-01-18T06:06:56.337Z"
   },
   {
    "duration": 9,
    "start_time": "2022-01-18T06:06:56.344Z"
   },
   {
    "duration": 6,
    "start_time": "2022-01-18T06:06:56.354Z"
   },
   {
    "duration": 96,
    "start_time": "2022-01-18T06:08:14.261Z"
   },
   {
    "duration": 74,
    "start_time": "2022-01-18T06:10:50.321Z"
   },
   {
    "duration": 75,
    "start_time": "2022-01-18T06:11:21.842Z"
   },
   {
    "duration": 63,
    "start_time": "2022-01-18T06:34:13.256Z"
   },
   {
    "duration": 62,
    "start_time": "2022-01-18T07:21:35.560Z"
   },
   {
    "duration": 4,
    "start_time": "2022-01-18T07:25:50.742Z"
   },
   {
    "duration": 4,
    "start_time": "2022-01-18T07:25:53.879Z"
   },
   {
    "duration": 14,
    "start_time": "2022-01-18T07:26:18.077Z"
   },
   {
    "duration": 12,
    "start_time": "2022-01-18T07:26:34.166Z"
   },
   {
    "duration": 3,
    "start_time": "2022-01-18T07:26:41.682Z"
   },
   {
    "duration": 437,
    "start_time": "2022-01-18T07:26:41.691Z"
   },
   {
    "duration": 9,
    "start_time": "2022-01-18T07:26:42.129Z"
   },
   {
    "duration": 7,
    "start_time": "2022-01-18T07:26:42.140Z"
   },
   {
    "duration": 22,
    "start_time": "2022-01-18T07:26:42.149Z"
   },
   {
    "duration": 11,
    "start_time": "2022-01-18T07:26:42.173Z"
   },
   {
    "duration": 5,
    "start_time": "2022-01-18T07:26:42.186Z"
   },
   {
    "duration": 18,
    "start_time": "2022-01-18T07:26:42.193Z"
   },
   {
    "duration": 9,
    "start_time": "2022-01-18T07:26:42.212Z"
   },
   {
    "duration": 18,
    "start_time": "2022-01-18T07:26:42.224Z"
   },
   {
    "duration": 19,
    "start_time": "2022-01-18T07:26:42.244Z"
   },
   {
    "duration": 9,
    "start_time": "2022-01-18T07:26:42.265Z"
   },
   {
    "duration": 3,
    "start_time": "2022-01-18T07:26:42.292Z"
   },
   {
    "duration": 7,
    "start_time": "2022-01-18T07:26:42.297Z"
   },
   {
    "duration": 12,
    "start_time": "2022-01-18T07:26:42.305Z"
   },
   {
    "duration": 4,
    "start_time": "2022-01-18T07:26:42.318Z"
   },
   {
    "duration": 8,
    "start_time": "2022-01-18T07:26:42.323Z"
   },
   {
    "duration": 20,
    "start_time": "2022-01-18T07:26:42.333Z"
   },
   {
    "duration": 48,
    "start_time": "2022-01-18T07:26:42.355Z"
   },
   {
    "duration": 14,
    "start_time": "2022-01-18T07:26:42.405Z"
   },
   {
    "duration": 5,
    "start_time": "2022-01-18T07:26:42.420Z"
   },
   {
    "duration": 7,
    "start_time": "2022-01-18T07:26:42.426Z"
   },
   {
    "duration": 191,
    "start_time": "2022-01-18T07:26:42.434Z"
   },
   {
    "duration": 6,
    "start_time": "2022-01-18T07:26:42.627Z"
   },
   {
    "duration": 11,
    "start_time": "2022-01-18T07:26:42.634Z"
   },
   {
    "duration": 5,
    "start_time": "2022-01-18T07:26:42.647Z"
   },
   {
    "duration": 11,
    "start_time": "2022-01-18T07:26:42.653Z"
   },
   {
    "duration": 78,
    "start_time": "2022-01-18T07:26:42.669Z"
   },
   {
    "duration": 65,
    "start_time": "2022-01-18T07:26:42.750Z"
   },
   {
    "duration": 77,
    "start_time": "2022-01-18T07:26:42.816Z"
   },
   {
    "duration": 52,
    "start_time": "2022-01-18T07:26:42.895Z"
   },
   {
    "duration": 48,
    "start_time": "2022-01-18T07:26:42.948Z"
   },
   {
    "duration": 15,
    "start_time": "2022-01-18T07:26:42.998Z"
   },
   {
    "duration": 15,
    "start_time": "2022-01-18T07:26:43.015Z"
   },
   {
    "duration": 395,
    "start_time": "2022-01-18T07:26:43.032Z"
   },
   {
    "duration": 43,
    "start_time": "2022-01-18T07:26:43.428Z"
   },
   {
    "duration": 38,
    "start_time": "2022-01-18T07:26:43.473Z"
   },
   {
    "duration": 42,
    "start_time": "2022-01-18T07:26:43.512Z"
   },
   {
    "duration": 52,
    "start_time": "2022-01-18T07:26:43.556Z"
   },
   {
    "duration": 16,
    "start_time": "2022-01-18T07:26:43.609Z"
   },
   {
    "duration": 285,
    "start_time": "2022-01-18T07:26:43.627Z"
   },
   {
    "duration": 4,
    "start_time": "2022-01-18T07:26:43.913Z"
   },
   {
    "duration": 9,
    "start_time": "2022-01-18T07:26:43.919Z"
   },
   {
    "duration": 16,
    "start_time": "2022-01-18T07:26:43.930Z"
   },
   {
    "duration": 77,
    "start_time": "2022-01-18T07:26:43.947Z"
   },
   {
    "duration": 86,
    "start_time": "2022-01-18T07:26:44.025Z"
   },
   {
    "duration": 6,
    "start_time": "2022-01-18T07:26:44.113Z"
   },
   {
    "duration": 14,
    "start_time": "2022-01-18T07:26:44.121Z"
   },
   {
    "duration": 59,
    "start_time": "2022-01-18T07:26:44.136Z"
   },
   {
    "duration": 1328,
    "start_time": "2022-01-18T07:26:44.196Z"
   },
   {
    "duration": 174,
    "start_time": "2022-01-18T07:26:45.527Z"
   },
   {
    "duration": 8,
    "start_time": "2022-01-18T07:26:45.703Z"
   },
   {
    "duration": 943,
    "start_time": "2022-01-18T07:26:45.713Z"
   },
   {
    "duration": 99,
    "start_time": "2022-01-18T07:26:46.658Z"
   },
   {
    "duration": 18,
    "start_time": "2022-01-18T07:26:46.759Z"
   },
   {
    "duration": 34,
    "start_time": "2022-01-18T07:26:46.779Z"
   },
   {
    "duration": 316,
    "start_time": "2022-01-18T07:26:46.815Z"
   },
   {
    "duration": 269,
    "start_time": "2022-01-18T07:26:47.133Z"
   },
   {
    "duration": 497,
    "start_time": "2022-01-18T07:26:47.404Z"
   },
   {
    "duration": 412,
    "start_time": "2022-01-18T07:26:47.903Z"
   },
   {
    "duration": 308,
    "start_time": "2022-01-18T07:26:48.317Z"
   },
   {
    "duration": 158,
    "start_time": "2022-01-18T07:26:48.626Z"
   },
   {
    "duration": 142,
    "start_time": "2022-01-18T07:26:48.785Z"
   },
   {
    "duration": 451,
    "start_time": "2022-01-18T07:26:48.928Z"
   },
   {
    "duration": 13,
    "start_time": "2022-01-18T07:26:49.380Z"
   },
   {
    "duration": 319,
    "start_time": "2022-01-18T07:26:49.394Z"
   },
   {
    "duration": 158,
    "start_time": "2022-01-18T07:26:49.715Z"
   },
   {
    "duration": 164,
    "start_time": "2022-01-18T07:26:49.875Z"
   },
   {
    "duration": 321,
    "start_time": "2022-01-18T07:26:50.041Z"
   },
   {
    "duration": 4,
    "start_time": "2022-01-18T07:26:50.364Z"
   },
   {
    "duration": 337,
    "start_time": "2022-01-18T07:26:50.369Z"
   },
   {
    "duration": 155,
    "start_time": "2022-01-18T07:26:50.708Z"
   },
   {
    "duration": 157,
    "start_time": "2022-01-18T07:26:50.865Z"
   },
   {
    "duration": 314,
    "start_time": "2022-01-18T07:26:51.023Z"
   },
   {
    "duration": 5,
    "start_time": "2022-01-18T07:26:51.338Z"
   },
   {
    "duration": 322,
    "start_time": "2022-01-18T07:26:51.344Z"
   },
   {
    "duration": 165,
    "start_time": "2022-01-18T07:26:51.668Z"
   },
   {
    "duration": 325,
    "start_time": "2022-01-18T07:26:51.834Z"
   },
   {
    "duration": 310,
    "start_time": "2022-01-18T07:26:52.161Z"
   },
   {
    "duration": 3,
    "start_time": "2022-01-18T07:26:52.473Z"
   },
   {
    "duration": 323,
    "start_time": "2022-01-18T07:26:52.478Z"
   },
   {
    "duration": 150,
    "start_time": "2022-01-18T07:26:52.806Z"
   },
   {
    "duration": 154,
    "start_time": "2022-01-18T07:26:52.958Z"
   },
   {
    "duration": 302,
    "start_time": "2022-01-18T07:26:53.114Z"
   },
   {
    "duration": 3,
    "start_time": "2022-01-18T07:26:53.418Z"
   },
   {
    "duration": 292,
    "start_time": "2022-01-18T07:26:53.423Z"
   },
   {
    "duration": 145,
    "start_time": "2022-01-18T07:26:53.716Z"
   },
   {
    "duration": 149,
    "start_time": "2022-01-18T07:26:53.863Z"
   },
   {
    "duration": 299,
    "start_time": "2022-01-18T07:26:54.014Z"
   },
   {
    "duration": 4,
    "start_time": "2022-01-18T07:26:54.315Z"
   },
   {
    "duration": 27,
    "start_time": "2022-01-18T07:26:54.320Z"
   },
   {
    "duration": 88,
    "start_time": "2022-01-18T07:26:54.348Z"
   },
   {
    "duration": 9,
    "start_time": "2022-01-18T07:26:54.437Z"
   },
   {
    "duration": 3,
    "start_time": "2022-01-18T07:26:54.448Z"
   },
   {
    "duration": 9,
    "start_time": "2022-01-18T07:26:54.453Z"
   },
   {
    "duration": 28,
    "start_time": "2022-01-18T07:26:54.464Z"
   },
   {
    "duration": 4,
    "start_time": "2022-01-18T07:27:05.528Z"
   },
   {
    "duration": 437,
    "start_time": "2022-01-18T07:27:05.534Z"
   },
   {
    "duration": 8,
    "start_time": "2022-01-18T07:27:05.973Z"
   },
   {
    "duration": 20,
    "start_time": "2022-01-18T07:27:05.983Z"
   },
   {
    "duration": 37,
    "start_time": "2022-01-18T07:27:06.005Z"
   },
   {
    "duration": 12,
    "start_time": "2022-01-18T07:27:06.044Z"
   },
   {
    "duration": 7,
    "start_time": "2022-01-18T07:27:06.058Z"
   },
   {
    "duration": 19,
    "start_time": "2022-01-18T07:27:06.066Z"
   },
   {
    "duration": 9,
    "start_time": "2022-01-18T07:27:06.088Z"
   },
   {
    "duration": 13,
    "start_time": "2022-01-18T07:27:06.099Z"
   },
   {
    "duration": 46,
    "start_time": "2022-01-18T07:27:06.113Z"
   },
   {
    "duration": 19,
    "start_time": "2022-01-18T07:27:06.161Z"
   },
   {
    "duration": 10,
    "start_time": "2022-01-18T07:27:06.181Z"
   },
   {
    "duration": 13,
    "start_time": "2022-01-18T07:27:06.193Z"
   },
   {
    "duration": 16,
    "start_time": "2022-01-18T07:27:06.208Z"
   },
   {
    "duration": 7,
    "start_time": "2022-01-18T07:27:06.226Z"
   },
   {
    "duration": 9,
    "start_time": "2022-01-18T07:27:06.235Z"
   },
   {
    "duration": 26,
    "start_time": "2022-01-18T07:27:06.246Z"
   },
   {
    "duration": 28,
    "start_time": "2022-01-18T07:27:06.273Z"
   },
   {
    "duration": 14,
    "start_time": "2022-01-18T07:27:06.303Z"
   },
   {
    "duration": 22,
    "start_time": "2022-01-18T07:27:06.318Z"
   },
   {
    "duration": 9,
    "start_time": "2022-01-18T07:27:06.341Z"
   },
   {
    "duration": 178,
    "start_time": "2022-01-18T07:27:06.352Z"
   },
   {
    "duration": 7,
    "start_time": "2022-01-18T07:27:06.535Z"
   },
   {
    "duration": 7,
    "start_time": "2022-01-18T07:27:06.544Z"
   },
   {
    "duration": 79,
    "start_time": "2022-01-18T07:27:06.552Z"
   },
   {
    "duration": 65,
    "start_time": "2022-01-18T07:27:06.633Z"
   },
   {
    "duration": 70,
    "start_time": "2022-01-18T07:27:06.700Z"
   },
   {
    "duration": 67,
    "start_time": "2022-01-18T07:27:06.772Z"
   },
   {
    "duration": 34,
    "start_time": "2022-01-18T07:27:06.841Z"
   },
   {
    "duration": 26,
    "start_time": "2022-01-18T07:27:06.877Z"
   },
   {
    "duration": 36,
    "start_time": "2022-01-18T07:27:06.905Z"
   },
   {
    "duration": 561,
    "start_time": "2022-01-18T07:27:06.943Z"
   },
   {
    "duration": 42,
    "start_time": "2022-01-18T07:27:07.506Z"
   },
   {
    "duration": 23,
    "start_time": "2022-01-18T07:27:07.550Z"
   },
   {
    "duration": 41,
    "start_time": "2022-01-18T07:27:07.592Z"
   },
   {
    "duration": 33,
    "start_time": "2022-01-18T07:27:07.635Z"
   },
   {
    "duration": 34,
    "start_time": "2022-01-18T07:27:07.670Z"
   },
   {
    "duration": 296,
    "start_time": "2022-01-18T07:27:07.706Z"
   },
   {
    "duration": 5,
    "start_time": "2022-01-18T07:27:08.004Z"
   },
   {
    "duration": 9,
    "start_time": "2022-01-18T07:27:08.010Z"
   },
   {
    "duration": 14,
    "start_time": "2022-01-18T07:27:08.021Z"
   },
   {
    "duration": 84,
    "start_time": "2022-01-18T07:27:08.037Z"
   },
   {
    "duration": 94,
    "start_time": "2022-01-18T07:27:08.123Z"
   },
   {
    "duration": 6,
    "start_time": "2022-01-18T07:27:08.219Z"
   },
   {
    "duration": 5,
    "start_time": "2022-01-18T07:27:08.227Z"
   },
   {
    "duration": 67,
    "start_time": "2022-01-18T07:27:08.233Z"
   },
   {
    "duration": 1233,
    "start_time": "2022-01-18T07:27:08.301Z"
   },
   {
    "duration": 162,
    "start_time": "2022-01-18T07:27:09.535Z"
   },
   {
    "duration": 6,
    "start_time": "2022-01-18T07:27:09.699Z"
   },
   {
    "duration": 1008,
    "start_time": "2022-01-18T07:27:09.707Z"
   },
   {
    "duration": 116,
    "start_time": "2022-01-18T07:27:10.716Z"
   },
   {
    "duration": 69,
    "start_time": "2022-01-18T07:27:10.834Z"
   },
   {
    "duration": 16,
    "start_time": "2022-01-18T07:27:10.905Z"
   },
   {
    "duration": 437,
    "start_time": "2022-01-18T07:27:10.923Z"
   },
   {
    "duration": 269,
    "start_time": "2022-01-18T07:27:11.361Z"
   },
   {
    "duration": 326,
    "start_time": "2022-01-18T07:27:11.632Z"
   },
   {
    "duration": 480,
    "start_time": "2022-01-18T07:27:11.960Z"
   },
   {
    "duration": 306,
    "start_time": "2022-01-18T07:27:12.442Z"
   },
   {
    "duration": 158,
    "start_time": "2022-01-18T07:27:12.750Z"
   },
   {
    "duration": 150,
    "start_time": "2022-01-18T07:27:12.909Z"
   },
   {
    "duration": 300,
    "start_time": "2022-01-18T07:27:13.060Z"
   },
   {
    "duration": 4,
    "start_time": "2022-01-18T07:27:13.361Z"
   },
   {
    "duration": 333,
    "start_time": "2022-01-18T07:27:13.367Z"
   },
   {
    "duration": 160,
    "start_time": "2022-01-18T07:27:13.702Z"
   },
   {
    "duration": 156,
    "start_time": "2022-01-18T07:27:13.864Z"
   },
   {
    "duration": 315,
    "start_time": "2022-01-18T07:27:14.022Z"
   },
   {
    "duration": 3,
    "start_time": "2022-01-18T07:27:14.339Z"
   },
   {
    "duration": 336,
    "start_time": "2022-01-18T07:27:14.347Z"
   },
   {
    "duration": 151,
    "start_time": "2022-01-18T07:27:14.685Z"
   },
   {
    "duration": 147,
    "start_time": "2022-01-18T07:27:14.838Z"
   },
   {
    "duration": 478,
    "start_time": "2022-01-18T07:27:14.991Z"
   },
   {
    "duration": 5,
    "start_time": "2022-01-18T07:27:15.471Z"
   },
   {
    "duration": 315,
    "start_time": "2022-01-18T07:27:15.477Z"
   },
   {
    "duration": 153,
    "start_time": "2022-01-18T07:27:15.794Z"
   },
   {
    "duration": 156,
    "start_time": "2022-01-18T07:27:15.949Z"
   },
   {
    "duration": 309,
    "start_time": "2022-01-18T07:27:16.107Z"
   },
   {
    "duration": 3,
    "start_time": "2022-01-18T07:27:16.418Z"
   },
   {
    "duration": 320,
    "start_time": "2022-01-18T07:27:16.422Z"
   },
   {
    "duration": 144,
    "start_time": "2022-01-18T07:27:16.743Z"
   },
   {
    "duration": 145,
    "start_time": "2022-01-18T07:27:16.889Z"
   },
   {
    "duration": 310,
    "start_time": "2022-01-18T07:27:17.036Z"
   },
   {
    "duration": 3,
    "start_time": "2022-01-18T07:27:17.348Z"
   },
   {
    "duration": 307,
    "start_time": "2022-01-18T07:27:17.353Z"
   },
   {
    "duration": 150,
    "start_time": "2022-01-18T07:27:17.662Z"
   },
   {
    "duration": 157,
    "start_time": "2022-01-18T07:27:17.813Z"
   },
   {
    "duration": 511,
    "start_time": "2022-01-18T07:27:17.972Z"
   },
   {
    "duration": 3,
    "start_time": "2022-01-18T07:27:18.492Z"
   },
   {
    "duration": 26,
    "start_time": "2022-01-18T07:27:18.497Z"
   },
   {
    "duration": 85,
    "start_time": "2022-01-18T07:27:18.525Z"
   },
   {
    "duration": 9,
    "start_time": "2022-01-18T07:27:18.611Z"
   },
   {
    "duration": 3,
    "start_time": "2022-01-18T07:27:18.622Z"
   },
   {
    "duration": 10,
    "start_time": "2022-01-18T07:27:18.627Z"
   },
   {
    "duration": 6,
    "start_time": "2022-01-18T07:27:18.639Z"
   },
   {
    "duration": 1414,
    "start_time": "2022-01-20T12:12:27.897Z"
   },
   {
    "duration": 538,
    "start_time": "2022-01-20T12:12:29.314Z"
   },
   {
    "duration": 17,
    "start_time": "2022-01-20T12:12:29.855Z"
   },
   {
    "duration": 9,
    "start_time": "2022-01-20T12:12:29.874Z"
   },
   {
    "duration": 29,
    "start_time": "2022-01-20T12:12:29.885Z"
   },
   {
    "duration": 16,
    "start_time": "2022-01-20T12:12:29.916Z"
   },
   {
    "duration": 38,
    "start_time": "2022-01-20T12:12:29.935Z"
   },
   {
    "duration": 25,
    "start_time": "2022-01-20T12:12:29.977Z"
   },
   {
    "duration": 14,
    "start_time": "2022-01-20T12:12:30.006Z"
   },
   {
    "duration": 20,
    "start_time": "2022-01-20T12:12:30.022Z"
   },
   {
    "duration": 42,
    "start_time": "2022-01-20T12:12:30.044Z"
   },
   {
    "duration": 12,
    "start_time": "2022-01-20T12:12:30.089Z"
   },
   {
    "duration": 9,
    "start_time": "2022-01-20T12:12:30.104Z"
   },
   {
    "duration": 22,
    "start_time": "2022-01-20T12:12:30.116Z"
   },
   {
    "duration": 17,
    "start_time": "2022-01-20T12:12:30.169Z"
   },
   {
    "duration": 18,
    "start_time": "2022-01-20T12:12:30.189Z"
   },
   {
    "duration": 17,
    "start_time": "2022-01-20T12:12:30.210Z"
   },
   {
    "duration": 45,
    "start_time": "2022-01-20T12:12:30.230Z"
   },
   {
    "duration": 21,
    "start_time": "2022-01-20T12:12:30.278Z"
   },
   {
    "duration": 27,
    "start_time": "2022-01-20T12:12:30.302Z"
   },
   {
    "duration": 23,
    "start_time": "2022-01-20T12:12:30.332Z"
   },
   {
    "duration": 15,
    "start_time": "2022-01-20T12:12:30.370Z"
   },
   {
    "duration": 324,
    "start_time": "2022-01-20T12:12:30.391Z"
   },
   {
    "duration": 9,
    "start_time": "2022-01-20T12:12:30.718Z"
   },
   {
    "duration": 28,
    "start_time": "2022-01-20T12:12:30.729Z"
   },
   {
    "duration": 99,
    "start_time": "2022-01-20T12:12:30.759Z"
   },
   {
    "duration": 88,
    "start_time": "2022-01-20T12:12:30.861Z"
   },
   {
    "duration": 136,
    "start_time": "2022-01-20T12:12:30.951Z"
   },
   {
    "duration": 81,
    "start_time": "2022-01-20T12:12:31.090Z"
   },
   {
    "duration": 51,
    "start_time": "2022-01-20T12:12:31.173Z"
   },
   {
    "duration": 53,
    "start_time": "2022-01-20T12:12:31.226Z"
   },
   {
    "duration": 25,
    "start_time": "2022-01-20T12:12:31.282Z"
   },
   {
    "duration": 612,
    "start_time": "2022-01-20T12:12:31.309Z"
   },
   {
    "duration": 78,
    "start_time": "2022-01-20T12:12:31.924Z"
   },
   {
    "duration": 31,
    "start_time": "2022-01-20T12:12:32.004Z"
   },
   {
    "duration": 79,
    "start_time": "2022-01-20T12:12:32.037Z"
   },
   {
    "duration": 55,
    "start_time": "2022-01-20T12:12:32.118Z"
   },
   {
    "duration": 22,
    "start_time": "2022-01-20T12:12:32.175Z"
   },
   {
    "duration": 686,
    "start_time": "2022-01-20T12:12:32.199Z"
   },
   {
    "duration": 6,
    "start_time": "2022-01-20T12:12:32.887Z"
   },
   {
    "duration": 8,
    "start_time": "2022-01-20T12:12:32.895Z"
   },
   {
    "duration": 69,
    "start_time": "2022-01-20T12:12:32.905Z"
   },
   {
    "duration": 204,
    "start_time": "2022-01-20T12:12:32.976Z"
   },
   {
    "duration": 138,
    "start_time": "2022-01-20T12:12:33.183Z"
   },
   {
    "duration": 10,
    "start_time": "2022-01-20T12:12:33.323Z"
   },
   {
    "duration": 8,
    "start_time": "2022-01-20T12:12:33.335Z"
   },
   {
    "duration": 79,
    "start_time": "2022-01-20T12:12:33.370Z"
   },
   {
    "duration": 1987,
    "start_time": "2022-01-20T12:12:33.469Z"
   },
   {
    "duration": 260,
    "start_time": "2022-01-20T12:12:35.458Z"
   },
   {
    "duration": 10,
    "start_time": "2022-01-20T12:12:35.720Z"
   },
   {
    "duration": 1981,
    "start_time": "2022-01-20T12:12:35.732Z"
   },
   {
    "duration": 168,
    "start_time": "2022-01-20T12:12:37.716Z"
   },
   {
    "duration": 30,
    "start_time": "2022-01-20T12:12:37.886Z"
   },
   {
    "duration": 24,
    "start_time": "2022-01-20T12:12:37.918Z"
   },
   {
    "duration": 536,
    "start_time": "2022-01-20T12:12:37.944Z"
   },
   {
    "duration": 478,
    "start_time": "2022-01-20T12:12:38.483Z"
   },
   {
    "duration": 524,
    "start_time": "2022-01-20T12:12:38.964Z"
   },
   {
    "duration": 512,
    "start_time": "2022-01-20T12:12:39.491Z"
   },
   {
    "duration": 547,
    "start_time": "2022-01-20T12:12:40.005Z"
   },
   {
    "duration": 249,
    "start_time": "2022-01-20T12:12:40.555Z"
   },
   {
    "duration": 225,
    "start_time": "2022-01-20T12:12:40.807Z"
   },
   {
    "duration": 486,
    "start_time": "2022-01-20T12:12:41.035Z"
   },
   {
    "duration": 4,
    "start_time": "2022-01-20T12:12:41.524Z"
   },
   {
    "duration": 515,
    "start_time": "2022-01-20T12:12:41.531Z"
   },
   {
    "duration": 260,
    "start_time": "2022-01-20T12:12:42.049Z"
   },
   {
    "duration": 241,
    "start_time": "2022-01-20T12:12:42.312Z"
   },
   {
    "duration": 502,
    "start_time": "2022-01-20T12:12:42.555Z"
   },
   {
    "duration": 5,
    "start_time": "2022-01-20T12:12:43.073Z"
   },
   {
    "duration": 587,
    "start_time": "2022-01-20T12:12:43.081Z"
   },
   {
    "duration": 243,
    "start_time": "2022-01-20T12:12:43.670Z"
   },
   {
    "duration": 231,
    "start_time": "2022-01-20T12:12:43.915Z"
   },
   {
    "duration": 490,
    "start_time": "2022-01-20T12:12:44.148Z"
   },
   {
    "duration": 7,
    "start_time": "2022-01-20T12:12:44.641Z"
   },
   {
    "duration": 480,
    "start_time": "2022-01-20T12:12:44.650Z"
   },
   {
    "duration": 250,
    "start_time": "2022-01-20T12:12:45.132Z"
   },
   {
    "duration": 244,
    "start_time": "2022-01-20T12:12:45.385Z"
   },
   {
    "duration": 578,
    "start_time": "2022-01-20T12:12:45.632Z"
   },
   {
    "duration": 5,
    "start_time": "2022-01-20T12:12:46.213Z"
   },
   {
    "duration": 498,
    "start_time": "2022-01-20T12:12:46.220Z"
   },
   {
    "duration": 242,
    "start_time": "2022-01-20T12:12:46.720Z"
   },
   {
    "duration": 226,
    "start_time": "2022-01-20T12:12:46.964Z"
   },
   {
    "duration": 478,
    "start_time": "2022-01-20T12:12:47.192Z"
   },
   {
    "duration": 5,
    "start_time": "2022-01-20T12:12:47.673Z"
   },
   {
    "duration": 462,
    "start_time": "2022-01-20T12:12:47.680Z"
   },
   {
    "duration": 218,
    "start_time": "2022-01-20T12:12:48.145Z"
   },
   {
    "duration": 237,
    "start_time": "2022-01-20T12:12:48.369Z"
   },
   {
    "duration": 592,
    "start_time": "2022-01-20T12:12:48.608Z"
   },
   {
    "duration": 6,
    "start_time": "2022-01-20T12:12:49.203Z"
   },
   {
    "duration": 64,
    "start_time": "2022-01-20T12:12:49.211Z"
   },
   {
    "duration": 128,
    "start_time": "2022-01-20T12:12:49.278Z"
   },
   {
    "duration": 12,
    "start_time": "2022-01-20T12:12:49.408Z"
   },
   {
    "duration": 6,
    "start_time": "2022-01-20T12:12:49.423Z"
   },
   {
    "duration": 44,
    "start_time": "2022-01-20T12:12:49.432Z"
   },
   {
    "duration": 6,
    "start_time": "2022-01-20T12:12:49.478Z"
   },
   {
    "duration": 56,
    "start_time": "2022-01-20T12:12:49.486Z"
   },
   {
    "duration": 437,
    "start_time": "2022-01-20T15:52:28.441Z"
   },
   {
    "duration": 6,
    "start_time": "2022-01-20T15:52:32.425Z"
   },
   {
    "duration": 284,
    "start_time": "2022-02-23T07:35:12.058Z"
   },
   {
    "duration": 1140,
    "start_time": "2022-02-23T07:35:15.275Z"
   },
   {
    "duration": 384,
    "start_time": "2022-02-23T07:35:16.418Z"
   },
   {
    "duration": 12,
    "start_time": "2022-02-23T07:35:16.804Z"
   },
   {
    "duration": 7,
    "start_time": "2022-02-23T07:35:16.818Z"
   },
   {
    "duration": 25,
    "start_time": "2022-02-23T07:35:16.826Z"
   },
   {
    "duration": 13,
    "start_time": "2022-02-23T07:35:16.853Z"
   },
   {
    "duration": 4,
    "start_time": "2022-02-23T07:35:16.868Z"
   },
   {
    "duration": 44,
    "start_time": "2022-02-23T07:35:16.874Z"
   },
   {
    "duration": 11,
    "start_time": "2022-02-23T07:35:16.921Z"
   },
   {
    "duration": 6,
    "start_time": "2022-02-23T07:35:16.933Z"
   },
   {
    "duration": 23,
    "start_time": "2022-02-23T07:35:16.941Z"
   },
   {
    "duration": 10,
    "start_time": "2022-02-23T07:35:16.966Z"
   },
   {
    "duration": 5,
    "start_time": "2022-02-23T07:35:16.978Z"
   },
   {
    "duration": 9,
    "start_time": "2022-02-23T07:35:16.984Z"
   },
   {
    "duration": 30,
    "start_time": "2022-02-23T07:35:16.995Z"
   },
   {
    "duration": 7,
    "start_time": "2022-02-23T07:35:17.027Z"
   },
   {
    "duration": 9,
    "start_time": "2022-02-23T07:35:17.035Z"
   },
   {
    "duration": 27,
    "start_time": "2022-02-23T07:35:17.046Z"
   },
   {
    "duration": 18,
    "start_time": "2022-02-23T07:35:17.075Z"
   },
   {
    "duration": 44,
    "start_time": "2022-02-23T07:35:17.094Z"
   },
   {
    "duration": 8,
    "start_time": "2022-02-23T07:35:17.140Z"
   },
   {
    "duration": 7,
    "start_time": "2022-02-23T07:35:17.150Z"
   },
   {
    "duration": 241,
    "start_time": "2022-02-23T07:35:17.162Z"
   },
   {
    "duration": 16,
    "start_time": "2022-02-23T07:35:17.406Z"
   },
   {
    "duration": 8,
    "start_time": "2022-02-23T07:35:17.424Z"
   },
   {
    "duration": 84,
    "start_time": "2022-02-23T07:35:17.434Z"
   },
   {
    "duration": 61,
    "start_time": "2022-02-23T07:35:17.520Z"
   },
   {
    "duration": 105,
    "start_time": "2022-02-23T07:35:17.583Z"
   },
   {
    "duration": 65,
    "start_time": "2022-02-23T07:35:17.690Z"
   },
   {
    "duration": 36,
    "start_time": "2022-02-23T07:35:17.757Z"
   },
   {
    "duration": 35,
    "start_time": "2022-02-23T07:35:17.795Z"
   },
   {
    "duration": 17,
    "start_time": "2022-02-23T07:35:17.831Z"
   },
   {
    "duration": 416,
    "start_time": "2022-02-23T07:35:17.849Z"
   },
   {
    "duration": 57,
    "start_time": "2022-02-23T07:35:18.267Z"
   },
   {
    "duration": 23,
    "start_time": "2022-02-23T07:35:18.327Z"
   },
   {
    "duration": 40,
    "start_time": "2022-02-23T07:35:18.352Z"
   },
   {
    "duration": 55,
    "start_time": "2022-02-23T07:35:18.393Z"
   },
   {
    "duration": 19,
    "start_time": "2022-02-23T07:35:18.450Z"
   },
   {
    "duration": 468,
    "start_time": "2022-02-23T07:35:18.471Z"
   },
   {
    "duration": 4,
    "start_time": "2022-02-23T07:35:18.940Z"
   },
   {
    "duration": 15,
    "start_time": "2022-02-23T07:35:18.946Z"
   },
   {
    "duration": 65,
    "start_time": "2022-02-23T07:35:18.963Z"
   },
   {
    "duration": 105,
    "start_time": "2022-02-23T07:35:19.030Z"
   },
   {
    "duration": 40,
    "start_time": "2022-02-23T07:35:19.137Z"
   },
   {
    "duration": 14,
    "start_time": "2022-02-23T07:35:19.179Z"
   },
   {
    "duration": 17,
    "start_time": "2022-02-23T07:35:19.194Z"
   },
   {
    "duration": 53,
    "start_time": "2022-02-23T07:35:19.212Z"
   },
   {
    "duration": 1368,
    "start_time": "2022-02-23T07:35:19.267Z"
   },
   {
    "duration": 160,
    "start_time": "2022-02-23T07:35:20.636Z"
   },
   {
    "duration": 6,
    "start_time": "2022-02-23T07:35:20.798Z"
   },
   {
    "duration": 1008,
    "start_time": "2022-02-23T07:35:20.806Z"
   },
   {
    "duration": 101,
    "start_time": "2022-02-23T07:35:21.818Z"
   },
   {
    "duration": 24,
    "start_time": "2022-02-23T07:35:21.921Z"
   },
   {
    "duration": 6992,
    "start_time": "2022-02-23T07:35:21.947Z"
   },
   {
    "duration": -1129,
    "start_time": "2022-02-23T07:35:30.071Z"
   },
   {
    "duration": -1132,
    "start_time": "2022-02-23T07:35:30.075Z"
   },
   {
    "duration": -1134,
    "start_time": "2022-02-23T07:35:30.078Z"
   },
   {
    "duration": -1137,
    "start_time": "2022-02-23T07:35:30.082Z"
   },
   {
    "duration": -1140,
    "start_time": "2022-02-23T07:35:30.086Z"
   },
   {
    "duration": -1143,
    "start_time": "2022-02-23T07:35:30.090Z"
   },
   {
    "duration": -1146,
    "start_time": "2022-02-23T07:35:30.094Z"
   },
   {
    "duration": -1150,
    "start_time": "2022-02-23T07:35:30.099Z"
   },
   {
    "duration": -1153,
    "start_time": "2022-02-23T07:35:30.103Z"
   },
   {
    "duration": -1156,
    "start_time": "2022-02-23T07:35:30.107Z"
   },
   {
    "duration": -1158,
    "start_time": "2022-02-23T07:35:30.110Z"
   },
   {
    "duration": -1162,
    "start_time": "2022-02-23T07:35:30.115Z"
   },
   {
    "duration": -1169,
    "start_time": "2022-02-23T07:35:30.124Z"
   },
   {
    "duration": -1172,
    "start_time": "2022-02-23T07:35:30.128Z"
   },
   {
    "duration": -1175,
    "start_time": "2022-02-23T07:35:30.132Z"
   },
   {
    "duration": -1178,
    "start_time": "2022-02-23T07:35:30.136Z"
   },
   {
    "duration": -1181,
    "start_time": "2022-02-23T07:35:30.140Z"
   },
   {
    "duration": -1184,
    "start_time": "2022-02-23T07:35:30.144Z"
   },
   {
    "duration": -1186,
    "start_time": "2022-02-23T07:35:30.148Z"
   },
   {
    "duration": -1189,
    "start_time": "2022-02-23T07:35:30.152Z"
   },
   {
    "duration": -1193,
    "start_time": "2022-02-23T07:35:30.157Z"
   },
   {
    "duration": -1196,
    "start_time": "2022-02-23T07:35:30.161Z"
   },
   {
    "duration": -1199,
    "start_time": "2022-02-23T07:35:30.165Z"
   },
   {
    "duration": -1202,
    "start_time": "2022-02-23T07:35:30.169Z"
   },
   {
    "duration": -1205,
    "start_time": "2022-02-23T07:35:30.173Z"
   },
   {
    "duration": -1207,
    "start_time": "2022-02-23T07:35:30.176Z"
   },
   {
    "duration": -1209,
    "start_time": "2022-02-23T07:35:30.180Z"
   },
   {
    "duration": -1211,
    "start_time": "2022-02-23T07:35:30.183Z"
   },
   {
    "duration": -1219,
    "start_time": "2022-02-23T07:35:30.192Z"
   },
   {
    "duration": -1222,
    "start_time": "2022-02-23T07:35:30.196Z"
   },
   {
    "duration": -1224,
    "start_time": "2022-02-23T07:35:30.199Z"
   },
   {
    "duration": -1227,
    "start_time": "2022-02-23T07:35:30.203Z"
   },
   {
    "duration": -1230,
    "start_time": "2022-02-23T07:35:30.207Z"
   },
   {
    "duration": -1235,
    "start_time": "2022-02-23T07:35:30.212Z"
   },
   {
    "duration": -1197,
    "start_time": "2022-02-23T07:35:30.216Z"
   },
   {
    "duration": -1200,
    "start_time": "2022-02-23T07:35:30.220Z"
   },
   {
    "duration": -1203,
    "start_time": "2022-02-23T07:35:30.224Z"
   },
   {
    "duration": -1207,
    "start_time": "2022-02-23T07:35:30.229Z"
   },
   {
    "duration": -1209,
    "start_time": "2022-02-23T07:35:30.232Z"
   },
   {
    "duration": -1212,
    "start_time": "2022-02-23T07:35:30.236Z"
   },
   {
    "duration": 23,
    "start_time": "2022-02-23T07:35:35.810Z"
   },
   {
    "duration": 34,
    "start_time": "2022-02-23T07:35:46.348Z"
   },
   {
    "duration": 1218,
    "start_time": "2022-04-01T08:44:10.869Z"
   },
   {
    "duration": 447,
    "start_time": "2022-04-01T08:44:12.089Z"
   },
   {
    "duration": 15,
    "start_time": "2022-04-01T08:44:12.540Z"
   },
   {
    "duration": 4,
    "start_time": "2022-04-01T08:44:12.557Z"
   },
   {
    "duration": 30,
    "start_time": "2022-04-01T08:44:12.563Z"
   },
   {
    "duration": 44,
    "start_time": "2022-04-01T08:44:12.595Z"
   },
   {
    "duration": 4,
    "start_time": "2022-04-01T08:44:12.641Z"
   },
   {
    "duration": 29,
    "start_time": "2022-04-01T08:44:12.647Z"
   },
   {
    "duration": 12,
    "start_time": "2022-04-01T08:44:12.678Z"
   },
   {
    "duration": 4,
    "start_time": "2022-04-01T08:44:12.694Z"
   },
   {
    "duration": 51,
    "start_time": "2022-04-01T08:44:12.700Z"
   },
   {
    "duration": 10,
    "start_time": "2022-04-01T08:44:12.753Z"
   },
   {
    "duration": 6,
    "start_time": "2022-04-01T08:44:12.765Z"
   },
   {
    "duration": 13,
    "start_time": "2022-04-01T08:44:12.773Z"
   },
   {
    "duration": 46,
    "start_time": "2022-04-01T08:44:12.789Z"
   },
   {
    "duration": 17,
    "start_time": "2022-04-01T08:44:12.838Z"
   },
   {
    "duration": 13,
    "start_time": "2022-04-01T08:44:12.857Z"
   },
   {
    "duration": 26,
    "start_time": "2022-04-01T08:44:12.871Z"
   },
   {
    "duration": 41,
    "start_time": "2022-04-01T08:44:12.899Z"
   },
   {
    "duration": 17,
    "start_time": "2022-04-01T08:44:12.942Z"
   },
   {
    "duration": 7,
    "start_time": "2022-04-01T08:44:12.961Z"
   },
   {
    "duration": 9,
    "start_time": "2022-04-01T08:44:12.970Z"
   },
   {
    "duration": 285,
    "start_time": "2022-04-01T08:44:12.981Z"
   },
   {
    "duration": 5,
    "start_time": "2022-04-01T08:44:13.268Z"
   },
   {
    "duration": 9,
    "start_time": "2022-04-01T08:44:13.275Z"
   },
   {
    "duration": 119,
    "start_time": "2022-04-01T08:44:13.285Z"
   },
   {
    "duration": 68,
    "start_time": "2022-04-01T08:44:13.406Z"
   },
   {
    "duration": 97,
    "start_time": "2022-04-01T08:44:13.478Z"
   },
   {
    "duration": 78,
    "start_time": "2022-04-01T08:44:13.577Z"
   },
   {
    "duration": 38,
    "start_time": "2022-04-01T08:44:13.657Z"
   },
   {
    "duration": 36,
    "start_time": "2022-04-01T08:44:13.697Z"
   },
   {
    "duration": 21,
    "start_time": "2022-04-01T08:44:13.738Z"
   },
   {
    "duration": 346,
    "start_time": "2022-04-01T08:44:13.761Z"
   },
   {
    "duration": 63,
    "start_time": "2022-04-01T08:44:14.108Z"
   },
   {
    "duration": 23,
    "start_time": "2022-04-01T08:44:14.173Z"
   },
   {
    "duration": 67,
    "start_time": "2022-04-01T08:44:14.197Z"
   },
   {
    "duration": 36,
    "start_time": "2022-04-01T08:44:14.266Z"
   },
   {
    "duration": 34,
    "start_time": "2022-04-01T08:44:14.304Z"
   },
   {
    "duration": 239,
    "start_time": "2022-04-01T08:44:14.343Z"
   },
   {
    "duration": 5,
    "start_time": "2022-04-01T08:44:14.583Z"
   },
   {
    "duration": 9,
    "start_time": "2022-04-01T08:44:14.589Z"
   },
   {
    "duration": 23,
    "start_time": "2022-04-01T08:44:14.600Z"
   },
   {
    "duration": 97,
    "start_time": "2022-04-01T08:44:14.635Z"
   },
   {
    "duration": 53,
    "start_time": "2022-04-01T08:44:14.740Z"
   },
   {
    "duration": 12,
    "start_time": "2022-04-01T08:44:14.795Z"
   },
   {
    "duration": 25,
    "start_time": "2022-04-01T08:44:14.809Z"
   },
   {
    "duration": 30,
    "start_time": "2022-04-01T08:44:14.839Z"
   },
   {
    "duration": 1422,
    "start_time": "2022-04-01T08:44:14.870Z"
   },
   {
    "duration": 143,
    "start_time": "2022-04-01T08:44:16.293Z"
   },
   {
    "duration": 12,
    "start_time": "2022-04-01T08:44:16.438Z"
   },
   {
    "duration": 261,
    "start_time": "2022-04-01T08:44:16.452Z"
   },
   {
    "duration": 79,
    "start_time": "2022-04-01T08:44:16.714Z"
   },
   {
    "duration": 17,
    "start_time": "2022-04-01T08:44:16.795Z"
   },
   {
    "duration": 3106,
    "start_time": "2022-04-01T08:44:16.814Z"
   },
   {
    "duration": 0,
    "start_time": "2022-04-01T08:44:19.924Z"
   },
   {
    "duration": 0,
    "start_time": "2022-04-01T08:44:19.925Z"
   },
   {
    "duration": 0,
    "start_time": "2022-04-01T08:44:19.926Z"
   },
   {
    "duration": 0,
    "start_time": "2022-04-01T08:44:19.927Z"
   },
   {
    "duration": 0,
    "start_time": "2022-04-01T08:44:19.928Z"
   },
   {
    "duration": 0,
    "start_time": "2022-04-01T08:44:19.930Z"
   },
   {
    "duration": 0,
    "start_time": "2022-04-01T08:44:19.931Z"
   },
   {
    "duration": 1,
    "start_time": "2022-04-01T08:44:19.932Z"
   },
   {
    "duration": 0,
    "start_time": "2022-04-01T08:44:19.935Z"
   },
   {
    "duration": 0,
    "start_time": "2022-04-01T08:44:19.936Z"
   },
   {
    "duration": 0,
    "start_time": "2022-04-01T08:44:19.941Z"
   },
   {
    "duration": 0,
    "start_time": "2022-04-01T08:44:19.943Z"
   },
   {
    "duration": 0,
    "start_time": "2022-04-01T08:44:19.947Z"
   },
   {
    "duration": 0,
    "start_time": "2022-04-01T08:44:19.949Z"
   },
   {
    "duration": 1,
    "start_time": "2022-04-01T08:44:19.950Z"
   },
   {
    "duration": 0,
    "start_time": "2022-04-01T08:44:19.952Z"
   },
   {
    "duration": 0,
    "start_time": "2022-04-01T08:44:19.953Z"
   },
   {
    "duration": 0,
    "start_time": "2022-04-01T08:44:19.955Z"
   },
   {
    "duration": 0,
    "start_time": "2022-04-01T08:44:19.957Z"
   },
   {
    "duration": 0,
    "start_time": "2022-04-01T08:44:19.958Z"
   },
   {
    "duration": 0,
    "start_time": "2022-04-01T08:44:19.960Z"
   },
   {
    "duration": 0,
    "start_time": "2022-04-01T08:44:19.962Z"
   },
   {
    "duration": 0,
    "start_time": "2022-04-01T08:44:19.964Z"
   },
   {
    "duration": 0,
    "start_time": "2022-04-01T08:44:19.965Z"
   },
   {
    "duration": 0,
    "start_time": "2022-04-01T08:44:19.967Z"
   },
   {
    "duration": 0,
    "start_time": "2022-04-01T08:44:19.969Z"
   },
   {
    "duration": 0,
    "start_time": "2022-04-01T08:44:19.970Z"
   },
   {
    "duration": 0,
    "start_time": "2022-04-01T08:44:19.972Z"
   },
   {
    "duration": 0,
    "start_time": "2022-04-01T08:44:19.974Z"
   },
   {
    "duration": 0,
    "start_time": "2022-04-01T08:44:20.034Z"
   },
   {
    "duration": 0,
    "start_time": "2022-04-01T08:44:20.035Z"
   },
   {
    "duration": 0,
    "start_time": "2022-04-01T08:44:20.045Z"
   },
   {
    "duration": 0,
    "start_time": "2022-04-01T08:44:20.047Z"
   },
   {
    "duration": 0,
    "start_time": "2022-04-01T08:44:20.048Z"
   },
   {
    "duration": 0,
    "start_time": "2022-04-01T08:44:20.050Z"
   },
   {
    "duration": 0,
    "start_time": "2022-04-01T08:44:20.052Z"
   },
   {
    "duration": 0,
    "start_time": "2022-04-01T08:44:20.053Z"
   },
   {
    "duration": 0,
    "start_time": "2022-04-01T08:44:20.054Z"
   },
   {
    "duration": 0,
    "start_time": "2022-04-01T08:44:20.055Z"
   },
   {
    "duration": 0,
    "start_time": "2022-04-01T08:44:20.056Z"
   },
   {
    "duration": 1553,
    "start_time": "2022-05-19T18:01:20.285Z"
   },
   {
    "duration": 1329,
    "start_time": "2022-05-19T18:01:21.840Z"
   },
   {
    "duration": 14,
    "start_time": "2022-05-19T18:01:23.170Z"
   },
   {
    "duration": 4,
    "start_time": "2022-05-19T18:01:23.187Z"
   },
   {
    "duration": 30,
    "start_time": "2022-05-19T18:01:23.193Z"
   },
   {
    "duration": 13,
    "start_time": "2022-05-19T18:01:23.225Z"
   },
   {
    "duration": 7,
    "start_time": "2022-05-19T18:01:23.240Z"
   },
   {
    "duration": 21,
    "start_time": "2022-05-19T18:01:23.248Z"
   },
   {
    "duration": 41,
    "start_time": "2022-05-19T18:01:23.271Z"
   },
   {
    "duration": 5,
    "start_time": "2022-05-19T18:01:23.314Z"
   },
   {
    "duration": 21,
    "start_time": "2022-05-19T18:01:23.320Z"
   },
   {
    "duration": 7,
    "start_time": "2022-05-19T18:01:23.343Z"
   },
   {
    "duration": 6,
    "start_time": "2022-05-19T18:01:23.351Z"
   },
   {
    "duration": 59,
    "start_time": "2022-05-19T18:01:23.359Z"
   },
   {
    "duration": 18,
    "start_time": "2022-05-19T18:01:23.421Z"
   },
   {
    "duration": 5,
    "start_time": "2022-05-19T18:01:23.441Z"
   },
   {
    "duration": 18,
    "start_time": "2022-05-19T18:01:23.447Z"
   },
   {
    "duration": 51,
    "start_time": "2022-05-19T18:01:23.467Z"
   },
   {
    "duration": 17,
    "start_time": "2022-05-19T18:01:23.519Z"
   },
   {
    "duration": 14,
    "start_time": "2022-05-19T18:01:23.538Z"
   },
   {
    "duration": 5,
    "start_time": "2022-05-19T18:01:23.554Z"
   },
   {
    "duration": 7,
    "start_time": "2022-05-19T18:01:23.561Z"
   },
   {
    "duration": 288,
    "start_time": "2022-05-19T18:01:23.569Z"
   },
   {
    "duration": 6,
    "start_time": "2022-05-19T18:01:23.859Z"
   },
   {
    "duration": 9,
    "start_time": "2022-05-19T18:01:23.867Z"
   },
   {
    "duration": 150,
    "start_time": "2022-05-19T18:01:23.878Z"
   },
   {
    "duration": 53,
    "start_time": "2022-05-19T18:01:24.030Z"
   },
   {
    "duration": 99,
    "start_time": "2022-05-19T18:01:24.089Z"
   },
   {
    "duration": 74,
    "start_time": "2022-05-19T18:01:24.190Z"
   },
   {
    "duration": 48,
    "start_time": "2022-05-19T18:01:24.266Z"
   },
   {
    "duration": 15,
    "start_time": "2022-05-19T18:01:24.316Z"
   },
   {
    "duration": 18,
    "start_time": "2022-05-19T18:01:24.333Z"
   },
   {
    "duration": 323,
    "start_time": "2022-05-19T18:01:24.354Z"
   },
   {
    "duration": 64,
    "start_time": "2022-05-19T18:01:24.679Z"
   },
   {
    "duration": 29,
    "start_time": "2022-05-19T18:01:24.746Z"
   },
   {
    "duration": 79,
    "start_time": "2022-05-19T18:01:24.777Z"
   },
   {
    "duration": 38,
    "start_time": "2022-05-19T18:01:24.857Z"
   },
   {
    "duration": 119,
    "start_time": "2022-05-19T18:01:24.911Z"
   },
   {
    "duration": 317,
    "start_time": "2022-05-19T18:01:25.032Z"
   },
   {
    "duration": 6,
    "start_time": "2022-05-19T18:01:25.351Z"
   },
   {
    "duration": 55,
    "start_time": "2022-05-19T18:01:25.359Z"
   },
   {
    "duration": 13,
    "start_time": "2022-05-19T18:01:25.416Z"
   },
   {
    "duration": 204,
    "start_time": "2022-05-19T18:01:25.431Z"
   },
   {
    "duration": 107,
    "start_time": "2022-05-19T18:01:25.637Z"
   },
   {
    "duration": 65,
    "start_time": "2022-05-19T18:01:25.747Z"
   },
   {
    "duration": 8,
    "start_time": "2022-05-19T18:01:25.813Z"
   },
   {
    "duration": 37,
    "start_time": "2022-05-19T18:01:25.823Z"
   },
   {
    "duration": 1989,
    "start_time": "2022-05-19T18:01:25.912Z"
   },
   {
    "duration": 128,
    "start_time": "2022-05-19T18:01:27.902Z"
   },
   {
    "duration": 6,
    "start_time": "2022-05-19T18:01:28.032Z"
   },
   {
    "duration": 210,
    "start_time": "2022-05-19T18:01:28.039Z"
   },
   {
    "duration": 68,
    "start_time": "2022-05-19T18:01:28.251Z"
   },
   {
    "duration": 19,
    "start_time": "2022-05-19T18:01:28.320Z"
   },
   {
    "duration": 143,
    "start_time": "2022-05-19T18:01:28.341Z"
   },
   {
    "duration": 0,
    "start_time": "2022-05-19T18:01:28.487Z"
   },
   {
    "duration": 0,
    "start_time": "2022-05-19T18:01:28.489Z"
   },
   {
    "duration": 0,
    "start_time": "2022-05-19T18:01:28.490Z"
   },
   {
    "duration": 0,
    "start_time": "2022-05-19T18:01:28.491Z"
   },
   {
    "duration": 0,
    "start_time": "2022-05-19T18:01:28.492Z"
   },
   {
    "duration": 0,
    "start_time": "2022-05-19T18:01:28.493Z"
   },
   {
    "duration": 0,
    "start_time": "2022-05-19T18:01:28.495Z"
   },
   {
    "duration": 0,
    "start_time": "2022-05-19T18:01:28.496Z"
   },
   {
    "duration": 0,
    "start_time": "2022-05-19T18:01:28.513Z"
   },
   {
    "duration": 0,
    "start_time": "2022-05-19T18:01:28.514Z"
   },
   {
    "duration": 0,
    "start_time": "2022-05-19T18:01:28.516Z"
   },
   {
    "duration": 0,
    "start_time": "2022-05-19T18:01:28.517Z"
   },
   {
    "duration": 0,
    "start_time": "2022-05-19T18:01:28.518Z"
   },
   {
    "duration": 0,
    "start_time": "2022-05-19T18:01:28.519Z"
   },
   {
    "duration": 0,
    "start_time": "2022-05-19T18:01:28.520Z"
   },
   {
    "duration": 0,
    "start_time": "2022-05-19T18:01:28.521Z"
   },
   {
    "duration": 0,
    "start_time": "2022-05-19T18:01:28.523Z"
   },
   {
    "duration": 0,
    "start_time": "2022-05-19T18:01:28.524Z"
   },
   {
    "duration": 0,
    "start_time": "2022-05-19T18:01:28.526Z"
   },
   {
    "duration": 0,
    "start_time": "2022-05-19T18:01:28.527Z"
   },
   {
    "duration": 0,
    "start_time": "2022-05-19T18:01:28.528Z"
   },
   {
    "duration": 0,
    "start_time": "2022-05-19T18:01:28.529Z"
   },
   {
    "duration": 0,
    "start_time": "2022-05-19T18:01:28.530Z"
   },
   {
    "duration": 0,
    "start_time": "2022-05-19T18:01:28.532Z"
   },
   {
    "duration": 0,
    "start_time": "2022-05-19T18:01:28.533Z"
   },
   {
    "duration": 0,
    "start_time": "2022-05-19T18:01:28.534Z"
   },
   {
    "duration": 0,
    "start_time": "2022-05-19T18:01:28.536Z"
   },
   {
    "duration": 0,
    "start_time": "2022-05-19T18:01:28.536Z"
   },
   {
    "duration": 0,
    "start_time": "2022-05-19T18:01:28.538Z"
   },
   {
    "duration": 0,
    "start_time": "2022-05-19T18:01:28.539Z"
   },
   {
    "duration": 0,
    "start_time": "2022-05-19T18:01:28.541Z"
   },
   {
    "duration": 0,
    "start_time": "2022-05-19T18:01:28.543Z"
   },
   {
    "duration": 0,
    "start_time": "2022-05-19T18:01:28.545Z"
   },
   {
    "duration": 0,
    "start_time": "2022-05-19T18:01:28.546Z"
   },
   {
    "duration": 0,
    "start_time": "2022-05-19T18:01:28.547Z"
   },
   {
    "duration": 0,
    "start_time": "2022-05-19T18:01:28.548Z"
   },
   {
    "duration": 0,
    "start_time": "2022-05-19T18:01:28.550Z"
   },
   {
    "duration": 0,
    "start_time": "2022-05-19T18:01:28.616Z"
   },
   {
    "duration": 0,
    "start_time": "2022-05-19T18:01:28.618Z"
   },
   {
    "duration": 0,
    "start_time": "2022-05-19T18:01:28.619Z"
   },
   {
    "duration": 1319,
    "start_time": "2022-05-22T09:21:04.916Z"
   },
   {
    "duration": 767,
    "start_time": "2022-05-22T09:21:06.237Z"
   },
   {
    "duration": 12,
    "start_time": "2022-05-22T09:21:07.005Z"
   },
   {
    "duration": 14,
    "start_time": "2022-05-22T09:21:07.020Z"
   },
   {
    "duration": 41,
    "start_time": "2022-05-22T09:21:07.036Z"
   },
   {
    "duration": 15,
    "start_time": "2022-05-22T09:21:07.078Z"
   },
   {
    "duration": 6,
    "start_time": "2022-05-22T09:21:07.095Z"
   },
   {
    "duration": 33,
    "start_time": "2022-05-22T09:21:07.103Z"
   },
   {
    "duration": 14,
    "start_time": "2022-05-22T09:21:07.138Z"
   },
   {
    "duration": 6,
    "start_time": "2022-05-22T09:21:07.155Z"
   },
   {
    "duration": 22,
    "start_time": "2022-05-22T09:21:07.163Z"
   },
   {
    "duration": 8,
    "start_time": "2022-05-22T09:21:07.188Z"
   },
   {
    "duration": 37,
    "start_time": "2022-05-22T09:21:07.198Z"
   },
   {
    "duration": 13,
    "start_time": "2022-05-22T09:21:07.238Z"
   },
   {
    "duration": 20,
    "start_time": "2022-05-22T09:21:07.252Z"
   },
   {
    "duration": 12,
    "start_time": "2022-05-22T09:21:07.273Z"
   },
   {
    "duration": 20,
    "start_time": "2022-05-22T09:21:07.287Z"
   },
   {
    "duration": 42,
    "start_time": "2022-05-22T09:21:07.308Z"
   },
   {
    "duration": 20,
    "start_time": "2022-05-22T09:21:07.352Z"
   },
   {
    "duration": 18,
    "start_time": "2022-05-22T09:21:07.373Z"
   },
   {
    "duration": 6,
    "start_time": "2022-05-22T09:21:07.393Z"
   },
   {
    "duration": 35,
    "start_time": "2022-05-22T09:21:07.401Z"
   },
   {
    "duration": 249,
    "start_time": "2022-05-22T09:21:07.437Z"
   },
   {
    "duration": 5,
    "start_time": "2022-05-22T09:21:07.688Z"
   },
   {
    "duration": 8,
    "start_time": "2022-05-22T09:21:07.695Z"
   },
   {
    "duration": 99,
    "start_time": "2022-05-22T09:21:07.704Z"
   },
   {
    "duration": 66,
    "start_time": "2022-05-22T09:21:07.805Z"
   },
   {
    "duration": 86,
    "start_time": "2022-05-22T09:21:07.876Z"
   },
   {
    "duration": 78,
    "start_time": "2022-05-22T09:21:07.963Z"
   },
   {
    "duration": 40,
    "start_time": "2022-05-22T09:21:08.042Z"
   },
   {
    "duration": 16,
    "start_time": "2022-05-22T09:21:08.083Z"
   },
   {
    "duration": 46,
    "start_time": "2022-05-22T09:21:08.101Z"
   },
   {
    "duration": 387,
    "start_time": "2022-05-22T09:21:08.148Z"
   },
   {
    "duration": 99,
    "start_time": "2022-05-22T09:21:08.537Z"
   },
   {
    "duration": 21,
    "start_time": "2022-05-22T09:21:08.638Z"
   },
   {
    "duration": 92,
    "start_time": "2022-05-22T09:21:08.661Z"
   },
   {
    "duration": 102,
    "start_time": "2022-05-22T09:21:08.755Z"
   },
   {
    "duration": 206,
    "start_time": "2022-05-22T09:21:08.859Z"
   },
   {
    "duration": 467,
    "start_time": "2022-05-22T09:21:09.067Z"
   },
   {
    "duration": 5,
    "start_time": "2022-05-22T09:21:09.536Z"
   },
   {
    "duration": 6,
    "start_time": "2022-05-22T09:21:09.543Z"
   },
   {
    "duration": 15,
    "start_time": "2022-05-22T09:21:09.551Z"
   },
   {
    "duration": 204,
    "start_time": "2022-05-22T09:21:09.567Z"
   },
   {
    "duration": 95,
    "start_time": "2022-05-22T09:21:09.773Z"
   },
   {
    "duration": 70,
    "start_time": "2022-05-22T09:21:09.869Z"
   },
   {
    "duration": 11,
    "start_time": "2022-05-22T09:21:09.942Z"
   },
   {
    "duration": 81,
    "start_time": "2022-05-22T09:21:09.955Z"
   },
   {
    "duration": 1592,
    "start_time": "2022-05-22T09:21:10.038Z"
   },
   {
    "duration": 142,
    "start_time": "2022-05-22T09:21:11.631Z"
   },
   {
    "duration": 9,
    "start_time": "2022-05-22T09:21:11.775Z"
   },
   {
    "duration": 250,
    "start_time": "2022-05-22T09:21:11.785Z"
   },
   {
    "duration": 62,
    "start_time": "2022-05-22T09:21:12.036Z"
   },
   {
    "duration": 17,
    "start_time": "2022-05-22T09:21:12.099Z"
   },
   {
    "duration": 150,
    "start_time": "2022-05-22T09:21:12.123Z"
   },
   {
    "duration": 0,
    "start_time": "2022-05-22T09:21:12.276Z"
   },
   {
    "duration": 0,
    "start_time": "2022-05-22T09:21:12.277Z"
   },
   {
    "duration": 0,
    "start_time": "2022-05-22T09:21:12.278Z"
   },
   {
    "duration": 0,
    "start_time": "2022-05-22T09:21:12.279Z"
   },
   {
    "duration": 0,
    "start_time": "2022-05-22T09:21:12.280Z"
   },
   {
    "duration": 0,
    "start_time": "2022-05-22T09:21:12.281Z"
   },
   {
    "duration": 0,
    "start_time": "2022-05-22T09:21:12.282Z"
   },
   {
    "duration": 0,
    "start_time": "2022-05-22T09:21:12.283Z"
   },
   {
    "duration": 0,
    "start_time": "2022-05-22T09:21:12.284Z"
   },
   {
    "duration": 0,
    "start_time": "2022-05-22T09:21:12.285Z"
   },
   {
    "duration": 0,
    "start_time": "2022-05-22T09:21:12.286Z"
   },
   {
    "duration": 0,
    "start_time": "2022-05-22T09:21:12.287Z"
   },
   {
    "duration": 0,
    "start_time": "2022-05-22T09:21:12.288Z"
   },
   {
    "duration": 0,
    "start_time": "2022-05-22T09:21:12.289Z"
   },
   {
    "duration": 0,
    "start_time": "2022-05-22T09:21:12.290Z"
   },
   {
    "duration": 0,
    "start_time": "2022-05-22T09:21:12.291Z"
   },
   {
    "duration": 1,
    "start_time": "2022-05-22T09:21:12.291Z"
   },
   {
    "duration": 0,
    "start_time": "2022-05-22T09:21:12.293Z"
   },
   {
    "duration": 0,
    "start_time": "2022-05-22T09:21:12.293Z"
   },
   {
    "duration": 0,
    "start_time": "2022-05-22T09:21:12.294Z"
   },
   {
    "duration": 0,
    "start_time": "2022-05-22T09:21:12.295Z"
   },
   {
    "duration": 0,
    "start_time": "2022-05-22T09:21:12.296Z"
   },
   {
    "duration": 0,
    "start_time": "2022-05-22T09:21:12.326Z"
   },
   {
    "duration": 0,
    "start_time": "2022-05-22T09:21:12.327Z"
   },
   {
    "duration": 0,
    "start_time": "2022-05-22T09:21:12.336Z"
   },
   {
    "duration": 0,
    "start_time": "2022-05-22T09:21:12.338Z"
   },
   {
    "duration": 0,
    "start_time": "2022-05-22T09:21:12.339Z"
   },
   {
    "duration": 0,
    "start_time": "2022-05-22T09:21:12.340Z"
   },
   {
    "duration": 0,
    "start_time": "2022-05-22T09:21:12.341Z"
   },
   {
    "duration": 0,
    "start_time": "2022-05-22T09:21:12.342Z"
   },
   {
    "duration": 0,
    "start_time": "2022-05-22T09:21:12.343Z"
   },
   {
    "duration": 0,
    "start_time": "2022-05-22T09:21:12.344Z"
   },
   {
    "duration": 0,
    "start_time": "2022-05-22T09:21:12.345Z"
   },
   {
    "duration": 0,
    "start_time": "2022-05-22T09:21:12.346Z"
   },
   {
    "duration": 0,
    "start_time": "2022-05-22T09:21:12.347Z"
   },
   {
    "duration": 0,
    "start_time": "2022-05-22T09:21:12.348Z"
   },
   {
    "duration": 0,
    "start_time": "2022-05-22T09:21:12.349Z"
   },
   {
    "duration": 0,
    "start_time": "2022-05-22T09:21:12.350Z"
   },
   {
    "duration": 0,
    "start_time": "2022-05-22T09:21:12.351Z"
   },
   {
    "duration": 0,
    "start_time": "2022-05-22T09:21:12.352Z"
   },
   {
    "duration": 37,
    "start_time": "2022-05-22T09:22:58.012Z"
   },
   {
    "duration": 3,
    "start_time": "2022-05-22T09:23:00.294Z"
   },
   {
    "duration": 489,
    "start_time": "2022-05-22T09:23:00.301Z"
   },
   {
    "duration": 9,
    "start_time": "2022-05-22T09:23:00.792Z"
   },
   {
    "duration": 42,
    "start_time": "2022-05-22T09:23:00.802Z"
   },
   {
    "duration": 45,
    "start_time": "2022-05-22T09:23:00.846Z"
   },
   {
    "duration": 12,
    "start_time": "2022-05-22T09:23:00.893Z"
   },
   {
    "duration": 30,
    "start_time": "2022-05-22T09:23:00.907Z"
   },
   {
    "duration": 56,
    "start_time": "2022-05-22T09:23:00.939Z"
   },
   {
    "duration": 10,
    "start_time": "2022-05-22T09:23:00.997Z"
   },
   {
    "duration": 4,
    "start_time": "2022-05-22T09:23:01.009Z"
   },
   {
    "duration": 42,
    "start_time": "2022-05-22T09:23:01.016Z"
   },
   {
    "duration": 8,
    "start_time": "2022-05-22T09:23:01.060Z"
   },
   {
    "duration": 15,
    "start_time": "2022-05-22T09:23:01.069Z"
   },
   {
    "duration": 19,
    "start_time": "2022-05-22T09:23:01.085Z"
   },
   {
    "duration": 29,
    "start_time": "2022-05-22T09:23:01.106Z"
   },
   {
    "duration": 13,
    "start_time": "2022-05-22T09:23:01.137Z"
   },
   {
    "duration": 23,
    "start_time": "2022-05-22T09:23:01.151Z"
   },
   {
    "duration": 28,
    "start_time": "2022-05-22T09:23:01.175Z"
   },
   {
    "duration": 30,
    "start_time": "2022-05-22T09:23:01.204Z"
   },
   {
    "duration": 58,
    "start_time": "2022-05-22T09:23:01.236Z"
   },
   {
    "duration": 19,
    "start_time": "2022-05-22T09:23:01.296Z"
   },
   {
    "duration": 49,
    "start_time": "2022-05-22T09:23:01.316Z"
   },
   {
    "duration": 227,
    "start_time": "2022-05-22T09:23:01.367Z"
   },
   {
    "duration": 6,
    "start_time": "2022-05-22T09:23:01.596Z"
   },
   {
    "duration": 7,
    "start_time": "2022-05-22T09:23:01.604Z"
   },
   {
    "duration": 97,
    "start_time": "2022-05-22T09:23:01.613Z"
   },
   {
    "duration": 71,
    "start_time": "2022-05-22T09:23:01.712Z"
   },
   {
    "duration": 84,
    "start_time": "2022-05-22T09:23:01.784Z"
   },
   {
    "duration": 86,
    "start_time": "2022-05-22T09:23:01.874Z"
   },
   {
    "duration": 47,
    "start_time": "2022-05-22T09:23:01.962Z"
   },
   {
    "duration": 24,
    "start_time": "2022-05-22T09:23:02.023Z"
   },
   {
    "duration": 28,
    "start_time": "2022-05-22T09:23:02.049Z"
   },
   {
    "duration": 335,
    "start_time": "2022-05-22T09:23:02.079Z"
   },
   {
    "duration": 50,
    "start_time": "2022-05-22T09:23:02.415Z"
   },
   {
    "duration": 22,
    "start_time": "2022-05-22T09:23:02.466Z"
   },
   {
    "duration": 78,
    "start_time": "2022-05-22T09:23:02.489Z"
   },
   {
    "duration": 44,
    "start_time": "2022-05-22T09:23:02.569Z"
   },
   {
    "duration": 26,
    "start_time": "2022-05-22T09:23:02.623Z"
   },
   {
    "duration": 258,
    "start_time": "2022-05-22T09:23:02.651Z"
   },
   {
    "duration": 4,
    "start_time": "2022-05-22T09:23:02.910Z"
   },
   {
    "duration": 11,
    "start_time": "2022-05-22T09:23:02.915Z"
   },
   {
    "duration": 15,
    "start_time": "2022-05-22T09:23:02.935Z"
   },
   {
    "duration": 87,
    "start_time": "2022-05-22T09:23:02.951Z"
   },
   {
    "duration": 128,
    "start_time": "2022-05-22T09:23:03.040Z"
   },
   {
    "duration": 11,
    "start_time": "2022-05-22T09:23:03.170Z"
   },
   {
    "duration": 9,
    "start_time": "2022-05-22T09:23:03.182Z"
   },
   {
    "duration": 24,
    "start_time": "2022-05-22T09:23:03.192Z"
   },
   {
    "duration": 1308,
    "start_time": "2022-05-22T09:23:03.226Z"
   },
   {
    "duration": 119,
    "start_time": "2022-05-22T09:23:04.536Z"
   },
   {
    "duration": 6,
    "start_time": "2022-05-22T09:23:04.657Z"
   },
   {
    "duration": 224,
    "start_time": "2022-05-22T09:23:04.665Z"
   },
   {
    "duration": 71,
    "start_time": "2022-05-22T09:23:04.890Z"
   },
   {
    "duration": 17,
    "start_time": "2022-05-22T09:23:04.963Z"
   },
   {
    "duration": 22,
    "start_time": "2022-05-22T09:23:04.981Z"
   },
   {
    "duration": 234,
    "start_time": "2022-05-22T09:23:05.034Z"
   },
   {
    "duration": 201,
    "start_time": "2022-05-22T09:23:05.269Z"
   },
   {
    "duration": 340,
    "start_time": "2022-05-22T09:23:05.471Z"
   },
   {
    "duration": 247,
    "start_time": "2022-05-22T09:23:05.813Z"
   },
   {
    "duration": 239,
    "start_time": "2022-05-22T09:23:06.062Z"
   },
   {
    "duration": 135,
    "start_time": "2022-05-22T09:23:06.302Z"
   },
   {
    "duration": 105,
    "start_time": "2022-05-22T09:23:06.439Z"
   },
   {
    "duration": 225,
    "start_time": "2022-05-22T09:23:06.545Z"
   },
   {
    "duration": 4,
    "start_time": "2022-05-22T09:23:06.772Z"
   },
   {
    "duration": 259,
    "start_time": "2022-05-22T09:23:06.777Z"
   },
   {
    "duration": 127,
    "start_time": "2022-05-22T09:23:07.038Z"
   },
   {
    "duration": 269,
    "start_time": "2022-05-22T09:23:07.167Z"
   },
   {
    "duration": 244,
    "start_time": "2022-05-22T09:23:07.438Z"
   },
   {
    "duration": 4,
    "start_time": "2022-05-22T09:23:07.684Z"
   },
   {
    "duration": 256,
    "start_time": "2022-05-22T09:23:07.690Z"
   },
   {
    "duration": 129,
    "start_time": "2022-05-22T09:23:07.948Z"
   },
   {
    "duration": 135,
    "start_time": "2022-05-22T09:23:08.078Z"
   },
   {
    "duration": 232,
    "start_time": "2022-05-22T09:23:08.214Z"
   },
   {
    "duration": 5,
    "start_time": "2022-05-22T09:23:08.448Z"
   },
   {
    "duration": 251,
    "start_time": "2022-05-22T09:23:08.455Z"
   },
   {
    "duration": 244,
    "start_time": "2022-05-22T09:23:08.708Z"
   },
   {
    "duration": 138,
    "start_time": "2022-05-22T09:23:08.954Z"
   },
   {
    "duration": 276,
    "start_time": "2022-05-22T09:23:09.094Z"
   },
   {
    "duration": 4,
    "start_time": "2022-05-22T09:23:09.371Z"
   },
   {
    "duration": 241,
    "start_time": "2022-05-22T09:23:09.377Z"
   },
   {
    "duration": 122,
    "start_time": "2022-05-22T09:23:09.619Z"
   },
   {
    "duration": 110,
    "start_time": "2022-05-22T09:23:09.743Z"
   },
   {
    "duration": 243,
    "start_time": "2022-05-22T09:23:09.855Z"
   },
   {
    "duration": 4,
    "start_time": "2022-05-22T09:23:10.103Z"
   },
   {
    "duration": 351,
    "start_time": "2022-05-22T09:23:10.109Z"
   },
   {
    "duration": 109,
    "start_time": "2022-05-22T09:23:10.461Z"
   },
   {
    "duration": 281,
    "start_time": "2022-05-22T09:23:10.572Z"
   },
   {
    "duration": 511,
    "start_time": "2022-05-22T09:23:10.854Z"
   },
   {
    "duration": 4,
    "start_time": "2022-05-22T09:23:11.366Z"
   },
   {
    "duration": 86,
    "start_time": "2022-05-22T09:23:11.371Z"
   },
   {
    "duration": 113,
    "start_time": "2022-05-22T09:23:11.458Z"
   },
   {
    "duration": 67,
    "start_time": "2022-05-22T09:23:11.573Z"
   },
   {
    "duration": 5,
    "start_time": "2022-05-22T09:23:11.642Z"
   },
   {
    "duration": 12,
    "start_time": "2022-05-22T09:23:11.649Z"
   },
   {
    "duration": 5,
    "start_time": "2022-05-22T09:23:11.663Z"
   },
   {
    "duration": 8,
    "start_time": "2022-05-22T09:23:22.755Z"
   }
  ],
  "kernelspec": {
   "display_name": "Python 3 (ipykernel)",
   "language": "python",
   "name": "python3"
  },
  "language_info": {
   "codemirror_mode": {
    "name": "ipython",
    "version": 3
   },
   "file_extension": ".py",
   "mimetype": "text/x-python",
   "name": "python",
   "nbconvert_exporter": "python",
   "pygments_lexer": "ipython3",
   "version": "3.9.7"
  },
  "toc": {
   "base_numbering": 1,
   "nav_menu": {
    "height": "257.003px",
    "width": "422.997px"
   },
   "number_sections": false,
   "sideBar": true,
   "skip_h1_title": false,
   "title_cell": "Table of Contents",
   "title_sidebar": "Contents",
   "toc_cell": false,
   "toc_position": {
    "height": "calc(100% - 180px)",
    "left": "10px",
    "top": "150px",
    "width": "449.391px"
   },
   "toc_section_display": true,
   "toc_window_display": true
  }
 },
 "nbformat": 4,
 "nbformat_minor": 2
}
