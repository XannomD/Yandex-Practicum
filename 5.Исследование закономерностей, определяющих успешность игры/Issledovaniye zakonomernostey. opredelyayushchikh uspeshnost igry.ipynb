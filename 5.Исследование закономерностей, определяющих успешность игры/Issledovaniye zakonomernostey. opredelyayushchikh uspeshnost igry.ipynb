{
 "cells": [
  {
   "cell_type": "markdown",
   "metadata": {},
   "source": [
    "# Исследование закономерностей, определяющих успешность игры\n",
    "\n",
    "У нас есть данные из интернет-магазине «Стримчик», который продаёт по всему миру компьютерные игры. Из открытых источников доступны исторические данные о продажах игр, оценки пользователей и экспертов, жанры и платформы (например, Xbox или PlayStation).\n",
    "\n",
    "**Цель исследования** - нам нужно выявить определяющие успешность игры закономерности. Это позволит сделать ставку на потенциально популярный продукт и спланировать рекламные кампании.\n",
    "\n",
    "**Гипотезы:**\n",
    "* Средние пользовательские рейтинги платформ Xbox One и PC одинаковые;\n",
    "* Средние пользовательские рейтинги жанров Action (англ. «действие», экшен-игры) и Sports (англ. «спортивные соревнования») разные.\n",
    "\n",
    "**Описание данных:**\n",
    "Перед нами данные до 2016 года. Представим, что сейчас декабрь 2016 г., и вы планируете кампанию на 2017-й. Нужно отработать принцип работы с данными. Неважно, прогнозируете ли вы продажи на 2017 год по данным 2016-го или же 2027-й — по данным 2026 года.\n",
    "В наборе данных попадается аббревиатура ESRB (Entertainment Software Rating Board) — это ассоциация, определяющая возрастной рейтинг компьютерных игр. ESRB оценивает игровой контент и присваивает ему подходящую возрастную категорию, например, «Для взрослых», «Для детей младшего возраста» или «Для подростков»."
   ]
  },
  {
   "cell_type": "markdown",
   "metadata": {},
   "source": [
    "## Изучение данных"
   ]
  },
  {
   "cell_type": "markdown",
   "metadata": {},
   "source": [
    "Импортируем все библиотеки Pandas, которые нам могут пригодиться:"
   ]
  },
  {
   "cell_type": "code",
   "execution_count": 260,
   "metadata": {},
   "outputs": [],
   "source": [
    "import pandas as pd\n",
    "import warnings \n",
    "warnings.simplefilter('ignore')\n",
    "import numpy as np\n",
    "import matplotlib.pyplot as plt\n",
    "from scipy import stats as st\n",
    "import seaborn as sns"
   ]
  },
  {
   "cell_type": "code",
   "execution_count": 261,
   "metadata": {},
   "outputs": [],
   "source": [
    "dataset=pd.read_csv('games.csv')"
   ]
  },
  {
   "cell_type": "code",
   "execution_count": 262,
   "metadata": {},
   "outputs": [
    {
     "data": {
      "text/html": [
       "<div>\n",
       "<style scoped>\n",
       "    .dataframe tbody tr th:only-of-type {\n",
       "        vertical-align: middle;\n",
       "    }\n",
       "\n",
       "    .dataframe tbody tr th {\n",
       "        vertical-align: top;\n",
       "    }\n",
       "\n",
       "    .dataframe thead th {\n",
       "        text-align: right;\n",
       "    }\n",
       "</style>\n",
       "<table border=\"1\" class=\"dataframe\">\n",
       "  <thead>\n",
       "    <tr style=\"text-align: right;\">\n",
       "      <th></th>\n",
       "      <th>Name</th>\n",
       "      <th>Platform</th>\n",
       "      <th>Year_of_Release</th>\n",
       "      <th>Genre</th>\n",
       "      <th>NA_sales</th>\n",
       "      <th>EU_sales</th>\n",
       "      <th>JP_sales</th>\n",
       "      <th>Other_sales</th>\n",
       "      <th>Critic_Score</th>\n",
       "      <th>User_Score</th>\n",
       "      <th>Rating</th>\n",
       "    </tr>\n",
       "  </thead>\n",
       "  <tbody>\n",
       "    <tr>\n",
       "      <th>14118</th>\n",
       "      <td>My World, My Way (US sales)</td>\n",
       "      <td>DS</td>\n",
       "      <td>2008.0</td>\n",
       "      <td>Role-Playing</td>\n",
       "      <td>0.04</td>\n",
       "      <td>0.00</td>\n",
       "      <td>0.00</td>\n",
       "      <td>0.00</td>\n",
       "      <td>NaN</td>\n",
       "      <td>NaN</td>\n",
       "      <td>NaN</td>\n",
       "    </tr>\n",
       "    <tr>\n",
       "      <th>894</th>\n",
       "      <td>Mortal Kombat vs. DC Universe</td>\n",
       "      <td>X360</td>\n",
       "      <td>2008.0</td>\n",
       "      <td>Fighting</td>\n",
       "      <td>1.53</td>\n",
       "      <td>0.23</td>\n",
       "      <td>0.00</td>\n",
       "      <td>0.16</td>\n",
       "      <td>72.0</td>\n",
       "      <td>7.5</td>\n",
       "      <td>T</td>\n",
       "    </tr>\n",
       "    <tr>\n",
       "      <th>11881</th>\n",
       "      <td>SD Gundam: Gashapon Wars</td>\n",
       "      <td>GC</td>\n",
       "      <td>2005.0</td>\n",
       "      <td>Strategy</td>\n",
       "      <td>0.00</td>\n",
       "      <td>0.00</td>\n",
       "      <td>0.07</td>\n",
       "      <td>0.00</td>\n",
       "      <td>NaN</td>\n",
       "      <td>NaN</td>\n",
       "      <td>NaN</td>\n",
       "    </tr>\n",
       "    <tr>\n",
       "      <th>3129</th>\n",
       "      <td>Crash Bandicoot Purple: Ripto's Rampage</td>\n",
       "      <td>GBA</td>\n",
       "      <td>2004.0</td>\n",
       "      <td>Platform</td>\n",
       "      <td>0.46</td>\n",
       "      <td>0.17</td>\n",
       "      <td>0.00</td>\n",
       "      <td>0.01</td>\n",
       "      <td>67.0</td>\n",
       "      <td>6.6</td>\n",
       "      <td>E</td>\n",
       "    </tr>\n",
       "    <tr>\n",
       "      <th>3912</th>\n",
       "      <td>Disney's Kim Possible: Revenge of Monkey Fist</td>\n",
       "      <td>GBA</td>\n",
       "      <td>2002.0</td>\n",
       "      <td>Platform</td>\n",
       "      <td>0.37</td>\n",
       "      <td>0.14</td>\n",
       "      <td>0.00</td>\n",
       "      <td>0.01</td>\n",
       "      <td>62.0</td>\n",
       "      <td>8.8</td>\n",
       "      <td>E</td>\n",
       "    </tr>\n",
       "    <tr>\n",
       "      <th>8638</th>\n",
       "      <td>Burger Island</td>\n",
       "      <td>DS</td>\n",
       "      <td>2008.0</td>\n",
       "      <td>Action</td>\n",
       "      <td>0.15</td>\n",
       "      <td>0.00</td>\n",
       "      <td>0.00</td>\n",
       "      <td>0.01</td>\n",
       "      <td>NaN</td>\n",
       "      <td>tbd</td>\n",
       "      <td>E</td>\n",
       "    </tr>\n",
       "    <tr>\n",
       "      <th>3448</th>\n",
       "      <td>Skylanders SWAP Force</td>\n",
       "      <td>WiiU</td>\n",
       "      <td>2013.0</td>\n",
       "      <td>Platform</td>\n",
       "      <td>0.38</td>\n",
       "      <td>0.15</td>\n",
       "      <td>0.00</td>\n",
       "      <td>0.05</td>\n",
       "      <td>89.0</td>\n",
       "      <td>6</td>\n",
       "      <td>E10+</td>\n",
       "    </tr>\n",
       "    <tr>\n",
       "      <th>15577</th>\n",
       "      <td>Kung Fu Panda: Showdown of Legendary Legends</td>\n",
       "      <td>PS3</td>\n",
       "      <td>2015.0</td>\n",
       "      <td>Action</td>\n",
       "      <td>0.00</td>\n",
       "      <td>0.02</td>\n",
       "      <td>0.00</td>\n",
       "      <td>0.00</td>\n",
       "      <td>NaN</td>\n",
       "      <td>tbd</td>\n",
       "      <td>E10+</td>\n",
       "    </tr>\n",
       "    <tr>\n",
       "      <th>5018</th>\n",
       "      <td>Saints Row: The Third</td>\n",
       "      <td>PC</td>\n",
       "      <td>2011.0</td>\n",
       "      <td>Action</td>\n",
       "      <td>0.16</td>\n",
       "      <td>0.16</td>\n",
       "      <td>0.00</td>\n",
       "      <td>0.06</td>\n",
       "      <td>84.0</td>\n",
       "      <td>8.1</td>\n",
       "      <td>M</td>\n",
       "    </tr>\n",
       "    <tr>\n",
       "      <th>11909</th>\n",
       "      <td>Circus Maximus: Chariot Wars</td>\n",
       "      <td>XB</td>\n",
       "      <td>2002.0</td>\n",
       "      <td>Racing</td>\n",
       "      <td>0.05</td>\n",
       "      <td>0.02</td>\n",
       "      <td>0.00</td>\n",
       "      <td>0.00</td>\n",
       "      <td>67.0</td>\n",
       "      <td>5</td>\n",
       "      <td>T</td>\n",
       "    </tr>\n",
       "  </tbody>\n",
       "</table>\n",
       "</div>"
      ],
      "text/plain": [
       "                                                Name Platform  \\\n",
       "14118                    My World, My Way (US sales)       DS   \n",
       "894                    Mortal Kombat vs. DC Universe     X360   \n",
       "11881                       SD Gundam: Gashapon Wars       GC   \n",
       "3129         Crash Bandicoot Purple: Ripto's Rampage      GBA   \n",
       "3912   Disney's Kim Possible: Revenge of Monkey Fist      GBA   \n",
       "8638                                   Burger Island       DS   \n",
       "3448                           Skylanders SWAP Force     WiiU   \n",
       "15577   Kung Fu Panda: Showdown of Legendary Legends      PS3   \n",
       "5018                           Saints Row: The Third       PC   \n",
       "11909                   Circus Maximus: Chariot Wars       XB   \n",
       "\n",
       "       Year_of_Release         Genre  NA_sales  EU_sales  JP_sales  \\\n",
       "14118           2008.0  Role-Playing      0.04      0.00      0.00   \n",
       "894             2008.0      Fighting      1.53      0.23      0.00   \n",
       "11881           2005.0      Strategy      0.00      0.00      0.07   \n",
       "3129            2004.0      Platform      0.46      0.17      0.00   \n",
       "3912            2002.0      Platform      0.37      0.14      0.00   \n",
       "8638            2008.0        Action      0.15      0.00      0.00   \n",
       "3448            2013.0      Platform      0.38      0.15      0.00   \n",
       "15577           2015.0        Action      0.00      0.02      0.00   \n",
       "5018            2011.0        Action      0.16      0.16      0.00   \n",
       "11909           2002.0        Racing      0.05      0.02      0.00   \n",
       "\n",
       "       Other_sales  Critic_Score User_Score Rating  \n",
       "14118         0.00           NaN        NaN    NaN  \n",
       "894           0.16          72.0        7.5      T  \n",
       "11881         0.00           NaN        NaN    NaN  \n",
       "3129          0.01          67.0        6.6      E  \n",
       "3912          0.01          62.0        8.8      E  \n",
       "8638          0.01           NaN        tbd      E  \n",
       "3448          0.05          89.0          6   E10+  \n",
       "15577         0.00           NaN        tbd   E10+  \n",
       "5018          0.06          84.0        8.1      M  \n",
       "11909         0.00          67.0          5      T  "
      ]
     },
     "execution_count": 262,
     "metadata": {},
     "output_type": "execute_result"
    }
   ],
   "source": [
    "dataset.sample(10)"
   ]
  },
  {
   "cell_type": "markdown",
   "metadata": {},
   "source": [
    "* Name — название игры\n",
    "* Platform — платформа\n",
    "* Year_of_Release — год выпуска\n",
    "* Genre — жанр игры\n",
    "* NA_sales — продажи в Северной Америке (миллионы проданных копий)\n",
    "* EU_sales — продажи в Европе (миллионы проданных копий)\n",
    "* JP_sales — продажи в Японии (миллионы проданных копий)\n",
    "* Other_sales — продажи в других странах (миллионы проданных копий)\n",
    "* Critic_Score — оценка критиков (максимум 100)\n",
    "* User_Score — оценка пользователей (максимум 10)\n",
    "* Rating — рейтинг от организации ESRB (англ. Entertainment Software Rating Board). Эта ассоциация определяет рейтинг компьютерных игр и присваивает им подходящую возрастную категорию."
   ]
  },
  {
   "cell_type": "code",
   "execution_count": 263,
   "metadata": {},
   "outputs": [
    {
     "data": {
      "text/plain": [
       "Index(['Name', 'Platform', 'Year_of_Release', 'Genre', 'NA_sales', 'EU_sales',\n",
       "       'JP_sales', 'Other_sales', 'Critic_Score', 'User_Score', 'Rating'],\n",
       "      dtype='object')"
      ]
     },
     "execution_count": 263,
     "metadata": {},
     "output_type": "execute_result"
    }
   ],
   "source": [
    "dataset.columns"
   ]
  },
  {
   "cell_type": "code",
   "execution_count": 264,
   "metadata": {},
   "outputs": [
    {
     "data": {
      "text/plain": [
       "(16715, 11)"
      ]
     },
     "execution_count": 264,
     "metadata": {},
     "output_type": "execute_result"
    }
   ],
   "source": [
    "dataset.shape"
   ]
  },
  {
   "cell_type": "code",
   "execution_count": 265,
   "metadata": {},
   "outputs": [
    {
     "name": "stdout",
     "output_type": "stream",
     "text": [
      "<class 'pandas.core.frame.DataFrame'>\n",
      "RangeIndex: 16715 entries, 0 to 16714\n",
      "Data columns (total 11 columns):\n",
      " #   Column           Non-Null Count  Dtype  \n",
      "---  ------           --------------  -----  \n",
      " 0   Name             16713 non-null  object \n",
      " 1   Platform         16715 non-null  object \n",
      " 2   Year_of_Release  16446 non-null  float64\n",
      " 3   Genre            16713 non-null  object \n",
      " 4   NA_sales         16715 non-null  float64\n",
      " 5   EU_sales         16715 non-null  float64\n",
      " 6   JP_sales         16715 non-null  float64\n",
      " 7   Other_sales      16715 non-null  float64\n",
      " 8   Critic_Score     8137 non-null   float64\n",
      " 9   User_Score       10014 non-null  object \n",
      " 10  Rating           9949 non-null   object \n",
      "dtypes: float64(6), object(5)\n",
      "memory usage: 1.4+ MB\n"
     ]
    }
   ],
   "source": [
    "dataset.info() "
   ]
  },
  {
   "cell_type": "markdown",
   "metadata": {},
   "source": [
    "### Выводы"
   ]
  },
  {
   "cell_type": "markdown",
   "metadata": {},
   "source": [
    "1. Первое, что необходимо поправить ( то что бросается в глаза) - запишем название столбцов в нижнем регистре.\n",
    "2. В столбце Genre - есть два пропуска. В данном конкретном случае можно посмотреть, что за игры и поставить вручную ( но только в этом случае, в целом так делать не эффективно).\n",
    "3. Пропуски в остальных столбцах посмотрим и подумаем чем заменить.\n",
    "4. Года выхода игр и оценки критиков необходимо будет привести к целому числу.\n",
    "5. Оценки пользователя надо будет привести к float64."
   ]
  },
  {
   "cell_type": "markdown",
   "metadata": {},
   "source": [
    "## Предобработка данных"
   ]
  },
  {
   "cell_type": "markdown",
   "metadata": {},
   "source": [
    "### Стиль заголовков"
   ]
  },
  {
   "cell_type": "markdown",
   "metadata": {},
   "source": [
    "Приведем наименование столбцов к нижнему регистру:"
   ]
  },
  {
   "cell_type": "code",
   "execution_count": 266,
   "metadata": {
    "scrolled": false
   },
   "outputs": [
    {
     "data": {
      "text/plain": [
       "Index(['name', 'platform', 'year_of_release', 'genre', 'na_sales', 'eu_sales',\n",
       "       'jp_sales', 'other_sales', 'critic_score', 'user_score', 'rating'],\n",
       "      dtype='object')"
      ]
     },
     "execution_count": 266,
     "metadata": {},
     "output_type": "execute_result"
    }
   ],
   "source": [
    "dataset=dataset.rename(columns={'Name':'name', 'Platform':'platform', 'Year_of_Release':'year_of_release', \n",
    "                                'Genre':'genre', 'NA_sales':'na_sales', 'EU_sales':'eu_sales', 'JP_sales':'jp_sales', \n",
    "                                'Other_sales':'other_sales', 'Critic_Score':'critic_score', 'User_Score':'user_score', \n",
    "                                'Rating':'rating'})\n",
    "dataset.columns"
   ]
  },
  {
   "cell_type": "markdown",
   "metadata": {},
   "source": [
    "Теперь написание наименой столбцов выглядит красиво и в соответствии с общепринятыми правила."
   ]
  },
  {
   "cell_type": "markdown",
   "metadata": {},
   "source": [
    "### Обработка дубликатов и пропусков"
   ]
  },
  {
   "cell_type": "markdown",
   "metadata": {},
   "source": [
    "Проверим есть ли у нас явные дубликаты:"
   ]
  },
  {
   "cell_type": "code",
   "execution_count": 267,
   "metadata": {},
   "outputs": [
    {
     "name": "stdout",
     "output_type": "stream",
     "text": [
      "Дубликатов в таблице: 0\n"
     ]
    }
   ],
   "source": [
    "print(f\"Дубликатов в таблице: {dataset.duplicated().sum()}\")"
   ]
  },
  {
   "cell_type": "markdown",
   "metadata": {},
   "source": [
    "Проверим не повторяются ли жанры в нашей подборке:"
   ]
  },
  {
   "cell_type": "code",
   "execution_count": 268,
   "metadata": {},
   "outputs": [
    {
     "data": {
      "text/plain": [
       "array(['Action', 'Adventure', 'Fighting', 'Misc', 'Platform', 'Puzzle',\n",
       "       'Racing', 'Role-Playing', 'Shooter', 'Simulation', 'Sports',\n",
       "       'Strategy', nan], dtype=object)"
      ]
     },
     "execution_count": 268,
     "metadata": {},
     "output_type": "execute_result"
    }
   ],
   "source": [
    "genre=dataset['genre'].sort_values(ascending=True)\n",
    "genre.unique()"
   ]
  },
  {
   "cell_type": "markdown",
   "metadata": {},
   "source": [
    "Отлично явных и скрытых дубикатов не найдено. Двигаемся дальше.\n",
    "\n",
    "Посмотрим сколько пропусков у нас:"
   ]
  },
  {
   "cell_type": "code",
   "execution_count": 269,
   "metadata": {},
   "outputs": [
    {
     "data": {
      "text/plain": [
       "name                  2\n",
       "platform              0\n",
       "year_of_release     269\n",
       "genre                 2\n",
       "na_sales              0\n",
       "eu_sales              0\n",
       "jp_sales              0\n",
       "other_sales           0\n",
       "critic_score       8578\n",
       "user_score         6701\n",
       "rating             6766\n",
       "dtype: int64"
      ]
     },
     "execution_count": 269,
     "metadata": {},
     "output_type": "execute_result"
    }
   ],
   "source": [
    "dataset.isna().sum()"
   ]
  },
  {
   "cell_type": "markdown",
   "metadata": {},
   "source": [
    "Пропуски по столбцам critic_score, user_score - боюсь что мы не сможем заменить ( можно было бы заменить медианой по жанру или платформе - но считаю что это сильно исказить реальность, или добавить руками так как данные по этим играм есть в общем доступе, но это слишком накладно, предлагаю оставить так). Пропуски по столбцу rating и year_of_release - можно конечно тоже в интернете найти, но это так же трудозатратно - предлагаю также оставить как есть (year_of_release - я было подумал, что можно найти еще одним способом: явно игры выходили на других платформах, но годы выхода на разных платформах могут оличаться на несколько лет, например Overwatch  вышел на ПК в 2016, а на Нинтендо 2019 г. ( милый шутер - мультяшшные пострелушки после работы самое то, мне нравится :-)). Два пропуска по столбцу genre и столбцу name - подозрительно, проверим не совпадают ли они:"
   ]
  },
  {
   "cell_type": "code",
   "execution_count": 270,
   "metadata": {},
   "outputs": [
    {
     "data": {
      "text/html": [
       "<div>\n",
       "<style scoped>\n",
       "    .dataframe tbody tr th:only-of-type {\n",
       "        vertical-align: middle;\n",
       "    }\n",
       "\n",
       "    .dataframe tbody tr th {\n",
       "        vertical-align: top;\n",
       "    }\n",
       "\n",
       "    .dataframe thead th {\n",
       "        text-align: right;\n",
       "    }\n",
       "</style>\n",
       "<table border=\"1\" class=\"dataframe\">\n",
       "  <thead>\n",
       "    <tr style=\"text-align: right;\">\n",
       "      <th></th>\n",
       "      <th>name</th>\n",
       "      <th>platform</th>\n",
       "      <th>year_of_release</th>\n",
       "      <th>genre</th>\n",
       "      <th>na_sales</th>\n",
       "      <th>eu_sales</th>\n",
       "      <th>jp_sales</th>\n",
       "      <th>other_sales</th>\n",
       "      <th>critic_score</th>\n",
       "      <th>user_score</th>\n",
       "      <th>rating</th>\n",
       "    </tr>\n",
       "  </thead>\n",
       "  <tbody>\n",
       "    <tr>\n",
       "      <th>659</th>\n",
       "      <td>NaN</td>\n",
       "      <td>GEN</td>\n",
       "      <td>1993.0</td>\n",
       "      <td>NaN</td>\n",
       "      <td>1.78</td>\n",
       "      <td>0.53</td>\n",
       "      <td>0.00</td>\n",
       "      <td>0.08</td>\n",
       "      <td>NaN</td>\n",
       "      <td>NaN</td>\n",
       "      <td>NaN</td>\n",
       "    </tr>\n",
       "    <tr>\n",
       "      <th>14244</th>\n",
       "      <td>NaN</td>\n",
       "      <td>GEN</td>\n",
       "      <td>1993.0</td>\n",
       "      <td>NaN</td>\n",
       "      <td>0.00</td>\n",
       "      <td>0.00</td>\n",
       "      <td>0.03</td>\n",
       "      <td>0.00</td>\n",
       "      <td>NaN</td>\n",
       "      <td>NaN</td>\n",
       "      <td>NaN</td>\n",
       "    </tr>\n",
       "  </tbody>\n",
       "</table>\n",
       "</div>"
      ],
      "text/plain": [
       "      name platform  year_of_release genre  na_sales  eu_sales  jp_sales  \\\n",
       "659    NaN      GEN           1993.0   NaN      1.78      0.53      0.00   \n",
       "14244  NaN      GEN           1993.0   NaN      0.00      0.00      0.03   \n",
       "\n",
       "       other_sales  critic_score user_score rating  \n",
       "659           0.08           NaN        NaN    NaN  \n",
       "14244         0.00           NaN        NaN    NaN  "
      ]
     },
     "metadata": {},
     "output_type": "display_data"
    }
   ],
   "source": [
    "display(dataset[dataset['name'].isna()])"
   ]
  },
  {
   "cell_type": "markdown",
   "metadata": {},
   "source": [
    "Ага, значит получается так что возможно при записи данных произошел сбой и не записалось имя игры и как следствие часть данных по игре было потеряно ( по хорошему надо бы уточнить у разработчиков в чем причина такой записи, но увы - у нас нет такой возможности). По данным двум играм очень много пропусков, предлагаю эти две строки удалить (2 записи из 16 тыс. записей роли не сыграют):"
   ]
  },
  {
   "cell_type": "code",
   "execution_count": 271,
   "metadata": {},
   "outputs": [
    {
     "data": {
      "text/plain": [
       "(16713, 11)"
      ]
     },
     "execution_count": 271,
     "metadata": {},
     "output_type": "execute_result"
    }
   ],
   "source": [
    "dataset.dropna(subset=['name'], inplace=True)\n",
    "dataset.shape"
   ]
  },
  {
   "cell_type": "markdown",
   "metadata": {},
   "source": [
    "Посмотрим на другие столбцы краем глаза:"
   ]
  },
  {
   "cell_type": "code",
   "execution_count": 272,
   "metadata": {},
   "outputs": [
    {
     "data": {
      "text/plain": [
       "70.0    256\n",
       "71.0    254\n",
       "75.0    245\n",
       "78.0    240\n",
       "73.0    238\n",
       "       ... \n",
       "20.0      3\n",
       "21.0      1\n",
       "17.0      1\n",
       "22.0      1\n",
       "13.0      1\n",
       "Name: critic_score, Length: 82, dtype: int64"
      ]
     },
     "metadata": {},
     "output_type": "display_data"
    }
   ],
   "source": [
    "display(dataset['critic_score'].value_counts())"
   ]
  },
  {
   "cell_type": "code",
   "execution_count": 273,
   "metadata": {},
   "outputs": [
    {
     "data": {
      "text/plain": [
       "tbd    2424\n",
       "7.8     324\n",
       "8       290\n",
       "8.2     282\n",
       "8.3     254\n",
       "       ... \n",
       "1.1       2\n",
       "1.9       2\n",
       "9.6       2\n",
       "0         1\n",
       "9.7       1\n",
       "Name: user_score, Length: 96, dtype: int64"
      ]
     },
     "metadata": {},
     "output_type": "display_data"
    }
   ],
   "source": [
    "display(dataset['user_score'].value_counts())"
   ]
  },
  {
   "cell_type": "markdown",
   "metadata": {},
   "source": [
    "tbd - рейтин будет определен ( на момент формирования датасета рейтин был неизвестен я так понимаю). Так как нам в дальнейшем нам надо будет значения по данному стобцу преобразовать в значение float, предлагаю заменить tbd пустыми значениями. Эти значения также предлагаю пока оставить как есть."
   ]
  },
  {
   "cell_type": "code",
   "execution_count": 274,
   "metadata": {
    "scrolled": true
   },
   "outputs": [
    {
     "data": {
      "text/html": [
       "<div>\n",
       "<style scoped>\n",
       "    .dataframe tbody tr th:only-of-type {\n",
       "        vertical-align: middle;\n",
       "    }\n",
       "\n",
       "    .dataframe tbody tr th {\n",
       "        vertical-align: top;\n",
       "    }\n",
       "\n",
       "    .dataframe thead th {\n",
       "        text-align: right;\n",
       "    }\n",
       "</style>\n",
       "<table border=\"1\" class=\"dataframe\">\n",
       "  <thead>\n",
       "    <tr style=\"text-align: right;\">\n",
       "      <th></th>\n",
       "      <th>name</th>\n",
       "      <th>platform</th>\n",
       "      <th>year_of_release</th>\n",
       "      <th>genre</th>\n",
       "      <th>na_sales</th>\n",
       "      <th>eu_sales</th>\n",
       "      <th>jp_sales</th>\n",
       "      <th>other_sales</th>\n",
       "      <th>critic_score</th>\n",
       "      <th>user_score</th>\n",
       "      <th>rating</th>\n",
       "    </tr>\n",
       "  </thead>\n",
       "  <tbody>\n",
       "    <tr>\n",
       "      <th>16710</th>\n",
       "      <td>Samurai Warriors: Sanada Maru</td>\n",
       "      <td>PS3</td>\n",
       "      <td>2016.0</td>\n",
       "      <td>Action</td>\n",
       "      <td>0.00</td>\n",
       "      <td>0.00</td>\n",
       "      <td>0.01</td>\n",
       "      <td>0.0</td>\n",
       "      <td>NaN</td>\n",
       "      <td>NaN</td>\n",
       "      <td>NaN</td>\n",
       "    </tr>\n",
       "    <tr>\n",
       "      <th>16711</th>\n",
       "      <td>LMA Manager 2007</td>\n",
       "      <td>X360</td>\n",
       "      <td>2006.0</td>\n",
       "      <td>Sports</td>\n",
       "      <td>0.00</td>\n",
       "      <td>0.01</td>\n",
       "      <td>0.00</td>\n",
       "      <td>0.0</td>\n",
       "      <td>NaN</td>\n",
       "      <td>NaN</td>\n",
       "      <td>NaN</td>\n",
       "    </tr>\n",
       "    <tr>\n",
       "      <th>16712</th>\n",
       "      <td>Haitaka no Psychedelica</td>\n",
       "      <td>PSV</td>\n",
       "      <td>2016.0</td>\n",
       "      <td>Adventure</td>\n",
       "      <td>0.00</td>\n",
       "      <td>0.00</td>\n",
       "      <td>0.01</td>\n",
       "      <td>0.0</td>\n",
       "      <td>NaN</td>\n",
       "      <td>NaN</td>\n",
       "      <td>NaN</td>\n",
       "    </tr>\n",
       "    <tr>\n",
       "      <th>16713</th>\n",
       "      <td>Spirits &amp; Spells</td>\n",
       "      <td>GBA</td>\n",
       "      <td>2003.0</td>\n",
       "      <td>Platform</td>\n",
       "      <td>0.01</td>\n",
       "      <td>0.00</td>\n",
       "      <td>0.00</td>\n",
       "      <td>0.0</td>\n",
       "      <td>NaN</td>\n",
       "      <td>NaN</td>\n",
       "      <td>NaN</td>\n",
       "    </tr>\n",
       "    <tr>\n",
       "      <th>16714</th>\n",
       "      <td>Winning Post 8 2016</td>\n",
       "      <td>PSV</td>\n",
       "      <td>2016.0</td>\n",
       "      <td>Simulation</td>\n",
       "      <td>0.00</td>\n",
       "      <td>0.00</td>\n",
       "      <td>0.01</td>\n",
       "      <td>0.0</td>\n",
       "      <td>NaN</td>\n",
       "      <td>NaN</td>\n",
       "      <td>NaN</td>\n",
       "    </tr>\n",
       "  </tbody>\n",
       "</table>\n",
       "</div>"
      ],
      "text/plain": [
       "                                name platform  year_of_release       genre  \\\n",
       "16710  Samurai Warriors: Sanada Maru      PS3           2016.0      Action   \n",
       "16711               LMA Manager 2007     X360           2006.0      Sports   \n",
       "16712        Haitaka no Psychedelica      PSV           2016.0   Adventure   \n",
       "16713               Spirits & Spells      GBA           2003.0    Platform   \n",
       "16714            Winning Post 8 2016      PSV           2016.0  Simulation   \n",
       "\n",
       "       na_sales  eu_sales  jp_sales  other_sales  critic_score user_score  \\\n",
       "16710      0.00      0.00      0.01          0.0           NaN        NaN   \n",
       "16711      0.00      0.01      0.00          0.0           NaN        NaN   \n",
       "16712      0.00      0.00      0.01          0.0           NaN        NaN   \n",
       "16713      0.01      0.00      0.00          0.0           NaN        NaN   \n",
       "16714      0.00      0.00      0.01          0.0           NaN        NaN   \n",
       "\n",
       "      rating  \n",
       "16710    NaN  \n",
       "16711    NaN  \n",
       "16712    NaN  \n",
       "16713    NaN  \n",
       "16714    NaN  "
      ]
     },
     "execution_count": 274,
     "metadata": {},
     "output_type": "execute_result"
    }
   ],
   "source": [
    "dataset.loc[dataset['user_score']==\"tbd\", 'user_score']=np.nan\n",
    "dataset.tail()"
   ]
  },
  {
   "cell_type": "code",
   "execution_count": 275,
   "metadata": {},
   "outputs": [
    {
     "data": {
      "text/plain": [
       "7.8    324\n",
       "8      290\n",
       "8.2    282\n",
       "8.3    254\n",
       "8.5    253\n",
       "      ... \n",
       "1.5      2\n",
       "0.3      2\n",
       "1.1      2\n",
       "0        1\n",
       "9.7      1\n",
       "Name: user_score, Length: 95, dtype: int64"
      ]
     },
     "metadata": {},
     "output_type": "display_data"
    }
   ],
   "source": [
    "display(dataset['user_score'].value_counts())"
   ]
  },
  {
   "cell_type": "code",
   "execution_count": 276,
   "metadata": {},
   "outputs": [
    {
     "data": {
      "text/plain": [
       "E       3990\n",
       "T       2961\n",
       "M       1563\n",
       "E10+    1420\n",
       "EC         8\n",
       "K-A        3\n",
       "RP         3\n",
       "AO         1\n",
       "Name: rating, dtype: int64"
      ]
     },
     "metadata": {},
     "output_type": "display_data"
    }
   ],
   "source": [
    "display(dataset['rating'].value_counts())"
   ]
  },
  {
   "cell_type": "markdown",
   "metadata": {},
   "source": [
    "Пропуски в столбцах critic_score, user_score, rating и year_of_release все-таки оставим, нет возможности их исправить."
   ]
  },
  {
   "cell_type": "markdown",
   "metadata": {},
   "source": [
    "### Замена типа данных"
   ]
  },
  {
   "cell_type": "markdown",
   "metadata": {},
   "source": [
    "Приведем значения в стобце year_of_release и critic_score к целому значению:"
   ]
  },
  {
   "cell_type": "code",
   "execution_count": 277,
   "metadata": {},
   "outputs": [],
   "source": [
    "dataset['year_of_release'] = dataset['year_of_release'].astype('Int64')\n",
    "dataset['critic_score'] = dataset['critic_score'].astype('Int64')"
   ]
  },
  {
   "cell_type": "markdown",
   "metadata": {},
   "source": [
    "Приведем значение в стобце user_score к значению float:"
   ]
  },
  {
   "cell_type": "code",
   "execution_count": 278,
   "metadata": {},
   "outputs": [],
   "source": [
    "dataset['user_score'] = dataset['user_score'].astype('float64')"
   ]
  },
  {
   "cell_type": "markdown",
   "metadata": {},
   "source": [
    "### Расчеты и добавление данных в таблицу"
   ]
  },
  {
   "cell_type": "markdown",
   "metadata": {},
   "source": [
    "Посчитаем суммарные продажи во всех регионах и запишем их в отдельный столбец:"
   ]
  },
  {
   "cell_type": "code",
   "execution_count": 279,
   "metadata": {},
   "outputs": [],
   "source": [
    "dataset['all_sales'] = dataset['na_sales'] + dataset['eu_sales'] + dataset['jp_sales'] + dataset['other_sales']"
   ]
  },
  {
   "cell_type": "markdown",
   "metadata": {},
   "source": [
    "### Вывод"
   ]
  },
  {
   "cell_type": "markdown",
   "metadata": {},
   "source": [
    "* Мы привели написание столбцов к нижнему регистру: теперь это смотрится аккуратно и красиов.\n",
    "* Выяснили, что дубликатов и неявных дубликатов нет.\n",
    "* Превели необходимы нам столбцы к нужным типам: float64 И Int64.\n",
    "* Пропуски по столбцам critic_score, user_score, rating и year_of_release оставили как есть, так как не нашли адекватной возможности найти замену пропускам.\n",
    "* Посчитали полную выручку по всем каналам продаж для каждой игры"
   ]
  },
  {
   "cell_type": "markdown",
   "metadata": {},
   "source": [
    "## Исследовательский анализ данных"
   ]
  },
  {
   "cell_type": "markdown",
   "metadata": {},
   "source": [
    "### Выпуск игр по годам"
   ]
  },
  {
   "cell_type": "markdown",
   "metadata": {},
   "source": [
    "Посмотрим как выпускались игры по годам:"
   ]
  },
  {
   "cell_type": "code",
   "execution_count": 280,
   "metadata": {},
   "outputs": [],
   "source": [
    "dataset_year_of_release = dataset.groupby('year_of_release')['name'].count().reset_index()\n",
    "dataset_year_of_release.columns = ['years', 'sum']"
   ]
  },
  {
   "cell_type": "code",
   "execution_count": 281,
   "metadata": {},
   "outputs": [
    {
     "data": {
      "image/png": "[encoded data removed]",
      "text/plain": [
       "<Figure size 720x432 with 1 Axes>"
      ]
     },
     "metadata": {
      "needs_background": "light"
     },
     "output_type": "display_data"
    }
   ],
   "source": [
    "fig, ax = plt.subplots()\n",
    "ax.bar(dataset_year_of_release['years'], dataset_year_of_release['sum'])\n",
    "plt.xlabel('Год релиза')\n",
    "plt.ylabel('Количество релизов в год')\n",
    "plt.grid()\n",
    "plt.title('Выпуск игр по годам')\n",
    "fig.set_figwidth(10)    \n",
    "fig.set_figheight(6)  \n",
    "plt.show()"
   ]
  },
  {
   "cell_type": "markdown",
   "metadata": {},
   "source": [
    "Изучив гисторграмму выпуска игр по годам можно сказать следующее: резкое увеличение выпуска игр началось с 1995 года и продолжалось до 2009, игры начинают оккупацию свободного времени людей. С 2011 года выпуск игр падает и с 2012 года входит в стагнацию. Если посмотреть с целом на рост то заметны две точки роста: 1995 год и 2002 год."
   ]
  },
  {
   "cell_type": "markdown",
   "metadata": {},
   "source": [
    "Посмотрим так же динамику продаж игр по годам:"
   ]
  },
  {
   "cell_type": "code",
   "execution_count": 282,
   "metadata": {},
   "outputs": [
    {
     "data": {
      "image/png": "[encoded data removed]",
      "text/plain": [
       "<Figure size 720x432 with 1 Axes>"
      ]
     },
     "metadata": {
      "needs_background": "light"
     },
     "output_type": "display_data"
    },
    {
     "data": {
      "text/html": [
       "<div>\n",
       "<style scoped>\n",
       "    .dataframe tbody tr th:only-of-type {\n",
       "        vertical-align: middle;\n",
       "    }\n",
       "\n",
       "    .dataframe tbody tr th {\n",
       "        vertical-align: top;\n",
       "    }\n",
       "\n",
       "    .dataframe thead th {\n",
       "        text-align: right;\n",
       "    }\n",
       "</style>\n",
       "<table border=\"1\" class=\"dataframe\">\n",
       "  <thead>\n",
       "    <tr style=\"text-align: right;\">\n",
       "      <th></th>\n",
       "      <th>years</th>\n",
       "      <th>sum</th>\n",
       "    </tr>\n",
       "  </thead>\n",
       "  <tbody>\n",
       "    <tr>\n",
       "      <th>0</th>\n",
       "      <td>1980</td>\n",
       "      <td>11.38</td>\n",
       "    </tr>\n",
       "    <tr>\n",
       "      <th>1</th>\n",
       "      <td>1981</td>\n",
       "      <td>35.68</td>\n",
       "    </tr>\n",
       "    <tr>\n",
       "      <th>2</th>\n",
       "      <td>1982</td>\n",
       "      <td>28.88</td>\n",
       "    </tr>\n",
       "    <tr>\n",
       "      <th>3</th>\n",
       "      <td>1983</td>\n",
       "      <td>16.80</td>\n",
       "    </tr>\n",
       "    <tr>\n",
       "      <th>4</th>\n",
       "      <td>1984</td>\n",
       "      <td>50.35</td>\n",
       "    </tr>\n",
       "  </tbody>\n",
       "</table>\n",
       "</div>"
      ],
      "text/plain": [
       "   years    sum\n",
       "0   1980  11.38\n",
       "1   1981  35.68\n",
       "2   1982  28.88\n",
       "3   1983  16.80\n",
       "4   1984  50.35"
      ]
     },
     "execution_count": 282,
     "metadata": {},
     "output_type": "execute_result"
    }
   ],
   "source": [
    "dataset_year_of_release_sum = dataset.groupby('year_of_release')['all_sales'].sum().reset_index()\n",
    "dataset_year_of_release_sum.columns = ['years', 'sum']\n",
    "fig, ax = plt.subplots()\n",
    "ax.bar(dataset_year_of_release_sum['years'], dataset_year_of_release_sum['sum'])\n",
    "plt.xlabel('Год релиза')\n",
    "plt.ylabel('Количество продаж в год')\n",
    "plt.grid()\n",
    "plt.title('Продажи игр по годам')\n",
    "fig.set_figwidth(10)    \n",
    "fig.set_figheight(6)  \n",
    "plt.show()\n",
    "dataset_year_of_release_sum.head()"
   ]
  },
  {
   "cell_type": "markdown",
   "metadata": {},
   "source": [
    "Количество проданных копий игр преследует туже тенденцию, что и выпуск игры и это логично: бум начаниется с 1996 года и длится до 2008 г. Потом происходит постепенное снижение."
   ]
  },
  {
   "cell_type": "markdown",
   "metadata": {},
   "source": [
    "Предлагаю еще посмотреть корреляцию между выпуском и продажей игр."
   ]
  },
  {
   "cell_type": "code",
   "execution_count": 283,
   "metadata": {},
   "outputs": [
    {
     "data": {
      "text/html": [
       "<div>\n",
       "<style scoped>\n",
       "    .dataframe tbody tr th:only-of-type {\n",
       "        vertical-align: middle;\n",
       "    }\n",
       "\n",
       "    .dataframe tbody tr th {\n",
       "        vertical-align: top;\n",
       "    }\n",
       "\n",
       "    .dataframe thead th {\n",
       "        text-align: right;\n",
       "    }\n",
       "</style>\n",
       "<table border=\"1\" class=\"dataframe\">\n",
       "  <thead>\n",
       "    <tr style=\"text-align: right;\">\n",
       "      <th></th>\n",
       "      <th>years</th>\n",
       "      <th>sum</th>\n",
       "      <th>kol</th>\n",
       "    </tr>\n",
       "  </thead>\n",
       "  <tbody>\n",
       "    <tr>\n",
       "      <th>years</th>\n",
       "      <td>1.000000</td>\n",
       "      <td>0.782767</td>\n",
       "      <td>0.792978</td>\n",
       "    </tr>\n",
       "    <tr>\n",
       "      <th>sum</th>\n",
       "      <td>0.782767</td>\n",
       "      <td>1.000000</td>\n",
       "      <td>0.981406</td>\n",
       "    </tr>\n",
       "    <tr>\n",
       "      <th>kol</th>\n",
       "      <td>0.792978</td>\n",
       "      <td>0.981406</td>\n",
       "      <td>1.000000</td>\n",
       "    </tr>\n",
       "  </tbody>\n",
       "</table>\n",
       "</div>"
      ],
      "text/plain": [
       "          years       sum       kol\n",
       "years  1.000000  0.782767  0.792978\n",
       "sum    0.782767  1.000000  0.981406\n",
       "kol    0.792978  0.981406  1.000000"
      ]
     },
     "execution_count": 283,
     "metadata": {},
     "output_type": "execute_result"
    },
    {
     "data": {
      "image/png": "[encoded data removed]",
      "text/plain": [
       "<Figure size 360x360 with 1 Axes>"
      ]
     },
     "metadata": {
      "needs_background": "light"
     },
     "output_type": "display_data"
    }
   ],
   "source": [
    "dataset_new=dataset_year_of_release_sum\n",
    "dataset_new['kol']=dataset_year_of_release['sum']\n",
    "dataset_new.plot(x='sum', y='kol', kind='scatter', figsize=(5, 5));\n",
    "plt.xlabel('Количество выпущеных игр')\n",
    "plt.ylabel('Количество продаж в год')\n",
    "plt.title('Зависимость продаж игр от количества выпуска');\n",
    "dataset_new.corr()"
   ]
  },
  {
   "cell_type": "markdown",
   "metadata": {},
   "source": [
    "Ожидаемо, что прослеживается взаимосвязь ( и достаточно хорошая) по всем показателям. Каждый последующий год растет количество продаж и количество выпущенных игр. Так же высокая корелляция наблюдается между количеством выпущенных игр и количеством проданных копий.\n",
    "\n",
    "В целом можно сказать, что можно взять для наблюдения период с 1996 год и по 2017 год. Значения до 1996 года крайне малы.\n",
    "Предлагаю далее отсечь данные до 1995 года и работать уже с этими данными."
   ]
  },
  {
   "cell_type": "code",
   "execution_count": 284,
   "metadata": {},
   "outputs": [],
   "source": [
    "dataset=dataset[dataset['year_of_release'] > 1996]"
   ]
  },
  {
   "cell_type": "markdown",
   "metadata": {},
   "source": [
    "### Динамика продаж игр по платформам"
   ]
  },
  {
   "cell_type": "markdown",
   "metadata": {},
   "source": [
    "Посмотрим на самые популяные платформы за все года:"
   ]
  },
  {
   "cell_type": "code",
   "execution_count": 285,
   "metadata": {},
   "outputs": [
    {
     "data": {
      "text/html": [
       "<div>\n",
       "<style scoped>\n",
       "    .dataframe tbody tr th:only-of-type {\n",
       "        vertical-align: middle;\n",
       "    }\n",
       "\n",
       "    .dataframe tbody tr th {\n",
       "        vertical-align: top;\n",
       "    }\n",
       "\n",
       "    .dataframe thead th {\n",
       "        text-align: right;\n",
       "    }\n",
       "</style>\n",
       "<table border=\"1\" class=\"dataframe\">\n",
       "  <thead>\n",
       "    <tr style=\"text-align: right;\">\n",
       "      <th></th>\n",
       "      <th>all_sales</th>\n",
       "    </tr>\n",
       "    <tr>\n",
       "      <th>platform</th>\n",
       "      <th></th>\n",
       "    </tr>\n",
       "  </thead>\n",
       "  <tbody>\n",
       "    <tr>\n",
       "      <th>PS2</th>\n",
       "      <td>1233.56</td>\n",
       "    </tr>\n",
       "    <tr>\n",
       "      <th>X360</th>\n",
       "      <td>961.24</td>\n",
       "    </tr>\n",
       "    <tr>\n",
       "      <th>PS3</th>\n",
       "      <td>931.34</td>\n",
       "    </tr>\n",
       "    <tr>\n",
       "      <th>Wii</th>\n",
       "      <td>891.18</td>\n",
       "    </tr>\n",
       "    <tr>\n",
       "      <th>DS</th>\n",
       "      <td>802.76</td>\n",
       "    </tr>\n",
       "    <tr>\n",
       "      <th>PS</th>\n",
       "      <td>590.89</td>\n",
       "    </tr>\n",
       "    <tr>\n",
       "      <th>PS4</th>\n",
       "      <td>314.14</td>\n",
       "    </tr>\n",
       "    <tr>\n",
       "      <th>GBA</th>\n",
       "      <td>312.88</td>\n",
       "    </tr>\n",
       "    <tr>\n",
       "      <th>PSP</th>\n",
       "      <td>289.53</td>\n",
       "    </tr>\n",
       "    <tr>\n",
       "      <th>3DS</th>\n",
       "      <td>257.81</td>\n",
       "    </tr>\n",
       "    <tr>\n",
       "      <th>XB</th>\n",
       "      <td>251.57</td>\n",
       "    </tr>\n",
       "    <tr>\n",
       "      <th>PC</th>\n",
       "      <td>224.99</td>\n",
       "    </tr>\n",
       "    <tr>\n",
       "      <th>GC</th>\n",
       "      <td>196.73</td>\n",
       "    </tr>\n",
       "    <tr>\n",
       "      <th>N64</th>\n",
       "      <td>183.91</td>\n",
       "    </tr>\n",
       "    <tr>\n",
       "      <th>XOne</th>\n",
       "      <td>159.32</td>\n",
       "    </tr>\n",
       "  </tbody>\n",
       "</table>\n",
       "</div>"
      ],
      "text/plain": [
       "          all_sales\n",
       "platform           \n",
       "PS2         1233.56\n",
       "X360         961.24\n",
       "PS3          931.34\n",
       "Wii          891.18\n",
       "DS           802.76\n",
       "PS           590.89\n",
       "PS4          314.14\n",
       "GBA          312.88\n",
       "PSP          289.53\n",
       "3DS          257.81\n",
       "XB           251.57\n",
       "PC           224.99\n",
       "GC           196.73\n",
       "N64          183.91\n",
       "XOne         159.32"
      ]
     },
     "metadata": {},
     "output_type": "display_data"
    }
   ],
   "source": [
    "pivot_dataset_platform=pd.pivot_table(dataset,index=['platform'], values='all_sales', aggfunc='sum')\n",
    "pivot_dataset_platform=pivot_dataset_platform.reindex(pivot_dataset_platform['all_sales'].sort_values(ascending=False).index)\n",
    "display(pivot_dataset_platform.head(15))"
   ]
  },
  {
   "cell_type": "markdown",
   "metadata": {},
   "source": [
    "Как мы видим у нас представлены платформы по убываю, с наибольшим количество продаж игр. Предлагаю посмотреть продажи конкретно по каждой платформы из курпнейщих, и обязательно включить версия для настольного ПК, странно что он не в лидерах по продажам."
   ]
  },
  {
   "cell_type": "code",
   "execution_count": 286,
   "metadata": {},
   "outputs": [
    {
     "data": {
      "text/plain": [
       "Text(0.5, 1.0, 'Гистограмма продажа игр на платформе PS2')"
      ]
     },
     "execution_count": 286,
     "metadata": {},
     "output_type": "execute_result"
    },
    {
     "data": {
      "image/png": "[encoded data removed]",
      "text/plain": [
       "<Figure size 432x288 with 1 Axes>"
      ]
     },
     "metadata": {
      "needs_background": "light"
     },
     "output_type": "display_data"
    }
   ],
   "source": [
    "data_PS2 = dataset[dataset['platform'] == 'PS2']\n",
    "data_PS2.groupby('year_of_release')['all_sales'].agg('sum')\n",
    "data_PS2['year_of_release'].plot(kind='hist', bins=30).set_title('Гистограмма продажа игр на платформе PS2')"
   ]
  },
  {
   "cell_type": "code",
   "execution_count": 287,
   "metadata": {},
   "outputs": [
    {
     "data": {
      "text/plain": [
       "Text(0.5, 1.0, 'Гистограмма продажа игр на платформе X360')"
      ]
     },
     "execution_count": 287,
     "metadata": {},
     "output_type": "execute_result"
    },
    {
     "data": {
      "image/png": "[encoded data removed]",
      "text/plain": [
       "<Figure size 432x288 with 1 Axes>"
      ]
     },
     "metadata": {
      "needs_background": "light"
     },
     "output_type": "display_data"
    }
   ],
   "source": [
    "data_X360 = dataset[dataset['platform'] == 'X360']\n",
    "data_X360.groupby('year_of_release')['all_sales'].agg('sum')\n",
    "data_X360['year_of_release'].plot(kind='hist', bins=30).set_title('Гистограмма продажа игр на платформе X360')"
   ]
  },
  {
   "cell_type": "code",
   "execution_count": 288,
   "metadata": {},
   "outputs": [
    {
     "data": {
      "text/plain": [
       "Text(0.5, 1.0, 'Гистограмма продажа игр на платформе PS3')"
      ]
     },
     "execution_count": 288,
     "metadata": {},
     "output_type": "execute_result"
    },
    {
     "data": {
      "image/png": "[encoded data removed]",
      "text/plain": [
       "<Figure size 432x288 with 1 Axes>"
      ]
     },
     "metadata": {
      "needs_background": "light"
     },
     "output_type": "display_data"
    }
   ],
   "source": [
    "data_PS3 = dataset[dataset['platform'] == 'PS3']\n",
    "data_PS3.groupby('year_of_release')['all_sales'].agg('sum')\n",
    "data_PS3['year_of_release'].plot(kind='hist', bins=30).set_title('Гистограмма продажа игр на платформе PS3')"
   ]
  },
  {
   "cell_type": "code",
   "execution_count": 289,
   "metadata": {},
   "outputs": [
    {
     "data": {
      "text/plain": [
       "Text(0.5, 1.0, 'Гистограмма продажа игр на платформе Wii')"
      ]
     },
     "execution_count": 289,
     "metadata": {},
     "output_type": "execute_result"
    },
    {
     "data": {
      "image/png": "[encoded data removed]",
      "text/plain": [
       "<Figure size 432x288 with 1 Axes>"
      ]
     },
     "metadata": {
      "needs_background": "light"
     },
     "output_type": "display_data"
    }
   ],
   "source": [
    "data_Wii = dataset[dataset['platform'] == 'Wii']\n",
    "data_Wii.groupby('year_of_release')['all_sales'].agg('sum')\n",
    "data_Wii['year_of_release'].plot(kind='hist', bins=30).set_title('Гистограмма продажа игр на платформе Wii')"
   ]
  },
  {
   "cell_type": "code",
   "execution_count": 290,
   "metadata": {},
   "outputs": [
    {
     "data": {
      "text/plain": [
       "Text(0.5, 1.0, 'Гистограмма продажа игр на платформе DS')"
      ]
     },
     "execution_count": 290,
     "metadata": {},
     "output_type": "execute_result"
    },
    {
     "data": {
      "image/png": "[encoded data removed]",
      "text/plain": [
       "<Figure size 432x288 with 1 Axes>"
      ]
     },
     "metadata": {
      "needs_background": "light"
     },
     "output_type": "display_data"
    }
   ],
   "source": [
    "data_DS = dataset[dataset['platform'] == 'DS']\n",
    "data_DS.groupby('year_of_release')['all_sales'].agg('sum')\n",
    "data_DS['year_of_release'].plot(kind='hist', bins=30).set_title('Гистограмма продажа игр на платформе DS')"
   ]
  },
  {
   "cell_type": "code",
   "execution_count": 291,
   "metadata": {},
   "outputs": [
    {
     "data": {
      "text/plain": [
       "Text(0.5, 1.0, 'Гистограмма продажа игр на платформе PS')"
      ]
     },
     "execution_count": 291,
     "metadata": {},
     "output_type": "execute_result"
    },
    {
     "data": {
      "image/png": "[encoded data removed]",
      "text/plain": [
       "<Figure size 432x288 with 1 Axes>"
      ]
     },
     "metadata": {
      "needs_background": "light"
     },
     "output_type": "display_data"
    }
   ],
   "source": [
    "data_PS = dataset[dataset['platform'] == 'PS']\n",
    "data_PS.groupby('year_of_release')['all_sales'].agg('sum')\n",
    "data_PS['year_of_release'].plot(kind='hist', bins=30).set_title('Гистограмма продажа игр на платформе PS')"
   ]
  },
  {
   "cell_type": "code",
   "execution_count": 292,
   "metadata": {},
   "outputs": [
    {
     "data": {
      "text/plain": [
       "Text(0.5, 1.0, 'Гистограмма продажа игр на платформе PS4')"
      ]
     },
     "execution_count": 292,
     "metadata": {},
     "output_type": "execute_result"
    },
    {
     "data": {
      "image/png": "[encoded data removed]",
      "text/plain": [
       "<Figure size 432x288 with 1 Axes>"
      ]
     },
     "metadata": {
      "needs_background": "light"
     },
     "output_type": "display_data"
    }
   ],
   "source": [
    "data_PS4 = dataset[dataset['platform'] == 'PS4']\n",
    "data_PS4.groupby('year_of_release')['all_sales'].agg('sum')\n",
    "data_PS4['year_of_release'].plot(kind='hist', bins=10).set_title('Гистограмма продажа игр на платформе PS4')"
   ]
  },
  {
   "cell_type": "code",
   "execution_count": 293,
   "metadata": {},
   "outputs": [
    {
     "data": {
      "text/plain": [
       "Text(0.5, 1.0, 'Гистограмма продажа игр на платформе GBA')"
      ]
     },
     "execution_count": 293,
     "metadata": {},
     "output_type": "execute_result"
    },
    {
     "data": {
      "image/png": "[encoded data removed]",
      "text/plain": [
       "<Figure size 432x288 with 1 Axes>"
      ]
     },
     "metadata": {
      "needs_background": "light"
     },
     "output_type": "display_data"
    }
   ],
   "source": [
    "data_GBA = dataset[dataset['platform'] == 'GBA']\n",
    "data_GBA.groupby('year_of_release')['all_sales'].agg('sum')\n",
    "data_GBA['year_of_release'].plot(kind='hist', bins=30).set_title('Гистограмма продажа игр на платформе GBA')"
   ]
  },
  {
   "cell_type": "code",
   "execution_count": 294,
   "metadata": {},
   "outputs": [
    {
     "data": {
      "text/plain": [
       "Text(0.5, 1.0, 'Гистограмма продажа игр на платформе PSP')"
      ]
     },
     "execution_count": 294,
     "metadata": {},
     "output_type": "execute_result"
    },
    {
     "data": {
      "image/png": "[encoded data removed]",
      "text/plain": [
       "<Figure size 432x288 with 1 Axes>"
      ]
     },
     "metadata": {
      "needs_background": "light"
     },
     "output_type": "display_data"
    }
   ],
   "source": [
    "data_PSP = dataset[dataset['platform'] == 'PSP']\n",
    "data_PSP.groupby('year_of_release')['all_sales'].agg('sum')\n",
    "data_PSP['year_of_release'].plot(kind='hist', bins=30).set_title('Гистограмма продажа игр на платформе PSP')"
   ]
  },
  {
   "cell_type": "code",
   "execution_count": 295,
   "metadata": {},
   "outputs": [
    {
     "data": {
      "text/plain": [
       "Text(0.5, 1.0, 'Гистограмма продажа игр на платформе 3DS')"
      ]
     },
     "execution_count": 295,
     "metadata": {},
     "output_type": "execute_result"
    },
    {
     "data": {
      "image/png": "[encoded data removed]",
      "text/plain": [
       "<Figure size 432x288 with 1 Axes>"
      ]
     },
     "metadata": {
      "needs_background": "light"
     },
     "output_type": "display_data"
    }
   ],
   "source": [
    "data_3DS = dataset[dataset['platform'] == '3DS']\n",
    "data_3DS.groupby('year_of_release')['all_sales'].agg('sum')\n",
    "data_3DS['year_of_release'].plot(kind='hist', bins=30).set_title('Гистограмма продажа игр на платформе 3DS')"
   ]
  },
  {
   "cell_type": "code",
   "execution_count": 296,
   "metadata": {},
   "outputs": [
    {
     "data": {
      "text/plain": [
       "Text(0.5, 1.0, 'Гистограмма продажа игр на платформе XB')"
      ]
     },
     "execution_count": 296,
     "metadata": {},
     "output_type": "execute_result"
    },
    {
     "data": {
      "image/png": "[encoded data removed]",
      "text/plain": [
       "<Figure size 432x288 with 1 Axes>"
      ]
     },
     "metadata": {
      "needs_background": "light"
     },
     "output_type": "display_data"
    }
   ],
   "source": [
    "data_PSP = dataset[dataset['platform'] == 'XB']\n",
    "data_PSP.groupby('year_of_release')['all_sales'].agg('sum')\n",
    "data_PSP['year_of_release'].plot(kind='hist', bins=30).set_title('Гистограмма продажа игр на платформе XB')"
   ]
  },
  {
   "cell_type": "code",
   "execution_count": 297,
   "metadata": {},
   "outputs": [
    {
     "data": {
      "text/plain": [
       "Text(0.5, 1.0, 'Гистограмма продажа игр на платформе PC')"
      ]
     },
     "execution_count": 297,
     "metadata": {},
     "output_type": "execute_result"
    },
    {
     "data": {
      "image/png": "[encoded data removed]",
      "text/plain": [
       "<Figure size 432x288 with 1 Axes>"
      ]
     },
     "metadata": {
      "needs_background": "light"
     },
     "output_type": "display_data"
    }
   ],
   "source": [
    "data_PC = dataset[dataset['platform'] == 'PC']\n",
    "data_PC.groupby('year_of_release')['all_sales'].agg('sum')\n",
    "data_PC['year_of_release'].plot(kind='hist', bins=60).set_title('Гистограмма продажа игр на платформе PC')"
   ]
  },
  {
   "cell_type": "markdown",
   "metadata": {},
   "source": [
    "Большинство популярных платформ уже не котируются и скажем так \"умерли\": PS2, Wii (практически), DS, PS, GBA, PSP, XB. Остальные платформы живы и пока существуют. Платформа ПК начала набирать популярностьс 2000х годов ( все-таки компьютер был ранее достаточно дорогим удовольствием, и многие покупали поративные консоли я считаю). После 2011 г. ПК опять начали терять попуплярность, люди пошли на xbox и плойки плюс нинтендо. Можно обратить внимание на PS4 - как она стартанула, дальше наверняка увидим ее в лидерах.\n",
    "\n",
    "В среднем если посмотреть то платформы, которые вышли из оборота просуществовали порядка 10ти лет."
   ]
  },
  {
   "cell_type": "markdown",
   "metadata": {},
   "source": [
    "###  Анализ актуальных игровых платформ"
   ]
  },
  {
   "cell_type": "markdown",
   "metadata": {},
   "source": [
    "Из предыдущего пункта мы узнали, что в среднем платформы живут 10 лет, произведем расчет на основании этих данных, то есть возьмем для анализа данные с 2007 года ( как раз отбросим \"мертвые платформы\")."
   ]
  },
  {
   "cell_type": "code",
   "execution_count": 298,
   "metadata": {},
   "outputs": [],
   "source": [
    "dataset=dataset[dataset['year_of_release'] > 2012]"
   ]
  },
  {
   "cell_type": "markdown",
   "metadata": {},
   "source": [
    "Возьмем период для исследования с 2013 г. ( считаю так мы захватим часть старых платформ, которые еще живы и барахтаются) и учтем появление новых, таких как PS4 и Xbox One. Плюс в описании проекта написано, что данные на декабрь 2016 г., то есть данных на конец 2016 г. нет).\n",
    "\n",
    "Еще один момент, почему я хочу захватить старые платформы: на них мы можем узнать какие игроки в какие жанры играют - и учесть это. Ведь если эти платформы \"умрут\" ( а они умрут так или иначе), чтобы мы знали какие жанры прибавятся на существующих платформах. Поясню: если человек играл в шутеры на ps2, то после ухода с рынка ps2 человек при переходе на новую платформу ( "
   ]
  },
  {
   "cell_type": "markdown",
   "metadata": {},
   "source": [
    "Сгруппируем данные по платформам:"
   ]
  },
  {
   "cell_type": "code",
   "execution_count": 299,
   "metadata": {},
   "outputs": [
    {
     "data": {
      "text/html": [
       "<div>\n",
       "<style scoped>\n",
       "    .dataframe tbody tr th:only-of-type {\n",
       "        vertical-align: middle;\n",
       "    }\n",
       "\n",
       "    .dataframe tbody tr th {\n",
       "        vertical-align: top;\n",
       "    }\n",
       "\n",
       "    .dataframe thead th {\n",
       "        text-align: right;\n",
       "    }\n",
       "</style>\n",
       "<table border=\"1\" class=\"dataframe\">\n",
       "  <thead>\n",
       "    <tr style=\"text-align: right;\">\n",
       "      <th>platform</th>\n",
       "      <th>year_of_release</th>\n",
       "      <th>3DS</th>\n",
       "      <th>DS</th>\n",
       "      <th>PC</th>\n",
       "      <th>PS3</th>\n",
       "      <th>PS4</th>\n",
       "      <th>PSP</th>\n",
       "      <th>PSV</th>\n",
       "      <th>Wii</th>\n",
       "      <th>WiiU</th>\n",
       "      <th>X360</th>\n",
       "      <th>XOne</th>\n",
       "    </tr>\n",
       "  </thead>\n",
       "  <tbody>\n",
       "    <tr>\n",
       "      <th>0</th>\n",
       "      <td>2013</td>\n",
       "      <td>56.57</td>\n",
       "      <td>1.54</td>\n",
       "      <td>12.38</td>\n",
       "      <td>113.25</td>\n",
       "      <td>25.99</td>\n",
       "      <td>3.14</td>\n",
       "      <td>10.59</td>\n",
       "      <td>8.59</td>\n",
       "      <td>21.65</td>\n",
       "      <td>88.58</td>\n",
       "      <td>18.96</td>\n",
       "    </tr>\n",
       "    <tr>\n",
       "      <th>1</th>\n",
       "      <td>2014</td>\n",
       "      <td>43.76</td>\n",
       "      <td>NaN</td>\n",
       "      <td>13.28</td>\n",
       "      <td>47.76</td>\n",
       "      <td>100.00</td>\n",
       "      <td>0.24</td>\n",
       "      <td>11.90</td>\n",
       "      <td>3.75</td>\n",
       "      <td>22.03</td>\n",
       "      <td>34.74</td>\n",
       "      <td>54.07</td>\n",
       "    </tr>\n",
       "    <tr>\n",
       "      <th>2</th>\n",
       "      <td>2015</td>\n",
       "      <td>27.78</td>\n",
       "      <td>NaN</td>\n",
       "      <td>8.52</td>\n",
       "      <td>16.82</td>\n",
       "      <td>118.90</td>\n",
       "      <td>0.12</td>\n",
       "      <td>6.25</td>\n",
       "      <td>1.14</td>\n",
       "      <td>16.35</td>\n",
       "      <td>11.96</td>\n",
       "      <td>60.14</td>\n",
       "    </tr>\n",
       "    <tr>\n",
       "      <th>3</th>\n",
       "      <td>2016</td>\n",
       "      <td>15.14</td>\n",
       "      <td>NaN</td>\n",
       "      <td>5.25</td>\n",
       "      <td>3.60</td>\n",
       "      <td>69.25</td>\n",
       "      <td>NaN</td>\n",
       "      <td>4.25</td>\n",
       "      <td>0.18</td>\n",
       "      <td>4.60</td>\n",
       "      <td>1.52</td>\n",
       "      <td>26.15</td>\n",
       "    </tr>\n",
       "  </tbody>\n",
       "</table>\n",
       "</div>"
      ],
      "text/plain": [
       "platform  year_of_release    3DS    DS     PC     PS3     PS4   PSP    PSV  \\\n",
       "0                    2013  56.57  1.54  12.38  113.25   25.99  3.14  10.59   \n",
       "1                    2014  43.76   NaN  13.28   47.76  100.00  0.24  11.90   \n",
       "2                    2015  27.78   NaN   8.52   16.82  118.90  0.12   6.25   \n",
       "3                    2016  15.14   NaN   5.25    3.60   69.25   NaN   4.25   \n",
       "\n",
       "platform   Wii   WiiU   X360   XOne  \n",
       "0         8.59  21.65  88.58  18.96  \n",
       "1         3.75  22.03  34.74  54.07  \n",
       "2         1.14  16.35  11.96  60.14  \n",
       "3         0.18   4.60   1.52  26.15  "
      ]
     },
     "metadata": {},
     "output_type": "display_data"
    }
   ],
   "source": [
    "pivot_dataset_platform_actual=pd.pivot_table(dataset,index=['year_of_release'], columns='platform',values='all_sales', aggfunc='sum').reset_index()\n",
    "\n",
    "display(pivot_dataset_platform_actual.head(10))"
   ]
  },
  {
   "cell_type": "code",
   "execution_count": 300,
   "metadata": {},
   "outputs": [
    {
     "data": {
      "image/png": "[encoded data removed]",
      "text/plain": [
       "<Figure size 1080x720 with 1 Axes>"
      ]
     },
     "metadata": {
      "needs_background": "light"
     },
     "output_type": "display_data"
    }
   ],
   "source": [
    "plt.figure(figsize=(15,10))\n",
    "plt.grid()\n",
    "plt.title('Продажи по годам на актуальных платформах')\n",
    "\n",
    "i=0\n",
    "for column in pivot_dataset_platform_actual.columns[1:]:\n",
    "    plt.plot(pivot_dataset_platform_actual.year_of_release.to_list(), pivot_dataset_platform_actual[column].to_list(), label=column);\n",
    "    i+=1\n",
    "\n",
    "plt.grid()\n",
    "plt.xlabel('Годы продаж')    \n",
    "plt.ylabel('Количество продаж')\n",
    "plt.legend()\n",
    "plt.show()"
   ]
  },
  {
   "cell_type": "markdown",
   "metadata": {},
   "source": [
    "Получаем, что самые прибыльные платформы на 2017 год - это PS4 ( новая игровая консоль) и XOne ( так же новая игровая консоль). Продажи на ПК так же значительно пошли на спад, но сбрасывать со счетов не стоит, так же как и 3DS. \n",
    "\n",
    "Итог: PS4, XOne, DS и PC (я думаю не стоит огорчять ПК-боярь :-))"
   ]
  },
  {
   "cell_type": "markdown",
   "metadata": {},
   "source": [
    "Посмотрим на продажи игр по платформам:"
   ]
  },
  {
   "cell_type": "code",
   "execution_count": 301,
   "metadata": {},
   "outputs": [
    {
     "data": {
      "text/plain": [
       "Text(0.5, 0.98, 'Продажи по платформам')"
      ]
     },
     "execution_count": 301,
     "metadata": {},
     "output_type": "execute_result"
    },
    {
     "data": {
      "image/png": "[encoded data removed]",
      "text/plain": [
       "<Figure size 720x720 with 1 Axes>"
      ]
     },
     "metadata": {
      "needs_background": "light"
     },
     "output_type": "display_data"
    }
   ],
   "source": [
    "ax = dataset[(dataset['platform'] == 'PS4') | \n",
    "             (dataset['platform'] == 'XOne') | \n",
    "             (dataset['platform'] == 'DS') | \n",
    "             (dataset['platform'] == 'PC')].boxplot(column='all_sales', by='platform', \n",
    "                                                    fontsize=12,medianprops=dict(linestyle='-', linewidth=5),figsize=(10,10))\n",
    "ax.set_title('')\n",
    "ax.title.set_size(40)\n",
    "ax.set_xlabel('')\n",
    "ax.set_ylim(0, 2)\n",
    "plt.suptitle('Продажи по платформам')"
   ]
  },
  {
   "cell_type": "markdown",
   "metadata": {},
   "source": [
    "Можем сказать следующее: лидерами по продажам видеоигры у нас остались PS4 и XOne - число проданных игр достигает практически 1,75 млн. Эти же платформы лидируют и по медиане продаж ( самая высокая, лидер - Xone - совсем чуть-чуть опередив PS4). Следом расположился DS и замыкает четверку лидеров ПК, но стоит отметить что ПК обгоняет DS по числу проданных игр."
   ]
  },
  {
   "cell_type": "markdown",
   "metadata": {},
   "source": [
    "Оценим зависимость продаж игр о ценок критиков и игроков на примере платформы PS4:"
   ]
  },
  {
   "cell_type": "code",
   "execution_count": 302,
   "metadata": {},
   "outputs": [
    {
     "data": {
      "image/png": "[encoded data removed]",
      "text/plain": [
       "<Figure size 360x360 with 1 Axes>"
      ]
     },
     "metadata": {
      "needs_background": "light"
     },
     "output_type": "display_data"
    }
   ],
   "source": [
    "data_PS4.plot(x='critic_score', y='all_sales', kind='scatter', figsize=(5, 5));\n",
    "plt.xlabel('Оценка критиков')\n",
    "plt.ylabel('Количество продаж в год')\n",
    "plt.title('Зависимость продаж игр от оценок критиков');"
   ]
  },
  {
   "cell_type": "code",
   "execution_count": 303,
   "metadata": {},
   "outputs": [
    {
     "data": {
      "image/png": "[encoded data removed]",
      "text/plain": [
       "<Figure size 360x360 with 1 Axes>"
      ]
     },
     "metadata": {
      "needs_background": "light"
     },
     "output_type": "display_data"
    }
   ],
   "source": [
    "data_PS4.plot(x='user_score', y='all_sales', kind='scatter', figsize=(5,5));\n",
    "plt.xlabel('Оценка игроков')\n",
    "plt.ylabel('Количество продаж в год')\n",
    "plt.title('Зависимость продаж игр от оценок игроков');"
   ]
  },
  {
   "cell_type": "code",
   "execution_count": 304,
   "metadata": {},
   "outputs": [
    {
     "data": {
      "text/html": [
       "<div>\n",
       "<style scoped>\n",
       "    .dataframe tbody tr th:only-of-type {\n",
       "        vertical-align: middle;\n",
       "    }\n",
       "\n",
       "    .dataframe tbody tr th {\n",
       "        vertical-align: top;\n",
       "    }\n",
       "\n",
       "    .dataframe thead th {\n",
       "        text-align: right;\n",
       "    }\n",
       "</style>\n",
       "<table border=\"1\" class=\"dataframe\">\n",
       "  <thead>\n",
       "    <tr style=\"text-align: right;\">\n",
       "      <th></th>\n",
       "      <th>critic_score</th>\n",
       "      <th>user_score</th>\n",
       "      <th>all_sales</th>\n",
       "    </tr>\n",
       "  </thead>\n",
       "  <tbody>\n",
       "    <tr>\n",
       "      <th>critic_score</th>\n",
       "      <td>1.000000</td>\n",
       "      <td>0.557654</td>\n",
       "      <td>0.406568</td>\n",
       "    </tr>\n",
       "    <tr>\n",
       "      <th>user_score</th>\n",
       "      <td>0.557654</td>\n",
       "      <td>1.000000</td>\n",
       "      <td>-0.031957</td>\n",
       "    </tr>\n",
       "    <tr>\n",
       "      <th>all_sales</th>\n",
       "      <td>0.406568</td>\n",
       "      <td>-0.031957</td>\n",
       "      <td>1.000000</td>\n",
       "    </tr>\n",
       "  </tbody>\n",
       "</table>\n",
       "</div>"
      ],
      "text/plain": [
       "              critic_score  user_score  all_sales\n",
       "critic_score      1.000000    0.557654   0.406568\n",
       "user_score        0.557654    1.000000  -0.031957\n",
       "all_sales         0.406568   -0.031957   1.000000"
      ]
     },
     "execution_count": 304,
     "metadata": {},
     "output_type": "execute_result"
    }
   ],
   "source": [
    "data_PS4[['critic_score','user_score','all_sales']].corr()"
   ]
  },
  {
   "cell_type": "markdown",
   "metadata": {},
   "source": [
    "Мы это предполагали, и подтвердили это: зависимость между отзывами критиков и продажей игр имеется, прямопропорциональная, хоть и не такая сильная (0,55 ), а вот отзывы пользователей практически не влияют на продажи."
   ]
  },
  {
   "cell_type": "markdown",
   "metadata": {},
   "source": [
    "Посмотрим на корреляцую некоторых других популярных платформ:"
   ]
  },
  {
   "cell_type": "code",
   "execution_count": 305,
   "metadata": {
    "scrolled": true
   },
   "outputs": [
    {
     "name": "stdout",
     "output_type": "stream",
     "text": [
      "DS:              critic_score  user_score  all_sales\n",
      "critic_score      1.000000    0.625020   0.392866\n",
      "user_score        0.625020    1.000000   0.114187\n",
      "all_sales         0.392866    0.114187   1.000000\n",
      "PC:              critic_score  user_score  all_sales\n",
      "critic_score      1.000000    0.552176   0.252997\n",
      "user_score        0.552176    1.000000   0.007293\n",
      "all_sales         0.252997    0.007293   1.000000\n"
     ]
    }
   ],
   "source": [
    "print (f\"DS:{data_X360[['critic_score','user_score','all_sales']].corr()}\")\n",
    "print (f\"PC:{data_PC[['critic_score','user_score','all_sales']].corr()}\")"
   ]
  },
  {
   "cell_type": "markdown",
   "metadata": {},
   "source": [
    "По рассмотреным платформам так же наблюдается прямопропорциональная связь между оценками критиков и продажами, пусть и не всегда сильная, а вот оценки пользователей практически не влиют на продажию"
   ]
  },
  {
   "cell_type": "markdown",
   "metadata": {},
   "source": [
    "### Распределение игр по жанрам"
   ]
  },
  {
   "cell_type": "markdown",
   "metadata": {},
   "source": [
    "Рассмотрим, как игры делятся по жанрам и делятся жанры по продажам:"
   ]
  },
  {
   "cell_type": "code",
   "execution_count": 306,
   "metadata": {},
   "outputs": [
    {
     "data": {
      "text/plain": [
       "genre\n",
       "Puzzle           17\n",
       "Strategy         56\n",
       "Simulation       62\n",
       "Platform         74\n",
       "Fighting         80\n",
       "Racing           85\n",
       "Misc            155\n",
       "Shooter         187\n",
       "Sports          214\n",
       "Adventure       245\n",
       "Role-Playing    292\n",
       "Action          766\n",
       "Name: name, dtype: int64"
      ]
     },
     "execution_count": 306,
     "metadata": {},
     "output_type": "execute_result"
    }
   ],
   "source": [
    "dataset_genre_kol=dataset.groupby('genre')['name'].count().sort_values()\n",
    "dataset_genre_kol.head(20)"
   ]
  },
  {
   "cell_type": "code",
   "execution_count": 307,
   "metadata": {},
   "outputs": [
    {
     "data": {
      "image/png": "[encoded data removed]",
      "text/plain": [
       "<Figure size 360x360 with 1 Axes>"
      ]
     },
     "metadata": {},
     "output_type": "display_data"
    }
   ],
   "source": [
    "plt.figure(figsize=(5,5))\n",
    "plt.pie(x=dataset_genre_kol, labels=dataset_genre_kol.index, autopct=\"%.1f\")\n",
    "plt.title('Игры по жанрам');\n",
    "plt.show()"
   ]
  },
  {
   "cell_type": "code",
   "execution_count": 308,
   "metadata": {},
   "outputs": [
    {
     "data": {
      "text/plain": [
       "genre\n",
       "Puzzle            3.17\n",
       "Strategy         10.08\n",
       "Simulation       21.76\n",
       "Adventure        23.64\n",
       "Fighting         35.31\n",
       "Racing           39.89\n",
       "Platform         42.63\n",
       "Misc             62.82\n",
       "Role-Playing    145.89\n",
       "Sports          150.65\n",
       "Shooter         232.98\n",
       "Action          321.87\n",
       "Name: all_sales, dtype: float64"
      ]
     },
     "execution_count": 308,
     "metadata": {},
     "output_type": "execute_result"
    }
   ],
   "source": [
    "dataset_genre_sale=dataset.groupby('genre')['all_sales'].sum().sort_values()\n",
    "dataset_genre_sale.head(20)"
   ]
  },
  {
   "cell_type": "code",
   "execution_count": 309,
   "metadata": {},
   "outputs": [
    {
     "data": {
      "image/png": "[encoded data removed]",
      "text/plain": [
       "<Figure size 360x360 with 1 Axes>"
      ]
     },
     "metadata": {},
     "output_type": "display_data"
    }
   ],
   "source": [
    "plt.figure(figsize=(5,5))\n",
    "plt.pie(x=dataset_genre_sale, labels=dataset_genre_sale.index, autopct=\"%.1f\")\n",
    "plt.title('Продажи по жанрам');\n",
    "plt.show()"
   ]
  },
  {
   "cell_type": "markdown",
   "metadata": {},
   "source": [
    "Самые выпускаемые игры по жанрам: Экшены (ожидаемо), <s>музыкальные ( неожиданно для меня)</s>, Ролевые, Приключения и Спорт. А вот в продаваемых играх есть рокировка: на первом месте также Экшены, на второе место вышли Шутеры ( хотя их выпускают всего лишь 8,4 % от общего числа), на третьем месте Спорт и на четвертом Ролевые игры, Приключения практически не покупают."
   ]
  },
  {
   "cell_type": "markdown",
   "metadata": {},
   "source": [
    "### Вывод"
   ]
  },
  {
   "cell_type": "markdown",
   "metadata": {},
   "source": [
    "* Расцвет видеоигр начался в 1995 году и по сей дей они очень популярны. В 2010 г. наблюдался всплеск по выпуску игр, после чего пошло постепенное уменьшение в количестве выпускаймых тайтлов ( наверное пользователи стали более превередливыми и издатели решили брать качеством, а не количеством).\n",
    "* Игры продавались по той же тенденции, что и выпускались: бум продаж начался в 1996 году и достиг пика в 2008 г, затем произошло постепенное снижение продаж.\n",
    "* За 20 лет развития игровой идустрии появлялись (которые мы рассматриваем), появлялись и развивались разные виды игровых платформ,которые полюбились в свое время пользователям, но получается так, что в среднем игровая платформа живет 10 лет ( я не буду здесь говорить о ПК, они мне кажется будут жить вечно, однако мощный компьютер дорогое удовольствие и сыграть в последний ААА проект бывает очень затратно - это ведь надо купить новую видеокарту, процессор и пр., поэтому возможно и ПК скоро вытяснят). Самые популярные платформы PS4, XOne, DS и PC - на них строит сделать упор в 2017 г.\n",
    "* Продажи игр на современных платформах имеют прямопропорциональную зависимость от оценки критиков ( пусть она и не очень сильная, но все же есть), а вот как показал анализ оценки пользователей мало влияют на продажи.\n",
    "* Самые выпускаемые жанры это Экшены, <s>Музыкальные</s>, Ролевые, Приключения и Спортивные игры. А вот самые продаваемые немного дургие: Экшены, Шутеры, Спортивные и Ролевые. Возможно стоит уделить вниманеи шутерам - делают их мало, а продаются они хорошо.\n"
   ]
  },
  {
   "cell_type": "markdown",
   "metadata": {},
   "source": [
    "## Портрет пользователя каждого региона"
   ]
  },
  {
   "cell_type": "markdown",
   "metadata": {},
   "source": [
    "### Самые популярные платформы (топ-5)"
   ]
  },
  {
   "cell_type": "code",
   "execution_count": 310,
   "metadata": {},
   "outputs": [
    {
     "data": {
      "text/html": [
       "<div>\n",
       "<style scoped>\n",
       "    .dataframe tbody tr th:only-of-type {\n",
       "        vertical-align: middle;\n",
       "    }\n",
       "\n",
       "    .dataframe tbody tr th {\n",
       "        vertical-align: top;\n",
       "    }\n",
       "\n",
       "    .dataframe thead th {\n",
       "        text-align: right;\n",
       "    }\n",
       "</style>\n",
       "<table border=\"1\" class=\"dataframe\">\n",
       "  <thead>\n",
       "    <tr style=\"text-align: right;\">\n",
       "      <th></th>\n",
       "      <th>platform</th>\n",
       "      <th>na_sales</th>\n",
       "    </tr>\n",
       "  </thead>\n",
       "  <tbody>\n",
       "    <tr>\n",
       "      <th>6</th>\n",
       "      <td>3DS</td>\n",
       "      <td>38.20</td>\n",
       "    </tr>\n",
       "    <tr>\n",
       "      <th>7</th>\n",
       "      <td>PS3</td>\n",
       "      <td>63.50</td>\n",
       "    </tr>\n",
       "    <tr>\n",
       "      <th>8</th>\n",
       "      <td>X360</td>\n",
       "      <td>81.66</td>\n",
       "    </tr>\n",
       "    <tr>\n",
       "      <th>9</th>\n",
       "      <td>XOne</td>\n",
       "      <td>93.12</td>\n",
       "    </tr>\n",
       "    <tr>\n",
       "      <th>10</th>\n",
       "      <td>PS4</td>\n",
       "      <td>108.74</td>\n",
       "    </tr>\n",
       "  </tbody>\n",
       "</table>\n",
       "</div>"
      ],
      "text/plain": [
       "   platform  na_sales\n",
       "6       3DS     38.20\n",
       "7       PS3     63.50\n",
       "8      X360     81.66\n",
       "9      XOne     93.12\n",
       "10      PS4    108.74"
      ]
     },
     "execution_count": 310,
     "metadata": {},
     "output_type": "execute_result"
    }
   ],
   "source": [
    "dataset_region_na=dataset.groupby('platform')['na_sales'].sum().sort_values().reset_index()\n",
    "dataset_region_na.columns = ['platform', 'na_sales']\n",
    "dataset_region_na=dataset_region_na[dataset_region_na['na_sales'] > 30]\n",
    "dataset_region_na.head(20)"
   ]
  },
  {
   "cell_type": "code",
   "execution_count": 311,
   "metadata": {},
   "outputs": [
    {
     "data": {
      "image/png": "[encoded data removed]",
      "text/plain": [
       "<Figure size 360x360 with 1 Axes>"
      ]
     },
     "metadata": {},
     "output_type": "display_data"
    }
   ],
   "source": [
    "plt.figure(figsize=(5,5))\n",
    "plt.pie(x=dataset_region_na['na_sales'], labels=dataset_region_na['platform'], autopct=\"%1.0f\")\n",
    "plt.title('Популярность платформ в Америке');\n",
    "plt.show()"
   ]
  },
  {
   "cell_type": "markdown",
   "metadata": {},
   "source": [
    "<s>В Америке особую популярность имеет платформа Икс Бокс X360, на втором месте расположился Wii и третьем соответсвенно PS3.</s>"
   ]
  },
  {
   "cell_type": "markdown",
   "metadata": {},
   "source": [
    "<div class=\"alert alert-block alert-info\">\n",
    "<b>КОММЕНТАРИЙ ОТ УЧЕНИКА: </b>\n",
    "    \n",
    "После изменения актуального периода вывод поменялся: Самая популярная платформа в Америке - это PS4, следом идут Xone и X360, PS3 и 3DS - замыкают пятерку лидеров в данном регионе.\n",
    "</div>"
   ]
  },
  {
   "cell_type": "code",
   "execution_count": 312,
   "metadata": {
    "scrolled": true
   },
   "outputs": [
    {
     "data": {
      "text/html": [
       "<div>\n",
       "<style scoped>\n",
       "    .dataframe tbody tr th:only-of-type {\n",
       "        vertical-align: middle;\n",
       "    }\n",
       "\n",
       "    .dataframe tbody tr th {\n",
       "        vertical-align: top;\n",
       "    }\n",
       "\n",
       "    .dataframe thead th {\n",
       "        text-align: right;\n",
       "    }\n",
       "</style>\n",
       "<table border=\"1\" class=\"dataframe\">\n",
       "  <thead>\n",
       "    <tr style=\"text-align: right;\">\n",
       "      <th></th>\n",
       "      <th>platform</th>\n",
       "      <th>eu_sales</th>\n",
       "    </tr>\n",
       "  </thead>\n",
       "  <tbody>\n",
       "    <tr>\n",
       "      <th>6</th>\n",
       "      <td>3DS</td>\n",
       "      <td>30.96</td>\n",
       "    </tr>\n",
       "    <tr>\n",
       "      <th>7</th>\n",
       "      <td>X360</td>\n",
       "      <td>42.52</td>\n",
       "    </tr>\n",
       "    <tr>\n",
       "      <th>8</th>\n",
       "      <td>XOne</td>\n",
       "      <td>51.59</td>\n",
       "    </tr>\n",
       "    <tr>\n",
       "      <th>9</th>\n",
       "      <td>PS3</td>\n",
       "      <td>67.81</td>\n",
       "    </tr>\n",
       "    <tr>\n",
       "      <th>10</th>\n",
       "      <td>PS4</td>\n",
       "      <td>141.09</td>\n",
       "    </tr>\n",
       "  </tbody>\n",
       "</table>\n",
       "</div>"
      ],
      "text/plain": [
       "   platform  eu_sales\n",
       "6       3DS     30.96\n",
       "7      X360     42.52\n",
       "8      XOne     51.59\n",
       "9       PS3     67.81\n",
       "10      PS4    141.09"
      ]
     },
     "execution_count": 312,
     "metadata": {},
     "output_type": "execute_result"
    }
   ],
   "source": [
    "dataset_region_eu=dataset.groupby('platform')['eu_sales'].sum().sort_values().reset_index()\n",
    "dataset_region_eu.columns = ['platform', 'eu_sales']\n",
    "dataset_region_eu=dataset_region_eu[dataset_region_eu['eu_sales'] > 30]\n",
    "dataset_region_eu.head(20)"
   ]
  },
  {
   "cell_type": "code",
   "execution_count": 313,
   "metadata": {},
   "outputs": [
    {
     "data": {
      "image/png": "[encoded data removed]",
      "text/plain": [
       "<Figure size 360x360 with 1 Axes>"
      ]
     },
     "metadata": {},
     "output_type": "display_data"
    }
   ],
   "source": [
    "plt.figure(figsize=(5,5))\n",
    "plt.pie(x=dataset_region_eu['eu_sales'], labels=dataset_region_eu['platform'], autopct=\"%1.0f\")\n",
    "plt.title('Популярность платформ в Европе');\n",
    "plt.show()"
   ]
  },
  {
   "cell_type": "markdown",
   "metadata": {},
   "source": [
    "В Европе в лидеры с существенным перевесом вырвалась новая игровая платформа PS4 ( новая на исследуемый период), на втором и третьем месте оказались PS3 и XOne соответственно. В целом набор платформ остался таким же, произошла их рокировка просто."
   ]
  },
  {
   "cell_type": "code",
   "execution_count": 314,
   "metadata": {},
   "outputs": [
    {
     "data": {
      "text/html": [
       "<div>\n",
       "<style scoped>\n",
       "    .dataframe tbody tr th:only-of-type {\n",
       "        vertical-align: middle;\n",
       "    }\n",
       "\n",
       "    .dataframe tbody tr th {\n",
       "        vertical-align: top;\n",
       "    }\n",
       "\n",
       "    .dataframe thead th {\n",
       "        text-align: right;\n",
       "    }\n",
       "</style>\n",
       "<table border=\"1\" class=\"dataframe\">\n",
       "  <thead>\n",
       "    <tr style=\"text-align: right;\">\n",
       "      <th></th>\n",
       "      <th>platform</th>\n",
       "      <th>jp_sales</th>\n",
       "    </tr>\n",
       "  </thead>\n",
       "  <tbody>\n",
       "    <tr>\n",
       "      <th>6</th>\n",
       "      <td>WiiU</td>\n",
       "      <td>10.88</td>\n",
       "    </tr>\n",
       "    <tr>\n",
       "      <th>7</th>\n",
       "      <td>PS4</td>\n",
       "      <td>15.96</td>\n",
       "    </tr>\n",
       "    <tr>\n",
       "      <th>8</th>\n",
       "      <td>PSV</td>\n",
       "      <td>18.59</td>\n",
       "    </tr>\n",
       "    <tr>\n",
       "      <th>9</th>\n",
       "      <td>PS3</td>\n",
       "      <td>23.35</td>\n",
       "    </tr>\n",
       "    <tr>\n",
       "      <th>10</th>\n",
       "      <td>3DS</td>\n",
       "      <td>67.81</td>\n",
       "    </tr>\n",
       "  </tbody>\n",
       "</table>\n",
       "</div>"
      ],
      "text/plain": [
       "   platform  jp_sales\n",
       "6      WiiU     10.88\n",
       "7       PS4     15.96\n",
       "8       PSV     18.59\n",
       "9       PS3     23.35\n",
       "10      3DS     67.81"
      ]
     },
     "execution_count": 314,
     "metadata": {},
     "output_type": "execute_result"
    }
   ],
   "source": [
    "dataset_region_jp=dataset.groupby('platform')['jp_sales'].sum().sort_values().reset_index()\n",
    "dataset_region_jp.columns = ['platform', 'jp_sales']\n",
    "dataset_region_jp=dataset_region_jp[dataset_region_jp['jp_sales'] > 5]\n",
    "dataset_region_jp.head(20)"
   ]
  },
  {
   "cell_type": "code",
   "execution_count": 315,
   "metadata": {},
   "outputs": [
    {
     "data": {
      "image/png": "[encoded data removed]",
      "text/plain": [
       "<Figure size 360x360 with 1 Axes>"
      ]
     },
     "metadata": {},
     "output_type": "display_data"
    }
   ],
   "source": [
    "plt.figure(figsize=(5,5))\n",
    "plt.pie(x=dataset_region_jp['jp_sales'], labels=dataset_region_jp['platform'], autopct=\"%1.0f\")\n",
    "plt.title('Популярность платформ в Японии');\n",
    "plt.show()"
   ]
  },
  {
   "cell_type": "markdown",
   "metadata": {},
   "source": [
    "В Япоснком регионе рокировка сил существенная, здесь за наблюдаемый период в лидеры выбилась платформа 3DS, которая завоевала 50% рынка, на втором и третьем месте PS3 и PSV (была у меня ПСВита, но я так не понял ее прелести). PS4 и WiiU замыкают пятерку лидеров.\n",
    "\n",
    "\n",
    "Рынки Европы, Америки и Японии существенно отличаются по игровым платформам. И если Америкак и Европа схожи в части набора платформ ( небольшие рокировки в процентном соотношении), то в Японии все все по другому."
   ]
  },
  {
   "cell_type": "markdown",
   "metadata": {},
   "source": [
    "### Самые популярные жанры (топ-5)"
   ]
  },
  {
   "cell_type": "code",
   "execution_count": 316,
   "metadata": {},
   "outputs": [
    {
     "data": {
      "text/html": [
       "<div>\n",
       "<style scoped>\n",
       "    .dataframe tbody tr th:only-of-type {\n",
       "        vertical-align: middle;\n",
       "    }\n",
       "\n",
       "    .dataframe tbody tr th {\n",
       "        vertical-align: top;\n",
       "    }\n",
       "\n",
       "    .dataframe thead th {\n",
       "        text-align: right;\n",
       "    }\n",
       "</style>\n",
       "<table border=\"1\" class=\"dataframe\">\n",
       "  <thead>\n",
       "    <tr style=\"text-align: right;\">\n",
       "      <th></th>\n",
       "      <th>genre</th>\n",
       "      <th>na_sales</th>\n",
       "    </tr>\n",
       "  </thead>\n",
       "  <tbody>\n",
       "    <tr>\n",
       "      <th>7</th>\n",
       "      <td>Misc</td>\n",
       "      <td>27.49</td>\n",
       "    </tr>\n",
       "    <tr>\n",
       "      <th>8</th>\n",
       "      <td>Role-Playing</td>\n",
       "      <td>46.40</td>\n",
       "    </tr>\n",
       "    <tr>\n",
       "      <th>9</th>\n",
       "      <td>Sports</td>\n",
       "      <td>65.27</td>\n",
       "    </tr>\n",
       "    <tr>\n",
       "      <th>10</th>\n",
       "      <td>Shooter</td>\n",
       "      <td>109.74</td>\n",
       "    </tr>\n",
       "    <tr>\n",
       "      <th>11</th>\n",
       "      <td>Action</td>\n",
       "      <td>126.05</td>\n",
       "    </tr>\n",
       "  </tbody>\n",
       "</table>\n",
       "</div>"
      ],
      "text/plain": [
       "           genre  na_sales\n",
       "7           Misc     27.49\n",
       "8   Role-Playing     46.40\n",
       "9         Sports     65.27\n",
       "10       Shooter    109.74\n",
       "11        Action    126.05"
      ]
     },
     "execution_count": 316,
     "metadata": {},
     "output_type": "execute_result"
    }
   ],
   "source": [
    "dataset_genre_na=dataset.groupby('genre')['na_sales'].sum().sort_values().reset_index()\n",
    "dataset_genre_na.columns = ['genre', 'na_sales']\n",
    "dataset_genre_na=dataset_genre_na[dataset_genre_na['na_sales'] > 25]\n",
    "dataset_genre_na.head(20)"
   ]
  },
  {
   "cell_type": "code",
   "execution_count": 317,
   "metadata": {},
   "outputs": [
    {
     "data": {
      "image/png": "[encoded data removed]",
      "text/plain": [
       "<Figure size 432x288 with 1 Axes>"
      ]
     },
     "metadata": {
      "needs_background": "light"
     },
     "output_type": "display_data"
    }
   ],
   "source": [
    "fig, ax = plt.subplots()\n",
    "ax.bar(dataset_genre_na['genre'], dataset_genre_na['na_sales'])\n",
    "plt.xlabel('Жанр')\n",
    "plt.ylabel('Количество продаж')\n",
    "plt.grid()\n",
    "plt.title('Продажа игр в Америке по жанрам')\n",
    "plt.show()"
   ]
  },
  {
   "cell_type": "markdown",
   "metadata": {},
   "source": [
    "В Америке игроки отдают предпочтение Экшенам ( они уверенно лидируют), следом идут с незначительными различиями идут Шутеры и Спорт. Ролевые и музыкальные игры закрывают популярные жанры."
   ]
  },
  {
   "cell_type": "code",
   "execution_count": 318,
   "metadata": {},
   "outputs": [
    {
     "data": {
      "text/html": [
       "<div>\n",
       "<style scoped>\n",
       "    .dataframe tbody tr th:only-of-type {\n",
       "        vertical-align: middle;\n",
       "    }\n",
       "\n",
       "    .dataframe tbody tr th {\n",
       "        vertical-align: top;\n",
       "    }\n",
       "\n",
       "    .dataframe thead th {\n",
       "        text-align: right;\n",
       "    }\n",
       "</style>\n",
       "<table border=\"1\" class=\"dataframe\">\n",
       "  <thead>\n",
       "    <tr style=\"text-align: right;\">\n",
       "      <th></th>\n",
       "      <th>genre</th>\n",
       "      <th>eu_sales</th>\n",
       "    </tr>\n",
       "  </thead>\n",
       "  <tbody>\n",
       "    <tr>\n",
       "      <th>7</th>\n",
       "      <td>Racing</td>\n",
       "      <td>20.19</td>\n",
       "    </tr>\n",
       "    <tr>\n",
       "      <th>8</th>\n",
       "      <td>Role-Playing</td>\n",
       "      <td>36.97</td>\n",
       "    </tr>\n",
       "    <tr>\n",
       "      <th>9</th>\n",
       "      <td>Sports</td>\n",
       "      <td>60.52</td>\n",
       "    </tr>\n",
       "    <tr>\n",
       "      <th>10</th>\n",
       "      <td>Shooter</td>\n",
       "      <td>87.86</td>\n",
       "    </tr>\n",
       "    <tr>\n",
       "      <th>11</th>\n",
       "      <td>Action</td>\n",
       "      <td>118.13</td>\n",
       "    </tr>\n",
       "  </tbody>\n",
       "</table>\n",
       "</div>"
      ],
      "text/plain": [
       "           genre  eu_sales\n",
       "7         Racing     20.19\n",
       "8   Role-Playing     36.97\n",
       "9         Sports     60.52\n",
       "10       Shooter     87.86\n",
       "11        Action    118.13"
      ]
     },
     "execution_count": 318,
     "metadata": {},
     "output_type": "execute_result"
    }
   ],
   "source": [
    "dataset_genre_eu=dataset.groupby('genre')['eu_sales'].sum().sort_values().reset_index()\n",
    "dataset_genre_eu.columns = ['genre', 'eu_sales']\n",
    "dataset_genre_eu=dataset_genre_eu[dataset_genre_eu['eu_sales'] > 20.10]\n",
    "dataset_genre_eu.head(20)"
   ]
  },
  {
   "cell_type": "code",
   "execution_count": 319,
   "metadata": {},
   "outputs": [
    {
     "data": {
      "image/png": "[encoded data removed]",
      "text/plain": [
       "<Figure size 432x288 with 1 Axes>"
      ]
     },
     "metadata": {
      "needs_background": "light"
     },
     "output_type": "display_data"
    }
   ],
   "source": [
    "fig, ax = plt.subplots()\n",
    "ax.bar(dataset_genre_eu['genre'], dataset_genre_eu['eu_sales'])\n",
    "plt.xlabel('Жанр')\n",
    "plt.ylabel('Количество продаж')\n",
    "plt.grid()\n",
    "plt.title('Продажа игр в Европе по жанрам')\n",
    "plt.show()"
   ]
  },
  {
   "cell_type": "markdown",
   "metadata": {},
   "source": [
    "Европейские геймеры по жанрам практически не отличаются от своих собратьев из Америки, единственное что на пятое место поднялись гонки."
   ]
  },
  {
   "cell_type": "code",
   "execution_count": 320,
   "metadata": {},
   "outputs": [
    {
     "data": {
      "text/html": [
       "<div>\n",
       "<style scoped>\n",
       "    .dataframe tbody tr th:only-of-type {\n",
       "        vertical-align: middle;\n",
       "    }\n",
       "\n",
       "    .dataframe tbody tr th {\n",
       "        vertical-align: top;\n",
       "    }\n",
       "\n",
       "    .dataframe thead th {\n",
       "        text-align: right;\n",
       "    }\n",
       "</style>\n",
       "<table border=\"1\" class=\"dataframe\">\n",
       "  <thead>\n",
       "    <tr style=\"text-align: right;\">\n",
       "      <th></th>\n",
       "      <th>genre</th>\n",
       "      <th>jp_sales</th>\n",
       "    </tr>\n",
       "  </thead>\n",
       "  <tbody>\n",
       "    <tr>\n",
       "      <th>7</th>\n",
       "      <td>Shooter</td>\n",
       "      <td>6.61</td>\n",
       "    </tr>\n",
       "    <tr>\n",
       "      <th>8</th>\n",
       "      <td>Fighting</td>\n",
       "      <td>7.65</td>\n",
       "    </tr>\n",
       "    <tr>\n",
       "      <th>9</th>\n",
       "      <td>Misc</td>\n",
       "      <td>9.20</td>\n",
       "    </tr>\n",
       "    <tr>\n",
       "      <th>10</th>\n",
       "      <td>Action</td>\n",
       "      <td>40.49</td>\n",
       "    </tr>\n",
       "    <tr>\n",
       "      <th>11</th>\n",
       "      <td>Role-Playing</td>\n",
       "      <td>51.04</td>\n",
       "    </tr>\n",
       "  </tbody>\n",
       "</table>\n",
       "</div>"
      ],
      "text/plain": [
       "           genre  jp_sales\n",
       "7        Shooter      6.61\n",
       "8       Fighting      7.65\n",
       "9           Misc      9.20\n",
       "10        Action     40.49\n",
       "11  Role-Playing     51.04"
      ]
     },
     "execution_count": 320,
     "metadata": {},
     "output_type": "execute_result"
    }
   ],
   "source": [
    "dataset_genre_jp = dataset.groupby('genre')['jp_sales'].sum().sort_values().reset_index()\n",
    "dataset_genre_jp.columns = ['genre', 'jp_sales']\n",
    "dataset_genre_jp=dataset_genre_jp[dataset_genre_jp['jp_sales'] > 6]\n",
    "dataset_genre_jp.head(20)"
   ]
  },
  {
   "cell_type": "code",
   "execution_count": 321,
   "metadata": {},
   "outputs": [
    {
     "data": {
      "image/png": "[encoded data removed]",
      "text/plain": [
       "<Figure size 432x288 with 1 Axes>"
      ]
     },
     "metadata": {
      "needs_background": "light"
     },
     "output_type": "display_data"
    }
   ],
   "source": [
    "fig, ax = plt.subplots()\n",
    "ax.bar(dataset_genre_jp['genre'], dataset_genre_jp['jp_sales'])\n",
    "plt.xlabel('Жанр')\n",
    "plt.ylabel('Количество продаж')\n",
    "plt.grid()\n",
    "plt.title('Продажа игр в Японии по жанрам')\n",
    "plt.show()"
   ]
  },
  {
   "cell_type": "code",
   "execution_count": 322,
   "metadata": {},
   "outputs": [
    {
     "data": {
      "image/png": "[encoded data removed]",
      "text/plain": [
       "<Figure size 432x288 with 1 Axes>"
      ]
     },
     "metadata": {
      "needs_background": "light"
     },
     "output_type": "display_data"
    },
    {
     "data": {
      "image/png": "[encoded data removed]",
      "text/plain": [
       "<Figure size 432x288 with 1 Axes>"
      ]
     },
     "metadata": {
      "needs_background": "light"
     },
     "output_type": "display_data"
    },
    {
     "data": {
      "image/png": "[encoded data removed]",
      "text/plain": [
       "<Figure size 432x288 with 1 Axes>"
      ]
     },
     "metadata": {
      "needs_background": "light"
     },
     "output_type": "display_data"
    }
   ],
   "source": [
    "fig, ax3 = plt.subplots()\n",
    "ax3.bar(dataset_genre_jp['genre'], dataset_genre_jp['jp_sales'])\n",
    "plt.xlabel('Жанр')\n",
    "plt.ylabel('Количество продаж')\n",
    "plt.grid()\n",
    "plt.title('Продажа игр в Японии по жанрам')\n",
    "plt.show()\n",
    "fig, ax2 = plt.subplots()\n",
    "ax2.bar(dataset_genre_na['genre'], dataset_genre_na['na_sales'])\n",
    "plt.xlabel('Жанр')\n",
    "plt.ylabel('Количество продаж')\n",
    "plt.grid()\n",
    "plt.title('Продажа игр в Америке по жанрам')\n",
    "plt.show()\n",
    "fig, ax3 = plt.subplots()\n",
    "ax3.bar(dataset_genre_jp['genre'], dataset_genre_jp['jp_sales'])\n",
    "plt.xlabel('Жанр')\n",
    "plt.ylabel('Количество продаж')\n",
    "plt.grid()\n",
    "plt.title('Продажа игр в Японии по жанрам')\n",
    "plt.show()"
   ]
  },
  {
   "cell_type": "markdown",
   "metadata": {},
   "source": [
    "Японский рынок игр как всегда выделился: на первое место с уверенным отрывом вышли ролевые игры, дальше идут Экшены, Музыкальный жанр и Файтинги, шутеры закрывают пятерку лидеров.\n",
    "\n",
    "\n",
    "Вкусы в играх совпадают в Европе и Америке, в обоих регионах уверенно лидируют три жанра: экшн, шутеры и спорт. Япония так же любит экшены, однако они на втором месте, уступив первое место ролевым играм, и третья позиця отличается от Америки с европой - японцы любят петь."
   ]
  },
  {
   "cell_type": "markdown",
   "metadata": {},
   "source": [
    "### Влияние рейтинга ESRB на продажи по регионам"
   ]
  },
  {
   "cell_type": "markdown",
   "metadata": {},
   "source": [
    "Соберем данные по возврастным ограничениям в одну таблицу:"
   ]
  },
  {
   "cell_type": "code",
   "execution_count": 323,
   "metadata": {},
   "outputs": [
    {
     "data": {
      "text/html": [
       "<div>\n",
       "<style scoped>\n",
       "    .dataframe tbody tr th:only-of-type {\n",
       "        vertical-align: middle;\n",
       "    }\n",
       "\n",
       "    .dataframe tbody tr th {\n",
       "        vertical-align: top;\n",
       "    }\n",
       "\n",
       "    .dataframe thead th {\n",
       "        text-align: right;\n",
       "    }\n",
       "</style>\n",
       "<table border=\"1\" class=\"dataframe\">\n",
       "  <thead>\n",
       "    <tr style=\"text-align: right;\">\n",
       "      <th></th>\n",
       "      <th>rating</th>\n",
       "      <th>na_sales</th>\n",
       "      <th>eu_sales</th>\n",
       "      <th>jp_sales</th>\n",
       "    </tr>\n",
       "  </thead>\n",
       "  <tbody>\n",
       "    <tr>\n",
       "      <th>0</th>\n",
       "      <td>E10+</td>\n",
       "      <td>54.24</td>\n",
       "      <td>42.69</td>\n",
       "      <td>5.89</td>\n",
       "    </tr>\n",
       "    <tr>\n",
       "      <th>1</th>\n",
       "      <td>M</td>\n",
       "      <td>165.21</td>\n",
       "      <td>145.32</td>\n",
       "      <td>14.11</td>\n",
       "    </tr>\n",
       "    <tr>\n",
       "      <th>2</th>\n",
       "      <td>E</td>\n",
       "      <td>79.05</td>\n",
       "      <td>83.36</td>\n",
       "      <td>15.14</td>\n",
       "    </tr>\n",
       "    <tr>\n",
       "      <th>3</th>\n",
       "      <td>T</td>\n",
       "      <td>49.79</td>\n",
       "      <td>41.95</td>\n",
       "      <td>20.59</td>\n",
       "    </tr>\n",
       "  </tbody>\n",
       "</table>\n",
       "</div>"
      ],
      "text/plain": [
       "  rating  na_sales  eu_sales  jp_sales\n",
       "0   E10+     54.24     42.69      5.89\n",
       "1      M    165.21    145.32     14.11\n",
       "2      E     79.05     83.36     15.14\n",
       "3      T     49.79     41.95     20.59"
      ]
     },
     "execution_count": 323,
     "metadata": {},
     "output_type": "execute_result"
    }
   ],
   "source": [
    "dataset_rating = dataset.groupby('rating')['na_sales', 'eu_sales', 'jp_sales'].sum().sort_values(by='jp_sales').reset_index()\n",
    "dataset_rating.head(10)"
   ]
  },
  {
   "cell_type": "markdown",
   "metadata": {},
   "source": [
    "Расшифровка рейтингов:\\\n",
    "E - для всех возрастных групп \\\n",
    "E10+ - для лиц страше 10+\\\n",
    "EC - для детей маленького возраста\\\n",
    "M - для взрослых\\\n",
    "RP - рейтинг еще не объявлен\\\n",
    "T - для подростков"
   ]
  },
  {
   "cell_type": "markdown",
   "metadata": {},
   "source": [
    "Игры для всех возврастных групп самые распространенные во всех регионах, жто и не удивительно - ни один издатель не хочется потерять денег при продажах и делает игры такими, чтобы они смогли охватить как можно большую возврастную категорию лиц. Второе место занимают игры для взрослых( в Европе и Америке), а вот в Японии на втором месте расположились игры для поздростков.Третье место в Америке и Европе поменялись местами с Японией. Доля игр других категорий крайне мала, чтобы учитывать их в анализе."
   ]
  },
  {
   "cell_type": "markdown",
   "metadata": {},
   "source": [
    "### Вывод"
   ]
  },
  {
   "cell_type": "markdown",
   "metadata": {},
   "source": [
    "* В Америке и Европе лидеры по платформам похожи: PS4 - лидер в этих регионах, незначительные изменения по платформам второго и третьего места: XOne и X360 и PS3. В Японии лидеры рынка платформ поменялись: 3DS - главный лидер (50%), следом идут PS3 и PSV.\n",
    "* Самые популярные жанры по регионам: это экшены, шутеры и спортивные игры. Свои коррективы вносит Японский регион: здесь на первое место выходят ролевые игры и увеличивается дола музыкальных тайтлов."
   ]
  },
  {
   "cell_type": "markdown",
   "metadata": {},
   "source": [
    "## Проверка гипотиз"
   ]
  },
  {
   "cell_type": "markdown",
   "metadata": {},
   "source": [
    "### Средние пользовательские рейтинги платформ Xbox и PC одинаковые"
   ]
  },
  {
   "cell_type": "markdown",
   "metadata": {},
   "source": [
    "Сформулируем гипотезы:\n",
    "* Нулевая гипотеза(H0): средние пользовательские рейтинги платформ Xbox One и PC одинаковые \n",
    "* Альтернативная гипотеза (Н1): средние пользовательские рейтинги платформ Xbox One и PC отличаются"
   ]
  },
  {
   "cell_type": "code",
   "execution_count": 324,
   "metadata": {},
   "outputs": [
    {
     "name": "stdout",
     "output_type": "stream",
     "text": [
      "p-значение:  0.14012658403611647\n",
      "Не получилось отвергнуть нулевую гипотезу\n"
     ]
    }
   ],
   "source": [
    "dataset_xbox=dataset[(dataset['platform'] == \"XOne\")]\n",
    "dataset_xbox.dropna(subset=['user_score'], inplace=True)\n",
    "dataset_xbox=dataset_xbox['user_score']\n",
    "\n",
    "dataset_pc=dataset[(dataset['platform'] == \"PC\")]\n",
    "dataset_pc.dropna(subset=['user_score'], inplace=True)\n",
    "dataset_pc=dataset_pc['user_score']\n",
    "\n",
    "alpha = .05 \n",
    "results = st.ttest_ind(\n",
    "    dataset_xbox, \n",
    "    dataset_pc)\n",
    "\n",
    "print('p-значение: ', results.pvalue)\n",
    "\n",
    "if results.pvalue < alpha:\n",
    "    print(\"Отвергаем нулевую гипотезу\")\n",
    "else:\n",
    "    print(\"Не получилось отвергнуть нулевую гипотезу\") "
   ]
  },
  {
   "cell_type": "code",
   "execution_count": 325,
   "metadata": {},
   "outputs": [
    {
     "name": "stdout",
     "output_type": "stream",
     "text": [
      "Средняя оценка пользователей XOne: 6.52142857142857\n",
      "Средняя оценка пользователей PC: 6.269677419354836\n"
     ]
    }
   ],
   "source": [
    "print('Средняя оценка пользователей XOne:',dataset_xbox.mean())\n",
    "print('Средняя оценка пользователей PC:',dataset_pc.mean())"
   ]
  },
  {
   "cell_type": "markdown",
   "metadata": {},
   "source": [
    "Расчеты говорят нам, что мы можем не отвергать нулевую гипотезу и предполагать, что среднии оценки пользователей по платформам равны."
   ]
  },
  {
   "cell_type": "markdown",
   "metadata": {},
   "source": [
    "### Средние пользовательские рейтинги жанров Action и Sports разные"
   ]
  },
  {
   "cell_type": "markdown",
   "metadata": {},
   "source": [
    "Сформулируем гипотезы:\n",
    "* Нулевая гипотеза(H0): Средние пользовательские рейтинги жанров Action и Sports одинаковые \n",
    "* Альтернативная гипотеза (Н1): Средние пользовательские рейтинги жанров Action и Sports разные"
   ]
  },
  {
   "cell_type": "code",
   "execution_count": 326,
   "metadata": {},
   "outputs": [
    {
     "name": "stdout",
     "output_type": "stream",
     "text": [
      "p-значение:  1.0517832389140023e-27\n",
      "Отвергаем нулевую гипотезу\n"
     ]
    }
   ],
   "source": [
    "dataset_action=dataset[(dataset['genre'] == \"Action\")]\n",
    "dataset_action.dropna(subset=['user_score'], inplace=True)\n",
    "dataset_action=dataset_action['user_score']\n",
    "\n",
    "dataset_sports=dataset[(dataset['genre'] == \"Sports\")]\n",
    "dataset_sports.dropna(subset=['user_score'], inplace=True)\n",
    "dataset_sports=dataset_sports['user_score']\n",
    "\n",
    "alpha = .05 \n",
    "results = st.ttest_ind(\n",
    "    dataset_action, \n",
    "    dataset_sports)\n",
    "\n",
    "print('p-значение: ', results.pvalue)\n",
    "\n",
    "if results.pvalue < alpha:\n",
    "    print(\"Отвергаем нулевую гипотезу\")\n",
    "else:\n",
    "    print(\"Не получилось отвергнуть нулевую гипотезу\") "
   ]
  },
  {
   "cell_type": "code",
   "execution_count": 327,
   "metadata": {},
   "outputs": [
    {
     "name": "stdout",
     "output_type": "stream",
     "text": [
      "Средняя оценка пользователей игр жанра Action: 6.837532133676097\n",
      "Средняя оценка пользователей игр жанра Sports: 5.238124999999999\n"
     ]
    }
   ],
   "source": [
    "print('Средняя оценка пользователей игр жанра Action:' ,dataset_action.mean())\n",
    "print('Средняя оценка пользователей игр жанра Sports:' ,dataset_sports.mean())"
   ]
  },
  {
   "cell_type": "markdown",
   "metadata": {},
   "source": [
    "Пользовательские оценки по жанрам отличаются, значит можем предположить, что нулевая гипотеза может быть отвергнута и мы можем сказать: Средние пользовательские рейтинги жанров Action и Sports разные"
   ]
  },
  {
   "cell_type": "markdown",
   "metadata": {},
   "source": [
    "## Общий вывод"
   ]
  },
  {
   "cell_type": "markdown",
   "metadata": {},
   "source": [
    "1. Предобработка данных:\n",
    "* Мы привели написание столбцов к нижнему регистру: теперь это смотрится аккуратно и красиов.\n",
    "* Выяснили, что дубликатов и неявных дубликатов нет.\n",
    "* Превели необходимы нам столбцы к нужным типам: float64 И Int64.\n",
    "* Пропуски по столбцам critic_score, user_score, rating и year_of_release оставили как есть, так как не нашли адекватной возможности найти замену пропускам.\n",
    "* Посчитали полную выручку по всем каналам продаж для каждой игры\n",
    "\n",
    "2. Исследовательский анализ данных:\n",
    "* Расцвет видеоигр начался в 1995 году и по сей дей они очень популярны. В 2010 г. наблюдался всплеск по выпуску игр, после чего пошло постепенное уменьшение в количестве выпускаймых тайтлов ( наверное пользователи стали более превередливыми и издатели решили брать качеством, а не количеством).\n",
    "* Игры продавались по той же тенденции, что и выпускались: бум продаж начался в 1996 году и достиг пика в 2008 г, затем произошло постепенное снижение продаж.\n",
    "* За 20 лет развития игровой идустрии появлялись (которые мы рассматриваем), появлялись и развивались разные виды игровых платформ,которые полюбились в свое время пользователям, но получается так, что в среднем игровая платформа живет 10 лет ( я не буду здесь говорить о ПК, они мне кажется будут жить вечно, однако мощный компьютер дорогое удовольствие и сыграть в последний ААА проект бывает очень затратно - это ведь надо купить новую видеокарту, процессор и пр., поэтому возможно и ПК скоро вытяснят). Самые популярные платформы -PS4, XOne,PC и добилась платформа DS.\n",
    "* Продажи игр на современных платформах имеют прямопропорциональную зависимость от оценки критиков ( пусть она и не очень сильная, но все же есть), а вот как показал анализ оценки пользователей мало влияют на продажи.\n",
    "* Самые выпускаемые жанры это Экшены, Ролевые, Приключения и Спортивные игры. А вот самые продаваемые немного дургие: Экшены, Шутеры, Спортивные и Ролевые. Возможно стоит уделить вниманеи шутерам - делают их мало, а продаются они хорошо.\n",
    "\n",
    "3. Портрет пользователя каждого региона:\n",
    "* В Америке и Европе лидеры по платформам похожи: PS4 - лидер в этих регионах, незначительные изменения по платформам второго и третьего места: XOne и X360 и PS3. В Японии лидеры рынка платформ поменялись: 3DS - главный лидер (50%), следом идут PS3 и PSV.\n",
    "* Самые популярные жанры по регионам: это экшены, шутеры и спортивные игры. Свои коррективы вносит Японский регион: здесь на первое место выходят ролевые игры и увеличивается дола музыкальных тайтлов.\n",
    "* Поизводители игр во всех регионах стараются делать игры для взрослых и для всех возврастных групп, чтобы охватить как можно больше людей.\n",
    "4. Проверка гипотиз:\n",
    "* Средние пользовательские рейтинги платформ Xbox и PC одинаковые\n",
    "* Средние пользовательские рейтинги жанров Action и Sports разные"
   ]
  }
 ],
 "metadata": {
  "ExecuteTimeLog": [
   {
    "duration": 3,
    "start_time": "2022-01-19T10:49:32.225Z"
   },
   {
    "duration": 2,
    "start_time": "2022-01-19T10:52:24.884Z"
   },
   {
    "duration": 1073,
    "start_time": "2022-01-19T11:07:27.710Z"
   },
   {
    "duration": 39,
    "start_time": "2022-01-19T11:08:31.625Z"
   },
   {
    "duration": 18,
    "start_time": "2022-01-19T11:08:33.217Z"
   },
   {
    "duration": 4,
    "start_time": "2022-01-19T11:11:46.616Z"
   },
   {
    "duration": 11,
    "start_time": "2022-01-19T11:11:48.516Z"
   },
   {
    "duration": 357,
    "start_time": "2022-01-19T11:18:01.975Z"
   },
   {
    "duration": 4,
    "start_time": "2022-01-19T11:18:08.214Z"
   },
   {
    "duration": 9,
    "start_time": "2022-01-19T11:36:54.720Z"
   },
   {
    "duration": 10,
    "start_time": "2022-01-19T11:37:09.690Z"
   },
   {
    "duration": 113,
    "start_time": "2022-01-19T11:37:55.449Z"
   },
   {
    "duration": 7,
    "start_time": "2022-01-19T11:38:15.138Z"
   },
   {
    "duration": 4,
    "start_time": "2022-01-19T11:39:27.492Z"
   },
   {
    "duration": 16,
    "start_time": "2022-01-19T11:39:30.875Z"
   },
   {
    "duration": 88,
    "start_time": "2022-01-19T11:39:47.875Z"
   },
   {
    "duration": 9,
    "start_time": "2022-01-19T11:40:20.829Z"
   },
   {
    "duration": 15,
    "start_time": "2022-01-19T11:42:48.551Z"
   },
   {
    "duration": 254,
    "start_time": "2022-01-19T12:04:33.680Z"
   },
   {
    "duration": 6,
    "start_time": "2022-01-19T12:04:38.624Z"
   },
   {
    "duration": 12,
    "start_time": "2022-01-19T12:05:22.137Z"
   },
   {
    "duration": 5,
    "start_time": "2022-01-19T12:05:24.426Z"
   },
   {
    "duration": 92,
    "start_time": "2022-01-19T12:05:28.769Z"
   },
   {
    "duration": 6,
    "start_time": "2022-01-19T12:05:31.570Z"
   },
   {
    "duration": 6,
    "start_time": "2022-01-19T12:06:00.961Z"
   },
   {
    "duration": 5,
    "start_time": "2022-01-19T12:06:05.850Z"
   },
   {
    "duration": 5,
    "start_time": "2022-01-19T12:06:12.114Z"
   },
   {
    "duration": 80,
    "start_time": "2022-01-19T12:06:16.667Z"
   },
   {
    "duration": 5,
    "start_time": "2022-01-19T12:06:21.707Z"
   },
   {
    "duration": 6,
    "start_time": "2022-01-19T12:06:54.228Z"
   },
   {
    "duration": 25,
    "start_time": "2022-01-19T12:07:31.463Z"
   },
   {
    "duration": 24,
    "start_time": "2022-01-19T12:07:43.886Z"
   },
   {
    "duration": 27,
    "start_time": "2022-01-19T12:07:47.869Z"
   },
   {
    "duration": 26,
    "start_time": "2022-01-19T12:07:52.909Z"
   },
   {
    "duration": 25,
    "start_time": "2022-01-19T12:07:58.581Z"
   },
   {
    "duration": 26,
    "start_time": "2022-01-19T12:08:02.677Z"
   },
   {
    "duration": 24,
    "start_time": "2022-01-19T12:08:08.229Z"
   },
   {
    "duration": 24,
    "start_time": "2022-01-19T12:08:12.797Z"
   },
   {
    "duration": 25,
    "start_time": "2022-01-19T12:08:18.390Z"
   },
   {
    "duration": 24,
    "start_time": "2022-01-19T12:08:23.037Z"
   },
   {
    "duration": 24,
    "start_time": "2022-01-19T12:08:27.438Z"
   },
   {
    "duration": 25,
    "start_time": "2022-01-19T12:08:31.718Z"
   },
   {
    "duration": 25,
    "start_time": "2022-01-19T12:08:36.014Z"
   },
   {
    "duration": 25,
    "start_time": "2022-01-19T12:08:40.261Z"
   },
   {
    "duration": 24,
    "start_time": "2022-01-19T12:09:01.406Z"
   },
   {
    "duration": 273,
    "start_time": "2022-01-19T12:09:12.373Z"
   },
   {
    "duration": 82,
    "start_time": "2022-01-19T12:09:16.197Z"
   },
   {
    "duration": 294,
    "start_time": "2022-01-19T12:09:19.990Z"
   },
   {
    "duration": 5,
    "start_time": "2022-01-19T12:09:30.091Z"
   },
   {
    "duration": 6,
    "start_time": "2022-01-19T12:10:09.854Z"
   },
   {
    "duration": 568,
    "start_time": "2022-01-19T12:10:34.295Z"
   },
   {
    "duration": 6,
    "start_time": "2022-01-19T12:10:42.303Z"
   },
   {
    "duration": 9,
    "start_time": "2022-01-19T12:10:55.183Z"
   },
   {
    "duration": 6,
    "start_time": "2022-01-19T12:11:08.111Z"
   },
   {
    "duration": 5,
    "start_time": "2022-01-19T12:11:15.256Z"
   },
   {
    "duration": 5,
    "start_time": "2022-01-19T12:11:54.761Z"
   },
   {
    "duration": 19,
    "start_time": "2022-01-19T12:12:16.092Z"
   },
   {
    "duration": 82,
    "start_time": "2022-01-19T12:12:33.738Z"
   },
   {
    "duration": 6,
    "start_time": "2022-01-19T12:12:45.018Z"
   },
   {
    "duration": 5,
    "start_time": "2022-01-19T12:12:50.546Z"
   },
   {
    "duration": 6,
    "start_time": "2022-01-19T12:12:55.746Z"
   },
   {
    "duration": 7,
    "start_time": "2022-01-19T12:16:38.348Z"
   },
   {
    "duration": 10,
    "start_time": "2022-01-19T12:16:44.508Z"
   },
   {
    "duration": 11,
    "start_time": "2022-01-19T12:17:15.629Z"
   },
   {
    "duration": 11,
    "start_time": "2022-01-19T12:17:19.788Z"
   },
   {
    "duration": 3,
    "start_time": "2022-01-19T12:17:28.799Z"
   },
   {
    "duration": 49,
    "start_time": "2022-01-19T12:17:28.804Z"
   },
   {
    "duration": 25,
    "start_time": "2022-01-19T12:17:28.855Z"
   },
   {
    "duration": 24,
    "start_time": "2022-01-19T12:17:28.882Z"
   },
   {
    "duration": 15,
    "start_time": "2022-01-19T12:17:28.908Z"
   },
   {
    "duration": 24,
    "start_time": "2022-01-19T12:17:28.924Z"
   },
   {
    "duration": 27,
    "start_time": "2022-01-19T12:17:28.949Z"
   },
   {
    "duration": 39,
    "start_time": "2022-01-19T12:17:28.978Z"
   },
   {
    "duration": 27,
    "start_time": "2022-01-19T12:17:29.019Z"
   },
   {
    "duration": 21,
    "start_time": "2022-01-19T12:17:29.048Z"
   },
   {
    "duration": 23,
    "start_time": "2022-01-19T12:17:29.070Z"
   },
   {
    "duration": 84,
    "start_time": "2022-01-19T12:18:19.191Z"
   },
   {
    "duration": 91,
    "start_time": "2022-01-19T12:18:27.599Z"
   },
   {
    "duration": 10,
    "start_time": "2022-01-19T12:18:36.374Z"
   },
   {
    "duration": 16,
    "start_time": "2022-01-19T12:22:14.819Z"
   },
   {
    "duration": 8,
    "start_time": "2022-01-19T12:27:28.867Z"
   },
   {
    "duration": 11,
    "start_time": "2022-01-19T12:27:41.418Z"
   },
   {
    "duration": 89,
    "start_time": "2022-01-19T12:33:29.043Z"
   },
   {
    "duration": 286,
    "start_time": "2022-01-19T12:34:22.085Z"
   },
   {
    "duration": 7532,
    "start_time": "2022-01-19T12:34:26.764Z"
   },
   {
    "duration": 6589,
    "start_time": "2022-01-19T12:34:54.539Z"
   },
   {
    "duration": 9,
    "start_time": "2022-01-19T12:35:37.222Z"
   },
   {
    "duration": 51,
    "start_time": "2022-01-19T12:35:54.797Z"
   },
   {
    "duration": 44,
    "start_time": "2022-01-19T12:35:54.805Z"
   },
   {
    "duration": 9,
    "start_time": "2022-01-19T12:36:17.559Z"
   },
   {
    "duration": 14,
    "start_time": "2022-01-19T12:36:24.472Z"
   },
   {
    "duration": 12,
    "start_time": "2022-01-19T12:37:37.970Z"
   },
   {
    "duration": 9,
    "start_time": "2022-01-19T12:37:39.465Z"
   },
   {
    "duration": 94,
    "start_time": "2022-01-19T12:39:15.043Z"
   },
   {
    "duration": 12,
    "start_time": "2022-01-19T12:39:43.027Z"
   },
   {
    "duration": 14,
    "start_time": "2022-01-19T12:39:55.758Z"
   },
   {
    "duration": 14,
    "start_time": "2022-01-19T12:40:11.077Z"
   },
   {
    "duration": 7,
    "start_time": "2022-01-19T12:40:34.461Z"
   },
   {
    "duration": 7,
    "start_time": "2022-01-19T12:40:36.477Z"
   },
   {
    "duration": 7,
    "start_time": "2022-01-19T12:40:38.045Z"
   },
   {
    "duration": 4,
    "start_time": "2022-01-19T13:12:13.159Z"
   },
   {
    "duration": 105,
    "start_time": "2022-01-19T13:15:16.947Z"
   },
   {
    "duration": 276,
    "start_time": "2022-01-19T13:15:30.611Z"
   },
   {
    "duration": 276,
    "start_time": "2022-01-19T13:15:36.412Z"
   },
   {
    "duration": 13,
    "start_time": "2022-01-19T13:15:41.979Z"
   },
   {
    "duration": 88,
    "start_time": "2022-01-19T13:17:38.727Z"
   },
   {
    "duration": 280,
    "start_time": "2022-01-19T13:18:45.345Z"
   },
   {
    "duration": 274,
    "start_time": "2022-01-19T13:26:54.612Z"
   },
   {
    "duration": 281,
    "start_time": "2022-01-19T13:29:28.622Z"
   },
   {
    "duration": 6,
    "start_time": "2022-01-19T13:32:43.042Z"
   },
   {
    "duration": 4,
    "start_time": "2022-01-19T13:32:48.642Z"
   },
   {
    "duration": 16,
    "start_time": "2022-01-19T13:33:02.114Z"
   },
   {
    "duration": 3,
    "start_time": "2022-01-19T13:33:09.355Z"
   },
   {
    "duration": 4,
    "start_time": "2022-01-19T13:34:06.251Z"
   },
   {
    "duration": 5,
    "start_time": "2022-01-19T13:40:55.301Z"
   },
   {
    "duration": 5,
    "start_time": "2022-01-19T13:45:57.508Z"
   },
   {
    "duration": 18,
    "start_time": "2022-01-19T13:46:15.003Z"
   },
   {
    "duration": 3,
    "start_time": "2022-01-19T13:46:27.493Z"
   },
   {
    "duration": 52,
    "start_time": "2022-01-19T13:46:27.498Z"
   },
   {
    "duration": 26,
    "start_time": "2022-01-19T13:46:27.552Z"
   },
   {
    "duration": 25,
    "start_time": "2022-01-19T13:46:27.579Z"
   },
   {
    "duration": 29,
    "start_time": "2022-01-19T13:46:27.606Z"
   },
   {
    "duration": 42,
    "start_time": "2022-01-19T13:46:27.636Z"
   },
   {
    "duration": 33,
    "start_time": "2022-01-19T13:46:27.680Z"
   },
   {
    "duration": 32,
    "start_time": "2022-01-19T13:46:27.715Z"
   },
   {
    "duration": 37,
    "start_time": "2022-01-19T13:46:27.748Z"
   },
   {
    "duration": 20,
    "start_time": "2022-01-19T13:46:27.787Z"
   },
   {
    "duration": 36,
    "start_time": "2022-01-19T13:46:27.809Z"
   },
   {
    "duration": 24,
    "start_time": "2022-01-19T13:46:27.847Z"
   },
   {
    "duration": 26,
    "start_time": "2022-01-19T13:46:27.873Z"
   },
   {
    "duration": 32,
    "start_time": "2022-01-19T13:46:27.901Z"
   },
   {
    "duration": 20,
    "start_time": "2022-01-19T13:46:27.935Z"
   },
   {
    "duration": 25,
    "start_time": "2022-01-19T13:46:27.956Z"
   },
   {
    "duration": 32,
    "start_time": "2022-01-19T13:46:27.983Z"
   },
   {
    "duration": 23,
    "start_time": "2022-01-19T13:46:28.017Z"
   },
   {
    "duration": 35,
    "start_time": "2022-01-19T13:46:28.041Z"
   },
   {
    "duration": 16,
    "start_time": "2022-01-19T13:46:40.164Z"
   },
   {
    "duration": 8,
    "start_time": "2022-01-19T13:46:54.433Z"
   },
   {
    "duration": 18,
    "start_time": "2022-01-19T13:46:56.525Z"
   },
   {
    "duration": 18,
    "start_time": "2022-01-19T13:47:24.565Z"
   },
   {
    "duration": 18,
    "start_time": "2022-01-19T13:47:42.117Z"
   },
   {
    "duration": 16,
    "start_time": "2022-01-19T13:48:03.170Z"
   },
   {
    "duration": 3,
    "start_time": "2022-01-19T13:48:10.990Z"
   },
   {
    "duration": 37,
    "start_time": "2022-01-19T13:48:11.991Z"
   },
   {
    "duration": 14,
    "start_time": "2022-01-19T13:48:12.614Z"
   },
   {
    "duration": 6600,
    "start_time": "2022-01-19T13:50:16.458Z"
   },
   {
    "duration": 15,
    "start_time": "2022-01-19T13:50:25.729Z"
   },
   {
    "duration": 9,
    "start_time": "2022-01-19T13:50:33.017Z"
   },
   {
    "duration": 6718,
    "start_time": "2022-01-19T13:55:53.736Z"
   },
   {
    "duration": 6636,
    "start_time": "2022-01-19T13:56:05.865Z"
   },
   {
    "duration": 3,
    "start_time": "2022-01-19T13:56:16.888Z"
   },
   {
    "duration": 42,
    "start_time": "2022-01-19T13:56:16.893Z"
   },
   {
    "duration": 18,
    "start_time": "2022-01-19T13:56:16.937Z"
   },
   {
    "duration": 8,
    "start_time": "2022-01-19T13:56:16.957Z"
   },
   {
    "duration": 8,
    "start_time": "2022-01-19T13:56:16.966Z"
   },
   {
    "duration": 31,
    "start_time": "2022-01-19T13:56:16.976Z"
   },
   {
    "duration": 15,
    "start_time": "2022-01-19T13:56:17.009Z"
   },
   {
    "duration": 15,
    "start_time": "2022-01-19T13:56:17.027Z"
   },
   {
    "duration": 14,
    "start_time": "2022-01-19T13:56:17.044Z"
   },
   {
    "duration": 8,
    "start_time": "2022-01-19T13:56:17.060Z"
   },
   {
    "duration": 42,
    "start_time": "2022-01-19T13:56:17.070Z"
   },
   {
    "duration": 10,
    "start_time": "2022-01-19T13:56:17.114Z"
   },
   {
    "duration": 8,
    "start_time": "2022-01-19T13:56:17.126Z"
   },
   {
    "duration": 9,
    "start_time": "2022-01-19T13:56:17.135Z"
   },
   {
    "duration": 19,
    "start_time": "2022-01-19T13:56:17.145Z"
   },
   {
    "duration": 33,
    "start_time": "2022-01-19T13:56:17.166Z"
   },
   {
    "duration": 7,
    "start_time": "2022-01-19T13:56:17.201Z"
   },
   {
    "duration": 10,
    "start_time": "2022-01-19T13:56:17.210Z"
   },
   {
    "duration": 6,
    "start_time": "2022-01-19T13:56:17.222Z"
   },
   {
    "duration": 12,
    "start_time": "2022-01-19T13:56:17.229Z"
   },
   {
    "duration": 88,
    "start_time": "2022-01-19T14:16:07.460Z"
   },
   {
    "duration": 265,
    "start_time": "2022-01-19T14:16:53.700Z"
   },
   {
    "duration": 12,
    "start_time": "2022-01-19T14:17:01.788Z"
   },
   {
    "duration": 9,
    "start_time": "2022-01-19T14:18:02.541Z"
   },
   {
    "duration": 300,
    "start_time": "2022-01-19T14:18:49.054Z"
   },
   {
    "duration": 9,
    "start_time": "2022-01-19T14:19:02.559Z"
   },
   {
    "duration": 275,
    "start_time": "2022-01-19T14:19:09.607Z"
   },
   {
    "duration": 271,
    "start_time": "2022-01-19T14:19:22.009Z"
   },
   {
    "duration": 9,
    "start_time": "2022-01-19T14:19:38.959Z"
   },
   {
    "duration": 15,
    "start_time": "2022-01-19T14:19:44.999Z"
   },
   {
    "duration": 8,
    "start_time": "2022-01-19T14:19:58.504Z"
   },
   {
    "duration": 12,
    "start_time": "2022-01-19T14:20:26.936Z"
   },
   {
    "duration": 6913,
    "start_time": "2022-01-19T14:21:16.018Z"
   },
   {
    "duration": 7499,
    "start_time": "2022-01-19T14:21:23.594Z"
   },
   {
    "duration": 13,
    "start_time": "2022-01-19T14:21:37.418Z"
   },
   {
    "duration": 290,
    "start_time": "2022-01-19T14:21:38.956Z"
   },
   {
    "duration": 309,
    "start_time": "2022-01-19T14:22:25.099Z"
   },
   {
    "duration": 262,
    "start_time": "2022-01-19T14:22:32.036Z"
   },
   {
    "duration": 282,
    "start_time": "2022-01-19T14:22:45.020Z"
   },
   {
    "duration": 310,
    "start_time": "2022-01-19T14:22:49.140Z"
   },
   {
    "duration": 382,
    "start_time": "2022-01-19T14:22:52.716Z"
   },
   {
    "duration": 312,
    "start_time": "2022-01-19T14:22:56.814Z"
   },
   {
    "duration": 358,
    "start_time": "2022-01-19T14:23:38.342Z"
   },
   {
    "duration": 286,
    "start_time": "2022-01-19T14:23:57.661Z"
   },
   {
    "duration": 302,
    "start_time": "2022-01-19T14:24:03.709Z"
   },
   {
    "duration": 335,
    "start_time": "2022-01-19T14:24:07.469Z"
   },
   {
    "duration": 274,
    "start_time": "2022-01-19T14:24:19.118Z"
   },
   {
    "duration": 317,
    "start_time": "2022-01-19T14:24:26.694Z"
   },
   {
    "duration": 9,
    "start_time": "2022-01-19T14:24:40.910Z"
   },
   {
    "duration": 8,
    "start_time": "2022-01-19T14:24:44.350Z"
   },
   {
    "duration": 8,
    "start_time": "2022-01-19T14:24:47.067Z"
   },
   {
    "duration": 4412,
    "start_time": "2022-01-19T14:24:48.118Z"
   },
   {
    "duration": 10,
    "start_time": "2022-01-19T14:25:01.415Z"
   },
   {
    "duration": 291,
    "start_time": "2022-01-19T14:25:03.183Z"
   },
   {
    "duration": 340,
    "start_time": "2022-01-19T14:25:35.615Z"
   },
   {
    "duration": 462,
    "start_time": "2022-01-19T14:25:41.791Z"
   },
   {
    "duration": 355,
    "start_time": "2022-01-19T14:25:45.279Z"
   },
   {
    "duration": 477,
    "start_time": "2022-01-19T14:25:49.464Z"
   },
   {
    "duration": 329,
    "start_time": "2022-01-19T14:25:55.527Z"
   },
   {
    "duration": 308,
    "start_time": "2022-01-19T14:25:59.577Z"
   },
   {
    "duration": 91,
    "start_time": "2022-01-19T15:33:04.620Z"
   },
   {
    "duration": 321,
    "start_time": "2022-01-19T15:34:45.542Z"
   },
   {
    "duration": 306,
    "start_time": "2022-01-19T15:35:31.775Z"
   },
   {
    "duration": 98,
    "start_time": "2022-01-19T15:40:25.382Z"
   },
   {
    "duration": 10,
    "start_time": "2022-01-19T15:42:49.761Z"
   },
   {
    "duration": 9,
    "start_time": "2022-01-19T15:43:21.874Z"
   },
   {
    "duration": 328,
    "start_time": "2022-01-19T15:44:08.731Z"
   },
   {
    "duration": 334,
    "start_time": "2022-01-19T15:44:15.099Z"
   },
   {
    "duration": 321,
    "start_time": "2022-01-19T15:44:41.684Z"
   },
   {
    "duration": 9,
    "start_time": "2022-01-19T15:44:42.884Z"
   },
   {
    "duration": 321,
    "start_time": "2022-01-19T15:44:44.102Z"
   },
   {
    "duration": 321,
    "start_time": "2022-01-19T15:44:50.212Z"
   },
   {
    "duration": 9,
    "start_time": "2022-01-19T15:44:54.075Z"
   },
   {
    "duration": 9,
    "start_time": "2022-01-19T15:44:59.516Z"
   },
   {
    "duration": 1206,
    "start_time": "2022-01-19T15:46:04.093Z"
   },
   {
    "duration": 1314,
    "start_time": "2022-01-19T15:50:11.804Z"
   },
   {
    "duration": 422,
    "start_time": "2022-01-19T15:50:52.012Z"
   },
   {
    "duration": 314,
    "start_time": "2022-01-19T15:50:58.396Z"
   },
   {
    "duration": 299,
    "start_time": "2022-01-19T15:51:14.731Z"
   },
   {
    "duration": 437,
    "start_time": "2022-01-19T15:51:32.004Z"
   },
   {
    "duration": 97,
    "start_time": "2022-01-19T15:51:45.196Z"
   },
   {
    "duration": 338,
    "start_time": "2022-01-19T15:51:48.284Z"
   },
   {
    "duration": 303,
    "start_time": "2022-01-19T15:52:12.949Z"
   },
   {
    "duration": 335,
    "start_time": "2022-01-19T15:52:18.065Z"
   },
   {
    "duration": 335,
    "start_time": "2022-01-19T15:52:43.246Z"
   },
   {
    "duration": 6,
    "start_time": "2022-01-19T16:00:04.664Z"
   },
   {
    "duration": 17,
    "start_time": "2022-01-19T16:00:12.943Z"
   },
   {
    "duration": 11,
    "start_time": "2022-01-19T16:00:48.241Z"
   },
   {
    "duration": 6,
    "start_time": "2022-01-19T16:00:59.928Z"
   },
   {
    "duration": 9,
    "start_time": "2022-01-19T16:04:27.733Z"
   },
   {
    "duration": 13,
    "start_time": "2022-01-19T16:04:37.263Z"
   },
   {
    "duration": 314,
    "start_time": "2022-01-19T16:05:04.206Z"
   },
   {
    "duration": 317,
    "start_time": "2022-01-19T16:05:30.455Z"
   },
   {
    "duration": 298,
    "start_time": "2022-01-19T16:05:36.319Z"
   },
   {
    "duration": 10,
    "start_time": "2022-01-19T16:07:01.232Z"
   },
   {
    "duration": 9,
    "start_time": "2022-01-19T16:07:29.529Z"
   },
   {
    "duration": 272,
    "start_time": "2022-01-19T16:07:55.809Z"
   },
   {
    "duration": 11,
    "start_time": "2022-01-19T16:08:01.612Z"
   },
   {
    "duration": 287,
    "start_time": "2022-01-19T16:13:06.856Z"
   },
   {
    "duration": 259,
    "start_time": "2022-01-19T16:13:16.216Z"
   },
   {
    "duration": 942,
    "start_time": "2022-01-19T16:13:27.169Z"
   },
   {
    "duration": 89,
    "start_time": "2022-01-19T16:15:37.565Z"
   },
   {
    "duration": 95,
    "start_time": "2022-01-19T16:15:55.700Z"
   },
   {
    "duration": 281,
    "start_time": "2022-01-19T16:18:37.976Z"
   },
   {
    "duration": 225,
    "start_time": "2022-01-19T16:18:49.601Z"
   },
   {
    "duration": 230,
    "start_time": "2022-01-19T16:19:18.201Z"
   },
   {
    "duration": 266,
    "start_time": "2022-01-19T16:22:53.663Z"
   },
   {
    "duration": 292,
    "start_time": "2022-01-19T16:23:04.150Z"
   },
   {
    "duration": 270,
    "start_time": "2022-01-19T16:23:22.221Z"
   },
   {
    "duration": 204,
    "start_time": "2022-01-19T16:23:26.446Z"
   },
   {
    "duration": 1886,
    "start_time": "2022-01-19T16:25:27.881Z"
   },
   {
    "duration": 1915,
    "start_time": "2022-01-19T16:25:46.625Z"
   },
   {
    "duration": 5622,
    "start_time": "2022-01-19T16:27:04.267Z"
   },
   {
    "duration": 5844,
    "start_time": "2022-01-19T16:27:17.899Z"
   },
   {
    "duration": 99,
    "start_time": "2022-01-19T16:27:28.268Z"
   },
   {
    "duration": 2275,
    "start_time": "2022-01-19T16:27:33.148Z"
   },
   {
    "duration": 37,
    "start_time": "2022-01-19T16:28:03.620Z"
   },
   {
    "duration": 295,
    "start_time": "2022-01-19T16:29:58.711Z"
   },
   {
    "duration": 287,
    "start_time": "2022-01-19T16:30:22.888Z"
   },
   {
    "duration": 294,
    "start_time": "2022-01-19T16:30:37.352Z"
   },
   {
    "duration": 1824,
    "start_time": "2022-01-19T16:30:47.423Z"
   },
   {
    "duration": 90,
    "start_time": "2022-01-19T16:31:12.664Z"
   },
   {
    "duration": 263,
    "start_time": "2022-01-19T16:31:16.288Z"
   },
   {
    "duration": 2386,
    "start_time": "2022-01-19T16:31:29.617Z"
   },
   {
    "duration": 328,
    "start_time": "2022-01-20T06:02:44.323Z"
   },
   {
    "duration": 304,
    "start_time": "2022-01-20T06:02:58.648Z"
   },
   {
    "duration": 1366,
    "start_time": "2022-01-20T06:03:14.973Z"
   },
   {
    "duration": 49,
    "start_time": "2022-01-20T06:03:16.343Z"
   },
   {
    "duration": 26,
    "start_time": "2022-01-20T06:03:16.395Z"
   },
   {
    "duration": 9,
    "start_time": "2022-01-20T06:03:16.424Z"
   },
   {
    "duration": 6,
    "start_time": "2022-01-20T06:03:16.435Z"
   },
   {
    "duration": 38,
    "start_time": "2022-01-20T06:03:16.444Z"
   },
   {
    "duration": 11,
    "start_time": "2022-01-20T06:03:16.484Z"
   },
   {
    "duration": 23,
    "start_time": "2022-01-20T06:03:16.500Z"
   },
   {
    "duration": 52,
    "start_time": "2022-01-20T06:03:16.526Z"
   },
   {
    "duration": 11,
    "start_time": "2022-01-20T06:03:16.580Z"
   },
   {
    "duration": 23,
    "start_time": "2022-01-20T06:03:16.594Z"
   },
   {
    "duration": 54,
    "start_time": "2022-01-20T06:03:16.619Z"
   },
   {
    "duration": 9,
    "start_time": "2022-01-20T06:03:16.675Z"
   },
   {
    "duration": 11,
    "start_time": "2022-01-20T06:03:16.687Z"
   },
   {
    "duration": 26,
    "start_time": "2022-01-20T06:03:16.700Z"
   },
   {
    "duration": 45,
    "start_time": "2022-01-20T06:03:16.728Z"
   },
   {
    "duration": 10,
    "start_time": "2022-01-20T06:03:16.775Z"
   },
   {
    "duration": 7,
    "start_time": "2022-01-20T06:03:16.788Z"
   },
   {
    "duration": 7,
    "start_time": "2022-01-20T06:03:16.797Z"
   },
   {
    "duration": 9,
    "start_time": "2022-01-20T06:03:16.807Z"
   },
   {
    "duration": 53,
    "start_time": "2022-01-20T06:03:16.818Z"
   },
   {
    "duration": 478,
    "start_time": "2022-01-20T06:03:16.874Z"
   },
   {
    "duration": 490,
    "start_time": "2022-01-20T06:03:17.357Z"
   },
   {
    "duration": 440,
    "start_time": "2022-01-20T06:03:17.850Z"
   },
   {
    "duration": 8,
    "start_time": "2022-01-20T06:03:18.292Z"
   },
   {
    "duration": 21,
    "start_time": "2022-01-20T06:03:18.303Z"
   },
   {
    "duration": 3331,
    "start_time": "2022-01-20T06:03:18.326Z"
   },
   {
    "duration": 22,
    "start_time": "2022-01-20T06:04:02.262Z"
   },
   {
    "duration": 354,
    "start_time": "2022-01-20T06:04:43.129Z"
   },
   {
    "duration": 101,
    "start_time": "2022-01-20T06:04:51.297Z"
   },
   {
    "duration": 318,
    "start_time": "2022-01-20T06:04:55.921Z"
   },
   {
    "duration": 23,
    "start_time": "2022-01-20T06:05:00.657Z"
   },
   {
    "duration": 23,
    "start_time": "2022-01-20T06:05:35.697Z"
   },
   {
    "duration": 299,
    "start_time": "2022-01-20T06:19:02.731Z"
   },
   {
    "duration": 23,
    "start_time": "2022-01-20T06:19:09.827Z"
   },
   {
    "duration": 24,
    "start_time": "2022-01-20T06:19:24.533Z"
   },
   {
    "duration": 8,
    "start_time": "2022-01-20T06:22:22.697Z"
   },
   {
    "duration": 25,
    "start_time": "2022-01-20T06:22:23.782Z"
   },
   {
    "duration": 9,
    "start_time": "2022-01-20T06:23:18.856Z"
   },
   {
    "duration": 24,
    "start_time": "2022-01-20T06:23:20.848Z"
   },
   {
    "duration": 272,
    "start_time": "2022-01-20T06:24:01.433Z"
   },
   {
    "duration": 312,
    "start_time": "2022-01-20T06:24:24.049Z"
   },
   {
    "duration": 277,
    "start_time": "2022-01-20T06:24:31.906Z"
   },
   {
    "duration": 339,
    "start_time": "2022-01-20T06:24:52.722Z"
   },
   {
    "duration": 351,
    "start_time": "2022-01-20T06:25:05.522Z"
   },
   {
    "duration": 367,
    "start_time": "2022-01-20T06:26:17.501Z"
   },
   {
    "duration": 8545,
    "start_time": "2022-01-20T06:26:39.501Z"
   },
   {
    "duration": 6206,
    "start_time": "2022-01-20T06:28:57.183Z"
   },
   {
    "duration": 51,
    "start_time": "2022-01-20T06:30:56.659Z"
   },
   {
    "duration": 57,
    "start_time": "2022-01-20T06:31:06.123Z"
   },
   {
    "duration": 63,
    "start_time": "2022-01-20T06:31:11.171Z"
   },
   {
    "duration": 56,
    "start_time": "2022-01-20T06:31:25.187Z"
   },
   {
    "duration": 53,
    "start_time": "2022-01-20T06:33:49.178Z"
   },
   {
    "duration": 6629,
    "start_time": "2022-01-20T06:35:41.377Z"
   },
   {
    "duration": 6519,
    "start_time": "2022-01-20T06:35:52.026Z"
   },
   {
    "duration": 5,
    "start_time": "2022-01-20T06:37:04.771Z"
   },
   {
    "duration": 50,
    "start_time": "2022-01-20T06:37:04.778Z"
   },
   {
    "duration": 42,
    "start_time": "2022-01-20T06:37:04.831Z"
   },
   {
    "duration": 5,
    "start_time": "2022-01-20T06:37:04.876Z"
   },
   {
    "duration": 8,
    "start_time": "2022-01-20T06:37:04.884Z"
   },
   {
    "duration": 18,
    "start_time": "2022-01-20T06:37:04.894Z"
   },
   {
    "duration": 10,
    "start_time": "2022-01-20T06:37:04.914Z"
   },
   {
    "duration": 24,
    "start_time": "2022-01-20T06:37:04.970Z"
   },
   {
    "duration": 20,
    "start_time": "2022-01-20T06:37:04.997Z"
   },
   {
    "duration": 12,
    "start_time": "2022-01-20T06:37:05.019Z"
   },
   {
    "duration": 55,
    "start_time": "2022-01-20T06:37:05.034Z"
   },
   {
    "duration": 14,
    "start_time": "2022-01-20T06:37:05.092Z"
   },
   {
    "duration": 8,
    "start_time": "2022-01-20T06:37:05.108Z"
   },
   {
    "duration": 10,
    "start_time": "2022-01-20T06:37:05.119Z"
   },
   {
    "duration": 61,
    "start_time": "2022-01-20T06:37:05.131Z"
   },
   {
    "duration": 11,
    "start_time": "2022-01-20T06:37:05.194Z"
   },
   {
    "duration": 11,
    "start_time": "2022-01-20T06:37:05.207Z"
   },
   {
    "duration": 8,
    "start_time": "2022-01-20T06:37:05.220Z"
   },
   {
    "duration": 43,
    "start_time": "2022-01-20T06:37:05.230Z"
   },
   {
    "duration": 11,
    "start_time": "2022-01-20T06:37:05.276Z"
   },
   {
    "duration": 22,
    "start_time": "2022-01-20T06:37:05.290Z"
   },
   {
    "duration": 510,
    "start_time": "2022-01-20T06:37:05.315Z"
   },
   {
    "duration": 543,
    "start_time": "2022-01-20T06:37:05.831Z"
   },
   {
    "duration": 452,
    "start_time": "2022-01-20T06:37:06.377Z"
   },
   {
    "duration": 10,
    "start_time": "2022-01-20T06:37:06.832Z"
   },
   {
    "duration": 83,
    "start_time": "2022-01-20T06:37:06.844Z"
   },
   {
    "duration": 57,
    "start_time": "2022-01-20T06:37:19.523Z"
   },
   {
    "duration": 59,
    "start_time": "2022-01-20T06:37:23.867Z"
   },
   {
    "duration": 58,
    "start_time": "2022-01-20T06:37:27.635Z"
   },
   {
    "duration": 24,
    "start_time": "2022-01-20T06:37:58.341Z"
   },
   {
    "duration": 8,
    "start_time": "2022-01-20T06:40:28.254Z"
   },
   {
    "duration": 25,
    "start_time": "2022-01-20T06:40:29.870Z"
   },
   {
    "duration": 7,
    "start_time": "2022-01-20T06:41:15.471Z"
   },
   {
    "duration": 23,
    "start_time": "2022-01-20T06:41:17.007Z"
   },
   {
    "duration": 21,
    "start_time": "2022-01-20T06:44:48.509Z"
   },
   {
    "duration": 88,
    "start_time": "2022-01-20T06:45:05.956Z"
   },
   {
    "duration": 291,
    "start_time": "2022-01-20T06:46:40.767Z"
   },
   {
    "duration": 1057,
    "start_time": "2022-01-20T06:46:55.447Z"
   },
   {
    "duration": 274,
    "start_time": "2022-01-20T06:47:01.191Z"
   },
   {
    "duration": 369,
    "start_time": "2022-01-20T06:47:08.471Z"
   },
   {
    "duration": 276,
    "start_time": "2022-01-20T06:48:46.065Z"
   },
   {
    "duration": 274,
    "start_time": "2022-01-20T06:48:52.505Z"
   },
   {
    "duration": 286,
    "start_time": "2022-01-20T06:48:57.993Z"
   },
   {
    "duration": 6932,
    "start_time": "2022-01-20T06:49:35.434Z"
   },
   {
    "duration": 910,
    "start_time": "2022-01-20T06:49:52.626Z"
   },
   {
    "duration": 7698,
    "start_time": "2022-01-20T06:50:24.492Z"
   },
   {
    "duration": 6869,
    "start_time": "2022-01-20T06:50:36.284Z"
   },
   {
    "duration": 8,
    "start_time": "2022-01-20T06:57:49.652Z"
   },
   {
    "duration": 23,
    "start_time": "2022-01-20T06:57:50.677Z"
   },
   {
    "duration": 4,
    "start_time": "2022-01-20T06:57:59.512Z"
   },
   {
    "duration": 53,
    "start_time": "2022-01-20T06:57:59.519Z"
   },
   {
    "duration": 23,
    "start_time": "2022-01-20T06:57:59.575Z"
   },
   {
    "duration": 7,
    "start_time": "2022-01-20T06:57:59.601Z"
   },
   {
    "duration": 14,
    "start_time": "2022-01-20T06:57:59.610Z"
   },
   {
    "duration": 45,
    "start_time": "2022-01-20T06:57:59.626Z"
   },
   {
    "duration": 11,
    "start_time": "2022-01-20T06:57:59.673Z"
   },
   {
    "duration": 23,
    "start_time": "2022-01-20T06:57:59.686Z"
   },
   {
    "duration": 20,
    "start_time": "2022-01-20T06:57:59.712Z"
   },
   {
    "duration": 12,
    "start_time": "2022-01-20T06:57:59.770Z"
   },
   {
    "duration": 21,
    "start_time": "2022-01-20T06:57:59.785Z"
   },
   {
    "duration": 12,
    "start_time": "2022-01-20T06:57:59.809Z"
   },
   {
    "duration": 8,
    "start_time": "2022-01-20T06:57:59.823Z"
   },
   {
    "duration": 10,
    "start_time": "2022-01-20T06:57:59.870Z"
   },
   {
    "duration": 24,
    "start_time": "2022-01-20T06:57:59.882Z"
   },
   {
    "duration": 9,
    "start_time": "2022-01-20T06:57:59.908Z"
   },
   {
    "duration": 9,
    "start_time": "2022-01-20T06:57:59.919Z"
   },
   {
    "duration": 44,
    "start_time": "2022-01-20T06:57:59.930Z"
   },
   {
    "duration": 6,
    "start_time": "2022-01-20T06:57:59.976Z"
   },
   {
    "duration": 8,
    "start_time": "2022-01-20T06:57:59.984Z"
   },
   {
    "duration": 12,
    "start_time": "2022-01-20T06:57:59.995Z"
   },
   {
    "duration": 498,
    "start_time": "2022-01-20T06:58:00.009Z"
   },
   {
    "duration": 501,
    "start_time": "2022-01-20T06:58:00.509Z"
   },
   {
    "duration": 615,
    "start_time": "2022-01-20T06:58:01.014Z"
   },
   {
    "duration": 8,
    "start_time": "2022-01-20T06:58:01.631Z"
   },
   {
    "duration": 35,
    "start_time": "2022-01-20T06:58:01.642Z"
   },
   {
    "duration": 99,
    "start_time": "2022-01-20T06:58:01.681Z"
   },
   {
    "duration": 532,
    "start_time": "2022-01-20T07:00:16.384Z"
   },
   {
    "duration": 727,
    "start_time": "2022-01-20T07:00:23.417Z"
   },
   {
    "duration": 848,
    "start_time": "2022-01-20T07:00:50.786Z"
   },
   {
    "duration": 669,
    "start_time": "2022-01-20T07:02:32.333Z"
   },
   {
    "duration": 8,
    "start_time": "2022-01-20T07:08:22.778Z"
   },
   {
    "duration": 10,
    "start_time": "2022-01-20T07:08:32.811Z"
   },
   {
    "duration": 327,
    "start_time": "2022-01-20T07:08:46.287Z"
   },
   {
    "duration": 350,
    "start_time": "2022-01-20T07:10:15.902Z"
   },
   {
    "duration": 288,
    "start_time": "2022-01-20T07:14:33.476Z"
   },
   {
    "duration": 673,
    "start_time": "2022-01-20T07:14:50.099Z"
   },
   {
    "duration": 646,
    "start_time": "2022-01-20T07:14:56.164Z"
   },
   {
    "duration": 290,
    "start_time": "2022-01-20T07:15:02.148Z"
   },
   {
    "duration": 367,
    "start_time": "2022-01-20T07:25:29.418Z"
   },
   {
    "duration": 270,
    "start_time": "2022-01-20T07:25:49.395Z"
   },
   {
    "duration": 87,
    "start_time": "2022-01-20T07:26:03.955Z"
   },
   {
    "duration": 84,
    "start_time": "2022-01-20T07:27:17.637Z"
   },
   {
    "duration": 341,
    "start_time": "2022-01-20T07:27:23.028Z"
   },
   {
    "duration": 654,
    "start_time": "2022-01-20T07:33:17.574Z"
   },
   {
    "duration": 1403,
    "start_time": "2022-01-20T07:33:22.132Z"
   },
   {
    "duration": 51,
    "start_time": "2022-01-20T07:33:23.812Z"
   },
   {
    "duration": 5,
    "start_time": "2022-01-20T07:33:26.083Z"
   },
   {
    "duration": 48,
    "start_time": "2022-01-20T07:33:26.092Z"
   },
   {
    "duration": 35,
    "start_time": "2022-01-20T07:33:26.143Z"
   },
   {
    "duration": 5,
    "start_time": "2022-01-20T07:33:26.181Z"
   },
   {
    "duration": 5,
    "start_time": "2022-01-20T07:33:26.189Z"
   },
   {
    "duration": 17,
    "start_time": "2022-01-20T07:33:26.196Z"
   },
   {
    "duration": 11,
    "start_time": "2022-01-20T07:33:26.215Z"
   },
   {
    "duration": 61,
    "start_time": "2022-01-20T07:33:26.228Z"
   },
   {
    "duration": 24,
    "start_time": "2022-01-20T07:33:26.293Z"
   },
   {
    "duration": 51,
    "start_time": "2022-01-20T07:33:26.320Z"
   },
   {
    "duration": 26,
    "start_time": "2022-01-20T07:33:26.373Z"
   },
   {
    "duration": 12,
    "start_time": "2022-01-20T07:33:26.401Z"
   },
   {
    "duration": 8,
    "start_time": "2022-01-20T07:33:26.415Z"
   },
   {
    "duration": 47,
    "start_time": "2022-01-20T07:33:26.425Z"
   },
   {
    "duration": 25,
    "start_time": "2022-01-20T07:33:26.474Z"
   },
   {
    "duration": 9,
    "start_time": "2022-01-20T07:33:26.501Z"
   },
   {
    "duration": 12,
    "start_time": "2022-01-20T07:33:26.512Z"
   },
   {
    "duration": 43,
    "start_time": "2022-01-20T07:33:26.526Z"
   },
   {
    "duration": 5,
    "start_time": "2022-01-20T07:33:26.572Z"
   },
   {
    "duration": 14,
    "start_time": "2022-01-20T07:33:26.579Z"
   },
   {
    "duration": 18,
    "start_time": "2022-01-20T07:33:26.595Z"
   },
   {
    "duration": 500,
    "start_time": "2022-01-20T07:33:26.615Z"
   },
   {
    "duration": 486,
    "start_time": "2022-01-20T07:33:27.117Z"
   },
   {
    "duration": 432,
    "start_time": "2022-01-20T07:33:27.608Z"
   },
   {
    "duration": 8,
    "start_time": "2022-01-20T07:33:28.042Z"
   },
   {
    "duration": 35,
    "start_time": "2022-01-20T07:33:28.053Z"
   },
   {
    "duration": 382,
    "start_time": "2022-01-20T07:33:28.090Z"
   },
   {
    "duration": 376,
    "start_time": "2022-01-20T07:33:28.474Z"
   },
   {
    "duration": 380,
    "start_time": "2022-01-20T07:33:28.853Z"
   },
   {
    "duration": 367,
    "start_time": "2022-01-20T07:33:29.236Z"
   },
   {
    "duration": 382,
    "start_time": "2022-01-20T07:33:29.605Z"
   },
   {
    "duration": 359,
    "start_time": "2022-01-20T07:33:29.989Z"
   },
   {
    "duration": 660,
    "start_time": "2022-01-20T07:33:30.350Z"
   },
   {
    "duration": 399,
    "start_time": "2022-01-20T07:33:31.013Z"
   },
   {
    "duration": 408,
    "start_time": "2022-01-20T07:33:31.414Z"
   },
   {
    "duration": 391,
    "start_time": "2022-01-20T07:33:31.824Z"
   },
   {
    "duration": 374,
    "start_time": "2022-01-20T07:33:32.218Z"
   },
   {
    "duration": 369,
    "start_time": "2022-01-20T07:33:32.595Z"
   },
   {
    "duration": 399,
    "start_time": "2022-01-20T07:33:32.970Z"
   },
   {
    "duration": 320,
    "start_time": "2022-01-20T07:34:00.055Z"
   },
   {
    "duration": 352,
    "start_time": "2022-01-20T07:34:19.634Z"
   },
   {
    "duration": 356,
    "start_time": "2022-01-20T07:34:49.232Z"
   },
   {
    "duration": 628,
    "start_time": "2022-01-20T07:35:05.337Z"
   },
   {
    "duration": 460,
    "start_time": "2022-01-20T07:35:13.297Z"
   },
   {
    "duration": 371,
    "start_time": "2022-01-20T07:35:23.271Z"
   },
   {
    "duration": 383,
    "start_time": "2022-01-20T07:35:50.042Z"
   },
   {
    "duration": 362,
    "start_time": "2022-01-20T07:35:57.497Z"
   },
   {
    "duration": 359,
    "start_time": "2022-01-20T07:36:02.001Z"
   },
   {
    "duration": 366,
    "start_time": "2022-01-20T07:36:06.767Z"
   },
   {
    "duration": 385,
    "start_time": "2022-01-20T07:36:11.146Z"
   },
   {
    "duration": 430,
    "start_time": "2022-01-20T07:36:20.242Z"
   },
   {
    "duration": 468,
    "start_time": "2022-01-20T07:36:24.716Z"
   },
   {
    "duration": 357,
    "start_time": "2022-01-20T07:36:37.852Z"
   },
   {
    "duration": 660,
    "start_time": "2022-01-20T07:36:42.172Z"
   },
   {
    "duration": 373,
    "start_time": "2022-01-20T07:37:07.954Z"
   },
   {
    "duration": 186,
    "start_time": "2022-01-20T07:37:44.259Z"
   },
   {
    "duration": 460,
    "start_time": "2022-01-20T07:37:50.685Z"
   },
   {
    "duration": 364,
    "start_time": "2022-01-20T07:37:57.779Z"
   },
   {
    "duration": 365,
    "start_time": "2022-01-20T07:38:03.651Z"
   },
   {
    "duration": 391,
    "start_time": "2022-01-20T07:38:11.364Z"
   },
   {
    "duration": 359,
    "start_time": "2022-01-20T07:38:19.445Z"
   },
   {
    "duration": 389,
    "start_time": "2022-01-20T07:38:29.029Z"
   },
   {
    "duration": 407,
    "start_time": "2022-01-20T07:38:35.249Z"
   },
   {
    "duration": 335,
    "start_time": "2022-01-20T07:38:38.716Z"
   },
   {
    "duration": 317,
    "start_time": "2022-01-20T07:38:43.179Z"
   },
   {
    "duration": 345,
    "start_time": "2022-01-20T07:38:49.376Z"
   },
   {
    "duration": 390,
    "start_time": "2022-01-20T07:38:57.101Z"
   },
   {
    "duration": 372,
    "start_time": "2022-01-20T07:39:06.334Z"
   },
   {
    "duration": 516,
    "start_time": "2022-01-20T07:39:14.758Z"
   },
   {
    "duration": 395,
    "start_time": "2022-01-20T07:39:43.759Z"
   },
   {
    "duration": 470,
    "start_time": "2022-01-20T07:39:53.207Z"
   },
   {
    "duration": 374,
    "start_time": "2022-01-20T07:42:30.826Z"
   },
   {
    "duration": 465,
    "start_time": "2022-01-20T07:49:28.546Z"
   },
   {
    "duration": 10,
    "start_time": "2022-01-20T07:52:41.799Z"
   },
   {
    "duration": 47,
    "start_time": "2022-01-20T07:55:18.811Z"
   },
   {
    "duration": 62,
    "start_time": "2022-01-20T07:55:24.155Z"
   },
   {
    "duration": 47,
    "start_time": "2022-01-20T07:55:27.494Z"
   },
   {
    "duration": 6832,
    "start_time": "2022-01-20T07:57:17.525Z"
   },
   {
    "duration": 659,
    "start_time": "2022-01-20T08:04:57.079Z"
   },
   {
    "duration": 70,
    "start_time": "2022-01-20T08:06:01.498Z"
   },
   {
    "duration": 56,
    "start_time": "2022-01-20T08:06:32.578Z"
   },
   {
    "duration": 50,
    "start_time": "2022-01-20T08:06:45.660Z"
   },
   {
    "duration": 51,
    "start_time": "2022-01-20T08:07:02.755Z"
   },
   {
    "duration": 656,
    "start_time": "2022-01-20T08:07:07.490Z"
   },
   {
    "duration": 654,
    "start_time": "2022-01-20T08:09:37.743Z"
   },
   {
    "duration": 954,
    "start_time": "2022-01-20T08:09:51.350Z"
   },
   {
    "duration": 818,
    "start_time": "2022-01-20T08:09:57.622Z"
   },
   {
    "duration": 818,
    "start_time": "2022-01-20T08:10:10.015Z"
   },
   {
    "duration": 486,
    "start_time": "2022-01-20T08:10:25.383Z"
   },
   {
    "duration": 524,
    "start_time": "2022-01-20T08:10:38.599Z"
   },
   {
    "duration": 666,
    "start_time": "2022-01-20T08:10:43.703Z"
   },
   {
    "duration": 742,
    "start_time": "2022-01-20T08:11:08.167Z"
   },
   {
    "duration": 655,
    "start_time": "2022-01-20T08:11:12.624Z"
   },
   {
    "duration": 69,
    "start_time": "2022-01-20T08:12:07.035Z"
   },
   {
    "duration": 879,
    "start_time": "2022-01-20T08:12:09.242Z"
   },
   {
    "duration": 899,
    "start_time": "2022-01-20T08:12:40.850Z"
   },
   {
    "duration": 848,
    "start_time": "2022-01-20T08:20:43.462Z"
   },
   {
    "duration": 908,
    "start_time": "2022-01-20T08:20:47.236Z"
   },
   {
    "duration": 649,
    "start_time": "2022-01-20T08:22:03.406Z"
   },
   {
    "duration": 304,
    "start_time": "2022-01-20T08:33:39.662Z"
   },
   {
    "duration": 266,
    "start_time": "2022-01-20T08:33:56.927Z"
   },
   {
    "duration": 731,
    "start_time": "2022-01-20T08:42:26.483Z"
   },
   {
    "duration": 783,
    "start_time": "2022-01-20T08:42:39.939Z"
   },
   {
    "duration": 1087,
    "start_time": "2022-01-20T08:42:46.731Z"
   },
   {
    "duration": 1344,
    "start_time": "2022-01-20T08:43:14.628Z"
   },
   {
    "duration": 1099,
    "start_time": "2022-01-20T08:43:28.003Z"
   },
   {
    "duration": 758,
    "start_time": "2022-01-20T08:43:37.116Z"
   },
   {
    "duration": 778,
    "start_time": "2022-01-20T08:43:41.652Z"
   },
   {
    "duration": 846,
    "start_time": "2022-01-20T08:43:48.966Z"
   },
   {
    "duration": 824,
    "start_time": "2022-01-20T08:43:54.702Z"
   },
   {
    "duration": 800,
    "start_time": "2022-01-20T08:44:04.059Z"
   },
   {
    "duration": 790,
    "start_time": "2022-01-20T08:44:09.767Z"
   },
   {
    "duration": 999,
    "start_time": "2022-01-20T08:44:17.836Z"
   },
   {
    "duration": 779,
    "start_time": "2022-01-20T08:44:37.772Z"
   },
   {
    "duration": 802,
    "start_time": "2022-01-20T08:45:37.751Z"
   },
   {
    "duration": 968,
    "start_time": "2022-01-20T08:45:42.905Z"
   },
   {
    "duration": 774,
    "start_time": "2022-01-20T08:46:12.760Z"
   },
   {
    "duration": 884,
    "start_time": "2022-01-20T08:46:20.368Z"
   },
   {
    "duration": 1051,
    "start_time": "2022-01-20T08:47:46.849Z"
   },
   {
    "duration": 1054,
    "start_time": "2022-01-20T08:48:07.745Z"
   },
   {
    "duration": 768,
    "start_time": "2022-01-20T08:48:13.241Z"
   },
   {
    "duration": 787,
    "start_time": "2022-01-20T08:48:23.018Z"
   },
   {
    "duration": 2130,
    "start_time": "2022-01-20T08:48:33.970Z"
   },
   {
    "duration": 1109,
    "start_time": "2022-01-20T08:48:42.994Z"
   },
   {
    "duration": 1056,
    "start_time": "2022-01-20T08:49:08.923Z"
   },
   {
    "duration": 830,
    "start_time": "2022-01-20T08:49:20.448Z"
   },
   {
    "duration": 1117,
    "start_time": "2022-01-20T08:49:30.860Z"
   },
   {
    "duration": 1083,
    "start_time": "2022-01-20T08:49:36.515Z"
   },
   {
    "duration": 1801,
    "start_time": "2022-01-20T08:50:47.421Z"
   },
   {
    "duration": 1128,
    "start_time": "2022-01-20T08:51:02.895Z"
   },
   {
    "duration": 1436,
    "start_time": "2022-01-20T08:51:08.326Z"
   },
   {
    "duration": 1257,
    "start_time": "2022-01-20T08:51:15.830Z"
   },
   {
    "duration": 1131,
    "start_time": "2022-01-20T08:51:21.607Z"
   },
   {
    "duration": 1132,
    "start_time": "2022-01-20T08:51:26.037Z"
   },
   {
    "duration": 1391,
    "start_time": "2022-01-20T09:48:23.028Z"
   },
   {
    "duration": 47,
    "start_time": "2022-01-20T09:48:24.422Z"
   },
   {
    "duration": 26,
    "start_time": "2022-01-20T09:48:24.472Z"
   },
   {
    "duration": 5,
    "start_time": "2022-01-20T09:48:24.501Z"
   },
   {
    "duration": 6,
    "start_time": "2022-01-20T09:48:24.508Z"
   },
   {
    "duration": 21,
    "start_time": "2022-01-20T09:48:24.516Z"
   },
   {
    "duration": 12,
    "start_time": "2022-01-20T09:48:24.570Z"
   },
   {
    "duration": 23,
    "start_time": "2022-01-20T09:48:24.585Z"
   },
   {
    "duration": 60,
    "start_time": "2022-01-20T09:48:24.611Z"
   },
   {
    "duration": 12,
    "start_time": "2022-01-20T09:48:24.673Z"
   },
   {
    "duration": 22,
    "start_time": "2022-01-20T09:48:24.688Z"
   },
   {
    "duration": 12,
    "start_time": "2022-01-20T09:48:24.712Z"
   },
   {
    "duration": 45,
    "start_time": "2022-01-20T09:48:24.726Z"
   },
   {
    "duration": 10,
    "start_time": "2022-01-20T09:48:24.774Z"
   },
   {
    "duration": 23,
    "start_time": "2022-01-20T09:48:24.786Z"
   },
   {
    "duration": 14,
    "start_time": "2022-01-20T09:48:24.811Z"
   },
   {
    "duration": 51,
    "start_time": "2022-01-20T09:48:24.828Z"
   },
   {
    "duration": 8,
    "start_time": "2022-01-20T09:48:24.882Z"
   },
   {
    "duration": 7,
    "start_time": "2022-01-20T09:48:24.893Z"
   },
   {
    "duration": 8,
    "start_time": "2022-01-20T09:48:24.903Z"
   },
   {
    "duration": 16,
    "start_time": "2022-01-20T09:48:24.914Z"
   },
   {
    "duration": 653,
    "start_time": "2022-01-20T09:48:24.970Z"
   },
   {
    "duration": 489,
    "start_time": "2022-01-20T09:48:25.628Z"
   },
   {
    "duration": 456,
    "start_time": "2022-01-20T09:48:26.121Z"
   },
   {
    "duration": 11,
    "start_time": "2022-01-20T09:48:26.580Z"
   },
   {
    "duration": 24,
    "start_time": "2022-01-20T09:48:26.593Z"
   },
   {
    "duration": 396,
    "start_time": "2022-01-20T09:48:26.620Z"
   },
   {
    "duration": 386,
    "start_time": "2022-01-20T09:48:27.019Z"
   },
   {
    "duration": 377,
    "start_time": "2022-01-20T09:48:27.407Z"
   },
   {
    "duration": 378,
    "start_time": "2022-01-20T09:48:27.787Z"
   },
   {
    "duration": 360,
    "start_time": "2022-01-20T09:48:28.170Z"
   },
   {
    "duration": 382,
    "start_time": "2022-01-20T09:48:28.532Z"
   },
   {
    "duration": 405,
    "start_time": "2022-01-20T09:48:28.916Z"
   },
   {
    "duration": 488,
    "start_time": "2022-01-20T09:48:29.323Z"
   },
   {
    "duration": 601,
    "start_time": "2022-01-20T09:48:29.814Z"
   },
   {
    "duration": 668,
    "start_time": "2022-01-20T09:48:30.469Z"
   },
   {
    "duration": 738,
    "start_time": "2022-01-20T09:48:31.139Z"
   },
   {
    "duration": 871,
    "start_time": "2022-01-20T09:48:31.879Z"
   },
   {
    "duration": 16,
    "start_time": "2022-01-20T09:48:32.753Z"
   },
   {
    "duration": 47,
    "start_time": "2022-01-20T09:48:32.771Z"
   },
   {
    "duration": 847,
    "start_time": "2022-01-20T09:48:32.822Z"
   },
   {
    "duration": 1401,
    "start_time": "2022-01-20T09:48:33.671Z"
   },
   {
    "duration": 941,
    "start_time": "2022-01-20T09:49:06.478Z"
   },
   {
    "duration": 1468,
    "start_time": "2022-01-20T09:49:10.021Z"
   },
   {
    "duration": 654,
    "start_time": "2022-01-20T09:49:14.132Z"
   },
   {
    "duration": 913,
    "start_time": "2022-01-20T09:49:59.767Z"
   },
   {
    "duration": 981,
    "start_time": "2022-01-20T09:50:28.815Z"
   },
   {
    "duration": 1027,
    "start_time": "2022-01-20T09:51:44.899Z"
   },
   {
    "duration": 926,
    "start_time": "2022-01-20T09:51:57.016Z"
   },
   {
    "duration": 712,
    "start_time": "2022-01-20T09:52:04.065Z"
   },
   {
    "duration": 865,
    "start_time": "2022-01-20T09:52:09.977Z"
   },
   {
    "duration": 734,
    "start_time": "2022-01-20T09:52:15.833Z"
   },
   {
    "duration": 709,
    "start_time": "2022-01-20T09:52:19.728Z"
   },
   {
    "duration": 861,
    "start_time": "2022-01-20T09:52:46.986Z"
   },
   {
    "duration": 943,
    "start_time": "2022-01-20T09:53:00.626Z"
   },
   {
    "duration": 865,
    "start_time": "2022-01-20T09:53:36.507Z"
   },
   {
    "duration": 703,
    "start_time": "2022-01-20T09:53:40.786Z"
   },
   {
    "duration": 702,
    "start_time": "2022-01-20T09:53:53.249Z"
   },
   {
    "duration": 716,
    "start_time": "2022-01-20T09:54:03.644Z"
   },
   {
    "duration": 691,
    "start_time": "2022-01-20T09:54:16.925Z"
   },
   {
    "duration": 895,
    "start_time": "2022-01-20T09:54:31.677Z"
   },
   {
    "duration": 90,
    "start_time": "2022-01-20T09:55:52.953Z"
   },
   {
    "duration": 949,
    "start_time": "2022-01-20T09:56:07.430Z"
   },
   {
    "duration": 97,
    "start_time": "2022-01-20T09:56:11.854Z"
   },
   {
    "duration": 100,
    "start_time": "2022-01-20T09:56:19.367Z"
   },
   {
    "duration": 402,
    "start_time": "2022-01-20T09:56:31.310Z"
   },
   {
    "duration": 743,
    "start_time": "2022-01-20T09:56:36.614Z"
   },
   {
    "duration": 706,
    "start_time": "2022-01-20T09:56:43.200Z"
   },
   {
    "duration": 702,
    "start_time": "2022-01-20T09:56:53.279Z"
   },
   {
    "duration": 994,
    "start_time": "2022-01-20T09:59:05.530Z"
   },
   {
    "duration": 1057,
    "start_time": "2022-01-20T09:59:15.954Z"
   },
   {
    "duration": 1029,
    "start_time": "2022-01-20T09:59:24.882Z"
   },
   {
    "duration": 969,
    "start_time": "2022-01-20T09:59:30.746Z"
   },
   {
    "duration": 1043,
    "start_time": "2022-01-20T09:59:50.315Z"
   },
   {
    "duration": 1432,
    "start_time": "2022-01-20T10:00:02.084Z"
   },
   {
    "duration": 259,
    "start_time": "2022-01-20T10:01:48.478Z"
   },
   {
    "duration": 502,
    "start_time": "2022-01-20T10:02:12.909Z"
   },
   {
    "duration": 5,
    "start_time": "2022-01-20T10:02:15.925Z"
   },
   {
    "duration": 58,
    "start_time": "2022-01-20T10:02:15.932Z"
   },
   {
    "duration": 26,
    "start_time": "2022-01-20T10:02:15.992Z"
   },
   {
    "duration": 8,
    "start_time": "2022-01-20T10:02:16.021Z"
   },
   {
    "duration": 6,
    "start_time": "2022-01-20T10:02:16.071Z"
   },
   {
    "duration": 23,
    "start_time": "2022-01-20T10:02:16.080Z"
   },
   {
    "duration": 13,
    "start_time": "2022-01-20T10:02:16.106Z"
   },
   {
    "duration": 67,
    "start_time": "2022-01-20T10:02:16.125Z"
   },
   {
    "duration": 31,
    "start_time": "2022-01-20T10:02:16.197Z"
   },
   {
    "duration": 43,
    "start_time": "2022-01-20T10:02:16.231Z"
   },
   {
    "duration": 29,
    "start_time": "2022-01-20T10:02:16.277Z"
   },
   {
    "duration": 14,
    "start_time": "2022-01-20T10:02:16.309Z"
   },
   {
    "duration": 50,
    "start_time": "2022-01-20T10:02:16.325Z"
   },
   {
    "duration": 9,
    "start_time": "2022-01-20T10:02:16.378Z"
   },
   {
    "duration": 32,
    "start_time": "2022-01-20T10:02:16.389Z"
   },
   {
    "duration": 47,
    "start_time": "2022-01-20T10:02:16.424Z"
   },
   {
    "duration": 16,
    "start_time": "2022-01-20T10:02:16.473Z"
   },
   {
    "duration": 17,
    "start_time": "2022-01-20T10:02:16.491Z"
   },
   {
    "duration": 5,
    "start_time": "2022-01-20T10:02:16.511Z"
   },
   {
    "duration": 7,
    "start_time": "2022-01-20T10:02:16.519Z"
   },
   {
    "duration": 15,
    "start_time": "2022-01-20T10:02:16.528Z"
   },
   {
    "duration": 502,
    "start_time": "2022-01-20T10:02:16.545Z"
   },
   {
    "duration": 573,
    "start_time": "2022-01-20T10:02:17.051Z"
   },
   {
    "duration": 465,
    "start_time": "2022-01-20T10:02:17.627Z"
   },
   {
    "duration": 9,
    "start_time": "2022-01-20T10:02:18.094Z"
   },
   {
    "duration": 23,
    "start_time": "2022-01-20T10:02:18.105Z"
   },
   {
    "duration": 386,
    "start_time": "2022-01-20T10:02:18.130Z"
   },
   {
    "duration": 393,
    "start_time": "2022-01-20T10:02:18.518Z"
   },
   {
    "duration": 397,
    "start_time": "2022-01-20T10:02:18.914Z"
   },
   {
    "duration": 491,
    "start_time": "2022-01-20T10:02:19.314Z"
   },
   {
    "duration": 365,
    "start_time": "2022-01-20T10:02:19.807Z"
   },
   {
    "duration": 374,
    "start_time": "2022-01-20T10:02:20.174Z"
   },
   {
    "duration": 650,
    "start_time": "2022-01-20T10:02:20.550Z"
   },
   {
    "duration": 410,
    "start_time": "2022-01-20T10:02:21.203Z"
   },
   {
    "duration": 388,
    "start_time": "2022-01-20T10:02:21.615Z"
   },
   {
    "duration": 383,
    "start_time": "2022-01-20T10:02:22.006Z"
   },
   {
    "duration": 400,
    "start_time": "2022-01-20T10:02:22.392Z"
   },
   {
    "duration": 533,
    "start_time": "2022-01-20T10:02:22.795Z"
   },
   {
    "duration": 7,
    "start_time": "2022-01-20T10:02:23.331Z"
   },
   {
    "duration": 63,
    "start_time": "2022-01-20T10:02:23.340Z"
   },
   {
    "duration": 767,
    "start_time": "2022-01-20T10:02:23.406Z"
   },
   {
    "duration": 1453,
    "start_time": "2022-01-20T10:02:24.176Z"
   },
   {
    "duration": 1544,
    "start_time": "2022-01-20T10:02:25.632Z"
   },
   {
    "duration": 1432,
    "start_time": "2022-01-20T10:02:45.143Z"
   },
   {
    "duration": 1535,
    "start_time": "2022-01-20T10:02:51.534Z"
   },
   {
    "duration": 1323,
    "start_time": "2022-01-20T10:03:14.881Z"
   },
   {
    "duration": 1323,
    "start_time": "2022-01-20T10:04:00.041Z"
   },
   {
    "duration": 1315,
    "start_time": "2022-01-20T10:04:10.544Z"
   },
   {
    "duration": 640,
    "start_time": "2022-01-20T10:04:22.489Z"
   },
   {
    "duration": 623,
    "start_time": "2022-01-20T10:04:30.185Z"
   },
   {
    "duration": 98,
    "start_time": "2022-01-20T10:04:44.690Z"
   },
   {
    "duration": 2015,
    "start_time": "2022-01-20T10:04:51.282Z"
   },
   {
    "duration": 1263,
    "start_time": "2022-01-20T10:05:12.250Z"
   },
   {
    "duration": 754,
    "start_time": "2022-01-20T10:06:03.531Z"
   },
   {
    "duration": 747,
    "start_time": "2022-01-20T10:06:10.178Z"
   },
   {
    "duration": 741,
    "start_time": "2022-01-20T10:06:14.643Z"
   },
   {
    "duration": 2205,
    "start_time": "2022-01-20T10:07:58.285Z"
   },
   {
    "duration": 1067,
    "start_time": "2022-01-20T10:08:19.248Z"
   },
   {
    "duration": 1027,
    "start_time": "2022-01-20T10:08:36.042Z"
   },
   {
    "duration": 922,
    "start_time": "2022-01-20T10:09:26.841Z"
   },
   {
    "duration": 653,
    "start_time": "2022-01-20T10:09:35.529Z"
   },
   {
    "duration": 848,
    "start_time": "2022-01-20T10:09:44.431Z"
   },
   {
    "duration": 694,
    "start_time": "2022-01-20T10:09:50.608Z"
   },
   {
    "duration": 5,
    "start_time": "2022-01-20T10:10:18.886Z"
   },
   {
    "duration": 54,
    "start_time": "2022-01-20T10:10:18.894Z"
   },
   {
    "duration": 27,
    "start_time": "2022-01-20T10:10:18.951Z"
   },
   {
    "duration": 9,
    "start_time": "2022-01-20T10:10:18.980Z"
   },
   {
    "duration": 6,
    "start_time": "2022-01-20T10:10:18.992Z"
   },
   {
    "duration": 18,
    "start_time": "2022-01-20T10:10:19.000Z"
   },
   {
    "duration": 55,
    "start_time": "2022-01-20T10:10:19.021Z"
   },
   {
    "duration": 26,
    "start_time": "2022-01-20T10:10:19.081Z"
   },
   {
    "duration": 23,
    "start_time": "2022-01-20T10:10:19.111Z"
   },
   {
    "duration": 42,
    "start_time": "2022-01-20T10:10:19.136Z"
   },
   {
    "duration": 23,
    "start_time": "2022-01-20T10:10:19.180Z"
   },
   {
    "duration": 19,
    "start_time": "2022-01-20T10:10:19.207Z"
   },
   {
    "duration": 49,
    "start_time": "2022-01-20T10:10:19.229Z"
   },
   {
    "duration": 13,
    "start_time": "2022-01-20T10:10:19.281Z"
   },
   {
    "duration": 38,
    "start_time": "2022-01-20T10:10:19.297Z"
   },
   {
    "duration": 38,
    "start_time": "2022-01-20T10:10:19.338Z"
   },
   {
    "duration": 10,
    "start_time": "2022-01-20T10:10:19.378Z"
   },
   {
    "duration": 11,
    "start_time": "2022-01-20T10:10:19.390Z"
   },
   {
    "duration": 7,
    "start_time": "2022-01-20T10:10:19.403Z"
   },
   {
    "duration": 23,
    "start_time": "2022-01-20T10:10:19.413Z"
   },
   {
    "duration": 38,
    "start_time": "2022-01-20T10:10:19.438Z"
   },
   {
    "duration": 482,
    "start_time": "2022-01-20T10:10:19.478Z"
   },
   {
    "duration": 477,
    "start_time": "2022-01-20T10:10:19.968Z"
   },
   {
    "duration": 469,
    "start_time": "2022-01-20T10:10:20.450Z"
   },
   {
    "duration": 11,
    "start_time": "2022-01-20T10:10:20.922Z"
   },
   {
    "duration": 43,
    "start_time": "2022-01-20T10:10:20.936Z"
   },
   {
    "duration": 399,
    "start_time": "2022-01-20T10:10:20.982Z"
   },
   {
    "duration": 419,
    "start_time": "2022-01-20T10:10:21.384Z"
   },
   {
    "duration": 366,
    "start_time": "2022-01-20T10:10:21.806Z"
   },
   {
    "duration": 375,
    "start_time": "2022-01-20T10:10:22.174Z"
   },
   {
    "duration": 362,
    "start_time": "2022-01-20T10:10:22.551Z"
   },
   {
    "duration": 369,
    "start_time": "2022-01-20T10:10:22.916Z"
   },
   {
    "duration": 348,
    "start_time": "2022-01-20T10:10:23.287Z"
   },
   {
    "duration": 391,
    "start_time": "2022-01-20T10:10:23.637Z"
   },
   {
    "duration": 384,
    "start_time": "2022-01-20T10:10:24.031Z"
   },
   {
    "duration": 924,
    "start_time": "2022-01-20T10:10:24.418Z"
   },
   {
    "duration": 398,
    "start_time": "2022-01-20T10:10:25.345Z"
   },
   {
    "duration": 523,
    "start_time": "2022-01-20T10:10:25.746Z"
   },
   {
    "duration": 9,
    "start_time": "2022-01-20T10:10:26.272Z"
   },
   {
    "duration": 52,
    "start_time": "2022-01-20T10:10:26.283Z"
   },
   {
    "duration": 820,
    "start_time": "2022-01-20T10:10:26.337Z"
   },
   {
    "duration": 1169,
    "start_time": "2022-01-20T10:10:27.160Z"
   },
   {
    "duration": 765,
    "start_time": "2022-01-20T10:11:08.065Z"
   },
   {
    "duration": 94,
    "start_time": "2022-01-20T10:13:02.174Z"
   },
   {
    "duration": 782,
    "start_time": "2022-01-20T10:13:05.972Z"
   },
   {
    "duration": 906,
    "start_time": "2022-01-20T10:13:17.828Z"
   },
   {
    "duration": 757,
    "start_time": "2022-01-20T10:13:24.636Z"
   },
   {
    "duration": 762,
    "start_time": "2022-01-20T10:13:33.012Z"
   },
   {
    "duration": 761,
    "start_time": "2022-01-20T10:13:49.808Z"
   },
   {
    "duration": 766,
    "start_time": "2022-01-20T10:14:01.806Z"
   },
   {
    "duration": 781,
    "start_time": "2022-01-20T10:14:13.566Z"
   },
   {
    "duration": 818,
    "start_time": "2022-01-20T10:17:12.738Z"
   },
   {
    "duration": 763,
    "start_time": "2022-01-20T10:17:17.610Z"
   },
   {
    "duration": 784,
    "start_time": "2022-01-20T10:17:25.745Z"
   },
   {
    "duration": 21,
    "start_time": "2022-01-20T10:27:11.414Z"
   },
   {
    "duration": 6981,
    "start_time": "2022-01-20T10:28:16.720Z"
   },
   {
    "duration": 19,
    "start_time": "2022-01-20T10:28:23.684Z"
   },
   {
    "duration": 6,
    "start_time": "2022-01-20T10:28:45.761Z"
   },
   {
    "duration": 2198,
    "start_time": "2022-01-20T10:28:47.480Z"
   },
   {
    "duration": 5,
    "start_time": "2022-01-20T10:29:24.138Z"
   },
   {
    "duration": 51,
    "start_time": "2022-01-20T10:29:24.146Z"
   },
   {
    "duration": 27,
    "start_time": "2022-01-20T10:29:24.201Z"
   },
   {
    "duration": 39,
    "start_time": "2022-01-20T10:29:24.232Z"
   },
   {
    "duration": 7,
    "start_time": "2022-01-20T10:29:24.274Z"
   },
   {
    "duration": 18,
    "start_time": "2022-01-20T10:29:24.284Z"
   },
   {
    "duration": 11,
    "start_time": "2022-01-20T10:29:24.305Z"
   },
   {
    "duration": 75,
    "start_time": "2022-01-20T10:29:24.319Z"
   },
   {
    "duration": 21,
    "start_time": "2022-01-20T10:29:24.398Z"
   },
   {
    "duration": 52,
    "start_time": "2022-01-20T10:29:24.422Z"
   },
   {
    "duration": 25,
    "start_time": "2022-01-20T10:29:24.477Z"
   },
   {
    "duration": 12,
    "start_time": "2022-01-20T10:29:24.505Z"
   },
   {
    "duration": 8,
    "start_time": "2022-01-20T10:29:24.519Z"
   },
   {
    "duration": 11,
    "start_time": "2022-01-20T10:29:24.571Z"
   },
   {
    "duration": 30,
    "start_time": "2022-01-20T10:29:24.585Z"
   },
   {
    "duration": 11,
    "start_time": "2022-01-20T10:29:24.618Z"
   },
   {
    "duration": 45,
    "start_time": "2022-01-20T10:29:24.632Z"
   },
   {
    "duration": 9,
    "start_time": "2022-01-20T10:29:24.681Z"
   },
   {
    "duration": 8,
    "start_time": "2022-01-20T10:29:24.692Z"
   },
   {
    "duration": 9,
    "start_time": "2022-01-20T10:29:24.702Z"
   },
   {
    "duration": 58,
    "start_time": "2022-01-20T10:29:24.714Z"
   },
   {
    "duration": 576,
    "start_time": "2022-01-20T10:29:24.775Z"
   },
   {
    "duration": 592,
    "start_time": "2022-01-20T10:29:25.359Z"
   },
   {
    "duration": 970,
    "start_time": "2022-01-20T10:29:25.955Z"
   },
   {
    "duration": 7,
    "start_time": "2022-01-20T10:29:26.927Z"
   },
   {
    "duration": 37,
    "start_time": "2022-01-20T10:29:26.937Z"
   },
   {
    "duration": 375,
    "start_time": "2022-01-20T10:29:26.976Z"
   },
   {
    "duration": 380,
    "start_time": "2022-01-20T10:29:27.354Z"
   },
   {
    "duration": 377,
    "start_time": "2022-01-20T10:29:27.737Z"
   },
   {
    "duration": 382,
    "start_time": "2022-01-20T10:29:28.117Z"
   },
   {
    "duration": 362,
    "start_time": "2022-01-20T10:29:28.501Z"
   },
   {
    "duration": 376,
    "start_time": "2022-01-20T10:29:28.869Z"
   },
   {
    "duration": 347,
    "start_time": "2022-01-20T10:29:29.248Z"
   },
   {
    "duration": 390,
    "start_time": "2022-01-20T10:29:29.597Z"
   },
   {
    "duration": 398,
    "start_time": "2022-01-20T10:29:29.989Z"
   },
   {
    "duration": 384,
    "start_time": "2022-01-20T10:29:30.389Z"
   },
   {
    "duration": 407,
    "start_time": "2022-01-20T10:29:30.775Z"
   },
   {
    "duration": 486,
    "start_time": "2022-01-20T10:29:31.185Z"
   },
   {
    "duration": 7,
    "start_time": "2022-01-20T10:29:31.674Z"
   },
   {
    "duration": 54,
    "start_time": "2022-01-20T10:29:31.684Z"
   },
   {
    "duration": 691,
    "start_time": "2022-01-20T10:29:31.741Z"
   },
   {
    "duration": 814,
    "start_time": "2022-01-20T10:29:32.435Z"
   },
   {
    "duration": 19,
    "start_time": "2022-01-20T10:29:33.252Z"
   },
   {
    "duration": 2423,
    "start_time": "2022-01-20T10:29:33.274Z"
   },
   {
    "duration": 48,
    "start_time": "2022-01-20T10:29:35.651Z"
   },
   {
    "duration": 12,
    "start_time": "2022-01-20T10:30:04.802Z"
   },
   {
    "duration": 5,
    "start_time": "2022-01-20T10:30:23.347Z"
   },
   {
    "duration": 4247,
    "start_time": "2022-01-20T10:30:25.307Z"
   },
   {
    "duration": 6,
    "start_time": "2022-01-20T10:30:31.210Z"
   },
   {
    "duration": 4630,
    "start_time": "2022-01-20T10:30:59.461Z"
   },
   {
    "duration": 11,
    "start_time": "2022-01-20T10:42:51.843Z"
   },
   {
    "duration": 370,
    "start_time": "2022-01-20T10:45:59.248Z"
   },
   {
    "duration": 395,
    "start_time": "2022-01-20T10:47:34.698Z"
   },
   {
    "duration": 397,
    "start_time": "2022-01-20T10:48:34.754Z"
   },
   {
    "duration": 393,
    "start_time": "2022-01-20T10:48:48.404Z"
   },
   {
    "duration": 367,
    "start_time": "2022-01-20T10:48:59.155Z"
   },
   {
    "duration": 11,
    "start_time": "2022-01-20T10:49:29.628Z"
   },
   {
    "duration": 4,
    "start_time": "2022-01-20T10:49:36.041Z"
   },
   {
    "duration": 49,
    "start_time": "2022-01-20T10:49:36.048Z"
   },
   {
    "duration": 22,
    "start_time": "2022-01-20T10:49:36.099Z"
   },
   {
    "duration": 9,
    "start_time": "2022-01-20T10:49:36.123Z"
   },
   {
    "duration": 37,
    "start_time": "2022-01-20T10:49:36.134Z"
   },
   {
    "duration": 14,
    "start_time": "2022-01-20T10:49:36.173Z"
   },
   {
    "duration": 10,
    "start_time": "2022-01-20T10:49:36.189Z"
   },
   {
    "duration": 66,
    "start_time": "2022-01-20T10:49:36.203Z"
   },
   {
    "duration": 18,
    "start_time": "2022-01-20T10:49:36.273Z"
   },
   {
    "duration": 12,
    "start_time": "2022-01-20T10:49:36.294Z"
   },
   {
    "duration": 24,
    "start_time": "2022-01-20T10:49:36.309Z"
   },
   {
    "duration": 45,
    "start_time": "2022-01-20T10:49:36.336Z"
   },
   {
    "duration": 8,
    "start_time": "2022-01-20T10:49:36.383Z"
   },
   {
    "duration": 9,
    "start_time": "2022-01-20T10:49:36.394Z"
   },
   {
    "duration": 24,
    "start_time": "2022-01-20T10:49:36.405Z"
   },
   {
    "duration": 50,
    "start_time": "2022-01-20T10:49:36.431Z"
   },
   {
    "duration": 13,
    "start_time": "2022-01-20T10:49:36.483Z"
   },
   {
    "duration": 8,
    "start_time": "2022-01-20T10:49:36.498Z"
   },
   {
    "duration": 6,
    "start_time": "2022-01-20T10:49:36.509Z"
   },
   {
    "duration": 7,
    "start_time": "2022-01-20T10:49:36.518Z"
   },
   {
    "duration": 43,
    "start_time": "2022-01-20T10:49:36.527Z"
   },
   {
    "duration": 483,
    "start_time": "2022-01-20T10:49:36.573Z"
   },
   {
    "duration": 483,
    "start_time": "2022-01-20T10:49:37.060Z"
   },
   {
    "duration": 450,
    "start_time": "2022-01-20T10:49:37.546Z"
   },
   {
    "duration": 8,
    "start_time": "2022-01-20T10:49:37.999Z"
   },
   {
    "duration": 22,
    "start_time": "2022-01-20T10:49:38.009Z"
   },
   {
    "duration": 403,
    "start_time": "2022-01-20T10:49:38.033Z"
   },
   {
    "duration": 499,
    "start_time": "2022-01-20T10:49:38.438Z"
   },
   {
    "duration": 375,
    "start_time": "2022-01-20T10:49:38.940Z"
   },
   {
    "duration": 383,
    "start_time": "2022-01-20T10:49:39.317Z"
   },
   {
    "duration": 482,
    "start_time": "2022-01-20T10:49:39.702Z"
   },
   {
    "duration": 373,
    "start_time": "2022-01-20T10:49:40.186Z"
   },
   {
    "duration": 340,
    "start_time": "2022-01-20T10:49:40.561Z"
   },
   {
    "duration": 998,
    "start_time": "2022-01-20T10:49:40.903Z"
   },
   {
    "duration": 590,
    "start_time": "2022-01-20T10:49:41.903Z"
   },
   {
    "duration": 378,
    "start_time": "2022-01-20T10:49:42.495Z"
   },
   {
    "duration": 409,
    "start_time": "2022-01-20T10:49:42.875Z"
   },
   {
    "duration": 478,
    "start_time": "2022-01-20T10:49:43.286Z"
   },
   {
    "duration": 8,
    "start_time": "2022-01-20T10:49:43.766Z"
   },
   {
    "duration": 51,
    "start_time": "2022-01-20T10:49:43.776Z"
   },
   {
    "duration": 896,
    "start_time": "2022-01-20T10:49:43.829Z"
   },
   {
    "duration": 934,
    "start_time": "2022-01-20T10:49:44.727Z"
   },
   {
    "duration": 9,
    "start_time": "2022-01-20T10:49:45.664Z"
   },
   {
    "duration": 16,
    "start_time": "2022-01-20T10:49:45.676Z"
   },
   {
    "duration": 2296,
    "start_time": "2022-01-20T10:49:45.695Z"
   },
   {
    "duration": 64,
    "start_time": "2022-01-20T10:49:47.930Z"
   },
   {
    "duration": 121,
    "start_time": "2022-01-20T10:50:26.589Z"
   },
   {
    "duration": 89,
    "start_time": "2022-01-20T10:50:31.990Z"
   },
   {
    "duration": 85,
    "start_time": "2022-01-20T10:50:55.045Z"
   },
   {
    "duration": 791,
    "start_time": "2022-01-20T10:51:00.397Z"
   },
   {
    "duration": 5,
    "start_time": "2022-01-20T10:51:40.786Z"
   },
   {
    "duration": 51,
    "start_time": "2022-01-20T10:51:40.794Z"
   },
   {
    "duration": 43,
    "start_time": "2022-01-20T10:51:40.849Z"
   },
   {
    "duration": 5,
    "start_time": "2022-01-20T10:51:40.895Z"
   },
   {
    "duration": 9,
    "start_time": "2022-01-20T10:51:40.902Z"
   },
   {
    "duration": 61,
    "start_time": "2022-01-20T10:51:40.914Z"
   },
   {
    "duration": 10,
    "start_time": "2022-01-20T10:51:40.978Z"
   },
   {
    "duration": 31,
    "start_time": "2022-01-20T10:51:40.992Z"
   },
   {
    "duration": 62,
    "start_time": "2022-01-20T10:51:41.026Z"
   },
   {
    "duration": 13,
    "start_time": "2022-01-20T10:51:41.091Z"
   },
   {
    "duration": 23,
    "start_time": "2022-01-20T10:51:41.106Z"
   },
   {
    "duration": 47,
    "start_time": "2022-01-20T10:51:41.131Z"
   },
   {
    "duration": 9,
    "start_time": "2022-01-20T10:51:41.180Z"
   },
   {
    "duration": 10,
    "start_time": "2022-01-20T10:51:41.191Z"
   },
   {
    "duration": 32,
    "start_time": "2022-01-20T10:51:41.204Z"
   },
   {
    "duration": 10,
    "start_time": "2022-01-20T10:51:41.270Z"
   },
   {
    "duration": 10,
    "start_time": "2022-01-20T10:51:41.283Z"
   },
   {
    "duration": 11,
    "start_time": "2022-01-20T10:51:41.296Z"
   },
   {
    "duration": 5,
    "start_time": "2022-01-20T10:51:41.310Z"
   },
   {
    "duration": 11,
    "start_time": "2022-01-20T10:51:41.318Z"
   },
   {
    "duration": 13,
    "start_time": "2022-01-20T10:51:41.370Z"
   },
   {
    "duration": 491,
    "start_time": "2022-01-20T10:51:41.386Z"
   },
   {
    "duration": 494,
    "start_time": "2022-01-20T10:51:41.885Z"
   },
   {
    "duration": 424,
    "start_time": "2022-01-20T10:51:42.383Z"
   },
   {
    "duration": 10,
    "start_time": "2022-01-20T10:51:42.810Z"
   },
   {
    "duration": 52,
    "start_time": "2022-01-20T10:51:42.823Z"
   },
   {
    "duration": 374,
    "start_time": "2022-01-20T10:51:42.879Z"
   },
   {
    "duration": 409,
    "start_time": "2022-01-20T10:51:43.256Z"
   },
   {
    "duration": 360,
    "start_time": "2022-01-20T10:51:43.669Z"
   },
   {
    "duration": 396,
    "start_time": "2022-01-20T10:51:44.032Z"
   },
   {
    "duration": 370,
    "start_time": "2022-01-20T10:51:44.431Z"
   },
   {
    "duration": 383,
    "start_time": "2022-01-20T10:51:44.803Z"
   },
   {
    "duration": 365,
    "start_time": "2022-01-20T10:51:45.188Z"
   },
   {
    "duration": 409,
    "start_time": "2022-01-20T10:51:45.555Z"
   },
   {
    "duration": 518,
    "start_time": "2022-01-20T10:51:45.970Z"
   },
   {
    "duration": 400,
    "start_time": "2022-01-20T10:51:46.491Z"
   },
   {
    "duration": 425,
    "start_time": "2022-01-20T10:51:46.893Z"
   },
   {
    "duration": 480,
    "start_time": "2022-01-20T10:51:47.321Z"
   },
   {
    "duration": 8,
    "start_time": "2022-01-20T10:51:47.803Z"
   },
   {
    "duration": 74,
    "start_time": "2022-01-20T10:51:47.813Z"
   },
   {
    "duration": 673,
    "start_time": "2022-01-20T10:51:47.890Z"
   },
   {
    "duration": 837,
    "start_time": "2022-01-20T10:51:48.566Z"
   },
   {
    "duration": 11,
    "start_time": "2022-01-20T10:51:49.405Z"
   },
   {
    "duration": 2515,
    "start_time": "2022-01-20T10:51:49.418Z"
   },
   {
    "duration": 43,
    "start_time": "2022-01-20T10:51:51.892Z"
   },
   {
    "duration": 13,
    "start_time": "2022-01-20T10:51:56.574Z"
   },
   {
    "duration": 12,
    "start_time": "2022-01-20T10:52:16.079Z"
   },
   {
    "duration": 6,
    "start_time": "2022-01-20T10:52:48.608Z"
   },
   {
    "duration": 53,
    "start_time": "2022-01-20T10:52:48.618Z"
   },
   {
    "duration": 22,
    "start_time": "2022-01-20T10:52:48.674Z"
   },
   {
    "duration": 7,
    "start_time": "2022-01-20T10:52:48.700Z"
   },
   {
    "duration": 8,
    "start_time": "2022-01-20T10:52:48.710Z"
   },
   {
    "duration": 60,
    "start_time": "2022-01-20T10:52:48.721Z"
   },
   {
    "duration": 10,
    "start_time": "2022-01-20T10:52:48.784Z"
   },
   {
    "duration": 25,
    "start_time": "2022-01-20T10:52:48.796Z"
   },
   {
    "duration": 63,
    "start_time": "2022-01-20T10:52:48.826Z"
   },
   {
    "duration": 14,
    "start_time": "2022-01-20T10:52:48.892Z"
   },
   {
    "duration": 22,
    "start_time": "2022-01-20T10:52:48.908Z"
   },
   {
    "duration": 47,
    "start_time": "2022-01-20T10:52:48.932Z"
   },
   {
    "duration": 9,
    "start_time": "2022-01-20T10:52:48.981Z"
   },
   {
    "duration": 10,
    "start_time": "2022-01-20T10:52:48.992Z"
   },
   {
    "duration": 66,
    "start_time": "2022-01-20T10:52:49.005Z"
   },
   {
    "duration": 11,
    "start_time": "2022-01-20T10:52:49.074Z"
   },
   {
    "duration": 18,
    "start_time": "2022-01-20T10:52:49.088Z"
   },
   {
    "duration": 13,
    "start_time": "2022-01-20T10:52:49.109Z"
   },
   {
    "duration": 11,
    "start_time": "2022-01-20T10:52:49.124Z"
   },
   {
    "duration": 35,
    "start_time": "2022-01-20T10:52:49.137Z"
   },
   {
    "duration": 14,
    "start_time": "2022-01-20T10:52:49.175Z"
   },
   {
    "duration": 597,
    "start_time": "2022-01-20T10:52:49.192Z"
   },
   {
    "duration": 586,
    "start_time": "2022-01-20T10:52:49.793Z"
   },
   {
    "duration": 433,
    "start_time": "2022-01-20T10:52:50.382Z"
   },
   {
    "duration": 8,
    "start_time": "2022-01-20T10:52:50.817Z"
   },
   {
    "duration": 51,
    "start_time": "2022-01-20T10:52:50.828Z"
   },
   {
    "duration": 401,
    "start_time": "2022-01-20T10:52:50.886Z"
   },
   {
    "duration": 431,
    "start_time": "2022-01-20T10:52:51.289Z"
   },
   {
    "duration": 396,
    "start_time": "2022-01-20T10:52:51.723Z"
   },
   {
    "duration": 384,
    "start_time": "2022-01-20T10:52:52.121Z"
   },
   {
    "duration": 369,
    "start_time": "2022-01-20T10:52:52.508Z"
   },
   {
    "duration": 549,
    "start_time": "2022-01-20T10:52:52.880Z"
   },
   {
    "duration": 344,
    "start_time": "2022-01-20T10:52:53.432Z"
   },
   {
    "duration": 394,
    "start_time": "2022-01-20T10:52:53.779Z"
   },
   {
    "duration": 375,
    "start_time": "2022-01-20T10:52:54.176Z"
   },
   {
    "duration": 379,
    "start_time": "2022-01-20T10:52:54.554Z"
   },
   {
    "duration": 586,
    "start_time": "2022-01-20T10:52:54.937Z"
   },
   {
    "duration": 710,
    "start_time": "2022-01-20T10:52:55.526Z"
   },
   {
    "duration": 9,
    "start_time": "2022-01-20T10:52:56.239Z"
   },
   {
    "duration": 88,
    "start_time": "2022-01-20T10:52:56.252Z"
   },
   {
    "duration": 1054,
    "start_time": "2022-01-20T10:52:56.343Z"
   },
   {
    "duration": 1179,
    "start_time": "2022-01-20T10:52:57.400Z"
   },
   {
    "duration": 18,
    "start_time": "2022-01-20T10:52:58.582Z"
   },
   {
    "duration": 324,
    "start_time": "2022-01-20T10:55:23.204Z"
   },
   {
    "duration": 7880,
    "start_time": "2022-01-20T10:55:31.539Z"
   },
   {
    "duration": 12,
    "start_time": "2022-01-20T10:55:56.251Z"
   },
   {
    "duration": 16,
    "start_time": "2022-01-20T10:56:02.244Z"
   },
   {
    "duration": 479,
    "start_time": "2022-01-20T10:56:13.333Z"
   },
   {
    "duration": 452,
    "start_time": "2022-01-20T10:56:16.556Z"
   },
   {
    "duration": 386,
    "start_time": "2022-01-20T10:56:24.197Z"
   },
   {
    "duration": 421,
    "start_time": "2022-01-20T10:57:51.207Z"
   },
   {
    "duration": 426,
    "start_time": "2022-01-20T10:58:00.343Z"
   },
   {
    "duration": 709,
    "start_time": "2022-01-20T10:58:31.239Z"
   },
   {
    "duration": 1512,
    "start_time": "2022-01-20T10:58:41.040Z"
   },
   {
    "duration": 421,
    "start_time": "2022-01-20T10:58:51.136Z"
   },
   {
    "duration": 374,
    "start_time": "2022-01-20T11:00:13.890Z"
   },
   {
    "duration": 390,
    "start_time": "2022-01-20T11:00:16.305Z"
   },
   {
    "duration": 14,
    "start_time": "2022-01-20T11:00:19.450Z"
   },
   {
    "duration": 146,
    "start_time": "2022-01-20T11:00:41.666Z"
   },
   {
    "duration": 25,
    "start_time": "2022-01-20T11:18:41.322Z"
   },
   {
    "duration": 24,
    "start_time": "2022-01-20T11:18:47.460Z"
   },
   {
    "duration": 268,
    "start_time": "2022-01-20T11:19:19.147Z"
   },
   {
    "duration": 20,
    "start_time": "2022-01-20T11:19:38.692Z"
   },
   {
    "duration": 265,
    "start_time": "2022-01-20T11:20:58.942Z"
   },
   {
    "duration": 315,
    "start_time": "2022-01-20T11:21:06.502Z"
   },
   {
    "duration": 22,
    "start_time": "2022-01-20T11:21:08.878Z"
   },
   {
    "duration": 26,
    "start_time": "2022-01-20T11:21:22.533Z"
   },
   {
    "duration": 22,
    "start_time": "2022-01-20T11:21:33.487Z"
   },
   {
    "duration": 24,
    "start_time": "2022-01-20T11:22:22.632Z"
   },
   {
    "duration": 22,
    "start_time": "2022-01-20T11:22:33.914Z"
   },
   {
    "duration": 22,
    "start_time": "2022-01-20T11:23:09.313Z"
   },
   {
    "duration": 22,
    "start_time": "2022-01-20T11:23:57.122Z"
   },
   {
    "duration": 22,
    "start_time": "2022-01-20T11:25:20.715Z"
   },
   {
    "duration": 29,
    "start_time": "2022-01-20T11:26:45.503Z"
   },
   {
    "duration": 314,
    "start_time": "2022-01-20T11:27:20.781Z"
   },
   {
    "duration": 290,
    "start_time": "2022-01-20T11:27:37.414Z"
   },
   {
    "duration": 273,
    "start_time": "2022-01-20T11:27:57.318Z"
   },
   {
    "duration": 310,
    "start_time": "2022-01-20T11:29:28.385Z"
   },
   {
    "duration": 5,
    "start_time": "2022-01-20T11:29:35.334Z"
   },
   {
    "duration": 53,
    "start_time": "2022-01-20T11:29:35.341Z"
   },
   {
    "duration": 23,
    "start_time": "2022-01-20T11:29:35.397Z"
   },
   {
    "duration": 8,
    "start_time": "2022-01-20T11:29:35.422Z"
   },
   {
    "duration": 38,
    "start_time": "2022-01-20T11:29:35.432Z"
   },
   {
    "duration": 13,
    "start_time": "2022-01-20T11:29:35.473Z"
   },
   {
    "duration": 12,
    "start_time": "2022-01-20T11:29:35.488Z"
   },
   {
    "duration": 23,
    "start_time": "2022-01-20T11:29:35.503Z"
   },
   {
    "duration": 56,
    "start_time": "2022-01-20T11:29:35.529Z"
   },
   {
    "duration": 26,
    "start_time": "2022-01-20T11:29:35.587Z"
   },
   {
    "duration": 23,
    "start_time": "2022-01-20T11:29:35.616Z"
   },
   {
    "duration": 46,
    "start_time": "2022-01-20T11:29:35.641Z"
   },
   {
    "duration": 8,
    "start_time": "2022-01-20T11:29:35.690Z"
   },
   {
    "duration": 13,
    "start_time": "2022-01-20T11:29:35.700Z"
   },
   {
    "duration": 33,
    "start_time": "2022-01-20T11:29:35.715Z"
   },
   {
    "duration": 11,
    "start_time": "2022-01-20T11:29:35.769Z"
   },
   {
    "duration": 11,
    "start_time": "2022-01-20T11:29:35.783Z"
   },
   {
    "duration": 16,
    "start_time": "2022-01-20T11:29:35.797Z"
   },
   {
    "duration": 8,
    "start_time": "2022-01-20T11:29:35.816Z"
   },
   {
    "duration": 54,
    "start_time": "2022-01-20T11:29:35.827Z"
   },
   {
    "duration": 15,
    "start_time": "2022-01-20T11:29:35.883Z"
   },
   {
    "duration": 492,
    "start_time": "2022-01-20T11:29:35.901Z"
   },
   {
    "duration": 489,
    "start_time": "2022-01-20T11:29:36.398Z"
   },
   {
    "duration": 450,
    "start_time": "2022-01-20T11:29:36.890Z"
   },
   {
    "duration": 8,
    "start_time": "2022-01-20T11:29:37.343Z"
   },
   {
    "duration": 34,
    "start_time": "2022-01-20T11:29:37.353Z"
   },
   {
    "duration": 383,
    "start_time": "2022-01-20T11:29:37.390Z"
   },
   {
    "duration": 384,
    "start_time": "2022-01-20T11:29:37.775Z"
   },
   {
    "duration": 369,
    "start_time": "2022-01-20T11:29:38.162Z"
   },
   {
    "duration": 384,
    "start_time": "2022-01-20T11:29:38.534Z"
   },
   {
    "duration": 384,
    "start_time": "2022-01-20T11:29:38.921Z"
   },
   {
    "duration": 384,
    "start_time": "2022-01-20T11:29:39.308Z"
   },
   {
    "duration": 474,
    "start_time": "2022-01-20T11:29:39.695Z"
   },
   {
    "duration": 443,
    "start_time": "2022-01-20T11:29:40.172Z"
   },
   {
    "duration": 392,
    "start_time": "2022-01-20T11:29:40.617Z"
   },
   {
    "duration": 389,
    "start_time": "2022-01-20T11:29:41.012Z"
   },
   {
    "duration": 519,
    "start_time": "2022-01-20T11:29:41.404Z"
   },
   {
    "duration": 579,
    "start_time": "2022-01-20T11:29:41.926Z"
   },
   {
    "duration": 8,
    "start_time": "2022-01-20T11:29:42.509Z"
   },
   {
    "duration": 70,
    "start_time": "2022-01-20T11:29:42.520Z"
   },
   {
    "duration": 681,
    "start_time": "2022-01-20T11:29:42.593Z"
   },
   {
    "duration": 879,
    "start_time": "2022-01-20T11:29:43.277Z"
   },
   {
    "duration": 449,
    "start_time": "2022-01-20T11:29:44.158Z"
   },
   {
    "duration": 494,
    "start_time": "2022-01-20T11:29:44.610Z"
   },
   {
    "duration": 14,
    "start_time": "2022-01-20T11:29:45.107Z"
   },
   {
    "duration": 28,
    "start_time": "2022-01-20T11:29:45.123Z"
   },
   {
    "duration": 18,
    "start_time": "2022-01-20T11:29:45.170Z"
   },
   {
    "duration": 32,
    "start_time": "2022-01-20T11:30:43.354Z"
   },
   {
    "duration": 5,
    "start_time": "2022-01-20T11:30:47.001Z"
   },
   {
    "duration": 46,
    "start_time": "2022-01-20T11:30:47.009Z"
   },
   {
    "duration": 22,
    "start_time": "2022-01-20T11:30:47.058Z"
   },
   {
    "duration": 6,
    "start_time": "2022-01-20T11:30:47.083Z"
   },
   {
    "duration": 7,
    "start_time": "2022-01-20T11:30:47.091Z"
   },
   {
    "duration": 14,
    "start_time": "2022-01-20T11:30:47.100Z"
   },
   {
    "duration": 11,
    "start_time": "2022-01-20T11:30:47.169Z"
   },
   {
    "duration": 23,
    "start_time": "2022-01-20T11:30:47.184Z"
   },
   {
    "duration": 64,
    "start_time": "2022-01-20T11:30:47.211Z"
   },
   {
    "duration": 13,
    "start_time": "2022-01-20T11:30:47.278Z"
   },
   {
    "duration": 24,
    "start_time": "2022-01-20T11:30:47.293Z"
   },
   {
    "duration": 56,
    "start_time": "2022-01-20T11:30:47.319Z"
   },
   {
    "duration": 13,
    "start_time": "2022-01-20T11:30:47.378Z"
   },
   {
    "duration": 14,
    "start_time": "2022-01-20T11:30:47.394Z"
   },
   {
    "duration": 59,
    "start_time": "2022-01-20T11:30:47.410Z"
   },
   {
    "duration": 12,
    "start_time": "2022-01-20T11:30:47.471Z"
   },
   {
    "duration": 17,
    "start_time": "2022-01-20T11:30:47.486Z"
   },
   {
    "duration": 12,
    "start_time": "2022-01-20T11:30:47.506Z"
   },
   {
    "duration": 15,
    "start_time": "2022-01-20T11:30:47.522Z"
   },
   {
    "duration": 39,
    "start_time": "2022-01-20T11:30:47.540Z"
   },
   {
    "duration": 14,
    "start_time": "2022-01-20T11:30:47.582Z"
   },
   {
    "duration": 495,
    "start_time": "2022-01-20T11:30:47.599Z"
   },
   {
    "duration": 789,
    "start_time": "2022-01-20T11:30:48.101Z"
   },
   {
    "duration": 619,
    "start_time": "2022-01-20T11:30:48.895Z"
   },
   {
    "duration": 10,
    "start_time": "2022-01-20T11:30:49.518Z"
   },
   {
    "duration": 51,
    "start_time": "2022-01-20T11:30:49.532Z"
   },
   {
    "duration": 611,
    "start_time": "2022-01-20T11:30:49.587Z"
   },
   {
    "duration": 640,
    "start_time": "2022-01-20T11:30:50.202Z"
   },
   {
    "duration": 393,
    "start_time": "2022-01-20T11:30:50.844Z"
   },
   {
    "duration": 612,
    "start_time": "2022-01-20T11:30:51.241Z"
   },
   {
    "duration": 590,
    "start_time": "2022-01-20T11:30:51.857Z"
   },
   {
    "duration": 623,
    "start_time": "2022-01-20T11:30:52.450Z"
   },
   {
    "duration": 549,
    "start_time": "2022-01-20T11:30:53.076Z"
   },
   {
    "duration": 655,
    "start_time": "2022-01-20T11:30:53.628Z"
   },
   {
    "duration": 486,
    "start_time": "2022-01-20T11:30:54.287Z"
   },
   {
    "duration": 372,
    "start_time": "2022-01-20T11:30:54.777Z"
   },
   {
    "duration": 398,
    "start_time": "2022-01-20T11:30:55.151Z"
   },
   {
    "duration": 485,
    "start_time": "2022-01-20T11:30:55.552Z"
   },
   {
    "duration": 9,
    "start_time": "2022-01-20T11:30:56.039Z"
   },
   {
    "duration": 68,
    "start_time": "2022-01-20T11:30:56.051Z"
   },
   {
    "duration": 683,
    "start_time": "2022-01-20T11:30:56.122Z"
   },
   {
    "duration": 852,
    "start_time": "2022-01-20T11:30:56.808Z"
   },
   {
    "duration": 422,
    "start_time": "2022-01-20T11:30:57.662Z"
   },
   {
    "duration": 394,
    "start_time": "2022-01-20T11:30:58.087Z"
   },
   {
    "duration": 14,
    "start_time": "2022-01-20T11:30:58.483Z"
   },
   {
    "duration": 25,
    "start_time": "2022-01-20T11:30:58.500Z"
   },
   {
    "duration": 62,
    "start_time": "2022-01-20T11:30:58.528Z"
   },
   {
    "duration": 24,
    "start_time": "2022-01-20T11:31:11.915Z"
   },
   {
    "duration": 28,
    "start_time": "2022-01-20T11:32:52.822Z"
   },
   {
    "duration": 32,
    "start_time": "2022-01-20T11:33:00.199Z"
   },
   {
    "duration": 33,
    "start_time": "2022-01-20T11:33:03.741Z"
   },
   {
    "duration": 31,
    "start_time": "2022-01-20T11:33:16.862Z"
   },
   {
    "duration": 31,
    "start_time": "2022-01-20T11:33:22.822Z"
   },
   {
    "duration": 34,
    "start_time": "2022-01-20T11:33:32.407Z"
   },
   {
    "duration": 32,
    "start_time": "2022-01-20T11:33:40.998Z"
   },
   {
    "duration": 34,
    "start_time": "2022-01-20T11:33:44.007Z"
   },
   {
    "duration": 31,
    "start_time": "2022-01-20T11:34:40.114Z"
   },
   {
    "duration": 32,
    "start_time": "2022-01-20T11:34:56.617Z"
   },
   {
    "duration": 34,
    "start_time": "2022-01-20T11:34:59.271Z"
   },
   {
    "duration": 33,
    "start_time": "2022-01-20T11:35:06.241Z"
   },
   {
    "duration": 33,
    "start_time": "2022-01-20T11:35:13.377Z"
   },
   {
    "duration": 311,
    "start_time": "2022-01-20T11:35:17.241Z"
   },
   {
    "duration": 33,
    "start_time": "2022-01-20T11:35:25.953Z"
   },
   {
    "duration": 32,
    "start_time": "2022-01-20T11:36:09.115Z"
   },
   {
    "duration": 31,
    "start_time": "2022-01-20T11:36:23.219Z"
   },
   {
    "duration": 28,
    "start_time": "2022-01-20T11:36:43.715Z"
   },
   {
    "duration": 30,
    "start_time": "2022-01-20T11:36:47.386Z"
   },
   {
    "duration": 32,
    "start_time": "2022-01-20T11:36:56.210Z"
   },
   {
    "duration": 13,
    "start_time": "2022-01-20T11:37:53.771Z"
   },
   {
    "duration": 25,
    "start_time": "2022-01-20T11:38:10.565Z"
   },
   {
    "duration": 16,
    "start_time": "2022-01-20T11:38:17.588Z"
   },
   {
    "duration": 19,
    "start_time": "2022-01-20T11:38:45.117Z"
   },
   {
    "duration": 16,
    "start_time": "2022-01-20T11:38:51.565Z"
   },
   {
    "duration": 20,
    "start_time": "2022-01-20T11:39:15.487Z"
   },
   {
    "duration": 21,
    "start_time": "2022-01-20T11:39:23.070Z"
   },
   {
    "duration": 5,
    "start_time": "2022-01-20T12:02:16.195Z"
   },
   {
    "duration": 47,
    "start_time": "2022-01-20T12:02:16.203Z"
   },
   {
    "duration": 21,
    "start_time": "2022-01-20T12:02:16.253Z"
   },
   {
    "duration": 7,
    "start_time": "2022-01-20T12:02:16.276Z"
   },
   {
    "duration": 5,
    "start_time": "2022-01-20T12:02:16.286Z"
   },
   {
    "duration": 16,
    "start_time": "2022-01-20T12:02:16.293Z"
   },
   {
    "duration": 58,
    "start_time": "2022-01-20T12:02:16.311Z"
   },
   {
    "duration": 24,
    "start_time": "2022-01-20T12:02:16.373Z"
   },
   {
    "duration": 19,
    "start_time": "2022-01-20T12:02:16.400Z"
   },
   {
    "duration": 48,
    "start_time": "2022-01-20T12:02:16.421Z"
   },
   {
    "duration": 24,
    "start_time": "2022-01-20T12:02:16.471Z"
   },
   {
    "duration": 13,
    "start_time": "2022-01-20T12:02:16.497Z"
   },
   {
    "duration": 9,
    "start_time": "2022-01-20T12:02:16.512Z"
   },
   {
    "duration": 48,
    "start_time": "2022-01-20T12:02:16.523Z"
   },
   {
    "duration": 23,
    "start_time": "2022-01-20T12:02:16.573Z"
   },
   {
    "duration": 10,
    "start_time": "2022-01-20T12:02:16.598Z"
   },
   {
    "duration": 10,
    "start_time": "2022-01-20T12:02:16.610Z"
   },
   {
    "duration": 47,
    "start_time": "2022-01-20T12:02:16.622Z"
   },
   {
    "duration": 7,
    "start_time": "2022-01-20T12:02:16.671Z"
   },
   {
    "duration": 8,
    "start_time": "2022-01-20T12:02:16.680Z"
   },
   {
    "duration": 12,
    "start_time": "2022-01-20T12:02:16.690Z"
   },
   {
    "duration": 488,
    "start_time": "2022-01-20T12:02:16.704Z"
   },
   {
    "duration": 486,
    "start_time": "2022-01-20T12:02:17.197Z"
   },
   {
    "duration": 440,
    "start_time": "2022-01-20T12:02:17.686Z"
   },
   {
    "duration": 7,
    "start_time": "2022-01-20T12:02:18.129Z"
   },
   {
    "duration": 41,
    "start_time": "2022-01-20T12:02:18.138Z"
   },
   {
    "duration": 368,
    "start_time": "2022-01-20T12:02:18.181Z"
   },
   {
    "duration": 377,
    "start_time": "2022-01-20T12:02:18.551Z"
   },
   {
    "duration": 379,
    "start_time": "2022-01-20T12:02:18.930Z"
   },
   {
    "duration": 384,
    "start_time": "2022-01-20T12:02:19.311Z"
   },
   {
    "duration": 366,
    "start_time": "2022-01-20T12:02:19.698Z"
   },
   {
    "duration": 369,
    "start_time": "2022-01-20T12:02:20.070Z"
   },
   {
    "duration": 345,
    "start_time": "2022-01-20T12:02:20.441Z"
   },
   {
    "duration": 462,
    "start_time": "2022-01-20T12:02:20.790Z"
   },
   {
    "duration": 414,
    "start_time": "2022-01-20T12:02:21.255Z"
   },
   {
    "duration": 374,
    "start_time": "2022-01-20T12:02:21.671Z"
   },
   {
    "duration": 408,
    "start_time": "2022-01-20T12:02:22.047Z"
   },
   {
    "duration": 477,
    "start_time": "2022-01-20T12:02:22.458Z"
   },
   {
    "duration": 7,
    "start_time": "2022-01-20T12:02:22.938Z"
   },
   {
    "duration": 67,
    "start_time": "2022-01-20T12:02:22.948Z"
   },
   {
    "duration": 674,
    "start_time": "2022-01-20T12:02:23.017Z"
   },
   {
    "duration": 806,
    "start_time": "2022-01-20T12:02:23.694Z"
   },
   {
    "duration": 391,
    "start_time": "2022-01-20T12:02:24.502Z"
   },
   {
    "duration": 377,
    "start_time": "2022-01-20T12:02:24.896Z"
   },
   {
    "duration": 13,
    "start_time": "2022-01-20T12:02:25.275Z"
   },
   {
    "duration": 22,
    "start_time": "2022-01-20T12:02:25.290Z"
   },
   {
    "duration": 19,
    "start_time": "2022-01-20T12:02:25.314Z"
   },
   {
    "duration": 13,
    "start_time": "2022-01-20T12:02:25.368Z"
   },
   {
    "duration": 18,
    "start_time": "2022-01-20T12:02:52.696Z"
   },
   {
    "duration": 14,
    "start_time": "2022-01-20T12:02:54.750Z"
   },
   {
    "duration": 24,
    "start_time": "2022-01-20T12:02:59.999Z"
   },
   {
    "duration": 12,
    "start_time": "2022-01-20T12:03:04.528Z"
   },
   {
    "duration": 22,
    "start_time": "2022-01-20T12:03:08.328Z"
   },
   {
    "duration": 30,
    "start_time": "2022-01-20T12:03:12.584Z"
   },
   {
    "duration": 12,
    "start_time": "2022-01-20T12:03:18.377Z"
   },
   {
    "duration": 33,
    "start_time": "2022-01-20T12:03:59.545Z"
   },
   {
    "duration": 12,
    "start_time": "2022-01-20T12:04:03.080Z"
   },
   {
    "duration": 21,
    "start_time": "2022-01-20T12:04:34.578Z"
   },
   {
    "duration": 12,
    "start_time": "2022-01-20T12:04:38.210Z"
   },
   {
    "duration": 19,
    "start_time": "2022-01-20T12:04:52.170Z"
   },
   {
    "duration": 290,
    "start_time": "2022-01-20T12:05:45.355Z"
   },
   {
    "duration": 12,
    "start_time": "2022-01-20T12:05:50.131Z"
   },
   {
    "duration": 29,
    "start_time": "2022-01-20T12:06:07.555Z"
   },
   {
    "duration": 30,
    "start_time": "2022-01-20T12:06:11.253Z"
   },
   {
    "duration": 31,
    "start_time": "2022-01-20T12:06:16.332Z"
   },
   {
    "duration": 32,
    "start_time": "2022-01-20T12:06:23.628Z"
   },
   {
    "duration": 31,
    "start_time": "2022-01-20T12:06:27.413Z"
   },
   {
    "duration": 282,
    "start_time": "2022-01-20T12:14:19.863Z"
   },
   {
    "duration": 36,
    "start_time": "2022-01-20T12:14:41.656Z"
   },
   {
    "duration": 12,
    "start_time": "2022-01-20T12:14:50.391Z"
   },
   {
    "duration": 32,
    "start_time": "2022-01-20T12:15:05.688Z"
   },
   {
    "duration": 33,
    "start_time": "2022-01-20T12:15:15.036Z"
   },
   {
    "duration": 12,
    "start_time": "2022-01-20T12:15:20.184Z"
   },
   {
    "duration": 11,
    "start_time": "2022-01-20T12:15:25.791Z"
   },
   {
    "duration": 32,
    "start_time": "2022-01-20T12:15:48.386Z"
   },
   {
    "duration": 24,
    "start_time": "2022-01-20T12:15:57.648Z"
   },
   {
    "duration": 11,
    "start_time": "2022-01-20T12:16:00.577Z"
   },
   {
    "duration": 22,
    "start_time": "2022-01-20T12:17:09.859Z"
   },
   {
    "duration": 11,
    "start_time": "2022-01-20T12:17:13.882Z"
   },
   {
    "duration": 38,
    "start_time": "2022-01-20T12:17:30.682Z"
   },
   {
    "duration": 24,
    "start_time": "2022-01-20T12:17:37.668Z"
   },
   {
    "duration": 11,
    "start_time": "2022-01-20T12:17:41.146Z"
   },
   {
    "duration": 5,
    "start_time": "2022-01-20T12:17:47.729Z"
   },
   {
    "duration": 48,
    "start_time": "2022-01-20T12:17:47.737Z"
   },
   {
    "duration": 23,
    "start_time": "2022-01-20T12:17:47.787Z"
   },
   {
    "duration": 6,
    "start_time": "2022-01-20T12:17:47.812Z"
   },
   {
    "duration": 9,
    "start_time": "2022-01-20T12:17:47.820Z"
   },
   {
    "duration": 14,
    "start_time": "2022-01-20T12:17:47.870Z"
   },
   {
    "duration": 10,
    "start_time": "2022-01-20T12:17:47.886Z"
   },
   {
    "duration": 23,
    "start_time": "2022-01-20T12:17:47.900Z"
   },
   {
    "duration": 60,
    "start_time": "2022-01-20T12:17:47.926Z"
   },
   {
    "duration": 14,
    "start_time": "2022-01-20T12:17:47.989Z"
   },
   {
    "duration": 25,
    "start_time": "2022-01-20T12:17:48.005Z"
   },
   {
    "duration": 45,
    "start_time": "2022-01-20T12:17:48.032Z"
   },
   {
    "duration": 8,
    "start_time": "2022-01-20T12:17:48.080Z"
   },
   {
    "duration": 9,
    "start_time": "2022-01-20T12:17:48.091Z"
   },
   {
    "duration": 29,
    "start_time": "2022-01-20T12:17:48.103Z"
   },
   {
    "duration": 40,
    "start_time": "2022-01-20T12:17:48.134Z"
   },
   {
    "duration": 27,
    "start_time": "2022-01-20T12:17:48.177Z"
   },
   {
    "duration": 10,
    "start_time": "2022-01-20T12:17:48.206Z"
   },
   {
    "duration": 9,
    "start_time": "2022-01-20T12:17:48.218Z"
   },
   {
    "duration": 8,
    "start_time": "2022-01-20T12:17:48.229Z"
   },
   {
    "duration": 38,
    "start_time": "2022-01-20T12:17:48.239Z"
   },
   {
    "duration": 479,
    "start_time": "2022-01-20T12:17:48.279Z"
   },
   {
    "duration": 467,
    "start_time": "2022-01-20T12:17:48.771Z"
   },
   {
    "duration": 1389,
    "start_time": "2022-01-20T12:17:49.240Z"
   },
   {
    "duration": 7,
    "start_time": "2022-01-20T12:17:50.632Z"
   },
   {
    "duration": 39,
    "start_time": "2022-01-20T12:17:50.642Z"
   },
   {
    "duration": 389,
    "start_time": "2022-01-20T12:17:50.683Z"
   },
   {
    "duration": 394,
    "start_time": "2022-01-20T12:17:51.075Z"
   },
   {
    "duration": 372,
    "start_time": "2022-01-20T12:17:51.471Z"
   },
   {
    "duration": 390,
    "start_time": "2022-01-20T12:17:51.846Z"
   },
   {
    "duration": 368,
    "start_time": "2022-01-20T12:17:52.239Z"
   },
   {
    "duration": 385,
    "start_time": "2022-01-20T12:17:52.609Z"
   },
   {
    "duration": 354,
    "start_time": "2022-01-20T12:17:52.996Z"
   },
   {
    "duration": 387,
    "start_time": "2022-01-20T12:17:53.352Z"
   },
   {
    "duration": 404,
    "start_time": "2022-01-20T12:17:53.741Z"
   },
   {
    "duration": 426,
    "start_time": "2022-01-20T12:17:54.148Z"
   },
   {
    "duration": 403,
    "start_time": "2022-01-20T12:17:54.577Z"
   },
   {
    "duration": 494,
    "start_time": "2022-01-20T12:17:54.982Z"
   },
   {
    "duration": 7,
    "start_time": "2022-01-20T12:17:55.479Z"
   },
   {
    "duration": 51,
    "start_time": "2022-01-20T12:17:55.489Z"
   },
   {
    "duration": 690,
    "start_time": "2022-01-20T12:17:55.570Z"
   },
   {
    "duration": 923,
    "start_time": "2022-01-20T12:17:56.270Z"
   },
   {
    "duration": 388,
    "start_time": "2022-01-20T12:17:57.195Z"
   },
   {
    "duration": 387,
    "start_time": "2022-01-20T12:17:57.586Z"
   },
   {
    "duration": 13,
    "start_time": "2022-01-20T12:17:57.976Z"
   },
   {
    "duration": 21,
    "start_time": "2022-01-20T12:17:57.991Z"
   },
   {
    "duration": 59,
    "start_time": "2022-01-20T12:17:58.014Z"
   },
   {
    "duration": 11,
    "start_time": "2022-01-20T12:17:58.075Z"
   },
   {
    "duration": 96,
    "start_time": "2022-01-20T12:25:31.983Z"
   },
   {
    "duration": 11,
    "start_time": "2022-01-20T12:26:15.248Z"
   },
   {
    "duration": 102,
    "start_time": "2022-01-20T12:27:10.205Z"
   },
   {
    "duration": 96,
    "start_time": "2022-01-20T12:27:15.321Z"
   },
   {
    "duration": 88,
    "start_time": "2022-01-20T12:27:51.778Z"
   },
   {
    "duration": 10,
    "start_time": "2022-01-20T12:27:55.875Z"
   },
   {
    "duration": 11,
    "start_time": "2022-01-20T12:28:17.394Z"
   },
   {
    "duration": 10,
    "start_time": "2022-01-20T12:28:42.922Z"
   },
   {
    "duration": 86,
    "start_time": "2022-01-20T12:28:49.251Z"
   },
   {
    "duration": 11,
    "start_time": "2022-01-20T12:28:56.194Z"
   },
   {
    "duration": 10,
    "start_time": "2022-01-20T12:29:32.764Z"
   },
   {
    "duration": 11,
    "start_time": "2022-01-20T12:29:36.691Z"
   },
   {
    "duration": 333,
    "start_time": "2022-01-20T12:30:11.701Z"
   },
   {
    "duration": 296,
    "start_time": "2022-01-20T12:30:56.043Z"
   },
   {
    "duration": 26,
    "start_time": "2022-01-20T12:31:06.094Z"
   },
   {
    "duration": 267,
    "start_time": "2022-01-20T12:42:17.980Z"
   },
   {
    "duration": 7,
    "start_time": "2022-01-20T12:43:53.382Z"
   },
   {
    "duration": 12,
    "start_time": "2022-01-20T12:44:04.325Z"
   },
   {
    "duration": 13,
    "start_time": "2022-01-20T12:56:16.965Z"
   },
   {
    "duration": 11,
    "start_time": "2022-01-20T12:59:33.489Z"
   },
   {
    "duration": 10,
    "start_time": "2022-01-20T12:59:46.290Z"
   },
   {
    "duration": 11,
    "start_time": "2022-01-20T12:59:58.564Z"
   },
   {
    "duration": 268,
    "start_time": "2022-01-20T13:04:58.840Z"
   },
   {
    "duration": 11,
    "start_time": "2022-01-20T13:05:04.672Z"
   },
   {
    "duration": 29,
    "start_time": "2022-01-20T13:05:25.946Z"
   },
   {
    "duration": 12,
    "start_time": "2022-01-20T13:05:31.578Z"
   },
   {
    "duration": 159,
    "start_time": "2022-01-20T13:08:22.069Z"
   },
   {
    "duration": 413,
    "start_time": "2022-01-20T13:08:53.582Z"
   },
   {
    "duration": 759,
    "start_time": "2022-01-20T13:09:14.974Z"
   },
   {
    "duration": 175,
    "start_time": "2022-01-20T13:09:20.575Z"
   },
   {
    "duration": 286,
    "start_time": "2022-01-20T13:10:12.007Z"
   },
   {
    "duration": 148,
    "start_time": "2022-01-20T13:13:07.811Z"
   },
   {
    "duration": 363,
    "start_time": "2022-01-20T13:13:44.276Z"
   },
   {
    "duration": 144,
    "start_time": "2022-01-20T13:16:13.680Z"
   },
   {
    "duration": 293,
    "start_time": "2022-01-20T13:19:10.308Z"
   },
   {
    "duration": 326,
    "start_time": "2022-01-20T13:19:31.364Z"
   },
   {
    "duration": 410,
    "start_time": "2022-01-20T13:19:38.004Z"
   },
   {
    "duration": 321,
    "start_time": "2022-01-20T13:19:42.371Z"
   },
   {
    "duration": 412,
    "start_time": "2022-01-20T13:19:58.172Z"
   },
   {
    "duration": 273,
    "start_time": "2022-01-20T13:20:12.092Z"
   },
   {
    "duration": 306,
    "start_time": "2022-01-20T13:20:15.796Z"
   },
   {
    "duration": 277,
    "start_time": "2022-01-20T13:20:21.108Z"
   },
   {
    "duration": 419,
    "start_time": "2022-01-20T13:20:25.469Z"
   },
   {
    "duration": 322,
    "start_time": "2022-01-20T13:20:32.749Z"
   },
   {
    "duration": 310,
    "start_time": "2022-01-20T13:20:36.079Z"
   },
   {
    "duration": 185,
    "start_time": "2022-01-20T13:20:43.357Z"
   },
   {
    "duration": 180,
    "start_time": "2022-01-20T13:21:06.334Z"
   },
   {
    "duration": 132,
    "start_time": "2022-01-20T13:21:42.710Z"
   },
   {
    "duration": 469,
    "start_time": "2022-01-20T13:21:46.630Z"
   },
   {
    "duration": 405,
    "start_time": "2022-01-20T13:22:15.841Z"
   },
   {
    "duration": 188,
    "start_time": "2022-01-20T13:22:26.231Z"
   },
   {
    "duration": 187,
    "start_time": "2022-01-20T13:22:41.523Z"
   },
   {
    "duration": 195,
    "start_time": "2022-01-20T13:23:01.481Z"
   },
   {
    "duration": 453,
    "start_time": "2022-01-20T13:32:18.590Z"
   },
   {
    "duration": 11,
    "start_time": "2022-01-20T13:52:33.873Z"
   },
   {
    "duration": 10,
    "start_time": "2022-01-20T13:52:41.654Z"
   },
   {
    "duration": 23,
    "start_time": "2022-01-20T13:56:37.909Z"
   },
   {
    "duration": 27,
    "start_time": "2022-01-20T13:59:23.008Z"
   },
   {
    "duration": 25,
    "start_time": "2022-01-20T14:00:01.401Z"
   },
   {
    "duration": 632,
    "start_time": "2022-01-20T14:01:33.964Z"
   },
   {
    "duration": 647,
    "start_time": "2022-01-20T14:02:35.230Z"
   },
   {
    "duration": 1541,
    "start_time": "2022-01-20T14:02:47.069Z"
   },
   {
    "duration": 439,
    "start_time": "2022-01-20T14:03:09.295Z"
   },
   {
    "duration": 109,
    "start_time": "2022-01-20T14:03:22.350Z"
   },
   {
    "duration": 618,
    "start_time": "2022-01-20T14:03:31.438Z"
   },
   {
    "duration": 393,
    "start_time": "2022-01-20T14:03:45.487Z"
   },
   {
    "duration": 402,
    "start_time": "2022-01-20T14:03:52.135Z"
   },
   {
    "duration": 1048,
    "start_time": "2022-01-20T14:03:55.942Z"
   },
   {
    "duration": 1013,
    "start_time": "2022-01-20T14:04:08.062Z"
   },
   {
    "duration": 1002,
    "start_time": "2022-01-20T14:04:14.352Z"
   },
   {
    "duration": 12,
    "start_time": "2022-01-20T14:06:36.234Z"
   },
   {
    "duration": 10,
    "start_time": "2022-01-20T14:06:54.066Z"
   },
   {
    "duration": 196,
    "start_time": "2022-01-20T14:07:15.388Z"
   },
   {
    "duration": 14,
    "start_time": "2022-01-20T14:07:26.085Z"
   },
   {
    "duration": 316,
    "start_time": "2022-01-20T14:08:45.861Z"
   },
   {
    "duration": 277,
    "start_time": "2022-01-20T14:08:53.790Z"
   },
   {
    "duration": 301,
    "start_time": "2022-01-20T14:09:01.654Z"
   },
   {
    "duration": 320,
    "start_time": "2022-01-20T14:09:03.854Z"
   },
   {
    "duration": 301,
    "start_time": "2022-01-20T14:09:07.974Z"
   },
   {
    "duration": 290,
    "start_time": "2022-01-20T14:09:11.198Z"
   },
   {
    "duration": 279,
    "start_time": "2022-01-20T14:09:16.813Z"
   },
   {
    "duration": 10,
    "start_time": "2022-01-20T14:09:28.526Z"
   },
   {
    "duration": 274,
    "start_time": "2022-01-20T14:10:18.359Z"
   },
   {
    "duration": 16,
    "start_time": "2022-01-20T14:10:27.791Z"
   },
   {
    "duration": 15,
    "start_time": "2022-01-20T14:10:38.322Z"
   },
   {
    "duration": 17,
    "start_time": "2022-01-20T14:10:50.297Z"
   },
   {
    "duration": 267,
    "start_time": "2022-01-20T14:11:06.840Z"
   },
   {
    "duration": 262,
    "start_time": "2022-01-20T14:11:14.720Z"
   },
   {
    "duration": 16,
    "start_time": "2022-01-20T14:11:20.200Z"
   },
   {
    "duration": 104,
    "start_time": "2022-01-20T14:11:40.235Z"
   },
   {
    "duration": 10,
    "start_time": "2022-01-20T14:11:51.818Z"
   },
   {
    "duration": 18,
    "start_time": "2022-01-20T14:12:01.116Z"
   },
   {
    "duration": 2315,
    "start_time": "2022-01-20T14:12:46.787Z"
   },
   {
    "duration": 17,
    "start_time": "2022-01-20T14:13:01.547Z"
   },
   {
    "duration": 15,
    "start_time": "2022-01-20T14:13:06.530Z"
   },
   {
    "duration": 18,
    "start_time": "2022-01-20T14:13:14.386Z"
   },
   {
    "duration": 638,
    "start_time": "2022-01-20T14:13:34.059Z"
   },
   {
    "duration": 604,
    "start_time": "2022-01-20T14:14:35.517Z"
   },
   {
    "duration": 14,
    "start_time": "2022-01-20T14:14:57.928Z"
   },
   {
    "duration": 182,
    "start_time": "2022-01-20T14:15:24.655Z"
   },
   {
    "duration": 192,
    "start_time": "2022-01-20T14:16:30.968Z"
   },
   {
    "duration": 140,
    "start_time": "2022-01-20T14:17:04.977Z"
   },
   {
    "duration": 21,
    "start_time": "2022-01-20T14:17:56.404Z"
   },
   {
    "duration": 27,
    "start_time": "2022-01-20T14:18:20.933Z"
   },
   {
    "duration": 17,
    "start_time": "2022-01-20T14:18:50.178Z"
   },
   {
    "duration": 5,
    "start_time": "2022-01-20T14:18:54.824Z"
   },
   {
    "duration": 52,
    "start_time": "2022-01-20T14:18:54.832Z"
   },
   {
    "duration": 26,
    "start_time": "2022-01-20T14:18:54.888Z"
   },
   {
    "duration": 7,
    "start_time": "2022-01-20T14:18:54.917Z"
   },
   {
    "duration": 43,
    "start_time": "2022-01-20T14:18:54.926Z"
   },
   {
    "duration": 16,
    "start_time": "2022-01-20T14:18:54.972Z"
   },
   {
    "duration": 20,
    "start_time": "2022-01-20T14:18:54.991Z"
   },
   {
    "duration": 52,
    "start_time": "2022-01-20T14:18:55.022Z"
   },
   {
    "duration": 23,
    "start_time": "2022-01-20T14:18:55.078Z"
   },
   {
    "duration": 17,
    "start_time": "2022-01-20T14:18:55.105Z"
   },
   {
    "duration": 65,
    "start_time": "2022-01-20T14:18:55.124Z"
   },
   {
    "duration": 14,
    "start_time": "2022-01-20T14:18:55.192Z"
   },
   {
    "duration": 12,
    "start_time": "2022-01-20T14:18:55.209Z"
   },
   {
    "duration": 51,
    "start_time": "2022-01-20T14:18:55.224Z"
   },
   {
    "duration": 34,
    "start_time": "2022-01-20T14:18:55.278Z"
   },
   {
    "duration": 16,
    "start_time": "2022-01-20T14:18:55.315Z"
   },
   {
    "duration": 14,
    "start_time": "2022-01-20T14:18:55.370Z"
   },
   {
    "duration": 11,
    "start_time": "2022-01-20T14:18:55.386Z"
   },
   {
    "duration": 5,
    "start_time": "2022-01-20T14:18:55.400Z"
   },
   {
    "duration": 8,
    "start_time": "2022-01-20T14:18:55.407Z"
   },
   {
    "duration": 57,
    "start_time": "2022-01-20T14:18:55.418Z"
   },
   {
    "duration": 539,
    "start_time": "2022-01-20T14:18:55.478Z"
   },
   {
    "duration": 647,
    "start_time": "2022-01-20T14:18:56.026Z"
   },
   {
    "duration": 496,
    "start_time": "2022-01-20T14:18:56.677Z"
   },
   {
    "duration": 10,
    "start_time": "2022-01-20T14:18:57.176Z"
   },
   {
    "duration": 26,
    "start_time": "2022-01-20T14:18:57.189Z"
   },
   {
    "duration": 451,
    "start_time": "2022-01-20T14:18:57.218Z"
   },
   {
    "duration": 471,
    "start_time": "2022-01-20T14:18:57.672Z"
   },
   {
    "duration": 426,
    "start_time": "2022-01-20T14:18:58.146Z"
   },
   {
    "duration": 460,
    "start_time": "2022-01-20T14:18:58.575Z"
   },
   {
    "duration": 434,
    "start_time": "2022-01-20T14:18:59.038Z"
   },
   {
    "duration": 541,
    "start_time": "2022-01-20T14:18:59.475Z"
   },
   {
    "duration": 384,
    "start_time": "2022-01-20T14:19:00.019Z"
   },
   {
    "duration": 473,
    "start_time": "2022-01-20T14:19:00.406Z"
   },
   {
    "duration": 606,
    "start_time": "2022-01-20T14:19:00.882Z"
   },
   {
    "duration": 457,
    "start_time": "2022-01-20T14:19:01.491Z"
   },
   {
    "duration": 454,
    "start_time": "2022-01-20T14:19:01.951Z"
   },
   {
    "duration": 572,
    "start_time": "2022-01-20T14:19:02.408Z"
   },
   {
    "duration": 8,
    "start_time": "2022-01-20T14:19:02.982Z"
   },
   {
    "duration": 57,
    "start_time": "2022-01-20T14:19:02.993Z"
   },
   {
    "duration": 859,
    "start_time": "2022-01-20T14:19:03.069Z"
   },
   {
    "duration": 1097,
    "start_time": "2022-01-20T14:19:03.930Z"
   },
   {
    "duration": 473,
    "start_time": "2022-01-20T14:19:05.030Z"
   },
   {
    "duration": 479,
    "start_time": "2022-01-20T14:19:05.506Z"
   },
   {
    "duration": 23,
    "start_time": "2022-01-20T14:19:05.988Z"
   },
   {
    "duration": 34,
    "start_time": "2022-01-20T14:19:06.013Z"
   },
   {
    "duration": 14,
    "start_time": "2022-01-20T14:19:06.070Z"
   },
   {
    "duration": 256,
    "start_time": "2022-01-20T14:19:06.086Z"
   },
   {
    "duration": 24,
    "start_time": "2022-01-20T14:19:06.345Z"
   },
   {
    "duration": 231,
    "start_time": "2022-01-20T14:19:06.373Z"
   },
   {
    "duration": 21,
    "start_time": "2022-01-20T14:19:06.607Z"
   },
   {
    "duration": 46,
    "start_time": "2022-01-20T14:19:06.631Z"
   },
   {
    "duration": 1245,
    "start_time": "2022-01-20T14:19:06.680Z"
   },
   {
    "duration": 18,
    "start_time": "2022-01-20T14:19:07.928Z"
   },
   {
    "duration": 228,
    "start_time": "2022-01-20T14:19:07.969Z"
   },
   {
    "duration": 17,
    "start_time": "2022-01-20T14:19:28.291Z"
   },
   {
    "duration": 22,
    "start_time": "2022-01-20T14:19:44.110Z"
   },
   {
    "duration": 17,
    "start_time": "2022-01-20T14:19:53.843Z"
   },
   {
    "duration": 152,
    "start_time": "2022-01-20T14:20:18.101Z"
   },
   {
    "duration": 17,
    "start_time": "2022-01-20T14:20:26.028Z"
   },
   {
    "duration": 17,
    "start_time": "2022-01-20T14:20:30.364Z"
   },
   {
    "duration": 12,
    "start_time": "2022-01-20T14:20:49.105Z"
   },
   {
    "duration": 293,
    "start_time": "2022-01-20T14:20:52.509Z"
   },
   {
    "duration": 11316,
    "start_time": "2022-01-20T14:20:58.093Z"
   },
   {
    "duration": 17,
    "start_time": "2022-01-20T14:21:18.694Z"
   },
   {
    "duration": 169,
    "start_time": "2022-01-20T14:21:21.669Z"
   },
   {
    "duration": 164,
    "start_time": "2022-01-20T14:21:54.470Z"
   },
   {
    "duration": 130,
    "start_time": "2022-01-20T14:22:16.070Z"
   },
   {
    "duration": 141,
    "start_time": "2022-01-20T14:22:21.895Z"
   },
   {
    "duration": 162,
    "start_time": "2022-01-20T14:22:28.455Z"
   },
   {
    "duration": 145,
    "start_time": "2022-01-20T14:22:35.055Z"
   },
   {
    "duration": 17,
    "start_time": "2022-01-20T14:23:15.481Z"
   },
   {
    "duration": 19,
    "start_time": "2022-01-20T14:23:36.517Z"
   },
   {
    "duration": 23,
    "start_time": "2022-01-20T14:23:45.018Z"
   },
   {
    "duration": 134,
    "start_time": "2022-01-20T14:24:43.228Z"
   },
   {
    "duration": 8,
    "start_time": "2022-01-20T14:40:19.087Z"
   },
   {
    "duration": 32,
    "start_time": "2022-01-20T14:42:26.418Z"
   },
   {
    "duration": 19,
    "start_time": "2022-01-20T14:42:53.346Z"
   },
   {
    "duration": 19,
    "start_time": "2022-01-20T14:42:57.058Z"
   },
   {
    "duration": 20,
    "start_time": "2022-01-20T14:43:13.299Z"
   },
   {
    "duration": 426,
    "start_time": "2022-01-20T14:43:46.466Z"
   },
   {
    "duration": 304,
    "start_time": "2022-01-20T14:44:05.288Z"
   },
   {
    "duration": 475,
    "start_time": "2022-01-20T14:44:19.100Z"
   },
   {
    "duration": 297,
    "start_time": "2022-01-20T14:44:24.196Z"
   },
   {
    "duration": 248,
    "start_time": "2022-01-20T14:46:18.894Z"
   },
   {
    "duration": 570,
    "start_time": "2022-01-20T14:48:06.516Z"
   },
   {
    "duration": 260,
    "start_time": "2022-01-20T14:48:12.873Z"
   },
   {
    "duration": 99,
    "start_time": "2022-01-20T14:51:46.773Z"
   },
   {
    "duration": 21,
    "start_time": "2022-01-20T14:51:51.832Z"
   },
   {
    "duration": 8259,
    "start_time": "2022-01-20T14:52:03.573Z"
   },
   {
    "duration": -19,
    "start_time": "2022-01-20T14:52:11.855Z"
   },
   {
    "duration": 24,
    "start_time": "2022-01-20T14:52:26.175Z"
   },
   {
    "duration": 289,
    "start_time": "2022-01-20T14:52:28.341Z"
   },
   {
    "duration": 632,
    "start_time": "2022-01-20T14:53:08.775Z"
   },
   {
    "duration": 94,
    "start_time": "2022-01-20T14:53:26.384Z"
   },
   {
    "duration": 93,
    "start_time": "2022-01-20T14:53:34.721Z"
   },
   {
    "duration": 22,
    "start_time": "2022-01-20T14:53:46.120Z"
   },
   {
    "duration": 23,
    "start_time": "2022-01-20T14:54:00.785Z"
   },
   {
    "duration": 253,
    "start_time": "2022-01-20T14:54:02.385Z"
   },
   {
    "duration": 20,
    "start_time": "2022-01-20T15:06:06.145Z"
   },
   {
    "duration": 129,
    "start_time": "2022-01-20T15:12:34.633Z"
   },
   {
    "duration": 198,
    "start_time": "2022-01-20T15:12:40.248Z"
   },
   {
    "duration": 127,
    "start_time": "2022-01-20T15:12:45.649Z"
   },
   {
    "duration": 31,
    "start_time": "2022-01-20T15:21:01.605Z"
   },
   {
    "duration": 323,
    "start_time": "2022-01-20T15:21:53.805Z"
   },
   {
    "duration": 131,
    "start_time": "2022-01-20T15:22:00.926Z"
   },
   {
    "duration": 12,
    "start_time": "2022-01-20T15:22:03.166Z"
   },
   {
    "duration": 20,
    "start_time": "2022-01-20T15:22:17.222Z"
   },
   {
    "duration": 21,
    "start_time": "2022-01-20T15:27:00.172Z"
   },
   {
    "duration": 19,
    "start_time": "2022-01-20T15:27:42.733Z"
   },
   {
    "duration": 21,
    "start_time": "2022-01-20T15:28:01.966Z"
   },
   {
    "duration": 21,
    "start_time": "2022-01-20T15:28:25.942Z"
   },
   {
    "duration": 24,
    "start_time": "2022-01-20T15:28:37.599Z"
   },
   {
    "duration": 20,
    "start_time": "2022-01-20T15:29:06.968Z"
   },
   {
    "duration": 22,
    "start_time": "2022-01-20T15:29:21.927Z"
   },
   {
    "duration": 22,
    "start_time": "2022-01-20T15:29:27.223Z"
   },
   {
    "duration": 20,
    "start_time": "2022-01-20T15:29:41.215Z"
   },
   {
    "duration": 21,
    "start_time": "2022-01-20T15:29:48.276Z"
   },
   {
    "duration": 16,
    "start_time": "2022-01-20T15:29:51.777Z"
   },
   {
    "duration": 115,
    "start_time": "2022-01-20T15:30:09.977Z"
   },
   {
    "duration": 18,
    "start_time": "2022-01-20T15:30:14.929Z"
   },
   {
    "duration": 19,
    "start_time": "2022-01-20T15:30:22.657Z"
   },
   {
    "duration": 20,
    "start_time": "2022-01-20T15:30:36.400Z"
   },
   {
    "duration": 19,
    "start_time": "2022-01-20T15:30:42.889Z"
   },
   {
    "duration": 456,
    "start_time": "2022-01-20T15:36:53.713Z"
   },
   {
    "duration": 22,
    "start_time": "2022-01-20T15:43:32.026Z"
   },
   {
    "duration": 6685,
    "start_time": "2022-01-20T15:45:16.588Z"
   },
   {
    "duration": 13,
    "start_time": "2022-01-20T15:45:29.461Z"
   },
   {
    "duration": 7,
    "start_time": "2022-01-20T15:46:05.110Z"
   },
   {
    "duration": 307,
    "start_time": "2022-01-20T15:47:47.665Z"
   },
   {
    "duration": 291,
    "start_time": "2022-01-20T15:50:11.820Z"
   },
   {
    "duration": 7,
    "start_time": "2022-01-20T15:50:52.957Z"
   },
   {
    "duration": 313,
    "start_time": "2022-01-20T15:51:12.900Z"
   },
   {
    "duration": 7,
    "start_time": "2022-01-20T15:51:17.372Z"
   },
   {
    "duration": 8,
    "start_time": "2022-01-20T15:51:37.869Z"
   },
   {
    "duration": 8,
    "start_time": "2022-01-20T15:51:40.099Z"
   },
   {
    "duration": 283,
    "start_time": "2022-01-20T15:51:45.093Z"
   },
   {
    "duration": 264,
    "start_time": "2022-01-20T15:51:58.405Z"
   },
   {
    "duration": 6,
    "start_time": "2022-01-20T15:52:01.125Z"
   },
   {
    "duration": 7,
    "start_time": "2022-01-20T15:52:08.853Z"
   },
   {
    "duration": 6,
    "start_time": "2022-01-20T15:55:21.361Z"
   },
   {
    "duration": 9,
    "start_time": "2022-01-20T15:56:32.883Z"
   },
   {
    "duration": 6,
    "start_time": "2022-01-20T15:57:03.540Z"
   },
   {
    "duration": 3829,
    "start_time": "2022-01-20T15:57:31.988Z"
   },
   {
    "duration": 3433,
    "start_time": "2022-01-20T15:57:38.149Z"
   },
   {
    "duration": 8,
    "start_time": "2022-01-20T15:57:47.157Z"
   },
   {
    "duration": 8,
    "start_time": "2022-01-20T15:57:48.646Z"
   },
   {
    "duration": 10,
    "start_time": "2022-01-20T15:58:47.535Z"
   },
   {
    "duration": 9,
    "start_time": "2022-01-20T15:58:49.064Z"
   },
   {
    "duration": 6,
    "start_time": "2022-01-20T15:58:54.078Z"
   },
   {
    "duration": 3756,
    "start_time": "2022-01-20T16:00:13.312Z"
   },
   {
    "duration": 3438,
    "start_time": "2022-01-20T16:00:22.769Z"
   },
   {
    "duration": 272,
    "start_time": "2022-01-20T16:03:40.965Z"
   },
   {
    "duration": 269,
    "start_time": "2022-01-20T16:03:51.301Z"
   },
   {
    "duration": 314,
    "start_time": "2022-01-20T16:04:05.622Z"
   },
   {
    "duration": 298,
    "start_time": "2022-01-20T16:04:21.014Z"
   },
   {
    "duration": 14,
    "start_time": "2022-01-20T16:05:28.838Z"
   },
   {
    "duration": 8,
    "start_time": "2022-01-20T16:05:36.670Z"
   },
   {
    "duration": 8,
    "start_time": "2022-01-20T16:05:40.678Z"
   },
   {
    "duration": 13,
    "start_time": "2022-01-20T16:06:11.369Z"
   },
   {
    "duration": 6,
    "start_time": "2022-01-20T16:06:14.248Z"
   },
   {
    "duration": 298,
    "start_time": "2022-01-20T16:06:50.762Z"
   },
   {
    "duration": 22,
    "start_time": "2022-01-20T16:07:09.153Z"
   },
   {
    "duration": 22,
    "start_time": "2022-01-20T16:07:34.362Z"
   },
   {
    "duration": 23,
    "start_time": "2022-01-20T16:08:32.178Z"
   },
   {
    "duration": 7,
    "start_time": "2022-01-20T16:11:03.879Z"
   },
   {
    "duration": 6,
    "start_time": "2022-01-20T16:11:41.470Z"
   },
   {
    "duration": 5,
    "start_time": "2022-01-20T16:13:39.322Z"
   },
   {
    "duration": 291,
    "start_time": "2022-01-20T16:16:02.964Z"
   },
   {
    "duration": 22,
    "start_time": "2022-01-20T16:16:51.450Z"
   },
   {
    "duration": 7,
    "start_time": "2022-01-20T16:17:11.533Z"
   },
   {
    "duration": 29,
    "start_time": "2022-01-20T16:17:26.672Z"
   },
   {
    "duration": 6,
    "start_time": "2022-01-20T16:18:35.857Z"
   },
   {
    "duration": 23,
    "start_time": "2022-01-20T16:22:44.326Z"
   },
   {
    "duration": 5,
    "start_time": "2022-01-20T16:23:47.388Z"
   },
   {
    "duration": 46,
    "start_time": "2022-01-20T16:23:47.395Z"
   },
   {
    "duration": 26,
    "start_time": "2022-01-20T16:23:47.444Z"
   },
   {
    "duration": 13,
    "start_time": "2022-01-20T16:23:47.473Z"
   },
   {
    "duration": 9,
    "start_time": "2022-01-20T16:23:47.488Z"
   },
   {
    "duration": 16,
    "start_time": "2022-01-20T16:23:47.500Z"
   },
   {
    "duration": 51,
    "start_time": "2022-01-20T16:23:47.519Z"
   },
   {
    "duration": 24,
    "start_time": "2022-01-20T16:23:47.574Z"
   },
   {
    "duration": 20,
    "start_time": "2022-01-20T16:23:47.601Z"
   },
   {
    "duration": 54,
    "start_time": "2022-01-20T16:23:47.623Z"
   },
   {
    "duration": 27,
    "start_time": "2022-01-20T16:23:47.680Z"
   },
   {
    "duration": 17,
    "start_time": "2022-01-20T16:23:47.710Z"
   },
   {
    "duration": 47,
    "start_time": "2022-01-20T16:23:47.730Z"
   },
   {
    "duration": 10,
    "start_time": "2022-01-20T16:23:47.780Z"
   },
   {
    "duration": 23,
    "start_time": "2022-01-20T16:23:47.793Z"
   },
   {
    "duration": 10,
    "start_time": "2022-01-20T16:23:47.819Z"
   },
   {
    "duration": 11,
    "start_time": "2022-01-20T16:23:47.869Z"
   },
   {
    "duration": 22,
    "start_time": "2022-01-20T16:23:47.882Z"
   },
   {
    "duration": 12,
    "start_time": "2022-01-20T16:23:47.906Z"
   },
   {
    "duration": 18,
    "start_time": "2022-01-20T16:23:47.920Z"
   },
   {
    "duration": 29,
    "start_time": "2022-01-20T16:23:47.940Z"
   },
   {
    "duration": 479,
    "start_time": "2022-01-20T16:23:47.972Z"
   },
   {
    "duration": 488,
    "start_time": "2022-01-20T16:23:48.458Z"
   },
   {
    "duration": 449,
    "start_time": "2022-01-20T16:23:48.950Z"
   },
   {
    "duration": 9,
    "start_time": "2022-01-20T16:23:49.403Z"
   },
   {
    "duration": 24,
    "start_time": "2022-01-20T16:23:49.415Z"
   },
   {
    "duration": 383,
    "start_time": "2022-01-20T16:23:49.471Z"
   },
   {
    "duration": 393,
    "start_time": "2022-01-20T16:23:49.857Z"
   },
   {
    "duration": 366,
    "start_time": "2022-01-20T16:23:50.252Z"
   },
   {
    "duration": 398,
    "start_time": "2022-01-20T16:23:50.621Z"
   },
   {
    "duration": 379,
    "start_time": "2022-01-20T16:23:51.021Z"
   },
   {
    "duration": 379,
    "start_time": "2022-01-20T16:23:51.403Z"
   },
   {
    "duration": 439,
    "start_time": "2022-01-20T16:23:51.784Z"
   },
   {
    "duration": 415,
    "start_time": "2022-01-20T16:23:52.226Z"
   },
   {
    "duration": 368,
    "start_time": "2022-01-20T16:23:52.644Z"
   },
   {
    "duration": 377,
    "start_time": "2022-01-20T16:23:53.015Z"
   },
   {
    "duration": 399,
    "start_time": "2022-01-20T16:23:53.394Z"
   },
   {
    "duration": 489,
    "start_time": "2022-01-20T16:23:53.796Z"
   },
   {
    "duration": 7,
    "start_time": "2022-01-20T16:23:54.287Z"
   },
   {
    "duration": 51,
    "start_time": "2022-01-20T16:23:54.296Z"
   },
   {
    "duration": 668,
    "start_time": "2022-01-20T16:23:54.369Z"
   },
   {
    "duration": 813,
    "start_time": "2022-01-20T16:23:55.040Z"
   },
   {
    "duration": 414,
    "start_time": "2022-01-20T16:23:55.856Z"
   },
   {
    "duration": 389,
    "start_time": "2022-01-20T16:23:56.274Z"
   },
   {
    "duration": 14,
    "start_time": "2022-01-20T16:23:56.670Z"
   },
   {
    "duration": 22,
    "start_time": "2022-01-20T16:23:56.687Z"
   },
   {
    "duration": 10,
    "start_time": "2022-01-20T16:23:56.712Z"
   },
   {
    "duration": 228,
    "start_time": "2022-01-20T16:23:56.724Z"
   },
   {
    "duration": 18,
    "start_time": "2022-01-20T16:23:56.954Z"
   },
   {
    "duration": 209,
    "start_time": "2022-01-20T16:23:56.974Z"
   },
   {
    "duration": 19,
    "start_time": "2022-01-20T16:23:57.185Z"
   },
   {
    "duration": 153,
    "start_time": "2022-01-20T16:23:57.207Z"
   },
   {
    "duration": 23,
    "start_time": "2022-01-20T16:23:57.362Z"
   },
   {
    "duration": 156,
    "start_time": "2022-01-20T16:23:57.387Z"
   },
   {
    "duration": 25,
    "start_time": "2022-01-20T16:23:57.546Z"
   },
   {
    "duration": 145,
    "start_time": "2022-01-20T16:23:57.573Z"
   },
   {
    "duration": 19,
    "start_time": "2022-01-20T16:23:57.720Z"
   },
   {
    "duration": 263,
    "start_time": "2022-01-20T16:23:57.742Z"
   },
   {
    "duration": 20,
    "start_time": "2022-01-20T16:23:58.008Z"
   },
   {
    "duration": 277,
    "start_time": "2022-01-20T16:23:58.030Z"
   },
   {
    "duration": 17,
    "start_time": "2022-01-20T16:23:58.310Z"
   },
   {
    "duration": 267,
    "start_time": "2022-01-20T16:23:58.330Z"
   },
   {
    "duration": 18,
    "start_time": "2022-01-20T16:23:58.600Z"
   },
   {
    "duration": 20,
    "start_time": "2022-01-20T16:23:58.620Z"
   },
   {
    "duration": 28,
    "start_time": "2022-01-20T16:23:58.643Z"
   },
   {
    "duration": 21,
    "start_time": "2022-01-20T16:23:58.674Z"
   },
   {
    "duration": 5,
    "start_time": "2022-01-20T16:23:58.697Z"
   },
   {
    "duration": 93,
    "start_time": "2022-01-20T16:32:07.552Z"
   },
   {
    "duration": 6,
    "start_time": "2022-01-20T16:35:12.153Z"
   },
   {
    "duration": 44,
    "start_time": "2022-01-20T16:35:12.161Z"
   },
   {
    "duration": 21,
    "start_time": "2022-01-20T16:35:12.209Z"
   },
   {
    "duration": 7,
    "start_time": "2022-01-20T16:35:12.233Z"
   },
   {
    "duration": 29,
    "start_time": "2022-01-20T16:35:12.242Z"
   },
   {
    "duration": 16,
    "start_time": "2022-01-20T16:35:12.274Z"
   },
   {
    "duration": 10,
    "start_time": "2022-01-20T16:35:12.293Z"
   },
   {
    "duration": 63,
    "start_time": "2022-01-20T16:35:12.306Z"
   },
   {
    "duration": 21,
    "start_time": "2022-01-20T16:35:12.372Z"
   },
   {
    "duration": 15,
    "start_time": "2022-01-20T16:35:12.395Z"
   },
   {
    "duration": 64,
    "start_time": "2022-01-20T16:35:12.413Z"
   },
   {
    "duration": 13,
    "start_time": "2022-01-20T16:35:12.479Z"
   },
   {
    "duration": 9,
    "start_time": "2022-01-20T16:35:12.494Z"
   },
   {
    "duration": 11,
    "start_time": "2022-01-20T16:35:12.505Z"
   },
   {
    "duration": 68,
    "start_time": "2022-01-20T16:35:12.518Z"
   },
   {
    "duration": 10,
    "start_time": "2022-01-20T16:35:12.588Z"
   },
   {
    "duration": 9,
    "start_time": "2022-01-20T16:35:12.600Z"
   },
   {
    "duration": 7,
    "start_time": "2022-01-20T16:35:12.611Z"
   },
   {
    "duration": 50,
    "start_time": "2022-01-20T16:35:12.620Z"
   },
   {
    "duration": 9,
    "start_time": "2022-01-20T16:35:12.673Z"
   },
   {
    "duration": 14,
    "start_time": "2022-01-20T16:35:12.687Z"
   },
   {
    "duration": 587,
    "start_time": "2022-01-20T16:35:12.704Z"
   },
   {
    "duration": 491,
    "start_time": "2022-01-20T16:35:13.293Z"
   },
   {
    "duration": 426,
    "start_time": "2022-01-20T16:35:13.786Z"
   },
   {
    "duration": 8,
    "start_time": "2022-01-20T16:35:14.214Z"
   },
   {
    "duration": 22,
    "start_time": "2022-01-20T16:35:14.224Z"
   },
   {
    "duration": 371,
    "start_time": "2022-01-20T16:35:14.270Z"
   },
   {
    "duration": 394,
    "start_time": "2022-01-20T16:35:14.643Z"
   },
   {
    "duration": 375,
    "start_time": "2022-01-20T16:35:15.040Z"
   },
   {
    "duration": 378,
    "start_time": "2022-01-20T16:35:15.418Z"
   },
   {
    "duration": 370,
    "start_time": "2022-01-20T16:35:15.799Z"
   },
   {
    "duration": 387,
    "start_time": "2022-01-20T16:35:16.173Z"
   },
   {
    "duration": 349,
    "start_time": "2022-01-20T16:35:16.570Z"
   },
   {
    "duration": 406,
    "start_time": "2022-01-20T16:35:16.922Z"
   },
   {
    "duration": 388,
    "start_time": "2022-01-20T16:35:17.330Z"
   },
   {
    "duration": 391,
    "start_time": "2022-01-20T16:35:17.720Z"
   },
   {
    "duration": 412,
    "start_time": "2022-01-20T16:35:18.113Z"
   },
   {
    "duration": 470,
    "start_time": "2022-01-20T16:35:18.528Z"
   },
   {
    "duration": 7,
    "start_time": "2022-01-20T16:35:19.001Z"
   },
   {
    "duration": 64,
    "start_time": "2022-01-20T16:35:19.010Z"
   },
   {
    "duration": 683,
    "start_time": "2022-01-20T16:35:19.077Z"
   },
   {
    "duration": 799,
    "start_time": "2022-01-20T16:35:19.770Z"
   },
   {
    "duration": 432,
    "start_time": "2022-01-20T16:35:20.572Z"
   },
   {
    "duration": 402,
    "start_time": "2022-01-20T16:35:21.006Z"
   },
   {
    "duration": 14,
    "start_time": "2022-01-20T16:35:21.410Z"
   },
   {
    "duration": 40,
    "start_time": "2022-01-20T16:35:21.429Z"
   },
   {
    "duration": 11,
    "start_time": "2022-01-20T16:35:21.472Z"
   },
   {
    "duration": 207,
    "start_time": "2022-01-20T16:35:21.485Z"
   },
   {
    "duration": 9,
    "start_time": "2022-01-20T16:35:21.694Z"
   },
   {
    "duration": 202,
    "start_time": "2022-01-20T16:35:21.706Z"
   },
   {
    "duration": 16,
    "start_time": "2022-01-20T16:35:21.910Z"
   },
   {
    "duration": 157,
    "start_time": "2022-01-20T16:35:21.929Z"
   },
   {
    "duration": 17,
    "start_time": "2022-01-20T16:35:22.089Z"
   },
   {
    "duration": 163,
    "start_time": "2022-01-20T16:35:22.108Z"
   },
   {
    "duration": 17,
    "start_time": "2022-01-20T16:35:22.274Z"
   },
   {
    "duration": 146,
    "start_time": "2022-01-20T16:35:22.294Z"
   },
   {
    "duration": 29,
    "start_time": "2022-01-20T16:35:22.442Z"
   },
   {
    "duration": 350,
    "start_time": "2022-01-20T16:35:22.474Z"
   },
   {
    "duration": 16,
    "start_time": "2022-01-20T16:35:22.827Z"
   },
   {
    "duration": 273,
    "start_time": "2022-01-20T16:35:22.845Z"
   },
   {
    "duration": 16,
    "start_time": "2022-01-20T16:35:23.121Z"
   },
   {
    "duration": 282,
    "start_time": "2022-01-20T16:35:23.139Z"
   },
   {
    "duration": 20,
    "start_time": "2022-01-20T16:35:23.423Z"
   },
   {
    "duration": 45,
    "start_time": "2022-01-20T16:35:23.446Z"
   },
   {
    "duration": 6,
    "start_time": "2022-01-20T16:35:23.493Z"
   },
   {
    "duration": 23,
    "start_time": "2022-01-20T16:35:23.502Z"
   },
   {
    "duration": 6,
    "start_time": "2022-01-20T16:35:23.527Z"
   },
   {
    "duration": 1479,
    "start_time": "2022-01-25T04:13:35.197Z"
   },
   {
    "duration": 37,
    "start_time": "2022-01-25T04:13:36.678Z"
   },
   {
    "duration": 18,
    "start_time": "2022-01-25T04:13:36.718Z"
   },
   {
    "duration": 6,
    "start_time": "2022-01-25T04:13:36.738Z"
   },
   {
    "duration": 26,
    "start_time": "2022-01-25T04:13:36.747Z"
   },
   {
    "duration": 36,
    "start_time": "2022-01-25T04:13:36.775Z"
   },
   {
    "duration": 28,
    "start_time": "2022-01-25T04:13:36.812Z"
   },
   {
    "duration": 43,
    "start_time": "2022-01-25T04:13:36.841Z"
   },
   {
    "duration": 16,
    "start_time": "2022-01-25T04:13:36.887Z"
   },
   {
    "duration": 30,
    "start_time": "2022-01-25T04:13:36.905Z"
   },
   {
    "duration": 37,
    "start_time": "2022-01-25T04:13:36.936Z"
   },
   {
    "duration": 14,
    "start_time": "2022-01-25T04:13:36.974Z"
   },
   {
    "duration": 31,
    "start_time": "2022-01-25T04:13:36.989Z"
   },
   {
    "duration": 10,
    "start_time": "2022-01-25T04:13:37.022Z"
   },
   {
    "duration": 27,
    "start_time": "2022-01-25T04:13:37.033Z"
   },
   {
    "duration": 25,
    "start_time": "2022-01-25T04:13:37.062Z"
   },
   {
    "duration": 23,
    "start_time": "2022-01-25T04:13:37.089Z"
   },
   {
    "duration": 29,
    "start_time": "2022-01-25T04:13:37.113Z"
   },
   {
    "duration": 28,
    "start_time": "2022-01-25T04:13:37.143Z"
   },
   {
    "duration": 21,
    "start_time": "2022-01-25T04:13:37.173Z"
   },
   {
    "duration": 30,
    "start_time": "2022-01-25T04:13:37.196Z"
   },
   {
    "duration": 275,
    "start_time": "2022-01-25T04:13:37.228Z"
   },
   {
    "duration": 286,
    "start_time": "2022-01-25T04:13:37.505Z"
   },
   {
    "duration": 300,
    "start_time": "2022-01-25T04:13:37.792Z"
   },
   {
    "duration": 6,
    "start_time": "2022-01-25T04:13:38.094Z"
   },
   {
    "duration": 14,
    "start_time": "2022-01-25T04:13:38.102Z"
   },
   {
    "duration": 230,
    "start_time": "2022-01-25T04:13:38.119Z"
   },
   {
    "duration": 228,
    "start_time": "2022-01-25T04:13:38.351Z"
   },
   {
    "duration": 216,
    "start_time": "2022-01-25T04:13:38.581Z"
   },
   {
    "duration": 314,
    "start_time": "2022-01-25T04:13:38.799Z"
   },
   {
    "duration": 213,
    "start_time": "2022-01-25T04:13:39.115Z"
   },
   {
    "duration": 224,
    "start_time": "2022-01-25T04:13:39.330Z"
   },
   {
    "duration": 211,
    "start_time": "2022-01-25T04:13:39.556Z"
   },
   {
    "duration": 238,
    "start_time": "2022-01-25T04:13:39.770Z"
   },
   {
    "duration": 234,
    "start_time": "2022-01-25T04:13:40.011Z"
   },
   {
    "duration": 222,
    "start_time": "2022-01-25T04:13:40.248Z"
   },
   {
    "duration": 244,
    "start_time": "2022-01-25T04:13:40.472Z"
   },
   {
    "duration": 295,
    "start_time": "2022-01-25T04:13:40.719Z"
   },
   {
    "duration": 6,
    "start_time": "2022-01-25T04:13:41.016Z"
   },
   {
    "duration": 82,
    "start_time": "2022-01-25T04:13:41.024Z"
   },
   {
    "duration": 437,
    "start_time": "2022-01-25T04:13:41.107Z"
   },
   {
    "duration": 605,
    "start_time": "2022-01-25T04:13:41.546Z"
   },
   {
    "duration": 299,
    "start_time": "2022-01-25T04:13:42.153Z"
   },
   {
    "duration": 294,
    "start_time": "2022-01-25T04:13:42.453Z"
   },
   {
    "duration": 17,
    "start_time": "2022-01-25T04:13:42.749Z"
   },
   {
    "duration": 16,
    "start_time": "2022-01-25T04:13:42.768Z"
   },
   {
    "duration": 7,
    "start_time": "2022-01-25T04:13:42.786Z"
   },
   {
    "duration": 130,
    "start_time": "2022-01-25T04:13:42.794Z"
   },
   {
    "duration": 7,
    "start_time": "2022-01-25T04:13:42.925Z"
   },
   {
    "duration": 140,
    "start_time": "2022-01-25T04:13:42.933Z"
   },
   {
    "duration": 12,
    "start_time": "2022-01-25T04:13:43.074Z"
   },
   {
    "duration": 111,
    "start_time": "2022-01-25T04:13:43.088Z"
   },
   {
    "duration": 10,
    "start_time": "2022-01-25T04:13:43.201Z"
   },
   {
    "duration": 102,
    "start_time": "2022-01-25T04:13:43.213Z"
   },
   {
    "duration": 12,
    "start_time": "2022-01-25T04:13:43.316Z"
   },
   {
    "duration": 98,
    "start_time": "2022-01-25T04:13:43.329Z"
   },
   {
    "duration": 11,
    "start_time": "2022-01-25T04:13:43.428Z"
   },
   {
    "duration": 159,
    "start_time": "2022-01-25T04:13:43.441Z"
   },
   {
    "duration": 13,
    "start_time": "2022-01-25T04:13:43.602Z"
   },
   {
    "duration": 170,
    "start_time": "2022-01-25T04:13:43.617Z"
   },
   {
    "duration": 11,
    "start_time": "2022-01-25T04:13:43.789Z"
   },
   {
    "duration": 177,
    "start_time": "2022-01-25T04:13:43.802Z"
   },
   {
    "duration": 13,
    "start_time": "2022-01-25T04:13:43.981Z"
   },
   {
    "duration": 39,
    "start_time": "2022-01-25T04:13:43.996Z"
   },
   {
    "duration": 36,
    "start_time": "2022-01-25T04:13:44.037Z"
   },
   {
    "duration": 43,
    "start_time": "2022-01-25T04:13:44.075Z"
   },
   {
    "duration": 22,
    "start_time": "2022-01-25T04:13:44.120Z"
   },
   {
    "duration": 1496,
    "start_time": "2022-01-25T04:40:48.490Z"
   },
   {
    "duration": 40,
    "start_time": "2022-01-25T04:40:49.988Z"
   },
   {
    "duration": 19,
    "start_time": "2022-01-25T04:40:50.030Z"
   },
   {
    "duration": 8,
    "start_time": "2022-01-25T04:40:50.051Z"
   },
   {
    "duration": 26,
    "start_time": "2022-01-25T04:40:50.061Z"
   },
   {
    "duration": 40,
    "start_time": "2022-01-25T04:40:50.089Z"
   },
   {
    "duration": 17,
    "start_time": "2022-01-25T04:40:50.131Z"
   },
   {
    "duration": 40,
    "start_time": "2022-01-25T04:40:50.150Z"
   },
   {
    "duration": 20,
    "start_time": "2022-01-25T04:40:50.194Z"
   },
   {
    "duration": 32,
    "start_time": "2022-01-25T04:40:50.217Z"
   },
   {
    "duration": 25,
    "start_time": "2022-01-25T04:40:50.252Z"
   },
   {
    "duration": 26,
    "start_time": "2022-01-25T04:40:50.279Z"
   },
   {
    "duration": 41,
    "start_time": "2022-01-25T04:40:50.307Z"
   },
   {
    "duration": 21,
    "start_time": "2022-01-25T04:40:50.350Z"
   },
   {
    "duration": 40,
    "start_time": "2022-01-25T04:40:50.373Z"
   },
   {
    "duration": 18,
    "start_time": "2022-01-25T04:40:50.415Z"
   },
   {
    "duration": 29,
    "start_time": "2022-01-25T04:40:50.434Z"
   },
   {
    "duration": 26,
    "start_time": "2022-01-25T04:40:50.464Z"
   },
   {
    "duration": 25,
    "start_time": "2022-01-25T04:40:50.491Z"
   },
   {
    "duration": 15,
    "start_time": "2022-01-25T04:40:50.518Z"
   },
   {
    "duration": 37,
    "start_time": "2022-01-25T04:40:50.535Z"
   },
   {
    "duration": 293,
    "start_time": "2022-01-25T04:40:50.574Z"
   },
   {
    "duration": 302,
    "start_time": "2022-01-25T04:40:50.869Z"
   },
   {
    "duration": 321,
    "start_time": "2022-01-25T04:40:51.173Z"
   },
   {
    "duration": 6,
    "start_time": "2022-01-25T04:40:51.496Z"
   },
   {
    "duration": 32,
    "start_time": "2022-01-25T04:40:51.504Z"
   },
   {
    "duration": 286,
    "start_time": "2022-01-25T04:40:51.540Z"
   },
   {
    "duration": 295,
    "start_time": "2022-01-25T04:40:51.829Z"
   },
   {
    "duration": 220,
    "start_time": "2022-01-25T04:40:52.125Z"
   },
   {
    "duration": 332,
    "start_time": "2022-01-25T04:40:52.347Z"
   },
   {
    "duration": 239,
    "start_time": "2022-01-25T04:40:52.681Z"
   },
   {
    "duration": 233,
    "start_time": "2022-01-25T04:40:52.921Z"
   },
   {
    "duration": 196,
    "start_time": "2022-01-25T04:40:53.155Z"
   },
   {
    "duration": 240,
    "start_time": "2022-01-25T04:40:53.353Z"
   },
   {
    "duration": 227,
    "start_time": "2022-01-25T04:40:53.595Z"
   },
   {
    "duration": 231,
    "start_time": "2022-01-25T04:40:53.824Z"
   },
   {
    "duration": 234,
    "start_time": "2022-01-25T04:40:54.056Z"
   },
   {
    "duration": 281,
    "start_time": "2022-01-25T04:40:54.292Z"
   },
   {
    "duration": 5,
    "start_time": "2022-01-25T04:40:54.575Z"
   },
   {
    "duration": 40,
    "start_time": "2022-01-25T04:40:54.582Z"
   },
   {
    "duration": 405,
    "start_time": "2022-01-25T04:40:54.624Z"
   },
   {
    "duration": 585,
    "start_time": "2022-01-25T04:40:55.031Z"
   },
   {
    "duration": 356,
    "start_time": "2022-01-25T04:40:55.618Z"
   },
   {
    "duration": 303,
    "start_time": "2022-01-25T04:40:55.975Z"
   },
   {
    "duration": 10,
    "start_time": "2022-01-25T04:40:56.280Z"
   },
   {
    "duration": 15,
    "start_time": "2022-01-25T04:40:56.291Z"
   },
   {
    "duration": 49,
    "start_time": "2022-01-25T04:40:56.308Z"
   },
   {
    "duration": 114,
    "start_time": "2022-01-25T04:40:56.359Z"
   },
   {
    "duration": 7,
    "start_time": "2022-01-25T04:40:56.475Z"
   },
   {
    "duration": 128,
    "start_time": "2022-01-25T04:40:56.483Z"
   },
   {
    "duration": 13,
    "start_time": "2022-01-25T04:40:56.613Z"
   },
   {
    "duration": 99,
    "start_time": "2022-01-25T04:40:56.627Z"
   },
   {
    "duration": 15,
    "start_time": "2022-01-25T04:40:56.728Z"
   },
   {
    "duration": 91,
    "start_time": "2022-01-25T04:40:56.744Z"
   },
   {
    "duration": 12,
    "start_time": "2022-01-25T04:40:56.836Z"
   },
   {
    "duration": 82,
    "start_time": "2022-01-25T04:40:56.861Z"
   },
   {
    "duration": 20,
    "start_time": "2022-01-25T04:40:56.945Z"
   },
   {
    "duration": 156,
    "start_time": "2022-01-25T04:40:56.967Z"
   },
   {
    "duration": 12,
    "start_time": "2022-01-25T04:40:57.125Z"
   },
   {
    "duration": 171,
    "start_time": "2022-01-25T04:40:57.138Z"
   },
   {
    "duration": 11,
    "start_time": "2022-01-25T04:40:57.311Z"
   },
   {
    "duration": 171,
    "start_time": "2022-01-25T04:40:57.324Z"
   },
   {
    "duration": 15,
    "start_time": "2022-01-25T04:40:57.497Z"
   },
   {
    "duration": 15,
    "start_time": "2022-01-25T04:40:57.514Z"
   },
   {
    "duration": 3,
    "start_time": "2022-01-25T04:40:57.531Z"
   },
   {
    "duration": 38,
    "start_time": "2022-01-25T04:40:57.536Z"
   },
   {
    "duration": 4,
    "start_time": "2022-01-25T04:40:57.576Z"
   },
   {
    "duration": 2233,
    "start_time": "2022-01-25T05:55:25.395Z"
   },
   {
    "duration": 49,
    "start_time": "2022-01-25T05:55:27.631Z"
   },
   {
    "duration": 25,
    "start_time": "2022-01-25T05:55:27.684Z"
   },
   {
    "duration": 5,
    "start_time": "2022-01-25T05:55:27.712Z"
   },
   {
    "duration": 5,
    "start_time": "2022-01-25T05:55:27.719Z"
   },
   {
    "duration": 42,
    "start_time": "2022-01-25T05:55:27.727Z"
   },
   {
    "duration": 11,
    "start_time": "2022-01-25T05:55:27.771Z"
   },
   {
    "duration": 23,
    "start_time": "2022-01-25T05:55:27.786Z"
   },
   {
    "duration": 56,
    "start_time": "2022-01-25T05:55:27.812Z"
   },
   {
    "duration": 22,
    "start_time": "2022-01-25T05:55:27.870Z"
   },
   {
    "duration": 22,
    "start_time": "2022-01-25T05:55:27.900Z"
   },
   {
    "duration": 42,
    "start_time": "2022-01-25T05:55:27.925Z"
   },
   {
    "duration": 11,
    "start_time": "2022-01-25T05:55:27.971Z"
   },
   {
    "duration": 10,
    "start_time": "2022-01-25T05:55:27.984Z"
   },
   {
    "duration": 22,
    "start_time": "2022-01-25T05:55:27.996Z"
   },
   {
    "duration": 50,
    "start_time": "2022-01-25T05:55:28.020Z"
   },
   {
    "duration": 13,
    "start_time": "2022-01-25T05:55:28.073Z"
   },
   {
    "duration": 9,
    "start_time": "2022-01-25T05:55:28.089Z"
   },
   {
    "duration": 6,
    "start_time": "2022-01-25T05:55:28.101Z"
   },
   {
    "duration": 57,
    "start_time": "2022-01-25T05:55:28.110Z"
   },
   {
    "duration": 14,
    "start_time": "2022-01-25T05:55:28.171Z"
   },
   {
    "duration": 505,
    "start_time": "2022-01-25T05:55:28.188Z"
   },
   {
    "duration": 500,
    "start_time": "2022-01-25T05:55:28.699Z"
   },
   {
    "duration": 480,
    "start_time": "2022-01-25T05:55:29.203Z"
   },
   {
    "duration": 8,
    "start_time": "2022-01-25T05:55:29.685Z"
   },
   {
    "duration": 22,
    "start_time": "2022-01-25T05:55:29.696Z"
   },
   {
    "duration": 417,
    "start_time": "2022-01-25T05:55:29.721Z"
   },
   {
    "duration": 423,
    "start_time": "2022-01-25T05:55:30.140Z"
   },
   {
    "duration": 389,
    "start_time": "2022-01-25T05:55:30.570Z"
   },
   {
    "duration": 511,
    "start_time": "2022-01-25T05:55:30.963Z"
   },
   {
    "duration": 419,
    "start_time": "2022-01-25T05:55:31.477Z"
   },
   {
    "duration": 416,
    "start_time": "2022-01-25T05:55:31.898Z"
   },
   {
    "duration": 367,
    "start_time": "2022-01-25T05:55:32.316Z"
   },
   {
    "duration": 415,
    "start_time": "2022-01-25T05:55:32.685Z"
   },
   {
    "duration": 457,
    "start_time": "2022-01-25T05:55:33.102Z"
   },
   {
    "duration": 399,
    "start_time": "2022-01-25T05:55:33.564Z"
   },
   {
    "duration": 421,
    "start_time": "2022-01-25T05:55:33.967Z"
   },
   {
    "duration": 520,
    "start_time": "2022-01-25T05:55:34.391Z"
   },
   {
    "duration": 8,
    "start_time": "2022-01-25T05:55:34.913Z"
   },
   {
    "duration": 81,
    "start_time": "2022-01-25T05:55:34.923Z"
   },
   {
    "duration": 746,
    "start_time": "2022-01-25T05:55:35.007Z"
   },
   {
    "duration": 1103,
    "start_time": "2022-01-25T05:55:35.760Z"
   },
   {
    "duration": 471,
    "start_time": "2022-01-25T05:55:36.867Z"
   },
   {
    "duration": 410,
    "start_time": "2022-01-25T05:55:37.341Z"
   },
   {
    "duration": 18,
    "start_time": "2022-01-25T05:55:37.758Z"
   },
   {
    "duration": 19,
    "start_time": "2022-01-25T05:55:37.779Z"
   },
   {
    "duration": 11,
    "start_time": "2022-01-25T05:55:37.800Z"
   },
   {
    "duration": 237,
    "start_time": "2022-01-25T05:55:37.813Z"
   },
   {
    "duration": 13,
    "start_time": "2022-01-25T05:55:38.060Z"
   },
   {
    "duration": 219,
    "start_time": "2022-01-25T05:55:38.076Z"
   },
   {
    "duration": 17,
    "start_time": "2022-01-25T05:55:38.298Z"
   },
   {
    "duration": 173,
    "start_time": "2022-01-25T05:55:38.318Z"
   },
   {
    "duration": 19,
    "start_time": "2022-01-25T05:55:38.495Z"
   },
   {
    "duration": 175,
    "start_time": "2022-01-25T05:55:38.517Z"
   },
   {
    "duration": 18,
    "start_time": "2022-01-25T05:55:38.694Z"
   },
   {
    "duration": 165,
    "start_time": "2022-01-25T05:55:38.715Z"
   },
   {
    "duration": 16,
    "start_time": "2022-01-25T05:55:38.882Z"
   },
   {
    "duration": 266,
    "start_time": "2022-01-25T05:55:38.901Z"
   },
   {
    "duration": 22,
    "start_time": "2022-01-25T05:55:39.169Z"
   },
   {
    "duration": 282,
    "start_time": "2022-01-25T05:55:39.194Z"
   },
   {
    "duration": 17,
    "start_time": "2022-01-25T05:55:39.478Z"
   },
   {
    "duration": 290,
    "start_time": "2022-01-25T05:55:39.497Z"
   },
   {
    "duration": 21,
    "start_time": "2022-01-25T05:55:39.790Z"
   },
   {
    "duration": 60,
    "start_time": "2022-01-25T05:55:39.813Z"
   },
   {
    "duration": 4,
    "start_time": "2022-01-25T05:55:39.876Z"
   },
   {
    "duration": 20,
    "start_time": "2022-01-25T05:55:39.883Z"
   },
   {
    "duration": 5,
    "start_time": "2022-01-25T05:55:39.906Z"
   },
   {
    "duration": 8,
    "start_time": "2022-01-25T06:01:13.069Z"
   },
   {
    "duration": 39,
    "start_time": "2022-01-25T06:01:17.373Z"
   },
   {
    "duration": 7,
    "start_time": "2022-01-25T06:01:28.572Z"
   },
   {
    "duration": 52,
    "start_time": "2022-01-25T06:01:32.437Z"
   },
   {
    "duration": 39,
    "start_time": "2022-01-25T06:01:56.653Z"
   },
   {
    "duration": 10,
    "start_time": "2022-01-25T06:02:06.405Z"
   },
   {
    "duration": 48,
    "start_time": "2022-01-25T06:02:08.757Z"
   },
   {
    "duration": 6,
    "start_time": "2022-01-25T06:02:19.532Z"
   },
   {
    "duration": 73,
    "start_time": "2022-01-25T06:02:19.541Z"
   },
   {
    "duration": 22,
    "start_time": "2022-01-25T06:02:19.617Z"
   },
   {
    "duration": 17,
    "start_time": "2022-01-25T06:02:19.642Z"
   },
   {
    "duration": 21,
    "start_time": "2022-01-25T06:02:19.662Z"
   },
   {
    "duration": 24,
    "start_time": "2022-01-25T06:02:19.686Z"
   },
   {
    "duration": 17,
    "start_time": "2022-01-25T06:02:19.883Z"
   },
   {
    "duration": 24,
    "start_time": "2022-01-25T06:02:20.725Z"
   },
   {
    "duration": 29,
    "start_time": "2022-01-25T06:02:20.751Z"
   },
   {
    "duration": 12,
    "start_time": "2022-01-25T06:02:20.785Z"
   },
   {
    "duration": 22,
    "start_time": "2022-01-25T06:02:20.800Z"
   },
   {
    "duration": 47,
    "start_time": "2022-01-25T06:02:20.824Z"
   },
   {
    "duration": 27,
    "start_time": "2022-01-25T06:02:20.874Z"
   },
   {
    "duration": 15,
    "start_time": "2022-01-25T06:02:20.904Z"
   },
   {
    "duration": 55,
    "start_time": "2022-01-25T06:02:20.921Z"
   },
   {
    "duration": 16,
    "start_time": "2022-01-25T06:02:20.981Z"
   },
   {
    "duration": 13,
    "start_time": "2022-01-25T06:02:21.000Z"
   },
   {
    "duration": 11,
    "start_time": "2022-01-25T06:02:21.016Z"
   },
   {
    "duration": 10,
    "start_time": "2022-01-25T06:02:21.058Z"
   },
   {
    "duration": 6,
    "start_time": "2022-01-25T06:02:21.139Z"
   },
   {
    "duration": 13,
    "start_time": "2022-01-25T06:02:21.900Z"
   },
   {
    "duration": 509,
    "start_time": "2022-01-25T06:02:21.916Z"
   },
   {
    "duration": 532,
    "start_time": "2022-01-25T06:02:22.429Z"
   },
   {
    "duration": 456,
    "start_time": "2022-01-25T06:02:22.965Z"
   },
   {
    "duration": 8,
    "start_time": "2022-01-25T06:02:23.424Z"
   },
   {
    "duration": 49,
    "start_time": "2022-01-25T06:02:23.434Z"
   },
   {
    "duration": 398,
    "start_time": "2022-01-25T06:02:23.485Z"
   },
   {
    "duration": 674,
    "start_time": "2022-01-25T06:02:23.885Z"
   },
   {
    "duration": 402,
    "start_time": "2022-01-25T06:02:24.565Z"
   },
   {
    "duration": 558,
    "start_time": "2022-01-25T06:02:24.972Z"
   },
   {
    "duration": 541,
    "start_time": "2022-01-25T06:02:25.533Z"
   },
   {
    "duration": 516,
    "start_time": "2022-01-25T06:02:26.077Z"
   },
   {
    "duration": 388,
    "start_time": "2022-01-25T06:02:26.596Z"
   },
   {
    "duration": 429,
    "start_time": "2022-01-25T06:02:26.987Z"
   },
   {
    "duration": 432,
    "start_time": "2022-01-25T06:02:27.419Z"
   },
   {
    "duration": 383,
    "start_time": "2022-01-25T06:02:27.859Z"
   },
   {
    "duration": 445,
    "start_time": "2022-01-25T06:02:28.246Z"
   },
   {
    "duration": 530,
    "start_time": "2022-01-25T06:02:28.693Z"
   },
   {
    "duration": 7,
    "start_time": "2022-01-25T06:02:29.225Z"
   },
   {
    "duration": 56,
    "start_time": "2022-01-25T06:02:29.235Z"
   },
   {
    "duration": 639,
    "start_time": "2022-01-25T06:02:29.293Z"
   },
   {
    "duration": 852,
    "start_time": "2022-01-25T06:02:29.935Z"
   },
   {
    "duration": 420,
    "start_time": "2022-01-25T06:02:30.790Z"
   },
   {
    "duration": 476,
    "start_time": "2022-01-25T06:02:31.212Z"
   },
   {
    "duration": 14,
    "start_time": "2022-01-25T06:02:31.690Z"
   },
   {
    "duration": 19,
    "start_time": "2022-01-25T06:02:31.706Z"
   },
   {
    "duration": 12,
    "start_time": "2022-01-25T06:02:31.761Z"
   },
   {
    "duration": 211,
    "start_time": "2022-01-25T06:02:31.777Z"
   },
   {
    "duration": 9,
    "start_time": "2022-01-25T06:02:31.990Z"
   },
   {
    "duration": 196,
    "start_time": "2022-01-25T06:02:32.001Z"
   },
   {
    "duration": 16,
    "start_time": "2022-01-25T06:02:32.199Z"
   },
   {
    "duration": 125,
    "start_time": "2022-01-25T06:02:32.217Z"
   },
   {
    "duration": 28,
    "start_time": "2022-01-25T06:02:32.345Z"
   },
   {
    "duration": 123,
    "start_time": "2022-01-25T06:02:32.375Z"
   },
   {
    "duration": 18,
    "start_time": "2022-01-25T06:02:32.501Z"
   },
   {
    "duration": 119,
    "start_time": "2022-01-25T06:02:32.522Z"
   },
   {
    "duration": 25,
    "start_time": "2022-01-25T06:02:32.644Z"
   },
   {
    "duration": 287,
    "start_time": "2022-01-25T06:02:32.672Z"
   },
   {
    "duration": 21,
    "start_time": "2022-01-25T06:02:32.962Z"
   },
   {
    "duration": 335,
    "start_time": "2022-01-25T06:02:32.986Z"
   },
   {
    "duration": 16,
    "start_time": "2022-01-25T06:02:33.323Z"
   },
   {
    "duration": 338,
    "start_time": "2022-01-25T06:02:33.341Z"
   },
   {
    "duration": 25,
    "start_time": "2022-01-25T06:02:33.682Z"
   },
   {
    "duration": 51,
    "start_time": "2022-01-25T06:02:33.710Z"
   },
   {
    "duration": 7,
    "start_time": "2022-01-25T06:02:33.764Z"
   },
   {
    "duration": 28,
    "start_time": "2022-01-25T06:02:33.774Z"
   },
   {
    "duration": 7,
    "start_time": "2022-01-25T06:02:33.805Z"
   },
   {
    "duration": 39,
    "start_time": "2022-01-25T06:03:33.585Z"
   },
   {
    "duration": 7,
    "start_time": "2022-01-25T06:04:48.537Z"
   },
   {
    "duration": 38,
    "start_time": "2022-01-25T06:04:50.698Z"
   },
   {
    "duration": 5,
    "start_time": "2022-01-25T06:04:57.532Z"
   },
   {
    "duration": 57,
    "start_time": "2022-01-25T06:04:57.540Z"
   },
   {
    "duration": 23,
    "start_time": "2022-01-25T06:04:57.601Z"
   },
   {
    "duration": 8,
    "start_time": "2022-01-25T06:04:57.659Z"
   },
   {
    "duration": 15,
    "start_time": "2022-01-25T06:04:57.670Z"
   },
   {
    "duration": 15,
    "start_time": "2022-01-25T06:04:57.688Z"
   },
   {
    "duration": 68,
    "start_time": "2022-01-25T06:04:57.707Z"
   },
   {
    "duration": 29,
    "start_time": "2022-01-25T06:04:57.779Z"
   },
   {
    "duration": 62,
    "start_time": "2022-01-25T06:04:57.810Z"
   },
   {
    "duration": 20,
    "start_time": "2022-01-25T06:04:57.875Z"
   },
   {
    "duration": 61,
    "start_time": "2022-01-25T06:04:57.898Z"
   },
   {
    "duration": 16,
    "start_time": "2022-01-25T06:04:57.962Z"
   },
   {
    "duration": 12,
    "start_time": "2022-01-25T06:04:57.983Z"
   },
   {
    "duration": 12,
    "start_time": "2022-01-25T06:04:57.998Z"
   },
   {
    "duration": 43,
    "start_time": "2022-01-25T06:04:58.061Z"
   },
   {
    "duration": 10,
    "start_time": "2022-01-25T06:04:58.107Z"
   },
   {
    "duration": 50,
    "start_time": "2022-01-25T06:04:58.119Z"
   },
   {
    "duration": 17,
    "start_time": "2022-01-25T06:04:58.172Z"
   },
   {
    "duration": 6,
    "start_time": "2022-01-25T06:04:58.196Z"
   },
   {
    "duration": 8,
    "start_time": "2022-01-25T06:04:58.206Z"
   },
   {
    "duration": 58,
    "start_time": "2022-01-25T06:04:58.216Z"
   },
   {
    "duration": 510,
    "start_time": "2022-01-25T06:04:58.276Z"
   },
   {
    "duration": 509,
    "start_time": "2022-01-25T06:04:58.788Z"
   },
   {
    "duration": 431,
    "start_time": "2022-01-25T06:04:59.300Z"
   },
   {
    "duration": 28,
    "start_time": "2022-01-25T06:04:59.734Z"
   },
   {
    "duration": 25,
    "start_time": "2022-01-25T06:04:59.765Z"
   },
   {
    "duration": 436,
    "start_time": "2022-01-25T06:04:59.793Z"
   },
   {
    "duration": 426,
    "start_time": "2022-01-25T06:05:00.232Z"
   },
   {
    "duration": 408,
    "start_time": "2022-01-25T06:05:00.666Z"
   },
   {
    "duration": 436,
    "start_time": "2022-01-25T06:05:01.078Z"
   },
   {
    "duration": 392,
    "start_time": "2022-01-25T06:05:01.516Z"
   },
   {
    "duration": 408,
    "start_time": "2022-01-25T06:05:01.910Z"
   },
   {
    "duration": 354,
    "start_time": "2022-01-25T06:05:02.321Z"
   },
   {
    "duration": 765,
    "start_time": "2022-01-25T06:05:02.679Z"
   },
   {
    "duration": 551,
    "start_time": "2022-01-25T06:05:03.456Z"
   },
   {
    "duration": 406,
    "start_time": "2022-01-25T06:05:04.010Z"
   },
   {
    "duration": 448,
    "start_time": "2022-01-25T06:05:04.419Z"
   },
   {
    "duration": 517,
    "start_time": "2022-01-25T06:05:04.871Z"
   },
   {
    "duration": 6,
    "start_time": "2022-01-25T06:05:05.391Z"
   },
   {
    "duration": 81,
    "start_time": "2022-01-25T06:05:05.399Z"
   },
   {
    "duration": 655,
    "start_time": "2022-01-25T06:05:05.483Z"
   },
   {
    "duration": 684,
    "start_time": "2022-01-25T06:05:06.140Z"
   },
   {
    "duration": 440,
    "start_time": "2022-01-25T06:05:06.827Z"
   },
   {
    "duration": 414,
    "start_time": "2022-01-25T06:05:07.270Z"
   },
   {
    "duration": 17,
    "start_time": "2022-01-25T06:05:07.687Z"
   },
   {
    "duration": 67,
    "start_time": "2022-01-25T06:05:07.707Z"
   },
   {
    "duration": 16,
    "start_time": "2022-01-25T06:05:07.777Z"
   },
   {
    "duration": 217,
    "start_time": "2022-01-25T06:05:07.795Z"
   },
   {
    "duration": 10,
    "start_time": "2022-01-25T06:05:08.015Z"
   },
   {
    "duration": 235,
    "start_time": "2022-01-25T06:05:08.027Z"
   },
   {
    "duration": 21,
    "start_time": "2022-01-25T06:05:08.265Z"
   },
   {
    "duration": 160,
    "start_time": "2022-01-25T06:05:08.289Z"
   },
   {
    "duration": 25,
    "start_time": "2022-01-25T06:05:08.452Z"
   },
   {
    "duration": 134,
    "start_time": "2022-01-25T06:05:08.479Z"
   },
   {
    "duration": 17,
    "start_time": "2022-01-25T06:05:08.619Z"
   },
   {
    "duration": 139,
    "start_time": "2022-01-25T06:05:08.639Z"
   },
   {
    "duration": 16,
    "start_time": "2022-01-25T06:05:08.781Z"
   },
   {
    "duration": 326,
    "start_time": "2022-01-25T06:05:08.800Z"
   },
   {
    "duration": 37,
    "start_time": "2022-01-25T06:05:09.128Z"
   },
   {
    "duration": 254,
    "start_time": "2022-01-25T06:05:09.168Z"
   },
   {
    "duration": 39,
    "start_time": "2022-01-25T06:05:09.426Z"
   },
   {
    "duration": 276,
    "start_time": "2022-01-25T06:05:09.469Z"
   },
   {
    "duration": 32,
    "start_time": "2022-01-25T06:05:09.748Z"
   },
   {
    "duration": 23,
    "start_time": "2022-01-25T06:05:09.782Z"
   },
   {
    "duration": 10,
    "start_time": "2022-01-25T06:05:09.808Z"
   },
   {
    "duration": 41,
    "start_time": "2022-01-25T06:05:09.859Z"
   },
   {
    "duration": 7,
    "start_time": "2022-01-25T06:05:09.902Z"
   },
   {
    "duration": 767,
    "start_time": "2022-01-25T06:07:39.382Z"
   },
   {
    "duration": 773,
    "start_time": "2022-01-25T06:10:54.019Z"
   },
   {
    "duration": 1030,
    "start_time": "2022-01-25T06:11:01.669Z"
   },
   {
    "duration": 433,
    "start_time": "2022-01-25T06:12:39.053Z"
   },
   {
    "duration": 645,
    "start_time": "2022-01-25T06:12:48.565Z"
   },
   {
    "duration": 640,
    "start_time": "2022-01-25T06:14:18.071Z"
   },
   {
    "duration": 2296,
    "start_time": "2022-01-25T06:14:27.584Z"
   },
   {
    "duration": 133,
    "start_time": "2022-01-25T06:14:49.751Z"
   },
   {
    "duration": 3963,
    "start_time": "2022-01-25T06:14:58.655Z"
   },
   {
    "duration": 674,
    "start_time": "2022-01-25T06:15:49.569Z"
   },
   {
    "duration": 140,
    "start_time": "2022-01-25T06:18:01.588Z"
   },
   {
    "duration": 339,
    "start_time": "2022-01-25T06:18:13.948Z"
   },
   {
    "duration": 1197,
    "start_time": "2022-01-25T06:19:23.382Z"
   },
   {
    "duration": 1087,
    "start_time": "2022-01-25T06:19:33.910Z"
   },
   {
    "duration": 945,
    "start_time": "2022-01-25T06:21:11.785Z"
   },
   {
    "duration": 781,
    "start_time": "2022-01-25T06:22:15.066Z"
   },
   {
    "duration": 821,
    "start_time": "2022-01-25T06:22:37.467Z"
   },
   {
    "duration": 661,
    "start_time": "2022-01-25T06:23:07.859Z"
   },
   {
    "duration": 732,
    "start_time": "2022-01-25T06:23:40.884Z"
   },
   {
    "duration": 10,
    "start_time": "2022-01-25T06:23:59.995Z"
   },
   {
    "duration": 13,
    "start_time": "2022-01-25T06:24:12.724Z"
   },
   {
    "duration": 9,
    "start_time": "2022-01-25T06:24:55.965Z"
   },
   {
    "duration": 23,
    "start_time": "2022-01-25T06:24:57.565Z"
   },
   {
    "duration": 371,
    "start_time": "2022-01-25T06:25:18.759Z"
   },
   {
    "duration": 479,
    "start_time": "2022-01-25T06:25:36.542Z"
   },
   {
    "duration": 493,
    "start_time": "2022-01-25T06:26:10.245Z"
   },
   {
    "duration": 508,
    "start_time": "2022-01-25T06:26:16.463Z"
   },
   {
    "duration": 2338,
    "start_time": "2022-01-25T06:26:35.375Z"
   },
   {
    "duration": 465,
    "start_time": "2022-01-25T06:26:38.014Z"
   },
   {
    "duration": 157,
    "start_time": "2022-01-25T06:27:11.063Z"
   },
   {
    "duration": 159,
    "start_time": "2022-01-25T06:27:16.840Z"
   },
   {
    "duration": 121,
    "start_time": "2022-01-25T06:27:20.471Z"
   },
   {
    "duration": 144,
    "start_time": "2022-01-25T06:27:24.495Z"
   },
   {
    "duration": 144,
    "start_time": "2022-01-25T06:27:32.776Z"
   },
   {
    "duration": 189,
    "start_time": "2022-01-25T06:27:46.745Z"
   },
   {
    "duration": 132,
    "start_time": "2022-01-25T06:27:50.120Z"
   },
   {
    "duration": 123,
    "start_time": "2022-01-25T06:27:53.504Z"
   },
   {
    "duration": 144,
    "start_time": "2022-01-25T06:28:06.001Z"
   },
   {
    "duration": 218,
    "start_time": "2022-01-25T06:28:12.362Z"
   },
   {
    "duration": 575,
    "start_time": "2022-01-25T06:28:17.033Z"
   },
   {
    "duration": 429,
    "start_time": "2022-01-25T06:28:26.945Z"
   },
   {
    "duration": 649,
    "start_time": "2022-01-25T06:28:34.050Z"
   },
   {
    "duration": 441,
    "start_time": "2022-01-25T06:28:37.065Z"
   },
   {
    "duration": 583,
    "start_time": "2022-01-25T06:29:25.954Z"
   },
   {
    "duration": 475,
    "start_time": "2022-01-25T06:29:37.650Z"
   },
   {
    "duration": 24,
    "start_time": "2022-01-25T06:29:51.627Z"
   },
   {
    "duration": 584,
    "start_time": "2022-01-25T06:30:09.131Z"
   },
   {
    "duration": 16,
    "start_time": "2022-01-25T06:30:16.747Z"
   },
   {
    "duration": 2477,
    "start_time": "2022-01-25T06:30:24.939Z"
   },
   {
    "duration": 43,
    "start_time": "2022-01-25T06:31:03.989Z"
   },
   {
    "duration": 36,
    "start_time": "2022-01-25T06:31:07.644Z"
   },
   {
    "duration": 506,
    "start_time": "2022-01-25T06:31:27.725Z"
   },
   {
    "duration": 464,
    "start_time": "2022-01-25T06:31:39.365Z"
   },
   {
    "duration": 2993,
    "start_time": "2022-01-25T06:32:11.648Z"
   },
   {
    "duration": 959,
    "start_time": "2022-01-25T06:32:41.904Z"
   },
   {
    "duration": 1001,
    "start_time": "2022-01-25T06:32:46.935Z"
   },
   {
    "duration": 924,
    "start_time": "2022-01-25T06:33:08.713Z"
   },
   {
    "duration": 461,
    "start_time": "2022-01-25T06:33:27.144Z"
   },
   {
    "duration": 466,
    "start_time": "2022-01-25T06:33:34.319Z"
   },
   {
    "duration": 467,
    "start_time": "2022-01-25T06:33:38.327Z"
   },
   {
    "duration": 480,
    "start_time": "2022-01-25T06:33:42.784Z"
   },
   {
    "duration": 467,
    "start_time": "2022-01-25T06:33:46.568Z"
   },
   {
    "duration": 458,
    "start_time": "2022-01-25T06:33:54.239Z"
   },
   {
    "duration": 201,
    "start_time": "2022-01-25T06:39:26.504Z"
   },
   {
    "duration": 757,
    "start_time": "2022-01-25T06:41:07.131Z"
   },
   {
    "duration": 448,
    "start_time": "2022-01-25T06:41:17.244Z"
   },
   {
    "duration": 14,
    "start_time": "2022-01-25T06:41:26.044Z"
   },
   {
    "duration": 15,
    "start_time": "2022-01-25T06:41:30.987Z"
   },
   {
    "duration": 13,
    "start_time": "2022-01-25T06:41:37.027Z"
   },
   {
    "duration": 15,
    "start_time": "2022-01-25T06:43:45.127Z"
   },
   {
    "duration": 132,
    "start_time": "2022-01-25T06:50:33.839Z"
   },
   {
    "duration": 5,
    "start_time": "2022-01-25T06:50:44.771Z"
   },
   {
    "duration": 63,
    "start_time": "2022-01-25T06:50:44.780Z"
   },
   {
    "duration": 40,
    "start_time": "2022-01-25T06:50:44.846Z"
   },
   {
    "duration": 7,
    "start_time": "2022-01-25T06:50:44.888Z"
   },
   {
    "duration": 7,
    "start_time": "2022-01-25T06:50:44.898Z"
   },
   {
    "duration": 69,
    "start_time": "2022-01-25T06:50:44.908Z"
   },
   {
    "duration": 13,
    "start_time": "2022-01-25T06:50:44.982Z"
   },
   {
    "duration": 89,
    "start_time": "2022-01-25T06:50:44.998Z"
   },
   {
    "duration": 32,
    "start_time": "2022-01-25T06:50:45.090Z"
   },
   {
    "duration": 52,
    "start_time": "2022-01-25T06:50:45.125Z"
   },
   {
    "duration": 22,
    "start_time": "2022-01-25T06:50:45.179Z"
   },
   {
    "duration": 21,
    "start_time": "2022-01-25T06:50:45.203Z"
   },
   {
    "duration": 35,
    "start_time": "2022-01-25T06:50:45.227Z"
   },
   {
    "duration": 19,
    "start_time": "2022-01-25T06:50:45.266Z"
   },
   {
    "duration": 23,
    "start_time": "2022-01-25T06:50:45.287Z"
   },
   {
    "duration": 57,
    "start_time": "2022-01-25T06:50:45.313Z"
   },
   {
    "duration": 28,
    "start_time": "2022-01-25T06:50:45.373Z"
   },
   {
    "duration": 15,
    "start_time": "2022-01-25T06:50:45.404Z"
   },
   {
    "duration": 38,
    "start_time": "2022-01-25T06:50:45.427Z"
   },
   {
    "duration": 12,
    "start_time": "2022-01-25T06:50:45.470Z"
   },
   {
    "duration": 16,
    "start_time": "2022-01-25T06:50:45.485Z"
   },
   {
    "duration": 538,
    "start_time": "2022-01-25T06:50:45.503Z"
   },
   {
    "duration": 636,
    "start_time": "2022-01-25T06:50:46.044Z"
   },
   {
    "duration": 452,
    "start_time": "2022-01-25T06:50:46.683Z"
   },
   {
    "duration": 21,
    "start_time": "2022-01-25T06:50:47.138Z"
   },
   {
    "duration": 27,
    "start_time": "2022-01-25T06:50:47.163Z"
   },
   {
    "duration": 431,
    "start_time": "2022-01-25T06:50:47.192Z"
   },
   {
    "duration": 416,
    "start_time": "2022-01-25T06:50:47.625Z"
   },
   {
    "duration": 387,
    "start_time": "2022-01-25T06:50:48.044Z"
   },
   {
    "duration": 504,
    "start_time": "2022-01-25T06:50:48.434Z"
   },
   {
    "duration": 396,
    "start_time": "2022-01-25T06:50:48.940Z"
   },
   {
    "duration": 408,
    "start_time": "2022-01-25T06:50:49.339Z"
   },
   {
    "duration": 362,
    "start_time": "2022-01-25T06:50:49.750Z"
   },
   {
    "duration": 427,
    "start_time": "2022-01-25T06:50:50.114Z"
   },
   {
    "duration": 405,
    "start_time": "2022-01-25T06:50:50.544Z"
   },
   {
    "duration": 477,
    "start_time": "2022-01-25T06:50:50.959Z"
   },
   {
    "duration": 424,
    "start_time": "2022-01-25T06:50:51.439Z"
   },
   {
    "duration": 506,
    "start_time": "2022-01-25T06:50:51.867Z"
   },
   {
    "duration": 8,
    "start_time": "2022-01-25T06:50:52.376Z"
   },
   {
    "duration": 76,
    "start_time": "2022-01-25T06:50:52.386Z"
   },
   {
    "duration": 679,
    "start_time": "2022-01-25T06:50:52.466Z"
   },
   {
    "duration": 689,
    "start_time": "2022-01-25T06:50:53.148Z"
   },
   {
    "duration": 570,
    "start_time": "2022-01-25T06:50:53.840Z"
   },
   {
    "duration": 580,
    "start_time": "2022-01-25T06:50:54.413Z"
   },
   {
    "duration": 15,
    "start_time": "2022-01-25T06:50:54.996Z"
   },
   {
    "duration": 47,
    "start_time": "2022-01-25T06:50:55.014Z"
   },
   {
    "duration": 14,
    "start_time": "2022-01-25T06:50:55.064Z"
   },
   {
    "duration": 299,
    "start_time": "2022-01-25T06:50:55.081Z"
   },
   {
    "duration": 15,
    "start_time": "2022-01-25T06:50:55.383Z"
   },
   {
    "duration": 299,
    "start_time": "2022-01-25T06:50:55.401Z"
   },
   {
    "duration": 24,
    "start_time": "2022-01-25T06:50:55.703Z"
   },
   {
    "duration": 174,
    "start_time": "2022-01-25T06:50:55.730Z"
   },
   {
    "duration": 23,
    "start_time": "2022-01-25T06:50:55.907Z"
   },
   {
    "duration": 171,
    "start_time": "2022-01-25T06:50:55.933Z"
   },
   {
    "duration": 19,
    "start_time": "2022-01-25T06:50:56.115Z"
   },
   {
    "duration": 129,
    "start_time": "2022-01-25T06:50:56.171Z"
   },
   {
    "duration": 16,
    "start_time": "2022-01-25T06:50:56.302Z"
   },
   {
    "duration": 311,
    "start_time": "2022-01-25T06:50:56.320Z"
   },
   {
    "duration": 39,
    "start_time": "2022-01-25T06:50:56.634Z"
   },
   {
    "duration": 235,
    "start_time": "2022-01-25T06:50:56.677Z"
   },
   {
    "duration": 17,
    "start_time": "2022-01-25T06:50:56.914Z"
   },
   {
    "duration": 568,
    "start_time": "2022-01-25T06:50:56.934Z"
   },
   {
    "duration": 19,
    "start_time": "2022-01-25T06:50:57.505Z"
   },
   {
    "duration": 54,
    "start_time": "2022-01-25T06:50:57.526Z"
   },
   {
    "duration": 4,
    "start_time": "2022-01-25T06:50:57.583Z"
   },
   {
    "duration": 20,
    "start_time": "2022-01-25T06:50:57.589Z"
   },
   {
    "duration": 50,
    "start_time": "2022-01-25T06:50:57.611Z"
   },
   {
    "duration": 139,
    "start_time": "2022-01-25T06:52:07.199Z"
   },
   {
    "duration": 131,
    "start_time": "2022-01-25T06:53:02.899Z"
   },
   {
    "duration": 21,
    "start_time": "2022-01-25T06:53:09.753Z"
   },
   {
    "duration": 18,
    "start_time": "2022-01-25T06:53:20.794Z"
   },
   {
    "duration": 167,
    "start_time": "2022-01-25T06:53:24.905Z"
   },
   {
    "duration": 17,
    "start_time": "2022-01-25T06:55:53.709Z"
   },
   {
    "duration": 22,
    "start_time": "2022-01-25T06:56:03.445Z"
   },
   {
    "duration": 142,
    "start_time": "2022-01-25T06:56:05.916Z"
   },
   {
    "duration": 25,
    "start_time": "2022-01-25T06:58:32.563Z"
   },
   {
    "duration": 25,
    "start_time": "2022-01-25T06:58:40.849Z"
   },
   {
    "duration": 161,
    "start_time": "2022-01-25T06:58:44.055Z"
   },
   {
    "duration": 18,
    "start_time": "2022-01-25T07:03:33.422Z"
   },
   {
    "duration": 21,
    "start_time": "2022-01-25T07:03:42.475Z"
   },
   {
    "duration": 295,
    "start_time": "2022-01-25T07:03:44.806Z"
   },
   {
    "duration": 35,
    "start_time": "2022-01-25T07:04:19.254Z"
   },
   {
    "duration": 16,
    "start_time": "2022-01-25T07:04:31.735Z"
   },
   {
    "duration": 20,
    "start_time": "2022-01-25T07:04:35.377Z"
   },
   {
    "duration": 275,
    "start_time": "2022-01-25T07:04:37.600Z"
   },
   {
    "duration": 16,
    "start_time": "2022-01-25T07:04:52.312Z"
   },
   {
    "duration": 33,
    "start_time": "2022-01-25T07:04:59.952Z"
   },
   {
    "duration": 25,
    "start_time": "2022-01-25T07:05:03.039Z"
   },
   {
    "duration": 269,
    "start_time": "2022-01-25T07:05:06.249Z"
   },
   {
    "duration": 19,
    "start_time": "2022-01-25T07:06:47.131Z"
   },
   {
    "duration": 32,
    "start_time": "2022-01-25T07:27:02.357Z"
   },
   {
    "duration": 6,
    "start_time": "2022-01-25T07:28:26.390Z"
   },
   {
    "duration": 46,
    "start_time": "2022-01-25T07:28:26.405Z"
   },
   {
    "duration": 32,
    "start_time": "2022-01-25T07:28:26.454Z"
   },
   {
    "duration": 23,
    "start_time": "2022-01-25T07:28:26.489Z"
   },
   {
    "duration": 5,
    "start_time": "2022-01-25T07:28:26.516Z"
   },
   {
    "duration": 50,
    "start_time": "2022-01-25T07:28:26.524Z"
   },
   {
    "duration": 32,
    "start_time": "2022-01-25T07:28:26.577Z"
   },
   {
    "duration": 61,
    "start_time": "2022-01-25T07:28:26.612Z"
   },
   {
    "duration": 39,
    "start_time": "2022-01-25T07:28:26.676Z"
   },
   {
    "duration": 17,
    "start_time": "2022-01-25T07:28:26.722Z"
   },
   {
    "duration": 42,
    "start_time": "2022-01-25T07:28:26.768Z"
   },
   {
    "duration": 20,
    "start_time": "2022-01-25T07:28:26.812Z"
   },
   {
    "duration": 37,
    "start_time": "2022-01-25T07:28:26.835Z"
   },
   {
    "duration": 14,
    "start_time": "2022-01-25T07:28:26.875Z"
   },
   {
    "duration": 38,
    "start_time": "2022-01-25T07:28:26.892Z"
   },
   {
    "duration": 29,
    "start_time": "2022-01-25T07:28:26.933Z"
   },
   {
    "duration": 54,
    "start_time": "2022-01-25T07:28:26.965Z"
   },
   {
    "duration": 25,
    "start_time": "2022-01-25T07:28:27.021Z"
   },
   {
    "duration": 42,
    "start_time": "2022-01-25T07:28:27.048Z"
   },
   {
    "duration": 20,
    "start_time": "2022-01-25T07:28:27.092Z"
   },
   {
    "duration": 24,
    "start_time": "2022-01-25T07:28:27.115Z"
   },
   {
    "duration": 539,
    "start_time": "2022-01-25T07:28:27.141Z"
   },
   {
    "duration": 579,
    "start_time": "2022-01-25T07:28:27.683Z"
   },
   {
    "duration": 464,
    "start_time": "2022-01-25T07:28:28.265Z"
   },
   {
    "duration": 7,
    "start_time": "2022-01-25T07:28:28.732Z"
   },
   {
    "duration": 49,
    "start_time": "2022-01-25T07:28:28.741Z"
   },
   {
    "duration": 413,
    "start_time": "2022-01-25T07:28:28.793Z"
   },
   {
    "duration": 431,
    "start_time": "2022-01-25T07:28:29.213Z"
   },
   {
    "duration": 432,
    "start_time": "2022-01-25T07:28:29.648Z"
   },
   {
    "duration": 441,
    "start_time": "2022-01-25T07:28:30.084Z"
   },
   {
    "duration": 421,
    "start_time": "2022-01-25T07:28:30.528Z"
   },
   {
    "duration": 431,
    "start_time": "2022-01-25T07:28:30.952Z"
   },
   {
    "duration": 408,
    "start_time": "2022-01-25T07:28:31.389Z"
   },
   {
    "duration": 440,
    "start_time": "2022-01-25T07:28:31.800Z"
   },
   {
    "duration": 451,
    "start_time": "2022-01-25T07:28:32.244Z"
   },
   {
    "duration": 424,
    "start_time": "2022-01-25T07:28:32.698Z"
   },
   {
    "duration": 461,
    "start_time": "2022-01-25T07:28:33.125Z"
   },
   {
    "duration": 543,
    "start_time": "2022-01-25T07:28:33.589Z"
   },
   {
    "duration": 6,
    "start_time": "2022-01-25T07:28:34.134Z"
   },
   {
    "duration": 67,
    "start_time": "2022-01-25T07:28:34.143Z"
   },
   {
    "duration": 694,
    "start_time": "2022-01-25T07:28:34.212Z"
   },
   {
    "duration": 633,
    "start_time": "2022-01-25T07:28:34.910Z"
   },
   {
    "duration": 497,
    "start_time": "2022-01-25T07:28:35.545Z"
   },
   {
    "duration": 486,
    "start_time": "2022-01-25T07:28:36.045Z"
   },
   {
    "duration": 13,
    "start_time": "2022-01-25T07:28:36.534Z"
   },
   {
    "duration": 49,
    "start_time": "2022-01-25T07:28:36.550Z"
   },
   {
    "duration": 14,
    "start_time": "2022-01-25T07:28:36.603Z"
   },
   {
    "duration": 271,
    "start_time": "2022-01-25T07:28:36.620Z"
   },
   {
    "duration": 18,
    "start_time": "2022-01-25T07:28:36.894Z"
   },
   {
    "duration": 237,
    "start_time": "2022-01-25T07:28:36.915Z"
   },
   {
    "duration": 23,
    "start_time": "2022-01-25T07:28:37.164Z"
   },
   {
    "duration": 249,
    "start_time": "2022-01-25T07:28:37.190Z"
   },
   {
    "duration": 47,
    "start_time": "2022-01-25T07:28:37.443Z"
   },
   {
    "duration": 154,
    "start_time": "2022-01-25T07:28:37.493Z"
   },
   {
    "duration": 46,
    "start_time": "2022-01-25T07:28:37.649Z"
   },
   {
    "duration": 142,
    "start_time": "2022-01-25T07:28:37.700Z"
   },
   {
    "duration": 31,
    "start_time": "2022-01-25T07:28:37.845Z"
   },
   {
    "duration": 648,
    "start_time": "2022-01-25T07:28:37.879Z"
   },
   {
    "duration": 38,
    "start_time": "2022-01-25T07:28:38.529Z"
   },
   {
    "duration": 283,
    "start_time": "2022-01-25T07:28:38.571Z"
   },
   {
    "duration": 29,
    "start_time": "2022-01-25T07:28:38.859Z"
   },
   {
    "duration": 309,
    "start_time": "2022-01-25T07:28:38.891Z"
   },
   {
    "duration": 22,
    "start_time": "2022-01-25T07:28:39.203Z"
   },
   {
    "duration": 59,
    "start_time": "2022-01-25T07:28:39.228Z"
   },
   {
    "duration": 13,
    "start_time": "2022-01-25T07:28:39.292Z"
   },
   {
    "duration": 21,
    "start_time": "2022-01-25T07:28:39.308Z"
   },
   {
    "duration": 32,
    "start_time": "2022-01-25T07:28:39.332Z"
   },
   {
    "duration": 160,
    "start_time": "2022-01-25T07:38:13.453Z"
   },
   {
    "duration": 1300,
    "start_time": "2022-01-25T08:00:47.081Z"
   },
   {
    "duration": 1320,
    "start_time": "2022-01-25T08:01:12.722Z"
   },
   {
    "duration": 1283,
    "start_time": "2022-01-25T08:01:44.188Z"
   },
   {
    "duration": 1333,
    "start_time": "2022-01-25T08:01:58.884Z"
   },
   {
    "duration": 1279,
    "start_time": "2022-01-25T08:02:21.707Z"
   },
   {
    "duration": 1186,
    "start_time": "2022-01-25T08:03:58.294Z"
   },
   {
    "duration": 802,
    "start_time": "2022-01-25T08:04:07.335Z"
   },
   {
    "duration": 869,
    "start_time": "2022-01-25T08:04:17.878Z"
   },
   {
    "duration": 761,
    "start_time": "2022-01-25T08:04:22.504Z"
   },
   {
    "duration": 594,
    "start_time": "2022-01-25T08:08:30.188Z"
   },
   {
    "duration": 688,
    "start_time": "2022-01-25T08:08:38.132Z"
   },
   {
    "duration": 746,
    "start_time": "2022-01-25T08:08:50.173Z"
   },
   {
    "duration": 867,
    "start_time": "2022-01-25T08:09:20.052Z"
   },
   {
    "duration": 782,
    "start_time": "2022-01-25T08:09:26.072Z"
   },
   {
    "duration": 520,
    "start_time": "2022-01-25T08:09:54.046Z"
   },
   {
    "duration": 2906,
    "start_time": "2022-01-25T08:10:29.343Z"
   },
   {
    "duration": 1073,
    "start_time": "2022-01-25T08:10:39.854Z"
   },
   {
    "duration": 492,
    "start_time": "2022-01-25T08:10:54.487Z"
   },
   {
    "duration": 665,
    "start_time": "2022-01-25T08:11:16.697Z"
   },
   {
    "duration": 620,
    "start_time": "2022-01-25T08:11:25.280Z"
   },
   {
    "duration": 1415,
    "start_time": "2022-01-25T08:11:32.304Z"
   },
   {
    "duration": 1519,
    "start_time": "2022-01-25T08:13:56.147Z"
   },
   {
    "duration": 1044,
    "start_time": "2022-01-25T08:14:10.556Z"
   },
   {
    "duration": 1122,
    "start_time": "2022-01-25T08:14:38.004Z"
   },
   {
    "duration": 1059,
    "start_time": "2022-01-25T08:14:48.872Z"
   },
   {
    "duration": 746,
    "start_time": "2022-01-25T08:24:01.305Z"
   },
   {
    "duration": 805,
    "start_time": "2022-01-25T08:24:35.272Z"
   },
   {
    "duration": 6,
    "start_time": "2022-01-25T08:24:43.861Z"
   },
   {
    "duration": 46,
    "start_time": "2022-01-25T08:24:43.879Z"
   },
   {
    "duration": 46,
    "start_time": "2022-01-25T08:24:43.928Z"
   },
   {
    "duration": 6,
    "start_time": "2022-01-25T08:24:43.977Z"
   },
   {
    "duration": 5,
    "start_time": "2022-01-25T08:24:43.986Z"
   },
   {
    "duration": 14,
    "start_time": "2022-01-25T08:24:43.993Z"
   },
   {
    "duration": 64,
    "start_time": "2022-01-25T08:24:44.009Z"
   },
   {
    "duration": 32,
    "start_time": "2022-01-25T08:24:44.077Z"
   },
   {
    "duration": 73,
    "start_time": "2022-01-25T08:24:44.112Z"
   },
   {
    "duration": 12,
    "start_time": "2022-01-25T08:24:44.189Z"
   },
   {
    "duration": 76,
    "start_time": "2022-01-25T08:24:44.204Z"
   },
   {
    "duration": 13,
    "start_time": "2022-01-25T08:24:44.282Z"
   },
   {
    "duration": 8,
    "start_time": "2022-01-25T08:24:44.297Z"
   },
   {
    "duration": 59,
    "start_time": "2022-01-25T08:24:44.307Z"
   },
   {
    "duration": 32,
    "start_time": "2022-01-25T08:24:44.369Z"
   },
   {
    "duration": 9,
    "start_time": "2022-01-25T08:24:44.403Z"
   },
   {
    "duration": 47,
    "start_time": "2022-01-25T08:24:44.414Z"
   },
   {
    "duration": 9,
    "start_time": "2022-01-25T08:24:44.464Z"
   },
   {
    "duration": 6,
    "start_time": "2022-01-25T08:24:44.476Z"
   },
   {
    "duration": 8,
    "start_time": "2022-01-25T08:24:44.484Z"
   },
   {
    "duration": 66,
    "start_time": "2022-01-25T08:24:44.495Z"
   },
   {
    "duration": 497,
    "start_time": "2022-01-25T08:24:44.564Z"
   },
   {
    "duration": 504,
    "start_time": "2022-01-25T08:24:45.064Z"
   },
   {
    "duration": 444,
    "start_time": "2022-01-25T08:24:45.572Z"
   },
   {
    "duration": 9,
    "start_time": "2022-01-25T08:24:46.018Z"
   },
   {
    "duration": 51,
    "start_time": "2022-01-25T08:24:46.031Z"
   },
   {
    "duration": 403,
    "start_time": "2022-01-25T08:24:46.085Z"
   },
   {
    "duration": 426,
    "start_time": "2022-01-25T08:24:46.495Z"
   },
   {
    "duration": 392,
    "start_time": "2022-01-25T08:24:46.925Z"
   },
   {
    "duration": 394,
    "start_time": "2022-01-25T08:24:47.320Z"
   },
   {
    "duration": 397,
    "start_time": "2022-01-25T08:24:47.716Z"
   },
   {
    "duration": 393,
    "start_time": "2022-01-25T08:24:48.115Z"
   },
   {
    "duration": 362,
    "start_time": "2022-01-25T08:24:48.511Z"
   },
   {
    "duration": 423,
    "start_time": "2022-01-25T08:24:48.876Z"
   },
   {
    "duration": 401,
    "start_time": "2022-01-25T08:24:49.302Z"
   },
   {
    "duration": 405,
    "start_time": "2022-01-25T08:24:49.705Z"
   },
   {
    "duration": 418,
    "start_time": "2022-01-25T08:24:50.116Z"
   },
   {
    "duration": 500,
    "start_time": "2022-01-25T08:24:50.536Z"
   },
   {
    "duration": 7,
    "start_time": "2022-01-25T08:24:51.039Z"
   },
   {
    "duration": 56,
    "start_time": "2022-01-25T08:24:51.048Z"
   },
   {
    "duration": 673,
    "start_time": "2022-01-25T08:24:51.107Z"
   },
   {
    "duration": 516,
    "start_time": "2022-01-25T08:24:51.783Z"
   },
   {
    "duration": 423,
    "start_time": "2022-01-25T08:24:52.302Z"
   },
   {
    "duration": 444,
    "start_time": "2022-01-25T08:24:52.728Z"
   },
   {
    "duration": 14,
    "start_time": "2022-01-25T08:24:53.175Z"
   },
   {
    "duration": 18,
    "start_time": "2022-01-25T08:24:53.192Z"
   },
   {
    "duration": 49,
    "start_time": "2022-01-25T08:24:53.213Z"
   },
   {
    "duration": 209,
    "start_time": "2022-01-25T08:24:53.265Z"
   },
   {
    "duration": 11,
    "start_time": "2022-01-25T08:24:53.476Z"
   },
   {
    "duration": 220,
    "start_time": "2022-01-25T08:24:53.489Z"
   },
   {
    "duration": 19,
    "start_time": "2022-01-25T08:24:53.711Z"
   },
   {
    "duration": 164,
    "start_time": "2022-01-25T08:24:53.733Z"
   },
   {
    "duration": 20,
    "start_time": "2022-01-25T08:24:53.901Z"
   },
   {
    "duration": 173,
    "start_time": "2022-01-25T08:24:53.924Z"
   },
   {
    "duration": 21,
    "start_time": "2022-01-25T08:24:54.101Z"
   },
   {
    "duration": 172,
    "start_time": "2022-01-25T08:24:54.125Z"
   },
   {
    "duration": 20,
    "start_time": "2022-01-25T08:24:54.300Z"
   },
   {
    "duration": 290,
    "start_time": "2022-01-25T08:24:54.323Z"
   },
   {
    "duration": 19,
    "start_time": "2022-01-25T08:24:54.616Z"
   },
   {
    "duration": 284,
    "start_time": "2022-01-25T08:24:54.637Z"
   },
   {
    "duration": 18,
    "start_time": "2022-01-25T08:24:54.924Z"
   },
   {
    "duration": 254,
    "start_time": "2022-01-25T08:24:54.959Z"
   },
   {
    "duration": 751,
    "start_time": "2022-01-25T08:24:55.216Z"
   },
   {
    "duration": 24,
    "start_time": "2022-01-25T08:24:55.970Z"
   },
   {
    "duration": 23,
    "start_time": "2022-01-25T08:24:55.996Z"
   },
   {
    "duration": 10,
    "start_time": "2022-01-25T08:24:56.059Z"
   },
   {
    "duration": 29,
    "start_time": "2022-01-25T08:24:56.072Z"
   },
   {
    "duration": 6,
    "start_time": "2022-01-25T08:24:56.104Z"
   },
   {
    "duration": 372,
    "start_time": "2022-01-25T08:25:10.049Z"
   },
   {
    "duration": 1126,
    "start_time": "2022-01-25T08:26:25.754Z"
   },
   {
    "duration": 285,
    "start_time": "2022-01-25T08:27:14.396Z"
   },
   {
    "duration": 531,
    "start_time": "2022-01-25T08:27:46.853Z"
   },
   {
    "duration": 786,
    "start_time": "2022-01-25T08:28:06.445Z"
   },
   {
    "duration": 979,
    "start_time": "2022-01-25T08:28:21.598Z"
   },
   {
    "duration": 1040,
    "start_time": "2022-01-25T08:28:32.719Z"
   },
   {
    "duration": 779,
    "start_time": "2022-01-25T08:28:37.717Z"
   },
   {
    "duration": 271,
    "start_time": "2022-01-26T04:02:14.489Z"
   },
   {
    "duration": 808,
    "start_time": "2022-01-26T04:02:34.607Z"
   },
   {
    "duration": 524,
    "start_time": "2022-01-26T04:04:44.161Z"
   },
   {
    "duration": 642,
    "start_time": "2022-01-26T04:05:34.618Z"
   },
   {
    "duration": 1489,
    "start_time": "2022-01-26T04:05:58.900Z"
   },
   {
    "duration": 38,
    "start_time": "2022-01-26T04:06:00.391Z"
   },
   {
    "duration": 18,
    "start_time": "2022-01-26T04:06:00.431Z"
   },
   {
    "duration": 20,
    "start_time": "2022-01-26T04:06:00.451Z"
   },
   {
    "duration": 35,
    "start_time": "2022-01-26T04:06:00.472Z"
   },
   {
    "duration": 36,
    "start_time": "2022-01-26T04:06:00.508Z"
   },
   {
    "duration": 28,
    "start_time": "2022-01-26T04:06:00.546Z"
   },
   {
    "duration": 41,
    "start_time": "2022-01-26T04:06:00.576Z"
   },
   {
    "duration": 20,
    "start_time": "2022-01-26T04:06:00.619Z"
   },
   {
    "duration": 11,
    "start_time": "2022-01-26T04:06:00.641Z"
   },
   {
    "duration": 27,
    "start_time": "2022-01-26T04:06:00.654Z"
   },
   {
    "duration": 10,
    "start_time": "2022-01-26T04:06:00.682Z"
   },
   {
    "duration": 18,
    "start_time": "2022-01-26T04:06:00.693Z"
   },
   {
    "duration": 10,
    "start_time": "2022-01-26T04:06:00.712Z"
   },
   {
    "duration": 25,
    "start_time": "2022-01-26T04:06:00.723Z"
   },
   {
    "duration": 12,
    "start_time": "2022-01-26T04:06:00.750Z"
   },
   {
    "duration": 12,
    "start_time": "2022-01-26T04:06:00.763Z"
   },
   {
    "duration": 25,
    "start_time": "2022-01-26T04:06:00.777Z"
   },
   {
    "duration": 21,
    "start_time": "2022-01-26T04:06:00.804Z"
   },
   {
    "duration": 17,
    "start_time": "2022-01-26T04:06:00.826Z"
   },
   {
    "duration": 20,
    "start_time": "2022-01-26T04:06:00.845Z"
   },
   {
    "duration": 287,
    "start_time": "2022-01-26T04:06:00.866Z"
   },
   {
    "duration": 305,
    "start_time": "2022-01-26T04:06:01.157Z"
   },
   {
    "duration": 333,
    "start_time": "2022-01-26T04:06:01.465Z"
   },
   {
    "duration": 6,
    "start_time": "2022-01-26T04:06:01.800Z"
   },
   {
    "duration": 15,
    "start_time": "2022-01-26T04:06:01.808Z"
   },
   {
    "duration": 246,
    "start_time": "2022-01-26T04:06:01.825Z"
   },
   {
    "duration": 231,
    "start_time": "2022-01-26T04:06:02.073Z"
   },
   {
    "duration": 225,
    "start_time": "2022-01-26T04:06:02.306Z"
   },
   {
    "duration": 310,
    "start_time": "2022-01-26T04:06:02.533Z"
   },
   {
    "duration": 224,
    "start_time": "2022-01-26T04:06:02.845Z"
   },
   {
    "duration": 232,
    "start_time": "2022-01-26T04:06:03.071Z"
   },
   {
    "duration": 198,
    "start_time": "2022-01-26T04:06:03.305Z"
   },
   {
    "duration": 235,
    "start_time": "2022-01-26T04:06:03.505Z"
   },
   {
    "duration": 227,
    "start_time": "2022-01-26T04:06:03.742Z"
   },
   {
    "duration": 219,
    "start_time": "2022-01-26T04:06:03.971Z"
   },
   {
    "duration": 239,
    "start_time": "2022-01-26T04:06:04.192Z"
   },
   {
    "duration": 272,
    "start_time": "2022-01-26T04:06:04.433Z"
   },
   {
    "duration": 5,
    "start_time": "2022-01-26T04:06:04.707Z"
   },
   {
    "duration": 26,
    "start_time": "2022-01-26T04:06:04.714Z"
   },
   {
    "duration": 384,
    "start_time": "2022-01-26T04:06:04.742Z"
   },
   {
    "duration": 377,
    "start_time": "2022-01-26T04:06:05.128Z"
   },
   {
    "duration": 272,
    "start_time": "2022-01-26T04:06:05.507Z"
   },
   {
    "duration": 292,
    "start_time": "2022-01-26T04:06:05.780Z"
   },
   {
    "duration": 10,
    "start_time": "2022-01-26T04:06:06.074Z"
   },
   {
    "duration": 15,
    "start_time": "2022-01-26T04:06:06.085Z"
   },
   {
    "duration": 8,
    "start_time": "2022-01-26T04:06:06.102Z"
   },
   {
    "duration": 139,
    "start_time": "2022-01-26T04:06:06.112Z"
   },
   {
    "duration": 9,
    "start_time": "2022-01-26T04:06:06.253Z"
   },
   {
    "duration": 128,
    "start_time": "2022-01-26T04:06:06.264Z"
   },
   {
    "duration": 13,
    "start_time": "2022-01-26T04:06:06.395Z"
   },
   {
    "duration": 97,
    "start_time": "2022-01-26T04:06:06.410Z"
   },
   {
    "duration": 14,
    "start_time": "2022-01-26T04:06:06.509Z"
   },
   {
    "duration": 95,
    "start_time": "2022-01-26T04:06:06.525Z"
   },
   {
    "duration": 14,
    "start_time": "2022-01-26T04:06:06.622Z"
   },
   {
    "duration": 97,
    "start_time": "2022-01-26T04:06:06.638Z"
   },
   {
    "duration": 27,
    "start_time": "2022-01-26T04:06:06.738Z"
   },
   {
    "duration": 165,
    "start_time": "2022-01-26T04:06:06.767Z"
   },
   {
    "duration": 13,
    "start_time": "2022-01-26T04:06:06.934Z"
   },
   {
    "duration": 167,
    "start_time": "2022-01-26T04:06:06.949Z"
   },
   {
    "duration": 13,
    "start_time": "2022-01-26T04:06:07.119Z"
   },
   {
    "duration": 161,
    "start_time": "2022-01-26T04:06:07.134Z"
   },
   {
    "duration": 448,
    "start_time": "2022-01-26T04:06:07.297Z"
   },
   {
    "duration": 726,
    "start_time": "2022-01-26T04:06:07.747Z"
   },
   {
    "duration": 13,
    "start_time": "2022-01-26T04:06:08.476Z"
   },
   {
    "duration": 14,
    "start_time": "2022-01-26T04:06:08.491Z"
   },
   {
    "duration": 13,
    "start_time": "2022-01-26T04:06:08.506Z"
   },
   {
    "duration": 38,
    "start_time": "2022-01-26T04:06:08.525Z"
   },
   {
    "duration": 4,
    "start_time": "2022-01-26T04:06:08.565Z"
   },
   {
    "duration": 790,
    "start_time": "2022-01-26T04:07:29.198Z"
   },
   {
    "duration": 541,
    "start_time": "2022-01-26T04:07:37.694Z"
   },
   {
    "duration": 550,
    "start_time": "2022-01-26T04:07:42.430Z"
   },
   {
    "duration": 1157,
    "start_time": "2022-01-26T04:07:52.790Z"
   },
   {
    "duration": 564,
    "start_time": "2022-01-26T04:08:05.950Z"
   },
   {
    "duration": 561,
    "start_time": "2022-01-26T04:08:13.238Z"
   },
   {
    "duration": 588,
    "start_time": "2022-01-26T04:08:30.861Z"
   },
   {
    "duration": 587,
    "start_time": "2022-01-26T04:12:00.070Z"
   },
   {
    "duration": 1602,
    "start_time": "2022-01-26T04:15:26.104Z"
   },
   {
    "duration": 39,
    "start_time": "2022-01-26T04:15:27.708Z"
   },
   {
    "duration": 20,
    "start_time": "2022-01-26T04:15:27.749Z"
   },
   {
    "duration": 4,
    "start_time": "2022-01-26T04:15:27.772Z"
   },
   {
    "duration": 5,
    "start_time": "2022-01-26T04:15:27.777Z"
   },
   {
    "duration": 12,
    "start_time": "2022-01-26T04:15:27.784Z"
   },
   {
    "duration": 9,
    "start_time": "2022-01-26T04:15:27.797Z"
   },
   {
    "duration": 56,
    "start_time": "2022-01-26T04:15:27.809Z"
   },
   {
    "duration": 17,
    "start_time": "2022-01-26T04:15:27.867Z"
   },
   {
    "duration": 20,
    "start_time": "2022-01-26T04:15:27.886Z"
   },
   {
    "duration": 14,
    "start_time": "2022-01-26T04:15:27.908Z"
   },
   {
    "duration": 8,
    "start_time": "2022-01-26T04:15:27.924Z"
   },
   {
    "duration": 30,
    "start_time": "2022-01-26T04:15:27.933Z"
   },
   {
    "duration": 18,
    "start_time": "2022-01-26T04:15:27.965Z"
   },
   {
    "duration": 16,
    "start_time": "2022-01-26T04:15:27.985Z"
   },
   {
    "duration": 8,
    "start_time": "2022-01-26T04:15:28.003Z"
   },
   {
    "duration": 11,
    "start_time": "2022-01-26T04:15:28.012Z"
   },
   {
    "duration": 8,
    "start_time": "2022-01-26T04:15:28.025Z"
   },
   {
    "duration": 28,
    "start_time": "2022-01-26T04:15:28.034Z"
   },
   {
    "duration": 6,
    "start_time": "2022-01-26T04:15:28.065Z"
   },
   {
    "duration": 15,
    "start_time": "2022-01-26T04:15:28.074Z"
   },
   {
    "duration": 306,
    "start_time": "2022-01-26T04:15:28.091Z"
   },
   {
    "duration": 305,
    "start_time": "2022-01-26T04:15:28.401Z"
   },
   {
    "duration": 309,
    "start_time": "2022-01-26T04:15:28.709Z"
   },
   {
    "duration": 6,
    "start_time": "2022-01-26T04:15:29.020Z"
   },
   {
    "duration": 19,
    "start_time": "2022-01-26T04:15:29.027Z"
   },
   {
    "duration": 252,
    "start_time": "2022-01-26T04:15:29.047Z"
   },
   {
    "duration": 242,
    "start_time": "2022-01-26T04:15:29.301Z"
   },
   {
    "duration": 240,
    "start_time": "2022-01-26T04:15:29.546Z"
   },
   {
    "duration": 350,
    "start_time": "2022-01-26T04:15:29.787Z"
   },
   {
    "duration": 221,
    "start_time": "2022-01-26T04:15:30.139Z"
   },
   {
    "duration": 252,
    "start_time": "2022-01-26T04:15:30.363Z"
   },
   {
    "duration": 220,
    "start_time": "2022-01-26T04:15:30.617Z"
   },
   {
    "duration": 261,
    "start_time": "2022-01-26T04:15:30.839Z"
   },
   {
    "duration": 240,
    "start_time": "2022-01-26T04:15:31.102Z"
   },
   {
    "duration": 240,
    "start_time": "2022-01-26T04:15:31.343Z"
   },
   {
    "duration": 248,
    "start_time": "2022-01-26T04:15:31.585Z"
   },
   {
    "duration": 304,
    "start_time": "2022-01-26T04:15:31.835Z"
   },
   {
    "duration": 5,
    "start_time": "2022-01-26T04:15:32.140Z"
   },
   {
    "duration": 40,
    "start_time": "2022-01-26T04:15:32.147Z"
   },
   {
    "duration": 386,
    "start_time": "2022-01-26T04:15:32.189Z"
   },
   {
    "duration": 431,
    "start_time": "2022-01-26T04:15:32.577Z"
   },
   {
    "duration": 308,
    "start_time": "2022-01-26T04:15:33.010Z"
   },
   {
    "duration": 303,
    "start_time": "2022-01-26T04:15:33.320Z"
   },
   {
    "duration": 9,
    "start_time": "2022-01-26T04:15:33.625Z"
   },
   {
    "duration": 24,
    "start_time": "2022-01-26T04:15:33.636Z"
   },
   {
    "duration": 11,
    "start_time": "2022-01-26T04:15:33.663Z"
   },
   {
    "duration": 136,
    "start_time": "2022-01-26T04:15:33.677Z"
   },
   {
    "duration": 9,
    "start_time": "2022-01-26T04:15:33.815Z"
   },
   {
    "duration": 141,
    "start_time": "2022-01-26T04:15:33.826Z"
   },
   {
    "duration": 14,
    "start_time": "2022-01-26T04:15:33.970Z"
   },
   {
    "duration": 105,
    "start_time": "2022-01-26T04:15:33.986Z"
   },
   {
    "duration": 11,
    "start_time": "2022-01-26T04:15:34.093Z"
   },
   {
    "duration": 94,
    "start_time": "2022-01-26T04:15:34.106Z"
   },
   {
    "duration": 11,
    "start_time": "2022-01-26T04:15:34.202Z"
   },
   {
    "duration": 103,
    "start_time": "2022-01-26T04:15:34.214Z"
   },
   {
    "duration": 12,
    "start_time": "2022-01-26T04:15:34.318Z"
   },
   {
    "duration": 180,
    "start_time": "2022-01-26T04:15:34.331Z"
   },
   {
    "duration": 11,
    "start_time": "2022-01-26T04:15:34.513Z"
   },
   {
    "duration": 177,
    "start_time": "2022-01-26T04:15:34.526Z"
   },
   {
    "duration": 11,
    "start_time": "2022-01-26T04:15:34.705Z"
   },
   {
    "duration": 191,
    "start_time": "2022-01-26T04:15:34.718Z"
   },
   {
    "duration": 454,
    "start_time": "2022-01-26T04:15:34.910Z"
   },
   {
    "duration": 17,
    "start_time": "2022-01-26T04:15:35.366Z"
   },
   {
    "duration": 14,
    "start_time": "2022-01-26T04:15:35.384Z"
   },
   {
    "duration": 3,
    "start_time": "2022-01-26T04:15:35.399Z"
   },
   {
    "duration": 14,
    "start_time": "2022-01-26T04:15:35.404Z"
   },
   {
    "duration": 3,
    "start_time": "2022-01-26T04:15:35.422Z"
   },
   {
    "duration": 1365,
    "start_time": "2022-02-22T10:05:20.291Z"
   },
   {
    "duration": 29,
    "start_time": "2022-02-22T10:05:21.658Z"
   },
   {
    "duration": 17,
    "start_time": "2022-02-22T10:05:21.689Z"
   },
   {
    "duration": 4,
    "start_time": "2022-02-22T10:05:21.708Z"
   },
   {
    "duration": 6,
    "start_time": "2022-02-22T10:05:21.714Z"
   },
   {
    "duration": 10,
    "start_time": "2022-02-22T10:05:21.721Z"
   },
   {
    "duration": 7,
    "start_time": "2022-02-22T10:05:21.733Z"
   },
   {
    "duration": 17,
    "start_time": "2022-02-22T10:05:21.742Z"
   },
   {
    "duration": 13,
    "start_time": "2022-02-22T10:05:21.761Z"
   },
   {
    "duration": 8,
    "start_time": "2022-02-22T10:05:21.776Z"
   },
   {
    "duration": 20,
    "start_time": "2022-02-22T10:05:21.786Z"
   },
   {
    "duration": 28,
    "start_time": "2022-02-22T10:05:21.808Z"
   },
   {
    "duration": 6,
    "start_time": "2022-02-22T10:05:21.838Z"
   },
   {
    "duration": 11,
    "start_time": "2022-02-22T10:05:21.845Z"
   },
   {
    "duration": 16,
    "start_time": "2022-02-22T10:05:21.857Z"
   },
   {
    "duration": 8,
    "start_time": "2022-02-22T10:05:21.875Z"
   },
   {
    "duration": 8,
    "start_time": "2022-02-22T10:05:21.884Z"
   },
   {
    "duration": 37,
    "start_time": "2022-02-22T10:05:21.894Z"
   },
   {
    "duration": 4,
    "start_time": "2022-02-22T10:05:21.932Z"
   },
   {
    "duration": 7,
    "start_time": "2022-02-22T10:05:21.938Z"
   },
   {
    "duration": 11,
    "start_time": "2022-02-22T10:05:21.946Z"
   },
   {
    "duration": 282,
    "start_time": "2022-02-22T10:05:21.958Z"
   },
   {
    "duration": 278,
    "start_time": "2022-02-22T10:05:22.243Z"
   },
   {
    "duration": 338,
    "start_time": "2022-02-22T10:05:22.523Z"
   },
   {
    "duration": 5,
    "start_time": "2022-02-22T10:05:22.863Z"
   },
   {
    "duration": 16,
    "start_time": "2022-02-22T10:05:22.869Z"
   },
   {
    "duration": 213,
    "start_time": "2022-02-22T10:05:22.887Z"
   },
   {
    "duration": 220,
    "start_time": "2022-02-22T10:05:23.101Z"
   },
   {
    "duration": 211,
    "start_time": "2022-02-22T10:05:23.322Z"
   },
   {
    "duration": 317,
    "start_time": "2022-02-22T10:05:23.535Z"
   },
   {
    "duration": 214,
    "start_time": "2022-02-22T10:05:23.853Z"
   },
   {
    "duration": 216,
    "start_time": "2022-02-22T10:05:24.069Z"
   },
   {
    "duration": 192,
    "start_time": "2022-02-22T10:05:24.287Z"
   },
   {
    "duration": 224,
    "start_time": "2022-02-22T10:05:24.480Z"
   },
   {
    "duration": 218,
    "start_time": "2022-02-22T10:05:24.706Z"
   },
   {
    "duration": 214,
    "start_time": "2022-02-22T10:05:24.930Z"
   },
   {
    "duration": 228,
    "start_time": "2022-02-22T10:05:25.146Z"
   },
   {
    "duration": 275,
    "start_time": "2022-02-22T10:05:25.375Z"
   },
   {
    "duration": 5,
    "start_time": "2022-02-22T10:05:25.651Z"
   },
   {
    "duration": 31,
    "start_time": "2022-02-22T10:05:25.657Z"
   },
   {
    "duration": 376,
    "start_time": "2022-02-22T10:05:25.690Z"
   },
   {
    "duration": 377,
    "start_time": "2022-02-22T10:05:26.068Z"
   },
   {
    "duration": 302,
    "start_time": "2022-02-22T10:05:26.447Z"
   },
   {
    "duration": 516,
    "start_time": "2022-02-22T10:05:26.750Z"
   },
   {
    "duration": 65,
    "start_time": "2022-02-22T10:05:27.268Z"
   },
   {
    "duration": 14,
    "start_time": "2022-02-22T10:05:27.335Z"
   },
   {
    "duration": 8,
    "start_time": "2022-02-22T10:05:27.351Z"
   },
   {
    "duration": 304,
    "start_time": "2022-02-22T10:05:27.361Z"
   },
   {
    "duration": 7,
    "start_time": "2022-02-22T10:05:27.667Z"
   },
   {
    "duration": 136,
    "start_time": "2022-02-22T10:05:27.675Z"
   },
   {
    "duration": 20,
    "start_time": "2022-02-22T10:05:27.813Z"
   },
   {
    "duration": 87,
    "start_time": "2022-02-22T10:05:27.834Z"
   },
   {
    "duration": 15,
    "start_time": "2022-02-22T10:05:27.923Z"
   },
   {
    "duration": 92,
    "start_time": "2022-02-22T10:05:27.940Z"
   },
   {
    "duration": 11,
    "start_time": "2022-02-22T10:05:28.034Z"
   },
   {
    "duration": 95,
    "start_time": "2022-02-22T10:05:28.047Z"
   },
   {
    "duration": 12,
    "start_time": "2022-02-22T10:05:28.144Z"
   },
   {
    "duration": 167,
    "start_time": "2022-02-22T10:05:28.157Z"
   },
   {
    "duration": 11,
    "start_time": "2022-02-22T10:05:28.330Z"
   },
   {
    "duration": 152,
    "start_time": "2022-02-22T10:05:28.343Z"
   },
   {
    "duration": 11,
    "start_time": "2022-02-22T10:05:28.497Z"
   },
   {
    "duration": 156,
    "start_time": "2022-02-22T10:05:28.510Z"
   },
   {
    "duration": 434,
    "start_time": "2022-02-22T10:05:28.667Z"
   },
   {
    "duration": 13,
    "start_time": "2022-02-22T10:05:29.103Z"
   },
   {
    "duration": 23,
    "start_time": "2022-02-22T10:05:29.117Z"
   },
   {
    "duration": 4,
    "start_time": "2022-02-22T10:05:29.142Z"
   },
   {
    "duration": 13,
    "start_time": "2022-02-22T10:05:29.147Z"
   },
   {
    "duration": 4,
    "start_time": "2022-02-22T10:05:29.164Z"
   },
   {
    "duration": 12,
    "start_time": "2022-02-22T10:05:30.330Z"
   },
   {
    "duration": 15,
    "start_time": "2022-02-22T10:05:35.497Z"
   },
   {
    "duration": 12,
    "start_time": "2022-02-22T10:05:39.112Z"
   },
   {
    "duration": 15,
    "start_time": "2022-02-22T10:05:42.888Z"
   }
  ],
  "kernelspec": {
   "display_name": "Python 3 (ipykernel)",
   "language": "python",
   "name": "python3"
  },
  "language_info": {
   "codemirror_mode": {
    "name": "ipython",
    "version": 3
   },
   "file_extension": ".py",
   "mimetype": "text/x-python",
   "name": "python",
   "nbconvert_exporter": "python",
   "pygments_lexer": "ipython3",
   "version": "3.9.7"
  },
  "toc": {
   "base_numbering": 1,
   "nav_menu": {},
   "number_sections": true,
   "sideBar": true,
   "skip_h1_title": true,
   "title_cell": "Table of Contents",
   "title_sidebar": "Contents",
   "toc_cell": false,
   "toc_position": {
    "height": "calc(100% - 180px)",
    "left": "10px",
    "top": "150px",
    "width": "366.391px"
   },
   "toc_section_display": true,
   "toc_window_display": true
  }
 },
 "nbformat": 4,
 "nbformat_minor": 2
}
